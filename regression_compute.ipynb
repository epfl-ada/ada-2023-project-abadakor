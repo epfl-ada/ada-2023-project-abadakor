{
 "cells": [
  {
   "cell_type": "code",
   "execution_count": null,
   "metadata": {},
   "outputs": [],
   "source": [
    "import pandas as pd\n",
    "import os\n",
    "import numpy as np\n",
    "import matplotlib.pyplot as plt"
   ]
  },
  {
   "cell_type": "markdown",
   "metadata": {},
   "source": [
    "## Import processed data"
   ]
  },
  {
   "cell_type": "code",
   "execution_count": null,
   "metadata": {},
   "outputs": [],
   "source": [
    "folder_processed_data_path = './data/processed_data/'\n",
    "\n",
    "movie_df = pd.read_csv(os.path.join(folder_processed_data_path, 'movie_df.csv'))\n",
    "movie_df.set_index(['wiki_ID'], inplace=True)\n",
    "# Verify the indexes are unique\n",
    "print(f\"Is the indexing unique in movie_df ? {movie_df.index.is_unique}\")\n",
    "\n",
    "name_by_movie_ordered_df = pd.read_csv(os.path.join(folder_processed_data_path, 'name_by_movie_ordered_df.csv'))\n",
    "# Verify the indexes are unique\n",
    "print(f\"Is the indexing unique in name_by_movie_df ? {name_by_movie_ordered_df.index.is_unique}\")\n",
    "\n",
    "baby_name_df = pd.read_csv(os.path.join(folder_processed_data_path, 'baby_name_df.csv'))\n",
    "baby_name_df.set_index(['name', 'year'], inplace=True)\n",
    "# Verify the indexes are unique\n",
    "print(f\"Is the indexing unique in baby_name_df ? {baby_name_df.index.is_unique}\")\n",
    "\n",
    "print(\"movie_df :\")\n",
    "display(movie_df.head())\n",
    "print(\"name_by_movie_ordered_df :\")\n",
    "display(name_by_movie_ordered_df.head())\n",
    "print(\"baby_name_df :\")\n",
    "display(baby_name_df.head())"
   ]
  },
  {
   "cell_type": "markdown",
   "metadata": {},
   "source": [
    "Choices :"
   ]
  },
  {
   "cell_type": "code",
   "execution_count": null,
   "metadata": {},
   "outputs": [],
   "source": [
    "movie_df.query(\"mov_name == 'The Godfather'\")"
   ]
  },
  {
   "cell_type": "code",
   "execution_count": null,
   "metadata": {},
   "outputs": [],
   "source": [
    "name_by_movie_ordered_df[name_by_movie_ordered_df['wiki_ID'] == 2466773]"
   ]
  },
  {
   "cell_type": "code",
   "execution_count": null,
   "metadata": {},
   "outputs": [],
   "source": [
    "nb_year_after = 5\n",
    "nb_year_before = 10\n",
    "\n",
    "chosen_movie_ID = 2466773\n",
    "chosen_name = 'Vito'\n",
    "\n",
    "print(f\"The chosen movie is {movie_df.loc[chosen_movie_ID]['mov_name']} in {movie_df.loc[chosen_movie_ID]['release']}\")"
   ]
  },
  {
   "cell_type": "code",
   "execution_count": null,
   "metadata": {},
   "outputs": [],
   "source": [
    "chosen_baby_name_df = baby_name_df.loc[chosen_name].sort_values(by=['year'])\n",
    "display(chosen_baby_name_df.head())"
   ]
  },
  {
   "cell_type": "code",
   "execution_count": null,
   "metadata": {},
   "outputs": [],
   "source": [
    "# get the release date\n",
    "release_year = movie_df.loc[chosen_movie_ID]['release']\n",
    "print(f\"release year = {release_year}\")"
   ]
  },
  {
   "cell_type": "code",
   "execution_count": null,
   "metadata": {},
   "outputs": [],
   "source": [
    "before_df = chosen_baby_name_df[(chosen_baby_name_df.index >= release_year-nb_year_before) & (chosen_baby_name_df.index <= release_year-1)].reset_index()\n",
    "after_df = chosen_baby_name_df[(chosen_baby_name_df.index >= release_year) & (chosen_baby_name_df.index <= release_year+nb_year_after-1)].reset_index()\n",
    "display(before_df)\n",
    "display(after_df)"
   ]
  },
  {
   "cell_type": "code",
   "execution_count": null,
   "metadata": {},
   "outputs": [],
   "source": [
    "union_before_after_df = pd.concat([before_df, after_df], ignore_index=True)\n",
    "\n",
    "x_values = union_before_after_df['year'].values\n",
    "y_values = union_before_after_df['percentage'].values\n",
    "\n",
    "# Create a scatter plot\n",
    "plt.plot(x_values, y_values)\n",
    "plt.xlabel('Years')\n",
    "plt.ylabel('Percentage of total births')\n",
    "plt.title(f'Given name {chosen_name} with the release of the movie {movie_df.loc[chosen_movie_ID].mov_name}')\n",
    "\n",
    "# Draw vertical lines for each movie release\n",
    "plt.axvline(x=release_year, color='r', linestyle='--', label=f'x={release_year}')\n",
    "plt.legend()\n",
    "\n",
    "plt.show()"
   ]
  },
  {
   "cell_type": "code",
   "execution_count": null,
   "metadata": {},
   "outputs": [],
   "source": [
    "import statsmodels.formula.api as smf\n",
    "\n",
    "# model before release\n",
    "mod_before = smf.ols(formula = 'percentage ~ year' , data = before_df)\n",
    "np.random.seed(2)\n",
    "res_before = mod_before.fit()\n",
    "display(res_before.summary())\n",
    "\n",
    "coefficients_before = res_before.params.values\n",
    "beta_before = coefficients_before[1]\n",
    "intercept_before = coefficients_before[0]\n",
    "\n",
    "\n",
    "# model after release\n",
    "mod_after = smf.ols(formula = 'percentage ~ year' , data = after_df)\n",
    "res_after = mod_after.fit()\n",
    "display(res_after.summary())\n",
    "\n",
    "coefficients_after = res_after.params.values\n",
    "beta_after = coefficients_after[1]\n",
    "intercept_after = coefficients_after[0]\n",
    "\n",
    "print(f\"beta_before = {beta_before}\")\n",
    "print(f\"beta_after = {beta_after}\")\n",
    "print(f\"intercept_before = {intercept_before}\")\n",
    "print(f\"intercept_after = {intercept_after}\")"
   ]
  },
  {
   "cell_type": "code",
   "execution_count": null,
   "metadata": {},
   "outputs": [],
   "source": [
    "union_before_after_df = pd.concat([before_df, after_df], ignore_index=True)\n",
    "\n",
    "x_values = union_before_after_df['year'].values\n",
    "y_values = union_before_after_df['percentage'].values\n",
    "\n",
    "# Create a scatter plot\n",
    "plt.plot(x_values, y_values)\n",
    "plt.xlabel('Years')\n",
    "plt.ylabel('Percentage of total births')\n",
    "plt.title(f'Given name {chosen_name} with the release of the movie {movie_df.loc[chosen_movie_ID].mov_name}')\n",
    "\n",
    "# Calculate y values for the regression lines\n",
    "reg_before = beta_before * x_values + intercept_before\n",
    "reg_after = beta_after * x_values + intercept_after\n",
    "# Plot the regression lines\n",
    "plt.plot(x_values, reg_before, label=f'Before (slope={beta_before}, intercept={intercept_before})', color='red')\n",
    "plt.plot(x_values, reg_after, label=f'After (slope={beta_after}, intercept={intercept_after})', color='blue')\n",
    "\n",
    "# Draw vertical lines for each movie release\n",
    "plt.axvline(x=release_year, color='r', linestyle='--', label=f'x={release_year}')\n",
    "plt.legend()\n",
    "\n",
    "plt.show()"
   ]
  },
  {
   "cell_type": "code",
   "execution_count": null,
   "metadata": {},
   "outputs": [],
   "source": [
    "### Testing\n",
    "from scipy.stats import t\n",
    "\n",
    "# Beta_before and Beta_after are the coefficients we want to compare\n",
    "\n",
    "# Calculate the standard errors of the coefficients\n",
    "se_before = res_before.bse[1]  # Standard error for Beta_before\n",
    "se_after = res_after.bse[1]    # Standard error for Beta_after\n",
    "\n",
    "# Calculate the t-statistic for the difference between the coefficients\n",
    "t_statistic = (beta_before - beta_after) / np.sqrt(se_before**2 + se_after**2)\n",
    "\n",
    "# Degrees of freedom\n",
    "degree_freedom = len(before_df) + len(after_df) - 2  # Total sample size - number of parameters\n",
    "\n",
    "# Two-tailed t-test for the difference between coefficients\n",
    "p_value = 2 * (1 - t.cdf(np.abs(t_statistic), df=degree_freedom))\n",
    "\n",
    "# Print the t-statistic and p-value\n",
    "print(\"t-statistic:\", t_statistic)\n",
    "print(\"p-value:\", p_value)\n",
    "\n",
    "# Check if the difference is statistically significant at 5% level\n",
    "if p_value < 0.05:\n",
    "    print(\"The difference is statistically significant at 5% level.\")\n",
    "else:\n",
    "    print(\"There is no significant difference between the coefficients.\")"
   ]
  },
  {
   "cell_type": "markdown",
   "metadata": {},
   "source": [
    "# Another way to do the t-test"
   ]
  },
  {
   "cell_type": "code",
   "execution_count": null,
   "metadata": {},
   "outputs": [],
   "source": [
    "import statsmodels.api as sm\n",
    "\n",
    "# Assuming df_before and df_after are your datasets\n",
    "# and 'time' and 'frequency' are columns in your datasets\n",
    "model_before = sm.OLS(before_df['percentage'], sm.add_constant(before_df['year'])).fit()\n",
    "model_after = sm.OLS(after_df['percentage'], sm.add_constant(after_df['year'])).fit()\n",
    "\n",
    "display(model_before.summary())\n",
    "display(model_after.summary())"
   ]
  },
  {
   "cell_type": "code",
   "execution_count": null,
   "metadata": {},
   "outputs": [],
   "source": [
    "para_values_before = model_before.params.values\n",
    "intercept_dany_before = para_values_before[0]\n",
    "beta_dany_before = para_values_before[1]\n",
    "\n",
    "para_values_after = model_after.params.values\n",
    "intercept_dany_after = para_values_after[0]\n",
    "beta_dany_after = para_values_after[1]"
   ]
  },
  {
   "cell_type": "code",
   "execution_count": null,
   "metadata": {},
   "outputs": [],
   "source": [
    "union_before_after_df = pd.concat([before_df, after_df], ignore_index=True)\n",
    "\n",
    "x_values = union_before_after_df['year'].values\n",
    "y_values = union_before_after_df['percentage'].values\n",
    "\n",
    "# Create a scatter plot\n",
    "plt.plot(x_values, y_values)\n",
    "plt.xlabel('Years')\n",
    "plt.ylabel('Percentage of total births')\n",
    "plt.title(f'Given name {chosen_name} with the release of the movie {movie_df.loc[chosen_movie_ID].mov_name}')\n",
    "\n",
    "# Calculate y values for the regression lines\n",
    "reg_before = beta_dany_before * x_values + intercept_dany_before\n",
    "reg_after = beta_dany_after * x_values + intercept_dany_after\n",
    "# Plot the regression lines\n",
    "plt.plot(x_values, reg_before, label=f'Before (slope={beta_dany_before}, intercept={intercept_dany_before})', color='red')\n",
    "plt.plot(x_values, reg_after, label=f'After (slope={beta_dany_after}, intercept={intercept_dany_after})', color='blue')\n",
    "\n",
    "# Draw vertical lines for each movie release\n",
    "plt.axvline(x=release_year, color='r', linestyle='--', label=f'x={release_year}')\n",
    "plt.legend()\n",
    "\n",
    "plt.show()"
   ]
  },
  {
   "cell_type": "code",
   "execution_count": null,
   "metadata": {},
   "outputs": [],
   "source": [
    "from scipy import stats\n",
    "\n",
    "# Assuming you're comparing the slopes of the two regression models\n",
    "t_stat, p_value = stats.ttest_ind(model_before.params, model_after.params)\n",
    "\n",
    "print(\"T-statistic:\", t_stat)\n",
    "print(\"P-value:\",p_value)"
   ]
  },
  {
   "cell_type": "markdown",
   "metadata": {},
   "source": [
    "# Linkai idea"
   ]
  },
  {
   "cell_type": "code",
   "execution_count": null,
   "metadata": {},
   "outputs": [],
   "source": [
    "from scipy import stats\n",
    "\n",
    "before_diffs = before_df['percentage'][:-1] - before_df['percentage'][1:].values\n",
    "after_diffs = after_df['percentage'][:-1] - after_df['percentage'][1:].values\n",
    "\n",
    "# Assuming you're comparing the slopes of the two regression models\n",
    "t_stat, p_value = stats.ttest_ind(before_diffs, after_diffs)\n",
    "\n",
    "print(\"T-statistic:\", t_stat)\n",
    "print(\"P-value:\",p_value)\n"
   ]
  },
  {
   "cell_type": "markdown",
   "metadata": {},
   "source": [
    "It doesn't seem to work so lets keep the other method"
   ]
  },
  {
   "cell_type": "markdown",
   "metadata": {},
   "source": [
    "# Apply function to compute the p-value"
   ]
  },
  {
   "cell_type": "code",
   "execution_count": null,
   "metadata": {},
   "outputs": [],
   "source": [
    "name_by_movie_ordered_df.head()"
   ]
  },
  {
   "cell_type": "code",
   "execution_count": null,
   "metadata": {},
   "outputs": [],
   "source": [
    "movie_df.head()"
   ]
  },
  {
   "cell_type": "markdown",
   "metadata": {},
   "source": [
    "lets check if there are wiki_ID present in the name_by_movie_df which are not in the movie_df "
   ]
  },
  {
   "cell_type": "code",
   "execution_count": null,
   "metadata": {},
   "outputs": [],
   "source": [
    "display(name_by_movie_ordered_df.head())\n",
    "name_by_movie_uniqueID = name_by_movie_ordered_df['wiki_ID'].unique()\n",
    "uniqueID_in_name_by_movie_df = pd.DataFrame(name_by_movie_uniqueID, columns=['wiki_ID'])\n",
    "display(uniqueID_in_name_by_movie_df.head())\n",
    "display(movie_df.head())\n",
    "\n",
    "print(f\"len(uniqueID_in_name_by_movie_df) = {len(uniqueID_in_name_by_movie_df)}\")\n",
    "print(f\"len(movie_df) = {len(movie_df)}\")\n",
    "\n",
    "# Merge the DataFrames on the common 'ID' column\n",
    "merged_df = pd.merge(movie_df, uniqueID_in_name_by_movie_df, on='wiki_ID', how='outer')\n",
    "\n",
    "print(f\"len(merged_df) = {len(merged_df)}\")"
   ]
  },
  {
   "cell_type": "code",
   "execution_count": null,
   "metadata": {},
   "outputs": [],
   "source": [
    "# import sys\n",
    "\n",
    "# # Save the original sys.stdout\n",
    "# original_stdout = sys.stdout\n",
    "\n",
    "# # Specify the file path where you want to save the output\n",
    "# output_file_path = 'output.txt'\n",
    "\n",
    "# # Open the file in write mode (this will overwrite the file if it already exists)\n",
    "# with open(output_file_path, 'w') as f:\n",
    "#     # Redirect sys.stdout to the file\n",
    "#     sys.stdout = f\n",
    "\n",
    "#     # Your code goes here, including print statements\n",
    "#     print(\"This will be written to the file.\")\n",
    "#     ###################################################################################################################################\n",
    "#     def apply_regression(row):\n",
    "#         chosen_movie_ID = row['wiki_ID']\n",
    "#         chosen_name = row['char_words']\n",
    "\n",
    "#         if (chosen_movie_ID == np.nan) or (chosen_name == np.nan):\n",
    "#             return np.nan\n",
    "        \n",
    "#         chosen_baby_name_df = baby_name_df.loc[chosen_name].sort_values(by=['year'])\n",
    "\n",
    "#         release_year = movie_df.loc[chosen_movie_ID]['release']\n",
    "\n",
    "#         if (len(chosen_baby_name_df) == 0) or (release_year == np.nan):\n",
    "#             return np.nan\n",
    "\n",
    "        \n",
    "#         before_df = chosen_baby_name_df[(chosen_baby_name_df.index >= release_year-nb_year_before) & (chosen_baby_name_df.index <= release_year-1)].reset_index()\n",
    "#         after_df = chosen_baby_name_df[(chosen_baby_name_df.index >= release_year) & (chosen_baby_name_df.index <= release_year+nb_year_after-1)].reset_index()\n",
    "        \n",
    "#         np.random.seed(2)\n",
    "        \n",
    "#         if (len(before_df) != nb_year_before) & (len(after_df) != nb_year_after):\n",
    "#             # print(\"not enough datapoints : return NaN\")\n",
    "#             return np.nan\n",
    "        \n",
    "#         res_before = smf.ols(formula = 'percentage ~ year' , data = before_df).fit()\n",
    "#         res_after = smf.ols(formula = 'percentage ~ year' , data = after_df).fit()\n",
    "        \n",
    "#         beta_before = res_before.params.values[1]\n",
    "#         beta_after = res_after.params.values[1]\n",
    "\n",
    "#         # Calculate the standard errors of the coefficients\n",
    "#         se_before = res_before.bse[1]  # Standard error for Beta_before\n",
    "#         se_after = res_after.bse[1]    # Standard error for Beta_after\n",
    "        \n",
    "#         # Calculate the t-statistic for the difference between the coefficients\n",
    "#         t_statistic = (beta_before - beta_after) / np.sqrt(se_before**2 + se_after**2)\n",
    "\n",
    "#         # Degrees of freedom\n",
    "#         degree_freedom = len(before_df) + len(after_df) - 2  # Total sample size - number of parameters\n",
    "\n",
    "#         # Two-tailed t-test for the difference between coefficients\n",
    "#         p_value = 2 * (1 - t.cdf(np.abs(t_statistic), df=degree_freedom))\n",
    "        \n",
    "#         print(f\"Movie : {movie_df.loc[chosen_movie_ID]['mov_name']}, Name : {chosen_name}, P-VALUE = {p_value}\")\n",
    "#         return p_value\n",
    "\n",
    "#     # Apply the function to create a new 'TotalIncome' column\n",
    "#     name_by_movie_ordered_df['p_value'] = name_by_movie_ordered_df.apply(apply_regression, axis=1)\n",
    "\n",
    "#     display(name_by_movie_ordered_df)\n",
    "    \n",
    "#     # Reset sys.stdout to the original value\n",
    "#     sys.stdout = original_stdout"
   ]
  },
  {
   "cell_type": "code",
   "execution_count": null,
   "metadata": {},
   "outputs": [],
   "source": [
    "data = [(3,5,7), (2,4,6), (5,8,9)]\n",
    "df = pd.DataFrame(data, columns = ['A','B','C'])\n",
    "\n",
    "# Reurn multiple columns from apply()\n",
    "def multiply(row):\n",
    "   row['A1'] = row[0] * 2\n",
    "   row['B1'] = row[1] * 3\n",
    "   row['C1'] = row[2] * 4\n",
    "   return row\n",
    "\n",
    "df = df.apply(multiply, axis=1)\n",
    "print(df)"
   ]
  },
  {
   "cell_type": "code",
   "execution_count": null,
   "metadata": {},
   "outputs": [],
   "source": [
    "type(df)"
   ]
  },
  {
   "cell_type": "code",
   "execution_count": null,
   "metadata": {},
   "outputs": [],
   "source": [
    "# iter = 0\n",
    "\n",
    "# nb_yr_before = 10\n",
    "# nb_yr_after = 5\n",
    "\n",
    "# # Function to calculate total income (salary + bonus)\n",
    "# def apply_regression(row):\n",
    "#     global iter\n",
    "\n",
    "#     chosen_movie_ID = row['wiki_ID']\n",
    "#     chosen_name = row['char_words']\n",
    "\n",
    "#     if (chosen_movie_ID == np.nan) or (chosen_name == np.nan):\n",
    "#         return np.nan\n",
    "    \n",
    "#     chosen_baby_name_df = baby_name_df.loc[chosen_name].sort_values(by=['year'])\n",
    "\n",
    "#     release_year = movie_df.loc[chosen_movie_ID]['release']\n",
    "\n",
    "#     if (len(chosen_baby_name_df) == 0) or (release_year == np.nan):\n",
    "#         return np.nan\n",
    "\n",
    "    \n",
    "#     before_df = chosen_baby_name_df[(chosen_baby_name_df.index >= release_year-nb_yr_before) & (chosen_baby_name_df.index <= release_year-1)].reset_index()\n",
    "#     after_df = chosen_baby_name_df[(chosen_baby_name_df.index >= release_year) & (chosen_baby_name_df.index <= release_year+nb_yr_after-1)].reset_index()\n",
    "    \n",
    "#     np.random.seed(2)\n",
    "    \n",
    "#     if (len(before_df) != nb_yr_before) or (len(after_df) != nb_yr_after):\n",
    "#         # print(\"not enough datapoints : return NaN\")\n",
    "#         return np.nan\n",
    "    \n",
    "#     res_before = smf.ols(formula = 'percentage ~ year' , data = before_df).fit()\n",
    "#     res_after = smf.ols(formula = 'percentage ~ year' , data = after_df).fit()\n",
    "    \n",
    "#     beta_before = res_before.params.values[1]\n",
    "#     beta_after = res_after.params.values[1]\n",
    "\n",
    "#     # Calculate the standard errors of the coefficients\n",
    "#     se_before = res_before.bse[1]  # Standard error for Beta_before\n",
    "#     se_after = res_after.bse[1]    # Standard error for Beta_after\n",
    "\n",
    "#     if np.isnan(se_before) or np.isnan(se_after):\n",
    "#         return np.nan\n",
    "    \n",
    "#     # Calculate the t-statistic for the difference between the coefficients\n",
    "#     t_statistic = (beta_before - beta_after) / np.sqrt(se_before**2 + se_after**2)\n",
    "\n",
    "#     # Degrees of freedom\n",
    "#     degree_freedom = len(before_df) + len(after_df) - 2  # Total sample size - number of parameters\n",
    "\n",
    "#     if np.isnan(t_statistic) or np.isnan(degree_freedom):\n",
    "#         return np.nan\n",
    "\n",
    "#     # Two-tailed t-test for the difference between coefficients\n",
    "#     p_value = 2 * (1 - t.cdf(np.abs(t_statistic), df=degree_freedom))\n",
    "    \n",
    "#     iter += 1\n",
    "#     print(\"Batch {} of {}\".format(iter, len(name_by_movie_ordered_df)), end=\"\\r\")\n",
    "\n",
    "#     row['t_stat'] = t_statistic\n",
    "#     row['p_value'] = p_value\n",
    "\n",
    "#     # print(f\"Movie ID : {chosen_movie_ID}, Name : {chosen_name}, P-VALUE = {p_value}\")\n",
    "#     return row\n",
    "\n",
    "# # Apply the function to create a new 'TotalIncome' column\n",
    "# name_by_movie_ordered_pvalue_df = name_by_movie_ordered_df.copy(deep=True)\n",
    "# name_by_movie_ordered_pvalue_df = name_by_movie_ordered_pvalue_df.apply(apply_regression, axis=1)\n",
    "\n",
    "# display(name_by_movie_ordered_df)"
   ]
  },
  {
   "cell_type": "code",
   "execution_count": null,
   "metadata": {},
   "outputs": [],
   "source": [
    "from scipy import stats\n",
    "\n",
    "iter = 0\n",
    "\n",
    "nb_yr_before = 10\n",
    "nb_yr_after = 5\n",
    "\n",
    "# Function to calculate total income (salary + bonus)\n",
    "def apply_regression(row):\n",
    "    global iter\n",
    "\n",
    "    chosen_movie_ID = row['wiki_ID']\n",
    "    chosen_name = row['char_words']\n",
    "    \n",
    "    chosen_baby_name_df = baby_name_df.loc[chosen_name].sort_values(by=['year'])\n",
    "\n",
    "    release_year = movie_df.loc[chosen_movie_ID]['release']\n",
    "    \n",
    "    before_df = chosen_baby_name_df[(chosen_baby_name_df.index >= release_year-nb_yr_before) & (chosen_baby_name_df.index <= release_year-1)].reset_index()\n",
    "    after_df = chosen_baby_name_df[(chosen_baby_name_df.index >= release_year) & (chosen_baby_name_df.index <= release_year+nb_yr_after-1)].reset_index()\n",
    "    \n",
    "    if (len(before_df) != nb_yr_before) or (len(after_df) != nb_yr_after):\n",
    "        # print(\"not enough datapoints : return NaN\")\n",
    "        row['t_stat'] = np.NaN\n",
    "        row['p_value'] = np.NaN\n",
    "    else:\n",
    "        before_diffs = before_df['percentage'][:-1] - before_df['percentage'][1:].values\n",
    "        after_diffs = after_df['percentage'][:-1] - after_df['percentage'][1:].values\n",
    "\n",
    "        # Assuming you're comparing the slopes of the two regression models\n",
    "        t_stat, p_value = stats.ttest_ind(before_diffs, after_diffs)\n",
    "        \n",
    "        iter += 1\n",
    "        print(\"Batch {} of {}\".format(iter, len(name_by_movie_ordered_df)), end=\"\\r\")\n",
    "\n",
    "        row['t_stat'] = t_stat\n",
    "        row['p_value'] = p_value\n",
    "\n",
    "    # print(f\"Movie ID : {chosen_movie_ID}, Name : {chosen_name}, P-VALUE = {p_value}\")\n",
    "    return row\n",
    "\n",
    "# Apply the function to create a new 'TotalIncome' column\n",
    "name_by_movie_ordered_pvalue_df = name_by_movie_ordered_df[:1000].copy(deep=True)\n",
    "name_by_movie_ordered_pvalue_df = name_by_movie_ordered_pvalue_df.apply(apply_regression, axis=1)\n",
    "\n",
    "display(name_by_movie_ordered_pvalue_df)"
   ]
  },
  {
   "cell_type": "code",
   "execution_count": null,
   "metadata": {},
   "outputs": [],
   "source": [
    "display(name_by_movie_ordered_pvalue_df.to_frame())"
   ]
  },
  {
   "cell_type": "code",
   "execution_count": null,
   "metadata": {},
   "outputs": [],
   "source": [
    "processed_folder = './data/processed_data/'\n",
    "name_by_movie_ordered_pvalue_df.to_csv(os.path.join(processed_folder, 'name_by_movie_ordered_pvalue_10_5_df.csv'), index=False)"
   ]
  },
  {
   "cell_type": "code",
   "execution_count": null,
   "metadata": {},
   "outputs": [],
   "source": [
    "significant_names = len(name_by_movie_ordered_df[name_by_movie_ordered_df['p_value'] <= 0.05])/len(name_by_movie_ordered_df)\n",
    "print(f\"Proportion of significant character name : {significant_names}\")"
   ]
  },
  {
   "cell_type": "code",
   "execution_count": null,
   "metadata": {},
   "outputs": [],
   "source": [
    "not_significant_names = len(name_by_movie_ordered_df[name_by_movie_ordered_df['p_value'] >= 0.05])/len(name_by_movie_ordered_df)\n",
    "print(f\"Proportion of non significant character name : {not_significant_names}\")"
   ]
  },
  {
   "cell_type": "code",
   "execution_count": null,
   "metadata": {},
   "outputs": [],
   "source": [
    "nan_p_values = len(name_by_movie_ordered_df[name_by_movie_ordered_df['p_value'].isna()])/len(name_by_movie_ordered_df)\n",
    "print(f\"Proportion of non significant character name : {nan_p_values}\")"
   ]
  },
  {
   "cell_type": "code",
   "execution_count": null,
   "metadata": {},
   "outputs": [],
   "source": [
    "a+b+c"
   ]
  },
  {
   "cell_type": "code",
   "execution_count": null,
   "metadata": {},
   "outputs": [],
   "source": []
  },
  {
   "cell_type": "code",
   "execution_count": null,
   "metadata": {},
   "outputs": [],
   "source": []
  }
 ],
 "metadata": {
  "kernelspec": {
   "display_name": "ada",
   "language": "python",
   "name": "python3"
  },
  "language_info": {
   "codemirror_mode": {
    "name": "ipython",
    "version": 3
   },
   "file_extension": ".py",
   "mimetype": "text/x-python",
   "name": "python",
   "nbconvert_exporter": "python",
   "pygments_lexer": "ipython3",
   "version": "3.9.18"
  }
 },
 "nbformat": 4,
 "nbformat_minor": 2
}
