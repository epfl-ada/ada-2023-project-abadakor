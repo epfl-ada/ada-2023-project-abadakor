{
 "cells": [
  {
   "cell_type": "code",
   "execution_count": 29,
   "metadata": {},
   "outputs": [
    {
     "data": {
      "text/html": [
       "<div>\n",
       "<style scoped>\n",
       "    .dataframe tbody tr th:only-of-type {\n",
       "        vertical-align: middle;\n",
       "    }\n",
       "\n",
       "    .dataframe tbody tr th {\n",
       "        vertical-align: top;\n",
       "    }\n",
       "\n",
       "    .dataframe thead th {\n",
       "        text-align: right;\n",
       "    }\n",
       "</style>\n",
       "<table border=\"1\" class=\"dataframe\">\n",
       "  <thead>\n",
       "    <tr style=\"text-align: right;\">\n",
       "      <th></th>\n",
       "      <th>proportion_influenced</th>\n",
       "      <th>ci_lower</th>\n",
       "      <th>ci_upper</th>\n",
       "      <th>group</th>\n",
       "    </tr>\n",
       "  </thead>\n",
       "  <tbody>\n",
       "    <tr>\n",
       "      <th>0</th>\n",
       "      <td>0.107754</td>\n",
       "      <td>0.104107</td>\n",
       "      <td>0.111401</td>\n",
       "      <td>control</td>\n",
       "    </tr>\n",
       "    <tr>\n",
       "      <th>1</th>\n",
       "      <td>0.117838</td>\n",
       "      <td>0.114045</td>\n",
       "      <td>0.121630</td>\n",
       "      <td>treated</td>\n",
       "    </tr>\n",
       "    <tr>\n",
       "      <th>2</th>\n",
       "      <td>0.112116</td>\n",
       "      <td>0.108776</td>\n",
       "      <td>0.115455</td>\n",
       "      <td>control</td>\n",
       "    </tr>\n",
       "    <tr>\n",
       "      <th>3</th>\n",
       "      <td>0.124220</td>\n",
       "      <td>0.120728</td>\n",
       "      <td>0.127711</td>\n",
       "      <td>treated</td>\n",
       "    </tr>\n",
       "    <tr>\n",
       "      <th>4</th>\n",
       "      <td>0.112347</td>\n",
       "      <td>0.108748</td>\n",
       "      <td>0.115946</td>\n",
       "      <td>control</td>\n",
       "    </tr>\n",
       "    <tr>\n",
       "      <th>5</th>\n",
       "      <td>0.121475</td>\n",
       "      <td>0.117752</td>\n",
       "      <td>0.125198</td>\n",
       "      <td>treated</td>\n",
       "    </tr>\n",
       "    <tr>\n",
       "      <th>6</th>\n",
       "      <td>0.110081</td>\n",
       "      <td>0.105839</td>\n",
       "      <td>0.114322</td>\n",
       "      <td>control</td>\n",
       "    </tr>\n",
       "    <tr>\n",
       "      <th>7</th>\n",
       "      <td>0.130825</td>\n",
       "      <td>0.126256</td>\n",
       "      <td>0.135395</td>\n",
       "      <td>treated</td>\n",
       "    </tr>\n",
       "  </tbody>\n",
       "</table>\n",
       "</div>"
      ],
      "text/plain": [
       "   proportion_influenced  ci_lower  ci_upper    group\n",
       "0               0.107754  0.104107  0.111401  control\n",
       "1               0.117838  0.114045  0.121630  treated\n",
       "2               0.112116  0.108776  0.115455  control\n",
       "3               0.124220  0.120728  0.127711  treated\n",
       "4               0.112347  0.108748  0.115946  control\n",
       "5               0.121475  0.117752  0.125198  treated\n",
       "6               0.110081  0.105839  0.114322  control\n",
       "7               0.130825  0.126256  0.135395  treated"
      ]
     },
     "metadata": {},
     "output_type": "display_data"
    },
    {
     "data": {
      "text/html": [
       "<div>\n",
       "<style scoped>\n",
       "    .dataframe tbody tr th:only-of-type {\n",
       "        vertical-align: middle;\n",
       "    }\n",
       "\n",
       "    .dataframe tbody tr th {\n",
       "        vertical-align: top;\n",
       "    }\n",
       "\n",
       "    .dataframe thead th {\n",
       "        text-align: right;\n",
       "    }\n",
       "</style>\n",
       "<table border=\"1\" class=\"dataframe\">\n",
       "  <thead>\n",
       "    <tr style=\"text-align: right;\">\n",
       "      <th></th>\n",
       "      <th>proportion_influenced</th>\n",
       "      <th>ci_lower</th>\n",
       "      <th>ci_upper</th>\n",
       "      <th>group</th>\n",
       "    </tr>\n",
       "  </thead>\n",
       "  <tbody>\n",
       "    <tr>\n",
       "      <th>0</th>\n",
       "      <td>0.107754</td>\n",
       "      <td>0.104107</td>\n",
       "      <td>0.111401</td>\n",
       "      <td>control</td>\n",
       "    </tr>\n",
       "    <tr>\n",
       "      <th>1</th>\n",
       "      <td>0.112116</td>\n",
       "      <td>0.108776</td>\n",
       "      <td>0.115455</td>\n",
       "      <td>control</td>\n",
       "    </tr>\n",
       "    <tr>\n",
       "      <th>2</th>\n",
       "      <td>0.112347</td>\n",
       "      <td>0.108748</td>\n",
       "      <td>0.115946</td>\n",
       "      <td>control</td>\n",
       "    </tr>\n",
       "    <tr>\n",
       "      <th>3</th>\n",
       "      <td>0.110081</td>\n",
       "      <td>0.105839</td>\n",
       "      <td>0.114322</td>\n",
       "      <td>control</td>\n",
       "    </tr>\n",
       "  </tbody>\n",
       "</table>\n",
       "</div>"
      ],
      "text/plain": [
       "   proportion_influenced  ci_lower  ci_upper    group\n",
       "0               0.107754  0.104107  0.111401  control\n",
       "1               0.112116  0.108776  0.115455  control\n",
       "2               0.112347  0.108748  0.115946  control\n",
       "3               0.110081  0.105839  0.114322  control"
      ]
     },
     "metadata": {},
     "output_type": "display_data"
    },
    {
     "data": {
      "text/html": [
       "<div>\n",
       "<style scoped>\n",
       "    .dataframe tbody tr th:only-of-type {\n",
       "        vertical-align: middle;\n",
       "    }\n",
       "\n",
       "    .dataframe tbody tr th {\n",
       "        vertical-align: top;\n",
       "    }\n",
       "\n",
       "    .dataframe thead th {\n",
       "        text-align: right;\n",
       "    }\n",
       "</style>\n",
       "<table border=\"1\" class=\"dataframe\">\n",
       "  <thead>\n",
       "    <tr style=\"text-align: right;\">\n",
       "      <th></th>\n",
       "      <th>proportion_influenced</th>\n",
       "      <th>ci_lower</th>\n",
       "      <th>ci_upper</th>\n",
       "      <th>group</th>\n",
       "    </tr>\n",
       "  </thead>\n",
       "  <tbody>\n",
       "    <tr>\n",
       "      <th>0</th>\n",
       "      <td>0.117838</td>\n",
       "      <td>0.114045</td>\n",
       "      <td>0.121630</td>\n",
       "      <td>treated</td>\n",
       "    </tr>\n",
       "    <tr>\n",
       "      <th>1</th>\n",
       "      <td>0.124220</td>\n",
       "      <td>0.120728</td>\n",
       "      <td>0.127711</td>\n",
       "      <td>treated</td>\n",
       "    </tr>\n",
       "    <tr>\n",
       "      <th>2</th>\n",
       "      <td>0.121475</td>\n",
       "      <td>0.117752</td>\n",
       "      <td>0.125198</td>\n",
       "      <td>treated</td>\n",
       "    </tr>\n",
       "    <tr>\n",
       "      <th>3</th>\n",
       "      <td>0.130825</td>\n",
       "      <td>0.126256</td>\n",
       "      <td>0.135395</td>\n",
       "      <td>treated</td>\n",
       "    </tr>\n",
       "  </tbody>\n",
       "</table>\n",
       "</div>"
      ],
      "text/plain": [
       "   proportion_influenced  ci_lower  ci_upper    group\n",
       "0               0.117838  0.114045  0.121630  treated\n",
       "1               0.124220  0.120728  0.127711  treated\n",
       "2               0.121475  0.117752  0.125198  treated\n",
       "3               0.130825  0.126256  0.135395  treated"
      ]
     },
     "metadata": {},
     "output_type": "display_data"
    }
   ],
   "source": [
    "import pandas as pd\n",
    "import plotly.express as px\n",
    "import plotly.graph_objects as go\n",
    "\n",
    "# Sample data\n",
    "data = pd.read_csv('data/web_data/matching_result_prop_significatif.csv')\n",
    "\n",
    "# Create DataFrame\n",
    "df = pd.DataFrame(data)\n",
    "df['group'] = ['control' if i % 2 == 0 else 'treated' for i in range(len(df))]\n",
    "display(df)\n",
    "\n",
    "control_df = df[df['group']=='control'].reset_index(drop=True)\n",
    "treated_df = df[df['group']=='treated'].reset_index(drop=True)\n",
    "\n",
    "\n",
    "display(control_df)\n",
    "display(treated_df)"
   ]
  },
  {
   "cell_type": "code",
   "execution_count": null,
   "metadata": {},
   "outputs": [],
   "source": []
  },
  {
   "cell_type": "code",
   "execution_count": 36,
   "metadata": {},
   "outputs": [
    {
     "data": {
      "text/html": [
       "<div>\n",
       "<style scoped>\n",
       "    .dataframe tbody tr th:only-of-type {\n",
       "        vertical-align: middle;\n",
       "    }\n",
       "\n",
       "    .dataframe tbody tr th {\n",
       "        vertical-align: top;\n",
       "    }\n",
       "\n",
       "    .dataframe thead th {\n",
       "        text-align: right;\n",
       "    }\n",
       "</style>\n",
       "<table border=\"1\" class=\"dataframe\">\n",
       "  <thead>\n",
       "    <tr style=\"text-align: right;\">\n",
       "      <th></th>\n",
       "      <th>proportion_influenced</th>\n",
       "      <th>ci_lower</th>\n",
       "      <th>ci_upper</th>\n",
       "      <th>group</th>\n",
       "    </tr>\n",
       "  </thead>\n",
       "  <tbody>\n",
       "    <tr>\n",
       "      <th>0</th>\n",
       "      <td>0.107754</td>\n",
       "      <td>0.104107</td>\n",
       "      <td>0.111401</td>\n",
       "      <td>control</td>\n",
       "    </tr>\n",
       "    <tr>\n",
       "      <th>1</th>\n",
       "      <td>0.117838</td>\n",
       "      <td>0.114045</td>\n",
       "      <td>0.121630</td>\n",
       "      <td>treated</td>\n",
       "    </tr>\n",
       "    <tr>\n",
       "      <th>2</th>\n",
       "      <td>0.112116</td>\n",
       "      <td>0.108776</td>\n",
       "      <td>0.115455</td>\n",
       "      <td>control</td>\n",
       "    </tr>\n",
       "    <tr>\n",
       "      <th>3</th>\n",
       "      <td>0.124220</td>\n",
       "      <td>0.120728</td>\n",
       "      <td>0.127711</td>\n",
       "      <td>treated</td>\n",
       "    </tr>\n",
       "    <tr>\n",
       "      <th>4</th>\n",
       "      <td>0.112347</td>\n",
       "      <td>0.108748</td>\n",
       "      <td>0.115946</td>\n",
       "      <td>control</td>\n",
       "    </tr>\n",
       "    <tr>\n",
       "      <th>5</th>\n",
       "      <td>0.121475</td>\n",
       "      <td>0.117752</td>\n",
       "      <td>0.125198</td>\n",
       "      <td>treated</td>\n",
       "    </tr>\n",
       "    <tr>\n",
       "      <th>6</th>\n",
       "      <td>0.110081</td>\n",
       "      <td>0.105839</td>\n",
       "      <td>0.114322</td>\n",
       "      <td>control</td>\n",
       "    </tr>\n",
       "    <tr>\n",
       "      <th>7</th>\n",
       "      <td>0.130825</td>\n",
       "      <td>0.126256</td>\n",
       "      <td>0.135395</td>\n",
       "      <td>treated</td>\n",
       "    </tr>\n",
       "  </tbody>\n",
       "</table>\n",
       "</div>"
      ],
      "text/plain": [
       "   proportion_influenced  ci_lower  ci_upper    group\n",
       "0               0.107754  0.104107  0.111401  control\n",
       "1               0.117838  0.114045  0.121630  treated\n",
       "2               0.112116  0.108776  0.115455  control\n",
       "3               0.124220  0.120728  0.127711  treated\n",
       "4               0.112347  0.108748  0.115946  control\n",
       "5               0.121475  0.117752  0.125198  treated\n",
       "6               0.110081  0.105839  0.114322  control\n",
       "7               0.130825  0.126256  0.135395  treated"
      ]
     },
     "metadata": {},
     "output_type": "display_data"
    },
    {
     "data": {
      "text/html": [
       "<div>\n",
       "<style scoped>\n",
       "    .dataframe tbody tr th:only-of-type {\n",
       "        vertical-align: middle;\n",
       "    }\n",
       "\n",
       "    .dataframe tbody tr th {\n",
       "        vertical-align: top;\n",
       "    }\n",
       "\n",
       "    .dataframe thead th {\n",
       "        text-align: right;\n",
       "    }\n",
       "</style>\n",
       "<table border=\"1\" class=\"dataframe\">\n",
       "  <thead>\n",
       "    <tr style=\"text-align: right;\">\n",
       "      <th></th>\n",
       "      <th>proportion_influenced</th>\n",
       "      <th>ci_lower</th>\n",
       "      <th>ci_upper</th>\n",
       "      <th>group</th>\n",
       "    </tr>\n",
       "  </thead>\n",
       "  <tbody>\n",
       "    <tr>\n",
       "      <th>0</th>\n",
       "      <td>0.107754</td>\n",
       "      <td>0.104107</td>\n",
       "      <td>0.111401</td>\n",
       "      <td>control</td>\n",
       "    </tr>\n",
       "    <tr>\n",
       "      <th>1</th>\n",
       "      <td>0.112116</td>\n",
       "      <td>0.108776</td>\n",
       "      <td>0.115455</td>\n",
       "      <td>control</td>\n",
       "    </tr>\n",
       "    <tr>\n",
       "      <th>2</th>\n",
       "      <td>0.112347</td>\n",
       "      <td>0.108748</td>\n",
       "      <td>0.115946</td>\n",
       "      <td>control</td>\n",
       "    </tr>\n",
       "    <tr>\n",
       "      <th>3</th>\n",
       "      <td>0.110081</td>\n",
       "      <td>0.105839</td>\n",
       "      <td>0.114322</td>\n",
       "      <td>control</td>\n",
       "    </tr>\n",
       "  </tbody>\n",
       "</table>\n",
       "</div>"
      ],
      "text/plain": [
       "   proportion_influenced  ci_lower  ci_upper    group\n",
       "0               0.107754  0.104107  0.111401  control\n",
       "1               0.112116  0.108776  0.115455  control\n",
       "2               0.112347  0.108748  0.115946  control\n",
       "3               0.110081  0.105839  0.114322  control"
      ]
     },
     "metadata": {},
     "output_type": "display_data"
    },
    {
     "data": {
      "text/html": [
       "<div>\n",
       "<style scoped>\n",
       "    .dataframe tbody tr th:only-of-type {\n",
       "        vertical-align: middle;\n",
       "    }\n",
       "\n",
       "    .dataframe tbody tr th {\n",
       "        vertical-align: top;\n",
       "    }\n",
       "\n",
       "    .dataframe thead th {\n",
       "        text-align: right;\n",
       "    }\n",
       "</style>\n",
       "<table border=\"1\" class=\"dataframe\">\n",
       "  <thead>\n",
       "    <tr style=\"text-align: right;\">\n",
       "      <th></th>\n",
       "      <th>proportion_influenced</th>\n",
       "      <th>ci_lower</th>\n",
       "      <th>ci_upper</th>\n",
       "      <th>group</th>\n",
       "    </tr>\n",
       "  </thead>\n",
       "  <tbody>\n",
       "    <tr>\n",
       "      <th>0</th>\n",
       "      <td>0.117838</td>\n",
       "      <td>0.114045</td>\n",
       "      <td>0.121630</td>\n",
       "      <td>treated</td>\n",
       "    </tr>\n",
       "    <tr>\n",
       "      <th>1</th>\n",
       "      <td>0.124220</td>\n",
       "      <td>0.120728</td>\n",
       "      <td>0.127711</td>\n",
       "      <td>treated</td>\n",
       "    </tr>\n",
       "    <tr>\n",
       "      <th>2</th>\n",
       "      <td>0.121475</td>\n",
       "      <td>0.117752</td>\n",
       "      <td>0.125198</td>\n",
       "      <td>treated</td>\n",
       "    </tr>\n",
       "    <tr>\n",
       "      <th>3</th>\n",
       "      <td>0.130825</td>\n",
       "      <td>0.126256</td>\n",
       "      <td>0.135395</td>\n",
       "      <td>treated</td>\n",
       "    </tr>\n",
       "  </tbody>\n",
       "</table>\n",
       "</div>"
      ],
      "text/plain": [
       "   proportion_influenced  ci_lower  ci_upper    group\n",
       "0               0.117838  0.114045  0.121630  treated\n",
       "1               0.124220  0.120728  0.127711  treated\n",
       "2               0.121475  0.117752  0.125198  treated\n",
       "3               0.130825  0.126256  0.135395  treated"
      ]
     },
     "metadata": {},
     "output_type": "display_data"
    },
    {
     "data": {
      "text/html": [
       "<div>\n",
       "<style scoped>\n",
       "    .dataframe tbody tr th:only-of-type {\n",
       "        vertical-align: middle;\n",
       "    }\n",
       "\n",
       "    .dataframe tbody tr th {\n",
       "        vertical-align: top;\n",
       "    }\n",
       "\n",
       "    .dataframe thead th {\n",
       "        text-align: right;\n",
       "    }\n",
       "</style>\n",
       "<table border=\"1\" class=\"dataframe\">\n",
       "  <thead>\n",
       "    <tr style=\"text-align: right;\">\n",
       "      <th></th>\n",
       "      <th>proportion_influenced</th>\n",
       "      <th>ci_lower</th>\n",
       "      <th>ci_upper</th>\n",
       "      <th>group</th>\n",
       "    </tr>\n",
       "  </thead>\n",
       "  <tbody>\n",
       "    <tr>\n",
       "      <th>0</th>\n",
       "      <td>0.107754</td>\n",
       "      <td>0.104107</td>\n",
       "      <td>0.111401</td>\n",
       "      <td>control</td>\n",
       "    </tr>\n",
       "    <tr>\n",
       "      <th>1</th>\n",
       "      <td>0.117838</td>\n",
       "      <td>0.114045</td>\n",
       "      <td>0.121630</td>\n",
       "      <td>treated</td>\n",
       "    </tr>\n",
       "  </tbody>\n",
       "</table>\n",
       "</div>"
      ],
      "text/plain": [
       "   proportion_influenced  ci_lower  ci_upper    group\n",
       "0               0.107754  0.104107  0.111401  control\n",
       "1               0.117838  0.114045  0.121630  treated"
      ]
     },
     "metadata": {},
     "output_type": "display_data"
    },
    {
     "data": {
      "text/html": [
       "<div>\n",
       "<style scoped>\n",
       "    .dataframe tbody tr th:only-of-type {\n",
       "        vertical-align: middle;\n",
       "    }\n",
       "\n",
       "    .dataframe tbody tr th {\n",
       "        vertical-align: top;\n",
       "    }\n",
       "\n",
       "    .dataframe thead th {\n",
       "        text-align: right;\n",
       "    }\n",
       "</style>\n",
       "<table border=\"1\" class=\"dataframe\">\n",
       "  <thead>\n",
       "    <tr style=\"text-align: right;\">\n",
       "      <th></th>\n",
       "      <th>proportion_influenced</th>\n",
       "      <th>ci_lower</th>\n",
       "      <th>ci_upper</th>\n",
       "      <th>group</th>\n",
       "    </tr>\n",
       "  </thead>\n",
       "  <tbody>\n",
       "    <tr>\n",
       "      <th>0</th>\n",
       "      <td>0.112116</td>\n",
       "      <td>0.108776</td>\n",
       "      <td>0.115455</td>\n",
       "      <td>control</td>\n",
       "    </tr>\n",
       "    <tr>\n",
       "      <th>1</th>\n",
       "      <td>0.124220</td>\n",
       "      <td>0.120728</td>\n",
       "      <td>0.127711</td>\n",
       "      <td>treated</td>\n",
       "    </tr>\n",
       "  </tbody>\n",
       "</table>\n",
       "</div>"
      ],
      "text/plain": [
       "   proportion_influenced  ci_lower  ci_upper    group\n",
       "0               0.112116  0.108776  0.115455  control\n",
       "1               0.124220  0.120728  0.127711  treated"
      ]
     },
     "metadata": {},
     "output_type": "display_data"
    },
    {
     "data": {
      "application/vnd.plotly.v1+json": {
       "config": {
        "displayModeBar": false,
        "plotlyServerURL": "https://plot.ly"
       },
       "data": [
        {
         "error_y": {
          "array": [
           0.0036471873896078005,
           0.003792414695754795
          ],
          "color": "blue",
          "thickness": 1.5,
          "type": "data"
         },
         "marker": {
          "color": "blue",
          "size": 10
         },
         "mode": "markers",
         "name": "25th percentile",
         "text": [
          0,
          1
         ],
         "type": "scatter",
         "visible": true,
         "x": [
          0,
          1
         ],
         "y": [
          0.1077538084776893,
          0.1178377210357618
         ]
        },
        {
         "error_y": {
          "array": [
           0.003339761500031499,
           0.003491378761161096
          ],
          "color": "orange",
          "thickness": 1.5,
          "type": "data"
         },
         "marker": {
          "color": "orange",
          "size": 10
         },
         "mode": "markers",
         "name": "Median",
         "text": [
          0,
          1
         ],
         "type": "scatter",
         "visible": false,
         "x": [
          0,
          1
         ],
         "y": [
          0.1121157323688969,
          0.1242197981683485
         ]
        }
       ],
       "layout": {
        "template": {
         "data": {
          "bar": [
           {
            "error_x": {
             "color": "#2a3f5f"
            },
            "error_y": {
             "color": "#2a3f5f"
            },
            "marker": {
             "line": {
              "color": "#E5ECF6",
              "width": 0.5
             },
             "pattern": {
              "fillmode": "overlay",
              "size": 10,
              "solidity": 0.2
             }
            },
            "type": "bar"
           }
          ],
          "barpolar": [
           {
            "marker": {
             "line": {
              "color": "#E5ECF6",
              "width": 0.5
             },
             "pattern": {
              "fillmode": "overlay",
              "size": 10,
              "solidity": 0.2
             }
            },
            "type": "barpolar"
           }
          ],
          "carpet": [
           {
            "aaxis": {
             "endlinecolor": "#2a3f5f",
             "gridcolor": "white",
             "linecolor": "white",
             "minorgridcolor": "white",
             "startlinecolor": "#2a3f5f"
            },
            "baxis": {
             "endlinecolor": "#2a3f5f",
             "gridcolor": "white",
             "linecolor": "white",
             "minorgridcolor": "white",
             "startlinecolor": "#2a3f5f"
            },
            "type": "carpet"
           }
          ],
          "choropleth": [
           {
            "colorbar": {
             "outlinewidth": 0,
             "ticks": ""
            },
            "type": "choropleth"
           }
          ],
          "contour": [
           {
            "colorbar": {
             "outlinewidth": 0,
             "ticks": ""
            },
            "colorscale": [
             [
              0,
              "#0d0887"
             ],
             [
              0.1111111111111111,
              "#46039f"
             ],
             [
              0.2222222222222222,
              "#7201a8"
             ],
             [
              0.3333333333333333,
              "#9c179e"
             ],
             [
              0.4444444444444444,
              "#bd3786"
             ],
             [
              0.5555555555555556,
              "#d8576b"
             ],
             [
              0.6666666666666666,
              "#ed7953"
             ],
             [
              0.7777777777777778,
              "#fb9f3a"
             ],
             [
              0.8888888888888888,
              "#fdca26"
             ],
             [
              1,
              "#f0f921"
             ]
            ],
            "type": "contour"
           }
          ],
          "contourcarpet": [
           {
            "colorbar": {
             "outlinewidth": 0,
             "ticks": ""
            },
            "type": "contourcarpet"
           }
          ],
          "heatmap": [
           {
            "colorbar": {
             "outlinewidth": 0,
             "ticks": ""
            },
            "colorscale": [
             [
              0,
              "#0d0887"
             ],
             [
              0.1111111111111111,
              "#46039f"
             ],
             [
              0.2222222222222222,
              "#7201a8"
             ],
             [
              0.3333333333333333,
              "#9c179e"
             ],
             [
              0.4444444444444444,
              "#bd3786"
             ],
             [
              0.5555555555555556,
              "#d8576b"
             ],
             [
              0.6666666666666666,
              "#ed7953"
             ],
             [
              0.7777777777777778,
              "#fb9f3a"
             ],
             [
              0.8888888888888888,
              "#fdca26"
             ],
             [
              1,
              "#f0f921"
             ]
            ],
            "type": "heatmap"
           }
          ],
          "heatmapgl": [
           {
            "colorbar": {
             "outlinewidth": 0,
             "ticks": ""
            },
            "colorscale": [
             [
              0,
              "#0d0887"
             ],
             [
              0.1111111111111111,
              "#46039f"
             ],
             [
              0.2222222222222222,
              "#7201a8"
             ],
             [
              0.3333333333333333,
              "#9c179e"
             ],
             [
              0.4444444444444444,
              "#bd3786"
             ],
             [
              0.5555555555555556,
              "#d8576b"
             ],
             [
              0.6666666666666666,
              "#ed7953"
             ],
             [
              0.7777777777777778,
              "#fb9f3a"
             ],
             [
              0.8888888888888888,
              "#fdca26"
             ],
             [
              1,
              "#f0f921"
             ]
            ],
            "type": "heatmapgl"
           }
          ],
          "histogram": [
           {
            "marker": {
             "pattern": {
              "fillmode": "overlay",
              "size": 10,
              "solidity": 0.2
             }
            },
            "type": "histogram"
           }
          ],
          "histogram2d": [
           {
            "colorbar": {
             "outlinewidth": 0,
             "ticks": ""
            },
            "colorscale": [
             [
              0,
              "#0d0887"
             ],
             [
              0.1111111111111111,
              "#46039f"
             ],
             [
              0.2222222222222222,
              "#7201a8"
             ],
             [
              0.3333333333333333,
              "#9c179e"
             ],
             [
              0.4444444444444444,
              "#bd3786"
             ],
             [
              0.5555555555555556,
              "#d8576b"
             ],
             [
              0.6666666666666666,
              "#ed7953"
             ],
             [
              0.7777777777777778,
              "#fb9f3a"
             ],
             [
              0.8888888888888888,
              "#fdca26"
             ],
             [
              1,
              "#f0f921"
             ]
            ],
            "type": "histogram2d"
           }
          ],
          "histogram2dcontour": [
           {
            "colorbar": {
             "outlinewidth": 0,
             "ticks": ""
            },
            "colorscale": [
             [
              0,
              "#0d0887"
             ],
             [
              0.1111111111111111,
              "#46039f"
             ],
             [
              0.2222222222222222,
              "#7201a8"
             ],
             [
              0.3333333333333333,
              "#9c179e"
             ],
             [
              0.4444444444444444,
              "#bd3786"
             ],
             [
              0.5555555555555556,
              "#d8576b"
             ],
             [
              0.6666666666666666,
              "#ed7953"
             ],
             [
              0.7777777777777778,
              "#fb9f3a"
             ],
             [
              0.8888888888888888,
              "#fdca26"
             ],
             [
              1,
              "#f0f921"
             ]
            ],
            "type": "histogram2dcontour"
           }
          ],
          "mesh3d": [
           {
            "colorbar": {
             "outlinewidth": 0,
             "ticks": ""
            },
            "type": "mesh3d"
           }
          ],
          "parcoords": [
           {
            "line": {
             "colorbar": {
              "outlinewidth": 0,
              "ticks": ""
             }
            },
            "type": "parcoords"
           }
          ],
          "pie": [
           {
            "automargin": true,
            "type": "pie"
           }
          ],
          "scatter": [
           {
            "fillpattern": {
             "fillmode": "overlay",
             "size": 10,
             "solidity": 0.2
            },
            "type": "scatter"
           }
          ],
          "scatter3d": [
           {
            "line": {
             "colorbar": {
              "outlinewidth": 0,
              "ticks": ""
             }
            },
            "marker": {
             "colorbar": {
              "outlinewidth": 0,
              "ticks": ""
             }
            },
            "type": "scatter3d"
           }
          ],
          "scattercarpet": [
           {
            "marker": {
             "colorbar": {
              "outlinewidth": 0,
              "ticks": ""
             }
            },
            "type": "scattercarpet"
           }
          ],
          "scattergeo": [
           {
            "marker": {
             "colorbar": {
              "outlinewidth": 0,
              "ticks": ""
             }
            },
            "type": "scattergeo"
           }
          ],
          "scattergl": [
           {
            "marker": {
             "colorbar": {
              "outlinewidth": 0,
              "ticks": ""
             }
            },
            "type": "scattergl"
           }
          ],
          "scattermapbox": [
           {
            "marker": {
             "colorbar": {
              "outlinewidth": 0,
              "ticks": ""
             }
            },
            "type": "scattermapbox"
           }
          ],
          "scatterpolar": [
           {
            "marker": {
             "colorbar": {
              "outlinewidth": 0,
              "ticks": ""
             }
            },
            "type": "scatterpolar"
           }
          ],
          "scatterpolargl": [
           {
            "marker": {
             "colorbar": {
              "outlinewidth": 0,
              "ticks": ""
             }
            },
            "type": "scatterpolargl"
           }
          ],
          "scatterternary": [
           {
            "marker": {
             "colorbar": {
              "outlinewidth": 0,
              "ticks": ""
             }
            },
            "type": "scatterternary"
           }
          ],
          "surface": [
           {
            "colorbar": {
             "outlinewidth": 0,
             "ticks": ""
            },
            "colorscale": [
             [
              0,
              "#0d0887"
             ],
             [
              0.1111111111111111,
              "#46039f"
             ],
             [
              0.2222222222222222,
              "#7201a8"
             ],
             [
              0.3333333333333333,
              "#9c179e"
             ],
             [
              0.4444444444444444,
              "#bd3786"
             ],
             [
              0.5555555555555556,
              "#d8576b"
             ],
             [
              0.6666666666666666,
              "#ed7953"
             ],
             [
              0.7777777777777778,
              "#fb9f3a"
             ],
             [
              0.8888888888888888,
              "#fdca26"
             ],
             [
              1,
              "#f0f921"
             ]
            ],
            "type": "surface"
           }
          ],
          "table": [
           {
            "cells": {
             "fill": {
              "color": "#EBF0F8"
             },
             "line": {
              "color": "white"
             }
            },
            "header": {
             "fill": {
              "color": "#C8D4E3"
             },
             "line": {
              "color": "white"
             }
            },
            "type": "table"
           }
          ]
         },
         "layout": {
          "annotationdefaults": {
           "arrowcolor": "#2a3f5f",
           "arrowhead": 0,
           "arrowwidth": 1
          },
          "autotypenumbers": "strict",
          "coloraxis": {
           "colorbar": {
            "outlinewidth": 0,
            "ticks": ""
           }
          },
          "colorscale": {
           "diverging": [
            [
             0,
             "#8e0152"
            ],
            [
             0.1,
             "#c51b7d"
            ],
            [
             0.2,
             "#de77ae"
            ],
            [
             0.3,
             "#f1b6da"
            ],
            [
             0.4,
             "#fde0ef"
            ],
            [
             0.5,
             "#f7f7f7"
            ],
            [
             0.6,
             "#e6f5d0"
            ],
            [
             0.7,
             "#b8e186"
            ],
            [
             0.8,
             "#7fbc41"
            ],
            [
             0.9,
             "#4d9221"
            ],
            [
             1,
             "#276419"
            ]
           ],
           "sequential": [
            [
             0,
             "#0d0887"
            ],
            [
             0.1111111111111111,
             "#46039f"
            ],
            [
             0.2222222222222222,
             "#7201a8"
            ],
            [
             0.3333333333333333,
             "#9c179e"
            ],
            [
             0.4444444444444444,
             "#bd3786"
            ],
            [
             0.5555555555555556,
             "#d8576b"
            ],
            [
             0.6666666666666666,
             "#ed7953"
            ],
            [
             0.7777777777777778,
             "#fb9f3a"
            ],
            [
             0.8888888888888888,
             "#fdca26"
            ],
            [
             1,
             "#f0f921"
            ]
           ],
           "sequentialminus": [
            [
             0,
             "#0d0887"
            ],
            [
             0.1111111111111111,
             "#46039f"
            ],
            [
             0.2222222222222222,
             "#7201a8"
            ],
            [
             0.3333333333333333,
             "#9c179e"
            ],
            [
             0.4444444444444444,
             "#bd3786"
            ],
            [
             0.5555555555555556,
             "#d8576b"
            ],
            [
             0.6666666666666666,
             "#ed7953"
            ],
            [
             0.7777777777777778,
             "#fb9f3a"
            ],
            [
             0.8888888888888888,
             "#fdca26"
            ],
            [
             1,
             "#f0f921"
            ]
           ]
          },
          "colorway": [
           "#636efa",
           "#EF553B",
           "#00cc96",
           "#ab63fa",
           "#FFA15A",
           "#19d3f3",
           "#FF6692",
           "#B6E880",
           "#FF97FF",
           "#FECB52"
          ],
          "font": {
           "color": "#2a3f5f"
          },
          "geo": {
           "bgcolor": "white",
           "lakecolor": "white",
           "landcolor": "#E5ECF6",
           "showlakes": true,
           "showland": true,
           "subunitcolor": "white"
          },
          "hoverlabel": {
           "align": "left"
          },
          "hovermode": "closest",
          "mapbox": {
           "style": "light"
          },
          "paper_bgcolor": "white",
          "plot_bgcolor": "#E5ECF6",
          "polar": {
           "angularaxis": {
            "gridcolor": "white",
            "linecolor": "white",
            "ticks": ""
           },
           "bgcolor": "#E5ECF6",
           "radialaxis": {
            "gridcolor": "white",
            "linecolor": "white",
            "ticks": ""
           }
          },
          "scene": {
           "xaxis": {
            "backgroundcolor": "#E5ECF6",
            "gridcolor": "white",
            "gridwidth": 2,
            "linecolor": "white",
            "showbackground": true,
            "ticks": "",
            "zerolinecolor": "white"
           },
           "yaxis": {
            "backgroundcolor": "#E5ECF6",
            "gridcolor": "white",
            "gridwidth": 2,
            "linecolor": "white",
            "showbackground": true,
            "ticks": "",
            "zerolinecolor": "white"
           },
           "zaxis": {
            "backgroundcolor": "#E5ECF6",
            "gridcolor": "white",
            "gridwidth": 2,
            "linecolor": "white",
            "showbackground": true,
            "ticks": "",
            "zerolinecolor": "white"
           }
          },
          "shapedefaults": {
           "line": {
            "color": "#2a3f5f"
           }
          },
          "ternary": {
           "aaxis": {
            "gridcolor": "white",
            "linecolor": "white",
            "ticks": ""
           },
           "baxis": {
            "gridcolor": "white",
            "linecolor": "white",
            "ticks": ""
           },
           "bgcolor": "#E5ECF6",
           "caxis": {
            "gridcolor": "white",
            "linecolor": "white",
            "ticks": ""
           }
          },
          "title": {
           "x": 0.05
          },
          "xaxis": {
           "automargin": true,
           "gridcolor": "white",
           "linecolor": "white",
           "ticks": "",
           "title": {
            "standoff": 15
           },
           "zerolinecolor": "white",
           "zerolinewidth": 2
          },
          "yaxis": {
           "automargin": true,
           "gridcolor": "white",
           "linecolor": "white",
           "ticks": "",
           "title": {
            "standoff": 15
           },
           "zerolinecolor": "white",
           "zerolinewidth": 2
          }
         }
        },
        "updatemenus": [
         {
          "active": 0,
          "buttons": [
           {
            "args": [
             {
              "visible": [
               true,
               false
              ]
             },
             {
              "xaxis.title.text": "Group",
              "yaxis.range": [
               0,
               0.25
              ]
             }
            ],
            "label": "25th percentile",
            "method": "update"
           },
           {
            "args": [
             {
              "visible": [
               false,
               true
              ]
             },
             {
              "xaxis.title.text": "Group",
              "yaxis.range": [
               0,
               0.25
              ]
             }
            ],
            "label": "Median",
            "method": "update"
           }
          ],
          "direction": "right",
          "type": "buttons",
          "x": 1,
          "y": 1
         }
        ],
        "xaxis": {
         "linecolor": "white",
         "linewidth": 1,
         "showgrid": false,
         "showline": true,
         "title": {
          "text": "Group"
         }
        },
        "yaxis": {
         "linecolor": "white",
         "linewidth": 1,
         "showgrid": false,
         "showline": true,
         "title": {
          "text": "Proportion Influenced"
         }
        }
       }
      }
     },
     "metadata": {},
     "output_type": "display_data"
    }
   ],
   "source": [
    "import pandas as pd\n",
    "import plotly.graph_objects as go\n",
    "from IPython.display import display\n",
    "\n",
    "# Sample data\n",
    "data = pd.read_csv('data/web_data/matching_result_prop_significatif.csv')\n",
    "\n",
    "# Create DataFrame\n",
    "df = pd.DataFrame(data)\n",
    "df['group'] = ['control' if i % 2 == 0 else 'treated' for i in range(len(df))]\n",
    "display(df)\n",
    "\n",
    "control_df = df[df['group']=='control'].reset_index(drop=True)\n",
    "treated_df = df[df['group']=='treated'].reset_index(drop=True)\n",
    "\n",
    "display(control_df)\n",
    "display(treated_df)\n",
    "\n",
    "pair1 = pd.DataFrame((control_df.loc[0], treated_df.loc[0])).reset_index(drop=True)\n",
    "display(pair1)\n",
    "\n",
    "pair2 = pd.DataFrame((control_df.loc[1], treated_df.loc[1])).reset_index(drop=True)\n",
    "display(pair2)\n",
    "\n",
    "# Adjusting traces for vertical orientation\n",
    "trace_pair_1 = go.Scatter(\n",
    "    x=pair1.index,\n",
    "    y=pair1['proportion_influenced'],\n",
    "    mode='markers',\n",
    "    name='25th percentile',\n",
    "    marker=dict(color='blue', size=10),\n",
    "    text=pair1.index,\n",
    "    error_y=dict(type='data', array=pair1['ci_upper'] - pair1['proportion_influenced'], color='blue', thickness=1.5)\n",
    ")\n",
    "\n",
    "trace_pair_2 = go.Scatter(\n",
    "    x=pair2.index,\n",
    "    y=pair2['proportion_influenced'],\n",
    "    mode='markers',\n",
    "    name='Median',\n",
    "    marker=dict(color='orange', size=10),\n",
    "    text=pair2.index,\n",
    "    error_y=dict(type='data', array=pair2['ci_upper'] - pair2['proportion_influenced'], color='orange', thickness=1.5)\n",
    ")\n",
    "\n",
    "# Creating the figure with all traces\n",
    "fig = go.Figure(data=[trace_pair_1, trace_pair_2])\n",
    "\n",
    "# Set the initial visibility to show control data only\n",
    "fig.data[0].visible = True\n",
    "fig.data[1].visible = False\n",
    "\n",
    "# Updating layout with interactive buttons\n",
    "fig.update_layout(\n",
    "    updatemenus=[\n",
    "        dict(\n",
    "            type=\"buttons\",\n",
    "            direction=\"right\",\n",
    "            active=0,  # 'Control' is active initially\n",
    "            x=1,\n",
    "            y=1,\n",
    "            buttons=list([\n",
    "                dict(label=\"25th percentile\",\n",
    "                     method=\"update\",\n",
    "                     args=[{\"visible\": [True, False]},\n",
    "                           {\"yaxis.range\": [0, 0.25],\n",
    "                            \"xaxis.title.text\": 'Group'}]),\n",
    "                dict(label=\"Median\",\n",
    "                     method=\"update\",\n",
    "                     args=[{\"visible\": [False, True]},\n",
    "                           {\"yaxis.range\": [0, 0.25],\n",
    "                            \"xaxis.title.text\": 'Group'}]),\n",
    "            ]),\n",
    "        )\n",
    "    ],\n",
    "    xaxis=dict(title='Group', showgrid=False, showline=True, linewidth=1, linecolor='white'),\n",
    "    yaxis=dict(title='Proportion Influenced', showgrid=False, showline=True, linewidth=1, linecolor='white')\n",
    ")\n",
    "\n",
    "# Show the figure\n",
    "fig.show(config={'displayModeBar': False})\n"
   ]
  },
  {
   "cell_type": "code",
   "execution_count": 48,
   "metadata": {},
   "outputs": [
    {
     "data": {
      "text/html": [
       "<div>\n",
       "<style scoped>\n",
       "    .dataframe tbody tr th:only-of-type {\n",
       "        vertical-align: middle;\n",
       "    }\n",
       "\n",
       "    .dataframe tbody tr th {\n",
       "        vertical-align: top;\n",
       "    }\n",
       "\n",
       "    .dataframe thead th {\n",
       "        text-align: right;\n",
       "    }\n",
       "</style>\n",
       "<table border=\"1\" class=\"dataframe\">\n",
       "  <thead>\n",
       "    <tr style=\"text-align: right;\">\n",
       "      <th></th>\n",
       "      <th>proportion_influenced</th>\n",
       "      <th>ci_lower</th>\n",
       "      <th>ci_upper</th>\n",
       "      <th>group</th>\n",
       "    </tr>\n",
       "  </thead>\n",
       "  <tbody>\n",
       "    <tr>\n",
       "      <th>0</th>\n",
       "      <td>0.107754</td>\n",
       "      <td>0.104107</td>\n",
       "      <td>0.111401</td>\n",
       "      <td>control</td>\n",
       "    </tr>\n",
       "    <tr>\n",
       "      <th>1</th>\n",
       "      <td>0.117838</td>\n",
       "      <td>0.114045</td>\n",
       "      <td>0.121630</td>\n",
       "      <td>treated</td>\n",
       "    </tr>\n",
       "    <tr>\n",
       "      <th>2</th>\n",
       "      <td>0.112116</td>\n",
       "      <td>0.108776</td>\n",
       "      <td>0.115455</td>\n",
       "      <td>control</td>\n",
       "    </tr>\n",
       "    <tr>\n",
       "      <th>3</th>\n",
       "      <td>0.124220</td>\n",
       "      <td>0.120728</td>\n",
       "      <td>0.127711</td>\n",
       "      <td>treated</td>\n",
       "    </tr>\n",
       "    <tr>\n",
       "      <th>4</th>\n",
       "      <td>0.112347</td>\n",
       "      <td>0.108748</td>\n",
       "      <td>0.115946</td>\n",
       "      <td>control</td>\n",
       "    </tr>\n",
       "    <tr>\n",
       "      <th>5</th>\n",
       "      <td>0.121475</td>\n",
       "      <td>0.117752</td>\n",
       "      <td>0.125198</td>\n",
       "      <td>treated</td>\n",
       "    </tr>\n",
       "    <tr>\n",
       "      <th>6</th>\n",
       "      <td>0.110081</td>\n",
       "      <td>0.105839</td>\n",
       "      <td>0.114322</td>\n",
       "      <td>control</td>\n",
       "    </tr>\n",
       "    <tr>\n",
       "      <th>7</th>\n",
       "      <td>0.130825</td>\n",
       "      <td>0.126256</td>\n",
       "      <td>0.135395</td>\n",
       "      <td>treated</td>\n",
       "    </tr>\n",
       "  </tbody>\n",
       "</table>\n",
       "</div>"
      ],
      "text/plain": [
       "   proportion_influenced  ci_lower  ci_upper    group\n",
       "0               0.107754  0.104107  0.111401  control\n",
       "1               0.117838  0.114045  0.121630  treated\n",
       "2               0.112116  0.108776  0.115455  control\n",
       "3               0.124220  0.120728  0.127711  treated\n",
       "4               0.112347  0.108748  0.115946  control\n",
       "5               0.121475  0.117752  0.125198  treated\n",
       "6               0.110081  0.105839  0.114322  control\n",
       "7               0.130825  0.126256  0.135395  treated"
      ]
     },
     "metadata": {},
     "output_type": "display_data"
    },
    {
     "data": {
      "text/html": [
       "<div>\n",
       "<style scoped>\n",
       "    .dataframe tbody tr th:only-of-type {\n",
       "        vertical-align: middle;\n",
       "    }\n",
       "\n",
       "    .dataframe tbody tr th {\n",
       "        vertical-align: top;\n",
       "    }\n",
       "\n",
       "    .dataframe thead th {\n",
       "        text-align: right;\n",
       "    }\n",
       "</style>\n",
       "<table border=\"1\" class=\"dataframe\">\n",
       "  <thead>\n",
       "    <tr style=\"text-align: right;\">\n",
       "      <th></th>\n",
       "      <th>proportion_influenced</th>\n",
       "      <th>ci_lower</th>\n",
       "      <th>ci_upper</th>\n",
       "      <th>group</th>\n",
       "    </tr>\n",
       "  </thead>\n",
       "  <tbody>\n",
       "    <tr>\n",
       "      <th>0</th>\n",
       "      <td>0.107754</td>\n",
       "      <td>0.104107</td>\n",
       "      <td>0.111401</td>\n",
       "      <td>control</td>\n",
       "    </tr>\n",
       "    <tr>\n",
       "      <th>1</th>\n",
       "      <td>0.112116</td>\n",
       "      <td>0.108776</td>\n",
       "      <td>0.115455</td>\n",
       "      <td>control</td>\n",
       "    </tr>\n",
       "    <tr>\n",
       "      <th>2</th>\n",
       "      <td>0.112347</td>\n",
       "      <td>0.108748</td>\n",
       "      <td>0.115946</td>\n",
       "      <td>control</td>\n",
       "    </tr>\n",
       "    <tr>\n",
       "      <th>3</th>\n",
       "      <td>0.110081</td>\n",
       "      <td>0.105839</td>\n",
       "      <td>0.114322</td>\n",
       "      <td>control</td>\n",
       "    </tr>\n",
       "  </tbody>\n",
       "</table>\n",
       "</div>"
      ],
      "text/plain": [
       "   proportion_influenced  ci_lower  ci_upper    group\n",
       "0               0.107754  0.104107  0.111401  control\n",
       "1               0.112116  0.108776  0.115455  control\n",
       "2               0.112347  0.108748  0.115946  control\n",
       "3               0.110081  0.105839  0.114322  control"
      ]
     },
     "metadata": {},
     "output_type": "display_data"
    },
    {
     "data": {
      "text/html": [
       "<div>\n",
       "<style scoped>\n",
       "    .dataframe tbody tr th:only-of-type {\n",
       "        vertical-align: middle;\n",
       "    }\n",
       "\n",
       "    .dataframe tbody tr th {\n",
       "        vertical-align: top;\n",
       "    }\n",
       "\n",
       "    .dataframe thead th {\n",
       "        text-align: right;\n",
       "    }\n",
       "</style>\n",
       "<table border=\"1\" class=\"dataframe\">\n",
       "  <thead>\n",
       "    <tr style=\"text-align: right;\">\n",
       "      <th></th>\n",
       "      <th>proportion_influenced</th>\n",
       "      <th>ci_lower</th>\n",
       "      <th>ci_upper</th>\n",
       "      <th>group</th>\n",
       "    </tr>\n",
       "  </thead>\n",
       "  <tbody>\n",
       "    <tr>\n",
       "      <th>0</th>\n",
       "      <td>0.117838</td>\n",
       "      <td>0.114045</td>\n",
       "      <td>0.121630</td>\n",
       "      <td>treated</td>\n",
       "    </tr>\n",
       "    <tr>\n",
       "      <th>1</th>\n",
       "      <td>0.124220</td>\n",
       "      <td>0.120728</td>\n",
       "      <td>0.127711</td>\n",
       "      <td>treated</td>\n",
       "    </tr>\n",
       "    <tr>\n",
       "      <th>2</th>\n",
       "      <td>0.121475</td>\n",
       "      <td>0.117752</td>\n",
       "      <td>0.125198</td>\n",
       "      <td>treated</td>\n",
       "    </tr>\n",
       "    <tr>\n",
       "      <th>3</th>\n",
       "      <td>0.130825</td>\n",
       "      <td>0.126256</td>\n",
       "      <td>0.135395</td>\n",
       "      <td>treated</td>\n",
       "    </tr>\n",
       "  </tbody>\n",
       "</table>\n",
       "</div>"
      ],
      "text/plain": [
       "   proportion_influenced  ci_lower  ci_upper    group\n",
       "0               0.117838  0.114045  0.121630  treated\n",
       "1               0.124220  0.120728  0.127711  treated\n",
       "2               0.121475  0.117752  0.125198  treated\n",
       "3               0.130825  0.126256  0.135395  treated"
      ]
     },
     "metadata": {},
     "output_type": "display_data"
    },
    {
     "data": {
      "application/vnd.plotly.v1+json": {
       "config": {
        "displayModeBar": false,
        "plotlyServerURL": "https://plot.ly"
       },
       "data": [
        {
         "error_y": {
          "array": [
           0.0036471873896078005,
           0.003792414695754795
          ],
          "color": "blue",
          "thickness": 1.5,
          "type": "data"
         },
         "marker": {
          "color": "blue",
          "size": 10
         },
         "mode": "markers",
         "name": "25th percentile",
         "text": [
          0,
          1
         ],
         "type": "scatter",
         "visible": true,
         "x": [
          0,
          1
         ],
         "y": [
          0.1077538084776893,
          0.1178377210357618
         ]
        },
        {
         "error_y": {
          "array": [
           0.003339761500031499,
           0.003491378761161096
          ],
          "color": "orange",
          "thickness": 1.5,
          "type": "data"
         },
         "marker": {
          "color": "orange",
          "size": 10
         },
         "mode": "markers",
         "name": "Median",
         "text": [
          0,
          1
         ],
         "type": "scatter",
         "visible": false,
         "x": [
          0,
          1
         ],
         "y": [
          0.1121157323688969,
          0.1242197981683485
         ]
        },
        {
         "error_y": {
          "array": [
           0.0035989961994315894,
           0.003723061200158889
          ],
          "color": "blue",
          "thickness": 1.5,
          "type": "data"
         },
         "marker": {
          "color": "blue",
          "size": 10
         },
         "mode": "markers",
         "name": "75th percentile",
         "text": [
          0,
          1
         ],
         "type": "scatter",
         "x": [
          0,
          1
         ],
         "y": [
          0.1123470146730678,
          0.1214754209209547
         ]
        },
        {
         "error_y": {
          "array": [
           0.004241371108857403,
           0.004569565447168605
          ],
          "color": "blue",
          "thickness": 1.5,
          "type": "data"
         },
         "marker": {
          "color": "blue",
          "size": 10
         },
         "mode": "markers",
         "name": "90th percentile",
         "text": [
          0,
          1
         ],
         "type": "scatter",
         "x": [
          0,
          1
         ],
         "y": [
          0.1100807800774341,
          0.1308254863534247
         ]
        }
       ],
       "layout": {
        "template": {
         "data": {
          "bar": [
           {
            "error_x": {
             "color": "#2a3f5f"
            },
            "error_y": {
             "color": "#2a3f5f"
            },
            "marker": {
             "line": {
              "color": "#E5ECF6",
              "width": 0.5
             },
             "pattern": {
              "fillmode": "overlay",
              "size": 10,
              "solidity": 0.2
             }
            },
            "type": "bar"
           }
          ],
          "barpolar": [
           {
            "marker": {
             "line": {
              "color": "#E5ECF6",
              "width": 0.5
             },
             "pattern": {
              "fillmode": "overlay",
              "size": 10,
              "solidity": 0.2
             }
            },
            "type": "barpolar"
           }
          ],
          "carpet": [
           {
            "aaxis": {
             "endlinecolor": "#2a3f5f",
             "gridcolor": "white",
             "linecolor": "white",
             "minorgridcolor": "white",
             "startlinecolor": "#2a3f5f"
            },
            "baxis": {
             "endlinecolor": "#2a3f5f",
             "gridcolor": "white",
             "linecolor": "white",
             "minorgridcolor": "white",
             "startlinecolor": "#2a3f5f"
            },
            "type": "carpet"
           }
          ],
          "choropleth": [
           {
            "colorbar": {
             "outlinewidth": 0,
             "ticks": ""
            },
            "type": "choropleth"
           }
          ],
          "contour": [
           {
            "colorbar": {
             "outlinewidth": 0,
             "ticks": ""
            },
            "colorscale": [
             [
              0,
              "#0d0887"
             ],
             [
              0.1111111111111111,
              "#46039f"
             ],
             [
              0.2222222222222222,
              "#7201a8"
             ],
             [
              0.3333333333333333,
              "#9c179e"
             ],
             [
              0.4444444444444444,
              "#bd3786"
             ],
             [
              0.5555555555555556,
              "#d8576b"
             ],
             [
              0.6666666666666666,
              "#ed7953"
             ],
             [
              0.7777777777777778,
              "#fb9f3a"
             ],
             [
              0.8888888888888888,
              "#fdca26"
             ],
             [
              1,
              "#f0f921"
             ]
            ],
            "type": "contour"
           }
          ],
          "contourcarpet": [
           {
            "colorbar": {
             "outlinewidth": 0,
             "ticks": ""
            },
            "type": "contourcarpet"
           }
          ],
          "heatmap": [
           {
            "colorbar": {
             "outlinewidth": 0,
             "ticks": ""
            },
            "colorscale": [
             [
              0,
              "#0d0887"
             ],
             [
              0.1111111111111111,
              "#46039f"
             ],
             [
              0.2222222222222222,
              "#7201a8"
             ],
             [
              0.3333333333333333,
              "#9c179e"
             ],
             [
              0.4444444444444444,
              "#bd3786"
             ],
             [
              0.5555555555555556,
              "#d8576b"
             ],
             [
              0.6666666666666666,
              "#ed7953"
             ],
             [
              0.7777777777777778,
              "#fb9f3a"
             ],
             [
              0.8888888888888888,
              "#fdca26"
             ],
             [
              1,
              "#f0f921"
             ]
            ],
            "type": "heatmap"
           }
          ],
          "heatmapgl": [
           {
            "colorbar": {
             "outlinewidth": 0,
             "ticks": ""
            },
            "colorscale": [
             [
              0,
              "#0d0887"
             ],
             [
              0.1111111111111111,
              "#46039f"
             ],
             [
              0.2222222222222222,
              "#7201a8"
             ],
             [
              0.3333333333333333,
              "#9c179e"
             ],
             [
              0.4444444444444444,
              "#bd3786"
             ],
             [
              0.5555555555555556,
              "#d8576b"
             ],
             [
              0.6666666666666666,
              "#ed7953"
             ],
             [
              0.7777777777777778,
              "#fb9f3a"
             ],
             [
              0.8888888888888888,
              "#fdca26"
             ],
             [
              1,
              "#f0f921"
             ]
            ],
            "type": "heatmapgl"
           }
          ],
          "histogram": [
           {
            "marker": {
             "pattern": {
              "fillmode": "overlay",
              "size": 10,
              "solidity": 0.2
             }
            },
            "type": "histogram"
           }
          ],
          "histogram2d": [
           {
            "colorbar": {
             "outlinewidth": 0,
             "ticks": ""
            },
            "colorscale": [
             [
              0,
              "#0d0887"
             ],
             [
              0.1111111111111111,
              "#46039f"
             ],
             [
              0.2222222222222222,
              "#7201a8"
             ],
             [
              0.3333333333333333,
              "#9c179e"
             ],
             [
              0.4444444444444444,
              "#bd3786"
             ],
             [
              0.5555555555555556,
              "#d8576b"
             ],
             [
              0.6666666666666666,
              "#ed7953"
             ],
             [
              0.7777777777777778,
              "#fb9f3a"
             ],
             [
              0.8888888888888888,
              "#fdca26"
             ],
             [
              1,
              "#f0f921"
             ]
            ],
            "type": "histogram2d"
           }
          ],
          "histogram2dcontour": [
           {
            "colorbar": {
             "outlinewidth": 0,
             "ticks": ""
            },
            "colorscale": [
             [
              0,
              "#0d0887"
             ],
             [
              0.1111111111111111,
              "#46039f"
             ],
             [
              0.2222222222222222,
              "#7201a8"
             ],
             [
              0.3333333333333333,
              "#9c179e"
             ],
             [
              0.4444444444444444,
              "#bd3786"
             ],
             [
              0.5555555555555556,
              "#d8576b"
             ],
             [
              0.6666666666666666,
              "#ed7953"
             ],
             [
              0.7777777777777778,
              "#fb9f3a"
             ],
             [
              0.8888888888888888,
              "#fdca26"
             ],
             [
              1,
              "#f0f921"
             ]
            ],
            "type": "histogram2dcontour"
           }
          ],
          "mesh3d": [
           {
            "colorbar": {
             "outlinewidth": 0,
             "ticks": ""
            },
            "type": "mesh3d"
           }
          ],
          "parcoords": [
           {
            "line": {
             "colorbar": {
              "outlinewidth": 0,
              "ticks": ""
             }
            },
            "type": "parcoords"
           }
          ],
          "pie": [
           {
            "automargin": true,
            "type": "pie"
           }
          ],
          "scatter": [
           {
            "fillpattern": {
             "fillmode": "overlay",
             "size": 10,
             "solidity": 0.2
            },
            "type": "scatter"
           }
          ],
          "scatter3d": [
           {
            "line": {
             "colorbar": {
              "outlinewidth": 0,
              "ticks": ""
             }
            },
            "marker": {
             "colorbar": {
              "outlinewidth": 0,
              "ticks": ""
             }
            },
            "type": "scatter3d"
           }
          ],
          "scattercarpet": [
           {
            "marker": {
             "colorbar": {
              "outlinewidth": 0,
              "ticks": ""
             }
            },
            "type": "scattercarpet"
           }
          ],
          "scattergeo": [
           {
            "marker": {
             "colorbar": {
              "outlinewidth": 0,
              "ticks": ""
             }
            },
            "type": "scattergeo"
           }
          ],
          "scattergl": [
           {
            "marker": {
             "colorbar": {
              "outlinewidth": 0,
              "ticks": ""
             }
            },
            "type": "scattergl"
           }
          ],
          "scattermapbox": [
           {
            "marker": {
             "colorbar": {
              "outlinewidth": 0,
              "ticks": ""
             }
            },
            "type": "scattermapbox"
           }
          ],
          "scatterpolar": [
           {
            "marker": {
             "colorbar": {
              "outlinewidth": 0,
              "ticks": ""
             }
            },
            "type": "scatterpolar"
           }
          ],
          "scatterpolargl": [
           {
            "marker": {
             "colorbar": {
              "outlinewidth": 0,
              "ticks": ""
             }
            },
            "type": "scatterpolargl"
           }
          ],
          "scatterternary": [
           {
            "marker": {
             "colorbar": {
              "outlinewidth": 0,
              "ticks": ""
             }
            },
            "type": "scatterternary"
           }
          ],
          "surface": [
           {
            "colorbar": {
             "outlinewidth": 0,
             "ticks": ""
            },
            "colorscale": [
             [
              0,
              "#0d0887"
             ],
             [
              0.1111111111111111,
              "#46039f"
             ],
             [
              0.2222222222222222,
              "#7201a8"
             ],
             [
              0.3333333333333333,
              "#9c179e"
             ],
             [
              0.4444444444444444,
              "#bd3786"
             ],
             [
              0.5555555555555556,
              "#d8576b"
             ],
             [
              0.6666666666666666,
              "#ed7953"
             ],
             [
              0.7777777777777778,
              "#fb9f3a"
             ],
             [
              0.8888888888888888,
              "#fdca26"
             ],
             [
              1,
              "#f0f921"
             ]
            ],
            "type": "surface"
           }
          ],
          "table": [
           {
            "cells": {
             "fill": {
              "color": "#EBF0F8"
             },
             "line": {
              "color": "white"
             }
            },
            "header": {
             "fill": {
              "color": "#C8D4E3"
             },
             "line": {
              "color": "white"
             }
            },
            "type": "table"
           }
          ]
         },
         "layout": {
          "annotationdefaults": {
           "arrowcolor": "#2a3f5f",
           "arrowhead": 0,
           "arrowwidth": 1
          },
          "autotypenumbers": "strict",
          "coloraxis": {
           "colorbar": {
            "outlinewidth": 0,
            "ticks": ""
           }
          },
          "colorscale": {
           "diverging": [
            [
             0,
             "#8e0152"
            ],
            [
             0.1,
             "#c51b7d"
            ],
            [
             0.2,
             "#de77ae"
            ],
            [
             0.3,
             "#f1b6da"
            ],
            [
             0.4,
             "#fde0ef"
            ],
            [
             0.5,
             "#f7f7f7"
            ],
            [
             0.6,
             "#e6f5d0"
            ],
            [
             0.7,
             "#b8e186"
            ],
            [
             0.8,
             "#7fbc41"
            ],
            [
             0.9,
             "#4d9221"
            ],
            [
             1,
             "#276419"
            ]
           ],
           "sequential": [
            [
             0,
             "#0d0887"
            ],
            [
             0.1111111111111111,
             "#46039f"
            ],
            [
             0.2222222222222222,
             "#7201a8"
            ],
            [
             0.3333333333333333,
             "#9c179e"
            ],
            [
             0.4444444444444444,
             "#bd3786"
            ],
            [
             0.5555555555555556,
             "#d8576b"
            ],
            [
             0.6666666666666666,
             "#ed7953"
            ],
            [
             0.7777777777777778,
             "#fb9f3a"
            ],
            [
             0.8888888888888888,
             "#fdca26"
            ],
            [
             1,
             "#f0f921"
            ]
           ],
           "sequentialminus": [
            [
             0,
             "#0d0887"
            ],
            [
             0.1111111111111111,
             "#46039f"
            ],
            [
             0.2222222222222222,
             "#7201a8"
            ],
            [
             0.3333333333333333,
             "#9c179e"
            ],
            [
             0.4444444444444444,
             "#bd3786"
            ],
            [
             0.5555555555555556,
             "#d8576b"
            ],
            [
             0.6666666666666666,
             "#ed7953"
            ],
            [
             0.7777777777777778,
             "#fb9f3a"
            ],
            [
             0.8888888888888888,
             "#fdca26"
            ],
            [
             1,
             "#f0f921"
            ]
           ]
          },
          "colorway": [
           "#636efa",
           "#EF553B",
           "#00cc96",
           "#ab63fa",
           "#FFA15A",
           "#19d3f3",
           "#FF6692",
           "#B6E880",
           "#FF97FF",
           "#FECB52"
          ],
          "font": {
           "color": "#2a3f5f"
          },
          "geo": {
           "bgcolor": "white",
           "lakecolor": "white",
           "landcolor": "#E5ECF6",
           "showlakes": true,
           "showland": true,
           "subunitcolor": "white"
          },
          "hoverlabel": {
           "align": "left"
          },
          "hovermode": "closest",
          "mapbox": {
           "style": "light"
          },
          "paper_bgcolor": "white",
          "plot_bgcolor": "#E5ECF6",
          "polar": {
           "angularaxis": {
            "gridcolor": "white",
            "linecolor": "white",
            "ticks": ""
           },
           "bgcolor": "#E5ECF6",
           "radialaxis": {
            "gridcolor": "white",
            "linecolor": "white",
            "ticks": ""
           }
          },
          "scene": {
           "xaxis": {
            "backgroundcolor": "#E5ECF6",
            "gridcolor": "white",
            "gridwidth": 2,
            "linecolor": "white",
            "showbackground": true,
            "ticks": "",
            "zerolinecolor": "white"
           },
           "yaxis": {
            "backgroundcolor": "#E5ECF6",
            "gridcolor": "white",
            "gridwidth": 2,
            "linecolor": "white",
            "showbackground": true,
            "ticks": "",
            "zerolinecolor": "white"
           },
           "zaxis": {
            "backgroundcolor": "#E5ECF6",
            "gridcolor": "white",
            "gridwidth": 2,
            "linecolor": "white",
            "showbackground": true,
            "ticks": "",
            "zerolinecolor": "white"
           }
          },
          "shapedefaults": {
           "line": {
            "color": "#2a3f5f"
           }
          },
          "ternary": {
           "aaxis": {
            "gridcolor": "white",
            "linecolor": "white",
            "ticks": ""
           },
           "baxis": {
            "gridcolor": "white",
            "linecolor": "white",
            "ticks": ""
           },
           "bgcolor": "#E5ECF6",
           "caxis": {
            "gridcolor": "white",
            "linecolor": "white",
            "ticks": ""
           }
          },
          "title": {
           "x": 0.05
          },
          "xaxis": {
           "automargin": true,
           "gridcolor": "white",
           "linecolor": "white",
           "ticks": "",
           "title": {
            "standoff": 15
           },
           "zerolinecolor": "white",
           "zerolinewidth": 2
          },
          "yaxis": {
           "automargin": true,
           "gridcolor": "white",
           "linecolor": "white",
           "ticks": "",
           "title": {
            "standoff": 15
           },
           "zerolinecolor": "white",
           "zerolinewidth": 2
          }
         }
        },
        "updatemenus": [
         {
          "active": 0,
          "buttons": [
           {
            "args": [
             {
              "visible": [
               true,
               false
              ]
             },
             {
              "xaxis.title.text": "Group",
              "yaxis.range": [
               0.09,
               0.13
              ]
             }
            ],
            "label": "25th percentile",
            "method": "update"
           },
           {
            "args": [
             {
              "visible": [
               false,
               true
              ]
             },
             {
              "xaxis.title.text": "Group",
              "yaxis.range": [
               0.09,
               0.13
              ]
             }
            ],
            "label": "Median",
            "method": "update"
           },
           {
            "args": [
             {
              "visible": [
               true,
               false
              ]
             },
             {
              "xaxis.title.text": "Group",
              "yaxis.range": [
               0.09,
               0.13
              ]
             }
            ],
            "label": "75th percentile",
            "method": "update"
           },
           {
            "args": [
             {
              "visible": [
               false,
               true
              ]
             },
             {
              "xaxis.title.text": "Group",
              "yaxis.range": [
               0.09,
               0.13
              ]
             }
            ],
            "label": "90th percentile",
            "method": "update"
           }
          ],
          "direction": "right",
          "type": "buttons",
          "x": 1,
          "y": 1
         }
        ],
        "width": 600,
        "xaxis": {
         "linecolor": "white",
         "linewidth": 1,
         "showgrid": false,
         "showline": true,
         "ticktext": [
          "control",
          "treated"
         ],
         "tickvals": [
          0,
          1
         ],
         "title": {
          "text": "Group"
         }
        },
        "yaxis": {
         "dtick": 0.01,
         "linecolor": "white",
         "linewidth": 1,
         "showgrid": true,
         "showline": true,
         "title": {
          "text": "Proportion Influenced"
         }
        }
       }
      }
     },
     "metadata": {},
     "output_type": "display_data"
    }
   ],
   "source": [
    "import pandas as pd\n",
    "import plotly.graph_objects as go\n",
    "from IPython.display import display\n",
    "\n",
    "# Sample data\n",
    "data = pd.read_csv('data/web_data/matching_result_prop_significatif.csv')\n",
    "\n",
    "# Create DataFrame\n",
    "df = pd.DataFrame(data)\n",
    "df['group'] = ['control' if i % 2 == 0 else 'treated' for i in range(len(df))]\n",
    "display(df)\n",
    "\n",
    "control_df = df[df['group']=='control'].reset_index(drop=True)\n",
    "treated_df = df[df['group']=='treated'].reset_index(drop=True)\n",
    "\n",
    "display(control_df)\n",
    "display(treated_df)\n",
    "\n",
    "percentile25 = pd.DataFrame((control_df.loc[0], treated_df.loc[0])).reset_index(drop=True)\n",
    "median= pd.DataFrame((control_df.loc[1], treated_df.loc[1])).reset_index(drop=True)\n",
    "percentile75 = pd.DataFrame((control_df.loc[2], treated_df.loc[2])).reset_index(drop=True)\n",
    "percentile90= pd.DataFrame((control_df.loc[3], treated_df.loc[3])).reset_index(drop=True)\n",
    "\n",
    "# Adjusting traces for vertical orientation\n",
    "trace_pair_1 = go.Scatter(\n",
    "    x=percentile25.index,\n",
    "    y=percentile25['proportion_influenced'],\n",
    "    mode='markers',\n",
    "    name='25th percentile',\n",
    "    marker=dict(color='blue', size=10),\n",
    "    text=percentile25.index,\n",
    "    error_y=dict(type='data', array=percentile25['ci_upper'] - percentile25['proportion_influenced'], color='blue', thickness=1.5)\n",
    ")\n",
    "\n",
    "trace_pair_2 = go.Scatter(\n",
    "    x=median.index,\n",
    "    y=median['proportion_influenced'],\n",
    "    mode='markers',\n",
    "    name='Median',\n",
    "    marker=dict(color='blue', size=10),\n",
    "    text=median.index,\n",
    "    error_y=dict(type='data', array=median['ci_upper'] - median['proportion_influenced'], color='blue', thickness=1.5)\n",
    ")\n",
    "\n",
    "# Adjusting traces for vertical orientation\n",
    "trace_pair_3 = go.Scatter(\n",
    "    x=percentile75.index,\n",
    "    y=percentile75['proportion_influenced'],\n",
    "    mode='markers',\n",
    "    name='75th percentile',\n",
    "    marker=dict(color='blue', size=10),\n",
    "    text=percentile75.index,\n",
    "    error_y=dict(type='data', array=percentile75['ci_upper'] - percentile75['proportion_influenced'], color='blue', thickness=1.5)\n",
    ")\n",
    "\n",
    "# Adjusting traces for vertical orientation\n",
    "trace_pair_4 = go.Scatter(\n",
    "    x=percentile90.index,\n",
    "    y=percentile90['proportion_influenced'],\n",
    "    mode='markers',\n",
    "    name='90th percentile',\n",
    "    marker=dict(color='blue', size=10),\n",
    "    text=percentile90.index,\n",
    "    error_y=dict(type='data', array=percentile90['ci_upper'] - percentile90['proportion_influenced'], color='blue', thickness=1.5)\n",
    ")\n",
    "\n",
    "# Creating the figure with all traces\n",
    "fig = go.Figure(data=[trace_pair_1, trace_pair_2, trace_pair_3, trace_pair_4])\n",
    "\n",
    "# Set the initial visibility to show control data only\n",
    "fig.data[0].visible = True\n",
    "fig.data[1].visible = False\n",
    "\n",
    "# Updating layout with interactive buttons\n",
    "fig.update_layout(\n",
    "    updatemenus=[\n",
    "        dict(\n",
    "            type=\"buttons\",\n",
    "            direction=\"right\",\n",
    "            active=0,  # 'Control' is active initially\n",
    "            x=1,\n",
    "            y=1,\n",
    "            buttons=list([\n",
    "                dict(label=\"25th percentile\",\n",
    "                     method=\"update\",\n",
    "                     args=[{\"visible\": [True, False]},\n",
    "                           {\"yaxis.range\": [0.09 , 0.13],\n",
    "                            \"xaxis.title.text\": 'Group'}]),\n",
    "                dict(label=\"Median\",\n",
    "                     method=\"update\",\n",
    "                     args=[{\"visible\": [False, True]},\n",
    "                           {\"yaxis.range\": [0.09 , 0.13], \n",
    "                            \"xaxis.title.text\": 'Group'}]),\n",
    "                dict(label=\"75th percentile\",\n",
    "                     method=\"update\",\n",
    "                     args=[{\"visible\": [True, False]},\n",
    "                           {\"yaxis.range\": [0.09 , 0.13],\n",
    "                            \"xaxis.title.text\": 'Group'}]),\n",
    "                dict(label=\"90th percentile\",\n",
    "                     method=\"update\",\n",
    "                     args=[{\"visible\": [False, True]},\n",
    "                           {\"yaxis.range\": [0.09 , 0.13], \n",
    "                            \"xaxis.title.text\": 'Group'}]),\n",
    "            ]),\n",
    "        )\n",
    "    ],\n",
    "    xaxis=dict(\n",
    "        title='Group',\n",
    "        showgrid=False,\n",
    "        showline=True,\n",
    "        linewidth=1,\n",
    "        linecolor='white',\n",
    "        tickvals=[0, 1],  # Set tick positions\n",
    "        ticktext=['control', 'treated']  # Set tick labels\n",
    "    ),\n",
    "    yaxis=dict(\n",
    "        title='Proportion Influenced',\n",
    "        showgrid=True,\n",
    "        showline=True,\n",
    "        linewidth=1,\n",
    "        linecolor='white',\n",
    "        dtick=0.01  # Set dtick for finer graduation\n",
    "    ),\n",
    "    width=600  # Set the width of the figure\n",
    ")\n",
    "\n",
    "# Show the figure\n",
    "fig.show(config={'displayModeBar': False})\n"
   ]
  },
  {
   "cell_type": "code",
   "execution_count": 57,
   "metadata": {},
   "outputs": [
    {
     "data": {
      "text/html": [
       "<div>\n",
       "<style scoped>\n",
       "    .dataframe tbody tr th:only-of-type {\n",
       "        vertical-align: middle;\n",
       "    }\n",
       "\n",
       "    .dataframe tbody tr th {\n",
       "        vertical-align: top;\n",
       "    }\n",
       "\n",
       "    .dataframe thead th {\n",
       "        text-align: right;\n",
       "    }\n",
       "</style>\n",
       "<table border=\"1\" class=\"dataframe\">\n",
       "  <thead>\n",
       "    <tr style=\"text-align: right;\">\n",
       "      <th></th>\n",
       "      <th>proportion_influenced</th>\n",
       "      <th>ci_lower</th>\n",
       "      <th>ci_upper</th>\n",
       "      <th>group</th>\n",
       "    </tr>\n",
       "  </thead>\n",
       "  <tbody>\n",
       "    <tr>\n",
       "      <th>0</th>\n",
       "      <td>0.107754</td>\n",
       "      <td>0.104107</td>\n",
       "      <td>0.111401</td>\n",
       "      <td>control</td>\n",
       "    </tr>\n",
       "    <tr>\n",
       "      <th>1</th>\n",
       "      <td>0.117838</td>\n",
       "      <td>0.114045</td>\n",
       "      <td>0.121630</td>\n",
       "      <td>treated</td>\n",
       "    </tr>\n",
       "    <tr>\n",
       "      <th>2</th>\n",
       "      <td>0.112116</td>\n",
       "      <td>0.108776</td>\n",
       "      <td>0.115455</td>\n",
       "      <td>control</td>\n",
       "    </tr>\n",
       "    <tr>\n",
       "      <th>3</th>\n",
       "      <td>0.124220</td>\n",
       "      <td>0.120728</td>\n",
       "      <td>0.127711</td>\n",
       "      <td>treated</td>\n",
       "    </tr>\n",
       "    <tr>\n",
       "      <th>4</th>\n",
       "      <td>0.112347</td>\n",
       "      <td>0.108748</td>\n",
       "      <td>0.115946</td>\n",
       "      <td>control</td>\n",
       "    </tr>\n",
       "    <tr>\n",
       "      <th>5</th>\n",
       "      <td>0.121475</td>\n",
       "      <td>0.117752</td>\n",
       "      <td>0.125198</td>\n",
       "      <td>treated</td>\n",
       "    </tr>\n",
       "    <tr>\n",
       "      <th>6</th>\n",
       "      <td>0.110081</td>\n",
       "      <td>0.105839</td>\n",
       "      <td>0.114322</td>\n",
       "      <td>control</td>\n",
       "    </tr>\n",
       "    <tr>\n",
       "      <th>7</th>\n",
       "      <td>0.130825</td>\n",
       "      <td>0.126256</td>\n",
       "      <td>0.135395</td>\n",
       "      <td>treated</td>\n",
       "    </tr>\n",
       "  </tbody>\n",
       "</table>\n",
       "</div>"
      ],
      "text/plain": [
       "   proportion_influenced  ci_lower  ci_upper    group\n",
       "0               0.107754  0.104107  0.111401  control\n",
       "1               0.117838  0.114045  0.121630  treated\n",
       "2               0.112116  0.108776  0.115455  control\n",
       "3               0.124220  0.120728  0.127711  treated\n",
       "4               0.112347  0.108748  0.115946  control\n",
       "5               0.121475  0.117752  0.125198  treated\n",
       "6               0.110081  0.105839  0.114322  control\n",
       "7               0.130825  0.126256  0.135395  treated"
      ]
     },
     "metadata": {},
     "output_type": "display_data"
    },
    {
     "data": {
      "text/html": [
       "<div>\n",
       "<style scoped>\n",
       "    .dataframe tbody tr th:only-of-type {\n",
       "        vertical-align: middle;\n",
       "    }\n",
       "\n",
       "    .dataframe tbody tr th {\n",
       "        vertical-align: top;\n",
       "    }\n",
       "\n",
       "    .dataframe thead th {\n",
       "        text-align: right;\n",
       "    }\n",
       "</style>\n",
       "<table border=\"1\" class=\"dataframe\">\n",
       "  <thead>\n",
       "    <tr style=\"text-align: right;\">\n",
       "      <th></th>\n",
       "      <th>proportion_influenced</th>\n",
       "      <th>ci_lower</th>\n",
       "      <th>ci_upper</th>\n",
       "      <th>group</th>\n",
       "    </tr>\n",
       "  </thead>\n",
       "  <tbody>\n",
       "    <tr>\n",
       "      <th>0</th>\n",
       "      <td>0.107754</td>\n",
       "      <td>0.104107</td>\n",
       "      <td>0.111401</td>\n",
       "      <td>control</td>\n",
       "    </tr>\n",
       "    <tr>\n",
       "      <th>1</th>\n",
       "      <td>0.112116</td>\n",
       "      <td>0.108776</td>\n",
       "      <td>0.115455</td>\n",
       "      <td>control</td>\n",
       "    </tr>\n",
       "    <tr>\n",
       "      <th>2</th>\n",
       "      <td>0.112347</td>\n",
       "      <td>0.108748</td>\n",
       "      <td>0.115946</td>\n",
       "      <td>control</td>\n",
       "    </tr>\n",
       "    <tr>\n",
       "      <th>3</th>\n",
       "      <td>0.110081</td>\n",
       "      <td>0.105839</td>\n",
       "      <td>0.114322</td>\n",
       "      <td>control</td>\n",
       "    </tr>\n",
       "  </tbody>\n",
       "</table>\n",
       "</div>"
      ],
      "text/plain": [
       "   proportion_influenced  ci_lower  ci_upper    group\n",
       "0               0.107754  0.104107  0.111401  control\n",
       "1               0.112116  0.108776  0.115455  control\n",
       "2               0.112347  0.108748  0.115946  control\n",
       "3               0.110081  0.105839  0.114322  control"
      ]
     },
     "metadata": {},
     "output_type": "display_data"
    },
    {
     "data": {
      "text/html": [
       "<div>\n",
       "<style scoped>\n",
       "    .dataframe tbody tr th:only-of-type {\n",
       "        vertical-align: middle;\n",
       "    }\n",
       "\n",
       "    .dataframe tbody tr th {\n",
       "        vertical-align: top;\n",
       "    }\n",
       "\n",
       "    .dataframe thead th {\n",
       "        text-align: right;\n",
       "    }\n",
       "</style>\n",
       "<table border=\"1\" class=\"dataframe\">\n",
       "  <thead>\n",
       "    <tr style=\"text-align: right;\">\n",
       "      <th></th>\n",
       "      <th>proportion_influenced</th>\n",
       "      <th>ci_lower</th>\n",
       "      <th>ci_upper</th>\n",
       "      <th>group</th>\n",
       "    </tr>\n",
       "  </thead>\n",
       "  <tbody>\n",
       "    <tr>\n",
       "      <th>0</th>\n",
       "      <td>0.117838</td>\n",
       "      <td>0.114045</td>\n",
       "      <td>0.121630</td>\n",
       "      <td>treated</td>\n",
       "    </tr>\n",
       "    <tr>\n",
       "      <th>1</th>\n",
       "      <td>0.124220</td>\n",
       "      <td>0.120728</td>\n",
       "      <td>0.127711</td>\n",
       "      <td>treated</td>\n",
       "    </tr>\n",
       "    <tr>\n",
       "      <th>2</th>\n",
       "      <td>0.121475</td>\n",
       "      <td>0.117752</td>\n",
       "      <td>0.125198</td>\n",
       "      <td>treated</td>\n",
       "    </tr>\n",
       "    <tr>\n",
       "      <th>3</th>\n",
       "      <td>0.130825</td>\n",
       "      <td>0.126256</td>\n",
       "      <td>0.135395</td>\n",
       "      <td>treated</td>\n",
       "    </tr>\n",
       "  </tbody>\n",
       "</table>\n",
       "</div>"
      ],
      "text/plain": [
       "   proportion_influenced  ci_lower  ci_upper    group\n",
       "0               0.117838  0.114045  0.121630  treated\n",
       "1               0.124220  0.120728  0.127711  treated\n",
       "2               0.121475  0.117752  0.125198  treated\n",
       "3               0.130825  0.126256  0.135395  treated"
      ]
     },
     "metadata": {},
     "output_type": "display_data"
    },
    {
     "data": {
      "application/vnd.plotly.v1+json": {
       "config": {
        "displayModeBar": false,
        "plotlyServerURL": "https://plot.ly"
       },
       "data": [
        {
         "error_y": {
          "array": [
           0.0036471873896078005,
           0.003792414695754795
          ],
          "color": "blue",
          "thickness": 1.5,
          "type": "data"
         },
         "marker": {
          "color": "blue",
          "size": 10
         },
         "mode": "markers",
         "name": "25th percentile",
         "text": [
          0,
          1
         ],
         "type": "scatter",
         "visible": true,
         "x": [
          0,
          1
         ],
         "y": [
          0.1077538084776893,
          0.1178377210357618
         ]
        },
        {
         "error_y": {
          "array": [
           0.003339761500031499,
           0.003491378761161096
          ],
          "color": "orange",
          "thickness": 1.5,
          "type": "data"
         },
         "marker": {
          "color": "orange",
          "size": 10
         },
         "mode": "markers",
         "name": "Median",
         "text": [
          0,
          1
         ],
         "type": "scatter",
         "visible": false,
         "x": [
          0,
          1
         ],
         "y": [
          0.1121157323688969,
          0.1242197981683485
         ]
        },
        {
         "error_y": {
          "array": [
           0.0035989961994315894,
           0.003723061200158889
          ],
          "color": "green",
          "thickness": 1.5,
          "type": "data"
         },
         "marker": {
          "color": "green",
          "size": 10
         },
         "mode": "markers",
         "name": "75th percentile",
         "text": [
          0,
          1
         ],
         "type": "scatter",
         "visible": false,
         "x": [
          0,
          1
         ],
         "y": [
          0.1123470146730678,
          0.1214754209209547
         ]
        },
        {
         "error_y": {
          "array": [
           0.004241371108857403,
           0.004569565447168605
          ],
          "color": "red",
          "thickness": 1.5,
          "type": "data"
         },
         "marker": {
          "color": "red",
          "size": 10
         },
         "mode": "markers",
         "name": "90th percentile",
         "text": [
          0,
          1
         ],
         "type": "scatter",
         "visible": false,
         "x": [
          0,
          1
         ],
         "y": [
          0.1100807800774341,
          0.1308254863534247
         ]
        }
       ],
       "layout": {
        "template": {
         "data": {
          "bar": [
           {
            "error_x": {
             "color": "#2a3f5f"
            },
            "error_y": {
             "color": "#2a3f5f"
            },
            "marker": {
             "line": {
              "color": "#E5ECF6",
              "width": 0.5
             },
             "pattern": {
              "fillmode": "overlay",
              "size": 10,
              "solidity": 0.2
             }
            },
            "type": "bar"
           }
          ],
          "barpolar": [
           {
            "marker": {
             "line": {
              "color": "#E5ECF6",
              "width": 0.5
             },
             "pattern": {
              "fillmode": "overlay",
              "size": 10,
              "solidity": 0.2
             }
            },
            "type": "barpolar"
           }
          ],
          "carpet": [
           {
            "aaxis": {
             "endlinecolor": "#2a3f5f",
             "gridcolor": "white",
             "linecolor": "white",
             "minorgridcolor": "white",
             "startlinecolor": "#2a3f5f"
            },
            "baxis": {
             "endlinecolor": "#2a3f5f",
             "gridcolor": "white",
             "linecolor": "white",
             "minorgridcolor": "white",
             "startlinecolor": "#2a3f5f"
            },
            "type": "carpet"
           }
          ],
          "choropleth": [
           {
            "colorbar": {
             "outlinewidth": 0,
             "ticks": ""
            },
            "type": "choropleth"
           }
          ],
          "contour": [
           {
            "colorbar": {
             "outlinewidth": 0,
             "ticks": ""
            },
            "colorscale": [
             [
              0,
              "#0d0887"
             ],
             [
              0.1111111111111111,
              "#46039f"
             ],
             [
              0.2222222222222222,
              "#7201a8"
             ],
             [
              0.3333333333333333,
              "#9c179e"
             ],
             [
              0.4444444444444444,
              "#bd3786"
             ],
             [
              0.5555555555555556,
              "#d8576b"
             ],
             [
              0.6666666666666666,
              "#ed7953"
             ],
             [
              0.7777777777777778,
              "#fb9f3a"
             ],
             [
              0.8888888888888888,
              "#fdca26"
             ],
             [
              1,
              "#f0f921"
             ]
            ],
            "type": "contour"
           }
          ],
          "contourcarpet": [
           {
            "colorbar": {
             "outlinewidth": 0,
             "ticks": ""
            },
            "type": "contourcarpet"
           }
          ],
          "heatmap": [
           {
            "colorbar": {
             "outlinewidth": 0,
             "ticks": ""
            },
            "colorscale": [
             [
              0,
              "#0d0887"
             ],
             [
              0.1111111111111111,
              "#46039f"
             ],
             [
              0.2222222222222222,
              "#7201a8"
             ],
             [
              0.3333333333333333,
              "#9c179e"
             ],
             [
              0.4444444444444444,
              "#bd3786"
             ],
             [
              0.5555555555555556,
              "#d8576b"
             ],
             [
              0.6666666666666666,
              "#ed7953"
             ],
             [
              0.7777777777777778,
              "#fb9f3a"
             ],
             [
              0.8888888888888888,
              "#fdca26"
             ],
             [
              1,
              "#f0f921"
             ]
            ],
            "type": "heatmap"
           }
          ],
          "heatmapgl": [
           {
            "colorbar": {
             "outlinewidth": 0,
             "ticks": ""
            },
            "colorscale": [
             [
              0,
              "#0d0887"
             ],
             [
              0.1111111111111111,
              "#46039f"
             ],
             [
              0.2222222222222222,
              "#7201a8"
             ],
             [
              0.3333333333333333,
              "#9c179e"
             ],
             [
              0.4444444444444444,
              "#bd3786"
             ],
             [
              0.5555555555555556,
              "#d8576b"
             ],
             [
              0.6666666666666666,
              "#ed7953"
             ],
             [
              0.7777777777777778,
              "#fb9f3a"
             ],
             [
              0.8888888888888888,
              "#fdca26"
             ],
             [
              1,
              "#f0f921"
             ]
            ],
            "type": "heatmapgl"
           }
          ],
          "histogram": [
           {
            "marker": {
             "pattern": {
              "fillmode": "overlay",
              "size": 10,
              "solidity": 0.2
             }
            },
            "type": "histogram"
           }
          ],
          "histogram2d": [
           {
            "colorbar": {
             "outlinewidth": 0,
             "ticks": ""
            },
            "colorscale": [
             [
              0,
              "#0d0887"
             ],
             [
              0.1111111111111111,
              "#46039f"
             ],
             [
              0.2222222222222222,
              "#7201a8"
             ],
             [
              0.3333333333333333,
              "#9c179e"
             ],
             [
              0.4444444444444444,
              "#bd3786"
             ],
             [
              0.5555555555555556,
              "#d8576b"
             ],
             [
              0.6666666666666666,
              "#ed7953"
             ],
             [
              0.7777777777777778,
              "#fb9f3a"
             ],
             [
              0.8888888888888888,
              "#fdca26"
             ],
             [
              1,
              "#f0f921"
             ]
            ],
            "type": "histogram2d"
           }
          ],
          "histogram2dcontour": [
           {
            "colorbar": {
             "outlinewidth": 0,
             "ticks": ""
            },
            "colorscale": [
             [
              0,
              "#0d0887"
             ],
             [
              0.1111111111111111,
              "#46039f"
             ],
             [
              0.2222222222222222,
              "#7201a8"
             ],
             [
              0.3333333333333333,
              "#9c179e"
             ],
             [
              0.4444444444444444,
              "#bd3786"
             ],
             [
              0.5555555555555556,
              "#d8576b"
             ],
             [
              0.6666666666666666,
              "#ed7953"
             ],
             [
              0.7777777777777778,
              "#fb9f3a"
             ],
             [
              0.8888888888888888,
              "#fdca26"
             ],
             [
              1,
              "#f0f921"
             ]
            ],
            "type": "histogram2dcontour"
           }
          ],
          "mesh3d": [
           {
            "colorbar": {
             "outlinewidth": 0,
             "ticks": ""
            },
            "type": "mesh3d"
           }
          ],
          "parcoords": [
           {
            "line": {
             "colorbar": {
              "outlinewidth": 0,
              "ticks": ""
             }
            },
            "type": "parcoords"
           }
          ],
          "pie": [
           {
            "automargin": true,
            "type": "pie"
           }
          ],
          "scatter": [
           {
            "fillpattern": {
             "fillmode": "overlay",
             "size": 10,
             "solidity": 0.2
            },
            "type": "scatter"
           }
          ],
          "scatter3d": [
           {
            "line": {
             "colorbar": {
              "outlinewidth": 0,
              "ticks": ""
             }
            },
            "marker": {
             "colorbar": {
              "outlinewidth": 0,
              "ticks": ""
             }
            },
            "type": "scatter3d"
           }
          ],
          "scattercarpet": [
           {
            "marker": {
             "colorbar": {
              "outlinewidth": 0,
              "ticks": ""
             }
            },
            "type": "scattercarpet"
           }
          ],
          "scattergeo": [
           {
            "marker": {
             "colorbar": {
              "outlinewidth": 0,
              "ticks": ""
             }
            },
            "type": "scattergeo"
           }
          ],
          "scattergl": [
           {
            "marker": {
             "colorbar": {
              "outlinewidth": 0,
              "ticks": ""
             }
            },
            "type": "scattergl"
           }
          ],
          "scattermapbox": [
           {
            "marker": {
             "colorbar": {
              "outlinewidth": 0,
              "ticks": ""
             }
            },
            "type": "scattermapbox"
           }
          ],
          "scatterpolar": [
           {
            "marker": {
             "colorbar": {
              "outlinewidth": 0,
              "ticks": ""
             }
            },
            "type": "scatterpolar"
           }
          ],
          "scatterpolargl": [
           {
            "marker": {
             "colorbar": {
              "outlinewidth": 0,
              "ticks": ""
             }
            },
            "type": "scatterpolargl"
           }
          ],
          "scatterternary": [
           {
            "marker": {
             "colorbar": {
              "outlinewidth": 0,
              "ticks": ""
             }
            },
            "type": "scatterternary"
           }
          ],
          "surface": [
           {
            "colorbar": {
             "outlinewidth": 0,
             "ticks": ""
            },
            "colorscale": [
             [
              0,
              "#0d0887"
             ],
             [
              0.1111111111111111,
              "#46039f"
             ],
             [
              0.2222222222222222,
              "#7201a8"
             ],
             [
              0.3333333333333333,
              "#9c179e"
             ],
             [
              0.4444444444444444,
              "#bd3786"
             ],
             [
              0.5555555555555556,
              "#d8576b"
             ],
             [
              0.6666666666666666,
              "#ed7953"
             ],
             [
              0.7777777777777778,
              "#fb9f3a"
             ],
             [
              0.8888888888888888,
              "#fdca26"
             ],
             [
              1,
              "#f0f921"
             ]
            ],
            "type": "surface"
           }
          ],
          "table": [
           {
            "cells": {
             "fill": {
              "color": "#EBF0F8"
             },
             "line": {
              "color": "white"
             }
            },
            "header": {
             "fill": {
              "color": "#C8D4E3"
             },
             "line": {
              "color": "white"
             }
            },
            "type": "table"
           }
          ]
         },
         "layout": {
          "annotationdefaults": {
           "arrowcolor": "#2a3f5f",
           "arrowhead": 0,
           "arrowwidth": 1
          },
          "autotypenumbers": "strict",
          "coloraxis": {
           "colorbar": {
            "outlinewidth": 0,
            "ticks": ""
           }
          },
          "colorscale": {
           "diverging": [
            [
             0,
             "#8e0152"
            ],
            [
             0.1,
             "#c51b7d"
            ],
            [
             0.2,
             "#de77ae"
            ],
            [
             0.3,
             "#f1b6da"
            ],
            [
             0.4,
             "#fde0ef"
            ],
            [
             0.5,
             "#f7f7f7"
            ],
            [
             0.6,
             "#e6f5d0"
            ],
            [
             0.7,
             "#b8e186"
            ],
            [
             0.8,
             "#7fbc41"
            ],
            [
             0.9,
             "#4d9221"
            ],
            [
             1,
             "#276419"
            ]
           ],
           "sequential": [
            [
             0,
             "#0d0887"
            ],
            [
             0.1111111111111111,
             "#46039f"
            ],
            [
             0.2222222222222222,
             "#7201a8"
            ],
            [
             0.3333333333333333,
             "#9c179e"
            ],
            [
             0.4444444444444444,
             "#bd3786"
            ],
            [
             0.5555555555555556,
             "#d8576b"
            ],
            [
             0.6666666666666666,
             "#ed7953"
            ],
            [
             0.7777777777777778,
             "#fb9f3a"
            ],
            [
             0.8888888888888888,
             "#fdca26"
            ],
            [
             1,
             "#f0f921"
            ]
           ],
           "sequentialminus": [
            [
             0,
             "#0d0887"
            ],
            [
             0.1111111111111111,
             "#46039f"
            ],
            [
             0.2222222222222222,
             "#7201a8"
            ],
            [
             0.3333333333333333,
             "#9c179e"
            ],
            [
             0.4444444444444444,
             "#bd3786"
            ],
            [
             0.5555555555555556,
             "#d8576b"
            ],
            [
             0.6666666666666666,
             "#ed7953"
            ],
            [
             0.7777777777777778,
             "#fb9f3a"
            ],
            [
             0.8888888888888888,
             "#fdca26"
            ],
            [
             1,
             "#f0f921"
            ]
           ]
          },
          "colorway": [
           "#636efa",
           "#EF553B",
           "#00cc96",
           "#ab63fa",
           "#FFA15A",
           "#19d3f3",
           "#FF6692",
           "#B6E880",
           "#FF97FF",
           "#FECB52"
          ],
          "font": {
           "color": "#2a3f5f"
          },
          "geo": {
           "bgcolor": "white",
           "lakecolor": "white",
           "landcolor": "#E5ECF6",
           "showlakes": true,
           "showland": true,
           "subunitcolor": "white"
          },
          "hoverlabel": {
           "align": "left"
          },
          "hovermode": "closest",
          "mapbox": {
           "style": "light"
          },
          "paper_bgcolor": "white",
          "plot_bgcolor": "#E5ECF6",
          "polar": {
           "angularaxis": {
            "gridcolor": "white",
            "linecolor": "white",
            "ticks": ""
           },
           "bgcolor": "#E5ECF6",
           "radialaxis": {
            "gridcolor": "white",
            "linecolor": "white",
            "ticks": ""
           }
          },
          "scene": {
           "xaxis": {
            "backgroundcolor": "#E5ECF6",
            "gridcolor": "white",
            "gridwidth": 2,
            "linecolor": "white",
            "showbackground": true,
            "ticks": "",
            "zerolinecolor": "white"
           },
           "yaxis": {
            "backgroundcolor": "#E5ECF6",
            "gridcolor": "white",
            "gridwidth": 2,
            "linecolor": "white",
            "showbackground": true,
            "ticks": "",
            "zerolinecolor": "white"
           },
           "zaxis": {
            "backgroundcolor": "#E5ECF6",
            "gridcolor": "white",
            "gridwidth": 2,
            "linecolor": "white",
            "showbackground": true,
            "ticks": "",
            "zerolinecolor": "white"
           }
          },
          "shapedefaults": {
           "line": {
            "color": "#2a3f5f"
           }
          },
          "ternary": {
           "aaxis": {
            "gridcolor": "white",
            "linecolor": "white",
            "ticks": ""
           },
           "baxis": {
            "gridcolor": "white",
            "linecolor": "white",
            "ticks": ""
           },
           "bgcolor": "#E5ECF6",
           "caxis": {
            "gridcolor": "white",
            "linecolor": "white",
            "ticks": ""
           }
          },
          "title": {
           "x": 0.05
          },
          "xaxis": {
           "automargin": true,
           "gridcolor": "white",
           "linecolor": "white",
           "ticks": "",
           "title": {
            "standoff": 15
           },
           "zerolinecolor": "white",
           "zerolinewidth": 2
          },
          "yaxis": {
           "automargin": true,
           "gridcolor": "white",
           "linecolor": "white",
           "ticks": "",
           "title": {
            "standoff": 15
           },
           "zerolinecolor": "white",
           "zerolinewidth": 2
          }
         }
        },
        "updatemenus": [
         {
          "active": 0,
          "buttons": [
           {
            "args": [
             {
              "visible": [
               true,
               false,
               false,
               false
              ]
             },
             {
              "xaxis.title.text": "Group",
              "yaxis.range": [
               0.1,
               0.15
              ]
             }
            ],
            "label": "25th percentile",
            "method": "update"
           },
           {
            "args": [
             {
              "visible": [
               false,
               true,
               false,
               false
              ]
             },
             {
              "xaxis.title.text": "Group",
              "yaxis.range": [
               0.1,
               0.15
              ]
             }
            ],
            "label": "Median",
            "method": "update"
           },
           {
            "args": [
             {
              "visible": [
               false,
               false,
               true,
               false
              ]
             },
             {
              "xaxis.title.text": "Group",
              "yaxis.range": [
               0.1,
               0.15
              ]
             }
            ],
            "label": "75th percentile",
            "method": "update"
           },
           {
            "args": [
             {
              "visible": [
               false,
               false,
               false,
               true
              ]
             },
             {
              "xaxis.title.text": "Group",
              "yaxis.range": [
               0.1,
               0.15
              ]
             }
            ],
            "label": "90th percentile",
            "method": "update"
           }
          ],
          "direction": "right",
          "type": "buttons",
          "x": 1,
          "y": 1.2
         }
        ],
        "width": 550,
        "xaxis": {
         "linecolor": "white",
         "linewidth": 1,
         "showgrid": true,
         "showline": true,
         "ticktext": [
          "control",
          "treated"
         ],
         "tickvals": [
          0,
          1
         ],
         "title": {
          "text": "Group"
         }
        },
        "yaxis": {
         "dtick": 0.005,
         "linecolor": "white",
         "linewidth": 1,
         "showgrid": true,
         "showline": true,
         "title": {
          "text": "Proportion Influenced"
         }
        }
       }
      }
     },
     "metadata": {},
     "output_type": "display_data"
    }
   ],
   "source": [
    "import pandas as pd\n",
    "import plotly.graph_objects as go\n",
    "from IPython.display import display\n",
    "\n",
    "# Sample data\n",
    "data = pd.read_csv('data/web_data/matching_result_prop_significatif.csv')\n",
    "\n",
    "# Create DataFrame\n",
    "df = pd.DataFrame(data)\n",
    "df['group'] = ['control' if i % 2 == 0 else 'treated' for i in range(len(df))]\n",
    "display(df)\n",
    "\n",
    "control_df = df[df['group']=='control'].reset_index(drop=True)\n",
    "treated_df = df[df['group']=='treated'].reset_index(drop=True)\n",
    "\n",
    "display(control_df)\n",
    "display(treated_df)\n",
    "\n",
    "percentile25 = pd.DataFrame((control_df.loc[0], treated_df.loc[0])).reset_index(drop=True)\n",
    "median= pd.DataFrame((control_df.loc[1], treated_df.loc[1])).reset_index(drop=True)\n",
    "percentile75 = pd.DataFrame((control_df.loc[2], treated_df.loc[2])).reset_index(drop=True)\n",
    "percentile90= pd.DataFrame((control_df.loc[3], treated_df.loc[3])).reset_index(drop=True)\n",
    "\n",
    "# Adjusting traces for vertical orientation\n",
    "trace_pair_1 = go.Scatter(\n",
    "    x=percentile25.index,\n",
    "    y=percentile25['proportion_influenced'],\n",
    "    mode='markers',\n",
    "    name='25th percentile',\n",
    "    marker=dict(color='blue', size=10),\n",
    "    text=percentile25.index,\n",
    "    error_y=dict(type='data', array=percentile25['ci_upper'] - percentile25['proportion_influenced'], color='blue', thickness=1.5)\n",
    ")\n",
    "\n",
    "trace_pair_2 = go.Scatter(\n",
    "    x=median.index,\n",
    "    y=median['proportion_influenced'],\n",
    "    mode='markers',\n",
    "    name='Median',\n",
    "    marker=dict(color='orange', size=10),\n",
    "    text=median.index,\n",
    "    error_y=dict(type='data', array=median['ci_upper'] - median['proportion_influenced'], color='orange', thickness=1.5)\n",
    ")\n",
    "\n",
    "trace_pair_3 = go.Scatter(\n",
    "    x=percentile75.index,\n",
    "    y=percentile75['proportion_influenced'],\n",
    "    mode='markers',\n",
    "    name='75th percentile',\n",
    "    marker=dict(color='green', size=10),\n",
    "    text=percentile75.index,\n",
    "    error_y=dict(type='data', array=percentile75['ci_upper'] - percentile75['proportion_influenced'], color='green', thickness=1.5)\n",
    ")\n",
    "\n",
    "trace_pair_4 = go.Scatter(\n",
    "    x=percentile90.index,\n",
    "    y=percentile90['proportion_influenced'],\n",
    "    mode='markers',\n",
    "    name='90th percentile',\n",
    "    marker=dict(color='red', size=10),\n",
    "    text=percentile90.index,\n",
    "    error_y=dict(type='data', array=percentile90['ci_upper'] - percentile90['proportion_influenced'], color='red', thickness=1.5)\n",
    ")\n",
    "\n",
    "# Creating the figure with all traces\n",
    "fig = go.Figure(data=[trace_pair_1, trace_pair_2, trace_pair_3, trace_pair_4])\n",
    "\n",
    "# Set the initial visibility to show control data only\n",
    "fig.data[0].visible = True\n",
    "fig.data[1].visible = False\n",
    "fig.data[2].visible = False\n",
    "fig.data[3].visible = False\n",
    "\n",
    "# Updating layout with interactive buttons\n",
    "fig.update_layout(\n",
    "    updatemenus=[\n",
    "        dict(\n",
    "            type=\"buttons\",\n",
    "            direction=\"right\",\n",
    "            active=0,  # '25th percentile' is active initially\n",
    "            x=1,\n",
    "            y=1.2,\n",
    "            buttons=list([\n",
    "                dict(label=\"25th percentile\",\n",
    "                     method=\"update\",\n",
    "                     args=[{\"visible\": [True, False, False, False]},\n",
    "                           {\"yaxis.range\":  [0.1, 0.15],\n",
    "                            \"xaxis.title.text\": 'Group'}]),\n",
    "                dict(label=\"Median\",\n",
    "                     method=\"update\",\n",
    "                     args=[{\"visible\": [False, True, False, False]},\n",
    "                           {\"yaxis.range\":  [0.1, 0.15],\n",
    "                            \"xaxis.title.text\": 'Group'}]),\n",
    "                dict(label=\"75th percentile\",\n",
    "                     method=\"update\",\n",
    "                     args=[{\"visible\": [False, False, True, False]},\n",
    "                           {\"yaxis.range\":  [0.1, 0.15],\n",
    "                            \"xaxis.title.text\": 'Group'}]),\n",
    "                dict(label=\"90th percentile\",\n",
    "                     method=\"update\",\n",
    "                     args=[{\"visible\": [False, False, False, True]},\n",
    "                           {\"yaxis.range\": [0.1, 0.15],\n",
    "                            \"xaxis.title.text\": 'Group'}]),\n",
    "            ]),\n",
    "        )\n",
    "    ],\n",
    "    xaxis=dict(\n",
    "        title='Group',\n",
    "        showgrid=True,\n",
    "        showline=True,\n",
    "        linewidth=1,\n",
    "        linecolor='white',\n",
    "        tickvals=[0, 1],  # Set tick positions\n",
    "        ticktext=['control', 'treated']  # Set tick labels\n",
    "    ),\n",
    "    yaxis=dict(\n",
    "        title='Proportion Influenced',\n",
    "        showgrid=True,\n",
    "        showline=True,\n",
    "        linewidth=1,\n",
    "        linecolor='white',\n",
    "        dtick=0.005  # Set dtick for finer graduation\n",
    "    ),\n",
    "    width=550  # Set the width of the figure\n",
    ")\n",
    "\n",
    "# Show the figure\n",
    "fig.show(config={'displayModeBar': False})\n"
   ]
  },
  {
   "cell_type": "code",
   "execution_count": 60,
   "metadata": {},
   "outputs": [
    {
     "data": {
      "text/html": [
       "<div>\n",
       "<style scoped>\n",
       "    .dataframe tbody tr th:only-of-type {\n",
       "        vertical-align: middle;\n",
       "    }\n",
       "\n",
       "    .dataframe tbody tr th {\n",
       "        vertical-align: top;\n",
       "    }\n",
       "\n",
       "    .dataframe thead th {\n",
       "        text-align: right;\n",
       "    }\n",
       "</style>\n",
       "<table border=\"1\" class=\"dataframe\">\n",
       "  <thead>\n",
       "    <tr style=\"text-align: right;\">\n",
       "      <th></th>\n",
       "      <th>proportion_influenced</th>\n",
       "      <th>ci_lower</th>\n",
       "      <th>ci_upper</th>\n",
       "      <th>group</th>\n",
       "    </tr>\n",
       "  </thead>\n",
       "  <tbody>\n",
       "    <tr>\n",
       "      <th>0</th>\n",
       "      <td>0.107754</td>\n",
       "      <td>0.104107</td>\n",
       "      <td>0.111401</td>\n",
       "      <td>control</td>\n",
       "    </tr>\n",
       "    <tr>\n",
       "      <th>1</th>\n",
       "      <td>0.117838</td>\n",
       "      <td>0.114045</td>\n",
       "      <td>0.121630</td>\n",
       "      <td>treated</td>\n",
       "    </tr>\n",
       "    <tr>\n",
       "      <th>2</th>\n",
       "      <td>0.112116</td>\n",
       "      <td>0.108776</td>\n",
       "      <td>0.115455</td>\n",
       "      <td>control</td>\n",
       "    </tr>\n",
       "    <tr>\n",
       "      <th>3</th>\n",
       "      <td>0.124220</td>\n",
       "      <td>0.120728</td>\n",
       "      <td>0.127711</td>\n",
       "      <td>treated</td>\n",
       "    </tr>\n",
       "    <tr>\n",
       "      <th>4</th>\n",
       "      <td>0.112347</td>\n",
       "      <td>0.108748</td>\n",
       "      <td>0.115946</td>\n",
       "      <td>control</td>\n",
       "    </tr>\n",
       "    <tr>\n",
       "      <th>5</th>\n",
       "      <td>0.121475</td>\n",
       "      <td>0.117752</td>\n",
       "      <td>0.125198</td>\n",
       "      <td>treated</td>\n",
       "    </tr>\n",
       "    <tr>\n",
       "      <th>6</th>\n",
       "      <td>0.110081</td>\n",
       "      <td>0.105839</td>\n",
       "      <td>0.114322</td>\n",
       "      <td>control</td>\n",
       "    </tr>\n",
       "    <tr>\n",
       "      <th>7</th>\n",
       "      <td>0.130825</td>\n",
       "      <td>0.126256</td>\n",
       "      <td>0.135395</td>\n",
       "      <td>treated</td>\n",
       "    </tr>\n",
       "  </tbody>\n",
       "</table>\n",
       "</div>"
      ],
      "text/plain": [
       "   proportion_influenced  ci_lower  ci_upper    group\n",
       "0               0.107754  0.104107  0.111401  control\n",
       "1               0.117838  0.114045  0.121630  treated\n",
       "2               0.112116  0.108776  0.115455  control\n",
       "3               0.124220  0.120728  0.127711  treated\n",
       "4               0.112347  0.108748  0.115946  control\n",
       "5               0.121475  0.117752  0.125198  treated\n",
       "6               0.110081  0.105839  0.114322  control\n",
       "7               0.130825  0.126256  0.135395  treated"
      ]
     },
     "metadata": {},
     "output_type": "display_data"
    },
    {
     "data": {
      "text/html": [
       "<div>\n",
       "<style scoped>\n",
       "    .dataframe tbody tr th:only-of-type {\n",
       "        vertical-align: middle;\n",
       "    }\n",
       "\n",
       "    .dataframe tbody tr th {\n",
       "        vertical-align: top;\n",
       "    }\n",
       "\n",
       "    .dataframe thead th {\n",
       "        text-align: right;\n",
       "    }\n",
       "</style>\n",
       "<table border=\"1\" class=\"dataframe\">\n",
       "  <thead>\n",
       "    <tr style=\"text-align: right;\">\n",
       "      <th></th>\n",
       "      <th>proportion_influenced</th>\n",
       "      <th>ci_lower</th>\n",
       "      <th>ci_upper</th>\n",
       "      <th>group</th>\n",
       "    </tr>\n",
       "  </thead>\n",
       "  <tbody>\n",
       "    <tr>\n",
       "      <th>0</th>\n",
       "      <td>0.107754</td>\n",
       "      <td>0.104107</td>\n",
       "      <td>0.111401</td>\n",
       "      <td>control</td>\n",
       "    </tr>\n",
       "    <tr>\n",
       "      <th>1</th>\n",
       "      <td>0.112116</td>\n",
       "      <td>0.108776</td>\n",
       "      <td>0.115455</td>\n",
       "      <td>control</td>\n",
       "    </tr>\n",
       "    <tr>\n",
       "      <th>2</th>\n",
       "      <td>0.112347</td>\n",
       "      <td>0.108748</td>\n",
       "      <td>0.115946</td>\n",
       "      <td>control</td>\n",
       "    </tr>\n",
       "    <tr>\n",
       "      <th>3</th>\n",
       "      <td>0.110081</td>\n",
       "      <td>0.105839</td>\n",
       "      <td>0.114322</td>\n",
       "      <td>control</td>\n",
       "    </tr>\n",
       "  </tbody>\n",
       "</table>\n",
       "</div>"
      ],
      "text/plain": [
       "   proportion_influenced  ci_lower  ci_upper    group\n",
       "0               0.107754  0.104107  0.111401  control\n",
       "1               0.112116  0.108776  0.115455  control\n",
       "2               0.112347  0.108748  0.115946  control\n",
       "3               0.110081  0.105839  0.114322  control"
      ]
     },
     "metadata": {},
     "output_type": "display_data"
    },
    {
     "data": {
      "text/html": [
       "<div>\n",
       "<style scoped>\n",
       "    .dataframe tbody tr th:only-of-type {\n",
       "        vertical-align: middle;\n",
       "    }\n",
       "\n",
       "    .dataframe tbody tr th {\n",
       "        vertical-align: top;\n",
       "    }\n",
       "\n",
       "    .dataframe thead th {\n",
       "        text-align: right;\n",
       "    }\n",
       "</style>\n",
       "<table border=\"1\" class=\"dataframe\">\n",
       "  <thead>\n",
       "    <tr style=\"text-align: right;\">\n",
       "      <th></th>\n",
       "      <th>proportion_influenced</th>\n",
       "      <th>ci_lower</th>\n",
       "      <th>ci_upper</th>\n",
       "      <th>group</th>\n",
       "    </tr>\n",
       "  </thead>\n",
       "  <tbody>\n",
       "    <tr>\n",
       "      <th>0</th>\n",
       "      <td>0.117838</td>\n",
       "      <td>0.114045</td>\n",
       "      <td>0.121630</td>\n",
       "      <td>treated</td>\n",
       "    </tr>\n",
       "    <tr>\n",
       "      <th>1</th>\n",
       "      <td>0.124220</td>\n",
       "      <td>0.120728</td>\n",
       "      <td>0.127711</td>\n",
       "      <td>treated</td>\n",
       "    </tr>\n",
       "    <tr>\n",
       "      <th>2</th>\n",
       "      <td>0.121475</td>\n",
       "      <td>0.117752</td>\n",
       "      <td>0.125198</td>\n",
       "      <td>treated</td>\n",
       "    </tr>\n",
       "    <tr>\n",
       "      <th>3</th>\n",
       "      <td>0.130825</td>\n",
       "      <td>0.126256</td>\n",
       "      <td>0.135395</td>\n",
       "      <td>treated</td>\n",
       "    </tr>\n",
       "  </tbody>\n",
       "</table>\n",
       "</div>"
      ],
      "text/plain": [
       "   proportion_influenced  ci_lower  ci_upper    group\n",
       "0               0.117838  0.114045  0.121630  treated\n",
       "1               0.124220  0.120728  0.127711  treated\n",
       "2               0.121475  0.117752  0.125198  treated\n",
       "3               0.130825  0.126256  0.135395  treated"
      ]
     },
     "metadata": {},
     "output_type": "display_data"
    },
    {
     "data": {
      "application/vnd.plotly.v1+json": {
       "config": {
        "displayModeBar": false,
        "plotlyServerURL": "https://plot.ly"
       },
       "data": [
        {
         "error_y": {
          "array": [
           0.0036471873896078005,
           0.003792414695754795
          ],
          "color": "blue",
          "thickness": 1.5,
          "type": "data"
         },
         "marker": {
          "color": "blue",
          "size": 10
         },
         "mode": "markers",
         "name": "25th percentile",
         "text": [
          0,
          1
         ],
         "type": "scatter",
         "visible": true,
         "x": [
          0,
          1
         ],
         "y": [
          0.1077538084776893,
          0.1178377210357618
         ]
        },
        {
         "error_y": {
          "array": [
           0.003339761500031499,
           0.003491378761161096
          ],
          "color": "orange",
          "thickness": 1.5,
          "type": "data"
         },
         "marker": {
          "color": "orange",
          "size": 10
         },
         "mode": "markers",
         "name": "Median",
         "text": [
          0,
          1
         ],
         "type": "scatter",
         "visible": false,
         "x": [
          0,
          1
         ],
         "y": [
          0.1121157323688969,
          0.1242197981683485
         ]
        },
        {
         "error_y": {
          "array": [
           0.0035989961994315894,
           0.003723061200158889
          ],
          "color": "green",
          "thickness": 1.5,
          "type": "data"
         },
         "marker": {
          "color": "green",
          "size": 10
         },
         "mode": "markers",
         "name": "75th percentile",
         "text": [
          0,
          1
         ],
         "type": "scatter",
         "visible": false,
         "x": [
          0,
          1
         ],
         "y": [
          0.1123470146730678,
          0.1214754209209547
         ]
        },
        {
         "error_y": {
          "array": [
           0.004241371108857403,
           0.004569565447168605
          ],
          "color": "red",
          "thickness": 1.5,
          "type": "data"
         },
         "marker": {
          "color": "red",
          "size": 10
         },
         "mode": "markers",
         "name": "90th percentile",
         "text": [
          0,
          1
         ],
         "type": "scatter",
         "visible": false,
         "x": [
          0,
          1
         ],
         "y": [
          0.1100807800774341,
          0.1308254863534247
         ]
        }
       ],
       "layout": {
        "legend": {
         "x": 1.1,
         "y": 1.05
        },
        "template": {
         "data": {
          "bar": [
           {
            "error_x": {
             "color": "#2a3f5f"
            },
            "error_y": {
             "color": "#2a3f5f"
            },
            "marker": {
             "line": {
              "color": "#E5ECF6",
              "width": 0.5
             },
             "pattern": {
              "fillmode": "overlay",
              "size": 10,
              "solidity": 0.2
             }
            },
            "type": "bar"
           }
          ],
          "barpolar": [
           {
            "marker": {
             "line": {
              "color": "#E5ECF6",
              "width": 0.5
             },
             "pattern": {
              "fillmode": "overlay",
              "size": 10,
              "solidity": 0.2
             }
            },
            "type": "barpolar"
           }
          ],
          "carpet": [
           {
            "aaxis": {
             "endlinecolor": "#2a3f5f",
             "gridcolor": "white",
             "linecolor": "white",
             "minorgridcolor": "white",
             "startlinecolor": "#2a3f5f"
            },
            "baxis": {
             "endlinecolor": "#2a3f5f",
             "gridcolor": "white",
             "linecolor": "white",
             "minorgridcolor": "white",
             "startlinecolor": "#2a3f5f"
            },
            "type": "carpet"
           }
          ],
          "choropleth": [
           {
            "colorbar": {
             "outlinewidth": 0,
             "ticks": ""
            },
            "type": "choropleth"
           }
          ],
          "contour": [
           {
            "colorbar": {
             "outlinewidth": 0,
             "ticks": ""
            },
            "colorscale": [
             [
              0,
              "#0d0887"
             ],
             [
              0.1111111111111111,
              "#46039f"
             ],
             [
              0.2222222222222222,
              "#7201a8"
             ],
             [
              0.3333333333333333,
              "#9c179e"
             ],
             [
              0.4444444444444444,
              "#bd3786"
             ],
             [
              0.5555555555555556,
              "#d8576b"
             ],
             [
              0.6666666666666666,
              "#ed7953"
             ],
             [
              0.7777777777777778,
              "#fb9f3a"
             ],
             [
              0.8888888888888888,
              "#fdca26"
             ],
             [
              1,
              "#f0f921"
             ]
            ],
            "type": "contour"
           }
          ],
          "contourcarpet": [
           {
            "colorbar": {
             "outlinewidth": 0,
             "ticks": ""
            },
            "type": "contourcarpet"
           }
          ],
          "heatmap": [
           {
            "colorbar": {
             "outlinewidth": 0,
             "ticks": ""
            },
            "colorscale": [
             [
              0,
              "#0d0887"
             ],
             [
              0.1111111111111111,
              "#46039f"
             ],
             [
              0.2222222222222222,
              "#7201a8"
             ],
             [
              0.3333333333333333,
              "#9c179e"
             ],
             [
              0.4444444444444444,
              "#bd3786"
             ],
             [
              0.5555555555555556,
              "#d8576b"
             ],
             [
              0.6666666666666666,
              "#ed7953"
             ],
             [
              0.7777777777777778,
              "#fb9f3a"
             ],
             [
              0.8888888888888888,
              "#fdca26"
             ],
             [
              1,
              "#f0f921"
             ]
            ],
            "type": "heatmap"
           }
          ],
          "heatmapgl": [
           {
            "colorbar": {
             "outlinewidth": 0,
             "ticks": ""
            },
            "colorscale": [
             [
              0,
              "#0d0887"
             ],
             [
              0.1111111111111111,
              "#46039f"
             ],
             [
              0.2222222222222222,
              "#7201a8"
             ],
             [
              0.3333333333333333,
              "#9c179e"
             ],
             [
              0.4444444444444444,
              "#bd3786"
             ],
             [
              0.5555555555555556,
              "#d8576b"
             ],
             [
              0.6666666666666666,
              "#ed7953"
             ],
             [
              0.7777777777777778,
              "#fb9f3a"
             ],
             [
              0.8888888888888888,
              "#fdca26"
             ],
             [
              1,
              "#f0f921"
             ]
            ],
            "type": "heatmapgl"
           }
          ],
          "histogram": [
           {
            "marker": {
             "pattern": {
              "fillmode": "overlay",
              "size": 10,
              "solidity": 0.2
             }
            },
            "type": "histogram"
           }
          ],
          "histogram2d": [
           {
            "colorbar": {
             "outlinewidth": 0,
             "ticks": ""
            },
            "colorscale": [
             [
              0,
              "#0d0887"
             ],
             [
              0.1111111111111111,
              "#46039f"
             ],
             [
              0.2222222222222222,
              "#7201a8"
             ],
             [
              0.3333333333333333,
              "#9c179e"
             ],
             [
              0.4444444444444444,
              "#bd3786"
             ],
             [
              0.5555555555555556,
              "#d8576b"
             ],
             [
              0.6666666666666666,
              "#ed7953"
             ],
             [
              0.7777777777777778,
              "#fb9f3a"
             ],
             [
              0.8888888888888888,
              "#fdca26"
             ],
             [
              1,
              "#f0f921"
             ]
            ],
            "type": "histogram2d"
           }
          ],
          "histogram2dcontour": [
           {
            "colorbar": {
             "outlinewidth": 0,
             "ticks": ""
            },
            "colorscale": [
             [
              0,
              "#0d0887"
             ],
             [
              0.1111111111111111,
              "#46039f"
             ],
             [
              0.2222222222222222,
              "#7201a8"
             ],
             [
              0.3333333333333333,
              "#9c179e"
             ],
             [
              0.4444444444444444,
              "#bd3786"
             ],
             [
              0.5555555555555556,
              "#d8576b"
             ],
             [
              0.6666666666666666,
              "#ed7953"
             ],
             [
              0.7777777777777778,
              "#fb9f3a"
             ],
             [
              0.8888888888888888,
              "#fdca26"
             ],
             [
              1,
              "#f0f921"
             ]
            ],
            "type": "histogram2dcontour"
           }
          ],
          "mesh3d": [
           {
            "colorbar": {
             "outlinewidth": 0,
             "ticks": ""
            },
            "type": "mesh3d"
           }
          ],
          "parcoords": [
           {
            "line": {
             "colorbar": {
              "outlinewidth": 0,
              "ticks": ""
             }
            },
            "type": "parcoords"
           }
          ],
          "pie": [
           {
            "automargin": true,
            "type": "pie"
           }
          ],
          "scatter": [
           {
            "fillpattern": {
             "fillmode": "overlay",
             "size": 10,
             "solidity": 0.2
            },
            "type": "scatter"
           }
          ],
          "scatter3d": [
           {
            "line": {
             "colorbar": {
              "outlinewidth": 0,
              "ticks": ""
             }
            },
            "marker": {
             "colorbar": {
              "outlinewidth": 0,
              "ticks": ""
             }
            },
            "type": "scatter3d"
           }
          ],
          "scattercarpet": [
           {
            "marker": {
             "colorbar": {
              "outlinewidth": 0,
              "ticks": ""
             }
            },
            "type": "scattercarpet"
           }
          ],
          "scattergeo": [
           {
            "marker": {
             "colorbar": {
              "outlinewidth": 0,
              "ticks": ""
             }
            },
            "type": "scattergeo"
           }
          ],
          "scattergl": [
           {
            "marker": {
             "colorbar": {
              "outlinewidth": 0,
              "ticks": ""
             }
            },
            "type": "scattergl"
           }
          ],
          "scattermapbox": [
           {
            "marker": {
             "colorbar": {
              "outlinewidth": 0,
              "ticks": ""
             }
            },
            "type": "scattermapbox"
           }
          ],
          "scatterpolar": [
           {
            "marker": {
             "colorbar": {
              "outlinewidth": 0,
              "ticks": ""
             }
            },
            "type": "scatterpolar"
           }
          ],
          "scatterpolargl": [
           {
            "marker": {
             "colorbar": {
              "outlinewidth": 0,
              "ticks": ""
             }
            },
            "type": "scatterpolargl"
           }
          ],
          "scatterternary": [
           {
            "marker": {
             "colorbar": {
              "outlinewidth": 0,
              "ticks": ""
             }
            },
            "type": "scatterternary"
           }
          ],
          "surface": [
           {
            "colorbar": {
             "outlinewidth": 0,
             "ticks": ""
            },
            "colorscale": [
             [
              0,
              "#0d0887"
             ],
             [
              0.1111111111111111,
              "#46039f"
             ],
             [
              0.2222222222222222,
              "#7201a8"
             ],
             [
              0.3333333333333333,
              "#9c179e"
             ],
             [
              0.4444444444444444,
              "#bd3786"
             ],
             [
              0.5555555555555556,
              "#d8576b"
             ],
             [
              0.6666666666666666,
              "#ed7953"
             ],
             [
              0.7777777777777778,
              "#fb9f3a"
             ],
             [
              0.8888888888888888,
              "#fdca26"
             ],
             [
              1,
              "#f0f921"
             ]
            ],
            "type": "surface"
           }
          ],
          "table": [
           {
            "cells": {
             "fill": {
              "color": "#EBF0F8"
             },
             "line": {
              "color": "white"
             }
            },
            "header": {
             "fill": {
              "color": "#C8D4E3"
             },
             "line": {
              "color": "white"
             }
            },
            "type": "table"
           }
          ]
         },
         "layout": {
          "annotationdefaults": {
           "arrowcolor": "#2a3f5f",
           "arrowhead": 0,
           "arrowwidth": 1
          },
          "autotypenumbers": "strict",
          "coloraxis": {
           "colorbar": {
            "outlinewidth": 0,
            "ticks": ""
           }
          },
          "colorscale": {
           "diverging": [
            [
             0,
             "#8e0152"
            ],
            [
             0.1,
             "#c51b7d"
            ],
            [
             0.2,
             "#de77ae"
            ],
            [
             0.3,
             "#f1b6da"
            ],
            [
             0.4,
             "#fde0ef"
            ],
            [
             0.5,
             "#f7f7f7"
            ],
            [
             0.6,
             "#e6f5d0"
            ],
            [
             0.7,
             "#b8e186"
            ],
            [
             0.8,
             "#7fbc41"
            ],
            [
             0.9,
             "#4d9221"
            ],
            [
             1,
             "#276419"
            ]
           ],
           "sequential": [
            [
             0,
             "#0d0887"
            ],
            [
             0.1111111111111111,
             "#46039f"
            ],
            [
             0.2222222222222222,
             "#7201a8"
            ],
            [
             0.3333333333333333,
             "#9c179e"
            ],
            [
             0.4444444444444444,
             "#bd3786"
            ],
            [
             0.5555555555555556,
             "#d8576b"
            ],
            [
             0.6666666666666666,
             "#ed7953"
            ],
            [
             0.7777777777777778,
             "#fb9f3a"
            ],
            [
             0.8888888888888888,
             "#fdca26"
            ],
            [
             1,
             "#f0f921"
            ]
           ],
           "sequentialminus": [
            [
             0,
             "#0d0887"
            ],
            [
             0.1111111111111111,
             "#46039f"
            ],
            [
             0.2222222222222222,
             "#7201a8"
            ],
            [
             0.3333333333333333,
             "#9c179e"
            ],
            [
             0.4444444444444444,
             "#bd3786"
            ],
            [
             0.5555555555555556,
             "#d8576b"
            ],
            [
             0.6666666666666666,
             "#ed7953"
            ],
            [
             0.7777777777777778,
             "#fb9f3a"
            ],
            [
             0.8888888888888888,
             "#fdca26"
            ],
            [
             1,
             "#f0f921"
            ]
           ]
          },
          "colorway": [
           "#636efa",
           "#EF553B",
           "#00cc96",
           "#ab63fa",
           "#FFA15A",
           "#19d3f3",
           "#FF6692",
           "#B6E880",
           "#FF97FF",
           "#FECB52"
          ],
          "font": {
           "color": "#2a3f5f"
          },
          "geo": {
           "bgcolor": "white",
           "lakecolor": "white",
           "landcolor": "#E5ECF6",
           "showlakes": true,
           "showland": true,
           "subunitcolor": "white"
          },
          "hoverlabel": {
           "align": "left"
          },
          "hovermode": "closest",
          "mapbox": {
           "style": "light"
          },
          "paper_bgcolor": "white",
          "plot_bgcolor": "#E5ECF6",
          "polar": {
           "angularaxis": {
            "gridcolor": "white",
            "linecolor": "white",
            "ticks": ""
           },
           "bgcolor": "#E5ECF6",
           "radialaxis": {
            "gridcolor": "white",
            "linecolor": "white",
            "ticks": ""
           }
          },
          "scene": {
           "xaxis": {
            "backgroundcolor": "#E5ECF6",
            "gridcolor": "white",
            "gridwidth": 2,
            "linecolor": "white",
            "showbackground": true,
            "ticks": "",
            "zerolinecolor": "white"
           },
           "yaxis": {
            "backgroundcolor": "#E5ECF6",
            "gridcolor": "white",
            "gridwidth": 2,
            "linecolor": "white",
            "showbackground": true,
            "ticks": "",
            "zerolinecolor": "white"
           },
           "zaxis": {
            "backgroundcolor": "#E5ECF6",
            "gridcolor": "white",
            "gridwidth": 2,
            "linecolor": "white",
            "showbackground": true,
            "ticks": "",
            "zerolinecolor": "white"
           }
          },
          "shapedefaults": {
           "line": {
            "color": "#2a3f5f"
           }
          },
          "ternary": {
           "aaxis": {
            "gridcolor": "white",
            "linecolor": "white",
            "ticks": ""
           },
           "baxis": {
            "gridcolor": "white",
            "linecolor": "white",
            "ticks": ""
           },
           "bgcolor": "#E5ECF6",
           "caxis": {
            "gridcolor": "white",
            "linecolor": "white",
            "ticks": ""
           }
          },
          "title": {
           "x": 0.05
          },
          "xaxis": {
           "automargin": true,
           "gridcolor": "white",
           "linecolor": "white",
           "ticks": "",
           "title": {
            "standoff": 15
           },
           "zerolinecolor": "white",
           "zerolinewidth": 2
          },
          "yaxis": {
           "automargin": true,
           "gridcolor": "white",
           "linecolor": "white",
           "ticks": "",
           "title": {
            "standoff": 15
           },
           "zerolinecolor": "white",
           "zerolinewidth": 2
          }
         }
        },
        "updatemenus": [
         {
          "active": 0,
          "buttons": [
           {
            "args": [
             {
              "visible": [
               true,
               false,
               false,
               false
              ]
             },
             {
              "xaxis.title.text": "Group",
              "yaxis.range": [
               0.1,
               0.15
              ]
             }
            ],
            "label": "25th percentile",
            "method": "update"
           },
           {
            "args": [
             {
              "visible": [
               false,
               true,
               false,
               false
              ]
             },
             {
              "xaxis.title.text": "Group",
              "yaxis.range": [
               0.1,
               0.15
              ]
             }
            ],
            "label": "Median",
            "method": "update"
           },
           {
            "args": [
             {
              "visible": [
               false,
               false,
               true,
               false
              ]
             },
             {
              "xaxis.title.text": "Group",
              "yaxis.range": [
               0.1,
               0.15
              ]
             }
            ],
            "label": "75th percentile",
            "method": "update"
           },
           {
            "args": [
             {
              "visible": [
               false,
               false,
               false,
               true
              ]
             },
             {
              "xaxis.title.text": "Group",
              "yaxis.range": [
               0.1,
               0.15
              ]
             }
            ],
            "label": "90th percentile",
            "method": "update"
           },
           {
            "args": [
             {
              "visible": [
               true,
               true,
               true,
               true
              ]
             },
             {
              "xaxis.title.text": "Group",
              "yaxis.range": [
               0.1,
               0.15
              ]
             }
            ],
            "label": "Show All",
            "method": "update"
           }
          ],
          "direction": "right",
          "type": "buttons",
          "x": 1,
          "y": 1.2
         }
        ],
        "width": 650,
        "xaxis": {
         "linecolor": "white",
         "linewidth": 1,
         "showgrid": true,
         "showline": true,
         "ticktext": [
          "control",
          "treated"
         ],
         "tickvals": [
          0,
          1
         ],
         "title": {
          "text": "Group"
         }
        },
        "yaxis": {
         "dtick": 0.005,
         "linecolor": "white",
         "linewidth": 1,
         "showgrid": true,
         "showline": true,
         "title": {
          "text": "Proportion Influenced"
         }
        }
       }
      }
     },
     "metadata": {},
     "output_type": "display_data"
    }
   ],
   "source": [
    "import pandas as pd\n",
    "import plotly.graph_objects as go\n",
    "from IPython.display import display\n",
    "\n",
    "# Sample data\n",
    "data = pd.read_csv('data/web_data/matching_result_prop_significatif.csv')\n",
    "\n",
    "# Create DataFrame\n",
    "df = pd.DataFrame(data)\n",
    "df['group'] = ['control' if i % 2 == 0 else 'treated' for i in range(len(df))]\n",
    "display(df)\n",
    "\n",
    "control_df = df[df['group']=='control'].reset_index(drop=True)\n",
    "treated_df = df[df['group']=='treated'].reset_index(drop=True)\n",
    "\n",
    "display(control_df)\n",
    "display(treated_df)\n",
    "\n",
    "percentile25 = pd.DataFrame((control_df.loc[0], treated_df.loc[0])).reset_index(drop=True)\n",
    "median= pd.DataFrame((control_df.loc[1], treated_df.loc[1])).reset_index(drop=True)\n",
    "percentile75 = pd.DataFrame((control_df.loc[2], treated_df.loc[2])).reset_index(drop=True)\n",
    "percentile90= pd.DataFrame((control_df.loc[3], treated_df.loc[3])).reset_index(drop=True)\n",
    "\n",
    "# Adjusting traces for vertical orientation\n",
    "trace_pair_1 = go.Scatter(\n",
    "    x=percentile25.index,\n",
    "    y=percentile25['proportion_influenced'],\n",
    "    mode='markers',\n",
    "    name='25th percentile',\n",
    "    marker=dict(color='blue', size=10),\n",
    "    text=percentile25.index,\n",
    "    error_y=dict(type='data', array=percentile25['ci_upper'] - percentile25['proportion_influenced'], color='blue', thickness=1.5)\n",
    ")\n",
    "\n",
    "trace_pair_2 = go.Scatter(\n",
    "    x=median.index,\n",
    "    y=median['proportion_influenced'],\n",
    "    mode='markers',\n",
    "    name='Median',\n",
    "    marker=dict(color='orange', size=10),\n",
    "    text=median.index,\n",
    "    error_y=dict(type='data', array=median['ci_upper'] - median['proportion_influenced'], color='orange', thickness=1.5)\n",
    ")\n",
    "\n",
    "trace_pair_3 = go.Scatter(\n",
    "    x=percentile75.index,\n",
    "    y=percentile75['proportion_influenced'],\n",
    "    mode='markers',\n",
    "    name='75th percentile',\n",
    "    marker=dict(color='green', size=10),\n",
    "    text=percentile75.index,\n",
    "    error_y=dict(type='data', array=percentile75['ci_upper'] - percentile75['proportion_influenced'], color='green', thickness=1.5)\n",
    ")\n",
    "\n",
    "trace_pair_4 = go.Scatter(\n",
    "    x=percentile90.index,\n",
    "    y=percentile90['proportion_influenced'],\n",
    "    mode='markers',\n",
    "    name='90th percentile',\n",
    "    marker=dict(color='red', size=10),\n",
    "    text=percentile90.index,\n",
    "    error_y=dict(type='data', array=percentile90['ci_upper'] - percentile90['proportion_influenced'], color='red', thickness=1.5)\n",
    ")\n",
    "\n",
    "# Creating the figure with all traces\n",
    "fig = go.Figure(data=[trace_pair_1, trace_pair_2, trace_pair_3, trace_pair_4])\n",
    "\n",
    "# Set the initial visibility to show control data only\n",
    "fig.data[0].visible = True\n",
    "fig.data[1].visible = False\n",
    "fig.data[2].visible = False\n",
    "fig.data[3].visible = False\n",
    "\n",
    "# Updating layout with interactive buttons\n",
    "fig.update_layout(\n",
    "    updatemenus=[\n",
    "        dict(\n",
    "            type=\"buttons\",\n",
    "            direction=\"right\",\n",
    "            active=0,  # '25th percentile' is active initially\n",
    "            x=1,\n",
    "            y=1.2,\n",
    "            buttons=list([\n",
    "                dict(label=\"25th percentile\",\n",
    "                     method=\"update\",\n",
    "                     args=[{\"visible\": [True, False, False, False]},\n",
    "                           {\"yaxis.range\":  [0.1, 0.15],\n",
    "                            \"xaxis.title.text\": 'Group'}]),\n",
    "                dict(label=\"Median\",\n",
    "                     method=\"update\",\n",
    "                     args=[{\"visible\": [False, True, False, False]},\n",
    "                           {\"yaxis.range\":  [0.1, 0.15],\n",
    "                            \"xaxis.title.text\": 'Group'}]),\n",
    "                dict(label=\"75th percentile\",\n",
    "                     method=\"update\",\n",
    "                     args=[{\"visible\": [False, False, True, False]},\n",
    "                           {\"yaxis.range\":  [0.1, 0.15],\n",
    "                            \"xaxis.title.text\": 'Group'}]),\n",
    "                dict(label=\"90th percentile\",\n",
    "                     method=\"update\",\n",
    "                     args=[{\"visible\": [False, False, False, True]},\n",
    "                           {\"yaxis.range\": [0.1, 0.15],\n",
    "                            \"xaxis.title.text\": 'Group'}]),\n",
    "                dict(label=\"Show All\",\n",
    "                     method=\"update\",\n",
    "                     args=[{\"visible\": [True, True, True, True]},\n",
    "                           {\"yaxis.range\": [0.1, 0.15],\n",
    "                            \"xaxis.title.text\": 'Group'}]),\n",
    "            ]),\n",
    "        )\n",
    "    ],\n",
    "    xaxis=dict(\n",
    "        title='Group',\n",
    "        showgrid=True,\n",
    "        showline=True,\n",
    "        linewidth=1,\n",
    "        linecolor='white',\n",
    "        tickvals=[0, 1],  # Set tick positions\n",
    "        ticktext=['control', 'treated']  # Set tick labels\n",
    "    ),\n",
    "    yaxis=dict(\n",
    "        title='Proportion Influenced',\n",
    "        showgrid=True,\n",
    "        showline=True,\n",
    "        linewidth=1,\n",
    "        linecolor='white',\n",
    "        dtick=0.005  # Set dtick for finer graduation\n",
    "    ),\n",
    "    width=650,  # Set the width of the figure\n",
    "    legend=dict(x=1.1, y=1.05)  # Set legend position\n",
    ")\n",
    "\n",
    "# Show the figure\n",
    "fig.show(config={'displayModeBar': False})\n"
   ]
  },
  {
   "cell_type": "code",
   "execution_count": 63,
   "metadata": {},
   "outputs": [
    {
     "data": {
      "text/html": [
       "<div>\n",
       "<style scoped>\n",
       "    .dataframe tbody tr th:only-of-type {\n",
       "        vertical-align: middle;\n",
       "    }\n",
       "\n",
       "    .dataframe tbody tr th {\n",
       "        vertical-align: top;\n",
       "    }\n",
       "\n",
       "    .dataframe thead th {\n",
       "        text-align: right;\n",
       "    }\n",
       "</style>\n",
       "<table border=\"1\" class=\"dataframe\">\n",
       "  <thead>\n",
       "    <tr style=\"text-align: right;\">\n",
       "      <th></th>\n",
       "      <th>proportion_influenced</th>\n",
       "      <th>ci_lower</th>\n",
       "      <th>ci_upper</th>\n",
       "      <th>group</th>\n",
       "    </tr>\n",
       "  </thead>\n",
       "  <tbody>\n",
       "    <tr>\n",
       "      <th>0</th>\n",
       "      <td>0.107754</td>\n",
       "      <td>0.104107</td>\n",
       "      <td>0.111401</td>\n",
       "      <td>control</td>\n",
       "    </tr>\n",
       "    <tr>\n",
       "      <th>1</th>\n",
       "      <td>0.117838</td>\n",
       "      <td>0.114045</td>\n",
       "      <td>0.121630</td>\n",
       "      <td>treated</td>\n",
       "    </tr>\n",
       "    <tr>\n",
       "      <th>2</th>\n",
       "      <td>0.112116</td>\n",
       "      <td>0.108776</td>\n",
       "      <td>0.115455</td>\n",
       "      <td>control</td>\n",
       "    </tr>\n",
       "    <tr>\n",
       "      <th>3</th>\n",
       "      <td>0.124220</td>\n",
       "      <td>0.120728</td>\n",
       "      <td>0.127711</td>\n",
       "      <td>treated</td>\n",
       "    </tr>\n",
       "    <tr>\n",
       "      <th>4</th>\n",
       "      <td>0.112347</td>\n",
       "      <td>0.108748</td>\n",
       "      <td>0.115946</td>\n",
       "      <td>control</td>\n",
       "    </tr>\n",
       "    <tr>\n",
       "      <th>5</th>\n",
       "      <td>0.121475</td>\n",
       "      <td>0.117752</td>\n",
       "      <td>0.125198</td>\n",
       "      <td>treated</td>\n",
       "    </tr>\n",
       "    <tr>\n",
       "      <th>6</th>\n",
       "      <td>0.110081</td>\n",
       "      <td>0.105839</td>\n",
       "      <td>0.114322</td>\n",
       "      <td>control</td>\n",
       "    </tr>\n",
       "    <tr>\n",
       "      <th>7</th>\n",
       "      <td>0.130825</td>\n",
       "      <td>0.126256</td>\n",
       "      <td>0.135395</td>\n",
       "      <td>treated</td>\n",
       "    </tr>\n",
       "  </tbody>\n",
       "</table>\n",
       "</div>"
      ],
      "text/plain": [
       "   proportion_influenced  ci_lower  ci_upper    group\n",
       "0               0.107754  0.104107  0.111401  control\n",
       "1               0.117838  0.114045  0.121630  treated\n",
       "2               0.112116  0.108776  0.115455  control\n",
       "3               0.124220  0.120728  0.127711  treated\n",
       "4               0.112347  0.108748  0.115946  control\n",
       "5               0.121475  0.117752  0.125198  treated\n",
       "6               0.110081  0.105839  0.114322  control\n",
       "7               0.130825  0.126256  0.135395  treated"
      ]
     },
     "metadata": {},
     "output_type": "display_data"
    },
    {
     "data": {
      "text/html": [
       "<div>\n",
       "<style scoped>\n",
       "    .dataframe tbody tr th:only-of-type {\n",
       "        vertical-align: middle;\n",
       "    }\n",
       "\n",
       "    .dataframe tbody tr th {\n",
       "        vertical-align: top;\n",
       "    }\n",
       "\n",
       "    .dataframe thead th {\n",
       "        text-align: right;\n",
       "    }\n",
       "</style>\n",
       "<table border=\"1\" class=\"dataframe\">\n",
       "  <thead>\n",
       "    <tr style=\"text-align: right;\">\n",
       "      <th></th>\n",
       "      <th>proportion_influenced</th>\n",
       "      <th>ci_lower</th>\n",
       "      <th>ci_upper</th>\n",
       "      <th>group</th>\n",
       "    </tr>\n",
       "  </thead>\n",
       "  <tbody>\n",
       "    <tr>\n",
       "      <th>0</th>\n",
       "      <td>0.107754</td>\n",
       "      <td>0.104107</td>\n",
       "      <td>0.111401</td>\n",
       "      <td>control</td>\n",
       "    </tr>\n",
       "    <tr>\n",
       "      <th>1</th>\n",
       "      <td>0.112116</td>\n",
       "      <td>0.108776</td>\n",
       "      <td>0.115455</td>\n",
       "      <td>control</td>\n",
       "    </tr>\n",
       "    <tr>\n",
       "      <th>2</th>\n",
       "      <td>0.112347</td>\n",
       "      <td>0.108748</td>\n",
       "      <td>0.115946</td>\n",
       "      <td>control</td>\n",
       "    </tr>\n",
       "    <tr>\n",
       "      <th>3</th>\n",
       "      <td>0.110081</td>\n",
       "      <td>0.105839</td>\n",
       "      <td>0.114322</td>\n",
       "      <td>control</td>\n",
       "    </tr>\n",
       "  </tbody>\n",
       "</table>\n",
       "</div>"
      ],
      "text/plain": [
       "   proportion_influenced  ci_lower  ci_upper    group\n",
       "0               0.107754  0.104107  0.111401  control\n",
       "1               0.112116  0.108776  0.115455  control\n",
       "2               0.112347  0.108748  0.115946  control\n",
       "3               0.110081  0.105839  0.114322  control"
      ]
     },
     "metadata": {},
     "output_type": "display_data"
    },
    {
     "data": {
      "text/html": [
       "<div>\n",
       "<style scoped>\n",
       "    .dataframe tbody tr th:only-of-type {\n",
       "        vertical-align: middle;\n",
       "    }\n",
       "\n",
       "    .dataframe tbody tr th {\n",
       "        vertical-align: top;\n",
       "    }\n",
       "\n",
       "    .dataframe thead th {\n",
       "        text-align: right;\n",
       "    }\n",
       "</style>\n",
       "<table border=\"1\" class=\"dataframe\">\n",
       "  <thead>\n",
       "    <tr style=\"text-align: right;\">\n",
       "      <th></th>\n",
       "      <th>proportion_influenced</th>\n",
       "      <th>ci_lower</th>\n",
       "      <th>ci_upper</th>\n",
       "      <th>group</th>\n",
       "    </tr>\n",
       "  </thead>\n",
       "  <tbody>\n",
       "    <tr>\n",
       "      <th>0</th>\n",
       "      <td>0.117838</td>\n",
       "      <td>0.114045</td>\n",
       "      <td>0.121630</td>\n",
       "      <td>treated</td>\n",
       "    </tr>\n",
       "    <tr>\n",
       "      <th>1</th>\n",
       "      <td>0.124220</td>\n",
       "      <td>0.120728</td>\n",
       "      <td>0.127711</td>\n",
       "      <td>treated</td>\n",
       "    </tr>\n",
       "    <tr>\n",
       "      <th>2</th>\n",
       "      <td>0.121475</td>\n",
       "      <td>0.117752</td>\n",
       "      <td>0.125198</td>\n",
       "      <td>treated</td>\n",
       "    </tr>\n",
       "    <tr>\n",
       "      <th>3</th>\n",
       "      <td>0.130825</td>\n",
       "      <td>0.126256</td>\n",
       "      <td>0.135395</td>\n",
       "      <td>treated</td>\n",
       "    </tr>\n",
       "  </tbody>\n",
       "</table>\n",
       "</div>"
      ],
      "text/plain": [
       "   proportion_influenced  ci_lower  ci_upper    group\n",
       "0               0.117838  0.114045  0.121630  treated\n",
       "1               0.124220  0.120728  0.127711  treated\n",
       "2               0.121475  0.117752  0.125198  treated\n",
       "3               0.130825  0.126256  0.135395  treated"
      ]
     },
     "metadata": {},
     "output_type": "display_data"
    },
    {
     "data": {
      "application/vnd.plotly.v1+json": {
       "config": {
        "displayModeBar": false,
        "plotlyServerURL": "https://plot.ly"
       },
       "data": [
        {
         "error_y": {
          "array": [
           0.0036471873896078005,
           0.003792414695754795
          ],
          "color": "blue",
          "thickness": 1.5,
          "type": "data"
         },
         "legendgroup": "25th percentile",
         "marker": {
          "color": "blue",
          "size": 10
         },
         "mode": "markers",
         "name": "25th percentile",
         "text": [
          0,
          1
         ],
         "type": "scatter",
         "visible": true,
         "x": [
          0,
          1
         ],
         "y": [
          0.1077538084776893,
          0.1178377210357618
         ]
        },
        {
         "error_y": {
          "array": [
           0.003339761500031499,
           0.003491378761161096
          ],
          "color": "orange",
          "thickness": 1.5,
          "type": "data"
         },
         "legendgroup": "Median",
         "marker": {
          "color": "orange",
          "size": 10
         },
         "mode": "markers",
         "name": "Median",
         "text": [
          0,
          1
         ],
         "type": "scatter",
         "visible": false,
         "x": [
          0,
          1
         ],
         "y": [
          0.1121157323688969,
          0.1242197981683485
         ]
        },
        {
         "error_y": {
          "array": [
           0.0035989961994315894,
           0.003723061200158889
          ],
          "color": "green",
          "thickness": 1.5,
          "type": "data"
         },
         "legendgroup": "75th percentile",
         "marker": {
          "color": "green",
          "size": 10
         },
         "mode": "markers",
         "name": "75th percentile",
         "text": [
          0,
          1
         ],
         "type": "scatter",
         "visible": false,
         "x": [
          0,
          1
         ],
         "y": [
          0.1123470146730678,
          0.1214754209209547
         ]
        },
        {
         "error_y": {
          "array": [
           0.004241371108857403,
           0.004569565447168605
          ],
          "color": "red",
          "thickness": 1.5,
          "type": "data"
         },
         "legendgroup": "90th percentile",
         "marker": {
          "color": "red",
          "size": 10
         },
         "mode": "markers",
         "name": "90th percentile",
         "text": [
          0,
          1
         ],
         "type": "scatter",
         "visible": false,
         "x": [
          0,
          1
         ],
         "y": [
          0.1100807800774341,
          0.1308254863534247
         ]
        }
       ],
       "layout": {
        "legend": {
         "x": 1.1,
         "y": 1.05
        },
        "template": {
         "data": {
          "bar": [
           {
            "error_x": {
             "color": "#2a3f5f"
            },
            "error_y": {
             "color": "#2a3f5f"
            },
            "marker": {
             "line": {
              "color": "#E5ECF6",
              "width": 0.5
             },
             "pattern": {
              "fillmode": "overlay",
              "size": 10,
              "solidity": 0.2
             }
            },
            "type": "bar"
           }
          ],
          "barpolar": [
           {
            "marker": {
             "line": {
              "color": "#E5ECF6",
              "width": 0.5
             },
             "pattern": {
              "fillmode": "overlay",
              "size": 10,
              "solidity": 0.2
             }
            },
            "type": "barpolar"
           }
          ],
          "carpet": [
           {
            "aaxis": {
             "endlinecolor": "#2a3f5f",
             "gridcolor": "white",
             "linecolor": "white",
             "minorgridcolor": "white",
             "startlinecolor": "#2a3f5f"
            },
            "baxis": {
             "endlinecolor": "#2a3f5f",
             "gridcolor": "white",
             "linecolor": "white",
             "minorgridcolor": "white",
             "startlinecolor": "#2a3f5f"
            },
            "type": "carpet"
           }
          ],
          "choropleth": [
           {
            "colorbar": {
             "outlinewidth": 0,
             "ticks": ""
            },
            "type": "choropleth"
           }
          ],
          "contour": [
           {
            "colorbar": {
             "outlinewidth": 0,
             "ticks": ""
            },
            "colorscale": [
             [
              0,
              "#0d0887"
             ],
             [
              0.1111111111111111,
              "#46039f"
             ],
             [
              0.2222222222222222,
              "#7201a8"
             ],
             [
              0.3333333333333333,
              "#9c179e"
             ],
             [
              0.4444444444444444,
              "#bd3786"
             ],
             [
              0.5555555555555556,
              "#d8576b"
             ],
             [
              0.6666666666666666,
              "#ed7953"
             ],
             [
              0.7777777777777778,
              "#fb9f3a"
             ],
             [
              0.8888888888888888,
              "#fdca26"
             ],
             [
              1,
              "#f0f921"
             ]
            ],
            "type": "contour"
           }
          ],
          "contourcarpet": [
           {
            "colorbar": {
             "outlinewidth": 0,
             "ticks": ""
            },
            "type": "contourcarpet"
           }
          ],
          "heatmap": [
           {
            "colorbar": {
             "outlinewidth": 0,
             "ticks": ""
            },
            "colorscale": [
             [
              0,
              "#0d0887"
             ],
             [
              0.1111111111111111,
              "#46039f"
             ],
             [
              0.2222222222222222,
              "#7201a8"
             ],
             [
              0.3333333333333333,
              "#9c179e"
             ],
             [
              0.4444444444444444,
              "#bd3786"
             ],
             [
              0.5555555555555556,
              "#d8576b"
             ],
             [
              0.6666666666666666,
              "#ed7953"
             ],
             [
              0.7777777777777778,
              "#fb9f3a"
             ],
             [
              0.8888888888888888,
              "#fdca26"
             ],
             [
              1,
              "#f0f921"
             ]
            ],
            "type": "heatmap"
           }
          ],
          "heatmapgl": [
           {
            "colorbar": {
             "outlinewidth": 0,
             "ticks": ""
            },
            "colorscale": [
             [
              0,
              "#0d0887"
             ],
             [
              0.1111111111111111,
              "#46039f"
             ],
             [
              0.2222222222222222,
              "#7201a8"
             ],
             [
              0.3333333333333333,
              "#9c179e"
             ],
             [
              0.4444444444444444,
              "#bd3786"
             ],
             [
              0.5555555555555556,
              "#d8576b"
             ],
             [
              0.6666666666666666,
              "#ed7953"
             ],
             [
              0.7777777777777778,
              "#fb9f3a"
             ],
             [
              0.8888888888888888,
              "#fdca26"
             ],
             [
              1,
              "#f0f921"
             ]
            ],
            "type": "heatmapgl"
           }
          ],
          "histogram": [
           {
            "marker": {
             "pattern": {
              "fillmode": "overlay",
              "size": 10,
              "solidity": 0.2
             }
            },
            "type": "histogram"
           }
          ],
          "histogram2d": [
           {
            "colorbar": {
             "outlinewidth": 0,
             "ticks": ""
            },
            "colorscale": [
             [
              0,
              "#0d0887"
             ],
             [
              0.1111111111111111,
              "#46039f"
             ],
             [
              0.2222222222222222,
              "#7201a8"
             ],
             [
              0.3333333333333333,
              "#9c179e"
             ],
             [
              0.4444444444444444,
              "#bd3786"
             ],
             [
              0.5555555555555556,
              "#d8576b"
             ],
             [
              0.6666666666666666,
              "#ed7953"
             ],
             [
              0.7777777777777778,
              "#fb9f3a"
             ],
             [
              0.8888888888888888,
              "#fdca26"
             ],
             [
              1,
              "#f0f921"
             ]
            ],
            "type": "histogram2d"
           }
          ],
          "histogram2dcontour": [
           {
            "colorbar": {
             "outlinewidth": 0,
             "ticks": ""
            },
            "colorscale": [
             [
              0,
              "#0d0887"
             ],
             [
              0.1111111111111111,
              "#46039f"
             ],
             [
              0.2222222222222222,
              "#7201a8"
             ],
             [
              0.3333333333333333,
              "#9c179e"
             ],
             [
              0.4444444444444444,
              "#bd3786"
             ],
             [
              0.5555555555555556,
              "#d8576b"
             ],
             [
              0.6666666666666666,
              "#ed7953"
             ],
             [
              0.7777777777777778,
              "#fb9f3a"
             ],
             [
              0.8888888888888888,
              "#fdca26"
             ],
             [
              1,
              "#f0f921"
             ]
            ],
            "type": "histogram2dcontour"
           }
          ],
          "mesh3d": [
           {
            "colorbar": {
             "outlinewidth": 0,
             "ticks": ""
            },
            "type": "mesh3d"
           }
          ],
          "parcoords": [
           {
            "line": {
             "colorbar": {
              "outlinewidth": 0,
              "ticks": ""
             }
            },
            "type": "parcoords"
           }
          ],
          "pie": [
           {
            "automargin": true,
            "type": "pie"
           }
          ],
          "scatter": [
           {
            "fillpattern": {
             "fillmode": "overlay",
             "size": 10,
             "solidity": 0.2
            },
            "type": "scatter"
           }
          ],
          "scatter3d": [
           {
            "line": {
             "colorbar": {
              "outlinewidth": 0,
              "ticks": ""
             }
            },
            "marker": {
             "colorbar": {
              "outlinewidth": 0,
              "ticks": ""
             }
            },
            "type": "scatter3d"
           }
          ],
          "scattercarpet": [
           {
            "marker": {
             "colorbar": {
              "outlinewidth": 0,
              "ticks": ""
             }
            },
            "type": "scattercarpet"
           }
          ],
          "scattergeo": [
           {
            "marker": {
             "colorbar": {
              "outlinewidth": 0,
              "ticks": ""
             }
            },
            "type": "scattergeo"
           }
          ],
          "scattergl": [
           {
            "marker": {
             "colorbar": {
              "outlinewidth": 0,
              "ticks": ""
             }
            },
            "type": "scattergl"
           }
          ],
          "scattermapbox": [
           {
            "marker": {
             "colorbar": {
              "outlinewidth": 0,
              "ticks": ""
             }
            },
            "type": "scattermapbox"
           }
          ],
          "scatterpolar": [
           {
            "marker": {
             "colorbar": {
              "outlinewidth": 0,
              "ticks": ""
             }
            },
            "type": "scatterpolar"
           }
          ],
          "scatterpolargl": [
           {
            "marker": {
             "colorbar": {
              "outlinewidth": 0,
              "ticks": ""
             }
            },
            "type": "scatterpolargl"
           }
          ],
          "scatterternary": [
           {
            "marker": {
             "colorbar": {
              "outlinewidth": 0,
              "ticks": ""
             }
            },
            "type": "scatterternary"
           }
          ],
          "surface": [
           {
            "colorbar": {
             "outlinewidth": 0,
             "ticks": ""
            },
            "colorscale": [
             [
              0,
              "#0d0887"
             ],
             [
              0.1111111111111111,
              "#46039f"
             ],
             [
              0.2222222222222222,
              "#7201a8"
             ],
             [
              0.3333333333333333,
              "#9c179e"
             ],
             [
              0.4444444444444444,
              "#bd3786"
             ],
             [
              0.5555555555555556,
              "#d8576b"
             ],
             [
              0.6666666666666666,
              "#ed7953"
             ],
             [
              0.7777777777777778,
              "#fb9f3a"
             ],
             [
              0.8888888888888888,
              "#fdca26"
             ],
             [
              1,
              "#f0f921"
             ]
            ],
            "type": "surface"
           }
          ],
          "table": [
           {
            "cells": {
             "fill": {
              "color": "#EBF0F8"
             },
             "line": {
              "color": "white"
             }
            },
            "header": {
             "fill": {
              "color": "#C8D4E3"
             },
             "line": {
              "color": "white"
             }
            },
            "type": "table"
           }
          ]
         },
         "layout": {
          "annotationdefaults": {
           "arrowcolor": "#2a3f5f",
           "arrowhead": 0,
           "arrowwidth": 1
          },
          "autotypenumbers": "strict",
          "coloraxis": {
           "colorbar": {
            "outlinewidth": 0,
            "ticks": ""
           }
          },
          "colorscale": {
           "diverging": [
            [
             0,
             "#8e0152"
            ],
            [
             0.1,
             "#c51b7d"
            ],
            [
             0.2,
             "#de77ae"
            ],
            [
             0.3,
             "#f1b6da"
            ],
            [
             0.4,
             "#fde0ef"
            ],
            [
             0.5,
             "#f7f7f7"
            ],
            [
             0.6,
             "#e6f5d0"
            ],
            [
             0.7,
             "#b8e186"
            ],
            [
             0.8,
             "#7fbc41"
            ],
            [
             0.9,
             "#4d9221"
            ],
            [
             1,
             "#276419"
            ]
           ],
           "sequential": [
            [
             0,
             "#0d0887"
            ],
            [
             0.1111111111111111,
             "#46039f"
            ],
            [
             0.2222222222222222,
             "#7201a8"
            ],
            [
             0.3333333333333333,
             "#9c179e"
            ],
            [
             0.4444444444444444,
             "#bd3786"
            ],
            [
             0.5555555555555556,
             "#d8576b"
            ],
            [
             0.6666666666666666,
             "#ed7953"
            ],
            [
             0.7777777777777778,
             "#fb9f3a"
            ],
            [
             0.8888888888888888,
             "#fdca26"
            ],
            [
             1,
             "#f0f921"
            ]
           ],
           "sequentialminus": [
            [
             0,
             "#0d0887"
            ],
            [
             0.1111111111111111,
             "#46039f"
            ],
            [
             0.2222222222222222,
             "#7201a8"
            ],
            [
             0.3333333333333333,
             "#9c179e"
            ],
            [
             0.4444444444444444,
             "#bd3786"
            ],
            [
             0.5555555555555556,
             "#d8576b"
            ],
            [
             0.6666666666666666,
             "#ed7953"
            ],
            [
             0.7777777777777778,
             "#fb9f3a"
            ],
            [
             0.8888888888888888,
             "#fdca26"
            ],
            [
             1,
             "#f0f921"
            ]
           ]
          },
          "colorway": [
           "#636efa",
           "#EF553B",
           "#00cc96",
           "#ab63fa",
           "#FFA15A",
           "#19d3f3",
           "#FF6692",
           "#B6E880",
           "#FF97FF",
           "#FECB52"
          ],
          "font": {
           "color": "#2a3f5f"
          },
          "geo": {
           "bgcolor": "white",
           "lakecolor": "white",
           "landcolor": "#E5ECF6",
           "showlakes": true,
           "showland": true,
           "subunitcolor": "white"
          },
          "hoverlabel": {
           "align": "left"
          },
          "hovermode": "closest",
          "mapbox": {
           "style": "light"
          },
          "paper_bgcolor": "white",
          "plot_bgcolor": "#E5ECF6",
          "polar": {
           "angularaxis": {
            "gridcolor": "white",
            "linecolor": "white",
            "ticks": ""
           },
           "bgcolor": "#E5ECF6",
           "radialaxis": {
            "gridcolor": "white",
            "linecolor": "white",
            "ticks": ""
           }
          },
          "scene": {
           "xaxis": {
            "backgroundcolor": "#E5ECF6",
            "gridcolor": "white",
            "gridwidth": 2,
            "linecolor": "white",
            "showbackground": true,
            "ticks": "",
            "zerolinecolor": "white"
           },
           "yaxis": {
            "backgroundcolor": "#E5ECF6",
            "gridcolor": "white",
            "gridwidth": 2,
            "linecolor": "white",
            "showbackground": true,
            "ticks": "",
            "zerolinecolor": "white"
           },
           "zaxis": {
            "backgroundcolor": "#E5ECF6",
            "gridcolor": "white",
            "gridwidth": 2,
            "linecolor": "white",
            "showbackground": true,
            "ticks": "",
            "zerolinecolor": "white"
           }
          },
          "shapedefaults": {
           "line": {
            "color": "#2a3f5f"
           }
          },
          "ternary": {
           "aaxis": {
            "gridcolor": "white",
            "linecolor": "white",
            "ticks": ""
           },
           "baxis": {
            "gridcolor": "white",
            "linecolor": "white",
            "ticks": ""
           },
           "bgcolor": "#E5ECF6",
           "caxis": {
            "gridcolor": "white",
            "linecolor": "white",
            "ticks": ""
           }
          },
          "title": {
           "x": 0.05
          },
          "xaxis": {
           "automargin": true,
           "gridcolor": "white",
           "linecolor": "white",
           "ticks": "",
           "title": {
            "standoff": 15
           },
           "zerolinecolor": "white",
           "zerolinewidth": 2
          },
          "yaxis": {
           "automargin": true,
           "gridcolor": "white",
           "linecolor": "white",
           "ticks": "",
           "title": {
            "standoff": 15
           },
           "zerolinecolor": "white",
           "zerolinewidth": 2
          }
         }
        },
        "updatemenus": [
         {
          "active": 0,
          "buttons": [
           {
            "args": [
             {
              "visible": [
               true,
               false,
               false,
               false
              ]
             },
             {
              "xaxis.title.text": "Group",
              "yaxis.range": [
               0.1,
               0.15
              ]
             }
            ],
            "label": "25th percentile",
            "method": "update"
           },
           {
            "args": [
             {
              "visible": [
               false,
               true,
               false,
               false
              ]
             },
             {
              "xaxis.title.text": "Group",
              "yaxis.range": [
               0.1,
               0.15
              ]
             }
            ],
            "label": "Median",
            "method": "update"
           },
           {
            "args": [
             {
              "visible": [
               false,
               false,
               true,
               false
              ]
             },
             {
              "xaxis.title.text": "Group",
              "yaxis.range": [
               0.1,
               0.15
              ]
             }
            ],
            "label": "75th percentile",
            "method": "update"
           },
           {
            "args": [
             {
              "visible": [
               false,
               false,
               false,
               true
              ]
             },
             {
              "xaxis.title.text": "Group",
              "yaxis.range": [
               0.1,
               0.15
              ]
             }
            ],
            "label": "90th percentile",
            "method": "update"
           },
           {
            "args": [
             {
              "visible": [
               true,
               true,
               true,
               true
              ]
             },
             {
              "xaxis.title.text": "Group",
              "yaxis.range": [
               0.1,
               0.15
              ]
             }
            ],
            "label": "Show All",
            "method": "update"
           }
          ],
          "direction": "right",
          "type": "buttons",
          "x": 1,
          "y": 1.2
         }
        ],
        "width": 650,
        "xaxis": {
         "linecolor": "white",
         "linewidth": 1,
         "showgrid": true,
         "showline": true,
         "ticktext": [
          "control",
          "treated"
         ],
         "tickvals": [
          0,
          1
         ],
         "title": {
          "text": "Group"
         }
        },
        "yaxis": {
         "dtick": 0.005,
         "linecolor": "white",
         "linewidth": 1,
         "showgrid": true,
         "showline": true,
         "title": {
          "text": "Proportion Influenced"
         }
        }
       }
      }
     },
     "metadata": {},
     "output_type": "display_data"
    },
    {
     "data": {
      "image/svg+xml": [
       "<svg class=\"main-svg\" xmlns=\"http://www.w3.org/2000/svg\" xmlns:xlink=\"http://www.w3.org/1999/xlink\" width=\"650\" height=\"500\" style=\"\" viewBox=\"0 0 650 500\"><rect x=\"0\" y=\"0\" width=\"650\" height=\"500\" style=\"fill: rgb(255, 255, 255); fill-opacity: 1;\"/><defs id=\"defs-6ab909\"><g class=\"clips\"><clipPath id=\"clip6ab909xyplot\" class=\"plotclip\"><rect width=\"490\" height=\"320\"/></clipPath><clipPath class=\"axesclip\" id=\"clip6ab909x\"><rect x=\"80\" y=\"0\" width=\"490\" height=\"500\"/></clipPath><clipPath class=\"axesclip\" id=\"clip6ab909y\"><rect x=\"0\" y=\"100\" width=\"650\" height=\"320\"/></clipPath><clipPath class=\"axesclip\" id=\"clip6ab909xy\"><rect x=\"80\" y=\"100\" width=\"490\" height=\"320\"/></clipPath></g><g class=\"gradients\"/><g class=\"patterns\"/></defs><g class=\"bglayer\"><rect class=\"bg\" x=\"80\" y=\"100\" width=\"490\" height=\"320\" style=\"fill: rgb(229, 236, 246); fill-opacity: 1; stroke-width: 0;\"/></g><g class=\"layer-below\"><g class=\"imagelayer\"/><g class=\"shapelayer\"/></g><g class=\"cartesianlayer\"><g class=\"subplot xy\"><g class=\"layer-subplot\"><g class=\"shapelayer\"/><g class=\"imagelayer\"/></g><g class=\"minor-gridlayer\"><g class=\"x\"/><g class=\"y\"/></g><g class=\"gridlayer\"><g class=\"x\"><path class=\"xgrid crisp\" transform=\"translate(539.25,0)\" d=\"M0,100v320\" style=\"stroke: rgb(255, 255, 255); stroke-opacity: 1; stroke-width: 1px;\"/></g><g class=\"y\"><path class=\"ygrid crisp\" transform=\"translate(0,389.32)\" d=\"M80,0h490\" style=\"stroke: rgb(255, 255, 255); stroke-opacity: 1; stroke-width: 1px;\"/><path class=\"ygrid crisp\" transform=\"translate(0,307.14)\" d=\"M80,0h490\" style=\"stroke: rgb(255, 255, 255); stroke-opacity: 1; stroke-width: 1px;\"/><path class=\"ygrid crisp\" transform=\"translate(0,224.97)\" d=\"M80,0h490\" style=\"stroke: rgb(255, 255, 255); stroke-opacity: 1; stroke-width: 1px;\"/><path class=\"ygrid crisp\" transform=\"translate(0,142.79)\" d=\"M80,0h490\" style=\"stroke: rgb(255, 255, 255); stroke-opacity: 1; stroke-width: 1px;\"/></g></g><g class=\"zerolinelayer\"><path class=\"xzl zl crisp\" transform=\"translate(110.75,0)\" d=\"M0,100v320\" style=\"stroke: rgb(255, 255, 255); stroke-opacity: 1; stroke-width: 2px;\"/></g><path class=\"xlines-below\"/><path class=\"ylines-below\"/><g class=\"overlines-below\"/><g class=\"xaxislayer-below\"/><g class=\"yaxislayer-below\"/><g class=\"overaxes-below\"/><g class=\"plot\" transform=\"translate(80,100)\" clip-path=\"url(#clip6ab909xyplot)\"><g class=\"scatterlayer mlayer\"><g class=\"trace scatter trace888335\" style=\"stroke-miterlimit: 2; opacity: 1;\"><g class=\"fills\"/><g class=\"errorbars\"><g class=\"errorbar\"><path class=\"yerror\" d=\"M26.75,184.12h8m-4,0V304m-4,0h8\" style=\"vector-effect: none; stroke-width: 1.5px; stroke: rgb(0, 0, 255); stroke-opacity: 1;\"/></g><g class=\"errorbar\"><path class=\"yerror\" d=\"M455.25,16h8m-4,0V140.66m-4,0h8\" style=\"vector-effect: none; stroke-width: 1.5px; stroke: rgb(0, 0, 255); stroke-opacity: 1;\"/></g></g><g class=\"lines\"/><g class=\"points\"><path class=\"point\" transform=\"translate(30.75,244.06)\" d=\"M5,0A5,5 0 1,1 0,-5A5,5 0 0,1 5,0Z\" style=\"opacity: 1; stroke-width: 0px; fill: rgb(0, 0, 255); fill-opacity: 1;\"/><path class=\"point\" transform=\"translate(459.25,78.33)\" d=\"M5,0A5,5 0 1,1 0,-5A5,5 0 0,1 5,0Z\" style=\"opacity: 1; stroke-width: 0px; fill: rgb(0, 0, 255); fill-opacity: 1;\"/></g><g class=\"text\"/></g></g></g><g class=\"overplot\"/><path class=\"xlines-above crisp\" d=\"M79,420.5H570\" style=\"fill: none; stroke-width: 1px; stroke: rgb(255, 255, 255); stroke-opacity: 1;\"/><path class=\"ylines-above crisp\" d=\"M79.5,100V420\" style=\"fill: none; stroke-width: 1px; stroke: rgb(255, 255, 255); stroke-opacity: 1;\"/><g class=\"overlines-above\"/><g class=\"xaxislayer-above\"><g class=\"xtick\"><text text-anchor=\"middle\" x=\"0\" y=\"435.4\" transform=\"translate(110.75,0)\" style=\"font-family: 'Open Sans', verdana, arial, sans-serif; font-size: 12px; fill: rgb(42, 63, 95); fill-opacity: 1; white-space: pre; opacity: 1;\">control</text></g><g class=\"xtick\"><text text-anchor=\"middle\" x=\"0\" y=\"435.4\" style=\"font-family: 'Open Sans', verdana, arial, sans-serif; font-size: 12px; fill: rgb(42, 63, 95); fill-opacity: 1; white-space: pre; opacity: 1;\" transform=\"translate(539.25,0)\">treated</text></g></g><g class=\"yaxislayer-above\"><g class=\"ytick\"><text text-anchor=\"end\" x=\"76.6\" y=\"4.199999999999999\" transform=\"translate(0,389.32)\" style=\"font-family: 'Open Sans', verdana, arial, sans-serif; font-size: 12px; fill: rgb(42, 63, 95); fill-opacity: 1; white-space: pre; opacity: 1;\">0.105</text></g><g class=\"ytick\"><text text-anchor=\"end\" x=\"76.6\" y=\"4.199999999999999\" style=\"font-family: 'Open Sans', verdana, arial, sans-serif; font-size: 12px; fill: rgb(42, 63, 95); fill-opacity: 1; white-space: pre; opacity: 1;\" transform=\"translate(0,307.14)\">0.11</text></g><g class=\"ytick\"><text text-anchor=\"end\" x=\"76.6\" y=\"4.199999999999999\" style=\"font-family: 'Open Sans', verdana, arial, sans-serif; font-size: 12px; fill: rgb(42, 63, 95); fill-opacity: 1; white-space: pre; opacity: 1;\" transform=\"translate(0,224.97)\">0.115</text></g><g class=\"ytick\"><text text-anchor=\"end\" x=\"76.6\" y=\"4.199999999999999\" style=\"font-family: 'Open Sans', verdana, arial, sans-serif; font-size: 12px; fill: rgb(42, 63, 95); fill-opacity: 1; white-space: pre; opacity: 1;\" transform=\"translate(0,142.79)\">0.12</text></g></g><g class=\"overaxes-above\"/></g></g><g class=\"polarlayer\"/><g class=\"smithlayer\"/><g class=\"ternarylayer\"/><g class=\"geolayer\"/><g class=\"funnelarealayer\"/><g class=\"pielayer\"/><g class=\"iciclelayer\"/><g class=\"treemaplayer\"/><g class=\"sunburstlayer\"/><g class=\"glimages\"/><defs id=\"topdefs-6ab909\"><g class=\"clips\"/></defs><g class=\"layer-above\"><g class=\"imagelayer\"/><g class=\"shapelayer\"/></g><g class=\"infolayer\"><g class=\"g-gtitle\"/><g class=\"g-xtitle\"><text class=\"xtitle\" x=\"325\" y=\"462.20625\" text-anchor=\"middle\" style=\"font-family: 'Open Sans', verdana, arial, sans-serif; font-size: 14px; fill: rgb(42, 63, 95); opacity: 1; font-weight: normal; white-space: pre;\">Group</text></g><g class=\"g-ytitle\"><text class=\"ytitle\" transform=\"rotate(-90,17.418750000000003,260)\" x=\"17.418750000000003\" y=\"260\" text-anchor=\"middle\" style=\"font-family: 'Open Sans', verdana, arial, sans-serif; font-size: 14px; fill: rgb(42, 63, 95); opacity: 1; font-weight: normal; white-space: pre;\">Proportion Influenced</text></g></g><g class=\"menulayer\"><g class=\"updatemenu-container\" style=\"cursor: pointer;\"><g class=\"updatemenu-header-group\" pointer-events=\"all\"><g class=\"updatemenu-button\" transform=\"translate(72,37)\"><rect class=\"updatemenu-item-rect\" rx=\"2\" ry=\"2\" shape-rendering=\"crispEdges\" x=\"0\" y=\"0\" width=\"116\" height=\"33\" style=\"stroke: rgb(190, 200, 217); stroke-opacity: 1; fill: rgb(244, 250, 255); fill-opacity: 1; stroke-width: 1px;\"/><text class=\"updatemenu-item-text\" text-anchor=\"start\" data-notex=\"1\" x=\"12\" y=\"19.5\" style=\"font-family: 'Open Sans', verdana, arial, sans-serif; font-size: 12px; fill: rgb(42, 63, 95); fill-opacity: 1; white-space: pre;\">25th percentile</text></g><g class=\"updatemenu-button\" transform=\"translate(190,37)\"><rect class=\"updatemenu-item-rect\" rx=\"2\" ry=\"2\" shape-rendering=\"crispEdges\" x=\"0\" y=\"0\" width=\"67\" height=\"33\" style=\"stroke: rgb(190, 200, 217); stroke-opacity: 1; fill: rgb(255, 255, 255); fill-opacity: 1; stroke-width: 1px;\"/><text class=\"updatemenu-item-text\" text-anchor=\"start\" data-notex=\"1\" x=\"12\" y=\"19.5\" style=\"font-family: 'Open Sans', verdana, arial, sans-serif; font-size: 12px; fill: rgb(42, 63, 95); fill-opacity: 1; white-space: pre;\">Median</text></g><g class=\"updatemenu-button\" transform=\"translate(259,37)\"><rect class=\"updatemenu-item-rect\" rx=\"2\" ry=\"2\" shape-rendering=\"crispEdges\" x=\"0\" y=\"0\" width=\"116\" height=\"33\" style=\"stroke: rgb(190, 200, 217); stroke-opacity: 1; fill: rgb(255, 255, 255); fill-opacity: 1; stroke-width: 1px;\"/><text class=\"updatemenu-item-text\" text-anchor=\"start\" data-notex=\"1\" x=\"12\" y=\"19.5\" style=\"font-family: 'Open Sans', verdana, arial, sans-serif; font-size: 12px; fill: rgb(42, 63, 95); fill-opacity: 1; white-space: pre;\">75th percentile</text></g><g class=\"updatemenu-button\" transform=\"translate(377,37)\"><rect class=\"updatemenu-item-rect\" rx=\"2\" ry=\"2\" shape-rendering=\"crispEdges\" x=\"0\" y=\"0\" width=\"116\" height=\"33\" style=\"stroke: rgb(190, 200, 217); stroke-opacity: 1; fill: rgb(255, 255, 255); fill-opacity: 1; stroke-width: 1px;\"/><text class=\"updatemenu-item-text\" text-anchor=\"start\" data-notex=\"1\" x=\"12\" y=\"19.5\" style=\"font-family: 'Open Sans', verdana, arial, sans-serif; font-size: 12px; fill: rgb(42, 63, 95); fill-opacity: 1; white-space: pre;\">90th percentile</text></g><g class=\"updatemenu-button\" transform=\"translate(495,37)\"><rect class=\"updatemenu-item-rect\" rx=\"2\" ry=\"2\" shape-rendering=\"crispEdges\" x=\"0\" y=\"0\" width=\"76\" height=\"33\" style=\"stroke: rgb(190, 200, 217); stroke-opacity: 1; fill: rgb(255, 255, 255); fill-opacity: 1; stroke-width: 1px;\"/><text class=\"updatemenu-item-text\" text-anchor=\"start\" data-notex=\"1\" x=\"12\" y=\"19.5\" style=\"font-family: 'Open Sans', verdana, arial, sans-serif; font-size: 12px; fill: rgb(42, 63, 95); fill-opacity: 1; white-space: pre;\">Show All</text></g></g><g class=\"updatemenu-dropdown-button-group\" updatemenu-active-index=\"-1\" style=\"pointer-events: all;\"><rect class=\"scrollbox-bg\" opacity=\"0\" x=\"0\" y=\"0\" width=\"0\" height=\"0\" style=\"pointer-events: all;\"/></g></g></g></svg>"
      ]
     },
     "metadata": {},
     "output_type": "display_data"
    }
   ],
   "source": [
    "import pandas as pd\n",
    "import plotly.graph_objects as go\n",
    "from IPython.display import display\n",
    "\n",
    "# Sample data\n",
    "data = pd.read_csv('data/web_data/matching_result_prop_significatif.csv')\n",
    "\n",
    "# Create DataFrame\n",
    "df = pd.DataFrame(data)\n",
    "df['group'] = ['control' if i % 2 == 0 else 'treated' for i in range(len(df))]\n",
    "display(df)\n",
    "\n",
    "control_df = df[df['group']=='control'].reset_index(drop=True)\n",
    "treated_df = df[df['group']=='treated'].reset_index(drop=True)\n",
    "\n",
    "display(control_df)\n",
    "display(treated_df)\n",
    "\n",
    "percentile25 = pd.DataFrame((control_df.loc[0], treated_df.loc[0])).reset_index(drop=True)\n",
    "median= pd.DataFrame((control_df.loc[1], treated_df.loc[1])).reset_index(drop=True)\n",
    "percentile75 = pd.DataFrame((control_df.loc[2], treated_df.loc[2])).reset_index(drop=True)\n",
    "percentile90= pd.DataFrame((control_df.loc[3], treated_df.loc[3])).reset_index(drop=True)\n",
    "\n",
    "# Adjusting traces for vertical orientation\n",
    "trace_pair_1 = go.Scatter(\n",
    "    x=percentile25.index,\n",
    "    y=percentile25['proportion_influenced'],\n",
    "    mode='markers',\n",
    "    name='25th percentile',\n",
    "    marker=dict(color='blue', size=10),\n",
    "    text=percentile25.index,\n",
    "    legendgroup='25th percentile',  # Separate legend group\n",
    "    error_y=dict(type='data', array=percentile25['ci_upper'] - percentile25['proportion_influenced'], color='blue', thickness=1.5)\n",
    ")\n",
    "\n",
    "trace_pair_2 = go.Scatter(\n",
    "    x=median.index,\n",
    "    y=median['proportion_influenced'],\n",
    "    mode='markers',\n",
    "    name='Median',\n",
    "    marker=dict(color='orange', size=10),\n",
    "    text=median.index,\n",
    "    legendgroup='Median',  # Separate legend group\n",
    "    error_y=dict(type='data', array=median['ci_upper'] - median['proportion_influenced'], color='orange', thickness=1.5)\n",
    ")\n",
    "\n",
    "trace_pair_3 = go.Scatter(\n",
    "    x=percentile75.index,\n",
    "    y=percentile75['proportion_influenced'],\n",
    "    mode='markers',\n",
    "    name='75th percentile',\n",
    "    marker=dict(color='green', size=10),\n",
    "    text=percentile75.index,\n",
    "    legendgroup='75th percentile',  # Separate legend group\n",
    "    error_y=dict(type='data', array=percentile75['ci_upper'] - percentile75['proportion_influenced'], color='green', thickness=1.5)\n",
    ")\n",
    "\n",
    "trace_pair_4 = go.Scatter(\n",
    "    x=percentile90.index,\n",
    "    y=percentile90['proportion_influenced'],\n",
    "    mode='markers',\n",
    "    name='90th percentile',\n",
    "    marker=dict(color='red', size=10),\n",
    "    text=percentile90.index,\n",
    "    legendgroup='90th percentile',  # Separate legend group\n",
    "    error_y=dict(type='data', array=percentile90['ci_upper'] - percentile90['proportion_influenced'], color='red', thickness=1.5)\n",
    ")\n",
    "\n",
    "# Creating the figure with all traces\n",
    "fig = go.Figure(data=[trace_pair_1, trace_pair_2, trace_pair_3, trace_pair_4])\n",
    "\n",
    "# Set the initial visibility to show control data only\n",
    "fig.data[0].visible = True\n",
    "fig.data[1].visible = False\n",
    "fig.data[2].visible = False\n",
    "fig.data[3].visible = False\n",
    "\n",
    "# Updating layout with interactive buttons\n",
    "fig.update_layout(\n",
    "    updatemenus=[\n",
    "        dict(\n",
    "            type=\"buttons\",\n",
    "            direction=\"right\",\n",
    "            active=0,  # '25th percentile' is active initially\n",
    "            x=1,\n",
    "            y=1.2,\n",
    "            buttons=list([\n",
    "                dict(label=\"25th percentile\",\n",
    "                     method=\"update\",\n",
    "                     args=[{\"visible\": [True, False, False, False]},\n",
    "                           {\"yaxis.range\":  [0.1, 0.15],\n",
    "                            \"xaxis.title.text\": 'Group'}]),\n",
    "                dict(label=\"Median\",\n",
    "                     method=\"update\",\n",
    "                     args=[{\"visible\": [False, True, False, False]},\n",
    "                           {\"yaxis.range\":  [0.1, 0.15],\n",
    "                            \"xaxis.title.text\": 'Group'}]),\n",
    "                dict(label=\"75th percentile\",\n",
    "                     method=\"update\",\n",
    "                     args=[{\"visible\": [False, False, True, False]},\n",
    "                           {\"yaxis.range\":  [0.1, 0.15],\n",
    "                            \"xaxis.title.text\": 'Group'}]),\n",
    "                dict(label=\"90th percentile\",\n",
    "                     method=\"update\",\n",
    "                     args=[{\"visible\": [False, False, False, True]},\n",
    "                           {\"yaxis.range\": [0.1, 0.15],\n",
    "                            \"xaxis.title.text\": 'Group'}]),\n",
    "                dict(label=\"Show All\",\n",
    "                     method=\"update\",\n",
    "                     args=[{\"visible\": [True, True, True, True]},\n",
    "                           {\"yaxis.range\": [0.1, 0.15],\n",
    "                            \"xaxis.title.text\": 'Group'}]),\n",
    "            ]),\n",
    "        )\n",
    "    ],\n",
    "    xaxis=dict(\n",
    "        title='Group',\n",
    "        showgrid=True,\n",
    "        showline=True,\n",
    "        linewidth=1,\n",
    "        linecolor='white',\n",
    "        tickvals=[0, 1],  # Set tick positions\n",
    "        ticktext=['control', 'treated']  # Set tick labels\n",
    "    ),\n",
    "    yaxis=dict(\n",
    "        title='Proportion Influenced',\n",
    "        showgrid=True,\n",
    "        showline=True,\n",
    "        linewidth=1,\n",
    "        linecolor='white',\n",
    "        dtick=0.005  # Set dtick for finer graduation\n",
    "    ),\n",
    "    width=650,  # Set the width of the figure\n",
    "    legend=dict(x=1.1, y=1.05)  # Set legend position\n",
    ")\n",
    "\n",
    "# Show the figure\n",
    "fig.show(config={'displayModeBar': False})\n",
    "#fig.show(renderer=\"svg\")"
   ]
  },
  {
   "cell_type": "code",
   "execution_count": null,
   "metadata": {},
   "outputs": [],
   "source": []
  }
 ],
 "metadata": {
  "kernelspec": {
   "display_name": "ada",
   "language": "python",
   "name": "python3"
  },
  "language_info": {
   "codemirror_mode": {
    "name": "ipython",
    "version": 3
   },
   "file_extension": ".py",
   "mimetype": "text/x-python",
   "name": "python",
   "nbconvert_exporter": "python",
   "pygments_lexer": "ipython3",
   "version": "3.9.18"
  }
 },
 "nbformat": 4,
 "nbformat_minor": 2
}
