{
 "cells": [
  {
   "cell_type": "code",
   "execution_count": 58,
   "metadata": {},
   "outputs": [],
   "source": [
    "import pandas as pd\n",
    "import os"
   ]
  },
  {
   "cell_type": "markdown",
   "metadata": {},
   "source": [
    "# Get data for data discovery"
   ]
  },
  {
   "cell_type": "code",
   "execution_count": 59,
   "metadata": {},
   "outputs": [],
   "source": [
    "folder_processed_data_path = './processed_data/'\n",
    "processed_website_data_folder = './processed_data/website/'"
   ]
  },
  {
   "cell_type": "markdown",
   "metadata": {},
   "source": [
    "We import the dataframe computed in preprocessing."
   ]
  },
  {
   "cell_type": "code",
   "execution_count": 60,
   "metadata": {},
   "outputs": [
    {
     "name": "stdout",
     "output_type": "stream",
     "text": [
      "name_by_movie_ordered_pvalue_10_5_df :\n"
     ]
    },
    {
     "data": {
      "text/html": [
       "<div>\n",
       "<style scoped>\n",
       "    .dataframe tbody tr th:only-of-type {\n",
       "        vertical-align: middle;\n",
       "    }\n",
       "\n",
       "    .dataframe tbody tr th {\n",
       "        vertical-align: top;\n",
       "    }\n",
       "\n",
       "    .dataframe thead th {\n",
       "        text-align: right;\n",
       "    }\n",
       "</style>\n",
       "<table border=\"1\" class=\"dataframe\">\n",
       "  <thead>\n",
       "    <tr style=\"text-align: right;\">\n",
       "      <th></th>\n",
       "      <th>wiki_ID</th>\n",
       "      <th>char_words</th>\n",
       "      <th>order</th>\n",
       "      <th>gender</th>\n",
       "      <th>t_stat</th>\n",
       "      <th>p_value</th>\n",
       "      <th>slope_change</th>\n",
       "    </tr>\n",
       "  </thead>\n",
       "  <tbody>\n",
       "    <tr>\n",
       "      <th>136127</th>\n",
       "      <td>23535297</td>\n",
       "      <td>Milo</td>\n",
       "      <td>0.0</td>\n",
       "      <td>M</td>\n",
       "      <td>-1.587552</td>\n",
       "      <td>0.140695</td>\n",
       "      <td>0.001719</td>\n",
       "    </tr>\n",
       "    <tr>\n",
       "      <th>122820</th>\n",
       "      <td>20581179</td>\n",
       "      <td>Seeta</td>\n",
       "      <td>3.0</td>\n",
       "      <td>F</td>\n",
       "      <td>0.000000</td>\n",
       "      <td>1.000000</td>\n",
       "      <td>0.000000</td>\n",
       "    </tr>\n",
       "  </tbody>\n",
       "</table>\n",
       "</div>"
      ],
      "text/plain": [
       "         wiki_ID char_words  order gender    t_stat   p_value  slope_change\n",
       "136127  23535297       Milo    0.0      M -1.587552  0.140695      0.001719\n",
       "122820  20581179      Seeta    3.0      F  0.000000  1.000000      0.000000"
      ]
     },
     "metadata": {},
     "output_type": "display_data"
    },
    {
     "name": "stdout",
     "output_type": "stream",
     "text": [
      "length : 172906\n",
      "\n",
      "movie_genres_df :\n"
     ]
    },
    {
     "data": {
      "text/html": [
       "<div>\n",
       "<style scoped>\n",
       "    .dataframe tbody tr th:only-of-type {\n",
       "        vertical-align: middle;\n",
       "    }\n",
       "\n",
       "    .dataframe tbody tr th {\n",
       "        vertical-align: top;\n",
       "    }\n",
       "\n",
       "    .dataframe thead th {\n",
       "        text-align: right;\n",
       "    }\n",
       "</style>\n",
       "<table border=\"1\" class=\"dataframe\">\n",
       "  <thead>\n",
       "    <tr style=\"text-align: right;\">\n",
       "      <th></th>\n",
       "      <th>wiki_ID</th>\n",
       "      <th>genre</th>\n",
       "    </tr>\n",
       "  </thead>\n",
       "  <tbody>\n",
       "    <tr>\n",
       "      <th>79192</th>\n",
       "      <td>6484887</td>\n",
       "      <td>Drama</td>\n",
       "    </tr>\n",
       "    <tr>\n",
       "      <th>71263</th>\n",
       "      <td>5557065</td>\n",
       "      <td>Science Fiction</td>\n",
       "    </tr>\n",
       "  </tbody>\n",
       "</table>\n",
       "</div>"
      ],
      "text/plain": [
       "       wiki_ID            genre\n",
       "79192  6484887            Drama\n",
       "71263  5557065  Science Fiction"
      ]
     },
     "metadata": {},
     "output_type": "display_data"
    },
    {
     "name": "stdout",
     "output_type": "stream",
     "text": [
      "length : 213854\n",
      "\n",
      "movie_df :\n"
     ]
    },
    {
     "data": {
      "text/html": [
       "<div>\n",
       "<style scoped>\n",
       "    .dataframe tbody tr th:only-of-type {\n",
       "        vertical-align: middle;\n",
       "    }\n",
       "\n",
       "    .dataframe tbody tr th {\n",
       "        vertical-align: top;\n",
       "    }\n",
       "\n",
       "    .dataframe thead th {\n",
       "        text-align: right;\n",
       "    }\n",
       "</style>\n",
       "<table border=\"1\" class=\"dataframe\">\n",
       "  <thead>\n",
       "    <tr style=\"text-align: right;\">\n",
       "      <th></th>\n",
       "      <th>wiki_ID</th>\n",
       "      <th>mov_name</th>\n",
       "      <th>year</th>\n",
       "      <th>month</th>\n",
       "      <th>revenue</th>\n",
       "      <th>numVotes</th>\n",
       "      <th>averageRating</th>\n",
       "      <th>poster_url</th>\n",
       "      <th>IMDB_ID</th>\n",
       "    </tr>\n",
       "  </thead>\n",
       "  <tbody>\n",
       "    <tr>\n",
       "      <th>14445</th>\n",
       "      <td>13079614</td>\n",
       "      <td>The Girl in the Limousine</td>\n",
       "      <td>1924</td>\n",
       "      <td>7.0</td>\n",
       "      <td>NaN</td>\n",
       "      <td>19</td>\n",
       "      <td>6.3</td>\n",
       "      <td>NaN</td>\n",
       "      <td>tt0014946</td>\n",
       "    </tr>\n",
       "    <tr>\n",
       "      <th>15337</th>\n",
       "      <td>21711315</td>\n",
       "      <td>Don't Panic Chaps!</td>\n",
       "      <td>1959</td>\n",
       "      <td>NaN</td>\n",
       "      <td>NaN</td>\n",
       "      <td>169</td>\n",
       "      <td>5.6</td>\n",
       "      <td>NaN</td>\n",
       "      <td>tt0052750</td>\n",
       "    </tr>\n",
       "  </tbody>\n",
       "</table>\n",
       "</div>"
      ],
      "text/plain": [
       "        wiki_ID                   mov_name  year  month  revenue  numVotes  \\\n",
       "14445  13079614  The Girl in the Limousine  1924    7.0      NaN        19   \n",
       "15337  21711315         Don't Panic Chaps!  1959    NaN      NaN       169   \n",
       "\n",
       "       averageRating poster_url    IMDB_ID  \n",
       "14445            6.3        NaN  tt0014946  \n",
       "15337            5.6        NaN  tt0052750  "
      ]
     },
     "metadata": {},
     "output_type": "display_data"
    },
    {
     "name": "stdout",
     "output_type": "stream",
     "text": [
      "length : 65503\n"
     ]
    }
   ],
   "source": [
    "# import the name by movie\n",
    "print(\"name_by_movie_ordered_pvalue_10_5_df :\")\n",
    "name_by_movie_df = pd.read_csv(os.path.join(folder_processed_data_path, 'name_by_movie_ordered_pvalue_10_5_df.csv'))\n",
    "# name_by_movie_df.set_index(['wiki_ID', 'char_words', 'gender'], inplace=True)\n",
    "display(name_by_movie_df.sample(2))\n",
    "print(f\"length : {len(name_by_movie_df)}\\n\")\n",
    "\n",
    "# import movie genres\n",
    "print(\"movie_genres_df :\")\n",
    "movie_genres_df = pd.read_csv(os.path.join(folder_processed_data_path, 'movie_genres_df.csv'))\n",
    "display(movie_genres_df.sample(2))\n",
    "print(f\"length : {len(movie_genres_df)}\\n\")\n",
    "\n",
    "# import the movie dataframe\n",
    "print(\"movie_df :\")\n",
    "movie_df = pd.read_csv(os.path.join(folder_processed_data_path, 'movie_df.csv'))\n",
    "# movie_df.set_index(['wiki_ID'], inplace=True)\n",
    "display(movie_df.sample(2))\n",
    "print(f\"length : {len(movie_df)}\")"
   ]
  },
  {
   "cell_type": "code",
   "execution_count": 61,
   "metadata": {},
   "outputs": [
    {
     "data": {
      "text/html": [
       "<div>\n",
       "<style scoped>\n",
       "    .dataframe tbody tr th:only-of-type {\n",
       "        vertical-align: middle;\n",
       "    }\n",
       "\n",
       "    .dataframe tbody tr th {\n",
       "        vertical-align: top;\n",
       "    }\n",
       "\n",
       "    .dataframe thead th {\n",
       "        text-align: right;\n",
       "    }\n",
       "</style>\n",
       "<table border=\"1\" class=\"dataframe\">\n",
       "  <thead>\n",
       "    <tr style=\"text-align: right;\">\n",
       "      <th></th>\n",
       "      <th>wiki_ID</th>\n",
       "      <th>char_words</th>\n",
       "    </tr>\n",
       "  </thead>\n",
       "  <tbody>\n",
       "    <tr>\n",
       "      <th>18531</th>\n",
       "      <td>644385</td>\n",
       "      <td>Young</td>\n",
       "    </tr>\n",
       "    <tr>\n",
       "      <th>26272</th>\n",
       "      <td>1036025</td>\n",
       "      <td>Jin</td>\n",
       "    </tr>\n",
       "  </tbody>\n",
       "</table>\n",
       "</div>"
      ],
      "text/plain": [
       "       wiki_ID char_words\n",
       "18531   644385      Young\n",
       "26272  1036025        Jin"
      ]
     },
     "metadata": {},
     "output_type": "display_data"
    },
    {
     "name": "stdout",
     "output_type": "stream",
     "text": [
      "Length change : 172906 -> 167984\n"
     ]
    }
   ],
   "source": [
    "# keep only the movie_id and name and drop duplicates as we remove the gender column\n",
    "char_name_per_movie = name_by_movie_df[['wiki_ID', 'char_words']].drop_duplicates()\n",
    "display(char_name_per_movie.sample(2))\n",
    "print(f\"Length change : {len(name_by_movie_df)} -> {len(char_name_per_movie)}\")"
   ]
  },
  {
   "cell_type": "code",
   "execution_count": 62,
   "metadata": {},
   "outputs": [
    {
     "data": {
      "text/html": [
       "<div>\n",
       "<style scoped>\n",
       "    .dataframe tbody tr th:only-of-type {\n",
       "        vertical-align: middle;\n",
       "    }\n",
       "\n",
       "    .dataframe tbody tr th {\n",
       "        vertical-align: top;\n",
       "    }\n",
       "\n",
       "    .dataframe thead th {\n",
       "        text-align: right;\n",
       "    }\n",
       "</style>\n",
       "<table border=\"1\" class=\"dataframe\">\n",
       "  <thead>\n",
       "    <tr style=\"text-align: right;\">\n",
       "      <th></th>\n",
       "      <th>genre</th>\n",
       "      <th>char_name</th>\n",
       "      <th>movie_id</th>\n",
       "    </tr>\n",
       "  </thead>\n",
       "  <tbody>\n",
       "    <tr>\n",
       "      <th>690517</th>\n",
       "      <td>Crime Fiction</td>\n",
       "      <td>Jody</td>\n",
       "      <td>28222345</td>\n",
       "    </tr>\n",
       "    <tr>\n",
       "      <th>148909</th>\n",
       "      <td>Cult</td>\n",
       "      <td>Robin</td>\n",
       "      <td>967721</td>\n",
       "    </tr>\n",
       "  </tbody>\n",
       "</table>\n",
       "</div>"
      ],
      "text/plain": [
       "                genre char_name  movie_id\n",
       "690517  Crime Fiction      Jody  28222345\n",
       "148909           Cult     Robin    967721"
      ]
     },
     "metadata": {},
     "output_type": "display_data"
    },
    {
     "name": "stdout",
     "output_type": "stream",
     "text": [
      "Length change : 167984 -> 739925\n"
     ]
    }
   ],
   "source": [
    "# add a column with the genre of the movie\n",
    "char_name_per_movie_with_genre = char_name_per_movie.merge(movie_genres_df, on='wiki_ID', how='left').copy(deep=True)\n",
    "\n",
    "# rearrange and rename the columns\n",
    "char_name_per_movie_with_genre = char_name_per_movie_with_genre[['genre', 'char_words', 'wiki_ID']].copy(deep=True)\n",
    "char_name_per_movie_with_genre.rename(columns={'char_words': 'char_name', 'wiki_ID': 'movie_id'}, inplace=True)\n",
    "\n",
    "display(char_name_per_movie_with_genre.sample(2))\n",
    "print(f\"Length change : {len(char_name_per_movie)} -> {len(char_name_per_movie_with_genre)}\") # the increase is due to the fact that some movies have multiple genres"
   ]
  },
  {
   "cell_type": "code",
   "execution_count": 63,
   "metadata": {},
   "outputs": [
    {
     "data": {
      "text/html": [
       "<div>\n",
       "<style scoped>\n",
       "    .dataframe tbody tr th:only-of-type {\n",
       "        vertical-align: middle;\n",
       "    }\n",
       "\n",
       "    .dataframe tbody tr th {\n",
       "        vertical-align: top;\n",
       "    }\n",
       "\n",
       "    .dataframe thead th {\n",
       "        text-align: right;\n",
       "    }\n",
       "</style>\n",
       "<table border=\"1\" class=\"dataframe\">\n",
       "  <thead>\n",
       "    <tr style=\"text-align: right;\">\n",
       "      <th></th>\n",
       "      <th>genre</th>\n",
       "      <th>char_name</th>\n",
       "      <th>nb_movies</th>\n",
       "    </tr>\n",
       "  </thead>\n",
       "  <tbody>\n",
       "    <tr>\n",
       "      <th>241454</th>\n",
       "      <td>Thriller</td>\n",
       "      <td>Tobias</td>\n",
       "      <td>3</td>\n",
       "    </tr>\n",
       "    <tr>\n",
       "      <th>214817</th>\n",
       "      <td>Short Film</td>\n",
       "      <td>Langston</td>\n",
       "      <td>1</td>\n",
       "    </tr>\n",
       "    <tr>\n",
       "      <th>50418</th>\n",
       "      <td>Chinese Movies</td>\n",
       "      <td>Riko</td>\n",
       "      <td>1</td>\n",
       "    </tr>\n",
       "    <tr>\n",
       "      <th>250500</th>\n",
       "      <td>World cinema</td>\n",
       "      <td>Dhiren</td>\n",
       "      <td>1</td>\n",
       "    </tr>\n",
       "    <tr>\n",
       "      <th>47497</th>\n",
       "      <td>Children's Fantasy</td>\n",
       "      <td>Margaret</td>\n",
       "      <td>1</td>\n",
       "    </tr>\n",
       "    <tr>\n",
       "      <th>88805</th>\n",
       "      <td>Culture &amp; Society</td>\n",
       "      <td>Captain</td>\n",
       "      <td>1</td>\n",
       "    </tr>\n",
       "    <tr>\n",
       "      <th>89980</th>\n",
       "      <td>Detective</td>\n",
       "      <td>Lorenzo</td>\n",
       "      <td>1</td>\n",
       "    </tr>\n",
       "    <tr>\n",
       "      <th>114853</th>\n",
       "      <td>Family Drama</td>\n",
       "      <td>Willa</td>\n",
       "      <td>1</td>\n",
       "    </tr>\n",
       "    <tr>\n",
       "      <th>25940</th>\n",
       "      <td>Anime</td>\n",
       "      <td>Arnie</td>\n",
       "      <td>1</td>\n",
       "    </tr>\n",
       "    <tr>\n",
       "      <th>228598</th>\n",
       "      <td>Suspense</td>\n",
       "      <td>Cookie</td>\n",
       "      <td>1</td>\n",
       "    </tr>\n",
       "  </tbody>\n",
       "</table>\n",
       "</div>"
      ],
      "text/plain": [
       "                     genre char_name  nb_movies\n",
       "241454            Thriller    Tobias          3\n",
       "214817          Short Film  Langston          1\n",
       "50418       Chinese Movies      Riko          1\n",
       "250500        World cinema    Dhiren          1\n",
       "47497   Children's Fantasy  Margaret          1\n",
       "88805    Culture & Society   Captain          1\n",
       "89980            Detective   Lorenzo          1\n",
       "114853        Family Drama     Willa          1\n",
       "25940                Anime     Arnie          1\n",
       "228598            Suspense    Cookie          1"
      ]
     },
     "metadata": {},
     "output_type": "display_data"
    },
    {
     "name": "stdout",
     "output_type": "stream",
     "text": [
      "Length of movie_count_per_name_and_genre : 254789\n"
     ]
    }
   ],
   "source": [
    "# for each name and genre, count the number of movies\n",
    "movie_count_per_name_and_genre = char_name_per_movie_with_genre.groupby(['genre', 'char_name']).count().reset_index()\n",
    "movie_count_per_name_and_genre.rename(columns={'movie_id': 'nb_movies'}, inplace=True)\n",
    "display(movie_count_per_name_and_genre.sample(10))\n",
    "print(f\"Length of movie_count_per_name_and_genre : {len(movie_count_per_name_and_genre)}\")"
   ]
  },
  {
   "cell_type": "code",
   "execution_count": 64,
   "metadata": {},
   "outputs": [],
   "source": [
    "# drop the non relevant name 'The' from the dataframe\n",
    "movie_count_per_name_and_genre = movie_count_per_name_and_genre[movie_count_per_name_and_genre['char_name'] != 'The'].copy(deep=True)"
   ]
  },
  {
   "cell_type": "code",
   "execution_count": 65,
   "metadata": {},
   "outputs": [
    {
     "data": {
      "text/html": [
       "<div>\n",
       "<style scoped>\n",
       "    .dataframe tbody tr th:only-of-type {\n",
       "        vertical-align: middle;\n",
       "    }\n",
       "\n",
       "    .dataframe tbody tr th {\n",
       "        vertical-align: top;\n",
       "    }\n",
       "\n",
       "    .dataframe thead th {\n",
       "        text-align: right;\n",
       "    }\n",
       "</style>\n",
       "<table border=\"1\" class=\"dataframe\">\n",
       "  <thead>\n",
       "    <tr style=\"text-align: right;\">\n",
       "      <th></th>\n",
       "      <th></th>\n",
       "      <th>index</th>\n",
       "      <th>nb_movies</th>\n",
       "    </tr>\n",
       "    <tr>\n",
       "      <th>genre</th>\n",
       "      <th>char_name</th>\n",
       "      <th></th>\n",
       "      <th></th>\n",
       "    </tr>\n",
       "  </thead>\n",
       "  <tbody>\n",
       "    <tr>\n",
       "      <th rowspan=\"5\" valign=\"top\">Zombie Film</th>\n",
       "      <th>Alice</th>\n",
       "      <td>254325</td>\n",
       "      <td>6</td>\n",
       "    </tr>\n",
       "    <tr>\n",
       "      <th>Frank</th>\n",
       "      <td>254486</td>\n",
       "      <td>5</td>\n",
       "    </tr>\n",
       "    <tr>\n",
       "      <th>Sheriff</th>\n",
       "      <td>254731</td>\n",
       "      <td>5</td>\n",
       "    </tr>\n",
       "    <tr>\n",
       "      <th>Ben</th>\n",
       "      <td>254358</td>\n",
       "      <td>4</td>\n",
       "    </tr>\n",
       "    <tr>\n",
       "      <th>Doctor</th>\n",
       "      <td>254447</td>\n",
       "      <td>4</td>\n",
       "    </tr>\n",
       "    <tr>\n",
       "      <th>...</th>\n",
       "      <th>...</th>\n",
       "      <td>...</td>\n",
       "      <td>...</td>\n",
       "    </tr>\n",
       "    <tr>\n",
       "      <th rowspan=\"5\" valign=\"top\">Absurdism</th>\n",
       "      <th>Doctor</th>\n",
       "      <td>123</td>\n",
       "      <td>4</td>\n",
       "    </tr>\n",
       "    <tr>\n",
       "      <th>George</th>\n",
       "      <td>176</td>\n",
       "      <td>4</td>\n",
       "    </tr>\n",
       "    <tr>\n",
       "      <th>King</th>\n",
       "      <td>271</td>\n",
       "      <td>4</td>\n",
       "    </tr>\n",
       "    <tr>\n",
       "      <th>Man</th>\n",
       "      <td>304</td>\n",
       "      <td>4</td>\n",
       "    </tr>\n",
       "    <tr>\n",
       "      <th>Roger</th>\n",
       "      <td>414</td>\n",
       "      <td>4</td>\n",
       "    </tr>\n",
       "  </tbody>\n",
       "</table>\n",
       "<p>3157 rows × 2 columns</p>\n",
       "</div>"
      ],
      "text/plain": [
       "                        index  nb_movies\n",
       "genre       char_name                   \n",
       "Zombie Film Alice      254325          6\n",
       "            Frank      254486          5\n",
       "            Sheriff    254731          5\n",
       "            Ben        254358          4\n",
       "            Doctor     254447          4\n",
       "...                       ...        ...\n",
       "Absurdism   Doctor        123          4\n",
       "            George        176          4\n",
       "            King          271          4\n",
       "            Man           304          4\n",
       "            Roger         414          4\n",
       "\n",
       "[3157 rows x 2 columns]"
      ]
     },
     "metadata": {},
     "output_type": "display_data"
    }
   ],
   "source": [
    "# For each genre, keep only the 10 names with the most counts\n",
    "movie_count_per_name_and_genre.reset_index(inplace=True)\n",
    "movie_count_per_name_and_genre.sort_values(by=['genre', 'nb_movies'], ascending=False, inplace=True)\n",
    "top10_per_genre = movie_count_per_name_and_genre.groupby('genre').head(10).reset_index(drop=True)\n",
    "top10_per_genre.set_index(['genre', 'char_name'], inplace=True)\n",
    "display(top10_per_genre)"
   ]
  },
  {
   "cell_type": "code",
   "execution_count": 68,
   "metadata": {},
   "outputs": [
    {
     "name": "stdout",
     "output_type": "stream",
     "text": [
      "                        nb_movies\n",
      "genre        char_name           \n",
      "Drama        John             701\n",
      "             Jack             426\n",
      "             Man              397\n",
      "             Mary             379\n",
      "             Joe              338\n",
      "             Paul             334\n",
      "             Frank            333\n",
      "             George           325\n",
      "             David            324\n",
      "             Tom              307\n",
      "Comedy       John             261\n",
      "             Girl             250\n",
      "             Jack             249\n",
      "             Man              234\n",
      "             Joe              193\n",
      "             Frank            187\n",
      "             George           186\n",
      "             Sam              181\n",
      "             Mary             180\n",
      "             Tom              165\n",
      "Thriller     John             304\n",
      "             Jack             246\n",
      "             Man              185\n",
      "             Frank            183\n",
      "             Agent            175\n",
      "             Captain          155\n",
      "             James            152\n",
      "             David            151\n",
      "             Michael          151\n",
      "             Tom              145\n",
      "Romance Film John             233\n",
      "             Jack             146\n",
      "             Mary             142\n",
      "             Man              139\n",
      "             Girl             131\n",
      "             Paul             129\n",
      "             Joe              127\n",
      "             George           125\n",
      "             David            117\n",
      "             Young            114\n",
      "Action       John             252\n",
      "             Captain          210\n",
      "             Jack             187\n",
      "             Agent            156\n",
      "             Frank            149\n",
      "             Man              149\n",
      "             James            147\n",
      "             General          134\n",
      "             Joe              105\n",
      "             Chief            103\n"
     ]
    }
   ],
   "source": [
    "# keep only the rows with a genre among the 5 genres with the highest number of names\n",
    "top5_genres = movie_count_per_name_and_genre.groupby('genre').sum().sort_values(by='nb_movies', ascending=False).head(5).index\n",
    "top10_name_top5_genre = top10_per_genre.loc[top5_genres, :].copy(deep=True)\n",
    "top10_name_top5_genre.drop(columns=['index'], inplace=True)\n",
    "print(top10_name_top5_genre)"
   ]
  },
  {
   "cell_type": "code",
   "execution_count": 71,
   "metadata": {},
   "outputs": [
    {
     "data": {
      "text/html": [
       "<div>\n",
       "<style scoped>\n",
       "    .dataframe tbody tr th:only-of-type {\n",
       "        vertical-align: middle;\n",
       "    }\n",
       "\n",
       "    .dataframe tbody tr th {\n",
       "        vertical-align: top;\n",
       "    }\n",
       "\n",
       "    .dataframe thead th {\n",
       "        text-align: right;\n",
       "    }\n",
       "</style>\n",
       "<table border=\"1\" class=\"dataframe\">\n",
       "  <thead>\n",
       "    <tr style=\"text-align: right;\">\n",
       "      <th></th>\n",
       "      <th></th>\n",
       "      <th>nb_movies</th>\n",
       "    </tr>\n",
       "    <tr>\n",
       "      <th>genre</th>\n",
       "      <th>char_name</th>\n",
       "      <th></th>\n",
       "    </tr>\n",
       "  </thead>\n",
       "  <tbody>\n",
       "    <tr>\n",
       "      <th>Action</th>\n",
       "      <th>Joe</th>\n",
       "      <td>105</td>\n",
       "    </tr>\n",
       "    <tr>\n",
       "      <th>Romance</th>\n",
       "      <th>George</th>\n",
       "      <td>125</td>\n",
       "    </tr>\n",
       "  </tbody>\n",
       "</table>\n",
       "</div>"
      ],
      "text/plain": [
       "                   nb_movies\n",
       "genre   char_name           \n",
       "Action  Joe              105\n",
       "Romance George           125"
      ]
     },
     "metadata": {},
     "output_type": "display_data"
    }
   ],
   "source": [
    "# rename the genre 'Romance Film' to 'Romance'\n",
    "top10_name_top5_genre.reset_index(inplace=True)\n",
    "top10_name_top5_genre.loc[top10_name_top5_genre['genre'] == 'Romance Film', 'genre'] = 'Romance'\n",
    "top10_name_top5_genre.set_index(['genre', 'char_name'], inplace=True)\n",
    "display(top10_name_top5_genre.sample(2))"
   ]
  },
  {
   "cell_type": "markdown",
   "metadata": {},
   "source": [
    "# Export the dataframes"
   ]
  },
  {
   "cell_type": "code",
   "execution_count": 72,
   "metadata": {},
   "outputs": [
    {
     "data": {
      "text/html": [
       "<div>\n",
       "<style scoped>\n",
       "    .dataframe tbody tr th:only-of-type {\n",
       "        vertical-align: middle;\n",
       "    }\n",
       "\n",
       "    .dataframe tbody tr th {\n",
       "        vertical-align: top;\n",
       "    }\n",
       "\n",
       "    .dataframe thead th {\n",
       "        text-align: right;\n",
       "    }\n",
       "</style>\n",
       "<table border=\"1\" class=\"dataframe\">\n",
       "  <thead>\n",
       "    <tr style=\"text-align: right;\">\n",
       "      <th></th>\n",
       "      <th>genre</th>\n",
       "      <th>char_name</th>\n",
       "      <th>nb_movies</th>\n",
       "    </tr>\n",
       "  </thead>\n",
       "  <tbody>\n",
       "    <tr>\n",
       "      <th>8</th>\n",
       "      <td>Drama</td>\n",
       "      <td>David</td>\n",
       "      <td>324</td>\n",
       "    </tr>\n",
       "    <tr>\n",
       "      <th>41</th>\n",
       "      <td>Action</td>\n",
       "      <td>Captain</td>\n",
       "      <td>210</td>\n",
       "    </tr>\n",
       "  </tbody>\n",
       "</table>\n",
       "</div>"
      ],
      "text/plain": [
       "     genre char_name  nb_movies\n",
       "8    Drama     David        324\n",
       "41  Action   Captain        210"
      ]
     },
     "metadata": {},
     "output_type": "display_data"
    }
   ],
   "source": [
    "# Export top10_name_top5_genre.csv\n",
    "display(top10_name_top5_genre.reset_index().sample(2))\n",
    "top10_name_top5_genre.to_csv(os.path.join(processed_website_data_folder, 'top10_name_top5_genre.csv'), index=True)"
   ]
  },
  {
   "cell_type": "code",
   "execution_count": null,
   "metadata": {},
   "outputs": [],
   "source": []
  }
 ],
 "metadata": {
  "kernelspec": {
   "display_name": "ada",
   "language": "python",
   "name": "python3"
  },
  "language_info": {
   "codemirror_mode": {
    "name": "ipython",
    "version": 3
   },
   "file_extension": ".py",
   "mimetype": "text/x-python",
   "name": "python",
   "nbconvert_exporter": "python",
   "pygments_lexer": "ipython3",
   "version": "3.9.18"
  }
 },
 "nbformat": 4,
 "nbformat_minor": 2
}
