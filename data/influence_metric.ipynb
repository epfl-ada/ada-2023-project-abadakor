{
 "cells": [
  {
   "cell_type": "code",
   "execution_count": 1,
   "metadata": {},
   "outputs": [],
   "source": [
    "import pandas as pd\n",
    "import numpy as np\n",
    "import plotly as pl\n",
    "import plotly.graph_objects as go"
   ]
  },
  {
   "cell_type": "code",
   "execution_count": 2,
   "metadata": {},
   "outputs": [],
   "source": [
    "# Copy the existing 'plotly_dark' theme\n",
    "custom_dark_theme = go.layout.Template(pl.io.templates['plotly_dark'])\n",
    "\n",
    "# Your custom settings\n",
    "custom_bg_color = 'rgb(15, 9, 28)'  # Your custom background color\n",
    "custom_font = 'Poppins'  # Your custom font\n",
    "custom_colorway = ['rgb(255, 185, 54)', '#FF6F59', '#4ECDC4', '#C7F464', '#F7FFF7']\n",
    "\n",
    "# Update the theme layout\n",
    "custom_dark_theme.layout.update(\n",
    "    plot_bgcolor=custom_bg_color,\n",
    "    paper_bgcolor=custom_bg_color,\n",
    "    font=dict(family=custom_font, color='white'),\n",
    "    colorway=custom_colorway,\n",
    "    margin=dict(t=0, l=0, b=0, r=0),\n",
    ")\n",
    "\n",
    "# Add the custom theme to Plotly's templates\n",
    "pl.io.templates['my_custom_dark_theme'] = custom_dark_theme\n",
    "\n",
    "# Set the custom theme as default\n",
    "pl.io.templates.default = 'my_custom_dark_theme'"
   ]
  },
  {
   "cell_type": "code",
   "execution_count": 3,
   "metadata": {},
   "outputs": [],
   "source": [
    "data_dir = 'processed_data/'"
   ]
  },
  {
   "cell_type": "code",
   "execution_count": 4,
   "metadata": {},
   "outputs": [],
   "source": [
    "baby_names = pd.read_csv(data_dir + 'baby_name_df.csv')\n",
    "movies = pd.read_csv(data_dir + 'movie_df.csv', index_col='wiki_ID')"
   ]
  },
  {
   "cell_type": "code",
   "execution_count": 5,
   "metadata": {},
   "outputs": [],
   "source": [
    "tmp = baby_names[baby_names.name == 'Mia'].pivot(index='year', columns='name', values='percentage')\n",
    "Mia_data = pd.Series(0.0, index=baby_names.year.unique())\n",
    "Mia_data[tmp.index] = tmp.Mia\n",
    "Mia_data.sort_index(inplace=True)"
   ]
  },
  {
   "cell_type": "code",
   "execution_count": 6,
   "metadata": {},
   "outputs": [],
   "source": [
    "Mia_data.name = 'percentage'\n",
    "Mia_data.index.name = 'year'"
   ]
  },
  {
   "cell_type": "code",
   "execution_count": 7,
   "metadata": {},
   "outputs": [],
   "source": [
    "Pulp_fiction_data = movies.loc[54173]\n",
    "x = Pulp_fiction_data.year\n",
    "y = Mia_data.loc[x]\n",
    "name = Pulp_fiction_data['mov_name']"
   ]
  },
  {
   "cell_type": "code",
   "execution_count": 13,
   "metadata": {},
   "outputs": [
    {
     "data": {
      "application/vnd.plotly.v1+json": {
       "config": {
        "plotlyServerURL": "https://plot.ly"
       },
       "data": [
        {
         "line": {
          "shape": "spline"
         },
         "name": "Mia",
         "type": "scatter",
         "x": [
          1880,
          1881,
          1882,
          1883,
          1884,
          1885,
          1886,
          1887,
          1888,
          1889,
          1890,
          1891,
          1892,
          1893,
          1894,
          1895,
          1896,
          1897,
          1898,
          1899,
          1900,
          1901,
          1902,
          1903,
          1904,
          1905,
          1906,
          1907,
          1908,
          1909,
          1910,
          1911,
          1912,
          1913,
          1914,
          1915,
          1916,
          1917,
          1918,
          1919,
          1920,
          1921,
          1922,
          1923,
          1924,
          1925,
          1926,
          1927,
          1928,
          1929,
          1930,
          1931,
          1932,
          1933,
          1934,
          1935,
          1936,
          1937,
          1938,
          1939,
          1940,
          1941,
          1942,
          1943,
          1944,
          1945,
          1946,
          1947,
          1948,
          1949,
          1950,
          1951,
          1952,
          1953,
          1954,
          1955,
          1956,
          1957,
          1958,
          1959,
          1960,
          1961,
          1962,
          1963,
          1964,
          1965,
          1966,
          1967,
          1968,
          1969,
          1970,
          1971,
          1972,
          1973,
          1974,
          1975,
          1976,
          1977,
          1978,
          1979,
          1980,
          1981,
          1982,
          1983,
          1984,
          1985,
          1986,
          1987,
          1988,
          1989,
          1990,
          1991,
          1992,
          1993,
          1994,
          1995,
          1996,
          1997,
          1998,
          1999,
          2000,
          2001,
          2002,
          2003,
          2004,
          2005,
          2006,
          2007,
          2008,
          2009,
          2010,
          2011,
          2012,
          2013,
          2014,
          2015,
          2016,
          2017,
          2018,
          2019,
          2020,
          2021,
          2022
         ],
         "y": [
          0,
          0,
          0,
          0,
          0,
          0,
          0,
          0,
          0,
          0,
          0,
          0,
          0,
          0,
          0,
          0,
          0,
          0,
          0,
          0,
          0,
          0,
          0,
          0,
          0,
          0,
          0,
          0,
          0,
          0,
          0,
          0,
          0,
          0,
          0,
          0,
          0,
          0,
          0,
          0,
          0,
          0,
          0,
          0,
          0,
          0,
          0,
          0,
          0,
          0,
          0,
          0,
          0,
          0.0001016605229823,
          0,
          0,
          0,
          0,
          0,
          0,
          0.000044040078232794976,
          0,
          0.0001111854818445,
          0.0001434221235796,
          0.0001881570207969,
          0.0001526407032462,
          0.000284763987607,
          0.0002805047514699,
          0.0004098691814678,
          0.0005510842001549,
          0.0004615899465709,
          0.0006582496647726,
          0.0006915404915576,
          0.0007078059196168,
          0.0010656679835278,
          0.0009559700328551,
          0.0008573789338076,
          0.0008651878683357,
          0.0007088379628192,
          0.0011423510362096,
          0.0011675187526618,
          0.0010739843403319,
          0.0020295238085693,
          0.0025548069971054,
          0.0076506295765532,
          0.0293109661815655,
          0.0208946585734106,
          0.0219103038726312,
          0.0203507960973296,
          0.0133401133413393,
          0.0136215510950291,
          0.0140948917861722,
          0.013312780042102,
          0.0116891062597191,
          0.0129476759592517,
          0.0122710004820508,
          0.0117796650671003,
          0.0141136726123057,
          0.0169579934092292,
          0.0185394532764339,
          0.0202434969618453,
          0.0211002838947287,
          0.0158010338473858,
          0.0137647019986229,
          0.0131081539739943,
          0.0141876836032139,
          0.013987215053575,
          0.0154500398157448,
          0.0170494536563466,
          0.0178827894916258,
          0.0201740614917825,
          0.020380491950889,
          0.0218278619582527,
          0.0216602470519886,
          0.0236610914472194,
          0.0307905688880089,
          0.0474970518585545,
          0.0706469456469456,
          0.0716628723385508,
          0.0761656224665455,
          0.0940716852402833,
          0.1079277162451179,
          0.1728444653629623,
          0.1923667485217791,
          0.200172270778981,
          0.2915262412558912,
          0.3144111190481476,
          0.2829377738608011,
          0.2678390944006468,
          0.3102902592057881,
          0.2985856909821684,
          0.3267624879156513,
          0.3409194230881985,
          0.3742494556991368,
          0.3779372234375812,
          0.4178086022708205,
          0.4080926669164751,
          0.3914317178447561,
          0.3752314251308388,
          0.3733120979345368,
          0.3494888155190557,
          0.3415742316571206,
          0.3396708985578701
         ]
        },
        {
         "marker": {
          "color": "#ff2d42",
          "line": {
           "color": "rgb(15, 9, 28)",
           "width": 5
          },
          "size": 15
         },
         "mode": "markers",
         "name": "",
         "text": [
          "Pulp Fiction"
         ],
         "type": "scatter",
         "x": [
          1994
         ],
         "y": [
          0.0236610914472194
         ]
        }
       ],
       "layout": {
        "annotations": [
         {
          "align": "center",
          "arrowwidth": 2,
          "ax": 0,
          "ay": -80,
          "bgcolor": "#ff2d42",
          "borderpad": 5,
          "font": {
           "size": 16
          },
          "opacity": 0.8,
          "showarrow": true,
          "text": "Pulp Fiction",
          "x": 1994,
          "xref": "x",
          "y": 0.0236610914472194,
          "yref": "y"
         }
        ],
        "showlegend": false,
        "template": {
         "data": {
          "bar": [
           {
            "error_x": {
             "color": "#f2f5fa"
            },
            "error_y": {
             "color": "#f2f5fa"
            },
            "marker": {
             "line": {
              "color": "rgb(17,17,17)",
              "width": 0.5
             },
             "pattern": {
              "fillmode": "overlay",
              "size": 10,
              "solidity": 0.2
             }
            },
            "type": "bar"
           }
          ],
          "barpolar": [
           {
            "marker": {
             "line": {
              "color": "rgb(17,17,17)",
              "width": 0.5
             },
             "pattern": {
              "fillmode": "overlay",
              "size": 10,
              "solidity": 0.2
             }
            },
            "type": "barpolar"
           }
          ],
          "carpet": [
           {
            "aaxis": {
             "endlinecolor": "#A2B1C6",
             "gridcolor": "#506784",
             "linecolor": "#506784",
             "minorgridcolor": "#506784",
             "startlinecolor": "#A2B1C6"
            },
            "baxis": {
             "endlinecolor": "#A2B1C6",
             "gridcolor": "#506784",
             "linecolor": "#506784",
             "minorgridcolor": "#506784",
             "startlinecolor": "#A2B1C6"
            },
            "type": "carpet"
           }
          ],
          "choropleth": [
           {
            "colorbar": {
             "outlinewidth": 0,
             "ticks": ""
            },
            "type": "choropleth"
           }
          ],
          "contour": [
           {
            "colorbar": {
             "outlinewidth": 0,
             "ticks": ""
            },
            "colorscale": [
             [
              0,
              "#0d0887"
             ],
             [
              0.1111111111111111,
              "#46039f"
             ],
             [
              0.2222222222222222,
              "#7201a8"
             ],
             [
              0.3333333333333333,
              "#9c179e"
             ],
             [
              0.4444444444444444,
              "#bd3786"
             ],
             [
              0.5555555555555556,
              "#d8576b"
             ],
             [
              0.6666666666666666,
              "#ed7953"
             ],
             [
              0.7777777777777778,
              "#fb9f3a"
             ],
             [
              0.8888888888888888,
              "#fdca26"
             ],
             [
              1,
              "#f0f921"
             ]
            ],
            "type": "contour"
           }
          ],
          "contourcarpet": [
           {
            "colorbar": {
             "outlinewidth": 0,
             "ticks": ""
            },
            "type": "contourcarpet"
           }
          ],
          "heatmap": [
           {
            "colorbar": {
             "outlinewidth": 0,
             "ticks": ""
            },
            "colorscale": [
             [
              0,
              "#0d0887"
             ],
             [
              0.1111111111111111,
              "#46039f"
             ],
             [
              0.2222222222222222,
              "#7201a8"
             ],
             [
              0.3333333333333333,
              "#9c179e"
             ],
             [
              0.4444444444444444,
              "#bd3786"
             ],
             [
              0.5555555555555556,
              "#d8576b"
             ],
             [
              0.6666666666666666,
              "#ed7953"
             ],
             [
              0.7777777777777778,
              "#fb9f3a"
             ],
             [
              0.8888888888888888,
              "#fdca26"
             ],
             [
              1,
              "#f0f921"
             ]
            ],
            "type": "heatmap"
           }
          ],
          "heatmapgl": [
           {
            "colorbar": {
             "outlinewidth": 0,
             "ticks": ""
            },
            "colorscale": [
             [
              0,
              "#0d0887"
             ],
             [
              0.1111111111111111,
              "#46039f"
             ],
             [
              0.2222222222222222,
              "#7201a8"
             ],
             [
              0.3333333333333333,
              "#9c179e"
             ],
             [
              0.4444444444444444,
              "#bd3786"
             ],
             [
              0.5555555555555556,
              "#d8576b"
             ],
             [
              0.6666666666666666,
              "#ed7953"
             ],
             [
              0.7777777777777778,
              "#fb9f3a"
             ],
             [
              0.8888888888888888,
              "#fdca26"
             ],
             [
              1,
              "#f0f921"
             ]
            ],
            "type": "heatmapgl"
           }
          ],
          "histogram": [
           {
            "marker": {
             "pattern": {
              "fillmode": "overlay",
              "size": 10,
              "solidity": 0.2
             }
            },
            "type": "histogram"
           }
          ],
          "histogram2d": [
           {
            "colorbar": {
             "outlinewidth": 0,
             "ticks": ""
            },
            "colorscale": [
             [
              0,
              "#0d0887"
             ],
             [
              0.1111111111111111,
              "#46039f"
             ],
             [
              0.2222222222222222,
              "#7201a8"
             ],
             [
              0.3333333333333333,
              "#9c179e"
             ],
             [
              0.4444444444444444,
              "#bd3786"
             ],
             [
              0.5555555555555556,
              "#d8576b"
             ],
             [
              0.6666666666666666,
              "#ed7953"
             ],
             [
              0.7777777777777778,
              "#fb9f3a"
             ],
             [
              0.8888888888888888,
              "#fdca26"
             ],
             [
              1,
              "#f0f921"
             ]
            ],
            "type": "histogram2d"
           }
          ],
          "histogram2dcontour": [
           {
            "colorbar": {
             "outlinewidth": 0,
             "ticks": ""
            },
            "colorscale": [
             [
              0,
              "#0d0887"
             ],
             [
              0.1111111111111111,
              "#46039f"
             ],
             [
              0.2222222222222222,
              "#7201a8"
             ],
             [
              0.3333333333333333,
              "#9c179e"
             ],
             [
              0.4444444444444444,
              "#bd3786"
             ],
             [
              0.5555555555555556,
              "#d8576b"
             ],
             [
              0.6666666666666666,
              "#ed7953"
             ],
             [
              0.7777777777777778,
              "#fb9f3a"
             ],
             [
              0.8888888888888888,
              "#fdca26"
             ],
             [
              1,
              "#f0f921"
             ]
            ],
            "type": "histogram2dcontour"
           }
          ],
          "mesh3d": [
           {
            "colorbar": {
             "outlinewidth": 0,
             "ticks": ""
            },
            "type": "mesh3d"
           }
          ],
          "parcoords": [
           {
            "line": {
             "colorbar": {
              "outlinewidth": 0,
              "ticks": ""
             }
            },
            "type": "parcoords"
           }
          ],
          "pie": [
           {
            "automargin": true,
            "type": "pie"
           }
          ],
          "scatter": [
           {
            "marker": {
             "line": {
              "color": "#283442"
             }
            },
            "type": "scatter"
           }
          ],
          "scatter3d": [
           {
            "line": {
             "colorbar": {
              "outlinewidth": 0,
              "ticks": ""
             }
            },
            "marker": {
             "colorbar": {
              "outlinewidth": 0,
              "ticks": ""
             }
            },
            "type": "scatter3d"
           }
          ],
          "scattercarpet": [
           {
            "marker": {
             "colorbar": {
              "outlinewidth": 0,
              "ticks": ""
             }
            },
            "type": "scattercarpet"
           }
          ],
          "scattergeo": [
           {
            "marker": {
             "colorbar": {
              "outlinewidth": 0,
              "ticks": ""
             }
            },
            "type": "scattergeo"
           }
          ],
          "scattergl": [
           {
            "marker": {
             "line": {
              "color": "#283442"
             }
            },
            "type": "scattergl"
           }
          ],
          "scattermapbox": [
           {
            "marker": {
             "colorbar": {
              "outlinewidth": 0,
              "ticks": ""
             }
            },
            "type": "scattermapbox"
           }
          ],
          "scatterpolar": [
           {
            "marker": {
             "colorbar": {
              "outlinewidth": 0,
              "ticks": ""
             }
            },
            "type": "scatterpolar"
           }
          ],
          "scatterpolargl": [
           {
            "marker": {
             "colorbar": {
              "outlinewidth": 0,
              "ticks": ""
             }
            },
            "type": "scatterpolargl"
           }
          ],
          "scatterternary": [
           {
            "marker": {
             "colorbar": {
              "outlinewidth": 0,
              "ticks": ""
             }
            },
            "type": "scatterternary"
           }
          ],
          "surface": [
           {
            "colorbar": {
             "outlinewidth": 0,
             "ticks": ""
            },
            "colorscale": [
             [
              0,
              "#0d0887"
             ],
             [
              0.1111111111111111,
              "#46039f"
             ],
             [
              0.2222222222222222,
              "#7201a8"
             ],
             [
              0.3333333333333333,
              "#9c179e"
             ],
             [
              0.4444444444444444,
              "#bd3786"
             ],
             [
              0.5555555555555556,
              "#d8576b"
             ],
             [
              0.6666666666666666,
              "#ed7953"
             ],
             [
              0.7777777777777778,
              "#fb9f3a"
             ],
             [
              0.8888888888888888,
              "#fdca26"
             ],
             [
              1,
              "#f0f921"
             ]
            ],
            "type": "surface"
           }
          ],
          "table": [
           {
            "cells": {
             "fill": {
              "color": "#506784"
             },
             "line": {
              "color": "rgb(17,17,17)"
             }
            },
            "header": {
             "fill": {
              "color": "#2a3f5f"
             },
             "line": {
              "color": "rgb(17,17,17)"
             }
            },
            "type": "table"
           }
          ]
         },
         "layout": {
          "annotationdefaults": {
           "arrowcolor": "#f2f5fa",
           "arrowhead": 0,
           "arrowwidth": 1
          },
          "autotypenumbers": "strict",
          "coloraxis": {
           "colorbar": {
            "outlinewidth": 0,
            "ticks": ""
           }
          },
          "colorscale": {
           "diverging": [
            [
             0,
             "#8e0152"
            ],
            [
             0.1,
             "#c51b7d"
            ],
            [
             0.2,
             "#de77ae"
            ],
            [
             0.3,
             "#f1b6da"
            ],
            [
             0.4,
             "#fde0ef"
            ],
            [
             0.5,
             "#f7f7f7"
            ],
            [
             0.6,
             "#e6f5d0"
            ],
            [
             0.7,
             "#b8e186"
            ],
            [
             0.8,
             "#7fbc41"
            ],
            [
             0.9,
             "#4d9221"
            ],
            [
             1,
             "#276419"
            ]
           ],
           "sequential": [
            [
             0,
             "#0d0887"
            ],
            [
             0.1111111111111111,
             "#46039f"
            ],
            [
             0.2222222222222222,
             "#7201a8"
            ],
            [
             0.3333333333333333,
             "#9c179e"
            ],
            [
             0.4444444444444444,
             "#bd3786"
            ],
            [
             0.5555555555555556,
             "#d8576b"
            ],
            [
             0.6666666666666666,
             "#ed7953"
            ],
            [
             0.7777777777777778,
             "#fb9f3a"
            ],
            [
             0.8888888888888888,
             "#fdca26"
            ],
            [
             1,
             "#f0f921"
            ]
           ],
           "sequentialminus": [
            [
             0,
             "#0d0887"
            ],
            [
             0.1111111111111111,
             "#46039f"
            ],
            [
             0.2222222222222222,
             "#7201a8"
            ],
            [
             0.3333333333333333,
             "#9c179e"
            ],
            [
             0.4444444444444444,
             "#bd3786"
            ],
            [
             0.5555555555555556,
             "#d8576b"
            ],
            [
             0.6666666666666666,
             "#ed7953"
            ],
            [
             0.7777777777777778,
             "#fb9f3a"
            ],
            [
             0.8888888888888888,
             "#fdca26"
            ],
            [
             1,
             "#f0f921"
            ]
           ]
          },
          "colorway": [
           "rgb(255, 185, 54)",
           "#FF6F59",
           "#4ECDC4",
           "#C7F464",
           "#F7FFF7"
          ],
          "font": {
           "color": "white",
           "family": "Poppins"
          },
          "geo": {
           "bgcolor": "rgb(17,17,17)",
           "lakecolor": "rgb(17,17,17)",
           "landcolor": "rgb(17,17,17)",
           "showlakes": true,
           "showland": true,
           "subunitcolor": "#506784"
          },
          "hoverlabel": {
           "align": "left"
          },
          "hovermode": "closest",
          "mapbox": {
           "style": "dark"
          },
          "margin": {
           "b": 0,
           "l": 0,
           "r": 0,
           "t": 0
          },
          "paper_bgcolor": "rgb(15, 9, 28)",
          "plot_bgcolor": "rgb(15, 9, 28)",
          "polar": {
           "angularaxis": {
            "gridcolor": "#506784",
            "linecolor": "#506784",
            "ticks": ""
           },
           "bgcolor": "rgb(17,17,17)",
           "radialaxis": {
            "gridcolor": "#506784",
            "linecolor": "#506784",
            "ticks": ""
           }
          },
          "scene": {
           "xaxis": {
            "backgroundcolor": "rgb(17,17,17)",
            "gridcolor": "#506784",
            "gridwidth": 2,
            "linecolor": "#506784",
            "showbackground": true,
            "ticks": "",
            "zerolinecolor": "#C8D4E3"
           },
           "yaxis": {
            "backgroundcolor": "rgb(17,17,17)",
            "gridcolor": "#506784",
            "gridwidth": 2,
            "linecolor": "#506784",
            "showbackground": true,
            "ticks": "",
            "zerolinecolor": "#C8D4E3"
           },
           "zaxis": {
            "backgroundcolor": "rgb(17,17,17)",
            "gridcolor": "#506784",
            "gridwidth": 2,
            "linecolor": "#506784",
            "showbackground": true,
            "ticks": "",
            "zerolinecolor": "#C8D4E3"
           }
          },
          "shapedefaults": {
           "line": {
            "color": "#f2f5fa"
           }
          },
          "sliderdefaults": {
           "bgcolor": "#C8D4E3",
           "bordercolor": "rgb(17,17,17)",
           "borderwidth": 1,
           "tickwidth": 0
          },
          "ternary": {
           "aaxis": {
            "gridcolor": "#506784",
            "linecolor": "#506784",
            "ticks": ""
           },
           "baxis": {
            "gridcolor": "#506784",
            "linecolor": "#506784",
            "ticks": ""
           },
           "bgcolor": "rgb(17,17,17)",
           "caxis": {
            "gridcolor": "#506784",
            "linecolor": "#506784",
            "ticks": ""
           }
          },
          "title": {
           "x": 0.05
          },
          "updatemenudefaults": {
           "bgcolor": "#506784",
           "borderwidth": 0
          },
          "xaxis": {
           "automargin": true,
           "gridcolor": "#283442",
           "linecolor": "#506784",
           "ticks": "",
           "title": {
            "standoff": 15
           },
           "zerolinecolor": "#283442",
           "zerolinewidth": 2
          },
          "yaxis": {
           "automargin": true,
           "gridcolor": "#283442",
           "linecolor": "#506784",
           "ticks": "",
           "title": {
            "standoff": 15
           },
           "zerolinecolor": "#283442",
           "zerolinewidth": 2
          }
         }
        },
        "xaxis": {
         "range": [
          1880,
          2022
         ],
         "title": {
          "text": "Year"
         }
        },
        "yaxis": {
         "title": {
          "text": "Percentage of given names"
         }
        }
       }
      },
      "text/html": [
       "<div>                            <div id=\"0d612d32-0f96-48a2-ad28-27ba284ea036\" class=\"plotly-graph-div\" style=\"height:525px; width:100%;\"></div>            <script type=\"text/javascript\">                require([\"plotly\"], function(Plotly) {                    window.PLOTLYENV=window.PLOTLYENV || {};                                    if (document.getElementById(\"0d612d32-0f96-48a2-ad28-27ba284ea036\")) {                    Plotly.newPlot(                        \"0d612d32-0f96-48a2-ad28-27ba284ea036\",                        [{\"line\":{\"shape\":\"spline\"},\"name\":\"Mia\",\"x\":[1880,1881,1882,1883,1884,1885,1886,1887,1888,1889,1890,1891,1892,1893,1894,1895,1896,1897,1898,1899,1900,1901,1902,1903,1904,1905,1906,1907,1908,1909,1910,1911,1912,1913,1914,1915,1916,1917,1918,1919,1920,1921,1922,1923,1924,1925,1926,1927,1928,1929,1930,1931,1932,1933,1934,1935,1936,1937,1938,1939,1940,1941,1942,1943,1944,1945,1946,1947,1948,1949,1950,1951,1952,1953,1954,1955,1956,1957,1958,1959,1960,1961,1962,1963,1964,1965,1966,1967,1968,1969,1970,1971,1972,1973,1974,1975,1976,1977,1978,1979,1980,1981,1982,1983,1984,1985,1986,1987,1988,1989,1990,1991,1992,1993,1994,1995,1996,1997,1998,1999,2000,2001,2002,2003,2004,2005,2006,2007,2008,2009,2010,2011,2012,2013,2014,2015,2016,2017,2018,2019,2020,2021,2022],\"y\":[0.0,0.0,0.0,0.0,0.0,0.0,0.0,0.0,0.0,0.0,0.0,0.0,0.0,0.0,0.0,0.0,0.0,0.0,0.0,0.0,0.0,0.0,0.0,0.0,0.0,0.0,0.0,0.0,0.0,0.0,0.0,0.0,0.0,0.0,0.0,0.0,0.0,0.0,0.0,0.0,0.0,0.0,0.0,0.0,0.0,0.0,0.0,0.0,0.0,0.0,0.0,0.0,0.0,0.0001016605229823,0.0,0.0,0.0,0.0,0.0,0.0,4.4040078232794976e-05,0.0,0.0001111854818445,0.0001434221235796,0.0001881570207969,0.0001526407032462,0.000284763987607,0.0002805047514699,0.0004098691814678,0.0005510842001549,0.0004615899465709,0.0006582496647726,0.0006915404915576,0.0007078059196168,0.0010656679835278,0.0009559700328551,0.0008573789338076,0.0008651878683357,0.0007088379628192,0.0011423510362096,0.0011675187526618,0.0010739843403319,0.0020295238085693,0.0025548069971054,0.0076506295765532,0.0293109661815655,0.0208946585734106,0.0219103038726312,0.0203507960973296,0.0133401133413393,0.0136215510950291,0.0140948917861722,0.013312780042102,0.0116891062597191,0.0129476759592517,0.0122710004820508,0.0117796650671003,0.0141136726123057,0.0169579934092292,0.0185394532764339,0.0202434969618453,0.0211002838947287,0.0158010338473858,0.0137647019986229,0.0131081539739943,0.0141876836032139,0.013987215053575,0.0154500398157448,0.0170494536563466,0.0178827894916258,0.0201740614917825,0.020380491950889,0.0218278619582527,0.0216602470519886,0.0236610914472194,0.0307905688880089,0.0474970518585545,0.0706469456469456,0.0716628723385508,0.0761656224665455,0.0940716852402833,0.1079277162451179,0.1728444653629623,0.1923667485217791,0.200172270778981,0.2915262412558912,0.3144111190481476,0.2829377738608011,0.2678390944006468,0.3102902592057881,0.2985856909821684,0.3267624879156513,0.3409194230881985,0.3742494556991368,0.3779372234375812,0.4178086022708205,0.4080926669164751,0.3914317178447561,0.3752314251308388,0.3733120979345368,0.3494888155190557,0.3415742316571206,0.3396708985578701],\"type\":\"scatter\"},{\"marker\":{\"color\":\"#ff2d42\",\"line\":{\"color\":\"rgb(15, 9, 28)\",\"width\":5},\"size\":15},\"mode\":\"markers\",\"name\":\"\",\"text\":[\"Pulp Fiction\"],\"x\":[1994],\"y\":[0.0236610914472194],\"type\":\"scatter\"}],                        {\"template\":{\"data\":{\"barpolar\":[{\"marker\":{\"line\":{\"color\":\"rgb(17,17,17)\",\"width\":0.5},\"pattern\":{\"fillmode\":\"overlay\",\"size\":10,\"solidity\":0.2}},\"type\":\"barpolar\"}],\"bar\":[{\"error_x\":{\"color\":\"#f2f5fa\"},\"error_y\":{\"color\":\"#f2f5fa\"},\"marker\":{\"line\":{\"color\":\"rgb(17,17,17)\",\"width\":0.5},\"pattern\":{\"fillmode\":\"overlay\",\"size\":10,\"solidity\":0.2}},\"type\":\"bar\"}],\"carpet\":[{\"aaxis\":{\"endlinecolor\":\"#A2B1C6\",\"gridcolor\":\"#506784\",\"linecolor\":\"#506784\",\"minorgridcolor\":\"#506784\",\"startlinecolor\":\"#A2B1C6\"},\"baxis\":{\"endlinecolor\":\"#A2B1C6\",\"gridcolor\":\"#506784\",\"linecolor\":\"#506784\",\"minorgridcolor\":\"#506784\",\"startlinecolor\":\"#A2B1C6\"},\"type\":\"carpet\"}],\"choropleth\":[{\"colorbar\":{\"outlinewidth\":0,\"ticks\":\"\"},\"type\":\"choropleth\"}],\"contourcarpet\":[{\"colorbar\":{\"outlinewidth\":0,\"ticks\":\"\"},\"type\":\"contourcarpet\"}],\"contour\":[{\"colorbar\":{\"outlinewidth\":0,\"ticks\":\"\"},\"colorscale\":[[0.0,\"#0d0887\"],[0.1111111111111111,\"#46039f\"],[0.2222222222222222,\"#7201a8\"],[0.3333333333333333,\"#9c179e\"],[0.4444444444444444,\"#bd3786\"],[0.5555555555555556,\"#d8576b\"],[0.6666666666666666,\"#ed7953\"],[0.7777777777777778,\"#fb9f3a\"],[0.8888888888888888,\"#fdca26\"],[1.0,\"#f0f921\"]],\"type\":\"contour\"}],\"heatmapgl\":[{\"colorbar\":{\"outlinewidth\":0,\"ticks\":\"\"},\"colorscale\":[[0.0,\"#0d0887\"],[0.1111111111111111,\"#46039f\"],[0.2222222222222222,\"#7201a8\"],[0.3333333333333333,\"#9c179e\"],[0.4444444444444444,\"#bd3786\"],[0.5555555555555556,\"#d8576b\"],[0.6666666666666666,\"#ed7953\"],[0.7777777777777778,\"#fb9f3a\"],[0.8888888888888888,\"#fdca26\"],[1.0,\"#f0f921\"]],\"type\":\"heatmapgl\"}],\"heatmap\":[{\"colorbar\":{\"outlinewidth\":0,\"ticks\":\"\"},\"colorscale\":[[0.0,\"#0d0887\"],[0.1111111111111111,\"#46039f\"],[0.2222222222222222,\"#7201a8\"],[0.3333333333333333,\"#9c179e\"],[0.4444444444444444,\"#bd3786\"],[0.5555555555555556,\"#d8576b\"],[0.6666666666666666,\"#ed7953\"],[0.7777777777777778,\"#fb9f3a\"],[0.8888888888888888,\"#fdca26\"],[1.0,\"#f0f921\"]],\"type\":\"heatmap\"}],\"histogram2dcontour\":[{\"colorbar\":{\"outlinewidth\":0,\"ticks\":\"\"},\"colorscale\":[[0.0,\"#0d0887\"],[0.1111111111111111,\"#46039f\"],[0.2222222222222222,\"#7201a8\"],[0.3333333333333333,\"#9c179e\"],[0.4444444444444444,\"#bd3786\"],[0.5555555555555556,\"#d8576b\"],[0.6666666666666666,\"#ed7953\"],[0.7777777777777778,\"#fb9f3a\"],[0.8888888888888888,\"#fdca26\"],[1.0,\"#f0f921\"]],\"type\":\"histogram2dcontour\"}],\"histogram2d\":[{\"colorbar\":{\"outlinewidth\":0,\"ticks\":\"\"},\"colorscale\":[[0.0,\"#0d0887\"],[0.1111111111111111,\"#46039f\"],[0.2222222222222222,\"#7201a8\"],[0.3333333333333333,\"#9c179e\"],[0.4444444444444444,\"#bd3786\"],[0.5555555555555556,\"#d8576b\"],[0.6666666666666666,\"#ed7953\"],[0.7777777777777778,\"#fb9f3a\"],[0.8888888888888888,\"#fdca26\"],[1.0,\"#f0f921\"]],\"type\":\"histogram2d\"}],\"histogram\":[{\"marker\":{\"pattern\":{\"fillmode\":\"overlay\",\"size\":10,\"solidity\":0.2}},\"type\":\"histogram\"}],\"mesh3d\":[{\"colorbar\":{\"outlinewidth\":0,\"ticks\":\"\"},\"type\":\"mesh3d\"}],\"parcoords\":[{\"line\":{\"colorbar\":{\"outlinewidth\":0,\"ticks\":\"\"}},\"type\":\"parcoords\"}],\"pie\":[{\"automargin\":true,\"type\":\"pie\"}],\"scatter3d\":[{\"line\":{\"colorbar\":{\"outlinewidth\":0,\"ticks\":\"\"}},\"marker\":{\"colorbar\":{\"outlinewidth\":0,\"ticks\":\"\"}},\"type\":\"scatter3d\"}],\"scattercarpet\":[{\"marker\":{\"colorbar\":{\"outlinewidth\":0,\"ticks\":\"\"}},\"type\":\"scattercarpet\"}],\"scattergeo\":[{\"marker\":{\"colorbar\":{\"outlinewidth\":0,\"ticks\":\"\"}},\"type\":\"scattergeo\"}],\"scattergl\":[{\"marker\":{\"line\":{\"color\":\"#283442\"}},\"type\":\"scattergl\"}],\"scattermapbox\":[{\"marker\":{\"colorbar\":{\"outlinewidth\":0,\"ticks\":\"\"}},\"type\":\"scattermapbox\"}],\"scatterpolargl\":[{\"marker\":{\"colorbar\":{\"outlinewidth\":0,\"ticks\":\"\"}},\"type\":\"scatterpolargl\"}],\"scatterpolar\":[{\"marker\":{\"colorbar\":{\"outlinewidth\":0,\"ticks\":\"\"}},\"type\":\"scatterpolar\"}],\"scatter\":[{\"marker\":{\"line\":{\"color\":\"#283442\"}},\"type\":\"scatter\"}],\"scatterternary\":[{\"marker\":{\"colorbar\":{\"outlinewidth\":0,\"ticks\":\"\"}},\"type\":\"scatterternary\"}],\"surface\":[{\"colorbar\":{\"outlinewidth\":0,\"ticks\":\"\"},\"colorscale\":[[0.0,\"#0d0887\"],[0.1111111111111111,\"#46039f\"],[0.2222222222222222,\"#7201a8\"],[0.3333333333333333,\"#9c179e\"],[0.4444444444444444,\"#bd3786\"],[0.5555555555555556,\"#d8576b\"],[0.6666666666666666,\"#ed7953\"],[0.7777777777777778,\"#fb9f3a\"],[0.8888888888888888,\"#fdca26\"],[1.0,\"#f0f921\"]],\"type\":\"surface\"}],\"table\":[{\"cells\":{\"fill\":{\"color\":\"#506784\"},\"line\":{\"color\":\"rgb(17,17,17)\"}},\"header\":{\"fill\":{\"color\":\"#2a3f5f\"},\"line\":{\"color\":\"rgb(17,17,17)\"}},\"type\":\"table\"}]},\"layout\":{\"annotationdefaults\":{\"arrowcolor\":\"#f2f5fa\",\"arrowhead\":0,\"arrowwidth\":1},\"autotypenumbers\":\"strict\",\"coloraxis\":{\"colorbar\":{\"outlinewidth\":0,\"ticks\":\"\"}},\"colorscale\":{\"diverging\":[[0,\"#8e0152\"],[0.1,\"#c51b7d\"],[0.2,\"#de77ae\"],[0.3,\"#f1b6da\"],[0.4,\"#fde0ef\"],[0.5,\"#f7f7f7\"],[0.6,\"#e6f5d0\"],[0.7,\"#b8e186\"],[0.8,\"#7fbc41\"],[0.9,\"#4d9221\"],[1,\"#276419\"]],\"sequential\":[[0.0,\"#0d0887\"],[0.1111111111111111,\"#46039f\"],[0.2222222222222222,\"#7201a8\"],[0.3333333333333333,\"#9c179e\"],[0.4444444444444444,\"#bd3786\"],[0.5555555555555556,\"#d8576b\"],[0.6666666666666666,\"#ed7953\"],[0.7777777777777778,\"#fb9f3a\"],[0.8888888888888888,\"#fdca26\"],[1.0,\"#f0f921\"]],\"sequentialminus\":[[0.0,\"#0d0887\"],[0.1111111111111111,\"#46039f\"],[0.2222222222222222,\"#7201a8\"],[0.3333333333333333,\"#9c179e\"],[0.4444444444444444,\"#bd3786\"],[0.5555555555555556,\"#d8576b\"],[0.6666666666666666,\"#ed7953\"],[0.7777777777777778,\"#fb9f3a\"],[0.8888888888888888,\"#fdca26\"],[1.0,\"#f0f921\"]]},\"colorway\":[\"rgb(255, 185, 54)\",\"#FF6F59\",\"#4ECDC4\",\"#C7F464\",\"#F7FFF7\"],\"font\":{\"color\":\"white\",\"family\":\"Poppins\"},\"geo\":{\"bgcolor\":\"rgb(17,17,17)\",\"lakecolor\":\"rgb(17,17,17)\",\"landcolor\":\"rgb(17,17,17)\",\"showlakes\":true,\"showland\":true,\"subunitcolor\":\"#506784\"},\"hoverlabel\":{\"align\":\"left\"},\"hovermode\":\"closest\",\"mapbox\":{\"style\":\"dark\"},\"margin\":{\"b\":0,\"l\":0,\"r\":0,\"t\":0},\"paper_bgcolor\":\"rgb(15, 9, 28)\",\"plot_bgcolor\":\"rgb(15, 9, 28)\",\"polar\":{\"angularaxis\":{\"gridcolor\":\"#506784\",\"linecolor\":\"#506784\",\"ticks\":\"\"},\"bgcolor\":\"rgb(17,17,17)\",\"radialaxis\":{\"gridcolor\":\"#506784\",\"linecolor\":\"#506784\",\"ticks\":\"\"}},\"scene\":{\"xaxis\":{\"backgroundcolor\":\"rgb(17,17,17)\",\"gridcolor\":\"#506784\",\"gridwidth\":2,\"linecolor\":\"#506784\",\"showbackground\":true,\"ticks\":\"\",\"zerolinecolor\":\"#C8D4E3\"},\"yaxis\":{\"backgroundcolor\":\"rgb(17,17,17)\",\"gridcolor\":\"#506784\",\"gridwidth\":2,\"linecolor\":\"#506784\",\"showbackground\":true,\"ticks\":\"\",\"zerolinecolor\":\"#C8D4E3\"},\"zaxis\":{\"backgroundcolor\":\"rgb(17,17,17)\",\"gridcolor\":\"#506784\",\"gridwidth\":2,\"linecolor\":\"#506784\",\"showbackground\":true,\"ticks\":\"\",\"zerolinecolor\":\"#C8D4E3\"}},\"shapedefaults\":{\"line\":{\"color\":\"#f2f5fa\"}},\"sliderdefaults\":{\"bgcolor\":\"#C8D4E3\",\"bordercolor\":\"rgb(17,17,17)\",\"borderwidth\":1,\"tickwidth\":0},\"ternary\":{\"aaxis\":{\"gridcolor\":\"#506784\",\"linecolor\":\"#506784\",\"ticks\":\"\"},\"baxis\":{\"gridcolor\":\"#506784\",\"linecolor\":\"#506784\",\"ticks\":\"\"},\"bgcolor\":\"rgb(17,17,17)\",\"caxis\":{\"gridcolor\":\"#506784\",\"linecolor\":\"#506784\",\"ticks\":\"\"}},\"title\":{\"x\":0.05},\"updatemenudefaults\":{\"bgcolor\":\"#506784\",\"borderwidth\":0},\"xaxis\":{\"automargin\":true,\"gridcolor\":\"#283442\",\"linecolor\":\"#506784\",\"ticks\":\"\",\"title\":{\"standoff\":15},\"zerolinecolor\":\"#283442\",\"zerolinewidth\":2},\"yaxis\":{\"automargin\":true,\"gridcolor\":\"#283442\",\"linecolor\":\"#506784\",\"ticks\":\"\",\"title\":{\"standoff\":15},\"zerolinecolor\":\"#283442\",\"zerolinewidth\":2}}},\"showlegend\":false,\"xaxis\":{\"title\":{\"text\":\"Year\"},\"range\":[1880,2022]},\"yaxis\":{\"title\":{\"text\":\"Percentage of given names\"}},\"annotations\":[{\"align\":\"center\",\"arrowwidth\":2,\"ax\":0,\"ay\":-80,\"bgcolor\":\"#ff2d42\",\"borderpad\":5,\"font\":{\"size\":16},\"opacity\":0.8,\"showarrow\":true,\"text\":\"Pulp Fiction\",\"x\":1994,\"xref\":\"x\",\"y\":0.0236610914472194,\"yref\":\"y\"}]},                        {\"responsive\": true}                    ).then(function(){\n",
       "                            \n",
       "var gd = document.getElementById('0d612d32-0f96-48a2-ad28-27ba284ea036');\n",
       "var x = new MutationObserver(function (mutations, observer) {{\n",
       "        var display = window.getComputedStyle(gd).display;\n",
       "        if (!display || display === 'none') {{\n",
       "            console.log([gd, 'removed!']);\n",
       "            Plotly.purge(gd);\n",
       "            observer.disconnect();\n",
       "        }}\n",
       "}});\n",
       "\n",
       "// Listen for the removal of the full notebook cells\n",
       "var notebookContainer = gd.closest('#notebook-container');\n",
       "if (notebookContainer) {{\n",
       "    x.observe(notebookContainer, {childList: true});\n",
       "}}\n",
       "\n",
       "// Listen for the clearing of the current output cell\n",
       "var outputEl = gd.closest('.output');\n",
       "if (outputEl) {{\n",
       "    x.observe(outputEl, {childList: true});\n",
       "}}\n",
       "\n",
       "                        })                };                });            </script>        </div>"
      ]
     },
     "metadata": {},
     "output_type": "display_data"
    }
   ],
   "source": [
    "fig = go.Figure()\n",
    "\n",
    "fig.update_layout(showlegend=False, xaxis_title='Year', yaxis_title='Percentage of given names')\n",
    "fig.add_trace(go.Scatter(x=Mia_data.index, y=Mia_data, line_shape='spline', name='Mia'))\n",
    "fig.update_xaxes(range=[baby_names.year.min(), baby_names.year.max()])\n",
    "\n",
    "fig.add_annotation(\n",
    "    x=x, y=y, text=name,\n",
    "    xref='x', yref='y', ax=0, ay=-80,\n",
    "    font={'size': 16}, align='center',\n",
    "    showarrow=True, arrowwidth=2,\n",
    "    borderpad=5, bgcolor='#ff2d42', opacity=0.8\n",
    ")\n",
    "\n",
    "fig.add_trace(go.Scatter(\n",
    "    x=[x], y=[y], text=[name], name='',\n",
    "    mode='markers', marker={\n",
    "        'color': '#ff2d42', 'size': 15, 'line': {'width': 5, 'color': custom_bg_color}\n",
    "    }\n",
    "))\n",
    "\n",
    "fig.write_html('influence_curveOnly.html', include_plotlyjs=\"../../js/plotly-2.12.1.min.js\", config={'displayModeBar': False})\n",
    "fig.show()"
   ]
  },
  {
   "cell_type": "code",
   "execution_count": 9,
   "metadata": {},
   "outputs": [],
   "source": [
    "range_before = np.arange(x-10, x, 1)\n",
    "range_after = np.arange(x, x+5, 1)\n",
    "fit_before = np.poly1d(np.polyfit(range_before, Mia_data[range_before], 1))\n",
    "fit_after = np.poly1d(np.polyfit(range_after, Mia_data[range_after], 1))"
   ]
  },
  {
   "cell_type": "code",
   "execution_count": 14,
   "metadata": {},
   "outputs": [
    {
     "data": {
      "application/vnd.plotly.v1+json": {
       "config": {
        "plotlyServerURL": "https://plot.ly"
       },
       "data": [
        {
         "line": {
          "shape": "spline"
         },
         "mode": "lines+markers",
         "name": "Mia",
         "type": "scatter",
         "x": [
          1880,
          1881,
          1882,
          1883,
          1884,
          1885,
          1886,
          1887,
          1888,
          1889,
          1890,
          1891,
          1892,
          1893,
          1894,
          1895,
          1896,
          1897,
          1898,
          1899,
          1900,
          1901,
          1902,
          1903,
          1904,
          1905,
          1906,
          1907,
          1908,
          1909,
          1910,
          1911,
          1912,
          1913,
          1914,
          1915,
          1916,
          1917,
          1918,
          1919,
          1920,
          1921,
          1922,
          1923,
          1924,
          1925,
          1926,
          1927,
          1928,
          1929,
          1930,
          1931,
          1932,
          1933,
          1934,
          1935,
          1936,
          1937,
          1938,
          1939,
          1940,
          1941,
          1942,
          1943,
          1944,
          1945,
          1946,
          1947,
          1948,
          1949,
          1950,
          1951,
          1952,
          1953,
          1954,
          1955,
          1956,
          1957,
          1958,
          1959,
          1960,
          1961,
          1962,
          1963,
          1964,
          1965,
          1966,
          1967,
          1968,
          1969,
          1970,
          1971,
          1972,
          1973,
          1974,
          1975,
          1976,
          1977,
          1978,
          1979,
          1980,
          1981,
          1982,
          1983,
          1984,
          1985,
          1986,
          1987,
          1988,
          1989,
          1990,
          1991,
          1992,
          1993,
          1994,
          1995,
          1996,
          1997,
          1998,
          1999,
          2000,
          2001,
          2002,
          2003,
          2004,
          2005,
          2006,
          2007,
          2008,
          2009,
          2010,
          2011,
          2012,
          2013,
          2014,
          2015,
          2016,
          2017,
          2018,
          2019,
          2020,
          2021,
          2022
         ],
         "y": [
          0,
          0,
          0,
          0,
          0,
          0,
          0,
          0,
          0,
          0,
          0,
          0,
          0,
          0,
          0,
          0,
          0,
          0,
          0,
          0,
          0,
          0,
          0,
          0,
          0,
          0,
          0,
          0,
          0,
          0,
          0,
          0,
          0,
          0,
          0,
          0,
          0,
          0,
          0,
          0,
          0,
          0,
          0,
          0,
          0,
          0,
          0,
          0,
          0,
          0,
          0,
          0,
          0,
          0.0001016605229823,
          0,
          0,
          0,
          0,
          0,
          0,
          0.000044040078232794976,
          0,
          0.0001111854818445,
          0.0001434221235796,
          0.0001881570207969,
          0.0001526407032462,
          0.000284763987607,
          0.0002805047514699,
          0.0004098691814678,
          0.0005510842001549,
          0.0004615899465709,
          0.0006582496647726,
          0.0006915404915576,
          0.0007078059196168,
          0.0010656679835278,
          0.0009559700328551,
          0.0008573789338076,
          0.0008651878683357,
          0.0007088379628192,
          0.0011423510362096,
          0.0011675187526618,
          0.0010739843403319,
          0.0020295238085693,
          0.0025548069971054,
          0.0076506295765532,
          0.0293109661815655,
          0.0208946585734106,
          0.0219103038726312,
          0.0203507960973296,
          0.0133401133413393,
          0.0136215510950291,
          0.0140948917861722,
          0.013312780042102,
          0.0116891062597191,
          0.0129476759592517,
          0.0122710004820508,
          0.0117796650671003,
          0.0141136726123057,
          0.0169579934092292,
          0.0185394532764339,
          0.0202434969618453,
          0.0211002838947287,
          0.0158010338473858,
          0.0137647019986229,
          0.0131081539739943,
          0.0141876836032139,
          0.013987215053575,
          0.0154500398157448,
          0.0170494536563466,
          0.0178827894916258,
          0.0201740614917825,
          0.020380491950889,
          0.0218278619582527,
          0.0216602470519886,
          0.0236610914472194,
          0.0307905688880089,
          0.0474970518585545,
          0.0706469456469456,
          0.0716628723385508,
          0.0761656224665455,
          0.0940716852402833,
          0.1079277162451179,
          0.1728444653629623,
          0.1923667485217791,
          0.200172270778981,
          0.2915262412558912,
          0.3144111190481476,
          0.2829377738608011,
          0.2678390944006468,
          0.3102902592057881,
          0.2985856909821684,
          0.3267624879156513,
          0.3409194230881985,
          0.3742494556991368,
          0.3779372234375812,
          0.4178086022708205,
          0.4080926669164751,
          0.3914317178447561,
          0.3752314251308388,
          0.3733120979345368,
          0.3494888155190557,
          0.3415742316571206,
          0.3396708985578701
         ]
        },
        {
         "marker": {
          "color": "#ff2d42",
          "line": {
           "color": "rgb(15, 9, 28)",
           "width": 5
          },
          "size": 15
         },
         "mode": "markers",
         "name": "",
         "text": [
          "Pulp Fiction"
         ],
         "type": "scatter",
         "x": [
          1994
         ],
         "y": [
          0.0236610914472194
         ]
        },
        {
         "line": {
          "color": "#FF6F59"
         },
         "mode": "lines",
         "name": "before",
         "text": "β1 = 0.0010752840699223747",
         "type": "scatter",
         "x": [
          1880,
          1881,
          1882,
          1883,
          1884,
          1885,
          1886,
          1887,
          1888,
          1889,
          1890,
          1891,
          1892,
          1893,
          1894,
          1895,
          1896,
          1897,
          1898,
          1899,
          1900,
          1901,
          1902,
          1903,
          1904,
          1905,
          1906,
          1907,
          1908,
          1909,
          1910,
          1911,
          1912,
          1913,
          1914,
          1915,
          1916,
          1917,
          1918,
          1919,
          1920,
          1921,
          1922,
          1923,
          1924,
          1925,
          1926,
          1927,
          1928,
          1929,
          1930,
          1931,
          1932,
          1933,
          1934,
          1935,
          1936,
          1937,
          1938,
          1939,
          1940,
          1941,
          1942,
          1943,
          1944,
          1945,
          1946,
          1947,
          1948,
          1949,
          1950,
          1951,
          1952,
          1953,
          1954,
          1955,
          1956,
          1957,
          1958,
          1959,
          1960,
          1961,
          1962,
          1963,
          1964,
          1965,
          1966,
          1967,
          1968,
          1969,
          1970,
          1971,
          1972,
          1973,
          1974,
          1975,
          1976,
          1977,
          1978,
          1979,
          1980,
          1981,
          1982,
          1983,
          1984,
          1985,
          1986,
          1987,
          1988,
          1989,
          1990,
          1991,
          1992,
          1993,
          1994,
          1995,
          1996,
          1997,
          1998,
          1999,
          2000,
          2001,
          2002,
          2003,
          2004,
          2005,
          2006,
          2007,
          2008,
          2009,
          2010,
          2011,
          2012,
          2013,
          2014,
          2015,
          2016,
          2017,
          2018,
          2019,
          2020,
          2021,
          2022
         ],
         "y": [
          -0.0990975217818364,
          -0.09802223771191398,
          -0.09694695364199157,
          -0.0958716695720696,
          -0.0947963855021472,
          -0.09372110143222478,
          -0.09264581736230237,
          -0.09157053329237996,
          -0.09049524922245755,
          -0.08941996515253514,
          -0.08834468108261273,
          -0.08726939701269032,
          -0.08619411294276791,
          -0.0851188288728455,
          -0.08404354480292309,
          -0.08296826073300112,
          -0.08189297666307871,
          -0.0808176925931563,
          -0.07974240852323389,
          -0.07866712445331148,
          -0.07759184038338907,
          -0.07651655631346665,
          -0.07544127224354424,
          -0.07436598817362183,
          -0.07329070410369942,
          -0.07221542003377701,
          -0.0711401359638546,
          -0.07006485189393263,
          -0.06898956782401022,
          -0.06791428375408781,
          -0.0668389996841654,
          -0.06576371561424299,
          -0.06468843154432058,
          -0.06361314747439817,
          -0.06253786340447576,
          -0.06146257933455335,
          -0.060387295264630936,
          -0.059312011194708525,
          -0.058236727124786114,
          -0.0571614430548637,
          -0.056086158984941736,
          -0.055010874915019325,
          -0.053935590845096915,
          -0.052860306775174504,
          -0.05178502270525209,
          -0.05070973863532968,
          -0.04963445456540727,
          -0.04855917049548486,
          -0.04748388642556245,
          -0.04640860235564004,
          -0.04533331828571763,
          -0.04425803421579522,
          -0.04318275014587325,
          -0.04210746607595084,
          -0.04103218200602843,
          -0.03995689793610602,
          -0.038881613866183606,
          -0.037806329796261195,
          -0.036731045726338785,
          -0.035655761656416374,
          -0.03458047758649396,
          -0.03350519351657155,
          -0.03242990944664914,
          -0.03135462537672673,
          -0.030279341306804763,
          -0.029204057236882353,
          -0.02812877316695994,
          -0.02705348909703753,
          -0.02597820502711512,
          -0.02490292095719271,
          -0.023827636887270298,
          -0.022752352817347887,
          -0.021677068747425476,
          -0.020601784677503066,
          -0.019526500607580655,
          -0.018451216537658244,
          -0.017375932467735833,
          -0.016300648397813866,
          -0.015225364327891455,
          -0.014150080257969044,
          -0.013074796188046633,
          -0.011999512118124223,
          -0.010924228048201812,
          -0.0098489439782794,
          -0.00877365990835699,
          -0.007698375838434579,
          -0.006623091768512168,
          -0.005547807698589757,
          -0.004472523628667346,
          -0.0033972395587453796,
          -0.0023219554888229688,
          -0.0012466714189005579,
          -0.000171387348978147,
          0.0009038967209442639,
          0.0019791807908666748,
          0.0030544648607890856,
          0.0041297489307114965,
          0.005205033000633907,
          0.006280317070556318,
          0.007355601140478729,
          0.00843088521040114,
          0.009506169280323107,
          0.010581453350245518,
          0.011656737420167929,
          0.01273202149009034,
          0.01380730556001275,
          0.014882589629935161,
          0.015957873699857572,
          0.017033157769779983,
          0.018108441839702394,
          0.019183725909624805,
          0.020259009979547216,
          0.021334294049469626,
          0.022409578119391593,
          0.023484862189314004,
          0.024560146259236415,
          0.025635430329158826,
          0.026710714399081237,
          0.027785998469003648,
          0.02886128253892606,
          0.02993656660884847,
          0.03101185067877088,
          0.03208713474869329,
          0.0331624188186157,
          0.03423770288853811,
          0.035312986958460524,
          0.03638827102838249,
          0.0374635550983049,
          0.03853883916822731,
          0.03961412323814972,
          0.040689407308072134,
          0.041764691377994545,
          0.042839975447916956,
          0.04391525951783937,
          0.04499054358776178,
          0.04606582765768419,
          0.0471411117276066,
          0.04821639579752901,
          0.04929167986745098,
          0.05036696393737339,
          0.0514422480072958,
          0.05251753207721821,
          0.05359281614714062
         ]
        },
        {
         "line": {
          "color": "#4ECDC4"
         },
         "mode": "lines",
         "name": "after",
         "text": "β1 = 0.013585993854160325",
         "type": "scatter",
         "x": [
          1880,
          1881,
          1882,
          1883,
          1884,
          1885,
          1886,
          1887,
          1888,
          1889,
          1890,
          1891,
          1892,
          1893,
          1894,
          1895,
          1896,
          1897,
          1898,
          1899,
          1900,
          1901,
          1902,
          1903,
          1904,
          1905,
          1906,
          1907,
          1908,
          1909,
          1910,
          1911,
          1912,
          1913,
          1914,
          1915,
          1916,
          1917,
          1918,
          1919,
          1920,
          1921,
          1922,
          1923,
          1924,
          1925,
          1926,
          1927,
          1928,
          1929,
          1930,
          1931,
          1932,
          1933,
          1934,
          1935,
          1936,
          1937,
          1938,
          1939,
          1940,
          1941,
          1942,
          1943,
          1944,
          1945,
          1946,
          1947,
          1948,
          1949,
          1950,
          1951,
          1952,
          1953,
          1954,
          1955,
          1956,
          1957,
          1958,
          1959,
          1960,
          1961,
          1962,
          1963,
          1964,
          1965,
          1966,
          1967,
          1968,
          1969,
          1970,
          1971,
          1972,
          1973,
          1974,
          1975,
          1976,
          1977,
          1978,
          1979,
          1980,
          1981,
          1982,
          1983,
          1984,
          1985,
          1986,
          1987,
          1988,
          1989,
          1990,
          1991,
          1992,
          1993,
          1994,
          1995,
          1996,
          1997,
          1998,
          1999,
          2000,
          2001,
          2002,
          2003,
          2004,
          2005,
          2006,
          2007,
          2008,
          2009,
          2010,
          2011,
          2012,
          2013,
          2014,
          2015,
          2016,
          2017,
          2018,
          2019,
          2020,
          2021,
          2022
         ],
         "y": [
          -1.5271235810467445,
          -1.5135375871925838,
          -1.499951593338423,
          -1.4863655994842624,
          -1.4727796056301017,
          -1.4591936117759445,
          -1.4456076179217838,
          -1.4320216240676231,
          -1.4184356302134624,
          -1.4048496363593017,
          -1.391263642505141,
          -1.3776776486509803,
          -1.3640916547968196,
          -1.350505660942659,
          -1.3369196670885017,
          -1.323333673234341,
          -1.3097476793801803,
          -1.2961616855260196,
          -1.282575691671859,
          -1.2689896978176982,
          -1.2554037039635375,
          -1.2418177101093768,
          -1.228231716255216,
          -1.2146457224010554,
          -1.2010597285468982,
          -1.1874737346927375,
          -1.1738877408385768,
          -1.1603017469844161,
          -1.1467157531302554,
          -1.1331297592760947,
          -1.119543765421934,
          -1.1059577715677733,
          -1.0923717777136126,
          -1.0787857838594554,
          -1.0651997900052947,
          -1.051613796151134,
          -1.0380278022969733,
          -1.0244418084428126,
          -1.010855814588652,
          -0.9972698207344912,
          -0.9836838268803305,
          -0.9700978330261698,
          -0.9565118391720127,
          -0.942925845317852,
          -0.9293398514636912,
          -0.9157538576095305,
          -0.9021678637553698,
          -0.8885818699012091,
          -0.8749958760470484,
          -0.8614098821928877,
          -0.847823888338727,
          -0.8342378944845663,
          -0.8206519006304092,
          -0.8070659067762485,
          -0.7934799129220877,
          -0.779893919067927,
          -0.7663079252137663,
          -0.7527219313596056,
          -0.7391359375054449,
          -0.7255499436512842,
          -0.7119639497971235,
          -0.6983779559429664,
          -0.6847919620888057,
          -0.671205968234645,
          -0.6576199743804843,
          -0.6440339805263235,
          -0.6304479866721628,
          -0.6168619928180021,
          -0.6032759989638414,
          -0.5896900051096807,
          -0.5761040112555236,
          -0.5625180174013629,
          -0.5489320235472022,
          -0.5353460296930415,
          -0.5217600358388808,
          -0.50817404198472,
          -0.49458804813055934,
          -0.48100205427639864,
          -0.46741606042223793,
          -0.45383006656807723,
          -0.4402440727139201,
          -0.42665807885975937,
          -0.41307208500559867,
          -0.39948609115143796,
          -0.38590009729727726,
          -0.37231410344311655,
          -0.35872810958895585,
          -0.34514211573479514,
          -0.33155612188063444,
          -0.3179701280264773,
          -0.3043841341723166,
          -0.2907981403181559,
          -0.27721214646399517,
          -0.26362615260983446,
          -0.25004015875567376,
          -0.23645416490151305,
          -0.22286817104735235,
          -0.20928217719319164,
          -0.1956961833390345,
          -0.18211018948487379,
          -0.16852419563071308,
          -0.15493820177655238,
          -0.14135220792239167,
          -0.12776621406823097,
          -0.11418022021407026,
          -0.10059422635990956,
          -0.08700823250574885,
          -0.07342223865158815,
          -0.05983624479743099,
          -0.04625025094327029,
          -0.03266425708910958,
          -0.019078263234948878,
          -0.005492269380788173,
          0.008093724473372532,
          0.021679718327533237,
          0.03526571218169394,
          0.04885170603585465,
          0.0624376998900118,
          0.0760236937441725,
          0.08960968759833321,
          0.10319568145249391,
          0.11678167530665462,
          0.13036766916081532,
          0.14395366301497603,
          0.15753965686913673,
          0.17112565072329744,
          0.1847116445774546,
          0.1982976384316153,
          0.211883632285776,
          0.2254696261399367,
          0.2390556199940974,
          0.2526416138482581,
          0.2662276077024188,
          0.2798136015565795,
          0.29339959541074023,
          0.30698558926490094,
          0.3205715831190581,
          0.3341575769732188,
          0.3477435708273795,
          0.3613295646815402,
          0.3749155585357009,
          0.3885015523898616,
          0.4020875462440223
         ]
        }
       ],
       "layout": {
        "annotations": [
         {
          "align": "center",
          "arrowwidth": 2,
          "ax": 0,
          "ay": -80,
          "bgcolor": "#ff2d42",
          "borderpad": 5,
          "font": {
           "size": 16
          },
          "opacity": 0.8,
          "showarrow": true,
          "text": "Pulp Fiction",
          "x": 1994,
          "xref": "x",
          "y": 0.0236610914472194,
          "yref": "y"
         }
        ],
        "shapes": [
         {
          "fillcolor": "#FF6F59",
          "line": {
           "width": 0
          },
          "opacity": 0.2,
          "type": "rect",
          "x0": 1983.5,
          "x1": 1993.5,
          "xref": "x",
          "y0": 0,
          "y1": 1,
          "yref": "y domain"
         },
         {
          "fillcolor": "#4ECDC4",
          "line": {
           "width": 0
          },
          "opacity": 0.2,
          "type": "rect",
          "x0": 1993.5,
          "x1": 1998.5,
          "xref": "x",
          "y0": 0,
          "y1": 1,
          "yref": "y domain"
         }
        ],
        "showlegend": false,
        "template": {
         "data": {
          "bar": [
           {
            "error_x": {
             "color": "#f2f5fa"
            },
            "error_y": {
             "color": "#f2f5fa"
            },
            "marker": {
             "line": {
              "color": "rgb(17,17,17)",
              "width": 0.5
             },
             "pattern": {
              "fillmode": "overlay",
              "size": 10,
              "solidity": 0.2
             }
            },
            "type": "bar"
           }
          ],
          "barpolar": [
           {
            "marker": {
             "line": {
              "color": "rgb(17,17,17)",
              "width": 0.5
             },
             "pattern": {
              "fillmode": "overlay",
              "size": 10,
              "solidity": 0.2
             }
            },
            "type": "barpolar"
           }
          ],
          "carpet": [
           {
            "aaxis": {
             "endlinecolor": "#A2B1C6",
             "gridcolor": "#506784",
             "linecolor": "#506784",
             "minorgridcolor": "#506784",
             "startlinecolor": "#A2B1C6"
            },
            "baxis": {
             "endlinecolor": "#A2B1C6",
             "gridcolor": "#506784",
             "linecolor": "#506784",
             "minorgridcolor": "#506784",
             "startlinecolor": "#A2B1C6"
            },
            "type": "carpet"
           }
          ],
          "choropleth": [
           {
            "colorbar": {
             "outlinewidth": 0,
             "ticks": ""
            },
            "type": "choropleth"
           }
          ],
          "contour": [
           {
            "colorbar": {
             "outlinewidth": 0,
             "ticks": ""
            },
            "colorscale": [
             [
              0,
              "#0d0887"
             ],
             [
              0.1111111111111111,
              "#46039f"
             ],
             [
              0.2222222222222222,
              "#7201a8"
             ],
             [
              0.3333333333333333,
              "#9c179e"
             ],
             [
              0.4444444444444444,
              "#bd3786"
             ],
             [
              0.5555555555555556,
              "#d8576b"
             ],
             [
              0.6666666666666666,
              "#ed7953"
             ],
             [
              0.7777777777777778,
              "#fb9f3a"
             ],
             [
              0.8888888888888888,
              "#fdca26"
             ],
             [
              1,
              "#f0f921"
             ]
            ],
            "type": "contour"
           }
          ],
          "contourcarpet": [
           {
            "colorbar": {
             "outlinewidth": 0,
             "ticks": ""
            },
            "type": "contourcarpet"
           }
          ],
          "heatmap": [
           {
            "colorbar": {
             "outlinewidth": 0,
             "ticks": ""
            },
            "colorscale": [
             [
              0,
              "#0d0887"
             ],
             [
              0.1111111111111111,
              "#46039f"
             ],
             [
              0.2222222222222222,
              "#7201a8"
             ],
             [
              0.3333333333333333,
              "#9c179e"
             ],
             [
              0.4444444444444444,
              "#bd3786"
             ],
             [
              0.5555555555555556,
              "#d8576b"
             ],
             [
              0.6666666666666666,
              "#ed7953"
             ],
             [
              0.7777777777777778,
              "#fb9f3a"
             ],
             [
              0.8888888888888888,
              "#fdca26"
             ],
             [
              1,
              "#f0f921"
             ]
            ],
            "type": "heatmap"
           }
          ],
          "heatmapgl": [
           {
            "colorbar": {
             "outlinewidth": 0,
             "ticks": ""
            },
            "colorscale": [
             [
              0,
              "#0d0887"
             ],
             [
              0.1111111111111111,
              "#46039f"
             ],
             [
              0.2222222222222222,
              "#7201a8"
             ],
             [
              0.3333333333333333,
              "#9c179e"
             ],
             [
              0.4444444444444444,
              "#bd3786"
             ],
             [
              0.5555555555555556,
              "#d8576b"
             ],
             [
              0.6666666666666666,
              "#ed7953"
             ],
             [
              0.7777777777777778,
              "#fb9f3a"
             ],
             [
              0.8888888888888888,
              "#fdca26"
             ],
             [
              1,
              "#f0f921"
             ]
            ],
            "type": "heatmapgl"
           }
          ],
          "histogram": [
           {
            "marker": {
             "pattern": {
              "fillmode": "overlay",
              "size": 10,
              "solidity": 0.2
             }
            },
            "type": "histogram"
           }
          ],
          "histogram2d": [
           {
            "colorbar": {
             "outlinewidth": 0,
             "ticks": ""
            },
            "colorscale": [
             [
              0,
              "#0d0887"
             ],
             [
              0.1111111111111111,
              "#46039f"
             ],
             [
              0.2222222222222222,
              "#7201a8"
             ],
             [
              0.3333333333333333,
              "#9c179e"
             ],
             [
              0.4444444444444444,
              "#bd3786"
             ],
             [
              0.5555555555555556,
              "#d8576b"
             ],
             [
              0.6666666666666666,
              "#ed7953"
             ],
             [
              0.7777777777777778,
              "#fb9f3a"
             ],
             [
              0.8888888888888888,
              "#fdca26"
             ],
             [
              1,
              "#f0f921"
             ]
            ],
            "type": "histogram2d"
           }
          ],
          "histogram2dcontour": [
           {
            "colorbar": {
             "outlinewidth": 0,
             "ticks": ""
            },
            "colorscale": [
             [
              0,
              "#0d0887"
             ],
             [
              0.1111111111111111,
              "#46039f"
             ],
             [
              0.2222222222222222,
              "#7201a8"
             ],
             [
              0.3333333333333333,
              "#9c179e"
             ],
             [
              0.4444444444444444,
              "#bd3786"
             ],
             [
              0.5555555555555556,
              "#d8576b"
             ],
             [
              0.6666666666666666,
              "#ed7953"
             ],
             [
              0.7777777777777778,
              "#fb9f3a"
             ],
             [
              0.8888888888888888,
              "#fdca26"
             ],
             [
              1,
              "#f0f921"
             ]
            ],
            "type": "histogram2dcontour"
           }
          ],
          "mesh3d": [
           {
            "colorbar": {
             "outlinewidth": 0,
             "ticks": ""
            },
            "type": "mesh3d"
           }
          ],
          "parcoords": [
           {
            "line": {
             "colorbar": {
              "outlinewidth": 0,
              "ticks": ""
             }
            },
            "type": "parcoords"
           }
          ],
          "pie": [
           {
            "automargin": true,
            "type": "pie"
           }
          ],
          "scatter": [
           {
            "marker": {
             "line": {
              "color": "#283442"
             }
            },
            "type": "scatter"
           }
          ],
          "scatter3d": [
           {
            "line": {
             "colorbar": {
              "outlinewidth": 0,
              "ticks": ""
             }
            },
            "marker": {
             "colorbar": {
              "outlinewidth": 0,
              "ticks": ""
             }
            },
            "type": "scatter3d"
           }
          ],
          "scattercarpet": [
           {
            "marker": {
             "colorbar": {
              "outlinewidth": 0,
              "ticks": ""
             }
            },
            "type": "scattercarpet"
           }
          ],
          "scattergeo": [
           {
            "marker": {
             "colorbar": {
              "outlinewidth": 0,
              "ticks": ""
             }
            },
            "type": "scattergeo"
           }
          ],
          "scattergl": [
           {
            "marker": {
             "line": {
              "color": "#283442"
             }
            },
            "type": "scattergl"
           }
          ],
          "scattermapbox": [
           {
            "marker": {
             "colorbar": {
              "outlinewidth": 0,
              "ticks": ""
             }
            },
            "type": "scattermapbox"
           }
          ],
          "scatterpolar": [
           {
            "marker": {
             "colorbar": {
              "outlinewidth": 0,
              "ticks": ""
             }
            },
            "type": "scatterpolar"
           }
          ],
          "scatterpolargl": [
           {
            "marker": {
             "colorbar": {
              "outlinewidth": 0,
              "ticks": ""
             }
            },
            "type": "scatterpolargl"
           }
          ],
          "scatterternary": [
           {
            "marker": {
             "colorbar": {
              "outlinewidth": 0,
              "ticks": ""
             }
            },
            "type": "scatterternary"
           }
          ],
          "surface": [
           {
            "colorbar": {
             "outlinewidth": 0,
             "ticks": ""
            },
            "colorscale": [
             [
              0,
              "#0d0887"
             ],
             [
              0.1111111111111111,
              "#46039f"
             ],
             [
              0.2222222222222222,
              "#7201a8"
             ],
             [
              0.3333333333333333,
              "#9c179e"
             ],
             [
              0.4444444444444444,
              "#bd3786"
             ],
             [
              0.5555555555555556,
              "#d8576b"
             ],
             [
              0.6666666666666666,
              "#ed7953"
             ],
             [
              0.7777777777777778,
              "#fb9f3a"
             ],
             [
              0.8888888888888888,
              "#fdca26"
             ],
             [
              1,
              "#f0f921"
             ]
            ],
            "type": "surface"
           }
          ],
          "table": [
           {
            "cells": {
             "fill": {
              "color": "#506784"
             },
             "line": {
              "color": "rgb(17,17,17)"
             }
            },
            "header": {
             "fill": {
              "color": "#2a3f5f"
             },
             "line": {
              "color": "rgb(17,17,17)"
             }
            },
            "type": "table"
           }
          ]
         },
         "layout": {
          "annotationdefaults": {
           "arrowcolor": "#f2f5fa",
           "arrowhead": 0,
           "arrowwidth": 1
          },
          "autotypenumbers": "strict",
          "coloraxis": {
           "colorbar": {
            "outlinewidth": 0,
            "ticks": ""
           }
          },
          "colorscale": {
           "diverging": [
            [
             0,
             "#8e0152"
            ],
            [
             0.1,
             "#c51b7d"
            ],
            [
             0.2,
             "#de77ae"
            ],
            [
             0.3,
             "#f1b6da"
            ],
            [
             0.4,
             "#fde0ef"
            ],
            [
             0.5,
             "#f7f7f7"
            ],
            [
             0.6,
             "#e6f5d0"
            ],
            [
             0.7,
             "#b8e186"
            ],
            [
             0.8,
             "#7fbc41"
            ],
            [
             0.9,
             "#4d9221"
            ],
            [
             1,
             "#276419"
            ]
           ],
           "sequential": [
            [
             0,
             "#0d0887"
            ],
            [
             0.1111111111111111,
             "#46039f"
            ],
            [
             0.2222222222222222,
             "#7201a8"
            ],
            [
             0.3333333333333333,
             "#9c179e"
            ],
            [
             0.4444444444444444,
             "#bd3786"
            ],
            [
             0.5555555555555556,
             "#d8576b"
            ],
            [
             0.6666666666666666,
             "#ed7953"
            ],
            [
             0.7777777777777778,
             "#fb9f3a"
            ],
            [
             0.8888888888888888,
             "#fdca26"
            ],
            [
             1,
             "#f0f921"
            ]
           ],
           "sequentialminus": [
            [
             0,
             "#0d0887"
            ],
            [
             0.1111111111111111,
             "#46039f"
            ],
            [
             0.2222222222222222,
             "#7201a8"
            ],
            [
             0.3333333333333333,
             "#9c179e"
            ],
            [
             0.4444444444444444,
             "#bd3786"
            ],
            [
             0.5555555555555556,
             "#d8576b"
            ],
            [
             0.6666666666666666,
             "#ed7953"
            ],
            [
             0.7777777777777778,
             "#fb9f3a"
            ],
            [
             0.8888888888888888,
             "#fdca26"
            ],
            [
             1,
             "#f0f921"
            ]
           ]
          },
          "colorway": [
           "rgb(255, 185, 54)",
           "#FF6F59",
           "#4ECDC4",
           "#C7F464",
           "#F7FFF7"
          ],
          "font": {
           "color": "white",
           "family": "Poppins"
          },
          "geo": {
           "bgcolor": "rgb(17,17,17)",
           "lakecolor": "rgb(17,17,17)",
           "landcolor": "rgb(17,17,17)",
           "showlakes": true,
           "showland": true,
           "subunitcolor": "#506784"
          },
          "hoverlabel": {
           "align": "left"
          },
          "hovermode": "closest",
          "mapbox": {
           "style": "dark"
          },
          "margin": {
           "b": 0,
           "l": 0,
           "r": 0,
           "t": 0
          },
          "paper_bgcolor": "rgb(15, 9, 28)",
          "plot_bgcolor": "rgb(15, 9, 28)",
          "polar": {
           "angularaxis": {
            "gridcolor": "#506784",
            "linecolor": "#506784",
            "ticks": ""
           },
           "bgcolor": "rgb(17,17,17)",
           "radialaxis": {
            "gridcolor": "#506784",
            "linecolor": "#506784",
            "ticks": ""
           }
          },
          "scene": {
           "xaxis": {
            "backgroundcolor": "rgb(17,17,17)",
            "gridcolor": "#506784",
            "gridwidth": 2,
            "linecolor": "#506784",
            "showbackground": true,
            "ticks": "",
            "zerolinecolor": "#C8D4E3"
           },
           "yaxis": {
            "backgroundcolor": "rgb(17,17,17)",
            "gridcolor": "#506784",
            "gridwidth": 2,
            "linecolor": "#506784",
            "showbackground": true,
            "ticks": "",
            "zerolinecolor": "#C8D4E3"
           },
           "zaxis": {
            "backgroundcolor": "rgb(17,17,17)",
            "gridcolor": "#506784",
            "gridwidth": 2,
            "linecolor": "#506784",
            "showbackground": true,
            "ticks": "",
            "zerolinecolor": "#C8D4E3"
           }
          },
          "shapedefaults": {
           "line": {
            "color": "#f2f5fa"
           }
          },
          "sliderdefaults": {
           "bgcolor": "#C8D4E3",
           "bordercolor": "rgb(17,17,17)",
           "borderwidth": 1,
           "tickwidth": 0
          },
          "ternary": {
           "aaxis": {
            "gridcolor": "#506784",
            "linecolor": "#506784",
            "ticks": ""
           },
           "baxis": {
            "gridcolor": "#506784",
            "linecolor": "#506784",
            "ticks": ""
           },
           "bgcolor": "rgb(17,17,17)",
           "caxis": {
            "gridcolor": "#506784",
            "linecolor": "#506784",
            "ticks": ""
           }
          },
          "title": {
           "x": 0.05
          },
          "updatemenudefaults": {
           "bgcolor": "#506784",
           "borderwidth": 0
          },
          "xaxis": {
           "automargin": true,
           "gridcolor": "#283442",
           "linecolor": "#506784",
           "ticks": "",
           "title": {
            "standoff": 15
           },
           "zerolinecolor": "#283442",
           "zerolinewidth": 2
          },
          "yaxis": {
           "automargin": true,
           "gridcolor": "#283442",
           "linecolor": "#506784",
           "ticks": "",
           "title": {
            "standoff": 15
           },
           "zerolinecolor": "#283442",
           "zerolinewidth": 2
          }
         }
        },
        "xaxis": {
         "range": [
          1982,
          2000
         ],
         "title": {
          "text": "Year"
         }
        },
        "yaxis": {
         "range": [
          -0.003,
          0.11
         ],
         "title": {
          "text": "Percentage of given names"
         }
        }
       }
      },
      "text/html": [
       "<div>                            <div id=\"c3aa884f-0213-4522-854c-f07f778fe7bb\" class=\"plotly-graph-div\" style=\"height:525px; width:100%;\"></div>            <script type=\"text/javascript\">                require([\"plotly\"], function(Plotly) {                    window.PLOTLYENV=window.PLOTLYENV || {};                                    if (document.getElementById(\"c3aa884f-0213-4522-854c-f07f778fe7bb\")) {                    Plotly.newPlot(                        \"c3aa884f-0213-4522-854c-f07f778fe7bb\",                        [{\"line\":{\"shape\":\"spline\"},\"name\":\"Mia\",\"x\":[1880,1881,1882,1883,1884,1885,1886,1887,1888,1889,1890,1891,1892,1893,1894,1895,1896,1897,1898,1899,1900,1901,1902,1903,1904,1905,1906,1907,1908,1909,1910,1911,1912,1913,1914,1915,1916,1917,1918,1919,1920,1921,1922,1923,1924,1925,1926,1927,1928,1929,1930,1931,1932,1933,1934,1935,1936,1937,1938,1939,1940,1941,1942,1943,1944,1945,1946,1947,1948,1949,1950,1951,1952,1953,1954,1955,1956,1957,1958,1959,1960,1961,1962,1963,1964,1965,1966,1967,1968,1969,1970,1971,1972,1973,1974,1975,1976,1977,1978,1979,1980,1981,1982,1983,1984,1985,1986,1987,1988,1989,1990,1991,1992,1993,1994,1995,1996,1997,1998,1999,2000,2001,2002,2003,2004,2005,2006,2007,2008,2009,2010,2011,2012,2013,2014,2015,2016,2017,2018,2019,2020,2021,2022],\"y\":[0.0,0.0,0.0,0.0,0.0,0.0,0.0,0.0,0.0,0.0,0.0,0.0,0.0,0.0,0.0,0.0,0.0,0.0,0.0,0.0,0.0,0.0,0.0,0.0,0.0,0.0,0.0,0.0,0.0,0.0,0.0,0.0,0.0,0.0,0.0,0.0,0.0,0.0,0.0,0.0,0.0,0.0,0.0,0.0,0.0,0.0,0.0,0.0,0.0,0.0,0.0,0.0,0.0,0.0001016605229823,0.0,0.0,0.0,0.0,0.0,0.0,4.4040078232794976e-05,0.0,0.0001111854818445,0.0001434221235796,0.0001881570207969,0.0001526407032462,0.000284763987607,0.0002805047514699,0.0004098691814678,0.0005510842001549,0.0004615899465709,0.0006582496647726,0.0006915404915576,0.0007078059196168,0.0010656679835278,0.0009559700328551,0.0008573789338076,0.0008651878683357,0.0007088379628192,0.0011423510362096,0.0011675187526618,0.0010739843403319,0.0020295238085693,0.0025548069971054,0.0076506295765532,0.0293109661815655,0.0208946585734106,0.0219103038726312,0.0203507960973296,0.0133401133413393,0.0136215510950291,0.0140948917861722,0.013312780042102,0.0116891062597191,0.0129476759592517,0.0122710004820508,0.0117796650671003,0.0141136726123057,0.0169579934092292,0.0185394532764339,0.0202434969618453,0.0211002838947287,0.0158010338473858,0.0137647019986229,0.0131081539739943,0.0141876836032139,0.013987215053575,0.0154500398157448,0.0170494536563466,0.0178827894916258,0.0201740614917825,0.020380491950889,0.0218278619582527,0.0216602470519886,0.0236610914472194,0.0307905688880089,0.0474970518585545,0.0706469456469456,0.0716628723385508,0.0761656224665455,0.0940716852402833,0.1079277162451179,0.1728444653629623,0.1923667485217791,0.200172270778981,0.2915262412558912,0.3144111190481476,0.2829377738608011,0.2678390944006468,0.3102902592057881,0.2985856909821684,0.3267624879156513,0.3409194230881985,0.3742494556991368,0.3779372234375812,0.4178086022708205,0.4080926669164751,0.3914317178447561,0.3752314251308388,0.3733120979345368,0.3494888155190557,0.3415742316571206,0.3396708985578701],\"type\":\"scatter\",\"mode\":\"lines+markers\"},{\"marker\":{\"color\":\"#ff2d42\",\"line\":{\"color\":\"rgb(15, 9, 28)\",\"width\":5},\"size\":15},\"mode\":\"markers\",\"name\":\"\",\"text\":[\"Pulp Fiction\"],\"x\":[1994],\"y\":[0.0236610914472194],\"type\":\"scatter\"},{\"line\":{\"color\":\"#FF6F59\"},\"mode\":\"lines\",\"name\":\"before\",\"text\":\"\\u03b21 = 0.0010752840699223747\",\"x\":[1880,1881,1882,1883,1884,1885,1886,1887,1888,1889,1890,1891,1892,1893,1894,1895,1896,1897,1898,1899,1900,1901,1902,1903,1904,1905,1906,1907,1908,1909,1910,1911,1912,1913,1914,1915,1916,1917,1918,1919,1920,1921,1922,1923,1924,1925,1926,1927,1928,1929,1930,1931,1932,1933,1934,1935,1936,1937,1938,1939,1940,1941,1942,1943,1944,1945,1946,1947,1948,1949,1950,1951,1952,1953,1954,1955,1956,1957,1958,1959,1960,1961,1962,1963,1964,1965,1966,1967,1968,1969,1970,1971,1972,1973,1974,1975,1976,1977,1978,1979,1980,1981,1982,1983,1984,1985,1986,1987,1988,1989,1990,1991,1992,1993,1994,1995,1996,1997,1998,1999,2000,2001,2002,2003,2004,2005,2006,2007,2008,2009,2010,2011,2012,2013,2014,2015,2016,2017,2018,2019,2020,2021,2022],\"y\":[-0.0990975217818364,-0.09802223771191398,-0.09694695364199157,-0.0958716695720696,-0.0947963855021472,-0.09372110143222478,-0.09264581736230237,-0.09157053329237996,-0.09049524922245755,-0.08941996515253514,-0.08834468108261273,-0.08726939701269032,-0.08619411294276791,-0.0851188288728455,-0.08404354480292309,-0.08296826073300112,-0.08189297666307871,-0.0808176925931563,-0.07974240852323389,-0.07866712445331148,-0.07759184038338907,-0.07651655631346665,-0.07544127224354424,-0.07436598817362183,-0.07329070410369942,-0.07221542003377701,-0.0711401359638546,-0.07006485189393263,-0.06898956782401022,-0.06791428375408781,-0.0668389996841654,-0.06576371561424299,-0.06468843154432058,-0.06361314747439817,-0.06253786340447576,-0.06146257933455335,-0.060387295264630936,-0.059312011194708525,-0.058236727124786114,-0.0571614430548637,-0.056086158984941736,-0.055010874915019325,-0.053935590845096915,-0.052860306775174504,-0.05178502270525209,-0.05070973863532968,-0.04963445456540727,-0.04855917049548486,-0.04748388642556245,-0.04640860235564004,-0.04533331828571763,-0.04425803421579522,-0.04318275014587325,-0.04210746607595084,-0.04103218200602843,-0.03995689793610602,-0.038881613866183606,-0.037806329796261195,-0.036731045726338785,-0.035655761656416374,-0.03458047758649396,-0.03350519351657155,-0.03242990944664914,-0.03135462537672673,-0.030279341306804763,-0.029204057236882353,-0.02812877316695994,-0.02705348909703753,-0.02597820502711512,-0.02490292095719271,-0.023827636887270298,-0.022752352817347887,-0.021677068747425476,-0.020601784677503066,-0.019526500607580655,-0.018451216537658244,-0.017375932467735833,-0.016300648397813866,-0.015225364327891455,-0.014150080257969044,-0.013074796188046633,-0.011999512118124223,-0.010924228048201812,-0.0098489439782794,-0.00877365990835699,-0.007698375838434579,-0.006623091768512168,-0.005547807698589757,-0.004472523628667346,-0.0033972395587453796,-0.0023219554888229688,-0.0012466714189005579,-0.000171387348978147,0.0009038967209442639,0.0019791807908666748,0.0030544648607890856,0.0041297489307114965,0.005205033000633907,0.006280317070556318,0.007355601140478729,0.00843088521040114,0.009506169280323107,0.010581453350245518,0.011656737420167929,0.01273202149009034,0.01380730556001275,0.014882589629935161,0.015957873699857572,0.017033157769779983,0.018108441839702394,0.019183725909624805,0.020259009979547216,0.021334294049469626,0.022409578119391593,0.023484862189314004,0.024560146259236415,0.025635430329158826,0.026710714399081237,0.027785998469003648,0.02886128253892606,0.02993656660884847,0.03101185067877088,0.03208713474869329,0.0331624188186157,0.03423770288853811,0.035312986958460524,0.03638827102838249,0.0374635550983049,0.03853883916822731,0.03961412323814972,0.040689407308072134,0.041764691377994545,0.042839975447916956,0.04391525951783937,0.04499054358776178,0.04606582765768419,0.0471411117276066,0.04821639579752901,0.04929167986745098,0.05036696393737339,0.0514422480072958,0.05251753207721821,0.05359281614714062],\"type\":\"scatter\"},{\"line\":{\"color\":\"#4ECDC4\"},\"mode\":\"lines\",\"name\":\"after\",\"text\":\"\\u03b21 = 0.013585993854160325\",\"x\":[1880,1881,1882,1883,1884,1885,1886,1887,1888,1889,1890,1891,1892,1893,1894,1895,1896,1897,1898,1899,1900,1901,1902,1903,1904,1905,1906,1907,1908,1909,1910,1911,1912,1913,1914,1915,1916,1917,1918,1919,1920,1921,1922,1923,1924,1925,1926,1927,1928,1929,1930,1931,1932,1933,1934,1935,1936,1937,1938,1939,1940,1941,1942,1943,1944,1945,1946,1947,1948,1949,1950,1951,1952,1953,1954,1955,1956,1957,1958,1959,1960,1961,1962,1963,1964,1965,1966,1967,1968,1969,1970,1971,1972,1973,1974,1975,1976,1977,1978,1979,1980,1981,1982,1983,1984,1985,1986,1987,1988,1989,1990,1991,1992,1993,1994,1995,1996,1997,1998,1999,2000,2001,2002,2003,2004,2005,2006,2007,2008,2009,2010,2011,2012,2013,2014,2015,2016,2017,2018,2019,2020,2021,2022],\"y\":[-1.5271235810467445,-1.5135375871925838,-1.499951593338423,-1.4863655994842624,-1.4727796056301017,-1.4591936117759445,-1.4456076179217838,-1.4320216240676231,-1.4184356302134624,-1.4048496363593017,-1.391263642505141,-1.3776776486509803,-1.3640916547968196,-1.350505660942659,-1.3369196670885017,-1.323333673234341,-1.3097476793801803,-1.2961616855260196,-1.282575691671859,-1.2689896978176982,-1.2554037039635375,-1.2418177101093768,-1.228231716255216,-1.2146457224010554,-1.2010597285468982,-1.1874737346927375,-1.1738877408385768,-1.1603017469844161,-1.1467157531302554,-1.1331297592760947,-1.119543765421934,-1.1059577715677733,-1.0923717777136126,-1.0787857838594554,-1.0651997900052947,-1.051613796151134,-1.0380278022969733,-1.0244418084428126,-1.010855814588652,-0.9972698207344912,-0.9836838268803305,-0.9700978330261698,-0.9565118391720127,-0.942925845317852,-0.9293398514636912,-0.9157538576095305,-0.9021678637553698,-0.8885818699012091,-0.8749958760470484,-0.8614098821928877,-0.847823888338727,-0.8342378944845663,-0.8206519006304092,-0.8070659067762485,-0.7934799129220877,-0.779893919067927,-0.7663079252137663,-0.7527219313596056,-0.7391359375054449,-0.7255499436512842,-0.7119639497971235,-0.6983779559429664,-0.6847919620888057,-0.671205968234645,-0.6576199743804843,-0.6440339805263235,-0.6304479866721628,-0.6168619928180021,-0.6032759989638414,-0.5896900051096807,-0.5761040112555236,-0.5625180174013629,-0.5489320235472022,-0.5353460296930415,-0.5217600358388808,-0.50817404198472,-0.49458804813055934,-0.48100205427639864,-0.46741606042223793,-0.45383006656807723,-0.4402440727139201,-0.42665807885975937,-0.41307208500559867,-0.39948609115143796,-0.38590009729727726,-0.37231410344311655,-0.35872810958895585,-0.34514211573479514,-0.33155612188063444,-0.3179701280264773,-0.3043841341723166,-0.2907981403181559,-0.27721214646399517,-0.26362615260983446,-0.25004015875567376,-0.23645416490151305,-0.22286817104735235,-0.20928217719319164,-0.1956961833390345,-0.18211018948487379,-0.16852419563071308,-0.15493820177655238,-0.14135220792239167,-0.12776621406823097,-0.11418022021407026,-0.10059422635990956,-0.08700823250574885,-0.07342223865158815,-0.05983624479743099,-0.04625025094327029,-0.03266425708910958,-0.019078263234948878,-0.005492269380788173,0.008093724473372532,0.021679718327533237,0.03526571218169394,0.04885170603585465,0.0624376998900118,0.0760236937441725,0.08960968759833321,0.10319568145249391,0.11678167530665462,0.13036766916081532,0.14395366301497603,0.15753965686913673,0.17112565072329744,0.1847116445774546,0.1982976384316153,0.211883632285776,0.2254696261399367,0.2390556199940974,0.2526416138482581,0.2662276077024188,0.2798136015565795,0.29339959541074023,0.30698558926490094,0.3205715831190581,0.3341575769732188,0.3477435708273795,0.3613295646815402,0.3749155585357009,0.3885015523898616,0.4020875462440223],\"type\":\"scatter\"}],                        {\"template\":{\"data\":{\"barpolar\":[{\"marker\":{\"line\":{\"color\":\"rgb(17,17,17)\",\"width\":0.5},\"pattern\":{\"fillmode\":\"overlay\",\"size\":10,\"solidity\":0.2}},\"type\":\"barpolar\"}],\"bar\":[{\"error_x\":{\"color\":\"#f2f5fa\"},\"error_y\":{\"color\":\"#f2f5fa\"},\"marker\":{\"line\":{\"color\":\"rgb(17,17,17)\",\"width\":0.5},\"pattern\":{\"fillmode\":\"overlay\",\"size\":10,\"solidity\":0.2}},\"type\":\"bar\"}],\"carpet\":[{\"aaxis\":{\"endlinecolor\":\"#A2B1C6\",\"gridcolor\":\"#506784\",\"linecolor\":\"#506784\",\"minorgridcolor\":\"#506784\",\"startlinecolor\":\"#A2B1C6\"},\"baxis\":{\"endlinecolor\":\"#A2B1C6\",\"gridcolor\":\"#506784\",\"linecolor\":\"#506784\",\"minorgridcolor\":\"#506784\",\"startlinecolor\":\"#A2B1C6\"},\"type\":\"carpet\"}],\"choropleth\":[{\"colorbar\":{\"outlinewidth\":0,\"ticks\":\"\"},\"type\":\"choropleth\"}],\"contourcarpet\":[{\"colorbar\":{\"outlinewidth\":0,\"ticks\":\"\"},\"type\":\"contourcarpet\"}],\"contour\":[{\"colorbar\":{\"outlinewidth\":0,\"ticks\":\"\"},\"colorscale\":[[0.0,\"#0d0887\"],[0.1111111111111111,\"#46039f\"],[0.2222222222222222,\"#7201a8\"],[0.3333333333333333,\"#9c179e\"],[0.4444444444444444,\"#bd3786\"],[0.5555555555555556,\"#d8576b\"],[0.6666666666666666,\"#ed7953\"],[0.7777777777777778,\"#fb9f3a\"],[0.8888888888888888,\"#fdca26\"],[1.0,\"#f0f921\"]],\"type\":\"contour\"}],\"heatmapgl\":[{\"colorbar\":{\"outlinewidth\":0,\"ticks\":\"\"},\"colorscale\":[[0.0,\"#0d0887\"],[0.1111111111111111,\"#46039f\"],[0.2222222222222222,\"#7201a8\"],[0.3333333333333333,\"#9c179e\"],[0.4444444444444444,\"#bd3786\"],[0.5555555555555556,\"#d8576b\"],[0.6666666666666666,\"#ed7953\"],[0.7777777777777778,\"#fb9f3a\"],[0.8888888888888888,\"#fdca26\"],[1.0,\"#f0f921\"]],\"type\":\"heatmapgl\"}],\"heatmap\":[{\"colorbar\":{\"outlinewidth\":0,\"ticks\":\"\"},\"colorscale\":[[0.0,\"#0d0887\"],[0.1111111111111111,\"#46039f\"],[0.2222222222222222,\"#7201a8\"],[0.3333333333333333,\"#9c179e\"],[0.4444444444444444,\"#bd3786\"],[0.5555555555555556,\"#d8576b\"],[0.6666666666666666,\"#ed7953\"],[0.7777777777777778,\"#fb9f3a\"],[0.8888888888888888,\"#fdca26\"],[1.0,\"#f0f921\"]],\"type\":\"heatmap\"}],\"histogram2dcontour\":[{\"colorbar\":{\"outlinewidth\":0,\"ticks\":\"\"},\"colorscale\":[[0.0,\"#0d0887\"],[0.1111111111111111,\"#46039f\"],[0.2222222222222222,\"#7201a8\"],[0.3333333333333333,\"#9c179e\"],[0.4444444444444444,\"#bd3786\"],[0.5555555555555556,\"#d8576b\"],[0.6666666666666666,\"#ed7953\"],[0.7777777777777778,\"#fb9f3a\"],[0.8888888888888888,\"#fdca26\"],[1.0,\"#f0f921\"]],\"type\":\"histogram2dcontour\"}],\"histogram2d\":[{\"colorbar\":{\"outlinewidth\":0,\"ticks\":\"\"},\"colorscale\":[[0.0,\"#0d0887\"],[0.1111111111111111,\"#46039f\"],[0.2222222222222222,\"#7201a8\"],[0.3333333333333333,\"#9c179e\"],[0.4444444444444444,\"#bd3786\"],[0.5555555555555556,\"#d8576b\"],[0.6666666666666666,\"#ed7953\"],[0.7777777777777778,\"#fb9f3a\"],[0.8888888888888888,\"#fdca26\"],[1.0,\"#f0f921\"]],\"type\":\"histogram2d\"}],\"histogram\":[{\"marker\":{\"pattern\":{\"fillmode\":\"overlay\",\"size\":10,\"solidity\":0.2}},\"type\":\"histogram\"}],\"mesh3d\":[{\"colorbar\":{\"outlinewidth\":0,\"ticks\":\"\"},\"type\":\"mesh3d\"}],\"parcoords\":[{\"line\":{\"colorbar\":{\"outlinewidth\":0,\"ticks\":\"\"}},\"type\":\"parcoords\"}],\"pie\":[{\"automargin\":true,\"type\":\"pie\"}],\"scatter3d\":[{\"line\":{\"colorbar\":{\"outlinewidth\":0,\"ticks\":\"\"}},\"marker\":{\"colorbar\":{\"outlinewidth\":0,\"ticks\":\"\"}},\"type\":\"scatter3d\"}],\"scattercarpet\":[{\"marker\":{\"colorbar\":{\"outlinewidth\":0,\"ticks\":\"\"}},\"type\":\"scattercarpet\"}],\"scattergeo\":[{\"marker\":{\"colorbar\":{\"outlinewidth\":0,\"ticks\":\"\"}},\"type\":\"scattergeo\"}],\"scattergl\":[{\"marker\":{\"line\":{\"color\":\"#283442\"}},\"type\":\"scattergl\"}],\"scattermapbox\":[{\"marker\":{\"colorbar\":{\"outlinewidth\":0,\"ticks\":\"\"}},\"type\":\"scattermapbox\"}],\"scatterpolargl\":[{\"marker\":{\"colorbar\":{\"outlinewidth\":0,\"ticks\":\"\"}},\"type\":\"scatterpolargl\"}],\"scatterpolar\":[{\"marker\":{\"colorbar\":{\"outlinewidth\":0,\"ticks\":\"\"}},\"type\":\"scatterpolar\"}],\"scatter\":[{\"marker\":{\"line\":{\"color\":\"#283442\"}},\"type\":\"scatter\"}],\"scatterternary\":[{\"marker\":{\"colorbar\":{\"outlinewidth\":0,\"ticks\":\"\"}},\"type\":\"scatterternary\"}],\"surface\":[{\"colorbar\":{\"outlinewidth\":0,\"ticks\":\"\"},\"colorscale\":[[0.0,\"#0d0887\"],[0.1111111111111111,\"#46039f\"],[0.2222222222222222,\"#7201a8\"],[0.3333333333333333,\"#9c179e\"],[0.4444444444444444,\"#bd3786\"],[0.5555555555555556,\"#d8576b\"],[0.6666666666666666,\"#ed7953\"],[0.7777777777777778,\"#fb9f3a\"],[0.8888888888888888,\"#fdca26\"],[1.0,\"#f0f921\"]],\"type\":\"surface\"}],\"table\":[{\"cells\":{\"fill\":{\"color\":\"#506784\"},\"line\":{\"color\":\"rgb(17,17,17)\"}},\"header\":{\"fill\":{\"color\":\"#2a3f5f\"},\"line\":{\"color\":\"rgb(17,17,17)\"}},\"type\":\"table\"}]},\"layout\":{\"annotationdefaults\":{\"arrowcolor\":\"#f2f5fa\",\"arrowhead\":0,\"arrowwidth\":1},\"autotypenumbers\":\"strict\",\"coloraxis\":{\"colorbar\":{\"outlinewidth\":0,\"ticks\":\"\"}},\"colorscale\":{\"diverging\":[[0,\"#8e0152\"],[0.1,\"#c51b7d\"],[0.2,\"#de77ae\"],[0.3,\"#f1b6da\"],[0.4,\"#fde0ef\"],[0.5,\"#f7f7f7\"],[0.6,\"#e6f5d0\"],[0.7,\"#b8e186\"],[0.8,\"#7fbc41\"],[0.9,\"#4d9221\"],[1,\"#276419\"]],\"sequential\":[[0.0,\"#0d0887\"],[0.1111111111111111,\"#46039f\"],[0.2222222222222222,\"#7201a8\"],[0.3333333333333333,\"#9c179e\"],[0.4444444444444444,\"#bd3786\"],[0.5555555555555556,\"#d8576b\"],[0.6666666666666666,\"#ed7953\"],[0.7777777777777778,\"#fb9f3a\"],[0.8888888888888888,\"#fdca26\"],[1.0,\"#f0f921\"]],\"sequentialminus\":[[0.0,\"#0d0887\"],[0.1111111111111111,\"#46039f\"],[0.2222222222222222,\"#7201a8\"],[0.3333333333333333,\"#9c179e\"],[0.4444444444444444,\"#bd3786\"],[0.5555555555555556,\"#d8576b\"],[0.6666666666666666,\"#ed7953\"],[0.7777777777777778,\"#fb9f3a\"],[0.8888888888888888,\"#fdca26\"],[1.0,\"#f0f921\"]]},\"colorway\":[\"rgb(255, 185, 54)\",\"#FF6F59\",\"#4ECDC4\",\"#C7F464\",\"#F7FFF7\"],\"font\":{\"color\":\"white\",\"family\":\"Poppins\"},\"geo\":{\"bgcolor\":\"rgb(17,17,17)\",\"lakecolor\":\"rgb(17,17,17)\",\"landcolor\":\"rgb(17,17,17)\",\"showlakes\":true,\"showland\":true,\"subunitcolor\":\"#506784\"},\"hoverlabel\":{\"align\":\"left\"},\"hovermode\":\"closest\",\"mapbox\":{\"style\":\"dark\"},\"margin\":{\"b\":0,\"l\":0,\"r\":0,\"t\":0},\"paper_bgcolor\":\"rgb(15, 9, 28)\",\"plot_bgcolor\":\"rgb(15, 9, 28)\",\"polar\":{\"angularaxis\":{\"gridcolor\":\"#506784\",\"linecolor\":\"#506784\",\"ticks\":\"\"},\"bgcolor\":\"rgb(17,17,17)\",\"radialaxis\":{\"gridcolor\":\"#506784\",\"linecolor\":\"#506784\",\"ticks\":\"\"}},\"scene\":{\"xaxis\":{\"backgroundcolor\":\"rgb(17,17,17)\",\"gridcolor\":\"#506784\",\"gridwidth\":2,\"linecolor\":\"#506784\",\"showbackground\":true,\"ticks\":\"\",\"zerolinecolor\":\"#C8D4E3\"},\"yaxis\":{\"backgroundcolor\":\"rgb(17,17,17)\",\"gridcolor\":\"#506784\",\"gridwidth\":2,\"linecolor\":\"#506784\",\"showbackground\":true,\"ticks\":\"\",\"zerolinecolor\":\"#C8D4E3\"},\"zaxis\":{\"backgroundcolor\":\"rgb(17,17,17)\",\"gridcolor\":\"#506784\",\"gridwidth\":2,\"linecolor\":\"#506784\",\"showbackground\":true,\"ticks\":\"\",\"zerolinecolor\":\"#C8D4E3\"}},\"shapedefaults\":{\"line\":{\"color\":\"#f2f5fa\"}},\"sliderdefaults\":{\"bgcolor\":\"#C8D4E3\",\"bordercolor\":\"rgb(17,17,17)\",\"borderwidth\":1,\"tickwidth\":0},\"ternary\":{\"aaxis\":{\"gridcolor\":\"#506784\",\"linecolor\":\"#506784\",\"ticks\":\"\"},\"baxis\":{\"gridcolor\":\"#506784\",\"linecolor\":\"#506784\",\"ticks\":\"\"},\"bgcolor\":\"rgb(17,17,17)\",\"caxis\":{\"gridcolor\":\"#506784\",\"linecolor\":\"#506784\",\"ticks\":\"\"}},\"title\":{\"x\":0.05},\"updatemenudefaults\":{\"bgcolor\":\"#506784\",\"borderwidth\":0},\"xaxis\":{\"automargin\":true,\"gridcolor\":\"#283442\",\"linecolor\":\"#506784\",\"ticks\":\"\",\"title\":{\"standoff\":15},\"zerolinecolor\":\"#283442\",\"zerolinewidth\":2},\"yaxis\":{\"automargin\":true,\"gridcolor\":\"#283442\",\"linecolor\":\"#506784\",\"ticks\":\"\",\"title\":{\"standoff\":15},\"zerolinecolor\":\"#283442\",\"zerolinewidth\":2}}},\"showlegend\":false,\"xaxis\":{\"title\":{\"text\":\"Year\"},\"range\":[1982,2000]},\"yaxis\":{\"title\":{\"text\":\"Percentage of given names\"},\"range\":[-0.003,0.11]},\"annotations\":[{\"align\":\"center\",\"arrowwidth\":2,\"ax\":0,\"ay\":-80,\"bgcolor\":\"#ff2d42\",\"borderpad\":5,\"font\":{\"size\":16},\"opacity\":0.8,\"showarrow\":true,\"text\":\"Pulp Fiction\",\"x\":1994,\"xref\":\"x\",\"y\":0.0236610914472194,\"yref\":\"y\"}],\"shapes\":[{\"fillcolor\":\"#FF6F59\",\"line\":{\"width\":0},\"opacity\":0.2,\"type\":\"rect\",\"x0\":1983.5,\"x1\":1993.5,\"xref\":\"x\",\"y0\":0,\"y1\":1,\"yref\":\"y domain\"},{\"fillcolor\":\"#4ECDC4\",\"line\":{\"width\":0},\"opacity\":0.2,\"type\":\"rect\",\"x0\":1993.5,\"x1\":1998.5,\"xref\":\"x\",\"y0\":0,\"y1\":1,\"yref\":\"y domain\"}]},                        {\"responsive\": true}                    ).then(function(){\n",
       "                            \n",
       "var gd = document.getElementById('c3aa884f-0213-4522-854c-f07f778fe7bb');\n",
       "var x = new MutationObserver(function (mutations, observer) {{\n",
       "        var display = window.getComputedStyle(gd).display;\n",
       "        if (!display || display === 'none') {{\n",
       "            console.log([gd, 'removed!']);\n",
       "            Plotly.purge(gd);\n",
       "            observer.disconnect();\n",
       "        }}\n",
       "}});\n",
       "\n",
       "// Listen for the removal of the full notebook cells\n",
       "var notebookContainer = gd.closest('#notebook-container');\n",
       "if (notebookContainer) {{\n",
       "    x.observe(notebookContainer, {childList: true});\n",
       "}}\n",
       "\n",
       "// Listen for the clearing of the current output cell\n",
       "var outputEl = gd.closest('.output');\n",
       "if (outputEl) {{\n",
       "    x.observe(outputEl, {childList: true});\n",
       "}}\n",
       "\n",
       "                        })                };                });            </script>        </div>"
      ]
     },
     "metadata": {},
     "output_type": "display_data"
    }
   ],
   "source": [
    "fig.update_traces(selector=0, mode='lines+markers')\n",
    "fig.update_xaxes(range=[x-12, x+6])\n",
    "fig.update_yaxes(range=[-0.003, 0.11])\n",
    "fig.add_vrect(x0=x-10.5, x1=x-0.5, line_width=0, fillcolor=custom_colorway[1], opacity=0.2)\n",
    "fig.add_vrect(x0=x-0.5, x1=x+4.5, line_width=0, fillcolor=custom_colorway[2], opacity=0.2)\n",
    "\n",
    "fig.add_trace(go.Scatter(x=Mia_data.index, y=fit_before(Mia_data.index), mode='lines', line={'color': custom_colorway[1]}, text=f'β1 = {fit_before[1]}', name='before'))\n",
    "fig.add_trace(go.Scatter(x=Mia_data.index, y=fit_after(Mia_data.index), mode='lines', line={'color': custom_colorway[2]}, text=f'β1 = {fit_after[1]}', name='after'))\n",
    "\n",
    "fig.write_html('influence_regression.html', include_plotlyjs=\"../../js/plotly-2.12.1.min.js\", config={'displayModeBar': False})\n",
    "fig.show()"
   ]
  },
  {
   "cell_type": "code",
   "execution_count": null,
   "metadata": {},
   "outputs": [],
   "source": []
  }
 ],
 "metadata": {
  "kernelspec": {
   "display_name": "ada",
   "language": "python",
   "name": "python3"
  },
  "language_info": {
   "codemirror_mode": {
    "name": "ipython",
    "version": 3
   },
   "file_extension": ".py",
   "mimetype": "text/x-python",
   "name": "python",
   "nbconvert_exporter": "python",
   "pygments_lexer": "ipython3",
   "version": "3.12.0"
  }
 },
 "nbformat": 4,
 "nbformat_minor": 2
}
