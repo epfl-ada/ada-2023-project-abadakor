{
 "cells": [
  {
   "cell_type": "code",
   "execution_count": 1,
   "metadata": {},
   "outputs": [
    {
     "name": "stdout",
     "output_type": "stream",
     "text": [
      "Intel MKL WARNING: Support of Intel(R) Streaming SIMD Extensions 4.2 (Intel(R) SSE4.2) enabled only processors has been deprecated. Intel oneAPI Math Kernel Library 2025.0 will require Intel(R) Advanced Vector Extensions (Intel(R) AVX) instructions.\n",
      "Intel MKL WARNING: Support of Intel(R) Streaming SIMD Extensions 4.2 (Intel(R) SSE4.2) enabled only processors has been deprecated. Intel oneAPI Math Kernel Library 2025.0 will require Intel(R) Advanced Vector Extensions (Intel(R) AVX) instructions.\n"
     ]
    }
   ],
   "source": [
    "import pandas as pd\n",
    "import numpy as np\n",
    "import plotly.graph_objects as go"
   ]
  },
  {
   "cell_type": "code",
   "execution_count": 2,
   "metadata": {},
   "outputs": [
    {
     "data": {
      "text/html": [
       "<div>\n",
       "<style scoped>\n",
       "    .dataframe tbody tr th:only-of-type {\n",
       "        vertical-align: middle;\n",
       "    }\n",
       "\n",
       "    .dataframe tbody tr th {\n",
       "        vertical-align: top;\n",
       "    }\n",
       "\n",
       "    .dataframe thead th {\n",
       "        text-align: right;\n",
       "    }\n",
       "</style>\n",
       "<table border=\"1\" class=\"dataframe\">\n",
       "  <thead>\n",
       "    <tr style=\"text-align: right;\">\n",
       "      <th></th>\n",
       "      <th>wiki_ID</th>\n",
       "      <th>char_words</th>\n",
       "      <th>order</th>\n",
       "      <th>gender</th>\n",
       "    </tr>\n",
       "  </thead>\n",
       "  <tbody>\n",
       "    <tr>\n",
       "      <th>0</th>\n",
       "      <td>3217</td>\n",
       "      <td>Gold</td>\n",
       "      <td>6.0</td>\n",
       "      <td>NaN</td>\n",
       "    </tr>\n",
       "    <tr>\n",
       "      <th>1</th>\n",
       "      <td>3217</td>\n",
       "      <td>Linda</td>\n",
       "      <td>7.0</td>\n",
       "      <td>F</td>\n",
       "    </tr>\n",
       "    <tr>\n",
       "      <th>2</th>\n",
       "      <td>3217</td>\n",
       "      <td>Henry</td>\n",
       "      <td>4.0</td>\n",
       "      <td>M</td>\n",
       "    </tr>\n",
       "    <tr>\n",
       "      <th>3</th>\n",
       "      <td>3217</td>\n",
       "      <td>Duke</td>\n",
       "      <td>4.0</td>\n",
       "      <td>M</td>\n",
       "    </tr>\n",
       "    <tr>\n",
       "      <th>4</th>\n",
       "      <td>3217</td>\n",
       "      <td>Warrior</td>\n",
       "      <td>9.0</td>\n",
       "      <td>M</td>\n",
       "    </tr>\n",
       "    <tr>\n",
       "      <th>...</th>\n",
       "      <td>...</td>\n",
       "      <td>...</td>\n",
       "      <td>...</td>\n",
       "      <td>...</td>\n",
       "    </tr>\n",
       "    <tr>\n",
       "      <th>172901</th>\n",
       "      <td>37478048</td>\n",
       "      <td>Ajay</td>\n",
       "      <td>9.0</td>\n",
       "      <td>M</td>\n",
       "    </tr>\n",
       "    <tr>\n",
       "      <th>172902</th>\n",
       "      <td>37501922</td>\n",
       "      <td>Murphy</td>\n",
       "      <td>3.0</td>\n",
       "      <td>F</td>\n",
       "    </tr>\n",
       "    <tr>\n",
       "      <th>172903</th>\n",
       "      <td>37501922</td>\n",
       "      <td>Hunter</td>\n",
       "      <td>1.0</td>\n",
       "      <td>M</td>\n",
       "    </tr>\n",
       "    <tr>\n",
       "      <th>172904</th>\n",
       "      <td>37501922</td>\n",
       "      <td>John</td>\n",
       "      <td>1.0</td>\n",
       "      <td>M</td>\n",
       "    </tr>\n",
       "    <tr>\n",
       "      <th>172905</th>\n",
       "      <td>37501922</td>\n",
       "      <td>Craig</td>\n",
       "      <td>3.0</td>\n",
       "      <td>F</td>\n",
       "    </tr>\n",
       "  </tbody>\n",
       "</table>\n",
       "<p>172906 rows × 4 columns</p>\n",
       "</div>"
      ],
      "text/plain": [
       "         wiki_ID char_words  order gender\n",
       "0           3217       Gold    6.0    NaN\n",
       "1           3217      Linda    7.0      F\n",
       "2           3217      Henry    4.0      M\n",
       "3           3217       Duke    4.0      M\n",
       "4           3217    Warrior    9.0      M\n",
       "...          ...        ...    ...    ...\n",
       "172901  37478048       Ajay    9.0      M\n",
       "172902  37501922     Murphy    3.0      F\n",
       "172903  37501922     Hunter    1.0      M\n",
       "172904  37501922       John    1.0      M\n",
       "172905  37501922      Craig    3.0      F\n",
       "\n",
       "[172906 rows x 4 columns]"
      ]
     },
     "metadata": {},
     "output_type": "display_data"
    }
   ],
   "source": [
    "char_order_df = pd.read_csv('processed_data/name_by_movie_ordered_df.csv')\n",
    "display(char_order_df)"
   ]
  },
  {
   "cell_type": "markdown",
   "metadata": {},
   "source": [
    "## x. TMDB data graphs\n",
    "We now create a graphs that showcases content for TMDB. Mor precisely, it will be about the order of characters in movies. My aim here is to create 2 graphs in total:\n",
    "- **Graph A:** A simple graph that shows the average order (importance of role) of the top 10 characters names in movies, ordered by the smallest average order (which means the most important characters). This is to see if some character names get more important roles than others.\n",
    "- **Graph B:** An interactive graph that shows the name of the top 10 characters names in movies (number of occurences), with a slider that allows to select a specific order. This is to see if some names are usually the leader in the movie, or if they are more often the sidekick."
   ]
  },
  {
   "cell_type": "markdown",
   "metadata": {},
   "source": [
    "### x.1. Graph A\n",
    "Average order of top 10 characters names in movies"
   ]
  },
  {
   "cell_type": "code",
   "execution_count": 3,
   "metadata": {},
   "outputs": [
    {
     "data": {
      "text/html": [
       "<div>\n",
       "<style scoped>\n",
       "    .dataframe tbody tr th:only-of-type {\n",
       "        vertical-align: middle;\n",
       "    }\n",
       "\n",
       "    .dataframe tbody tr th {\n",
       "        vertical-align: top;\n",
       "    }\n",
       "\n",
       "    .dataframe thead th {\n",
       "        text-align: right;\n",
       "    }\n",
       "</style>\n",
       "<table border=\"1\" class=\"dataframe\">\n",
       "  <thead>\n",
       "    <tr style=\"text-align: right;\">\n",
       "      <th></th>\n",
       "      <th></th>\n",
       "      <th>order</th>\n",
       "      <th>gender</th>\n",
       "    </tr>\n",
       "    <tr>\n",
       "      <th>wiki_ID</th>\n",
       "      <th>char_words</th>\n",
       "      <th></th>\n",
       "      <th></th>\n",
       "    </tr>\n",
       "  </thead>\n",
       "  <tbody>\n",
       "    <tr>\n",
       "      <th>8166078</th>\n",
       "      <th>General</th>\n",
       "      <td>0.0</td>\n",
       "      <td>M</td>\n",
       "    </tr>\n",
       "    <tr>\n",
       "      <th rowspan=\"2\" valign=\"top\">23924255</th>\n",
       "      <th>Carlson</th>\n",
       "      <td>0.0</td>\n",
       "      <td>F</td>\n",
       "    </tr>\n",
       "    <tr>\n",
       "      <th>Elizabeth</th>\n",
       "      <td>0.0</td>\n",
       "      <td>F</td>\n",
       "    </tr>\n",
       "    <tr>\n",
       "      <th>905483</th>\n",
       "      <th>Mark</th>\n",
       "      <td>0.0</td>\n",
       "      <td>M</td>\n",
       "    </tr>\n",
       "    <tr>\n",
       "      <th>13001345</th>\n",
       "      <th>Damini</th>\n",
       "      <td>0.0</td>\n",
       "      <td>F</td>\n",
       "    </tr>\n",
       "    <tr>\n",
       "      <th>...</th>\n",
       "      <th>...</th>\n",
       "      <td>...</td>\n",
       "      <td>...</td>\n",
       "    </tr>\n",
       "    <tr>\n",
       "      <th rowspan=\"2\" valign=\"top\">31306385</th>\n",
       "      <th>Rock</th>\n",
       "      <td>169.0</td>\n",
       "      <td>M</td>\n",
       "    </tr>\n",
       "    <tr>\n",
       "      <th>Fan</th>\n",
       "      <td>169.0</td>\n",
       "      <td>M</td>\n",
       "    </tr>\n",
       "    <tr>\n",
       "      <th rowspan=\"3\" valign=\"top\">300972</th>\n",
       "      <th>Gill</th>\n",
       "      <td>300.0</td>\n",
       "      <td>M</td>\n",
       "    </tr>\n",
       "    <tr>\n",
       "      <th>Captain</th>\n",
       "      <td>302.0</td>\n",
       "      <td>M</td>\n",
       "    </tr>\n",
       "    <tr>\n",
       "      <th>Green</th>\n",
       "      <td>302.0</td>\n",
       "      <td>M</td>\n",
       "    </tr>\n",
       "  </tbody>\n",
       "</table>\n",
       "<p>138380 rows × 2 columns</p>\n",
       "</div>"
      ],
      "text/plain": [
       "                     order gender\n",
       "wiki_ID  char_words              \n",
       "8166078  General       0.0      M\n",
       "23924255 Carlson       0.0      F\n",
       "         Elizabeth     0.0      F\n",
       "905483   Mark          0.0      M\n",
       "13001345 Damini        0.0      F\n",
       "...                    ...    ...\n",
       "31306385 Rock        169.0      M\n",
       "         Fan         169.0      M\n",
       "300972   Gill        300.0      M\n",
       "         Captain     302.0      M\n",
       "         Green       302.0      M\n",
       "\n",
       "[138380 rows x 2 columns]"
      ]
     },
     "metadata": {},
     "output_type": "display_data"
    }
   ],
   "source": [
    "# Drop NaNs in order column\n",
    "char_order_df = char_order_df.dropna(subset=['order'])\n",
    "\n",
    "# Sort by order\n",
    "char_order_df.sort_values('order', inplace=True)\n",
    "\n",
    "# Clean data from random names that don't make sense\n",
    "char_order_df['char_words'] = char_order_df['char_words'].apply(lambda a: a if a not in ['The', 'Man', 'Woman', 'Girl', 'Boy'] else np.nan)\n",
    "\n",
    "# Now set index\n",
    "char_order_df.set_index(['wiki_ID','char_words'], inplace=True)\n",
    "display(char_order_df)"
   ]
  },
  {
   "cell_type": "code",
   "execution_count": 4,
   "metadata": {},
   "outputs": [
    {
     "data": {
      "text/html": [
       "<div>\n",
       "<style scoped>\n",
       "    .dataframe tbody tr th:only-of-type {\n",
       "        vertical-align: middle;\n",
       "    }\n",
       "\n",
       "    .dataframe tbody tr th {\n",
       "        vertical-align: top;\n",
       "    }\n",
       "\n",
       "    .dataframe thead th {\n",
       "        text-align: right;\n",
       "    }\n",
       "</style>\n",
       "<table border=\"1\" class=\"dataframe\">\n",
       "  <thead>\n",
       "    <tr style=\"text-align: right;\">\n",
       "      <th></th>\n",
       "      <th></th>\n",
       "      <th>count</th>\n",
       "      <th>mean</th>\n",
       "    </tr>\n",
       "    <tr>\n",
       "      <th>char_words</th>\n",
       "      <th>gender</th>\n",
       "      <th></th>\n",
       "      <th></th>\n",
       "    </tr>\n",
       "  </thead>\n",
       "  <tbody>\n",
       "    <tr>\n",
       "      <th>John</th>\n",
       "      <th>M</th>\n",
       "      <td>965</td>\n",
       "      <td>4.065285</td>\n",
       "    </tr>\n",
       "    <tr>\n",
       "      <th>Jack</th>\n",
       "      <th>M</th>\n",
       "      <td>643</td>\n",
       "      <td>4.359253</td>\n",
       "    </tr>\n",
       "    <tr>\n",
       "      <th>Frank</th>\n",
       "      <th>M</th>\n",
       "      <td>525</td>\n",
       "      <td>4.579048</td>\n",
       "    </tr>\n",
       "    <tr>\n",
       "      <th>Mary</th>\n",
       "      <th>F</th>\n",
       "      <td>513</td>\n",
       "      <td>5.019493</td>\n",
       "    </tr>\n",
       "    <tr>\n",
       "      <th>Joe</th>\n",
       "      <th>M</th>\n",
       "      <td>476</td>\n",
       "      <td>4.827731</td>\n",
       "    </tr>\n",
       "    <tr>\n",
       "      <th>...</th>\n",
       "      <th>...</th>\n",
       "      <td>...</td>\n",
       "      <td>...</td>\n",
       "    </tr>\n",
       "    <tr>\n",
       "      <th>Karly</th>\n",
       "      <th>F</th>\n",
       "      <td>1</td>\n",
       "      <td>0.000000</td>\n",
       "    </tr>\n",
       "    <tr>\n",
       "      <th>Karma</th>\n",
       "      <th>F</th>\n",
       "      <td>1</td>\n",
       "      <td>11.000000</td>\n",
       "    </tr>\n",
       "    <tr>\n",
       "      <th>Karmin</th>\n",
       "      <th>F</th>\n",
       "      <td>1</td>\n",
       "      <td>20.000000</td>\n",
       "    </tr>\n",
       "    <tr>\n",
       "      <th>Karna</th>\n",
       "      <th>F</th>\n",
       "      <td>1</td>\n",
       "      <td>15.000000</td>\n",
       "    </tr>\n",
       "    <tr>\n",
       "      <th>Zygmunt</th>\n",
       "      <th>M</th>\n",
       "      <td>1</td>\n",
       "      <td>8.000000</td>\n",
       "    </tr>\n",
       "  </tbody>\n",
       "</table>\n",
       "<p>16626 rows × 2 columns</p>\n",
       "</div>"
      ],
      "text/plain": [
       "                   count       mean\n",
       "char_words gender                  \n",
       "John       M         965   4.065285\n",
       "Jack       M         643   4.359253\n",
       "Frank      M         525   4.579048\n",
       "Mary       F         513   5.019493\n",
       "Joe        M         476   4.827731\n",
       "...                  ...        ...\n",
       "Karly      F           1   0.000000\n",
       "Karma      F           1  11.000000\n",
       "Karmin     F           1  20.000000\n",
       "Karna      F           1  15.000000\n",
       "Zygmunt    M           1   8.000000\n",
       "\n",
       "[16626 rows x 2 columns]"
      ]
     },
     "metadata": {},
     "output_type": "display_data"
    }
   ],
   "source": [
    "# Group and count\n",
    "groupped_names_df = char_order_df.groupby(['char_words', 'gender'])['order'].agg(['count', 'mean'])\n",
    "display(groupped_names_df.sort_values(by=('count'), ascending=False))"
   ]
  },
  {
   "cell_type": "markdown",
   "metadata": {},
   "source": [
    "The issue is that now if we do the averages, that means if a name appeared in one movie and was the first character, then for any other famous names that appeared in many movies, it would be harder to get a better average. So we decided to take only the top 100 most used names in movies and work on that."
   ]
  },
  {
   "cell_type": "code",
   "execution_count": 5,
   "metadata": {},
   "outputs": [
    {
     "data": {
      "text/html": [
       "<div>\n",
       "<style scoped>\n",
       "    .dataframe tbody tr th:only-of-type {\n",
       "        vertical-align: middle;\n",
       "    }\n",
       "\n",
       "    .dataframe tbody tr th {\n",
       "        vertical-align: top;\n",
       "    }\n",
       "\n",
       "    .dataframe thead th {\n",
       "        text-align: right;\n",
       "    }\n",
       "</style>\n",
       "<table border=\"1\" class=\"dataframe\">\n",
       "  <thead>\n",
       "    <tr style=\"text-align: right;\">\n",
       "      <th></th>\n",
       "      <th>gender</th>\n",
       "      <th>mean</th>\n",
       "      <th>ranking</th>\n",
       "      <th>adjusted_mean</th>\n",
       "    </tr>\n",
       "    <tr>\n",
       "      <th>char_words</th>\n",
       "      <th></th>\n",
       "      <th></th>\n",
       "      <th></th>\n",
       "      <th></th>\n",
       "    </tr>\n",
       "  </thead>\n",
       "  <tbody>\n",
       "    <tr>\n",
       "      <th>Kate</th>\n",
       "      <td>F</td>\n",
       "      <td>3.245283</td>\n",
       "      <td>1</td>\n",
       "      <td>0.308140</td>\n",
       "    </tr>\n",
       "    <tr>\n",
       "      <th>Elizabeth</th>\n",
       "      <td>F</td>\n",
       "      <td>3.367150</td>\n",
       "      <td>2</td>\n",
       "      <td>0.296987</td>\n",
       "    </tr>\n",
       "    <tr>\n",
       "      <th>Adam</th>\n",
       "      <td>M</td>\n",
       "      <td>3.837500</td>\n",
       "      <td>3</td>\n",
       "      <td>0.260586</td>\n",
       "    </tr>\n",
       "    <tr>\n",
       "      <th>Anna</th>\n",
       "      <td>F</td>\n",
       "      <td>3.911197</td>\n",
       "      <td>4</td>\n",
       "      <td>0.255676</td>\n",
       "    </tr>\n",
       "    <tr>\n",
       "      <th>Claire</th>\n",
       "      <td>F</td>\n",
       "      <td>3.955056</td>\n",
       "      <td>5</td>\n",
       "      <td>0.252841</td>\n",
       "    </tr>\n",
       "    <tr>\n",
       "      <th>Anne</th>\n",
       "      <td>F</td>\n",
       "      <td>3.962500</td>\n",
       "      <td>6</td>\n",
       "      <td>0.252366</td>\n",
       "    </tr>\n",
       "    <tr>\n",
       "      <th>Ben</th>\n",
       "      <td>M</td>\n",
       "      <td>4.019417</td>\n",
       "      <td>7</td>\n",
       "      <td>0.248792</td>\n",
       "    </tr>\n",
       "    <tr>\n",
       "      <th>William</th>\n",
       "      <td>M</td>\n",
       "      <td>4.023529</td>\n",
       "      <td>8</td>\n",
       "      <td>0.248538</td>\n",
       "    </tr>\n",
       "    <tr>\n",
       "      <th>Julie</th>\n",
       "      <td>F</td>\n",
       "      <td>4.053140</td>\n",
       "      <td>9</td>\n",
       "      <td>0.246722</td>\n",
       "    </tr>\n",
       "    <tr>\n",
       "      <th>Harry</th>\n",
       "      <td>M</td>\n",
       "      <td>4.059459</td>\n",
       "      <td>10</td>\n",
       "      <td>0.246338</td>\n",
       "    </tr>\n",
       "  </tbody>\n",
       "</table>\n",
       "</div>"
      ],
      "text/plain": [
       "           gender      mean  ranking  adjusted_mean\n",
       "char_words                                         \n",
       "Kate            F  3.245283        1       0.308140\n",
       "Elizabeth       F  3.367150        2       0.296987\n",
       "Adam            M  3.837500        3       0.260586\n",
       "Anna            F  3.911197        4       0.255676\n",
       "Claire          F  3.955056        5       0.252841\n",
       "Anne            F  3.962500        6       0.252366\n",
       "Ben             M  4.019417        7       0.248792\n",
       "William         M  4.023529        8       0.248538\n",
       "Julie           F  4.053140        9       0.246722\n",
       "Harry           M  4.059459       10       0.246338"
      ]
     },
     "metadata": {},
     "output_type": "display_data"
    },
    {
     "data": {
      "text/html": [
       "<div>\n",
       "<style scoped>\n",
       "    .dataframe tbody tr th:only-of-type {\n",
       "        vertical-align: middle;\n",
       "    }\n",
       "\n",
       "    .dataframe tbody tr th {\n",
       "        vertical-align: top;\n",
       "    }\n",
       "\n",
       "    .dataframe thead th {\n",
       "        text-align: right;\n",
       "    }\n",
       "</style>\n",
       "<table border=\"1\" class=\"dataframe\">\n",
       "  <thead>\n",
       "    <tr style=\"text-align: right;\">\n",
       "      <th></th>\n",
       "      <th>gender</th>\n",
       "      <th>mean</th>\n",
       "      <th>ranking</th>\n",
       "      <th>adjusted_mean</th>\n",
       "    </tr>\n",
       "    <tr>\n",
       "      <th>char_words</th>\n",
       "      <th></th>\n",
       "      <th></th>\n",
       "      <th></th>\n",
       "      <th></th>\n",
       "    </tr>\n",
       "  </thead>\n",
       "  <tbody>\n",
       "    <tr>\n",
       "      <th>Adam</th>\n",
       "      <td>M</td>\n",
       "      <td>3.837500</td>\n",
       "      <td>1</td>\n",
       "      <td>0.260586</td>\n",
       "    </tr>\n",
       "    <tr>\n",
       "      <th>Ben</th>\n",
       "      <td>M</td>\n",
       "      <td>4.019417</td>\n",
       "      <td>2</td>\n",
       "      <td>0.248792</td>\n",
       "    </tr>\n",
       "    <tr>\n",
       "      <th>William</th>\n",
       "      <td>M</td>\n",
       "      <td>4.023529</td>\n",
       "      <td>3</td>\n",
       "      <td>0.248538</td>\n",
       "    </tr>\n",
       "    <tr>\n",
       "      <th>Harry</th>\n",
       "      <td>M</td>\n",
       "      <td>4.059459</td>\n",
       "      <td>4</td>\n",
       "      <td>0.246338</td>\n",
       "    </tr>\n",
       "    <tr>\n",
       "      <th>John</th>\n",
       "      <td>M</td>\n",
       "      <td>4.065285</td>\n",
       "      <td>5</td>\n",
       "      <td>0.245985</td>\n",
       "    </tr>\n",
       "    <tr>\n",
       "      <th>Daniel</th>\n",
       "      <td>M</td>\n",
       "      <td>4.182353</td>\n",
       "      <td>6</td>\n",
       "      <td>0.239100</td>\n",
       "    </tr>\n",
       "    <tr>\n",
       "      <th>Michael</th>\n",
       "      <td>M</td>\n",
       "      <td>4.210256</td>\n",
       "      <td>7</td>\n",
       "      <td>0.237515</td>\n",
       "    </tr>\n",
       "    <tr>\n",
       "      <th>Smith</th>\n",
       "      <td>M</td>\n",
       "      <td>4.236994</td>\n",
       "      <td>8</td>\n",
       "      <td>0.236016</td>\n",
       "    </tr>\n",
       "    <tr>\n",
       "      <th>Max</th>\n",
       "      <td>M</td>\n",
       "      <td>4.302222</td>\n",
       "      <td>9</td>\n",
       "      <td>0.232438</td>\n",
       "    </tr>\n",
       "    <tr>\n",
       "      <th>Jack</th>\n",
       "      <td>M</td>\n",
       "      <td>4.359253</td>\n",
       "      <td>10</td>\n",
       "      <td>0.229397</td>\n",
       "    </tr>\n",
       "  </tbody>\n",
       "</table>\n",
       "</div>"
      ],
      "text/plain": [
       "           gender      mean  ranking  adjusted_mean\n",
       "char_words                                         \n",
       "Adam            M  3.837500        1       0.260586\n",
       "Ben             M  4.019417        2       0.248792\n",
       "William         M  4.023529        3       0.248538\n",
       "Harry           M  4.059459        4       0.246338\n",
       "John            M  4.065285        5       0.245985\n",
       "Daniel          M  4.182353        6       0.239100\n",
       "Michael         M  4.210256        7       0.237515\n",
       "Smith           M  4.236994        8       0.236016\n",
       "Max             M  4.302222        9       0.232438\n",
       "Jack            M  4.359253       10       0.229397"
      ]
     },
     "metadata": {},
     "output_type": "display_data"
    },
    {
     "data": {
      "text/html": [
       "<div>\n",
       "<style scoped>\n",
       "    .dataframe tbody tr th:only-of-type {\n",
       "        vertical-align: middle;\n",
       "    }\n",
       "\n",
       "    .dataframe tbody tr th {\n",
       "        vertical-align: top;\n",
       "    }\n",
       "\n",
       "    .dataframe thead th {\n",
       "        text-align: right;\n",
       "    }\n",
       "</style>\n",
       "<table border=\"1\" class=\"dataframe\">\n",
       "  <thead>\n",
       "    <tr style=\"text-align: right;\">\n",
       "      <th></th>\n",
       "      <th>gender</th>\n",
       "      <th>mean</th>\n",
       "      <th>ranking</th>\n",
       "      <th>adjusted_mean</th>\n",
       "    </tr>\n",
       "    <tr>\n",
       "      <th>char_words</th>\n",
       "      <th></th>\n",
       "      <th></th>\n",
       "      <th></th>\n",
       "      <th></th>\n",
       "    </tr>\n",
       "  </thead>\n",
       "  <tbody>\n",
       "    <tr>\n",
       "      <th>Kate</th>\n",
       "      <td>F</td>\n",
       "      <td>3.245283</td>\n",
       "      <td>1</td>\n",
       "      <td>0.308140</td>\n",
       "    </tr>\n",
       "    <tr>\n",
       "      <th>Elizabeth</th>\n",
       "      <td>F</td>\n",
       "      <td>3.367150</td>\n",
       "      <td>2</td>\n",
       "      <td>0.296987</td>\n",
       "    </tr>\n",
       "    <tr>\n",
       "      <th>Anna</th>\n",
       "      <td>F</td>\n",
       "      <td>3.911197</td>\n",
       "      <td>3</td>\n",
       "      <td>0.255676</td>\n",
       "    </tr>\n",
       "    <tr>\n",
       "      <th>Claire</th>\n",
       "      <td>F</td>\n",
       "      <td>3.955056</td>\n",
       "      <td>4</td>\n",
       "      <td>0.252841</td>\n",
       "    </tr>\n",
       "    <tr>\n",
       "      <th>Anne</th>\n",
       "      <td>F</td>\n",
       "      <td>3.962500</td>\n",
       "      <td>5</td>\n",
       "      <td>0.252366</td>\n",
       "    </tr>\n",
       "    <tr>\n",
       "      <th>Julie</th>\n",
       "      <td>F</td>\n",
       "      <td>4.053140</td>\n",
       "      <td>6</td>\n",
       "      <td>0.246722</td>\n",
       "    </tr>\n",
       "    <tr>\n",
       "      <th>Annie</th>\n",
       "      <td>F</td>\n",
       "      <td>4.136646</td>\n",
       "      <td>7</td>\n",
       "      <td>0.241742</td>\n",
       "    </tr>\n",
       "    <tr>\n",
       "      <th>Jane</th>\n",
       "      <td>F</td>\n",
       "      <td>4.269231</td>\n",
       "      <td>8</td>\n",
       "      <td>0.234234</td>\n",
       "    </tr>\n",
       "    <tr>\n",
       "      <th>Marie</th>\n",
       "      <td>F</td>\n",
       "      <td>4.424242</td>\n",
       "      <td>9</td>\n",
       "      <td>0.226027</td>\n",
       "    </tr>\n",
       "    <tr>\n",
       "      <th>Alice</th>\n",
       "      <td>F</td>\n",
       "      <td>4.466387</td>\n",
       "      <td>10</td>\n",
       "      <td>0.223895</td>\n",
       "    </tr>\n",
       "  </tbody>\n",
       "</table>\n",
       "</div>"
      ],
      "text/plain": [
       "           gender      mean  ranking  adjusted_mean\n",
       "char_words                                         \n",
       "Kate            F  3.245283        1       0.308140\n",
       "Elizabeth       F  3.367150        2       0.296987\n",
       "Anna            F  3.911197        3       0.255676\n",
       "Claire          F  3.955056        4       0.252841\n",
       "Anne            F  3.962500        5       0.252366\n",
       "Julie           F  4.053140        6       0.246722\n",
       "Annie           F  4.136646        7       0.241742\n",
       "Jane            F  4.269231        8       0.234234\n",
       "Marie           F  4.424242        9       0.226027\n",
       "Alice           F  4.466387       10       0.223895"
      ]
     },
     "metadata": {},
     "output_type": "display_data"
    }
   ],
   "source": [
    "def adjust_means(df):\n",
    "    best_mean = df['mean'].min()\n",
    "    df['adjusted_mean'] = 1 / df['mean']\n",
    "    return df\n",
    "\n",
    "# Sort by count and take top 100\n",
    "top_100_char_names_df = groupped_names_df.sort_values(by=('count'), ascending=False).head(100).copy(deep=True)\n",
    "\n",
    "# Take top 10 for both genders and mix\n",
    "top_100_char_names_df.reset_index(inplace=True)\n",
    "top_10_mix = top_100_char_names_df.sort_values(by='mean', ascending=True).head(10).set_index('char_words')\n",
    "top_10_male = top_100_char_names_df[top_100_char_names_df['gender'] == 'M'].sort_values(by='mean', ascending=True).head(10).set_index('char_words')\n",
    "top_10_female = top_100_char_names_df[top_100_char_names_df['gender'] == 'F'].sort_values(by='mean', ascending=True).head(10).set_index('char_words')\n",
    "\n",
    "# Drop count column from all\n",
    "top_10_mix.drop('count', axis=1, inplace=True)\n",
    "top_10_male.drop('count', axis=1, inplace=True)\n",
    "top_10_female.drop('count', axis=1, inplace=True)\n",
    "\n",
    "# Set values for ranking\n",
    "top_10_mix['ranking'] = range(1,11)\n",
    "top_10_male['ranking'] = range(1,11)\n",
    "top_10_female['ranking'] = range(1,11)\n",
    "\n",
    "# Adjust means by inverting\n",
    "top_10_male = adjust_means(top_10_male)\n",
    "top_10_female = adjust_means(top_10_female)\n",
    "top_10_mix = adjust_means(top_10_mix)\n",
    "\n",
    "# Sort by lowest mean, take top 10\n",
    "display(top_10_mix)\n",
    "display(top_10_male)\n",
    "display(top_10_female)\n"
   ]
  },
  {
   "cell_type": "code",
   "execution_count": 6,
   "metadata": {},
   "outputs": [
    {
     "data": {
      "application/vnd.plotly.v1+json": {
       "config": {
        "plotlyServerURL": "https://plot.ly"
       },
       "data": [
        {
         "marker": {
          "color": [
           "pink",
           "pink",
           "blue",
           "pink",
           "pink",
           "pink",
           "blue",
           "blue",
           "pink",
           "blue"
          ]
         },
         "name": "Combined",
         "orientation": "h",
         "text": [
          "Kate",
          "Elizabeth",
          "Adam",
          "Anna",
          "Claire",
          "Anne",
          "Ben",
          "William",
          "Julie",
          "Harry"
         ],
         "type": "bar",
         "visible": true,
         "x": [
          3.2452830188679247,
          3.367149758454106,
          3.8375,
          3.911196911196911,
          3.955056179775281,
          3.9625,
          4.019417475728155,
          4.023529411764706,
          4.053140096618358,
          4.059459459459459
         ],
         "y": [
          1,
          2,
          3,
          4,
          5,
          6,
          7,
          8,
          9,
          10
         ]
        },
        {
         "marker": {
          "color": "blue"
         },
         "name": "Male",
         "orientation": "h",
         "text": [
          "Adam",
          "Ben",
          "William",
          "Harry",
          "John",
          "Daniel",
          "Michael",
          "Smith",
          "Max",
          "Jack"
         ],
         "type": "bar",
         "visible": false,
         "x": [
          3.8375,
          4.019417475728155,
          4.023529411764706,
          4.059459459459459,
          4.065284974093264,
          4.182352941176471,
          4.21025641025641,
          4.236994219653179,
          4.302222222222222,
          4.359253499222395
         ],
         "y": [
          1,
          2,
          3,
          4,
          5,
          6,
          7,
          8,
          9,
          10
         ]
        },
        {
         "marker": {
          "color": "pink"
         },
         "name": "Female",
         "orientation": "h",
         "text": [
          "Kate",
          "Elizabeth",
          "Anna",
          "Claire",
          "Anne",
          "Julie",
          "Annie",
          "Jane",
          "Marie",
          "Alice"
         ],
         "type": "bar",
         "visible": false,
         "x": [
          3.2452830188679247,
          3.367149758454106,
          3.911196911196911,
          3.955056179775281,
          3.9625,
          4.053140096618358,
          4.136645962732919,
          4.269230769230769,
          4.424242424242424,
          4.466386554621849
         ],
         "y": [
          1,
          2,
          3,
          4,
          5,
          6,
          7,
          8,
          9,
          10
         ]
        }
       ],
       "layout": {
        "template": {
         "data": {
          "bar": [
           {
            "error_x": {
             "color": "#2a3f5f"
            },
            "error_y": {
             "color": "#2a3f5f"
            },
            "marker": {
             "line": {
              "color": "#E5ECF6",
              "width": 0.5
             },
             "pattern": {
              "fillmode": "overlay",
              "size": 10,
              "solidity": 0.2
             }
            },
            "type": "bar"
           }
          ],
          "barpolar": [
           {
            "marker": {
             "line": {
              "color": "#E5ECF6",
              "width": 0.5
             },
             "pattern": {
              "fillmode": "overlay",
              "size": 10,
              "solidity": 0.2
             }
            },
            "type": "barpolar"
           }
          ],
          "carpet": [
           {
            "aaxis": {
             "endlinecolor": "#2a3f5f",
             "gridcolor": "white",
             "linecolor": "white",
             "minorgridcolor": "white",
             "startlinecolor": "#2a3f5f"
            },
            "baxis": {
             "endlinecolor": "#2a3f5f",
             "gridcolor": "white",
             "linecolor": "white",
             "minorgridcolor": "white",
             "startlinecolor": "#2a3f5f"
            },
            "type": "carpet"
           }
          ],
          "choropleth": [
           {
            "colorbar": {
             "outlinewidth": 0,
             "ticks": ""
            },
            "type": "choropleth"
           }
          ],
          "contour": [
           {
            "colorbar": {
             "outlinewidth": 0,
             "ticks": ""
            },
            "colorscale": [
             [
              0,
              "#0d0887"
             ],
             [
              0.1111111111111111,
              "#46039f"
             ],
             [
              0.2222222222222222,
              "#7201a8"
             ],
             [
              0.3333333333333333,
              "#9c179e"
             ],
             [
              0.4444444444444444,
              "#bd3786"
             ],
             [
              0.5555555555555556,
              "#d8576b"
             ],
             [
              0.6666666666666666,
              "#ed7953"
             ],
             [
              0.7777777777777778,
              "#fb9f3a"
             ],
             [
              0.8888888888888888,
              "#fdca26"
             ],
             [
              1,
              "#f0f921"
             ]
            ],
            "type": "contour"
           }
          ],
          "contourcarpet": [
           {
            "colorbar": {
             "outlinewidth": 0,
             "ticks": ""
            },
            "type": "contourcarpet"
           }
          ],
          "heatmap": [
           {
            "colorbar": {
             "outlinewidth": 0,
             "ticks": ""
            },
            "colorscale": [
             [
              0,
              "#0d0887"
             ],
             [
              0.1111111111111111,
              "#46039f"
             ],
             [
              0.2222222222222222,
              "#7201a8"
             ],
             [
              0.3333333333333333,
              "#9c179e"
             ],
             [
              0.4444444444444444,
              "#bd3786"
             ],
             [
              0.5555555555555556,
              "#d8576b"
             ],
             [
              0.6666666666666666,
              "#ed7953"
             ],
             [
              0.7777777777777778,
              "#fb9f3a"
             ],
             [
              0.8888888888888888,
              "#fdca26"
             ],
             [
              1,
              "#f0f921"
             ]
            ],
            "type": "heatmap"
           }
          ],
          "heatmapgl": [
           {
            "colorbar": {
             "outlinewidth": 0,
             "ticks": ""
            },
            "colorscale": [
             [
              0,
              "#0d0887"
             ],
             [
              0.1111111111111111,
              "#46039f"
             ],
             [
              0.2222222222222222,
              "#7201a8"
             ],
             [
              0.3333333333333333,
              "#9c179e"
             ],
             [
              0.4444444444444444,
              "#bd3786"
             ],
             [
              0.5555555555555556,
              "#d8576b"
             ],
             [
              0.6666666666666666,
              "#ed7953"
             ],
             [
              0.7777777777777778,
              "#fb9f3a"
             ],
             [
              0.8888888888888888,
              "#fdca26"
             ],
             [
              1,
              "#f0f921"
             ]
            ],
            "type": "heatmapgl"
           }
          ],
          "histogram": [
           {
            "marker": {
             "pattern": {
              "fillmode": "overlay",
              "size": 10,
              "solidity": 0.2
             }
            },
            "type": "histogram"
           }
          ],
          "histogram2d": [
           {
            "colorbar": {
             "outlinewidth": 0,
             "ticks": ""
            },
            "colorscale": [
             [
              0,
              "#0d0887"
             ],
             [
              0.1111111111111111,
              "#46039f"
             ],
             [
              0.2222222222222222,
              "#7201a8"
             ],
             [
              0.3333333333333333,
              "#9c179e"
             ],
             [
              0.4444444444444444,
              "#bd3786"
             ],
             [
              0.5555555555555556,
              "#d8576b"
             ],
             [
              0.6666666666666666,
              "#ed7953"
             ],
             [
              0.7777777777777778,
              "#fb9f3a"
             ],
             [
              0.8888888888888888,
              "#fdca26"
             ],
             [
              1,
              "#f0f921"
             ]
            ],
            "type": "histogram2d"
           }
          ],
          "histogram2dcontour": [
           {
            "colorbar": {
             "outlinewidth": 0,
             "ticks": ""
            },
            "colorscale": [
             [
              0,
              "#0d0887"
             ],
             [
              0.1111111111111111,
              "#46039f"
             ],
             [
              0.2222222222222222,
              "#7201a8"
             ],
             [
              0.3333333333333333,
              "#9c179e"
             ],
             [
              0.4444444444444444,
              "#bd3786"
             ],
             [
              0.5555555555555556,
              "#d8576b"
             ],
             [
              0.6666666666666666,
              "#ed7953"
             ],
             [
              0.7777777777777778,
              "#fb9f3a"
             ],
             [
              0.8888888888888888,
              "#fdca26"
             ],
             [
              1,
              "#f0f921"
             ]
            ],
            "type": "histogram2dcontour"
           }
          ],
          "mesh3d": [
           {
            "colorbar": {
             "outlinewidth": 0,
             "ticks": ""
            },
            "type": "mesh3d"
           }
          ],
          "parcoords": [
           {
            "line": {
             "colorbar": {
              "outlinewidth": 0,
              "ticks": ""
             }
            },
            "type": "parcoords"
           }
          ],
          "pie": [
           {
            "automargin": true,
            "type": "pie"
           }
          ],
          "scatter": [
           {
            "fillpattern": {
             "fillmode": "overlay",
             "size": 10,
             "solidity": 0.2
            },
            "type": "scatter"
           }
          ],
          "scatter3d": [
           {
            "line": {
             "colorbar": {
              "outlinewidth": 0,
              "ticks": ""
             }
            },
            "marker": {
             "colorbar": {
              "outlinewidth": 0,
              "ticks": ""
             }
            },
            "type": "scatter3d"
           }
          ],
          "scattercarpet": [
           {
            "marker": {
             "colorbar": {
              "outlinewidth": 0,
              "ticks": ""
             }
            },
            "type": "scattercarpet"
           }
          ],
          "scattergeo": [
           {
            "marker": {
             "colorbar": {
              "outlinewidth": 0,
              "ticks": ""
             }
            },
            "type": "scattergeo"
           }
          ],
          "scattergl": [
           {
            "marker": {
             "colorbar": {
              "outlinewidth": 0,
              "ticks": ""
             }
            },
            "type": "scattergl"
           }
          ],
          "scattermapbox": [
           {
            "marker": {
             "colorbar": {
              "outlinewidth": 0,
              "ticks": ""
             }
            },
            "type": "scattermapbox"
           }
          ],
          "scatterpolar": [
           {
            "marker": {
             "colorbar": {
              "outlinewidth": 0,
              "ticks": ""
             }
            },
            "type": "scatterpolar"
           }
          ],
          "scatterpolargl": [
           {
            "marker": {
             "colorbar": {
              "outlinewidth": 0,
              "ticks": ""
             }
            },
            "type": "scatterpolargl"
           }
          ],
          "scatterternary": [
           {
            "marker": {
             "colorbar": {
              "outlinewidth": 0,
              "ticks": ""
             }
            },
            "type": "scatterternary"
           }
          ],
          "surface": [
           {
            "colorbar": {
             "outlinewidth": 0,
             "ticks": ""
            },
            "colorscale": [
             [
              0,
              "#0d0887"
             ],
             [
              0.1111111111111111,
              "#46039f"
             ],
             [
              0.2222222222222222,
              "#7201a8"
             ],
             [
              0.3333333333333333,
              "#9c179e"
             ],
             [
              0.4444444444444444,
              "#bd3786"
             ],
             [
              0.5555555555555556,
              "#d8576b"
             ],
             [
              0.6666666666666666,
              "#ed7953"
             ],
             [
              0.7777777777777778,
              "#fb9f3a"
             ],
             [
              0.8888888888888888,
              "#fdca26"
             ],
             [
              1,
              "#f0f921"
             ]
            ],
            "type": "surface"
           }
          ],
          "table": [
           {
            "cells": {
             "fill": {
              "color": "#EBF0F8"
             },
             "line": {
              "color": "white"
             }
            },
            "header": {
             "fill": {
              "color": "#C8D4E3"
             },
             "line": {
              "color": "white"
             }
            },
            "type": "table"
           }
          ]
         },
         "layout": {
          "annotationdefaults": {
           "arrowcolor": "#2a3f5f",
           "arrowhead": 0,
           "arrowwidth": 1
          },
          "autotypenumbers": "strict",
          "coloraxis": {
           "colorbar": {
            "outlinewidth": 0,
            "ticks": ""
           }
          },
          "colorscale": {
           "diverging": [
            [
             0,
             "#8e0152"
            ],
            [
             0.1,
             "#c51b7d"
            ],
            [
             0.2,
             "#de77ae"
            ],
            [
             0.3,
             "#f1b6da"
            ],
            [
             0.4,
             "#fde0ef"
            ],
            [
             0.5,
             "#f7f7f7"
            ],
            [
             0.6,
             "#e6f5d0"
            ],
            [
             0.7,
             "#b8e186"
            ],
            [
             0.8,
             "#7fbc41"
            ],
            [
             0.9,
             "#4d9221"
            ],
            [
             1,
             "#276419"
            ]
           ],
           "sequential": [
            [
             0,
             "#0d0887"
            ],
            [
             0.1111111111111111,
             "#46039f"
            ],
            [
             0.2222222222222222,
             "#7201a8"
            ],
            [
             0.3333333333333333,
             "#9c179e"
            ],
            [
             0.4444444444444444,
             "#bd3786"
            ],
            [
             0.5555555555555556,
             "#d8576b"
            ],
            [
             0.6666666666666666,
             "#ed7953"
            ],
            [
             0.7777777777777778,
             "#fb9f3a"
            ],
            [
             0.8888888888888888,
             "#fdca26"
            ],
            [
             1,
             "#f0f921"
            ]
           ],
           "sequentialminus": [
            [
             0,
             "#0d0887"
            ],
            [
             0.1111111111111111,
             "#46039f"
            ],
            [
             0.2222222222222222,
             "#7201a8"
            ],
            [
             0.3333333333333333,
             "#9c179e"
            ],
            [
             0.4444444444444444,
             "#bd3786"
            ],
            [
             0.5555555555555556,
             "#d8576b"
            ],
            [
             0.6666666666666666,
             "#ed7953"
            ],
            [
             0.7777777777777778,
             "#fb9f3a"
            ],
            [
             0.8888888888888888,
             "#fdca26"
            ],
            [
             1,
             "#f0f921"
            ]
           ]
          },
          "colorway": [
           "#636efa",
           "#EF553B",
           "#00cc96",
           "#ab63fa",
           "#FFA15A",
           "#19d3f3",
           "#FF6692",
           "#B6E880",
           "#FF97FF",
           "#FECB52"
          ],
          "font": {
           "color": "#2a3f5f"
          },
          "geo": {
           "bgcolor": "white",
           "lakecolor": "white",
           "landcolor": "#E5ECF6",
           "showlakes": true,
           "showland": true,
           "subunitcolor": "white"
          },
          "hoverlabel": {
           "align": "left"
          },
          "hovermode": "closest",
          "mapbox": {
           "style": "light"
          },
          "paper_bgcolor": "white",
          "plot_bgcolor": "#E5ECF6",
          "polar": {
           "angularaxis": {
            "gridcolor": "white",
            "linecolor": "white",
            "ticks": ""
           },
           "bgcolor": "#E5ECF6",
           "radialaxis": {
            "gridcolor": "white",
            "linecolor": "white",
            "ticks": ""
           }
          },
          "scene": {
           "xaxis": {
            "backgroundcolor": "#E5ECF6",
            "gridcolor": "white",
            "gridwidth": 2,
            "linecolor": "white",
            "showbackground": true,
            "ticks": "",
            "zerolinecolor": "white"
           },
           "yaxis": {
            "backgroundcolor": "#E5ECF6",
            "gridcolor": "white",
            "gridwidth": 2,
            "linecolor": "white",
            "showbackground": true,
            "ticks": "",
            "zerolinecolor": "white"
           },
           "zaxis": {
            "backgroundcolor": "#E5ECF6",
            "gridcolor": "white",
            "gridwidth": 2,
            "linecolor": "white",
            "showbackground": true,
            "ticks": "",
            "zerolinecolor": "white"
           }
          },
          "shapedefaults": {
           "line": {
            "color": "#2a3f5f"
           }
          },
          "ternary": {
           "aaxis": {
            "gridcolor": "white",
            "linecolor": "white",
            "ticks": ""
           },
           "baxis": {
            "gridcolor": "white",
            "linecolor": "white",
            "ticks": ""
           },
           "bgcolor": "#E5ECF6",
           "caxis": {
            "gridcolor": "white",
            "linecolor": "white",
            "ticks": ""
           }
          },
          "title": {
           "x": 0.05
          },
          "xaxis": {
           "automargin": true,
           "gridcolor": "white",
           "linecolor": "white",
           "ticks": "",
           "title": {
            "standoff": 15
           },
           "zerolinecolor": "white",
           "zerolinewidth": 2
          },
          "yaxis": {
           "automargin": true,
           "gridcolor": "white",
           "linecolor": "white",
           "ticks": "",
           "title": {
            "standoff": 15
           },
           "zerolinecolor": "white",
           "zerolinewidth": 2
          }
         }
        },
        "title": {
         "text": "Leading Roles: Top Characters by Average Importance"
        },
        "updatemenus": [
         {
          "active": 0,
          "buttons": [
           {
            "args": [
             {
              "visible": [
               true,
               false,
               false
              ]
             },
             {
              "title": "Top Characters by Average Importance (All)"
             }
            ],
            "label": "All",
            "method": "update"
           },
           {
            "args": [
             {
              "visible": [
               false,
               true,
               false
              ]
             },
             {
              "title": "Top Characters by Average Importance (M)"
             }
            ],
            "label": "Male",
            "method": "update"
           },
           {
            "args": [
             {
              "visible": [
               false,
               false,
               true
              ]
             },
             {
              "title": "Top Characters by Average Importance (F)"
             }
            ],
            "label": "Female",
            "method": "update"
           }
          ],
          "direction": "right",
          "type": "buttons",
          "x": 0.57,
          "y": 1.2
         }
        ],
        "xaxis": {
         "range": [
          3.0830188679245283,
          4.5110504201680675
         ],
         "title": {
          "text": "Mean Order"
         }
        },
        "yaxis": {
         "autorange": "reversed",
         "title": {
          "text": "Rank"
         },
         "type": "category"
        }
       }
      }
     },
     "metadata": {},
     "output_type": "display_data"
    }
   ],
   "source": [
    "# Adjusting traces for horizontal orientation\n",
    "trace_male = go.Bar(y=top_10_male['ranking'], x=top_10_male['mean'], name='Male', orientation='h', marker_color='blue', text=top_10_male.index)\n",
    "trace_female = go.Bar(y=top_10_female['ranking'], x=top_10_female['mean'], name='Female', orientation='h', marker_color='pink', text=top_10_female.index)\n",
    "trace_combined = go.Bar(y=top_10_mix['ranking'], x=top_10_mix['mean'], name='Combined', orientation='h', marker_color=['pink' if gender == 'F' else 'blue' for gender in top_10_mix['gender']], text=top_10_mix.index)\n",
    "\n",
    "# Creating the figure with all traces\n",
    "fig = go.Figure(data=[trace_combined, trace_male, trace_female])\n",
    "\n",
    "# Set the initial visibility to show both\n",
    "fig.data[0].visible = True\n",
    "fig.data[1].visible = False\n",
    "fig.data[2].visible = False\n",
    "\n",
    "title = \"Top Characters by Average Importance\"\n",
    "\n",
    "# Find the minimum mean value to set as the starting point for the x-axis\n",
    "min_mean = min(top_10_male['mean'].min(), top_10_female['mean'].min(), top_10_mix['mean'].min())\n",
    "\n",
    "# Find the maximum mean value to set as the ending point for the x-axis\n",
    "max_mean = max(top_10_male['mean'].max(), top_10_female['mean'].max(), top_10_mix['mean'].max())\n",
    "\n",
    "# Updating layout for interactive buttons and axis ranges\n",
    "fig.update_layout(\n",
    "    updatemenus=[\n",
    "        dict(\n",
    "            type=\"buttons\",\n",
    "            direction=\"right\",\n",
    "            active=0,  # Sets the 'All' button as active initially\n",
    "            x=0.57,\n",
    "            y=1.2,\n",
    "            buttons=list([\n",
    "                dict(label=\"All\",\n",
    "                     method=\"update\",\n",
    "                     args=[{\"visible\": [True, False, False]},\n",
    "                           {\"title\": f'{title} (All)'}]),\n",
    "                dict(label=\"Male\",\n",
    "                     method=\"update\",\n",
    "                     args=[{\"visible\": [False, True, False]},\n",
    "                           {\"title\": f'{title} (M)'}]),\n",
    "                dict(label=\"Female\",\n",
    "                     method=\"update\",\n",
    "                     args=[{\"visible\": [False, False, True]},\n",
    "                           {\"title\": f'{title} (F)'}]),\n",
    "            ]),\n",
    "        )\n",
    "    ],\n",
    "    xaxis=dict(title='Mean Order', range=[min_mean * 0.95, max_mean * 1.01]),  # Adjusting x-axis range\n",
    "    yaxis=dict(title='Rank', type='category', autorange='reversed'),\n",
    "    title_text=f\"Leading Roles: {title}\"\n",
    ")\n",
    "\n",
    "# Show the figure\n",
    "fig.show()\n"
   ]
  },
  {
   "cell_type": "code",
   "execution_count": 7,
   "metadata": {},
   "outputs": [],
   "source": [
    "# Export to html\n",
    "fig.write_html('top_characters_ranking.html', include_plotlyjs=\"cdn\")"
   ]
  },
  {
   "cell_type": "markdown",
   "metadata": {},
   "source": [
    "### x.1. Graph B\n",
    "Top 10 characters names in movies (number of occurences) with a slider that allows to select a specific order"
   ]
  },
  {
   "cell_type": "code",
   "execution_count": 8,
   "metadata": {},
   "outputs": [
    {
     "data": {
      "text/html": [
       "<div>\n",
       "<style scoped>\n",
       "    .dataframe tbody tr th:only-of-type {\n",
       "        vertical-align: middle;\n",
       "    }\n",
       "\n",
       "    .dataframe tbody tr th {\n",
       "        vertical-align: top;\n",
       "    }\n",
       "\n",
       "    .dataframe thead th {\n",
       "        text-align: right;\n",
       "    }\n",
       "</style>\n",
       "<table border=\"1\" class=\"dataframe\">\n",
       "  <thead>\n",
       "    <tr style=\"text-align: right;\">\n",
       "      <th></th>\n",
       "      <th></th>\n",
       "      <th>gender</th>\n",
       "      <th>count</th>\n",
       "    </tr>\n",
       "    <tr>\n",
       "      <th>order</th>\n",
       "      <th>char_words</th>\n",
       "      <th></th>\n",
       "      <th></th>\n",
       "    </tr>\n",
       "  </thead>\n",
       "  <tbody>\n",
       "    <tr>\n",
       "      <th rowspan=\"5\" valign=\"top\">1</th>\n",
       "      <th>John</th>\n",
       "      <td>M</td>\n",
       "      <td>300</td>\n",
       "    </tr>\n",
       "    <tr>\n",
       "      <th>Jack</th>\n",
       "      <td>M</td>\n",
       "      <td>180</td>\n",
       "    </tr>\n",
       "    <tr>\n",
       "      <th>James</th>\n",
       "      <td>M</td>\n",
       "      <td>124</td>\n",
       "    </tr>\n",
       "    <tr>\n",
       "      <th>Frank</th>\n",
       "      <td>M</td>\n",
       "      <td>117</td>\n",
       "    </tr>\n",
       "    <tr>\n",
       "      <th>Tom</th>\n",
       "      <td>M</td>\n",
       "      <td>115</td>\n",
       "    </tr>\n",
       "    <tr>\n",
       "      <th>...</th>\n",
       "      <th>...</th>\n",
       "      <td>...</td>\n",
       "      <td>...</td>\n",
       "    </tr>\n",
       "    <tr>\n",
       "      <th rowspan=\"5\" valign=\"top\">10</th>\n",
       "      <th>Sam</th>\n",
       "      <td>M</td>\n",
       "      <td>19</td>\n",
       "    </tr>\n",
       "    <tr>\n",
       "      <th>Jack</th>\n",
       "      <td>M</td>\n",
       "      <td>17</td>\n",
       "    </tr>\n",
       "    <tr>\n",
       "      <th>Captain</th>\n",
       "      <td>M</td>\n",
       "      <td>16</td>\n",
       "    </tr>\n",
       "    <tr>\n",
       "      <th>Joe</th>\n",
       "      <td>M</td>\n",
       "      <td>16</td>\n",
       "    </tr>\n",
       "    <tr>\n",
       "      <th>Billy</th>\n",
       "      <td>M</td>\n",
       "      <td>15</td>\n",
       "    </tr>\n",
       "  </tbody>\n",
       "</table>\n",
       "<p>100 rows × 2 columns</p>\n",
       "</div>"
      ],
      "text/plain": [
       "                 gender  count\n",
       "order char_words              \n",
       "1     John            M    300\n",
       "      Jack            M    180\n",
       "      James           M    124\n",
       "      Frank           M    117\n",
       "      Tom             M    115\n",
       "...                 ...    ...\n",
       "10    Sam             M     19\n",
       "      Jack            M     17\n",
       "      Captain         M     16\n",
       "      Joe             M     16\n",
       "      Billy           M     15\n",
       "\n",
       "[100 rows x 2 columns]"
      ]
     },
     "metadata": {},
     "output_type": "display_data"
    }
   ],
   "source": [
    "# Group by order and count names\n",
    "names_per_order = char_order_df.reset_index().groupby(['order','char_words','gender']).size().reset_index(name='count')\n",
    "\n",
    "# Keep only top 10 orders, sort by order (ascending) and then name count (descending)\n",
    "names_per_order = names_per_order[names_per_order['order'] <= 9].sort_values(by=['order', 'count'], ascending=[True, False])\n",
    "\n",
    "# Artificially add +1 to the order to start from 1\n",
    "names_per_order['order'] = names_per_order['order'] + 1\n",
    "\n",
    "# Take top 10 names per order\n",
    "names_per_order = names_per_order.groupby(['order']).head(10)\n",
    "names_per_order['order'] = names_per_order['order'].astype(int)\n",
    "display(names_per_order.set_index(['order','char_words']))"
   ]
  },
  {
   "cell_type": "code",
   "execution_count": 9,
   "metadata": {},
   "outputs": [
    {
     "data": {
      "application/vnd.plotly.v1+json": {
       "config": {
        "plotlyServerURL": "https://plot.ly"
       },
       "data": [
        {
         "marker": {
          "color": [
           "blue",
           "blue",
           "blue",
           "blue",
           "blue",
           "blue",
           "blue",
           "blue",
           "blue",
           "blue"
          ]
         },
         "name": "Order 1",
         "type": "bar",
         "visible": true,
         "x": [
          "John",
          "Jack",
          "James",
          "Frank",
          "Tom",
          "David",
          "Joe",
          "Michael",
          "Harry",
          "Paul"
         ],
         "y": [
          300,
          180,
          124,
          117,
          115,
          112,
          112,
          112,
          109,
          102
         ]
        },
        {
         "marker": {
          "color": [
           "blue",
           "pink",
           "blue",
           "blue",
           "pink",
           "blue",
           "blue",
           "pink",
           "pink",
           "blue"
          ]
         },
         "name": "Order 2",
         "type": "bar",
         "visible": false,
         "x": [
          "John",
          "Mary",
          "Jack",
          "David",
          "Jane",
          "Frank",
          "Paul",
          "Sarah",
          "Kate",
          "Michael"
         ],
         "y": [
          133,
          100,
          91,
          72,
          66,
          64,
          64,
          61,
          53,
          53
         ]
        },
        {
         "marker": {
          "color": [
           "blue",
           "blue",
           "blue",
           "pink",
           "blue",
           "blue",
           "blue",
           "blue",
           "blue",
           "blue"
          ]
         },
         "name": "Order 3",
         "type": "bar",
         "visible": false,
         "x": [
          "John",
          "Moe",
          "Jack",
          "Mary",
          "Frank",
          "Michael",
          "Paul",
          "Captain",
          "James",
          "Peter"
         ],
         "y": [
          76,
          73,
          69,
          65,
          55,
          52,
          46,
          45,
          45,
          45
         ]
        },
        {
         "marker": {
          "color": [
           "blue",
           "blue",
           "blue",
           "pink",
           "blue",
           "blue",
           "blue",
           "blue",
           "blue",
           "blue"
          ]
         },
         "name": "Order 4",
         "type": "bar",
         "visible": false,
         "x": [
          "John",
          "Frank",
          "Jack",
          "Mary",
          "Joe",
          "George",
          "Sam",
          "Ben",
          "Tom",
          "Henry"
         ],
         "y": [
          72,
          50,
          48,
          45,
          41,
          39,
          38,
          37,
          37,
          35
         ]
        },
        {
         "marker": {
          "color": [
           "blue",
           "blue",
           "blue",
           "blue",
           "blue",
           "blue",
           "pink",
           "blue",
           "blue",
           "blue"
          ]
         },
         "name": "Order 5",
         "type": "bar",
         "visible": false,
         "x": [
          "John",
          "Frank",
          "George",
          "Joe",
          "Jack",
          "Paul",
          "Mary",
          "Tom",
          "James",
          "David"
         ],
         "y": [
          65,
          45,
          42,
          42,
          39,
          35,
          33,
          33,
          30,
          29
         ]
        },
        {
         "marker": {
          "color": [
           "blue",
           "blue",
           "blue",
           "blue",
           "blue",
           "blue",
           "blue",
           "blue",
           "blue",
           "blue"
          ]
         },
         "name": "Order 6",
         "type": "bar",
         "visible": false,
         "x": [
          "George",
          "John",
          "Sheriff",
          "Sam",
          "Frank",
          "Jack",
          "Tom",
          "Henry",
          "Bob",
          "Paul"
         ],
         "y": [
          50,
          46,
          37,
          36,
          34,
          33,
          33,
          31,
          30,
          30
         ]
        },
        {
         "marker": {
          "color": [
           "blue",
           "pink",
           "blue",
           "blue",
           "blue",
           "blue",
           "blue",
           "blue",
           "blue",
           "blue"
          ]
         },
         "name": "Order 7",
         "type": "bar",
         "visible": false,
         "x": [
          "John",
          "Mary",
          "Jack",
          "George",
          "Joe",
          "Frank",
          "Mike",
          "Billy",
          "Captain",
          "Paul"
         ],
         "y": [
          46,
          33,
          30,
          27,
          26,
          25,
          25,
          24,
          24,
          24
         ]
        },
        {
         "marker": {
          "color": [
           "blue",
           "blue",
           "blue",
           "blue",
           "pink",
           "blue",
           "blue",
           "blue",
           "blue",
           "blue"
          ]
         },
         "name": "Order 8",
         "type": "bar",
         "visible": false,
         "x": [
          "John",
          "Joe",
          "Jack",
          "David",
          "Mary",
          "Paul",
          "Tom",
          "Frank",
          "Sheriff",
          "Chief"
         ],
         "y": [
          54,
          35,
          28,
          24,
          22,
          22,
          22,
          21,
          21,
          20
         ]
        },
        {
         "marker": {
          "color": [
           "blue",
           "blue",
           "blue",
           "pink",
           "blue",
           "blue",
           "blue",
           "blue",
           "blue",
           "blue"
          ]
         },
         "name": "Order 9",
         "type": "bar",
         "visible": false,
         "x": [
          "Captain",
          "Frank",
          "Chief",
          "Mary",
          "John",
          "Bill",
          "General",
          "Jack",
          "Sheriff",
          "Agent"
         ],
         "y": [
          31,
          30,
          28,
          28,
          25,
          22,
          20,
          20,
          19,
          18
         ]
        },
        {
         "marker": {
          "color": [
           "blue",
           "blue",
           "blue",
           "blue",
           "pink",
           "blue",
           "blue",
           "blue",
           "blue",
           "blue"
          ]
         },
         "name": "Order 10",
         "type": "bar",
         "visible": false,
         "x": [
          "John",
          "Frank",
          "George",
          "Agent",
          "Mary",
          "Sam",
          "Jack",
          "Captain",
          "Joe",
          "Billy"
         ],
         "y": [
          25,
          24,
          21,
          19,
          19,
          19,
          17,
          16,
          16,
          15
         ]
        }
       ],
       "layout": {
        "sliders": [
         {
          "active": 0,
          "currentvalue": {
           "prefix": "Order: "
          },
          "pad": {
           "t": 50
          },
          "steps": [
           {
            "args": [
             {
              "visible": [
               true,
               false,
               false,
               false,
               false,
               false,
               false,
               false,
               false,
               false
              ]
             },
             {
              "title": "Most frequent names for a 1st character"
             }
            ],
            "label": "1",
            "method": "update"
           },
           {
            "args": [
             {
              "visible": [
               false,
               true,
               false,
               false,
               false,
               false,
               false,
               false,
               false,
               false
              ]
             },
             {
              "title": "Most frequent names for a 2nd character"
             }
            ],
            "label": "2",
            "method": "update"
           },
           {
            "args": [
             {
              "visible": [
               false,
               false,
               true,
               false,
               false,
               false,
               false,
               false,
               false,
               false
              ]
             },
             {
              "title": "Most frequent names for a 3rd character"
             }
            ],
            "label": "3",
            "method": "update"
           },
           {
            "args": [
             {
              "visible": [
               false,
               false,
               false,
               true,
               false,
               false,
               false,
               false,
               false,
               false
              ]
             },
             {
              "title": "Most frequent names for a 4th character"
             }
            ],
            "label": "4",
            "method": "update"
           },
           {
            "args": [
             {
              "visible": [
               false,
               false,
               false,
               false,
               true,
               false,
               false,
               false,
               false,
               false
              ]
             },
             {
              "title": "Most frequent names for a 5th character"
             }
            ],
            "label": "5",
            "method": "update"
           },
           {
            "args": [
             {
              "visible": [
               false,
               false,
               false,
               false,
               false,
               true,
               false,
               false,
               false,
               false
              ]
             },
             {
              "title": "Most frequent names for a 6th character"
             }
            ],
            "label": "6",
            "method": "update"
           },
           {
            "args": [
             {
              "visible": [
               false,
               false,
               false,
               false,
               false,
               false,
               true,
               false,
               false,
               false
              ]
             },
             {
              "title": "Most frequent names for a 7th character"
             }
            ],
            "label": "7",
            "method": "update"
           },
           {
            "args": [
             {
              "visible": [
               false,
               false,
               false,
               false,
               false,
               false,
               false,
               true,
               false,
               false
              ]
             },
             {
              "title": "Most frequent names for a 8th character"
             }
            ],
            "label": "8",
            "method": "update"
           },
           {
            "args": [
             {
              "visible": [
               false,
               false,
               false,
               false,
               false,
               false,
               false,
               false,
               true,
               false
              ]
             },
             {
              "title": "Most frequent names for a 9th character"
             }
            ],
            "label": "9",
            "method": "update"
           },
           {
            "args": [
             {
              "visible": [
               false,
               false,
               false,
               false,
               false,
               false,
               false,
               false,
               false,
               true
              ]
             },
             {
              "title": "Most frequent names for a 10th character"
             }
            ],
            "label": "10",
            "method": "update"
           }
          ]
         }
        ],
        "template": {
         "data": {
          "bar": [
           {
            "error_x": {
             "color": "#2a3f5f"
            },
            "error_y": {
             "color": "#2a3f5f"
            },
            "marker": {
             "line": {
              "color": "#E5ECF6",
              "width": 0.5
             },
             "pattern": {
              "fillmode": "overlay",
              "size": 10,
              "solidity": 0.2
             }
            },
            "type": "bar"
           }
          ],
          "barpolar": [
           {
            "marker": {
             "line": {
              "color": "#E5ECF6",
              "width": 0.5
             },
             "pattern": {
              "fillmode": "overlay",
              "size": 10,
              "solidity": 0.2
             }
            },
            "type": "barpolar"
           }
          ],
          "carpet": [
           {
            "aaxis": {
             "endlinecolor": "#2a3f5f",
             "gridcolor": "white",
             "linecolor": "white",
             "minorgridcolor": "white",
             "startlinecolor": "#2a3f5f"
            },
            "baxis": {
             "endlinecolor": "#2a3f5f",
             "gridcolor": "white",
             "linecolor": "white",
             "minorgridcolor": "white",
             "startlinecolor": "#2a3f5f"
            },
            "type": "carpet"
           }
          ],
          "choropleth": [
           {
            "colorbar": {
             "outlinewidth": 0,
             "ticks": ""
            },
            "type": "choropleth"
           }
          ],
          "contour": [
           {
            "colorbar": {
             "outlinewidth": 0,
             "ticks": ""
            },
            "colorscale": [
             [
              0,
              "#0d0887"
             ],
             [
              0.1111111111111111,
              "#46039f"
             ],
             [
              0.2222222222222222,
              "#7201a8"
             ],
             [
              0.3333333333333333,
              "#9c179e"
             ],
             [
              0.4444444444444444,
              "#bd3786"
             ],
             [
              0.5555555555555556,
              "#d8576b"
             ],
             [
              0.6666666666666666,
              "#ed7953"
             ],
             [
              0.7777777777777778,
              "#fb9f3a"
             ],
             [
              0.8888888888888888,
              "#fdca26"
             ],
             [
              1,
              "#f0f921"
             ]
            ],
            "type": "contour"
           }
          ],
          "contourcarpet": [
           {
            "colorbar": {
             "outlinewidth": 0,
             "ticks": ""
            },
            "type": "contourcarpet"
           }
          ],
          "heatmap": [
           {
            "colorbar": {
             "outlinewidth": 0,
             "ticks": ""
            },
            "colorscale": [
             [
              0,
              "#0d0887"
             ],
             [
              0.1111111111111111,
              "#46039f"
             ],
             [
              0.2222222222222222,
              "#7201a8"
             ],
             [
              0.3333333333333333,
              "#9c179e"
             ],
             [
              0.4444444444444444,
              "#bd3786"
             ],
             [
              0.5555555555555556,
              "#d8576b"
             ],
             [
              0.6666666666666666,
              "#ed7953"
             ],
             [
              0.7777777777777778,
              "#fb9f3a"
             ],
             [
              0.8888888888888888,
              "#fdca26"
             ],
             [
              1,
              "#f0f921"
             ]
            ],
            "type": "heatmap"
           }
          ],
          "heatmapgl": [
           {
            "colorbar": {
             "outlinewidth": 0,
             "ticks": ""
            },
            "colorscale": [
             [
              0,
              "#0d0887"
             ],
             [
              0.1111111111111111,
              "#46039f"
             ],
             [
              0.2222222222222222,
              "#7201a8"
             ],
             [
              0.3333333333333333,
              "#9c179e"
             ],
             [
              0.4444444444444444,
              "#bd3786"
             ],
             [
              0.5555555555555556,
              "#d8576b"
             ],
             [
              0.6666666666666666,
              "#ed7953"
             ],
             [
              0.7777777777777778,
              "#fb9f3a"
             ],
             [
              0.8888888888888888,
              "#fdca26"
             ],
             [
              1,
              "#f0f921"
             ]
            ],
            "type": "heatmapgl"
           }
          ],
          "histogram": [
           {
            "marker": {
             "pattern": {
              "fillmode": "overlay",
              "size": 10,
              "solidity": 0.2
             }
            },
            "type": "histogram"
           }
          ],
          "histogram2d": [
           {
            "colorbar": {
             "outlinewidth": 0,
             "ticks": ""
            },
            "colorscale": [
             [
              0,
              "#0d0887"
             ],
             [
              0.1111111111111111,
              "#46039f"
             ],
             [
              0.2222222222222222,
              "#7201a8"
             ],
             [
              0.3333333333333333,
              "#9c179e"
             ],
             [
              0.4444444444444444,
              "#bd3786"
             ],
             [
              0.5555555555555556,
              "#d8576b"
             ],
             [
              0.6666666666666666,
              "#ed7953"
             ],
             [
              0.7777777777777778,
              "#fb9f3a"
             ],
             [
              0.8888888888888888,
              "#fdca26"
             ],
             [
              1,
              "#f0f921"
             ]
            ],
            "type": "histogram2d"
           }
          ],
          "histogram2dcontour": [
           {
            "colorbar": {
             "outlinewidth": 0,
             "ticks": ""
            },
            "colorscale": [
             [
              0,
              "#0d0887"
             ],
             [
              0.1111111111111111,
              "#46039f"
             ],
             [
              0.2222222222222222,
              "#7201a8"
             ],
             [
              0.3333333333333333,
              "#9c179e"
             ],
             [
              0.4444444444444444,
              "#bd3786"
             ],
             [
              0.5555555555555556,
              "#d8576b"
             ],
             [
              0.6666666666666666,
              "#ed7953"
             ],
             [
              0.7777777777777778,
              "#fb9f3a"
             ],
             [
              0.8888888888888888,
              "#fdca26"
             ],
             [
              1,
              "#f0f921"
             ]
            ],
            "type": "histogram2dcontour"
           }
          ],
          "mesh3d": [
           {
            "colorbar": {
             "outlinewidth": 0,
             "ticks": ""
            },
            "type": "mesh3d"
           }
          ],
          "parcoords": [
           {
            "line": {
             "colorbar": {
              "outlinewidth": 0,
              "ticks": ""
             }
            },
            "type": "parcoords"
           }
          ],
          "pie": [
           {
            "automargin": true,
            "type": "pie"
           }
          ],
          "scatter": [
           {
            "fillpattern": {
             "fillmode": "overlay",
             "size": 10,
             "solidity": 0.2
            },
            "type": "scatter"
           }
          ],
          "scatter3d": [
           {
            "line": {
             "colorbar": {
              "outlinewidth": 0,
              "ticks": ""
             }
            },
            "marker": {
             "colorbar": {
              "outlinewidth": 0,
              "ticks": ""
             }
            },
            "type": "scatter3d"
           }
          ],
          "scattercarpet": [
           {
            "marker": {
             "colorbar": {
              "outlinewidth": 0,
              "ticks": ""
             }
            },
            "type": "scattercarpet"
           }
          ],
          "scattergeo": [
           {
            "marker": {
             "colorbar": {
              "outlinewidth": 0,
              "ticks": ""
             }
            },
            "type": "scattergeo"
           }
          ],
          "scattergl": [
           {
            "marker": {
             "colorbar": {
              "outlinewidth": 0,
              "ticks": ""
             }
            },
            "type": "scattergl"
           }
          ],
          "scattermapbox": [
           {
            "marker": {
             "colorbar": {
              "outlinewidth": 0,
              "ticks": ""
             }
            },
            "type": "scattermapbox"
           }
          ],
          "scatterpolar": [
           {
            "marker": {
             "colorbar": {
              "outlinewidth": 0,
              "ticks": ""
             }
            },
            "type": "scatterpolar"
           }
          ],
          "scatterpolargl": [
           {
            "marker": {
             "colorbar": {
              "outlinewidth": 0,
              "ticks": ""
             }
            },
            "type": "scatterpolargl"
           }
          ],
          "scatterternary": [
           {
            "marker": {
             "colorbar": {
              "outlinewidth": 0,
              "ticks": ""
             }
            },
            "type": "scatterternary"
           }
          ],
          "surface": [
           {
            "colorbar": {
             "outlinewidth": 0,
             "ticks": ""
            },
            "colorscale": [
             [
              0,
              "#0d0887"
             ],
             [
              0.1111111111111111,
              "#46039f"
             ],
             [
              0.2222222222222222,
              "#7201a8"
             ],
             [
              0.3333333333333333,
              "#9c179e"
             ],
             [
              0.4444444444444444,
              "#bd3786"
             ],
             [
              0.5555555555555556,
              "#d8576b"
             ],
             [
              0.6666666666666666,
              "#ed7953"
             ],
             [
              0.7777777777777778,
              "#fb9f3a"
             ],
             [
              0.8888888888888888,
              "#fdca26"
             ],
             [
              1,
              "#f0f921"
             ]
            ],
            "type": "surface"
           }
          ],
          "table": [
           {
            "cells": {
             "fill": {
              "color": "#EBF0F8"
             },
             "line": {
              "color": "white"
             }
            },
            "header": {
             "fill": {
              "color": "#C8D4E3"
             },
             "line": {
              "color": "white"
             }
            },
            "type": "table"
           }
          ]
         },
         "layout": {
          "annotationdefaults": {
           "arrowcolor": "#2a3f5f",
           "arrowhead": 0,
           "arrowwidth": 1
          },
          "autotypenumbers": "strict",
          "coloraxis": {
           "colorbar": {
            "outlinewidth": 0,
            "ticks": ""
           }
          },
          "colorscale": {
           "diverging": [
            [
             0,
             "#8e0152"
            ],
            [
             0.1,
             "#c51b7d"
            ],
            [
             0.2,
             "#de77ae"
            ],
            [
             0.3,
             "#f1b6da"
            ],
            [
             0.4,
             "#fde0ef"
            ],
            [
             0.5,
             "#f7f7f7"
            ],
            [
             0.6,
             "#e6f5d0"
            ],
            [
             0.7,
             "#b8e186"
            ],
            [
             0.8,
             "#7fbc41"
            ],
            [
             0.9,
             "#4d9221"
            ],
            [
             1,
             "#276419"
            ]
           ],
           "sequential": [
            [
             0,
             "#0d0887"
            ],
            [
             0.1111111111111111,
             "#46039f"
            ],
            [
             0.2222222222222222,
             "#7201a8"
            ],
            [
             0.3333333333333333,
             "#9c179e"
            ],
            [
             0.4444444444444444,
             "#bd3786"
            ],
            [
             0.5555555555555556,
             "#d8576b"
            ],
            [
             0.6666666666666666,
             "#ed7953"
            ],
            [
             0.7777777777777778,
             "#fb9f3a"
            ],
            [
             0.8888888888888888,
             "#fdca26"
            ],
            [
             1,
             "#f0f921"
            ]
           ],
           "sequentialminus": [
            [
             0,
             "#0d0887"
            ],
            [
             0.1111111111111111,
             "#46039f"
            ],
            [
             0.2222222222222222,
             "#7201a8"
            ],
            [
             0.3333333333333333,
             "#9c179e"
            ],
            [
             0.4444444444444444,
             "#bd3786"
            ],
            [
             0.5555555555555556,
             "#d8576b"
            ],
            [
             0.6666666666666666,
             "#ed7953"
            ],
            [
             0.7777777777777778,
             "#fb9f3a"
            ],
            [
             0.8888888888888888,
             "#fdca26"
            ],
            [
             1,
             "#f0f921"
            ]
           ]
          },
          "colorway": [
           "#636efa",
           "#EF553B",
           "#00cc96",
           "#ab63fa",
           "#FFA15A",
           "#19d3f3",
           "#FF6692",
           "#B6E880",
           "#FF97FF",
           "#FECB52"
          ],
          "font": {
           "color": "#2a3f5f"
          },
          "geo": {
           "bgcolor": "white",
           "lakecolor": "white",
           "landcolor": "#E5ECF6",
           "showlakes": true,
           "showland": true,
           "subunitcolor": "white"
          },
          "hoverlabel": {
           "align": "left"
          },
          "hovermode": "closest",
          "mapbox": {
           "style": "light"
          },
          "paper_bgcolor": "white",
          "plot_bgcolor": "#E5ECF6",
          "polar": {
           "angularaxis": {
            "gridcolor": "white",
            "linecolor": "white",
            "ticks": ""
           },
           "bgcolor": "#E5ECF6",
           "radialaxis": {
            "gridcolor": "white",
            "linecolor": "white",
            "ticks": ""
           }
          },
          "scene": {
           "xaxis": {
            "backgroundcolor": "#E5ECF6",
            "gridcolor": "white",
            "gridwidth": 2,
            "linecolor": "white",
            "showbackground": true,
            "ticks": "",
            "zerolinecolor": "white"
           },
           "yaxis": {
            "backgroundcolor": "#E5ECF6",
            "gridcolor": "white",
            "gridwidth": 2,
            "linecolor": "white",
            "showbackground": true,
            "ticks": "",
            "zerolinecolor": "white"
           },
           "zaxis": {
            "backgroundcolor": "#E5ECF6",
            "gridcolor": "white",
            "gridwidth": 2,
            "linecolor": "white",
            "showbackground": true,
            "ticks": "",
            "zerolinecolor": "white"
           }
          },
          "shapedefaults": {
           "line": {
            "color": "#2a3f5f"
           }
          },
          "ternary": {
           "aaxis": {
            "gridcolor": "white",
            "linecolor": "white",
            "ticks": ""
           },
           "baxis": {
            "gridcolor": "white",
            "linecolor": "white",
            "ticks": ""
           },
           "bgcolor": "#E5ECF6",
           "caxis": {
            "gridcolor": "white",
            "linecolor": "white",
            "ticks": ""
           }
          },
          "title": {
           "x": 0.05
          },
          "xaxis": {
           "automargin": true,
           "gridcolor": "white",
           "linecolor": "white",
           "ticks": "",
           "title": {
            "standoff": 15
           },
           "zerolinecolor": "white",
           "zerolinewidth": 2
          },
          "yaxis": {
           "automargin": true,
           "gridcolor": "white",
           "linecolor": "white",
           "ticks": "",
           "title": {
            "standoff": 15
           },
           "zerolinecolor": "white",
           "zerolinewidth": 2
          }
         }
        },
        "title": {
         "text": "Most frequent names for a 1st character"
        },
        "xaxis": {
         "title": {
          "text": "Character Name"
         }
        },
        "yaxis": {
         "title": {
          "text": "Count"
         }
        }
       }
      }
     },
     "metadata": {},
     "output_type": "display_data"
    }
   ],
   "source": [
    "def ordinal_suffix(value):\n",
    "    if 10 <= value % 100 <= 20:\n",
    "        suffix = 'th'\n",
    "    else:\n",
    "        suffix = {1: 'st', 2: 'nd', 3: 'rd'}.get(value % 10, 'th')\n",
    "    return str(value) + suffix\n",
    "\n",
    "# Create a figure\n",
    "fig = go.Figure()\n",
    "\n",
    "# Find the unique orders\n",
    "unique_orders = sorted(names_per_order['order'].unique())\n",
    "\n",
    "# Add a bar trace for each order\n",
    "for order in unique_orders:\n",
    "    filtered_df = names_per_order[names_per_order['order'] == order]\n",
    "    # Sort by count (descending) for ranking\n",
    "    filtered_df = filtered_df.sort_values(by='count', ascending=False)\n",
    "    fig.add_trace(\n",
    "        go.Bar(\n",
    "            x=filtered_df['char_words'], \n",
    "            y=filtered_df['count'],\n",
    "            name=f\"Order {order}\",\n",
    "            marker_color=filtered_df['gender'].map({'M': 'blue', 'F': 'pink'}),\n",
    "            visible=(order == unique_orders[0])  # Only the first trace is visible\n",
    "        )\n",
    "    )\n",
    "\n",
    "# Create and add slider\n",
    "steps = []\n",
    "for i, order in enumerate(unique_orders):\n",
    "    step = dict(\n",
    "        method=\"update\",\n",
    "        args=[{\"visible\": [order == o for o in unique_orders]},\n",
    "              {\"title\": f\"Most frequent names for a {ordinal_suffix(order)} character\"}],\n",
    "        label=f\"{order}\"\n",
    "    )\n",
    "    steps.append(step)\n",
    "\n",
    "sliders = [dict(\n",
    "    active=0,\n",
    "    currentvalue={\"prefix\": \"Order: \"},\n",
    "    pad={\"t\": 50},\n",
    "    steps=steps\n",
    ")]\n",
    "\n",
    "# Update the layout\n",
    "fig.update_layout(\n",
    "    sliders=sliders,\n",
    "    title_text=f\"Most frequent names for a {ordinal_suffix(1)} character\",\n",
    "    xaxis_title=\"Character Name\",\n",
    "    yaxis_title=\"Count\"\n",
    ")\n",
    "\n",
    "# Show the figure\n",
    "fig.show()\n"
   ]
  },
  {
   "cell_type": "code",
   "execution_count": 10,
   "metadata": {},
   "outputs": [],
   "source": [
    "# Export to html\n",
    "fig.write_html('top_character_per_order.html', include_plotlyjs=\"cdn\")"
   ]
  }
 ],
 "metadata": {
  "kernelspec": {
   "display_name": "ada",
   "language": "python",
   "name": "python3"
  },
  "language_info": {
   "codemirror_mode": {
    "name": "ipython",
    "version": 3
   },
   "file_extension": ".py",
   "mimetype": "text/x-python",
   "name": "python",
   "nbconvert_exporter": "python",
   "pygments_lexer": "ipython3",
   "version": "3.9.18"
  }
 },
 "nbformat": 4,
 "nbformat_minor": 2
}
