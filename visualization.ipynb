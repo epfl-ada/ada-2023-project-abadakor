{
 "cells": [
  {
   "cell_type": "code",
   "execution_count": 1,
   "metadata": {},
   "outputs": [
    {
     "name": "stdout",
     "output_type": "stream",
     "text": [
      "Intel MKL WARNING: Support of Intel(R) Streaming SIMD Extensions 4.2 (Intel(R) SSE4.2) enabled only processors has been deprecated. Intel oneAPI Math Kernel Library 2025.0 will require Intel(R) Advanced Vector Extensions (Intel(R) AVX) instructions.\n",
      "Intel MKL WARNING: Support of Intel(R) Streaming SIMD Extensions 4.2 (Intel(R) SSE4.2) enabled only processors has been deprecated. Intel oneAPI Math Kernel Library 2025.0 will require Intel(R) Advanced Vector Extensions (Intel(R) AVX) instructions.\n"
     ]
    }
   ],
   "source": [
    "import pandas as pd\n",
    "import os\n",
    "import numpy as np\n",
    "import matplotlib.pyplot as plt"
   ]
  },
  {
   "cell_type": "markdown",
   "metadata": {},
   "source": [
    "# Visualizing the processed data\n",
    "In this notebook, we aim to visualize our core components of the project.\n",
    "## 1. Timeline visualization\n",
    "We'll start with creating a timeline for each name, and display a certain amount of movies (for example the top 10) that came out throughout the years."
   ]
  },
  {
   "cell_type": "code",
   "execution_count": 9,
   "metadata": {},
   "outputs": [],
   "source": [
    "folder_processed_data_path = './data/processed_data/'\n",
    "\n",
    "movie_df = pd.read_csv(os.path.join(folder_processed_data_path, 'movie_df.csv'))\n",
    "movie_df.set_index(['wiki_ID'], inplace=True)\n",
    "\n",
    "name_by_movie_df = pd.read_csv(os.path.join(folder_processed_data_path, 'name_by_movie_ordered_df.csv'))\n",
    "name_by_movie_df.set_index(['wiki_ID', 'char_words', 'gender'], inplace=True)\n",
    "\n",
    "baby_name_df = pd.read_csv(os.path.join(folder_processed_data_path, 'baby_name_df.csv'))\n",
    "baby_name_df.set_index(['name', 'year'], inplace=True)"
   ]
  },
  {
   "cell_type": "markdown",
   "metadata": {},
   "source": [
    "**Visualisation for a specific name:** Let's choose a name and visualize the variation of the baby names throughout the years. We'll pick `Mia`, because it's a cool name."
   ]
  },
  {
   "cell_type": "code",
   "execution_count": 18,
   "metadata": {},
   "outputs": [
    {
     "data": {
      "text/html": [
       "<div>\n",
       "<style scoped>\n",
       "    .dataframe tbody tr th:only-of-type {\n",
       "        vertical-align: middle;\n",
       "    }\n",
       "\n",
       "    .dataframe tbody tr th {\n",
       "        vertical-align: top;\n",
       "    }\n",
       "\n",
       "    .dataframe thead th {\n",
       "        text-align: right;\n",
       "    }\n",
       "</style>\n",
       "<table border=\"1\" class=\"dataframe\">\n",
       "  <thead>\n",
       "    <tr style=\"text-align: right;\">\n",
       "      <th></th>\n",
       "      <th>wiki_ID</th>\n",
       "      <th>char_words</th>\n",
       "      <th>gender</th>\n",
       "      <th>order</th>\n",
       "    </tr>\n",
       "  </thead>\n",
       "  <tbody>\n",
       "    <tr>\n",
       "      <th>0</th>\n",
       "      <td>54173</td>\n",
       "      <td>Mia</td>\n",
       "      <td>F</td>\n",
       "      <td>2.0</td>\n",
       "    </tr>\n",
       "    <tr>\n",
       "      <th>1</th>\n",
       "      <td>99984</td>\n",
       "      <td>Mia</td>\n",
       "      <td>F</td>\n",
       "      <td>25.0</td>\n",
       "    </tr>\n",
       "    <tr>\n",
       "      <th>2</th>\n",
       "      <td>176545</td>\n",
       "      <td>Mia</td>\n",
       "      <td>F</td>\n",
       "      <td>4.0</td>\n",
       "    </tr>\n",
       "    <tr>\n",
       "      <th>3</th>\n",
       "      <td>248222</td>\n",
       "      <td>Mia</td>\n",
       "      <td>F</td>\n",
       "      <td>3.0</td>\n",
       "    </tr>\n",
       "    <tr>\n",
       "      <th>4</th>\n",
       "      <td>370064</td>\n",
       "      <td>Mia</td>\n",
       "      <td>F</td>\n",
       "      <td>12.0</td>\n",
       "    </tr>\n",
       "  </tbody>\n",
       "</table>\n",
       "</div>"
      ],
      "text/plain": [
       "   wiki_ID char_words gender  order\n",
       "0    54173        Mia      F    2.0\n",
       "1    99984        Mia      F   25.0\n",
       "2   176545        Mia      F    4.0\n",
       "3   248222        Mia      F    3.0\n",
       "4   370064        Mia      F   12.0"
      ]
     },
     "metadata": {},
     "output_type": "display_data"
    },
    {
     "name": "stdout",
     "output_type": "stream",
     "text": [
      "There are 47 movies with a character named Mia.\n"
     ]
    }
   ],
   "source": [
    "# Set a name\n",
    "chosen_name = \"Mia\"\n",
    "\n",
    "# Filter the name_by_movie_df by the chosen name\n",
    "filt_name_by_movie_df = name_by_movie_df.query(\"char_words == @chosen_name\").copy(deep=True)\n",
    "filt_name_by_movie_df.reset_index(inplace=True)\n",
    "\n",
    "display(filt_name_by_movie_df.sort_values(by=\"wiki_ID\").head())\n",
    "print(f\"There are {len(filt_name_by_movie_df)} movies with a character named {chosen_name}.\")"
   ]
  },
  {
   "cell_type": "code",
   "execution_count": 20,
   "metadata": {},
   "outputs": [
    {
     "data": {
      "text/html": [
       "<div>\n",
       "<style scoped>\n",
       "    .dataframe tbody tr th:only-of-type {\n",
       "        vertical-align: middle;\n",
       "    }\n",
       "\n",
       "    .dataframe tbody tr th {\n",
       "        vertical-align: top;\n",
       "    }\n",
       "\n",
       "    .dataframe thead th {\n",
       "        text-align: right;\n",
       "    }\n",
       "</style>\n",
       "<table border=\"1\" class=\"dataframe\">\n",
       "  <thead>\n",
       "    <tr style=\"text-align: right;\">\n",
       "      <th></th>\n",
       "      <th>wiki_ID</th>\n",
       "      <th>mov_name</th>\n",
       "      <th>release</th>\n",
       "      <th>revenue</th>\n",
       "      <th>numVotes</th>\n",
       "      <th>averageRating</th>\n",
       "    </tr>\n",
       "  </thead>\n",
       "  <tbody>\n",
       "    <tr>\n",
       "      <th>35</th>\n",
       "      <td>54173</td>\n",
       "      <td>Pulp Fiction</td>\n",
       "      <td>1994</td>\n",
       "      <td>213928762.0</td>\n",
       "      <td>2158972</td>\n",
       "      <td>8.9</td>\n",
       "    </tr>\n",
       "    <tr>\n",
       "      <th>22</th>\n",
       "      <td>99984</td>\n",
       "      <td>Una Aventura Llamada Menudo</td>\n",
       "      <td>1982</td>\n",
       "      <td>NaN</td>\n",
       "      <td>34</td>\n",
       "      <td>6.2</td>\n",
       "    </tr>\n",
       "    <tr>\n",
       "      <th>2</th>\n",
       "      <td>176545</td>\n",
       "      <td>The Seventh Seal</td>\n",
       "      <td>1957</td>\n",
       "      <td>NaN</td>\n",
       "      <td>194183</td>\n",
       "      <td>8.1</td>\n",
       "    </tr>\n",
       "    <tr>\n",
       "      <th>13</th>\n",
       "      <td>248222</td>\n",
       "      <td>The Fast and the Furious</td>\n",
       "      <td>2001</td>\n",
       "      <td>207283925.0</td>\n",
       "      <td>409735</td>\n",
       "      <td>6.8</td>\n",
       "    </tr>\n",
       "    <tr>\n",
       "      <th>8</th>\n",
       "      <td>370064</td>\n",
       "      <td>Love Actually</td>\n",
       "      <td>2003</td>\n",
       "      <td>246942017.0</td>\n",
       "      <td>508246</td>\n",
       "      <td>7.6</td>\n",
       "    </tr>\n",
       "  </tbody>\n",
       "</table>\n",
       "</div>"
      ],
      "text/plain": [
       "    wiki_ID                     mov_name  release      revenue  numVotes  \\\n",
       "35    54173                 Pulp Fiction     1994  213928762.0   2158972   \n",
       "22    99984  Una Aventura Llamada Menudo     1982          NaN        34   \n",
       "2    176545             The Seventh Seal     1957          NaN    194183   \n",
       "13   248222     The Fast and the Furious     2001  207283925.0    409735   \n",
       "8    370064                Love Actually     2003  246942017.0    508246   \n",
       "\n",
       "    averageRating  \n",
       "35            8.9  \n",
       "22            6.2  \n",
       "2             8.1  \n",
       "13            6.8  \n",
       "8             7.6  "
      ]
     },
     "metadata": {},
     "output_type": "display_data"
    }
   ],
   "source": [
    "# Keep only wiki_ID column\n",
    "filt_name_by_movie_df = filt_name_by_movie_df[['wiki_ID']].copy(deep=True)\n",
    "\n",
    "# Merge the movie_df with the filt_name_by_movie_df\n",
    "filt_movie_df = pd.merge(movie_df, filt_name_by_movie_df, on='wiki_ID', how='inner').copy(deep=True)\n",
    "display(filt_movie_df.sort_values(by=\"wiki_ID\").head())"
   ]
  },
  {
   "cell_type": "markdown",
   "metadata": {},
   "source": [
    "There are too many movies. Let's keep only the 10 most famous ones for now. We base it on the `numVotes` column, representing the number of IMDB votes:"
   ]
  },
  {
   "cell_type": "code",
   "execution_count": 25,
   "metadata": {},
   "outputs": [
    {
     "data": {
      "text/html": [
       "<div>\n",
       "<style scoped>\n",
       "    .dataframe tbody tr th:only-of-type {\n",
       "        vertical-align: middle;\n",
       "    }\n",
       "\n",
       "    .dataframe tbody tr th {\n",
       "        vertical-align: top;\n",
       "    }\n",
       "\n",
       "    .dataframe thead th {\n",
       "        text-align: right;\n",
       "    }\n",
       "</style>\n",
       "<table border=\"1\" class=\"dataframe\">\n",
       "  <thead>\n",
       "    <tr style=\"text-align: right;\">\n",
       "      <th></th>\n",
       "      <th>wiki_ID</th>\n",
       "      <th>mov_name</th>\n",
       "      <th>release</th>\n",
       "      <th>revenue</th>\n",
       "      <th>numVotes</th>\n",
       "      <th>averageRating</th>\n",
       "    </tr>\n",
       "  </thead>\n",
       "  <tbody>\n",
       "    <tr>\n",
       "      <th>35</th>\n",
       "      <td>54173</td>\n",
       "      <td>Pulp Fiction</td>\n",
       "      <td>1994</td>\n",
       "      <td>213928762.0</td>\n",
       "      <td>2158972</td>\n",
       "      <td>8.9</td>\n",
       "    </tr>\n",
       "    <tr>\n",
       "      <th>8</th>\n",
       "      <td>370064</td>\n",
       "      <td>Love Actually</td>\n",
       "      <td>2003</td>\n",
       "      <td>246942017.0</td>\n",
       "      <td>508246</td>\n",
       "      <td>7.6</td>\n",
       "    </tr>\n",
       "    <tr>\n",
       "      <th>17</th>\n",
       "      <td>31567587</td>\n",
       "      <td>The Fast and the Furious 6</td>\n",
       "      <td>2013</td>\n",
       "      <td>NaN</td>\n",
       "      <td>410579</td>\n",
       "      <td>7.0</td>\n",
       "    </tr>\n",
       "    <tr>\n",
       "      <th>13</th>\n",
       "      <td>248222</td>\n",
       "      <td>The Fast and the Furious</td>\n",
       "      <td>2001</td>\n",
       "      <td>207283925.0</td>\n",
       "      <td>409735</td>\n",
       "      <td>6.8</td>\n",
       "    </tr>\n",
       "    <tr>\n",
       "      <th>33</th>\n",
       "      <td>28085067</td>\n",
       "      <td>Fast Five</td>\n",
       "      <td>2011</td>\n",
       "      <td>626100000.0</td>\n",
       "      <td>400211</td>\n",
       "      <td>7.3</td>\n",
       "    </tr>\n",
       "    <tr>\n",
       "      <th>4</th>\n",
       "      <td>15656621</td>\n",
       "      <td>Fast &amp; Furious</td>\n",
       "      <td>2009</td>\n",
       "      <td>363164265.0</td>\n",
       "      <td>304616</td>\n",
       "      <td>6.5</td>\n",
       "    </tr>\n",
       "    <tr>\n",
       "      <th>2</th>\n",
       "      <td>176545</td>\n",
       "      <td>The Seventh Seal</td>\n",
       "      <td>1957</td>\n",
       "      <td>NaN</td>\n",
       "      <td>194183</td>\n",
       "      <td>8.1</td>\n",
       "    </tr>\n",
       "    <tr>\n",
       "      <th>10</th>\n",
       "      <td>34250968</td>\n",
       "      <td>The Evil Dead</td>\n",
       "      <td>2013</td>\n",
       "      <td>NaN</td>\n",
       "      <td>193645</td>\n",
       "      <td>6.5</td>\n",
       "    </tr>\n",
       "    <tr>\n",
       "      <th>31</th>\n",
       "      <td>564986</td>\n",
       "      <td>The Princess Diaries</td>\n",
       "      <td>2003</td>\n",
       "      <td>168335153.0</td>\n",
       "      <td>158588</td>\n",
       "      <td>6.4</td>\n",
       "    </tr>\n",
       "    <tr>\n",
       "      <th>19</th>\n",
       "      <td>8896753</td>\n",
       "      <td>Case 39</td>\n",
       "      <td>2009</td>\n",
       "      <td>13000000.0</td>\n",
       "      <td>91889</td>\n",
       "      <td>6.2</td>\n",
       "    </tr>\n",
       "  </tbody>\n",
       "</table>\n",
       "</div>"
      ],
      "text/plain": [
       "     wiki_ID                    mov_name  release      revenue  numVotes  \\\n",
       "35     54173                Pulp Fiction     1994  213928762.0   2158972   \n",
       "8     370064               Love Actually     2003  246942017.0    508246   \n",
       "17  31567587  The Fast and the Furious 6     2013          NaN    410579   \n",
       "13    248222    The Fast and the Furious     2001  207283925.0    409735   \n",
       "33  28085067                   Fast Five     2011  626100000.0    400211   \n",
       "4   15656621              Fast & Furious     2009  363164265.0    304616   \n",
       "2     176545            The Seventh Seal     1957          NaN    194183   \n",
       "10  34250968               The Evil Dead     2013          NaN    193645   \n",
       "31    564986        The Princess Diaries     2003  168335153.0    158588   \n",
       "19   8896753                     Case 39     2009   13000000.0     91889   \n",
       "\n",
       "    averageRating  \n",
       "35            8.9  \n",
       "8             7.6  \n",
       "17            7.0  \n",
       "13            6.8  \n",
       "33            7.3  \n",
       "4             6.5  \n",
       "2             8.1  \n",
       "10            6.5  \n",
       "31            6.4  \n",
       "19            6.2  "
      ]
     },
     "metadata": {},
     "output_type": "display_data"
    }
   ],
   "source": [
    "# We set the number of top movies for this visualization\n",
    "top_movie_count = 10\n",
    "\n",
    "# Sort by top rated movies\n",
    "sorted_filt_movie_df = filt_movie_df.sort_values(by='numVotes', ascending=False).copy(deep=True)\n",
    "\n",
    "# Keep only the top 10 movies\n",
    "filt_movie_df = sorted_filt_movie_df.head(top_movie_count).copy(deep=True)\n",
    "display(filt_movie_df)\n",
    "\n",
    "# Get the release dates\n",
    "release_serie = filt_movie_df['release']"
   ]
  },
  {
   "cell_type": "markdown",
   "metadata": {},
   "source": [
    "We now plot the percentage of babies having the chosen name `Mia` for each year:"
   ]
  },
  {
   "cell_type": "code",
   "execution_count": 41,
   "metadata": {},
   "outputs": [
    {
     "name": "stdout",
     "output_type": "stream",
     "text": [
      "There are 83 years with a character named Mia. \n",
      "The earliest year is 1933 and the latest is 2022.\n"
     ]
    },
    {
     "data": {
      "image/png": "[encoded data removed]",
      "text/plain": [
       "<Figure size 640x480 with 1 Axes>"
      ]
     },
     "metadata": {},
     "output_type": "display_data"
    }
   ],
   "source": [
    "# Grab percentage data\n",
    "percentage_df = baby_name_df.loc[chosen_name]['percentage'].to_frame().reset_index()\n",
    "percentage_df.sort_values(by=['year'], ascending=True, inplace=True)\n",
    "print(f\"There are {len(percentage_df)} years with a character named {chosen_name}. \\nThe earliest year is {percentage_df['year'].min()} and the latest is {percentage_df['year'].max()}.\")\n",
    "\n",
    "x_values = percentage_df['year'].values\n",
    "y_values = percentage_df['percentage'].values\n",
    "\n",
    "# Plotting\n",
    "plt.plot(x_values, y_values)\n",
    "plt.xlabel('Years')\n",
    "plt.ylabel('Percentage of total births')\n",
    "plt.title(f'Name \"{chosen_name}\" with ten most reviewed \\n movies with a character of the same name')\n",
    "\n",
    "# Draw vertical lines for each movie release\n",
    "vertical_lines_series = release_serie.values\n",
    "for x_value in vertical_lines_series:\n",
    "    plt.axvline(x=x_value, color='r', linestyle='--')\n",
    "\n",
    "# Labeling\n",
    "plt.axvline(x=x_value, color='r', linestyle='--', label='Movie releases')\n",
    "plt.legend(loc='upper left', bbox_to_anchor=(1.05, 1))\n",
    "plt.show()"
   ]
  },
  {
   "cell_type": "markdown",
   "metadata": {},
   "source": [
    "We note that there are not 10 marks on the graphs, that's because some movies had the same release year. We won't be able to distinguish them in our analysis and they will be considered as having the same impact (which would be in reality their \"cumulated\" impact)."
   ]
  },
  {
   "cell_type": "markdown",
   "metadata": {},
   "source": []
  },
  {
   "cell_type": "code",
   "execution_count": null,
   "metadata": {},
   "outputs": [],
   "source": []
  }
 ],
 "metadata": {
  "kernelspec": {
   "display_name": "ada",
   "language": "python",
   "name": "python3"
  },
  "language_info": {
   "codemirror_mode": {
    "name": "ipython",
    "version": 3
   },
   "file_extension": ".py",
   "mimetype": "text/x-python",
   "name": "python",
   "nbconvert_exporter": "python",
   "pygments_lexer": "ipython3",
   "version": "3.9.18"
  }
 },
 "nbformat": 4,
 "nbformat_minor": 2
}
