{
 "cells": [
  {
   "cell_type": "code",
   "execution_count": null,
   "metadata": {},
   "outputs": [],
   "source": [
    "import pandas as pd\n",
    "import os\n",
    "import numpy as np\n",
    "import matplotlib.pyplot as plt\n",
    "import seaborn as sns\n",
    "\n",
    "sns.set_theme()"
   ]
  },
  {
   "cell_type": "markdown",
   "metadata": {},
   "source": [
    "# Visualizing the processed data\n",
    "In this notebook, we aim to visualize our core components of the project.\n",
    "## 1. Timeline visualization\n",
    "We'll start with creating a timeline for each name, and display a certain amount of movies (for example the top 10) that came out throughout the years."
   ]
  },
  {
   "cell_type": "code",
   "execution_count": null,
   "metadata": {},
   "outputs": [],
   "source": [
    "folder_processed_data_path = './data/processed_data/'\n",
    "\n",
    "movie_df = pd.read_csv(os.path.join(folder_processed_data_path, 'movie_df.csv'))\n",
    "movie_df.set_index(['wiki_ID'], inplace=True)\n",
    "\n",
    "name_by_movie_df = pd.read_csv(os.path.join(folder_processed_data_path, 'name_by_movie_ordered_df.csv'))\n",
    "name_by_movie_df.set_index(['wiki_ID', 'char_words', 'gender'], inplace=True)\n",
    "\n",
    "baby_name_df = pd.read_csv(os.path.join(folder_processed_data_path, 'baby_name_df.csv'))\n",
    "baby_name_df.set_index(['name', 'year'], inplace=True)"
   ]
  },
  {
   "cell_type": "markdown",
   "metadata": {},
   "source": [
    "**Visualisation for a specific name:** Let's choose a name and visualize the variation of the baby names throughout the years. We'll pick `Mia`, because it's a cool name."
   ]
  },
  {
   "cell_type": "code",
   "execution_count": null,
   "metadata": {},
   "outputs": [],
   "source": [
    "# Set a name\n",
    "chosen_name = \"Mia\"\n",
    "\n",
    "# Filter the name_by_movie_df by the chosen name\n",
    "filt_name_by_movie_df = name_by_movie_df.query(\"char_words == @chosen_name\").copy(deep=True)\n",
    "filt_name_by_movie_df.reset_index(inplace=True)\n",
    "\n",
    "display(filt_name_by_movie_df.sort_values(by=\"wiki_ID\").head())\n",
    "print(f\"There are {len(filt_name_by_movie_df)} movies with a character named {chosen_name}.\")"
   ]
  },
  {
   "cell_type": "code",
   "execution_count": null,
   "metadata": {},
   "outputs": [],
   "source": [
    "# Keep only wiki_ID column\n",
    "filt_name_by_movie_df = filt_name_by_movie_df[['wiki_ID']].copy(deep=True)\n",
    "\n",
    "# Merge the movie_df with the filt_name_by_movie_df\n",
    "filt_movie_df = pd.merge(movie_df, filt_name_by_movie_df, on='wiki_ID', how='inner').copy(deep=True)\n",
    "display(filt_movie_df.sort_values(by=\"wiki_ID\").head())"
   ]
  },
  {
   "cell_type": "markdown",
   "metadata": {},
   "source": [
    "There are too many movies. Let's keep only the 10 most famous ones for now. We base it on the `numVotes` column, representing the number of IMDB votes:"
   ]
  },
  {
   "cell_type": "code",
   "execution_count": null,
   "metadata": {},
   "outputs": [],
   "source": [
    "# We set the number of top movies for this visualization\n",
    "top_movie_count = 10\n",
    "\n",
    "# Sort by top rated movies\n",
    "sorted_filt_movie_df = filt_movie_df.sort_values(by='numVotes', ascending=False).copy(deep=True)\n",
    "\n",
    "# Keep only the top 10 movies\n",
    "filt_movie_df = sorted_filt_movie_df.head(top_movie_count).copy(deep=True)\n",
    "display(filt_movie_df)\n",
    "\n",
    "# Get the release dates\n",
    "release_serie = filt_movie_df['release']"
   ]
  },
  {
   "cell_type": "markdown",
   "metadata": {},
   "source": [
    "We now plot the percentage of babies having the chosen name `Mia` for each year:"
   ]
  },
  {
   "cell_type": "code",
   "execution_count": null,
   "metadata": {},
   "outputs": [],
   "source": [
    "# Grab percentage data\n",
    "percentage_df = baby_name_df.loc[chosen_name]['percentage'].to_frame().reset_index()\n",
    "percentage_df.sort_values(by=['year'], ascending=True, inplace=True)\n",
    "print(f\"There are {len(percentage_df)} years with a character named {chosen_name}. \\nThe earliest year is {percentage_df['year'].min()} and the latest is {percentage_df['year'].max()}.\")\n",
    "\n",
    "x_values = percentage_df['year'].values\n",
    "y_values = percentage_df['percentage'].values\n",
    "\n",
    "# Plotting\n",
    "plt.plot(x_values, y_values)\n",
    "plt.xlabel('Years')\n",
    "plt.ylabel('Percentage of total births')\n",
    "plt.title(f'Name \"{chosen_name}\" with ten most reviewed \\n movies with a character of the same name')\n",
    "\n",
    "# Draw vertical lines for each movie release\n",
    "vertical_lines_series = release_serie.values\n",
    "for x_value in vertical_lines_series:\n",
    "    plt.axvline(x=x_value, color='r', linestyle='--')\n",
    "\n",
    "# Labeling\n",
    "plt.axvline(x=x_value, color='r', linestyle='--', label='Movie releases')\n",
    "plt.legend(loc='upper left', bbox_to_anchor=(1.05, 1))\n",
    "plt.show()"
   ]
  },
  {
   "cell_type": "markdown",
   "metadata": {},
   "source": [
    "We note that there are not 10 marks on the graphs, that's because some movies had the same release year. We won't be able to distinguish them in our analysis and they will be considered as having the same impact (which would be in reality their \"cumulated\" impact)."
   ]
  },
  {
   "cell_type": "markdown",
   "metadata": {},
   "source": [
    "## 2. Parallel questions \n",
    "### a. Distribution of months in movies\n",
    "Looking at studies showing that baby conception rates are at the highest in fall or winter season leading to higher birth in the summer, will movies released in summer show the highest correlation with newborn naming?"
   ]
  },
  {
   "cell_type": "code",
   "execution_count": null,
   "metadata": {},
   "outputs": [],
   "source": [
    "# How many movies have months?\n",
    "\n",
    "# Plot the distribution of months for movies"
   ]
  },
  {
   "cell_type": "markdown",
   "metadata": {},
   "source": [
    "### b. Movie genres\n",
    "Does the genre of a movie play a role in the influence of character names on baby naming trends?"
   ]
  },
  {
   "cell_type": "code",
   "execution_count": null,
   "metadata": {},
   "outputs": [],
   "source": [
    "# Import the genres\n",
    "movie_genres_df = pd.read_csv(os.path.join(folder_processed_data_path, 'movie_genres_df.csv'))"
   ]
  },
  {
   "cell_type": "code",
   "execution_count": null,
   "metadata": {},
   "outputs": [],
   "source": [
    "# Plot the number of movies per genre\n",
    "plt.figure(figsize=(10, 12))\n",
    "sns.countplot(y='genre', data=movie_genres_df, order=movie_genres_df['genre'].value_counts().index[:40]) # only take top 40 genres\n",
    "\n",
    "plt.title('Number of Movies per Genre')\n",
    "plt.xlabel('Number of Movies')\n",
    "plt.ylabel('Genre')\n",
    "plt.show()\n",
    "\n",
    "# Count the number of genres in movies\n",
    "genre_counts = movie_genres_df.groupby('wiki_ID')['genre'].count()\n",
    "genre_count_frequency = genre_counts.value_counts().sort_index()\n",
    "\n",
    "genre_count_frequency.plot(kind='bar')\n",
    "plt.title('Number of Genres per Movie')\n",
    "plt.xlabel('Number of Genres')\n",
    "plt.ylabel('Number of Movies')\n",
    "plt.yscale('log')\n",
    "plt.show()"
   ]
  },
  {
   "cell_type": "code",
   "execution_count": null,
   "metadata": {},
   "outputs": [],
   "source": [
    "top_5_genres = movie_genres_df['genre'].value_counts().index[:5].values\n",
    "print(top_5_genres)"
   ]
  },
  {
   "cell_type": "markdown",
   "metadata": {},
   "source": [
    "We can see that the most popular genres are these one above."
   ]
  },
  {
   "cell_type": "markdown",
   "metadata": {},
   "source": [
    "### c. Movie popularity\n",
    "We compute the movie's popularity based on their number of votes on IMDB, which we now have."
   ]
  },
  {
   "cell_type": "code",
   "execution_count": null,
   "metadata": {},
   "outputs": [],
   "source": [
    "# Plot number of movies per year \n",
    "movie_df"
   ]
  },
  {
   "cell_type": "code",
   "execution_count": null,
   "metadata": {},
   "outputs": [],
   "source": [
    "# Show the total number of ratings per year\n",
    "movie_df"
   ]
  },
  {
   "cell_type": "code",
   "execution_count": null,
   "metadata": {},
   "outputs": [],
   "source": [
    "# Now we want to normalize the number of ratings by the number of movies released in that year \n",
    "# to see if the average number of ratings per movie has changed over time"
   ]
  },
  {
   "cell_type": "code",
   "execution_count": null,
   "metadata": {},
   "outputs": [],
   "source": [
    "# Which movie genres are the most popular? (sum of ratings)"
   ]
  },
  {
   "cell_type": "markdown",
   "metadata": {},
   "source": [
    "### d. Importance of characters in movies\n",
    "Importance is based on the TMDB dataset, represented by orders. The lower the number, the more important the character."
   ]
  },
  {
   "cell_type": "code",
   "execution_count": null,
   "metadata": {},
   "outputs": [],
   "source": [
    "# Plot the histogram of number of characters for movies\n",
    "name_by_movie_df\n",
    "\n",
    "# Plot a boxplot of the mean number of characters per movie (cause why not)\n"
   ]
  },
  {
   "cell_type": "code",
   "execution_count": null,
   "metadata": {},
   "outputs": [],
   "source": [
    "# How many movies have ordered characters? (all characters in the movie have NaN values for orders)"
   ]
  },
  {
   "cell_type": "code",
   "execution_count": null,
   "metadata": {},
   "outputs": [],
   "source": []
  },
  {
   "cell_type": "markdown",
   "metadata": {},
   "source": [
    "### e. Genders of movie characters\n",
    "We can check how the character genders are distributed in the movies. It's important to remember that this doesn't show the number of male or female characters, but rather the number of names derived from the character names. For example a female character that has 3 names will contribute with 3 entries in our dataset."
   ]
  },
  {
   "cell_type": "code",
   "execution_count": null,
   "metadata": {},
   "outputs": [],
   "source": [
    "# Count the number of genders in all movies, keep nan values\n",
    "names_by_gender = name_by_movie_df.groupby('gender', dropna=False).count()\n",
    "names_by_gender = names_by_gender.rename(columns={'order': 'genders_count'})\n",
    "display(names_by_gender)\n",
    "\n",
    "# Create pie chart of the counts\n",
    "plt.figure(figsize=(5, 5))\n",
    "plt.pie(names_by_gender.genders_count, labels=names_by_gender.index, autopct='%1.1f%%', startangle=140, colors=sns.color_palette('twilight_shifted', 3))\n",
    "\n",
    "plt.show()"
   ]
  },
  {
   "cell_type": "markdown",
   "metadata": {},
   "source": [
    "Let's check the ratio of M/F/NaN for some movie genres, for exmple the top 10:"
   ]
  },
  {
   "cell_type": "code",
   "execution_count": null,
   "metadata": {},
   "outputs": [],
   "source": [
    "# Grab top 10 genres and order them by count\n",
    "top_genres = movie_genres_df['genre'].value_counts().nlargest(10)\n",
    "display(top_genres)\n",
    "\n",
    "# Merge on the genre column to keep only the top 10 genre movies\n",
    "top_genre_movies_ids_df = pd.merge(movie_genres_df, top_genres, on='genre', how='inner').drop(columns=['count'])\n",
    "display(top_genre_movies_ids_df.head())\n",
    "\n",
    "# Merge to keep the character names with the genres only\n",
    "names_per_genre = pd.merge(top_genre_movies_ids_df, name_by_movie_df, on='wiki_ID', how='left')\n",
    "display(names_per_genre.head())\n",
    "\n",
    "# Group by genre, count different genders\n",
    "gender_counts_per_genre = names_per_genre.groupby(['genre', 'gender'], dropna=False).count()\n",
    "gender_counts_per_genre = gender_counts_per_genre.rename(columns={'wiki_ID': 'count'}).drop(columns=['index', 'char_words', 'order'])\n",
    "display(gender_counts_per_genre.head(9))"
   ]
  },
  {
   "cell_type": "code",
   "execution_count": null,
   "metadata": {},
   "outputs": [],
   "source": [
    "# Pl"
   ]
  }
 ],
 "metadata": {
  "kernelspec": {
   "display_name": "ada",
   "language": "python",
   "name": "python3"
  },
  "language_info": {
   "codemirror_mode": {
    "name": "ipython",
    "version": 3
   },
   "file_extension": ".py",
   "mimetype": "text/x-python",
   "name": "python",
   "nbconvert_exporter": "python",
   "pygments_lexer": "ipython3",
   "version": "3.9.18"
  }
 },
 "nbformat": 4,
 "nbformat_minor": 2
}
