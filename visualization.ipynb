{
 "cells": [
  {
   "cell_type": "code",
   "execution_count": null,
   "metadata": {},
   "outputs": [],
   "source": [
    "import pandas as pd\n",
    "import os\n",
    "import numpy as np\n",
    "import matplotlib.pyplot as plt"
   ]
  },
  {
   "cell_type": "markdown",
   "metadata": {},
   "source": [
    "## Import processed data"
   ]
  },
  {
   "cell_type": "code",
   "execution_count": null,
   "metadata": {},
   "outputs": [],
   "source": [
    "folder_processed_data_path = './data/processed_data/'\n",
    "\n",
    "movie_df = pd.read_csv(os.path.join(folder_processed_data_path, 'movie_df.csv'))\n",
    "movie_df.set_index(['wiki_ID'], inplace=True)\n",
    "# Verify the indexes are unique\n",
    "print(f\"Is the indexing unique in movie_df ? {movie_df.index.is_unique}\")\n",
    "\n",
    "character_df = pd.read_csv(os.path.join(folder_processed_data_path, 'character_df.csv'))\n",
    "character_df.set_index(['wiki_ID', 'char_name'], inplace=True)\n",
    "# Verify the indexes are unique\n",
    "print(f\"Is the indexing unique in character_df ? {character_df.index.is_unique}\")\n",
    "\n",
    "name_by_movie_df = pd.read_csv(os.path.join(folder_processed_data_path, 'name_by_movie_df.csv'))\n",
    "# Verify the indexes are unique\n",
    "print(f\"Is the indexing unique in name_by_movie_df ? {name_by_movie_df.index.is_unique}\")\n",
    "\n",
    "baby_name_df = pd.read_csv(os.path.join(folder_processed_data_path, 'baby_name_df.csv'))\n",
    "baby_name_df.set_index(['name', 'year'], inplace=True)\n",
    "# Verify the indexes are unique\n",
    "print(f\"Is the indexing unique in baby_name_df ? {baby_name_df.index.is_unique}\")\n",
    "\n",
    "rating_df = pd.read_csv(os.path.join(folder_processed_data_path, 'rating_df.csv'))\n",
    "rating_df.set_index(['tconst'], inplace=True)\n",
    "# Verify the indexes are unique\n",
    "print(f\"Is the indexing unique in rating_df ? {rating_df.index.is_unique}\")\n",
    "\n",
    "print(\"movie_df :\")\n",
    "display(movie_df.head())\n",
    "print(\"character_df :\")\n",
    "display(character_df.head())\n",
    "print(\"name_by_movie_df :\")\n",
    "display(name_by_movie_df.head())\n",
    "print(\"baby_name_df :\")\n",
    "display(baby_name_df.head())\n",
    "print(\"rating_df :\")\n",
    "display(rating_df.head())"
   ]
  },
  {
   "cell_type": "markdown",
   "metadata": {},
   "source": [
    "## Visualisation for a specific name"
   ]
  },
  {
   "cell_type": "markdown",
   "metadata": {},
   "source": [
    "Let's chose a name and visualize the variation of the baby names. <br>\n",
    "To do so, we first find all the movies where a character is named as the chosen name"
   ]
  },
  {
   "cell_type": "code",
   "execution_count": null,
   "metadata": {},
   "outputs": [],
   "source": [
    "chosen_name = \"Mia\"\n",
    "\n",
    "filt_name_by_movie_df = name_by_movie_df.query(\"char_words == @chosen_name\").copy(deep=True)\n",
    "filt_name_by_movie_df.reset_index(inplace=True)\n",
    "filt_name_by_movie_df.drop('char_words', axis=1, inplace=True)\n",
    "display(filt_name_by_movie_df.head())\n",
    "print(f\"There are {len(filt_name_by_movie_df)} movies with a character named {chosen_name}.\")"
   ]
  },
  {
   "cell_type": "code",
   "execution_count": null,
   "metadata": {},
   "outputs": [],
   "source": [
    "filt_movie_df = pd.merge(movie_df, filt_name_by_movie_df, on='wiki_ID', how='inner').copy(deep=True)\n",
    "display(filt_movie_df.head())"
   ]
  },
  {
   "cell_type": "markdown",
   "metadata": {},
   "source": [
    "There are too many movies. Lets keep only the 10 with the largest number of ratings."
   ]
  },
  {
   "cell_type": "code",
   "execution_count": null,
   "metadata": {},
   "outputs": [],
   "source": [
    "sorted_filt_movie_df = filt_movie_df.sort_values(by='numVotes', ascending=False).copy(deep=True)\n",
    "\n",
    "filt_movie_df = sorted_filt_movie_df.head(10).copy(deep=True)\n",
    "display(filt_movie_df)"
   ]
  },
  {
   "cell_type": "code",
   "execution_count": null,
   "metadata": {},
   "outputs": [],
   "source": []
  },
  {
   "cell_type": "code",
   "execution_count": null,
   "metadata": {},
   "outputs": [],
   "source": [
    "display(baby_name_df.loc[chosen_name].sort_values(by=['year']))\n",
    "\n",
    "percentage_df = baby_name_df.loc[chosen_name]['percentage'].to_frame().reset_index()\n",
    "percentage_df.sort_values(by=['year'], ascending=True, inplace=True)\n",
    "\n",
    "x_values = percentage_df['year'].values\n",
    "y_values = percentage_df['percentage'].values\n",
    "\n",
    "# Create a scatter plot\n",
    "plt.plot(x_values, y_values)\n",
    "plt.xlabel('Years')\n",
    "plt.ylabel('Percentage of total births')\n",
    "plt.title(f'Given name {chosen_name} with ten most reviewed \\n movies with a character of the same name')\n",
    "\n",
    "# Draw vertical lines for each movie release\n",
    "vertical_lines_series = filt_movie_df['release'].values\n",
    "for x_value in vertical_lines_series:\n",
    "    plt.axvline(x=x_value, color='r', linestyle='--', label=f'x={x_value}')\n",
    "\n",
    "plt.show()"
   ]
  },
  {
   "cell_type": "code",
   "execution_count": null,
   "metadata": {},
   "outputs": [],
   "source": []
  }
 ],
 "metadata": {
  "kernelspec": {
   "display_name": "ada",
   "language": "python",
   "name": "python3"
  },
  "language_info": {
   "codemirror_mode": {
    "name": "ipython",
    "version": 3
   },
   "file_extension": ".py",
   "mimetype": "text/x-python",
   "name": "python",
   "nbconvert_exporter": "python",
   "pygments_lexer": "ipython3",
   "version": "3.9.18"
  }
 },
 "nbformat": 4,
 "nbformat_minor": 2
}
