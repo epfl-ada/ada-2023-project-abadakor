{
 "cells": [
  {
   "cell_type": "code",
   "execution_count": 36,
   "metadata": {},
   "outputs": [],
   "source": [
    "import pandas as pd\n",
    "import numpy as np\n",
    "import plotly as pl\n",
    "import plotly.graph_objects as go\n",
    "import plotly.express as px\n",
    "\n",
    "pl.io.templates.default = 'seaborn'"
   ]
  },
  {
   "cell_type": "code",
   "execution_count": 2,
   "metadata": {},
   "outputs": [],
   "source": [
    "data_dir = 'data/processed_data/'"
   ]
  },
  {
   "cell_type": "code",
   "execution_count": 3,
   "metadata": {},
   "outputs": [],
   "source": [
    "movie_genres = pd.read_csv(data_dir + 'movie_genres_df.csv')\n",
    "char_names = pd.read_csv(data_dir + 'name_by_movie_ordered_df.csv')\n",
    "baby_names = pd.read_csv(data_dir + 'baby_name_df.csv')"
   ]
  },
  {
   "cell_type": "markdown",
   "metadata": {},
   "source": [
    "### Name occurrence per genre"
   ]
  },
  {
   "cell_type": "code",
   "execution_count": 4,
   "metadata": {},
   "outputs": [],
   "source": [
    "names_interest = char_names.merge(baby_names.groupby('name').sum(), how='inner', left_on='char_words', right_index=True)"
   ]
  },
  {
   "cell_type": "code",
   "execution_count": 5,
   "metadata": {},
   "outputs": [],
   "source": [
    "to_keep = np.logical_and(names_interest.number > 10, names_interest.order.notna())"
   ]
  },
  {
   "cell_type": "code",
   "execution_count": 6,
   "metadata": {},
   "outputs": [],
   "source": [
    "genres_characters = movie_genres.merge(names_interest[to_keep], how='inner', on='wiki_ID')"
   ]
  },
  {
   "cell_type": "code",
   "execution_count": 7,
   "metadata": {},
   "outputs": [],
   "source": [
    "name_counts = genres_characters.value_counts(['genre', 'char_words'])"
   ]
  },
  {
   "cell_type": "markdown",
   "metadata": {},
   "source": [
    "### Baby name race"
   ]
  },
  {
   "cell_type": "code",
   "execution_count": 48,
   "metadata": {},
   "outputs": [
    {
     "data": {
      "text/plain": [
       "Index(['James', 'John', 'Robert', 'Michael', 'William', 'Mary', 'David',\n",
       "       'Joseph', 'Richard', 'Charles', 'Thomas', 'Christopher', 'Daniel',\n",
       "       'Elizabeth', 'Matthew', 'Patricia', 'George', 'Anthony', 'Jennifer',\n",
       "       'Linda'],\n",
       "      dtype='object', name='name')"
      ]
     },
     "execution_count": 48,
     "metadata": {},
     "output_type": "execute_result"
    }
   ],
   "source": [
    "most_popular = baby_names.groupby('name').sum().sort_values('number', ascending=False).head(20).index\n"
   ]
  },
  {
   "cell_type": "code",
   "execution_count": 58,
   "metadata": {},
   "outputs": [
    {
     "data": {
      "application/vnd.plotly.v1+json": {
       "config": {
        "plotlyServerURL": "https://plot.ly"
       },
       "data": [
        {
         "alignmentgroup": "True",
         "hovertemplate": "year=1880<br>name=%{x}<br>percentage=%{y}<extra></extra>",
         "legendgroup": "",
         "marker": {
          "color": "rgb(76,114,176)",
          "pattern": {
           "shape": ""
          }
         },
         "name": "",
         "offsetgroup": "",
         "orientation": "v",
         "showlegend": false,
         "textposition": "auto",
         "type": "bar",
         "x": [
          "Linda",
          "Christopher",
          "Matthew",
          "Anthony",
          "Michael",
          "Daniel",
          "Richard",
          "David",
          "Elizabeth",
          "Robert",
          "Thomas",
          "Joseph",
          "George",
          "Charles",
          "James",
          "Mary",
          "William",
          "John"
         ],
         "xaxis": "x",
         "y": [
          0.0134005677870203,
          0.0471501459172936,
          0.0560838577753072,
          0.0645212523078755,
          0.1756963332075996,
          0.3191320402612614,
          0.3613190129241032,
          0.4312997558118758,
          0.9668261499672433,
          1.204562148855492,
          1.26163864128169,
          1.3112703738262097,
          2.5570268606936533,
          2.6597645470608087,
          2.952591769073475,
          3.519882472057335,
          4.74578626590697,
          4.814774374143853
         ],
         "yaxis": "y"
        }
       ],
       "frames": [
        {
         "data": [
          {
           "alignmentgroup": "True",
           "hovertemplate": "year=1880<br>name=%{x}<br>percentage=%{y}<extra></extra>",
           "legendgroup": "",
           "marker": {
            "color": "rgb(76,114,176)",
            "pattern": {
             "shape": ""
            }
           },
           "name": "",
           "offsetgroup": "",
           "orientation": "v",
           "showlegend": false,
           "textposition": "auto",
           "type": "bar",
           "x": [
            "Linda",
            "Christopher",
            "Matthew",
            "Anthony",
            "Michael",
            "Daniel",
            "Richard",
            "David",
            "Elizabeth",
            "Robert",
            "Thomas",
            "Joseph",
            "George",
            "Charles",
            "James",
            "Mary",
            "William",
            "John"
           ],
           "xaxis": "x",
           "y": [
            0.0134005677870203,
            0.0471501459172936,
            0.0560838577753072,
            0.0645212523078755,
            0.1756963332075996,
            0.3191320402612614,
            0.3613190129241032,
            0.4312997558118758,
            0.9668261499672433,
            1.204562148855492,
            1.26163864128169,
            1.3112703738262097,
            2.5570268606936533,
            2.6597645470608087,
            2.952591769073475,
            3.519882472057335,
            4.74578626590697,
            4.814774374143853
           ],
           "yaxis": "y"
          }
         ],
         "name": "1880"
        },
        {
         "data": [
          {
           "alignmentgroup": "True",
           "hovertemplate": "year=1881<br>name=%{x}<br>percentage=%{y}<extra></extra>",
           "legendgroup": "",
           "marker": {
            "color": "rgb(76,114,176)",
            "pattern": {
             "shape": ""
            }
           },
           "name": "",
           "offsetgroup": "",
           "orientation": "v",
           "showlegend": false,
           "textposition": "auto",
           "type": "bar",
           "x": [
            "Linda",
            "Christopher",
            "Matthew",
            "Anthony",
            "Michael",
            "Daniel",
            "Richard",
            "David",
            "Elizabeth",
            "Robert",
            "Thomas",
            "Joseph",
            "Charles",
            "George",
            "James",
            "Mary",
            "William",
            "John"
           ],
           "xaxis": "x",
           "y": [
            0.0197207950594218,
            0.0352898437905443,
            0.0415174632829934,
            0.0664279412527894,
            0.1546525507291504,
            0.2734962893767191,
            0.3326586745549847,
            0.3892262182780632,
            0.9611292750012974,
            1.1152628574394106,
            1.1899942913487984,
            1.2797758056982718,
            2.4147594581971044,
            2.436037158129638,
            2.8361617105194874,
            3.605791686127978,
            4.43925476153407,
            4.564326119674088
           ],
           "yaxis": "y"
          }
         ],
         "name": "1881"
        },
        {
         "data": [
          {
           "alignmentgroup": "True",
           "hovertemplate": "year=1882<br>name=%{x}<br>percentage=%{y}<extra></extra>",
           "legendgroup": "",
           "marker": {
            "color": "rgb(76,114,176)",
            "pattern": {
             "shape": ""
            }
           },
           "name": "",
           "offsetgroup": "",
           "orientation": "v",
           "showlegend": false,
           "textposition": "auto",
           "type": "bar",
           "x": [
            "Linda",
            "Christopher",
            "Matthew",
            "Anthony",
            "Michael",
            "Daniel",
            "Richard",
            "David",
            "Elizabeth",
            "Robert",
            "Thomas",
            "Joseph",
            "Charles",
            "George",
            "James",
            "Mary",
            "William",
            "John"
           ],
           "xaxis": "x",
           "y": [
            0.0162504006175152,
            0.0401746015266348,
            0.0492026018696988,
            0.0627446023842949,
            0.1448994055061774,
            0.2681316101890012,
            0.3367444127962876,
            0.3782732143743821,
            0.989920237616969,
            1.13391684308884,
            1.183570844975692,
            1.207946445901965,
            2.3084596877214683,
            2.3585650896254733,
            2.667774101375416,
            3.6915493402788746,
            4.211110760022209,
            4.332085964619266
           ],
           "yaxis": "y"
          }
         ],
         "name": "1882"
        },
        {
         "data": [
          {
           "alignmentgroup": "True",
           "hovertemplate": "year=1883<br>name=%{x}<br>percentage=%{y}<extra></extra>",
           "legendgroup": "",
           "marker": {
            "color": "rgb(76,114,176)",
            "pattern": {
             "shape": ""
            }
           },
           "name": "",
           "offsetgroup": "",
           "orientation": "v",
           "showlegend": false,
           "textposition": "auto",
           "type": "bar",
           "x": [
            "Linda",
            "Matthew",
            "Christopher",
            "Anthony",
            "Michael",
            "Daniel",
            "Richard",
            "David",
            "Elizabeth",
            "Thomas",
            "Robert",
            "Joseph",
            "George",
            "Charles",
            "James",
            "Mary",
            "William",
            "John"
           ],
           "xaxis": "x",
           "y": [
            0.0225863698172347,
            0.039641383760861,
            0.0410242227292631,
            0.0659153241605015,
            0.1415105210998179,
            0.2834819885224365,
            0.2991541634976606,
            0.3411002788725253,
            1.04542626011201,
            1.067551683606444,
            1.0809191269676646,
            1.1671160893313972,
            2.1931826038857776,
            2.2328239876466385,
            2.419046302058125,
            3.70785222060891,
            3.884394662241582,
            4.118094447901542
           ],
           "yaxis": "y"
          }
         ],
         "name": "1883"
        },
        {
         "data": [
          {
           "alignmentgroup": "True",
           "hovertemplate": "year=1884<br>name=%{x}<br>percentage=%{y}<extra></extra>",
           "legendgroup": "",
           "marker": {
            "color": "rgb(76,114,176)",
            "pattern": {
             "shape": ""
            }
           },
           "name": "",
           "offsetgroup": "",
           "orientation": "v",
           "showlegend": false,
           "textposition": "auto",
           "type": "bar",
           "x": [
            "Patricia",
            "Linda",
            "Christopher",
            "Matthew",
            "Anthony",
            "Michael",
            "Daniel",
            "Richard",
            "David",
            "Robert",
            "Elizabeth",
            "Thomas",
            "Joseph",
            "Charles",
            "George",
            "James",
            "William",
            "Mary",
            "John"
           ],
           "xaxis": "x",
           "y": [
            0.0024644604269266,
            0.0135545323480968,
            0.0279305515051692,
            0.0480569783250705,
            0.073523069403313,
            0.1532072898739428,
            0.2353559707714993,
            0.307646809961349,
            0.3125757308152024,
            1.0165899261072615,
            1.053556832511162,
            1.0605394703874542,
            1.115579086588817,
            1.9801939530355992,
            2.0541277658434,
            2.3519167340970424,
            3.668349345480385,
            3.8006087217254505,
            3.872488817510813
           ],
           "yaxis": "y"
          }
         ],
         "name": "1884"
        },
        {
         "data": [
          {
           "alignmentgroup": "True",
           "hovertemplate": "year=1885<br>name=%{x}<br>percentage=%{y}<extra></extra>",
           "legendgroup": "",
           "marker": {
            "color": "rgb(76,114,176)",
            "pattern": {
             "shape": ""
            }
           },
           "name": "",
           "offsetgroup": "",
           "orientation": "v",
           "showlegend": false,
           "textposition": "auto",
           "type": "bar",
           "x": [
            "Patricia",
            "Linda",
            "Christopher",
            "Matthew",
            "Anthony",
            "Michael",
            "Daniel",
            "Richard",
            "David",
            "Thomas",
            "Robert",
            "Joseph",
            "Elizabeth",
            "Charles",
            "George",
            "James",
            "William",
            "John",
            "Mary"
           ],
           "xaxis": "x",
           "y": [
            0.0020759464239746,
            0.0249113570876962,
            0.0294784392204406,
            0.0460860106122381,
            0.0635239605736255,
            0.153620035374127,
            0.2221262673652918,
            0.2790071993821983,
            0.2976907171979706,
            0.944555622908484,
            0.9686366014265904,
            1.0603934333662717,
            1.0757554369036844,
            1.9194200636069985,
            1.9526352063905936,
            2.1593994702184727,
            3.353483853288714,
            3.6540808954802495,
            3.8056249844304015
           ],
           "yaxis": "y"
          }
         ],
         "name": "1885"
        },
        {
         "data": [
          {
           "alignmentgroup": "True",
           "hovertemplate": "year=1886<br>name=%{x}<br>percentage=%{y}<extra></extra>",
           "legendgroup": "",
           "marker": {
            "color": "rgb(76,114,176)",
            "pattern": {
             "shape": ""
            }
           },
           "name": "",
           "offsetgroup": "",
           "orientation": "v",
           "showlegend": false,
           "textposition": "auto",
           "type": "bar",
           "x": [
            "Patricia",
            "Linda",
            "Christopher",
            "Matthew",
            "Anthony",
            "Michael",
            "Daniel",
            "David",
            "Richard",
            "Thomas",
            "Robert",
            "Joseph",
            "Elizabeth",
            "Charles",
            "George",
            "James",
            "William",
            "John",
            "Mary"
           ],
           "xaxis": "x",
           "y": [
            0.0031333597057775,
            0.0191918281978873,
            0.0258502175726645,
            0.0438670358808853,
            0.0681505736006611,
            0.1363011472013222,
            0.2173768295883157,
            0.2639855552117564,
            0.2851357332257547,
            0.9184660637560368,
            0.9631164395633665,
            1.0191252443041394,
            1.0539838710309146,
            1.7840566824770774,
            1.8443738568132948,
            2.1087510819882733,
            3.245768985222292,
            3.5540132462781564,
            3.885757705127352
           ],
           "yaxis": "y"
          }
         ],
         "name": "1886"
        },
        {
         "data": [
          {
           "alignmentgroup": "True",
           "hovertemplate": "year=1887<br>name=%{x}<br>percentage=%{y}<extra></extra>",
           "legendgroup": "",
           "marker": {
            "color": "rgb(76,114,176)",
            "pattern": {
             "shape": ""
            }
           },
           "name": "",
           "offsetgroup": "",
           "orientation": "v",
           "showlegend": false,
           "textposition": "auto",
           "type": "bar",
           "x": [
            "Patricia",
            "Linda",
            "Christopher",
            "Matthew",
            "Anthony",
            "Michael",
            "Daniel",
            "Richard",
            "David",
            "Robert",
            "Thomas",
            "Joseph",
            "Elizabeth",
            "Charles",
            "George",
            "James",
            "William",
            "John",
            "Mary"
           ],
           "xaxis": "x",
           "y": [
            0.0040421515564304,
            0.0202107577821522,
            0.0226360487160105,
            0.0436552368094489,
            0.0618449188133859,
            0.1390500135412077,
            0.2247436265375333,
            0.2542513328994757,
            0.2756747361485571,
            0.8621909269866165,
            0.8722963058776926,
            0.9980072192826798,
            1.0893598444580082,
            1.6427303925333376,
            1.7454010420666712,
            1.93497795006326,
            3.037272679501845,
            3.300820960981111,
            4.015877571313658
           ],
           "yaxis": "y"
          }
         ],
         "name": "1887"
        },
        {
         "data": [
          {
           "alignmentgroup": "True",
           "hovertemplate": "year=1888<br>name=%{x}<br>percentage=%{y}<extra></extra>",
           "legendgroup": "",
           "marker": {
            "color": "rgb(76,114,176)",
            "pattern": {
             "shape": ""
            }
           },
           "name": "",
           "offsetgroup": "",
           "orientation": "v",
           "showlegend": false,
           "textposition": "auto",
           "type": "bar",
           "x": [
            "Patricia",
            "Linda",
            "Christopher",
            "Matthew",
            "Anthony",
            "Michael",
            "Daniel",
            "Richard",
            "David",
            "Thomas",
            "Robert",
            "Joseph",
            "Elizabeth",
            "Charles",
            "George",
            "James",
            "William",
            "John",
            "Mary"
           ],
           "xaxis": "x",
           "y": [
            0.0040070390318993,
            0.0257118337880209,
            0.0263796736266708,
            0.038066870803044,
            0.0644465444297148,
            0.1556066824054255,
            0.1889986743379202,
            0.2604575370734591,
            0.2674698553792829,
            0.8224447612973456,
            0.9459951314475764,
            1.005432877087417,
            1.08056485893553,
            1.5423761073619324,
            1.6522357608198404,
            1.8722889876549804,
            2.9207975343353154,
            3.105121329802687,
            3.94159072771168
           ],
           "yaxis": "y"
          }
         ],
         "name": "1888"
        },
        {
         "data": [
          {
           "alignmentgroup": "True",
           "hovertemplate": "year=1889<br>name=%{x}<br>percentage=%{y}<extra></extra>",
           "legendgroup": "",
           "marker": {
            "color": "rgb(76,114,176)",
            "pattern": {
             "shape": ""
            }
           },
           "name": "",
           "offsetgroup": "",
           "orientation": "v",
           "showlegend": false,
           "textposition": "auto",
           "type": "bar",
           "x": [
            "Patricia",
            "Christopher",
            "Linda",
            "Matthew",
            "Anthony",
            "Michael",
            "Daniel",
            "Richard",
            "David",
            "Thomas",
            "Robert",
            "Joseph",
            "Elizabeth",
            "Charles",
            "George",
            "James",
            "William",
            "John",
            "Mary"
           ],
           "xaxis": "x",
           "y": [
            0.0058834522713586,
            0.0245720653686155,
            0.0256103216517965,
            0.0408380804717836,
            0.0757927086722086,
            0.1304742062530715,
            0.1782339952793947,
            0.2477971662525177,
            0.261986668789324,
            0.7769617852470704,
            0.8745578758660787,
            0.9468897302610176,
            1.063866604832737,
            1.462903103001945,
            1.5476940327950552,
            1.7463470683103417,
            2.705695873969531,
            2.9763346784520293,
            4.045392564700671
           ],
           "yaxis": "y"
          }
         ],
         "name": "1889"
        },
        {
         "data": [
          {
           "alignmentgroup": "True",
           "hovertemplate": "year=1890<br>name=%{x}<br>percentage=%{y}<extra></extra>",
           "legendgroup": "",
           "marker": {
            "color": "rgb(76,114,176)",
            "pattern": {
             "shape": ""
            }
           },
           "name": "",
           "offsetgroup": "",
           "orientation": "v",
           "showlegend": false,
           "textposition": "auto",
           "type": "bar",
           "x": [
            "Patricia",
            "Linda",
            "Christopher",
            "Matthew",
            "Anthony",
            "Michael",
            "Daniel",
            "David",
            "Richard",
            "Thomas",
            "Robert",
            "Joseph",
            "Elizabeth",
            "Charles",
            "George",
            "James",
            "William",
            "John",
            "Mary"
           ],
           "xaxis": "x",
           "y": [
            0.0036496229275947,
            0.0179163307354653,
            0.0218977375655687,
            0.0285334156157411,
            0.0627071575741288,
            0.1307228575883955,
            0.1675508707668521,
            0.2425340327337998,
            0.2465154395639032,
            0.7329106406415373,
            0.847044303104502,
            0.8895126426256051,
            1.036492911436923,
            1.357327945162757,
            1.4913686417762382,
            1.702051419869211,
            2.497669218084877,
            2.839406637668753,
            4.018898411086891
           ],
           "yaxis": "y"
          }
         ],
         "name": "1890"
        },
        {
         "data": [
          {
           "alignmentgroup": "True",
           "hovertemplate": "year=1891<br>name=%{x}<br>percentage=%{y}<extra></extra>",
           "legendgroup": "",
           "marker": {
            "color": "rgb(76,114,176)",
            "pattern": {
             "shape": ""
            }
           },
           "name": "",
           "offsetgroup": "",
           "orientation": "v",
           "showlegend": false,
           "textposition": "auto",
           "type": "bar",
           "x": [
            "Patricia",
            "Christopher",
            "Linda",
            "Matthew",
            "Anthony",
            "Michael",
            "Daniel",
            "Richard",
            "David",
            "Thomas",
            "Robert",
            "Joseph",
            "Elizabeth",
            "Charles",
            "George",
            "James",
            "William",
            "John",
            "Mary"
           ],
           "xaxis": "x",
           "y": [
            0.0041859832351371,
            0.0216275800482085,
            0.0272088910283914,
            0.0394180087975414,
            0.0593014291644428,
            0.1161610347750557,
            0.1761601278120214,
            0.21243864918321,
            0.2347638931039414,
            0.6959197128415501,
            0.7845230246519529,
            0.90103289136327,
            1.0691698846412787,
            1.2798643741431814,
            1.3792814759776888,
            1.586138814180716,
            2.376591981749113,
            2.6943778756832746,
            4.095984595581695
           ],
           "yaxis": "y"
          }
         ],
         "name": "1891"
        },
        {
         "data": [
          {
           "alignmentgroup": "True",
           "hovertemplate": "year=1892<br>name=%{x}<br>percentage=%{y}<extra></extra>",
           "legendgroup": "",
           "marker": {
            "color": "rgb(76,114,176)",
            "pattern": {
             "shape": ""
            }
           },
           "name": "",
           "offsetgroup": "",
           "orientation": "v",
           "showlegend": false,
           "textposition": "auto",
           "type": "bar",
           "x": [
            "Patricia",
            "Linda",
            "Christopher",
            "Matthew",
            "Anthony",
            "Michael",
            "Daniel",
            "Richard",
            "David",
            "Thomas",
            "Robert",
            "Joseph",
            "Elizabeth",
            "Charles",
            "George",
            "James",
            "William",
            "John",
            "Mary"
           ],
           "xaxis": "x",
           "y": [
            0.0062803926142582,
            0.0248225041420684,
            0.029906631496468,
            0.0394767535753377,
            0.0762619103159934,
            0.1136451996865784,
            0.1594023458761745,
            0.2419446488064263,
            0.2446362456411084,
            0.7264320790492084,
            0.8155538409086831,
            0.9202270511463212,
            1.0374610466124758,
            1.3003403374664295,
            1.4355183118304653,
            1.620939427108567,
            2.340492980913588,
            2.719410001973838,
            3.954254816463002
           ],
           "yaxis": "y"
          }
         ],
         "name": "1892"
        },
        {
         "data": [
          {
           "alignmentgroup": "True",
           "hovertemplate": "year=1893<br>name=%{x}<br>percentage=%{y}<extra></extra>",
           "legendgroup": "",
           "marker": {
            "color": "rgb(76,114,176)",
            "pattern": {
             "shape": ""
            }
           },
           "name": "",
           "offsetgroup": "",
           "orientation": "v",
           "showlegend": false,
           "textposition": "auto",
           "type": "bar",
           "x": [
            "Patricia",
            "Linda",
            "Christopher",
            "Matthew",
            "Anthony",
            "Michael",
            "Daniel",
            "David",
            "Richard",
            "Thomas",
            "Robert",
            "Joseph",
            "Elizabeth",
            "Charles",
            "George",
            "James",
            "William",
            "John",
            "Mary"
           ],
           "xaxis": "x",
           "y": [
            0.0086094771894976,
            0.0252134689121003,
            0.0285957635222601,
            0.0332079834452052,
            0.0676458922031959,
            0.1251449005759125,
            0.1605052533184922,
            0.224461369583332,
            0.2250763322397247,
            0.6681569261706582,
            0.7933018267465708,
            0.929516055137552,
            1.0368270386780762,
            1.1518250554235094,
            1.3360063710131205,
            1.5537031513761326,
            2.230777036064485,
            2.4936735716723604,
            3.947752772712877
           ],
           "yaxis": "y"
          }
         ],
         "name": "1893"
        },
        {
         "data": [
          {
           "alignmentgroup": "True",
           "hovertemplate": "year=1894<br>name=%{x}<br>percentage=%{y}<extra></extra>",
           "legendgroup": "",
           "marker": {
            "color": "rgb(76,114,176)",
            "pattern": {
             "shape": ""
            }
           },
           "name": "",
           "offsetgroup": "",
           "orientation": "v",
           "showlegend": false,
           "textposition": "auto",
           "type": "bar",
           "x": [
            "Patricia",
            "Christopher",
            "Linda",
            "Matthew",
            "Anthony",
            "Michael",
            "Daniel",
            "David",
            "Richard",
            "Thomas",
            "Robert",
            "Joseph",
            "Elizabeth",
            "Charles",
            "George",
            "James",
            "William",
            "John",
            "Mary"
           ],
           "xaxis": "x",
           "y": [
            0.0106291889338332,
            0.0212583778676665,
            0.0277539933272313,
            0.0366116507720924,
            0.0758805987776432,
            0.1248929699725412,
            0.1520564528034485,
            0.2152410759101243,
            0.2385662405149251,
            0.6433611857450766,
            0.7434527148720068,
            0.883994212997136,
            1.014201777436594,
            1.1261035164900055,
            1.2982373261684723,
            1.5161356993120552,
            2.15772535356816,
            2.449732794000413,
            3.8970740204907135
           ],
           "yaxis": "y"
          }
         ],
         "name": "1894"
        },
        {
         "data": [
          {
           "alignmentgroup": "True",
           "hovertemplate": "year=1895<br>name=%{x}<br>percentage=%{y}<extra></extra>",
           "legendgroup": "",
           "marker": {
            "color": "rgb(76,114,176)",
            "pattern": {
             "shape": ""
            }
           },
           "name": "",
           "offsetgroup": "",
           "orientation": "v",
           "showlegend": false,
           "textposition": "auto",
           "type": "bar",
           "x": [
            "Patricia",
            "Christopher",
            "Linda",
            "Matthew",
            "Anthony",
            "Michael",
            "Daniel",
            "David",
            "Richard",
            "Thomas",
            "Robert",
            "Joseph",
            "Elizabeth",
            "Charles",
            "George",
            "James",
            "William",
            "John",
            "Mary"
           ],
           "xaxis": "x",
           "y": [
            0.0099709134211343,
            0.0170929944362303,
            0.0273487910979684,
            0.0319069229476299,
            0.0629591961734483,
            0.1176567783693853,
            0.1469997521515806,
            0.202836867309933,
            0.2091042986032174,
            0.6173419823885181,
            0.7563650038031913,
            0.8589229704205731,
            1.0312773309858954,
            1.042672660610049,
            1.23496884801764,
            1.529538118802009,
            2.0844906714982865,
            2.387606439500771,
            3.844214448708197
           ],
           "yaxis": "y"
          }
         ],
         "name": "1895"
        },
        {
         "data": [
          {
           "alignmentgroup": "True",
           "hovertemplate": "year=1896<br>name=%{x}<br>percentage=%{y}<extra></extra>",
           "legendgroup": "",
           "marker": {
            "color": "rgb(76,114,176)",
            "pattern": {
             "shape": ""
            }
           },
           "name": "",
           "offsetgroup": "",
           "orientation": "v",
           "showlegend": false,
           "textposition": "auto",
           "type": "bar",
           "x": [
            "Patricia",
            "Christopher",
            "Linda",
            "Matthew",
            "Anthony",
            "Michael",
            "Daniel",
            "David",
            "Richard",
            "Thomas",
            "Robert",
            "Joseph",
            "Elizabeth",
            "Charles",
            "George",
            "James",
            "William",
            "John",
            "Mary"
           ],
           "xaxis": "x",
           "y": [
            0.0103501135715164,
            0.0204204943438028,
            0.0290922111199382,
            0.0344071343053115,
            0.0786049165836792,
            0.1116133868928399,
            0.1569301003681283,
            0.2159537210056953,
            0.2346958185541171,
            0.587159145584138,
            0.7684259994852917,
            0.8601783576327892,
            0.9740296069194704,
            1.0207449843909098,
            1.2078862270758972,
            1.4641214711707378,
            2.179398238802296,
            2.290452160096676,
            3.879334459724072
           ],
           "yaxis": "y"
          }
         ],
         "name": "1896"
        },
        {
         "data": [
          {
           "alignmentgroup": "True",
           "hovertemplate": "year=1897<br>name=%{x}<br>percentage=%{y}<extra></extra>",
           "legendgroup": "",
           "marker": {
            "color": "rgb(76,114,176)",
            "pattern": {
             "shape": ""
            }
           },
           "name": "",
           "offsetgroup": "",
           "orientation": "v",
           "showlegend": false,
           "textposition": "auto",
           "type": "bar",
           "x": [
            "Patricia",
            "Christopher",
            "Linda",
            "Matthew",
            "Anthony",
            "Michael",
            "Daniel",
            "Richard",
            "David",
            "Thomas",
            "Robert",
            "Joseph",
            "Charles",
            "Elizabeth",
            "George",
            "James",
            "William",
            "John",
            "Mary"
           ],
           "xaxis": "x",
           "y": [
            0.0141227875500422,
            0.0164285487827021,
            0.023345832480682,
            0.0288220154082494,
            0.0717668183665411,
            0.1080825577809353,
            0.149874480122897,
            0.2043480892444885,
            0.2104007124802209,
            0.5752874275486587,
            0.7836705989503022,
            0.8205627786728614,
            0.9687079378712636,
            0.9955124122009354,
            1.182855512354557,
            1.4823162524462683,
            2.0838317140164344,
            2.1893202904106275,
            3.884054796415695
           ],
           "yaxis": "y"
          }
         ],
         "name": "1897"
        },
        {
         "data": [
          {
           "alignmentgroup": "True",
           "hovertemplate": "year=1898<br>name=%{x}<br>percentage=%{y}<extra></extra>",
           "legendgroup": "",
           "marker": {
            "color": "rgb(76,114,176)",
            "pattern": {
             "shape": ""
            }
           },
           "name": "",
           "offsetgroup": "",
           "orientation": "v",
           "showlegend": false,
           "textposition": "auto",
           "type": "bar",
           "x": [
            "Christopher",
            "Patricia",
            "Linda",
            "Matthew",
            "Anthony",
            "Michael",
            "Daniel",
            "David",
            "Richard",
            "Thomas",
            "Robert",
            "Joseph",
            "Charles",
            "Elizabeth",
            "George",
            "James",
            "William",
            "John",
            "Mary"
           ],
           "xaxis": "x",
           "y": [
            0.0112725976259385,
            0.0123212113585839,
            0.0267396501824587,
            0.0348664066104609,
            0.0851998657774422,
            0.1137745899920305,
            0.1371062455433916,
            0.2149658151923157,
            0.2317436349146428,
            0.5693972568264755,
            0.7717797072270458,
            0.8373180655173861,
            0.937460676985026,
            0.9631517134348392,
            1.2856004362233129,
            1.4025208674132796,
            1.950683696153685,
            2.153328299987417,
            3.7896900297806297
           ],
           "yaxis": "y"
          }
         ],
         "name": "1898"
        },
        {
         "data": [
          {
           "alignmentgroup": "True",
           "hovertemplate": "year=1899<br>name=%{x}<br>percentage=%{y}<extra></extra>",
           "legendgroup": "",
           "marker": {
            "color": "rgb(76,114,176)",
            "pattern": {
             "shape": ""
            }
           },
           "name": "",
           "offsetgroup": "",
           "orientation": "v",
           "showlegend": false,
           "textposition": "auto",
           "type": "bar",
           "x": [
            "Christopher",
            "Patricia",
            "Linda",
            "Matthew",
            "Anthony",
            "Michael",
            "Daniel",
            "David",
            "Richard",
            "Thomas",
            "Robert",
            "Joseph",
            "Charles",
            "Elizabeth",
            "George",
            "James",
            "William",
            "John",
            "Mary"
           ],
           "xaxis": "x",
           "y": [
            0.0123808709647941,
            0.0162130453110399,
            0.0288886989178529,
            0.0297730468439096,
            0.085781748827502,
            0.1105434907570902,
            0.14296958137917,
            0.1904295867442141,
            0.2207921988721616,
            0.5362096258323925,
            0.7743940005836696,
            0.7953235681670121,
            0.9344609751999364,
            0.9727827186623944,
            1.1941644828185938,
            1.3630749366954278,
            1.800827160093505,
            2.072321973392919,
            3.897616092773993
           ],
           "yaxis": "y"
          }
         ],
         "name": "1899"
        },
        {
         "data": [
          {
           "alignmentgroup": "True",
           "hovertemplate": "year=1900<br>name=%{x}<br>percentage=%{y}<extra></extra>",
           "legendgroup": "",
           "marker": {
            "color": "rgb(76,114,176)",
            "pattern": {
             "shape": ""
            }
           },
           "name": "",
           "offsetgroup": "",
           "orientation": "v",
           "showlegend": false,
           "textposition": "auto",
           "type": "bar",
           "x": [
            "Christopher",
            "Patricia",
            "Linda",
            "Matthew",
            "Anthony",
            "Michael",
            "Daniel",
            "David",
            "Richard",
            "Thomas",
            "Joseph",
            "Robert",
            "Elizabeth",
            "Charles",
            "George",
            "James",
            "William",
            "John",
            "Mary"
           ],
           "xaxis": "x",
           "y": [
            0.0122151374425055,
            0.0193221264999633,
            0.0277616760056944,
            0.0288721430459222,
            0.0901699236664956,
            0.1099362369825501,
            0.1343665118675612,
            0.1981073199766357,
            0.2534085785799791,
            0.5714463389012151,
            0.827964225193832,
            0.853949153935162,
            0.9132480938833254,
            0.9163574015959632,
            1.2086323265839147,
            1.6181725710199195,
            1.915111457576828,
            2.1931724044498635,
            3.726727387004426
           ],
           "yaxis": "y"
          }
         ],
         "name": "1900"
        },
        {
         "data": [
          {
           "alignmentgroup": "True",
           "hovertemplate": "year=1901<br>name=%{x}<br>percentage=%{y}<extra></extra>",
           "legendgroup": "",
           "marker": {
            "color": "rgb(76,114,176)",
            "pattern": {
             "shape": ""
            }
           },
           "name": "",
           "offsetgroup": "",
           "orientation": "v",
           "showlegend": false,
           "textposition": "auto",
           "type": "bar",
           "x": [
            "Christopher",
            "Patricia",
            "Linda",
            "Matthew",
            "Anthony",
            "Michael",
            "Daniel",
            "David",
            "Richard",
            "Thomas",
            "Robert",
            "Joseph",
            "Charles",
            "Elizabeth",
            "George",
            "James",
            "William",
            "John",
            "Mary"
           ],
           "xaxis": "x",
           "y": [
            0.0098319318010942,
            0.0196638636021884,
            0.0248690039674736,
            0.0257365273616878,
            0.0948492244340855,
            0.1110429944594172,
            0.1202965773310353,
            0.1943252403039801,
            0.2290261760725481,
            0.5297676194001365,
            0.7399974552647103,
            0.803905011971823,
            0.8883439556753381,
            0.932587648780262,
            1.0514383537876073,
            1.3779163244768835,
            1.741408626652632,
            2.006581610817438,
            3.81536788775404
           ],
           "yaxis": "y"
          }
         ],
         "name": "1901"
        },
        {
         "data": [
          {
           "alignmentgroup": "True",
           "hovertemplate": "year=1902<br>name=%{x}<br>percentage=%{y}<extra></extra>",
           "legendgroup": "",
           "marker": {
            "color": "rgb(76,114,176)",
            "pattern": {
             "shape": ""
            }
           },
           "name": "",
           "offsetgroup": "",
           "orientation": "v",
           "showlegend": false,
           "textposition": "auto",
           "type": "bar",
           "x": [
            "Christopher",
            "Patricia",
            "Linda",
            "Matthew",
            "Anthony",
            "Michael",
            "Daniel",
            "David",
            "Richard",
            "Thomas",
            "Joseph",
            "Robert",
            "Charles",
            "Elizabeth",
            "George",
            "James",
            "William",
            "John",
            "Mary"
           ],
           "xaxis": "x",
           "y": [
            0.0121531189557626,
            0.0219790449199962,
            0.0235305069143489,
            0.026892007902113,
            0.1086023396046874,
            0.1189454195670386,
            0.1295470765284486,
            0.1967770962837313,
            0.2363393771397246,
            0.5559405479763764,
            0.8031401590765699,
            0.8277049739871539,
            0.8755417188130282,
            0.9606135515033668,
            1.1002451309951078,
            1.4537198887084597,
            1.717209850749356,
            2.054394257522005,
            3.760226720312775
           ],
           "yaxis": "y"
          }
         ],
         "name": "1902"
        },
        {
         "data": [
          {
           "alignmentgroup": "True",
           "hovertemplate": "year=1903<br>name=%{x}<br>percentage=%{y}<extra></extra>",
           "legendgroup": "",
           "marker": {
            "color": "rgb(76,114,176)",
            "pattern": {
             "shape": ""
            }
           },
           "name": "",
           "offsetgroup": "",
           "orientation": "v",
           "showlegend": false,
           "textposition": "auto",
           "type": "bar",
           "x": [
            "Christopher",
            "Patricia",
            "Linda",
            "Matthew",
            "Anthony",
            "Daniel",
            "Michael",
            "David",
            "Richard",
            "Thomas",
            "Robert",
            "Joseph",
            "Charles",
            "Elizabeth",
            "George",
            "James",
            "William",
            "John",
            "Mary"
           ],
           "xaxis": "x",
           "y": [
            0.0131164054753123,
            0.0207239206509934,
            0.0236095298555621,
            0.026757467169637,
            0.1046689156929921,
            0.1133257433066982,
            0.1222448990299106,
            0.1878269264064721,
            0.2279631271609278,
            0.517048703836811,
            0.8019370307605941,
            0.8221362951925751,
            0.8478444499241872,
            0.9797954890058288,
            1.046164500710909,
            1.444640899050897,
            1.664734182926637,
            2.006547709613276,
            3.761260434100556
           ],
           "yaxis": "y"
          }
         ],
         "name": "1903"
        },
        {
         "data": [
          {
           "alignmentgroup": "True",
           "hovertemplate": "year=1904<br>name=%{x}<br>percentage=%{y}<extra></extra>",
           "legendgroup": "",
           "marker": {
            "color": "rgb(76,114,176)",
            "pattern": {
             "shape": ""
            }
           },
           "name": "",
           "offsetgroup": "",
           "orientation": "v",
           "showlegend": false,
           "textposition": "auto",
           "type": "bar",
           "x": [
            "Christopher",
            "Matthew",
            "Linda",
            "Patricia",
            "Anthony",
            "Michael",
            "Daniel",
            "David",
            "Richard",
            "Thomas",
            "Joseph",
            "Robert",
            "Charles",
            "Elizabeth",
            "George",
            "James",
            "William",
            "John",
            "Mary"
           ],
           "xaxis": "x",
           "y": [
            0.0106571495842472,
            0.0240405467365577,
            0.0250319094885807,
            0.0307322453127129,
            0.1045887703384264,
            0.1145023978586564,
            0.1169808047387139,
            0.2024858421006976,
            0.2391662639255486,
            0.5137737462359195,
            0.8201048366110264,
            0.8493500377957048,
            0.8500935598597221,
            0.9531952860701142,
            1.0520837205844082,
            1.4577989268498208,
            1.596341871445035,
            2.01940592587085,
            3.7223192931583577
           ],
           "yaxis": "y"
          }
         ],
         "name": "1904"
        },
        {
         "data": [
          {
           "alignmentgroup": "True",
           "hovertemplate": "year=1905<br>name=%{x}<br>percentage=%{y}<extra></extra>",
           "legendgroup": "",
           "marker": {
            "color": "rgb(76,114,176)",
            "pattern": {
             "shape": ""
            }
           },
           "name": "",
           "offsetgroup": "",
           "orientation": "v",
           "showlegend": false,
           "textposition": "auto",
           "type": "bar",
           "x": [
            "Christopher",
            "Linda",
            "Matthew",
            "Patricia",
            "Daniel",
            "Anthony",
            "Michael",
            "David",
            "Richard",
            "Thomas",
            "Joseph",
            "Robert",
            "Charles",
            "Elizabeth",
            "George",
            "James",
            "William",
            "John",
            "Mary"
           ],
           "xaxis": "x",
           "y": [
            0.0117945391283835,
            0.0247685321696054,
            0.0252403137347408,
            0.0285427846906882,
            0.1153505926755912,
            0.1155864834581588,
            0.1210119714572153,
            0.1993277112696821,
            0.2436751783924043,
            0.507872854868196,
            0.7841009612549389,
            0.8093412749896797,
            0.8562835407206464,
            0.9751724951347528,
            1.011499675650174,
            1.4335082856637376,
            1.5387155746889192,
            1.911187120363272,
            3.8060977767293744
           ],
           "yaxis": "y"
          }
         ],
         "name": "1905"
        },
        {
         "data": [
          {
           "alignmentgroup": "True",
           "hovertemplate": "year=1906<br>name=%{x}<br>percentage=%{y}<extra></extra>",
           "legendgroup": "",
           "marker": {
            "color": "rgb(76,114,176)",
            "pattern": {
             "shape": ""
            }
           },
           "name": "",
           "offsetgroup": "",
           "orientation": "v",
           "showlegend": false,
           "textposition": "auto",
           "type": "bar",
           "x": [
            "Christopher",
            "Linda",
            "Matthew",
            "Patricia",
            "Daniel",
            "Michael",
            "Anthony",
            "David",
            "Richard",
            "Thomas",
            "Joseph",
            "Charles",
            "Robert",
            "George",
            "Elizabeth",
            "James",
            "William",
            "John",
            "Mary"
           ],
           "xaxis": "x",
           "y": [
            0.0114365470030411,
            0.0228730940060823,
            0.0317422529064,
            0.0366436301934176,
            0.1180998527252824,
            0.1251018202781648,
            0.1265022137887413,
            0.206791441728459,
            0.2548716189249179,
            0.5109102324419829,
            0.8280993625875538,
            0.8474714728171949,
            0.8521394511857832,
            0.987510823874842,
            1.011784311391501,
            1.3875565700628545,
            1.5390324681235428,
            1.9388448153931253,
            3.83847861249011
           ],
           "yaxis": "y"
          }
         ],
         "name": "1906"
        },
        {
         "data": [
          {
           "alignmentgroup": "True",
           "hovertemplate": "year=1907<br>name=%{x}<br>percentage=%{y}<extra></extra>",
           "legendgroup": "",
           "marker": {
            "color": "rgb(76,114,176)",
            "pattern": {
             "shape": ""
            }
           },
           "name": "",
           "offsetgroup": "",
           "orientation": "v",
           "showlegend": false,
           "textposition": "auto",
           "type": "bar",
           "x": [
            "Christopher",
            "Linda",
            "Matthew",
            "Patricia",
            "Daniel",
            "Michael",
            "Anthony",
            "David",
            "Richard",
            "Thomas",
            "Joseph",
            "Charles",
            "Robert",
            "George",
            "Elizabeth",
            "James",
            "William",
            "John",
            "Mary"
           ],
           "xaxis": "x",
           "y": [
            0.0111733764224567,
            0.0219170075978959,
            0.0266442053150892,
            0.0380324543610547,
            0.1134527452126379,
            0.1259153573761474,
            0.1274194657407089,
            0.2054182280743974,
            0.2675164162684361,
            0.4697115549902018,
            0.8285488362498711,
            0.8388627221782926,
            0.8685151442225049,
            0.9645632069309312,
            0.9963643552102311,
            1.4508199539313096,
            1.4897118987863995,
            1.9441674975074776,
            3.792501804930037
           ],
           "yaxis": "y"
          }
         ],
         "name": "1907"
        },
        {
         "data": [
          {
           "alignmentgroup": "True",
           "hovertemplate": "year=1908<br>name=%{x}<br>percentage=%{y}<extra></extra>",
           "legendgroup": "",
           "marker": {
            "color": "rgb(76,114,176)",
            "pattern": {
             "shape": ""
            }
           },
           "name": "",
           "offsetgroup": "",
           "orientation": "v",
           "showlegend": false,
           "textposition": "auto",
           "type": "bar",
           "x": [
            "Christopher",
            "Linda",
            "Matthew",
            "Patricia",
            "Daniel",
            "Michael",
            "Anthony",
            "David",
            "Richard",
            "Thomas",
            "Charles",
            "Joseph",
            "Robert",
            "George",
            "Elizabeth",
            "James",
            "William",
            "John",
            "Mary"
           ],
           "xaxis": "x",
           "y": [
            0.0110508091648044,
            0.0190319491171631,
            0.0311059813527827,
            0.0419521459034241,
            0.1084616455064135,
            0.1407954945441746,
            0.1412047837725006,
            0.2079189279896531,
            0.2558057677038056,
            0.4753894387007523,
            0.810188027471493,
            0.8560284210440149,
            0.8687163871221237,
            0.9464813405040804,
            1.0058282786113637,
            1.4415166621644853,
            1.5499783076708988,
            1.923864017746781,
            3.8358586478721057
           ],
           "yaxis": "y"
          }
         ],
         "name": "1908"
        },
        {
         "data": [
          {
           "alignmentgroup": "True",
           "hovertemplate": "year=1909<br>name=%{x}<br>percentage=%{y}<extra></extra>",
           "legendgroup": "",
           "marker": {
            "color": "rgb(76,114,176)",
            "pattern": {
             "shape": ""
            }
           },
           "name": "",
           "offsetgroup": "",
           "orientation": "v",
           "showlegend": false,
           "textposition": "auto",
           "type": "bar",
           "x": [
            "Christopher",
            "Linda",
            "Matthew",
            "Patricia",
            "Daniel",
            "Michael",
            "Anthony",
            "David",
            "Richard",
            "Thomas",
            "Charles",
            "Joseph",
            "Robert",
            "George",
            "Elizabeth",
            "James",
            "William",
            "John",
            "Mary"
           ],
           "xaxis": "x",
           "y": [
            0.009780448492246,
            0.0205389418337167,
            0.0287545185672034,
            0.0455768899738666,
            0.1113015038417601,
            0.1255809586404394,
            0.1482715991424502,
            0.2153654757992582,
            0.280503262757617,
            0.4851102452154046,
            0.7937811996306903,
            0.8563760699810651,
            0.8974539536484984,
            0.9242523825172526,
            1.0150149445252965,
            1.4958217924041124,
            1.5547000923274337,
            1.888995821792404,
            3.7828818678309313
           ],
           "yaxis": "y"
          }
         ],
         "name": "1909"
        },
        {
         "data": [
          {
           "alignmentgroup": "True",
           "hovertemplate": "year=1910<br>name=%{x}<br>percentage=%{y}<extra></extra>",
           "legendgroup": "",
           "marker": {
            "color": "rgb(76,114,176)",
            "pattern": {
             "shape": ""
            }
           },
           "name": "",
           "offsetgroup": "",
           "orientation": "v",
           "showlegend": false,
           "textposition": "auto",
           "type": "bar",
           "x": [
            "Christopher",
            "Linda",
            "Matthew",
            "Patricia",
            "Daniel",
            "Michael",
            "Anthony",
            "David",
            "Richard",
            "Thomas",
            "Charles",
            "Joseph",
            "George",
            "Robert",
            "Elizabeth",
            "William",
            "James",
            "John",
            "Mary"
           ],
           "xaxis": "x",
           "y": [
            0.0118501063123823,
            0.0231923509256625,
            0.0333495849077046,
            0.0534947656387545,
            0.1171467652595512,
            0.1444020097780305,
            0.166917211771557,
            0.2144869242541204,
            0.2815246685355977,
            0.4856850715746421,
            0.8152873142919053,
            0.8899429840599141,
            0.9309104944541504,
            0.9544414198458808,
            0.9847438345589729,
            1.5034399165752517,
            1.5670919161960482,
            1.9532360947466785,
            3.884634136431967
           ],
           "yaxis": "y"
          }
         ],
         "name": "1910"
        },
        {
         "data": [
          {
           "alignmentgroup": "True",
           "hovertemplate": "year=1911<br>name=%{x}<br>percentage=%{y}<extra></extra>",
           "legendgroup": "",
           "marker": {
            "color": "rgb(76,114,176)",
            "pattern": {
             "shape": ""
            }
           },
           "name": "",
           "offsetgroup": "",
           "orientation": "v",
           "showlegend": false,
           "textposition": "auto",
           "type": "bar",
           "x": [
            "Christopher",
            "Linda",
            "Matthew",
            "Patricia",
            "Daniel",
            "Michael",
            "Anthony",
            "David",
            "Richard",
            "Thomas",
            "Charles",
            "Elizabeth",
            "Joseph",
            "Robert",
            "George",
            "James",
            "William",
            "John",
            "Mary"
           ],
           "xaxis": "x",
           "y": [
            0.0128826176237313,
            0.0201775938684948,
            0.0349227586185488,
            0.0504439846712371,
            0.1235489593793992,
            0.1809774957743462,
            0.2009998773823141,
            0.2429071877245727,
            0.3167882237353693,
            0.514528643646619,
            0.8947986819374837,
            0.9803206374877964,
            1.0113630895931731,
            1.0189684903589906,
            1.030143773116926,
            1.5553820627399,
            1.6519240887876214,
            2.0975384887603044,
            3.800837835782324
           ],
           "yaxis": "y"
          }
         ],
         "name": "1911"
        },
        {
         "data": [
          {
           "alignmentgroup": "True",
           "hovertemplate": "year=1912<br>name=%{x}<br>percentage=%{y}<extra></extra>",
           "legendgroup": "",
           "marker": {
            "color": "rgb(76,114,176)",
            "pattern": {
             "shape": ""
            }
           },
           "name": "",
           "offsetgroup": "",
           "orientation": "v",
           "showlegend": false,
           "textposition": "auto",
           "type": "bar",
           "x": [
            "Christopher",
            "Linda",
            "Matthew",
            "Patricia",
            "Daniel",
            "Michael",
            "Anthony",
            "David",
            "Richard",
            "Thomas",
            "Elizabeth",
            "Charles",
            "George",
            "Joseph",
            "Robert",
            "James",
            "William",
            "John",
            "Mary"
           ],
           "xaxis": "x",
           "y": [
            0.0152824727243284,
            0.01912839301257,
            0.038459202882416,
            0.0510090480335202,
            0.1548488958160435,
            0.2137522012833228,
            0.2518065704511872,
            0.2908730239054308,
            0.4261886929943525,
            0.6194967916928122,
            0.865332064854361,
            1.127158269740704,
            1.19456308321357,
            1.2252292370908648,
            1.3055887294293869,
            1.7939193976074328,
            1.9942108778819096,
            2.499746978928405,
            3.281379673299192
           ],
           "yaxis": "y"
          }
         ],
         "name": "1912"
        },
        {
         "data": [
          {
           "alignmentgroup": "True",
           "hovertemplate": "year=1913<br>name=%{x}<br>percentage=%{y}<extra></extra>",
           "legendgroup": "",
           "marker": {
            "color": "rgb(76,114,176)",
            "pattern": {
             "shape": ""
            }
           },
           "name": "",
           "offsetgroup": "",
           "orientation": "v",
           "showlegend": false,
           "textposition": "auto",
           "type": "bar",
           "x": [
            "Christopher",
            "Linda",
            "Matthew",
            "Patricia",
            "Daniel",
            "Michael",
            "Anthony",
            "David",
            "Richard",
            "Thomas",
            "Elizabeth",
            "Charles",
            "George",
            "Joseph",
            "Robert",
            "James",
            "William",
            "John",
            "Mary"
           ],
           "xaxis": "x",
           "y": [
            0.0138069194652061,
            0.0209302346033061,
            0.0431796016395936,
            0.0517099913728738,
            0.1657709757446722,
            0.2303205227985658,
            0.2452706903723558,
            0.2897694244449311,
            0.4510553499174663,
            0.6272035008015928,
            0.8380008635920329,
            1.1642662853494514,
            1.226881104834972,
            1.275952831341883,
            1.3856167076037431,
            1.8403656283335572,
            2.0782491770812173,
            2.5899846189158318,
            3.233457419724196
           ],
           "yaxis": "y"
          }
         ],
         "name": "1913"
        },
        {
         "data": [
          {
           "alignmentgroup": "True",
           "hovertemplate": "year=1914<br>name=%{x}<br>percentage=%{y}<extra></extra>",
           "legendgroup": "",
           "marker": {
            "color": "rgb(76,114,176)",
            "pattern": {
             "shape": ""
            }
           },
           "name": "",
           "offsetgroup": "",
           "orientation": "v",
           "showlegend": false,
           "textposition": "auto",
           "type": "bar",
           "x": [
            "Christopher",
            "Linda",
            "Matthew",
            "Patricia",
            "Daniel",
            "Michael",
            "Anthony",
            "David",
            "Richard",
            "Thomas",
            "Elizabeth",
            "Charles",
            "George",
            "Joseph",
            "Robert",
            "James",
            "William",
            "John",
            "Mary"
           ],
           "xaxis": "x",
           "y": [
            0.0141208433532484,
            0.015462323471807,
            0.0432803848777064,
            0.0463163661986548,
            0.1651432630162403,
            0.238501044236366,
            0.2618710399859921,
            0.3016212140253864,
            0.4729776481170561,
            0.6282363207860227,
            0.8044644458345631,
            1.201118935627311,
            1.250330074713382,
            1.334278488448444,
            1.501610482184438,
            1.8618331961258052,
            2.1075358704723284,
            2.6911503262620857,
            3.2105855490113293
           ],
           "yaxis": "y"
          }
         ],
         "name": "1914"
        },
        {
         "data": [
          {
           "alignmentgroup": "True",
           "hovertemplate": "year=1915<br>name=%{x}<br>percentage=%{y}<extra></extra>",
           "legendgroup": "",
           "marker": {
            "color": "rgb(76,114,176)",
            "pattern": {
             "shape": ""
            }
           },
           "name": "",
           "offsetgroup": "",
           "orientation": "v",
           "showlegend": false,
           "textposition": "auto",
           "type": "bar",
           "x": [
            "Christopher",
            "Linda",
            "Matthew",
            "Patricia",
            "Daniel",
            "Michael",
            "Anthony",
            "David",
            "Richard",
            "Thomas",
            "Elizabeth",
            "Charles",
            "George",
            "Joseph",
            "Robert",
            "James",
            "William",
            "John",
            "Mary"
           ],
           "xaxis": "x",
           "y": [
            0.013206507206278,
            0.0158259797100025,
            0.0435487303744208,
            0.0488422477256975,
            0.1643173272648886,
            0.2234191756301741,
            0.2590003438057661,
            0.2960549652647031,
            0.5010832610249778,
            0.6295465583951365,
            0.771107218283918,
            1.2039204771805745,
            1.2249308295541983,
            1.2617125892939975,
            1.5745758364576,
            1.851530481382645,
            2.111513127377308,
            2.607248298707181,
            3.1840779729648614
           ],
           "yaxis": "y"
          }
         ],
         "name": "1915"
        },
        {
         "data": [
          {
           "alignmentgroup": "True",
           "hovertemplate": "year=1916<br>name=%{x}<br>percentage=%{y}<extra></extra>",
           "legendgroup": "",
           "marker": {
            "color": "rgb(76,114,176)",
            "pattern": {
             "shape": ""
            }
           },
           "name": "",
           "offsetgroup": "",
           "orientation": "v",
           "showlegend": false,
           "textposition": "auto",
           "type": "bar",
           "x": [
            "Christopher",
            "Linda",
            "Matthew",
            "Patricia",
            "Daniel",
            "Michael",
            "Anthony",
            "David",
            "Richard",
            "Thomas",
            "Elizabeth",
            "George",
            "Charles",
            "Joseph",
            "Robert",
            "James",
            "William",
            "John",
            "Mary"
           ],
           "xaxis": "x",
           "y": [
            0.0134407351461783,
            0.0153534551477498,
            0.0426484865215274,
            0.0557273557214624,
            0.1633566271612443,
            0.2185670315309307,
            0.2463273191213067,
            0.3017961991668812,
            0.5261013907025266,
            0.6227712934846553,
            0.7743931249605824,
            1.2156627988366526,
            1.226984033440549,
            1.238615438855511,
            1.6471620921641548,
            1.847273960436679,
            2.0964445119927544,
            2.5987144453784032,
            3.184523717211068
           ],
           "yaxis": "y"
          }
         ],
         "name": "1916"
        },
        {
         "data": [
          {
           "alignmentgroup": "True",
           "hovertemplate": "year=1917<br>name=%{x}<br>percentage=%{y}<extra></extra>",
           "legendgroup": "",
           "marker": {
            "color": "rgb(76,114,176)",
            "pattern": {
             "shape": ""
            }
           },
           "name": "",
           "offsetgroup": "",
           "orientation": "v",
           "showlegend": false,
           "textposition": "auto",
           "type": "bar",
           "x": [
            "Christopher",
            "Linda",
            "Matthew",
            "Patricia",
            "Daniel",
            "Michael",
            "Anthony",
            "David",
            "Richard",
            "Thomas",
            "Elizabeth",
            "Charles",
            "George",
            "Joseph",
            "Robert",
            "James",
            "William",
            "John",
            "Mary"
           ],
           "xaxis": "x",
           "y": [
            0.0131057353787582,
            0.0145010227955081,
            0.0429549197585156,
            0.072106460429898,
            0.1680324703314555,
            0.2142762818580245,
            0.251450725175719,
            0.3056676076551447,
            0.5462051919641412,
            0.6311682293055206,
            0.7555481361700855,
            1.2092657050810889,
            1.2126542602360526,
            1.2386165725262923,
            1.7634439679980864,
            1.8696851384449025,
            2.122182329183184,
            2.5964803874912485,
            3.211104494569591
           ],
           "yaxis": "y"
          }
         ],
         "name": "1917"
        },
        {
         "data": [
          {
           "alignmentgroup": "True",
           "hovertemplate": "year=1918<br>name=%{x}<br>percentage=%{y}<extra></extra>",
           "legendgroup": "",
           "marker": {
            "color": "rgb(76,114,176)",
            "pattern": {
             "shape": ""
            }
           },
           "name": "",
           "offsetgroup": "",
           "orientation": "v",
           "showlegend": false,
           "textposition": "auto",
           "type": "bar",
           "x": [
            "Christopher",
            "Linda",
            "Matthew",
            "Patricia",
            "Daniel",
            "Michael",
            "Anthony",
            "David",
            "Richard",
            "Thomas",
            "Elizabeth",
            "Joseph",
            "George",
            "Charles",
            "Robert",
            "James",
            "William",
            "John",
            "Mary"
           ],
           "xaxis": "x",
           "y": [
            0.0125281538015116,
            0.0148311232503189,
            0.0443551915840284,
            0.0812948215428974,
            0.1724924117156661,
            0.1992529167108069,
            0.2389100506192684,
            0.3069397681370359,
            0.5699388791908286,
            0.6438641984975427,
            0.7318836908309575,
            1.2137109589104191,
            1.219422323143461,
            1.2465973626393874,
            1.8790848920598215,
            1.9496018165823013,
            2.0939980010225185,
            2.6164496501789407,
            3.110574775115033
           ],
           "yaxis": "y"
          }
         ],
         "name": "1918"
        },
        {
         "data": [
          {
           "alignmentgroup": "True",
           "hovertemplate": "year=1919<br>name=%{x}<br>percentage=%{y}<extra></extra>",
           "legendgroup": "",
           "marker": {
            "color": "rgb(76,114,176)",
            "pattern": {
             "shape": ""
            }
           },
           "name": "",
           "offsetgroup": "",
           "orientation": "v",
           "showlegend": false,
           "textposition": "auto",
           "type": "bar",
           "x": [
            "Jennifer",
            "Christopher",
            "Linda",
            "Matthew",
            "Patricia",
            "Daniel",
            "Michael",
            "Anthony",
            "David",
            "Richard",
            "Thomas",
            "Elizabeth",
            "Joseph",
            "Charles",
            "George",
            "Robert",
            "James",
            "William",
            "John",
            "Mary"
           ],
           "xaxis": "x",
           "y": [
            0.0002843263668634,
            0.0124155846863714,
            0.0133633392425829,
            0.041653812745498,
            0.1019783902483638,
            0.1675630055382037,
            0.1864233212068138,
            0.2256129721061618,
            0.3197723872657802,
            0.5930574135493835,
            0.6397343254428028,
            0.7253165618687065,
            1.1541281108266268,
            1.199904655891645,
            1.2005206963531827,
            1.952800875346108,
            2.0179116133578425,
            2.091931244197965,
            2.550928775771224,
            3.127163545947852
           ],
           "yaxis": "y"
          }
         ],
         "name": "1919"
        },
        {
         "data": [
          {
           "alignmentgroup": "True",
           "hovertemplate": "year=1920<br>name=%{x}<br>percentage=%{y}<extra></extra>",
           "legendgroup": "",
           "marker": {
            "color": "rgb(76,114,176)",
            "pattern": {
             "shape": ""
            }
           },
           "name": "",
           "offsetgroup": "",
           "orientation": "v",
           "showlegend": false,
           "textposition": "auto",
           "type": "bar",
           "x": [
            "Jennifer",
            "Christopher",
            "Linda",
            "Matthew",
            "Patricia",
            "Daniel",
            "Michael",
            "Anthony",
            "David",
            "Thomas",
            "Richard",
            "Elizabeth",
            "Joseph",
            "George",
            "Charles",
            "James",
            "Robert",
            "William",
            "John",
            "Mary"
           ],
           "xaxis": "x",
           "y": [
            0.0003093717543588,
            0.0129494177181623,
            0.0153801957881245,
            0.0427374980664265,
            0.1108876759551853,
            0.1730272026164011,
            0.1778887587563255,
            0.2199191213842176,
            0.3304532296201357,
            0.6637350009944092,
            0.6657680153801958,
            0.7045720725697744,
            1.1357921021810709,
            1.1958102225266831,
            1.2583475128720747,
            2.128345082094005,
            2.1604755485824145,
            2.2252668331381344,
            2.5277440169712504,
            3.1457803902503705
           ],
           "yaxis": "y"
          }
         ],
         "name": "1920"
        },
        {
         "data": [
          {
           "alignmentgroup": "True",
           "hovertemplate": "year=1921<br>name=%{x}<br>percentage=%{y}<extra></extra>",
           "legendgroup": "",
           "marker": {
            "color": "rgb(76,114,176)",
            "pattern": {
             "shape": ""
            }
           },
           "name": "",
           "offsetgroup": "",
           "orientation": "v",
           "showlegend": false,
           "textposition": "auto",
           "type": "bar",
           "x": [
            "Jennifer",
            "Christopher",
            "Linda",
            "Matthew",
            "Patricia",
            "Daniel",
            "Michael",
            "Anthony",
            "David",
            "Thomas",
            "Elizabeth",
            "Richard",
            "Joseph",
            "George",
            "Charles",
            "James",
            "William",
            "Robert",
            "John",
            "Mary"
           ],
           "xaxis": "x",
           "y": [
            0.0002141782579939,
            0.0124651746152501,
            0.0157206841367588,
            0.0393659638192952,
            0.1452128589199247,
            0.1757546785098676,
            0.1808521210501245,
            0.2254011987128743,
            0.3344179320318148,
            0.6589836641959063,
            0.6783453787185629,
            0.7045179618454284,
            1.1266633083515811,
            1.1858193432095212,
            1.2601391987334354,
            2.140968702559516,
            2.2296813370206263,
            2.2713175903746574,
            2.5058856185296747,
            3.177163114734436
           ],
           "yaxis": "y"
          }
         ],
         "name": "1921"
        },
        {
         "data": [
          {
           "alignmentgroup": "True",
           "hovertemplate": "year=1922<br>name=%{x}<br>percentage=%{y}<extra></extra>",
           "legendgroup": "",
           "marker": {
            "color": "rgb(76,114,176)",
            "pattern": {
             "shape": ""
            }
           },
           "name": "",
           "offsetgroup": "",
           "orientation": "v",
           "showlegend": false,
           "textposition": "auto",
           "type": "bar",
           "x": [
            "Jennifer",
            "Christopher",
            "Linda",
            "Matthew",
            "Patricia",
            "Michael",
            "Daniel",
            "Anthony",
            "David",
            "Elizabeth",
            "Thomas",
            "Richard",
            "Joseph",
            "George",
            "Charles",
            "James",
            "William",
            "Robert",
            "John",
            "Mary"
           ],
           "xaxis": "x",
           "y": [
            0.000305790091702,
            0.0134110797360769,
            0.0159447690673227,
            0.0428979814359203,
            0.170805608365019,
            0.1756545655334377,
            0.1881045906955938,
            0.2234451884365913,
            0.3449312234399463,
            0.6671902957951241,
            0.6696366165287407,
            0.7693678707224334,
            1.127185962312682,
            1.2033276951464995,
            1.268548353276672,
            2.186049681279356,
            2.2412666349809887,
            2.3603500335495418,
            2.5147303455602774,
            3.1610832308208456
           ],
           "yaxis": "y"
          }
         ],
         "name": "1922"
        },
        {
         "data": [
          {
           "alignmentgroup": "True",
           "hovertemplate": "year=1923<br>name=%{x}<br>percentage=%{y}<extra></extra>",
           "legendgroup": "",
           "marker": {
            "color": "rgb(76,114,176)",
            "pattern": {
             "shape": ""
            }
           },
           "name": "",
           "offsetgroup": "",
           "orientation": "v",
           "showlegend": false,
           "textposition": "auto",
           "type": "bar",
           "x": [
            "Jennifer",
            "Christopher",
            "Linda",
            "Matthew",
            "Michael",
            "Daniel",
            "Patricia",
            "Anthony",
            "David",
            "Elizabeth",
            "Thomas",
            "Richard",
            "Joseph",
            "George",
            "Charles",
            "James",
            "William",
            "Robert",
            "John",
            "Mary"
           ],
           "xaxis": "x",
           "y": [
            0.0003908804974084,
            0.0127687629153431,
            0.0183713833781977,
            0.0406081405641013,
            0.1712925201976639,
            0.185755098601777,
            0.2084695986178465,
            0.2235402133512617,
            0.3593060394511342,
            0.6732265100365082,
            0.6927705349069313,
            0.8236720703723875,
            1.1147911786089344,
            1.181414587833888,
            1.2649327207801626,
            2.203827675555289,
            2.274099302756055,
            2.4479108306036843,
            2.5104517101890385,
            3.120008130314346
           ],
           "yaxis": "y"
          }
         ],
         "name": "1923"
        },
        {
         "data": [
          {
           "alignmentgroup": "True",
           "hovertemplate": "year=1924<br>name=%{x}<br>percentage=%{y}<extra></extra>",
           "legendgroup": "",
           "marker": {
            "color": "rgb(76,114,176)",
            "pattern": {
             "shape": ""
            }
           },
           "name": "",
           "offsetgroup": "",
           "orientation": "v",
           "showlegend": false,
           "textposition": "auto",
           "type": "bar",
           "x": [
            "Jennifer",
            "Christopher",
            "Linda",
            "Matthew",
            "Michael",
            "Daniel",
            "Anthony",
            "Patricia",
            "David",
            "Elizabeth",
            "Thomas",
            "Richard",
            "Joseph",
            "George",
            "Charles",
            "James",
            "William",
            "John",
            "Robert",
            "Mary"
           ],
           "xaxis": "x",
           "y": [
            0.000461870297583,
            0.0124704980347418,
            0.0190626468275178,
            0.0357319657493782,
            0.1641738966863325,
            0.186091741717091,
            0.2188005564277439,
            0.2928677568765139,
            0.3698741319462668,
            0.6294872273968024,
            0.6986418074076438,
            0.8959444008933412,
            1.0730086777031274,
            1.1576988949963072,
            1.2868126372752005,
            2.2344445232889703,
            2.256950203243925,
            2.495485217841126,
            2.56543757382052,
            3.096966309920848
           ],
           "yaxis": "y"
          }
         ],
         "name": "1924"
        },
        {
         "data": [
          {
           "alignmentgroup": "True",
           "hovertemplate": "year=1925<br>name=%{x}<br>percentage=%{y}<extra></extra>",
           "legendgroup": "",
           "marker": {
            "color": "rgb(76,114,176)",
            "pattern": {
             "shape": ""
            }
           },
           "name": "",
           "offsetgroup": "",
           "orientation": "v",
           "showlegend": false,
           "textposition": "auto",
           "type": "bar",
           "x": [
            "Jennifer",
            "Christopher",
            "Linda",
            "Matthew",
            "Michael",
            "Daniel",
            "Anthony",
            "Patricia",
            "David",
            "Elizabeth",
            "Thomas",
            "Richard",
            "Joseph",
            "George",
            "Charles",
            "James",
            "William",
            "John",
            "Robert",
            "Mary"
           ],
           "xaxis": "x",
           "y": [
            0.0003857163245005,
            0.0122572076452404,
            0.0190286720086949,
            0.03600019028672,
            0.1626437168310746,
            0.1959867502156797,
            0.2171154333244332,
            0.3479589820689052,
            0.3838306002474584,
            0.598846022471833,
            0.7185466551751774,
            1.0018767242055422,
            1.0605056055296291,
            1.1472489211728691,
            1.2769353209438392,
            2.2734548739757625,
            2.2970264271396865,
            2.467127326244438,
            2.624842445595784,
            3.036316049099117
           ],
           "yaxis": "y"
          }
         ],
         "name": "1925"
        },
        {
         "data": [
          {
           "alignmentgroup": "True",
           "hovertemplate": "year=1926<br>name=%{x}<br>percentage=%{y}<extra></extra>",
           "legendgroup": "",
           "marker": {
            "color": "rgb(76,114,176)",
            "pattern": {
             "shape": ""
            }
           },
           "name": "",
           "offsetgroup": "",
           "orientation": "v",
           "showlegend": false,
           "textposition": "auto",
           "type": "bar",
           "x": [
            "Jennifer",
            "Christopher",
            "Linda",
            "Matthew",
            "Michael",
            "Daniel",
            "Anthony",
            "Patricia",
            "David",
            "Elizabeth",
            "Thomas",
            "Joseph",
            "Richard",
            "George",
            "Charles",
            "William",
            "James",
            "John",
            "Robert",
            "Mary"
           ],
           "xaxis": "x",
           "y": [
            0.0004355597988759,
            0.0117601145696494,
            0.0208633143661559,
            0.0340607762720959,
            0.1531863812646565,
            0.198049040548875,
            0.2218306055674995,
            0.3752347667315941,
            0.3962287490374128,
            0.5614365807510444,
            0.7275590880423155,
            1.0418590389111702,
            1.1002676079404294,
            1.1384662023018464,
            1.2956597337161613,
            2.2746239376696504,
            2.3325098349402587,
            2.4604337478701126,
            2.678649207106942,
            2.9663800102443667
           ],
           "yaxis": "y"
          }
         ],
         "name": "1926"
        },
        {
         "data": [
          {
           "alignmentgroup": "True",
           "hovertemplate": "year=1927<br>name=%{x}<br>percentage=%{y}<extra></extra>",
           "legendgroup": "",
           "marker": {
            "color": "rgb(76,114,176)",
            "pattern": {
             "shape": ""
            }
           },
           "name": "",
           "offsetgroup": "",
           "orientation": "v",
           "showlegend": false,
           "textposition": "auto",
           "type": "bar",
           "x": [
            "Jennifer",
            "Christopher",
            "Linda",
            "Matthew",
            "Michael",
            "Daniel",
            "Anthony",
            "David",
            "Patricia",
            "Elizabeth",
            "Thomas",
            "Joseph",
            "George",
            "Richard",
            "Charles",
            "William",
            "James",
            "John",
            "Robert",
            "Mary"
           ],
           "xaxis": "x",
           "y": [
            0.0002155771755509,
            0.0122878990064047,
            0.0222475645168592,
            0.0342767709126028,
            0.1567677220606591,
            0.2005298886975042,
            0.2133782883603415,
            0.4089930174552839,
            0.4566786886871565,
            0.542435289121329,
            0.7391279040940262,
            1.0206285799284716,
            1.1294519381465968,
            1.1610124366472576,
            1.3901709742579296,
            2.23342265414307,
            2.3310791146676557,
            2.4314087321690727,
            2.676778673381177,
            3.057919119755277
           ],
           "yaxis": "y"
          }
         ],
         "name": "1927"
        },
        {
         "data": [
          {
           "alignmentgroup": "True",
           "hovertemplate": "year=1928<br>name=%{x}<br>percentage=%{y}<extra></extra>",
           "legendgroup": "",
           "marker": {
            "color": "rgb(76,114,176)",
            "pattern": {
             "shape": ""
            }
           },
           "name": "",
           "offsetgroup": "",
           "orientation": "v",
           "showlegend": false,
           "textposition": "auto",
           "type": "bar",
           "x": [
            "Jennifer",
            "Christopher",
            "Linda",
            "Matthew",
            "Michael",
            "Daniel",
            "Anthony",
            "David",
            "Elizabeth",
            "Patricia",
            "Thomas",
            "Joseph",
            "George",
            "Richard",
            "Charles",
            "William",
            "James",
            "John",
            "Robert",
            "Mary"
           ],
           "xaxis": "x",
           "y": [
            0.0003096110798305,
            0.0117652210335614,
            0.0245477356151375,
            0.034676440941023,
            0.1605112298150162,
            0.1973107181605917,
            0.2100047724336448,
            0.4449553518707806,
            0.5223581218284215,
            0.5467731669807745,
            0.7397493300237383,
            0.9951784708839528,
            1.0889906280726134,
            1.2824090926581924,
            1.3939133115514568,
            2.187800350391282,
            2.3521596036270496,
            2.396345527734297,
            2.7039662506230924,
            2.9706740808199914
           ],
           "yaxis": "y"
          }
         ],
         "name": "1928"
        },
        {
         "data": [
          {
           "alignmentgroup": "True",
           "hovertemplate": "year=1929<br>name=%{x}<br>percentage=%{y}<extra></extra>",
           "legendgroup": "",
           "marker": {
            "color": "rgb(76,114,176)",
            "pattern": {
             "shape": ""
            }
           },
           "name": "",
           "offsetgroup": "",
           "orientation": "v",
           "showlegend": false,
           "textposition": "auto",
           "type": "bar",
           "x": [
            "Jennifer",
            "Christopher",
            "Linda",
            "Matthew",
            "Michael",
            "Daniel",
            "Anthony",
            "Elizabeth",
            "David",
            "Patricia",
            "Thomas",
            "Joseph",
            "George",
            "Richard",
            "Charles",
            "William",
            "John",
            "James",
            "Robert",
            "Mary"
           ],
           "xaxis": "x",
           "y": [
            0.0007754876562892,
            0.0124534194215865,
            0.0235383312144273,
            0.0333915861413969,
            0.1595679895117575,
            0.2008969198998799,
            0.2182313498639931,
            0.5158817591161996,
            0.5188924758994402,
            0.6234464587356175,
            0.7478438021886086,
            0.972780839433456,
            1.0592705215701892,
            1.3582894384511417,
            1.377174843727833,
            2.196545977978888,
            2.3960743902500217,
            2.39612000717098,
            2.7483282538891847,
            2.912138617050054
           ],
           "yaxis": "y"
          }
         ],
         "name": "1929"
        },
        {
         "data": [
          {
           "alignmentgroup": "True",
           "hovertemplate": "year=1930<br>name=%{x}<br>percentage=%{y}<extra></extra>",
           "legendgroup": "",
           "marker": {
            "color": "rgb(76,114,176)",
            "pattern": {
             "shape": ""
            }
           },
           "name": "",
           "offsetgroup": "",
           "orientation": "v",
           "showlegend": false,
           "textposition": "auto",
           "type": "bar",
           "x": [
            "Jennifer",
            "Christopher",
            "Linda",
            "Matthew",
            "Michael",
            "Daniel",
            "Anthony",
            "Elizabeth",
            "David",
            "Patricia",
            "Thomas",
            "Joseph",
            "George",
            "Charles",
            "Richard",
            "William",
            "John",
            "James",
            "Robert",
            "Mary"
           ],
           "xaxis": "x",
           "y": [
            0.0007646360332481,
            0.0120092835810154,
            0.0221294663740059,
            0.0299107624770609,
            0.160933395703645,
            0.2018189341873268,
            0.2115792882587888,
            0.4967435500701666,
            0.5559353747616135,
            0.7107516821992731,
            0.7707081429239682,
            0.9499028462451872,
            1.035766974919938,
            1.444082616674463,
            1.4547875211399377,
            2.139136770897053,
            2.3768935986470443,
            2.4458007988197616,
            2.814580259796337,
            2.900759238602425
           ],
           "yaxis": "y"
          }
         ],
         "name": "1930"
        },
        {
         "data": [
          {
           "alignmentgroup": "True",
           "hovertemplate": "year=1931<br>name=%{x}<br>percentage=%{y}<extra></extra>",
           "legendgroup": "",
           "marker": {
            "color": "rgb(76,114,176)",
            "pattern": {
             "shape": ""
            }
           },
           "name": "",
           "offsetgroup": "",
           "orientation": "v",
           "showlegend": false,
           "textposition": "auto",
           "type": "bar",
           "x": [
            "Jennifer",
            "Christopher",
            "Linda",
            "Matthew",
            "Michael",
            "Anthony",
            "Daniel",
            "Elizabeth",
            "David",
            "Patricia",
            "Thomas",
            "Joseph",
            "George",
            "Charles",
            "Richard",
            "William",
            "John",
            "James",
            "Mary",
            "Robert"
           ],
           "xaxis": "x",
           "y": [
            0.0012355370879721,
            0.0112623957634383,
            0.0254235516178882,
            0.0288925595956562,
            0.1669875895051579,
            0.2065247763202664,
            0.208473123266684,
            0.4913635957550747,
            0.5625495402851619,
            0.7848511748056881,
            0.8047148095277018,
            0.9238015765453242,
            0.9911858684970356,
            1.4324151708747794,
            1.519377973605126,
            2.067861399350297,
            2.316536998633306,
            2.450260128077676,
            2.880797282578737,
            2.892297281628324
           ],
           "yaxis": "y"
          }
         ],
         "name": "1931"
        },
        {
         "data": [
          {
           "alignmentgroup": "True",
           "hovertemplate": "year=1932<br>name=%{x}<br>percentage=%{y}<extra></extra>",
           "legendgroup": "",
           "marker": {
            "color": "rgb(76,114,176)",
            "pattern": {
             "shape": ""
            }
           },
           "name": "",
           "offsetgroup": "",
           "orientation": "v",
           "showlegend": false,
           "textposition": "auto",
           "type": "bar",
           "x": [
            "Jennifer",
            "Christopher",
            "Matthew",
            "Linda",
            "Michael",
            "Anthony",
            "Daniel",
            "Elizabeth",
            "David",
            "Thomas",
            "Patricia",
            "Joseph",
            "George",
            "Charles",
            "Richard",
            "William",
            "John",
            "James",
            "Robert",
            "Mary"
           ],
           "xaxis": "x",
           "y": [
            0.0011841253316142,
            0.0115570632365555,
            0.0332502393117295,
            0.0368973453331015,
            0.1717929031106025,
            0.2016802264805474,
            0.2116268792661075,
            0.4760183833089482,
            0.5777110667879842,
            0.8017002145161451,
            0.8542280142265555,
            0.8843047976495586,
            0.9762402883960928,
            1.4819565350219277,
            1.5130279837234868,
            2.006476691913797,
            2.317143813916125,
            2.474490387981033,
            2.8223864104093144,
            2.851800083646613
           ],
           "yaxis": "y"
          }
         ],
         "name": "1932"
        },
        {
         "data": [
          {
           "alignmentgroup": "True",
           "hovertemplate": "year=1933<br>name=%{x}<br>percentage=%{y}<extra></extra>",
           "legendgroup": "",
           "marker": {
            "color": "rgb(76,114,176)",
            "pattern": {
             "shape": ""
            }
           },
           "name": "",
           "offsetgroup": "",
           "orientation": "v",
           "showlegend": false,
           "textposition": "auto",
           "type": "bar",
           "x": [
            "Jennifer",
            "Christopher",
            "Matthew",
            "Linda",
            "Michael",
            "Anthony",
            "Daniel",
            "Elizabeth",
            "David",
            "Thomas",
            "Joseph",
            "George",
            "Patricia",
            "Charles",
            "Richard",
            "William",
            "John",
            "James",
            "Robert",
            "Mary"
           ],
           "xaxis": "x",
           "y": [
            0.0015004441314629,
            0.0102530348983299,
            0.0290586013459984,
            0.0395617102662388,
            0.1788029256659971,
            0.2000092027240063,
            0.216364043756952,
            0.4528840536798892,
            0.604678984979554,
            0.8301957379384297,
            0.8634055680481423,
            0.9254739402863248,
            0.9356769603802726,
            1.4603322583484712,
            1.5734157310563928,
            1.9626309387578724,
            2.3231876635484103,
            2.571161063674848,
            2.725606779606764,
            2.7926266174787737
           ],
           "yaxis": "y"
          }
         ],
         "name": "1933"
        },
        {
         "data": [
          {
           "alignmentgroup": "True",
           "hovertemplate": "year=1934<br>name=%{x}<br>percentage=%{y}<extra></extra>",
           "legendgroup": "",
           "marker": {
            "color": "rgb(76,114,176)",
            "pattern": {
             "shape": ""
            }
           },
           "name": "",
           "offsetgroup": "",
           "orientation": "v",
           "showlegend": false,
           "textposition": "auto",
           "type": "bar",
           "x": [
            "Jennifer",
            "Christopher",
            "Matthew",
            "Linda",
            "Anthony",
            "Michael",
            "Daniel",
            "Elizabeth",
            "David",
            "Joseph",
            "Thomas",
            "George",
            "Patricia",
            "Charles",
            "Richard",
            "William",
            "John",
            "James",
            "Robert",
            "Mary"
           ],
           "xaxis": "x",
           "y": [
            0.0019742233838574,
            0.0130491350493989,
            0.029613350757861,
            0.0481517898501805,
            0.1857696052419964,
            0.198722436711695,
            0.2178868490720668,
            0.4520971549033449,
            0.677784593931141,
            0.8280181782637043,
            0.839430152458197,
            0.898367943234818,
            1.0069502293469752,
            1.4426276239114084,
            1.6031656912719103,
            1.9430210240344843,
            2.262989667588934,
            2.6256689487404934,
            2.7014117141748275,
            2.755967692075082
           ],
           "yaxis": "y"
          }
         ],
         "name": "1934"
        },
        {
         "data": [
          {
           "alignmentgroup": "True",
           "hovertemplate": "year=1935<br>name=%{x}<br>percentage=%{y}<extra></extra>",
           "legendgroup": "",
           "marker": {
            "color": "rgb(76,114,176)",
            "pattern": {
             "shape": ""
            }
           },
           "name": "",
           "offsetgroup": "",
           "orientation": "v",
           "showlegend": false,
           "textposition": "auto",
           "type": "bar",
           "x": [
            "Jennifer",
            "Christopher",
            "Matthew",
            "Linda",
            "Anthony",
            "Daniel",
            "Michael",
            "Elizabeth",
            "David",
            "Joseph",
            "Thomas",
            "George",
            "Patricia",
            "Charles",
            "Richard",
            "William",
            "John",
            "James",
            "Mary",
            "Robert"
           ],
           "xaxis": "x",
           "y": [
            0.0017226372236064,
            0.0128719281430592,
            0.0312945762288504,
            0.057756198024805,
            0.1881981166790042,
            0.2204018625536469,
            0.2363362568720066,
            0.4362100258443435,
            0.7523139563761263,
            0.8256217404473785,
            0.8495951084759016,
            0.8956278031733848,
            1.0987554424569783,
            1.4417516540906177,
            1.6305239831774905,
            1.931315582832772,
            2.283164235754388,
            2.643099713420157,
            2.648554731294911,
            2.7158332850835407
           ],
           "yaxis": "y"
          }
         ],
         "name": "1935"
        },
        {
         "data": [
          {
           "alignmentgroup": "True",
           "hovertemplate": "year=1936<br>name=%{x}<br>percentage=%{y}<extra></extra>",
           "legendgroup": "",
           "marker": {
            "color": "rgb(76,114,176)",
            "pattern": {
             "shape": ""
            }
           },
           "name": "",
           "offsetgroup": "",
           "orientation": "v",
           "showlegend": false,
           "textposition": "auto",
           "type": "bar",
           "x": [
            "Jennifer",
            "Christopher",
            "Matthew",
            "Linda",
            "Anthony",
            "Daniel",
            "Michael",
            "Elizabeth",
            "Joseph",
            "David",
            "George",
            "Thomas",
            "Patricia",
            "Charles",
            "Richard",
            "William",
            "John",
            "Mary",
            "James",
            "Robert"
           ],
           "xaxis": "x",
           "y": [
            0.0020216363220659,
            0.0133331728860061,
            0.0292655924718114,
            0.1178806512557009,
            0.19224798738884,
            0.2327288480283029,
            0.2811037171634517,
            0.4286831686742638,
            0.8434555540847883,
            0.843744359273655,
            0.882107315194763,
            0.8866800640184835,
            1.156039036834695,
            1.406818209167158,
            1.616731447275003,
            1.9036594024139304,
            2.30456913875886,
            2.631304075763228,
            2.6438671014789232,
            2.8265363834370225
           ],
           "yaxis": "y"
          }
         ],
         "name": "1936"
        },
        {
         "data": [
          {
           "alignmentgroup": "True",
           "hovertemplate": "year=1937<br>name=%{x}<br>percentage=%{y}<extra></extra>",
           "legendgroup": "",
           "marker": {
            "color": "rgb(76,114,176)",
            "pattern": {
             "shape": ""
            }
           },
           "name": "",
           "offsetgroup": "",
           "orientation": "v",
           "showlegend": false,
           "textposition": "auto",
           "type": "bar",
           "x": [
            "Jennifer",
            "Christopher",
            "Matthew",
            "Anthony",
            "Linda",
            "Daniel",
            "Michael",
            "Elizabeth",
            "Joseph",
            "George",
            "Thomas",
            "David",
            "Patricia",
            "Charles",
            "Richard",
            "William",
            "John",
            "Mary",
            "James",
            "Robert"
           ],
           "xaxis": "x",
           "y": [
            0.0017835150641314,
            0.0137987744435433,
            0.0284423718122014,
            0.2047287555195097,
            0.2063714667627887,
            0.2411969451203028,
            0.3352069628428104,
            0.4427810819741071,
            0.8159112072331861,
            0.8720919317533268,
            0.9309948634766152,
            0.9877388032801658,
            1.264230572827491,
            1.440845498783455,
            1.553160013216785,
            1.9189683397915356,
            2.2983407677750742,
            2.625099501366736,
            2.666308086269562,
            2.912949445796161
           ],
           "yaxis": "y"
          }
         ],
         "name": "1937"
        },
        {
         "data": [
          {
           "alignmentgroup": "True",
           "hovertemplate": "year=1938<br>name=%{x}<br>percentage=%{y}<extra></extra>",
           "legendgroup": "",
           "marker": {
            "color": "rgb(76,114,176)",
            "pattern": {
             "shape": ""
            }
           },
           "name": "",
           "offsetgroup": "",
           "orientation": "v",
           "showlegend": false,
           "textposition": "auto",
           "type": "bar",
           "x": [
            "Jennifer",
            "Christopher",
            "Matthew",
            "Anthony",
            "Daniel",
            "Linda",
            "Michael",
            "Elizabeth",
            "Joseph",
            "George",
            "Thomas",
            "David",
            "Patricia",
            "Charles",
            "Richard",
            "William",
            "John",
            "Mary",
            "James",
            "Robert"
           ],
           "xaxis": "x",
           "y": [
            0.0023050191113202,
            0.0142820791995527,
            0.0274342470700269,
            0.212649312132581,
            0.2535972986983874,
            0.3197649061292266,
            0.4128244031921351,
            0.445049474297455,
            0.8051296166482039,
            0.8395241175053546,
            0.9697350990683656,
            1.0421398170357183,
            1.2503146803051484,
            1.4144230017405155,
            1.5595488128473631,
            1.923832225342284,
            2.293313229950966,
            2.553599603717499,
            2.683584603014694,
            2.824281161711553
           ],
           "yaxis": "y"
          }
         ],
         "name": "1938"
        },
        {
         "data": [
          {
           "alignmentgroup": "True",
           "hovertemplate": "year=1939<br>name=%{x}<br>percentage=%{y}<extra></extra>",
           "legendgroup": "",
           "marker": {
            "color": "rgb(76,114,176)",
            "pattern": {
             "shape": ""
            }
           },
           "name": "",
           "offsetgroup": "",
           "orientation": "v",
           "showlegend": false,
           "textposition": "auto",
           "type": "bar",
           "x": [
            "Jennifer",
            "Christopher",
            "Matthew",
            "Anthony",
            "Daniel",
            "Elizabeth",
            "Linda",
            "Michael",
            "Joseph",
            "George",
            "Thomas",
            "David",
            "Patricia",
            "Charles",
            "Richard",
            "William",
            "John",
            "Mary",
            "Robert",
            "James"
           ],
           "xaxis": "x",
           "y": [
            0.002813826781731,
            0.0165198862669368,
            0.0282290364231723,
            0.2104016283887891,
            0.2641820273621962,
            0.4429507966079772,
            0.488198946630329,
            0.495097360675863,
            0.8069329061157617,
            0.818278981848548,
            1.007713062283148,
            1.15521204680937,
            1.3531783761950256,
            1.4038726425691146,
            1.6105073738146187,
            1.916669881388124,
            2.325945525221192,
            2.5040335299230057,
            2.716976679275939,
            2.718565129878529
           ],
           "yaxis": "y"
          }
         ],
         "name": "1939"
        },
        {
         "data": [
          {
           "alignmentgroup": "True",
           "hovertemplate": "year=1940<br>name=%{x}<br>percentage=%{y}<extra></extra>",
           "legendgroup": "",
           "marker": {
            "color": "rgb(76,114,176)",
            "pattern": {
             "shape": ""
            }
           },
           "name": "",
           "offsetgroup": "",
           "orientation": "v",
           "showlegend": false,
           "textposition": "auto",
           "type": "bar",
           "x": [
            "Jennifer",
            "Christopher",
            "Matthew",
            "Anthony",
            "Daniel",
            "Elizabeth",
            "Michael",
            "Joseph",
            "Linda",
            "George",
            "Thomas",
            "David",
            "Charles",
            "Patricia",
            "Richard",
            "William",
            "John",
            "Mary",
            "Robert",
            "James"
           ],
           "xaxis": "x",
           "y": [
            0.00442977696073,
            0.021975168060092,
            0.0290541253600822,
            0.2079389420389742,
            0.2713021242517694,
            0.4345090048245482,
            0.5779556058176001,
            0.7934946553872385,
            0.8002696083860021,
            0.8008776169884553,
            1.0456010794758446,
            1.2061587797093634,
            1.382133840933658,
            1.424694443105378,
            1.6301144923627604,
            1.95105617608624,
            2.388257790435938,
            2.454443869731551,
            2.6665520136159184,
            2.724833981079641
           ],
           "yaxis": "y"
          }
         ],
         "name": "1940"
        },
        {
         "data": [
          {
           "alignmentgroup": "True",
           "hovertemplate": "year=1941<br>name=%{x}<br>percentage=%{y}<extra></extra>",
           "legendgroup": "",
           "marker": {
            "color": "rgb(76,114,176)",
            "pattern": {
             "shape": ""
            }
           },
           "name": "",
           "offsetgroup": "",
           "orientation": "v",
           "showlegend": false,
           "textposition": "auto",
           "type": "bar",
           "x": [
            "Jennifer",
            "Christopher",
            "Matthew",
            "Anthony",
            "Daniel",
            "Elizabeth",
            "Michael",
            "George",
            "Joseph",
            "Linda",
            "Thomas",
            "David",
            "Charles",
            "Patricia",
            "Richard",
            "William",
            "John",
            "Mary",
            "Robert",
            "James"
           ],
           "xaxis": "x",
           "y": [
            0.0055821437073643,
            0.0256532339492845,
            0.0298398417298078,
            0.2158155265685413,
            0.2906408793518146,
            0.4234220182733116,
            0.6579130991569321,
            0.7951271169048655,
            0.815690749238612,
            0.9769572391373946,
            1.0966039222768578,
            1.257788321827003,
            1.350222054393065,
            1.521011024733822,
            1.610161143354376,
            1.9674183406256924,
            2.369866274822069,
            2.395396373248397,
            2.644909987932719,
            2.750108769711945
           ],
           "yaxis": "y"
          }
         ],
         "name": "1941"
        },
        {
         "data": [
          {
           "alignmentgroup": "True",
           "hovertemplate": "year=1942<br>name=%{x}<br>percentage=%{y}<extra></extra>",
           "legendgroup": "",
           "marker": {
            "color": "rgb(76,114,176)",
            "pattern": {
             "shape": ""
            }
           },
           "name": "",
           "offsetgroup": "",
           "orientation": "v",
           "showlegend": false,
           "textposition": "auto",
           "type": "bar",
           "x": [
            "Jennifer",
            "Christopher",
            "Matthew",
            "Anthony",
            "Daniel",
            "Elizabeth",
            "George",
            "Michael",
            "Joseph",
            "Thomas",
            "Linda",
            "Charles",
            "David",
            "Patricia",
            "Richard",
            "William",
            "Mary",
            "John",
            "Robert",
            "James"
           ],
           "xaxis": "x",
           "y": [
            0.0072481647134449,
            0.030347113875989,
            0.0308230034783869,
            0.2281341540110538,
            0.312439827420466,
            0.4113516509342445,
            0.7842660647517357,
            0.801141842190615,
            0.8238747224282377,
            1.1422082595399392,
            1.1616099125607766,
            1.3183606262121457,
            1.31843383999713,
            1.4503650805388242,
            1.600270305294162,
            2.0155388937250662,
            2.325709093811019,
            2.4262316205944523,
            2.637563210951611,
            2.835386857979168
           ],
           "yaxis": "y"
          }
         ],
         "name": "1942"
        },
        {
         "data": [
          {
           "alignmentgroup": "True",
           "hovertemplate": "year=1943<br>name=%{x}<br>percentage=%{y}<extra></extra>",
           "legendgroup": "",
           "marker": {
            "color": "rgb(76,114,176)",
            "pattern": {
             "shape": ""
            }
           },
           "name": "",
           "offsetgroup": "",
           "orientation": "v",
           "showlegend": false,
           "textposition": "auto",
           "type": "bar",
           "x": [
            "Jennifer",
            "Matthew",
            "Christopher",
            "Anthony",
            "Daniel",
            "Elizabeth",
            "George",
            "Joseph",
            "Michael",
            "Thomas",
            "Charles",
            "David",
            "Linda",
            "Patricia",
            "Richard",
            "William",
            "Mary",
            "John",
            "Robert",
            "James"
           ],
           "xaxis": "x",
           "y": [
            0.0119397443264956,
            0.029123055894301,
            0.0320282755820536,
            0.2205132602021041,
            0.3260223361792677,
            0.4138520874712046,
            0.7738158926854363,
            0.8110523060004124,
            0.883399362127131,
            1.1679691734933424,
            1.304018485700296,
            1.3232567087545606,
            1.3668350040708506,
            1.408960689543264,
            1.6458423826202673,
            1.9865325352718477,
            2.353688530688686,
            2.4501630820271063,
            2.6619252536575653,
            2.853811471082789
           ],
           "yaxis": "y"
          }
         ],
         "name": "1943"
        },
        {
         "data": [
          {
           "alignmentgroup": "True",
           "hovertemplate": "year=1944<br>name=%{x}<br>percentage=%{y}<extra></extra>",
           "legendgroup": "",
           "marker": {
            "color": "rgb(76,114,176)",
            "pattern": {
             "shape": ""
            }
           },
           "name": "",
           "offsetgroup": "",
           "orientation": "v",
           "showlegend": false,
           "textposition": "auto",
           "type": "bar",
           "x": [
            "Jennifer",
            "Matthew",
            "Christopher",
            "Anthony",
            "Daniel",
            "Elizabeth",
            "George",
            "Joseph",
            "Michael",
            "Thomas",
            "Charles",
            "Patricia",
            "David",
            "Linda",
            "Richard",
            "William",
            "Mary",
            "John",
            "Robert",
            "James"
           ],
           "xaxis": "x",
           "y": [
            0.0254274431256126,
            0.0284385877062773,
            0.0376207199460819,
            0.2088470401749884,
            0.3472109923877521,
            0.4113743941930262,
            0.7638641832530547,
            0.7902209919899837,
            0.9994397784094986,
            1.1783984205245563,
            1.2937884548255822,
            1.375089358503528,
            1.393379273734232,
            1.4322267562872513,
            1.7002929732153111,
            1.951965180759753,
            2.331703969543574,
            2.4830046910658594,
            2.641071194238528,
            2.8695836107489683
           ],
           "yaxis": "y"
          }
         ],
         "name": "1944"
        },
        {
         "data": [
          {
           "alignmentgroup": "True",
           "hovertemplate": "year=1945<br>name=%{x}<br>percentage=%{y}<extra></extra>",
           "legendgroup": "",
           "marker": {
            "color": "rgb(76,114,176)",
            "pattern": {
             "shape": ""
            }
           },
           "name": "",
           "offsetgroup": "",
           "orientation": "v",
           "showlegend": false,
           "textposition": "auto",
           "type": "bar",
           "x": [
            "Matthew",
            "Jennifer",
            "Christopher",
            "Anthony",
            "Daniel",
            "Elizabeth",
            "George",
            "Joseph",
            "Michael",
            "Thomas",
            "Charles",
            "Patricia",
            "David",
            "Linda",
            "Richard",
            "William",
            "Mary",
            "John",
            "Robert",
            "James"
           ],
           "xaxis": "x",
           "y": [
            0.0275175858105757,
            0.0371298931827631,
            0.0439150513278366,
            0.214712559968547,
            0.3671147509715027,
            0.3908251091562316,
            0.733136337575188,
            0.787040649505494,
            1.1331214102272689,
            1.205081781888076,
            1.2285659681346357,
            1.354769909633002,
            1.4020021493873192,
            1.5671076642507733,
            1.7397145483968368,
            1.898449553668528,
            2.2420424230704423,
            2.499727651291121,
            2.643836871227876,
            2.816104497466686
           ],
           "yaxis": "y"
          }
         ],
         "name": "1945"
        },
        {
         "data": [
          {
           "alignmentgroup": "True",
           "hovertemplate": "year=1946<br>name=%{x}<br>percentage=%{y}<extra></extra>",
           "legendgroup": "",
           "marker": {
            "color": "rgb(76,114,176)",
            "pattern": {
             "shape": ""
            }
           },
           "name": "",
           "offsetgroup": "",
           "orientation": "v",
           "showlegend": false,
           "textposition": "auto",
           "type": "bar",
           "x": [
            "Matthew",
            "Christopher",
            "Jennifer",
            "Anthony",
            "Elizabeth",
            "Daniel",
            "George",
            "Joseph",
            "Charles",
            "Thomas",
            "Michael",
            "Patricia",
            "David",
            "Linda",
            "Richard",
            "William",
            "Mary",
            "John",
            "Robert",
            "James"
           ],
           "xaxis": "x",
           "y": [
            0.0280416418381296,
            0.0507002899305468,
            0.0544245704871734,
            0.2126908459061706,
            0.3684534033039063,
            0.4037245309284287,
            0.6789457344156072,
            0.761850097394631,
            1.2000320475906725,
            1.2199991988102332,
            1.2944222169922337,
            1.4524694170843704,
            1.4567570341957807,
            1.6532363059142827,
            1.8461164829772208,
            1.8837348462466763,
            2.1173943305809124,
            2.487068296420184,
            2.6399515780934686,
            2.744419212530608
           ],
           "yaxis": "y"
          }
         ],
         "name": "1946"
        },
        {
         "data": [
          {
           "alignmentgroup": "True",
           "hovertemplate": "year=1947<br>name=%{x}<br>percentage=%{y}<extra></extra>",
           "legendgroup": "",
           "marker": {
            "color": "rgb(76,114,176)",
            "pattern": {
             "shape": ""
            }
           },
           "name": "",
           "offsetgroup": "",
           "orientation": "v",
           "showlegend": false,
           "textposition": "auto",
           "type": "bar",
           "x": [
            "Matthew",
            "Jennifer",
            "Christopher",
            "Anthony",
            "Elizabeth",
            "Daniel",
            "George",
            "Joseph",
            "Charles",
            "Thomas",
            "Michael",
            "Patricia",
            "David",
            "Richard",
            "William",
            "Mary",
            "John",
            "Robert",
            "James",
            "Linda"
           ],
           "xaxis": "x",
           "y": [
            0.0290376328832592,
            0.0557988930165881,
            0.0639327615010957,
            0.2231122901364768,
            0.3740191470708912,
            0.4226557941181859,
            0.6672270615192512,
            0.7658606271351405,
            1.1357156777122563,
            1.247591070178351,
            1.4067150775271484,
            1.4268415439137287,
            1.6078131775332003,
            1.628800223861827,
            1.864043915116836,
            1.9951296727408805,
            2.4574276654798064,
            2.550842230156831,
            2.6376775223736906,
            2.7735381106439303
           ],
           "yaxis": "y"
          }
         ],
         "name": "1947"
        },
        {
         "data": [
          {
           "alignmentgroup": "True",
           "hovertemplate": "year=1948<br>name=%{x}<br>percentage=%{y}<extra></extra>",
           "legendgroup": "",
           "marker": {
            "color": "rgb(76,114,176)",
            "pattern": {
             "shape": ""
            }
           },
           "name": "",
           "offsetgroup": "",
           "orientation": "v",
           "showlegend": false,
           "textposition": "auto",
           "type": "bar",
           "x": [
            "Matthew",
            "Jennifer",
            "Christopher",
            "Anthony",
            "Elizabeth",
            "Daniel",
            "George",
            "Joseph",
            "Charles",
            "Thomas",
            "Patricia",
            "Richard",
            "Michael",
            "David",
            "William",
            "Mary",
            "John",
            "Robert",
            "James",
            "Linda"
           ],
           "xaxis": "x",
           "y": [
            0.0307025674297896,
            0.0545115395310038,
            0.0889795161738808,
            0.2288499860969506,
            0.3836083047548428,
            0.4795103809435536,
            0.6387582259708963,
            0.7783390490314209,
            1.1248435906942256,
            1.2707966447307442,
            1.3391822689776625,
            1.479834785429604,
            1.527423764945778,
            1.6435431921401429,
            1.7995759569932337,
            1.9917276856057091,
            2.404793076281398,
            2.481781212345908,
            2.5735413384002226,
            2.7928329780331818
           ],
           "yaxis": "y"
          }
         ],
         "name": "1948"
        },
        {
         "data": [
          {
           "alignmentgroup": "True",
           "hovertemplate": "year=1949<br>name=%{x}<br>percentage=%{y}<extra></extra>",
           "legendgroup": "",
           "marker": {
            "color": "rgb(76,114,176)",
            "pattern": {
             "shape": ""
            }
           },
           "name": "",
           "offsetgroup": "",
           "orientation": "v",
           "showlegend": false,
           "textposition": "auto",
           "type": "bar",
           "x": [
            "Matthew",
            "Jennifer",
            "Christopher",
            "Anthony",
            "Elizabeth",
            "Daniel",
            "George",
            "Joseph",
            "Charles",
            "Thomas",
            "Patricia",
            "Richard",
            "David",
            "Michael",
            "William",
            "Mary",
            "John",
            "Robert",
            "James",
            "Linda"
           ],
           "xaxis": "x",
           "y": [
            0.0349813600144402,
            0.0751281382426616,
            0.115619277685135,
            0.2431477140298211,
            0.3942361967829201,
            0.5246917034487488,
            0.6146560706721041,
            0.7593164774258311,
            1.1532370097623534,
            1.2998487967301755,
            1.332419628244851,
            1.465228269874736,
            1.713971853636153,
            1.7286359020097206,
            1.7685244093272532,
            1.923802620187086,
            2.3350560003076293,
            2.412709454121473,
            2.4999189316308112,
            2.616743473565829
           ],
           "yaxis": "y"
          }
         ],
         "name": "1949"
        },
        {
         "data": [
          {
           "alignmentgroup": "True",
           "hovertemplate": "year=1950<br>name=%{x}<br>percentage=%{y}<extra></extra>",
           "legendgroup": "",
           "marker": {
            "color": "rgb(76,114,176)",
            "pattern": {
             "shape": ""
            }
           },
           "name": "",
           "offsetgroup": "",
           "orientation": "v",
           "showlegend": false,
           "textposition": "auto",
           "type": "bar",
           "x": [
            "Matthew",
            "Jennifer",
            "Christopher",
            "Anthony",
            "Elizabeth",
            "Daniel",
            "George",
            "Joseph",
            "Charles",
            "Thomas",
            "Patricia",
            "Richard",
            "William",
            "David",
            "Michael",
            "Mary",
            "John",
            "Linda",
            "Robert",
            "James"
           ],
           "xaxis": "x",
           "y": [
            0.0371067681603377,
            0.0801791628941452,
            0.1389220312587415,
            0.246531658923721,
            0.4099727008361011,
            0.5490374504339208,
            0.579208107315057,
            0.7731052427867297,
            1.1203960490996756,
            1.3037891148151912,
            1.3708952778497712,
            1.4585243380437996,
            1.735711896201523,
            1.7371961669279363,
            1.864415294382264,
            1.8724646087062755,
            2.2719903271218507,
            2.299506422896132,
            2.390731985234932,
            2.468427849029116
           ],
           "yaxis": "y"
          }
         ],
         "name": "1950"
        },
        {
         "data": [
          {
           "alignmentgroup": "True",
           "hovertemplate": "year=1951<br>name=%{x}<br>percentage=%{y}<extra></extra>",
           "legendgroup": "",
           "marker": {
            "color": "rgb(76,114,176)",
            "pattern": {
             "shape": ""
            }
           },
           "name": "",
           "offsetgroup": "",
           "orientation": "v",
           "showlegend": false,
           "textposition": "auto",
           "type": "bar",
           "x": [
            "Matthew",
            "Jennifer",
            "Christopher",
            "Anthony",
            "Elizabeth",
            "George",
            "Daniel",
            "Joseph",
            "Charles",
            "Thomas",
            "Richard",
            "Patricia",
            "William",
            "David",
            "Mary",
            "Michael",
            "Linda",
            "John",
            "Robert",
            "James"
           ],
           "xaxis": "x",
           "y": [
            0.0435152622384978,
            0.0809769352822452,
            0.1567689578461166,
            0.2680681313818878,
            0.4112911654245045,
            0.5517995854784439,
            0.574195150885032,
            0.7656297293665584,
            1.0738741477808709,
            1.313031640183345,
            1.4832650834133014,
            1.5357657179543212,
            1.7072750297589558,
            1.761540163392616,
            1.7884962803001818,
            1.9810167043771791,
            2.0116918424492334,
            2.219767004681352,
            2.3498241608788835,
            2.3754772630718843
           ],
           "yaxis": "y"
          }
         ],
         "name": "1951"
        },
        {
         "data": [
          {
           "alignmentgroup": "True",
           "hovertemplate": "year=1952<br>name=%{x}<br>percentage=%{y}<extra></extra>",
           "legendgroup": "",
           "marker": {
            "color": "rgb(76,114,176)",
            "pattern": {
             "shape": ""
            }
           },
           "name": "",
           "offsetgroup": "",
           "orientation": "v",
           "showlegend": false,
           "textposition": "auto",
           "type": "bar",
           "x": [
            "Matthew",
            "Jennifer",
            "Christopher",
            "Anthony",
            "Elizabeth",
            "George",
            "Daniel",
            "Joseph",
            "Charles",
            "Thomas",
            "Patricia",
            "Richard",
            "William",
            "Mary",
            "Linda",
            "David",
            "Michael",
            "John",
            "Robert",
            "James"
           ],
           "xaxis": "x",
           "y": [
            0.0535803523612479,
            0.0929954813464018,
            0.1663228923174463,
            0.2954949850369954,
            0.4226133836611258,
            0.5246135237335947,
            0.6175036874340777,
            0.7524945800906468,
            1.026610083006103,
            1.2828742449383024,
            1.4005667142526896,
            1.539033089224583,
            1.66354487611222,
            1.7321066636054336,
            1.7697840514329255,
            1.892716073631779,
            2.0861056009503867,
            2.194082517428754,
            2.284918987033818,
            2.2991631986443517
           ],
           "yaxis": "y"
          }
         ],
         "name": "1952"
        },
        {
         "data": [
          {
           "alignmentgroup": "True",
           "hovertemplate": "year=1953<br>name=%{x}<br>percentage=%{y}<extra></extra>",
           "legendgroup": "",
           "marker": {
            "color": "rgb(76,114,176)",
            "pattern": {
             "shape": ""
            }
           },
           "name": "",
           "offsetgroup": "",
           "orientation": "v",
           "showlegend": false,
           "textposition": "auto",
           "type": "bar",
           "x": [
            "Matthew",
            "Jennifer",
            "Christopher",
            "Anthony",
            "Elizabeth",
            "George",
            "Daniel",
            "Joseph",
            "Charles",
            "Thomas",
            "Patricia",
            "Richard",
            "Linda",
            "William",
            "Mary",
            "David",
            "John",
            "Michael",
            "James",
            "Robert"
           ],
           "xaxis": "x",
           "y": [
            0.06178623726486,
            0.0877618876227453,
            0.1583710231110629,
            0.3044159384099424,
            0.4185686716010888,
            0.5003621280726716,
            0.610778104369177,
            0.7609490220725559,
            1.0006464070433716,
            1.2224125488600426,
            1.3272752892159012,
            1.518628381862301,
            1.5931818718505173,
            1.6079991509257947,
            1.6746379822135564,
            1.9791577194261276,
            2.08464325259776,
            2.191062974993052,
            2.239874361929298,
            2.2440263140344543
           ],
           "yaxis": "y"
          }
         ],
         "name": "1953"
        },
        {
         "data": [
          {
           "alignmentgroup": "True",
           "hovertemplate": "year=1954<br>name=%{x}<br>percentage=%{y}<extra></extra>",
           "legendgroup": "",
           "marker": {
            "color": "rgb(76,114,176)",
            "pattern": {
             "shape": ""
            }
           },
           "name": "",
           "offsetgroup": "",
           "orientation": "v",
           "showlegend": false,
           "textposition": "auto",
           "type": "bar",
           "x": [
            "Matthew",
            "Jennifer",
            "Christopher",
            "Anthony",
            "Elizabeth",
            "George",
            "Daniel",
            "Joseph",
            "Charles",
            "Thomas",
            "Patricia",
            "Linda",
            "Richard",
            "William",
            "Mary",
            "David",
            "John",
            "Robert",
            "James",
            "Michael"
           ],
           "xaxis": "x",
           "y": [
            0.0675256424105247,
            0.0998816793989011,
            0.1535906911078677,
            0.3310715927560661,
            0.4176893066814713,
            0.4723026796727217,
            0.6361176774997426,
            0.7862918926523158,
            0.944303905584682,
            1.186672729236744,
            1.2371913553109872,
            1.3939473109068483,
            1.4357488990657443,
            1.5464075504118613,
            1.7130109955259236,
            2.0025070904436646,
            2.0439318614016093,
            2.173707705409337,
            2.173883553436448,
            2.230280527845535
           ],
           "yaxis": "y"
          }
         ],
         "name": "1954"
        },
        {
         "data": [
          {
           "alignmentgroup": "True",
           "hovertemplate": "year=1955<br>name=%{x}<br>percentage=%{y}<extra></extra>",
           "legendgroup": "",
           "marker": {
            "color": "rgb(76,114,176)",
            "pattern": {
             "shape": ""
            }
           },
           "name": "",
           "offsetgroup": "",
           "orientation": "v",
           "showlegend": false,
           "textposition": "auto",
           "type": "bar",
           "x": [
            "Matthew",
            "Jennifer",
            "Christopher",
            "Anthony",
            "Elizabeth",
            "George",
            "Daniel",
            "Joseph",
            "Charles",
            "Thomas",
            "Patricia",
            "Linda",
            "Richard",
            "William",
            "Mary",
            "John",
            "Robert",
            "James",
            "David",
            "Michael"
           ],
           "xaxis": "x",
           "y": [
            0.0818417023074079,
            0.1026881736498609,
            0.1979543061288127,
            0.3544647313569782,
            0.4168547083137819,
            0.4551853169111955,
            0.6600884468208259,
            0.7887039522120174,
            0.8845927391516158,
            1.1439158689217717,
            1.1536292785078608,
            1.2802771958034085,
            1.337162907328095,
            1.496836417216346,
            1.5770841241044984,
            2.000115564667896,
            2.091720488918245,
            2.102629395068776,
            2.1532138434517174,
            2.206836845602615
           ],
           "yaxis": "y"
          }
         ],
         "name": "1955"
        },
        {
         "data": [
          {
           "alignmentgroup": "True",
           "hovertemplate": "year=1956<br>name=%{x}<br>percentage=%{y}<extra></extra>",
           "legendgroup": "",
           "marker": {
            "color": "rgb(76,114,176)",
            "pattern": {
             "shape": ""
            }
           },
           "name": "",
           "offsetgroup": "",
           "orientation": "v",
           "showlegend": false,
           "textposition": "auto",
           "type": "bar",
           "x": [
            "Matthew",
            "Jennifer",
            "Christopher",
            "Anthony",
            "Elizabeth",
            "George",
            "Daniel",
            "Joseph",
            "Charles",
            "Patricia",
            "Thomas",
            "Linda",
            "Richard",
            "William",
            "Mary",
            "John",
            "David",
            "Robert",
            "James",
            "Michael"
           ],
           "xaxis": "x",
           "y": [
            0.106061359394725,
            0.1144046266327276,
            0.2041432568089185,
            0.3791578393363222,
            0.3974451169452,
            0.4202435797467188,
            0.6479129098720982,
            0.7962241865011271,
            0.8583863781610129,
            1.053458757216987,
            1.090057566118574,
            1.1687122627838136,
            1.2863426293661178,
            1.434484130208327,
            1.5009877312740338,
            1.9651789861232547,
            1.9839998447764235,
            2.0403411523167723,
            2.0651284171924664,
            2.205508739208627
           ],
           "yaxis": "y"
          }
         ],
         "name": "1956"
        },
        {
         "data": [
          {
           "alignmentgroup": "True",
           "hovertemplate": "year=1957<br>name=%{x}<br>percentage=%{y}<extra></extra>",
           "legendgroup": "",
           "marker": {
            "color": "rgb(76,114,176)",
            "pattern": {
             "shape": ""
            }
           },
           "name": "",
           "offsetgroup": "",
           "orientation": "v",
           "showlegend": false,
           "textposition": "auto",
           "type": "bar",
           "x": [
            "Matthew",
            "Jennifer",
            "Christopher",
            "George",
            "Anthony",
            "Elizabeth",
            "Daniel",
            "Joseph",
            "Charles",
            "Patricia",
            "Linda",
            "Thomas",
            "Richard",
            "William",
            "Mary",
            "John",
            "Robert",
            "David",
            "James",
            "Michael"
           ],
           "xaxis": "x",
           "y": [
            0.1247116593146831,
            0.1307794847535772,
            0.2148962021123647,
            0.4041885604119839,
            0.4074247339793941,
            0.4170618684999908,
            0.651827224500499,
            0.7601200620393509,
            0.8193705927956114,
            0.9368960431591336,
            1.0620360195636211,
            1.064320377375911,
            1.251066628530582,
            1.3568609497122424,
            1.4583958953897376,
            1.886403645073616,
            1.9520789321769407,
            1.9647618771139237,
            2.0135662299577346,
            2.213899651016753
           ],
           "yaxis": "y"
          }
         ],
         "name": "1957"
        },
        {
         "data": [
          {
           "alignmentgroup": "True",
           "hovertemplate": "year=1958<br>name=%{x}<br>percentage=%{y}<extra></extra>",
           "legendgroup": "",
           "marker": {
            "color": "rgb(76,114,176)",
            "pattern": {
             "shape": ""
            }
           },
           "name": "",
           "offsetgroup": "",
           "orientation": "v",
           "showlegend": false,
           "textposition": "auto",
           "type": "bar",
           "x": [
            "Jennifer",
            "Matthew",
            "Christopher",
            "George",
            "Anthony",
            "Elizabeth",
            "Daniel",
            "Joseph",
            "Charles",
            "Patricia",
            "Linda",
            "Thomas",
            "Richard",
            "William",
            "Mary",
            "John",
            "Robert",
            "James",
            "David",
            "Michael"
           ],
           "xaxis": "x",
           "y": [
            0.1426163149289568,
            0.1544969750290785,
            0.2688513531007192,
            0.3802779106588878,
            0.4235419030397794,
            0.4494809409773161,
            0.6211576892672632,
            0.7300435761319233,
            0.7829379202844002,
            0.920932634237546,
            1.016171489948502,
            1.0206963034693222,
            1.2117547396211787,
            1.3159222380550366,
            1.3547098106426034,
            1.8445753172148347,
            1.8758376651768656,
            1.9113102674309967,
            2.004298814813417,
            2.19855123697997
           ],
           "yaxis": "y"
          }
         ],
         "name": "1958"
        },
        {
         "data": [
          {
           "alignmentgroup": "True",
           "hovertemplate": "year=1959<br>name=%{x}<br>percentage=%{y}<extra></extra>",
           "legendgroup": "",
           "marker": {
            "color": "rgb(76,114,176)",
            "pattern": {
             "shape": ""
            }
           },
           "name": "",
           "offsetgroup": "",
           "orientation": "v",
           "showlegend": false,
           "textposition": "auto",
           "type": "bar",
           "x": [
            "Jennifer",
            "Matthew",
            "Christopher",
            "George",
            "Anthony",
            "Elizabeth",
            "Daniel",
            "Joseph",
            "Charles",
            "Patricia",
            "Thomas",
            "Linda",
            "Richard",
            "William",
            "Mary",
            "Robert",
            "John",
            "James",
            "David",
            "Michael"
           ],
           "xaxis": "x",
           "y": [
            0.1501904625808509,
            0.1580091235353242,
            0.311302993079643,
            0.3636759927654531,
            0.4340679987740339,
            0.4444367460705816,
            0.6065115733022319,
            0.7127731900281039,
            0.7441921783559257,
            0.8494433835122964,
            0.9720399872784372,
            0.9750471645686192,
            1.138252690461378,
            1.239606593849673,
            1.315026600287438,
            1.7985807085487076,
            1.8434718511365449,
            1.898491166837715,
            2.0250813020452174,
            2.0573663574326115
           ],
           "yaxis": "y"
          }
         ],
         "name": "1959"
        },
        {
         "data": [
          {
           "alignmentgroup": "True",
           "hovertemplate": "year=1960<br>name=%{x}<br>percentage=%{y}<extra></extra>",
           "legendgroup": "",
           "marker": {
            "color": "rgb(76,114,176)",
            "pattern": {
             "shape": ""
            }
           },
           "name": "",
           "offsetgroup": "",
           "orientation": "v",
           "showlegend": false,
           "textposition": "auto",
           "type": "bar",
           "x": [
            "Matthew",
            "Jennifer",
            "George",
            "Christopher",
            "Elizabeth",
            "Anthony",
            "Daniel",
            "Charles",
            "Joseph",
            "Patricia",
            "Linda",
            "Thomas",
            "Richard",
            "William",
            "Mary",
            "Robert",
            "John",
            "James",
            "Michael",
            "David"
           ],
           "xaxis": "x",
           "y": [
            0.1671043265866546,
            0.1746627763919282,
            0.34039502769546,
            0.3710380423518718,
            0.455264207538663,
            0.4718735399133089,
            0.6264847599746863,
            0.7172343006303603,
            0.7188952338678248,
            0.7745003900785958,
            0.9005868871487337,
            0.9483206641036942,
            1.0512263103379134,
            1.1919482770946956,
            1.243292778478927,
            1.748240554164357,
            1.8375698765445176,
            1.8563215720805308,
            2.0336803560463146,
            2.0738316116998066
           ],
           "yaxis": "y"
          }
         ],
         "name": "1960"
        },
        {
         "data": [
          {
           "alignmentgroup": "True",
           "hovertemplate": "year=1961<br>name=%{x}<br>percentage=%{y}<extra></extra>",
           "legendgroup": "",
           "marker": {
            "color": "rgb(76,114,176)",
            "pattern": {
             "shape": ""
            }
           },
           "name": "",
           "offsetgroup": "",
           "orientation": "v",
           "showlegend": false,
           "textposition": "auto",
           "type": "bar",
           "x": [
            "Matthew",
            "Jennifer",
            "George",
            "Christopher",
            "Elizabeth",
            "Anthony",
            "Daniel",
            "Patricia",
            "Charles",
            "Joseph",
            "Linda",
            "Thomas",
            "Richard",
            "Mary",
            "William",
            "Robert",
            "James",
            "John",
            "David",
            "Michael"
           ],
           "xaxis": "x",
           "y": [
            0.1711935929306633,
            0.2244184030335244,
            0.3316649464395161,
            0.4173221158745652,
            0.4570475299486153,
            0.4905907519236035,
            0.6266472764787393,
            0.6992397352669427,
            0.7079817412820224,
            0.7139465906901017,
            0.8613049351763349,
            0.909555012574482,
            0.9962747462765577,
            1.1553937452637406,
            1.1643047955940289,
            1.76781715007706,
            1.8406752499320205,
            1.936837316097897,
            2.0526326720158727,
            2.107064941513082
           ],
           "yaxis": "y"
          }
         ],
         "name": "1961"
        },
        {
         "data": [
          {
           "alignmentgroup": "True",
           "hovertemplate": "year=1962<br>name=%{x}<br>percentage=%{y}<extra></extra>",
           "legendgroup": "",
           "marker": {
            "color": "rgb(76,114,176)",
            "pattern": {
             "shape": ""
            }
           },
           "name": "",
           "offsetgroup": "",
           "orientation": "v",
           "showlegend": false,
           "textposition": "auto",
           "type": "bar",
           "x": [
            "Matthew",
            "Jennifer",
            "George",
            "Christopher",
            "Elizabeth",
            "Anthony",
            "Daniel",
            "Patricia",
            "Charles",
            "Joseph",
            "Linda",
            "Thomas",
            "Richard",
            "Mary",
            "William",
            "Robert",
            "James",
            "John",
            "David",
            "Michael"
           ],
           "xaxis": "x",
           "y": [
            0.1808652586041108,
            0.2727105105069382,
            0.3123382918864906,
            0.4360295094383016,
            0.4423243540101629,
            0.5006879719894286,
            0.6354323418209646,
            0.6595956231499601,
            0.6865098011225641,
            0.7479960585351153,
            0.7819485666589344,
            0.9077215438329358,
            0.9801618221146317,
            1.081845866517573,
            1.115897506051973,
            1.7452084832695918,
            1.8043651525335016,
            1.950608765992375,
            2.022702084337039,
            2.1161334388091544
           ],
           "yaxis": "y"
          }
         ],
         "name": "1962"
        },
        {
         "data": [
          {
           "alignmentgroup": "True",
           "hovertemplate": "year=1963<br>name=%{x}<br>percentage=%{y}<extra></extra>",
           "legendgroup": "",
           "marker": {
            "color": "rgb(76,114,176)",
            "pattern": {
             "shape": ""
            }
           },
           "name": "",
           "offsetgroup": "",
           "orientation": "v",
           "showlegend": false,
           "textposition": "auto",
           "type": "bar",
           "x": [
            "Matthew",
            "Jennifer",
            "George",
            "Elizabeth",
            "Christopher",
            "Anthony",
            "Daniel",
            "Patricia",
            "Charles",
            "Linda",
            "Joseph",
            "Thomas",
            "Richard",
            "Mary",
            "William",
            "Robert",
            "James",
            "David",
            "John",
            "Michael"
           ],
           "xaxis": "x",
           "y": [
            0.2034562811506117,
            0.2976564888003051,
            0.307205343316686,
            0.4457142568439772,
            0.465190888675008,
            0.514097191171604,
            0.6290876296863277,
            0.6428551580234376,
            0.6797875000947307,
            0.7024723449511063,
            0.7635041769923129,
            0.9002195226077971,
            1.033903485837129,
            1.0530769794295445,
            1.127547940049361,
            1.7751775253309892,
            1.8090784850161292,
            1.987778476679828,
            1.9926792115374412,
            2.125782159809427
           ],
           "yaxis": "y"
          }
         ],
         "name": "1963"
        },
        {
         "data": [
          {
           "alignmentgroup": "True",
           "hovertemplate": "year=1964<br>name=%{x}<br>percentage=%{y}<extra></extra>",
           "legendgroup": "",
           "marker": {
            "color": "rgb(76,114,176)",
            "pattern": {
             "shape": ""
            }
           },
           "name": "",
           "offsetgroup": "",
           "orientation": "v",
           "showlegend": false,
           "textposition": "auto",
           "type": "bar",
           "x": [
            "Matthew",
            "George",
            "Jennifer",
            "Elizabeth",
            "Christopher",
            "Anthony",
            "Linda",
            "Daniel",
            "Charles",
            "Patricia",
            "Joseph",
            "Thomas",
            "Richard",
            "Mary",
            "William",
            "Robert",
            "James",
            "David",
            "John",
            "Michael"
           ],
           "xaxis": "x",
           "y": [
            0.2316552858226502,
            0.3050668098885889,
            0.3340815958543838,
            0.4461280565520814,
            0.5065498049861704,
            0.520851419345197,
            0.6102107867611294,
            0.6280620823819287,
            0.6695779197478801,
            0.6731533233376367,
            0.7890581332329134,
            0.8889893774502124,
            1.0349893110866064,
            1.05759923738442,
            1.1416083605797092,
            1.8075079874258968,
            1.886758479944172,
            1.9368655748567327,
            2.1294743667998826,
            2.1331783820295587
           ],
           "yaxis": "y"
          }
         ],
         "name": "1964"
        },
        {
         "data": [
          {
           "alignmentgroup": "True",
           "hovertemplate": "year=1965<br>name=%{x}<br>percentage=%{y}<extra></extra>",
           "legendgroup": "",
           "marker": {
            "color": "rgb(76,114,176)",
            "pattern": {
             "shape": ""
            }
           },
           "name": "",
           "offsetgroup": "",
           "orientation": "v",
           "showlegend": false,
           "textposition": "auto",
           "type": "bar",
           "x": [
            "Matthew",
            "George",
            "Jennifer",
            "Elizabeth",
            "Linda",
            "Anthony",
            "Patricia",
            "Charles",
            "Christopher",
            "Daniel",
            "Joseph",
            "Thomas",
            "Mary",
            "Richard",
            "William",
            "Robert",
            "James",
            "David",
            "John",
            "Michael"
           ],
           "xaxis": "x",
           "y": [
            0.2760903292535769,
            0.296721254956042,
            0.4203413204619893,
            0.4516738493363213,
            0.5351629029477677,
            0.5638476124806068,
            0.6514187209101879,
            0.6516669539734529,
            0.6819789691432512,
            0.6878262368557145,
            0.7932425443888984,
            0.8751870367178073,
            0.9489950008619203,
            1.0196035166350628,
            1.110732632304775,
            1.7478089984485432,
            1.8752353042578864,
            1.877028098603689,
            1.9795483537321152,
            2.2441923806240305
           ],
           "yaxis": "y"
          }
         ],
         "name": "1965"
        },
        {
         "data": [
          {
           "alignmentgroup": "True",
           "hovertemplate": "year=1966<br>name=%{x}<br>percentage=%{y}<extra></extra>",
           "legendgroup": "",
           "marker": {
            "color": "rgb(76,114,176)",
            "pattern": {
             "shape": ""
            }
           },
           "name": "",
           "offsetgroup": "",
           "orientation": "v",
           "showlegend": false,
           "textposition": "auto",
           "type": "bar",
           "x": [
            "George",
            "Matthew",
            "Linda",
            "Elizabeth",
            "Jennifer",
            "Patricia",
            "Anthony",
            "Charles",
            "Daniel",
            "Joseph",
            "Christopher",
            "Mary",
            "Thomas",
            "Richard",
            "William",
            "Robert",
            "John",
            "James",
            "David",
            "Michael"
           ],
           "xaxis": "x",
           "y": [
            0.2879764854209207,
            0.3120296717344274,
            0.4493284816483683,
            0.4584778994087692,
            0.5255448578977457,
            0.5809304842775311,
            0.5984237106873543,
            0.6440557124735048,
            0.6717053680324522,
            0.7794268148718895,
            0.8048035018677183,
            0.8342082344184409,
            0.8379485624336991,
            0.9956465459077792,
            1.1054107872786263,
            1.7137895248373602,
            1.87891062083403,
            1.883514101468194,
            1.9177237169308248,
            2.3112062241359914
           ],
           "yaxis": "y"
          }
         ],
         "name": "1966"
        },
        {
         "data": [
          {
           "alignmentgroup": "True",
           "hovertemplate": "year=1967<br>name=%{x}<br>percentage=%{y}<extra></extra>",
           "legendgroup": "",
           "marker": {
            "color": "rgb(76,114,176)",
            "pattern": {
             "shape": ""
            }
           },
           "name": "",
           "offsetgroup": "",
           "orientation": "v",
           "showlegend": false,
           "textposition": "auto",
           "type": "bar",
           "x": [
            "George",
            "Linda",
            "Matthew",
            "Elizabeth",
            "Patricia",
            "Jennifer",
            "Anthony",
            "Charles",
            "Daniel",
            "Mary",
            "Joseph",
            "Thomas",
            "Christopher",
            "Richard",
            "William",
            "Robert",
            "John",
            "James",
            "David",
            "Michael"
           ],
           "xaxis": "x",
           "y": [
            0.2881582086650702,
            0.3896601188214468,
            0.4011475665756507,
            0.4762578018915997,
            0.5247996324016718,
            0.5391736695915476,
            0.6196741688537,
            0.6308081566770054,
            0.6566401866268435,
            0.7495412384646879,
            0.7673615099808248,
            0.8364923814657393,
            0.8702772598607957,
            0.9940766006580244,
            1.113604967290229,
            1.6680363238988989,
            1.8230285035979277,
            1.826150732987532,
            1.976253383642464,
            2.438785158217501
           ],
           "yaxis": "y"
          }
         ],
         "name": "1967"
        },
        {
         "data": [
          {
           "alignmentgroup": "True",
           "hovertemplate": "year=1968<br>name=%{x}<br>percentage=%{y}<extra></extra>",
           "legendgroup": "",
           "marker": {
            "color": "rgb(76,114,176)",
            "pattern": {
             "shape": ""
            }
           },
           "name": "",
           "offsetgroup": "",
           "orientation": "v",
           "showlegend": false,
           "textposition": "auto",
           "type": "bar",
           "x": [
            "George",
            "Linda",
            "Elizabeth",
            "Patricia",
            "Matthew",
            "Anthony",
            "Charles",
            "Mary",
            "Daniel",
            "Joseph",
            "Jennifer",
            "Thomas",
            "Christopher",
            "Richard",
            "William",
            "Robert",
            "James",
            "John",
            "David",
            "Michael"
           ],
           "xaxis": "x",
           "y": [
            0.2795276208156322,
            0.3377477426013532,
            0.4421710215337495,
            0.4699047551957833,
            0.4707927082479295,
            0.6028313271020735,
            0.6424340332277951,
            0.6458674516960939,
            0.6546581869123416,
            0.755588850506296,
            0.7966714783855948,
            0.8155256815261663,
            0.9353105482606924,
            0.980862539835794,
            1.098841902030956,
            1.7300877268017087,
            1.8051197597080648,
            1.8121049903849484,
            1.893086308740684,
            2.4404205700836186
           ],
           "yaxis": "y"
          }
         ],
         "name": "1968"
        },
        {
         "data": [
          {
           "alignmentgroup": "True",
           "hovertemplate": "year=1969<br>name=%{x}<br>percentage=%{y}<extra></extra>",
           "legendgroup": "",
           "marker": {
            "color": "rgb(76,114,176)",
            "pattern": {
             "shape": ""
            }
           },
           "name": "",
           "offsetgroup": "",
           "orientation": "v",
           "showlegend": false,
           "textposition": "auto",
           "type": "bar",
           "x": [
            "George",
            "Linda",
            "Patricia",
            "Elizabeth",
            "Matthew",
            "Mary",
            "Anthony",
            "Charles",
            "Daniel",
            "Joseph",
            "Thomas",
            "Richard",
            "Jennifer",
            "Christopher",
            "William",
            "Robert",
            "John",
            "James",
            "David",
            "Michael"
           ],
           "xaxis": "x",
           "y": [
            0.2668856379504702,
            0.2961751570787128,
            0.4321211078458508,
            0.4418746903453344,
            0.5044242135131138,
            0.57431050227785,
            0.6061031531979955,
            0.6272215294653138,
            0.6694295103701585,
            0.7579310436103102,
            0.79326260499487,
            0.8995737770762615,
            0.9724810869691562,
            1.0318657308598171,
            1.0880567238435674,
            1.687427315670238,
            1.6987345661784887,
            1.7330878921501214,
            1.84066501594236,
            2.46377220234742
           ],
           "yaxis": "y"
          }
         ],
         "name": "1969"
        },
        {
         "data": [
          {
           "alignmentgroup": "True",
           "hovertemplate": "year=1970<br>name=%{x}<br>percentage=%{y}<extra></extra>",
           "legendgroup": "",
           "marker": {
            "color": "rgb(76,114,176)",
            "pattern": {
             "shape": ""
            }
           },
           "name": "",
           "offsetgroup": "",
           "orientation": "v",
           "showlegend": false,
           "textposition": "auto",
           "type": "bar",
           "x": [
            "Linda",
            "George",
            "Patricia",
            "Elizabeth",
            "Mary",
            "Matthew",
            "Anthony",
            "Charles",
            "Daniel",
            "Thomas",
            "Joseph",
            "Richard",
            "William",
            "Christopher",
            "Jennifer",
            "Robert",
            "John",
            "David",
            "James",
            "Michael"
           ],
           "xaxis": "x",
           "y": [
            0.2430944189480565,
            0.2490276084616154,
            0.3736523134309943,
            0.4209514784316084,
            0.5350960636060096,
            0.5616290653091677,
            0.5911286617691052,
            0.6257296922033176,
            0.6551461131093268,
            0.7433122002734258,
            0.744781635059494,
            0.8484738256235602,
            1.0840269943487757,
            1.1638200757507495,
            1.2828997437915686,
            1.594558544361266,
            1.6302408569965474,
            1.7197932033927863,
            1.7217339663177824,
            2.376907804611752
           ],
           "yaxis": "y"
          }
         ],
         "name": "1970"
        },
        {
         "data": [
          {
           "alignmentgroup": "True",
           "hovertemplate": "year=1971<br>name=%{x}<br>percentage=%{y}<extra></extra>",
           "legendgroup": "",
           "marker": {
            "color": "rgb(76,114,176)",
            "pattern": {
             "shape": ""
            }
           },
           "name": "",
           "offsetgroup": "",
           "orientation": "v",
           "showlegend": false,
           "textposition": "auto",
           "type": "bar",
           "x": [
            "Linda",
            "George",
            "Patricia",
            "Elizabeth",
            "Mary",
            "Anthony",
            "Charles",
            "Daniel",
            "Matthew",
            "Thomas",
            "Joseph",
            "Richard",
            "William",
            "Christopher",
            "Robert",
            "John",
            "David",
            "James",
            "Jennifer",
            "Michael"
           ],
           "xaxis": "x",
           "y": [
            0.2156457047699012,
            0.2413705301295097,
            0.3355298003019389,
            0.3981958244791961,
            0.4890338827705432,
            0.5641398847830812,
            0.5827270179421189,
            0.6379640155432716,
            0.6595227593327511,
            0.6783429599922155,
            0.7186636375660528,
            0.766296807965781,
            1.0376165119001353,
            1.4130882550877175,
            1.4839990420925733,
            1.5086459302627078,
            1.5552302969105154,
            1.599746189492035,
            1.659702803976831,
            2.2739230679141214
           ],
           "yaxis": "y"
          }
         ],
         "name": "1971"
        },
        {
         "data": [
          {
           "alignmentgroup": "True",
           "hovertemplate": "year=1972<br>name=%{x}<br>percentage=%{y}<extra></extra>",
           "legendgroup": "",
           "marker": {
            "color": "rgb(76,114,176)",
            "pattern": {
             "shape": ""
            }
           },
           "name": "",
           "offsetgroup": "",
           "orientation": "v",
           "showlegend": false,
           "textposition": "auto",
           "type": "bar",
           "x": [
            "Linda",
            "George",
            "Patricia",
            "Elizabeth",
            "Mary",
            "Charles",
            "Anthony",
            "Thomas",
            "Daniel",
            "Richard",
            "Joseph",
            "Matthew",
            "William",
            "Robert",
            "John",
            "David",
            "James",
            "Christopher",
            "Jennifer",
            "Michael"
           ],
           "xaxis": "x",
           "y": [
            0.1837866280832457,
            0.2296935182207087,
            0.3069367124367587,
            0.3893336947347692,
            0.440076237887405,
            0.5438518966735479,
            0.5597268365062534,
            0.6255171683179467,
            0.7071824399623455,
            0.7140859709116383,
            0.7186034888600235,
            0.7335876505057234,
            0.976897349584945,
            1.37797022828418,
            1.3804834953118026,
            1.481714073563644,
            1.5072603194266951,
            1.6680457821811914,
            2.0294472180520016,
            2.285450506296052
           ],
           "yaxis": "y"
          }
         ],
         "name": "1972"
        },
        {
         "data": [
          {
           "alignmentgroup": "True",
           "hovertemplate": "year=1973<br>name=%{x}<br>percentage=%{y}<extra></extra>",
           "legendgroup": "",
           "marker": {
            "color": "rgb(76,114,176)",
            "pattern": {
             "shape": ""
            }
           },
           "name": "",
           "offsetgroup": "",
           "orientation": "v",
           "showlegend": false,
           "textposition": "auto",
           "type": "bar",
           "x": [
            "Linda",
            "George",
            "Patricia",
            "Mary",
            "Elizabeth",
            "Charles",
            "Anthony",
            "Thomas",
            "Richard",
            "Joseph",
            "Daniel",
            "Matthew",
            "William",
            "Robert",
            "John",
            "David",
            "James",
            "Christopher",
            "Jennifer",
            "Michael"
           ],
           "xaxis": "x",
           "y": [
            0.1574679968088783,
            0.2206076587581339,
            0.2826535627838591,
            0.4098940678878971,
            0.4113192676064368,
            0.5260975612181281,
            0.5490333334327658,
            0.5975895564016159,
            0.6656345569170079,
            0.7115392455257843,
            0.7896269324299555,
            0.8168383038002122,
            0.934069266694972,
            1.290700638124888,
            1.3061126815928166,
            1.3695174969780797,
            1.4308673732342851,
            1.6105088261292804,
            2.077013152604751,
            2.263051432143424
           ],
           "yaxis": "y"
          }
         ],
         "name": "1973"
        },
        {
         "data": [
          {
           "alignmentgroup": "True",
           "hovertemplate": "year=1974<br>name=%{x}<br>percentage=%{y}<extra></extra>",
           "legendgroup": "",
           "marker": {
            "color": "rgb(76,114,176)",
            "pattern": {
             "shape": ""
            }
           },
           "name": "",
           "offsetgroup": "",
           "orientation": "v",
           "showlegend": false,
           "textposition": "auto",
           "type": "bar",
           "x": [
            "Linda",
            "George",
            "Patricia",
            "Mary",
            "Elizabeth",
            "Charles",
            "Anthony",
            "Thomas",
            "Richard",
            "Joseph",
            "Daniel",
            "William",
            "Matthew",
            "Robert",
            "John",
            "James",
            "David",
            "Christopher",
            "Jennifer",
            "Michael"
           ],
           "xaxis": "x",
           "y": [
            0.1348263900538318,
            0.2084727153357371,
            0.2658701416943457,
            0.388230271238199,
            0.4054330528918106,
            0.5017094236377404,
            0.5432855536762969,
            0.5713099704427923,
            0.6160437812437709,
            0.7222865818960952,
            0.7891241580340279,
            0.8931302681463033,
            0.8984588544328905,
            1.2255090608991628,
            1.246033985854906,
            1.368163867843166,
            1.3827352488614255,
            1.6078186807078203,
            2.08193129018231,
            2.2391574781445733
           ],
           "yaxis": "y"
          }
         ],
         "name": "1974"
        },
        {
         "data": [
          {
           "alignmentgroup": "True",
           "hovertemplate": "year=1975<br>name=%{x}<br>percentage=%{y}<extra></extra>",
           "legendgroup": "",
           "marker": {
            "color": "rgb(76,114,176)",
            "pattern": {
             "shape": ""
            }
           },
           "name": "",
           "offsetgroup": "",
           "orientation": "v",
           "showlegend": false,
           "textposition": "auto",
           "type": "bar",
           "x": [
            "Linda",
            "George",
            "Patricia",
            "Mary",
            "Elizabeth",
            "Charles",
            "Thomas",
            "Anthony",
            "Richard",
            "Joseph",
            "Daniel",
            "William",
            "Matthew",
            "John",
            "Robert",
            "David",
            "James",
            "Christopher",
            "Jennifer",
            "Michael"
           ],
           "xaxis": "x",
           "y": [
            0.1173614859606653,
            0.1953485907680488,
            0.2344911631172323,
            0.3653969063459316,
            0.4147390660754438,
            0.4871296440410235,
            0.5504796786467665,
            0.5506452563639795,
            0.5901189841475893,
            0.7372513436631752,
            0.7943756561017045,
            0.8520629327787583,
            0.9490914750656516,
            1.169243607872227,
            1.1776218403632113,
            1.3050835670738776,
            1.3189920953197802,
            1.552556023220619,
            1.934378239114093,
            2.284608226563302
           ],
           "yaxis": "y"
          }
         ],
         "name": "1975"
        },
        {
         "data": [
          {
           "alignmentgroup": "True",
           "hovertemplate": "year=1976<br>name=%{x}<br>percentage=%{y}<extra></extra>",
           "legendgroup": "",
           "marker": {
            "color": "rgb(76,114,176)",
            "pattern": {
             "shape": ""
            }
           },
           "name": "",
           "offsetgroup": "",
           "orientation": "v",
           "showlegend": false,
           "textposition": "auto",
           "type": "bar",
           "x": [
            "Linda",
            "George",
            "Patricia",
            "Mary",
            "Elizabeth",
            "Charles",
            "Thomas",
            "Anthony",
            "Richard",
            "Joseph",
            "William",
            "Daniel",
            "Matthew",
            "Robert",
            "John",
            "James",
            "David",
            "Christopher",
            "Jennifer",
            "Michael"
           ],
           "xaxis": "x",
           "y": [
            0.1038345975165374,
            0.1841078693509662,
            0.1994309692700998,
            0.3420840865817756,
            0.4484231047302574,
            0.4623951356242631,
            0.5348256165323396,
            0.5517634087010164,
            0.5564097680313342,
            0.7976250183712434,
            0.8119265782957682,
            0.8200329924465356,
            0.9917176173469356,
            1.1213543379531108,
            1.1270222372780374,
            1.2705321300690626,
            1.301969199580575,
            1.4986650778973674,
            1.9664315367190903,
            2.2224426405293025
           ],
           "yaxis": "y"
          }
         ],
         "name": "1976"
        },
        {
         "data": [
          {
           "alignmentgroup": "True",
           "hovertemplate": "year=1977<br>name=%{x}<br>percentage=%{y}<extra></extra>",
           "legendgroup": "",
           "marker": {
            "color": "rgb(76,114,176)",
            "pattern": {
             "shape": ""
            }
           },
           "name": "",
           "offsetgroup": "",
           "orientation": "v",
           "showlegend": false,
           "textposition": "auto",
           "type": "bar",
           "x": [
            "Linda",
            "George",
            "Patricia",
            "Mary",
            "Charles",
            "Elizabeth",
            "Thomas",
            "Anthony",
            "Richard",
            "William",
            "Daniel",
            "Joseph",
            "Matthew",
            "John",
            "Robert",
            "James",
            "David",
            "Christopher",
            "Jennifer",
            "Michael"
           ],
           "xaxis": "x",
           "y": [
            0.0922969506434816,
            0.1781091905664457,
            0.1868604021213188,
            0.3370475615756336,
            0.4668047343424928,
            0.5191546077804566,
            0.5262374228878179,
            0.5335720714212188,
            0.5532150786523009,
            0.7853740182824771,
            0.826895054400742,
            0.8394237673462077,
            1.01164635157898,
            1.0837336697827906,
            1.0846150867739288,
            1.2691145505261272,
            1.2835634933451443,
            1.47996208647771,
            1.861773039531867,
            2.145620789856653
           ],
           "yaxis": "y"
          }
         ],
         "name": "1977"
        },
        {
         "data": [
          {
           "alignmentgroup": "True",
           "hovertemplate": "year=1978<br>name=%{x}<br>percentage=%{y}<extra></extra>",
           "legendgroup": "",
           "marker": {
            "color": "rgb(76,114,176)",
            "pattern": {
             "shape": ""
            }
           },
           "name": "",
           "offsetgroup": "",
           "orientation": "v",
           "showlegend": false,
           "textposition": "auto",
           "type": "bar",
           "x": [
            "Linda",
            "George",
            "Patricia",
            "Mary",
            "Charles",
            "Thomas",
            "Richard",
            "Elizabeth",
            "Anthony",
            "William",
            "Daniel",
            "Joseph",
            "Robert",
            "John",
            "Matthew",
            "James",
            "David",
            "Christopher",
            "Jennifer",
            "Michael"
           ],
           "xaxis": "x",
           "y": [
            0.0928425542130262,
            0.1682633464715891,
            0.1743436359059678,
            0.3182543205497086,
            0.4715847282031862,
            0.5234719649825735,
            0.5301193280429564,
            0.531757540740302,
            0.5343093720573211,
            0.7676286650677291,
            0.8386388846795924,
            0.8458533213659796,
            1.059734590640576,
            1.078920581653719,
            1.085441928352768,
            1.265582316880112,
            1.289903474617627,
            1.497735958548178,
            1.780800210195291,
            2.132417362408248
           ],
           "yaxis": "y"
          }
         ],
         "name": "1978"
        },
        {
         "data": [
          {
           "alignmentgroup": "True",
           "hovertemplate": "year=1979<br>name=%{x}<br>percentage=%{y}<extra></extra>",
           "legendgroup": "",
           "marker": {
            "color": "rgb(76,114,176)",
            "pattern": {
             "shape": ""
            }
           },
           "name": "",
           "offsetgroup": "",
           "orientation": "v",
           "showlegend": false,
           "textposition": "auto",
           "type": "bar",
           "x": [
            "Linda",
            "George",
            "Patricia",
            "Mary",
            "Charles",
            "Thomas",
            "Richard",
            "Anthony",
            "Elizabeth",
            "William",
            "Daniel",
            "Joseph",
            "Robert",
            "John",
            "Matthew",
            "James",
            "David",
            "Christopher",
            "Jennifer",
            "Michael"
           ],
           "xaxis": "x",
           "y": [
            0.0828295985379193,
            0.1595882323063685,
            0.1709487505383473,
            0.3193868445799959,
            0.4491612300976794,
            0.4984803052793651,
            0.5061140926627582,
            0.5312094173286372,
            0.545695580788462,
            0.7475401322328258,
            0.863459494192461,
            0.8674867678514164,
            1.03011048254252,
            1.0717056074977016,
            1.075943261123916,
            1.1908708318093308,
            1.2728288561971777,
            1.5325278986377295,
            1.7107798394680631,
            2.052046200642981
           ],
           "yaxis": "y"
          }
         ],
         "name": "1979"
        },
        {
         "data": [
          {
           "alignmentgroup": "True",
           "hovertemplate": "year=1980<br>name=%{x}<br>percentage=%{y}<extra></extra>",
           "legendgroup": "",
           "marker": {
            "color": "rgb(76,114,176)",
            "pattern": {
             "shape": ""
            }
           },
           "name": "",
           "offsetgroup": "",
           "orientation": "v",
           "showlegend": false,
           "textposition": "auto",
           "type": "bar",
           "x": [
            "Linda",
            "George",
            "Patricia",
            "Mary",
            "Charles",
            "Richard",
            "Thomas",
            "Anthony",
            "Elizabeth",
            "William",
            "Daniel",
            "Joseph",
            "Robert",
            "John",
            "Matthew",
            "James",
            "David",
            "Christopher",
            "Jennifer",
            "Michael"
           ],
           "xaxis": "x",
           "y": [
            0.0819196484944579,
            0.1549854724705567,
            0.1552757617990274,
            0.3346455378611308,
            0.4377853362668037,
            0.4871054931739916,
            0.513231532736363,
            0.5158731656254473,
            0.569199315265532,
            0.7508043191568604,
            0.8741192258912536,
            0.8826537321482949,
            1.002281964411109,
            1.0314270129895766,
            1.1041444897715105,
            1.14937156714726,
            1.2247597057511252,
            1.4340583115785672,
            1.7008632333760736,
            2.009847194600386
           ],
           "yaxis": "y"
          }
         ],
         "name": "1980"
        },
        {
         "data": [
          {
           "alignmentgroup": "True",
           "hovertemplate": "year=1981<br>name=%{x}<br>percentage=%{y}<extra></extra>",
           "legendgroup": "",
           "marker": {
            "color": "rgb(76,114,176)",
            "pattern": {
             "shape": ""
            }
           },
           "name": "",
           "offsetgroup": "",
           "orientation": "v",
           "showlegend": false,
           "textposition": "auto",
           "type": "bar",
           "x": [
            "Linda",
            "George",
            "Patricia",
            "Mary",
            "Charles",
            "Richard",
            "Thomas",
            "Anthony",
            "Elizabeth",
            "William",
            "Joseph",
            "Daniel",
            "Robert",
            "John",
            "James",
            "David",
            "Matthew",
            "Christopher",
            "Jennifer",
            "Michael"
           ],
           "xaxis": "x",
           "y": [
            0.0793158029221976,
            0.1503069151586836,
            0.1535153896938016,
            0.321165410447718,
            0.4201078278685207,
            0.4904919314091736,
            0.4993658204387343,
            0.5407580324593564,
            0.5856188655990251,
            0.7219645807535464,
            0.8946730073060722,
            0.9020727323600382,
            1.0008417187248886,
            1.0138490479213131,
            1.11495935354152,
            1.181701404907174,
            1.2583868368140947,
            1.4601738704146274,
            1.654532273785202,
            2.00200139438569
           ],
           "yaxis": "y"
          }
         ],
         "name": "1981"
        },
        {
         "data": [
          {
           "alignmentgroup": "True",
           "hovertemplate": "year=1982<br>name=%{x}<br>percentage=%{y}<extra></extra>",
           "legendgroup": "",
           "marker": {
            "color": "rgb(76,114,176)",
            "pattern": {
             "shape": ""
            }
           },
           "name": "",
           "offsetgroup": "",
           "orientation": "v",
           "showlegend": false,
           "textposition": "auto",
           "type": "bar",
           "x": [
            "Linda",
            "George",
            "Patricia",
            "Mary",
            "Charles",
            "Richard",
            "Thomas",
            "Anthony",
            "Elizabeth",
            "William",
            "Joseph",
            "Daniel",
            "Robert",
            "John",
            "James",
            "David",
            "Matthew",
            "Jennifer",
            "Christopher",
            "Michael"
           ],
           "xaxis": "x",
           "y": [
            0.0800985126190788,
            0.1437212457741621,
            0.1485955680723338,
            0.3114435405252866,
            0.4115809337035158,
            0.4803915420531444,
            0.5045351150739129,
            0.5639676413410942,
            0.5870850412464583,
            0.7348824746734774,
            0.8906897593624045,
            0.9382357803761494,
            0.9878626524294648,
            0.9959580181176564,
            1.1172459793967242,
            1.1603737550524773,
            1.320798818760725,
            1.633382551636461,
            1.7007394147392667,
            1.961586919713356
           ],
           "yaxis": "y"
          }
         ],
         "name": "1982"
        },
        {
         "data": [
          {
           "alignmentgroup": "True",
           "hovertemplate": "year=1983<br>name=%{x}<br>percentage=%{y}<extra></extra>",
           "legendgroup": "",
           "marker": {
            "color": "rgb(76,114,176)",
            "pattern": {
             "shape": ""
            }
           },
           "name": "",
           "offsetgroup": "",
           "orientation": "v",
           "showlegend": false,
           "textposition": "auto",
           "type": "bar",
           "x": [
            "Linda",
            "George",
            "Patricia",
            "Mary",
            "Charles",
            "Richard",
            "Thomas",
            "Elizabeth",
            "Anthony",
            "William",
            "Joseph",
            "Robert",
            "John",
            "Daniel",
            "James",
            "David",
            "Matthew",
            "Jennifer",
            "Christopher",
            "Michael"
           ],
           "xaxis": "x",
           "y": [
            0.0721825699304737,
            0.1309969279098237,
            0.1430658536021989,
            0.2873443743792299,
            0.3850795740650913,
            0.4625170350865036,
            0.5114568174993648,
            0.5758147968493752,
            0.5774028133878456,
            0.7387164206684683,
            0.8854202757951632,
            0.9529542882221144,
            0.965080959970434,
            1.010873582334327,
            1.0574457764534684,
            1.141235303628762,
            1.45901184949068,
            1.5749081837710486,
            1.7253944055621,
            1.98002563924884
           ],
           "yaxis": "y"
          }
         ],
         "name": "1983"
        },
        {
         "data": [
          {
           "alignmentgroup": "True",
           "hovertemplate": "year=1984<br>name=%{x}<br>percentage=%{y}<extra></extra>",
           "legendgroup": "",
           "marker": {
            "color": "rgb(76,114,176)",
            "pattern": {
             "shape": ""
            }
           },
           "name": "",
           "offsetgroup": "",
           "orientation": "v",
           "showlegend": false,
           "textposition": "auto",
           "type": "bar",
           "x": [
            "Linda",
            "George",
            "Patricia",
            "Mary",
            "Charles",
            "Richard",
            "Thomas",
            "Elizabeth",
            "Anthony",
            "William",
            "Joseph",
            "Robert",
            "John",
            "James",
            "Daniel",
            "David",
            "Matthew",
            "Jennifer",
            "Christopher",
            "Michael"
           ],
           "xaxis": "x",
           "y": [
            0.0672449850031644,
            0.1233397998587454,
            0.1291871898590205,
            0.2679767113361401,
            0.374204296341139,
            0.450363684727076,
            0.5078916834062537,
            0.5862868385570017,
            0.6053481834108398,
            0.7183977234161599,
            0.8806627959237959,
            0.9172663107784595,
            0.9416304357796064,
            1.0349020390192896,
            1.0549952762261174,
            1.1100008713757648,
            1.435333599332251,
            1.4551115360978877,
            1.731687350375609,
            1.9564965649450117
           ],
           "yaxis": "y"
          }
         ],
         "name": "1984"
        },
        {
         "data": [
          {
           "alignmentgroup": "True",
           "hovertemplate": "year=1985<br>name=%{x}<br>percentage=%{y}<extra></extra>",
           "legendgroup": "",
           "marker": {
            "color": "rgb(76,114,176)",
            "pattern": {
             "shape": ""
            }
           },
           "name": "",
           "offsetgroup": "",
           "orientation": "v",
           "showlegend": false,
           "textposition": "auto",
           "type": "bar",
           "x": [
            "Linda",
            "George",
            "Patricia",
            "Mary",
            "Charles",
            "Richard",
            "Thomas",
            "Elizabeth",
            "Anthony",
            "William",
            "Joseph",
            "John",
            "Robert",
            "James",
            "David",
            "Daniel",
            "Jennifer",
            "Matthew",
            "Christopher",
            "Michael"
           ],
           "xaxis": "x",
           "y": [
            0.0595682729179543,
            0.1203693793299774,
            0.1242640124135125,
            0.2608003218816177,
            0.364302297497292,
            0.4328086132472442,
            0.4964116139639688,
            0.5786191928639114,
            0.6245422405179694,
            0.6947577117937895,
            0.8531207778955197,
            0.8891531386539812,
            0.9059645044821903,
            1.0129408290356945,
            1.0876673501420842,
            1.0887600889209177,
            1.199715103387098,
            1.3275935594536754,
            1.681837056397089,
            1.8339799171423816
           ],
           "yaxis": "y"
          }
         ],
         "name": "1985"
        },
        {
         "data": [
          {
           "alignmentgroup": "True",
           "hovertemplate": "year=1986<br>name=%{x}<br>percentage=%{y}<extra></extra>",
           "legendgroup": "",
           "marker": {
            "color": "rgb(76,114,176)",
            "pattern": {
             "shape": ""
            }
           },
           "name": "",
           "offsetgroup": "",
           "orientation": "v",
           "showlegend": false,
           "textposition": "auto",
           "type": "bar",
           "x": [
            "Linda",
            "Patricia",
            "George",
            "Mary",
            "Charles",
            "Richard",
            "Thomas",
            "Elizabeth",
            "Anthony",
            "William",
            "Joseph",
            "John",
            "Robert",
            "James",
            "Jennifer",
            "Daniel",
            "David",
            "Matthew",
            "Christopher",
            "Michael"
           ],
           "xaxis": "x",
           "y": [
            0.0554126272754389,
            0.1205245728715408,
            0.123082943790904,
            0.2404868664201446,
            0.3573003957603015,
            0.4254205357341161,
            0.4916570399760919,
            0.5390009589673852,
            0.6228368060172884,
            0.6886797147332083,
            0.8165139188029299,
            0.855704787611637,
            0.8882888743758348,
            0.964871318159851,
            1.0218864415056603,
            1.0364213620035811,
            1.0522495249442572,
            1.3272322278265851,
            1.6055042647480946,
            1.8222910577064455
           ],
           "yaxis": "y"
          }
         ],
         "name": "1986"
        },
        {
         "data": [
          {
           "alignmentgroup": "True",
           "hovertemplate": "year=1987<br>name=%{x}<br>percentage=%{y}<extra></extra>",
           "legendgroup": "",
           "marker": {
            "color": "rgb(76,114,176)",
            "pattern": {
             "shape": ""
            }
           },
           "name": "",
           "offsetgroup": "",
           "orientation": "v",
           "showlegend": false,
           "textposition": "auto",
           "type": "bar",
           "x": [
            "Linda",
            "Patricia",
            "George",
            "Mary",
            "Charles",
            "Richard",
            "Thomas",
            "Elizabeth",
            "Anthony",
            "William",
            "Joseph",
            "John",
            "Robert",
            "Jennifer",
            "James",
            "Daniel",
            "David",
            "Matthew",
            "Christopher",
            "Michael"
           ],
           "xaxis": "x",
           "y": [
            0.0539462739488866,
            0.1095844361810031,
            0.114382742295737,
            0.234728697393022,
            0.3400418090557072,
            0.4025862037882211,
            0.5064847859026321,
            0.5190491365961261,
            0.6472998156396489,
            0.6759232370870787,
            0.7972122118832131,
            0.825114500619758,
            0.844668291434136,
            0.9102358963776672,
            0.9127321249922684,
            1.0022080528889823,
            1.027614113010926,
            1.2978724643517752,
            1.5218951145755066,
            1.7805598707952068
           ],
           "yaxis": "y"
          }
         ],
         "name": "1987"
        },
        {
         "data": [
          {
           "alignmentgroup": "True",
           "hovertemplate": "year=1988<br>name=%{x}<br>percentage=%{y}<extra></extra>",
           "legendgroup": "",
           "marker": {
            "color": "rgb(76,114,176)",
            "pattern": {
             "shape": ""
            }
           },
           "name": "",
           "offsetgroup": "",
           "orientation": "v",
           "showlegend": false,
           "textposition": "auto",
           "type": "bar",
           "x": [
            "Linda",
            "Patricia",
            "George",
            "Mary",
            "Charles",
            "Richard",
            "Thomas",
            "Elizabeth",
            "Anthony",
            "William",
            "Jennifer",
            "Joseph",
            "John",
            "Robert",
            "James",
            "Daniel",
            "David",
            "Matthew",
            "Christopher",
            "Michael"
           ],
           "xaxis": "x",
           "y": [
            0.0501791862473303,
            0.1039851313712206,
            0.1172471600989401,
            0.2316795222638337,
            0.3301703845907135,
            0.3858438398823848,
            0.5122120279022259,
            0.5451505768035209,
            0.6446699229909177,
            0.6574177097883785,
            0.7579655398362924,
            0.7902274546188262,
            0.8008641429657524,
            0.8254665595239093,
            0.8867966760484243,
            0.9471795048066736,
            0.9628232856324322,
            1.2486335373971618,
            1.4443161245428997,
            1.7495322428337006
           ],
           "yaxis": "y"
          }
         ],
         "name": "1988"
        },
        {
         "data": [
          {
           "alignmentgroup": "True",
           "hovertemplate": "year=1989<br>name=%{x}<br>percentage=%{y}<extra></extra>",
           "legendgroup": "",
           "marker": {
            "color": "rgb(76,114,176)",
            "pattern": {
             "shape": ""
            }
           },
           "name": "",
           "offsetgroup": "",
           "orientation": "v",
           "showlegend": false,
           "textposition": "auto",
           "type": "bar",
           "x": [
            "Linda",
            "Patricia",
            "George",
            "Mary",
            "Charles",
            "Richard",
            "Thomas",
            "Elizabeth",
            "Jennifer",
            "Anthony",
            "William",
            "John",
            "Joseph",
            "Robert",
            "James",
            "Daniel",
            "David",
            "Matthew",
            "Christopher",
            "Michael"
           ],
           "xaxis": "x",
           "y": [
            0.0484353080389345,
            0.0949977148003162,
            0.1180187930035691,
            0.2268031422080934,
            0.3201360558728071,
            0.3695338270682618,
            0.4813876533665531,
            0.5315918126120651,
            0.6280722409237773,
            0.6385552855745242,
            0.6442520269604138,
            0.7800633821007344,
            0.780869770150792,
            0.7854479732736989,
            0.8554996835577218,
            0.9156146120636174,
            0.9200887651155488,
            1.1849222082650612,
            1.3897967980151409,
            1.7108693045267245
           ],
           "yaxis": "y"
          }
         ],
         "name": "1989"
        },
        {
         "data": [
          {
           "alignmentgroup": "True",
           "hovertemplate": "year=1990<br>name=%{x}<br>percentage=%{y}<extra></extra>",
           "legendgroup": "",
           "marker": {
            "color": "rgb(76,114,176)",
            "pattern": {
             "shape": ""
            }
           },
           "name": "",
           "offsetgroup": "",
           "orientation": "v",
           "showlegend": false,
           "textposition": "auto",
           "type": "bar",
           "x": [
            "Linda",
            "Patricia",
            "George",
            "Mary",
            "Charles",
            "Richard",
            "Thomas",
            "Elizabeth",
            "Jennifer",
            "William",
            "Anthony",
            "Robert",
            "John",
            "Joseph",
            "James",
            "David",
            "Daniel",
            "Matthew",
            "Christopher",
            "Michael"
           ],
           "xaxis": "x",
           "y": [
            0.0422812546019767,
            0.0915461275583195,
            0.1159887917986005,
            0.2205153404286221,
            0.3046730021917428,
            0.3449047166245035,
            0.4622598685359147,
            0.5273137916847372,
            0.5647874829268243,
            0.6317138254894985,
            0.6372298718708456,
            0.7335329568589507,
            0.7380368846382157,
            0.7644278771875046,
            0.8216884871002954,
            0.8568343055575939,
            0.8596682376434236,
            1.1371658553692638,
            1.3294430867997973,
            1.659444357008643
           ],
           "yaxis": "y"
          }
         ],
         "name": "1990"
        },
        {
         "data": [
          {
           "alignmentgroup": "True",
           "hovertemplate": "year=1991<br>name=%{x}<br>percentage=%{y}<extra></extra>",
           "legendgroup": "",
           "marker": {
            "color": "rgb(76,114,176)",
            "pattern": {
             "shape": ""
            }
           },
           "name": "",
           "offsetgroup": "",
           "orientation": "v",
           "showlegend": false,
           "textposition": "auto",
           "type": "bar",
           "x": [
            "Linda",
            "Patricia",
            "George",
            "Mary",
            "Charles",
            "Richard",
            "Thomas",
            "Elizabeth",
            "Jennifer",
            "William",
            "Anthony",
            "Robert",
            "John",
            "Joseph",
            "David",
            "James",
            "Daniel",
            "Matthew",
            "Christopher",
            "Michael"
           ],
           "xaxis": "x",
           "y": [
            0.0415405644381959,
            0.088241606906106,
            0.1078308842029808,
            0.2257516582849549,
            0.2918109118693048,
            0.3237237187893775,
            0.4320937574133733,
            0.5253161242088551,
            0.5324535017822905,
            0.6140455374958793,
            0.6297837117855049,
            0.6909135535205757,
            0.7154065686466813,
            0.7682437019061419,
            0.7833400256945592,
            0.7858560796592955,
            0.7982823053626866,
            1.071787640937533,
            1.213508231604308,
            1.567809708271245
           ],
           "yaxis": "y"
          }
         ],
         "name": "1991"
        },
        {
         "data": [
          {
           "alignmentgroup": "True",
           "hovertemplate": "year=1992<br>name=%{x}<br>percentage=%{y}<extra></extra>",
           "legendgroup": "",
           "marker": {
            "color": "rgb(76,114,176)",
            "pattern": {
             "shape": ""
            }
           },
           "name": "",
           "offsetgroup": "",
           "orientation": "v",
           "showlegend": false,
           "textposition": "auto",
           "type": "bar",
           "x": [
            "Linda",
            "Patricia",
            "George",
            "Mary",
            "Charles",
            "Richard",
            "Thomas",
            "Jennifer",
            "Elizabeth",
            "William",
            "Anthony",
            "Robert",
            "John",
            "Joseph",
            "David",
            "James",
            "Daniel",
            "Matthew",
            "Christopher",
            "Michael"
           ],
           "xaxis": "x",
           "y": [
            0.0414999984378921,
            0.0770900221923454,
            0.1016671856336065,
            0.2209601547944734,
            0.2733688730225016,
            0.2957851206103468,
            0.398884238435976,
            0.4654560677996461,
            0.4969065057626158,
            0.6021405043108969,
            0.6053688605256389,
            0.6288004782132819,
            0.6848541147482767,
            0.7282286426011803,
            0.7429384914828674,
            0.7440319669749573,
            0.762907436778892,
            0.9848308914116352,
            1.108992430025379,
            1.4230021421705592
           ],
           "yaxis": "y"
          }
         ],
         "name": "1992"
        },
        {
         "data": [
          {
           "alignmentgroup": "True",
           "hovertemplate": "year=1993<br>name=%{x}<br>percentage=%{y}<extra></extra>",
           "legendgroup": "",
           "marker": {
            "color": "rgb(76,114,176)",
            "pattern": {
             "shape": ""
            }
           },
           "name": "",
           "offsetgroup": "",
           "orientation": "v",
           "showlegend": false,
           "textposition": "auto",
           "type": "bar",
           "x": [
            "Linda",
            "Patricia",
            "George",
            "Mary",
            "Charles",
            "Richard",
            "Thomas",
            "Jennifer",
            "Elizabeth",
            "Anthony",
            "William",
            "Robert",
            "John",
            "James",
            "Joseph",
            "David",
            "Daniel",
            "Matthew",
            "Christopher",
            "Michael"
           ],
           "xaxis": "x",
           "y": [
            0.0396553512310267,
            0.0710082777561596,
            0.0936078491600625,
            0.2159160929903397,
            0.2621762485401128,
            0.2721232429960559,
            0.3950946197900626,
            0.4191000330770723,
            0.4671639102881896,
            0.5804004951746466,
            0.5904005402676882,
            0.5972705977719264,
            0.6648305841166923,
            0.6983585867628581,
            0.7182525756747444,
            0.7195257909651052,
            0.7644066299503207,
            0.9507469927583228,
            1.017166390405474,
            1.3206160346081135
           ],
           "yaxis": "y"
          }
         ],
         "name": "1993"
        },
        {
         "data": [
          {
           "alignmentgroup": "True",
           "hovertemplate": "year=1994<br>name=%{x}<br>percentage=%{y}<extra></extra>",
           "legendgroup": "",
           "marker": {
            "color": "rgb(76,114,176)",
            "pattern": {
             "shape": ""
            }
           },
           "name": "",
           "offsetgroup": "",
           "orientation": "v",
           "showlegend": false,
           "textposition": "auto",
           "type": "bar",
           "x": [
            "Linda",
            "Patricia",
            "George",
            "Mary",
            "Charles",
            "Richard",
            "Jennifer",
            "Thomas",
            "Elizabeth",
            "Robert",
            "William",
            "Anthony",
            "John",
            "James",
            "David",
            "Joseph",
            "Daniel",
            "Matthew",
            "Christopher",
            "Michael"
           ],
           "xaxis": "x",
           "y": [
            0.0348365881556676,
            0.0638894956522862,
            0.0896874014756724,
            0.2088581238923579,
            0.243049091881434,
            0.2569030246228771,
            0.3778223016574145,
            0.401629545300477,
            0.4527411418223059,
            0.5543994172201963,
            0.5793095953145193,
            0.5834792255570895,
            0.6517804590144177,
            0.6682437732625016,
            0.6710414606510648,
            0.6942568858080851,
            0.7583615881825685,
            0.9072846399430132,
            0.9390276314670966,
            1.201445328346276
           ],
           "yaxis": "y"
          }
         ],
         "name": "1994"
        },
        {
         "data": [
          {
           "alignmentgroup": "True",
           "hovertemplate": "year=1995<br>name=%{x}<br>percentage=%{y}<extra></extra>",
           "legendgroup": "",
           "marker": {
            "color": "rgb(76,114,176)",
            "pattern": {
             "shape": ""
            }
           },
           "name": "",
           "offsetgroup": "",
           "orientation": "v",
           "showlegend": false,
           "textposition": "auto",
           "type": "bar",
           "x": [
            "Linda",
            "Patricia",
            "George",
            "Mary",
            "Charles",
            "Richard",
            "Jennifer",
            "Thomas",
            "Elizabeth",
            "Robert",
            "William",
            "Anthony",
            "James",
            "David",
            "John",
            "Joseph",
            "Daniel",
            "Christopher",
            "Matthew",
            "Michael"
           ],
           "xaxis": "x",
           "y": [
            0.0336711646208635,
            0.0592317567418109,
            0.0901720888711202,
            0.2039931871191,
            0.2320934534571929,
            0.2404498008813488,
            0.3478261344492607,
            0.3875870555262901,
            0.4433233466789117,
            0.5087267848516352,
            0.5517647049185297,
            0.5616776268628715,
            0.6222747998504596,
            0.6310953887981797,
            0.6358470373334841,
            0.6937953028042646,
            0.7326823574839966,
            0.8950849657567259,
            0.8995362227179593,
            1.135288991713835
           ],
           "yaxis": "y"
          }
         ],
         "name": "1995"
        },
        {
         "data": [
          {
           "alignmentgroup": "True",
           "hovertemplate": "year=1996<br>name=%{x}<br>percentage=%{y}<extra></extra>",
           "legendgroup": "",
           "marker": {
            "color": "rgb(76,114,176)",
            "pattern": {
             "shape": ""
            }
           },
           "name": "",
           "offsetgroup": "",
           "orientation": "v",
           "showlegend": false,
           "textposition": "auto",
           "type": "bar",
           "x": [
            "Linda",
            "Patricia",
            "George",
            "Mary",
            "Richard",
            "Charles",
            "Jennifer",
            "Thomas",
            "Elizabeth",
            "Robert",
            "Anthony",
            "William",
            "James",
            "John",
            "David",
            "Joseph",
            "Daniel",
            "Christopher",
            "Matthew",
            "Michael"
           ],
           "xaxis": "x",
           "y": [
            0.0270639482434208,
            0.0542375781413237,
            0.08892440137124,
            0.1914493278982417,
            0.2250941754105795,
            0.2266571389869473,
            0.3225737458314116,
            0.3793340020258201,
            0.4395218099227896,
            0.4856155252188286,
            0.5640653285870425,
            0.5644217939641089,
            0.5819982790948411,
            0.609281590647226,
            0.6329179871880859,
            0.6802730415106674,
            0.6908847415817959,
            0.8494021527218325,
            0.8813469345897001,
            1.056316593902029
           ],
           "yaxis": "y"
          }
         ],
         "name": "1996"
        },
        {
         "data": [
          {
           "alignmentgroup": "True",
           "hovertemplate": "year=1997<br>name=%{x}<br>percentage=%{y}<extra></extra>",
           "legendgroup": "",
           "marker": {
            "color": "rgb(76,114,176)",
            "pattern": {
             "shape": ""
            }
           },
           "name": "",
           "offsetgroup": "",
           "orientation": "v",
           "showlegend": false,
           "textposition": "auto",
           "type": "bar",
           "x": [
            "Linda",
            "Patricia",
            "George",
            "Mary",
            "Richard",
            "Charles",
            "Jennifer",
            "Thomas",
            "Elizabeth",
            "Robert",
            "William",
            "Anthony",
            "James",
            "John",
            "David",
            "Joseph",
            "Daniel",
            "Christopher",
            "Matthew",
            "Michael"
           ],
           "xaxis": "x",
           "y": [
            0.0303128261593897,
            0.0492893724720923,
            0.0878216910750654,
            0.1837525458360823,
            0.2001915307232491,
            0.2115278105699362,
            0.3275660814093836,
            0.3562515583937015,
            0.4263654838688323,
            0.4506653927372785,
            0.5528849866833189,
            0.553629705797335,
            0.5639730268253341,
            0.5906725861722761,
            0.604904995906803,
            0.6521808685521115,
            0.6627448470953747,
            0.8044069718948523,
            0.8706042264740473,
            1.0396554653556669
           ],
           "yaxis": "y"
          }
         ],
         "name": "1997"
        },
        {
         "data": [
          {
           "alignmentgroup": "True",
           "hovertemplate": "year=1998<br>name=%{x}<br>percentage=%{y}<extra></extra>",
           "legendgroup": "",
           "marker": {
            "color": "rgb(76,114,176)",
            "pattern": {
             "shape": ""
            }
           },
           "name": "",
           "offsetgroup": "",
           "orientation": "v",
           "showlegend": false,
           "textposition": "auto",
           "type": "bar",
           "x": [
            "Linda",
            "Patricia",
            "George",
            "Mary",
            "Richard",
            "Charles",
            "Jennifer",
            "Thomas",
            "Elizabeth",
            "Robert",
            "Anthony",
            "James",
            "John",
            "William",
            "David",
            "Daniel",
            "Joseph",
            "Christopher",
            "Matthew",
            "Michael"
           ],
           "xaxis": "x",
           "y": [
            0.0264275427197693,
            0.0464928992292238,
            0.0828987425438032,
            0.1762923734516301,
            0.1894517671515975,
            0.2136770146447194,
            0.2913826906664281,
            0.3508446617859092,
            0.4137052366502165,
            0.4228678723462682,
            0.5352121177352466,
            0.5364899927433012,
            0.5616668492849746,
            0.5674036924062413,
            0.5690893998636752,
            0.6317324640883136,
            0.6317324640883136,
            0.7356753610200815,
            0.8482643058786873,
            0.9990535568291408
           ],
           "yaxis": "y"
          }
         ],
         "name": "1998"
        },
        {
         "data": [
          {
           "alignmentgroup": "True",
           "hovertemplate": "year=1999<br>name=%{x}<br>percentage=%{y}<extra></extra>",
           "legendgroup": "",
           "marker": {
            "color": "rgb(76,114,176)",
            "pattern": {
             "shape": ""
            }
           },
           "name": "",
           "offsetgroup": "",
           "orientation": "v",
           "showlegend": false,
           "textposition": "auto",
           "type": "bar",
           "x": [
            "Linda",
            "Patricia",
            "George",
            "Mary",
            "Richard",
            "Charles",
            "Jennifer",
            "Thomas",
            "Robert",
            "Elizabeth",
            "James",
            "Anthony",
            "David",
            "John",
            "William",
            "Daniel",
            "Joseph",
            "Christopher",
            "Matthew",
            "Michael"
           ],
           "xaxis": "x",
           "y": [
            0.0243663595873638,
            0.0416123274286424,
            0.082656106466913,
            0.1732177429332819,
            0.1763312222138895,
            0.2040276509448597,
            0.2881186652541397,
            0.3468415918596866,
            0.3942747718564215,
            0.4161232742864244,
            0.5034089890749366,
            0.5286146343814208,
            0.5520875607839145,
            0.5524124455784126,
            0.5615633672901116,
            0.6163606026288053,
            0.6297350266689806,
            0.694955649164491,
            0.8245034609706421,
            0.9214544983954752
           ],
           "yaxis": "y"
          }
         ],
         "name": "1999"
        },
        {
         "data": [
          {
           "alignmentgroup": "True",
           "hovertemplate": "year=2000<br>name=%{x}<br>percentage=%{y}<extra></extra>",
           "legendgroup": "",
           "marker": {
            "color": "rgb(76,114,176)",
            "pattern": {
             "shape": ""
            }
           },
           "name": "",
           "offsetgroup": "",
           "orientation": "v",
           "showlegend": false,
           "textposition": "auto",
           "type": "bar",
           "x": [
            "Linda",
            "Patricia",
            "George",
            "Mary",
            "Richard",
            "Charles",
            "Jennifer",
            "Thomas",
            "Robert",
            "Elizabeth",
            "James",
            "Anthony",
            "David",
            "John",
            "William",
            "Daniel",
            "Joseph",
            "Christopher",
            "Matthew",
            "Michael"
           ],
           "xaxis": "x",
           "y": [
            0.0225155028894454,
            0.0369878649112159,
            0.0805372394776403,
            0.1646991838857789,
            0.168403261916945,
            0.1994381442780725,
            0.2492579937972567,
            0.3350074002187522,
            0.3641108704636289,
            0.4004372928692793,
            0.47703233501375,
            0.521375440586853,
            0.5246297377142346,
            0.5327522516825774,
            0.5478066831092454,
            0.5925731118859101,
            0.6049817732903165,
            0.6610720977622606,
            0.7572193803712438,
            0.8507738083584108
           ],
           "yaxis": "y"
          }
         ],
         "name": "2000"
        },
        {
         "data": [
          {
           "alignmentgroup": "True",
           "hovertemplate": "year=2001<br>name=%{x}<br>percentage=%{y}<extra></extra>",
           "legendgroup": "",
           "marker": {
            "color": "rgb(76,114,176)",
            "pattern": {
             "shape": ""
            }
           },
           "name": "",
           "offsetgroup": "",
           "orientation": "v",
           "showlegend": false,
           "textposition": "auto",
           "type": "bar",
           "x": [
            "Linda",
            "Patricia",
            "George",
            "Mary",
            "Richard",
            "Charles",
            "Jennifer",
            "Thomas",
            "Robert",
            "Elizabeth",
            "James",
            "John",
            "David",
            "Anthony",
            "William",
            "Daniel",
            "Joseph",
            "Christopher",
            "Matthew",
            "Michael"
           ],
           "xaxis": "x",
           "y": [
            0.0224146120829452,
            0.0327002207264899,
            0.0827123230140627,
            0.1540436868537098,
            0.1544711407194155,
            0.1950258262282486,
            0.2390268585293343,
            0.3249183696695835,
            0.3389441996380534,
            0.3954482575110323,
            0.4572420569721199,
            0.5057847865963292,
            0.5183412439014355,
            0.5283329780123075,
            0.5378705423908671,
            0.5629567411344732,
            0.5891382904089504,
            0.6190333451417463,
            0.7176416087867417,
            0.7957053710112544
           ],
           "yaxis": "y"
          }
         ],
         "name": "2001"
        },
        {
         "data": [
          {
           "alignmentgroup": "True",
           "hovertemplate": "year=2002<br>name=%{x}<br>percentage=%{y}<extra></extra>",
           "legendgroup": "",
           "marker": {
            "color": "rgb(76,114,176)",
            "pattern": {
             "shape": ""
            }
           },
           "name": "",
           "offsetgroup": "",
           "orientation": "v",
           "showlegend": false,
           "textposition": "auto",
           "type": "bar",
           "x": [
            "Linda",
            "Patricia",
            "George",
            "Richard",
            "Mary",
            "Charles",
            "Jennifer",
            "Thomas",
            "Robert",
            "Elizabeth",
            "James",
            "John",
            "David",
            "Anthony",
            "William",
            "Daniel",
            "Christopher",
            "Joseph",
            "Matthew",
            "Michael"
           ],
           "xaxis": "x",
           "y": [
            0.0206271399654448,
            0.0298036756439761,
            0.0809835962067465,
            0.1426509861164098,
            0.1469048321015015,
            0.1930282942291629,
            0.2291726082282758,
            0.302504632411524,
            0.3222221449336159,
            0.3915678606151115,
            0.4547334604314737,
            0.4678963046117576,
            0.5012314750358099,
            0.5253098485363291,
            0.5395428426499694,
            0.5718613706373331,
            0.5809843988191966,
            0.5871912684326638,
            0.6738734130345332,
            0.7584955190146916
           ],
           "yaxis": "y"
          }
         ],
         "name": "2002"
        },
        {
         "data": [
          {
           "alignmentgroup": "True",
           "hovertemplate": "year=2003<br>name=%{x}<br>percentage=%{y}<extra></extra>",
           "legendgroup": "",
           "marker": {
            "color": "rgb(76,114,176)",
            "pattern": {
             "shape": ""
            }
           },
           "name": "",
           "offsetgroup": "",
           "orientation": "v",
           "showlegend": false,
           "textposition": "auto",
           "type": "bar",
           "x": [
            "Linda",
            "Patricia",
            "George",
            "Mary",
            "Richard",
            "Jennifer",
            "Charles",
            "Thomas",
            "Robert",
            "Elizabeth",
            "James",
            "John",
            "David",
            "William",
            "Anthony",
            "Christopher",
            "Daniel",
            "Joseph",
            "Matthew",
            "Michael"
           ],
           "xaxis": "x",
           "y": [
            0.0194909726021632,
            0.0267244644585665,
            0.0766750136778755,
            0.132596481629561,
            0.1332014645848238,
            0.1994865535962291,
            0.2025903791927949,
            0.2879981903118555,
            0.3002030638441143,
            0.3721171247001388,
            0.4452937586801901,
            0.4543421994023821,
            0.4908779091789066,
            0.5268086360001684,
            0.530990909473507,
            0.546983502377846,
            0.5554269601447751,
            0.5632391313496907,
            0.6325228315306595,
            0.7159841757501789
           ],
           "yaxis": "y"
          }
         ],
         "name": "2003"
        },
        {
         "data": [
          {
           "alignmentgroup": "True",
           "hovertemplate": "year=2004<br>name=%{x}<br>percentage=%{y}<extra></extra>",
           "legendgroup": "",
           "marker": {
            "color": "rgb(76,114,176)",
            "pattern": {
             "shape": ""
            }
           },
           "name": "",
           "offsetgroup": "",
           "orientation": "v",
           "showlegend": false,
           "textposition": "auto",
           "type": "bar",
           "x": [
            "Linda",
            "Patricia",
            "George",
            "Mary",
            "Richard",
            "Jennifer",
            "Charles",
            "Thomas",
            "Robert",
            "Elizabeth",
            "John",
            "James",
            "David",
            "Anthony",
            "Christopher",
            "Joseph",
            "William",
            "Daniel",
            "Matthew",
            "Michael"
           ],
           "xaxis": "x",
           "y": [
            0.0190819763273556,
            0.0260970238660816,
            0.0719304128224598,
            0.127082297763116,
            0.1275011065713981,
            0.171921015799824,
            0.2017087922888922,
            0.2759426535569039,
            0.2804448482459371,
            0.3567989291058772,
            0.4326294989554646,
            0.4335456432235819,
            0.4833577158586404,
            0.5148207275808373,
            0.5165483139150012,
            0.5298454935779595,
            0.5325153997307583,
            0.5516759027096668,
            0.601671204198349,
            0.670434375408175
           ],
           "yaxis": "y"
          }
         ],
         "name": "2004"
        },
        {
         "data": [
          {
           "alignmentgroup": "True",
           "hovertemplate": "year=2005<br>name=%{x}<br>percentage=%{y}<extra></extra>",
           "legendgroup": "",
           "marker": {
            "color": "rgb(76,114,176)",
            "pattern": {
             "shape": ""
            }
           },
           "name": "",
           "offsetgroup": "",
           "orientation": "v",
           "showlegend": false,
           "textposition": "auto",
           "type": "bar",
           "x": [
            "Linda",
            "Patricia",
            "George",
            "Mary",
            "Richard",
            "Jennifer",
            "Charles",
            "Thomas",
            "Robert",
            "Elizabeth",
            "John",
            "James",
            "David",
            "William",
            "Christopher",
            "Joseph",
            "Anthony",
            "Daniel",
            "Matthew",
            "Michael"
           ],
           "xaxis": "x",
           "y": [
            0.0195881188304254,
            0.0228658120211739,
            0.0736440430397534,
            0.116618242651789,
            0.1215347824379117,
            0.1522046258656296,
            0.2067287919593503,
            0.2614350521192237,
            0.2648948393761249,
            0.3320355229104251,
            0.4115065760670647,
            0.420533239060634,
            0.472352007600086,
            0.4964404512082851,
            0.4999782787792518,
            0.5011488834902333,
            0.5049208320033963,
            0.5274744827683084,
            0.5595490518492042,
            0.6213829940270545
           ],
           "yaxis": "y"
          }
         ],
         "name": "2005"
        },
        {
         "data": [
          {
           "alignmentgroup": "True",
           "hovertemplate": "year=2006<br>name=%{x}<br>percentage=%{y}<extra></extra>",
           "legendgroup": "",
           "marker": {
            "color": "rgb(76,114,176)",
            "pattern": {
             "shape": ""
            }
           },
           "name": "",
           "offsetgroup": "",
           "orientation": "v",
           "showlegend": false,
           "textposition": "auto",
           "type": "bar",
           "x": [
            "Linda",
            "Patricia",
            "George",
            "Mary",
            "Richard",
            "Jennifer",
            "Charles",
            "Thomas",
            "Robert",
            "Elizabeth",
            "John",
            "James",
            "David",
            "Joseph",
            "William",
            "Anthony",
            "Christopher",
            "Daniel",
            "Matthew",
            "Michael"
           ],
           "xaxis": "x",
           "y": [
            0.0176976965436651,
            0.0197455728580035,
            0.0684648032003503,
            0.1039613259822158,
            0.1131388457612879,
            0.1335670440574042,
            0.2029420145085716,
            0.2408909323829164,
            0.2507510776001013,
            0.3148167390881691,
            0.3844698161993084,
            0.4120529403837922,
            0.4470690971166154,
            0.4674214481418303,
            0.4798351181460297,
            0.4914144681703135,
            0.4986705237532162,
            0.5087582107831053,
            0.5146742979134162,
            0.5741891231473988
           ],
           "yaxis": "y"
          }
         ],
         "name": "2006"
        },
        {
         "data": [
          {
           "alignmentgroup": "True",
           "hovertemplate": "year=2007<br>name=%{x}<br>percentage=%{y}<extra></extra>",
           "legendgroup": "",
           "marker": {
            "color": "rgb(76,114,176)",
            "pattern": {
             "shape": ""
            }
           },
           "name": "",
           "offsetgroup": "",
           "orientation": "v",
           "showlegend": false,
           "textposition": "auto",
           "type": "bar",
           "x": [
            "Linda",
            "Patricia",
            "George",
            "Mary",
            "Richard",
            "Jennifer",
            "Charles",
            "Thomas",
            "Robert",
            "Elizabeth",
            "John",
            "James",
            "Joseph",
            "David",
            "Matthew",
            "William",
            "Anthony",
            "Christopher",
            "Daniel",
            "Michael"
           ],
           "xaxis": "x",
           "y": [
            0.0165638805318857,
            0.0181902434239893,
            0.0692830592036126,
            0.0925525590444792,
            0.1108929282738935,
            0.1165726879124706,
            0.1867314809810621,
            0.223637408148028,
            0.2349719064576114,
            0.3273242977615241,
            0.3617281281714076,
            0.4003605021007604,
            0.434739311543073,
            0.4398686098950921,
            0.4697436451746564,
            0.4732966225697134,
            0.4919872853451192,
            0.5017204417301699,
            0.5076253900768845,
            0.5520876494502394
           ],
           "yaxis": "y"
          }
         ],
         "name": "2007"
        },
        {
         "data": [
          {
           "alignmentgroup": "True",
           "hovertemplate": "year=2008<br>name=%{x}<br>percentage=%{y}<extra></extra>",
           "legendgroup": "",
           "marker": {
            "color": "rgb(76,114,176)",
            "pattern": {
             "shape": ""
            }
           },
           "name": "",
           "offsetgroup": "",
           "orientation": "v",
           "showlegend": false,
           "textposition": "auto",
           "type": "bar",
           "x": [
            "Linda",
            "Patricia",
            "George",
            "Mary",
            "Jennifer",
            "Richard",
            "Charles",
            "Thomas",
            "Robert",
            "Elizabeth",
            "John",
            "James",
            "David",
            "Joseph",
            "Matthew",
            "Christopher",
            "William",
            "Anthony",
            "Daniel",
            "Michael"
           ],
           "xaxis": "x",
           "y": [
            0.0156256839417849,
            0.0160328678881506,
            0.064945839445334,
            0.0891987332507428,
            0.0969606772283396,
            0.1033992733802477,
            0.1859049205126038,
            0.2128299589660378,
            0.2250963753503054,
            0.3061514296737337,
            0.3397186562522586,
            0.3872828309871055,
            0.4163455851589596,
            0.4229623242874026,
            0.4483858719386129,
            0.4580564906647991,
            0.4689232122334344,
            0.4692031511965609,
            0.4852614680813594,
            0.5267178836207204
           ],
           "yaxis": "y"
          }
         ],
         "name": "2008"
        },
        {
         "data": [
          {
           "alignmentgroup": "True",
           "hovertemplate": "year=2009<br>name=%{x}<br>percentage=%{y}<extra></extra>",
           "legendgroup": "",
           "marker": {
            "color": "rgb(76,114,176)",
            "pattern": {
             "shape": ""
            }
           },
           "name": "",
           "offsetgroup": "",
           "orientation": "v",
           "showlegend": false,
           "textposition": "auto",
           "type": "bar",
           "x": [
            "Linda",
            "Patricia",
            "George",
            "Jennifer",
            "Mary",
            "Richard",
            "Charles",
            "Thomas",
            "Robert",
            "Elizabeth",
            "John",
            "James",
            "Joseph",
            "David",
            "Matthew",
            "Anthony",
            "Christopher",
            "Daniel",
            "William",
            "Michael"
           ],
           "xaxis": "x",
           "y": [
            0.0144285294186192,
            0.0147951345218147,
            0.0625061700948171,
            0.0783487477686187,
            0.0829836837161607,
            0.0947412330972134,
            0.1907132118980115,
            0.2026278777518622,
            0.2055607185774255,
            0.2895918454455731,
            0.3179251827068183,
            0.3736229723137207,
            0.3916651806066947,
            0.4049938947157278,
            0.4194224241343471,
            0.4280638301382389,
            0.4290589011326264,
            0.460796428637829,
            0.4697782536661165,
            0.4975616832725685
           ],
           "yaxis": "y"
          }
         ],
         "name": "2009"
        },
        {
         "data": [
          {
           "alignmentgroup": "True",
           "hovertemplate": "year=2010<br>name=%{x}<br>percentage=%{y}<extra></extra>",
           "legendgroup": "",
           "marker": {
            "color": "rgb(76,114,176)",
            "pattern": {
             "shape": ""
            }
           },
           "name": "",
           "offsetgroup": "",
           "orientation": "v",
           "showlegend": false,
           "textposition": "auto",
           "type": "bar",
           "x": [
            "Linda",
            "Patricia",
            "George",
            "Jennifer",
            "Mary",
            "Richard",
            "Charles",
            "Thomas",
            "Robert",
            "Elizabeth",
            "John",
            "Joseph",
            "James",
            "Matthew",
            "David",
            "Christopher",
            "Anthony",
            "Daniel",
            "William",
            "Michael"
           ],
           "xaxis": "x",
           "y": [
            0.0129654712448043,
            0.0129654712448043,
            0.0644213393791948,
            0.0711070834240104,
            0.0780635053653772,
            0.0877808418515667,
            0.1924790522375859,
            0.1933452215065498,
            0.2050114388479082,
            0.278365148813294,
            0.3132825974684037,
            0.3752678357786374,
            0.3769189709476,
            0.3831716303579336,
            0.385445324688964,
            0.3872047310165471,
            0.4203627733440738,
            0.4299989064612979,
            0.4625073218371017,
            0.4712772856853618
           ],
           "yaxis": "y"
          }
         ],
         "name": "2010"
        },
        {
         "data": [
          {
           "alignmentgroup": "True",
           "hovertemplate": "year=2011<br>name=%{x}<br>percentage=%{y}<extra></extra>",
           "legendgroup": "",
           "marker": {
            "color": "rgb(76,114,176)",
            "pattern": {
             "shape": ""
            }
           },
           "name": "",
           "offsetgroup": "",
           "orientation": "v",
           "showlegend": false,
           "textposition": "auto",
           "type": "bar",
           "x": [
            "Patricia",
            "Linda",
            "Jennifer",
            "George",
            "Mary",
            "Richard",
            "Thomas",
            "Robert",
            "Charles",
            "Elizabeth",
            "John",
            "Joseph",
            "Christopher",
            "David",
            "James",
            "Matthew",
            "Anthony",
            "Daniel",
            "Michael",
            "William"
           ],
           "xaxis": "x",
           "y": [
            0.0117604939845073,
            0.0133741431591257,
            0.0624947180339517,
            0.063588717474371,
            0.074200512046438,
            0.086562705723176,
            0.1896448029966832,
            0.1912037521992807,
            0.1912584521713017,
            0.2767818584260794,
            0.3030925449681632,
            0.3558233179963728,
            0.3565344176326454,
            0.3627428644570248,
            0.3636727639813812,
            0.3882604014048047,
            0.3912962498519682,
            0.419029135666597,
            0.4608746142626347,
            0.4753974568342008
           ],
           "yaxis": "y"
          }
         ],
         "name": "2011"
        },
        {
         "data": [
          {
           "alignmentgroup": "True",
           "hovertemplate": "year=2012<br>name=%{x}<br>percentage=%{y}<extra></extra>",
           "legendgroup": "",
           "marker": {
            "color": "rgb(76,114,176)",
            "pattern": {
             "shape": ""
            }
           },
           "name": "",
           "offsetgroup": "",
           "orientation": "v",
           "showlegend": false,
           "textposition": "auto",
           "type": "bar",
           "x": [
            "Patricia",
            "Linda",
            "Jennifer",
            "George",
            "Mary",
            "Richard",
            "Thomas",
            "Charles",
            "Robert",
            "Elizabeth",
            "John",
            "Christopher",
            "David",
            "Joseph",
            "Anthony",
            "James",
            "Matthew",
            "Daniel",
            "Michael",
            "William"
           ],
           "xaxis": "x",
           "y": [
            0.0108323601989543,
            0.0123095002260844,
            0.052794078747429,
            0.0639546922857456,
            0.0707933035224592,
            0.0829113226339157,
            0.1876788467803681,
            0.1902228101604256,
            0.1906057723896815,
            0.2661587493328934,
            0.2910786486794778,
            0.3264479459957606,
            0.3438727274269069,
            0.344611297440472,
            0.3618993066468839,
            0.3686558545487569,
            0.3831263559256429,
            0.3916335883041147,
            0.4439352870425003,
            0.4629192718356173
           ],
           "yaxis": "y"
          }
         ],
         "name": "2012"
        },
        {
         "data": [
          {
           "alignmentgroup": "True",
           "hovertemplate": "year=2013<br>name=%{x}<br>percentage=%{y}<extra></extra>",
           "legendgroup": "",
           "marker": {
            "color": "rgb(76,114,176)",
            "pattern": {
             "shape": ""
            }
           },
           "name": "",
           "offsetgroup": "",
           "orientation": "v",
           "showlegend": false,
           "textposition": "auto",
           "type": "bar",
           "x": [
            "Patricia",
            "Linda",
            "Jennifer",
            "George",
            "Mary",
            "Richard",
            "Robert",
            "Thomas",
            "Charles",
            "Elizabeth",
            "John",
            "Christopher",
            "Joseph",
            "Anthony",
            "David",
            "Matthew",
            "James",
            "Daniel",
            "Michael",
            "William"
           ],
           "xaxis": "x",
           "y": [
            0.0114994516490597,
            0.0122130214411255,
            0.0464094814762771,
            0.07020428954247,
            0.0731957936707457,
            0.076791087623077,
            0.1846224612010148,
            0.1867357255852095,
            0.1931578537138014,
            0.2600961892079704,
            0.294759214107165,
            0.2987936279315368,
            0.3372440617270804,
            0.3376282916151158,
            0.3402081208633535,
            0.3669944330578222,
            0.3736361211224343,
            0.3935611853162706,
            0.4272910804873791,
            0.4574531266981588
           ],
           "yaxis": "y"
          }
         ],
         "name": "2013"
        },
        {
         "data": [
          {
           "alignmentgroup": "True",
           "hovertemplate": "year=2014<br>name=%{x}<br>percentage=%{y}<extra></extra>",
           "legendgroup": "",
           "marker": {
            "color": "rgb(76,114,176)",
            "pattern": {
             "shape": ""
            }
           },
           "name": "",
           "offsetgroup": "",
           "orientation": "v",
           "showlegend": false,
           "textposition": "auto",
           "type": "bar",
           "x": [
            "Patricia",
            "Linda",
            "Jennifer",
            "Mary",
            "Richard",
            "George",
            "Robert",
            "Thomas",
            "Charles",
            "Elizabeth",
            "Christopher",
            "John",
            "Anthony",
            "Joseph",
            "David",
            "Matthew",
            "Daniel",
            "James",
            "Michael",
            "William"
           ],
           "xaxis": "x",
           "y": [
            0.0102316676322409,
            0.0127693371769128,
            0.0412236318586593,
            0.0712707191269552,
            0.0778848578338128,
            0.0811244359759472,
            0.1798775763420087,
            0.1901632369432852,
            0.1989910873806012,
            0.2588152970720153,
            0.2805204706243153,
            0.2891593456700068,
            0.3135641676740855,
            0.3278183114994765,
            0.3308689142499864,
            0.3496044745053299,
            0.3772488746515429,
            0.3913950325388627,
            0.4190394326850757,
            0.4552147219389091
           ],
           "yaxis": "y"
          }
         ],
         "name": "2014"
        },
        {
         "data": [
          {
           "alignmentgroup": "True",
           "hovertemplate": "year=2015<br>name=%{x}<br>percentage=%{y}<extra></extra>",
           "legendgroup": "",
           "marker": {
            "color": "rgb(76,114,176)",
            "pattern": {
             "shape": ""
            }
           },
           "name": "",
           "offsetgroup": "",
           "orientation": "v",
           "showlegend": false,
           "textposition": "auto",
           "type": "bar",
           "x": [
            "Patricia",
            "Linda",
            "Jennifer",
            "Mary",
            "Richard",
            "George",
            "Robert",
            "Thomas",
            "Charles",
            "Elizabeth",
            "Christopher",
            "John",
            "Anthony",
            "Joseph",
            "David",
            "Matthew",
            "Daniel",
            "Michael",
            "James",
            "William"
           ],
           "xaxis": "x",
           "y": [
            0.0094635825121647,
            0.0115996482791962,
            0.034771906030411,
            0.0713283733345446,
            0.0725721584647149,
            0.0825224395060767,
            0.1659371596490146,
            0.1948957221362388,
            0.1949227609434164,
            0.263871719246331,
            0.2665215223497372,
            0.2816632543692008,
            0.2883148009348938,
            0.3118385631794176,
            0.320139476982945,
            0.3459074602232107,
            0.3664299148710195,
            0.3923330921471733,
            0.4027700717177321,
            0.4312689744829369
           ],
           "yaxis": "y"
          }
         ],
         "name": "2015"
        },
        {
         "data": [
          {
           "alignmentgroup": "True",
           "hovertemplate": "year=2016<br>name=%{x}<br>percentage=%{y}<extra></extra>",
           "legendgroup": "",
           "marker": {
            "color": "rgb(76,114,176)",
            "pattern": {
             "shape": ""
            }
           },
           "name": "",
           "offsetgroup": "",
           "orientation": "v",
           "showlegend": false,
           "textposition": "auto",
           "type": "bar",
           "x": [
            "Patricia",
            "Linda",
            "Jennifer",
            "Richard",
            "Mary",
            "George",
            "Robert",
            "Charles",
            "Thomas",
            "Christopher",
            "Elizabeth",
            "Anthony",
            "John",
            "Joseph",
            "David",
            "Matthew",
            "Daniel",
            "Michael",
            "James",
            "William"
           ],
           "xaxis": "x",
           "y": [
            0.0105568679654978,
            0.0120299193095208,
            0.0318342762680517,
            0.0687423960544046,
            0.0688787896973697,
            0.0904289852858538,
            0.1636723715581064,
            0.1947428434255536,
            0.2011260659163197,
            0.2484273812966125,
            0.2619849094073423,
            0.2700048556136896,
            0.2743421734599794,
            0.2991930952082186,
            0.3043487749122989,
            0.3455396550877556,
            0.3548417015379747,
            0.386103124505573,
            0.4084171244946615,
            0.4314949288843546
           ],
           "yaxis": "y"
          }
         ],
         "name": "2016"
        },
        {
         "data": [
          {
           "alignmentgroup": "True",
           "hovertemplate": "year=2017<br>name=%{x}<br>percentage=%{y}<extra></extra>",
           "legendgroup": "",
           "marker": {
            "color": "rgb(76,114,176)",
            "pattern": {
             "shape": ""
            }
           },
           "name": "",
           "offsetgroup": "",
           "orientation": "v",
           "showlegend": false,
           "textposition": "auto",
           "type": "bar",
           "x": [
            "Patricia",
            "Linda",
            "Jennifer",
            "Richard",
            "Mary",
            "George",
            "Robert",
            "Thomas",
            "Charles",
            "Christopher",
            "Anthony",
            "Elizabeth",
            "John",
            "David",
            "Joseph",
            "Matthew",
            "Daniel",
            "Michael",
            "James",
            "William"
           ],
           "xaxis": "x",
           "y": [
            0.0086207909967593,
            0.0114477386937486,
            0.0293890602162251,
            0.0639002137844208,
            0.0677347864031093,
            0.0886709931095249,
            0.1555660920778849,
            0.2011891093659296,
            0.2013570468528794,
            0.2325094506820781,
            0.2482395952930481,
            0.2519062304247866,
            0.2666567396952158,
            0.2863614048306658,
            0.2934987480260348,
            0.3284297453116052,
            0.3289335577724548,
            0.3564193264699148,
            0.4036937290462998,
            0.4209912902021351
           ],
           "yaxis": "y"
          }
         ],
         "name": "2017"
        },
        {
         "data": [
          {
           "alignmentgroup": "True",
           "hovertemplate": "year=2018<br>name=%{x}<br>percentage=%{y}<extra></extra>",
           "legendgroup": "",
           "marker": {
            "color": "rgb(76,114,176)",
            "pattern": {
             "shape": ""
            }
           },
           "name": "",
           "offsetgroup": "",
           "orientation": "v",
           "showlegend": false,
           "textposition": "auto",
           "type": "bar",
           "x": [
            "Patricia",
            "Linda",
            "Jennifer",
            "Richard",
            "Mary",
            "George",
            "Robert",
            "Charles",
            "Thomas",
            "Christopher",
            "Anthony",
            "Elizabeth",
            "John",
            "Joseph",
            "David",
            "Matthew",
            "Daniel",
            "Michael",
            "James",
            "William"
           ],
           "xaxis": "x",
           "y": [
            0.0084857976792197,
            0.0112479532996369,
            0.0261977646472556,
            0.0608528511425927,
            0.0671744856553,
            0.0877055599060297,
            0.1475617569587812,
            0.1898198903680501,
            0.194689257492703,
            0.2087847939061721,
            0.2289456823521036,
            0.2445504378159037,
            0.2620345981348331,
            0.2753897629387057,
            0.2792909518046558,
            0.2849006905389051,
            0.3215775610450629,
            0.3345625400441375,
            0.3893785149854061,
            0.4170285470207162
           ],
           "yaxis": "y"
          }
         ],
         "name": "2018"
        },
        {
         "data": [
          {
           "alignmentgroup": "True",
           "hovertemplate": "year=2019<br>name=%{x}<br>percentage=%{y}<extra></extra>",
           "legendgroup": "",
           "marker": {
            "color": "rgb(76,114,176)",
            "pattern": {
             "shape": ""
            }
           },
           "name": "",
           "offsetgroup": "",
           "orientation": "v",
           "showlegend": false,
           "textposition": "auto",
           "type": "bar",
           "x": [
            "Patricia",
            "Linda",
            "Jennifer",
            "Richard",
            "Mary",
            "George",
            "Robert",
            "Charles",
            "Thomas",
            "Christopher",
            "Anthony",
            "Elizabeth",
            "John",
            "David",
            "Joseph",
            "Matthew",
            "Daniel",
            "Michael",
            "James",
            "William"
           ],
           "xaxis": "x",
           "y": [
            0.0081077470532955,
            0.0103871492497737,
            0.0227074623876997,
            0.0573024400279183,
            0.0644868849256785,
            0.0922436559764627,
            0.1399956893330613,
            0.1848046970688907,
            0.1919025823895694,
            0.2020877592928197,
            0.2225158194840414,
            0.2286038430721032,
            0.2556104311215149,
            0.2591305205894938,
            0.264526067560904,
            0.2674402399893127,
            0.3054687475204288,
            0.3064786092530456,
            0.3820739732375099,
            0.3935863969893424
           ],
           "yaxis": "y"
          }
         ],
         "name": "2019"
        },
        {
         "data": [
          {
           "alignmentgroup": "True",
           "hovertemplate": "year=2020<br>name=%{x}<br>percentage=%{y}<extra></extra>",
           "legendgroup": "",
           "marker": {
            "color": "rgb(76,114,176)",
            "pattern": {
             "shape": ""
            }
           },
           "name": "",
           "offsetgroup": "",
           "orientation": "v",
           "showlegend": false,
           "textposition": "auto",
           "type": "bar",
           "x": [
            "Patricia",
            "Linda",
            "Jennifer",
            "Richard",
            "Mary",
            "George",
            "Robert",
            "Christopher",
            "Charles",
            "Thomas",
            "Anthony",
            "Elizabeth",
            "Matthew",
            "David",
            "John",
            "Joseph",
            "Daniel",
            "Michael",
            "James",
            "William"
           ],
           "xaxis": "x",
           "y": [
            0.0065087353527209,
            0.0099880593200741,
            0.0213258563861041,
            0.0547093699694149,
            0.0667370329944891,
            0.0831738393230195,
            0.1315544389725076,
            0.1859938613927313,
            0.1872836107944226,
            0.1932524510487612,
            0.2106490708855269,
            0.2182975847792773,
            0.2437626369196465,
            0.2473919317476614,
            0.2477518618132496,
            0.2539606554446471,
            0.2855145245278842,
            0.2948127178889141,
            0.3729475362936981,
            0.3796362366792132
           ],
           "yaxis": "y"
          }
         ],
         "name": "2020"
        },
        {
         "data": [
          {
           "alignmentgroup": "True",
           "hovertemplate": "year=2021<br>name=%{x}<br>percentage=%{y}<extra></extra>",
           "legendgroup": "",
           "marker": {
            "color": "rgb(76,114,176)",
            "pattern": {
             "shape": ""
            }
           },
           "name": "",
           "offsetgroup": "",
           "orientation": "v",
           "showlegend": false,
           "textposition": "auto",
           "type": "bar",
           "x": [
            "Patricia",
            "Linda",
            "Jennifer",
            "Richard",
            "Mary",
            "George",
            "Robert",
            "Christopher",
            "Charles",
            "Thomas",
            "Anthony",
            "Elizabeth",
            "Matthew",
            "David",
            "Joseph",
            "John",
            "Michael",
            "Daniel",
            "William",
            "James"
           ],
           "xaxis": "x",
           "y": [
            0.0062431336625328,
            0.0096457894501692,
            0.0187589892987954,
            0.0526080173079785,
            0.0619875119573762,
            0.0828472713511472,
            0.1307507471788285,
            0.1729732672567167,
            0.1771748074466678,
            0.1975315655500925,
            0.2006087499145637,
            0.2143673146210935,
            0.2207879781508074,
            0.2341618948117784,
            0.2407600882086733,
            0.2421507388349247,
            0.2700821046047401,
            0.2701708695383306,
            0.359941805709538,
            0.3697651250268884
           ],
           "yaxis": "y"
          }
         ],
         "name": "2021"
        },
        {
         "data": [
          {
           "alignmentgroup": "True",
           "hovertemplate": "year=2022<br>name=%{x}<br>percentage=%{y}<extra></extra>",
           "legendgroup": "",
           "marker": {
            "color": "rgb(76,114,176)",
            "pattern": {
             "shape": ""
            }
           },
           "name": "",
           "offsetgroup": "",
           "orientation": "v",
           "showlegend": false,
           "textposition": "auto",
           "type": "bar",
           "x": [
            "Patricia",
            "Linda",
            "Jennifer",
            "Richard",
            "Mary",
            "George",
            "Robert",
            "Christopher",
            "Charles",
            "Thomas",
            "Anthony",
            "Elizabeth",
            "Matthew",
            "David",
            "Joseph",
            "John",
            "Michael",
            "Daniel",
            "William",
            "James"
           ],
           "xaxis": "x",
           "y": [
            0.0065736715234498,
            0.0102918115254011,
            0.0185609548897407,
            0.0499420565062095,
            0.0623755166727346,
            0.0779322144408988,
            0.1206759519033307,
            0.1647879648864807,
            0.1754367178520691,
            0.1925996521010763,
            0.1951577324224187,
            0.2071450157887097,
            0.2092271741898024,
            0.2304056996409169,
            0.2313575434814164,
            0.2360870175638985,
            0.2631848218981193,
            0.2694312971013975,
            0.335792659856224,
            0.3602728936290712
           ],
           "yaxis": "y"
          }
         ],
         "name": "2022"
        }
       ],
       "layout": {
        "barmode": "relative",
        "legend": {
         "tracegroupgap": 0
        },
        "margin": {
         "t": 60
        },
        "sliders": [
         {
          "active": 0,
          "currentvalue": {
           "prefix": "year="
          },
          "len": 0.9,
          "pad": {
           "b": 10,
           "t": 60
          },
          "steps": [
           {
            "args": [
             [
              "1880"
             ],
             {
              "frame": {
               "duration": 0,
               "redraw": true
              },
              "fromcurrent": true,
              "mode": "immediate",
              "transition": {
               "duration": 0,
               "easing": "linear"
              }
             }
            ],
            "label": "1880",
            "method": "animate"
           },
           {
            "args": [
             [
              "1881"
             ],
             {
              "frame": {
               "duration": 0,
               "redraw": true
              },
              "fromcurrent": true,
              "mode": "immediate",
              "transition": {
               "duration": 0,
               "easing": "linear"
              }
             }
            ],
            "label": "1881",
            "method": "animate"
           },
           {
            "args": [
             [
              "1882"
             ],
             {
              "frame": {
               "duration": 0,
               "redraw": true
              },
              "fromcurrent": true,
              "mode": "immediate",
              "transition": {
               "duration": 0,
               "easing": "linear"
              }
             }
            ],
            "label": "1882",
            "method": "animate"
           },
           {
            "args": [
             [
              "1883"
             ],
             {
              "frame": {
               "duration": 0,
               "redraw": true
              },
              "fromcurrent": true,
              "mode": "immediate",
              "transition": {
               "duration": 0,
               "easing": "linear"
              }
             }
            ],
            "label": "1883",
            "method": "animate"
           },
           {
            "args": [
             [
              "1884"
             ],
             {
              "frame": {
               "duration": 0,
               "redraw": true
              },
              "fromcurrent": true,
              "mode": "immediate",
              "transition": {
               "duration": 0,
               "easing": "linear"
              }
             }
            ],
            "label": "1884",
            "method": "animate"
           },
           {
            "args": [
             [
              "1885"
             ],
             {
              "frame": {
               "duration": 0,
               "redraw": true
              },
              "fromcurrent": true,
              "mode": "immediate",
              "transition": {
               "duration": 0,
               "easing": "linear"
              }
             }
            ],
            "label": "1885",
            "method": "animate"
           },
           {
            "args": [
             [
              "1886"
             ],
             {
              "frame": {
               "duration": 0,
               "redraw": true
              },
              "fromcurrent": true,
              "mode": "immediate",
              "transition": {
               "duration": 0,
               "easing": "linear"
              }
             }
            ],
            "label": "1886",
            "method": "animate"
           },
           {
            "args": [
             [
              "1887"
             ],
             {
              "frame": {
               "duration": 0,
               "redraw": true
              },
              "fromcurrent": true,
              "mode": "immediate",
              "transition": {
               "duration": 0,
               "easing": "linear"
              }
             }
            ],
            "label": "1887",
            "method": "animate"
           },
           {
            "args": [
             [
              "1888"
             ],
             {
              "frame": {
               "duration": 0,
               "redraw": true
              },
              "fromcurrent": true,
              "mode": "immediate",
              "transition": {
               "duration": 0,
               "easing": "linear"
              }
             }
            ],
            "label": "1888",
            "method": "animate"
           },
           {
            "args": [
             [
              "1889"
             ],
             {
              "frame": {
               "duration": 0,
               "redraw": true
              },
              "fromcurrent": true,
              "mode": "immediate",
              "transition": {
               "duration": 0,
               "easing": "linear"
              }
             }
            ],
            "label": "1889",
            "method": "animate"
           },
           {
            "args": [
             [
              "1890"
             ],
             {
              "frame": {
               "duration": 0,
               "redraw": true
              },
              "fromcurrent": true,
              "mode": "immediate",
              "transition": {
               "duration": 0,
               "easing": "linear"
              }
             }
            ],
            "label": "1890",
            "method": "animate"
           },
           {
            "args": [
             [
              "1891"
             ],
             {
              "frame": {
               "duration": 0,
               "redraw": true
              },
              "fromcurrent": true,
              "mode": "immediate",
              "transition": {
               "duration": 0,
               "easing": "linear"
              }
             }
            ],
            "label": "1891",
            "method": "animate"
           },
           {
            "args": [
             [
              "1892"
             ],
             {
              "frame": {
               "duration": 0,
               "redraw": true
              },
              "fromcurrent": true,
              "mode": "immediate",
              "transition": {
               "duration": 0,
               "easing": "linear"
              }
             }
            ],
            "label": "1892",
            "method": "animate"
           },
           {
            "args": [
             [
              "1893"
             ],
             {
              "frame": {
               "duration": 0,
               "redraw": true
              },
              "fromcurrent": true,
              "mode": "immediate",
              "transition": {
               "duration": 0,
               "easing": "linear"
              }
             }
            ],
            "label": "1893",
            "method": "animate"
           },
           {
            "args": [
             [
              "1894"
             ],
             {
              "frame": {
               "duration": 0,
               "redraw": true
              },
              "fromcurrent": true,
              "mode": "immediate",
              "transition": {
               "duration": 0,
               "easing": "linear"
              }
             }
            ],
            "label": "1894",
            "method": "animate"
           },
           {
            "args": [
             [
              "1895"
             ],
             {
              "frame": {
               "duration": 0,
               "redraw": true
              },
              "fromcurrent": true,
              "mode": "immediate",
              "transition": {
               "duration": 0,
               "easing": "linear"
              }
             }
            ],
            "label": "1895",
            "method": "animate"
           },
           {
            "args": [
             [
              "1896"
             ],
             {
              "frame": {
               "duration": 0,
               "redraw": true
              },
              "fromcurrent": true,
              "mode": "immediate",
              "transition": {
               "duration": 0,
               "easing": "linear"
              }
             }
            ],
            "label": "1896",
            "method": "animate"
           },
           {
            "args": [
             [
              "1897"
             ],
             {
              "frame": {
               "duration": 0,
               "redraw": true
              },
              "fromcurrent": true,
              "mode": "immediate",
              "transition": {
               "duration": 0,
               "easing": "linear"
              }
             }
            ],
            "label": "1897",
            "method": "animate"
           },
           {
            "args": [
             [
              "1898"
             ],
             {
              "frame": {
               "duration": 0,
               "redraw": true
              },
              "fromcurrent": true,
              "mode": "immediate",
              "transition": {
               "duration": 0,
               "easing": "linear"
              }
             }
            ],
            "label": "1898",
            "method": "animate"
           },
           {
            "args": [
             [
              "1899"
             ],
             {
              "frame": {
               "duration": 0,
               "redraw": true
              },
              "fromcurrent": true,
              "mode": "immediate",
              "transition": {
               "duration": 0,
               "easing": "linear"
              }
             }
            ],
            "label": "1899",
            "method": "animate"
           },
           {
            "args": [
             [
              "1900"
             ],
             {
              "frame": {
               "duration": 0,
               "redraw": true
              },
              "fromcurrent": true,
              "mode": "immediate",
              "transition": {
               "duration": 0,
               "easing": "linear"
              }
             }
            ],
            "label": "1900",
            "method": "animate"
           },
           {
            "args": [
             [
              "1901"
             ],
             {
              "frame": {
               "duration": 0,
               "redraw": true
              },
              "fromcurrent": true,
              "mode": "immediate",
              "transition": {
               "duration": 0,
               "easing": "linear"
              }
             }
            ],
            "label": "1901",
            "method": "animate"
           },
           {
            "args": [
             [
              "1902"
             ],
             {
              "frame": {
               "duration": 0,
               "redraw": true
              },
              "fromcurrent": true,
              "mode": "immediate",
              "transition": {
               "duration": 0,
               "easing": "linear"
              }
             }
            ],
            "label": "1902",
            "method": "animate"
           },
           {
            "args": [
             [
              "1903"
             ],
             {
              "frame": {
               "duration": 0,
               "redraw": true
              },
              "fromcurrent": true,
              "mode": "immediate",
              "transition": {
               "duration": 0,
               "easing": "linear"
              }
             }
            ],
            "label": "1903",
            "method": "animate"
           },
           {
            "args": [
             [
              "1904"
             ],
             {
              "frame": {
               "duration": 0,
               "redraw": true
              },
              "fromcurrent": true,
              "mode": "immediate",
              "transition": {
               "duration": 0,
               "easing": "linear"
              }
             }
            ],
            "label": "1904",
            "method": "animate"
           },
           {
            "args": [
             [
              "1905"
             ],
             {
              "frame": {
               "duration": 0,
               "redraw": true
              },
              "fromcurrent": true,
              "mode": "immediate",
              "transition": {
               "duration": 0,
               "easing": "linear"
              }
             }
            ],
            "label": "1905",
            "method": "animate"
           },
           {
            "args": [
             [
              "1906"
             ],
             {
              "frame": {
               "duration": 0,
               "redraw": true
              },
              "fromcurrent": true,
              "mode": "immediate",
              "transition": {
               "duration": 0,
               "easing": "linear"
              }
             }
            ],
            "label": "1906",
            "method": "animate"
           },
           {
            "args": [
             [
              "1907"
             ],
             {
              "frame": {
               "duration": 0,
               "redraw": true
              },
              "fromcurrent": true,
              "mode": "immediate",
              "transition": {
               "duration": 0,
               "easing": "linear"
              }
             }
            ],
            "label": "1907",
            "method": "animate"
           },
           {
            "args": [
             [
              "1908"
             ],
             {
              "frame": {
               "duration": 0,
               "redraw": true
              },
              "fromcurrent": true,
              "mode": "immediate",
              "transition": {
               "duration": 0,
               "easing": "linear"
              }
             }
            ],
            "label": "1908",
            "method": "animate"
           },
           {
            "args": [
             [
              "1909"
             ],
             {
              "frame": {
               "duration": 0,
               "redraw": true
              },
              "fromcurrent": true,
              "mode": "immediate",
              "transition": {
               "duration": 0,
               "easing": "linear"
              }
             }
            ],
            "label": "1909",
            "method": "animate"
           },
           {
            "args": [
             [
              "1910"
             ],
             {
              "frame": {
               "duration": 0,
               "redraw": true
              },
              "fromcurrent": true,
              "mode": "immediate",
              "transition": {
               "duration": 0,
               "easing": "linear"
              }
             }
            ],
            "label": "1910",
            "method": "animate"
           },
           {
            "args": [
             [
              "1911"
             ],
             {
              "frame": {
               "duration": 0,
               "redraw": true
              },
              "fromcurrent": true,
              "mode": "immediate",
              "transition": {
               "duration": 0,
               "easing": "linear"
              }
             }
            ],
            "label": "1911",
            "method": "animate"
           },
           {
            "args": [
             [
              "1912"
             ],
             {
              "frame": {
               "duration": 0,
               "redraw": true
              },
              "fromcurrent": true,
              "mode": "immediate",
              "transition": {
               "duration": 0,
               "easing": "linear"
              }
             }
            ],
            "label": "1912",
            "method": "animate"
           },
           {
            "args": [
             [
              "1913"
             ],
             {
              "frame": {
               "duration": 0,
               "redraw": true
              },
              "fromcurrent": true,
              "mode": "immediate",
              "transition": {
               "duration": 0,
               "easing": "linear"
              }
             }
            ],
            "label": "1913",
            "method": "animate"
           },
           {
            "args": [
             [
              "1914"
             ],
             {
              "frame": {
               "duration": 0,
               "redraw": true
              },
              "fromcurrent": true,
              "mode": "immediate",
              "transition": {
               "duration": 0,
               "easing": "linear"
              }
             }
            ],
            "label": "1914",
            "method": "animate"
           },
           {
            "args": [
             [
              "1915"
             ],
             {
              "frame": {
               "duration": 0,
               "redraw": true
              },
              "fromcurrent": true,
              "mode": "immediate",
              "transition": {
               "duration": 0,
               "easing": "linear"
              }
             }
            ],
            "label": "1915",
            "method": "animate"
           },
           {
            "args": [
             [
              "1916"
             ],
             {
              "frame": {
               "duration": 0,
               "redraw": true
              },
              "fromcurrent": true,
              "mode": "immediate",
              "transition": {
               "duration": 0,
               "easing": "linear"
              }
             }
            ],
            "label": "1916",
            "method": "animate"
           },
           {
            "args": [
             [
              "1917"
             ],
             {
              "frame": {
               "duration": 0,
               "redraw": true
              },
              "fromcurrent": true,
              "mode": "immediate",
              "transition": {
               "duration": 0,
               "easing": "linear"
              }
             }
            ],
            "label": "1917",
            "method": "animate"
           },
           {
            "args": [
             [
              "1918"
             ],
             {
              "frame": {
               "duration": 0,
               "redraw": true
              },
              "fromcurrent": true,
              "mode": "immediate",
              "transition": {
               "duration": 0,
               "easing": "linear"
              }
             }
            ],
            "label": "1918",
            "method": "animate"
           },
           {
            "args": [
             [
              "1919"
             ],
             {
              "frame": {
               "duration": 0,
               "redraw": true
              },
              "fromcurrent": true,
              "mode": "immediate",
              "transition": {
               "duration": 0,
               "easing": "linear"
              }
             }
            ],
            "label": "1919",
            "method": "animate"
           },
           {
            "args": [
             [
              "1920"
             ],
             {
              "frame": {
               "duration": 0,
               "redraw": true
              },
              "fromcurrent": true,
              "mode": "immediate",
              "transition": {
               "duration": 0,
               "easing": "linear"
              }
             }
            ],
            "label": "1920",
            "method": "animate"
           },
           {
            "args": [
             [
              "1921"
             ],
             {
              "frame": {
               "duration": 0,
               "redraw": true
              },
              "fromcurrent": true,
              "mode": "immediate",
              "transition": {
               "duration": 0,
               "easing": "linear"
              }
             }
            ],
            "label": "1921",
            "method": "animate"
           },
           {
            "args": [
             [
              "1922"
             ],
             {
              "frame": {
               "duration": 0,
               "redraw": true
              },
              "fromcurrent": true,
              "mode": "immediate",
              "transition": {
               "duration": 0,
               "easing": "linear"
              }
             }
            ],
            "label": "1922",
            "method": "animate"
           },
           {
            "args": [
             [
              "1923"
             ],
             {
              "frame": {
               "duration": 0,
               "redraw": true
              },
              "fromcurrent": true,
              "mode": "immediate",
              "transition": {
               "duration": 0,
               "easing": "linear"
              }
             }
            ],
            "label": "1923",
            "method": "animate"
           },
           {
            "args": [
             [
              "1924"
             ],
             {
              "frame": {
               "duration": 0,
               "redraw": true
              },
              "fromcurrent": true,
              "mode": "immediate",
              "transition": {
               "duration": 0,
               "easing": "linear"
              }
             }
            ],
            "label": "1924",
            "method": "animate"
           },
           {
            "args": [
             [
              "1925"
             ],
             {
              "frame": {
               "duration": 0,
               "redraw": true
              },
              "fromcurrent": true,
              "mode": "immediate",
              "transition": {
               "duration": 0,
               "easing": "linear"
              }
             }
            ],
            "label": "1925",
            "method": "animate"
           },
           {
            "args": [
             [
              "1926"
             ],
             {
              "frame": {
               "duration": 0,
               "redraw": true
              },
              "fromcurrent": true,
              "mode": "immediate",
              "transition": {
               "duration": 0,
               "easing": "linear"
              }
             }
            ],
            "label": "1926",
            "method": "animate"
           },
           {
            "args": [
             [
              "1927"
             ],
             {
              "frame": {
               "duration": 0,
               "redraw": true
              },
              "fromcurrent": true,
              "mode": "immediate",
              "transition": {
               "duration": 0,
               "easing": "linear"
              }
             }
            ],
            "label": "1927",
            "method": "animate"
           },
           {
            "args": [
             [
              "1928"
             ],
             {
              "frame": {
               "duration": 0,
               "redraw": true
              },
              "fromcurrent": true,
              "mode": "immediate",
              "transition": {
               "duration": 0,
               "easing": "linear"
              }
             }
            ],
            "label": "1928",
            "method": "animate"
           },
           {
            "args": [
             [
              "1929"
             ],
             {
              "frame": {
               "duration": 0,
               "redraw": true
              },
              "fromcurrent": true,
              "mode": "immediate",
              "transition": {
               "duration": 0,
               "easing": "linear"
              }
             }
            ],
            "label": "1929",
            "method": "animate"
           },
           {
            "args": [
             [
              "1930"
             ],
             {
              "frame": {
               "duration": 0,
               "redraw": true
              },
              "fromcurrent": true,
              "mode": "immediate",
              "transition": {
               "duration": 0,
               "easing": "linear"
              }
             }
            ],
            "label": "1930",
            "method": "animate"
           },
           {
            "args": [
             [
              "1931"
             ],
             {
              "frame": {
               "duration": 0,
               "redraw": true
              },
              "fromcurrent": true,
              "mode": "immediate",
              "transition": {
               "duration": 0,
               "easing": "linear"
              }
             }
            ],
            "label": "1931",
            "method": "animate"
           },
           {
            "args": [
             [
              "1932"
             ],
             {
              "frame": {
               "duration": 0,
               "redraw": true
              },
              "fromcurrent": true,
              "mode": "immediate",
              "transition": {
               "duration": 0,
               "easing": "linear"
              }
             }
            ],
            "label": "1932",
            "method": "animate"
           },
           {
            "args": [
             [
              "1933"
             ],
             {
              "frame": {
               "duration": 0,
               "redraw": true
              },
              "fromcurrent": true,
              "mode": "immediate",
              "transition": {
               "duration": 0,
               "easing": "linear"
              }
             }
            ],
            "label": "1933",
            "method": "animate"
           },
           {
            "args": [
             [
              "1934"
             ],
             {
              "frame": {
               "duration": 0,
               "redraw": true
              },
              "fromcurrent": true,
              "mode": "immediate",
              "transition": {
               "duration": 0,
               "easing": "linear"
              }
             }
            ],
            "label": "1934",
            "method": "animate"
           },
           {
            "args": [
             [
              "1935"
             ],
             {
              "frame": {
               "duration": 0,
               "redraw": true
              },
              "fromcurrent": true,
              "mode": "immediate",
              "transition": {
               "duration": 0,
               "easing": "linear"
              }
             }
            ],
            "label": "1935",
            "method": "animate"
           },
           {
            "args": [
             [
              "1936"
             ],
             {
              "frame": {
               "duration": 0,
               "redraw": true
              },
              "fromcurrent": true,
              "mode": "immediate",
              "transition": {
               "duration": 0,
               "easing": "linear"
              }
             }
            ],
            "label": "1936",
            "method": "animate"
           },
           {
            "args": [
             [
              "1937"
             ],
             {
              "frame": {
               "duration": 0,
               "redraw": true
              },
              "fromcurrent": true,
              "mode": "immediate",
              "transition": {
               "duration": 0,
               "easing": "linear"
              }
             }
            ],
            "label": "1937",
            "method": "animate"
           },
           {
            "args": [
             [
              "1938"
             ],
             {
              "frame": {
               "duration": 0,
               "redraw": true
              },
              "fromcurrent": true,
              "mode": "immediate",
              "transition": {
               "duration": 0,
               "easing": "linear"
              }
             }
            ],
            "label": "1938",
            "method": "animate"
           },
           {
            "args": [
             [
              "1939"
             ],
             {
              "frame": {
               "duration": 0,
               "redraw": true
              },
              "fromcurrent": true,
              "mode": "immediate",
              "transition": {
               "duration": 0,
               "easing": "linear"
              }
             }
            ],
            "label": "1939",
            "method": "animate"
           },
           {
            "args": [
             [
              "1940"
             ],
             {
              "frame": {
               "duration": 0,
               "redraw": true
              },
              "fromcurrent": true,
              "mode": "immediate",
              "transition": {
               "duration": 0,
               "easing": "linear"
              }
             }
            ],
            "label": "1940",
            "method": "animate"
           },
           {
            "args": [
             [
              "1941"
             ],
             {
              "frame": {
               "duration": 0,
               "redraw": true
              },
              "fromcurrent": true,
              "mode": "immediate",
              "transition": {
               "duration": 0,
               "easing": "linear"
              }
             }
            ],
            "label": "1941",
            "method": "animate"
           },
           {
            "args": [
             [
              "1942"
             ],
             {
              "frame": {
               "duration": 0,
               "redraw": true
              },
              "fromcurrent": true,
              "mode": "immediate",
              "transition": {
               "duration": 0,
               "easing": "linear"
              }
             }
            ],
            "label": "1942",
            "method": "animate"
           },
           {
            "args": [
             [
              "1943"
             ],
             {
              "frame": {
               "duration": 0,
               "redraw": true
              },
              "fromcurrent": true,
              "mode": "immediate",
              "transition": {
               "duration": 0,
               "easing": "linear"
              }
             }
            ],
            "label": "1943",
            "method": "animate"
           },
           {
            "args": [
             [
              "1944"
             ],
             {
              "frame": {
               "duration": 0,
               "redraw": true
              },
              "fromcurrent": true,
              "mode": "immediate",
              "transition": {
               "duration": 0,
               "easing": "linear"
              }
             }
            ],
            "label": "1944",
            "method": "animate"
           },
           {
            "args": [
             [
              "1945"
             ],
             {
              "frame": {
               "duration": 0,
               "redraw": true
              },
              "fromcurrent": true,
              "mode": "immediate",
              "transition": {
               "duration": 0,
               "easing": "linear"
              }
             }
            ],
            "label": "1945",
            "method": "animate"
           },
           {
            "args": [
             [
              "1946"
             ],
             {
              "frame": {
               "duration": 0,
               "redraw": true
              },
              "fromcurrent": true,
              "mode": "immediate",
              "transition": {
               "duration": 0,
               "easing": "linear"
              }
             }
            ],
            "label": "1946",
            "method": "animate"
           },
           {
            "args": [
             [
              "1947"
             ],
             {
              "frame": {
               "duration": 0,
               "redraw": true
              },
              "fromcurrent": true,
              "mode": "immediate",
              "transition": {
               "duration": 0,
               "easing": "linear"
              }
             }
            ],
            "label": "1947",
            "method": "animate"
           },
           {
            "args": [
             [
              "1948"
             ],
             {
              "frame": {
               "duration": 0,
               "redraw": true
              },
              "fromcurrent": true,
              "mode": "immediate",
              "transition": {
               "duration": 0,
               "easing": "linear"
              }
             }
            ],
            "label": "1948",
            "method": "animate"
           },
           {
            "args": [
             [
              "1949"
             ],
             {
              "frame": {
               "duration": 0,
               "redraw": true
              },
              "fromcurrent": true,
              "mode": "immediate",
              "transition": {
               "duration": 0,
               "easing": "linear"
              }
             }
            ],
            "label": "1949",
            "method": "animate"
           },
           {
            "args": [
             [
              "1950"
             ],
             {
              "frame": {
               "duration": 0,
               "redraw": true
              },
              "fromcurrent": true,
              "mode": "immediate",
              "transition": {
               "duration": 0,
               "easing": "linear"
              }
             }
            ],
            "label": "1950",
            "method": "animate"
           },
           {
            "args": [
             [
              "1951"
             ],
             {
              "frame": {
               "duration": 0,
               "redraw": true
              },
              "fromcurrent": true,
              "mode": "immediate",
              "transition": {
               "duration": 0,
               "easing": "linear"
              }
             }
            ],
            "label": "1951",
            "method": "animate"
           },
           {
            "args": [
             [
              "1952"
             ],
             {
              "frame": {
               "duration": 0,
               "redraw": true
              },
              "fromcurrent": true,
              "mode": "immediate",
              "transition": {
               "duration": 0,
               "easing": "linear"
              }
             }
            ],
            "label": "1952",
            "method": "animate"
           },
           {
            "args": [
             [
              "1953"
             ],
             {
              "frame": {
               "duration": 0,
               "redraw": true
              },
              "fromcurrent": true,
              "mode": "immediate",
              "transition": {
               "duration": 0,
               "easing": "linear"
              }
             }
            ],
            "label": "1953",
            "method": "animate"
           },
           {
            "args": [
             [
              "1954"
             ],
             {
              "frame": {
               "duration": 0,
               "redraw": true
              },
              "fromcurrent": true,
              "mode": "immediate",
              "transition": {
               "duration": 0,
               "easing": "linear"
              }
             }
            ],
            "label": "1954",
            "method": "animate"
           },
           {
            "args": [
             [
              "1955"
             ],
             {
              "frame": {
               "duration": 0,
               "redraw": true
              },
              "fromcurrent": true,
              "mode": "immediate",
              "transition": {
               "duration": 0,
               "easing": "linear"
              }
             }
            ],
            "label": "1955",
            "method": "animate"
           },
           {
            "args": [
             [
              "1956"
             ],
             {
              "frame": {
               "duration": 0,
               "redraw": true
              },
              "fromcurrent": true,
              "mode": "immediate",
              "transition": {
               "duration": 0,
               "easing": "linear"
              }
             }
            ],
            "label": "1956",
            "method": "animate"
           },
           {
            "args": [
             [
              "1957"
             ],
             {
              "frame": {
               "duration": 0,
               "redraw": true
              },
              "fromcurrent": true,
              "mode": "immediate",
              "transition": {
               "duration": 0,
               "easing": "linear"
              }
             }
            ],
            "label": "1957",
            "method": "animate"
           },
           {
            "args": [
             [
              "1958"
             ],
             {
              "frame": {
               "duration": 0,
               "redraw": true
              },
              "fromcurrent": true,
              "mode": "immediate",
              "transition": {
               "duration": 0,
               "easing": "linear"
              }
             }
            ],
            "label": "1958",
            "method": "animate"
           },
           {
            "args": [
             [
              "1959"
             ],
             {
              "frame": {
               "duration": 0,
               "redraw": true
              },
              "fromcurrent": true,
              "mode": "immediate",
              "transition": {
               "duration": 0,
               "easing": "linear"
              }
             }
            ],
            "label": "1959",
            "method": "animate"
           },
           {
            "args": [
             [
              "1960"
             ],
             {
              "frame": {
               "duration": 0,
               "redraw": true
              },
              "fromcurrent": true,
              "mode": "immediate",
              "transition": {
               "duration": 0,
               "easing": "linear"
              }
             }
            ],
            "label": "1960",
            "method": "animate"
           },
           {
            "args": [
             [
              "1961"
             ],
             {
              "frame": {
               "duration": 0,
               "redraw": true
              },
              "fromcurrent": true,
              "mode": "immediate",
              "transition": {
               "duration": 0,
               "easing": "linear"
              }
             }
            ],
            "label": "1961",
            "method": "animate"
           },
           {
            "args": [
             [
              "1962"
             ],
             {
              "frame": {
               "duration": 0,
               "redraw": true
              },
              "fromcurrent": true,
              "mode": "immediate",
              "transition": {
               "duration": 0,
               "easing": "linear"
              }
             }
            ],
            "label": "1962",
            "method": "animate"
           },
           {
            "args": [
             [
              "1963"
             ],
             {
              "frame": {
               "duration": 0,
               "redraw": true
              },
              "fromcurrent": true,
              "mode": "immediate",
              "transition": {
               "duration": 0,
               "easing": "linear"
              }
             }
            ],
            "label": "1963",
            "method": "animate"
           },
           {
            "args": [
             [
              "1964"
             ],
             {
              "frame": {
               "duration": 0,
               "redraw": true
              },
              "fromcurrent": true,
              "mode": "immediate",
              "transition": {
               "duration": 0,
               "easing": "linear"
              }
             }
            ],
            "label": "1964",
            "method": "animate"
           },
           {
            "args": [
             [
              "1965"
             ],
             {
              "frame": {
               "duration": 0,
               "redraw": true
              },
              "fromcurrent": true,
              "mode": "immediate",
              "transition": {
               "duration": 0,
               "easing": "linear"
              }
             }
            ],
            "label": "1965",
            "method": "animate"
           },
           {
            "args": [
             [
              "1966"
             ],
             {
              "frame": {
               "duration": 0,
               "redraw": true
              },
              "fromcurrent": true,
              "mode": "immediate",
              "transition": {
               "duration": 0,
               "easing": "linear"
              }
             }
            ],
            "label": "1966",
            "method": "animate"
           },
           {
            "args": [
             [
              "1967"
             ],
             {
              "frame": {
               "duration": 0,
               "redraw": true
              },
              "fromcurrent": true,
              "mode": "immediate",
              "transition": {
               "duration": 0,
               "easing": "linear"
              }
             }
            ],
            "label": "1967",
            "method": "animate"
           },
           {
            "args": [
             [
              "1968"
             ],
             {
              "frame": {
               "duration": 0,
               "redraw": true
              },
              "fromcurrent": true,
              "mode": "immediate",
              "transition": {
               "duration": 0,
               "easing": "linear"
              }
             }
            ],
            "label": "1968",
            "method": "animate"
           },
           {
            "args": [
             [
              "1969"
             ],
             {
              "frame": {
               "duration": 0,
               "redraw": true
              },
              "fromcurrent": true,
              "mode": "immediate",
              "transition": {
               "duration": 0,
               "easing": "linear"
              }
             }
            ],
            "label": "1969",
            "method": "animate"
           },
           {
            "args": [
             [
              "1970"
             ],
             {
              "frame": {
               "duration": 0,
               "redraw": true
              },
              "fromcurrent": true,
              "mode": "immediate",
              "transition": {
               "duration": 0,
               "easing": "linear"
              }
             }
            ],
            "label": "1970",
            "method": "animate"
           },
           {
            "args": [
             [
              "1971"
             ],
             {
              "frame": {
               "duration": 0,
               "redraw": true
              },
              "fromcurrent": true,
              "mode": "immediate",
              "transition": {
               "duration": 0,
               "easing": "linear"
              }
             }
            ],
            "label": "1971",
            "method": "animate"
           },
           {
            "args": [
             [
              "1972"
             ],
             {
              "frame": {
               "duration": 0,
               "redraw": true
              },
              "fromcurrent": true,
              "mode": "immediate",
              "transition": {
               "duration": 0,
               "easing": "linear"
              }
             }
            ],
            "label": "1972",
            "method": "animate"
           },
           {
            "args": [
             [
              "1973"
             ],
             {
              "frame": {
               "duration": 0,
               "redraw": true
              },
              "fromcurrent": true,
              "mode": "immediate",
              "transition": {
               "duration": 0,
               "easing": "linear"
              }
             }
            ],
            "label": "1973",
            "method": "animate"
           },
           {
            "args": [
             [
              "1974"
             ],
             {
              "frame": {
               "duration": 0,
               "redraw": true
              },
              "fromcurrent": true,
              "mode": "immediate",
              "transition": {
               "duration": 0,
               "easing": "linear"
              }
             }
            ],
            "label": "1974",
            "method": "animate"
           },
           {
            "args": [
             [
              "1975"
             ],
             {
              "frame": {
               "duration": 0,
               "redraw": true
              },
              "fromcurrent": true,
              "mode": "immediate",
              "transition": {
               "duration": 0,
               "easing": "linear"
              }
             }
            ],
            "label": "1975",
            "method": "animate"
           },
           {
            "args": [
             [
              "1976"
             ],
             {
              "frame": {
               "duration": 0,
               "redraw": true
              },
              "fromcurrent": true,
              "mode": "immediate",
              "transition": {
               "duration": 0,
               "easing": "linear"
              }
             }
            ],
            "label": "1976",
            "method": "animate"
           },
           {
            "args": [
             [
              "1977"
             ],
             {
              "frame": {
               "duration": 0,
               "redraw": true
              },
              "fromcurrent": true,
              "mode": "immediate",
              "transition": {
               "duration": 0,
               "easing": "linear"
              }
             }
            ],
            "label": "1977",
            "method": "animate"
           },
           {
            "args": [
             [
              "1978"
             ],
             {
              "frame": {
               "duration": 0,
               "redraw": true
              },
              "fromcurrent": true,
              "mode": "immediate",
              "transition": {
               "duration": 0,
               "easing": "linear"
              }
             }
            ],
            "label": "1978",
            "method": "animate"
           },
           {
            "args": [
             [
              "1979"
             ],
             {
              "frame": {
               "duration": 0,
               "redraw": true
              },
              "fromcurrent": true,
              "mode": "immediate",
              "transition": {
               "duration": 0,
               "easing": "linear"
              }
             }
            ],
            "label": "1979",
            "method": "animate"
           },
           {
            "args": [
             [
              "1980"
             ],
             {
              "frame": {
               "duration": 0,
               "redraw": true
              },
              "fromcurrent": true,
              "mode": "immediate",
              "transition": {
               "duration": 0,
               "easing": "linear"
              }
             }
            ],
            "label": "1980",
            "method": "animate"
           },
           {
            "args": [
             [
              "1981"
             ],
             {
              "frame": {
               "duration": 0,
               "redraw": true
              },
              "fromcurrent": true,
              "mode": "immediate",
              "transition": {
               "duration": 0,
               "easing": "linear"
              }
             }
            ],
            "label": "1981",
            "method": "animate"
           },
           {
            "args": [
             [
              "1982"
             ],
             {
              "frame": {
               "duration": 0,
               "redraw": true
              },
              "fromcurrent": true,
              "mode": "immediate",
              "transition": {
               "duration": 0,
               "easing": "linear"
              }
             }
            ],
            "label": "1982",
            "method": "animate"
           },
           {
            "args": [
             [
              "1983"
             ],
             {
              "frame": {
               "duration": 0,
               "redraw": true
              },
              "fromcurrent": true,
              "mode": "immediate",
              "transition": {
               "duration": 0,
               "easing": "linear"
              }
             }
            ],
            "label": "1983",
            "method": "animate"
           },
           {
            "args": [
             [
              "1984"
             ],
             {
              "frame": {
               "duration": 0,
               "redraw": true
              },
              "fromcurrent": true,
              "mode": "immediate",
              "transition": {
               "duration": 0,
               "easing": "linear"
              }
             }
            ],
            "label": "1984",
            "method": "animate"
           },
           {
            "args": [
             [
              "1985"
             ],
             {
              "frame": {
               "duration": 0,
               "redraw": true
              },
              "fromcurrent": true,
              "mode": "immediate",
              "transition": {
               "duration": 0,
               "easing": "linear"
              }
             }
            ],
            "label": "1985",
            "method": "animate"
           },
           {
            "args": [
             [
              "1986"
             ],
             {
              "frame": {
               "duration": 0,
               "redraw": true
              },
              "fromcurrent": true,
              "mode": "immediate",
              "transition": {
               "duration": 0,
               "easing": "linear"
              }
             }
            ],
            "label": "1986",
            "method": "animate"
           },
           {
            "args": [
             [
              "1987"
             ],
             {
              "frame": {
               "duration": 0,
               "redraw": true
              },
              "fromcurrent": true,
              "mode": "immediate",
              "transition": {
               "duration": 0,
               "easing": "linear"
              }
             }
            ],
            "label": "1987",
            "method": "animate"
           },
           {
            "args": [
             [
              "1988"
             ],
             {
              "frame": {
               "duration": 0,
               "redraw": true
              },
              "fromcurrent": true,
              "mode": "immediate",
              "transition": {
               "duration": 0,
               "easing": "linear"
              }
             }
            ],
            "label": "1988",
            "method": "animate"
           },
           {
            "args": [
             [
              "1989"
             ],
             {
              "frame": {
               "duration": 0,
               "redraw": true
              },
              "fromcurrent": true,
              "mode": "immediate",
              "transition": {
               "duration": 0,
               "easing": "linear"
              }
             }
            ],
            "label": "1989",
            "method": "animate"
           },
           {
            "args": [
             [
              "1990"
             ],
             {
              "frame": {
               "duration": 0,
               "redraw": true
              },
              "fromcurrent": true,
              "mode": "immediate",
              "transition": {
               "duration": 0,
               "easing": "linear"
              }
             }
            ],
            "label": "1990",
            "method": "animate"
           },
           {
            "args": [
             [
              "1991"
             ],
             {
              "frame": {
               "duration": 0,
               "redraw": true
              },
              "fromcurrent": true,
              "mode": "immediate",
              "transition": {
               "duration": 0,
               "easing": "linear"
              }
             }
            ],
            "label": "1991",
            "method": "animate"
           },
           {
            "args": [
             [
              "1992"
             ],
             {
              "frame": {
               "duration": 0,
               "redraw": true
              },
              "fromcurrent": true,
              "mode": "immediate",
              "transition": {
               "duration": 0,
               "easing": "linear"
              }
             }
            ],
            "label": "1992",
            "method": "animate"
           },
           {
            "args": [
             [
              "1993"
             ],
             {
              "frame": {
               "duration": 0,
               "redraw": true
              },
              "fromcurrent": true,
              "mode": "immediate",
              "transition": {
               "duration": 0,
               "easing": "linear"
              }
             }
            ],
            "label": "1993",
            "method": "animate"
           },
           {
            "args": [
             [
              "1994"
             ],
             {
              "frame": {
               "duration": 0,
               "redraw": true
              },
              "fromcurrent": true,
              "mode": "immediate",
              "transition": {
               "duration": 0,
               "easing": "linear"
              }
             }
            ],
            "label": "1994",
            "method": "animate"
           },
           {
            "args": [
             [
              "1995"
             ],
             {
              "frame": {
               "duration": 0,
               "redraw": true
              },
              "fromcurrent": true,
              "mode": "immediate",
              "transition": {
               "duration": 0,
               "easing": "linear"
              }
             }
            ],
            "label": "1995",
            "method": "animate"
           },
           {
            "args": [
             [
              "1996"
             ],
             {
              "frame": {
               "duration": 0,
               "redraw": true
              },
              "fromcurrent": true,
              "mode": "immediate",
              "transition": {
               "duration": 0,
               "easing": "linear"
              }
             }
            ],
            "label": "1996",
            "method": "animate"
           },
           {
            "args": [
             [
              "1997"
             ],
             {
              "frame": {
               "duration": 0,
               "redraw": true
              },
              "fromcurrent": true,
              "mode": "immediate",
              "transition": {
               "duration": 0,
               "easing": "linear"
              }
             }
            ],
            "label": "1997",
            "method": "animate"
           },
           {
            "args": [
             [
              "1998"
             ],
             {
              "frame": {
               "duration": 0,
               "redraw": true
              },
              "fromcurrent": true,
              "mode": "immediate",
              "transition": {
               "duration": 0,
               "easing": "linear"
              }
             }
            ],
            "label": "1998",
            "method": "animate"
           },
           {
            "args": [
             [
              "1999"
             ],
             {
              "frame": {
               "duration": 0,
               "redraw": true
              },
              "fromcurrent": true,
              "mode": "immediate",
              "transition": {
               "duration": 0,
               "easing": "linear"
              }
             }
            ],
            "label": "1999",
            "method": "animate"
           },
           {
            "args": [
             [
              "2000"
             ],
             {
              "frame": {
               "duration": 0,
               "redraw": true
              },
              "fromcurrent": true,
              "mode": "immediate",
              "transition": {
               "duration": 0,
               "easing": "linear"
              }
             }
            ],
            "label": "2000",
            "method": "animate"
           },
           {
            "args": [
             [
              "2001"
             ],
             {
              "frame": {
               "duration": 0,
               "redraw": true
              },
              "fromcurrent": true,
              "mode": "immediate",
              "transition": {
               "duration": 0,
               "easing": "linear"
              }
             }
            ],
            "label": "2001",
            "method": "animate"
           },
           {
            "args": [
             [
              "2002"
             ],
             {
              "frame": {
               "duration": 0,
               "redraw": true
              },
              "fromcurrent": true,
              "mode": "immediate",
              "transition": {
               "duration": 0,
               "easing": "linear"
              }
             }
            ],
            "label": "2002",
            "method": "animate"
           },
           {
            "args": [
             [
              "2003"
             ],
             {
              "frame": {
               "duration": 0,
               "redraw": true
              },
              "fromcurrent": true,
              "mode": "immediate",
              "transition": {
               "duration": 0,
               "easing": "linear"
              }
             }
            ],
            "label": "2003",
            "method": "animate"
           },
           {
            "args": [
             [
              "2004"
             ],
             {
              "frame": {
               "duration": 0,
               "redraw": true
              },
              "fromcurrent": true,
              "mode": "immediate",
              "transition": {
               "duration": 0,
               "easing": "linear"
              }
             }
            ],
            "label": "2004",
            "method": "animate"
           },
           {
            "args": [
             [
              "2005"
             ],
             {
              "frame": {
               "duration": 0,
               "redraw": true
              },
              "fromcurrent": true,
              "mode": "immediate",
              "transition": {
               "duration": 0,
               "easing": "linear"
              }
             }
            ],
            "label": "2005",
            "method": "animate"
           },
           {
            "args": [
             [
              "2006"
             ],
             {
              "frame": {
               "duration": 0,
               "redraw": true
              },
              "fromcurrent": true,
              "mode": "immediate",
              "transition": {
               "duration": 0,
               "easing": "linear"
              }
             }
            ],
            "label": "2006",
            "method": "animate"
           },
           {
            "args": [
             [
              "2007"
             ],
             {
              "frame": {
               "duration": 0,
               "redraw": true
              },
              "fromcurrent": true,
              "mode": "immediate",
              "transition": {
               "duration": 0,
               "easing": "linear"
              }
             }
            ],
            "label": "2007",
            "method": "animate"
           },
           {
            "args": [
             [
              "2008"
             ],
             {
              "frame": {
               "duration": 0,
               "redraw": true
              },
              "fromcurrent": true,
              "mode": "immediate",
              "transition": {
               "duration": 0,
               "easing": "linear"
              }
             }
            ],
            "label": "2008",
            "method": "animate"
           },
           {
            "args": [
             [
              "2009"
             ],
             {
              "frame": {
               "duration": 0,
               "redraw": true
              },
              "fromcurrent": true,
              "mode": "immediate",
              "transition": {
               "duration": 0,
               "easing": "linear"
              }
             }
            ],
            "label": "2009",
            "method": "animate"
           },
           {
            "args": [
             [
              "2010"
             ],
             {
              "frame": {
               "duration": 0,
               "redraw": true
              },
              "fromcurrent": true,
              "mode": "immediate",
              "transition": {
               "duration": 0,
               "easing": "linear"
              }
             }
            ],
            "label": "2010",
            "method": "animate"
           },
           {
            "args": [
             [
              "2011"
             ],
             {
              "frame": {
               "duration": 0,
               "redraw": true
              },
              "fromcurrent": true,
              "mode": "immediate",
              "transition": {
               "duration": 0,
               "easing": "linear"
              }
             }
            ],
            "label": "2011",
            "method": "animate"
           },
           {
            "args": [
             [
              "2012"
             ],
             {
              "frame": {
               "duration": 0,
               "redraw": true
              },
              "fromcurrent": true,
              "mode": "immediate",
              "transition": {
               "duration": 0,
               "easing": "linear"
              }
             }
            ],
            "label": "2012",
            "method": "animate"
           },
           {
            "args": [
             [
              "2013"
             ],
             {
              "frame": {
               "duration": 0,
               "redraw": true
              },
              "fromcurrent": true,
              "mode": "immediate",
              "transition": {
               "duration": 0,
               "easing": "linear"
              }
             }
            ],
            "label": "2013",
            "method": "animate"
           },
           {
            "args": [
             [
              "2014"
             ],
             {
              "frame": {
               "duration": 0,
               "redraw": true
              },
              "fromcurrent": true,
              "mode": "immediate",
              "transition": {
               "duration": 0,
               "easing": "linear"
              }
             }
            ],
            "label": "2014",
            "method": "animate"
           },
           {
            "args": [
             [
              "2015"
             ],
             {
              "frame": {
               "duration": 0,
               "redraw": true
              },
              "fromcurrent": true,
              "mode": "immediate",
              "transition": {
               "duration": 0,
               "easing": "linear"
              }
             }
            ],
            "label": "2015",
            "method": "animate"
           },
           {
            "args": [
             [
              "2016"
             ],
             {
              "frame": {
               "duration": 0,
               "redraw": true
              },
              "fromcurrent": true,
              "mode": "immediate",
              "transition": {
               "duration": 0,
               "easing": "linear"
              }
             }
            ],
            "label": "2016",
            "method": "animate"
           },
           {
            "args": [
             [
              "2017"
             ],
             {
              "frame": {
               "duration": 0,
               "redraw": true
              },
              "fromcurrent": true,
              "mode": "immediate",
              "transition": {
               "duration": 0,
               "easing": "linear"
              }
             }
            ],
            "label": "2017",
            "method": "animate"
           },
           {
            "args": [
             [
              "2018"
             ],
             {
              "frame": {
               "duration": 0,
               "redraw": true
              },
              "fromcurrent": true,
              "mode": "immediate",
              "transition": {
               "duration": 0,
               "easing": "linear"
              }
             }
            ],
            "label": "2018",
            "method": "animate"
           },
           {
            "args": [
             [
              "2019"
             ],
             {
              "frame": {
               "duration": 0,
               "redraw": true
              },
              "fromcurrent": true,
              "mode": "immediate",
              "transition": {
               "duration": 0,
               "easing": "linear"
              }
             }
            ],
            "label": "2019",
            "method": "animate"
           },
           {
            "args": [
             [
              "2020"
             ],
             {
              "frame": {
               "duration": 0,
               "redraw": true
              },
              "fromcurrent": true,
              "mode": "immediate",
              "transition": {
               "duration": 0,
               "easing": "linear"
              }
             }
            ],
            "label": "2020",
            "method": "animate"
           },
           {
            "args": [
             [
              "2021"
             ],
             {
              "frame": {
               "duration": 0,
               "redraw": true
              },
              "fromcurrent": true,
              "mode": "immediate",
              "transition": {
               "duration": 0,
               "easing": "linear"
              }
             }
            ],
            "label": "2021",
            "method": "animate"
           },
           {
            "args": [
             [
              "2022"
             ],
             {
              "frame": {
               "duration": 0,
               "redraw": true
              },
              "fromcurrent": true,
              "mode": "immediate",
              "transition": {
               "duration": 0,
               "easing": "linear"
              }
             }
            ],
            "label": "2022",
            "method": "animate"
           }
          ],
          "x": 0.1,
          "xanchor": "left",
          "y": 0,
          "yanchor": "top"
         }
        ],
        "template": {
         "data": {
          "bar": [
           {
            "error_x": {
             "color": "rgb(36,36,36)"
            },
            "error_y": {
             "color": "rgb(36,36,36)"
            },
            "marker": {
             "line": {
              "color": "rgb(234,234,242)",
              "width": 0.5
             },
             "pattern": {
              "fillmode": "overlay",
              "size": 10,
              "solidity": 0.2
             }
            },
            "type": "bar"
           }
          ],
          "barpolar": [
           {
            "marker": {
             "line": {
              "color": "rgb(234,234,242)",
              "width": 0.5
             },
             "pattern": {
              "fillmode": "overlay",
              "size": 10,
              "solidity": 0.2
             }
            },
            "type": "barpolar"
           }
          ],
          "carpet": [
           {
            "aaxis": {
             "endlinecolor": "rgb(36,36,36)",
             "gridcolor": "white",
             "linecolor": "white",
             "minorgridcolor": "white",
             "startlinecolor": "rgb(36,36,36)"
            },
            "baxis": {
             "endlinecolor": "rgb(36,36,36)",
             "gridcolor": "white",
             "linecolor": "white",
             "minorgridcolor": "white",
             "startlinecolor": "rgb(36,36,36)"
            },
            "type": "carpet"
           }
          ],
          "choropleth": [
           {
            "colorbar": {
             "outlinewidth": 0,
             "tickcolor": "rgb(36,36,36)",
             "ticklen": 8,
             "ticks": "outside",
             "tickwidth": 2
            },
            "type": "choropleth"
           }
          ],
          "contour": [
           {
            "colorbar": {
             "outlinewidth": 0,
             "tickcolor": "rgb(36,36,36)",
             "ticklen": 8,
             "ticks": "outside",
             "tickwidth": 2
            },
            "colorscale": [
             [
              0,
              "rgb(2,4,25)"
             ],
             [
              0.06274509803921569,
              "rgb(24,15,41)"
             ],
             [
              0.12549019607843137,
              "rgb(47,23,57)"
             ],
             [
              0.18823529411764706,
              "rgb(71,28,72)"
             ],
             [
              0.25098039215686274,
              "rgb(97,30,82)"
             ],
             [
              0.3137254901960784,
              "rgb(123,30,89)"
             ],
             [
              0.3764705882352941,
              "rgb(150,27,91)"
             ],
             [
              0.4392156862745098,
              "rgb(177,22,88)"
             ],
             [
              0.5019607843137255,
              "rgb(203,26,79)"
             ],
             [
              0.5647058823529412,
              "rgb(223,47,67)"
             ],
             [
              0.6274509803921569,
              "rgb(236,76,61)"
             ],
             [
              0.6901960784313725,
              "rgb(242,107,73)"
             ],
             [
              0.7529411764705882,
              "rgb(244,135,95)"
             ],
             [
              0.8156862745098039,
              "rgb(245,162,122)"
             ],
             [
              0.8784313725490196,
              "rgb(246,188,153)"
             ],
             [
              0.9411764705882353,
              "rgb(247,212,187)"
             ],
             [
              1,
              "rgb(250,234,220)"
             ]
            ],
            "type": "contour"
           }
          ],
          "contourcarpet": [
           {
            "colorbar": {
             "outlinewidth": 0,
             "tickcolor": "rgb(36,36,36)",
             "ticklen": 8,
             "ticks": "outside",
             "tickwidth": 2
            },
            "type": "contourcarpet"
           }
          ],
          "heatmap": [
           {
            "colorbar": {
             "outlinewidth": 0,
             "tickcolor": "rgb(36,36,36)",
             "ticklen": 8,
             "ticks": "outside",
             "tickwidth": 2
            },
            "colorscale": [
             [
              0,
              "rgb(2,4,25)"
             ],
             [
              0.06274509803921569,
              "rgb(24,15,41)"
             ],
             [
              0.12549019607843137,
              "rgb(47,23,57)"
             ],
             [
              0.18823529411764706,
              "rgb(71,28,72)"
             ],
             [
              0.25098039215686274,
              "rgb(97,30,82)"
             ],
             [
              0.3137254901960784,
              "rgb(123,30,89)"
             ],
             [
              0.3764705882352941,
              "rgb(150,27,91)"
             ],
             [
              0.4392156862745098,
              "rgb(177,22,88)"
             ],
             [
              0.5019607843137255,
              "rgb(203,26,79)"
             ],
             [
              0.5647058823529412,
              "rgb(223,47,67)"
             ],
             [
              0.6274509803921569,
              "rgb(236,76,61)"
             ],
             [
              0.6901960784313725,
              "rgb(242,107,73)"
             ],
             [
              0.7529411764705882,
              "rgb(244,135,95)"
             ],
             [
              0.8156862745098039,
              "rgb(245,162,122)"
             ],
             [
              0.8784313725490196,
              "rgb(246,188,153)"
             ],
             [
              0.9411764705882353,
              "rgb(247,212,187)"
             ],
             [
              1,
              "rgb(250,234,220)"
             ]
            ],
            "type": "heatmap"
           }
          ],
          "heatmapgl": [
           {
            "colorbar": {
             "outlinewidth": 0,
             "tickcolor": "rgb(36,36,36)",
             "ticklen": 8,
             "ticks": "outside",
             "tickwidth": 2
            },
            "colorscale": [
             [
              0,
              "rgb(2,4,25)"
             ],
             [
              0.06274509803921569,
              "rgb(24,15,41)"
             ],
             [
              0.12549019607843137,
              "rgb(47,23,57)"
             ],
             [
              0.18823529411764706,
              "rgb(71,28,72)"
             ],
             [
              0.25098039215686274,
              "rgb(97,30,82)"
             ],
             [
              0.3137254901960784,
              "rgb(123,30,89)"
             ],
             [
              0.3764705882352941,
              "rgb(150,27,91)"
             ],
             [
              0.4392156862745098,
              "rgb(177,22,88)"
             ],
             [
              0.5019607843137255,
              "rgb(203,26,79)"
             ],
             [
              0.5647058823529412,
              "rgb(223,47,67)"
             ],
             [
              0.6274509803921569,
              "rgb(236,76,61)"
             ],
             [
              0.6901960784313725,
              "rgb(242,107,73)"
             ],
             [
              0.7529411764705882,
              "rgb(244,135,95)"
             ],
             [
              0.8156862745098039,
              "rgb(245,162,122)"
             ],
             [
              0.8784313725490196,
              "rgb(246,188,153)"
             ],
             [
              0.9411764705882353,
              "rgb(247,212,187)"
             ],
             [
              1,
              "rgb(250,234,220)"
             ]
            ],
            "type": "heatmapgl"
           }
          ],
          "histogram": [
           {
            "marker": {
             "pattern": {
              "fillmode": "overlay",
              "size": 10,
              "solidity": 0.2
             }
            },
            "type": "histogram"
           }
          ],
          "histogram2d": [
           {
            "colorbar": {
             "outlinewidth": 0,
             "tickcolor": "rgb(36,36,36)",
             "ticklen": 8,
             "ticks": "outside",
             "tickwidth": 2
            },
            "colorscale": [
             [
              0,
              "rgb(2,4,25)"
             ],
             [
              0.06274509803921569,
              "rgb(24,15,41)"
             ],
             [
              0.12549019607843137,
              "rgb(47,23,57)"
             ],
             [
              0.18823529411764706,
              "rgb(71,28,72)"
             ],
             [
              0.25098039215686274,
              "rgb(97,30,82)"
             ],
             [
              0.3137254901960784,
              "rgb(123,30,89)"
             ],
             [
              0.3764705882352941,
              "rgb(150,27,91)"
             ],
             [
              0.4392156862745098,
              "rgb(177,22,88)"
             ],
             [
              0.5019607843137255,
              "rgb(203,26,79)"
             ],
             [
              0.5647058823529412,
              "rgb(223,47,67)"
             ],
             [
              0.6274509803921569,
              "rgb(236,76,61)"
             ],
             [
              0.6901960784313725,
              "rgb(242,107,73)"
             ],
             [
              0.7529411764705882,
              "rgb(244,135,95)"
             ],
             [
              0.8156862745098039,
              "rgb(245,162,122)"
             ],
             [
              0.8784313725490196,
              "rgb(246,188,153)"
             ],
             [
              0.9411764705882353,
              "rgb(247,212,187)"
             ],
             [
              1,
              "rgb(250,234,220)"
             ]
            ],
            "type": "histogram2d"
           }
          ],
          "histogram2dcontour": [
           {
            "colorbar": {
             "outlinewidth": 0,
             "tickcolor": "rgb(36,36,36)",
             "ticklen": 8,
             "ticks": "outside",
             "tickwidth": 2
            },
            "colorscale": [
             [
              0,
              "rgb(2,4,25)"
             ],
             [
              0.06274509803921569,
              "rgb(24,15,41)"
             ],
             [
              0.12549019607843137,
              "rgb(47,23,57)"
             ],
             [
              0.18823529411764706,
              "rgb(71,28,72)"
             ],
             [
              0.25098039215686274,
              "rgb(97,30,82)"
             ],
             [
              0.3137254901960784,
              "rgb(123,30,89)"
             ],
             [
              0.3764705882352941,
              "rgb(150,27,91)"
             ],
             [
              0.4392156862745098,
              "rgb(177,22,88)"
             ],
             [
              0.5019607843137255,
              "rgb(203,26,79)"
             ],
             [
              0.5647058823529412,
              "rgb(223,47,67)"
             ],
             [
              0.6274509803921569,
              "rgb(236,76,61)"
             ],
             [
              0.6901960784313725,
              "rgb(242,107,73)"
             ],
             [
              0.7529411764705882,
              "rgb(244,135,95)"
             ],
             [
              0.8156862745098039,
              "rgb(245,162,122)"
             ],
             [
              0.8784313725490196,
              "rgb(246,188,153)"
             ],
             [
              0.9411764705882353,
              "rgb(247,212,187)"
             ],
             [
              1,
              "rgb(250,234,220)"
             ]
            ],
            "type": "histogram2dcontour"
           }
          ],
          "mesh3d": [
           {
            "colorbar": {
             "outlinewidth": 0,
             "tickcolor": "rgb(36,36,36)",
             "ticklen": 8,
             "ticks": "outside",
             "tickwidth": 2
            },
            "type": "mesh3d"
           }
          ],
          "parcoords": [
           {
            "line": {
             "colorbar": {
              "outlinewidth": 0,
              "tickcolor": "rgb(36,36,36)",
              "ticklen": 8,
              "ticks": "outside",
              "tickwidth": 2
             }
            },
            "type": "parcoords"
           }
          ],
          "pie": [
           {
            "automargin": true,
            "type": "pie"
           }
          ],
          "scatter": [
           {
            "fillpattern": {
             "fillmode": "overlay",
             "size": 10,
             "solidity": 0.2
            },
            "type": "scatter"
           }
          ],
          "scatter3d": [
           {
            "line": {
             "colorbar": {
              "outlinewidth": 0,
              "tickcolor": "rgb(36,36,36)",
              "ticklen": 8,
              "ticks": "outside",
              "tickwidth": 2
             }
            },
            "marker": {
             "colorbar": {
              "outlinewidth": 0,
              "tickcolor": "rgb(36,36,36)",
              "ticklen": 8,
              "ticks": "outside",
              "tickwidth": 2
             }
            },
            "type": "scatter3d"
           }
          ],
          "scattercarpet": [
           {
            "marker": {
             "colorbar": {
              "outlinewidth": 0,
              "tickcolor": "rgb(36,36,36)",
              "ticklen": 8,
              "ticks": "outside",
              "tickwidth": 2
             }
            },
            "type": "scattercarpet"
           }
          ],
          "scattergeo": [
           {
            "marker": {
             "colorbar": {
              "outlinewidth": 0,
              "tickcolor": "rgb(36,36,36)",
              "ticklen": 8,
              "ticks": "outside",
              "tickwidth": 2
             }
            },
            "type": "scattergeo"
           }
          ],
          "scattergl": [
           {
            "marker": {
             "colorbar": {
              "outlinewidth": 0,
              "tickcolor": "rgb(36,36,36)",
              "ticklen": 8,
              "ticks": "outside",
              "tickwidth": 2
             }
            },
            "type": "scattergl"
           }
          ],
          "scattermapbox": [
           {
            "marker": {
             "colorbar": {
              "outlinewidth": 0,
              "tickcolor": "rgb(36,36,36)",
              "ticklen": 8,
              "ticks": "outside",
              "tickwidth": 2
             }
            },
            "type": "scattermapbox"
           }
          ],
          "scatterpolar": [
           {
            "marker": {
             "colorbar": {
              "outlinewidth": 0,
              "tickcolor": "rgb(36,36,36)",
              "ticklen": 8,
              "ticks": "outside",
              "tickwidth": 2
             }
            },
            "type": "scatterpolar"
           }
          ],
          "scatterpolargl": [
           {
            "marker": {
             "colorbar": {
              "outlinewidth": 0,
              "tickcolor": "rgb(36,36,36)",
              "ticklen": 8,
              "ticks": "outside",
              "tickwidth": 2
             }
            },
            "type": "scatterpolargl"
           }
          ],
          "scatterternary": [
           {
            "marker": {
             "colorbar": {
              "outlinewidth": 0,
              "tickcolor": "rgb(36,36,36)",
              "ticklen": 8,
              "ticks": "outside",
              "tickwidth": 2
             }
            },
            "type": "scatterternary"
           }
          ],
          "surface": [
           {
            "colorbar": {
             "outlinewidth": 0,
             "tickcolor": "rgb(36,36,36)",
             "ticklen": 8,
             "ticks": "outside",
             "tickwidth": 2
            },
            "colorscale": [
             [
              0,
              "rgb(2,4,25)"
             ],
             [
              0.06274509803921569,
              "rgb(24,15,41)"
             ],
             [
              0.12549019607843137,
              "rgb(47,23,57)"
             ],
             [
              0.18823529411764706,
              "rgb(71,28,72)"
             ],
             [
              0.25098039215686274,
              "rgb(97,30,82)"
             ],
             [
              0.3137254901960784,
              "rgb(123,30,89)"
             ],
             [
              0.3764705882352941,
              "rgb(150,27,91)"
             ],
             [
              0.4392156862745098,
              "rgb(177,22,88)"
             ],
             [
              0.5019607843137255,
              "rgb(203,26,79)"
             ],
             [
              0.5647058823529412,
              "rgb(223,47,67)"
             ],
             [
              0.6274509803921569,
              "rgb(236,76,61)"
             ],
             [
              0.6901960784313725,
              "rgb(242,107,73)"
             ],
             [
              0.7529411764705882,
              "rgb(244,135,95)"
             ],
             [
              0.8156862745098039,
              "rgb(245,162,122)"
             ],
             [
              0.8784313725490196,
              "rgb(246,188,153)"
             ],
             [
              0.9411764705882353,
              "rgb(247,212,187)"
             ],
             [
              1,
              "rgb(250,234,220)"
             ]
            ],
            "type": "surface"
           }
          ],
          "table": [
           {
            "cells": {
             "fill": {
              "color": "rgb(231,231,240)"
             },
             "line": {
              "color": "white"
             }
            },
            "header": {
             "fill": {
              "color": "rgb(183,183,191)"
             },
             "line": {
              "color": "white"
             }
            },
            "type": "table"
           }
          ]
         },
         "layout": {
          "annotationdefaults": {
           "arrowcolor": "rgb(67,103,167)"
          },
          "autotypenumbers": "strict",
          "coloraxis": {
           "colorbar": {
            "outlinewidth": 0,
            "tickcolor": "rgb(36,36,36)",
            "ticklen": 8,
            "ticks": "outside",
            "tickwidth": 2
           }
          },
          "colorscale": {
           "sequential": [
            [
             0,
             "rgb(2,4,25)"
            ],
            [
             0.06274509803921569,
             "rgb(24,15,41)"
            ],
            [
             0.12549019607843137,
             "rgb(47,23,57)"
            ],
            [
             0.18823529411764706,
             "rgb(71,28,72)"
            ],
            [
             0.25098039215686274,
             "rgb(97,30,82)"
            ],
            [
             0.3137254901960784,
             "rgb(123,30,89)"
            ],
            [
             0.3764705882352941,
             "rgb(150,27,91)"
            ],
            [
             0.4392156862745098,
             "rgb(177,22,88)"
            ],
            [
             0.5019607843137255,
             "rgb(203,26,79)"
            ],
            [
             0.5647058823529412,
             "rgb(223,47,67)"
            ],
            [
             0.6274509803921569,
             "rgb(236,76,61)"
            ],
            [
             0.6901960784313725,
             "rgb(242,107,73)"
            ],
            [
             0.7529411764705882,
             "rgb(244,135,95)"
            ],
            [
             0.8156862745098039,
             "rgb(245,162,122)"
            ],
            [
             0.8784313725490196,
             "rgb(246,188,153)"
            ],
            [
             0.9411764705882353,
             "rgb(247,212,187)"
            ],
            [
             1,
             "rgb(250,234,220)"
            ]
           ],
           "sequentialminus": [
            [
             0,
             "rgb(2,4,25)"
            ],
            [
             0.06274509803921569,
             "rgb(24,15,41)"
            ],
            [
             0.12549019607843137,
             "rgb(47,23,57)"
            ],
            [
             0.18823529411764706,
             "rgb(71,28,72)"
            ],
            [
             0.25098039215686274,
             "rgb(97,30,82)"
            ],
            [
             0.3137254901960784,
             "rgb(123,30,89)"
            ],
            [
             0.3764705882352941,
             "rgb(150,27,91)"
            ],
            [
             0.4392156862745098,
             "rgb(177,22,88)"
            ],
            [
             0.5019607843137255,
             "rgb(203,26,79)"
            ],
            [
             0.5647058823529412,
             "rgb(223,47,67)"
            ],
            [
             0.6274509803921569,
             "rgb(236,76,61)"
            ],
            [
             0.6901960784313725,
             "rgb(242,107,73)"
            ],
            [
             0.7529411764705882,
             "rgb(244,135,95)"
            ],
            [
             0.8156862745098039,
             "rgb(245,162,122)"
            ],
            [
             0.8784313725490196,
             "rgb(246,188,153)"
            ],
            [
             0.9411764705882353,
             "rgb(247,212,187)"
            ],
            [
             1,
             "rgb(250,234,220)"
            ]
           ]
          },
          "colorway": [
           "rgb(76,114,176)",
           "rgb(221,132,82)",
           "rgb(85,168,104)",
           "rgb(196,78,82)",
           "rgb(129,114,179)",
           "rgb(147,120,96)",
           "rgb(218,139,195)",
           "rgb(140,140,140)",
           "rgb(204,185,116)",
           "rgb(100,181,205)"
          ],
          "font": {
           "color": "rgb(36,36,36)"
          },
          "geo": {
           "bgcolor": "white",
           "lakecolor": "white",
           "landcolor": "rgb(234,234,242)",
           "showlakes": true,
           "showland": true,
           "subunitcolor": "white"
          },
          "hoverlabel": {
           "align": "left"
          },
          "hovermode": "closest",
          "paper_bgcolor": "white",
          "plot_bgcolor": "rgb(234,234,242)",
          "polar": {
           "angularaxis": {
            "gridcolor": "white",
            "linecolor": "white",
            "showgrid": true,
            "ticks": ""
           },
           "bgcolor": "rgb(234,234,242)",
           "radialaxis": {
            "gridcolor": "white",
            "linecolor": "white",
            "showgrid": true,
            "ticks": ""
           }
          },
          "scene": {
           "xaxis": {
            "backgroundcolor": "rgb(234,234,242)",
            "gridcolor": "white",
            "gridwidth": 2,
            "linecolor": "white",
            "showbackground": true,
            "showgrid": true,
            "ticks": "",
            "zerolinecolor": "white"
           },
           "yaxis": {
            "backgroundcolor": "rgb(234,234,242)",
            "gridcolor": "white",
            "gridwidth": 2,
            "linecolor": "white",
            "showbackground": true,
            "showgrid": true,
            "ticks": "",
            "zerolinecolor": "white"
           },
           "zaxis": {
            "backgroundcolor": "rgb(234,234,242)",
            "gridcolor": "white",
            "gridwidth": 2,
            "linecolor": "white",
            "showbackground": true,
            "showgrid": true,
            "ticks": "",
            "zerolinecolor": "white"
           }
          },
          "shapedefaults": {
           "fillcolor": "rgb(67,103,167)",
           "line": {
            "width": 0
           },
           "opacity": 0.5
          },
          "ternary": {
           "aaxis": {
            "gridcolor": "white",
            "linecolor": "white",
            "showgrid": true,
            "ticks": ""
           },
           "baxis": {
            "gridcolor": "white",
            "linecolor": "white",
            "showgrid": true,
            "ticks": ""
           },
           "bgcolor": "rgb(234,234,242)",
           "caxis": {
            "gridcolor": "white",
            "linecolor": "white",
            "showgrid": true,
            "ticks": ""
           }
          },
          "xaxis": {
           "automargin": true,
           "gridcolor": "white",
           "linecolor": "white",
           "showgrid": true,
           "ticks": "",
           "title": {
            "standoff": 15
           },
           "zerolinecolor": "white"
          },
          "yaxis": {
           "automargin": true,
           "gridcolor": "white",
           "linecolor": "white",
           "showgrid": true,
           "ticks": "",
           "title": {
            "standoff": 15
           },
           "zerolinecolor": "white"
          }
         }
        },
        "updatemenus": [
         {
          "buttons": [
           {
            "args": [
             null,
             {
              "frame": {
               "duration": 500,
               "redraw": true
              },
              "fromcurrent": true,
              "mode": "immediate",
              "transition": {
               "duration": 500,
               "easing": "linear"
              }
             }
            ],
            "label": "&#9654;",
            "method": "animate"
           },
           {
            "args": [
             [
              null
             ],
             {
              "frame": {
               "duration": 0,
               "redraw": true
              },
              "fromcurrent": true,
              "mode": "immediate",
              "transition": {
               "duration": 0,
               "easing": "linear"
              }
             }
            ],
            "label": "&#9724;",
            "method": "animate"
           }
          ],
          "direction": "left",
          "pad": {
           "r": 10,
           "t": 70
          },
          "showactive": false,
          "type": "buttons",
          "x": 0.1,
          "xanchor": "right",
          "y": 0,
          "yanchor": "top"
         }
        ],
        "xaxis": {
         "anchor": "y",
         "domain": [
          0,
          1
         ],
         "title": {
          "text": "name"
         }
        },
        "yaxis": {
         "anchor": "x",
         "domain": [
          0,
          1
         ],
         "range": [
          0,
          4.814774374143853
         ],
         "title": {
          "text": "percentage"
         }
        }
       }
      },
      "text/html": [
       "<div>                            <div id=\"87925288-33f4-4647-994f-f56c2dfce194\" class=\"plotly-graph-div\" style=\"height:525px; width:100%;\"></div>            <script type=\"text/javascript\">                require([\"plotly\"], function(Plotly) {                    window.PLOTLYENV=window.PLOTLYENV || {};                                    if (document.getElementById(\"87925288-33f4-4647-994f-f56c2dfce194\")) {                    Plotly.newPlot(                        \"87925288-33f4-4647-994f-f56c2dfce194\",                        [{\"alignmentgroup\":\"True\",\"hovertemplate\":\"year=1880\\u003cbr\\u003ename=%{x}\\u003cbr\\u003epercentage=%{y}\\u003cextra\\u003e\\u003c\\u002fextra\\u003e\",\"legendgroup\":\"\",\"marker\":{\"color\":\"rgb(76,114,176)\",\"pattern\":{\"shape\":\"\"}},\"name\":\"\",\"offsetgroup\":\"\",\"orientation\":\"v\",\"showlegend\":false,\"textposition\":\"auto\",\"x\":[\"Linda\",\"Christopher\",\"Matthew\",\"Anthony\",\"Michael\",\"Daniel\",\"Richard\",\"David\",\"Elizabeth\",\"Robert\",\"Thomas\",\"Joseph\",\"George\",\"Charles\",\"James\",\"Mary\",\"William\",\"John\"],\"xaxis\":\"x\",\"y\":[0.0134005677870203,0.0471501459172936,0.0560838577753072,0.0645212523078755,0.1756963332075996,0.3191320402612614,0.3613190129241032,0.4312997558118758,0.9668261499672433,1.204562148855492,1.26163864128169,1.3112703738262097,2.5570268606936533,2.6597645470608087,2.952591769073475,3.519882472057335,4.74578626590697,4.814774374143853],\"yaxis\":\"y\",\"type\":\"bar\"}],                        {\"template\":{\"data\":{\"histogram2dcontour\":[{\"type\":\"histogram2dcontour\",\"colorbar\":{\"outlinewidth\":0,\"tickcolor\":\"rgb(36,36,36)\",\"ticklen\":8,\"ticks\":\"outside\",\"tickwidth\":2},\"colorscale\":[[0.0,\"rgb(2,4,25)\"],[0.06274509803921569,\"rgb(24,15,41)\"],[0.12549019607843137,\"rgb(47,23,57)\"],[0.18823529411764706,\"rgb(71,28,72)\"],[0.25098039215686274,\"rgb(97,30,82)\"],[0.3137254901960784,\"rgb(123,30,89)\"],[0.3764705882352941,\"rgb(150,27,91)\"],[0.4392156862745098,\"rgb(177,22,88)\"],[0.5019607843137255,\"rgb(203,26,79)\"],[0.5647058823529412,\"rgb(223,47,67)\"],[0.6274509803921569,\"rgb(236,76,61)\"],[0.6901960784313725,\"rgb(242,107,73)\"],[0.7529411764705882,\"rgb(244,135,95)\"],[0.8156862745098039,\"rgb(245,162,122)\"],[0.8784313725490196,\"rgb(246,188,153)\"],[0.9411764705882353,\"rgb(247,212,187)\"],[1.0,\"rgb(250,234,220)\"]]}],\"choropleth\":[{\"type\":\"choropleth\",\"colorbar\":{\"outlinewidth\":0,\"tickcolor\":\"rgb(36,36,36)\",\"ticklen\":8,\"ticks\":\"outside\",\"tickwidth\":2}}],\"histogram2d\":[{\"type\":\"histogram2d\",\"colorbar\":{\"outlinewidth\":0,\"tickcolor\":\"rgb(36,36,36)\",\"ticklen\":8,\"ticks\":\"outside\",\"tickwidth\":2},\"colorscale\":[[0.0,\"rgb(2,4,25)\"],[0.06274509803921569,\"rgb(24,15,41)\"],[0.12549019607843137,\"rgb(47,23,57)\"],[0.18823529411764706,\"rgb(71,28,72)\"],[0.25098039215686274,\"rgb(97,30,82)\"],[0.3137254901960784,\"rgb(123,30,89)\"],[0.3764705882352941,\"rgb(150,27,91)\"],[0.4392156862745098,\"rgb(177,22,88)\"],[0.5019607843137255,\"rgb(203,26,79)\"],[0.5647058823529412,\"rgb(223,47,67)\"],[0.6274509803921569,\"rgb(236,76,61)\"],[0.6901960784313725,\"rgb(242,107,73)\"],[0.7529411764705882,\"rgb(244,135,95)\"],[0.8156862745098039,\"rgb(245,162,122)\"],[0.8784313725490196,\"rgb(246,188,153)\"],[0.9411764705882353,\"rgb(247,212,187)\"],[1.0,\"rgb(250,234,220)\"]]}],\"heatmap\":[{\"type\":\"heatmap\",\"colorbar\":{\"outlinewidth\":0,\"tickcolor\":\"rgb(36,36,36)\",\"ticklen\":8,\"ticks\":\"outside\",\"tickwidth\":2},\"colorscale\":[[0.0,\"rgb(2,4,25)\"],[0.06274509803921569,\"rgb(24,15,41)\"],[0.12549019607843137,\"rgb(47,23,57)\"],[0.18823529411764706,\"rgb(71,28,72)\"],[0.25098039215686274,\"rgb(97,30,82)\"],[0.3137254901960784,\"rgb(123,30,89)\"],[0.3764705882352941,\"rgb(150,27,91)\"],[0.4392156862745098,\"rgb(177,22,88)\"],[0.5019607843137255,\"rgb(203,26,79)\"],[0.5647058823529412,\"rgb(223,47,67)\"],[0.6274509803921569,\"rgb(236,76,61)\"],[0.6901960784313725,\"rgb(242,107,73)\"],[0.7529411764705882,\"rgb(244,135,95)\"],[0.8156862745098039,\"rgb(245,162,122)\"],[0.8784313725490196,\"rgb(246,188,153)\"],[0.9411764705882353,\"rgb(247,212,187)\"],[1.0,\"rgb(250,234,220)\"]]}],\"heatmapgl\":[{\"type\":\"heatmapgl\",\"colorbar\":{\"outlinewidth\":0,\"tickcolor\":\"rgb(36,36,36)\",\"ticklen\":8,\"ticks\":\"outside\",\"tickwidth\":2},\"colorscale\":[[0.0,\"rgb(2,4,25)\"],[0.06274509803921569,\"rgb(24,15,41)\"],[0.12549019607843137,\"rgb(47,23,57)\"],[0.18823529411764706,\"rgb(71,28,72)\"],[0.25098039215686274,\"rgb(97,30,82)\"],[0.3137254901960784,\"rgb(123,30,89)\"],[0.3764705882352941,\"rgb(150,27,91)\"],[0.4392156862745098,\"rgb(177,22,88)\"],[0.5019607843137255,\"rgb(203,26,79)\"],[0.5647058823529412,\"rgb(223,47,67)\"],[0.6274509803921569,\"rgb(236,76,61)\"],[0.6901960784313725,\"rgb(242,107,73)\"],[0.7529411764705882,\"rgb(244,135,95)\"],[0.8156862745098039,\"rgb(245,162,122)\"],[0.8784313725490196,\"rgb(246,188,153)\"],[0.9411764705882353,\"rgb(247,212,187)\"],[1.0,\"rgb(250,234,220)\"]]}],\"contourcarpet\":[{\"type\":\"contourcarpet\",\"colorbar\":{\"outlinewidth\":0,\"tickcolor\":\"rgb(36,36,36)\",\"ticklen\":8,\"ticks\":\"outside\",\"tickwidth\":2}}],\"contour\":[{\"type\":\"contour\",\"colorbar\":{\"outlinewidth\":0,\"tickcolor\":\"rgb(36,36,36)\",\"ticklen\":8,\"ticks\":\"outside\",\"tickwidth\":2},\"colorscale\":[[0.0,\"rgb(2,4,25)\"],[0.06274509803921569,\"rgb(24,15,41)\"],[0.12549019607843137,\"rgb(47,23,57)\"],[0.18823529411764706,\"rgb(71,28,72)\"],[0.25098039215686274,\"rgb(97,30,82)\"],[0.3137254901960784,\"rgb(123,30,89)\"],[0.3764705882352941,\"rgb(150,27,91)\"],[0.4392156862745098,\"rgb(177,22,88)\"],[0.5019607843137255,\"rgb(203,26,79)\"],[0.5647058823529412,\"rgb(223,47,67)\"],[0.6274509803921569,\"rgb(236,76,61)\"],[0.6901960784313725,\"rgb(242,107,73)\"],[0.7529411764705882,\"rgb(244,135,95)\"],[0.8156862745098039,\"rgb(245,162,122)\"],[0.8784313725490196,\"rgb(246,188,153)\"],[0.9411764705882353,\"rgb(247,212,187)\"],[1.0,\"rgb(250,234,220)\"]]}],\"surface\":[{\"type\":\"surface\",\"colorbar\":{\"outlinewidth\":0,\"tickcolor\":\"rgb(36,36,36)\",\"ticklen\":8,\"ticks\":\"outside\",\"tickwidth\":2},\"colorscale\":[[0.0,\"rgb(2,4,25)\"],[0.06274509803921569,\"rgb(24,15,41)\"],[0.12549019607843137,\"rgb(47,23,57)\"],[0.18823529411764706,\"rgb(71,28,72)\"],[0.25098039215686274,\"rgb(97,30,82)\"],[0.3137254901960784,\"rgb(123,30,89)\"],[0.3764705882352941,\"rgb(150,27,91)\"],[0.4392156862745098,\"rgb(177,22,88)\"],[0.5019607843137255,\"rgb(203,26,79)\"],[0.5647058823529412,\"rgb(223,47,67)\"],[0.6274509803921569,\"rgb(236,76,61)\"],[0.6901960784313725,\"rgb(242,107,73)\"],[0.7529411764705882,\"rgb(244,135,95)\"],[0.8156862745098039,\"rgb(245,162,122)\"],[0.8784313725490196,\"rgb(246,188,153)\"],[0.9411764705882353,\"rgb(247,212,187)\"],[1.0,\"rgb(250,234,220)\"]]}],\"mesh3d\":[{\"type\":\"mesh3d\",\"colorbar\":{\"outlinewidth\":0,\"tickcolor\":\"rgb(36,36,36)\",\"ticklen\":8,\"ticks\":\"outside\",\"tickwidth\":2}}],\"scatter\":[{\"fillpattern\":{\"fillmode\":\"overlay\",\"size\":10,\"solidity\":0.2},\"type\":\"scatter\"}],\"parcoords\":[{\"type\":\"parcoords\",\"line\":{\"colorbar\":{\"outlinewidth\":0,\"tickcolor\":\"rgb(36,36,36)\",\"ticklen\":8,\"ticks\":\"outside\",\"tickwidth\":2}}}],\"scatterpolargl\":[{\"type\":\"scatterpolargl\",\"marker\":{\"colorbar\":{\"outlinewidth\":0,\"tickcolor\":\"rgb(36,36,36)\",\"ticklen\":8,\"ticks\":\"outside\",\"tickwidth\":2}}}],\"bar\":[{\"error_x\":{\"color\":\"rgb(36,36,36)\"},\"error_y\":{\"color\":\"rgb(36,36,36)\"},\"marker\":{\"line\":{\"color\":\"rgb(234,234,242)\",\"width\":0.5},\"pattern\":{\"fillmode\":\"overlay\",\"size\":10,\"solidity\":0.2}},\"type\":\"bar\"}],\"scattergeo\":[{\"type\":\"scattergeo\",\"marker\":{\"colorbar\":{\"outlinewidth\":0,\"tickcolor\":\"rgb(36,36,36)\",\"ticklen\":8,\"ticks\":\"outside\",\"tickwidth\":2}}}],\"scatterpolar\":[{\"type\":\"scatterpolar\",\"marker\":{\"colorbar\":{\"outlinewidth\":0,\"tickcolor\":\"rgb(36,36,36)\",\"ticklen\":8,\"ticks\":\"outside\",\"tickwidth\":2}}}],\"histogram\":[{\"marker\":{\"pattern\":{\"fillmode\":\"overlay\",\"size\":10,\"solidity\":0.2}},\"type\":\"histogram\"}],\"scattergl\":[{\"type\":\"scattergl\",\"marker\":{\"colorbar\":{\"outlinewidth\":0,\"tickcolor\":\"rgb(36,36,36)\",\"ticklen\":8,\"ticks\":\"outside\",\"tickwidth\":2}}}],\"scatter3d\":[{\"type\":\"scatter3d\",\"line\":{\"colorbar\":{\"outlinewidth\":0,\"tickcolor\":\"rgb(36,36,36)\",\"ticklen\":8,\"ticks\":\"outside\",\"tickwidth\":2}},\"marker\":{\"colorbar\":{\"outlinewidth\":0,\"tickcolor\":\"rgb(36,36,36)\",\"ticklen\":8,\"ticks\":\"outside\",\"tickwidth\":2}}}],\"scattermapbox\":[{\"type\":\"scattermapbox\",\"marker\":{\"colorbar\":{\"outlinewidth\":0,\"tickcolor\":\"rgb(36,36,36)\",\"ticklen\":8,\"ticks\":\"outside\",\"tickwidth\":2}}}],\"scatterternary\":[{\"type\":\"scatterternary\",\"marker\":{\"colorbar\":{\"outlinewidth\":0,\"tickcolor\":\"rgb(36,36,36)\",\"ticklen\":8,\"ticks\":\"outside\",\"tickwidth\":2}}}],\"scattercarpet\":[{\"type\":\"scattercarpet\",\"marker\":{\"colorbar\":{\"outlinewidth\":0,\"tickcolor\":\"rgb(36,36,36)\",\"ticklen\":8,\"ticks\":\"outside\",\"tickwidth\":2}}}],\"carpet\":[{\"aaxis\":{\"endlinecolor\":\"rgb(36,36,36)\",\"gridcolor\":\"white\",\"linecolor\":\"white\",\"minorgridcolor\":\"white\",\"startlinecolor\":\"rgb(36,36,36)\"},\"baxis\":{\"endlinecolor\":\"rgb(36,36,36)\",\"gridcolor\":\"white\",\"linecolor\":\"white\",\"minorgridcolor\":\"white\",\"startlinecolor\":\"rgb(36,36,36)\"},\"type\":\"carpet\"}],\"table\":[{\"cells\":{\"fill\":{\"color\":\"rgb(231,231,240)\"},\"line\":{\"color\":\"white\"}},\"header\":{\"fill\":{\"color\":\"rgb(183,183,191)\"},\"line\":{\"color\":\"white\"}},\"type\":\"table\"}],\"barpolar\":[{\"marker\":{\"line\":{\"color\":\"rgb(234,234,242)\",\"width\":0.5},\"pattern\":{\"fillmode\":\"overlay\",\"size\":10,\"solidity\":0.2}},\"type\":\"barpolar\"}],\"pie\":[{\"automargin\":true,\"type\":\"pie\"}]},\"layout\":{\"autotypenumbers\":\"strict\",\"colorway\":[\"rgb(76,114,176)\",\"rgb(221,132,82)\",\"rgb(85,168,104)\",\"rgb(196,78,82)\",\"rgb(129,114,179)\",\"rgb(147,120,96)\",\"rgb(218,139,195)\",\"rgb(140,140,140)\",\"rgb(204,185,116)\",\"rgb(100,181,205)\"],\"font\":{\"color\":\"rgb(36,36,36)\"},\"hovermode\":\"closest\",\"hoverlabel\":{\"align\":\"left\"},\"paper_bgcolor\":\"white\",\"plot_bgcolor\":\"rgb(234,234,242)\",\"polar\":{\"bgcolor\":\"rgb(234,234,242)\",\"angularaxis\":{\"gridcolor\":\"white\",\"linecolor\":\"white\",\"showgrid\":true,\"ticks\":\"\"},\"radialaxis\":{\"gridcolor\":\"white\",\"linecolor\":\"white\",\"showgrid\":true,\"ticks\":\"\"}},\"ternary\":{\"bgcolor\":\"rgb(234,234,242)\",\"aaxis\":{\"gridcolor\":\"white\",\"linecolor\":\"white\",\"showgrid\":true,\"ticks\":\"\"},\"baxis\":{\"gridcolor\":\"white\",\"linecolor\":\"white\",\"showgrid\":true,\"ticks\":\"\"},\"caxis\":{\"gridcolor\":\"white\",\"linecolor\":\"white\",\"showgrid\":true,\"ticks\":\"\"}},\"coloraxis\":{\"colorbar\":{\"outlinewidth\":0,\"tickcolor\":\"rgb(36,36,36)\",\"ticklen\":8,\"ticks\":\"outside\",\"tickwidth\":2}},\"colorscale\":{\"sequential\":[[0.0,\"rgb(2,4,25)\"],[0.06274509803921569,\"rgb(24,15,41)\"],[0.12549019607843137,\"rgb(47,23,57)\"],[0.18823529411764706,\"rgb(71,28,72)\"],[0.25098039215686274,\"rgb(97,30,82)\"],[0.3137254901960784,\"rgb(123,30,89)\"],[0.3764705882352941,\"rgb(150,27,91)\"],[0.4392156862745098,\"rgb(177,22,88)\"],[0.5019607843137255,\"rgb(203,26,79)\"],[0.5647058823529412,\"rgb(223,47,67)\"],[0.6274509803921569,\"rgb(236,76,61)\"],[0.6901960784313725,\"rgb(242,107,73)\"],[0.7529411764705882,\"rgb(244,135,95)\"],[0.8156862745098039,\"rgb(245,162,122)\"],[0.8784313725490196,\"rgb(246,188,153)\"],[0.9411764705882353,\"rgb(247,212,187)\"],[1.0,\"rgb(250,234,220)\"]],\"sequentialminus\":[[0.0,\"rgb(2,4,25)\"],[0.06274509803921569,\"rgb(24,15,41)\"],[0.12549019607843137,\"rgb(47,23,57)\"],[0.18823529411764706,\"rgb(71,28,72)\"],[0.25098039215686274,\"rgb(97,30,82)\"],[0.3137254901960784,\"rgb(123,30,89)\"],[0.3764705882352941,\"rgb(150,27,91)\"],[0.4392156862745098,\"rgb(177,22,88)\"],[0.5019607843137255,\"rgb(203,26,79)\"],[0.5647058823529412,\"rgb(223,47,67)\"],[0.6274509803921569,\"rgb(236,76,61)\"],[0.6901960784313725,\"rgb(242,107,73)\"],[0.7529411764705882,\"rgb(244,135,95)\"],[0.8156862745098039,\"rgb(245,162,122)\"],[0.8784313725490196,\"rgb(246,188,153)\"],[0.9411764705882353,\"rgb(247,212,187)\"],[1.0,\"rgb(250,234,220)\"]]},\"xaxis\":{\"gridcolor\":\"white\",\"linecolor\":\"white\",\"showgrid\":true,\"ticks\":\"\",\"title\":{\"standoff\":15},\"zerolinecolor\":\"white\",\"automargin\":true},\"yaxis\":{\"gridcolor\":\"white\",\"linecolor\":\"white\",\"showgrid\":true,\"ticks\":\"\",\"title\":{\"standoff\":15},\"zerolinecolor\":\"white\",\"automargin\":true},\"scene\":{\"xaxis\":{\"backgroundcolor\":\"rgb(234,234,242)\",\"gridcolor\":\"white\",\"linecolor\":\"white\",\"showbackground\":true,\"showgrid\":true,\"ticks\":\"\",\"zerolinecolor\":\"white\",\"gridwidth\":2},\"yaxis\":{\"backgroundcolor\":\"rgb(234,234,242)\",\"gridcolor\":\"white\",\"linecolor\":\"white\",\"showbackground\":true,\"showgrid\":true,\"ticks\":\"\",\"zerolinecolor\":\"white\",\"gridwidth\":2},\"zaxis\":{\"backgroundcolor\":\"rgb(234,234,242)\",\"gridcolor\":\"white\",\"linecolor\":\"white\",\"showbackground\":true,\"showgrid\":true,\"ticks\":\"\",\"zerolinecolor\":\"white\",\"gridwidth\":2}},\"shapedefaults\":{\"fillcolor\":\"rgb(67,103,167)\",\"line\":{\"width\":0},\"opacity\":0.5},\"annotationdefaults\":{\"arrowcolor\":\"rgb(67,103,167)\"},\"geo\":{\"bgcolor\":\"white\",\"landcolor\":\"rgb(234,234,242)\",\"subunitcolor\":\"white\",\"showland\":true,\"showlakes\":true,\"lakecolor\":\"white\"}}},\"xaxis\":{\"anchor\":\"y\",\"domain\":[0.0,1.0],\"title\":{\"text\":\"name\"}},\"yaxis\":{\"anchor\":\"x\",\"domain\":[0.0,1.0],\"title\":{\"text\":\"percentage\"},\"range\":[0,4.814774374143853]},\"legend\":{\"tracegroupgap\":0},\"margin\":{\"t\":60},\"barmode\":\"relative\",\"updatemenus\":[{\"buttons\":[{\"args\":[null,{\"frame\":{\"duration\":500,\"redraw\":true},\"mode\":\"immediate\",\"fromcurrent\":true,\"transition\":{\"duration\":500,\"easing\":\"linear\"}}],\"label\":\"&#9654;\",\"method\":\"animate\"},{\"args\":[[null],{\"frame\":{\"duration\":0,\"redraw\":true},\"mode\":\"immediate\",\"fromcurrent\":true,\"transition\":{\"duration\":0,\"easing\":\"linear\"}}],\"label\":\"&#9724;\",\"method\":\"animate\"}],\"direction\":\"left\",\"pad\":{\"r\":10,\"t\":70},\"showactive\":false,\"type\":\"buttons\",\"x\":0.1,\"xanchor\":\"right\",\"y\":0,\"yanchor\":\"top\"}],\"sliders\":[{\"active\":0,\"currentvalue\":{\"prefix\":\"year=\"},\"len\":0.9,\"pad\":{\"b\":10,\"t\":60},\"steps\":[{\"args\":[[\"1880\"],{\"frame\":{\"duration\":0,\"redraw\":true},\"mode\":\"immediate\",\"fromcurrent\":true,\"transition\":{\"duration\":0,\"easing\":\"linear\"}}],\"label\":\"1880\",\"method\":\"animate\"},{\"args\":[[\"1881\"],{\"frame\":{\"duration\":0,\"redraw\":true},\"mode\":\"immediate\",\"fromcurrent\":true,\"transition\":{\"duration\":0,\"easing\":\"linear\"}}],\"label\":\"1881\",\"method\":\"animate\"},{\"args\":[[\"1882\"],{\"frame\":{\"duration\":0,\"redraw\":true},\"mode\":\"immediate\",\"fromcurrent\":true,\"transition\":{\"duration\":0,\"easing\":\"linear\"}}],\"label\":\"1882\",\"method\":\"animate\"},{\"args\":[[\"1883\"],{\"frame\":{\"duration\":0,\"redraw\":true},\"mode\":\"immediate\",\"fromcurrent\":true,\"transition\":{\"duration\":0,\"easing\":\"linear\"}}],\"label\":\"1883\",\"method\":\"animate\"},{\"args\":[[\"1884\"],{\"frame\":{\"duration\":0,\"redraw\":true},\"mode\":\"immediate\",\"fromcurrent\":true,\"transition\":{\"duration\":0,\"easing\":\"linear\"}}],\"label\":\"1884\",\"method\":\"animate\"},{\"args\":[[\"1885\"],{\"frame\":{\"duration\":0,\"redraw\":true},\"mode\":\"immediate\",\"fromcurrent\":true,\"transition\":{\"duration\":0,\"easing\":\"linear\"}}],\"label\":\"1885\",\"method\":\"animate\"},{\"args\":[[\"1886\"],{\"frame\":{\"duration\":0,\"redraw\":true},\"mode\":\"immediate\",\"fromcurrent\":true,\"transition\":{\"duration\":0,\"easing\":\"linear\"}}],\"label\":\"1886\",\"method\":\"animate\"},{\"args\":[[\"1887\"],{\"frame\":{\"duration\":0,\"redraw\":true},\"mode\":\"immediate\",\"fromcurrent\":true,\"transition\":{\"duration\":0,\"easing\":\"linear\"}}],\"label\":\"1887\",\"method\":\"animate\"},{\"args\":[[\"1888\"],{\"frame\":{\"duration\":0,\"redraw\":true},\"mode\":\"immediate\",\"fromcurrent\":true,\"transition\":{\"duration\":0,\"easing\":\"linear\"}}],\"label\":\"1888\",\"method\":\"animate\"},{\"args\":[[\"1889\"],{\"frame\":{\"duration\":0,\"redraw\":true},\"mode\":\"immediate\",\"fromcurrent\":true,\"transition\":{\"duration\":0,\"easing\":\"linear\"}}],\"label\":\"1889\",\"method\":\"animate\"},{\"args\":[[\"1890\"],{\"frame\":{\"duration\":0,\"redraw\":true},\"mode\":\"immediate\",\"fromcurrent\":true,\"transition\":{\"duration\":0,\"easing\":\"linear\"}}],\"label\":\"1890\",\"method\":\"animate\"},{\"args\":[[\"1891\"],{\"frame\":{\"duration\":0,\"redraw\":true},\"mode\":\"immediate\",\"fromcurrent\":true,\"transition\":{\"duration\":0,\"easing\":\"linear\"}}],\"label\":\"1891\",\"method\":\"animate\"},{\"args\":[[\"1892\"],{\"frame\":{\"duration\":0,\"redraw\":true},\"mode\":\"immediate\",\"fromcurrent\":true,\"transition\":{\"duration\":0,\"easing\":\"linear\"}}],\"label\":\"1892\",\"method\":\"animate\"},{\"args\":[[\"1893\"],{\"frame\":{\"duration\":0,\"redraw\":true},\"mode\":\"immediate\",\"fromcurrent\":true,\"transition\":{\"duration\":0,\"easing\":\"linear\"}}],\"label\":\"1893\",\"method\":\"animate\"},{\"args\":[[\"1894\"],{\"frame\":{\"duration\":0,\"redraw\":true},\"mode\":\"immediate\",\"fromcurrent\":true,\"transition\":{\"duration\":0,\"easing\":\"linear\"}}],\"label\":\"1894\",\"method\":\"animate\"},{\"args\":[[\"1895\"],{\"frame\":{\"duration\":0,\"redraw\":true},\"mode\":\"immediate\",\"fromcurrent\":true,\"transition\":{\"duration\":0,\"easing\":\"linear\"}}],\"label\":\"1895\",\"method\":\"animate\"},{\"args\":[[\"1896\"],{\"frame\":{\"duration\":0,\"redraw\":true},\"mode\":\"immediate\",\"fromcurrent\":true,\"transition\":{\"duration\":0,\"easing\":\"linear\"}}],\"label\":\"1896\",\"method\":\"animate\"},{\"args\":[[\"1897\"],{\"frame\":{\"duration\":0,\"redraw\":true},\"mode\":\"immediate\",\"fromcurrent\":true,\"transition\":{\"duration\":0,\"easing\":\"linear\"}}],\"label\":\"1897\",\"method\":\"animate\"},{\"args\":[[\"1898\"],{\"frame\":{\"duration\":0,\"redraw\":true},\"mode\":\"immediate\",\"fromcurrent\":true,\"transition\":{\"duration\":0,\"easing\":\"linear\"}}],\"label\":\"1898\",\"method\":\"animate\"},{\"args\":[[\"1899\"],{\"frame\":{\"duration\":0,\"redraw\":true},\"mode\":\"immediate\",\"fromcurrent\":true,\"transition\":{\"duration\":0,\"easing\":\"linear\"}}],\"label\":\"1899\",\"method\":\"animate\"},{\"args\":[[\"1900\"],{\"frame\":{\"duration\":0,\"redraw\":true},\"mode\":\"immediate\",\"fromcurrent\":true,\"transition\":{\"duration\":0,\"easing\":\"linear\"}}],\"label\":\"1900\",\"method\":\"animate\"},{\"args\":[[\"1901\"],{\"frame\":{\"duration\":0,\"redraw\":true},\"mode\":\"immediate\",\"fromcurrent\":true,\"transition\":{\"duration\":0,\"easing\":\"linear\"}}],\"label\":\"1901\",\"method\":\"animate\"},{\"args\":[[\"1902\"],{\"frame\":{\"duration\":0,\"redraw\":true},\"mode\":\"immediate\",\"fromcurrent\":true,\"transition\":{\"duration\":0,\"easing\":\"linear\"}}],\"label\":\"1902\",\"method\":\"animate\"},{\"args\":[[\"1903\"],{\"frame\":{\"duration\":0,\"redraw\":true},\"mode\":\"immediate\",\"fromcurrent\":true,\"transition\":{\"duration\":0,\"easing\":\"linear\"}}],\"label\":\"1903\",\"method\":\"animate\"},{\"args\":[[\"1904\"],{\"frame\":{\"duration\":0,\"redraw\":true},\"mode\":\"immediate\",\"fromcurrent\":true,\"transition\":{\"duration\":0,\"easing\":\"linear\"}}],\"label\":\"1904\",\"method\":\"animate\"},{\"args\":[[\"1905\"],{\"frame\":{\"duration\":0,\"redraw\":true},\"mode\":\"immediate\",\"fromcurrent\":true,\"transition\":{\"duration\":0,\"easing\":\"linear\"}}],\"label\":\"1905\",\"method\":\"animate\"},{\"args\":[[\"1906\"],{\"frame\":{\"duration\":0,\"redraw\":true},\"mode\":\"immediate\",\"fromcurrent\":true,\"transition\":{\"duration\":0,\"easing\":\"linear\"}}],\"label\":\"1906\",\"method\":\"animate\"},{\"args\":[[\"1907\"],{\"frame\":{\"duration\":0,\"redraw\":true},\"mode\":\"immediate\",\"fromcurrent\":true,\"transition\":{\"duration\":0,\"easing\":\"linear\"}}],\"label\":\"1907\",\"method\":\"animate\"},{\"args\":[[\"1908\"],{\"frame\":{\"duration\":0,\"redraw\":true},\"mode\":\"immediate\",\"fromcurrent\":true,\"transition\":{\"duration\":0,\"easing\":\"linear\"}}],\"label\":\"1908\",\"method\":\"animate\"},{\"args\":[[\"1909\"],{\"frame\":{\"duration\":0,\"redraw\":true},\"mode\":\"immediate\",\"fromcurrent\":true,\"transition\":{\"duration\":0,\"easing\":\"linear\"}}],\"label\":\"1909\",\"method\":\"animate\"},{\"args\":[[\"1910\"],{\"frame\":{\"duration\":0,\"redraw\":true},\"mode\":\"immediate\",\"fromcurrent\":true,\"transition\":{\"duration\":0,\"easing\":\"linear\"}}],\"label\":\"1910\",\"method\":\"animate\"},{\"args\":[[\"1911\"],{\"frame\":{\"duration\":0,\"redraw\":true},\"mode\":\"immediate\",\"fromcurrent\":true,\"transition\":{\"duration\":0,\"easing\":\"linear\"}}],\"label\":\"1911\",\"method\":\"animate\"},{\"args\":[[\"1912\"],{\"frame\":{\"duration\":0,\"redraw\":true},\"mode\":\"immediate\",\"fromcurrent\":true,\"transition\":{\"duration\":0,\"easing\":\"linear\"}}],\"label\":\"1912\",\"method\":\"animate\"},{\"args\":[[\"1913\"],{\"frame\":{\"duration\":0,\"redraw\":true},\"mode\":\"immediate\",\"fromcurrent\":true,\"transition\":{\"duration\":0,\"easing\":\"linear\"}}],\"label\":\"1913\",\"method\":\"animate\"},{\"args\":[[\"1914\"],{\"frame\":{\"duration\":0,\"redraw\":true},\"mode\":\"immediate\",\"fromcurrent\":true,\"transition\":{\"duration\":0,\"easing\":\"linear\"}}],\"label\":\"1914\",\"method\":\"animate\"},{\"args\":[[\"1915\"],{\"frame\":{\"duration\":0,\"redraw\":true},\"mode\":\"immediate\",\"fromcurrent\":true,\"transition\":{\"duration\":0,\"easing\":\"linear\"}}],\"label\":\"1915\",\"method\":\"animate\"},{\"args\":[[\"1916\"],{\"frame\":{\"duration\":0,\"redraw\":true},\"mode\":\"immediate\",\"fromcurrent\":true,\"transition\":{\"duration\":0,\"easing\":\"linear\"}}],\"label\":\"1916\",\"method\":\"animate\"},{\"args\":[[\"1917\"],{\"frame\":{\"duration\":0,\"redraw\":true},\"mode\":\"immediate\",\"fromcurrent\":true,\"transition\":{\"duration\":0,\"easing\":\"linear\"}}],\"label\":\"1917\",\"method\":\"animate\"},{\"args\":[[\"1918\"],{\"frame\":{\"duration\":0,\"redraw\":true},\"mode\":\"immediate\",\"fromcurrent\":true,\"transition\":{\"duration\":0,\"easing\":\"linear\"}}],\"label\":\"1918\",\"method\":\"animate\"},{\"args\":[[\"1919\"],{\"frame\":{\"duration\":0,\"redraw\":true},\"mode\":\"immediate\",\"fromcurrent\":true,\"transition\":{\"duration\":0,\"easing\":\"linear\"}}],\"label\":\"1919\",\"method\":\"animate\"},{\"args\":[[\"1920\"],{\"frame\":{\"duration\":0,\"redraw\":true},\"mode\":\"immediate\",\"fromcurrent\":true,\"transition\":{\"duration\":0,\"easing\":\"linear\"}}],\"label\":\"1920\",\"method\":\"animate\"},{\"args\":[[\"1921\"],{\"frame\":{\"duration\":0,\"redraw\":true},\"mode\":\"immediate\",\"fromcurrent\":true,\"transition\":{\"duration\":0,\"easing\":\"linear\"}}],\"label\":\"1921\",\"method\":\"animate\"},{\"args\":[[\"1922\"],{\"frame\":{\"duration\":0,\"redraw\":true},\"mode\":\"immediate\",\"fromcurrent\":true,\"transition\":{\"duration\":0,\"easing\":\"linear\"}}],\"label\":\"1922\",\"method\":\"animate\"},{\"args\":[[\"1923\"],{\"frame\":{\"duration\":0,\"redraw\":true},\"mode\":\"immediate\",\"fromcurrent\":true,\"transition\":{\"duration\":0,\"easing\":\"linear\"}}],\"label\":\"1923\",\"method\":\"animate\"},{\"args\":[[\"1924\"],{\"frame\":{\"duration\":0,\"redraw\":true},\"mode\":\"immediate\",\"fromcurrent\":true,\"transition\":{\"duration\":0,\"easing\":\"linear\"}}],\"label\":\"1924\",\"method\":\"animate\"},{\"args\":[[\"1925\"],{\"frame\":{\"duration\":0,\"redraw\":true},\"mode\":\"immediate\",\"fromcurrent\":true,\"transition\":{\"duration\":0,\"easing\":\"linear\"}}],\"label\":\"1925\",\"method\":\"animate\"},{\"args\":[[\"1926\"],{\"frame\":{\"duration\":0,\"redraw\":true},\"mode\":\"immediate\",\"fromcurrent\":true,\"transition\":{\"duration\":0,\"easing\":\"linear\"}}],\"label\":\"1926\",\"method\":\"animate\"},{\"args\":[[\"1927\"],{\"frame\":{\"duration\":0,\"redraw\":true},\"mode\":\"immediate\",\"fromcurrent\":true,\"transition\":{\"duration\":0,\"easing\":\"linear\"}}],\"label\":\"1927\",\"method\":\"animate\"},{\"args\":[[\"1928\"],{\"frame\":{\"duration\":0,\"redraw\":true},\"mode\":\"immediate\",\"fromcurrent\":true,\"transition\":{\"duration\":0,\"easing\":\"linear\"}}],\"label\":\"1928\",\"method\":\"animate\"},{\"args\":[[\"1929\"],{\"frame\":{\"duration\":0,\"redraw\":true},\"mode\":\"immediate\",\"fromcurrent\":true,\"transition\":{\"duration\":0,\"easing\":\"linear\"}}],\"label\":\"1929\",\"method\":\"animate\"},{\"args\":[[\"1930\"],{\"frame\":{\"duration\":0,\"redraw\":true},\"mode\":\"immediate\",\"fromcurrent\":true,\"transition\":{\"duration\":0,\"easing\":\"linear\"}}],\"label\":\"1930\",\"method\":\"animate\"},{\"args\":[[\"1931\"],{\"frame\":{\"duration\":0,\"redraw\":true},\"mode\":\"immediate\",\"fromcurrent\":true,\"transition\":{\"duration\":0,\"easing\":\"linear\"}}],\"label\":\"1931\",\"method\":\"animate\"},{\"args\":[[\"1932\"],{\"frame\":{\"duration\":0,\"redraw\":true},\"mode\":\"immediate\",\"fromcurrent\":true,\"transition\":{\"duration\":0,\"easing\":\"linear\"}}],\"label\":\"1932\",\"method\":\"animate\"},{\"args\":[[\"1933\"],{\"frame\":{\"duration\":0,\"redraw\":true},\"mode\":\"immediate\",\"fromcurrent\":true,\"transition\":{\"duration\":0,\"easing\":\"linear\"}}],\"label\":\"1933\",\"method\":\"animate\"},{\"args\":[[\"1934\"],{\"frame\":{\"duration\":0,\"redraw\":true},\"mode\":\"immediate\",\"fromcurrent\":true,\"transition\":{\"duration\":0,\"easing\":\"linear\"}}],\"label\":\"1934\",\"method\":\"animate\"},{\"args\":[[\"1935\"],{\"frame\":{\"duration\":0,\"redraw\":true},\"mode\":\"immediate\",\"fromcurrent\":true,\"transition\":{\"duration\":0,\"easing\":\"linear\"}}],\"label\":\"1935\",\"method\":\"animate\"},{\"args\":[[\"1936\"],{\"frame\":{\"duration\":0,\"redraw\":true},\"mode\":\"immediate\",\"fromcurrent\":true,\"transition\":{\"duration\":0,\"easing\":\"linear\"}}],\"label\":\"1936\",\"method\":\"animate\"},{\"args\":[[\"1937\"],{\"frame\":{\"duration\":0,\"redraw\":true},\"mode\":\"immediate\",\"fromcurrent\":true,\"transition\":{\"duration\":0,\"easing\":\"linear\"}}],\"label\":\"1937\",\"method\":\"animate\"},{\"args\":[[\"1938\"],{\"frame\":{\"duration\":0,\"redraw\":true},\"mode\":\"immediate\",\"fromcurrent\":true,\"transition\":{\"duration\":0,\"easing\":\"linear\"}}],\"label\":\"1938\",\"method\":\"animate\"},{\"args\":[[\"1939\"],{\"frame\":{\"duration\":0,\"redraw\":true},\"mode\":\"immediate\",\"fromcurrent\":true,\"transition\":{\"duration\":0,\"easing\":\"linear\"}}],\"label\":\"1939\",\"method\":\"animate\"},{\"args\":[[\"1940\"],{\"frame\":{\"duration\":0,\"redraw\":true},\"mode\":\"immediate\",\"fromcurrent\":true,\"transition\":{\"duration\":0,\"easing\":\"linear\"}}],\"label\":\"1940\",\"method\":\"animate\"},{\"args\":[[\"1941\"],{\"frame\":{\"duration\":0,\"redraw\":true},\"mode\":\"immediate\",\"fromcurrent\":true,\"transition\":{\"duration\":0,\"easing\":\"linear\"}}],\"label\":\"1941\",\"method\":\"animate\"},{\"args\":[[\"1942\"],{\"frame\":{\"duration\":0,\"redraw\":true},\"mode\":\"immediate\",\"fromcurrent\":true,\"transition\":{\"duration\":0,\"easing\":\"linear\"}}],\"label\":\"1942\",\"method\":\"animate\"},{\"args\":[[\"1943\"],{\"frame\":{\"duration\":0,\"redraw\":true},\"mode\":\"immediate\",\"fromcurrent\":true,\"transition\":{\"duration\":0,\"easing\":\"linear\"}}],\"label\":\"1943\",\"method\":\"animate\"},{\"args\":[[\"1944\"],{\"frame\":{\"duration\":0,\"redraw\":true},\"mode\":\"immediate\",\"fromcurrent\":true,\"transition\":{\"duration\":0,\"easing\":\"linear\"}}],\"label\":\"1944\",\"method\":\"animate\"},{\"args\":[[\"1945\"],{\"frame\":{\"duration\":0,\"redraw\":true},\"mode\":\"immediate\",\"fromcurrent\":true,\"transition\":{\"duration\":0,\"easing\":\"linear\"}}],\"label\":\"1945\",\"method\":\"animate\"},{\"args\":[[\"1946\"],{\"frame\":{\"duration\":0,\"redraw\":true},\"mode\":\"immediate\",\"fromcurrent\":true,\"transition\":{\"duration\":0,\"easing\":\"linear\"}}],\"label\":\"1946\",\"method\":\"animate\"},{\"args\":[[\"1947\"],{\"frame\":{\"duration\":0,\"redraw\":true},\"mode\":\"immediate\",\"fromcurrent\":true,\"transition\":{\"duration\":0,\"easing\":\"linear\"}}],\"label\":\"1947\",\"method\":\"animate\"},{\"args\":[[\"1948\"],{\"frame\":{\"duration\":0,\"redraw\":true},\"mode\":\"immediate\",\"fromcurrent\":true,\"transition\":{\"duration\":0,\"easing\":\"linear\"}}],\"label\":\"1948\",\"method\":\"animate\"},{\"args\":[[\"1949\"],{\"frame\":{\"duration\":0,\"redraw\":true},\"mode\":\"immediate\",\"fromcurrent\":true,\"transition\":{\"duration\":0,\"easing\":\"linear\"}}],\"label\":\"1949\",\"method\":\"animate\"},{\"args\":[[\"1950\"],{\"frame\":{\"duration\":0,\"redraw\":true},\"mode\":\"immediate\",\"fromcurrent\":true,\"transition\":{\"duration\":0,\"easing\":\"linear\"}}],\"label\":\"1950\",\"method\":\"animate\"},{\"args\":[[\"1951\"],{\"frame\":{\"duration\":0,\"redraw\":true},\"mode\":\"immediate\",\"fromcurrent\":true,\"transition\":{\"duration\":0,\"easing\":\"linear\"}}],\"label\":\"1951\",\"method\":\"animate\"},{\"args\":[[\"1952\"],{\"frame\":{\"duration\":0,\"redraw\":true},\"mode\":\"immediate\",\"fromcurrent\":true,\"transition\":{\"duration\":0,\"easing\":\"linear\"}}],\"label\":\"1952\",\"method\":\"animate\"},{\"args\":[[\"1953\"],{\"frame\":{\"duration\":0,\"redraw\":true},\"mode\":\"immediate\",\"fromcurrent\":true,\"transition\":{\"duration\":0,\"easing\":\"linear\"}}],\"label\":\"1953\",\"method\":\"animate\"},{\"args\":[[\"1954\"],{\"frame\":{\"duration\":0,\"redraw\":true},\"mode\":\"immediate\",\"fromcurrent\":true,\"transition\":{\"duration\":0,\"easing\":\"linear\"}}],\"label\":\"1954\",\"method\":\"animate\"},{\"args\":[[\"1955\"],{\"frame\":{\"duration\":0,\"redraw\":true},\"mode\":\"immediate\",\"fromcurrent\":true,\"transition\":{\"duration\":0,\"easing\":\"linear\"}}],\"label\":\"1955\",\"method\":\"animate\"},{\"args\":[[\"1956\"],{\"frame\":{\"duration\":0,\"redraw\":true},\"mode\":\"immediate\",\"fromcurrent\":true,\"transition\":{\"duration\":0,\"easing\":\"linear\"}}],\"label\":\"1956\",\"method\":\"animate\"},{\"args\":[[\"1957\"],{\"frame\":{\"duration\":0,\"redraw\":true},\"mode\":\"immediate\",\"fromcurrent\":true,\"transition\":{\"duration\":0,\"easing\":\"linear\"}}],\"label\":\"1957\",\"method\":\"animate\"},{\"args\":[[\"1958\"],{\"frame\":{\"duration\":0,\"redraw\":true},\"mode\":\"immediate\",\"fromcurrent\":true,\"transition\":{\"duration\":0,\"easing\":\"linear\"}}],\"label\":\"1958\",\"method\":\"animate\"},{\"args\":[[\"1959\"],{\"frame\":{\"duration\":0,\"redraw\":true},\"mode\":\"immediate\",\"fromcurrent\":true,\"transition\":{\"duration\":0,\"easing\":\"linear\"}}],\"label\":\"1959\",\"method\":\"animate\"},{\"args\":[[\"1960\"],{\"frame\":{\"duration\":0,\"redraw\":true},\"mode\":\"immediate\",\"fromcurrent\":true,\"transition\":{\"duration\":0,\"easing\":\"linear\"}}],\"label\":\"1960\",\"method\":\"animate\"},{\"args\":[[\"1961\"],{\"frame\":{\"duration\":0,\"redraw\":true},\"mode\":\"immediate\",\"fromcurrent\":true,\"transition\":{\"duration\":0,\"easing\":\"linear\"}}],\"label\":\"1961\",\"method\":\"animate\"},{\"args\":[[\"1962\"],{\"frame\":{\"duration\":0,\"redraw\":true},\"mode\":\"immediate\",\"fromcurrent\":true,\"transition\":{\"duration\":0,\"easing\":\"linear\"}}],\"label\":\"1962\",\"method\":\"animate\"},{\"args\":[[\"1963\"],{\"frame\":{\"duration\":0,\"redraw\":true},\"mode\":\"immediate\",\"fromcurrent\":true,\"transition\":{\"duration\":0,\"easing\":\"linear\"}}],\"label\":\"1963\",\"method\":\"animate\"},{\"args\":[[\"1964\"],{\"frame\":{\"duration\":0,\"redraw\":true},\"mode\":\"immediate\",\"fromcurrent\":true,\"transition\":{\"duration\":0,\"easing\":\"linear\"}}],\"label\":\"1964\",\"method\":\"animate\"},{\"args\":[[\"1965\"],{\"frame\":{\"duration\":0,\"redraw\":true},\"mode\":\"immediate\",\"fromcurrent\":true,\"transition\":{\"duration\":0,\"easing\":\"linear\"}}],\"label\":\"1965\",\"method\":\"animate\"},{\"args\":[[\"1966\"],{\"frame\":{\"duration\":0,\"redraw\":true},\"mode\":\"immediate\",\"fromcurrent\":true,\"transition\":{\"duration\":0,\"easing\":\"linear\"}}],\"label\":\"1966\",\"method\":\"animate\"},{\"args\":[[\"1967\"],{\"frame\":{\"duration\":0,\"redraw\":true},\"mode\":\"immediate\",\"fromcurrent\":true,\"transition\":{\"duration\":0,\"easing\":\"linear\"}}],\"label\":\"1967\",\"method\":\"animate\"},{\"args\":[[\"1968\"],{\"frame\":{\"duration\":0,\"redraw\":true},\"mode\":\"immediate\",\"fromcurrent\":true,\"transition\":{\"duration\":0,\"easing\":\"linear\"}}],\"label\":\"1968\",\"method\":\"animate\"},{\"args\":[[\"1969\"],{\"frame\":{\"duration\":0,\"redraw\":true},\"mode\":\"immediate\",\"fromcurrent\":true,\"transition\":{\"duration\":0,\"easing\":\"linear\"}}],\"label\":\"1969\",\"method\":\"animate\"},{\"args\":[[\"1970\"],{\"frame\":{\"duration\":0,\"redraw\":true},\"mode\":\"immediate\",\"fromcurrent\":true,\"transition\":{\"duration\":0,\"easing\":\"linear\"}}],\"label\":\"1970\",\"method\":\"animate\"},{\"args\":[[\"1971\"],{\"frame\":{\"duration\":0,\"redraw\":true},\"mode\":\"immediate\",\"fromcurrent\":true,\"transition\":{\"duration\":0,\"easing\":\"linear\"}}],\"label\":\"1971\",\"method\":\"animate\"},{\"args\":[[\"1972\"],{\"frame\":{\"duration\":0,\"redraw\":true},\"mode\":\"immediate\",\"fromcurrent\":true,\"transition\":{\"duration\":0,\"easing\":\"linear\"}}],\"label\":\"1972\",\"method\":\"animate\"},{\"args\":[[\"1973\"],{\"frame\":{\"duration\":0,\"redraw\":true},\"mode\":\"immediate\",\"fromcurrent\":true,\"transition\":{\"duration\":0,\"easing\":\"linear\"}}],\"label\":\"1973\",\"method\":\"animate\"},{\"args\":[[\"1974\"],{\"frame\":{\"duration\":0,\"redraw\":true},\"mode\":\"immediate\",\"fromcurrent\":true,\"transition\":{\"duration\":0,\"easing\":\"linear\"}}],\"label\":\"1974\",\"method\":\"animate\"},{\"args\":[[\"1975\"],{\"frame\":{\"duration\":0,\"redraw\":true},\"mode\":\"immediate\",\"fromcurrent\":true,\"transition\":{\"duration\":0,\"easing\":\"linear\"}}],\"label\":\"1975\",\"method\":\"animate\"},{\"args\":[[\"1976\"],{\"frame\":{\"duration\":0,\"redraw\":true},\"mode\":\"immediate\",\"fromcurrent\":true,\"transition\":{\"duration\":0,\"easing\":\"linear\"}}],\"label\":\"1976\",\"method\":\"animate\"},{\"args\":[[\"1977\"],{\"frame\":{\"duration\":0,\"redraw\":true},\"mode\":\"immediate\",\"fromcurrent\":true,\"transition\":{\"duration\":0,\"easing\":\"linear\"}}],\"label\":\"1977\",\"method\":\"animate\"},{\"args\":[[\"1978\"],{\"frame\":{\"duration\":0,\"redraw\":true},\"mode\":\"immediate\",\"fromcurrent\":true,\"transition\":{\"duration\":0,\"easing\":\"linear\"}}],\"label\":\"1978\",\"method\":\"animate\"},{\"args\":[[\"1979\"],{\"frame\":{\"duration\":0,\"redraw\":true},\"mode\":\"immediate\",\"fromcurrent\":true,\"transition\":{\"duration\":0,\"easing\":\"linear\"}}],\"label\":\"1979\",\"method\":\"animate\"},{\"args\":[[\"1980\"],{\"frame\":{\"duration\":0,\"redraw\":true},\"mode\":\"immediate\",\"fromcurrent\":true,\"transition\":{\"duration\":0,\"easing\":\"linear\"}}],\"label\":\"1980\",\"method\":\"animate\"},{\"args\":[[\"1981\"],{\"frame\":{\"duration\":0,\"redraw\":true},\"mode\":\"immediate\",\"fromcurrent\":true,\"transition\":{\"duration\":0,\"easing\":\"linear\"}}],\"label\":\"1981\",\"method\":\"animate\"},{\"args\":[[\"1982\"],{\"frame\":{\"duration\":0,\"redraw\":true},\"mode\":\"immediate\",\"fromcurrent\":true,\"transition\":{\"duration\":0,\"easing\":\"linear\"}}],\"label\":\"1982\",\"method\":\"animate\"},{\"args\":[[\"1983\"],{\"frame\":{\"duration\":0,\"redraw\":true},\"mode\":\"immediate\",\"fromcurrent\":true,\"transition\":{\"duration\":0,\"easing\":\"linear\"}}],\"label\":\"1983\",\"method\":\"animate\"},{\"args\":[[\"1984\"],{\"frame\":{\"duration\":0,\"redraw\":true},\"mode\":\"immediate\",\"fromcurrent\":true,\"transition\":{\"duration\":0,\"easing\":\"linear\"}}],\"label\":\"1984\",\"method\":\"animate\"},{\"args\":[[\"1985\"],{\"frame\":{\"duration\":0,\"redraw\":true},\"mode\":\"immediate\",\"fromcurrent\":true,\"transition\":{\"duration\":0,\"easing\":\"linear\"}}],\"label\":\"1985\",\"method\":\"animate\"},{\"args\":[[\"1986\"],{\"frame\":{\"duration\":0,\"redraw\":true},\"mode\":\"immediate\",\"fromcurrent\":true,\"transition\":{\"duration\":0,\"easing\":\"linear\"}}],\"label\":\"1986\",\"method\":\"animate\"},{\"args\":[[\"1987\"],{\"frame\":{\"duration\":0,\"redraw\":true},\"mode\":\"immediate\",\"fromcurrent\":true,\"transition\":{\"duration\":0,\"easing\":\"linear\"}}],\"label\":\"1987\",\"method\":\"animate\"},{\"args\":[[\"1988\"],{\"frame\":{\"duration\":0,\"redraw\":true},\"mode\":\"immediate\",\"fromcurrent\":true,\"transition\":{\"duration\":0,\"easing\":\"linear\"}}],\"label\":\"1988\",\"method\":\"animate\"},{\"args\":[[\"1989\"],{\"frame\":{\"duration\":0,\"redraw\":true},\"mode\":\"immediate\",\"fromcurrent\":true,\"transition\":{\"duration\":0,\"easing\":\"linear\"}}],\"label\":\"1989\",\"method\":\"animate\"},{\"args\":[[\"1990\"],{\"frame\":{\"duration\":0,\"redraw\":true},\"mode\":\"immediate\",\"fromcurrent\":true,\"transition\":{\"duration\":0,\"easing\":\"linear\"}}],\"label\":\"1990\",\"method\":\"animate\"},{\"args\":[[\"1991\"],{\"frame\":{\"duration\":0,\"redraw\":true},\"mode\":\"immediate\",\"fromcurrent\":true,\"transition\":{\"duration\":0,\"easing\":\"linear\"}}],\"label\":\"1991\",\"method\":\"animate\"},{\"args\":[[\"1992\"],{\"frame\":{\"duration\":0,\"redraw\":true},\"mode\":\"immediate\",\"fromcurrent\":true,\"transition\":{\"duration\":0,\"easing\":\"linear\"}}],\"label\":\"1992\",\"method\":\"animate\"},{\"args\":[[\"1993\"],{\"frame\":{\"duration\":0,\"redraw\":true},\"mode\":\"immediate\",\"fromcurrent\":true,\"transition\":{\"duration\":0,\"easing\":\"linear\"}}],\"label\":\"1993\",\"method\":\"animate\"},{\"args\":[[\"1994\"],{\"frame\":{\"duration\":0,\"redraw\":true},\"mode\":\"immediate\",\"fromcurrent\":true,\"transition\":{\"duration\":0,\"easing\":\"linear\"}}],\"label\":\"1994\",\"method\":\"animate\"},{\"args\":[[\"1995\"],{\"frame\":{\"duration\":0,\"redraw\":true},\"mode\":\"immediate\",\"fromcurrent\":true,\"transition\":{\"duration\":0,\"easing\":\"linear\"}}],\"label\":\"1995\",\"method\":\"animate\"},{\"args\":[[\"1996\"],{\"frame\":{\"duration\":0,\"redraw\":true},\"mode\":\"immediate\",\"fromcurrent\":true,\"transition\":{\"duration\":0,\"easing\":\"linear\"}}],\"label\":\"1996\",\"method\":\"animate\"},{\"args\":[[\"1997\"],{\"frame\":{\"duration\":0,\"redraw\":true},\"mode\":\"immediate\",\"fromcurrent\":true,\"transition\":{\"duration\":0,\"easing\":\"linear\"}}],\"label\":\"1997\",\"method\":\"animate\"},{\"args\":[[\"1998\"],{\"frame\":{\"duration\":0,\"redraw\":true},\"mode\":\"immediate\",\"fromcurrent\":true,\"transition\":{\"duration\":0,\"easing\":\"linear\"}}],\"label\":\"1998\",\"method\":\"animate\"},{\"args\":[[\"1999\"],{\"frame\":{\"duration\":0,\"redraw\":true},\"mode\":\"immediate\",\"fromcurrent\":true,\"transition\":{\"duration\":0,\"easing\":\"linear\"}}],\"label\":\"1999\",\"method\":\"animate\"},{\"args\":[[\"2000\"],{\"frame\":{\"duration\":0,\"redraw\":true},\"mode\":\"immediate\",\"fromcurrent\":true,\"transition\":{\"duration\":0,\"easing\":\"linear\"}}],\"label\":\"2000\",\"method\":\"animate\"},{\"args\":[[\"2001\"],{\"frame\":{\"duration\":0,\"redraw\":true},\"mode\":\"immediate\",\"fromcurrent\":true,\"transition\":{\"duration\":0,\"easing\":\"linear\"}}],\"label\":\"2001\",\"method\":\"animate\"},{\"args\":[[\"2002\"],{\"frame\":{\"duration\":0,\"redraw\":true},\"mode\":\"immediate\",\"fromcurrent\":true,\"transition\":{\"duration\":0,\"easing\":\"linear\"}}],\"label\":\"2002\",\"method\":\"animate\"},{\"args\":[[\"2003\"],{\"frame\":{\"duration\":0,\"redraw\":true},\"mode\":\"immediate\",\"fromcurrent\":true,\"transition\":{\"duration\":0,\"easing\":\"linear\"}}],\"label\":\"2003\",\"method\":\"animate\"},{\"args\":[[\"2004\"],{\"frame\":{\"duration\":0,\"redraw\":true},\"mode\":\"immediate\",\"fromcurrent\":true,\"transition\":{\"duration\":0,\"easing\":\"linear\"}}],\"label\":\"2004\",\"method\":\"animate\"},{\"args\":[[\"2005\"],{\"frame\":{\"duration\":0,\"redraw\":true},\"mode\":\"immediate\",\"fromcurrent\":true,\"transition\":{\"duration\":0,\"easing\":\"linear\"}}],\"label\":\"2005\",\"method\":\"animate\"},{\"args\":[[\"2006\"],{\"frame\":{\"duration\":0,\"redraw\":true},\"mode\":\"immediate\",\"fromcurrent\":true,\"transition\":{\"duration\":0,\"easing\":\"linear\"}}],\"label\":\"2006\",\"method\":\"animate\"},{\"args\":[[\"2007\"],{\"frame\":{\"duration\":0,\"redraw\":true},\"mode\":\"immediate\",\"fromcurrent\":true,\"transition\":{\"duration\":0,\"easing\":\"linear\"}}],\"label\":\"2007\",\"method\":\"animate\"},{\"args\":[[\"2008\"],{\"frame\":{\"duration\":0,\"redraw\":true},\"mode\":\"immediate\",\"fromcurrent\":true,\"transition\":{\"duration\":0,\"easing\":\"linear\"}}],\"label\":\"2008\",\"method\":\"animate\"},{\"args\":[[\"2009\"],{\"frame\":{\"duration\":0,\"redraw\":true},\"mode\":\"immediate\",\"fromcurrent\":true,\"transition\":{\"duration\":0,\"easing\":\"linear\"}}],\"label\":\"2009\",\"method\":\"animate\"},{\"args\":[[\"2010\"],{\"frame\":{\"duration\":0,\"redraw\":true},\"mode\":\"immediate\",\"fromcurrent\":true,\"transition\":{\"duration\":0,\"easing\":\"linear\"}}],\"label\":\"2010\",\"method\":\"animate\"},{\"args\":[[\"2011\"],{\"frame\":{\"duration\":0,\"redraw\":true},\"mode\":\"immediate\",\"fromcurrent\":true,\"transition\":{\"duration\":0,\"easing\":\"linear\"}}],\"label\":\"2011\",\"method\":\"animate\"},{\"args\":[[\"2012\"],{\"frame\":{\"duration\":0,\"redraw\":true},\"mode\":\"immediate\",\"fromcurrent\":true,\"transition\":{\"duration\":0,\"easing\":\"linear\"}}],\"label\":\"2012\",\"method\":\"animate\"},{\"args\":[[\"2013\"],{\"frame\":{\"duration\":0,\"redraw\":true},\"mode\":\"immediate\",\"fromcurrent\":true,\"transition\":{\"duration\":0,\"easing\":\"linear\"}}],\"label\":\"2013\",\"method\":\"animate\"},{\"args\":[[\"2014\"],{\"frame\":{\"duration\":0,\"redraw\":true},\"mode\":\"immediate\",\"fromcurrent\":true,\"transition\":{\"duration\":0,\"easing\":\"linear\"}}],\"label\":\"2014\",\"method\":\"animate\"},{\"args\":[[\"2015\"],{\"frame\":{\"duration\":0,\"redraw\":true},\"mode\":\"immediate\",\"fromcurrent\":true,\"transition\":{\"duration\":0,\"easing\":\"linear\"}}],\"label\":\"2015\",\"method\":\"animate\"},{\"args\":[[\"2016\"],{\"frame\":{\"duration\":0,\"redraw\":true},\"mode\":\"immediate\",\"fromcurrent\":true,\"transition\":{\"duration\":0,\"easing\":\"linear\"}}],\"label\":\"2016\",\"method\":\"animate\"},{\"args\":[[\"2017\"],{\"frame\":{\"duration\":0,\"redraw\":true},\"mode\":\"immediate\",\"fromcurrent\":true,\"transition\":{\"duration\":0,\"easing\":\"linear\"}}],\"label\":\"2017\",\"method\":\"animate\"},{\"args\":[[\"2018\"],{\"frame\":{\"duration\":0,\"redraw\":true},\"mode\":\"immediate\",\"fromcurrent\":true,\"transition\":{\"duration\":0,\"easing\":\"linear\"}}],\"label\":\"2018\",\"method\":\"animate\"},{\"args\":[[\"2019\"],{\"frame\":{\"duration\":0,\"redraw\":true},\"mode\":\"immediate\",\"fromcurrent\":true,\"transition\":{\"duration\":0,\"easing\":\"linear\"}}],\"label\":\"2019\",\"method\":\"animate\"},{\"args\":[[\"2020\"],{\"frame\":{\"duration\":0,\"redraw\":true},\"mode\":\"immediate\",\"fromcurrent\":true,\"transition\":{\"duration\":0,\"easing\":\"linear\"}}],\"label\":\"2020\",\"method\":\"animate\"},{\"args\":[[\"2021\"],{\"frame\":{\"duration\":0,\"redraw\":true},\"mode\":\"immediate\",\"fromcurrent\":true,\"transition\":{\"duration\":0,\"easing\":\"linear\"}}],\"label\":\"2021\",\"method\":\"animate\"},{\"args\":[[\"2022\"],{\"frame\":{\"duration\":0,\"redraw\":true},\"mode\":\"immediate\",\"fromcurrent\":true,\"transition\":{\"duration\":0,\"easing\":\"linear\"}}],\"label\":\"2022\",\"method\":\"animate\"}],\"x\":0.1,\"xanchor\":\"left\",\"y\":0,\"yanchor\":\"top\"}]},                        {\"responsive\": true}                    ).then(function(){\n",
       "                            Plotly.addFrames('87925288-33f4-4647-994f-f56c2dfce194', [{\"data\":[{\"alignmentgroup\":\"True\",\"hovertemplate\":\"year=1880\\u003cbr\\u003ename=%{x}\\u003cbr\\u003epercentage=%{y}\\u003cextra\\u003e\\u003c\\u002fextra\\u003e\",\"legendgroup\":\"\",\"marker\":{\"color\":\"rgb(76,114,176)\",\"pattern\":{\"shape\":\"\"}},\"name\":\"\",\"offsetgroup\":\"\",\"orientation\":\"v\",\"showlegend\":false,\"textposition\":\"auto\",\"x\":[\"Linda\",\"Christopher\",\"Matthew\",\"Anthony\",\"Michael\",\"Daniel\",\"Richard\",\"David\",\"Elizabeth\",\"Robert\",\"Thomas\",\"Joseph\",\"George\",\"Charles\",\"James\",\"Mary\",\"William\",\"John\"],\"xaxis\":\"x\",\"y\":[0.0134005677870203,0.0471501459172936,0.0560838577753072,0.0645212523078755,0.1756963332075996,0.3191320402612614,0.3613190129241032,0.4312997558118758,0.9668261499672433,1.204562148855492,1.26163864128169,1.3112703738262097,2.5570268606936533,2.6597645470608087,2.952591769073475,3.519882472057335,4.74578626590697,4.814774374143853],\"yaxis\":\"y\",\"type\":\"bar\"}],\"name\":\"1880\"},{\"data\":[{\"alignmentgroup\":\"True\",\"hovertemplate\":\"year=1881\\u003cbr\\u003ename=%{x}\\u003cbr\\u003epercentage=%{y}\\u003cextra\\u003e\\u003c\\u002fextra\\u003e\",\"legendgroup\":\"\",\"marker\":{\"color\":\"rgb(76,114,176)\",\"pattern\":{\"shape\":\"\"}},\"name\":\"\",\"offsetgroup\":\"\",\"orientation\":\"v\",\"showlegend\":false,\"textposition\":\"auto\",\"x\":[\"Linda\",\"Christopher\",\"Matthew\",\"Anthony\",\"Michael\",\"Daniel\",\"Richard\",\"David\",\"Elizabeth\",\"Robert\",\"Thomas\",\"Joseph\",\"Charles\",\"George\",\"James\",\"Mary\",\"William\",\"John\"],\"xaxis\":\"x\",\"y\":[0.0197207950594218,0.0352898437905443,0.0415174632829934,0.0664279412527894,0.1546525507291504,0.2734962893767191,0.3326586745549847,0.3892262182780632,0.9611292750012974,1.1152628574394106,1.1899942913487984,1.2797758056982718,2.4147594581971044,2.436037158129638,2.8361617105194874,3.605791686127978,4.43925476153407,4.564326119674088],\"yaxis\":\"y\",\"type\":\"bar\"}],\"name\":\"1881\"},{\"data\":[{\"alignmentgroup\":\"True\",\"hovertemplate\":\"year=1882\\u003cbr\\u003ename=%{x}\\u003cbr\\u003epercentage=%{y}\\u003cextra\\u003e\\u003c\\u002fextra\\u003e\",\"legendgroup\":\"\",\"marker\":{\"color\":\"rgb(76,114,176)\",\"pattern\":{\"shape\":\"\"}},\"name\":\"\",\"offsetgroup\":\"\",\"orientation\":\"v\",\"showlegend\":false,\"textposition\":\"auto\",\"x\":[\"Linda\",\"Christopher\",\"Matthew\",\"Anthony\",\"Michael\",\"Daniel\",\"Richard\",\"David\",\"Elizabeth\",\"Robert\",\"Thomas\",\"Joseph\",\"Charles\",\"George\",\"James\",\"Mary\",\"William\",\"John\"],\"xaxis\":\"x\",\"y\":[0.0162504006175152,0.0401746015266348,0.0492026018696988,0.0627446023842949,0.1448994055061774,0.2681316101890012,0.3367444127962876,0.3782732143743821,0.989920237616969,1.13391684308884,1.183570844975692,1.207946445901965,2.3084596877214683,2.3585650896254733,2.667774101375416,3.6915493402788746,4.211110760022209,4.332085964619266],\"yaxis\":\"y\",\"type\":\"bar\"}],\"name\":\"1882\"},{\"data\":[{\"alignmentgroup\":\"True\",\"hovertemplate\":\"year=1883\\u003cbr\\u003ename=%{x}\\u003cbr\\u003epercentage=%{y}\\u003cextra\\u003e\\u003c\\u002fextra\\u003e\",\"legendgroup\":\"\",\"marker\":{\"color\":\"rgb(76,114,176)\",\"pattern\":{\"shape\":\"\"}},\"name\":\"\",\"offsetgroup\":\"\",\"orientation\":\"v\",\"showlegend\":false,\"textposition\":\"auto\",\"x\":[\"Linda\",\"Matthew\",\"Christopher\",\"Anthony\",\"Michael\",\"Daniel\",\"Richard\",\"David\",\"Elizabeth\",\"Thomas\",\"Robert\",\"Joseph\",\"George\",\"Charles\",\"James\",\"Mary\",\"William\",\"John\"],\"xaxis\":\"x\",\"y\":[0.0225863698172347,0.039641383760861,0.0410242227292631,0.0659153241605015,0.1415105210998179,0.2834819885224365,0.2991541634976606,0.3411002788725253,1.04542626011201,1.067551683606444,1.0809191269676646,1.1671160893313972,2.1931826038857776,2.2328239876466385,2.419046302058125,3.70785222060891,3.884394662241582,4.118094447901542],\"yaxis\":\"y\",\"type\":\"bar\"}],\"name\":\"1883\"},{\"data\":[{\"alignmentgroup\":\"True\",\"hovertemplate\":\"year=1884\\u003cbr\\u003ename=%{x}\\u003cbr\\u003epercentage=%{y}\\u003cextra\\u003e\\u003c\\u002fextra\\u003e\",\"legendgroup\":\"\",\"marker\":{\"color\":\"rgb(76,114,176)\",\"pattern\":{\"shape\":\"\"}},\"name\":\"\",\"offsetgroup\":\"\",\"orientation\":\"v\",\"showlegend\":false,\"textposition\":\"auto\",\"x\":[\"Patricia\",\"Linda\",\"Christopher\",\"Matthew\",\"Anthony\",\"Michael\",\"Daniel\",\"Richard\",\"David\",\"Robert\",\"Elizabeth\",\"Thomas\",\"Joseph\",\"Charles\",\"George\",\"James\",\"William\",\"Mary\",\"John\"],\"xaxis\":\"x\",\"y\":[0.0024644604269266,0.0135545323480968,0.0279305515051692,0.0480569783250705,0.073523069403313,0.1532072898739428,0.2353559707714993,0.307646809961349,0.3125757308152024,1.0165899261072615,1.053556832511162,1.0605394703874542,1.115579086588817,1.9801939530355992,2.0541277658434,2.3519167340970424,3.668349345480385,3.8006087217254505,3.872488817510813],\"yaxis\":\"y\",\"type\":\"bar\"}],\"name\":\"1884\"},{\"data\":[{\"alignmentgroup\":\"True\",\"hovertemplate\":\"year=1885\\u003cbr\\u003ename=%{x}\\u003cbr\\u003epercentage=%{y}\\u003cextra\\u003e\\u003c\\u002fextra\\u003e\",\"legendgroup\":\"\",\"marker\":{\"color\":\"rgb(76,114,176)\",\"pattern\":{\"shape\":\"\"}},\"name\":\"\",\"offsetgroup\":\"\",\"orientation\":\"v\",\"showlegend\":false,\"textposition\":\"auto\",\"x\":[\"Patricia\",\"Linda\",\"Christopher\",\"Matthew\",\"Anthony\",\"Michael\",\"Daniel\",\"Richard\",\"David\",\"Thomas\",\"Robert\",\"Joseph\",\"Elizabeth\",\"Charles\",\"George\",\"James\",\"William\",\"John\",\"Mary\"],\"xaxis\":\"x\",\"y\":[0.0020759464239746,0.0249113570876962,0.0294784392204406,0.0460860106122381,0.0635239605736255,0.153620035374127,0.2221262673652918,0.2790071993821983,0.2976907171979706,0.944555622908484,0.9686366014265904,1.0603934333662717,1.0757554369036844,1.9194200636069985,1.9526352063905936,2.1593994702184727,3.353483853288714,3.6540808954802495,3.8056249844304015],\"yaxis\":\"y\",\"type\":\"bar\"}],\"name\":\"1885\"},{\"data\":[{\"alignmentgroup\":\"True\",\"hovertemplate\":\"year=1886\\u003cbr\\u003ename=%{x}\\u003cbr\\u003epercentage=%{y}\\u003cextra\\u003e\\u003c\\u002fextra\\u003e\",\"legendgroup\":\"\",\"marker\":{\"color\":\"rgb(76,114,176)\",\"pattern\":{\"shape\":\"\"}},\"name\":\"\",\"offsetgroup\":\"\",\"orientation\":\"v\",\"showlegend\":false,\"textposition\":\"auto\",\"x\":[\"Patricia\",\"Linda\",\"Christopher\",\"Matthew\",\"Anthony\",\"Michael\",\"Daniel\",\"David\",\"Richard\",\"Thomas\",\"Robert\",\"Joseph\",\"Elizabeth\",\"Charles\",\"George\",\"James\",\"William\",\"John\",\"Mary\"],\"xaxis\":\"x\",\"y\":[0.0031333597057775,0.0191918281978873,0.0258502175726645,0.0438670358808853,0.0681505736006611,0.1363011472013222,0.2173768295883157,0.2639855552117564,0.2851357332257547,0.9184660637560368,0.9631164395633665,1.0191252443041394,1.0539838710309146,1.7840566824770774,1.8443738568132948,2.1087510819882733,3.245768985222292,3.5540132462781564,3.885757705127352],\"yaxis\":\"y\",\"type\":\"bar\"}],\"name\":\"1886\"},{\"data\":[{\"alignmentgroup\":\"True\",\"hovertemplate\":\"year=1887\\u003cbr\\u003ename=%{x}\\u003cbr\\u003epercentage=%{y}\\u003cextra\\u003e\\u003c\\u002fextra\\u003e\",\"legendgroup\":\"\",\"marker\":{\"color\":\"rgb(76,114,176)\",\"pattern\":{\"shape\":\"\"}},\"name\":\"\",\"offsetgroup\":\"\",\"orientation\":\"v\",\"showlegend\":false,\"textposition\":\"auto\",\"x\":[\"Patricia\",\"Linda\",\"Christopher\",\"Matthew\",\"Anthony\",\"Michael\",\"Daniel\",\"Richard\",\"David\",\"Robert\",\"Thomas\",\"Joseph\",\"Elizabeth\",\"Charles\",\"George\",\"James\",\"William\",\"John\",\"Mary\"],\"xaxis\":\"x\",\"y\":[0.0040421515564304,0.0202107577821522,0.0226360487160105,0.0436552368094489,0.0618449188133859,0.1390500135412077,0.2247436265375333,0.2542513328994757,0.2756747361485571,0.8621909269866165,0.8722963058776926,0.9980072192826798,1.0893598444580082,1.6427303925333376,1.7454010420666712,1.93497795006326,3.037272679501845,3.300820960981111,4.015877571313658],\"yaxis\":\"y\",\"type\":\"bar\"}],\"name\":\"1887\"},{\"data\":[{\"alignmentgroup\":\"True\",\"hovertemplate\":\"year=1888\\u003cbr\\u003ename=%{x}\\u003cbr\\u003epercentage=%{y}\\u003cextra\\u003e\\u003c\\u002fextra\\u003e\",\"legendgroup\":\"\",\"marker\":{\"color\":\"rgb(76,114,176)\",\"pattern\":{\"shape\":\"\"}},\"name\":\"\",\"offsetgroup\":\"\",\"orientation\":\"v\",\"showlegend\":false,\"textposition\":\"auto\",\"x\":[\"Patricia\",\"Linda\",\"Christopher\",\"Matthew\",\"Anthony\",\"Michael\",\"Daniel\",\"Richard\",\"David\",\"Thomas\",\"Robert\",\"Joseph\",\"Elizabeth\",\"Charles\",\"George\",\"James\",\"William\",\"John\",\"Mary\"],\"xaxis\":\"x\",\"y\":[0.0040070390318993,0.0257118337880209,0.0263796736266708,0.038066870803044,0.0644465444297148,0.1556066824054255,0.1889986743379202,0.2604575370734591,0.2674698553792829,0.8224447612973456,0.9459951314475764,1.005432877087417,1.08056485893553,1.5423761073619324,1.6522357608198404,1.8722889876549804,2.9207975343353154,3.105121329802687,3.94159072771168],\"yaxis\":\"y\",\"type\":\"bar\"}],\"name\":\"1888\"},{\"data\":[{\"alignmentgroup\":\"True\",\"hovertemplate\":\"year=1889\\u003cbr\\u003ename=%{x}\\u003cbr\\u003epercentage=%{y}\\u003cextra\\u003e\\u003c\\u002fextra\\u003e\",\"legendgroup\":\"\",\"marker\":{\"color\":\"rgb(76,114,176)\",\"pattern\":{\"shape\":\"\"}},\"name\":\"\",\"offsetgroup\":\"\",\"orientation\":\"v\",\"showlegend\":false,\"textposition\":\"auto\",\"x\":[\"Patricia\",\"Christopher\",\"Linda\",\"Matthew\",\"Anthony\",\"Michael\",\"Daniel\",\"Richard\",\"David\",\"Thomas\",\"Robert\",\"Joseph\",\"Elizabeth\",\"Charles\",\"George\",\"James\",\"William\",\"John\",\"Mary\"],\"xaxis\":\"x\",\"y\":[0.0058834522713586,0.0245720653686155,0.0256103216517965,0.0408380804717836,0.0757927086722086,0.1304742062530715,0.1782339952793947,0.2477971662525177,0.261986668789324,0.7769617852470704,0.8745578758660787,0.9468897302610176,1.063866604832737,1.462903103001945,1.5476940327950552,1.7463470683103417,2.705695873969531,2.9763346784520293,4.045392564700671],\"yaxis\":\"y\",\"type\":\"bar\"}],\"name\":\"1889\"},{\"data\":[{\"alignmentgroup\":\"True\",\"hovertemplate\":\"year=1890\\u003cbr\\u003ename=%{x}\\u003cbr\\u003epercentage=%{y}\\u003cextra\\u003e\\u003c\\u002fextra\\u003e\",\"legendgroup\":\"\",\"marker\":{\"color\":\"rgb(76,114,176)\",\"pattern\":{\"shape\":\"\"}},\"name\":\"\",\"offsetgroup\":\"\",\"orientation\":\"v\",\"showlegend\":false,\"textposition\":\"auto\",\"x\":[\"Patricia\",\"Linda\",\"Christopher\",\"Matthew\",\"Anthony\",\"Michael\",\"Daniel\",\"David\",\"Richard\",\"Thomas\",\"Robert\",\"Joseph\",\"Elizabeth\",\"Charles\",\"George\",\"James\",\"William\",\"John\",\"Mary\"],\"xaxis\":\"x\",\"y\":[0.0036496229275947,0.0179163307354653,0.0218977375655687,0.0285334156157411,0.0627071575741288,0.1307228575883955,0.1675508707668521,0.2425340327337998,0.2465154395639032,0.7329106406415373,0.847044303104502,0.8895126426256051,1.036492911436923,1.357327945162757,1.4913686417762382,1.702051419869211,2.497669218084877,2.839406637668753,4.018898411086891],\"yaxis\":\"y\",\"type\":\"bar\"}],\"name\":\"1890\"},{\"data\":[{\"alignmentgroup\":\"True\",\"hovertemplate\":\"year=1891\\u003cbr\\u003ename=%{x}\\u003cbr\\u003epercentage=%{y}\\u003cextra\\u003e\\u003c\\u002fextra\\u003e\",\"legendgroup\":\"\",\"marker\":{\"color\":\"rgb(76,114,176)\",\"pattern\":{\"shape\":\"\"}},\"name\":\"\",\"offsetgroup\":\"\",\"orientation\":\"v\",\"showlegend\":false,\"textposition\":\"auto\",\"x\":[\"Patricia\",\"Christopher\",\"Linda\",\"Matthew\",\"Anthony\",\"Michael\",\"Daniel\",\"Richard\",\"David\",\"Thomas\",\"Robert\",\"Joseph\",\"Elizabeth\",\"Charles\",\"George\",\"James\",\"William\",\"John\",\"Mary\"],\"xaxis\":\"x\",\"y\":[0.0041859832351371,0.0216275800482085,0.0272088910283914,0.0394180087975414,0.0593014291644428,0.1161610347750557,0.1761601278120214,0.21243864918321,0.2347638931039414,0.6959197128415501,0.7845230246519529,0.90103289136327,1.0691698846412787,1.2798643741431814,1.3792814759776888,1.586138814180716,2.376591981749113,2.6943778756832746,4.095984595581695],\"yaxis\":\"y\",\"type\":\"bar\"}],\"name\":\"1891\"},{\"data\":[{\"alignmentgroup\":\"True\",\"hovertemplate\":\"year=1892\\u003cbr\\u003ename=%{x}\\u003cbr\\u003epercentage=%{y}\\u003cextra\\u003e\\u003c\\u002fextra\\u003e\",\"legendgroup\":\"\",\"marker\":{\"color\":\"rgb(76,114,176)\",\"pattern\":{\"shape\":\"\"}},\"name\":\"\",\"offsetgroup\":\"\",\"orientation\":\"v\",\"showlegend\":false,\"textposition\":\"auto\",\"x\":[\"Patricia\",\"Linda\",\"Christopher\",\"Matthew\",\"Anthony\",\"Michael\",\"Daniel\",\"Richard\",\"David\",\"Thomas\",\"Robert\",\"Joseph\",\"Elizabeth\",\"Charles\",\"George\",\"James\",\"William\",\"John\",\"Mary\"],\"xaxis\":\"x\",\"y\":[0.0062803926142582,0.0248225041420684,0.029906631496468,0.0394767535753377,0.0762619103159934,0.1136451996865784,0.1594023458761745,0.2419446488064263,0.2446362456411084,0.7264320790492084,0.8155538409086831,0.9202270511463212,1.0374610466124758,1.3003403374664295,1.4355183118304653,1.620939427108567,2.340492980913588,2.719410001973838,3.954254816463002],\"yaxis\":\"y\",\"type\":\"bar\"}],\"name\":\"1892\"},{\"data\":[{\"alignmentgroup\":\"True\",\"hovertemplate\":\"year=1893\\u003cbr\\u003ename=%{x}\\u003cbr\\u003epercentage=%{y}\\u003cextra\\u003e\\u003c\\u002fextra\\u003e\",\"legendgroup\":\"\",\"marker\":{\"color\":\"rgb(76,114,176)\",\"pattern\":{\"shape\":\"\"}},\"name\":\"\",\"offsetgroup\":\"\",\"orientation\":\"v\",\"showlegend\":false,\"textposition\":\"auto\",\"x\":[\"Patricia\",\"Linda\",\"Christopher\",\"Matthew\",\"Anthony\",\"Michael\",\"Daniel\",\"David\",\"Richard\",\"Thomas\",\"Robert\",\"Joseph\",\"Elizabeth\",\"Charles\",\"George\",\"James\",\"William\",\"John\",\"Mary\"],\"xaxis\":\"x\",\"y\":[0.0086094771894976,0.0252134689121003,0.0285957635222601,0.0332079834452052,0.0676458922031959,0.1251449005759125,0.1605052533184922,0.224461369583332,0.2250763322397247,0.6681569261706582,0.7933018267465708,0.929516055137552,1.0368270386780762,1.1518250554235094,1.3360063710131205,1.5537031513761326,2.230777036064485,2.4936735716723604,3.947752772712877],\"yaxis\":\"y\",\"type\":\"bar\"}],\"name\":\"1893\"},{\"data\":[{\"alignmentgroup\":\"True\",\"hovertemplate\":\"year=1894\\u003cbr\\u003ename=%{x}\\u003cbr\\u003epercentage=%{y}\\u003cextra\\u003e\\u003c\\u002fextra\\u003e\",\"legendgroup\":\"\",\"marker\":{\"color\":\"rgb(76,114,176)\",\"pattern\":{\"shape\":\"\"}},\"name\":\"\",\"offsetgroup\":\"\",\"orientation\":\"v\",\"showlegend\":false,\"textposition\":\"auto\",\"x\":[\"Patricia\",\"Christopher\",\"Linda\",\"Matthew\",\"Anthony\",\"Michael\",\"Daniel\",\"David\",\"Richard\",\"Thomas\",\"Robert\",\"Joseph\",\"Elizabeth\",\"Charles\",\"George\",\"James\",\"William\",\"John\",\"Mary\"],\"xaxis\":\"x\",\"y\":[0.0106291889338332,0.0212583778676665,0.0277539933272313,0.0366116507720924,0.0758805987776432,0.1248929699725412,0.1520564528034485,0.2152410759101243,0.2385662405149251,0.6433611857450766,0.7434527148720068,0.883994212997136,1.014201777436594,1.1261035164900055,1.2982373261684723,1.5161356993120552,2.15772535356816,2.449732794000413,3.8970740204907135],\"yaxis\":\"y\",\"type\":\"bar\"}],\"name\":\"1894\"},{\"data\":[{\"alignmentgroup\":\"True\",\"hovertemplate\":\"year=1895\\u003cbr\\u003ename=%{x}\\u003cbr\\u003epercentage=%{y}\\u003cextra\\u003e\\u003c\\u002fextra\\u003e\",\"legendgroup\":\"\",\"marker\":{\"color\":\"rgb(76,114,176)\",\"pattern\":{\"shape\":\"\"}},\"name\":\"\",\"offsetgroup\":\"\",\"orientation\":\"v\",\"showlegend\":false,\"textposition\":\"auto\",\"x\":[\"Patricia\",\"Christopher\",\"Linda\",\"Matthew\",\"Anthony\",\"Michael\",\"Daniel\",\"David\",\"Richard\",\"Thomas\",\"Robert\",\"Joseph\",\"Elizabeth\",\"Charles\",\"George\",\"James\",\"William\",\"John\",\"Mary\"],\"xaxis\":\"x\",\"y\":[0.0099709134211343,0.0170929944362303,0.0273487910979684,0.0319069229476299,0.0629591961734483,0.1176567783693853,0.1469997521515806,0.202836867309933,0.2091042986032174,0.6173419823885181,0.7563650038031913,0.8589229704205731,1.0312773309858954,1.042672660610049,1.23496884801764,1.529538118802009,2.0844906714982865,2.387606439500771,3.844214448708197],\"yaxis\":\"y\",\"type\":\"bar\"}],\"name\":\"1895\"},{\"data\":[{\"alignmentgroup\":\"True\",\"hovertemplate\":\"year=1896\\u003cbr\\u003ename=%{x}\\u003cbr\\u003epercentage=%{y}\\u003cextra\\u003e\\u003c\\u002fextra\\u003e\",\"legendgroup\":\"\",\"marker\":{\"color\":\"rgb(76,114,176)\",\"pattern\":{\"shape\":\"\"}},\"name\":\"\",\"offsetgroup\":\"\",\"orientation\":\"v\",\"showlegend\":false,\"textposition\":\"auto\",\"x\":[\"Patricia\",\"Christopher\",\"Linda\",\"Matthew\",\"Anthony\",\"Michael\",\"Daniel\",\"David\",\"Richard\",\"Thomas\",\"Robert\",\"Joseph\",\"Elizabeth\",\"Charles\",\"George\",\"James\",\"William\",\"John\",\"Mary\"],\"xaxis\":\"x\",\"y\":[0.0103501135715164,0.0204204943438028,0.0290922111199382,0.0344071343053115,0.0786049165836792,0.1116133868928399,0.1569301003681283,0.2159537210056953,0.2346958185541171,0.587159145584138,0.7684259994852917,0.8601783576327892,0.9740296069194704,1.0207449843909098,1.2078862270758972,1.4641214711707378,2.179398238802296,2.290452160096676,3.879334459724072],\"yaxis\":\"y\",\"type\":\"bar\"}],\"name\":\"1896\"},{\"data\":[{\"alignmentgroup\":\"True\",\"hovertemplate\":\"year=1897\\u003cbr\\u003ename=%{x}\\u003cbr\\u003epercentage=%{y}\\u003cextra\\u003e\\u003c\\u002fextra\\u003e\",\"legendgroup\":\"\",\"marker\":{\"color\":\"rgb(76,114,176)\",\"pattern\":{\"shape\":\"\"}},\"name\":\"\",\"offsetgroup\":\"\",\"orientation\":\"v\",\"showlegend\":false,\"textposition\":\"auto\",\"x\":[\"Patricia\",\"Christopher\",\"Linda\",\"Matthew\",\"Anthony\",\"Michael\",\"Daniel\",\"Richard\",\"David\",\"Thomas\",\"Robert\",\"Joseph\",\"Charles\",\"Elizabeth\",\"George\",\"James\",\"William\",\"John\",\"Mary\"],\"xaxis\":\"x\",\"y\":[0.0141227875500422,0.0164285487827021,0.023345832480682,0.0288220154082494,0.0717668183665411,0.1080825577809353,0.149874480122897,0.2043480892444885,0.2104007124802209,0.5752874275486587,0.7836705989503022,0.8205627786728614,0.9687079378712636,0.9955124122009354,1.182855512354557,1.4823162524462683,2.0838317140164344,2.1893202904106275,3.884054796415695],\"yaxis\":\"y\",\"type\":\"bar\"}],\"name\":\"1897\"},{\"data\":[{\"alignmentgroup\":\"True\",\"hovertemplate\":\"year=1898\\u003cbr\\u003ename=%{x}\\u003cbr\\u003epercentage=%{y}\\u003cextra\\u003e\\u003c\\u002fextra\\u003e\",\"legendgroup\":\"\",\"marker\":{\"color\":\"rgb(76,114,176)\",\"pattern\":{\"shape\":\"\"}},\"name\":\"\",\"offsetgroup\":\"\",\"orientation\":\"v\",\"showlegend\":false,\"textposition\":\"auto\",\"x\":[\"Christopher\",\"Patricia\",\"Linda\",\"Matthew\",\"Anthony\",\"Michael\",\"Daniel\",\"David\",\"Richard\",\"Thomas\",\"Robert\",\"Joseph\",\"Charles\",\"Elizabeth\",\"George\",\"James\",\"William\",\"John\",\"Mary\"],\"xaxis\":\"x\",\"y\":[0.0112725976259385,0.0123212113585839,0.0267396501824587,0.0348664066104609,0.0851998657774422,0.1137745899920305,0.1371062455433916,0.2149658151923157,0.2317436349146428,0.5693972568264755,0.7717797072270458,0.8373180655173861,0.937460676985026,0.9631517134348392,1.2856004362233129,1.4025208674132796,1.950683696153685,2.153328299987417,3.7896900297806297],\"yaxis\":\"y\",\"type\":\"bar\"}],\"name\":\"1898\"},{\"data\":[{\"alignmentgroup\":\"True\",\"hovertemplate\":\"year=1899\\u003cbr\\u003ename=%{x}\\u003cbr\\u003epercentage=%{y}\\u003cextra\\u003e\\u003c\\u002fextra\\u003e\",\"legendgroup\":\"\",\"marker\":{\"color\":\"rgb(76,114,176)\",\"pattern\":{\"shape\":\"\"}},\"name\":\"\",\"offsetgroup\":\"\",\"orientation\":\"v\",\"showlegend\":false,\"textposition\":\"auto\",\"x\":[\"Christopher\",\"Patricia\",\"Linda\",\"Matthew\",\"Anthony\",\"Michael\",\"Daniel\",\"David\",\"Richard\",\"Thomas\",\"Robert\",\"Joseph\",\"Charles\",\"Elizabeth\",\"George\",\"James\",\"William\",\"John\",\"Mary\"],\"xaxis\":\"x\",\"y\":[0.0123808709647941,0.0162130453110399,0.0288886989178529,0.0297730468439096,0.085781748827502,0.1105434907570902,0.14296958137917,0.1904295867442141,0.2207921988721616,0.5362096258323925,0.7743940005836696,0.7953235681670121,0.9344609751999364,0.9727827186623944,1.1941644828185938,1.3630749366954278,1.800827160093505,2.072321973392919,3.897616092773993],\"yaxis\":\"y\",\"type\":\"bar\"}],\"name\":\"1899\"},{\"data\":[{\"alignmentgroup\":\"True\",\"hovertemplate\":\"year=1900\\u003cbr\\u003ename=%{x}\\u003cbr\\u003epercentage=%{y}\\u003cextra\\u003e\\u003c\\u002fextra\\u003e\",\"legendgroup\":\"\",\"marker\":{\"color\":\"rgb(76,114,176)\",\"pattern\":{\"shape\":\"\"}},\"name\":\"\",\"offsetgroup\":\"\",\"orientation\":\"v\",\"showlegend\":false,\"textposition\":\"auto\",\"x\":[\"Christopher\",\"Patricia\",\"Linda\",\"Matthew\",\"Anthony\",\"Michael\",\"Daniel\",\"David\",\"Richard\",\"Thomas\",\"Joseph\",\"Robert\",\"Elizabeth\",\"Charles\",\"George\",\"James\",\"William\",\"John\",\"Mary\"],\"xaxis\":\"x\",\"y\":[0.0122151374425055,0.0193221264999633,0.0277616760056944,0.0288721430459222,0.0901699236664956,0.1099362369825501,0.1343665118675612,0.1981073199766357,0.2534085785799791,0.5714463389012151,0.827964225193832,0.853949153935162,0.9132480938833254,0.9163574015959632,1.2086323265839147,1.6181725710199195,1.915111457576828,2.1931724044498635,3.726727387004426],\"yaxis\":\"y\",\"type\":\"bar\"}],\"name\":\"1900\"},{\"data\":[{\"alignmentgroup\":\"True\",\"hovertemplate\":\"year=1901\\u003cbr\\u003ename=%{x}\\u003cbr\\u003epercentage=%{y}\\u003cextra\\u003e\\u003c\\u002fextra\\u003e\",\"legendgroup\":\"\",\"marker\":{\"color\":\"rgb(76,114,176)\",\"pattern\":{\"shape\":\"\"}},\"name\":\"\",\"offsetgroup\":\"\",\"orientation\":\"v\",\"showlegend\":false,\"textposition\":\"auto\",\"x\":[\"Christopher\",\"Patricia\",\"Linda\",\"Matthew\",\"Anthony\",\"Michael\",\"Daniel\",\"David\",\"Richard\",\"Thomas\",\"Robert\",\"Joseph\",\"Charles\",\"Elizabeth\",\"George\",\"James\",\"William\",\"John\",\"Mary\"],\"xaxis\":\"x\",\"y\":[0.0098319318010942,0.0196638636021884,0.0248690039674736,0.0257365273616878,0.0948492244340855,0.1110429944594172,0.1202965773310353,0.1943252403039801,0.2290261760725481,0.5297676194001365,0.7399974552647103,0.803905011971823,0.8883439556753381,0.932587648780262,1.0514383537876073,1.3779163244768835,1.741408626652632,2.006581610817438,3.81536788775404],\"yaxis\":\"y\",\"type\":\"bar\"}],\"name\":\"1901\"},{\"data\":[{\"alignmentgroup\":\"True\",\"hovertemplate\":\"year=1902\\u003cbr\\u003ename=%{x}\\u003cbr\\u003epercentage=%{y}\\u003cextra\\u003e\\u003c\\u002fextra\\u003e\",\"legendgroup\":\"\",\"marker\":{\"color\":\"rgb(76,114,176)\",\"pattern\":{\"shape\":\"\"}},\"name\":\"\",\"offsetgroup\":\"\",\"orientation\":\"v\",\"showlegend\":false,\"textposition\":\"auto\",\"x\":[\"Christopher\",\"Patricia\",\"Linda\",\"Matthew\",\"Anthony\",\"Michael\",\"Daniel\",\"David\",\"Richard\",\"Thomas\",\"Joseph\",\"Robert\",\"Charles\",\"Elizabeth\",\"George\",\"James\",\"William\",\"John\",\"Mary\"],\"xaxis\":\"x\",\"y\":[0.0121531189557626,0.0219790449199962,0.0235305069143489,0.026892007902113,0.1086023396046874,0.1189454195670386,0.1295470765284486,0.1967770962837313,0.2363393771397246,0.5559405479763764,0.8031401590765699,0.8277049739871539,0.8755417188130282,0.9606135515033668,1.1002451309951078,1.4537198887084597,1.717209850749356,2.054394257522005,3.760226720312775],\"yaxis\":\"y\",\"type\":\"bar\"}],\"name\":\"1902\"},{\"data\":[{\"alignmentgroup\":\"True\",\"hovertemplate\":\"year=1903\\u003cbr\\u003ename=%{x}\\u003cbr\\u003epercentage=%{y}\\u003cextra\\u003e\\u003c\\u002fextra\\u003e\",\"legendgroup\":\"\",\"marker\":{\"color\":\"rgb(76,114,176)\",\"pattern\":{\"shape\":\"\"}},\"name\":\"\",\"offsetgroup\":\"\",\"orientation\":\"v\",\"showlegend\":false,\"textposition\":\"auto\",\"x\":[\"Christopher\",\"Patricia\",\"Linda\",\"Matthew\",\"Anthony\",\"Daniel\",\"Michael\",\"David\",\"Richard\",\"Thomas\",\"Robert\",\"Joseph\",\"Charles\",\"Elizabeth\",\"George\",\"James\",\"William\",\"John\",\"Mary\"],\"xaxis\":\"x\",\"y\":[0.0131164054753123,0.0207239206509934,0.0236095298555621,0.026757467169637,0.1046689156929921,0.1133257433066982,0.1222448990299106,0.1878269264064721,0.2279631271609278,0.517048703836811,0.8019370307605941,0.8221362951925751,0.8478444499241872,0.9797954890058288,1.046164500710909,1.444640899050897,1.664734182926637,2.006547709613276,3.761260434100556],\"yaxis\":\"y\",\"type\":\"bar\"}],\"name\":\"1903\"},{\"data\":[{\"alignmentgroup\":\"True\",\"hovertemplate\":\"year=1904\\u003cbr\\u003ename=%{x}\\u003cbr\\u003epercentage=%{y}\\u003cextra\\u003e\\u003c\\u002fextra\\u003e\",\"legendgroup\":\"\",\"marker\":{\"color\":\"rgb(76,114,176)\",\"pattern\":{\"shape\":\"\"}},\"name\":\"\",\"offsetgroup\":\"\",\"orientation\":\"v\",\"showlegend\":false,\"textposition\":\"auto\",\"x\":[\"Christopher\",\"Matthew\",\"Linda\",\"Patricia\",\"Anthony\",\"Michael\",\"Daniel\",\"David\",\"Richard\",\"Thomas\",\"Joseph\",\"Robert\",\"Charles\",\"Elizabeth\",\"George\",\"James\",\"William\",\"John\",\"Mary\"],\"xaxis\":\"x\",\"y\":[0.0106571495842472,0.0240405467365577,0.0250319094885807,0.0307322453127129,0.1045887703384264,0.1145023978586564,0.1169808047387139,0.2024858421006976,0.2391662639255486,0.5137737462359195,0.8201048366110264,0.8493500377957048,0.8500935598597221,0.9531952860701142,1.0520837205844082,1.4577989268498208,1.596341871445035,2.01940592587085,3.7223192931583577],\"yaxis\":\"y\",\"type\":\"bar\"}],\"name\":\"1904\"},{\"data\":[{\"alignmentgroup\":\"True\",\"hovertemplate\":\"year=1905\\u003cbr\\u003ename=%{x}\\u003cbr\\u003epercentage=%{y}\\u003cextra\\u003e\\u003c\\u002fextra\\u003e\",\"legendgroup\":\"\",\"marker\":{\"color\":\"rgb(76,114,176)\",\"pattern\":{\"shape\":\"\"}},\"name\":\"\",\"offsetgroup\":\"\",\"orientation\":\"v\",\"showlegend\":false,\"textposition\":\"auto\",\"x\":[\"Christopher\",\"Linda\",\"Matthew\",\"Patricia\",\"Daniel\",\"Anthony\",\"Michael\",\"David\",\"Richard\",\"Thomas\",\"Joseph\",\"Robert\",\"Charles\",\"Elizabeth\",\"George\",\"James\",\"William\",\"John\",\"Mary\"],\"xaxis\":\"x\",\"y\":[0.0117945391283835,0.0247685321696054,0.0252403137347408,0.0285427846906882,0.1153505926755912,0.1155864834581588,0.1210119714572153,0.1993277112696821,0.2436751783924043,0.507872854868196,0.7841009612549389,0.8093412749896797,0.8562835407206464,0.9751724951347528,1.011499675650174,1.4335082856637376,1.5387155746889192,1.911187120363272,3.8060977767293744],\"yaxis\":\"y\",\"type\":\"bar\"}],\"name\":\"1905\"},{\"data\":[{\"alignmentgroup\":\"True\",\"hovertemplate\":\"year=1906\\u003cbr\\u003ename=%{x}\\u003cbr\\u003epercentage=%{y}\\u003cextra\\u003e\\u003c\\u002fextra\\u003e\",\"legendgroup\":\"\",\"marker\":{\"color\":\"rgb(76,114,176)\",\"pattern\":{\"shape\":\"\"}},\"name\":\"\",\"offsetgroup\":\"\",\"orientation\":\"v\",\"showlegend\":false,\"textposition\":\"auto\",\"x\":[\"Christopher\",\"Linda\",\"Matthew\",\"Patricia\",\"Daniel\",\"Michael\",\"Anthony\",\"David\",\"Richard\",\"Thomas\",\"Joseph\",\"Charles\",\"Robert\",\"George\",\"Elizabeth\",\"James\",\"William\",\"John\",\"Mary\"],\"xaxis\":\"x\",\"y\":[0.0114365470030411,0.0228730940060823,0.0317422529064,0.0366436301934176,0.1180998527252824,0.1251018202781648,0.1265022137887413,0.206791441728459,0.2548716189249179,0.5109102324419829,0.8280993625875538,0.8474714728171949,0.8521394511857832,0.987510823874842,1.011784311391501,1.3875565700628545,1.5390324681235428,1.9388448153931253,3.83847861249011],\"yaxis\":\"y\",\"type\":\"bar\"}],\"name\":\"1906\"},{\"data\":[{\"alignmentgroup\":\"True\",\"hovertemplate\":\"year=1907\\u003cbr\\u003ename=%{x}\\u003cbr\\u003epercentage=%{y}\\u003cextra\\u003e\\u003c\\u002fextra\\u003e\",\"legendgroup\":\"\",\"marker\":{\"color\":\"rgb(76,114,176)\",\"pattern\":{\"shape\":\"\"}},\"name\":\"\",\"offsetgroup\":\"\",\"orientation\":\"v\",\"showlegend\":false,\"textposition\":\"auto\",\"x\":[\"Christopher\",\"Linda\",\"Matthew\",\"Patricia\",\"Daniel\",\"Michael\",\"Anthony\",\"David\",\"Richard\",\"Thomas\",\"Joseph\",\"Charles\",\"Robert\",\"George\",\"Elizabeth\",\"James\",\"William\",\"John\",\"Mary\"],\"xaxis\":\"x\",\"y\":[0.0111733764224567,0.0219170075978959,0.0266442053150892,0.0380324543610547,0.1134527452126379,0.1259153573761474,0.1274194657407089,0.2054182280743974,0.2675164162684361,0.4697115549902018,0.8285488362498711,0.8388627221782926,0.8685151442225049,0.9645632069309312,0.9963643552102311,1.4508199539313096,1.4897118987863995,1.9441674975074776,3.792501804930037],\"yaxis\":\"y\",\"type\":\"bar\"}],\"name\":\"1907\"},{\"data\":[{\"alignmentgroup\":\"True\",\"hovertemplate\":\"year=1908\\u003cbr\\u003ename=%{x}\\u003cbr\\u003epercentage=%{y}\\u003cextra\\u003e\\u003c\\u002fextra\\u003e\",\"legendgroup\":\"\",\"marker\":{\"color\":\"rgb(76,114,176)\",\"pattern\":{\"shape\":\"\"}},\"name\":\"\",\"offsetgroup\":\"\",\"orientation\":\"v\",\"showlegend\":false,\"textposition\":\"auto\",\"x\":[\"Christopher\",\"Linda\",\"Matthew\",\"Patricia\",\"Daniel\",\"Michael\",\"Anthony\",\"David\",\"Richard\",\"Thomas\",\"Charles\",\"Joseph\",\"Robert\",\"George\",\"Elizabeth\",\"James\",\"William\",\"John\",\"Mary\"],\"xaxis\":\"x\",\"y\":[0.0110508091648044,0.0190319491171631,0.0311059813527827,0.0419521459034241,0.1084616455064135,0.1407954945441746,0.1412047837725006,0.2079189279896531,0.2558057677038056,0.4753894387007523,0.810188027471493,0.8560284210440149,0.8687163871221237,0.9464813405040804,1.0058282786113637,1.4415166621644853,1.5499783076708988,1.923864017746781,3.8358586478721057],\"yaxis\":\"y\",\"type\":\"bar\"}],\"name\":\"1908\"},{\"data\":[{\"alignmentgroup\":\"True\",\"hovertemplate\":\"year=1909\\u003cbr\\u003ename=%{x}\\u003cbr\\u003epercentage=%{y}\\u003cextra\\u003e\\u003c\\u002fextra\\u003e\",\"legendgroup\":\"\",\"marker\":{\"color\":\"rgb(76,114,176)\",\"pattern\":{\"shape\":\"\"}},\"name\":\"\",\"offsetgroup\":\"\",\"orientation\":\"v\",\"showlegend\":false,\"textposition\":\"auto\",\"x\":[\"Christopher\",\"Linda\",\"Matthew\",\"Patricia\",\"Daniel\",\"Michael\",\"Anthony\",\"David\",\"Richard\",\"Thomas\",\"Charles\",\"Joseph\",\"Robert\",\"George\",\"Elizabeth\",\"James\",\"William\",\"John\",\"Mary\"],\"xaxis\":\"x\",\"y\":[0.009780448492246,0.0205389418337167,0.0287545185672034,0.0455768899738666,0.1113015038417601,0.1255809586404394,0.1482715991424502,0.2153654757992582,0.280503262757617,0.4851102452154046,0.7937811996306903,0.8563760699810651,0.8974539536484984,0.9242523825172526,1.0150149445252965,1.4958217924041124,1.5547000923274337,1.888995821792404,3.7828818678309313],\"yaxis\":\"y\",\"type\":\"bar\"}],\"name\":\"1909\"},{\"data\":[{\"alignmentgroup\":\"True\",\"hovertemplate\":\"year=1910\\u003cbr\\u003ename=%{x}\\u003cbr\\u003epercentage=%{y}\\u003cextra\\u003e\\u003c\\u002fextra\\u003e\",\"legendgroup\":\"\",\"marker\":{\"color\":\"rgb(76,114,176)\",\"pattern\":{\"shape\":\"\"}},\"name\":\"\",\"offsetgroup\":\"\",\"orientation\":\"v\",\"showlegend\":false,\"textposition\":\"auto\",\"x\":[\"Christopher\",\"Linda\",\"Matthew\",\"Patricia\",\"Daniel\",\"Michael\",\"Anthony\",\"David\",\"Richard\",\"Thomas\",\"Charles\",\"Joseph\",\"George\",\"Robert\",\"Elizabeth\",\"William\",\"James\",\"John\",\"Mary\"],\"xaxis\":\"x\",\"y\":[0.0118501063123823,0.0231923509256625,0.0333495849077046,0.0534947656387545,0.1171467652595512,0.1444020097780305,0.166917211771557,0.2144869242541204,0.2815246685355977,0.4856850715746421,0.8152873142919053,0.8899429840599141,0.9309104944541504,0.9544414198458808,0.9847438345589729,1.5034399165752517,1.5670919161960482,1.9532360947466785,3.884634136431967],\"yaxis\":\"y\",\"type\":\"bar\"}],\"name\":\"1910\"},{\"data\":[{\"alignmentgroup\":\"True\",\"hovertemplate\":\"year=1911\\u003cbr\\u003ename=%{x}\\u003cbr\\u003epercentage=%{y}\\u003cextra\\u003e\\u003c\\u002fextra\\u003e\",\"legendgroup\":\"\",\"marker\":{\"color\":\"rgb(76,114,176)\",\"pattern\":{\"shape\":\"\"}},\"name\":\"\",\"offsetgroup\":\"\",\"orientation\":\"v\",\"showlegend\":false,\"textposition\":\"auto\",\"x\":[\"Christopher\",\"Linda\",\"Matthew\",\"Patricia\",\"Daniel\",\"Michael\",\"Anthony\",\"David\",\"Richard\",\"Thomas\",\"Charles\",\"Elizabeth\",\"Joseph\",\"Robert\",\"George\",\"James\",\"William\",\"John\",\"Mary\"],\"xaxis\":\"x\",\"y\":[0.0128826176237313,0.0201775938684948,0.0349227586185488,0.0504439846712371,0.1235489593793992,0.1809774957743462,0.2009998773823141,0.2429071877245727,0.3167882237353693,0.514528643646619,0.8947986819374837,0.9803206374877964,1.0113630895931731,1.0189684903589906,1.030143773116926,1.5553820627399,1.6519240887876214,2.0975384887603044,3.800837835782324],\"yaxis\":\"y\",\"type\":\"bar\"}],\"name\":\"1911\"},{\"data\":[{\"alignmentgroup\":\"True\",\"hovertemplate\":\"year=1912\\u003cbr\\u003ename=%{x}\\u003cbr\\u003epercentage=%{y}\\u003cextra\\u003e\\u003c\\u002fextra\\u003e\",\"legendgroup\":\"\",\"marker\":{\"color\":\"rgb(76,114,176)\",\"pattern\":{\"shape\":\"\"}},\"name\":\"\",\"offsetgroup\":\"\",\"orientation\":\"v\",\"showlegend\":false,\"textposition\":\"auto\",\"x\":[\"Christopher\",\"Linda\",\"Matthew\",\"Patricia\",\"Daniel\",\"Michael\",\"Anthony\",\"David\",\"Richard\",\"Thomas\",\"Elizabeth\",\"Charles\",\"George\",\"Joseph\",\"Robert\",\"James\",\"William\",\"John\",\"Mary\"],\"xaxis\":\"x\",\"y\":[0.0152824727243284,0.01912839301257,0.038459202882416,0.0510090480335202,0.1548488958160435,0.2137522012833228,0.2518065704511872,0.2908730239054308,0.4261886929943525,0.6194967916928122,0.865332064854361,1.127158269740704,1.19456308321357,1.2252292370908648,1.3055887294293869,1.7939193976074328,1.9942108778819096,2.499746978928405,3.281379673299192],\"yaxis\":\"y\",\"type\":\"bar\"}],\"name\":\"1912\"},{\"data\":[{\"alignmentgroup\":\"True\",\"hovertemplate\":\"year=1913\\u003cbr\\u003ename=%{x}\\u003cbr\\u003epercentage=%{y}\\u003cextra\\u003e\\u003c\\u002fextra\\u003e\",\"legendgroup\":\"\",\"marker\":{\"color\":\"rgb(76,114,176)\",\"pattern\":{\"shape\":\"\"}},\"name\":\"\",\"offsetgroup\":\"\",\"orientation\":\"v\",\"showlegend\":false,\"textposition\":\"auto\",\"x\":[\"Christopher\",\"Linda\",\"Matthew\",\"Patricia\",\"Daniel\",\"Michael\",\"Anthony\",\"David\",\"Richard\",\"Thomas\",\"Elizabeth\",\"Charles\",\"George\",\"Joseph\",\"Robert\",\"James\",\"William\",\"John\",\"Mary\"],\"xaxis\":\"x\",\"y\":[0.0138069194652061,0.0209302346033061,0.0431796016395936,0.0517099913728738,0.1657709757446722,0.2303205227985658,0.2452706903723558,0.2897694244449311,0.4510553499174663,0.6272035008015928,0.8380008635920329,1.1642662853494514,1.226881104834972,1.275952831341883,1.3856167076037431,1.8403656283335572,2.0782491770812173,2.5899846189158318,3.233457419724196],\"yaxis\":\"y\",\"type\":\"bar\"}],\"name\":\"1913\"},{\"data\":[{\"alignmentgroup\":\"True\",\"hovertemplate\":\"year=1914\\u003cbr\\u003ename=%{x}\\u003cbr\\u003epercentage=%{y}\\u003cextra\\u003e\\u003c\\u002fextra\\u003e\",\"legendgroup\":\"\",\"marker\":{\"color\":\"rgb(76,114,176)\",\"pattern\":{\"shape\":\"\"}},\"name\":\"\",\"offsetgroup\":\"\",\"orientation\":\"v\",\"showlegend\":false,\"textposition\":\"auto\",\"x\":[\"Christopher\",\"Linda\",\"Matthew\",\"Patricia\",\"Daniel\",\"Michael\",\"Anthony\",\"David\",\"Richard\",\"Thomas\",\"Elizabeth\",\"Charles\",\"George\",\"Joseph\",\"Robert\",\"James\",\"William\",\"John\",\"Mary\"],\"xaxis\":\"x\",\"y\":[0.0141208433532484,0.015462323471807,0.0432803848777064,0.0463163661986548,0.1651432630162403,0.238501044236366,0.2618710399859921,0.3016212140253864,0.4729776481170561,0.6282363207860227,0.8044644458345631,1.201118935627311,1.250330074713382,1.334278488448444,1.501610482184438,1.8618331961258052,2.1075358704723284,2.6911503262620857,3.2105855490113293],\"yaxis\":\"y\",\"type\":\"bar\"}],\"name\":\"1914\"},{\"data\":[{\"alignmentgroup\":\"True\",\"hovertemplate\":\"year=1915\\u003cbr\\u003ename=%{x}\\u003cbr\\u003epercentage=%{y}\\u003cextra\\u003e\\u003c\\u002fextra\\u003e\",\"legendgroup\":\"\",\"marker\":{\"color\":\"rgb(76,114,176)\",\"pattern\":{\"shape\":\"\"}},\"name\":\"\",\"offsetgroup\":\"\",\"orientation\":\"v\",\"showlegend\":false,\"textposition\":\"auto\",\"x\":[\"Christopher\",\"Linda\",\"Matthew\",\"Patricia\",\"Daniel\",\"Michael\",\"Anthony\",\"David\",\"Richard\",\"Thomas\",\"Elizabeth\",\"Charles\",\"George\",\"Joseph\",\"Robert\",\"James\",\"William\",\"John\",\"Mary\"],\"xaxis\":\"x\",\"y\":[0.013206507206278,0.0158259797100025,0.0435487303744208,0.0488422477256975,0.1643173272648886,0.2234191756301741,0.2590003438057661,0.2960549652647031,0.5010832610249778,0.6295465583951365,0.771107218283918,1.2039204771805745,1.2249308295541983,1.2617125892939975,1.5745758364576,1.851530481382645,2.111513127377308,2.607248298707181,3.1840779729648614],\"yaxis\":\"y\",\"type\":\"bar\"}],\"name\":\"1915\"},{\"data\":[{\"alignmentgroup\":\"True\",\"hovertemplate\":\"year=1916\\u003cbr\\u003ename=%{x}\\u003cbr\\u003epercentage=%{y}\\u003cextra\\u003e\\u003c\\u002fextra\\u003e\",\"legendgroup\":\"\",\"marker\":{\"color\":\"rgb(76,114,176)\",\"pattern\":{\"shape\":\"\"}},\"name\":\"\",\"offsetgroup\":\"\",\"orientation\":\"v\",\"showlegend\":false,\"textposition\":\"auto\",\"x\":[\"Christopher\",\"Linda\",\"Matthew\",\"Patricia\",\"Daniel\",\"Michael\",\"Anthony\",\"David\",\"Richard\",\"Thomas\",\"Elizabeth\",\"George\",\"Charles\",\"Joseph\",\"Robert\",\"James\",\"William\",\"John\",\"Mary\"],\"xaxis\":\"x\",\"y\":[0.0134407351461783,0.0153534551477498,0.0426484865215274,0.0557273557214624,0.1633566271612443,0.2185670315309307,0.2463273191213067,0.3017961991668812,0.5261013907025266,0.6227712934846553,0.7743931249605824,1.2156627988366526,1.226984033440549,1.238615438855511,1.6471620921641548,1.847273960436679,2.0964445119927544,2.5987144453784032,3.184523717211068],\"yaxis\":\"y\",\"type\":\"bar\"}],\"name\":\"1916\"},{\"data\":[{\"alignmentgroup\":\"True\",\"hovertemplate\":\"year=1917\\u003cbr\\u003ename=%{x}\\u003cbr\\u003epercentage=%{y}\\u003cextra\\u003e\\u003c\\u002fextra\\u003e\",\"legendgroup\":\"\",\"marker\":{\"color\":\"rgb(76,114,176)\",\"pattern\":{\"shape\":\"\"}},\"name\":\"\",\"offsetgroup\":\"\",\"orientation\":\"v\",\"showlegend\":false,\"textposition\":\"auto\",\"x\":[\"Christopher\",\"Linda\",\"Matthew\",\"Patricia\",\"Daniel\",\"Michael\",\"Anthony\",\"David\",\"Richard\",\"Thomas\",\"Elizabeth\",\"Charles\",\"George\",\"Joseph\",\"Robert\",\"James\",\"William\",\"John\",\"Mary\"],\"xaxis\":\"x\",\"y\":[0.0131057353787582,0.0145010227955081,0.0429549197585156,0.072106460429898,0.1680324703314555,0.2142762818580245,0.251450725175719,0.3056676076551447,0.5462051919641412,0.6311682293055206,0.7555481361700855,1.2092657050810889,1.2126542602360526,1.2386165725262923,1.7634439679980864,1.8696851384449025,2.122182329183184,2.5964803874912485,3.211104494569591],\"yaxis\":\"y\",\"type\":\"bar\"}],\"name\":\"1917\"},{\"data\":[{\"alignmentgroup\":\"True\",\"hovertemplate\":\"year=1918\\u003cbr\\u003ename=%{x}\\u003cbr\\u003epercentage=%{y}\\u003cextra\\u003e\\u003c\\u002fextra\\u003e\",\"legendgroup\":\"\",\"marker\":{\"color\":\"rgb(76,114,176)\",\"pattern\":{\"shape\":\"\"}},\"name\":\"\",\"offsetgroup\":\"\",\"orientation\":\"v\",\"showlegend\":false,\"textposition\":\"auto\",\"x\":[\"Christopher\",\"Linda\",\"Matthew\",\"Patricia\",\"Daniel\",\"Michael\",\"Anthony\",\"David\",\"Richard\",\"Thomas\",\"Elizabeth\",\"Joseph\",\"George\",\"Charles\",\"Robert\",\"James\",\"William\",\"John\",\"Mary\"],\"xaxis\":\"x\",\"y\":[0.0125281538015116,0.0148311232503189,0.0443551915840284,0.0812948215428974,0.1724924117156661,0.1992529167108069,0.2389100506192684,0.3069397681370359,0.5699388791908286,0.6438641984975427,0.7318836908309575,1.2137109589104191,1.219422323143461,1.2465973626393874,1.8790848920598215,1.9496018165823013,2.0939980010225185,2.6164496501789407,3.110574775115033],\"yaxis\":\"y\",\"type\":\"bar\"}],\"name\":\"1918\"},{\"data\":[{\"alignmentgroup\":\"True\",\"hovertemplate\":\"year=1919\\u003cbr\\u003ename=%{x}\\u003cbr\\u003epercentage=%{y}\\u003cextra\\u003e\\u003c\\u002fextra\\u003e\",\"legendgroup\":\"\",\"marker\":{\"color\":\"rgb(76,114,176)\",\"pattern\":{\"shape\":\"\"}},\"name\":\"\",\"offsetgroup\":\"\",\"orientation\":\"v\",\"showlegend\":false,\"textposition\":\"auto\",\"x\":[\"Jennifer\",\"Christopher\",\"Linda\",\"Matthew\",\"Patricia\",\"Daniel\",\"Michael\",\"Anthony\",\"David\",\"Richard\",\"Thomas\",\"Elizabeth\",\"Joseph\",\"Charles\",\"George\",\"Robert\",\"James\",\"William\",\"John\",\"Mary\"],\"xaxis\":\"x\",\"y\":[0.0002843263668634,0.0124155846863714,0.0133633392425829,0.041653812745498,0.1019783902483638,0.1675630055382037,0.1864233212068138,0.2256129721061618,0.3197723872657802,0.5930574135493835,0.6397343254428028,0.7253165618687065,1.1541281108266268,1.199904655891645,1.2005206963531827,1.952800875346108,2.0179116133578425,2.091931244197965,2.550928775771224,3.127163545947852],\"yaxis\":\"y\",\"type\":\"bar\"}],\"name\":\"1919\"},{\"data\":[{\"alignmentgroup\":\"True\",\"hovertemplate\":\"year=1920\\u003cbr\\u003ename=%{x}\\u003cbr\\u003epercentage=%{y}\\u003cextra\\u003e\\u003c\\u002fextra\\u003e\",\"legendgroup\":\"\",\"marker\":{\"color\":\"rgb(76,114,176)\",\"pattern\":{\"shape\":\"\"}},\"name\":\"\",\"offsetgroup\":\"\",\"orientation\":\"v\",\"showlegend\":false,\"textposition\":\"auto\",\"x\":[\"Jennifer\",\"Christopher\",\"Linda\",\"Matthew\",\"Patricia\",\"Daniel\",\"Michael\",\"Anthony\",\"David\",\"Thomas\",\"Richard\",\"Elizabeth\",\"Joseph\",\"George\",\"Charles\",\"James\",\"Robert\",\"William\",\"John\",\"Mary\"],\"xaxis\":\"x\",\"y\":[0.0003093717543588,0.0129494177181623,0.0153801957881245,0.0427374980664265,0.1108876759551853,0.1730272026164011,0.1778887587563255,0.2199191213842176,0.3304532296201357,0.6637350009944092,0.6657680153801958,0.7045720725697744,1.1357921021810709,1.1958102225266831,1.2583475128720747,2.128345082094005,2.1604755485824145,2.2252668331381344,2.5277440169712504,3.1457803902503705],\"yaxis\":\"y\",\"type\":\"bar\"}],\"name\":\"1920\"},{\"data\":[{\"alignmentgroup\":\"True\",\"hovertemplate\":\"year=1921\\u003cbr\\u003ename=%{x}\\u003cbr\\u003epercentage=%{y}\\u003cextra\\u003e\\u003c\\u002fextra\\u003e\",\"legendgroup\":\"\",\"marker\":{\"color\":\"rgb(76,114,176)\",\"pattern\":{\"shape\":\"\"}},\"name\":\"\",\"offsetgroup\":\"\",\"orientation\":\"v\",\"showlegend\":false,\"textposition\":\"auto\",\"x\":[\"Jennifer\",\"Christopher\",\"Linda\",\"Matthew\",\"Patricia\",\"Daniel\",\"Michael\",\"Anthony\",\"David\",\"Thomas\",\"Elizabeth\",\"Richard\",\"Joseph\",\"George\",\"Charles\",\"James\",\"William\",\"Robert\",\"John\",\"Mary\"],\"xaxis\":\"x\",\"y\":[0.0002141782579939,0.0124651746152501,0.0157206841367588,0.0393659638192952,0.1452128589199247,0.1757546785098676,0.1808521210501245,0.2254011987128743,0.3344179320318148,0.6589836641959063,0.6783453787185629,0.7045179618454284,1.1266633083515811,1.1858193432095212,1.2601391987334354,2.140968702559516,2.2296813370206263,2.2713175903746574,2.5058856185296747,3.177163114734436],\"yaxis\":\"y\",\"type\":\"bar\"}],\"name\":\"1921\"},{\"data\":[{\"alignmentgroup\":\"True\",\"hovertemplate\":\"year=1922\\u003cbr\\u003ename=%{x}\\u003cbr\\u003epercentage=%{y}\\u003cextra\\u003e\\u003c\\u002fextra\\u003e\",\"legendgroup\":\"\",\"marker\":{\"color\":\"rgb(76,114,176)\",\"pattern\":{\"shape\":\"\"}},\"name\":\"\",\"offsetgroup\":\"\",\"orientation\":\"v\",\"showlegend\":false,\"textposition\":\"auto\",\"x\":[\"Jennifer\",\"Christopher\",\"Linda\",\"Matthew\",\"Patricia\",\"Michael\",\"Daniel\",\"Anthony\",\"David\",\"Elizabeth\",\"Thomas\",\"Richard\",\"Joseph\",\"George\",\"Charles\",\"James\",\"William\",\"Robert\",\"John\",\"Mary\"],\"xaxis\":\"x\",\"y\":[0.000305790091702,0.0134110797360769,0.0159447690673227,0.0428979814359203,0.170805608365019,0.1756545655334377,0.1881045906955938,0.2234451884365913,0.3449312234399463,0.6671902957951241,0.6696366165287407,0.7693678707224334,1.127185962312682,1.2033276951464995,1.268548353276672,2.186049681279356,2.2412666349809887,2.3603500335495418,2.5147303455602774,3.1610832308208456],\"yaxis\":\"y\",\"type\":\"bar\"}],\"name\":\"1922\"},{\"data\":[{\"alignmentgroup\":\"True\",\"hovertemplate\":\"year=1923\\u003cbr\\u003ename=%{x}\\u003cbr\\u003epercentage=%{y}\\u003cextra\\u003e\\u003c\\u002fextra\\u003e\",\"legendgroup\":\"\",\"marker\":{\"color\":\"rgb(76,114,176)\",\"pattern\":{\"shape\":\"\"}},\"name\":\"\",\"offsetgroup\":\"\",\"orientation\":\"v\",\"showlegend\":false,\"textposition\":\"auto\",\"x\":[\"Jennifer\",\"Christopher\",\"Linda\",\"Matthew\",\"Michael\",\"Daniel\",\"Patricia\",\"Anthony\",\"David\",\"Elizabeth\",\"Thomas\",\"Richard\",\"Joseph\",\"George\",\"Charles\",\"James\",\"William\",\"Robert\",\"John\",\"Mary\"],\"xaxis\":\"x\",\"y\":[0.0003908804974084,0.0127687629153431,0.0183713833781977,0.0406081405641013,0.1712925201976639,0.185755098601777,0.2084695986178465,0.2235402133512617,0.3593060394511342,0.6732265100365082,0.6927705349069313,0.8236720703723875,1.1147911786089344,1.181414587833888,1.2649327207801626,2.203827675555289,2.274099302756055,2.4479108306036843,2.5104517101890385,3.120008130314346],\"yaxis\":\"y\",\"type\":\"bar\"}],\"name\":\"1923\"},{\"data\":[{\"alignmentgroup\":\"True\",\"hovertemplate\":\"year=1924\\u003cbr\\u003ename=%{x}\\u003cbr\\u003epercentage=%{y}\\u003cextra\\u003e\\u003c\\u002fextra\\u003e\",\"legendgroup\":\"\",\"marker\":{\"color\":\"rgb(76,114,176)\",\"pattern\":{\"shape\":\"\"}},\"name\":\"\",\"offsetgroup\":\"\",\"orientation\":\"v\",\"showlegend\":false,\"textposition\":\"auto\",\"x\":[\"Jennifer\",\"Christopher\",\"Linda\",\"Matthew\",\"Michael\",\"Daniel\",\"Anthony\",\"Patricia\",\"David\",\"Elizabeth\",\"Thomas\",\"Richard\",\"Joseph\",\"George\",\"Charles\",\"James\",\"William\",\"John\",\"Robert\",\"Mary\"],\"xaxis\":\"x\",\"y\":[0.000461870297583,0.0124704980347418,0.0190626468275178,0.0357319657493782,0.1641738966863325,0.186091741717091,0.2188005564277439,0.2928677568765139,0.3698741319462668,0.6294872273968024,0.6986418074076438,0.8959444008933412,1.0730086777031274,1.1576988949963072,1.2868126372752005,2.2344445232889703,2.256950203243925,2.495485217841126,2.56543757382052,3.096966309920848],\"yaxis\":\"y\",\"type\":\"bar\"}],\"name\":\"1924\"},{\"data\":[{\"alignmentgroup\":\"True\",\"hovertemplate\":\"year=1925\\u003cbr\\u003ename=%{x}\\u003cbr\\u003epercentage=%{y}\\u003cextra\\u003e\\u003c\\u002fextra\\u003e\",\"legendgroup\":\"\",\"marker\":{\"color\":\"rgb(76,114,176)\",\"pattern\":{\"shape\":\"\"}},\"name\":\"\",\"offsetgroup\":\"\",\"orientation\":\"v\",\"showlegend\":false,\"textposition\":\"auto\",\"x\":[\"Jennifer\",\"Christopher\",\"Linda\",\"Matthew\",\"Michael\",\"Daniel\",\"Anthony\",\"Patricia\",\"David\",\"Elizabeth\",\"Thomas\",\"Richard\",\"Joseph\",\"George\",\"Charles\",\"James\",\"William\",\"John\",\"Robert\",\"Mary\"],\"xaxis\":\"x\",\"y\":[0.0003857163245005,0.0122572076452404,0.0190286720086949,0.03600019028672,0.1626437168310746,0.1959867502156797,0.2171154333244332,0.3479589820689052,0.3838306002474584,0.598846022471833,0.7185466551751774,1.0018767242055422,1.0605056055296291,1.1472489211728691,1.2769353209438392,2.2734548739757625,2.2970264271396865,2.467127326244438,2.624842445595784,3.036316049099117],\"yaxis\":\"y\",\"type\":\"bar\"}],\"name\":\"1925\"},{\"data\":[{\"alignmentgroup\":\"True\",\"hovertemplate\":\"year=1926\\u003cbr\\u003ename=%{x}\\u003cbr\\u003epercentage=%{y}\\u003cextra\\u003e\\u003c\\u002fextra\\u003e\",\"legendgroup\":\"\",\"marker\":{\"color\":\"rgb(76,114,176)\",\"pattern\":{\"shape\":\"\"}},\"name\":\"\",\"offsetgroup\":\"\",\"orientation\":\"v\",\"showlegend\":false,\"textposition\":\"auto\",\"x\":[\"Jennifer\",\"Christopher\",\"Linda\",\"Matthew\",\"Michael\",\"Daniel\",\"Anthony\",\"Patricia\",\"David\",\"Elizabeth\",\"Thomas\",\"Joseph\",\"Richard\",\"George\",\"Charles\",\"William\",\"James\",\"John\",\"Robert\",\"Mary\"],\"xaxis\":\"x\",\"y\":[0.0004355597988759,0.0117601145696494,0.0208633143661559,0.0340607762720959,0.1531863812646565,0.198049040548875,0.2218306055674995,0.3752347667315941,0.3962287490374128,0.5614365807510444,0.7275590880423155,1.0418590389111702,1.1002676079404294,1.1384662023018464,1.2956597337161613,2.2746239376696504,2.3325098349402587,2.4604337478701126,2.678649207106942,2.9663800102443667],\"yaxis\":\"y\",\"type\":\"bar\"}],\"name\":\"1926\"},{\"data\":[{\"alignmentgroup\":\"True\",\"hovertemplate\":\"year=1927\\u003cbr\\u003ename=%{x}\\u003cbr\\u003epercentage=%{y}\\u003cextra\\u003e\\u003c\\u002fextra\\u003e\",\"legendgroup\":\"\",\"marker\":{\"color\":\"rgb(76,114,176)\",\"pattern\":{\"shape\":\"\"}},\"name\":\"\",\"offsetgroup\":\"\",\"orientation\":\"v\",\"showlegend\":false,\"textposition\":\"auto\",\"x\":[\"Jennifer\",\"Christopher\",\"Linda\",\"Matthew\",\"Michael\",\"Daniel\",\"Anthony\",\"David\",\"Patricia\",\"Elizabeth\",\"Thomas\",\"Joseph\",\"George\",\"Richard\",\"Charles\",\"William\",\"James\",\"John\",\"Robert\",\"Mary\"],\"xaxis\":\"x\",\"y\":[0.0002155771755509,0.0122878990064047,0.0222475645168592,0.0342767709126028,0.1567677220606591,0.2005298886975042,0.2133782883603415,0.4089930174552839,0.4566786886871565,0.542435289121329,0.7391279040940262,1.0206285799284716,1.1294519381465968,1.1610124366472576,1.3901709742579296,2.23342265414307,2.3310791146676557,2.4314087321690727,2.676778673381177,3.057919119755277],\"yaxis\":\"y\",\"type\":\"bar\"}],\"name\":\"1927\"},{\"data\":[{\"alignmentgroup\":\"True\",\"hovertemplate\":\"year=1928\\u003cbr\\u003ename=%{x}\\u003cbr\\u003epercentage=%{y}\\u003cextra\\u003e\\u003c\\u002fextra\\u003e\",\"legendgroup\":\"\",\"marker\":{\"color\":\"rgb(76,114,176)\",\"pattern\":{\"shape\":\"\"}},\"name\":\"\",\"offsetgroup\":\"\",\"orientation\":\"v\",\"showlegend\":false,\"textposition\":\"auto\",\"x\":[\"Jennifer\",\"Christopher\",\"Linda\",\"Matthew\",\"Michael\",\"Daniel\",\"Anthony\",\"David\",\"Elizabeth\",\"Patricia\",\"Thomas\",\"Joseph\",\"George\",\"Richard\",\"Charles\",\"William\",\"James\",\"John\",\"Robert\",\"Mary\"],\"xaxis\":\"x\",\"y\":[0.0003096110798305,0.0117652210335614,0.0245477356151375,0.034676440941023,0.1605112298150162,0.1973107181605917,0.2100047724336448,0.4449553518707806,0.5223581218284215,0.5467731669807745,0.7397493300237383,0.9951784708839528,1.0889906280726134,1.2824090926581924,1.3939133115514568,2.187800350391282,2.3521596036270496,2.396345527734297,2.7039662506230924,2.9706740808199914],\"yaxis\":\"y\",\"type\":\"bar\"}],\"name\":\"1928\"},{\"data\":[{\"alignmentgroup\":\"True\",\"hovertemplate\":\"year=1929\\u003cbr\\u003ename=%{x}\\u003cbr\\u003epercentage=%{y}\\u003cextra\\u003e\\u003c\\u002fextra\\u003e\",\"legendgroup\":\"\",\"marker\":{\"color\":\"rgb(76,114,176)\",\"pattern\":{\"shape\":\"\"}},\"name\":\"\",\"offsetgroup\":\"\",\"orientation\":\"v\",\"showlegend\":false,\"textposition\":\"auto\",\"x\":[\"Jennifer\",\"Christopher\",\"Linda\",\"Matthew\",\"Michael\",\"Daniel\",\"Anthony\",\"Elizabeth\",\"David\",\"Patricia\",\"Thomas\",\"Joseph\",\"George\",\"Richard\",\"Charles\",\"William\",\"John\",\"James\",\"Robert\",\"Mary\"],\"xaxis\":\"x\",\"y\":[0.0007754876562892,0.0124534194215865,0.0235383312144273,0.0333915861413969,0.1595679895117575,0.2008969198998799,0.2182313498639931,0.5158817591161996,0.5188924758994402,0.6234464587356175,0.7478438021886086,0.972780839433456,1.0592705215701892,1.3582894384511417,1.377174843727833,2.196545977978888,2.3960743902500217,2.39612000717098,2.7483282538891847,2.912138617050054],\"yaxis\":\"y\",\"type\":\"bar\"}],\"name\":\"1929\"},{\"data\":[{\"alignmentgroup\":\"True\",\"hovertemplate\":\"year=1930\\u003cbr\\u003ename=%{x}\\u003cbr\\u003epercentage=%{y}\\u003cextra\\u003e\\u003c\\u002fextra\\u003e\",\"legendgroup\":\"\",\"marker\":{\"color\":\"rgb(76,114,176)\",\"pattern\":{\"shape\":\"\"}},\"name\":\"\",\"offsetgroup\":\"\",\"orientation\":\"v\",\"showlegend\":false,\"textposition\":\"auto\",\"x\":[\"Jennifer\",\"Christopher\",\"Linda\",\"Matthew\",\"Michael\",\"Daniel\",\"Anthony\",\"Elizabeth\",\"David\",\"Patricia\",\"Thomas\",\"Joseph\",\"George\",\"Charles\",\"Richard\",\"William\",\"John\",\"James\",\"Robert\",\"Mary\"],\"xaxis\":\"x\",\"y\":[0.0007646360332481,0.0120092835810154,0.0221294663740059,0.0299107624770609,0.160933395703645,0.2018189341873268,0.2115792882587888,0.4967435500701666,0.5559353747616135,0.7107516821992731,0.7707081429239682,0.9499028462451872,1.035766974919938,1.444082616674463,1.4547875211399377,2.139136770897053,2.3768935986470443,2.4458007988197616,2.814580259796337,2.900759238602425],\"yaxis\":\"y\",\"type\":\"bar\"}],\"name\":\"1930\"},{\"data\":[{\"alignmentgroup\":\"True\",\"hovertemplate\":\"year=1931\\u003cbr\\u003ename=%{x}\\u003cbr\\u003epercentage=%{y}\\u003cextra\\u003e\\u003c\\u002fextra\\u003e\",\"legendgroup\":\"\",\"marker\":{\"color\":\"rgb(76,114,176)\",\"pattern\":{\"shape\":\"\"}},\"name\":\"\",\"offsetgroup\":\"\",\"orientation\":\"v\",\"showlegend\":false,\"textposition\":\"auto\",\"x\":[\"Jennifer\",\"Christopher\",\"Linda\",\"Matthew\",\"Michael\",\"Anthony\",\"Daniel\",\"Elizabeth\",\"David\",\"Patricia\",\"Thomas\",\"Joseph\",\"George\",\"Charles\",\"Richard\",\"William\",\"John\",\"James\",\"Mary\",\"Robert\"],\"xaxis\":\"x\",\"y\":[0.0012355370879721,0.0112623957634383,0.0254235516178882,0.0288925595956562,0.1669875895051579,0.2065247763202664,0.208473123266684,0.4913635957550747,0.5625495402851619,0.7848511748056881,0.8047148095277018,0.9238015765453242,0.9911858684970356,1.4324151708747794,1.519377973605126,2.067861399350297,2.316536998633306,2.450260128077676,2.880797282578737,2.892297281628324],\"yaxis\":\"y\",\"type\":\"bar\"}],\"name\":\"1931\"},{\"data\":[{\"alignmentgroup\":\"True\",\"hovertemplate\":\"year=1932\\u003cbr\\u003ename=%{x}\\u003cbr\\u003epercentage=%{y}\\u003cextra\\u003e\\u003c\\u002fextra\\u003e\",\"legendgroup\":\"\",\"marker\":{\"color\":\"rgb(76,114,176)\",\"pattern\":{\"shape\":\"\"}},\"name\":\"\",\"offsetgroup\":\"\",\"orientation\":\"v\",\"showlegend\":false,\"textposition\":\"auto\",\"x\":[\"Jennifer\",\"Christopher\",\"Matthew\",\"Linda\",\"Michael\",\"Anthony\",\"Daniel\",\"Elizabeth\",\"David\",\"Thomas\",\"Patricia\",\"Joseph\",\"George\",\"Charles\",\"Richard\",\"William\",\"John\",\"James\",\"Robert\",\"Mary\"],\"xaxis\":\"x\",\"y\":[0.0011841253316142,0.0115570632365555,0.0332502393117295,0.0368973453331015,0.1717929031106025,0.2016802264805474,0.2116268792661075,0.4760183833089482,0.5777110667879842,0.8017002145161451,0.8542280142265555,0.8843047976495586,0.9762402883960928,1.4819565350219277,1.5130279837234868,2.006476691913797,2.317143813916125,2.474490387981033,2.8223864104093144,2.851800083646613],\"yaxis\":\"y\",\"type\":\"bar\"}],\"name\":\"1932\"},{\"data\":[{\"alignmentgroup\":\"True\",\"hovertemplate\":\"year=1933\\u003cbr\\u003ename=%{x}\\u003cbr\\u003epercentage=%{y}\\u003cextra\\u003e\\u003c\\u002fextra\\u003e\",\"legendgroup\":\"\",\"marker\":{\"color\":\"rgb(76,114,176)\",\"pattern\":{\"shape\":\"\"}},\"name\":\"\",\"offsetgroup\":\"\",\"orientation\":\"v\",\"showlegend\":false,\"textposition\":\"auto\",\"x\":[\"Jennifer\",\"Christopher\",\"Matthew\",\"Linda\",\"Michael\",\"Anthony\",\"Daniel\",\"Elizabeth\",\"David\",\"Thomas\",\"Joseph\",\"George\",\"Patricia\",\"Charles\",\"Richard\",\"William\",\"John\",\"James\",\"Robert\",\"Mary\"],\"xaxis\":\"x\",\"y\":[0.0015004441314629,0.0102530348983299,0.0290586013459984,0.0395617102662388,0.1788029256659971,0.2000092027240063,0.216364043756952,0.4528840536798892,0.604678984979554,0.8301957379384297,0.8634055680481423,0.9254739402863248,0.9356769603802726,1.4603322583484712,1.5734157310563928,1.9626309387578724,2.3231876635484103,2.571161063674848,2.725606779606764,2.7926266174787737],\"yaxis\":\"y\",\"type\":\"bar\"}],\"name\":\"1933\"},{\"data\":[{\"alignmentgroup\":\"True\",\"hovertemplate\":\"year=1934\\u003cbr\\u003ename=%{x}\\u003cbr\\u003epercentage=%{y}\\u003cextra\\u003e\\u003c\\u002fextra\\u003e\",\"legendgroup\":\"\",\"marker\":{\"color\":\"rgb(76,114,176)\",\"pattern\":{\"shape\":\"\"}},\"name\":\"\",\"offsetgroup\":\"\",\"orientation\":\"v\",\"showlegend\":false,\"textposition\":\"auto\",\"x\":[\"Jennifer\",\"Christopher\",\"Matthew\",\"Linda\",\"Anthony\",\"Michael\",\"Daniel\",\"Elizabeth\",\"David\",\"Joseph\",\"Thomas\",\"George\",\"Patricia\",\"Charles\",\"Richard\",\"William\",\"John\",\"James\",\"Robert\",\"Mary\"],\"xaxis\":\"x\",\"y\":[0.0019742233838574,0.0130491350493989,0.029613350757861,0.0481517898501805,0.1857696052419964,0.198722436711695,0.2178868490720668,0.4520971549033449,0.677784593931141,0.8280181782637043,0.839430152458197,0.898367943234818,1.0069502293469752,1.4426276239114084,1.6031656912719103,1.9430210240344843,2.262989667588934,2.6256689487404934,2.7014117141748275,2.755967692075082],\"yaxis\":\"y\",\"type\":\"bar\"}],\"name\":\"1934\"},{\"data\":[{\"alignmentgroup\":\"True\",\"hovertemplate\":\"year=1935\\u003cbr\\u003ename=%{x}\\u003cbr\\u003epercentage=%{y}\\u003cextra\\u003e\\u003c\\u002fextra\\u003e\",\"legendgroup\":\"\",\"marker\":{\"color\":\"rgb(76,114,176)\",\"pattern\":{\"shape\":\"\"}},\"name\":\"\",\"offsetgroup\":\"\",\"orientation\":\"v\",\"showlegend\":false,\"textposition\":\"auto\",\"x\":[\"Jennifer\",\"Christopher\",\"Matthew\",\"Linda\",\"Anthony\",\"Daniel\",\"Michael\",\"Elizabeth\",\"David\",\"Joseph\",\"Thomas\",\"George\",\"Patricia\",\"Charles\",\"Richard\",\"William\",\"John\",\"James\",\"Mary\",\"Robert\"],\"xaxis\":\"x\",\"y\":[0.0017226372236064,0.0128719281430592,0.0312945762288504,0.057756198024805,0.1881981166790042,0.2204018625536469,0.2363362568720066,0.4362100258443435,0.7523139563761263,0.8256217404473785,0.8495951084759016,0.8956278031733848,1.0987554424569783,1.4417516540906177,1.6305239831774905,1.931315582832772,2.283164235754388,2.643099713420157,2.648554731294911,2.7158332850835407],\"yaxis\":\"y\",\"type\":\"bar\"}],\"name\":\"1935\"},{\"data\":[{\"alignmentgroup\":\"True\",\"hovertemplate\":\"year=1936\\u003cbr\\u003ename=%{x}\\u003cbr\\u003epercentage=%{y}\\u003cextra\\u003e\\u003c\\u002fextra\\u003e\",\"legendgroup\":\"\",\"marker\":{\"color\":\"rgb(76,114,176)\",\"pattern\":{\"shape\":\"\"}},\"name\":\"\",\"offsetgroup\":\"\",\"orientation\":\"v\",\"showlegend\":false,\"textposition\":\"auto\",\"x\":[\"Jennifer\",\"Christopher\",\"Matthew\",\"Linda\",\"Anthony\",\"Daniel\",\"Michael\",\"Elizabeth\",\"Joseph\",\"David\",\"George\",\"Thomas\",\"Patricia\",\"Charles\",\"Richard\",\"William\",\"John\",\"Mary\",\"James\",\"Robert\"],\"xaxis\":\"x\",\"y\":[0.0020216363220659,0.0133331728860061,0.0292655924718114,0.1178806512557009,0.19224798738884,0.2327288480283029,0.2811037171634517,0.4286831686742638,0.8434555540847883,0.843744359273655,0.882107315194763,0.8866800640184835,1.156039036834695,1.406818209167158,1.616731447275003,1.9036594024139304,2.30456913875886,2.631304075763228,2.6438671014789232,2.8265363834370225],\"yaxis\":\"y\",\"type\":\"bar\"}],\"name\":\"1936\"},{\"data\":[{\"alignmentgroup\":\"True\",\"hovertemplate\":\"year=1937\\u003cbr\\u003ename=%{x}\\u003cbr\\u003epercentage=%{y}\\u003cextra\\u003e\\u003c\\u002fextra\\u003e\",\"legendgroup\":\"\",\"marker\":{\"color\":\"rgb(76,114,176)\",\"pattern\":{\"shape\":\"\"}},\"name\":\"\",\"offsetgroup\":\"\",\"orientation\":\"v\",\"showlegend\":false,\"textposition\":\"auto\",\"x\":[\"Jennifer\",\"Christopher\",\"Matthew\",\"Anthony\",\"Linda\",\"Daniel\",\"Michael\",\"Elizabeth\",\"Joseph\",\"George\",\"Thomas\",\"David\",\"Patricia\",\"Charles\",\"Richard\",\"William\",\"John\",\"Mary\",\"James\",\"Robert\"],\"xaxis\":\"x\",\"y\":[0.0017835150641314,0.0137987744435433,0.0284423718122014,0.2047287555195097,0.2063714667627887,0.2411969451203028,0.3352069628428104,0.4427810819741071,0.8159112072331861,0.8720919317533268,0.9309948634766152,0.9877388032801658,1.264230572827491,1.440845498783455,1.553160013216785,1.9189683397915356,2.2983407677750742,2.625099501366736,2.666308086269562,2.912949445796161],\"yaxis\":\"y\",\"type\":\"bar\"}],\"name\":\"1937\"},{\"data\":[{\"alignmentgroup\":\"True\",\"hovertemplate\":\"year=1938\\u003cbr\\u003ename=%{x}\\u003cbr\\u003epercentage=%{y}\\u003cextra\\u003e\\u003c\\u002fextra\\u003e\",\"legendgroup\":\"\",\"marker\":{\"color\":\"rgb(76,114,176)\",\"pattern\":{\"shape\":\"\"}},\"name\":\"\",\"offsetgroup\":\"\",\"orientation\":\"v\",\"showlegend\":false,\"textposition\":\"auto\",\"x\":[\"Jennifer\",\"Christopher\",\"Matthew\",\"Anthony\",\"Daniel\",\"Linda\",\"Michael\",\"Elizabeth\",\"Joseph\",\"George\",\"Thomas\",\"David\",\"Patricia\",\"Charles\",\"Richard\",\"William\",\"John\",\"Mary\",\"James\",\"Robert\"],\"xaxis\":\"x\",\"y\":[0.0023050191113202,0.0142820791995527,0.0274342470700269,0.212649312132581,0.2535972986983874,0.3197649061292266,0.4128244031921351,0.445049474297455,0.8051296166482039,0.8395241175053546,0.9697350990683656,1.0421398170357183,1.2503146803051484,1.4144230017405155,1.5595488128473631,1.923832225342284,2.293313229950966,2.553599603717499,2.683584603014694,2.824281161711553],\"yaxis\":\"y\",\"type\":\"bar\"}],\"name\":\"1938\"},{\"data\":[{\"alignmentgroup\":\"True\",\"hovertemplate\":\"year=1939\\u003cbr\\u003ename=%{x}\\u003cbr\\u003epercentage=%{y}\\u003cextra\\u003e\\u003c\\u002fextra\\u003e\",\"legendgroup\":\"\",\"marker\":{\"color\":\"rgb(76,114,176)\",\"pattern\":{\"shape\":\"\"}},\"name\":\"\",\"offsetgroup\":\"\",\"orientation\":\"v\",\"showlegend\":false,\"textposition\":\"auto\",\"x\":[\"Jennifer\",\"Christopher\",\"Matthew\",\"Anthony\",\"Daniel\",\"Elizabeth\",\"Linda\",\"Michael\",\"Joseph\",\"George\",\"Thomas\",\"David\",\"Patricia\",\"Charles\",\"Richard\",\"William\",\"John\",\"Mary\",\"Robert\",\"James\"],\"xaxis\":\"x\",\"y\":[0.002813826781731,0.0165198862669368,0.0282290364231723,0.2104016283887891,0.2641820273621962,0.4429507966079772,0.488198946630329,0.495097360675863,0.8069329061157617,0.818278981848548,1.007713062283148,1.15521204680937,1.3531783761950256,1.4038726425691146,1.6105073738146187,1.916669881388124,2.325945525221192,2.5040335299230057,2.716976679275939,2.718565129878529],\"yaxis\":\"y\",\"type\":\"bar\"}],\"name\":\"1939\"},{\"data\":[{\"alignmentgroup\":\"True\",\"hovertemplate\":\"year=1940\\u003cbr\\u003ename=%{x}\\u003cbr\\u003epercentage=%{y}\\u003cextra\\u003e\\u003c\\u002fextra\\u003e\",\"legendgroup\":\"\",\"marker\":{\"color\":\"rgb(76,114,176)\",\"pattern\":{\"shape\":\"\"}},\"name\":\"\",\"offsetgroup\":\"\",\"orientation\":\"v\",\"showlegend\":false,\"textposition\":\"auto\",\"x\":[\"Jennifer\",\"Christopher\",\"Matthew\",\"Anthony\",\"Daniel\",\"Elizabeth\",\"Michael\",\"Joseph\",\"Linda\",\"George\",\"Thomas\",\"David\",\"Charles\",\"Patricia\",\"Richard\",\"William\",\"John\",\"Mary\",\"Robert\",\"James\"],\"xaxis\":\"x\",\"y\":[0.00442977696073,0.021975168060092,0.0290541253600822,0.2079389420389742,0.2713021242517694,0.4345090048245482,0.5779556058176001,0.7934946553872385,0.8002696083860021,0.8008776169884553,1.0456010794758446,1.2061587797093634,1.382133840933658,1.424694443105378,1.6301144923627604,1.95105617608624,2.388257790435938,2.454443869731551,2.6665520136159184,2.724833981079641],\"yaxis\":\"y\",\"type\":\"bar\"}],\"name\":\"1940\"},{\"data\":[{\"alignmentgroup\":\"True\",\"hovertemplate\":\"year=1941\\u003cbr\\u003ename=%{x}\\u003cbr\\u003epercentage=%{y}\\u003cextra\\u003e\\u003c\\u002fextra\\u003e\",\"legendgroup\":\"\",\"marker\":{\"color\":\"rgb(76,114,176)\",\"pattern\":{\"shape\":\"\"}},\"name\":\"\",\"offsetgroup\":\"\",\"orientation\":\"v\",\"showlegend\":false,\"textposition\":\"auto\",\"x\":[\"Jennifer\",\"Christopher\",\"Matthew\",\"Anthony\",\"Daniel\",\"Elizabeth\",\"Michael\",\"George\",\"Joseph\",\"Linda\",\"Thomas\",\"David\",\"Charles\",\"Patricia\",\"Richard\",\"William\",\"John\",\"Mary\",\"Robert\",\"James\"],\"xaxis\":\"x\",\"y\":[0.0055821437073643,0.0256532339492845,0.0298398417298078,0.2158155265685413,0.2906408793518146,0.4234220182733116,0.6579130991569321,0.7951271169048655,0.815690749238612,0.9769572391373946,1.0966039222768578,1.257788321827003,1.350222054393065,1.521011024733822,1.610161143354376,1.9674183406256924,2.369866274822069,2.395396373248397,2.644909987932719,2.750108769711945],\"yaxis\":\"y\",\"type\":\"bar\"}],\"name\":\"1941\"},{\"data\":[{\"alignmentgroup\":\"True\",\"hovertemplate\":\"year=1942\\u003cbr\\u003ename=%{x}\\u003cbr\\u003epercentage=%{y}\\u003cextra\\u003e\\u003c\\u002fextra\\u003e\",\"legendgroup\":\"\",\"marker\":{\"color\":\"rgb(76,114,176)\",\"pattern\":{\"shape\":\"\"}},\"name\":\"\",\"offsetgroup\":\"\",\"orientation\":\"v\",\"showlegend\":false,\"textposition\":\"auto\",\"x\":[\"Jennifer\",\"Christopher\",\"Matthew\",\"Anthony\",\"Daniel\",\"Elizabeth\",\"George\",\"Michael\",\"Joseph\",\"Thomas\",\"Linda\",\"Charles\",\"David\",\"Patricia\",\"Richard\",\"William\",\"Mary\",\"John\",\"Robert\",\"James\"],\"xaxis\":\"x\",\"y\":[0.0072481647134449,0.030347113875989,0.0308230034783869,0.2281341540110538,0.312439827420466,0.4113516509342445,0.7842660647517357,0.801141842190615,0.8238747224282377,1.1422082595399392,1.1616099125607766,1.3183606262121457,1.31843383999713,1.4503650805388242,1.600270305294162,2.0155388937250662,2.325709093811019,2.4262316205944523,2.637563210951611,2.835386857979168],\"yaxis\":\"y\",\"type\":\"bar\"}],\"name\":\"1942\"},{\"data\":[{\"alignmentgroup\":\"True\",\"hovertemplate\":\"year=1943\\u003cbr\\u003ename=%{x}\\u003cbr\\u003epercentage=%{y}\\u003cextra\\u003e\\u003c\\u002fextra\\u003e\",\"legendgroup\":\"\",\"marker\":{\"color\":\"rgb(76,114,176)\",\"pattern\":{\"shape\":\"\"}},\"name\":\"\",\"offsetgroup\":\"\",\"orientation\":\"v\",\"showlegend\":false,\"textposition\":\"auto\",\"x\":[\"Jennifer\",\"Matthew\",\"Christopher\",\"Anthony\",\"Daniel\",\"Elizabeth\",\"George\",\"Joseph\",\"Michael\",\"Thomas\",\"Charles\",\"David\",\"Linda\",\"Patricia\",\"Richard\",\"William\",\"Mary\",\"John\",\"Robert\",\"James\"],\"xaxis\":\"x\",\"y\":[0.0119397443264956,0.029123055894301,0.0320282755820536,0.2205132602021041,0.3260223361792677,0.4138520874712046,0.7738158926854363,0.8110523060004124,0.883399362127131,1.1679691734933424,1.304018485700296,1.3232567087545606,1.3668350040708506,1.408960689543264,1.6458423826202673,1.9865325352718477,2.353688530688686,2.4501630820271063,2.6619252536575653,2.853811471082789],\"yaxis\":\"y\",\"type\":\"bar\"}],\"name\":\"1943\"},{\"data\":[{\"alignmentgroup\":\"True\",\"hovertemplate\":\"year=1944\\u003cbr\\u003ename=%{x}\\u003cbr\\u003epercentage=%{y}\\u003cextra\\u003e\\u003c\\u002fextra\\u003e\",\"legendgroup\":\"\",\"marker\":{\"color\":\"rgb(76,114,176)\",\"pattern\":{\"shape\":\"\"}},\"name\":\"\",\"offsetgroup\":\"\",\"orientation\":\"v\",\"showlegend\":false,\"textposition\":\"auto\",\"x\":[\"Jennifer\",\"Matthew\",\"Christopher\",\"Anthony\",\"Daniel\",\"Elizabeth\",\"George\",\"Joseph\",\"Michael\",\"Thomas\",\"Charles\",\"Patricia\",\"David\",\"Linda\",\"Richard\",\"William\",\"Mary\",\"John\",\"Robert\",\"James\"],\"xaxis\":\"x\",\"y\":[0.0254274431256126,0.0284385877062773,0.0376207199460819,0.2088470401749884,0.3472109923877521,0.4113743941930262,0.7638641832530547,0.7902209919899837,0.9994397784094986,1.1783984205245563,1.2937884548255822,1.375089358503528,1.393379273734232,1.4322267562872513,1.7002929732153111,1.951965180759753,2.331703969543574,2.4830046910658594,2.641071194238528,2.8695836107489683],\"yaxis\":\"y\",\"type\":\"bar\"}],\"name\":\"1944\"},{\"data\":[{\"alignmentgroup\":\"True\",\"hovertemplate\":\"year=1945\\u003cbr\\u003ename=%{x}\\u003cbr\\u003epercentage=%{y}\\u003cextra\\u003e\\u003c\\u002fextra\\u003e\",\"legendgroup\":\"\",\"marker\":{\"color\":\"rgb(76,114,176)\",\"pattern\":{\"shape\":\"\"}},\"name\":\"\",\"offsetgroup\":\"\",\"orientation\":\"v\",\"showlegend\":false,\"textposition\":\"auto\",\"x\":[\"Matthew\",\"Jennifer\",\"Christopher\",\"Anthony\",\"Daniel\",\"Elizabeth\",\"George\",\"Joseph\",\"Michael\",\"Thomas\",\"Charles\",\"Patricia\",\"David\",\"Linda\",\"Richard\",\"William\",\"Mary\",\"John\",\"Robert\",\"James\"],\"xaxis\":\"x\",\"y\":[0.0275175858105757,0.0371298931827631,0.0439150513278366,0.214712559968547,0.3671147509715027,0.3908251091562316,0.733136337575188,0.787040649505494,1.1331214102272689,1.205081781888076,1.2285659681346357,1.354769909633002,1.4020021493873192,1.5671076642507733,1.7397145483968368,1.898449553668528,2.2420424230704423,2.499727651291121,2.643836871227876,2.816104497466686],\"yaxis\":\"y\",\"type\":\"bar\"}],\"name\":\"1945\"},{\"data\":[{\"alignmentgroup\":\"True\",\"hovertemplate\":\"year=1946\\u003cbr\\u003ename=%{x}\\u003cbr\\u003epercentage=%{y}\\u003cextra\\u003e\\u003c\\u002fextra\\u003e\",\"legendgroup\":\"\",\"marker\":{\"color\":\"rgb(76,114,176)\",\"pattern\":{\"shape\":\"\"}},\"name\":\"\",\"offsetgroup\":\"\",\"orientation\":\"v\",\"showlegend\":false,\"textposition\":\"auto\",\"x\":[\"Matthew\",\"Christopher\",\"Jennifer\",\"Anthony\",\"Elizabeth\",\"Daniel\",\"George\",\"Joseph\",\"Charles\",\"Thomas\",\"Michael\",\"Patricia\",\"David\",\"Linda\",\"Richard\",\"William\",\"Mary\",\"John\",\"Robert\",\"James\"],\"xaxis\":\"x\",\"y\":[0.0280416418381296,0.0507002899305468,0.0544245704871734,0.2126908459061706,0.3684534033039063,0.4037245309284287,0.6789457344156072,0.761850097394631,1.2000320475906725,1.2199991988102332,1.2944222169922337,1.4524694170843704,1.4567570341957807,1.6532363059142827,1.8461164829772208,1.8837348462466763,2.1173943305809124,2.487068296420184,2.6399515780934686,2.744419212530608],\"yaxis\":\"y\",\"type\":\"bar\"}],\"name\":\"1946\"},{\"data\":[{\"alignmentgroup\":\"True\",\"hovertemplate\":\"year=1947\\u003cbr\\u003ename=%{x}\\u003cbr\\u003epercentage=%{y}\\u003cextra\\u003e\\u003c\\u002fextra\\u003e\",\"legendgroup\":\"\",\"marker\":{\"color\":\"rgb(76,114,176)\",\"pattern\":{\"shape\":\"\"}},\"name\":\"\",\"offsetgroup\":\"\",\"orientation\":\"v\",\"showlegend\":false,\"textposition\":\"auto\",\"x\":[\"Matthew\",\"Jennifer\",\"Christopher\",\"Anthony\",\"Elizabeth\",\"Daniel\",\"George\",\"Joseph\",\"Charles\",\"Thomas\",\"Michael\",\"Patricia\",\"David\",\"Richard\",\"William\",\"Mary\",\"John\",\"Robert\",\"James\",\"Linda\"],\"xaxis\":\"x\",\"y\":[0.0290376328832592,0.0557988930165881,0.0639327615010957,0.2231122901364768,0.3740191470708912,0.4226557941181859,0.6672270615192512,0.7658606271351405,1.1357156777122563,1.247591070178351,1.4067150775271484,1.4268415439137287,1.6078131775332003,1.628800223861827,1.864043915116836,1.9951296727408805,2.4574276654798064,2.550842230156831,2.6376775223736906,2.7735381106439303],\"yaxis\":\"y\",\"type\":\"bar\"}],\"name\":\"1947\"},{\"data\":[{\"alignmentgroup\":\"True\",\"hovertemplate\":\"year=1948\\u003cbr\\u003ename=%{x}\\u003cbr\\u003epercentage=%{y}\\u003cextra\\u003e\\u003c\\u002fextra\\u003e\",\"legendgroup\":\"\",\"marker\":{\"color\":\"rgb(76,114,176)\",\"pattern\":{\"shape\":\"\"}},\"name\":\"\",\"offsetgroup\":\"\",\"orientation\":\"v\",\"showlegend\":false,\"textposition\":\"auto\",\"x\":[\"Matthew\",\"Jennifer\",\"Christopher\",\"Anthony\",\"Elizabeth\",\"Daniel\",\"George\",\"Joseph\",\"Charles\",\"Thomas\",\"Patricia\",\"Richard\",\"Michael\",\"David\",\"William\",\"Mary\",\"John\",\"Robert\",\"James\",\"Linda\"],\"xaxis\":\"x\",\"y\":[0.0307025674297896,0.0545115395310038,0.0889795161738808,0.2288499860969506,0.3836083047548428,0.4795103809435536,0.6387582259708963,0.7783390490314209,1.1248435906942256,1.2707966447307442,1.3391822689776625,1.479834785429604,1.527423764945778,1.6435431921401429,1.7995759569932337,1.9917276856057091,2.404793076281398,2.481781212345908,2.5735413384002226,2.7928329780331818],\"yaxis\":\"y\",\"type\":\"bar\"}],\"name\":\"1948\"},{\"data\":[{\"alignmentgroup\":\"True\",\"hovertemplate\":\"year=1949\\u003cbr\\u003ename=%{x}\\u003cbr\\u003epercentage=%{y}\\u003cextra\\u003e\\u003c\\u002fextra\\u003e\",\"legendgroup\":\"\",\"marker\":{\"color\":\"rgb(76,114,176)\",\"pattern\":{\"shape\":\"\"}},\"name\":\"\",\"offsetgroup\":\"\",\"orientation\":\"v\",\"showlegend\":false,\"textposition\":\"auto\",\"x\":[\"Matthew\",\"Jennifer\",\"Christopher\",\"Anthony\",\"Elizabeth\",\"Daniel\",\"George\",\"Joseph\",\"Charles\",\"Thomas\",\"Patricia\",\"Richard\",\"David\",\"Michael\",\"William\",\"Mary\",\"John\",\"Robert\",\"James\",\"Linda\"],\"xaxis\":\"x\",\"y\":[0.0349813600144402,0.0751281382426616,0.115619277685135,0.2431477140298211,0.3942361967829201,0.5246917034487488,0.6146560706721041,0.7593164774258311,1.1532370097623534,1.2998487967301755,1.332419628244851,1.465228269874736,1.713971853636153,1.7286359020097206,1.7685244093272532,1.923802620187086,2.3350560003076293,2.412709454121473,2.4999189316308112,2.616743473565829],\"yaxis\":\"y\",\"type\":\"bar\"}],\"name\":\"1949\"},{\"data\":[{\"alignmentgroup\":\"True\",\"hovertemplate\":\"year=1950\\u003cbr\\u003ename=%{x}\\u003cbr\\u003epercentage=%{y}\\u003cextra\\u003e\\u003c\\u002fextra\\u003e\",\"legendgroup\":\"\",\"marker\":{\"color\":\"rgb(76,114,176)\",\"pattern\":{\"shape\":\"\"}},\"name\":\"\",\"offsetgroup\":\"\",\"orientation\":\"v\",\"showlegend\":false,\"textposition\":\"auto\",\"x\":[\"Matthew\",\"Jennifer\",\"Christopher\",\"Anthony\",\"Elizabeth\",\"Daniel\",\"George\",\"Joseph\",\"Charles\",\"Thomas\",\"Patricia\",\"Richard\",\"William\",\"David\",\"Michael\",\"Mary\",\"John\",\"Linda\",\"Robert\",\"James\"],\"xaxis\":\"x\",\"y\":[0.0371067681603377,0.0801791628941452,0.1389220312587415,0.246531658923721,0.4099727008361011,0.5490374504339208,0.579208107315057,0.7731052427867297,1.1203960490996756,1.3037891148151912,1.3708952778497712,1.4585243380437996,1.735711896201523,1.7371961669279363,1.864415294382264,1.8724646087062755,2.2719903271218507,2.299506422896132,2.390731985234932,2.468427849029116],\"yaxis\":\"y\",\"type\":\"bar\"}],\"name\":\"1950\"},{\"data\":[{\"alignmentgroup\":\"True\",\"hovertemplate\":\"year=1951\\u003cbr\\u003ename=%{x}\\u003cbr\\u003epercentage=%{y}\\u003cextra\\u003e\\u003c\\u002fextra\\u003e\",\"legendgroup\":\"\",\"marker\":{\"color\":\"rgb(76,114,176)\",\"pattern\":{\"shape\":\"\"}},\"name\":\"\",\"offsetgroup\":\"\",\"orientation\":\"v\",\"showlegend\":false,\"textposition\":\"auto\",\"x\":[\"Matthew\",\"Jennifer\",\"Christopher\",\"Anthony\",\"Elizabeth\",\"George\",\"Daniel\",\"Joseph\",\"Charles\",\"Thomas\",\"Richard\",\"Patricia\",\"William\",\"David\",\"Mary\",\"Michael\",\"Linda\",\"John\",\"Robert\",\"James\"],\"xaxis\":\"x\",\"y\":[0.0435152622384978,0.0809769352822452,0.1567689578461166,0.2680681313818878,0.4112911654245045,0.5517995854784439,0.574195150885032,0.7656297293665584,1.0738741477808709,1.313031640183345,1.4832650834133014,1.5357657179543212,1.7072750297589558,1.761540163392616,1.7884962803001818,1.9810167043771791,2.0116918424492334,2.219767004681352,2.3498241608788835,2.3754772630718843],\"yaxis\":\"y\",\"type\":\"bar\"}],\"name\":\"1951\"},{\"data\":[{\"alignmentgroup\":\"True\",\"hovertemplate\":\"year=1952\\u003cbr\\u003ename=%{x}\\u003cbr\\u003epercentage=%{y}\\u003cextra\\u003e\\u003c\\u002fextra\\u003e\",\"legendgroup\":\"\",\"marker\":{\"color\":\"rgb(76,114,176)\",\"pattern\":{\"shape\":\"\"}},\"name\":\"\",\"offsetgroup\":\"\",\"orientation\":\"v\",\"showlegend\":false,\"textposition\":\"auto\",\"x\":[\"Matthew\",\"Jennifer\",\"Christopher\",\"Anthony\",\"Elizabeth\",\"George\",\"Daniel\",\"Joseph\",\"Charles\",\"Thomas\",\"Patricia\",\"Richard\",\"William\",\"Mary\",\"Linda\",\"David\",\"Michael\",\"John\",\"Robert\",\"James\"],\"xaxis\":\"x\",\"y\":[0.0535803523612479,0.0929954813464018,0.1663228923174463,0.2954949850369954,0.4226133836611258,0.5246135237335947,0.6175036874340777,0.7524945800906468,1.026610083006103,1.2828742449383024,1.4005667142526896,1.539033089224583,1.66354487611222,1.7321066636054336,1.7697840514329255,1.892716073631779,2.0861056009503867,2.194082517428754,2.284918987033818,2.2991631986443517],\"yaxis\":\"y\",\"type\":\"bar\"}],\"name\":\"1952\"},{\"data\":[{\"alignmentgroup\":\"True\",\"hovertemplate\":\"year=1953\\u003cbr\\u003ename=%{x}\\u003cbr\\u003epercentage=%{y}\\u003cextra\\u003e\\u003c\\u002fextra\\u003e\",\"legendgroup\":\"\",\"marker\":{\"color\":\"rgb(76,114,176)\",\"pattern\":{\"shape\":\"\"}},\"name\":\"\",\"offsetgroup\":\"\",\"orientation\":\"v\",\"showlegend\":false,\"textposition\":\"auto\",\"x\":[\"Matthew\",\"Jennifer\",\"Christopher\",\"Anthony\",\"Elizabeth\",\"George\",\"Daniel\",\"Joseph\",\"Charles\",\"Thomas\",\"Patricia\",\"Richard\",\"Linda\",\"William\",\"Mary\",\"David\",\"John\",\"Michael\",\"James\",\"Robert\"],\"xaxis\":\"x\",\"y\":[0.06178623726486,0.0877618876227453,0.1583710231110629,0.3044159384099424,0.4185686716010888,0.5003621280726716,0.610778104369177,0.7609490220725559,1.0006464070433716,1.2224125488600426,1.3272752892159012,1.518628381862301,1.5931818718505173,1.6079991509257947,1.6746379822135564,1.9791577194261276,2.08464325259776,2.191062974993052,2.239874361929298,2.2440263140344543],\"yaxis\":\"y\",\"type\":\"bar\"}],\"name\":\"1953\"},{\"data\":[{\"alignmentgroup\":\"True\",\"hovertemplate\":\"year=1954\\u003cbr\\u003ename=%{x}\\u003cbr\\u003epercentage=%{y}\\u003cextra\\u003e\\u003c\\u002fextra\\u003e\",\"legendgroup\":\"\",\"marker\":{\"color\":\"rgb(76,114,176)\",\"pattern\":{\"shape\":\"\"}},\"name\":\"\",\"offsetgroup\":\"\",\"orientation\":\"v\",\"showlegend\":false,\"textposition\":\"auto\",\"x\":[\"Matthew\",\"Jennifer\",\"Christopher\",\"Anthony\",\"Elizabeth\",\"George\",\"Daniel\",\"Joseph\",\"Charles\",\"Thomas\",\"Patricia\",\"Linda\",\"Richard\",\"William\",\"Mary\",\"David\",\"John\",\"Robert\",\"James\",\"Michael\"],\"xaxis\":\"x\",\"y\":[0.0675256424105247,0.0998816793989011,0.1535906911078677,0.3310715927560661,0.4176893066814713,0.4723026796727217,0.6361176774997426,0.7862918926523158,0.944303905584682,1.186672729236744,1.2371913553109872,1.3939473109068483,1.4357488990657443,1.5464075504118613,1.7130109955259236,2.0025070904436646,2.0439318614016093,2.173707705409337,2.173883553436448,2.230280527845535],\"yaxis\":\"y\",\"type\":\"bar\"}],\"name\":\"1954\"},{\"data\":[{\"alignmentgroup\":\"True\",\"hovertemplate\":\"year=1955\\u003cbr\\u003ename=%{x}\\u003cbr\\u003epercentage=%{y}\\u003cextra\\u003e\\u003c\\u002fextra\\u003e\",\"legendgroup\":\"\",\"marker\":{\"color\":\"rgb(76,114,176)\",\"pattern\":{\"shape\":\"\"}},\"name\":\"\",\"offsetgroup\":\"\",\"orientation\":\"v\",\"showlegend\":false,\"textposition\":\"auto\",\"x\":[\"Matthew\",\"Jennifer\",\"Christopher\",\"Anthony\",\"Elizabeth\",\"George\",\"Daniel\",\"Joseph\",\"Charles\",\"Thomas\",\"Patricia\",\"Linda\",\"Richard\",\"William\",\"Mary\",\"John\",\"Robert\",\"James\",\"David\",\"Michael\"],\"xaxis\":\"x\",\"y\":[0.0818417023074079,0.1026881736498609,0.1979543061288127,0.3544647313569782,0.4168547083137819,0.4551853169111955,0.6600884468208259,0.7887039522120174,0.8845927391516158,1.1439158689217717,1.1536292785078608,1.2802771958034085,1.337162907328095,1.496836417216346,1.5770841241044984,2.000115564667896,2.091720488918245,2.102629395068776,2.1532138434517174,2.206836845602615],\"yaxis\":\"y\",\"type\":\"bar\"}],\"name\":\"1955\"},{\"data\":[{\"alignmentgroup\":\"True\",\"hovertemplate\":\"year=1956\\u003cbr\\u003ename=%{x}\\u003cbr\\u003epercentage=%{y}\\u003cextra\\u003e\\u003c\\u002fextra\\u003e\",\"legendgroup\":\"\",\"marker\":{\"color\":\"rgb(76,114,176)\",\"pattern\":{\"shape\":\"\"}},\"name\":\"\",\"offsetgroup\":\"\",\"orientation\":\"v\",\"showlegend\":false,\"textposition\":\"auto\",\"x\":[\"Matthew\",\"Jennifer\",\"Christopher\",\"Anthony\",\"Elizabeth\",\"George\",\"Daniel\",\"Joseph\",\"Charles\",\"Patricia\",\"Thomas\",\"Linda\",\"Richard\",\"William\",\"Mary\",\"John\",\"David\",\"Robert\",\"James\",\"Michael\"],\"xaxis\":\"x\",\"y\":[0.106061359394725,0.1144046266327276,0.2041432568089185,0.3791578393363222,0.3974451169452,0.4202435797467188,0.6479129098720982,0.7962241865011271,0.8583863781610129,1.053458757216987,1.090057566118574,1.1687122627838136,1.2863426293661178,1.434484130208327,1.5009877312740338,1.9651789861232547,1.9839998447764235,2.0403411523167723,2.0651284171924664,2.205508739208627],\"yaxis\":\"y\",\"type\":\"bar\"}],\"name\":\"1956\"},{\"data\":[{\"alignmentgroup\":\"True\",\"hovertemplate\":\"year=1957\\u003cbr\\u003ename=%{x}\\u003cbr\\u003epercentage=%{y}\\u003cextra\\u003e\\u003c\\u002fextra\\u003e\",\"legendgroup\":\"\",\"marker\":{\"color\":\"rgb(76,114,176)\",\"pattern\":{\"shape\":\"\"}},\"name\":\"\",\"offsetgroup\":\"\",\"orientation\":\"v\",\"showlegend\":false,\"textposition\":\"auto\",\"x\":[\"Matthew\",\"Jennifer\",\"Christopher\",\"George\",\"Anthony\",\"Elizabeth\",\"Daniel\",\"Joseph\",\"Charles\",\"Patricia\",\"Linda\",\"Thomas\",\"Richard\",\"William\",\"Mary\",\"John\",\"Robert\",\"David\",\"James\",\"Michael\"],\"xaxis\":\"x\",\"y\":[0.1247116593146831,0.1307794847535772,0.2148962021123647,0.4041885604119839,0.4074247339793941,0.4170618684999908,0.651827224500499,0.7601200620393509,0.8193705927956114,0.9368960431591336,1.0620360195636211,1.064320377375911,1.251066628530582,1.3568609497122424,1.4583958953897376,1.886403645073616,1.9520789321769407,1.9647618771139237,2.0135662299577346,2.213899651016753],\"yaxis\":\"y\",\"type\":\"bar\"}],\"name\":\"1957\"},{\"data\":[{\"alignmentgroup\":\"True\",\"hovertemplate\":\"year=1958\\u003cbr\\u003ename=%{x}\\u003cbr\\u003epercentage=%{y}\\u003cextra\\u003e\\u003c\\u002fextra\\u003e\",\"legendgroup\":\"\",\"marker\":{\"color\":\"rgb(76,114,176)\",\"pattern\":{\"shape\":\"\"}},\"name\":\"\",\"offsetgroup\":\"\",\"orientation\":\"v\",\"showlegend\":false,\"textposition\":\"auto\",\"x\":[\"Jennifer\",\"Matthew\",\"Christopher\",\"George\",\"Anthony\",\"Elizabeth\",\"Daniel\",\"Joseph\",\"Charles\",\"Patricia\",\"Linda\",\"Thomas\",\"Richard\",\"William\",\"Mary\",\"John\",\"Robert\",\"James\",\"David\",\"Michael\"],\"xaxis\":\"x\",\"y\":[0.1426163149289568,0.1544969750290785,0.2688513531007192,0.3802779106588878,0.4235419030397794,0.4494809409773161,0.6211576892672632,0.7300435761319233,0.7829379202844002,0.920932634237546,1.016171489948502,1.0206963034693222,1.2117547396211787,1.3159222380550366,1.3547098106426034,1.8445753172148347,1.8758376651768656,1.9113102674309967,2.004298814813417,2.19855123697997],\"yaxis\":\"y\",\"type\":\"bar\"}],\"name\":\"1958\"},{\"data\":[{\"alignmentgroup\":\"True\",\"hovertemplate\":\"year=1959\\u003cbr\\u003ename=%{x}\\u003cbr\\u003epercentage=%{y}\\u003cextra\\u003e\\u003c\\u002fextra\\u003e\",\"legendgroup\":\"\",\"marker\":{\"color\":\"rgb(76,114,176)\",\"pattern\":{\"shape\":\"\"}},\"name\":\"\",\"offsetgroup\":\"\",\"orientation\":\"v\",\"showlegend\":false,\"textposition\":\"auto\",\"x\":[\"Jennifer\",\"Matthew\",\"Christopher\",\"George\",\"Anthony\",\"Elizabeth\",\"Daniel\",\"Joseph\",\"Charles\",\"Patricia\",\"Thomas\",\"Linda\",\"Richard\",\"William\",\"Mary\",\"Robert\",\"John\",\"James\",\"David\",\"Michael\"],\"xaxis\":\"x\",\"y\":[0.1501904625808509,0.1580091235353242,0.311302993079643,0.3636759927654531,0.4340679987740339,0.4444367460705816,0.6065115733022319,0.7127731900281039,0.7441921783559257,0.8494433835122964,0.9720399872784372,0.9750471645686192,1.138252690461378,1.239606593849673,1.315026600287438,1.7985807085487076,1.8434718511365449,1.898491166837715,2.0250813020452174,2.0573663574326115],\"yaxis\":\"y\",\"type\":\"bar\"}],\"name\":\"1959\"},{\"data\":[{\"alignmentgroup\":\"True\",\"hovertemplate\":\"year=1960\\u003cbr\\u003ename=%{x}\\u003cbr\\u003epercentage=%{y}\\u003cextra\\u003e\\u003c\\u002fextra\\u003e\",\"legendgroup\":\"\",\"marker\":{\"color\":\"rgb(76,114,176)\",\"pattern\":{\"shape\":\"\"}},\"name\":\"\",\"offsetgroup\":\"\",\"orientation\":\"v\",\"showlegend\":false,\"textposition\":\"auto\",\"x\":[\"Matthew\",\"Jennifer\",\"George\",\"Christopher\",\"Elizabeth\",\"Anthony\",\"Daniel\",\"Charles\",\"Joseph\",\"Patricia\",\"Linda\",\"Thomas\",\"Richard\",\"William\",\"Mary\",\"Robert\",\"John\",\"James\",\"Michael\",\"David\"],\"xaxis\":\"x\",\"y\":[0.1671043265866546,0.1746627763919282,0.34039502769546,0.3710380423518718,0.455264207538663,0.4718735399133089,0.6264847599746863,0.7172343006303603,0.7188952338678248,0.7745003900785958,0.9005868871487337,0.9483206641036942,1.0512263103379134,1.1919482770946956,1.243292778478927,1.748240554164357,1.8375698765445176,1.8563215720805308,2.0336803560463146,2.0738316116998066],\"yaxis\":\"y\",\"type\":\"bar\"}],\"name\":\"1960\"},{\"data\":[{\"alignmentgroup\":\"True\",\"hovertemplate\":\"year=1961\\u003cbr\\u003ename=%{x}\\u003cbr\\u003epercentage=%{y}\\u003cextra\\u003e\\u003c\\u002fextra\\u003e\",\"legendgroup\":\"\",\"marker\":{\"color\":\"rgb(76,114,176)\",\"pattern\":{\"shape\":\"\"}},\"name\":\"\",\"offsetgroup\":\"\",\"orientation\":\"v\",\"showlegend\":false,\"textposition\":\"auto\",\"x\":[\"Matthew\",\"Jennifer\",\"George\",\"Christopher\",\"Elizabeth\",\"Anthony\",\"Daniel\",\"Patricia\",\"Charles\",\"Joseph\",\"Linda\",\"Thomas\",\"Richard\",\"Mary\",\"William\",\"Robert\",\"James\",\"John\",\"David\",\"Michael\"],\"xaxis\":\"x\",\"y\":[0.1711935929306633,0.2244184030335244,0.3316649464395161,0.4173221158745652,0.4570475299486153,0.4905907519236035,0.6266472764787393,0.6992397352669427,0.7079817412820224,0.7139465906901017,0.8613049351763349,0.909555012574482,0.9962747462765577,1.1553937452637406,1.1643047955940289,1.76781715007706,1.8406752499320205,1.936837316097897,2.0526326720158727,2.107064941513082],\"yaxis\":\"y\",\"type\":\"bar\"}],\"name\":\"1961\"},{\"data\":[{\"alignmentgroup\":\"True\",\"hovertemplate\":\"year=1962\\u003cbr\\u003ename=%{x}\\u003cbr\\u003epercentage=%{y}\\u003cextra\\u003e\\u003c\\u002fextra\\u003e\",\"legendgroup\":\"\",\"marker\":{\"color\":\"rgb(76,114,176)\",\"pattern\":{\"shape\":\"\"}},\"name\":\"\",\"offsetgroup\":\"\",\"orientation\":\"v\",\"showlegend\":false,\"textposition\":\"auto\",\"x\":[\"Matthew\",\"Jennifer\",\"George\",\"Christopher\",\"Elizabeth\",\"Anthony\",\"Daniel\",\"Patricia\",\"Charles\",\"Joseph\",\"Linda\",\"Thomas\",\"Richard\",\"Mary\",\"William\",\"Robert\",\"James\",\"John\",\"David\",\"Michael\"],\"xaxis\":\"x\",\"y\":[0.1808652586041108,0.2727105105069382,0.3123382918864906,0.4360295094383016,0.4423243540101629,0.5006879719894286,0.6354323418209646,0.6595956231499601,0.6865098011225641,0.7479960585351153,0.7819485666589344,0.9077215438329358,0.9801618221146317,1.081845866517573,1.115897506051973,1.7452084832695918,1.8043651525335016,1.950608765992375,2.022702084337039,2.1161334388091544],\"yaxis\":\"y\",\"type\":\"bar\"}],\"name\":\"1962\"},{\"data\":[{\"alignmentgroup\":\"True\",\"hovertemplate\":\"year=1963\\u003cbr\\u003ename=%{x}\\u003cbr\\u003epercentage=%{y}\\u003cextra\\u003e\\u003c\\u002fextra\\u003e\",\"legendgroup\":\"\",\"marker\":{\"color\":\"rgb(76,114,176)\",\"pattern\":{\"shape\":\"\"}},\"name\":\"\",\"offsetgroup\":\"\",\"orientation\":\"v\",\"showlegend\":false,\"textposition\":\"auto\",\"x\":[\"Matthew\",\"Jennifer\",\"George\",\"Elizabeth\",\"Christopher\",\"Anthony\",\"Daniel\",\"Patricia\",\"Charles\",\"Linda\",\"Joseph\",\"Thomas\",\"Richard\",\"Mary\",\"William\",\"Robert\",\"James\",\"David\",\"John\",\"Michael\"],\"xaxis\":\"x\",\"y\":[0.2034562811506117,0.2976564888003051,0.307205343316686,0.4457142568439772,0.465190888675008,0.514097191171604,0.6290876296863277,0.6428551580234376,0.6797875000947307,0.7024723449511063,0.7635041769923129,0.9002195226077971,1.033903485837129,1.0530769794295445,1.127547940049361,1.7751775253309892,1.8090784850161292,1.987778476679828,1.9926792115374412,2.125782159809427],\"yaxis\":\"y\",\"type\":\"bar\"}],\"name\":\"1963\"},{\"data\":[{\"alignmentgroup\":\"True\",\"hovertemplate\":\"year=1964\\u003cbr\\u003ename=%{x}\\u003cbr\\u003epercentage=%{y}\\u003cextra\\u003e\\u003c\\u002fextra\\u003e\",\"legendgroup\":\"\",\"marker\":{\"color\":\"rgb(76,114,176)\",\"pattern\":{\"shape\":\"\"}},\"name\":\"\",\"offsetgroup\":\"\",\"orientation\":\"v\",\"showlegend\":false,\"textposition\":\"auto\",\"x\":[\"Matthew\",\"George\",\"Jennifer\",\"Elizabeth\",\"Christopher\",\"Anthony\",\"Linda\",\"Daniel\",\"Charles\",\"Patricia\",\"Joseph\",\"Thomas\",\"Richard\",\"Mary\",\"William\",\"Robert\",\"James\",\"David\",\"John\",\"Michael\"],\"xaxis\":\"x\",\"y\":[0.2316552858226502,0.3050668098885889,0.3340815958543838,0.4461280565520814,0.5065498049861704,0.520851419345197,0.6102107867611294,0.6280620823819287,0.6695779197478801,0.6731533233376367,0.7890581332329134,0.8889893774502124,1.0349893110866064,1.05759923738442,1.1416083605797092,1.8075079874258968,1.886758479944172,1.9368655748567327,2.1294743667998826,2.1331783820295587],\"yaxis\":\"y\",\"type\":\"bar\"}],\"name\":\"1964\"},{\"data\":[{\"alignmentgroup\":\"True\",\"hovertemplate\":\"year=1965\\u003cbr\\u003ename=%{x}\\u003cbr\\u003epercentage=%{y}\\u003cextra\\u003e\\u003c\\u002fextra\\u003e\",\"legendgroup\":\"\",\"marker\":{\"color\":\"rgb(76,114,176)\",\"pattern\":{\"shape\":\"\"}},\"name\":\"\",\"offsetgroup\":\"\",\"orientation\":\"v\",\"showlegend\":false,\"textposition\":\"auto\",\"x\":[\"Matthew\",\"George\",\"Jennifer\",\"Elizabeth\",\"Linda\",\"Anthony\",\"Patricia\",\"Charles\",\"Christopher\",\"Daniel\",\"Joseph\",\"Thomas\",\"Mary\",\"Richard\",\"William\",\"Robert\",\"James\",\"David\",\"John\",\"Michael\"],\"xaxis\":\"x\",\"y\":[0.2760903292535769,0.296721254956042,0.4203413204619893,0.4516738493363213,0.5351629029477677,0.5638476124806068,0.6514187209101879,0.6516669539734529,0.6819789691432512,0.6878262368557145,0.7932425443888984,0.8751870367178073,0.9489950008619203,1.0196035166350628,1.110732632304775,1.7478089984485432,1.8752353042578864,1.877028098603689,1.9795483537321152,2.2441923806240305],\"yaxis\":\"y\",\"type\":\"bar\"}],\"name\":\"1965\"},{\"data\":[{\"alignmentgroup\":\"True\",\"hovertemplate\":\"year=1966\\u003cbr\\u003ename=%{x}\\u003cbr\\u003epercentage=%{y}\\u003cextra\\u003e\\u003c\\u002fextra\\u003e\",\"legendgroup\":\"\",\"marker\":{\"color\":\"rgb(76,114,176)\",\"pattern\":{\"shape\":\"\"}},\"name\":\"\",\"offsetgroup\":\"\",\"orientation\":\"v\",\"showlegend\":false,\"textposition\":\"auto\",\"x\":[\"George\",\"Matthew\",\"Linda\",\"Elizabeth\",\"Jennifer\",\"Patricia\",\"Anthony\",\"Charles\",\"Daniel\",\"Joseph\",\"Christopher\",\"Mary\",\"Thomas\",\"Richard\",\"William\",\"Robert\",\"John\",\"James\",\"David\",\"Michael\"],\"xaxis\":\"x\",\"y\":[0.2879764854209207,0.3120296717344274,0.4493284816483683,0.4584778994087692,0.5255448578977457,0.5809304842775311,0.5984237106873543,0.6440557124735048,0.6717053680324522,0.7794268148718895,0.8048035018677183,0.8342082344184409,0.8379485624336991,0.9956465459077792,1.1054107872786263,1.7137895248373602,1.87891062083403,1.883514101468194,1.9177237169308248,2.3112062241359914],\"yaxis\":\"y\",\"type\":\"bar\"}],\"name\":\"1966\"},{\"data\":[{\"alignmentgroup\":\"True\",\"hovertemplate\":\"year=1967\\u003cbr\\u003ename=%{x}\\u003cbr\\u003epercentage=%{y}\\u003cextra\\u003e\\u003c\\u002fextra\\u003e\",\"legendgroup\":\"\",\"marker\":{\"color\":\"rgb(76,114,176)\",\"pattern\":{\"shape\":\"\"}},\"name\":\"\",\"offsetgroup\":\"\",\"orientation\":\"v\",\"showlegend\":false,\"textposition\":\"auto\",\"x\":[\"George\",\"Linda\",\"Matthew\",\"Elizabeth\",\"Patricia\",\"Jennifer\",\"Anthony\",\"Charles\",\"Daniel\",\"Mary\",\"Joseph\",\"Thomas\",\"Christopher\",\"Richard\",\"William\",\"Robert\",\"John\",\"James\",\"David\",\"Michael\"],\"xaxis\":\"x\",\"y\":[0.2881582086650702,0.3896601188214468,0.4011475665756507,0.4762578018915997,0.5247996324016718,0.5391736695915476,0.6196741688537,0.6308081566770054,0.6566401866268435,0.7495412384646879,0.7673615099808248,0.8364923814657393,0.8702772598607957,0.9940766006580244,1.113604967290229,1.6680363238988989,1.8230285035979277,1.826150732987532,1.976253383642464,2.438785158217501],\"yaxis\":\"y\",\"type\":\"bar\"}],\"name\":\"1967\"},{\"data\":[{\"alignmentgroup\":\"True\",\"hovertemplate\":\"year=1968\\u003cbr\\u003ename=%{x}\\u003cbr\\u003epercentage=%{y}\\u003cextra\\u003e\\u003c\\u002fextra\\u003e\",\"legendgroup\":\"\",\"marker\":{\"color\":\"rgb(76,114,176)\",\"pattern\":{\"shape\":\"\"}},\"name\":\"\",\"offsetgroup\":\"\",\"orientation\":\"v\",\"showlegend\":false,\"textposition\":\"auto\",\"x\":[\"George\",\"Linda\",\"Elizabeth\",\"Patricia\",\"Matthew\",\"Anthony\",\"Charles\",\"Mary\",\"Daniel\",\"Joseph\",\"Jennifer\",\"Thomas\",\"Christopher\",\"Richard\",\"William\",\"Robert\",\"James\",\"John\",\"David\",\"Michael\"],\"xaxis\":\"x\",\"y\":[0.2795276208156322,0.3377477426013532,0.4421710215337495,0.4699047551957833,0.4707927082479295,0.6028313271020735,0.6424340332277951,0.6458674516960939,0.6546581869123416,0.755588850506296,0.7966714783855948,0.8155256815261663,0.9353105482606924,0.980862539835794,1.098841902030956,1.7300877268017087,1.8051197597080648,1.8121049903849484,1.893086308740684,2.4404205700836186],\"yaxis\":\"y\",\"type\":\"bar\"}],\"name\":\"1968\"},{\"data\":[{\"alignmentgroup\":\"True\",\"hovertemplate\":\"year=1969\\u003cbr\\u003ename=%{x}\\u003cbr\\u003epercentage=%{y}\\u003cextra\\u003e\\u003c\\u002fextra\\u003e\",\"legendgroup\":\"\",\"marker\":{\"color\":\"rgb(76,114,176)\",\"pattern\":{\"shape\":\"\"}},\"name\":\"\",\"offsetgroup\":\"\",\"orientation\":\"v\",\"showlegend\":false,\"textposition\":\"auto\",\"x\":[\"George\",\"Linda\",\"Patricia\",\"Elizabeth\",\"Matthew\",\"Mary\",\"Anthony\",\"Charles\",\"Daniel\",\"Joseph\",\"Thomas\",\"Richard\",\"Jennifer\",\"Christopher\",\"William\",\"Robert\",\"John\",\"James\",\"David\",\"Michael\"],\"xaxis\":\"x\",\"y\":[0.2668856379504702,0.2961751570787128,0.4321211078458508,0.4418746903453344,0.5044242135131138,0.57431050227785,0.6061031531979955,0.6272215294653138,0.6694295103701585,0.7579310436103102,0.79326260499487,0.8995737770762615,0.9724810869691562,1.0318657308598171,1.0880567238435674,1.687427315670238,1.6987345661784887,1.7330878921501214,1.84066501594236,2.46377220234742],\"yaxis\":\"y\",\"type\":\"bar\"}],\"name\":\"1969\"},{\"data\":[{\"alignmentgroup\":\"True\",\"hovertemplate\":\"year=1970\\u003cbr\\u003ename=%{x}\\u003cbr\\u003epercentage=%{y}\\u003cextra\\u003e\\u003c\\u002fextra\\u003e\",\"legendgroup\":\"\",\"marker\":{\"color\":\"rgb(76,114,176)\",\"pattern\":{\"shape\":\"\"}},\"name\":\"\",\"offsetgroup\":\"\",\"orientation\":\"v\",\"showlegend\":false,\"textposition\":\"auto\",\"x\":[\"Linda\",\"George\",\"Patricia\",\"Elizabeth\",\"Mary\",\"Matthew\",\"Anthony\",\"Charles\",\"Daniel\",\"Thomas\",\"Joseph\",\"Richard\",\"William\",\"Christopher\",\"Jennifer\",\"Robert\",\"John\",\"David\",\"James\",\"Michael\"],\"xaxis\":\"x\",\"y\":[0.2430944189480565,0.2490276084616154,0.3736523134309943,0.4209514784316084,0.5350960636060096,0.5616290653091677,0.5911286617691052,0.6257296922033176,0.6551461131093268,0.7433122002734258,0.744781635059494,0.8484738256235602,1.0840269943487757,1.1638200757507495,1.2828997437915686,1.594558544361266,1.6302408569965474,1.7197932033927863,1.7217339663177824,2.376907804611752],\"yaxis\":\"y\",\"type\":\"bar\"}],\"name\":\"1970\"},{\"data\":[{\"alignmentgroup\":\"True\",\"hovertemplate\":\"year=1971\\u003cbr\\u003ename=%{x}\\u003cbr\\u003epercentage=%{y}\\u003cextra\\u003e\\u003c\\u002fextra\\u003e\",\"legendgroup\":\"\",\"marker\":{\"color\":\"rgb(76,114,176)\",\"pattern\":{\"shape\":\"\"}},\"name\":\"\",\"offsetgroup\":\"\",\"orientation\":\"v\",\"showlegend\":false,\"textposition\":\"auto\",\"x\":[\"Linda\",\"George\",\"Patricia\",\"Elizabeth\",\"Mary\",\"Anthony\",\"Charles\",\"Daniel\",\"Matthew\",\"Thomas\",\"Joseph\",\"Richard\",\"William\",\"Christopher\",\"Robert\",\"John\",\"David\",\"James\",\"Jennifer\",\"Michael\"],\"xaxis\":\"x\",\"y\":[0.2156457047699012,0.2413705301295097,0.3355298003019389,0.3981958244791961,0.4890338827705432,0.5641398847830812,0.5827270179421189,0.6379640155432716,0.6595227593327511,0.6783429599922155,0.7186636375660528,0.766296807965781,1.0376165119001353,1.4130882550877175,1.4839990420925733,1.5086459302627078,1.5552302969105154,1.599746189492035,1.659702803976831,2.2739230679141214],\"yaxis\":\"y\",\"type\":\"bar\"}],\"name\":\"1971\"},{\"data\":[{\"alignmentgroup\":\"True\",\"hovertemplate\":\"year=1972\\u003cbr\\u003ename=%{x}\\u003cbr\\u003epercentage=%{y}\\u003cextra\\u003e\\u003c\\u002fextra\\u003e\",\"legendgroup\":\"\",\"marker\":{\"color\":\"rgb(76,114,176)\",\"pattern\":{\"shape\":\"\"}},\"name\":\"\",\"offsetgroup\":\"\",\"orientation\":\"v\",\"showlegend\":false,\"textposition\":\"auto\",\"x\":[\"Linda\",\"George\",\"Patricia\",\"Elizabeth\",\"Mary\",\"Charles\",\"Anthony\",\"Thomas\",\"Daniel\",\"Richard\",\"Joseph\",\"Matthew\",\"William\",\"Robert\",\"John\",\"David\",\"James\",\"Christopher\",\"Jennifer\",\"Michael\"],\"xaxis\":\"x\",\"y\":[0.1837866280832457,0.2296935182207087,0.3069367124367587,0.3893336947347692,0.440076237887405,0.5438518966735479,0.5597268365062534,0.6255171683179467,0.7071824399623455,0.7140859709116383,0.7186034888600235,0.7335876505057234,0.976897349584945,1.37797022828418,1.3804834953118026,1.481714073563644,1.5072603194266951,1.6680457821811914,2.0294472180520016,2.285450506296052],\"yaxis\":\"y\",\"type\":\"bar\"}],\"name\":\"1972\"},{\"data\":[{\"alignmentgroup\":\"True\",\"hovertemplate\":\"year=1973\\u003cbr\\u003ename=%{x}\\u003cbr\\u003epercentage=%{y}\\u003cextra\\u003e\\u003c\\u002fextra\\u003e\",\"legendgroup\":\"\",\"marker\":{\"color\":\"rgb(76,114,176)\",\"pattern\":{\"shape\":\"\"}},\"name\":\"\",\"offsetgroup\":\"\",\"orientation\":\"v\",\"showlegend\":false,\"textposition\":\"auto\",\"x\":[\"Linda\",\"George\",\"Patricia\",\"Mary\",\"Elizabeth\",\"Charles\",\"Anthony\",\"Thomas\",\"Richard\",\"Joseph\",\"Daniel\",\"Matthew\",\"William\",\"Robert\",\"John\",\"David\",\"James\",\"Christopher\",\"Jennifer\",\"Michael\"],\"xaxis\":\"x\",\"y\":[0.1574679968088783,0.2206076587581339,0.2826535627838591,0.4098940678878971,0.4113192676064368,0.5260975612181281,0.5490333334327658,0.5975895564016159,0.6656345569170079,0.7115392455257843,0.7896269324299555,0.8168383038002122,0.934069266694972,1.290700638124888,1.3061126815928166,1.3695174969780797,1.4308673732342851,1.6105088261292804,2.077013152604751,2.263051432143424],\"yaxis\":\"y\",\"type\":\"bar\"}],\"name\":\"1973\"},{\"data\":[{\"alignmentgroup\":\"True\",\"hovertemplate\":\"year=1974\\u003cbr\\u003ename=%{x}\\u003cbr\\u003epercentage=%{y}\\u003cextra\\u003e\\u003c\\u002fextra\\u003e\",\"legendgroup\":\"\",\"marker\":{\"color\":\"rgb(76,114,176)\",\"pattern\":{\"shape\":\"\"}},\"name\":\"\",\"offsetgroup\":\"\",\"orientation\":\"v\",\"showlegend\":false,\"textposition\":\"auto\",\"x\":[\"Linda\",\"George\",\"Patricia\",\"Mary\",\"Elizabeth\",\"Charles\",\"Anthony\",\"Thomas\",\"Richard\",\"Joseph\",\"Daniel\",\"William\",\"Matthew\",\"Robert\",\"John\",\"James\",\"David\",\"Christopher\",\"Jennifer\",\"Michael\"],\"xaxis\":\"x\",\"y\":[0.1348263900538318,0.2084727153357371,0.2658701416943457,0.388230271238199,0.4054330528918106,0.5017094236377404,0.5432855536762969,0.5713099704427923,0.6160437812437709,0.7222865818960952,0.7891241580340279,0.8931302681463033,0.8984588544328905,1.2255090608991628,1.246033985854906,1.368163867843166,1.3827352488614255,1.6078186807078203,2.08193129018231,2.2391574781445733],\"yaxis\":\"y\",\"type\":\"bar\"}],\"name\":\"1974\"},{\"data\":[{\"alignmentgroup\":\"True\",\"hovertemplate\":\"year=1975\\u003cbr\\u003ename=%{x}\\u003cbr\\u003epercentage=%{y}\\u003cextra\\u003e\\u003c\\u002fextra\\u003e\",\"legendgroup\":\"\",\"marker\":{\"color\":\"rgb(76,114,176)\",\"pattern\":{\"shape\":\"\"}},\"name\":\"\",\"offsetgroup\":\"\",\"orientation\":\"v\",\"showlegend\":false,\"textposition\":\"auto\",\"x\":[\"Linda\",\"George\",\"Patricia\",\"Mary\",\"Elizabeth\",\"Charles\",\"Thomas\",\"Anthony\",\"Richard\",\"Joseph\",\"Daniel\",\"William\",\"Matthew\",\"John\",\"Robert\",\"David\",\"James\",\"Christopher\",\"Jennifer\",\"Michael\"],\"xaxis\":\"x\",\"y\":[0.1173614859606653,0.1953485907680488,0.2344911631172323,0.3653969063459316,0.4147390660754438,0.4871296440410235,0.5504796786467665,0.5506452563639795,0.5901189841475893,0.7372513436631752,0.7943756561017045,0.8520629327787583,0.9490914750656516,1.169243607872227,1.1776218403632113,1.3050835670738776,1.3189920953197802,1.552556023220619,1.934378239114093,2.284608226563302],\"yaxis\":\"y\",\"type\":\"bar\"}],\"name\":\"1975\"},{\"data\":[{\"alignmentgroup\":\"True\",\"hovertemplate\":\"year=1976\\u003cbr\\u003ename=%{x}\\u003cbr\\u003epercentage=%{y}\\u003cextra\\u003e\\u003c\\u002fextra\\u003e\",\"legendgroup\":\"\",\"marker\":{\"color\":\"rgb(76,114,176)\",\"pattern\":{\"shape\":\"\"}},\"name\":\"\",\"offsetgroup\":\"\",\"orientation\":\"v\",\"showlegend\":false,\"textposition\":\"auto\",\"x\":[\"Linda\",\"George\",\"Patricia\",\"Mary\",\"Elizabeth\",\"Charles\",\"Thomas\",\"Anthony\",\"Richard\",\"Joseph\",\"William\",\"Daniel\",\"Matthew\",\"Robert\",\"John\",\"James\",\"David\",\"Christopher\",\"Jennifer\",\"Michael\"],\"xaxis\":\"x\",\"y\":[0.1038345975165374,0.1841078693509662,0.1994309692700998,0.3420840865817756,0.4484231047302574,0.4623951356242631,0.5348256165323396,0.5517634087010164,0.5564097680313342,0.7976250183712434,0.8119265782957682,0.8200329924465356,0.9917176173469356,1.1213543379531108,1.1270222372780374,1.2705321300690626,1.301969199580575,1.4986650778973674,1.9664315367190903,2.2224426405293025],\"yaxis\":\"y\",\"type\":\"bar\"}],\"name\":\"1976\"},{\"data\":[{\"alignmentgroup\":\"True\",\"hovertemplate\":\"year=1977\\u003cbr\\u003ename=%{x}\\u003cbr\\u003epercentage=%{y}\\u003cextra\\u003e\\u003c\\u002fextra\\u003e\",\"legendgroup\":\"\",\"marker\":{\"color\":\"rgb(76,114,176)\",\"pattern\":{\"shape\":\"\"}},\"name\":\"\",\"offsetgroup\":\"\",\"orientation\":\"v\",\"showlegend\":false,\"textposition\":\"auto\",\"x\":[\"Linda\",\"George\",\"Patricia\",\"Mary\",\"Charles\",\"Elizabeth\",\"Thomas\",\"Anthony\",\"Richard\",\"William\",\"Daniel\",\"Joseph\",\"Matthew\",\"John\",\"Robert\",\"James\",\"David\",\"Christopher\",\"Jennifer\",\"Michael\"],\"xaxis\":\"x\",\"y\":[0.0922969506434816,0.1781091905664457,0.1868604021213188,0.3370475615756336,0.4668047343424928,0.5191546077804566,0.5262374228878179,0.5335720714212188,0.5532150786523009,0.7853740182824771,0.826895054400742,0.8394237673462077,1.01164635157898,1.0837336697827906,1.0846150867739288,1.2691145505261272,1.2835634933451443,1.47996208647771,1.861773039531867,2.145620789856653],\"yaxis\":\"y\",\"type\":\"bar\"}],\"name\":\"1977\"},{\"data\":[{\"alignmentgroup\":\"True\",\"hovertemplate\":\"year=1978\\u003cbr\\u003ename=%{x}\\u003cbr\\u003epercentage=%{y}\\u003cextra\\u003e\\u003c\\u002fextra\\u003e\",\"legendgroup\":\"\",\"marker\":{\"color\":\"rgb(76,114,176)\",\"pattern\":{\"shape\":\"\"}},\"name\":\"\",\"offsetgroup\":\"\",\"orientation\":\"v\",\"showlegend\":false,\"textposition\":\"auto\",\"x\":[\"Linda\",\"George\",\"Patricia\",\"Mary\",\"Charles\",\"Thomas\",\"Richard\",\"Elizabeth\",\"Anthony\",\"William\",\"Daniel\",\"Joseph\",\"Robert\",\"John\",\"Matthew\",\"James\",\"David\",\"Christopher\",\"Jennifer\",\"Michael\"],\"xaxis\":\"x\",\"y\":[0.0928425542130262,0.1682633464715891,0.1743436359059678,0.3182543205497086,0.4715847282031862,0.5234719649825735,0.5301193280429564,0.531757540740302,0.5343093720573211,0.7676286650677291,0.8386388846795924,0.8458533213659796,1.059734590640576,1.078920581653719,1.085441928352768,1.265582316880112,1.289903474617627,1.497735958548178,1.780800210195291,2.132417362408248],\"yaxis\":\"y\",\"type\":\"bar\"}],\"name\":\"1978\"},{\"data\":[{\"alignmentgroup\":\"True\",\"hovertemplate\":\"year=1979\\u003cbr\\u003ename=%{x}\\u003cbr\\u003epercentage=%{y}\\u003cextra\\u003e\\u003c\\u002fextra\\u003e\",\"legendgroup\":\"\",\"marker\":{\"color\":\"rgb(76,114,176)\",\"pattern\":{\"shape\":\"\"}},\"name\":\"\",\"offsetgroup\":\"\",\"orientation\":\"v\",\"showlegend\":false,\"textposition\":\"auto\",\"x\":[\"Linda\",\"George\",\"Patricia\",\"Mary\",\"Charles\",\"Thomas\",\"Richard\",\"Anthony\",\"Elizabeth\",\"William\",\"Daniel\",\"Joseph\",\"Robert\",\"John\",\"Matthew\",\"James\",\"David\",\"Christopher\",\"Jennifer\",\"Michael\"],\"xaxis\":\"x\",\"y\":[0.0828295985379193,0.1595882323063685,0.1709487505383473,0.3193868445799959,0.4491612300976794,0.4984803052793651,0.5061140926627582,0.5312094173286372,0.545695580788462,0.7475401322328258,0.863459494192461,0.8674867678514164,1.03011048254252,1.0717056074977016,1.075943261123916,1.1908708318093308,1.2728288561971777,1.5325278986377295,1.7107798394680631,2.052046200642981],\"yaxis\":\"y\",\"type\":\"bar\"}],\"name\":\"1979\"},{\"data\":[{\"alignmentgroup\":\"True\",\"hovertemplate\":\"year=1980\\u003cbr\\u003ename=%{x}\\u003cbr\\u003epercentage=%{y}\\u003cextra\\u003e\\u003c\\u002fextra\\u003e\",\"legendgroup\":\"\",\"marker\":{\"color\":\"rgb(76,114,176)\",\"pattern\":{\"shape\":\"\"}},\"name\":\"\",\"offsetgroup\":\"\",\"orientation\":\"v\",\"showlegend\":false,\"textposition\":\"auto\",\"x\":[\"Linda\",\"George\",\"Patricia\",\"Mary\",\"Charles\",\"Richard\",\"Thomas\",\"Anthony\",\"Elizabeth\",\"William\",\"Daniel\",\"Joseph\",\"Robert\",\"John\",\"Matthew\",\"James\",\"David\",\"Christopher\",\"Jennifer\",\"Michael\"],\"xaxis\":\"x\",\"y\":[0.0819196484944579,0.1549854724705567,0.1552757617990274,0.3346455378611308,0.4377853362668037,0.4871054931739916,0.513231532736363,0.5158731656254473,0.569199315265532,0.7508043191568604,0.8741192258912536,0.8826537321482949,1.002281964411109,1.0314270129895766,1.1041444897715105,1.14937156714726,1.2247597057511252,1.4340583115785672,1.7008632333760736,2.009847194600386],\"yaxis\":\"y\",\"type\":\"bar\"}],\"name\":\"1980\"},{\"data\":[{\"alignmentgroup\":\"True\",\"hovertemplate\":\"year=1981\\u003cbr\\u003ename=%{x}\\u003cbr\\u003epercentage=%{y}\\u003cextra\\u003e\\u003c\\u002fextra\\u003e\",\"legendgroup\":\"\",\"marker\":{\"color\":\"rgb(76,114,176)\",\"pattern\":{\"shape\":\"\"}},\"name\":\"\",\"offsetgroup\":\"\",\"orientation\":\"v\",\"showlegend\":false,\"textposition\":\"auto\",\"x\":[\"Linda\",\"George\",\"Patricia\",\"Mary\",\"Charles\",\"Richard\",\"Thomas\",\"Anthony\",\"Elizabeth\",\"William\",\"Joseph\",\"Daniel\",\"Robert\",\"John\",\"James\",\"David\",\"Matthew\",\"Christopher\",\"Jennifer\",\"Michael\"],\"xaxis\":\"x\",\"y\":[0.0793158029221976,0.1503069151586836,0.1535153896938016,0.321165410447718,0.4201078278685207,0.4904919314091736,0.4993658204387343,0.5407580324593564,0.5856188655990251,0.7219645807535464,0.8946730073060722,0.9020727323600382,1.0008417187248886,1.0138490479213131,1.11495935354152,1.181701404907174,1.2583868368140947,1.4601738704146274,1.654532273785202,2.00200139438569],\"yaxis\":\"y\",\"type\":\"bar\"}],\"name\":\"1981\"},{\"data\":[{\"alignmentgroup\":\"True\",\"hovertemplate\":\"year=1982\\u003cbr\\u003ename=%{x}\\u003cbr\\u003epercentage=%{y}\\u003cextra\\u003e\\u003c\\u002fextra\\u003e\",\"legendgroup\":\"\",\"marker\":{\"color\":\"rgb(76,114,176)\",\"pattern\":{\"shape\":\"\"}},\"name\":\"\",\"offsetgroup\":\"\",\"orientation\":\"v\",\"showlegend\":false,\"textposition\":\"auto\",\"x\":[\"Linda\",\"George\",\"Patricia\",\"Mary\",\"Charles\",\"Richard\",\"Thomas\",\"Anthony\",\"Elizabeth\",\"William\",\"Joseph\",\"Daniel\",\"Robert\",\"John\",\"James\",\"David\",\"Matthew\",\"Jennifer\",\"Christopher\",\"Michael\"],\"xaxis\":\"x\",\"y\":[0.0800985126190788,0.1437212457741621,0.1485955680723338,0.3114435405252866,0.4115809337035158,0.4803915420531444,0.5045351150739129,0.5639676413410942,0.5870850412464583,0.7348824746734774,0.8906897593624045,0.9382357803761494,0.9878626524294648,0.9959580181176564,1.1172459793967242,1.1603737550524773,1.320798818760725,1.633382551636461,1.7007394147392667,1.961586919713356],\"yaxis\":\"y\",\"type\":\"bar\"}],\"name\":\"1982\"},{\"data\":[{\"alignmentgroup\":\"True\",\"hovertemplate\":\"year=1983\\u003cbr\\u003ename=%{x}\\u003cbr\\u003epercentage=%{y}\\u003cextra\\u003e\\u003c\\u002fextra\\u003e\",\"legendgroup\":\"\",\"marker\":{\"color\":\"rgb(76,114,176)\",\"pattern\":{\"shape\":\"\"}},\"name\":\"\",\"offsetgroup\":\"\",\"orientation\":\"v\",\"showlegend\":false,\"textposition\":\"auto\",\"x\":[\"Linda\",\"George\",\"Patricia\",\"Mary\",\"Charles\",\"Richard\",\"Thomas\",\"Elizabeth\",\"Anthony\",\"William\",\"Joseph\",\"Robert\",\"John\",\"Daniel\",\"James\",\"David\",\"Matthew\",\"Jennifer\",\"Christopher\",\"Michael\"],\"xaxis\":\"x\",\"y\":[0.0721825699304737,0.1309969279098237,0.1430658536021989,0.2873443743792299,0.3850795740650913,0.4625170350865036,0.5114568174993648,0.5758147968493752,0.5774028133878456,0.7387164206684683,0.8854202757951632,0.9529542882221144,0.965080959970434,1.010873582334327,1.0574457764534684,1.141235303628762,1.45901184949068,1.5749081837710486,1.7253944055621,1.98002563924884],\"yaxis\":\"y\",\"type\":\"bar\"}],\"name\":\"1983\"},{\"data\":[{\"alignmentgroup\":\"True\",\"hovertemplate\":\"year=1984\\u003cbr\\u003ename=%{x}\\u003cbr\\u003epercentage=%{y}\\u003cextra\\u003e\\u003c\\u002fextra\\u003e\",\"legendgroup\":\"\",\"marker\":{\"color\":\"rgb(76,114,176)\",\"pattern\":{\"shape\":\"\"}},\"name\":\"\",\"offsetgroup\":\"\",\"orientation\":\"v\",\"showlegend\":false,\"textposition\":\"auto\",\"x\":[\"Linda\",\"George\",\"Patricia\",\"Mary\",\"Charles\",\"Richard\",\"Thomas\",\"Elizabeth\",\"Anthony\",\"William\",\"Joseph\",\"Robert\",\"John\",\"James\",\"Daniel\",\"David\",\"Matthew\",\"Jennifer\",\"Christopher\",\"Michael\"],\"xaxis\":\"x\",\"y\":[0.0672449850031644,0.1233397998587454,0.1291871898590205,0.2679767113361401,0.374204296341139,0.450363684727076,0.5078916834062537,0.5862868385570017,0.6053481834108398,0.7183977234161599,0.8806627959237959,0.9172663107784595,0.9416304357796064,1.0349020390192896,1.0549952762261174,1.1100008713757648,1.435333599332251,1.4551115360978877,1.731687350375609,1.9564965649450117],\"yaxis\":\"y\",\"type\":\"bar\"}],\"name\":\"1984\"},{\"data\":[{\"alignmentgroup\":\"True\",\"hovertemplate\":\"year=1985\\u003cbr\\u003ename=%{x}\\u003cbr\\u003epercentage=%{y}\\u003cextra\\u003e\\u003c\\u002fextra\\u003e\",\"legendgroup\":\"\",\"marker\":{\"color\":\"rgb(76,114,176)\",\"pattern\":{\"shape\":\"\"}},\"name\":\"\",\"offsetgroup\":\"\",\"orientation\":\"v\",\"showlegend\":false,\"textposition\":\"auto\",\"x\":[\"Linda\",\"George\",\"Patricia\",\"Mary\",\"Charles\",\"Richard\",\"Thomas\",\"Elizabeth\",\"Anthony\",\"William\",\"Joseph\",\"John\",\"Robert\",\"James\",\"David\",\"Daniel\",\"Jennifer\",\"Matthew\",\"Christopher\",\"Michael\"],\"xaxis\":\"x\",\"y\":[0.0595682729179543,0.1203693793299774,0.1242640124135125,0.2608003218816177,0.364302297497292,0.4328086132472442,0.4964116139639688,0.5786191928639114,0.6245422405179694,0.6947577117937895,0.8531207778955197,0.8891531386539812,0.9059645044821903,1.0129408290356945,1.0876673501420842,1.0887600889209177,1.199715103387098,1.3275935594536754,1.681837056397089,1.8339799171423816],\"yaxis\":\"y\",\"type\":\"bar\"}],\"name\":\"1985\"},{\"data\":[{\"alignmentgroup\":\"True\",\"hovertemplate\":\"year=1986\\u003cbr\\u003ename=%{x}\\u003cbr\\u003epercentage=%{y}\\u003cextra\\u003e\\u003c\\u002fextra\\u003e\",\"legendgroup\":\"\",\"marker\":{\"color\":\"rgb(76,114,176)\",\"pattern\":{\"shape\":\"\"}},\"name\":\"\",\"offsetgroup\":\"\",\"orientation\":\"v\",\"showlegend\":false,\"textposition\":\"auto\",\"x\":[\"Linda\",\"Patricia\",\"George\",\"Mary\",\"Charles\",\"Richard\",\"Thomas\",\"Elizabeth\",\"Anthony\",\"William\",\"Joseph\",\"John\",\"Robert\",\"James\",\"Jennifer\",\"Daniel\",\"David\",\"Matthew\",\"Christopher\",\"Michael\"],\"xaxis\":\"x\",\"y\":[0.0554126272754389,0.1205245728715408,0.123082943790904,0.2404868664201446,0.3573003957603015,0.4254205357341161,0.4916570399760919,0.5390009589673852,0.6228368060172884,0.6886797147332083,0.8165139188029299,0.855704787611637,0.8882888743758348,0.964871318159851,1.0218864415056603,1.0364213620035811,1.0522495249442572,1.3272322278265851,1.6055042647480946,1.8222910577064455],\"yaxis\":\"y\",\"type\":\"bar\"}],\"name\":\"1986\"},{\"data\":[{\"alignmentgroup\":\"True\",\"hovertemplate\":\"year=1987\\u003cbr\\u003ename=%{x}\\u003cbr\\u003epercentage=%{y}\\u003cextra\\u003e\\u003c\\u002fextra\\u003e\",\"legendgroup\":\"\",\"marker\":{\"color\":\"rgb(76,114,176)\",\"pattern\":{\"shape\":\"\"}},\"name\":\"\",\"offsetgroup\":\"\",\"orientation\":\"v\",\"showlegend\":false,\"textposition\":\"auto\",\"x\":[\"Linda\",\"Patricia\",\"George\",\"Mary\",\"Charles\",\"Richard\",\"Thomas\",\"Elizabeth\",\"Anthony\",\"William\",\"Joseph\",\"John\",\"Robert\",\"Jennifer\",\"James\",\"Daniel\",\"David\",\"Matthew\",\"Christopher\",\"Michael\"],\"xaxis\":\"x\",\"y\":[0.0539462739488866,0.1095844361810031,0.114382742295737,0.234728697393022,0.3400418090557072,0.4025862037882211,0.5064847859026321,0.5190491365961261,0.6472998156396489,0.6759232370870787,0.7972122118832131,0.825114500619758,0.844668291434136,0.9102358963776672,0.9127321249922684,1.0022080528889823,1.027614113010926,1.2978724643517752,1.5218951145755066,1.7805598707952068],\"yaxis\":\"y\",\"type\":\"bar\"}],\"name\":\"1987\"},{\"data\":[{\"alignmentgroup\":\"True\",\"hovertemplate\":\"year=1988\\u003cbr\\u003ename=%{x}\\u003cbr\\u003epercentage=%{y}\\u003cextra\\u003e\\u003c\\u002fextra\\u003e\",\"legendgroup\":\"\",\"marker\":{\"color\":\"rgb(76,114,176)\",\"pattern\":{\"shape\":\"\"}},\"name\":\"\",\"offsetgroup\":\"\",\"orientation\":\"v\",\"showlegend\":false,\"textposition\":\"auto\",\"x\":[\"Linda\",\"Patricia\",\"George\",\"Mary\",\"Charles\",\"Richard\",\"Thomas\",\"Elizabeth\",\"Anthony\",\"William\",\"Jennifer\",\"Joseph\",\"John\",\"Robert\",\"James\",\"Daniel\",\"David\",\"Matthew\",\"Christopher\",\"Michael\"],\"xaxis\":\"x\",\"y\":[0.0501791862473303,0.1039851313712206,0.1172471600989401,0.2316795222638337,0.3301703845907135,0.3858438398823848,0.5122120279022259,0.5451505768035209,0.6446699229909177,0.6574177097883785,0.7579655398362924,0.7902274546188262,0.8008641429657524,0.8254665595239093,0.8867966760484243,0.9471795048066736,0.9628232856324322,1.2486335373971618,1.4443161245428997,1.7495322428337006],\"yaxis\":\"y\",\"type\":\"bar\"}],\"name\":\"1988\"},{\"data\":[{\"alignmentgroup\":\"True\",\"hovertemplate\":\"year=1989\\u003cbr\\u003ename=%{x}\\u003cbr\\u003epercentage=%{y}\\u003cextra\\u003e\\u003c\\u002fextra\\u003e\",\"legendgroup\":\"\",\"marker\":{\"color\":\"rgb(76,114,176)\",\"pattern\":{\"shape\":\"\"}},\"name\":\"\",\"offsetgroup\":\"\",\"orientation\":\"v\",\"showlegend\":false,\"textposition\":\"auto\",\"x\":[\"Linda\",\"Patricia\",\"George\",\"Mary\",\"Charles\",\"Richard\",\"Thomas\",\"Elizabeth\",\"Jennifer\",\"Anthony\",\"William\",\"John\",\"Joseph\",\"Robert\",\"James\",\"Daniel\",\"David\",\"Matthew\",\"Christopher\",\"Michael\"],\"xaxis\":\"x\",\"y\":[0.0484353080389345,0.0949977148003162,0.1180187930035691,0.2268031422080934,0.3201360558728071,0.3695338270682618,0.4813876533665531,0.5315918126120651,0.6280722409237773,0.6385552855745242,0.6442520269604138,0.7800633821007344,0.780869770150792,0.7854479732736989,0.8554996835577218,0.9156146120636174,0.9200887651155488,1.1849222082650612,1.3897967980151409,1.7108693045267245],\"yaxis\":\"y\",\"type\":\"bar\"}],\"name\":\"1989\"},{\"data\":[{\"alignmentgroup\":\"True\",\"hovertemplate\":\"year=1990\\u003cbr\\u003ename=%{x}\\u003cbr\\u003epercentage=%{y}\\u003cextra\\u003e\\u003c\\u002fextra\\u003e\",\"legendgroup\":\"\",\"marker\":{\"color\":\"rgb(76,114,176)\",\"pattern\":{\"shape\":\"\"}},\"name\":\"\",\"offsetgroup\":\"\",\"orientation\":\"v\",\"showlegend\":false,\"textposition\":\"auto\",\"x\":[\"Linda\",\"Patricia\",\"George\",\"Mary\",\"Charles\",\"Richard\",\"Thomas\",\"Elizabeth\",\"Jennifer\",\"William\",\"Anthony\",\"Robert\",\"John\",\"Joseph\",\"James\",\"David\",\"Daniel\",\"Matthew\",\"Christopher\",\"Michael\"],\"xaxis\":\"x\",\"y\":[0.0422812546019767,0.0915461275583195,0.1159887917986005,0.2205153404286221,0.3046730021917428,0.3449047166245035,0.4622598685359147,0.5273137916847372,0.5647874829268243,0.6317138254894985,0.6372298718708456,0.7335329568589507,0.7380368846382157,0.7644278771875046,0.8216884871002954,0.8568343055575939,0.8596682376434236,1.1371658553692638,1.3294430867997973,1.659444357008643],\"yaxis\":\"y\",\"type\":\"bar\"}],\"name\":\"1990\"},{\"data\":[{\"alignmentgroup\":\"True\",\"hovertemplate\":\"year=1991\\u003cbr\\u003ename=%{x}\\u003cbr\\u003epercentage=%{y}\\u003cextra\\u003e\\u003c\\u002fextra\\u003e\",\"legendgroup\":\"\",\"marker\":{\"color\":\"rgb(76,114,176)\",\"pattern\":{\"shape\":\"\"}},\"name\":\"\",\"offsetgroup\":\"\",\"orientation\":\"v\",\"showlegend\":false,\"textposition\":\"auto\",\"x\":[\"Linda\",\"Patricia\",\"George\",\"Mary\",\"Charles\",\"Richard\",\"Thomas\",\"Elizabeth\",\"Jennifer\",\"William\",\"Anthony\",\"Robert\",\"John\",\"Joseph\",\"David\",\"James\",\"Daniel\",\"Matthew\",\"Christopher\",\"Michael\"],\"xaxis\":\"x\",\"y\":[0.0415405644381959,0.088241606906106,0.1078308842029808,0.2257516582849549,0.2918109118693048,0.3237237187893775,0.4320937574133733,0.5253161242088551,0.5324535017822905,0.6140455374958793,0.6297837117855049,0.6909135535205757,0.7154065686466813,0.7682437019061419,0.7833400256945592,0.7858560796592955,0.7982823053626866,1.071787640937533,1.213508231604308,1.567809708271245],\"yaxis\":\"y\",\"type\":\"bar\"}],\"name\":\"1991\"},{\"data\":[{\"alignmentgroup\":\"True\",\"hovertemplate\":\"year=1992\\u003cbr\\u003ename=%{x}\\u003cbr\\u003epercentage=%{y}\\u003cextra\\u003e\\u003c\\u002fextra\\u003e\",\"legendgroup\":\"\",\"marker\":{\"color\":\"rgb(76,114,176)\",\"pattern\":{\"shape\":\"\"}},\"name\":\"\",\"offsetgroup\":\"\",\"orientation\":\"v\",\"showlegend\":false,\"textposition\":\"auto\",\"x\":[\"Linda\",\"Patricia\",\"George\",\"Mary\",\"Charles\",\"Richard\",\"Thomas\",\"Jennifer\",\"Elizabeth\",\"William\",\"Anthony\",\"Robert\",\"John\",\"Joseph\",\"David\",\"James\",\"Daniel\",\"Matthew\",\"Christopher\",\"Michael\"],\"xaxis\":\"x\",\"y\":[0.0414999984378921,0.0770900221923454,0.1016671856336065,0.2209601547944734,0.2733688730225016,0.2957851206103468,0.398884238435976,0.4654560677996461,0.4969065057626158,0.6021405043108969,0.6053688605256389,0.6288004782132819,0.6848541147482767,0.7282286426011803,0.7429384914828674,0.7440319669749573,0.762907436778892,0.9848308914116352,1.108992430025379,1.4230021421705592],\"yaxis\":\"y\",\"type\":\"bar\"}],\"name\":\"1992\"},{\"data\":[{\"alignmentgroup\":\"True\",\"hovertemplate\":\"year=1993\\u003cbr\\u003ename=%{x}\\u003cbr\\u003epercentage=%{y}\\u003cextra\\u003e\\u003c\\u002fextra\\u003e\",\"legendgroup\":\"\",\"marker\":{\"color\":\"rgb(76,114,176)\",\"pattern\":{\"shape\":\"\"}},\"name\":\"\",\"offsetgroup\":\"\",\"orientation\":\"v\",\"showlegend\":false,\"textposition\":\"auto\",\"x\":[\"Linda\",\"Patricia\",\"George\",\"Mary\",\"Charles\",\"Richard\",\"Thomas\",\"Jennifer\",\"Elizabeth\",\"Anthony\",\"William\",\"Robert\",\"John\",\"James\",\"Joseph\",\"David\",\"Daniel\",\"Matthew\",\"Christopher\",\"Michael\"],\"xaxis\":\"x\",\"y\":[0.0396553512310267,0.0710082777561596,0.0936078491600625,0.2159160929903397,0.2621762485401128,0.2721232429960559,0.3950946197900626,0.4191000330770723,0.4671639102881896,0.5804004951746466,0.5904005402676882,0.5972705977719264,0.6648305841166923,0.6983585867628581,0.7182525756747444,0.7195257909651052,0.7644066299503207,0.9507469927583228,1.017166390405474,1.3206160346081135],\"yaxis\":\"y\",\"type\":\"bar\"}],\"name\":\"1993\"},{\"data\":[{\"alignmentgroup\":\"True\",\"hovertemplate\":\"year=1994\\u003cbr\\u003ename=%{x}\\u003cbr\\u003epercentage=%{y}\\u003cextra\\u003e\\u003c\\u002fextra\\u003e\",\"legendgroup\":\"\",\"marker\":{\"color\":\"rgb(76,114,176)\",\"pattern\":{\"shape\":\"\"}},\"name\":\"\",\"offsetgroup\":\"\",\"orientation\":\"v\",\"showlegend\":false,\"textposition\":\"auto\",\"x\":[\"Linda\",\"Patricia\",\"George\",\"Mary\",\"Charles\",\"Richard\",\"Jennifer\",\"Thomas\",\"Elizabeth\",\"Robert\",\"William\",\"Anthony\",\"John\",\"James\",\"David\",\"Joseph\",\"Daniel\",\"Matthew\",\"Christopher\",\"Michael\"],\"xaxis\":\"x\",\"y\":[0.0348365881556676,0.0638894956522862,0.0896874014756724,0.2088581238923579,0.243049091881434,0.2569030246228771,0.3778223016574145,0.401629545300477,0.4527411418223059,0.5543994172201963,0.5793095953145193,0.5834792255570895,0.6517804590144177,0.6682437732625016,0.6710414606510648,0.6942568858080851,0.7583615881825685,0.9072846399430132,0.9390276314670966,1.201445328346276],\"yaxis\":\"y\",\"type\":\"bar\"}],\"name\":\"1994\"},{\"data\":[{\"alignmentgroup\":\"True\",\"hovertemplate\":\"year=1995\\u003cbr\\u003ename=%{x}\\u003cbr\\u003epercentage=%{y}\\u003cextra\\u003e\\u003c\\u002fextra\\u003e\",\"legendgroup\":\"\",\"marker\":{\"color\":\"rgb(76,114,176)\",\"pattern\":{\"shape\":\"\"}},\"name\":\"\",\"offsetgroup\":\"\",\"orientation\":\"v\",\"showlegend\":false,\"textposition\":\"auto\",\"x\":[\"Linda\",\"Patricia\",\"George\",\"Mary\",\"Charles\",\"Richard\",\"Jennifer\",\"Thomas\",\"Elizabeth\",\"Robert\",\"William\",\"Anthony\",\"James\",\"David\",\"John\",\"Joseph\",\"Daniel\",\"Christopher\",\"Matthew\",\"Michael\"],\"xaxis\":\"x\",\"y\":[0.0336711646208635,0.0592317567418109,0.0901720888711202,0.2039931871191,0.2320934534571929,0.2404498008813488,0.3478261344492607,0.3875870555262901,0.4433233466789117,0.5087267848516352,0.5517647049185297,0.5616776268628715,0.6222747998504596,0.6310953887981797,0.6358470373334841,0.6937953028042646,0.7326823574839966,0.8950849657567259,0.8995362227179593,1.135288991713835],\"yaxis\":\"y\",\"type\":\"bar\"}],\"name\":\"1995\"},{\"data\":[{\"alignmentgroup\":\"True\",\"hovertemplate\":\"year=1996\\u003cbr\\u003ename=%{x}\\u003cbr\\u003epercentage=%{y}\\u003cextra\\u003e\\u003c\\u002fextra\\u003e\",\"legendgroup\":\"\",\"marker\":{\"color\":\"rgb(76,114,176)\",\"pattern\":{\"shape\":\"\"}},\"name\":\"\",\"offsetgroup\":\"\",\"orientation\":\"v\",\"showlegend\":false,\"textposition\":\"auto\",\"x\":[\"Linda\",\"Patricia\",\"George\",\"Mary\",\"Richard\",\"Charles\",\"Jennifer\",\"Thomas\",\"Elizabeth\",\"Robert\",\"Anthony\",\"William\",\"James\",\"John\",\"David\",\"Joseph\",\"Daniel\",\"Christopher\",\"Matthew\",\"Michael\"],\"xaxis\":\"x\",\"y\":[0.0270639482434208,0.0542375781413237,0.08892440137124,0.1914493278982417,0.2250941754105795,0.2266571389869473,0.3225737458314116,0.3793340020258201,0.4395218099227896,0.4856155252188286,0.5640653285870425,0.5644217939641089,0.5819982790948411,0.609281590647226,0.6329179871880859,0.6802730415106674,0.6908847415817959,0.8494021527218325,0.8813469345897001,1.056316593902029],\"yaxis\":\"y\",\"type\":\"bar\"}],\"name\":\"1996\"},{\"data\":[{\"alignmentgroup\":\"True\",\"hovertemplate\":\"year=1997\\u003cbr\\u003ename=%{x}\\u003cbr\\u003epercentage=%{y}\\u003cextra\\u003e\\u003c\\u002fextra\\u003e\",\"legendgroup\":\"\",\"marker\":{\"color\":\"rgb(76,114,176)\",\"pattern\":{\"shape\":\"\"}},\"name\":\"\",\"offsetgroup\":\"\",\"orientation\":\"v\",\"showlegend\":false,\"textposition\":\"auto\",\"x\":[\"Linda\",\"Patricia\",\"George\",\"Mary\",\"Richard\",\"Charles\",\"Jennifer\",\"Thomas\",\"Elizabeth\",\"Robert\",\"William\",\"Anthony\",\"James\",\"John\",\"David\",\"Joseph\",\"Daniel\",\"Christopher\",\"Matthew\",\"Michael\"],\"xaxis\":\"x\",\"y\":[0.0303128261593897,0.0492893724720923,0.0878216910750654,0.1837525458360823,0.2001915307232491,0.2115278105699362,0.3275660814093836,0.3562515583937015,0.4263654838688323,0.4506653927372785,0.5528849866833189,0.553629705797335,0.5639730268253341,0.5906725861722761,0.604904995906803,0.6521808685521115,0.6627448470953747,0.8044069718948523,0.8706042264740473,1.0396554653556669],\"yaxis\":\"y\",\"type\":\"bar\"}],\"name\":\"1997\"},{\"data\":[{\"alignmentgroup\":\"True\",\"hovertemplate\":\"year=1998\\u003cbr\\u003ename=%{x}\\u003cbr\\u003epercentage=%{y}\\u003cextra\\u003e\\u003c\\u002fextra\\u003e\",\"legendgroup\":\"\",\"marker\":{\"color\":\"rgb(76,114,176)\",\"pattern\":{\"shape\":\"\"}},\"name\":\"\",\"offsetgroup\":\"\",\"orientation\":\"v\",\"showlegend\":false,\"textposition\":\"auto\",\"x\":[\"Linda\",\"Patricia\",\"George\",\"Mary\",\"Richard\",\"Charles\",\"Jennifer\",\"Thomas\",\"Elizabeth\",\"Robert\",\"Anthony\",\"James\",\"John\",\"William\",\"David\",\"Daniel\",\"Joseph\",\"Christopher\",\"Matthew\",\"Michael\"],\"xaxis\":\"x\",\"y\":[0.0264275427197693,0.0464928992292238,0.0828987425438032,0.1762923734516301,0.1894517671515975,0.2136770146447194,0.2913826906664281,0.3508446617859092,0.4137052366502165,0.4228678723462682,0.5352121177352466,0.5364899927433012,0.5616668492849746,0.5674036924062413,0.5690893998636752,0.6317324640883136,0.6317324640883136,0.7356753610200815,0.8482643058786873,0.9990535568291408],\"yaxis\":\"y\",\"type\":\"bar\"}],\"name\":\"1998\"},{\"data\":[{\"alignmentgroup\":\"True\",\"hovertemplate\":\"year=1999\\u003cbr\\u003ename=%{x}\\u003cbr\\u003epercentage=%{y}\\u003cextra\\u003e\\u003c\\u002fextra\\u003e\",\"legendgroup\":\"\",\"marker\":{\"color\":\"rgb(76,114,176)\",\"pattern\":{\"shape\":\"\"}},\"name\":\"\",\"offsetgroup\":\"\",\"orientation\":\"v\",\"showlegend\":false,\"textposition\":\"auto\",\"x\":[\"Linda\",\"Patricia\",\"George\",\"Mary\",\"Richard\",\"Charles\",\"Jennifer\",\"Thomas\",\"Robert\",\"Elizabeth\",\"James\",\"Anthony\",\"David\",\"John\",\"William\",\"Daniel\",\"Joseph\",\"Christopher\",\"Matthew\",\"Michael\"],\"xaxis\":\"x\",\"y\":[0.0243663595873638,0.0416123274286424,0.082656106466913,0.1732177429332819,0.1763312222138895,0.2040276509448597,0.2881186652541397,0.3468415918596866,0.3942747718564215,0.4161232742864244,0.5034089890749366,0.5286146343814208,0.5520875607839145,0.5524124455784126,0.5615633672901116,0.6163606026288053,0.6297350266689806,0.694955649164491,0.8245034609706421,0.9214544983954752],\"yaxis\":\"y\",\"type\":\"bar\"}],\"name\":\"1999\"},{\"data\":[{\"alignmentgroup\":\"True\",\"hovertemplate\":\"year=2000\\u003cbr\\u003ename=%{x}\\u003cbr\\u003epercentage=%{y}\\u003cextra\\u003e\\u003c\\u002fextra\\u003e\",\"legendgroup\":\"\",\"marker\":{\"color\":\"rgb(76,114,176)\",\"pattern\":{\"shape\":\"\"}},\"name\":\"\",\"offsetgroup\":\"\",\"orientation\":\"v\",\"showlegend\":false,\"textposition\":\"auto\",\"x\":[\"Linda\",\"Patricia\",\"George\",\"Mary\",\"Richard\",\"Charles\",\"Jennifer\",\"Thomas\",\"Robert\",\"Elizabeth\",\"James\",\"Anthony\",\"David\",\"John\",\"William\",\"Daniel\",\"Joseph\",\"Christopher\",\"Matthew\",\"Michael\"],\"xaxis\":\"x\",\"y\":[0.0225155028894454,0.0369878649112159,0.0805372394776403,0.1646991838857789,0.168403261916945,0.1994381442780725,0.2492579937972567,0.3350074002187522,0.3641108704636289,0.4004372928692793,0.47703233501375,0.521375440586853,0.5246297377142346,0.5327522516825774,0.5478066831092454,0.5925731118859101,0.6049817732903165,0.6610720977622606,0.7572193803712438,0.8507738083584108],\"yaxis\":\"y\",\"type\":\"bar\"}],\"name\":\"2000\"},{\"data\":[{\"alignmentgroup\":\"True\",\"hovertemplate\":\"year=2001\\u003cbr\\u003ename=%{x}\\u003cbr\\u003epercentage=%{y}\\u003cextra\\u003e\\u003c\\u002fextra\\u003e\",\"legendgroup\":\"\",\"marker\":{\"color\":\"rgb(76,114,176)\",\"pattern\":{\"shape\":\"\"}},\"name\":\"\",\"offsetgroup\":\"\",\"orientation\":\"v\",\"showlegend\":false,\"textposition\":\"auto\",\"x\":[\"Linda\",\"Patricia\",\"George\",\"Mary\",\"Richard\",\"Charles\",\"Jennifer\",\"Thomas\",\"Robert\",\"Elizabeth\",\"James\",\"John\",\"David\",\"Anthony\",\"William\",\"Daniel\",\"Joseph\",\"Christopher\",\"Matthew\",\"Michael\"],\"xaxis\":\"x\",\"y\":[0.0224146120829452,0.0327002207264899,0.0827123230140627,0.1540436868537098,0.1544711407194155,0.1950258262282486,0.2390268585293343,0.3249183696695835,0.3389441996380534,0.3954482575110323,0.4572420569721199,0.5057847865963292,0.5183412439014355,0.5283329780123075,0.5378705423908671,0.5629567411344732,0.5891382904089504,0.6190333451417463,0.7176416087867417,0.7957053710112544],\"yaxis\":\"y\",\"type\":\"bar\"}],\"name\":\"2001\"},{\"data\":[{\"alignmentgroup\":\"True\",\"hovertemplate\":\"year=2002\\u003cbr\\u003ename=%{x}\\u003cbr\\u003epercentage=%{y}\\u003cextra\\u003e\\u003c\\u002fextra\\u003e\",\"legendgroup\":\"\",\"marker\":{\"color\":\"rgb(76,114,176)\",\"pattern\":{\"shape\":\"\"}},\"name\":\"\",\"offsetgroup\":\"\",\"orientation\":\"v\",\"showlegend\":false,\"textposition\":\"auto\",\"x\":[\"Linda\",\"Patricia\",\"George\",\"Richard\",\"Mary\",\"Charles\",\"Jennifer\",\"Thomas\",\"Robert\",\"Elizabeth\",\"James\",\"John\",\"David\",\"Anthony\",\"William\",\"Daniel\",\"Christopher\",\"Joseph\",\"Matthew\",\"Michael\"],\"xaxis\":\"x\",\"y\":[0.0206271399654448,0.0298036756439761,0.0809835962067465,0.1426509861164098,0.1469048321015015,0.1930282942291629,0.2291726082282758,0.302504632411524,0.3222221449336159,0.3915678606151115,0.4547334604314737,0.4678963046117576,0.5012314750358099,0.5253098485363291,0.5395428426499694,0.5718613706373331,0.5809843988191966,0.5871912684326638,0.6738734130345332,0.7584955190146916],\"yaxis\":\"y\",\"type\":\"bar\"}],\"name\":\"2002\"},{\"data\":[{\"alignmentgroup\":\"True\",\"hovertemplate\":\"year=2003\\u003cbr\\u003ename=%{x}\\u003cbr\\u003epercentage=%{y}\\u003cextra\\u003e\\u003c\\u002fextra\\u003e\",\"legendgroup\":\"\",\"marker\":{\"color\":\"rgb(76,114,176)\",\"pattern\":{\"shape\":\"\"}},\"name\":\"\",\"offsetgroup\":\"\",\"orientation\":\"v\",\"showlegend\":false,\"textposition\":\"auto\",\"x\":[\"Linda\",\"Patricia\",\"George\",\"Mary\",\"Richard\",\"Jennifer\",\"Charles\",\"Thomas\",\"Robert\",\"Elizabeth\",\"James\",\"John\",\"David\",\"William\",\"Anthony\",\"Christopher\",\"Daniel\",\"Joseph\",\"Matthew\",\"Michael\"],\"xaxis\":\"x\",\"y\":[0.0194909726021632,0.0267244644585665,0.0766750136778755,0.132596481629561,0.1332014645848238,0.1994865535962291,0.2025903791927949,0.2879981903118555,0.3002030638441143,0.3721171247001388,0.4452937586801901,0.4543421994023821,0.4908779091789066,0.5268086360001684,0.530990909473507,0.546983502377846,0.5554269601447751,0.5632391313496907,0.6325228315306595,0.7159841757501789],\"yaxis\":\"y\",\"type\":\"bar\"}],\"name\":\"2003\"},{\"data\":[{\"alignmentgroup\":\"True\",\"hovertemplate\":\"year=2004\\u003cbr\\u003ename=%{x}\\u003cbr\\u003epercentage=%{y}\\u003cextra\\u003e\\u003c\\u002fextra\\u003e\",\"legendgroup\":\"\",\"marker\":{\"color\":\"rgb(76,114,176)\",\"pattern\":{\"shape\":\"\"}},\"name\":\"\",\"offsetgroup\":\"\",\"orientation\":\"v\",\"showlegend\":false,\"textposition\":\"auto\",\"x\":[\"Linda\",\"Patricia\",\"George\",\"Mary\",\"Richard\",\"Jennifer\",\"Charles\",\"Thomas\",\"Robert\",\"Elizabeth\",\"John\",\"James\",\"David\",\"Anthony\",\"Christopher\",\"Joseph\",\"William\",\"Daniel\",\"Matthew\",\"Michael\"],\"xaxis\":\"x\",\"y\":[0.0190819763273556,0.0260970238660816,0.0719304128224598,0.127082297763116,0.1275011065713981,0.171921015799824,0.2017087922888922,0.2759426535569039,0.2804448482459371,0.3567989291058772,0.4326294989554646,0.4335456432235819,0.4833577158586404,0.5148207275808373,0.5165483139150012,0.5298454935779595,0.5325153997307583,0.5516759027096668,0.601671204198349,0.670434375408175],\"yaxis\":\"y\",\"type\":\"bar\"}],\"name\":\"2004\"},{\"data\":[{\"alignmentgroup\":\"True\",\"hovertemplate\":\"year=2005\\u003cbr\\u003ename=%{x}\\u003cbr\\u003epercentage=%{y}\\u003cextra\\u003e\\u003c\\u002fextra\\u003e\",\"legendgroup\":\"\",\"marker\":{\"color\":\"rgb(76,114,176)\",\"pattern\":{\"shape\":\"\"}},\"name\":\"\",\"offsetgroup\":\"\",\"orientation\":\"v\",\"showlegend\":false,\"textposition\":\"auto\",\"x\":[\"Linda\",\"Patricia\",\"George\",\"Mary\",\"Richard\",\"Jennifer\",\"Charles\",\"Thomas\",\"Robert\",\"Elizabeth\",\"John\",\"James\",\"David\",\"William\",\"Christopher\",\"Joseph\",\"Anthony\",\"Daniel\",\"Matthew\",\"Michael\"],\"xaxis\":\"x\",\"y\":[0.0195881188304254,0.0228658120211739,0.0736440430397534,0.116618242651789,0.1215347824379117,0.1522046258656296,0.2067287919593503,0.2614350521192237,0.2648948393761249,0.3320355229104251,0.4115065760670647,0.420533239060634,0.472352007600086,0.4964404512082851,0.4999782787792518,0.5011488834902333,0.5049208320033963,0.5274744827683084,0.5595490518492042,0.6213829940270545],\"yaxis\":\"y\",\"type\":\"bar\"}],\"name\":\"2005\"},{\"data\":[{\"alignmentgroup\":\"True\",\"hovertemplate\":\"year=2006\\u003cbr\\u003ename=%{x}\\u003cbr\\u003epercentage=%{y}\\u003cextra\\u003e\\u003c\\u002fextra\\u003e\",\"legendgroup\":\"\",\"marker\":{\"color\":\"rgb(76,114,176)\",\"pattern\":{\"shape\":\"\"}},\"name\":\"\",\"offsetgroup\":\"\",\"orientation\":\"v\",\"showlegend\":false,\"textposition\":\"auto\",\"x\":[\"Linda\",\"Patricia\",\"George\",\"Mary\",\"Richard\",\"Jennifer\",\"Charles\",\"Thomas\",\"Robert\",\"Elizabeth\",\"John\",\"James\",\"David\",\"Joseph\",\"William\",\"Anthony\",\"Christopher\",\"Daniel\",\"Matthew\",\"Michael\"],\"xaxis\":\"x\",\"y\":[0.0176976965436651,0.0197455728580035,0.0684648032003503,0.1039613259822158,0.1131388457612879,0.1335670440574042,0.2029420145085716,0.2408909323829164,0.2507510776001013,0.3148167390881691,0.3844698161993084,0.4120529403837922,0.4470690971166154,0.4674214481418303,0.4798351181460297,0.4914144681703135,0.4986705237532162,0.5087582107831053,0.5146742979134162,0.5741891231473988],\"yaxis\":\"y\",\"type\":\"bar\"}],\"name\":\"2006\"},{\"data\":[{\"alignmentgroup\":\"True\",\"hovertemplate\":\"year=2007\\u003cbr\\u003ename=%{x}\\u003cbr\\u003epercentage=%{y}\\u003cextra\\u003e\\u003c\\u002fextra\\u003e\",\"legendgroup\":\"\",\"marker\":{\"color\":\"rgb(76,114,176)\",\"pattern\":{\"shape\":\"\"}},\"name\":\"\",\"offsetgroup\":\"\",\"orientation\":\"v\",\"showlegend\":false,\"textposition\":\"auto\",\"x\":[\"Linda\",\"Patricia\",\"George\",\"Mary\",\"Richard\",\"Jennifer\",\"Charles\",\"Thomas\",\"Robert\",\"Elizabeth\",\"John\",\"James\",\"Joseph\",\"David\",\"Matthew\",\"William\",\"Anthony\",\"Christopher\",\"Daniel\",\"Michael\"],\"xaxis\":\"x\",\"y\":[0.0165638805318857,0.0181902434239893,0.0692830592036126,0.0925525590444792,0.1108929282738935,0.1165726879124706,0.1867314809810621,0.223637408148028,0.2349719064576114,0.3273242977615241,0.3617281281714076,0.4003605021007604,0.434739311543073,0.4398686098950921,0.4697436451746564,0.4732966225697134,0.4919872853451192,0.5017204417301699,0.5076253900768845,0.5520876494502394],\"yaxis\":\"y\",\"type\":\"bar\"}],\"name\":\"2007\"},{\"data\":[{\"alignmentgroup\":\"True\",\"hovertemplate\":\"year=2008\\u003cbr\\u003ename=%{x}\\u003cbr\\u003epercentage=%{y}\\u003cextra\\u003e\\u003c\\u002fextra\\u003e\",\"legendgroup\":\"\",\"marker\":{\"color\":\"rgb(76,114,176)\",\"pattern\":{\"shape\":\"\"}},\"name\":\"\",\"offsetgroup\":\"\",\"orientation\":\"v\",\"showlegend\":false,\"textposition\":\"auto\",\"x\":[\"Linda\",\"Patricia\",\"George\",\"Mary\",\"Jennifer\",\"Richard\",\"Charles\",\"Thomas\",\"Robert\",\"Elizabeth\",\"John\",\"James\",\"David\",\"Joseph\",\"Matthew\",\"Christopher\",\"William\",\"Anthony\",\"Daniel\",\"Michael\"],\"xaxis\":\"x\",\"y\":[0.0156256839417849,0.0160328678881506,0.064945839445334,0.0891987332507428,0.0969606772283396,0.1033992733802477,0.1859049205126038,0.2128299589660378,0.2250963753503054,0.3061514296737337,0.3397186562522586,0.3872828309871055,0.4163455851589596,0.4229623242874026,0.4483858719386129,0.4580564906647991,0.4689232122334344,0.4692031511965609,0.4852614680813594,0.5267178836207204],\"yaxis\":\"y\",\"type\":\"bar\"}],\"name\":\"2008\"},{\"data\":[{\"alignmentgroup\":\"True\",\"hovertemplate\":\"year=2009\\u003cbr\\u003ename=%{x}\\u003cbr\\u003epercentage=%{y}\\u003cextra\\u003e\\u003c\\u002fextra\\u003e\",\"legendgroup\":\"\",\"marker\":{\"color\":\"rgb(76,114,176)\",\"pattern\":{\"shape\":\"\"}},\"name\":\"\",\"offsetgroup\":\"\",\"orientation\":\"v\",\"showlegend\":false,\"textposition\":\"auto\",\"x\":[\"Linda\",\"Patricia\",\"George\",\"Jennifer\",\"Mary\",\"Richard\",\"Charles\",\"Thomas\",\"Robert\",\"Elizabeth\",\"John\",\"James\",\"Joseph\",\"David\",\"Matthew\",\"Anthony\",\"Christopher\",\"Daniel\",\"William\",\"Michael\"],\"xaxis\":\"x\",\"y\":[0.0144285294186192,0.0147951345218147,0.0625061700948171,0.0783487477686187,0.0829836837161607,0.0947412330972134,0.1907132118980115,0.2026278777518622,0.2055607185774255,0.2895918454455731,0.3179251827068183,0.3736229723137207,0.3916651806066947,0.4049938947157278,0.4194224241343471,0.4280638301382389,0.4290589011326264,0.460796428637829,0.4697782536661165,0.4975616832725685],\"yaxis\":\"y\",\"type\":\"bar\"}],\"name\":\"2009\"},{\"data\":[{\"alignmentgroup\":\"True\",\"hovertemplate\":\"year=2010\\u003cbr\\u003ename=%{x}\\u003cbr\\u003epercentage=%{y}\\u003cextra\\u003e\\u003c\\u002fextra\\u003e\",\"legendgroup\":\"\",\"marker\":{\"color\":\"rgb(76,114,176)\",\"pattern\":{\"shape\":\"\"}},\"name\":\"\",\"offsetgroup\":\"\",\"orientation\":\"v\",\"showlegend\":false,\"textposition\":\"auto\",\"x\":[\"Linda\",\"Patricia\",\"George\",\"Jennifer\",\"Mary\",\"Richard\",\"Charles\",\"Thomas\",\"Robert\",\"Elizabeth\",\"John\",\"Joseph\",\"James\",\"Matthew\",\"David\",\"Christopher\",\"Anthony\",\"Daniel\",\"William\",\"Michael\"],\"xaxis\":\"x\",\"y\":[0.0129654712448043,0.0129654712448043,0.0644213393791948,0.0711070834240104,0.0780635053653772,0.0877808418515667,0.1924790522375859,0.1933452215065498,0.2050114388479082,0.278365148813294,0.3132825974684037,0.3752678357786374,0.3769189709476,0.3831716303579336,0.385445324688964,0.3872047310165471,0.4203627733440738,0.4299989064612979,0.4625073218371017,0.4712772856853618],\"yaxis\":\"y\",\"type\":\"bar\"}],\"name\":\"2010\"},{\"data\":[{\"alignmentgroup\":\"True\",\"hovertemplate\":\"year=2011\\u003cbr\\u003ename=%{x}\\u003cbr\\u003epercentage=%{y}\\u003cextra\\u003e\\u003c\\u002fextra\\u003e\",\"legendgroup\":\"\",\"marker\":{\"color\":\"rgb(76,114,176)\",\"pattern\":{\"shape\":\"\"}},\"name\":\"\",\"offsetgroup\":\"\",\"orientation\":\"v\",\"showlegend\":false,\"textposition\":\"auto\",\"x\":[\"Patricia\",\"Linda\",\"Jennifer\",\"George\",\"Mary\",\"Richard\",\"Thomas\",\"Robert\",\"Charles\",\"Elizabeth\",\"John\",\"Joseph\",\"Christopher\",\"David\",\"James\",\"Matthew\",\"Anthony\",\"Daniel\",\"Michael\",\"William\"],\"xaxis\":\"x\",\"y\":[0.0117604939845073,0.0133741431591257,0.0624947180339517,0.063588717474371,0.074200512046438,0.086562705723176,0.1896448029966832,0.1912037521992807,0.1912584521713017,0.2767818584260794,0.3030925449681632,0.3558233179963728,0.3565344176326454,0.3627428644570248,0.3636727639813812,0.3882604014048047,0.3912962498519682,0.419029135666597,0.4608746142626347,0.4753974568342008],\"yaxis\":\"y\",\"type\":\"bar\"}],\"name\":\"2011\"},{\"data\":[{\"alignmentgroup\":\"True\",\"hovertemplate\":\"year=2012\\u003cbr\\u003ename=%{x}\\u003cbr\\u003epercentage=%{y}\\u003cextra\\u003e\\u003c\\u002fextra\\u003e\",\"legendgroup\":\"\",\"marker\":{\"color\":\"rgb(76,114,176)\",\"pattern\":{\"shape\":\"\"}},\"name\":\"\",\"offsetgroup\":\"\",\"orientation\":\"v\",\"showlegend\":false,\"textposition\":\"auto\",\"x\":[\"Patricia\",\"Linda\",\"Jennifer\",\"George\",\"Mary\",\"Richard\",\"Thomas\",\"Charles\",\"Robert\",\"Elizabeth\",\"John\",\"Christopher\",\"David\",\"Joseph\",\"Anthony\",\"James\",\"Matthew\",\"Daniel\",\"Michael\",\"William\"],\"xaxis\":\"x\",\"y\":[0.0108323601989543,0.0123095002260844,0.052794078747429,0.0639546922857456,0.0707933035224592,0.0829113226339157,0.1876788467803681,0.1902228101604256,0.1906057723896815,0.2661587493328934,0.2910786486794778,0.3264479459957606,0.3438727274269069,0.344611297440472,0.3618993066468839,0.3686558545487569,0.3831263559256429,0.3916335883041147,0.4439352870425003,0.4629192718356173],\"yaxis\":\"y\",\"type\":\"bar\"}],\"name\":\"2012\"},{\"data\":[{\"alignmentgroup\":\"True\",\"hovertemplate\":\"year=2013\\u003cbr\\u003ename=%{x}\\u003cbr\\u003epercentage=%{y}\\u003cextra\\u003e\\u003c\\u002fextra\\u003e\",\"legendgroup\":\"\",\"marker\":{\"color\":\"rgb(76,114,176)\",\"pattern\":{\"shape\":\"\"}},\"name\":\"\",\"offsetgroup\":\"\",\"orientation\":\"v\",\"showlegend\":false,\"textposition\":\"auto\",\"x\":[\"Patricia\",\"Linda\",\"Jennifer\",\"George\",\"Mary\",\"Richard\",\"Robert\",\"Thomas\",\"Charles\",\"Elizabeth\",\"John\",\"Christopher\",\"Joseph\",\"Anthony\",\"David\",\"Matthew\",\"James\",\"Daniel\",\"Michael\",\"William\"],\"xaxis\":\"x\",\"y\":[0.0114994516490597,0.0122130214411255,0.0464094814762771,0.07020428954247,0.0731957936707457,0.076791087623077,0.1846224612010148,0.1867357255852095,0.1931578537138014,0.2600961892079704,0.294759214107165,0.2987936279315368,0.3372440617270804,0.3376282916151158,0.3402081208633535,0.3669944330578222,0.3736361211224343,0.3935611853162706,0.4272910804873791,0.4574531266981588],\"yaxis\":\"y\",\"type\":\"bar\"}],\"name\":\"2013\"},{\"data\":[{\"alignmentgroup\":\"True\",\"hovertemplate\":\"year=2014\\u003cbr\\u003ename=%{x}\\u003cbr\\u003epercentage=%{y}\\u003cextra\\u003e\\u003c\\u002fextra\\u003e\",\"legendgroup\":\"\",\"marker\":{\"color\":\"rgb(76,114,176)\",\"pattern\":{\"shape\":\"\"}},\"name\":\"\",\"offsetgroup\":\"\",\"orientation\":\"v\",\"showlegend\":false,\"textposition\":\"auto\",\"x\":[\"Patricia\",\"Linda\",\"Jennifer\",\"Mary\",\"Richard\",\"George\",\"Robert\",\"Thomas\",\"Charles\",\"Elizabeth\",\"Christopher\",\"John\",\"Anthony\",\"Joseph\",\"David\",\"Matthew\",\"Daniel\",\"James\",\"Michael\",\"William\"],\"xaxis\":\"x\",\"y\":[0.0102316676322409,0.0127693371769128,0.0412236318586593,0.0712707191269552,0.0778848578338128,0.0811244359759472,0.1798775763420087,0.1901632369432852,0.1989910873806012,0.2588152970720153,0.2805204706243153,0.2891593456700068,0.3135641676740855,0.3278183114994765,0.3308689142499864,0.3496044745053299,0.3772488746515429,0.3913950325388627,0.4190394326850757,0.4552147219389091],\"yaxis\":\"y\",\"type\":\"bar\"}],\"name\":\"2014\"},{\"data\":[{\"alignmentgroup\":\"True\",\"hovertemplate\":\"year=2015\\u003cbr\\u003ename=%{x}\\u003cbr\\u003epercentage=%{y}\\u003cextra\\u003e\\u003c\\u002fextra\\u003e\",\"legendgroup\":\"\",\"marker\":{\"color\":\"rgb(76,114,176)\",\"pattern\":{\"shape\":\"\"}},\"name\":\"\",\"offsetgroup\":\"\",\"orientation\":\"v\",\"showlegend\":false,\"textposition\":\"auto\",\"x\":[\"Patricia\",\"Linda\",\"Jennifer\",\"Mary\",\"Richard\",\"George\",\"Robert\",\"Thomas\",\"Charles\",\"Elizabeth\",\"Christopher\",\"John\",\"Anthony\",\"Joseph\",\"David\",\"Matthew\",\"Daniel\",\"Michael\",\"James\",\"William\"],\"xaxis\":\"x\",\"y\":[0.0094635825121647,0.0115996482791962,0.034771906030411,0.0713283733345446,0.0725721584647149,0.0825224395060767,0.1659371596490146,0.1948957221362388,0.1949227609434164,0.263871719246331,0.2665215223497372,0.2816632543692008,0.2883148009348938,0.3118385631794176,0.320139476982945,0.3459074602232107,0.3664299148710195,0.3923330921471733,0.4027700717177321,0.4312689744829369],\"yaxis\":\"y\",\"type\":\"bar\"}],\"name\":\"2015\"},{\"data\":[{\"alignmentgroup\":\"True\",\"hovertemplate\":\"year=2016\\u003cbr\\u003ename=%{x}\\u003cbr\\u003epercentage=%{y}\\u003cextra\\u003e\\u003c\\u002fextra\\u003e\",\"legendgroup\":\"\",\"marker\":{\"color\":\"rgb(76,114,176)\",\"pattern\":{\"shape\":\"\"}},\"name\":\"\",\"offsetgroup\":\"\",\"orientation\":\"v\",\"showlegend\":false,\"textposition\":\"auto\",\"x\":[\"Patricia\",\"Linda\",\"Jennifer\",\"Richard\",\"Mary\",\"George\",\"Robert\",\"Charles\",\"Thomas\",\"Christopher\",\"Elizabeth\",\"Anthony\",\"John\",\"Joseph\",\"David\",\"Matthew\",\"Daniel\",\"Michael\",\"James\",\"William\"],\"xaxis\":\"x\",\"y\":[0.0105568679654978,0.0120299193095208,0.0318342762680517,0.0687423960544046,0.0688787896973697,0.0904289852858538,0.1636723715581064,0.1947428434255536,0.2011260659163197,0.2484273812966125,0.2619849094073423,0.2700048556136896,0.2743421734599794,0.2991930952082186,0.3043487749122989,0.3455396550877556,0.3548417015379747,0.386103124505573,0.4084171244946615,0.4314949288843546],\"yaxis\":\"y\",\"type\":\"bar\"}],\"name\":\"2016\"},{\"data\":[{\"alignmentgroup\":\"True\",\"hovertemplate\":\"year=2017\\u003cbr\\u003ename=%{x}\\u003cbr\\u003epercentage=%{y}\\u003cextra\\u003e\\u003c\\u002fextra\\u003e\",\"legendgroup\":\"\",\"marker\":{\"color\":\"rgb(76,114,176)\",\"pattern\":{\"shape\":\"\"}},\"name\":\"\",\"offsetgroup\":\"\",\"orientation\":\"v\",\"showlegend\":false,\"textposition\":\"auto\",\"x\":[\"Patricia\",\"Linda\",\"Jennifer\",\"Richard\",\"Mary\",\"George\",\"Robert\",\"Thomas\",\"Charles\",\"Christopher\",\"Anthony\",\"Elizabeth\",\"John\",\"David\",\"Joseph\",\"Matthew\",\"Daniel\",\"Michael\",\"James\",\"William\"],\"xaxis\":\"x\",\"y\":[0.0086207909967593,0.0114477386937486,0.0293890602162251,0.0639002137844208,0.0677347864031093,0.0886709931095249,0.1555660920778849,0.2011891093659296,0.2013570468528794,0.2325094506820781,0.2482395952930481,0.2519062304247866,0.2666567396952158,0.2863614048306658,0.2934987480260348,0.3284297453116052,0.3289335577724548,0.3564193264699148,0.4036937290462998,0.4209912902021351],\"yaxis\":\"y\",\"type\":\"bar\"}],\"name\":\"2017\"},{\"data\":[{\"alignmentgroup\":\"True\",\"hovertemplate\":\"year=2018\\u003cbr\\u003ename=%{x}\\u003cbr\\u003epercentage=%{y}\\u003cextra\\u003e\\u003c\\u002fextra\\u003e\",\"legendgroup\":\"\",\"marker\":{\"color\":\"rgb(76,114,176)\",\"pattern\":{\"shape\":\"\"}},\"name\":\"\",\"offsetgroup\":\"\",\"orientation\":\"v\",\"showlegend\":false,\"textposition\":\"auto\",\"x\":[\"Patricia\",\"Linda\",\"Jennifer\",\"Richard\",\"Mary\",\"George\",\"Robert\",\"Charles\",\"Thomas\",\"Christopher\",\"Anthony\",\"Elizabeth\",\"John\",\"Joseph\",\"David\",\"Matthew\",\"Daniel\",\"Michael\",\"James\",\"William\"],\"xaxis\":\"x\",\"y\":[0.0084857976792197,0.0112479532996369,0.0261977646472556,0.0608528511425927,0.0671744856553,0.0877055599060297,0.1475617569587812,0.1898198903680501,0.194689257492703,0.2087847939061721,0.2289456823521036,0.2445504378159037,0.2620345981348331,0.2753897629387057,0.2792909518046558,0.2849006905389051,0.3215775610450629,0.3345625400441375,0.3893785149854061,0.4170285470207162],\"yaxis\":\"y\",\"type\":\"bar\"}],\"name\":\"2018\"},{\"data\":[{\"alignmentgroup\":\"True\",\"hovertemplate\":\"year=2019\\u003cbr\\u003ename=%{x}\\u003cbr\\u003epercentage=%{y}\\u003cextra\\u003e\\u003c\\u002fextra\\u003e\",\"legendgroup\":\"\",\"marker\":{\"color\":\"rgb(76,114,176)\",\"pattern\":{\"shape\":\"\"}},\"name\":\"\",\"offsetgroup\":\"\",\"orientation\":\"v\",\"showlegend\":false,\"textposition\":\"auto\",\"x\":[\"Patricia\",\"Linda\",\"Jennifer\",\"Richard\",\"Mary\",\"George\",\"Robert\",\"Charles\",\"Thomas\",\"Christopher\",\"Anthony\",\"Elizabeth\",\"John\",\"David\",\"Joseph\",\"Matthew\",\"Daniel\",\"Michael\",\"James\",\"William\"],\"xaxis\":\"x\",\"y\":[0.0081077470532955,0.0103871492497737,0.0227074623876997,0.0573024400279183,0.0644868849256785,0.0922436559764627,0.1399956893330613,0.1848046970688907,0.1919025823895694,0.2020877592928197,0.2225158194840414,0.2286038430721032,0.2556104311215149,0.2591305205894938,0.264526067560904,0.2674402399893127,0.3054687475204288,0.3064786092530456,0.3820739732375099,0.3935863969893424],\"yaxis\":\"y\",\"type\":\"bar\"}],\"name\":\"2019\"},{\"data\":[{\"alignmentgroup\":\"True\",\"hovertemplate\":\"year=2020\\u003cbr\\u003ename=%{x}\\u003cbr\\u003epercentage=%{y}\\u003cextra\\u003e\\u003c\\u002fextra\\u003e\",\"legendgroup\":\"\",\"marker\":{\"color\":\"rgb(76,114,176)\",\"pattern\":{\"shape\":\"\"}},\"name\":\"\",\"offsetgroup\":\"\",\"orientation\":\"v\",\"showlegend\":false,\"textposition\":\"auto\",\"x\":[\"Patricia\",\"Linda\",\"Jennifer\",\"Richard\",\"Mary\",\"George\",\"Robert\",\"Christopher\",\"Charles\",\"Thomas\",\"Anthony\",\"Elizabeth\",\"Matthew\",\"David\",\"John\",\"Joseph\",\"Daniel\",\"Michael\",\"James\",\"William\"],\"xaxis\":\"x\",\"y\":[0.0065087353527209,0.0099880593200741,0.0213258563861041,0.0547093699694149,0.0667370329944891,0.0831738393230195,0.1315544389725076,0.1859938613927313,0.1872836107944226,0.1932524510487612,0.2106490708855269,0.2182975847792773,0.2437626369196465,0.2473919317476614,0.2477518618132496,0.2539606554446471,0.2855145245278842,0.2948127178889141,0.3729475362936981,0.3796362366792132],\"yaxis\":\"y\",\"type\":\"bar\"}],\"name\":\"2020\"},{\"data\":[{\"alignmentgroup\":\"True\",\"hovertemplate\":\"year=2021\\u003cbr\\u003ename=%{x}\\u003cbr\\u003epercentage=%{y}\\u003cextra\\u003e\\u003c\\u002fextra\\u003e\",\"legendgroup\":\"\",\"marker\":{\"color\":\"rgb(76,114,176)\",\"pattern\":{\"shape\":\"\"}},\"name\":\"\",\"offsetgroup\":\"\",\"orientation\":\"v\",\"showlegend\":false,\"textposition\":\"auto\",\"x\":[\"Patricia\",\"Linda\",\"Jennifer\",\"Richard\",\"Mary\",\"George\",\"Robert\",\"Christopher\",\"Charles\",\"Thomas\",\"Anthony\",\"Elizabeth\",\"Matthew\",\"David\",\"Joseph\",\"John\",\"Michael\",\"Daniel\",\"William\",\"James\"],\"xaxis\":\"x\",\"y\":[0.0062431336625328,0.0096457894501692,0.0187589892987954,0.0526080173079785,0.0619875119573762,0.0828472713511472,0.1307507471788285,0.1729732672567167,0.1771748074466678,0.1975315655500925,0.2006087499145637,0.2143673146210935,0.2207879781508074,0.2341618948117784,0.2407600882086733,0.2421507388349247,0.2700821046047401,0.2701708695383306,0.359941805709538,0.3697651250268884],\"yaxis\":\"y\",\"type\":\"bar\"}],\"name\":\"2021\"},{\"data\":[{\"alignmentgroup\":\"True\",\"hovertemplate\":\"year=2022\\u003cbr\\u003ename=%{x}\\u003cbr\\u003epercentage=%{y}\\u003cextra\\u003e\\u003c\\u002fextra\\u003e\",\"legendgroup\":\"\",\"marker\":{\"color\":\"rgb(76,114,176)\",\"pattern\":{\"shape\":\"\"}},\"name\":\"\",\"offsetgroup\":\"\",\"orientation\":\"v\",\"showlegend\":false,\"textposition\":\"auto\",\"x\":[\"Patricia\",\"Linda\",\"Jennifer\",\"Richard\",\"Mary\",\"George\",\"Robert\",\"Christopher\",\"Charles\",\"Thomas\",\"Anthony\",\"Elizabeth\",\"Matthew\",\"David\",\"Joseph\",\"John\",\"Michael\",\"Daniel\",\"William\",\"James\"],\"xaxis\":\"x\",\"y\":[0.0065736715234498,0.0102918115254011,0.0185609548897407,0.0499420565062095,0.0623755166727346,0.0779322144408988,0.1206759519033307,0.1647879648864807,0.1754367178520691,0.1925996521010763,0.1951577324224187,0.2071450157887097,0.2092271741898024,0.2304056996409169,0.2313575434814164,0.2360870175638985,0.2631848218981193,0.2694312971013975,0.335792659856224,0.3602728936290712],\"yaxis\":\"y\",\"type\":\"bar\"}],\"name\":\"2022\"}]);\n",
       "                        }).then(function(){\n",
       "                            \n",
       "var gd = document.getElementById('87925288-33f4-4647-994f-f56c2dfce194');\n",
       "var x = new MutationObserver(function (mutations, observer) {{\n",
       "        var display = window.getComputedStyle(gd).display;\n",
       "        if (!display || display === 'none') {{\n",
       "            console.log([gd, 'removed!']);\n",
       "            Plotly.purge(gd);\n",
       "            observer.disconnect();\n",
       "        }}\n",
       "}});\n",
       "\n",
       "// Listen for the removal of the full notebook cells\n",
       "var notebookContainer = gd.closest('#notebook-container');\n",
       "if (notebookContainer) {{\n",
       "    x.observe(notebookContainer, {childList: true});\n",
       "}}\n",
       "\n",
       "// Listen for the clearing of the current output cell\n",
       "var outputEl = gd.closest('.output');\n",
       "if (outputEl) {{\n",
       "    x.observe(outputEl, {childList: true});\n",
       "}}\n",
       "\n",
       "                        })                };                });            </script>        </div>"
      ]
     },
     "metadata": {},
     "output_type": "display_data"
    }
   ],
   "source": [
    "fig = px.bar(baby_names[baby_names.name.isin(most_popular)].sort_values(['year', 'percentage']), x='name', y='percentage', animation_frame='year', range_y=[0,baby_names['percentage'].max()])\n",
    "fig.show()"
   ]
  },
  {
   "cell_type": "code",
   "execution_count": null,
   "metadata": {},
   "outputs": [],
   "source": []
  }
 ],
 "metadata": {
  "kernelspec": {
   "display_name": "ada",
   "language": "python",
   "name": "python3"
  },
  "language_info": {
   "codemirror_mode": {
    "name": "ipython",
    "version": 3
   },
   "file_extension": ".py",
   "mimetype": "text/x-python",
   "name": "python",
   "nbconvert_exporter": "python",
   "pygments_lexer": "ipython3",
   "version": "3.12.0"
  }
 },
 "nbformat": 4,
 "nbformat_minor": 2
}
