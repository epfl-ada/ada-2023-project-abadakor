{
 "cells": [
  {
   "cell_type": "code",
   "execution_count": 133,
   "metadata": {},
   "outputs": [],
   "source": [
    "import os\n",
    "import numpy as np\n",
    "import pandas as pd\n",
    "\n",
    "# Matching\n",
    "from sklearn.neighbors import NearestNeighbors\n",
    "import networkx as nx\n",
    "\n",
    "# Statical analysis\n",
    "from sklearn.linear_model import LinearRegression\n",
    "from scipy.stats import chi2_contingency\n",
    "import scipy.stats as st\n",
    "\n",
    "# Ploting\n",
    "import matplotlib.pyplot as plt\n",
    "import plotly.graph_objects as go\n",
    "import plotly.express as px"
   ]
  },
  {
   "cell_type": "markdown",
   "metadata": {},
   "source": [
    "# Parallel questions\n",
    "\n",
    "In this notebook, we try answering the question called 'parallel questions' listed in the [README](./README.md) file."
   ]
  },
  {
   "cell_type": "code",
   "execution_count": 252,
   "metadata": {},
   "outputs": [
    {
     "data": {
      "text/html": [
       "<div>\n",
       "<style scoped>\n",
       "    .dataframe tbody tr th:only-of-type {\n",
       "        vertical-align: middle;\n",
       "    }\n",
       "\n",
       "    .dataframe tbody tr th {\n",
       "        vertical-align: top;\n",
       "    }\n",
       "\n",
       "    .dataframe thead th {\n",
       "        text-align: right;\n",
       "    }\n",
       "</style>\n",
       "<table border=\"1\" class=\"dataframe\">\n",
       "  <thead>\n",
       "    <tr style=\"text-align: right;\">\n",
       "      <th></th>\n",
       "      <th>mov_name</th>\n",
       "      <th>year</th>\n",
       "      <th>month</th>\n",
       "      <th>revenue</th>\n",
       "      <th>numVotes</th>\n",
       "      <th>averageRating</th>\n",
       "    </tr>\n",
       "    <tr>\n",
       "      <th>wiki_ID</th>\n",
       "      <th></th>\n",
       "      <th></th>\n",
       "      <th></th>\n",
       "      <th></th>\n",
       "      <th></th>\n",
       "      <th></th>\n",
       "    </tr>\n",
       "  </thead>\n",
       "  <tbody>\n",
       "    <tr>\n",
       "      <th>28634595</th>\n",
       "      <td>La provinciale</td>\n",
       "      <td>1981</td>\n",
       "      <td>1.0</td>\n",
       "      <td>NaN</td>\n",
       "      <td>201</td>\n",
       "      <td>6.7</td>\n",
       "    </tr>\n",
       "    <tr>\n",
       "      <th>4173885</th>\n",
       "      <td>The Woman Chaser</td>\n",
       "      <td>1999</td>\n",
       "      <td>10.0</td>\n",
       "      <td>NaN</td>\n",
       "      <td>697</td>\n",
       "      <td>7.1</td>\n",
       "    </tr>\n",
       "  </tbody>\n",
       "</table>\n",
       "</div>"
      ],
      "text/plain": [
       "                  mov_name  year  month  revenue  numVotes  averageRating\n",
       "wiki_ID                                                                  \n",
       "28634595    La provinciale  1981    1.0      NaN       201            6.7\n",
       "4173885   The Woman Chaser  1999   10.0      NaN       697            7.1"
      ]
     },
     "metadata": {},
     "output_type": "display_data"
    },
    {
     "data": {
      "text/html": [
       "<div>\n",
       "<style scoped>\n",
       "    .dataframe tbody tr th:only-of-type {\n",
       "        vertical-align: middle;\n",
       "    }\n",
       "\n",
       "    .dataframe tbody tr th {\n",
       "        vertical-align: top;\n",
       "    }\n",
       "\n",
       "    .dataframe thead th {\n",
       "        text-align: right;\n",
       "    }\n",
       "</style>\n",
       "<table border=\"1\" class=\"dataframe\">\n",
       "  <thead>\n",
       "    <tr style=\"text-align: right;\">\n",
       "      <th></th>\n",
       "      <th>char_words</th>\n",
       "      <th>order</th>\n",
       "      <th>gender</th>\n",
       "      <th>t_stat</th>\n",
       "      <th>p_value</th>\n",
       "      <th>slope_change</th>\n",
       "    </tr>\n",
       "    <tr>\n",
       "      <th>wiki_ID</th>\n",
       "      <th></th>\n",
       "      <th></th>\n",
       "      <th></th>\n",
       "      <th></th>\n",
       "      <th></th>\n",
       "      <th></th>\n",
       "    </tr>\n",
       "  </thead>\n",
       "  <tbody>\n",
       "    <tr>\n",
       "      <th>6791799</th>\n",
       "      <td>Soldier</td>\n",
       "      <td>NaN</td>\n",
       "      <td>M</td>\n",
       "      <td>NaN</td>\n",
       "      <td>NaN</td>\n",
       "      <td>0.000000</td>\n",
       "    </tr>\n",
       "    <tr>\n",
       "      <th>15799422</th>\n",
       "      <td>Choya</td>\n",
       "      <td>0.0</td>\n",
       "      <td>M</td>\n",
       "      <td>-0.215389</td>\n",
       "      <td>0.833405</td>\n",
       "      <td>0.000006</td>\n",
       "    </tr>\n",
       "  </tbody>\n",
       "</table>\n",
       "</div>"
      ],
      "text/plain": [
       "         char_words  order gender    t_stat   p_value  slope_change\n",
       "wiki_ID                                                            \n",
       "6791799     Soldier    NaN      M       NaN       NaN      0.000000\n",
       "15799422      Choya    0.0      M -0.215389  0.833405      0.000006"
      ]
     },
     "metadata": {},
     "output_type": "display_data"
    },
    {
     "data": {
      "text/html": [
       "<div>\n",
       "<style scoped>\n",
       "    .dataframe tbody tr th:only-of-type {\n",
       "        vertical-align: middle;\n",
       "    }\n",
       "\n",
       "    .dataframe tbody tr th {\n",
       "        vertical-align: top;\n",
       "    }\n",
       "\n",
       "    .dataframe thead th {\n",
       "        text-align: right;\n",
       "    }\n",
       "</style>\n",
       "<table border=\"1\" class=\"dataframe\">\n",
       "  <thead>\n",
       "    <tr style=\"text-align: right;\">\n",
       "      <th></th>\n",
       "      <th>genre</th>\n",
       "    </tr>\n",
       "    <tr>\n",
       "      <th>wiki_ID</th>\n",
       "      <th></th>\n",
       "    </tr>\n",
       "  </thead>\n",
       "  <tbody>\n",
       "    <tr>\n",
       "      <th>16233994</th>\n",
       "      <td>Drama</td>\n",
       "    </tr>\n",
       "    <tr>\n",
       "      <th>156745</th>\n",
       "      <td>Comedy</td>\n",
       "    </tr>\n",
       "  </tbody>\n",
       "</table>\n",
       "</div>"
      ],
      "text/plain": [
       "           genre\n",
       "wiki_ID         \n",
       "16233994   Drama\n",
       "156745    Comedy"
      ]
     },
     "metadata": {},
     "output_type": "display_data"
    }
   ],
   "source": [
    "folder_processed_data_path = './data/processed_data/'\n",
    "\n",
    "# Import movie metadata\n",
    "movie_df = pd.read_csv(os.path.join(folder_processed_data_path, 'movie_df.csv'))\n",
    "movie_df.set_index(['wiki_ID'], inplace=True)\n",
    "display(movie_df.sample(2))\n",
    "\n",
    "# Import character metadata\n",
    "name_by_movie_df = pd.read_csv(os.path.join(folder_processed_data_path, 'name_by_movie_ordered_pvalue_10_5_df.csv'))\n",
    "name_by_movie_df.set_index(['wiki_ID'], inplace=True)\n",
    "display(name_by_movie_df.sample(2))\n",
    "\n",
    "# Dataset containing movie genre\n",
    "movie_genres_df = pd.read_csv(os.path.join(folder_processed_data_path, 'movie_genres_df.csv'))\n",
    "movie_genres_df.set_index(['wiki_ID'], inplace=True)\n",
    "display(movie_genres_df.sample(2))"
   ]
  },
  {
   "cell_type": "markdown",
   "metadata": {},
   "source": [
    "The significance value `alpha` is 0.05"
   ]
  },
  {
   "cell_type": "code",
   "execution_count": 135,
   "metadata": {},
   "outputs": [],
   "source": [
    "alpha = 0.05"
   ]
  },
  {
   "cell_type": "markdown",
   "metadata": {},
   "source": [
    "Let's combine the `name_by_movie` and the `movie` dataframes and use it to answer to the paralleles questions."
   ]
  },
  {
   "cell_type": "code",
   "execution_count": 136,
   "metadata": {},
   "outputs": [
    {
     "data": {
      "text/html": [
       "<div>\n",
       "<style scoped>\n",
       "    .dataframe tbody tr th:only-of-type {\n",
       "        vertical-align: middle;\n",
       "    }\n",
       "\n",
       "    .dataframe tbody tr th {\n",
       "        vertical-align: top;\n",
       "    }\n",
       "\n",
       "    .dataframe thead th {\n",
       "        text-align: right;\n",
       "    }\n",
       "</style>\n",
       "<table border=\"1\" class=\"dataframe\">\n",
       "  <thead>\n",
       "    <tr style=\"text-align: right;\">\n",
       "      <th></th>\n",
       "      <th>char_words</th>\n",
       "      <th>order</th>\n",
       "      <th>gender</th>\n",
       "      <th>t_stat</th>\n",
       "      <th>p_value</th>\n",
       "      <th>slope_change</th>\n",
       "      <th>mov_name</th>\n",
       "      <th>year</th>\n",
       "      <th>month</th>\n",
       "      <th>revenue</th>\n",
       "      <th>numVotes</th>\n",
       "      <th>averageRating</th>\n",
       "    </tr>\n",
       "    <tr>\n",
       "      <th>wiki_ID</th>\n",
       "      <th></th>\n",
       "      <th></th>\n",
       "      <th></th>\n",
       "      <th></th>\n",
       "      <th></th>\n",
       "      <th></th>\n",
       "      <th></th>\n",
       "      <th></th>\n",
       "      <th></th>\n",
       "      <th></th>\n",
       "      <th></th>\n",
       "      <th></th>\n",
       "    </tr>\n",
       "  </thead>\n",
       "  <tbody>\n",
       "    <tr>\n",
       "      <th>179044</th>\n",
       "      <td>Johnson</td>\n",
       "      <td>0.0</td>\n",
       "      <td>M</td>\n",
       "      <td>-1.644511</td>\n",
       "      <td>0.128317</td>\n",
       "      <td>0.000339</td>\n",
       "      <td>The Jerk</td>\n",
       "      <td>1979</td>\n",
       "      <td>12.0</td>\n",
       "      <td>73691419.0</td>\n",
       "      <td>62707</td>\n",
       "      <td>7.1</td>\n",
       "    </tr>\n",
       "    <tr>\n",
       "      <th>8432450</th>\n",
       "      <td>Ambrose</td>\n",
       "      <td>16.0</td>\n",
       "      <td>M</td>\n",
       "      <td>0.305896</td>\n",
       "      <td>0.765395</td>\n",
       "      <td>-0.000049</td>\n",
       "      <td>The Mist</td>\n",
       "      <td>2007</td>\n",
       "      <td>11.0</td>\n",
       "      <td>57293715.0</td>\n",
       "      <td>331176</td>\n",
       "      <td>7.1</td>\n",
       "    </tr>\n",
       "  </tbody>\n",
       "</table>\n",
       "</div>"
      ],
      "text/plain": [
       "        char_words  order gender    t_stat   p_value  slope_change  mov_name  \\\n",
       "wiki_ID                                                                        \n",
       "179044     Johnson    0.0      M -1.644511  0.128317      0.000339  The Jerk   \n",
       "8432450    Ambrose   16.0      M  0.305896  0.765395     -0.000049  The Mist   \n",
       "\n",
       "         year  month     revenue  numVotes  averageRating  \n",
       "wiki_ID                                                    \n",
       "179044   1979   12.0  73691419.0     62707            7.1  \n",
       "8432450  2007   11.0  57293715.0    331176            7.1  "
      ]
     },
     "metadata": {},
     "output_type": "display_data"
    }
   ],
   "source": [
    "# add movie info to the character dataframe\n",
    "name_by_movie_aggregate_df = name_by_movie_df.merge(movie_df, how='left', left_on='wiki_ID', right_on='wiki_ID').copy(deep=True)\n",
    "display(name_by_movie_aggregate_df.sample(2))"
   ]
  },
  {
   "cell_type": "markdown",
   "metadata": {},
   "source": [
    "# Question 1 : Effect of movie's release period of the year\n",
    "\n",
    "Looking at studies showing that baby conception rates are at the highest in fall or winter season leading to higher birth in the summer, will movies released in summer show the highest correlation with newborn naming?\n",
    "\n",
    "In order to study this question, we will divide the movies by season of release and then look at the seasonly/monthly proportion of influenced names with respect to all the names considered. Then, we look at the average influence over all the movies for the 4 different seasons.\n",
    "\n",
    "First, we separate the dataframe into four, one for each season."
   ]
  },
  {
   "cell_type": "code",
   "execution_count": 185,
   "metadata": {},
   "outputs": [],
   "source": [
    "summer = [6.0, 7.0, 8.0]\n",
    "fall = [9.0,10.0,11.0]\n",
    "winter = [12.0,1.0,2.0]\n",
    "spring = [3.0,4.0,5.0]\n",
    "summer_movies_df = name_by_movie_aggregate_df[(name_by_movie_aggregate_df['month'].isin(summer))]\n",
    "fall_movies_df = name_by_movie_aggregate_df[(name_by_movie_aggregate_df['month'].isin(fall))]\n",
    "winter_movies_df = name_by_movie_aggregate_df[(name_by_movie_aggregate_df['month'].isin(winter))]\n",
    "spring_movies_df = name_by_movie_aggregate_df[(name_by_movie_aggregate_df['month'].isin(spring))]"
   ]
  },
  {
   "cell_type": "markdown",
   "metadata": {},
   "source": [
    "### Proportion of influenced names during each season\n",
    "\n",
    "We first compute the proportion of influenced names per season to perform statistical test about their difference."
   ]
  },
  {
   "cell_type": "code",
   "execution_count": 193,
   "metadata": {},
   "outputs": [],
   "source": [
    "# Function to compute proportion of significant values and corresponding standard error for confidence interval\n",
    "def q1_prop_and_ci(data):\n",
    "    proportion = (data['p_value']<alpha).mean()\n",
    "    se = st.sem((data['p_value']<alpha).astype(int))\n",
    "\n",
    "    ci_upper = proportion + 1.96*se\n",
    "    ci_lower = proportion - 1.96*se\n",
    "    return pd.Series({\n",
    "        'proportion': proportion,\n",
    "        'ci_lower': ci_lower,\n",
    "        'ci_upper': ci_upper\n",
    "    })\n",
    "\n",
    "prop_summer = q1_prop_and_ci(summer_movies_df)\n",
    "prop_fall = q1_prop_and_ci(fall_movies_df)\n",
    "prop_winter = q1_prop_and_ci(winter_movies_df)\n",
    "prop_spring = q1_prop_and_ci(spring_movies_df)"
   ]
  },
  {
   "cell_type": "code",
   "execution_count": 194,
   "metadata": {},
   "outputs": [
    {
     "data": {
      "application/vnd.plotly.v1+json": {
       "config": {
        "plotlyServerURL": "https://plot.ly"
       },
       "data": [
        {
         "error_y": {
          "array": [
           0.003334600715342889,
           0.003334600715342889
          ],
          "type": "data"
         },
         "marker": {
          "color": "#e31a1c",
          "size": 10
         },
         "mode": "markers+lines",
         "name": "Summer",
         "type": "scatter",
         "x": [
          "Summer"
         ],
         "y": [
          0.09862273304463907
         ]
        },
        {
         "error_y": {
          "array": [
           0.002985182452355087,
           0.002985182452355087
          ],
          "type": "data"
         },
         "marker": {
          "color": "#ff7f00",
          "size": 10
         },
         "mode": "markers+lines",
         "name": "Fall",
         "type": "scatter",
         "x": [
          "Fall"
         ],
         "y": [
          0.1044368939262419
         ]
        },
        {
         "error_y": {
          "array": [
           0.0031856070159593936,
           0.0031856070159593936
          ],
          "type": "data"
         },
         "marker": {
          "color": "#1f78b4",
          "size": 10
         },
         "mode": "markers+lines",
         "name": "Winter",
         "type": "scatter",
         "x": [
          "Winter"
         ],
         "y": [
          0.10103536528617962
         ]
        },
        {
         "error_y": {
          "array": [
           0.0030538469548026387,
           0.0030538469548026387
          ],
          "type": "data"
         },
         "marker": {
          "color": "#33a02c",
          "size": 10
         },
         "mode": "markers+lines",
         "name": "Spring",
         "type": "scatter",
         "x": [
          "Spring"
         ],
         "y": [
          0.09722030147974
         ]
        }
       ],
       "layout": {
        "template": {
         "data": {
          "bar": [
           {
            "error_x": {
             "color": "#2a3f5f"
            },
            "error_y": {
             "color": "#2a3f5f"
            },
            "marker": {
             "line": {
              "color": "#E5ECF6",
              "width": 0.5
             },
             "pattern": {
              "fillmode": "overlay",
              "size": 10,
              "solidity": 0.2
             }
            },
            "type": "bar"
           }
          ],
          "barpolar": [
           {
            "marker": {
             "line": {
              "color": "#E5ECF6",
              "width": 0.5
             },
             "pattern": {
              "fillmode": "overlay",
              "size": 10,
              "solidity": 0.2
             }
            },
            "type": "barpolar"
           }
          ],
          "carpet": [
           {
            "aaxis": {
             "endlinecolor": "#2a3f5f",
             "gridcolor": "white",
             "linecolor": "white",
             "minorgridcolor": "white",
             "startlinecolor": "#2a3f5f"
            },
            "baxis": {
             "endlinecolor": "#2a3f5f",
             "gridcolor": "white",
             "linecolor": "white",
             "minorgridcolor": "white",
             "startlinecolor": "#2a3f5f"
            },
            "type": "carpet"
           }
          ],
          "choropleth": [
           {
            "colorbar": {
             "outlinewidth": 0,
             "ticks": ""
            },
            "type": "choropleth"
           }
          ],
          "contour": [
           {
            "colorbar": {
             "outlinewidth": 0,
             "ticks": ""
            },
            "colorscale": [
             [
              0,
              "#0d0887"
             ],
             [
              0.1111111111111111,
              "#46039f"
             ],
             [
              0.2222222222222222,
              "#7201a8"
             ],
             [
              0.3333333333333333,
              "#9c179e"
             ],
             [
              0.4444444444444444,
              "#bd3786"
             ],
             [
              0.5555555555555556,
              "#d8576b"
             ],
             [
              0.6666666666666666,
              "#ed7953"
             ],
             [
              0.7777777777777778,
              "#fb9f3a"
             ],
             [
              0.8888888888888888,
              "#fdca26"
             ],
             [
              1,
              "#f0f921"
             ]
            ],
            "type": "contour"
           }
          ],
          "contourcarpet": [
           {
            "colorbar": {
             "outlinewidth": 0,
             "ticks": ""
            },
            "type": "contourcarpet"
           }
          ],
          "heatmap": [
           {
            "colorbar": {
             "outlinewidth": 0,
             "ticks": ""
            },
            "colorscale": [
             [
              0,
              "#0d0887"
             ],
             [
              0.1111111111111111,
              "#46039f"
             ],
             [
              0.2222222222222222,
              "#7201a8"
             ],
             [
              0.3333333333333333,
              "#9c179e"
             ],
             [
              0.4444444444444444,
              "#bd3786"
             ],
             [
              0.5555555555555556,
              "#d8576b"
             ],
             [
              0.6666666666666666,
              "#ed7953"
             ],
             [
              0.7777777777777778,
              "#fb9f3a"
             ],
             [
              0.8888888888888888,
              "#fdca26"
             ],
             [
              1,
              "#f0f921"
             ]
            ],
            "type": "heatmap"
           }
          ],
          "heatmapgl": [
           {
            "colorbar": {
             "outlinewidth": 0,
             "ticks": ""
            },
            "colorscale": [
             [
              0,
              "#0d0887"
             ],
             [
              0.1111111111111111,
              "#46039f"
             ],
             [
              0.2222222222222222,
              "#7201a8"
             ],
             [
              0.3333333333333333,
              "#9c179e"
             ],
             [
              0.4444444444444444,
              "#bd3786"
             ],
             [
              0.5555555555555556,
              "#d8576b"
             ],
             [
              0.6666666666666666,
              "#ed7953"
             ],
             [
              0.7777777777777778,
              "#fb9f3a"
             ],
             [
              0.8888888888888888,
              "#fdca26"
             ],
             [
              1,
              "#f0f921"
             ]
            ],
            "type": "heatmapgl"
           }
          ],
          "histogram": [
           {
            "marker": {
             "pattern": {
              "fillmode": "overlay",
              "size": 10,
              "solidity": 0.2
             }
            },
            "type": "histogram"
           }
          ],
          "histogram2d": [
           {
            "colorbar": {
             "outlinewidth": 0,
             "ticks": ""
            },
            "colorscale": [
             [
              0,
              "#0d0887"
             ],
             [
              0.1111111111111111,
              "#46039f"
             ],
             [
              0.2222222222222222,
              "#7201a8"
             ],
             [
              0.3333333333333333,
              "#9c179e"
             ],
             [
              0.4444444444444444,
              "#bd3786"
             ],
             [
              0.5555555555555556,
              "#d8576b"
             ],
             [
              0.6666666666666666,
              "#ed7953"
             ],
             [
              0.7777777777777778,
              "#fb9f3a"
             ],
             [
              0.8888888888888888,
              "#fdca26"
             ],
             [
              1,
              "#f0f921"
             ]
            ],
            "type": "histogram2d"
           }
          ],
          "histogram2dcontour": [
           {
            "colorbar": {
             "outlinewidth": 0,
             "ticks": ""
            },
            "colorscale": [
             [
              0,
              "#0d0887"
             ],
             [
              0.1111111111111111,
              "#46039f"
             ],
             [
              0.2222222222222222,
              "#7201a8"
             ],
             [
              0.3333333333333333,
              "#9c179e"
             ],
             [
              0.4444444444444444,
              "#bd3786"
             ],
             [
              0.5555555555555556,
              "#d8576b"
             ],
             [
              0.6666666666666666,
              "#ed7953"
             ],
             [
              0.7777777777777778,
              "#fb9f3a"
             ],
             [
              0.8888888888888888,
              "#fdca26"
             ],
             [
              1,
              "#f0f921"
             ]
            ],
            "type": "histogram2dcontour"
           }
          ],
          "mesh3d": [
           {
            "colorbar": {
             "outlinewidth": 0,
             "ticks": ""
            },
            "type": "mesh3d"
           }
          ],
          "parcoords": [
           {
            "line": {
             "colorbar": {
              "outlinewidth": 0,
              "ticks": ""
             }
            },
            "type": "parcoords"
           }
          ],
          "pie": [
           {
            "automargin": true,
            "type": "pie"
           }
          ],
          "scatter": [
           {
            "fillpattern": {
             "fillmode": "overlay",
             "size": 10,
             "solidity": 0.2
            },
            "type": "scatter"
           }
          ],
          "scatter3d": [
           {
            "line": {
             "colorbar": {
              "outlinewidth": 0,
              "ticks": ""
             }
            },
            "marker": {
             "colorbar": {
              "outlinewidth": 0,
              "ticks": ""
             }
            },
            "type": "scatter3d"
           }
          ],
          "scattercarpet": [
           {
            "marker": {
             "colorbar": {
              "outlinewidth": 0,
              "ticks": ""
             }
            },
            "type": "scattercarpet"
           }
          ],
          "scattergeo": [
           {
            "marker": {
             "colorbar": {
              "outlinewidth": 0,
              "ticks": ""
             }
            },
            "type": "scattergeo"
           }
          ],
          "scattergl": [
           {
            "marker": {
             "colorbar": {
              "outlinewidth": 0,
              "ticks": ""
             }
            },
            "type": "scattergl"
           }
          ],
          "scattermapbox": [
           {
            "marker": {
             "colorbar": {
              "outlinewidth": 0,
              "ticks": ""
             }
            },
            "type": "scattermapbox"
           }
          ],
          "scatterpolar": [
           {
            "marker": {
             "colorbar": {
              "outlinewidth": 0,
              "ticks": ""
             }
            },
            "type": "scatterpolar"
           }
          ],
          "scatterpolargl": [
           {
            "marker": {
             "colorbar": {
              "outlinewidth": 0,
              "ticks": ""
             }
            },
            "type": "scatterpolargl"
           }
          ],
          "scatterternary": [
           {
            "marker": {
             "colorbar": {
              "outlinewidth": 0,
              "ticks": ""
             }
            },
            "type": "scatterternary"
           }
          ],
          "surface": [
           {
            "colorbar": {
             "outlinewidth": 0,
             "ticks": ""
            },
            "colorscale": [
             [
              0,
              "#0d0887"
             ],
             [
              0.1111111111111111,
              "#46039f"
             ],
             [
              0.2222222222222222,
              "#7201a8"
             ],
             [
              0.3333333333333333,
              "#9c179e"
             ],
             [
              0.4444444444444444,
              "#bd3786"
             ],
             [
              0.5555555555555556,
              "#d8576b"
             ],
             [
              0.6666666666666666,
              "#ed7953"
             ],
             [
              0.7777777777777778,
              "#fb9f3a"
             ],
             [
              0.8888888888888888,
              "#fdca26"
             ],
             [
              1,
              "#f0f921"
             ]
            ],
            "type": "surface"
           }
          ],
          "table": [
           {
            "cells": {
             "fill": {
              "color": "#EBF0F8"
             },
             "line": {
              "color": "white"
             }
            },
            "header": {
             "fill": {
              "color": "#C8D4E3"
             },
             "line": {
              "color": "white"
             }
            },
            "type": "table"
           }
          ]
         },
         "layout": {
          "annotationdefaults": {
           "arrowcolor": "#2a3f5f",
           "arrowhead": 0,
           "arrowwidth": 1
          },
          "autotypenumbers": "strict",
          "coloraxis": {
           "colorbar": {
            "outlinewidth": 0,
            "ticks": ""
           }
          },
          "colorscale": {
           "diverging": [
            [
             0,
             "#8e0152"
            ],
            [
             0.1,
             "#c51b7d"
            ],
            [
             0.2,
             "#de77ae"
            ],
            [
             0.3,
             "#f1b6da"
            ],
            [
             0.4,
             "#fde0ef"
            ],
            [
             0.5,
             "#f7f7f7"
            ],
            [
             0.6,
             "#e6f5d0"
            ],
            [
             0.7,
             "#b8e186"
            ],
            [
             0.8,
             "#7fbc41"
            ],
            [
             0.9,
             "#4d9221"
            ],
            [
             1,
             "#276419"
            ]
           ],
           "sequential": [
            [
             0,
             "#0d0887"
            ],
            [
             0.1111111111111111,
             "#46039f"
            ],
            [
             0.2222222222222222,
             "#7201a8"
            ],
            [
             0.3333333333333333,
             "#9c179e"
            ],
            [
             0.4444444444444444,
             "#bd3786"
            ],
            [
             0.5555555555555556,
             "#d8576b"
            ],
            [
             0.6666666666666666,
             "#ed7953"
            ],
            [
             0.7777777777777778,
             "#fb9f3a"
            ],
            [
             0.8888888888888888,
             "#fdca26"
            ],
            [
             1,
             "#f0f921"
            ]
           ],
           "sequentialminus": [
            [
             0,
             "#0d0887"
            ],
            [
             0.1111111111111111,
             "#46039f"
            ],
            [
             0.2222222222222222,
             "#7201a8"
            ],
            [
             0.3333333333333333,
             "#9c179e"
            ],
            [
             0.4444444444444444,
             "#bd3786"
            ],
            [
             0.5555555555555556,
             "#d8576b"
            ],
            [
             0.6666666666666666,
             "#ed7953"
            ],
            [
             0.7777777777777778,
             "#fb9f3a"
            ],
            [
             0.8888888888888888,
             "#fdca26"
            ],
            [
             1,
             "#f0f921"
            ]
           ]
          },
          "colorway": [
           "#636efa",
           "#EF553B",
           "#00cc96",
           "#ab63fa",
           "#FFA15A",
           "#19d3f3",
           "#FF6692",
           "#B6E880",
           "#FF97FF",
           "#FECB52"
          ],
          "font": {
           "color": "#2a3f5f"
          },
          "geo": {
           "bgcolor": "white",
           "lakecolor": "white",
           "landcolor": "#E5ECF6",
           "showlakes": true,
           "showland": true,
           "subunitcolor": "white"
          },
          "hoverlabel": {
           "align": "left"
          },
          "hovermode": "closest",
          "mapbox": {
           "style": "light"
          },
          "paper_bgcolor": "white",
          "plot_bgcolor": "#E5ECF6",
          "polar": {
           "angularaxis": {
            "gridcolor": "white",
            "linecolor": "white",
            "ticks": ""
           },
           "bgcolor": "#E5ECF6",
           "radialaxis": {
            "gridcolor": "white",
            "linecolor": "white",
            "ticks": ""
           }
          },
          "scene": {
           "xaxis": {
            "backgroundcolor": "#E5ECF6",
            "gridcolor": "white",
            "gridwidth": 2,
            "linecolor": "white",
            "showbackground": true,
            "ticks": "",
            "zerolinecolor": "white"
           },
           "yaxis": {
            "backgroundcolor": "#E5ECF6",
            "gridcolor": "white",
            "gridwidth": 2,
            "linecolor": "white",
            "showbackground": true,
            "ticks": "",
            "zerolinecolor": "white"
           },
           "zaxis": {
            "backgroundcolor": "#E5ECF6",
            "gridcolor": "white",
            "gridwidth": 2,
            "linecolor": "white",
            "showbackground": true,
            "ticks": "",
            "zerolinecolor": "white"
           }
          },
          "shapedefaults": {
           "line": {
            "color": "#2a3f5f"
           }
          },
          "ternary": {
           "aaxis": {
            "gridcolor": "white",
            "linecolor": "white",
            "ticks": ""
           },
           "baxis": {
            "gridcolor": "white",
            "linecolor": "white",
            "ticks": ""
           },
           "bgcolor": "#E5ECF6",
           "caxis": {
            "gridcolor": "white",
            "linecolor": "white",
            "ticks": ""
           }
          },
          "title": {
           "x": 0.05
          },
          "xaxis": {
           "automargin": true,
           "gridcolor": "white",
           "linecolor": "white",
           "ticks": "",
           "title": {
            "standoff": 15
           },
           "zerolinecolor": "white",
           "zerolinewidth": 2
          },
          "yaxis": {
           "automargin": true,
           "gridcolor": "white",
           "linecolor": "white",
           "ticks": "",
           "title": {
            "standoff": 15
           },
           "zerolinecolor": "white",
           "zerolinewidth": 2
          }
         }
        },
        "title": {
         "text": "Proportion of Significant Values with 95% Confidence Intervals by Season"
        },
        "xaxis": {
         "range": [
          -0.5,
          3.5
         ]
        },
        "yaxis": {
         "title": {
          "text": "Proportion of Significant Values"
         }
        }
       }
      }
     },
     "metadata": {},
     "output_type": "display_data"
    }
   ],
   "source": [
    "# Create a Plotly figure\n",
    "fig = go.Figure()\n",
    "\n",
    "seasons = ['Summer', 'Fall', 'Winter', 'Spring']\n",
    "colors = ['#e31a1c', '#ff7f00', '#1f78b4', '#33a02c']\n",
    "\n",
    "# Loop through seasons\n",
    "for season, color in zip(seasons, colors):\n",
    "    prop_data = locals()[f'prop_{season.lower()}']  # Access the variable dynamically\n",
    "    \n",
    "    # Define y values and error array\n",
    "    y_values = [prop_data['proportion']]\n",
    "    error_array = [prop_data['proportion'] - prop_data['ci_lower'], prop_data['ci_upper'] - prop_data['proportion']]\n",
    "    \n",
    "    # Add trace to the figure\n",
    "    fig.add_trace(go.Scatter(\n",
    "        x=[season],\n",
    "        y=y_values,\n",
    "        error_y=dict(type='data', array=error_array),\n",
    "        mode='markers+lines',\n",
    "        name=season,\n",
    "        marker=dict(color=color, size=10)\n",
    "    ))\n",
    "\n",
    "# Update layout for better visualization\n",
    "fig.update_layout(\n",
    "    yaxis=dict(title='Proportion of Significant Values'),\n",
    "    title='Proportion of Significant Values with 95% Confidence Intervals by Season'\n",
    ")\n",
    "\n",
    "# Update layout to adjust the range of the x-axis\n",
    "fig.update_layout(\n",
    "    xaxis=dict(range=[-0.5, len(prop_data.index) + 1 - 0.5]),  # Adjust the range based on your data\n",
    ")\n",
    "\n",
    "# Show the plot\n",
    "fig.show()"
   ]
  },
  {
   "cell_type": "markdown",
   "metadata": {},
   "source": [
    "Statistical test to assess whether proportion for different season are different or not.\n",
    "\n",
    "H0 : The proportions are all equal i.e. no movie season release affects baby naming more than the other"
   ]
  },
  {
   "cell_type": "code",
   "execution_count": 188,
   "metadata": {},
   "outputs": [
    {
     "name": "stdout",
     "output_type": "stream",
     "text": [
      "Chi-squared value: 10.22583914103114\n",
      "P-value: 0.01674082055652168\n"
     ]
    }
   ],
   "source": [
    "# Organize the data into a contingency table\n",
    "observed_data = [\n",
    "    [len(summer_movies_df[summer_movies_df['p_value'] < alpha]), len(summer_movies_df['p_value'])],\n",
    "    [len(fall_movies_df[fall_movies_df['p_value'] < alpha]), len(fall_movies_df['p_value'])],\n",
    "    [len(winter_movies_df[winter_movies_df['p_value'] < alpha]), len(winter_movies_df['p_value'])],\n",
    "    [len(spring_movies_df[spring_movies_df['p_value'] < alpha]), len(spring_movies_df['p_value'])]\n",
    "]\n",
    "\n",
    "# Perform the chi-squared test\n",
    "chi2, p, _, _ = chi2_contingency(observed_data)\n",
    "\n",
    "# Print the results\n",
    "print(\"Chi-squared value:\", chi2)\n",
    "print(\"P-value:\", p)"
   ]
  },
  {
   "cell_type": "markdown",
   "metadata": {},
   "source": [
    "Since the Chi-squared value is 10.23, we can reject the null hypothesis that the proportion of inlfuenced names are the same between the season at the 5% significance level.\n",
    "\n",
    "### Proportion of influenced names during each season : timeline\n",
    "\n",
    "We now try to visualize the variation of the percentage of significantly influence names per season of release per year. Also, we look at the mean magnitude influence per season over the years with the corresponding 5% confidence interval."
   ]
  },
  {
   "cell_type": "code",
   "execution_count": 195,
   "metadata": {},
   "outputs": [],
   "source": [
    "# Sort by year first, then apply seasonal filter\n",
    "def seasonal_filter(season_df):\n",
    "    season_df_sorted = season_df.groupby('year').apply(lambda x: pd.Series({\n",
    "        'avg': x[x['p_value']<alpha]['slope_change'].dropna().abs().mean(),\n",
    "        'se': x[x['p_value']<alpha]['slope_change'].dropna().abs().sem(),\n",
    "        'nb_names':  x[x['p_value']<alpha]['p_value'].count(),\n",
    "        'prop_influenced': len(x[x['p_value']<alpha])/len(x['p_value'])\n",
    "    }))\n",
    "    season_df_sorted.reset_index(inplace=True)\n",
    "    return season_df_sorted\n",
    "\n",
    "summer_movies_df_sorted = seasonal_filter(summer_movies_df)\n",
    "fall_movies_df_sorted = seasonal_filter(fall_movies_df)\n",
    "winter_movies_df_sorted = seasonal_filter(winter_movies_df)\n",
    "spring_movies_df_sorted = seasonal_filter(spring_movies_df)"
   ]
  },
  {
   "cell_type": "code",
   "execution_count": 196,
   "metadata": {},
   "outputs": [
    {
     "data": {
      "application/vnd.plotly.v1+json": {
       "config": {
        "plotlyServerURL": "https://plot.ly"
       },
       "data": [
        {
         "legendgroup": "Summer",
         "line": {
          "color": "red",
          "shape": "linear"
         },
         "mode": "lines+markers",
         "name": "Summer",
         "type": "scatter",
         "x": [
          1895,
          1898,
          1909,
          1910,
          1912,
          1913,
          1915,
          1916,
          1917,
          1918,
          1919,
          1921,
          1923,
          1924,
          1925,
          1926,
          1927,
          1928,
          1929,
          1930,
          1931,
          1932,
          1933,
          1934,
          1935,
          1936,
          1937,
          1938,
          1939,
          1940,
          1941,
          1942,
          1943,
          1944,
          1945,
          1946,
          1947,
          1948,
          1949,
          1950,
          1951,
          1952,
          1953,
          1954,
          1955,
          1956,
          1957,
          1958,
          1959,
          1960,
          1961,
          1962,
          1963,
          1964,
          1965,
          1966,
          1967,
          1968,
          1969,
          1970,
          1971,
          1972,
          1973,
          1974,
          1975,
          1976,
          1977,
          1978,
          1979,
          1980,
          1981,
          1982,
          1983,
          1984,
          1985,
          1986,
          1987,
          1988,
          1989,
          1990,
          1991,
          1992,
          1993,
          1994,
          1995,
          1996,
          1997,
          1998,
          1999,
          2000,
          2001,
          2002,
          2003,
          2004,
          2005,
          2006,
          2007,
          2008,
          2009,
          2010,
          2011,
          2012,
          2013
         ],
         "y": [
          0,
          0,
          0,
          0,
          0.05555555555555555,
          0,
          0,
          0,
          0,
          0.08333333333333333,
          0.030303030303030304,
          0,
          0.029411764705882353,
          0.06382978723404255,
          0.06451612903225806,
          0.2,
          0.0425531914893617,
          0,
          0.06060606060606061,
          0.06504065040650407,
          0.05063291139240506,
          0.14545454545454545,
          0.09090909090909091,
          0.08,
          0.18095238095238095,
          0.11428571428571428,
          0.17857142857142858,
          0.1885245901639344,
          0.09009009009009009,
          0.09243697478991597,
          0.037037037037037035,
          0.09565217391304348,
          0.03937007874015748,
          0.06474820143884892,
          0.057692307692307696,
          0.08791208791208792,
          0.10344827586206896,
          0.12612612612612611,
          0.06611570247933884,
          0.03289473684210526,
          0.07751937984496124,
          0.0851063829787234,
          0.10555555555555556,
          0.12631578947368421,
          0.11855670103092783,
          0.11834319526627218,
          0.08547008547008547,
          0.05303030303030303,
          0.09090909090909091,
          0.11917098445595854,
          0.13186813186813187,
          0.1323529411764706,
          0.15789473684210525,
          0.1,
          0.08542713567839195,
          0.042105263157894736,
          0.039473684210526314,
          0.10326086956521739,
          0.12598425196850394,
          0.11848341232227488,
          0.08904109589041095,
          0.08904109589041095,
          0.0684931506849315,
          0.09649122807017543,
          0.08121827411167512,
          0.1262135922330097,
          0.12727272727272726,
          0.13821138211382114,
          0.11153846153846154,
          0.04411764705882353,
          0.06818181818181818,
          0.060498220640569395,
          0.04918032786885246,
          0.0815347721822542,
          0.10196078431372549,
          0.128686327077748,
          0.06860158311345646,
          0.11080332409972299,
          0.10164835164835165,
          0.07017543859649122,
          0.08310991957104558,
          0.08009708737864078,
          0.07446808510638298,
          0.09635974304068523,
          0.0951276102088167,
          0.08103727714748785,
          0.07423580786026202,
          0.10381861575178998,
          0.09545983701979045,
          0.09590973201692525,
          0.08221797323135756,
          0.08393285371702638,
          0.10362694300518134,
          0.07107107107107107,
          0.08622398414271557,
          0.08854961832061069,
          0.09460406447091801,
          0.11153262518968134,
          0.1156558533145275,
          0.15080906148867315,
          0.13784301212507977,
          0.13268608414239483,
          0.13761467889908258
         ]
        },
        {
         "legendgroup": "Fall",
         "line": {
          "color": "orange",
          "shape": "linear"
         },
         "mode": "lines+markers",
         "name": "Fall",
         "type": "scatter",
         "x": [
          1900,
          1902,
          1903,
          1906,
          1907,
          1908,
          1909,
          1910,
          1911,
          1912,
          1913,
          1914,
          1915,
          1916,
          1917,
          1918,
          1919,
          1920,
          1921,
          1922,
          1923,
          1924,
          1925,
          1926,
          1927,
          1928,
          1929,
          1930,
          1931,
          1932,
          1933,
          1934,
          1935,
          1936,
          1937,
          1938,
          1939,
          1940,
          1941,
          1942,
          1943,
          1944,
          1945,
          1946,
          1947,
          1948,
          1949,
          1950,
          1951,
          1952,
          1953,
          1954,
          1955,
          1956,
          1957,
          1958,
          1959,
          1960,
          1961,
          1962,
          1963,
          1964,
          1965,
          1966,
          1967,
          1968,
          1969,
          1970,
          1971,
          1972,
          1973,
          1974,
          1975,
          1976,
          1977,
          1978,
          1979,
          1980,
          1981,
          1982,
          1983,
          1984,
          1985,
          1986,
          1987,
          1988,
          1989,
          1990,
          1991,
          1992,
          1993,
          1994,
          1995,
          1996,
          1997,
          1998,
          1999,
          2000,
          2001,
          2002,
          2003,
          2004,
          2005,
          2006,
          2007,
          2008,
          2009,
          2010,
          2011,
          2012,
          2013
         ],
         "y": [
          0,
          0,
          0,
          0,
          0,
          0.0625,
          0,
          0,
          0.16666666666666666,
          0.018867924528301886,
          0,
          0,
          0,
          0,
          0.07142857142857142,
          0.02564102564102564,
          0.08333333333333333,
          0,
          0,
          0.05,
          0,
          0.09090909090909091,
          0.05263157894736842,
          0.04081632653061224,
          0.09375,
          0.1111111111111111,
          0.09090909090909091,
          0.05194805194805195,
          0.06040268456375839,
          0.1,
          0.10317460317460317,
          0.06493506493506493,
          0.09170305676855896,
          0.1144578313253012,
          0.1358695652173913,
          0.10666666666666667,
          0.09345794392523364,
          0.044444444444444446,
          0.03787878787878788,
          0.07772020725388601,
          0.07272727272727272,
          0.09523809523809523,
          0.06666666666666667,
          0.11728395061728394,
          0.10204081632653061,
          0.06329113924050633,
          0.04477611940298507,
          0.06289308176100629,
          0.03636363636363636,
          0.06201550387596899,
          0.15168539325842698,
          0.1165644171779141,
          0.09876543209876543,
          0.0995850622406639,
          0.09395973154362416,
          0.06060606060606061,
          0.12666666666666668,
          0.16129032258064516,
          0.08771929824561403,
          0.1353135313531353,
          0.12318840579710146,
          0.08609271523178808,
          0.055900621118012424,
          0.0962962962962963,
          0.05309734513274336,
          0.12352941176470589,
          0.10526315789473684,
          0.04807692307692308,
          0.11428571428571428,
          0.10738255033557047,
          0.09826589595375723,
          0.13780918727915195,
          0.10396039603960396,
          0.11971830985915492,
          0.13402061855670103,
          0.1487603305785124,
          0.10869565217391304,
          0.07665505226480836,
          0.09595959595959595,
          0.0392156862745098,
          0.08191126279863481,
          0.07255520504731862,
          0.07124681933842239,
          0.059375,
          0.0975609756097561,
          0.09237875288683603,
          0.10963455149501661,
          0.072,
          0.06301369863013699,
          0.07081545064377683,
          0.10369068541300527,
          0.10827067669172932,
          0.11212121212121212,
          0.09351753453772582,
          0.10632183908045977,
          0.11379928315412187,
          0.09635173058933583,
          0.10112359550561797,
          0.09012131715771231,
          0.09874476987447699,
          0.07075873827791987,
          0.07441154138192863,
          0.08464125560538116,
          0.09138533178114086,
          0.11307609860664523,
          0.1251360174102285,
          0.1410373066424022,
          0.15260166156536947,
          0.15444923559388474,
          0.12326043737574553,
          0.08888888888888889
         ]
        },
        {
         "legendgroup": "Winter",
         "line": {
          "color": "blue",
          "shape": "linear"
         },
         "mode": "lines+markers",
         "name": "Winter",
         "type": "scatter",
         "x": [
          1903,
          1907,
          1908,
          1909,
          1911,
          1913,
          1914,
          1915,
          1916,
          1917,
          1918,
          1919,
          1920,
          1921,
          1922,
          1923,
          1924,
          1925,
          1926,
          1927,
          1928,
          1929,
          1930,
          1931,
          1932,
          1933,
          1934,
          1935,
          1936,
          1937,
          1938,
          1939,
          1940,
          1941,
          1942,
          1943,
          1944,
          1945,
          1946,
          1947,
          1948,
          1949,
          1950,
          1951,
          1952,
          1953,
          1954,
          1955,
          1956,
          1957,
          1958,
          1959,
          1960,
          1961,
          1962,
          1963,
          1964,
          1965,
          1966,
          1967,
          1968,
          1969,
          1970,
          1971,
          1972,
          1973,
          1974,
          1975,
          1976,
          1977,
          1978,
          1979,
          1980,
          1981,
          1982,
          1983,
          1984,
          1985,
          1986,
          1987,
          1988,
          1989,
          1990,
          1991,
          1992,
          1993,
          1994,
          1995,
          1996,
          1997,
          1998,
          1999,
          2000,
          2001,
          2002,
          2003,
          2004,
          2005,
          2006,
          2007,
          2008,
          2009,
          2010,
          2011,
          2012,
          2013
         ],
         "y": [
          0,
          0,
          0,
          0,
          0.1,
          0,
          0.047619047619047616,
          0,
          0,
          0,
          0.1,
          0.05,
          0.125,
          0,
          0.02631578947368421,
          0.10714285714285714,
          0.1,
          0.0784313725490196,
          0,
          0.03508771929824561,
          0.16666666666666666,
          0.036585365853658534,
          0.07563025210084033,
          0.08333333333333333,
          0.0851063829787234,
          0.043478260869565216,
          0.11627906976744186,
          0.10227272727272728,
          0.10126582278481013,
          0.10697674418604651,
          0.05555555555555555,
          0.08661417322834646,
          0.05670103092783505,
          0.062111801242236024,
          0.07106598984771574,
          0.05785123966942149,
          0.0625,
          0.08695652173913043,
          0.08391608391608392,
          0.07547169811320754,
          0.09345794392523364,
          0.1,
          0.048484848484848485,
          0.058823529411764705,
          0.03208556149732621,
          0.11627906976744186,
          0.13125,
          0.058823529411764705,
          0.125,
          0.10431654676258993,
          0.07692307692307693,
          0.08035714285714286,
          0.08270676691729323,
          0.08383233532934131,
          0.12264150943396226,
          0.1044776119402985,
          0.04390243902439024,
          0.07100591715976332,
          0.041176470588235294,
          0.09202453987730061,
          0.08064516129032258,
          0.09836065573770492,
          0.09090909090909091,
          0.12886597938144329,
          0.10784313725490197,
          0.07555555555555556,
          0.08040201005025126,
          0.08771929824561403,
          0.1330049261083744,
          0.11870503597122302,
          0.11386138613861387,
          0.08296943231441048,
          0.10285714285714286,
          0.05161290322580645,
          0.08666666666666667,
          0.0625,
          0.05555555555555555,
          0.08940397350993377,
          0.08487084870848709,
          0.11555555555555555,
          0.08540925266903915,
          0.10175438596491228,
          0.09390862944162437,
          0.0625,
          0.09343434343434344,
          0.08884297520661157,
          0.09615384615384616,
          0.10698689956331878,
          0.08459214501510574,
          0.09349112426035502,
          0.09610389610389611,
          0.10057803468208093,
          0.09960552268244575,
          0.08913649025069638,
          0.09369527145359019,
          0.10072689511941849,
          0.08784893267651889,
          0.08186046511627906,
          0.09311475409836066,
          0.1038961038961039,
          0.11873015873015873,
          0.1319406267179769,
          0.15692821368948248,
          0.1499388004895961,
          0.14120126448893572,
          0.11016949152542373
         ]
        },
        {
         "legendgroup": "Spring",
         "line": {
          "color": "green",
          "shape": "linear"
         },
         "mode": "lines+markers",
         "name": "Spring",
         "type": "scatter",
         "x": [
          1903,
          1908,
          1909,
          1910,
          1911,
          1912,
          1913,
          1914,
          1915,
          1916,
          1917,
          1918,
          1919,
          1920,
          1921,
          1922,
          1923,
          1924,
          1925,
          1926,
          1927,
          1928,
          1929,
          1930,
          1931,
          1932,
          1933,
          1934,
          1935,
          1936,
          1937,
          1938,
          1939,
          1940,
          1941,
          1942,
          1943,
          1944,
          1945,
          1946,
          1947,
          1948,
          1949,
          1950,
          1951,
          1952,
          1953,
          1954,
          1955,
          1956,
          1957,
          1958,
          1959,
          1960,
          1961,
          1962,
          1963,
          1964,
          1965,
          1966,
          1967,
          1968,
          1969,
          1970,
          1971,
          1972,
          1973,
          1974,
          1975,
          1976,
          1977,
          1978,
          1979,
          1980,
          1981,
          1982,
          1983,
          1984,
          1985,
          1986,
          1987,
          1988,
          1989,
          1990,
          1991,
          1992,
          1993,
          1994,
          1995,
          1996,
          1997,
          1998,
          1999,
          2000,
          2001,
          2002,
          2003,
          2004,
          2005,
          2006,
          2007,
          2008,
          2009,
          2010,
          2011,
          2012,
          2013,
          2014
         ],
         "y": [
          0,
          0,
          0,
          0.08333333333333333,
          0,
          0.1111111111111111,
          0,
          0,
          0,
          0.07142857142857142,
          0.07142857142857142,
          0,
          0.08571428571428572,
          0,
          0.09375,
          0,
          0.06666666666666667,
          0.20512820512820512,
          0.16666666666666666,
          0,
          0.09090909090909091,
          0.14754098360655737,
          0.09565217391304348,
          0.02666666666666667,
          0.05217391304347826,
          0.0872093023255814,
          0.03409090909090909,
          0.0763888888888889,
          0.13380281690140844,
          0.1036036036036036,
          0.10344827586206896,
          0.14864864864864866,
          0.10218978102189781,
          0.06493506493506493,
          0.05785123966942149,
          0.13793103448275862,
          0.0975609756097561,
          0.03669724770642202,
          0.07482993197278912,
          0.09859154929577464,
          0.10344827586206896,
          0.12666666666666668,
          0.08208955223880597,
          0.05405405405405406,
          0.04477611940298507,
          0.04964539007092199,
          0.09811320754716982,
          0.11363636363636363,
          0.11711711711711711,
          0.115,
          0.06578947368421052,
          0.07936507936507936,
          0.09937888198757763,
          0.12025316455696203,
          0.1232876712328767,
          0.12686567164179105,
          0.11333333333333333,
          0.05982905982905983,
          0.08641975308641975,
          0.04395604395604396,
          0.09090909090909091,
          0.08421052631578947,
          0.13829787234042554,
          0.13008130081300814,
          0.08333333333333333,
          0.09727626459143969,
          0.08239700374531835,
          0.09795918367346938,
          0.08629441624365482,
          0.14349775784753363,
          0.11046511627906977,
          0.09956709956709957,
          0.07142857142857142,
          0.07220216606498195,
          0.0777027027027027,
          0.07079646017699115,
          0.07407407407407407,
          0.07479224376731301,
          0.05029585798816568,
          0.07865168539325842,
          0.07300884955752213,
          0.08333333333333333,
          0.07627118644067797,
          0.09944751381215469,
          0.0712401055408971,
          0.058212058212058215,
          0.09319899244332494,
          0.081374321880651,
          0.0962566844919786,
          0.10613598673300166,
          0.10201149425287356,
          0.10802139037433155,
          0.10011376564277588,
          0.08707607699358387,
          0.06277533039647577,
          0.08768971332209106,
          0.07760141093474426,
          0.0747588424437299,
          0.08448415922014622,
          0.0780520346897932,
          0.10873664362036455,
          0.10590778097982709,
          0.1272294887039239,
          0.13336590131900342,
          0.13916314057357781,
          0.11865671641791045,
          0.20382165605095542,
          0
         ]
        }
       ],
       "layout": {
        "template": {
         "data": {
          "bar": [
           {
            "error_x": {
             "color": "#2a3f5f"
            },
            "error_y": {
             "color": "#2a3f5f"
            },
            "marker": {
             "line": {
              "color": "#E5ECF6",
              "width": 0.5
             },
             "pattern": {
              "fillmode": "overlay",
              "size": 10,
              "solidity": 0.2
             }
            },
            "type": "bar"
           }
          ],
          "barpolar": [
           {
            "marker": {
             "line": {
              "color": "#E5ECF6",
              "width": 0.5
             },
             "pattern": {
              "fillmode": "overlay",
              "size": 10,
              "solidity": 0.2
             }
            },
            "type": "barpolar"
           }
          ],
          "carpet": [
           {
            "aaxis": {
             "endlinecolor": "#2a3f5f",
             "gridcolor": "white",
             "linecolor": "white",
             "minorgridcolor": "white",
             "startlinecolor": "#2a3f5f"
            },
            "baxis": {
             "endlinecolor": "#2a3f5f",
             "gridcolor": "white",
             "linecolor": "white",
             "minorgridcolor": "white",
             "startlinecolor": "#2a3f5f"
            },
            "type": "carpet"
           }
          ],
          "choropleth": [
           {
            "colorbar": {
             "outlinewidth": 0,
             "ticks": ""
            },
            "type": "choropleth"
           }
          ],
          "contour": [
           {
            "colorbar": {
             "outlinewidth": 0,
             "ticks": ""
            },
            "colorscale": [
             [
              0,
              "#0d0887"
             ],
             [
              0.1111111111111111,
              "#46039f"
             ],
             [
              0.2222222222222222,
              "#7201a8"
             ],
             [
              0.3333333333333333,
              "#9c179e"
             ],
             [
              0.4444444444444444,
              "#bd3786"
             ],
             [
              0.5555555555555556,
              "#d8576b"
             ],
             [
              0.6666666666666666,
              "#ed7953"
             ],
             [
              0.7777777777777778,
              "#fb9f3a"
             ],
             [
              0.8888888888888888,
              "#fdca26"
             ],
             [
              1,
              "#f0f921"
             ]
            ],
            "type": "contour"
           }
          ],
          "contourcarpet": [
           {
            "colorbar": {
             "outlinewidth": 0,
             "ticks": ""
            },
            "type": "contourcarpet"
           }
          ],
          "heatmap": [
           {
            "colorbar": {
             "outlinewidth": 0,
             "ticks": ""
            },
            "colorscale": [
             [
              0,
              "#0d0887"
             ],
             [
              0.1111111111111111,
              "#46039f"
             ],
             [
              0.2222222222222222,
              "#7201a8"
             ],
             [
              0.3333333333333333,
              "#9c179e"
             ],
             [
              0.4444444444444444,
              "#bd3786"
             ],
             [
              0.5555555555555556,
              "#d8576b"
             ],
             [
              0.6666666666666666,
              "#ed7953"
             ],
             [
              0.7777777777777778,
              "#fb9f3a"
             ],
             [
              0.8888888888888888,
              "#fdca26"
             ],
             [
              1,
              "#f0f921"
             ]
            ],
            "type": "heatmap"
           }
          ],
          "heatmapgl": [
           {
            "colorbar": {
             "outlinewidth": 0,
             "ticks": ""
            },
            "colorscale": [
             [
              0,
              "#0d0887"
             ],
             [
              0.1111111111111111,
              "#46039f"
             ],
             [
              0.2222222222222222,
              "#7201a8"
             ],
             [
              0.3333333333333333,
              "#9c179e"
             ],
             [
              0.4444444444444444,
              "#bd3786"
             ],
             [
              0.5555555555555556,
              "#d8576b"
             ],
             [
              0.6666666666666666,
              "#ed7953"
             ],
             [
              0.7777777777777778,
              "#fb9f3a"
             ],
             [
              0.8888888888888888,
              "#fdca26"
             ],
             [
              1,
              "#f0f921"
             ]
            ],
            "type": "heatmapgl"
           }
          ],
          "histogram": [
           {
            "marker": {
             "pattern": {
              "fillmode": "overlay",
              "size": 10,
              "solidity": 0.2
             }
            },
            "type": "histogram"
           }
          ],
          "histogram2d": [
           {
            "colorbar": {
             "outlinewidth": 0,
             "ticks": ""
            },
            "colorscale": [
             [
              0,
              "#0d0887"
             ],
             [
              0.1111111111111111,
              "#46039f"
             ],
             [
              0.2222222222222222,
              "#7201a8"
             ],
             [
              0.3333333333333333,
              "#9c179e"
             ],
             [
              0.4444444444444444,
              "#bd3786"
             ],
             [
              0.5555555555555556,
              "#d8576b"
             ],
             [
              0.6666666666666666,
              "#ed7953"
             ],
             [
              0.7777777777777778,
              "#fb9f3a"
             ],
             [
              0.8888888888888888,
              "#fdca26"
             ],
             [
              1,
              "#f0f921"
             ]
            ],
            "type": "histogram2d"
           }
          ],
          "histogram2dcontour": [
           {
            "colorbar": {
             "outlinewidth": 0,
             "ticks": ""
            },
            "colorscale": [
             [
              0,
              "#0d0887"
             ],
             [
              0.1111111111111111,
              "#46039f"
             ],
             [
              0.2222222222222222,
              "#7201a8"
             ],
             [
              0.3333333333333333,
              "#9c179e"
             ],
             [
              0.4444444444444444,
              "#bd3786"
             ],
             [
              0.5555555555555556,
              "#d8576b"
             ],
             [
              0.6666666666666666,
              "#ed7953"
             ],
             [
              0.7777777777777778,
              "#fb9f3a"
             ],
             [
              0.8888888888888888,
              "#fdca26"
             ],
             [
              1,
              "#f0f921"
             ]
            ],
            "type": "histogram2dcontour"
           }
          ],
          "mesh3d": [
           {
            "colorbar": {
             "outlinewidth": 0,
             "ticks": ""
            },
            "type": "mesh3d"
           }
          ],
          "parcoords": [
           {
            "line": {
             "colorbar": {
              "outlinewidth": 0,
              "ticks": ""
             }
            },
            "type": "parcoords"
           }
          ],
          "pie": [
           {
            "automargin": true,
            "type": "pie"
           }
          ],
          "scatter": [
           {
            "fillpattern": {
             "fillmode": "overlay",
             "size": 10,
             "solidity": 0.2
            },
            "type": "scatter"
           }
          ],
          "scatter3d": [
           {
            "line": {
             "colorbar": {
              "outlinewidth": 0,
              "ticks": ""
             }
            },
            "marker": {
             "colorbar": {
              "outlinewidth": 0,
              "ticks": ""
             }
            },
            "type": "scatter3d"
           }
          ],
          "scattercarpet": [
           {
            "marker": {
             "colorbar": {
              "outlinewidth": 0,
              "ticks": ""
             }
            },
            "type": "scattercarpet"
           }
          ],
          "scattergeo": [
           {
            "marker": {
             "colorbar": {
              "outlinewidth": 0,
              "ticks": ""
             }
            },
            "type": "scattergeo"
           }
          ],
          "scattergl": [
           {
            "marker": {
             "colorbar": {
              "outlinewidth": 0,
              "ticks": ""
             }
            },
            "type": "scattergl"
           }
          ],
          "scattermapbox": [
           {
            "marker": {
             "colorbar": {
              "outlinewidth": 0,
              "ticks": ""
             }
            },
            "type": "scattermapbox"
           }
          ],
          "scatterpolar": [
           {
            "marker": {
             "colorbar": {
              "outlinewidth": 0,
              "ticks": ""
             }
            },
            "type": "scatterpolar"
           }
          ],
          "scatterpolargl": [
           {
            "marker": {
             "colorbar": {
              "outlinewidth": 0,
              "ticks": ""
             }
            },
            "type": "scatterpolargl"
           }
          ],
          "scatterternary": [
           {
            "marker": {
             "colorbar": {
              "outlinewidth": 0,
              "ticks": ""
             }
            },
            "type": "scatterternary"
           }
          ],
          "surface": [
           {
            "colorbar": {
             "outlinewidth": 0,
             "ticks": ""
            },
            "colorscale": [
             [
              0,
              "#0d0887"
             ],
             [
              0.1111111111111111,
              "#46039f"
             ],
             [
              0.2222222222222222,
              "#7201a8"
             ],
             [
              0.3333333333333333,
              "#9c179e"
             ],
             [
              0.4444444444444444,
              "#bd3786"
             ],
             [
              0.5555555555555556,
              "#d8576b"
             ],
             [
              0.6666666666666666,
              "#ed7953"
             ],
             [
              0.7777777777777778,
              "#fb9f3a"
             ],
             [
              0.8888888888888888,
              "#fdca26"
             ],
             [
              1,
              "#f0f921"
             ]
            ],
            "type": "surface"
           }
          ],
          "table": [
           {
            "cells": {
             "fill": {
              "color": "#EBF0F8"
             },
             "line": {
              "color": "white"
             }
            },
            "header": {
             "fill": {
              "color": "#C8D4E3"
             },
             "line": {
              "color": "white"
             }
            },
            "type": "table"
           }
          ]
         },
         "layout": {
          "annotationdefaults": {
           "arrowcolor": "#2a3f5f",
           "arrowhead": 0,
           "arrowwidth": 1
          },
          "autotypenumbers": "strict",
          "coloraxis": {
           "colorbar": {
            "outlinewidth": 0,
            "ticks": ""
           }
          },
          "colorscale": {
           "diverging": [
            [
             0,
             "#8e0152"
            ],
            [
             0.1,
             "#c51b7d"
            ],
            [
             0.2,
             "#de77ae"
            ],
            [
             0.3,
             "#f1b6da"
            ],
            [
             0.4,
             "#fde0ef"
            ],
            [
             0.5,
             "#f7f7f7"
            ],
            [
             0.6,
             "#e6f5d0"
            ],
            [
             0.7,
             "#b8e186"
            ],
            [
             0.8,
             "#7fbc41"
            ],
            [
             0.9,
             "#4d9221"
            ],
            [
             1,
             "#276419"
            ]
           ],
           "sequential": [
            [
             0,
             "#0d0887"
            ],
            [
             0.1111111111111111,
             "#46039f"
            ],
            [
             0.2222222222222222,
             "#7201a8"
            ],
            [
             0.3333333333333333,
             "#9c179e"
            ],
            [
             0.4444444444444444,
             "#bd3786"
            ],
            [
             0.5555555555555556,
             "#d8576b"
            ],
            [
             0.6666666666666666,
             "#ed7953"
            ],
            [
             0.7777777777777778,
             "#fb9f3a"
            ],
            [
             0.8888888888888888,
             "#fdca26"
            ],
            [
             1,
             "#f0f921"
            ]
           ],
           "sequentialminus": [
            [
             0,
             "#0d0887"
            ],
            [
             0.1111111111111111,
             "#46039f"
            ],
            [
             0.2222222222222222,
             "#7201a8"
            ],
            [
             0.3333333333333333,
             "#9c179e"
            ],
            [
             0.4444444444444444,
             "#bd3786"
            ],
            [
             0.5555555555555556,
             "#d8576b"
            ],
            [
             0.6666666666666666,
             "#ed7953"
            ],
            [
             0.7777777777777778,
             "#fb9f3a"
            ],
            [
             0.8888888888888888,
             "#fdca26"
            ],
            [
             1,
             "#f0f921"
            ]
           ]
          },
          "colorway": [
           "#636efa",
           "#EF553B",
           "#00cc96",
           "#ab63fa",
           "#FFA15A",
           "#19d3f3",
           "#FF6692",
           "#B6E880",
           "#FF97FF",
           "#FECB52"
          ],
          "font": {
           "color": "#2a3f5f"
          },
          "geo": {
           "bgcolor": "white",
           "lakecolor": "white",
           "landcolor": "#E5ECF6",
           "showlakes": true,
           "showland": true,
           "subunitcolor": "white"
          },
          "hoverlabel": {
           "align": "left"
          },
          "hovermode": "closest",
          "mapbox": {
           "style": "light"
          },
          "paper_bgcolor": "white",
          "plot_bgcolor": "#E5ECF6",
          "polar": {
           "angularaxis": {
            "gridcolor": "white",
            "linecolor": "white",
            "ticks": ""
           },
           "bgcolor": "#E5ECF6",
           "radialaxis": {
            "gridcolor": "white",
            "linecolor": "white",
            "ticks": ""
           }
          },
          "scene": {
           "xaxis": {
            "backgroundcolor": "#E5ECF6",
            "gridcolor": "white",
            "gridwidth": 2,
            "linecolor": "white",
            "showbackground": true,
            "ticks": "",
            "zerolinecolor": "white"
           },
           "yaxis": {
            "backgroundcolor": "#E5ECF6",
            "gridcolor": "white",
            "gridwidth": 2,
            "linecolor": "white",
            "showbackground": true,
            "ticks": "",
            "zerolinecolor": "white"
           },
           "zaxis": {
            "backgroundcolor": "#E5ECF6",
            "gridcolor": "white",
            "gridwidth": 2,
            "linecolor": "white",
            "showbackground": true,
            "ticks": "",
            "zerolinecolor": "white"
           }
          },
          "shapedefaults": {
           "line": {
            "color": "#2a3f5f"
           }
          },
          "ternary": {
           "aaxis": {
            "gridcolor": "white",
            "linecolor": "white",
            "ticks": ""
           },
           "baxis": {
            "gridcolor": "white",
            "linecolor": "white",
            "ticks": ""
           },
           "bgcolor": "#E5ECF6",
           "caxis": {
            "gridcolor": "white",
            "linecolor": "white",
            "ticks": ""
           }
          },
          "title": {
           "x": 0.05
          },
          "xaxis": {
           "automargin": true,
           "gridcolor": "white",
           "linecolor": "white",
           "ticks": "",
           "title": {
            "standoff": 15
           },
           "zerolinecolor": "white",
           "zerolinewidth": 2
          },
          "yaxis": {
           "automargin": true,
           "gridcolor": "white",
           "linecolor": "white",
           "ticks": "",
           "title": {
            "standoff": 15
           },
           "zerolinecolor": "white",
           "zerolinewidth": 2
          }
         }
        },
        "title": {
         "text": "Yearly evolution of proportion of influenced baby names per season of release"
        },
        "xaxis": {
         "title": {
          "text": "Year"
         }
        },
        "yaxis": {
         "title": {
          "text": "Proportion of inlfuenced names"
         }
        }
       }
      }
     },
     "metadata": {},
     "output_type": "display_data"
    }
   ],
   "source": [
    "fig = go.Figure()\n",
    "\n",
    "# Define the main line plot for each season\n",
    "seasons = ['Summer', 'Fall', 'Winter', 'Spring']\n",
    "colors = ['red', 'orange', 'blue', 'green']\n",
    "data = [summer_movies_df_sorted, fall_movies_df_sorted, winter_movies_df_sorted, spring_movies_df_sorted]\n",
    "\n",
    "for i, season in enumerate(seasons):\n",
    "    main_trace = go.Scatter(\n",
    "        x=data[i]['year'],  \n",
    "        y=data[i]['prop_influenced'],  \n",
    "        mode='lines+markers',\n",
    "        line_shape='linear',\n",
    "        name=season,\n",
    "        line=dict(color=colors[i]),\n",
    "        legendgroup=season,\n",
    "        # visible=(season == 'Summer')\n",
    "    )\n",
    "    \n",
    "    # Add the main line trace to the figure\n",
    "    fig.add_trace(main_trace)\n",
    "\n",
    "# Update the layout\n",
    "fig.update_layout(\n",
    "    title='Yearly evolution of proportion of influenced baby names per season of release',\n",
    "    xaxis_title='Year',\n",
    "    yaxis_title='Proportion of inlfuenced names'\n",
    ")\n",
    "\n",
    "# Show the figure\n",
    "fig.show()"
   ]
  },
  {
   "cell_type": "markdown",
   "metadata": {},
   "source": [
    "From the above plot, it doesn't seem to have big difference between season of movie release. We can now look at monthly variation in proportion to assess whether an eventual effect is more pronounced individually rather than seasonaly.\n",
    "\n",
    "### Proportion of influenced names during each month : timeline"
   ]
  },
  {
   "cell_type": "code",
   "execution_count": 197,
   "metadata": {},
   "outputs": [
    {
     "data": {
      "text/html": [
       "<div>\n",
       "<style scoped>\n",
       "    .dataframe tbody tr th:only-of-type {\n",
       "        vertical-align: middle;\n",
       "    }\n",
       "\n",
       "    .dataframe tbody tr th {\n",
       "        vertical-align: top;\n",
       "    }\n",
       "\n",
       "    .dataframe thead th {\n",
       "        text-align: right;\n",
       "    }\n",
       "</style>\n",
       "<table border=\"1\" class=\"dataframe\">\n",
       "  <thead>\n",
       "    <tr style=\"text-align: right;\">\n",
       "      <th></th>\n",
       "      <th></th>\n",
       "      <th>prop_significant</th>\n",
       "    </tr>\n",
       "    <tr>\n",
       "      <th>year</th>\n",
       "      <th>month</th>\n",
       "      <th></th>\n",
       "    </tr>\n",
       "  </thead>\n",
       "  <tbody>\n",
       "    <tr>\n",
       "      <th>1895</th>\n",
       "      <th>8.0</th>\n",
       "      <td>0.000000</td>\n",
       "    </tr>\n",
       "    <tr>\n",
       "      <th>1898</th>\n",
       "      <th>7.0</th>\n",
       "      <td>0.000000</td>\n",
       "    </tr>\n",
       "    <tr>\n",
       "      <th>1900</th>\n",
       "      <th>11.0</th>\n",
       "      <td>0.000000</td>\n",
       "    </tr>\n",
       "    <tr>\n",
       "      <th>1902</th>\n",
       "      <th>9.0</th>\n",
       "      <td>0.000000</td>\n",
       "    </tr>\n",
       "    <tr>\n",
       "      <th>1903</th>\n",
       "      <th>1.0</th>\n",
       "      <td>0.000000</td>\n",
       "    </tr>\n",
       "    <tr>\n",
       "      <th>...</th>\n",
       "      <th>...</th>\n",
       "      <td>...</td>\n",
       "    </tr>\n",
       "    <tr>\n",
       "      <th rowspan=\"4\" valign=\"top\">2013</th>\n",
       "      <th>8.0</th>\n",
       "      <td>0.176471</td>\n",
       "    </tr>\n",
       "    <tr>\n",
       "      <th>9.0</th>\n",
       "      <td>0.111111</td>\n",
       "    </tr>\n",
       "    <tr>\n",
       "      <th>10.0</th>\n",
       "      <td>0.038462</td>\n",
       "    </tr>\n",
       "    <tr>\n",
       "      <th>11.0</th>\n",
       "      <td>0.200000</td>\n",
       "    </tr>\n",
       "    <tr>\n",
       "      <th>2014</th>\n",
       "      <th>3.0</th>\n",
       "      <td>0.000000</td>\n",
       "    </tr>\n",
       "  </tbody>\n",
       "</table>\n",
       "<p>1199 rows × 1 columns</p>\n",
       "</div>"
      ],
      "text/plain": [
       "            prop_significant\n",
       "year month                  \n",
       "1895 8.0            0.000000\n",
       "1898 7.0            0.000000\n",
       "1900 11.0           0.000000\n",
       "1902 9.0            0.000000\n",
       "1903 1.0            0.000000\n",
       "...                      ...\n",
       "2013 8.0            0.176471\n",
       "     9.0            0.111111\n",
       "     10.0           0.038462\n",
       "     11.0           0.200000\n",
       "2014 3.0            0.000000\n",
       "\n",
       "[1199 rows x 1 columns]"
      ]
     },
     "metadata": {},
     "output_type": "display_data"
    }
   ],
   "source": [
    "monthly_prop_df = name_by_movie_aggregate_df.groupby(['year','month']).apply(lambda x: pd.Series({\n",
    "    'prop_significant': len(x[x['p_value']<alpha])/len(x['p_value'])\n",
    "}))\n",
    "monthly_prop_df_reset = monthly_prop_df.reset_index()\n",
    "display(monthly_prop_df)"
   ]
  },
  {
   "cell_type": "code",
   "execution_count": 198,
   "metadata": {},
   "outputs": [
    {
     "data": {
      "application/vnd.plotly.v1+json": {
       "config": {
        "plotlyServerURL": "https://plot.ly"
       },
       "data": [
        {
         "hovertemplate": "month=8.0<br>year=%{x}<br>Proportion of Significant Values=%{y}<extra></extra>",
         "legendgroup": "8.0",
         "line": {
          "color": "#636efa",
          "dash": "solid",
          "shape": "linear"
         },
         "marker": {
          "symbol": "circle"
         },
         "mode": "markers+lines",
         "name": "8.0",
         "showlegend": true,
         "type": "scattergl",
         "x": [
          1895,
          1909,
          1910,
          1915,
          1916,
          1918,
          1919,
          1921,
          1923,
          1924,
          1925,
          1926,
          1927,
          1928,
          1929,
          1930,
          1931,
          1932,
          1933,
          1934,
          1935,
          1936,
          1937,
          1938,
          1939,
          1940,
          1941,
          1942,
          1943,
          1944,
          1945,
          1946,
          1947,
          1948,
          1949,
          1950,
          1951,
          1952,
          1953,
          1954,
          1955,
          1956,
          1957,
          1958,
          1959,
          1960,
          1961,
          1962,
          1963,
          1964,
          1965,
          1966,
          1967,
          1968,
          1969,
          1970,
          1971,
          1972,
          1973,
          1974,
          1975,
          1976,
          1977,
          1978,
          1979,
          1980,
          1981,
          1982,
          1983,
          1984,
          1985,
          1986,
          1987,
          1988,
          1989,
          1990,
          1991,
          1992,
          1993,
          1994,
          1995,
          1996,
          1997,
          1998,
          1999,
          2000,
          2001,
          2002,
          2003,
          2004,
          2005,
          2006,
          2007,
          2008,
          2009,
          2010,
          2011,
          2012,
          2013
         ],
         "xaxis": "x",
         "y": [
          0,
          0,
          0,
          0,
          0,
          0.06666666666666667,
          0.045454545454545456,
          0,
          0.05,
          0,
          0.06451612903225806,
          0.21052631578947367,
          0,
          0,
          0.1,
          0.09433962264150944,
          0,
          0.17647058823529413,
          0.14285714285714285,
          0.03333333333333333,
          0.18518518518518517,
          0.11764705882352941,
          0.3125,
          0.14705882352941177,
          0.12121212121212122,
          0.12195121951219512,
          0.05714285714285714,
          0.13953488372093023,
          0.016666666666666666,
          0.4,
          0.05,
          0.11538461538461539,
          0.13333333333333333,
          0.2,
          0.05263157894736842,
          0.030303030303030304,
          0.09836065573770492,
          0,
          0.11578947368421053,
          0.14285714285714285,
          0.10204081632653061,
          0.13559322033898305,
          0.11363636363636363,
          0.05555555555555555,
          0.1111111111111111,
          0.1,
          0.2631578947368421,
          0.043478260869565216,
          0.16,
          0.12903225806451613,
          0.0967741935483871,
          0,
          0.017857142857142856,
          0.041666666666666664,
          0.1,
          0.11320754716981132,
          0.07017543859649122,
          0.18181818181818182,
          0.10344827586206896,
          0,
          0.09090909090909091,
          0.08,
          0.1836734693877551,
          0.1509433962264151,
          0.11458333333333333,
          0.0136986301369863,
          0.11538461538461539,
          0.07792207792207792,
          0.05785123966942149,
          0.09401709401709402,
          0.0761904761904762,
          0.09615384615384616,
          0.10714285714285714,
          0.15441176470588236,
          0.0761904761904762,
          0.1016949152542373,
          0.09016393442622951,
          0.05952380952380952,
          0.0660377358490566,
          0.12318840579710146,
          0.09389671361502347,
          0.06976744186046512,
          0.06907894736842106,
          0.09302325581395349,
          0.09578544061302682,
          0.0877742946708464,
          0.07621951219512195,
          0.07207207207207207,
          0.09438775510204081,
          0.07692307692307693,
          0.08379888268156424,
          0.07750472589792061,
          0.10474631751227496,
          0.11363636363636363,
          0.10800744878957169,
          0.14363636363636365,
          0.13696060037523453,
          0.08717948717948718,
          0.17647058823529413
         ],
         "yaxis": "y"
        },
        {
         "hovertemplate": "month=7.0<br>year=%{x}<br>Proportion of Significant Values=%{y}<extra></extra>",
         "legendgroup": "7.0",
         "line": {
          "color": "#EF553B",
          "dash": "solid",
          "shape": "linear"
         },
         "marker": {
          "symbol": "circle"
         },
         "mode": "markers+lines",
         "name": "7.0",
         "showlegend": true,
         "type": "scattergl",
         "x": [
          1898,
          1912,
          1913,
          1915,
          1916,
          1918,
          1919,
          1921,
          1923,
          1924,
          1926,
          1927,
          1928,
          1929,
          1930,
          1931,
          1932,
          1933,
          1934,
          1935,
          1936,
          1937,
          1938,
          1939,
          1940,
          1941,
          1942,
          1943,
          1944,
          1945,
          1946,
          1947,
          1948,
          1949,
          1950,
          1951,
          1952,
          1953,
          1954,
          1955,
          1956,
          1957,
          1958,
          1959,
          1960,
          1961,
          1962,
          1963,
          1964,
          1965,
          1966,
          1967,
          1968,
          1969,
          1970,
          1971,
          1972,
          1973,
          1974,
          1975,
          1976,
          1977,
          1978,
          1979,
          1980,
          1981,
          1982,
          1983,
          1984,
          1985,
          1986,
          1987,
          1988,
          1989,
          1990,
          1991,
          1992,
          1993,
          1994,
          1995,
          1996,
          1997,
          1998,
          1999,
          2000,
          2001,
          2002,
          2003,
          2004,
          2005,
          2006,
          2007,
          2008,
          2009,
          2010,
          2011,
          2012,
          2013
         ],
         "xaxis": "x",
         "y": [
          0,
          0.05555555555555555,
          0,
          0,
          0,
          0.14285714285714285,
          0,
          0,
          0,
          0.08,
          0,
          0,
          0,
          0,
          0.044444444444444446,
          0.04081632653061224,
          0.2,
          0.08695652173913043,
          0.05172413793103448,
          0.12244897959183673,
          0.08928571428571429,
          0.13953488372093023,
          0.20930232558139536,
          0.08695652173913043,
          0.05405405405405406,
          0,
          0.058823529411764705,
          0.09090909090909091,
          0.05319148936170213,
          0,
          0.06382978723404255,
          0.1,
          0.0625,
          0.07317073170731707,
          0.06818181818181818,
          0.06818181818181818,
          0.11320754716981132,
          0.12903225806451613,
          0,
          0.1111111111111111,
          0.21621621621621623,
          0.046511627906976744,
          0.047619047619047616,
          0.03225806451612903,
          0.08888888888888889,
          0,
          0.16216216216216217,
          0,
          0.037037037037037035,
          0.08,
          0.0625,
          0.08163265306122448,
          0.11904761904761904,
          0.140625,
          0.10638297872340426,
          0.1111111111111111,
          0.06097560975609756,
          0.12244897959183673,
          0.24,
          0.078125,
          0.1875,
          0.10714285714285714,
          0.14285714285714285,
          0.1111111111111111,
          0.05172413793103448,
          0.06741573033707865,
          0.029411764705882353,
          0.07246376811594203,
          0.08571428571428572,
          0.14772727272727273,
          0.1732283464566929,
          0.0472972972972973,
          0.06666666666666667,
          0.14893617021276595,
          0.043478260869565216,
          0.09090909090909091,
          0.05921052631578947,
          0.08035714285714286,
          0.09326424870466321,
          0.10465116279069768,
          0.11235955056179775,
          0.09815950920245399,
          0.11221122112211221,
          0.0927536231884058,
          0.1,
          0.10655737704918032,
          0.0896551724137931,
          0.10119047619047619,
          0.06872852233676977,
          0.08960573476702509,
          0.1048158640226629,
          0.08908045977011494,
          0.11979166666666667,
          0.13808463251670378,
          0.16022099447513813,
          0.13793103448275862,
          0.145985401459854,
          0.045454545454545456
         ],
         "yaxis": "y"
        },
        {
         "hovertemplate": "month=11.0<br>year=%{x}<br>Proportion of Significant Values=%{y}<extra></extra>",
         "legendgroup": "11.0",
         "line": {
          "color": "#00cc96",
          "dash": "solid",
          "shape": "linear"
         },
         "marker": {
          "symbol": "circle"
         },
         "mode": "markers+lines",
         "name": "11.0",
         "showlegend": true,
         "type": "scattergl",
         "x": [
          1900,
          1907,
          1908,
          1909,
          1912,
          1914,
          1915,
          1918,
          1919,
          1920,
          1921,
          1922,
          1924,
          1925,
          1926,
          1927,
          1928,
          1929,
          1930,
          1931,
          1932,
          1933,
          1934,
          1935,
          1936,
          1937,
          1938,
          1939,
          1940,
          1941,
          1942,
          1943,
          1944,
          1945,
          1946,
          1947,
          1948,
          1949,
          1950,
          1951,
          1952,
          1953,
          1954,
          1955,
          1956,
          1957,
          1958,
          1959,
          1960,
          1961,
          1962,
          1963,
          1964,
          1965,
          1966,
          1967,
          1968,
          1969,
          1970,
          1971,
          1972,
          1973,
          1974,
          1975,
          1976,
          1977,
          1978,
          1979,
          1980,
          1981,
          1982,
          1983,
          1984,
          1985,
          1986,
          1987,
          1988,
          1989,
          1990,
          1991,
          1992,
          1993,
          1994,
          1995,
          1996,
          1997,
          1998,
          1999,
          2000,
          2001,
          2002,
          2003,
          2004,
          2005,
          2006,
          2007,
          2008,
          2009,
          2010,
          2011,
          2012,
          2013
         ],
         "xaxis": "x",
         "y": [
          0,
          0,
          0,
          0,
          0,
          0,
          0,
          0,
          0,
          0,
          0,
          0.05555555555555555,
          0.2,
          0.045454545454545456,
          0,
          0.08333333333333333,
          0,
          0.1,
          0.06666666666666667,
          0.07692307692307693,
          0.09375,
          0.09090909090909091,
          0.11538461538461539,
          0.06896551724137931,
          0.16129032258064516,
          0.05555555555555555,
          0.02702702702702703,
          0.1,
          0.1,
          0,
          0.07058823529411765,
          0.09615384615384616,
          0,
          0.038461538461538464,
          0.19230769230769232,
          0.09523809523809523,
          0.03409090909090909,
          0.044444444444444446,
          0.05555555555555555,
          0.0594059405940594,
          0.1111111111111111,
          0.16071428571428573,
          0.04,
          0.1,
          0.09523809523809523,
          0.05714285714285714,
          0.038461538461538464,
          0.046511627906976744,
          0.22448979591836735,
          0.06666666666666667,
          0.13253012048192772,
          0.136986301369863,
          0,
          0.021739130434782608,
          0.09523809523809523,
          0.07692307692307693,
          0.13793103448275862,
          0.08888888888888889,
          0.09375,
          0.07246376811594203,
          0.1568627450980392,
          0.06349206349206349,
          0.1134020618556701,
          0.0975609756097561,
          0.15942028985507245,
          0.1,
          0.14,
          0.09523809523809523,
          0.09230769230769231,
          0,
          0.02,
          0.04395604395604396,
          0.06382978723404255,
          0.06832298136645963,
          0.0782608695652174,
          0.07692307692307693,
          0.11351351351351352,
          0.1125,
          0.05232558139534884,
          0.0859375,
          0.05970149253731343,
          0.0851063829787234,
          0.09090909090909091,
          0.11560693641618497,
          0.10601719197707736,
          0.12087912087912088,
          0.1227154046997389,
          0.0970464135021097,
          0.10185185185185185,
          0.08868501529051988,
          0.1,
          0.07017543859649122,
          0.07590759075907591,
          0.05991735537190083,
          0.07982261640798226,
          0.1008174386920981,
          0.11621621621621622,
          0.13043478260869565,
          0.15463917525773196,
          0.16353887399463807,
          0.1111111111111111,
          0.2
         ],
         "yaxis": "y"
        },
        {
         "hovertemplate": "month=9.0<br>year=%{x}<br>Proportion of Significant Values=%{y}<extra></extra>",
         "legendgroup": "9.0",
         "line": {
          "color": "#ab63fa",
          "dash": "solid",
          "shape": "linear"
         },
         "marker": {
          "symbol": "circle"
         },
         "mode": "markers+lines",
         "name": "9.0",
         "showlegend": true,
         "type": "scattergl",
         "x": [
          1902,
          1903,
          1908,
          1910,
          1911,
          1912,
          1913,
          1914,
          1915,
          1917,
          1918,
          1919,
          1920,
          1921,
          1922,
          1923,
          1924,
          1925,
          1926,
          1927,
          1928,
          1929,
          1930,
          1931,
          1932,
          1933,
          1934,
          1935,
          1936,
          1937,
          1938,
          1939,
          1940,
          1941,
          1942,
          1943,
          1944,
          1945,
          1946,
          1947,
          1948,
          1949,
          1950,
          1951,
          1952,
          1953,
          1954,
          1955,
          1956,
          1957,
          1958,
          1959,
          1960,
          1961,
          1962,
          1963,
          1964,
          1965,
          1966,
          1967,
          1968,
          1969,
          1970,
          1971,
          1972,
          1973,
          1974,
          1975,
          1976,
          1977,
          1978,
          1979,
          1980,
          1981,
          1982,
          1983,
          1984,
          1985,
          1986,
          1987,
          1988,
          1989,
          1990,
          1991,
          1992,
          1993,
          1994,
          1995,
          1996,
          1997,
          1998,
          1999,
          2000,
          2001,
          2002,
          2003,
          2004,
          2005,
          2006,
          2007,
          2008,
          2009,
          2010,
          2011,
          2012,
          2013
         ],
         "xaxis": "x",
         "y": [
          0,
          0,
          0,
          0,
          0,
          0,
          0,
          0,
          0,
          0.12,
          0.037037037037037035,
          0.1,
          0,
          0,
          0.07142857142857142,
          0,
          0.125,
          0.07692307692307693,
          0.09090909090909091,
          0.06666666666666667,
          0.3333333333333333,
          0.045454545454545456,
          0.05555555555555555,
          0.02702702702702703,
          0.10294117647058823,
          0.075,
          0.027777777777777776,
          0.09090909090909091,
          0.05555555555555555,
          0.1111111111111111,
          0.16666666666666666,
          0.12,
          0.034482758620689655,
          0.07142857142857142,
          0.05263157894736842,
          0,
          0.08571428571428572,
          0.05,
          0.08695652173913043,
          0.13333333333333333,
          0.13157894736842105,
          0.06976744186046512,
          0.029850746268656716,
          0,
          0,
          0.125,
          0.08620689655172414,
          0.04081632653061224,
          0.0958904109589041,
          0.1388888888888889,
          0.09615384615384616,
          0.1111111111111111,
          0.16,
          0.027777777777777776,
          0.06521739130434782,
          0.21428571428571427,
          0.07575757575757576,
          0.04411764705882353,
          0.15625,
          0.05555555555555555,
          0.14285714285714285,
          0.09210526315789473,
          0.02702702702702703,
          0.16666666666666666,
          0.10526315789473684,
          0.16666666666666666,
          0.12857142857142856,
          0.18867924528301888,
          0.12698412698412698,
          0.06451612903225806,
          0.21311475409836064,
          0.06451612903225806,
          0.022556390977443608,
          0.11842105263157894,
          0.05454545454545454,
          0.13114754098360656,
          0.07913669064748201,
          0.10752688172043011,
          0.02247191011235955,
          0.12857142857142856,
          0.06542056074766354,
          0.06666666666666667,
          0.08962264150943396,
          0.04225352112676056,
          0.07,
          0.10687022900763359,
          0.11475409836065574,
          0.11191335740072202,
          0.08150470219435736,
          0.1078838174273859,
          0.09336609336609336,
          0.08971553610503283,
          0.09866666666666667,
          0.10224948875255624,
          0.08088235294117647,
          0.06276150627615062,
          0.07191780821917808,
          0.09232480533926585,
          0.1043115438108484,
          0.1332547169811321,
          0.11882510013351134,
          0.14354995150339475,
          0.15107361963190183,
          0.15572715572715573,
          0.1031390134529148,
          0.1111111111111111
         ],
         "yaxis": "y"
        },
        {
         "hovertemplate": "month=1.0<br>year=%{x}<br>Proportion of Significant Values=%{y}<extra></extra>",
         "legendgroup": "1.0",
         "line": {
          "color": "#FFA15A",
          "dash": "solid",
          "shape": "linear"
         },
         "marker": {
          "symbol": "circle"
         },
         "mode": "markers+lines",
         "name": "1.0",
         "showlegend": true,
         "type": "scattergl",
         "x": [
          1903,
          1913,
          1914,
          1915,
          1916,
          1917,
          1918,
          1919,
          1921,
          1922,
          1923,
          1924,
          1926,
          1927,
          1928,
          1929,
          1930,
          1931,
          1932,
          1933,
          1934,
          1935,
          1936,
          1937,
          1938,
          1939,
          1940,
          1941,
          1942,
          1943,
          1944,
          1945,
          1946,
          1947,
          1948,
          1949,
          1950,
          1951,
          1952,
          1953,
          1954,
          1955,
          1956,
          1957,
          1958,
          1959,
          1960,
          1961,
          1962,
          1963,
          1964,
          1965,
          1966,
          1967,
          1968,
          1969,
          1970,
          1971,
          1972,
          1973,
          1974,
          1975,
          1976,
          1977,
          1978,
          1979,
          1980,
          1981,
          1982,
          1983,
          1984,
          1985,
          1986,
          1987,
          1988,
          1989,
          1990,
          1991,
          1992,
          1993,
          1994,
          1995,
          1996,
          1997,
          1998,
          1999,
          2000,
          2001,
          2002,
          2003,
          2004,
          2005,
          2006,
          2007,
          2008,
          2009,
          2010,
          2011,
          2012,
          2013
         ],
         "xaxis": "x",
         "y": [
          0,
          0,
          0,
          0,
          0,
          0,
          0,
          0,
          0,
          0,
          0,
          0,
          0,
          0.05,
          0.14814814814814814,
          0,
          0.09803921568627451,
          0.05,
          0.1,
          0,
          0.13793103448275862,
          0.058823529411764705,
          0.0625,
          0.08823529411764706,
          0.05,
          0.07,
          0.024096385542168676,
          0.0625,
          0.02,
          0.06666666666666667,
          0,
          0.05555555555555555,
          0.2,
          0.045454545454545456,
          0,
          0.13043478260869565,
          0.0196078431372549,
          0,
          0.061224489795918366,
          0.10638297872340426,
          0.2,
          0.045454545454545456,
          0.16363636363636364,
          0.12,
          0.09375,
          0.1,
          0.043478260869565216,
          0,
          0.08333333333333333,
          0.11428571428571428,
          0.045454545454545456,
          0,
          0.047619047619047616,
          0.11904761904761904,
          0.06060606060606061,
          0,
          0.06976744186046512,
          0.12195121951219512,
          0.06451612903225806,
          0.1232876712328767,
          0.11764705882352941,
          0,
          0.06521739130434782,
          0.06521739130434782,
          0.10416666666666667,
          0.05,
          0.04878048780487805,
          0,
          0.09523809523809523,
          0.027777777777777776,
          0.08695652173913043,
          0.11578947368421053,
          0.1375,
          0.11904761904761904,
          0.09302325581395349,
          0.13953488372093023,
          0.08547008547008547,
          0.08571428571428572,
          0.088,
          0.14814814814814814,
          0.06349206349206349,
          0.09574468085106383,
          0.0736196319018405,
          0.0763888888888889,
          0.12087912087912088,
          0.12653061224489795,
          0.0893854748603352,
          0.09131403118040089,
          0.10491803278688525,
          0.1053921568627451,
          0.10278745644599303,
          0.08244680851063829,
          0.08148148148148149,
          0.10498687664041995,
          0.1390728476821192,
          0.1383737517831669,
          0.15771812080536912,
          0.16233766233766234,
          0.14052953156822812,
          0.125
         ],
         "yaxis": "y"
        },
        {
         "hovertemplate": "month=5.0<br>year=%{x}<br>Proportion of Significant Values=%{y}<extra></extra>",
         "legendgroup": "5.0",
         "line": {
          "color": "#19d3f3",
          "dash": "solid",
          "shape": "linear"
         },
         "marker": {
          "symbol": "circle"
         },
         "mode": "markers+lines",
         "name": "5.0",
         "showlegend": true,
         "type": "scattergl",
         "x": [
          1903,
          1909,
          1910,
          1911,
          1912,
          1913,
          1914,
          1915,
          1916,
          1917,
          1919,
          1920,
          1921,
          1922,
          1924,
          1925,
          1926,
          1927,
          1928,
          1929,
          1930,
          1931,
          1932,
          1933,
          1934,
          1935,
          1936,
          1937,
          1938,
          1939,
          1940,
          1941,
          1942,
          1943,
          1944,
          1945,
          1946,
          1947,
          1948,
          1949,
          1950,
          1951,
          1952,
          1953,
          1954,
          1955,
          1956,
          1957,
          1958,
          1959,
          1960,
          1961,
          1962,
          1963,
          1964,
          1965,
          1966,
          1967,
          1968,
          1969,
          1970,
          1971,
          1972,
          1973,
          1974,
          1975,
          1976,
          1977,
          1978,
          1979,
          1980,
          1981,
          1982,
          1983,
          1984,
          1985,
          1986,
          1987,
          1988,
          1989,
          1990,
          1991,
          1992,
          1993,
          1994,
          1995,
          1996,
          1997,
          1998,
          1999,
          2000,
          2001,
          2002,
          2003,
          2004,
          2005,
          2006,
          2007,
          2008,
          2009,
          2010,
          2011,
          2012,
          2013
         ],
         "xaxis": "x",
         "y": [
          0,
          0,
          0,
          0,
          0.3333333333333333,
          0,
          0,
          0,
          0.125,
          0,
          0.0967741935483871,
          0,
          0.16666666666666666,
          0,
          0.3333333333333333,
          0.2,
          0,
          0.18181818181818182,
          0.13333333333333333,
          0.10204081632653061,
          0.037037037037037035,
          0.05263157894736842,
          0.057971014492753624,
          0,
          0.06896551724137931,
          0.2,
          0.12,
          0.11538461538461539,
          0.18181818181818182,
          0.09090909090909091,
          0.05263157894736842,
          0.11290322580645161,
          0.14492753623188406,
          0.08333333333333333,
          0.05,
          0.08695652173913043,
          0.09523809523809523,
          0.10638297872340426,
          0.11428571428571428,
          0.05555555555555555,
          0.08108108108108109,
          0.043478260869565216,
          0.058823529411764705,
          0.0784313725490196,
          0.0625,
          0.05555555555555555,
          0.17142857142857143,
          0.075,
          0.0851063829787234,
          0.09090909090909091,
          0.14583333333333334,
          0.13846153846153847,
          0.0875,
          0.09615384615384616,
          0.06060606060606061,
          0,
          0.020833333333333332,
          0.15789473684210525,
          0.09090909090909091,
          0.16,
          0.13114754098360656,
          0.1,
          0.11029411764705882,
          0.08653846153846154,
          0.05555555555555555,
          0.08888888888888889,
          0.14084507042253522,
          0.0821917808219178,
          0.10989010989010989,
          0.05747126436781609,
          0.08433734939759036,
          0.09565217391304348,
          0.06930693069306931,
          0.043478260869565216,
          0.08695652173913043,
          0.047619047619047616,
          0.09027777777777778,
          0.08333333333333333,
          0.09649122807017543,
          0.06338028169014084,
          0.07801418439716312,
          0.102803738317757,
          0.06417112299465241,
          0.08860759493670886,
          0.0859375,
          0.0963302752293578,
          0.08223684210526316,
          0.09386281588447654,
          0.11488250652741515,
          0.10526315789473684,
          0.07875894988066826,
          0.0992063492063492,
          0.06485355648535565,
          0.07304785894206549,
          0.06284658040665435,
          0.0957683741648107,
          0.05964214711729622,
          0.1206896551724138,
          0.10810810810810811,
          0.10166666666666667,
          0.1450189155107188,
          0.1322314049586777,
          0.11226252158894647,
          0.20408163265306123
         ],
         "yaxis": "y"
        },
        {
         "hovertemplate": "month=10.0<br>year=%{x}<br>Proportion of Significant Values=%{y}<extra></extra>",
         "legendgroup": "10.0",
         "line": {
          "color": "#FF6692",
          "dash": "solid",
          "shape": "linear"
         },
         "marker": {
          "symbol": "circle"
         },
         "mode": "markers+lines",
         "name": "10.0",
         "showlegend": true,
         "type": "scattergl",
         "x": [
          1906,
          1908,
          1911,
          1912,
          1914,
          1916,
          1917,
          1918,
          1920,
          1921,
          1922,
          1923,
          1924,
          1925,
          1926,
          1927,
          1928,
          1929,
          1930,
          1931,
          1932,
          1933,
          1934,
          1935,
          1936,
          1937,
          1938,
          1939,
          1940,
          1941,
          1942,
          1943,
          1944,
          1945,
          1946,
          1947,
          1948,
          1949,
          1950,
          1951,
          1952,
          1953,
          1954,
          1955,
          1956,
          1957,
          1958,
          1959,
          1960,
          1961,
          1962,
          1963,
          1964,
          1965,
          1966,
          1967,
          1968,
          1969,
          1970,
          1971,
          1972,
          1973,
          1974,
          1975,
          1976,
          1977,
          1978,
          1979,
          1980,
          1981,
          1982,
          1983,
          1984,
          1985,
          1986,
          1987,
          1988,
          1989,
          1990,
          1991,
          1992,
          1993,
          1994,
          1995,
          1996,
          1997,
          1998,
          1999,
          2000,
          2001,
          2002,
          2003,
          2004,
          2005,
          2006,
          2007,
          2008,
          2009,
          2010,
          2011,
          2012,
          2013
         ],
         "xaxis": "x",
         "y": [
          0,
          0.1111111111111111,
          0.3333333333333333,
          0.03571428571428571,
          0,
          0,
          0,
          0,
          0,
          0,
          0.03333333333333333,
          0,
          0.043478260869565216,
          0,
          0,
          0.2,
          0.07407407407407407,
          0.11764705882352941,
          0.04285714285714286,
          0.1111111111111111,
          0.1111111111111111,
          0.14285714285714285,
          0.06666666666666667,
          0.10344827586206896,
          0.09302325581395349,
          0.15702479338842976,
          0.1016949152542373,
          0,
          0.025,
          0.037037037037037035,
          0.1,
          0.06818181818181818,
          0.12727272727272726,
          0.2,
          0.07317073170731707,
          0.07692307692307693,
          0.0625,
          0.021739130434782608,
          0.13157894736842105,
          0,
          0.034482758620689655,
          0.16666666666666666,
          0.1625,
          0.1276595744680851,
          0.10476190476190476,
          0.047619047619047616,
          0.04918032786885246,
          0.18309859154929578,
          0.10714285714285714,
          0.11428571428571428,
          0.1875,
          0.0784313725490196,
          0.12307692307692308,
          0.10638297872340426,
          0.05,
          0.043478260869565216,
          0.10869565217391304,
          0.125,
          0.02857142857142857,
          0.1509433962264151,
          0.04878048780487805,
          0.08823529411764706,
          0.16379310344827586,
          0.06481481481481481,
          0.04819277108433735,
          0.1927710843373494,
          0.12213740458015267,
          0.15476190476190477,
          0.14606741573033707,
          0.09009009009009009,
          0.04040404040404041,
          0.0851063829787234,
          0.07142857142857142,
          0.050359712230215826,
          0.06896551724137931,
          0.08661417322834646,
          0.0851063829787234,
          0.13740458015267176,
          0.06896551724137931,
          0.06315789473684211,
          0.08333333333333333,
          0.1144578313253012,
          0.11165048543689321,
          0.10952380952380952,
          0.09157509157509157,
          0.08996539792387544,
          0.12883435582822086,
          0.104,
          0.10309278350515463,
          0.07396449704142012,
          0.11586901763224182,
          0.08048780487804878,
          0.07674418604651163,
          0.09725685785536159,
          0.08394160583941605,
          0.09370199692780339,
          0.13630041724617525,
          0.14835164835164835,
          0.15461847389558234,
          0.14583333333333334,
          0.15469613259668508,
          0.038461538461538464
         ],
         "yaxis": "y"
        },
        {
         "hovertemplate": "month=12.0<br>year=%{x}<br>Proportion of Significant Values=%{y}<extra></extra>",
         "legendgroup": "12.0",
         "line": {
          "color": "#B6E880",
          "dash": "solid",
          "shape": "linear"
         },
         "marker": {
          "symbol": "circle"
         },
         "mode": "markers+lines",
         "name": "12.0",
         "showlegend": true,
         "type": "scattergl",
         "x": [
          1907,
          1908,
          1909,
          1914,
          1915,
          1916,
          1918,
          1919,
          1921,
          1922,
          1923,
          1924,
          1925,
          1926,
          1927,
          1928,
          1929,
          1930,
          1931,
          1932,
          1933,
          1934,
          1935,
          1936,
          1937,
          1938,
          1939,
          1940,
          1941,
          1942,
          1943,
          1944,
          1945,
          1946,
          1947,
          1948,
          1949,
          1950,
          1951,
          1952,
          1953,
          1954,
          1955,
          1956,
          1957,
          1958,
          1959,
          1960,
          1961,
          1962,
          1963,
          1964,
          1965,
          1966,
          1967,
          1968,
          1969,
          1970,
          1971,
          1972,
          1973,
          1974,
          1975,
          1976,
          1977,
          1978,
          1979,
          1980,
          1981,
          1982,
          1983,
          1984,
          1985,
          1986,
          1987,
          1988,
          1989,
          1990,
          1991,
          1992,
          1993,
          1994,
          1995,
          1996,
          1997,
          1998,
          1999,
          2000,
          2001,
          2002,
          2003,
          2004,
          2005,
          2006,
          2007,
          2008,
          2009,
          2010,
          2011,
          2012
         ],
         "xaxis": "x",
         "y": [
          0,
          0,
          0,
          0.125,
          0,
          0,
          0.125,
          0.125,
          0,
          0,
          0.2,
          0.1111111111111111,
          0.1,
          0,
          0.02857142857142857,
          0.23076923076923078,
          0.02631578947368421,
          0.06521739130434782,
          0.08,
          0.07352941176470588,
          0.011764705882352941,
          0.037037037037037035,
          0.14285714285714285,
          0.1323529411764706,
          0.10084033613445378,
          0,
          0.09090909090909091,
          0.05128205128205128,
          0.05128205128205128,
          0.11666666666666667,
          0.030303030303030304,
          0.0547945205479452,
          0.06557377049180328,
          0.029411764705882353,
          0.078125,
          0.08064516129032258,
          0.10526315789473684,
          0.04838709677419355,
          0.07894736842105263,
          0.015873015873015872,
          0.15789473684210525,
          0.16666666666666666,
          0.05063291139240506,
          0.09,
          0.12195121951219512,
          0.07692307692307693,
          0.08064516129032258,
          0.05714285714285714,
          0.08547008547008547,
          0.13953488372093023,
          0.10465116279069768,
          0.038834951456310676,
          0.06896551724137931,
          0.011494252873563218,
          0.0641025641025641,
          0.11494252873563218,
          0.10869565217391304,
          0.08108108108108109,
          0.12280701754385964,
          0.12295081967213115,
          0.05042016806722689,
          0.05747126436781609,
          0.02631578947368421,
          0.12962962962962962,
          0.15,
          0.15053763440860216,
          0.0962962962962963,
          0.08823529411764706,
          0.05555555555555555,
          0.08571428571428572,
          0.06779661016949153,
          0.027777777777777776,
          0.08080808080808081,
          0.06796116504854369,
          0.13186813186813187,
          0.07432432432432433,
          0.06796116504854369,
          0.11229946524064172,
          0.06878306878306878,
          0.11052631578947368,
          0.055299539170506916,
          0.1072961373390558,
          0.11475409836065574,
          0.07449856733524356,
          0.0927536231884058,
          0.07920792079207921,
          0.0835509138381201,
          0.09948979591836735,
          0.09326424870466321,
          0.10287081339712918,
          0.1033434650455927,
          0.07142857142857142,
          0.07589285714285714,
          0.10179640718562874,
          0.09090909090909091,
          0.09826589595375723,
          0.11684782608695653,
          0.14588859416445624,
          0.11301369863013698,
          0.21359223300970873
         ],
         "yaxis": "y"
        },
        {
         "hovertemplate": "month=4.0<br>year=%{x}<br>Proportion of Significant Values=%{y}<extra></extra>",
         "legendgroup": "4.0",
         "line": {
          "color": "#FF97FF",
          "dash": "solid",
          "shape": "linear"
         },
         "marker": {
          "symbol": "circle"
         },
         "mode": "markers+lines",
         "name": "4.0",
         "showlegend": true,
         "type": "scattergl",
         "x": [
          1908,
          1911,
          1915,
          1916,
          1917,
          1918,
          1919,
          1922,
          1923,
          1924,
          1925,
          1926,
          1927,
          1928,
          1929,
          1930,
          1931,
          1932,
          1933,
          1934,
          1935,
          1936,
          1937,
          1938,
          1939,
          1940,
          1941,
          1942,
          1943,
          1944,
          1945,
          1946,
          1947,
          1948,
          1949,
          1950,
          1951,
          1952,
          1953,
          1954,
          1955,
          1956,
          1957,
          1958,
          1959,
          1960,
          1961,
          1962,
          1963,
          1964,
          1965,
          1966,
          1967,
          1968,
          1969,
          1970,
          1971,
          1972,
          1973,
          1974,
          1975,
          1976,
          1977,
          1978,
          1979,
          1980,
          1981,
          1982,
          1983,
          1984,
          1985,
          1986,
          1987,
          1988,
          1989,
          1990,
          1991,
          1992,
          1993,
          1994,
          1995,
          1996,
          1997,
          1998,
          1999,
          2000,
          2001,
          2002,
          2003,
          2004,
          2005,
          2006,
          2007,
          2008,
          2009,
          2010,
          2011,
          2012,
          2013
         ],
         "xaxis": "x",
         "y": [
          0,
          0,
          0,
          0,
          0.3333333333333333,
          0,
          0,
          0,
          0.10526315789473684,
          0,
          0,
          0,
          0,
          0.16279069767441862,
          0.09302325581395349,
          0.04,
          0.11764705882352941,
          0.1111111111111111,
          0.05405405405405406,
          0.09433962264150944,
          0.0898876404494382,
          0.10869565217391304,
          0.11363636363636363,
          0.12195121951219512,
          0.09302325581395349,
          0.16666666666666666,
          0,
          0.10810810810810811,
          0.12,
          0,
          0.04819277108433735,
          0.11320754716981132,
          0,
          0.1111111111111111,
          0.0547945205479452,
          0.1111111111111111,
          0.03508771929824561,
          0.03773584905660377,
          0.11688311688311688,
          0.1346153846153846,
          0.08,
          0.11940298507462686,
          0.027777777777777776,
          0.06896551724137931,
          0.1956521739130435,
          0.19047619047619047,
          0.08,
          0.15384615384615385,
          0.125,
          0.08695652173913043,
          0.05263157894736842,
          0,
          0.10465116279069768,
          0.0975609756097561,
          0.125,
          0.14285714285714285,
          0,
          0,
          0.09333333333333334,
          0.10434782608695652,
          0.047619047619047616,
          0.12698412698412698,
          0.15,
          0.03636363636363636,
          0.09210526315789473,
          0.14705882352941177,
          0.0759493670886076,
          0.05555555555555555,
          0.10638297872340426,
          0.03333333333333333,
          0.020833333333333332,
          0.07407407407407407,
          0.061224489795918366,
          0.06521739130434782,
          0.06862745098039216,
          0.16455696202531644,
          0.05426356589147287,
          0.06206896551724138,
          0.12837837837837837,
          0.10852713178294573,
          0.07462686567164178,
          0.13709677419354838,
          0.12544802867383512,
          0.13245033112582782,
          0.08275862068965517,
          0.08214285714285714,
          0.06084656084656084,
          0.10459183673469388,
          0.05389221556886228,
          0.07536231884057971,
          0.061946902654867256,
          0.0858085808580858,
          0.10465116279069768,
          0.12144702842377261,
          0.15053763440860216,
          0.1271186440677966,
          0.1415929203539823,
          0.12422360248447205,
          0.22448979591836735
         ],
         "yaxis": "y"
        },
        {
         "hovertemplate": "month=3.0<br>year=%{x}<br>Proportion of Significant Values=%{y}<extra></extra>",
         "legendgroup": "3.0",
         "line": {
          "color": "#FECB52",
          "dash": "solid",
          "shape": "linear"
         },
         "marker": {
          "symbol": "circle"
         },
         "mode": "markers+lines",
         "name": "3.0",
         "showlegend": true,
         "type": "scattergl",
         "x": [
          1910,
          1912,
          1914,
          1917,
          1920,
          1921,
          1922,
          1923,
          1924,
          1926,
          1927,
          1928,
          1929,
          1930,
          1931,
          1932,
          1933,
          1934,
          1935,
          1936,
          1937,
          1938,
          1939,
          1940,
          1941,
          1942,
          1943,
          1944,
          1945,
          1946,
          1947,
          1948,
          1949,
          1950,
          1951,
          1952,
          1953,
          1954,
          1955,
          1956,
          1957,
          1958,
          1959,
          1960,
          1961,
          1962,
          1963,
          1964,
          1965,
          1966,
          1967,
          1968,
          1969,
          1970,
          1971,
          1972,
          1973,
          1974,
          1975,
          1976,
          1977,
          1978,
          1979,
          1980,
          1981,
          1982,
          1983,
          1984,
          1985,
          1986,
          1987,
          1988,
          1989,
          1990,
          1991,
          1992,
          1993,
          1994,
          1995,
          1996,
          1997,
          1998,
          1999,
          2000,
          2001,
          2002,
          2003,
          2004,
          2005,
          2006,
          2007,
          2008,
          2009,
          2010,
          2011,
          2012,
          2013,
          2014
         ],
         "xaxis": "x",
         "y": [
          0.14285714285714285,
          0,
          0,
          0,
          0,
          0.05,
          0,
          0,
          0.17857142857142858,
          0,
          0,
          0,
          0.08695652173913043,
          0,
          0.03333333333333333,
          0.10526315789473684,
          0.08333333333333333,
          0.06060606060606061,
          0.21212121212121213,
          0.0875,
          0.05,
          0.18181818181818182,
          0.12,
          0.06363636363636363,
          0,
          0.2,
          0.08163265306122448,
          0.13333333333333333,
          0.12195121951219512,
          0.07692307692307693,
          0.13793103448275862,
          0.16279069767441862,
          0.2,
          0.017857142857142856,
          0.05555555555555555,
          0.05405405405405406,
          0.06666666666666667,
          0.15625,
          0.14705882352941177,
          0.047619047619047616,
          0.08333333333333333,
          0.08333333333333333,
          0.04878048780487805,
          0.058823529411764705,
          0.125,
          0.21428571428571427,
          0.12121212121212122,
          0.04918032786885246,
          0.11538461538461539,
          0.13043478260869565,
          0.025974025974025976,
          0,
          0.08333333333333333,
          0.11764705882352941,
          0.09836065573770492,
          0.08771929824561403,
          0.06818181818181818,
          0.11842105263157894,
          0.0916030534351145,
          0.23076923076923078,
          0.10256410256410256,
          0.12941176470588237,
          0.08333333333333333,
          0.05,
          0.058823529411764705,
          0.08108108108108109,
          0.05825242718446602,
          0.0893854748603352,
          0.072992700729927,
          0.057971014492753624,
          0.07079646017699115,
          0.08450704225352113,
          0.10317460317460317,
          0.08450704225352113,
          0.06293706293706294,
          0.04697986577181208,
          0.04395604395604396,
          0.05357142857142857,
          0.1267605633802817,
          0.12571428571428572,
          0.07142857142857142,
          0.068,
          0.1118421052631579,
          0.09948979591836735,
          0.03237410071942446,
          0.10126582278481013,
          0.10173697270471464,
          0.09217877094972067,
          0.09029345372460497,
          0.08974358974358974,
          0.10126582278481013,
          0.09230769230769231,
          0.1316793893129771,
          0.12454212454212454,
          0.1448692152917505,
          0.12300683371298406,
          0.1864406779661017,
          0
         ],
         "yaxis": "y"
        },
        {
         "hovertemplate": "month=6.0<br>year=%{x}<br>Proportion of Significant Values=%{y}<extra></extra>",
         "legendgroup": "6.0",
         "line": {
          "color": "#636efa",
          "dash": "solid",
          "shape": "linear"
         },
         "marker": {
          "symbol": "circle"
         },
         "mode": "markers+lines",
         "name": "6.0",
         "showlegend": true,
         "type": "scattergl",
         "x": [
          1910,
          1913,
          1916,
          1917,
          1918,
          1919,
          1923,
          1924,
          1927,
          1928,
          1929,
          1930,
          1931,
          1932,
          1933,
          1934,
          1935,
          1936,
          1937,
          1938,
          1939,
          1940,
          1941,
          1942,
          1943,
          1944,
          1945,
          1946,
          1947,
          1948,
          1949,
          1950,
          1951,
          1952,
          1953,
          1954,
          1955,
          1956,
          1957,
          1958,
          1959,
          1960,
          1961,
          1962,
          1963,
          1964,
          1965,
          1966,
          1967,
          1968,
          1969,
          1970,
          1971,
          1972,
          1973,
          1974,
          1975,
          1976,
          1977,
          1978,
          1979,
          1980,
          1981,
          1982,
          1983,
          1984,
          1985,
          1986,
          1987,
          1988,
          1989,
          1990,
          1991,
          1992,
          1993,
          1994,
          1995,
          1996,
          1997,
          1998,
          1999,
          2000,
          2001,
          2002,
          2003,
          2004,
          2005,
          2006,
          2007,
          2008,
          2009,
          2010,
          2011,
          2012,
          2013
         ],
         "xaxis": "x",
         "y": [
          0,
          0,
          0,
          0,
          0,
          0,
          0,
          0.05,
          0.06060606060606061,
          0,
          0.058823529411764705,
          0.04,
          0.07692307692307693,
          0.0625,
          0.08333333333333333,
          0.12903225806451613,
          0.27586206896551724,
          0.15151515151515152,
          0.16,
          0.2,
          0.07272727272727272,
          0.0975609756097561,
          0.03225806451612903,
          0.07894736842105263,
          0.05357142857142857,
          0.05,
          0.08,
          0.1111111111111111,
          0.045454545454545456,
          0.140625,
          0.07142857142857142,
          0.013333333333333334,
          0.041666666666666664,
          0.06666666666666667,
          0.07407407407407407,
          0.14285714285714285,
          0.13186813186813187,
          0.0547945205479452,
          0.1,
          0.05555555555555555,
          0.11864406779661017,
          0.1388888888888889,
          0.1206896551724138,
          0.14473684210526316,
          0.19298245614035087,
          0.09876543209876543,
          0.08064516129032258,
          0.04878048780487805,
          0.02127659574468085,
          0.15714285714285714,
          0.11627906976744186,
          0.12612612612612611,
          0.09859154929577464,
          0.06451612903225806,
          0.014705882352941176,
          0.09615384615384616,
          0.07142857142857142,
          0.12903225806451613,
          0.1,
          0.12931034482758622,
          0.10843373493975904,
          0.0684931506849315,
          0.030927835051546393,
          0.0784313725490196,
          0.02608695652173913,
          0.07179487179487179,
          0.08064516129032258,
          0.12222222222222222,
          0.058823529411764705,
          0.1,
          0.09090909090909091,
          0.06422018348623854,
          0.06722689075630252,
          0.15217391304347827,
          0.0759493670886076,
          0.07352941176470588,
          0.09090909090909091,
          0.06629834254143646,
          0.06363636363636363,
          0.10469314079422383,
          0.09881422924901186,
          0.10526315789473684,
          0.0625,
          0.0947867298578199,
          0.12236286919831224,
          0.06818181818181818,
          0.08602150537634409,
          0.08878504672897196,
          0.08547008547008547,
          0.09944751381215469,
          0.10185185185185185,
          0.15165876777251186,
          0.138671875,
          0.15734265734265734,
          0.15714285714285714
         ],
         "yaxis": "y"
        },
        {
         "hovertemplate": "month=2.0<br>year=%{x}<br>Proportion of Significant Values=%{y}<extra></extra>",
         "legendgroup": "2.0",
         "line": {
          "color": "#EF553B",
          "dash": "solid",
          "shape": "linear"
         },
         "marker": {
          "symbol": "circle"
         },
         "mode": "markers+lines",
         "name": "2.0",
         "showlegend": true,
         "type": "scattergl",
         "x": [
          1911,
          1914,
          1919,
          1920,
          1921,
          1922,
          1923,
          1925,
          1926,
          1927,
          1928,
          1929,
          1930,
          1931,
          1932,
          1933,
          1934,
          1935,
          1936,
          1937,
          1938,
          1939,
          1940,
          1941,
          1942,
          1943,
          1944,
          1945,
          1946,
          1947,
          1948,
          1949,
          1950,
          1951,
          1952,
          1953,
          1954,
          1955,
          1956,
          1957,
          1958,
          1959,
          1960,
          1961,
          1962,
          1963,
          1964,
          1965,
          1966,
          1967,
          1968,
          1969,
          1970,
          1971,
          1972,
          1973,
          1974,
          1975,
          1976,
          1977,
          1978,
          1979,
          1980,
          1981,
          1982,
          1983,
          1984,
          1985,
          1986,
          1987,
          1988,
          1989,
          1990,
          1991,
          1992,
          1993,
          1994,
          1995,
          1996,
          1997,
          1998,
          1999,
          2000,
          2001,
          2002,
          2003,
          2004,
          2005,
          2006,
          2007,
          2008,
          2009,
          2010,
          2011,
          2012,
          2013
         ],
         "xaxis": "x",
         "y": [
          0.1,
          0,
          0,
          0.125,
          0,
          0.06666666666666667,
          0.13333333333333333,
          0.047619047619047616,
          0,
          0,
          0,
          0.05714285714285714,
          0.045454545454545456,
          0.09803921568627451,
          0.16666666666666666,
          0.08823529411764706,
          0.1956521739130435,
          0.10526315789473684,
          0.09523809523809523,
          0.12903225806451613,
          0.08823529411764706,
          0.1,
          0.15151515151515152,
          0.07462686567164178,
          0.06896551724137931,
          0.1,
          0.08333333333333333,
          0.11864406779661017,
          0.08888888888888889,
          0.1,
          0.14285714285714285,
          0.05,
          0.07692307692307693,
          0.057971014492753624,
          0.02666666666666667,
          0.08823529411764706,
          0.08641975308641975,
          0.08571428571428572,
          0.15555555555555556,
          0.03636363636363636,
          0.06060606060606061,
          0.05,
          0.10666666666666667,
          0.14814814814814814,
          0,
          0.07692307692307693,
          0.05555555555555555,
          0.11764705882352941,
          0.0975609756097561,
          0.11627906976744186,
          0.030303030303030304,
          0.09523809523809523,
          0.15151515151515152,
          0.15384615384615385,
          0.09803921568627451,
          0.06060606060606061,
          0.08196721311475409,
          0.1780821917808219,
          0.20408163265306123,
          0.10714285714285714,
          0.06557377049180328,
          0.07407407407407407,
          0.15151515151515152,
          0.06060606060606061,
          0.0847457627118644,
          0.06976744186046512,
          0.08163265306122448,
          0.07407407407407407,
          0.056818181818181816,
          0.09782608695652174,
          0.1,
          0.10416666666666667,
          0.06666666666666667,
          0.03278688524590164,
          0.06172839506172839,
          0.10215053763440861,
          0.09166666666666666,
          0.1,
          0.12,
          0.1179245283018868,
          0.08762886597938144,
          0.10126582278481013,
          0.11363636363636363,
          0.07851239669421488,
          0.07637231503579953,
          0.08849557522123894,
          0.07763975155279502,
          0.09163346613545817,
          0.0946372239747634,
          0.1141396933560477,
          0.11504424778761062,
          0.13333333333333333,
          0.1634980988593156,
          0.1520979020979021,
          0.12112676056338029,
          0.045454545454545456
         ],
         "yaxis": "y"
        }
       ],
       "layout": {
        "legend": {
         "title": {
          "text": "month"
         },
         "tracegroupgap": 0
        },
        "template": {
         "data": {
          "bar": [
           {
            "error_x": {
             "color": "#2a3f5f"
            },
            "error_y": {
             "color": "#2a3f5f"
            },
            "marker": {
             "line": {
              "color": "#E5ECF6",
              "width": 0.5
             },
             "pattern": {
              "fillmode": "overlay",
              "size": 10,
              "solidity": 0.2
             }
            },
            "type": "bar"
           }
          ],
          "barpolar": [
           {
            "marker": {
             "line": {
              "color": "#E5ECF6",
              "width": 0.5
             },
             "pattern": {
              "fillmode": "overlay",
              "size": 10,
              "solidity": 0.2
             }
            },
            "type": "barpolar"
           }
          ],
          "carpet": [
           {
            "aaxis": {
             "endlinecolor": "#2a3f5f",
             "gridcolor": "white",
             "linecolor": "white",
             "minorgridcolor": "white",
             "startlinecolor": "#2a3f5f"
            },
            "baxis": {
             "endlinecolor": "#2a3f5f",
             "gridcolor": "white",
             "linecolor": "white",
             "minorgridcolor": "white",
             "startlinecolor": "#2a3f5f"
            },
            "type": "carpet"
           }
          ],
          "choropleth": [
           {
            "colorbar": {
             "outlinewidth": 0,
             "ticks": ""
            },
            "type": "choropleth"
           }
          ],
          "contour": [
           {
            "colorbar": {
             "outlinewidth": 0,
             "ticks": ""
            },
            "colorscale": [
             [
              0,
              "#0d0887"
             ],
             [
              0.1111111111111111,
              "#46039f"
             ],
             [
              0.2222222222222222,
              "#7201a8"
             ],
             [
              0.3333333333333333,
              "#9c179e"
             ],
             [
              0.4444444444444444,
              "#bd3786"
             ],
             [
              0.5555555555555556,
              "#d8576b"
             ],
             [
              0.6666666666666666,
              "#ed7953"
             ],
             [
              0.7777777777777778,
              "#fb9f3a"
             ],
             [
              0.8888888888888888,
              "#fdca26"
             ],
             [
              1,
              "#f0f921"
             ]
            ],
            "type": "contour"
           }
          ],
          "contourcarpet": [
           {
            "colorbar": {
             "outlinewidth": 0,
             "ticks": ""
            },
            "type": "contourcarpet"
           }
          ],
          "heatmap": [
           {
            "colorbar": {
             "outlinewidth": 0,
             "ticks": ""
            },
            "colorscale": [
             [
              0,
              "#0d0887"
             ],
             [
              0.1111111111111111,
              "#46039f"
             ],
             [
              0.2222222222222222,
              "#7201a8"
             ],
             [
              0.3333333333333333,
              "#9c179e"
             ],
             [
              0.4444444444444444,
              "#bd3786"
             ],
             [
              0.5555555555555556,
              "#d8576b"
             ],
             [
              0.6666666666666666,
              "#ed7953"
             ],
             [
              0.7777777777777778,
              "#fb9f3a"
             ],
             [
              0.8888888888888888,
              "#fdca26"
             ],
             [
              1,
              "#f0f921"
             ]
            ],
            "type": "heatmap"
           }
          ],
          "heatmapgl": [
           {
            "colorbar": {
             "outlinewidth": 0,
             "ticks": ""
            },
            "colorscale": [
             [
              0,
              "#0d0887"
             ],
             [
              0.1111111111111111,
              "#46039f"
             ],
             [
              0.2222222222222222,
              "#7201a8"
             ],
             [
              0.3333333333333333,
              "#9c179e"
             ],
             [
              0.4444444444444444,
              "#bd3786"
             ],
             [
              0.5555555555555556,
              "#d8576b"
             ],
             [
              0.6666666666666666,
              "#ed7953"
             ],
             [
              0.7777777777777778,
              "#fb9f3a"
             ],
             [
              0.8888888888888888,
              "#fdca26"
             ],
             [
              1,
              "#f0f921"
             ]
            ],
            "type": "heatmapgl"
           }
          ],
          "histogram": [
           {
            "marker": {
             "pattern": {
              "fillmode": "overlay",
              "size": 10,
              "solidity": 0.2
             }
            },
            "type": "histogram"
           }
          ],
          "histogram2d": [
           {
            "colorbar": {
             "outlinewidth": 0,
             "ticks": ""
            },
            "colorscale": [
             [
              0,
              "#0d0887"
             ],
             [
              0.1111111111111111,
              "#46039f"
             ],
             [
              0.2222222222222222,
              "#7201a8"
             ],
             [
              0.3333333333333333,
              "#9c179e"
             ],
             [
              0.4444444444444444,
              "#bd3786"
             ],
             [
              0.5555555555555556,
              "#d8576b"
             ],
             [
              0.6666666666666666,
              "#ed7953"
             ],
             [
              0.7777777777777778,
              "#fb9f3a"
             ],
             [
              0.8888888888888888,
              "#fdca26"
             ],
             [
              1,
              "#f0f921"
             ]
            ],
            "type": "histogram2d"
           }
          ],
          "histogram2dcontour": [
           {
            "colorbar": {
             "outlinewidth": 0,
             "ticks": ""
            },
            "colorscale": [
             [
              0,
              "#0d0887"
             ],
             [
              0.1111111111111111,
              "#46039f"
             ],
             [
              0.2222222222222222,
              "#7201a8"
             ],
             [
              0.3333333333333333,
              "#9c179e"
             ],
             [
              0.4444444444444444,
              "#bd3786"
             ],
             [
              0.5555555555555556,
              "#d8576b"
             ],
             [
              0.6666666666666666,
              "#ed7953"
             ],
             [
              0.7777777777777778,
              "#fb9f3a"
             ],
             [
              0.8888888888888888,
              "#fdca26"
             ],
             [
              1,
              "#f0f921"
             ]
            ],
            "type": "histogram2dcontour"
           }
          ],
          "mesh3d": [
           {
            "colorbar": {
             "outlinewidth": 0,
             "ticks": ""
            },
            "type": "mesh3d"
           }
          ],
          "parcoords": [
           {
            "line": {
             "colorbar": {
              "outlinewidth": 0,
              "ticks": ""
             }
            },
            "type": "parcoords"
           }
          ],
          "pie": [
           {
            "automargin": true,
            "type": "pie"
           }
          ],
          "scatter": [
           {
            "fillpattern": {
             "fillmode": "overlay",
             "size": 10,
             "solidity": 0.2
            },
            "type": "scatter"
           }
          ],
          "scatter3d": [
           {
            "line": {
             "colorbar": {
              "outlinewidth": 0,
              "ticks": ""
             }
            },
            "marker": {
             "colorbar": {
              "outlinewidth": 0,
              "ticks": ""
             }
            },
            "type": "scatter3d"
           }
          ],
          "scattercarpet": [
           {
            "marker": {
             "colorbar": {
              "outlinewidth": 0,
              "ticks": ""
             }
            },
            "type": "scattercarpet"
           }
          ],
          "scattergeo": [
           {
            "marker": {
             "colorbar": {
              "outlinewidth": 0,
              "ticks": ""
             }
            },
            "type": "scattergeo"
           }
          ],
          "scattergl": [
           {
            "marker": {
             "colorbar": {
              "outlinewidth": 0,
              "ticks": ""
             }
            },
            "type": "scattergl"
           }
          ],
          "scattermapbox": [
           {
            "marker": {
             "colorbar": {
              "outlinewidth": 0,
              "ticks": ""
             }
            },
            "type": "scattermapbox"
           }
          ],
          "scatterpolar": [
           {
            "marker": {
             "colorbar": {
              "outlinewidth": 0,
              "ticks": ""
             }
            },
            "type": "scatterpolar"
           }
          ],
          "scatterpolargl": [
           {
            "marker": {
             "colorbar": {
              "outlinewidth": 0,
              "ticks": ""
             }
            },
            "type": "scatterpolargl"
           }
          ],
          "scatterternary": [
           {
            "marker": {
             "colorbar": {
              "outlinewidth": 0,
              "ticks": ""
             }
            },
            "type": "scatterternary"
           }
          ],
          "surface": [
           {
            "colorbar": {
             "outlinewidth": 0,
             "ticks": ""
            },
            "colorscale": [
             [
              0,
              "#0d0887"
             ],
             [
              0.1111111111111111,
              "#46039f"
             ],
             [
              0.2222222222222222,
              "#7201a8"
             ],
             [
              0.3333333333333333,
              "#9c179e"
             ],
             [
              0.4444444444444444,
              "#bd3786"
             ],
             [
              0.5555555555555556,
              "#d8576b"
             ],
             [
              0.6666666666666666,
              "#ed7953"
             ],
             [
              0.7777777777777778,
              "#fb9f3a"
             ],
             [
              0.8888888888888888,
              "#fdca26"
             ],
             [
              1,
              "#f0f921"
             ]
            ],
            "type": "surface"
           }
          ],
          "table": [
           {
            "cells": {
             "fill": {
              "color": "#EBF0F8"
             },
             "line": {
              "color": "white"
             }
            },
            "header": {
             "fill": {
              "color": "#C8D4E3"
             },
             "line": {
              "color": "white"
             }
            },
            "type": "table"
           }
          ]
         },
         "layout": {
          "annotationdefaults": {
           "arrowcolor": "#2a3f5f",
           "arrowhead": 0,
           "arrowwidth": 1
          },
          "autotypenumbers": "strict",
          "coloraxis": {
           "colorbar": {
            "outlinewidth": 0,
            "ticks": ""
           }
          },
          "colorscale": {
           "diverging": [
            [
             0,
             "#8e0152"
            ],
            [
             0.1,
             "#c51b7d"
            ],
            [
             0.2,
             "#de77ae"
            ],
            [
             0.3,
             "#f1b6da"
            ],
            [
             0.4,
             "#fde0ef"
            ],
            [
             0.5,
             "#f7f7f7"
            ],
            [
             0.6,
             "#e6f5d0"
            ],
            [
             0.7,
             "#b8e186"
            ],
            [
             0.8,
             "#7fbc41"
            ],
            [
             0.9,
             "#4d9221"
            ],
            [
             1,
             "#276419"
            ]
           ],
           "sequential": [
            [
             0,
             "#0d0887"
            ],
            [
             0.1111111111111111,
             "#46039f"
            ],
            [
             0.2222222222222222,
             "#7201a8"
            ],
            [
             0.3333333333333333,
             "#9c179e"
            ],
            [
             0.4444444444444444,
             "#bd3786"
            ],
            [
             0.5555555555555556,
             "#d8576b"
            ],
            [
             0.6666666666666666,
             "#ed7953"
            ],
            [
             0.7777777777777778,
             "#fb9f3a"
            ],
            [
             0.8888888888888888,
             "#fdca26"
            ],
            [
             1,
             "#f0f921"
            ]
           ],
           "sequentialminus": [
            [
             0,
             "#0d0887"
            ],
            [
             0.1111111111111111,
             "#46039f"
            ],
            [
             0.2222222222222222,
             "#7201a8"
            ],
            [
             0.3333333333333333,
             "#9c179e"
            ],
            [
             0.4444444444444444,
             "#bd3786"
            ],
            [
             0.5555555555555556,
             "#d8576b"
            ],
            [
             0.6666666666666666,
             "#ed7953"
            ],
            [
             0.7777777777777778,
             "#fb9f3a"
            ],
            [
             0.8888888888888888,
             "#fdca26"
            ],
            [
             1,
             "#f0f921"
            ]
           ]
          },
          "colorway": [
           "#636efa",
           "#EF553B",
           "#00cc96",
           "#ab63fa",
           "#FFA15A",
           "#19d3f3",
           "#FF6692",
           "#B6E880",
           "#FF97FF",
           "#FECB52"
          ],
          "font": {
           "color": "#2a3f5f"
          },
          "geo": {
           "bgcolor": "white",
           "lakecolor": "white",
           "landcolor": "#E5ECF6",
           "showlakes": true,
           "showland": true,
           "subunitcolor": "white"
          },
          "hoverlabel": {
           "align": "left"
          },
          "hovermode": "closest",
          "mapbox": {
           "style": "light"
          },
          "paper_bgcolor": "white",
          "plot_bgcolor": "#E5ECF6",
          "polar": {
           "angularaxis": {
            "gridcolor": "white",
            "linecolor": "white",
            "ticks": ""
           },
           "bgcolor": "#E5ECF6",
           "radialaxis": {
            "gridcolor": "white",
            "linecolor": "white",
            "ticks": ""
           }
          },
          "scene": {
           "xaxis": {
            "backgroundcolor": "#E5ECF6",
            "gridcolor": "white",
            "gridwidth": 2,
            "linecolor": "white",
            "showbackground": true,
            "ticks": "",
            "zerolinecolor": "white"
           },
           "yaxis": {
            "backgroundcolor": "#E5ECF6",
            "gridcolor": "white",
            "gridwidth": 2,
            "linecolor": "white",
            "showbackground": true,
            "ticks": "",
            "zerolinecolor": "white"
           },
           "zaxis": {
            "backgroundcolor": "#E5ECF6",
            "gridcolor": "white",
            "gridwidth": 2,
            "linecolor": "white",
            "showbackground": true,
            "ticks": "",
            "zerolinecolor": "white"
           }
          },
          "shapedefaults": {
           "line": {
            "color": "#2a3f5f"
           }
          },
          "ternary": {
           "aaxis": {
            "gridcolor": "white",
            "linecolor": "white",
            "ticks": ""
           },
           "baxis": {
            "gridcolor": "white",
            "linecolor": "white",
            "ticks": ""
           },
           "bgcolor": "#E5ECF6",
           "caxis": {
            "gridcolor": "white",
            "linecolor": "white",
            "ticks": ""
           }
          },
          "title": {
           "x": 0.05
          },
          "xaxis": {
           "automargin": true,
           "gridcolor": "white",
           "linecolor": "white",
           "ticks": "",
           "title": {
            "standoff": 15
           },
           "zerolinecolor": "white",
           "zerolinewidth": 2
          },
          "yaxis": {
           "automargin": true,
           "gridcolor": "white",
           "linecolor": "white",
           "ticks": "",
           "title": {
            "standoff": 15
           },
           "zerolinecolor": "white",
           "zerolinewidth": 2
          }
         }
        },
        "title": {
         "text": "Proportion of Significant influences Over Months for Each Year"
        },
        "xaxis": {
         "anchor": "y",
         "domain": [
          0,
          1
         ],
         "title": {
          "text": "year"
         }
        },
        "yaxis": {
         "anchor": "x",
         "domain": [
          0,
          1
         ],
         "title": {
          "text": "Proportion of Significant Values"
         }
        }
       }
      }
     },
     "metadata": {},
     "output_type": "display_data"
    }
   ],
   "source": [
    "# Convert 'month' column to numeric\n",
    "monthly_prop_df_reset['month'] = pd.to_numeric(monthly_prop_df_reset['month'], errors='coerce')\n",
    "\n",
    "# Create a line plot using Plotly\n",
    "fig = px.line(\n",
    "    monthly_prop_df_reset,\n",
    "    x='year',\n",
    "    y='prop_significant',\n",
    "    color='month',\n",
    "    markers=True,\n",
    "    line_shape='linear', \n",
    "    labels={'prop_significant': 'Proportion of Significant Values'},\n",
    "    title='Proportion of Significant influences Over Months for Each Year',\n",
    ")\n",
    "\n",
    "# Show the plot\n",
    "fig.show()\n"
   ]
  },
  {
   "cell_type": "markdown",
   "metadata": {},
   "source": [
    "### Number of influenced names during each season : timeline \n",
    "\n",
    "The yearly variation of the number of influenced names per season can be used as a first way to try to quantify the influence of movie release. We then show the qualitative effect of movie release season, rather than the quantitative effect, which will be study in the following cells."
   ]
  },
  {
   "cell_type": "code",
   "execution_count": 199,
   "metadata": {},
   "outputs": [
    {
     "data": {
      "application/vnd.plotly.v1+json": {
       "config": {
        "plotlyServerURL": "https://plot.ly"
       },
       "data": [
        {
         "marker": {
          "color": "red"
         },
         "name": "Summer",
         "offsetgroup": "1",
         "type": "bar",
         "x": [
          1895,
          1898,
          1909,
          1910,
          1912,
          1913,
          1915,
          1916,
          1917,
          1918,
          1919,
          1921,
          1923,
          1924,
          1925,
          1926,
          1927,
          1928,
          1929,
          1930,
          1931,
          1932,
          1933,
          1934,
          1935,
          1936,
          1937,
          1938,
          1939,
          1940,
          1941,
          1942,
          1943,
          1944,
          1945,
          1946,
          1947,
          1948,
          1949,
          1950,
          1951,
          1952,
          1953,
          1954,
          1955,
          1956,
          1957,
          1958,
          1959,
          1960,
          1961,
          1962,
          1963,
          1964,
          1965,
          1966,
          1967,
          1968,
          1969,
          1970,
          1971,
          1972,
          1973,
          1974,
          1975,
          1976,
          1977,
          1978,
          1979,
          1980,
          1981,
          1982,
          1983,
          1984,
          1985,
          1986,
          1987,
          1988,
          1989,
          1990,
          1991,
          1992,
          1993,
          1994,
          1995,
          1996,
          1997,
          1998,
          1999,
          2000,
          2001,
          2002,
          2003,
          2004,
          2005,
          2006,
          2007,
          2008,
          2009,
          2010,
          2011,
          2012,
          2013
         ],
         "y": [
          0,
          0,
          0,
          0,
          1,
          0,
          0,
          0,
          0,
          2,
          1,
          0,
          1,
          3,
          2,
          4,
          2,
          0,
          2,
          8,
          4,
          8,
          7,
          12,
          19,
          16,
          15,
          23,
          10,
          11,
          3,
          11,
          5,
          9,
          3,
          8,
          9,
          14,
          8,
          5,
          10,
          16,
          19,
          12,
          23,
          20,
          10,
          7,
          9,
          23,
          12,
          18,
          15,
          17,
          17,
          4,
          6,
          19,
          16,
          25,
          13,
          13,
          10,
          11,
          16,
          26,
          21,
          34,
          29,
          9,
          18,
          17,
          15,
          34,
          26,
          48,
          26,
          40,
          37,
          24,
          31,
          33,
          28,
          45,
          41,
          50,
          51,
          87,
          82,
          68,
          86,
          70,
          100,
          71,
          87,
          116,
          135,
          147,
          164,
          233,
          216,
          82,
          15
         ]
        },
        {
         "marker": {
          "color": "orange"
         },
         "name": "Fall",
         "offsetgroup": "1",
         "type": "bar",
         "x": [
          1900,
          1902,
          1903,
          1906,
          1907,
          1908,
          1909,
          1910,
          1911,
          1912,
          1913,
          1914,
          1915,
          1916,
          1917,
          1918,
          1919,
          1920,
          1921,
          1922,
          1923,
          1924,
          1925,
          1926,
          1927,
          1928,
          1929,
          1930,
          1931,
          1932,
          1933,
          1934,
          1935,
          1936,
          1937,
          1938,
          1939,
          1940,
          1941,
          1942,
          1943,
          1944,
          1945,
          1946,
          1947,
          1948,
          1949,
          1950,
          1951,
          1952,
          1953,
          1954,
          1955,
          1956,
          1957,
          1958,
          1959,
          1960,
          1961,
          1962,
          1963,
          1964,
          1965,
          1966,
          1967,
          1968,
          1969,
          1970,
          1971,
          1972,
          1973,
          1974,
          1975,
          1976,
          1977,
          1978,
          1979,
          1980,
          1981,
          1982,
          1983,
          1984,
          1985,
          1986,
          1987,
          1988,
          1989,
          1990,
          1991,
          1992,
          1993,
          1994,
          1995,
          1996,
          1997,
          1998,
          1999,
          2000,
          2001,
          2002,
          2003,
          2004,
          2005,
          2006,
          2007,
          2008,
          2009,
          2010,
          2011,
          2012,
          2013
         ],
         "y": [
          0,
          0,
          0,
          0,
          0,
          1,
          0,
          0,
          1,
          1,
          0,
          0,
          0,
          0,
          3,
          1,
          1,
          0,
          0,
          4,
          0,
          4,
          2,
          2,
          3,
          6,
          6,
          8,
          9,
          15,
          13,
          5,
          21,
          19,
          25,
          16,
          10,
          10,
          5,
          15,
          8,
          10,
          12,
          19,
          10,
          10,
          6,
          10,
          6,
          8,
          27,
          19,
          24,
          24,
          14,
          10,
          19,
          25,
          15,
          41,
          17,
          13,
          9,
          13,
          6,
          21,
          22,
          5,
          16,
          16,
          17,
          39,
          21,
          34,
          26,
          36,
          25,
          22,
          19,
          8,
          24,
          23,
          28,
          19,
          40,
          40,
          33,
          36,
          23,
          33,
          59,
          72,
          74,
          88,
          111,
          127,
          103,
          99,
          104,
          118,
          83,
          98,
          151,
          157,
          211,
          230,
          310,
          349,
          394,
          62,
          4
         ]
        },
        {
         "marker": {
          "color": "blue"
         },
         "name": "Winter",
         "offsetgroup": "1",
         "type": "bar",
         "x": [
          1903,
          1907,
          1908,
          1909,
          1911,
          1913,
          1914,
          1915,
          1916,
          1917,
          1918,
          1919,
          1920,
          1921,
          1922,
          1923,
          1924,
          1925,
          1926,
          1927,
          1928,
          1929,
          1930,
          1931,
          1932,
          1933,
          1934,
          1935,
          1936,
          1937,
          1938,
          1939,
          1940,
          1941,
          1942,
          1943,
          1944,
          1945,
          1946,
          1947,
          1948,
          1949,
          1950,
          1951,
          1952,
          1953,
          1954,
          1955,
          1956,
          1957,
          1958,
          1959,
          1960,
          1961,
          1962,
          1963,
          1964,
          1965,
          1966,
          1967,
          1968,
          1969,
          1970,
          1971,
          1972,
          1973,
          1974,
          1975,
          1976,
          1977,
          1978,
          1979,
          1980,
          1981,
          1982,
          1983,
          1984,
          1985,
          1986,
          1987,
          1988,
          1989,
          1990,
          1991,
          1992,
          1993,
          1994,
          1995,
          1996,
          1997,
          1998,
          1999,
          2000,
          2001,
          2002,
          2003,
          2004,
          2005,
          2006,
          2007,
          2008,
          2009,
          2010,
          2011,
          2012,
          2013
         ],
         "y": [
          0,
          0,
          0,
          0,
          1,
          0,
          1,
          0,
          0,
          0,
          2,
          1,
          1,
          0,
          1,
          3,
          1,
          4,
          0,
          2,
          7,
          3,
          9,
          8,
          8,
          7,
          15,
          18,
          16,
          23,
          4,
          22,
          11,
          10,
          14,
          7,
          9,
          12,
          12,
          8,
          10,
          10,
          8,
          10,
          6,
          20,
          21,
          8,
          25,
          29,
          11,
          9,
          11,
          14,
          13,
          14,
          9,
          12,
          7,
          15,
          15,
          12,
          17,
          25,
          22,
          17,
          16,
          15,
          27,
          33,
          23,
          19,
          18,
          8,
          26,
          15,
          16,
          27,
          23,
          26,
          24,
          29,
          37,
          26,
          37,
          43,
          40,
          49,
          56,
          79,
          74,
          87,
          101,
          96,
          107,
          97,
          107,
          88,
          142,
          152,
          187,
          240,
          282,
          245,
          134,
          13
         ]
        },
        {
         "marker": {
          "color": "green"
         },
         "name": "Spring",
         "offsetgroup": "1",
         "type": "bar",
         "x": [
          1903,
          1908,
          1909,
          1910,
          1911,
          1912,
          1913,
          1914,
          1915,
          1916,
          1917,
          1918,
          1919,
          1920,
          1921,
          1922,
          1923,
          1924,
          1925,
          1926,
          1927,
          1928,
          1929,
          1930,
          1931,
          1932,
          1933,
          1934,
          1935,
          1936,
          1937,
          1938,
          1939,
          1940,
          1941,
          1942,
          1943,
          1944,
          1945,
          1946,
          1947,
          1948,
          1949,
          1950,
          1951,
          1952,
          1953,
          1954,
          1955,
          1956,
          1957,
          1958,
          1959,
          1960,
          1961,
          1962,
          1963,
          1964,
          1965,
          1966,
          1967,
          1968,
          1969,
          1970,
          1971,
          1972,
          1973,
          1974,
          1975,
          1976,
          1977,
          1978,
          1979,
          1980,
          1981,
          1982,
          1983,
          1984,
          1985,
          1986,
          1987,
          1988,
          1989,
          1990,
          1991,
          1992,
          1993,
          1994,
          1995,
          1996,
          1997,
          1998,
          1999,
          2000,
          2001,
          2002,
          2003,
          2004,
          2005,
          2006,
          2007,
          2008,
          2009,
          2010,
          2011,
          2012,
          2013,
          2014
         ],
         "y": [
          0,
          0,
          0,
          1,
          0,
          1,
          0,
          0,
          0,
          1,
          1,
          0,
          3,
          0,
          3,
          0,
          2,
          8,
          1,
          0,
          2,
          9,
          11,
          2,
          6,
          15,
          3,
          11,
          19,
          23,
          12,
          11,
          14,
          10,
          7,
          16,
          12,
          4,
          11,
          14,
          9,
          19,
          11,
          6,
          6,
          7,
          26,
          15,
          13,
          23,
          10,
          15,
          16,
          19,
          18,
          17,
          17,
          7,
          7,
          4,
          20,
          8,
          26,
          16,
          11,
          25,
          22,
          24,
          17,
          32,
          19,
          23,
          23,
          20,
          23,
          24,
          18,
          27,
          17,
          21,
          33,
          29,
          36,
          36,
          27,
          28,
          37,
          45,
          54,
          64,
          71,
          101,
          88,
          95,
          57,
          104,
          88,
          93,
          104,
          117,
          173,
          147,
          214,
          273,
          296,
          159,
          32,
          0
         ]
        }
       ],
       "layout": {
        "barmode": "stack",
        "template": {
         "data": {
          "bar": [
           {
            "error_x": {
             "color": "#2a3f5f"
            },
            "error_y": {
             "color": "#2a3f5f"
            },
            "marker": {
             "line": {
              "color": "#E5ECF6",
              "width": 0.5
             },
             "pattern": {
              "fillmode": "overlay",
              "size": 10,
              "solidity": 0.2
             }
            },
            "type": "bar"
           }
          ],
          "barpolar": [
           {
            "marker": {
             "line": {
              "color": "#E5ECF6",
              "width": 0.5
             },
             "pattern": {
              "fillmode": "overlay",
              "size": 10,
              "solidity": 0.2
             }
            },
            "type": "barpolar"
           }
          ],
          "carpet": [
           {
            "aaxis": {
             "endlinecolor": "#2a3f5f",
             "gridcolor": "white",
             "linecolor": "white",
             "minorgridcolor": "white",
             "startlinecolor": "#2a3f5f"
            },
            "baxis": {
             "endlinecolor": "#2a3f5f",
             "gridcolor": "white",
             "linecolor": "white",
             "minorgridcolor": "white",
             "startlinecolor": "#2a3f5f"
            },
            "type": "carpet"
           }
          ],
          "choropleth": [
           {
            "colorbar": {
             "outlinewidth": 0,
             "ticks": ""
            },
            "type": "choropleth"
           }
          ],
          "contour": [
           {
            "colorbar": {
             "outlinewidth": 0,
             "ticks": ""
            },
            "colorscale": [
             [
              0,
              "#0d0887"
             ],
             [
              0.1111111111111111,
              "#46039f"
             ],
             [
              0.2222222222222222,
              "#7201a8"
             ],
             [
              0.3333333333333333,
              "#9c179e"
             ],
             [
              0.4444444444444444,
              "#bd3786"
             ],
             [
              0.5555555555555556,
              "#d8576b"
             ],
             [
              0.6666666666666666,
              "#ed7953"
             ],
             [
              0.7777777777777778,
              "#fb9f3a"
             ],
             [
              0.8888888888888888,
              "#fdca26"
             ],
             [
              1,
              "#f0f921"
             ]
            ],
            "type": "contour"
           }
          ],
          "contourcarpet": [
           {
            "colorbar": {
             "outlinewidth": 0,
             "ticks": ""
            },
            "type": "contourcarpet"
           }
          ],
          "heatmap": [
           {
            "colorbar": {
             "outlinewidth": 0,
             "ticks": ""
            },
            "colorscale": [
             [
              0,
              "#0d0887"
             ],
             [
              0.1111111111111111,
              "#46039f"
             ],
             [
              0.2222222222222222,
              "#7201a8"
             ],
             [
              0.3333333333333333,
              "#9c179e"
             ],
             [
              0.4444444444444444,
              "#bd3786"
             ],
             [
              0.5555555555555556,
              "#d8576b"
             ],
             [
              0.6666666666666666,
              "#ed7953"
             ],
             [
              0.7777777777777778,
              "#fb9f3a"
             ],
             [
              0.8888888888888888,
              "#fdca26"
             ],
             [
              1,
              "#f0f921"
             ]
            ],
            "type": "heatmap"
           }
          ],
          "heatmapgl": [
           {
            "colorbar": {
             "outlinewidth": 0,
             "ticks": ""
            },
            "colorscale": [
             [
              0,
              "#0d0887"
             ],
             [
              0.1111111111111111,
              "#46039f"
             ],
             [
              0.2222222222222222,
              "#7201a8"
             ],
             [
              0.3333333333333333,
              "#9c179e"
             ],
             [
              0.4444444444444444,
              "#bd3786"
             ],
             [
              0.5555555555555556,
              "#d8576b"
             ],
             [
              0.6666666666666666,
              "#ed7953"
             ],
             [
              0.7777777777777778,
              "#fb9f3a"
             ],
             [
              0.8888888888888888,
              "#fdca26"
             ],
             [
              1,
              "#f0f921"
             ]
            ],
            "type": "heatmapgl"
           }
          ],
          "histogram": [
           {
            "marker": {
             "pattern": {
              "fillmode": "overlay",
              "size": 10,
              "solidity": 0.2
             }
            },
            "type": "histogram"
           }
          ],
          "histogram2d": [
           {
            "colorbar": {
             "outlinewidth": 0,
             "ticks": ""
            },
            "colorscale": [
             [
              0,
              "#0d0887"
             ],
             [
              0.1111111111111111,
              "#46039f"
             ],
             [
              0.2222222222222222,
              "#7201a8"
             ],
             [
              0.3333333333333333,
              "#9c179e"
             ],
             [
              0.4444444444444444,
              "#bd3786"
             ],
             [
              0.5555555555555556,
              "#d8576b"
             ],
             [
              0.6666666666666666,
              "#ed7953"
             ],
             [
              0.7777777777777778,
              "#fb9f3a"
             ],
             [
              0.8888888888888888,
              "#fdca26"
             ],
             [
              1,
              "#f0f921"
             ]
            ],
            "type": "histogram2d"
           }
          ],
          "histogram2dcontour": [
           {
            "colorbar": {
             "outlinewidth": 0,
             "ticks": ""
            },
            "colorscale": [
             [
              0,
              "#0d0887"
             ],
             [
              0.1111111111111111,
              "#46039f"
             ],
             [
              0.2222222222222222,
              "#7201a8"
             ],
             [
              0.3333333333333333,
              "#9c179e"
             ],
             [
              0.4444444444444444,
              "#bd3786"
             ],
             [
              0.5555555555555556,
              "#d8576b"
             ],
             [
              0.6666666666666666,
              "#ed7953"
             ],
             [
              0.7777777777777778,
              "#fb9f3a"
             ],
             [
              0.8888888888888888,
              "#fdca26"
             ],
             [
              1,
              "#f0f921"
             ]
            ],
            "type": "histogram2dcontour"
           }
          ],
          "mesh3d": [
           {
            "colorbar": {
             "outlinewidth": 0,
             "ticks": ""
            },
            "type": "mesh3d"
           }
          ],
          "parcoords": [
           {
            "line": {
             "colorbar": {
              "outlinewidth": 0,
              "ticks": ""
             }
            },
            "type": "parcoords"
           }
          ],
          "pie": [
           {
            "automargin": true,
            "type": "pie"
           }
          ],
          "scatter": [
           {
            "fillpattern": {
             "fillmode": "overlay",
             "size": 10,
             "solidity": 0.2
            },
            "type": "scatter"
           }
          ],
          "scatter3d": [
           {
            "line": {
             "colorbar": {
              "outlinewidth": 0,
              "ticks": ""
             }
            },
            "marker": {
             "colorbar": {
              "outlinewidth": 0,
              "ticks": ""
             }
            },
            "type": "scatter3d"
           }
          ],
          "scattercarpet": [
           {
            "marker": {
             "colorbar": {
              "outlinewidth": 0,
              "ticks": ""
             }
            },
            "type": "scattercarpet"
           }
          ],
          "scattergeo": [
           {
            "marker": {
             "colorbar": {
              "outlinewidth": 0,
              "ticks": ""
             }
            },
            "type": "scattergeo"
           }
          ],
          "scattergl": [
           {
            "marker": {
             "colorbar": {
              "outlinewidth": 0,
              "ticks": ""
             }
            },
            "type": "scattergl"
           }
          ],
          "scattermapbox": [
           {
            "marker": {
             "colorbar": {
              "outlinewidth": 0,
              "ticks": ""
             }
            },
            "type": "scattermapbox"
           }
          ],
          "scatterpolar": [
           {
            "marker": {
             "colorbar": {
              "outlinewidth": 0,
              "ticks": ""
             }
            },
            "type": "scatterpolar"
           }
          ],
          "scatterpolargl": [
           {
            "marker": {
             "colorbar": {
              "outlinewidth": 0,
              "ticks": ""
             }
            },
            "type": "scatterpolargl"
           }
          ],
          "scatterternary": [
           {
            "marker": {
             "colorbar": {
              "outlinewidth": 0,
              "ticks": ""
             }
            },
            "type": "scatterternary"
           }
          ],
          "surface": [
           {
            "colorbar": {
             "outlinewidth": 0,
             "ticks": ""
            },
            "colorscale": [
             [
              0,
              "#0d0887"
             ],
             [
              0.1111111111111111,
              "#46039f"
             ],
             [
              0.2222222222222222,
              "#7201a8"
             ],
             [
              0.3333333333333333,
              "#9c179e"
             ],
             [
              0.4444444444444444,
              "#bd3786"
             ],
             [
              0.5555555555555556,
              "#d8576b"
             ],
             [
              0.6666666666666666,
              "#ed7953"
             ],
             [
              0.7777777777777778,
              "#fb9f3a"
             ],
             [
              0.8888888888888888,
              "#fdca26"
             ],
             [
              1,
              "#f0f921"
             ]
            ],
            "type": "surface"
           }
          ],
          "table": [
           {
            "cells": {
             "fill": {
              "color": "#EBF0F8"
             },
             "line": {
              "color": "white"
             }
            },
            "header": {
             "fill": {
              "color": "#C8D4E3"
             },
             "line": {
              "color": "white"
             }
            },
            "type": "table"
           }
          ]
         },
         "layout": {
          "annotationdefaults": {
           "arrowcolor": "#2a3f5f",
           "arrowhead": 0,
           "arrowwidth": 1
          },
          "autotypenumbers": "strict",
          "coloraxis": {
           "colorbar": {
            "outlinewidth": 0,
            "ticks": ""
           }
          },
          "colorscale": {
           "diverging": [
            [
             0,
             "#8e0152"
            ],
            [
             0.1,
             "#c51b7d"
            ],
            [
             0.2,
             "#de77ae"
            ],
            [
             0.3,
             "#f1b6da"
            ],
            [
             0.4,
             "#fde0ef"
            ],
            [
             0.5,
             "#f7f7f7"
            ],
            [
             0.6,
             "#e6f5d0"
            ],
            [
             0.7,
             "#b8e186"
            ],
            [
             0.8,
             "#7fbc41"
            ],
            [
             0.9,
             "#4d9221"
            ],
            [
             1,
             "#276419"
            ]
           ],
           "sequential": [
            [
             0,
             "#0d0887"
            ],
            [
             0.1111111111111111,
             "#46039f"
            ],
            [
             0.2222222222222222,
             "#7201a8"
            ],
            [
             0.3333333333333333,
             "#9c179e"
            ],
            [
             0.4444444444444444,
             "#bd3786"
            ],
            [
             0.5555555555555556,
             "#d8576b"
            ],
            [
             0.6666666666666666,
             "#ed7953"
            ],
            [
             0.7777777777777778,
             "#fb9f3a"
            ],
            [
             0.8888888888888888,
             "#fdca26"
            ],
            [
             1,
             "#f0f921"
            ]
           ],
           "sequentialminus": [
            [
             0,
             "#0d0887"
            ],
            [
             0.1111111111111111,
             "#46039f"
            ],
            [
             0.2222222222222222,
             "#7201a8"
            ],
            [
             0.3333333333333333,
             "#9c179e"
            ],
            [
             0.4444444444444444,
             "#bd3786"
            ],
            [
             0.5555555555555556,
             "#d8576b"
            ],
            [
             0.6666666666666666,
             "#ed7953"
            ],
            [
             0.7777777777777778,
             "#fb9f3a"
            ],
            [
             0.8888888888888888,
             "#fdca26"
            ],
            [
             1,
             "#f0f921"
            ]
           ]
          },
          "colorway": [
           "#636efa",
           "#EF553B",
           "#00cc96",
           "#ab63fa",
           "#FFA15A",
           "#19d3f3",
           "#FF6692",
           "#B6E880",
           "#FF97FF",
           "#FECB52"
          ],
          "font": {
           "color": "#2a3f5f"
          },
          "geo": {
           "bgcolor": "white",
           "lakecolor": "white",
           "landcolor": "#E5ECF6",
           "showlakes": true,
           "showland": true,
           "subunitcolor": "white"
          },
          "hoverlabel": {
           "align": "left"
          },
          "hovermode": "closest",
          "mapbox": {
           "style": "light"
          },
          "paper_bgcolor": "white",
          "plot_bgcolor": "#E5ECF6",
          "polar": {
           "angularaxis": {
            "gridcolor": "white",
            "linecolor": "white",
            "ticks": ""
           },
           "bgcolor": "#E5ECF6",
           "radialaxis": {
            "gridcolor": "white",
            "linecolor": "white",
            "ticks": ""
           }
          },
          "scene": {
           "xaxis": {
            "backgroundcolor": "#E5ECF6",
            "gridcolor": "white",
            "gridwidth": 2,
            "linecolor": "white",
            "showbackground": true,
            "ticks": "",
            "zerolinecolor": "white"
           },
           "yaxis": {
            "backgroundcolor": "#E5ECF6",
            "gridcolor": "white",
            "gridwidth": 2,
            "linecolor": "white",
            "showbackground": true,
            "ticks": "",
            "zerolinecolor": "white"
           },
           "zaxis": {
            "backgroundcolor": "#E5ECF6",
            "gridcolor": "white",
            "gridwidth": 2,
            "linecolor": "white",
            "showbackground": true,
            "ticks": "",
            "zerolinecolor": "white"
           }
          },
          "shapedefaults": {
           "line": {
            "color": "#2a3f5f"
           }
          },
          "ternary": {
           "aaxis": {
            "gridcolor": "white",
            "linecolor": "white",
            "ticks": ""
           },
           "baxis": {
            "gridcolor": "white",
            "linecolor": "white",
            "ticks": ""
           },
           "bgcolor": "#E5ECF6",
           "caxis": {
            "gridcolor": "white",
            "linecolor": "white",
            "ticks": ""
           }
          },
          "title": {
           "x": 0.05
          },
          "xaxis": {
           "automargin": true,
           "gridcolor": "white",
           "linecolor": "white",
           "ticks": "",
           "title": {
            "standoff": 15
           },
           "zerolinecolor": "white",
           "zerolinewidth": 2
          },
          "yaxis": {
           "automargin": true,
           "gridcolor": "white",
           "linecolor": "white",
           "ticks": "",
           "title": {
            "standoff": 15
           },
           "zerolinecolor": "white",
           "zerolinewidth": 2
          }
         }
        },
        "title": {
         "text": "Evolution of number of influenced names per season of movie release"
        },
        "xaxis": {
         "range": [
          1920,
          2015
         ],
         "title": {
          "text": "Year"
         }
        },
        "yaxis": {
         "title": {
          "text": "# influenced names"
         }
        }
       }
      }
     },
     "metadata": {},
     "output_type": "display_data"
    }
   ],
   "source": [
    "# Define the main line plot for each season\n",
    "seasons = ['Summer', 'Fall', 'Winter', 'Spring']\n",
    "colors = ['red', 'orange', 'blue', 'green']\n",
    "data = [summer_movies_df_sorted, fall_movies_df_sorted, winter_movies_df_sorted, spring_movies_df_sorted]\n",
    "\n",
    "# Bar chart plot\n",
    "fig = go.Figure()\n",
    "for i, season in enumerate(seasons):\n",
    "    fig.add_trace(go.Bar(\n",
    "        x=data[i]['year'],\n",
    "        y=data[i]['nb_names'],\n",
    "        name=seasons[i],\n",
    "        marker_color=colors[i],\n",
    "        offsetgroup=1\n",
    "    ))\n",
    "\n",
    "# Mise en forme du tracé\n",
    "fig.update_layout(\n",
    "    title = \"Evolution of number of influenced names per season of movie release\",\n",
    "    xaxis=dict(title='Year'),\n",
    "    yaxis=dict(title='# influenced names'),\n",
    "    barmode='stack'  # 'stack' empile les barres pour chaque order  \n",
    "      \n",
    ")\n",
    "fig.update_xaxes(range=[1920, 2015])"
   ]
  },
  {
   "cell_type": "markdown",
   "metadata": {},
   "source": [
    "### Average monthly influence magnitude : timeline\n",
    "After looking at the yearly variation in proportion of significantly influenced names across season/month, it is time to try to quantify the quantitative influenced differentiation between months. First, we study the mean magnitude slope change for each month (January - Decembre) on the average of all significantly influenced names."
   ]
  },
  {
   "cell_type": "code",
   "execution_count": 200,
   "metadata": {},
   "outputs": [
    {
     "data": {
      "text/html": [
       "<div>\n",
       "<style scoped>\n",
       "    .dataframe tbody tr th:only-of-type {\n",
       "        vertical-align: middle;\n",
       "    }\n",
       "\n",
       "    .dataframe tbody tr th {\n",
       "        vertical-align: top;\n",
       "    }\n",
       "\n",
       "    .dataframe thead th {\n",
       "        text-align: right;\n",
       "    }\n",
       "</style>\n",
       "<table border=\"1\" class=\"dataframe\">\n",
       "  <thead>\n",
       "    <tr style=\"text-align: right;\">\n",
       "      <th></th>\n",
       "      <th>avg_slope_change_significant_per_month</th>\n",
       "      <th>se_slope_change_significant_per_month</th>\n",
       "      <th>avg_mag_slope_change_significant_per_month</th>\n",
       "      <th>se_mag_slope_change_significant_per_month</th>\n",
       "    </tr>\n",
       "    <tr>\n",
       "      <th>month</th>\n",
       "      <th></th>\n",
       "      <th></th>\n",
       "      <th></th>\n",
       "      <th></th>\n",
       "    </tr>\n",
       "  </thead>\n",
       "  <tbody>\n",
       "    <tr>\n",
       "      <th>2.0</th>\n",
       "      <td>0.002200</td>\n",
       "      <td>0.000877</td>\n",
       "      <td>0.014785</td>\n",
       "      <td>0.000755</td>\n",
       "    </tr>\n",
       "    <tr>\n",
       "      <th>11.0</th>\n",
       "      <td>0.000701</td>\n",
       "      <td>0.000809</td>\n",
       "      <td>0.014428</td>\n",
       "      <td>0.000677</td>\n",
       "    </tr>\n",
       "  </tbody>\n",
       "</table>\n",
       "</div>"
      ],
      "text/plain": [
       "       avg_slope_change_significant_per_month  \\\n",
       "month                                           \n",
       "2.0                                  0.002200   \n",
       "11.0                                 0.000701   \n",
       "\n",
       "       se_slope_change_significant_per_month  \\\n",
       "month                                          \n",
       "2.0                                 0.000877   \n",
       "11.0                                0.000809   \n",
       "\n",
       "       avg_mag_slope_change_significant_per_month  \\\n",
       "month                                               \n",
       "2.0                                      0.014785   \n",
       "11.0                                     0.014428   \n",
       "\n",
       "       se_mag_slope_change_significant_per_month  \n",
       "month                                             \n",
       "2.0                                     0.000755  \n",
       "11.0                                    0.000677  "
      ]
     },
     "metadata": {},
     "output_type": "display_data"
    }
   ],
   "source": [
    "# compute the average and standard error of the slope change for each month\n",
    "influence_per_month_df = name_by_movie_aggregate_df[name_by_movie_aggregate_df['p_value']<alpha].groupby('month').apply(lambda x: pd.Series ({\n",
    "    'avg_slope_change_significant_per_month': x['slope_change'].mean(),\n",
    "    'se_slope_change_significant_per_month': x['slope_change'].sem(),\n",
    "    'avg_mag_slope_change_significant_per_month': x['slope_change'].abs().mean(),\n",
    "    'se_mag_slope_change_significant_per_month': x['slope_change'].abs().sem()\n",
    "}))\n",
    "\n",
    "display(influence_per_month_df.sample(2))"
   ]
  },
  {
   "cell_type": "code",
   "execution_count": 201,
   "metadata": {},
   "outputs": [
    {
     "data": {
      "application/vnd.plotly.v1+json": {
       "config": {
        "plotlyServerURL": "https://plot.ly"
       },
       "data": [
        {
         "line": {
          "color": "rgb(31, 119, 180)"
         },
         "mode": "lines",
         "name": "All film infuence",
         "type": "scatter",
         "x": [
          1,
          2,
          3,
          4,
          5,
          6,
          7,
          8,
          9,
          10,
          11,
          12
         ],
         "y": [
          0.012312164157761174,
          0.014784656421787893,
          0.013974301230770243,
          0.013957832792684813,
          0.014680899411637164,
          0.015013343935978515,
          0.013865159048520424,
          0.013847986061563105,
          0.012867662155563165,
          0.01434250940721,
          0.014427652658954012,
          0.014259777327703026
         ]
        },
        {
         "line": {
          "width": 0
         },
         "marker": {
          "color": "#444"
         },
         "mode": "lines",
         "name": "Upper Bound",
         "showlegend": false,
         "type": "scatter",
         "x": [
          1,
          2,
          3,
          4,
          5,
          6,
          7,
          8,
          9,
          10,
          11,
          12
         ],
         "y": [
          0.013315031785310832,
          0.0162643344622855,
          0.015235589522393017,
          0.015255281782492861,
          0.01593882198784351,
          0.01641958108198921,
          0.015244852278927998,
          0.015124249224778476,
          0.013820036795566999,
          0.01546851787633083,
          0.015754253963539237,
          0.015641785188616218
         ]
        },
        {
         "fill": "tonexty",
         "fillcolor": "rgba(68, 68, 68, 0.3)",
         "line": {
          "width": 0
         },
         "marker": {
          "color": "#444"
         },
         "mode": "lines",
         "name": "Lower Bound",
         "showlegend": false,
         "type": "scatter",
         "x": [
          1,
          2,
          3,
          4,
          5,
          6,
          7,
          8,
          9,
          10,
          11,
          12
         ],
         "y": [
          0.011309296530211517,
          0.013304978381290288,
          0.012713012939147469,
          0.012660383802876766,
          0.013422976835430816,
          0.013607106789967821,
          0.01248546581811285,
          0.012571722898347733,
          0.011915287515559331,
          0.01321650093808917,
          0.013101051354368785,
          0.012877769466789835
         ]
        }
       ],
       "layout": {
        "hovermode": "x",
        "template": {
         "data": {
          "bar": [
           {
            "error_x": {
             "color": "#2a3f5f"
            },
            "error_y": {
             "color": "#2a3f5f"
            },
            "marker": {
             "line": {
              "color": "#E5ECF6",
              "width": 0.5
             },
             "pattern": {
              "fillmode": "overlay",
              "size": 10,
              "solidity": 0.2
             }
            },
            "type": "bar"
           }
          ],
          "barpolar": [
           {
            "marker": {
             "line": {
              "color": "#E5ECF6",
              "width": 0.5
             },
             "pattern": {
              "fillmode": "overlay",
              "size": 10,
              "solidity": 0.2
             }
            },
            "type": "barpolar"
           }
          ],
          "carpet": [
           {
            "aaxis": {
             "endlinecolor": "#2a3f5f",
             "gridcolor": "white",
             "linecolor": "white",
             "minorgridcolor": "white",
             "startlinecolor": "#2a3f5f"
            },
            "baxis": {
             "endlinecolor": "#2a3f5f",
             "gridcolor": "white",
             "linecolor": "white",
             "minorgridcolor": "white",
             "startlinecolor": "#2a3f5f"
            },
            "type": "carpet"
           }
          ],
          "choropleth": [
           {
            "colorbar": {
             "outlinewidth": 0,
             "ticks": ""
            },
            "type": "choropleth"
           }
          ],
          "contour": [
           {
            "colorbar": {
             "outlinewidth": 0,
             "ticks": ""
            },
            "colorscale": [
             [
              0,
              "#0d0887"
             ],
             [
              0.1111111111111111,
              "#46039f"
             ],
             [
              0.2222222222222222,
              "#7201a8"
             ],
             [
              0.3333333333333333,
              "#9c179e"
             ],
             [
              0.4444444444444444,
              "#bd3786"
             ],
             [
              0.5555555555555556,
              "#d8576b"
             ],
             [
              0.6666666666666666,
              "#ed7953"
             ],
             [
              0.7777777777777778,
              "#fb9f3a"
             ],
             [
              0.8888888888888888,
              "#fdca26"
             ],
             [
              1,
              "#f0f921"
             ]
            ],
            "type": "contour"
           }
          ],
          "contourcarpet": [
           {
            "colorbar": {
             "outlinewidth": 0,
             "ticks": ""
            },
            "type": "contourcarpet"
           }
          ],
          "heatmap": [
           {
            "colorbar": {
             "outlinewidth": 0,
             "ticks": ""
            },
            "colorscale": [
             [
              0,
              "#0d0887"
             ],
             [
              0.1111111111111111,
              "#46039f"
             ],
             [
              0.2222222222222222,
              "#7201a8"
             ],
             [
              0.3333333333333333,
              "#9c179e"
             ],
             [
              0.4444444444444444,
              "#bd3786"
             ],
             [
              0.5555555555555556,
              "#d8576b"
             ],
             [
              0.6666666666666666,
              "#ed7953"
             ],
             [
              0.7777777777777778,
              "#fb9f3a"
             ],
             [
              0.8888888888888888,
              "#fdca26"
             ],
             [
              1,
              "#f0f921"
             ]
            ],
            "type": "heatmap"
           }
          ],
          "heatmapgl": [
           {
            "colorbar": {
             "outlinewidth": 0,
             "ticks": ""
            },
            "colorscale": [
             [
              0,
              "#0d0887"
             ],
             [
              0.1111111111111111,
              "#46039f"
             ],
             [
              0.2222222222222222,
              "#7201a8"
             ],
             [
              0.3333333333333333,
              "#9c179e"
             ],
             [
              0.4444444444444444,
              "#bd3786"
             ],
             [
              0.5555555555555556,
              "#d8576b"
             ],
             [
              0.6666666666666666,
              "#ed7953"
             ],
             [
              0.7777777777777778,
              "#fb9f3a"
             ],
             [
              0.8888888888888888,
              "#fdca26"
             ],
             [
              1,
              "#f0f921"
             ]
            ],
            "type": "heatmapgl"
           }
          ],
          "histogram": [
           {
            "marker": {
             "pattern": {
              "fillmode": "overlay",
              "size": 10,
              "solidity": 0.2
             }
            },
            "type": "histogram"
           }
          ],
          "histogram2d": [
           {
            "colorbar": {
             "outlinewidth": 0,
             "ticks": ""
            },
            "colorscale": [
             [
              0,
              "#0d0887"
             ],
             [
              0.1111111111111111,
              "#46039f"
             ],
             [
              0.2222222222222222,
              "#7201a8"
             ],
             [
              0.3333333333333333,
              "#9c179e"
             ],
             [
              0.4444444444444444,
              "#bd3786"
             ],
             [
              0.5555555555555556,
              "#d8576b"
             ],
             [
              0.6666666666666666,
              "#ed7953"
             ],
             [
              0.7777777777777778,
              "#fb9f3a"
             ],
             [
              0.8888888888888888,
              "#fdca26"
             ],
             [
              1,
              "#f0f921"
             ]
            ],
            "type": "histogram2d"
           }
          ],
          "histogram2dcontour": [
           {
            "colorbar": {
             "outlinewidth": 0,
             "ticks": ""
            },
            "colorscale": [
             [
              0,
              "#0d0887"
             ],
             [
              0.1111111111111111,
              "#46039f"
             ],
             [
              0.2222222222222222,
              "#7201a8"
             ],
             [
              0.3333333333333333,
              "#9c179e"
             ],
             [
              0.4444444444444444,
              "#bd3786"
             ],
             [
              0.5555555555555556,
              "#d8576b"
             ],
             [
              0.6666666666666666,
              "#ed7953"
             ],
             [
              0.7777777777777778,
              "#fb9f3a"
             ],
             [
              0.8888888888888888,
              "#fdca26"
             ],
             [
              1,
              "#f0f921"
             ]
            ],
            "type": "histogram2dcontour"
           }
          ],
          "mesh3d": [
           {
            "colorbar": {
             "outlinewidth": 0,
             "ticks": ""
            },
            "type": "mesh3d"
           }
          ],
          "parcoords": [
           {
            "line": {
             "colorbar": {
              "outlinewidth": 0,
              "ticks": ""
             }
            },
            "type": "parcoords"
           }
          ],
          "pie": [
           {
            "automargin": true,
            "type": "pie"
           }
          ],
          "scatter": [
           {
            "fillpattern": {
             "fillmode": "overlay",
             "size": 10,
             "solidity": 0.2
            },
            "type": "scatter"
           }
          ],
          "scatter3d": [
           {
            "line": {
             "colorbar": {
              "outlinewidth": 0,
              "ticks": ""
             }
            },
            "marker": {
             "colorbar": {
              "outlinewidth": 0,
              "ticks": ""
             }
            },
            "type": "scatter3d"
           }
          ],
          "scattercarpet": [
           {
            "marker": {
             "colorbar": {
              "outlinewidth": 0,
              "ticks": ""
             }
            },
            "type": "scattercarpet"
           }
          ],
          "scattergeo": [
           {
            "marker": {
             "colorbar": {
              "outlinewidth": 0,
              "ticks": ""
             }
            },
            "type": "scattergeo"
           }
          ],
          "scattergl": [
           {
            "marker": {
             "colorbar": {
              "outlinewidth": 0,
              "ticks": ""
             }
            },
            "type": "scattergl"
           }
          ],
          "scattermapbox": [
           {
            "marker": {
             "colorbar": {
              "outlinewidth": 0,
              "ticks": ""
             }
            },
            "type": "scattermapbox"
           }
          ],
          "scatterpolar": [
           {
            "marker": {
             "colorbar": {
              "outlinewidth": 0,
              "ticks": ""
             }
            },
            "type": "scatterpolar"
           }
          ],
          "scatterpolargl": [
           {
            "marker": {
             "colorbar": {
              "outlinewidth": 0,
              "ticks": ""
             }
            },
            "type": "scatterpolargl"
           }
          ],
          "scatterternary": [
           {
            "marker": {
             "colorbar": {
              "outlinewidth": 0,
              "ticks": ""
             }
            },
            "type": "scatterternary"
           }
          ],
          "surface": [
           {
            "colorbar": {
             "outlinewidth": 0,
             "ticks": ""
            },
            "colorscale": [
             [
              0,
              "#0d0887"
             ],
             [
              0.1111111111111111,
              "#46039f"
             ],
             [
              0.2222222222222222,
              "#7201a8"
             ],
             [
              0.3333333333333333,
              "#9c179e"
             ],
             [
              0.4444444444444444,
              "#bd3786"
             ],
             [
              0.5555555555555556,
              "#d8576b"
             ],
             [
              0.6666666666666666,
              "#ed7953"
             ],
             [
              0.7777777777777778,
              "#fb9f3a"
             ],
             [
              0.8888888888888888,
              "#fdca26"
             ],
             [
              1,
              "#f0f921"
             ]
            ],
            "type": "surface"
           }
          ],
          "table": [
           {
            "cells": {
             "fill": {
              "color": "#EBF0F8"
             },
             "line": {
              "color": "white"
             }
            },
            "header": {
             "fill": {
              "color": "#C8D4E3"
             },
             "line": {
              "color": "white"
             }
            },
            "type": "table"
           }
          ]
         },
         "layout": {
          "annotationdefaults": {
           "arrowcolor": "#2a3f5f",
           "arrowhead": 0,
           "arrowwidth": 1
          },
          "autotypenumbers": "strict",
          "coloraxis": {
           "colorbar": {
            "outlinewidth": 0,
            "ticks": ""
           }
          },
          "colorscale": {
           "diverging": [
            [
             0,
             "#8e0152"
            ],
            [
             0.1,
             "#c51b7d"
            ],
            [
             0.2,
             "#de77ae"
            ],
            [
             0.3,
             "#f1b6da"
            ],
            [
             0.4,
             "#fde0ef"
            ],
            [
             0.5,
             "#f7f7f7"
            ],
            [
             0.6,
             "#e6f5d0"
            ],
            [
             0.7,
             "#b8e186"
            ],
            [
             0.8,
             "#7fbc41"
            ],
            [
             0.9,
             "#4d9221"
            ],
            [
             1,
             "#276419"
            ]
           ],
           "sequential": [
            [
             0,
             "#0d0887"
            ],
            [
             0.1111111111111111,
             "#46039f"
            ],
            [
             0.2222222222222222,
             "#7201a8"
            ],
            [
             0.3333333333333333,
             "#9c179e"
            ],
            [
             0.4444444444444444,
             "#bd3786"
            ],
            [
             0.5555555555555556,
             "#d8576b"
            ],
            [
             0.6666666666666666,
             "#ed7953"
            ],
            [
             0.7777777777777778,
             "#fb9f3a"
            ],
            [
             0.8888888888888888,
             "#fdca26"
            ],
            [
             1,
             "#f0f921"
            ]
           ],
           "sequentialminus": [
            [
             0,
             "#0d0887"
            ],
            [
             0.1111111111111111,
             "#46039f"
            ],
            [
             0.2222222222222222,
             "#7201a8"
            ],
            [
             0.3333333333333333,
             "#9c179e"
            ],
            [
             0.4444444444444444,
             "#bd3786"
            ],
            [
             0.5555555555555556,
             "#d8576b"
            ],
            [
             0.6666666666666666,
             "#ed7953"
            ],
            [
             0.7777777777777778,
             "#fb9f3a"
            ],
            [
             0.8888888888888888,
             "#fdca26"
            ],
            [
             1,
             "#f0f921"
            ]
           ]
          },
          "colorway": [
           "#636efa",
           "#EF553B",
           "#00cc96",
           "#ab63fa",
           "#FFA15A",
           "#19d3f3",
           "#FF6692",
           "#B6E880",
           "#FF97FF",
           "#FECB52"
          ],
          "font": {
           "color": "#2a3f5f"
          },
          "geo": {
           "bgcolor": "white",
           "lakecolor": "white",
           "landcolor": "#E5ECF6",
           "showlakes": true,
           "showland": true,
           "subunitcolor": "white"
          },
          "hoverlabel": {
           "align": "left"
          },
          "hovermode": "closest",
          "mapbox": {
           "style": "light"
          },
          "paper_bgcolor": "white",
          "plot_bgcolor": "#E5ECF6",
          "polar": {
           "angularaxis": {
            "gridcolor": "white",
            "linecolor": "white",
            "ticks": ""
           },
           "bgcolor": "#E5ECF6",
           "radialaxis": {
            "gridcolor": "white",
            "linecolor": "white",
            "ticks": ""
           }
          },
          "scene": {
           "xaxis": {
            "backgroundcolor": "#E5ECF6",
            "gridcolor": "white",
            "gridwidth": 2,
            "linecolor": "white",
            "showbackground": true,
            "ticks": "",
            "zerolinecolor": "white"
           },
           "yaxis": {
            "backgroundcolor": "#E5ECF6",
            "gridcolor": "white",
            "gridwidth": 2,
            "linecolor": "white",
            "showbackground": true,
            "ticks": "",
            "zerolinecolor": "white"
           },
           "zaxis": {
            "backgroundcolor": "#E5ECF6",
            "gridcolor": "white",
            "gridwidth": 2,
            "linecolor": "white",
            "showbackground": true,
            "ticks": "",
            "zerolinecolor": "white"
           }
          },
          "shapedefaults": {
           "line": {
            "color": "#2a3f5f"
           }
          },
          "ternary": {
           "aaxis": {
            "gridcolor": "white",
            "linecolor": "white",
            "ticks": ""
           },
           "baxis": {
            "gridcolor": "white",
            "linecolor": "white",
            "ticks": ""
           },
           "bgcolor": "#E5ECF6",
           "caxis": {
            "gridcolor": "white",
            "linecolor": "white",
            "ticks": ""
           }
          },
          "title": {
           "x": 0.05
          },
          "xaxis": {
           "automargin": true,
           "gridcolor": "white",
           "linecolor": "white",
           "ticks": "",
           "title": {
            "standoff": 15
           },
           "zerolinecolor": "white",
           "zerolinewidth": 2
          },
          "yaxis": {
           "automargin": true,
           "gridcolor": "white",
           "linecolor": "white",
           "ticks": "",
           "title": {
            "standoff": 15
           },
           "zerolinecolor": "white",
           "zerolinewidth": 2
          }
         }
        },
        "title": {
         "text": "Average general influence of films per month"
        },
        "yaxis": {
         "title": {
          "text": "Average magnitude influence"
         }
        }
       }
      }
     },
     "metadata": {},
     "output_type": "display_data"
    }
   ],
   "source": [
    "fig = go.Figure([\n",
    "    go.Scatter(\n",
    "        name='All film infuence',\n",
    "        x=influence_per_month_df.index,\n",
    "        y=influence_per_month_df['avg_mag_slope_change_significant_per_month'],\n",
    "        mode='lines',\n",
    "        line=dict(color='rgb(31, 119, 180)'),\n",
    "    ),\n",
    "    go.Scatter(\n",
    "        name='Upper Bound',\n",
    "        x=influence_per_month_df.index,\n",
    "        y=influence_per_month_df['avg_mag_slope_change_significant_per_month']+1.96*influence_per_month_df['se_mag_slope_change_significant_per_month'],\n",
    "        mode='lines',\n",
    "        marker=dict(color=\"#444\"),\n",
    "        line=dict(width=0),\n",
    "        showlegend=False\n",
    "    ),\n",
    "    go.Scatter(\n",
    "        name='Lower Bound',\n",
    "        x=influence_per_month_df.index,\n",
    "        y=influence_per_month_df['avg_mag_slope_change_significant_per_month']-1.96*influence_per_month_df['se_mag_slope_change_significant_per_month'],\n",
    "        marker=dict(color=\"#444\"),\n",
    "        line=dict(width=0),\n",
    "        mode='lines',\n",
    "        fillcolor='rgba(68, 68, 68, 0.3)',\n",
    "        fill='tonexty',\n",
    "        showlegend=False\n",
    "    )\n",
    "])\n",
    "fig.update_layout(\n",
    "    yaxis_title='Average magnitude influence',\n",
    "    title='Average general influence of films per month',\n",
    "    hovermode=\"x\"\n",
    ")\n",
    "fig.show()"
   ]
  },
  {
   "cell_type": "markdown",
   "metadata": {},
   "source": [
    "Now we look at the variation of magnitude influence per year across season."
   ]
  },
  {
   "cell_type": "code",
   "execution_count": 202,
   "metadata": {},
   "outputs": [
    {
     "data": {
      "application/vnd.plotly.v1+json": {
       "config": {
        "plotlyServerURL": "https://plot.ly"
       },
       "data": [
        {
         "legendgroup": "Summer",
         "line": {
          "color": "red",
          "shape": "linear"
         },
         "mode": "lines+markers",
         "name": "Summer",
         "type": "scatter",
         "x": [
          1895,
          1898,
          1909,
          1910,
          1912,
          1913,
          1915,
          1916,
          1917,
          1918,
          1919,
          1921,
          1923,
          1924,
          1925,
          1926,
          1927,
          1928,
          1929,
          1930,
          1931,
          1932,
          1933,
          1934,
          1935,
          1936,
          1937,
          1938,
          1939,
          1940,
          1941,
          1942,
          1943,
          1944,
          1945,
          1946,
          1947,
          1948,
          1949,
          1950,
          1951,
          1952,
          1953,
          1954,
          1955,
          1956,
          1957,
          1958,
          1959,
          1960,
          1961,
          1962,
          1963,
          1964,
          1965,
          1966,
          1967,
          1968,
          1969,
          1970,
          1971,
          1972,
          1973,
          1974,
          1975,
          1976,
          1977,
          1978,
          1979,
          1980,
          1981,
          1982,
          1983,
          1984,
          1985,
          1986,
          1987,
          1988,
          1989,
          1990,
          1991,
          1992,
          1993,
          1994,
          1995,
          1996,
          1997,
          1998,
          1999,
          2000,
          2001,
          2002,
          2003,
          2004,
          2005,
          2006,
          2007,
          2008,
          2009,
          2010,
          2011,
          2012,
          2013
         ],
         "y": [
          null,
          null,
          null,
          null,
          0.0637731685992376,
          null,
          null,
          null,
          null,
          0.0142342095847014,
          0.0016399702840096,
          null,
          0.0076496006860762,
          0.007539279298706733,
          0.011132830525260349,
          0.012366980850665574,
          0.044045809692027246,
          null,
          0.0231256162527824,
          0.008849970535758738,
          0.005700585121682575,
          0.08000935720411262,
          0.0716502199306589,
          0.03354919529568109,
          0.031966238756750545,
          0.02666477536756101,
          0.022607730490522948,
          0.03100745754452259,
          0.021958069761052156,
          0.029126762761754153,
          0.03958951507795077,
          0.03572825561533776,
          0.00898367367411506,
          0.025934920208322835,
          0.04444237207779997,
          0.020578445900131852,
          0.038276903508338525,
          0.02052697413283183,
          0.016949653751454352,
          0.011928104585918186,
          0.01755351343507719,
          0.013514333383767264,
          0.01899853756428909,
          0.026427945306444375,
          0.014481593672451097,
          0.011253983210123648,
          0.02163036588913642,
          0.0059827998053108575,
          0.026458814038510088,
          0.022132541809386765,
          0.01540696819276449,
          0.019364066061962674,
          0.02592344209101279,
          0.020843549055963036,
          0.018086305199246023,
          0.004500111186379382,
          0.01641092182751745,
          0.055416166815365514,
          0.03489642902454271,
          0.02315067930738504,
          0.01658654465014573,
          0.007127106798864639,
          0.016451203248009718,
          0.007074047249807977,
          0.01971769103327922,
          0.023541455803996067,
          0.010208881016688449,
          0.014795923695057289,
          0.007324716862764949,
          0.016348678542835324,
          0.013819627359183583,
          0.015916915502950952,
          0.013846190989599516,
          0.014509379308722963,
          0.011279003723992553,
          0.016264428916985443,
          0.016431173323395273,
          0.015680382326401517,
          0.03595640161016605,
          0.015533809197100734,
          0.011501016644594915,
          0.01779071958009503,
          0.007993448633927024,
          0.018536076774295307,
          0.014406295281112334,
          0.016390516879509657,
          0.01649353276073288,
          0.013846365503156302,
          0.013023472728915023,
          0.012778732061634403,
          0.01605216260759137,
          0.011360005354169372,
          0.010251689004530416,
          0.0092719888504515,
          0.013236446318386897,
          0.011515979697108937,
          0.007641973344294843,
          0.008474034865293346,
          0.0102803879158345,
          0.008099340798932613,
          0.009003558150712175,
          0.010322240064685543,
          0.009648537173859493
         ]
        },
        {
         "legendgroup": "Summer",
         "line": {
          "color": "red",
          "width": 0
         },
         "mode": "lines",
         "name": "Summer 95% CI",
         "showlegend": false,
         "type": "scatter",
         "x": [
          1895,
          1898,
          1909,
          1910,
          1912,
          1913,
          1915,
          1916,
          1917,
          1918,
          1919,
          1921,
          1923,
          1924,
          1925,
          1926,
          1927,
          1928,
          1929,
          1930,
          1931,
          1932,
          1933,
          1934,
          1935,
          1936,
          1937,
          1938,
          1939,
          1940,
          1941,
          1942,
          1943,
          1944,
          1945,
          1946,
          1947,
          1948,
          1949,
          1950,
          1951,
          1952,
          1953,
          1954,
          1955,
          1956,
          1957,
          1958,
          1959,
          1960,
          1961,
          1962,
          1963,
          1964,
          1965,
          1966,
          1967,
          1968,
          1969,
          1970,
          1971,
          1972,
          1973,
          1974,
          1975,
          1976,
          1977,
          1978,
          1979,
          1980,
          1981,
          1982,
          1983,
          1984,
          1985,
          1986,
          1987,
          1988,
          1989,
          1990,
          1991,
          1992,
          1993,
          1994,
          1995,
          1996,
          1997,
          1998,
          1999,
          2000,
          2001,
          2002,
          2003,
          2004,
          2005,
          2006,
          2007,
          2008,
          2009,
          2010,
          2011,
          2012,
          2013
         ],
         "y": [
          null,
          null,
          null,
          null,
          null,
          null,
          null,
          null,
          null,
          0.03832360513771985,
          null,
          null,
          null,
          0.009009508243746321,
          0.015426333609171299,
          0.017512735493294046,
          0.10799008756299532,
          null,
          0.0231256162527824,
          0.014341101337377034,
          0.010826437097098069,
          0.1347442452998634,
          0.12187774660791253,
          0.04818012957854427,
          0.04752618016248825,
          0.03545197582691666,
          0.03359382600931008,
          0.04748055011654828,
          0.03377721479851119,
          0.04788871238671481,
          0.05958764820523507,
          0.05423634060499079,
          0.014647480274508056,
          0.03945009252362065,
          0.1043246838861111,
          0.04616230134334671,
          0.06748466696089613,
          0.03287096365989678,
          0.030918453760609567,
          0.023301676654574503,
          0.030529888658620778,
          0.019993011498087895,
          0.02821132375809401,
          0.04243188328456372,
          0.02091494691763071,
          0.015674524087135627,
          0.0430436801601851,
          0.010183775076985908,
          0.05142195117001311,
          0.03302865616749037,
          0.024754280492198157,
          0.028846224233988756,
          0.04347146800345747,
          0.03291994875410535,
          0.028445682628458306,
          0.008022869031464763,
          0.030947657245114092,
          0.08466390699218972,
          0.0665464163220052,
          0.03340538494915024,
          0.028227344449898627,
          0.010474788953298255,
          0.029206575790811352,
          0.010886019383452232,
          0.030176652576450382,
          0.03882946499128391,
          0.01496185316464673,
          0.021389389946690755,
          0.010380554118183685,
          0.027130893171194978,
          0.024043642057194642,
          0.028206823444506285,
          0.029068841065890375,
          0.021696724125264782,
          0.019909381855272988,
          0.0245378025018214,
          0.02919880418251772,
          0.02654011487842299,
          0.05131062961849072,
          0.023127127529525435,
          0.016782005510678093,
          0.026575225905347562,
          0.01073623983915778,
          0.02737639495019821,
          0.020410978831643996,
          0.021838556043304046,
          0.022839901148261364,
          0.018760436809038203,
          0.017078679721991057,
          0.01587284213852168,
          0.019565156376331574,
          0.014904361527805913,
          0.012928774452050047,
          0.011778482704710347,
          0.016514560596371384,
          0.013480675059315,
          0.009028376037595173,
          0.009835968925156193,
          0.011878387745232128,
          0.009195149681904042,
          0.010556463954405695,
          0.012729490052964693,
          0.013881573665462
         ]
        },
        {
         "fill": "tonexty",
         "line": {
          "color": "red",
          "width": 0
         },
         "mode": "lines",
         "name": "Summer 95% CI",
         "type": "scatter",
         "x": [
          1895,
          1898,
          1909,
          1910,
          1912,
          1913,
          1915,
          1916,
          1917,
          1918,
          1919,
          1921,
          1923,
          1924,
          1925,
          1926,
          1927,
          1928,
          1929,
          1930,
          1931,
          1932,
          1933,
          1934,
          1935,
          1936,
          1937,
          1938,
          1939,
          1940,
          1941,
          1942,
          1943,
          1944,
          1945,
          1946,
          1947,
          1948,
          1949,
          1950,
          1951,
          1952,
          1953,
          1954,
          1955,
          1956,
          1957,
          1958,
          1959,
          1960,
          1961,
          1962,
          1963,
          1964,
          1965,
          1966,
          1967,
          1968,
          1969,
          1970,
          1971,
          1972,
          1973,
          1974,
          1975,
          1976,
          1977,
          1978,
          1979,
          1980,
          1981,
          1982,
          1983,
          1984,
          1985,
          1986,
          1987,
          1988,
          1989,
          1990,
          1991,
          1992,
          1993,
          1994,
          1995,
          1996,
          1997,
          1998,
          1999,
          2000,
          2001,
          2002,
          2003,
          2004,
          2005,
          2006,
          2007,
          2008,
          2009,
          2010,
          2011,
          2012,
          2013
         ],
         "y": [
          null,
          null,
          null,
          null,
          null,
          null,
          null,
          null,
          null,
          -0.009855185968317054,
          null,
          null,
          null,
          0.006069050353667146,
          0.006839327441349399,
          0.007221226208037103,
          -0.019898468178940823,
          null,
          0.0231256162527824,
          0.003358839734140441,
          0.0005747331462670809,
          0.025274469108361848,
          0.02142269325340526,
          0.0189182610128179,
          0.016406297351012837,
          0.017877574908205365,
          0.011621634971735817,
          0.014534364972496897,
          0.010138924723593123,
          0.010364813136793497,
          0.01959138195066647,
          0.017220170625684737,
          0.0033198670737220647,
          0.01241974789302502,
          -0.015439939730511165,
          -0.0050054095430830045,
          0.009069140055780925,
          0.00818298460576688,
          0.002980853742299139,
          0.0005545325172618687,
          0.004577138211533601,
          0.007035655269446635,
          0.00978575137048417,
          0.010424007328325022,
          0.008048240427271484,
          0.006833442333111667,
          0.0002170516180877366,
          0.001781824533635807,
          0.0014956769070070715,
          0.011236427451283157,
          0.006059655893330823,
          0.009881907889936594,
          0.008375416178568105,
          0.00876714935782072,
          0.00772692777003374,
          0.0009773533412939998,
          0.0018741864099208038,
          0.02616842663854131,
          0.003246441727080218,
          0.012895973665619842,
          0.004945744850392836,
          0.003779424644431023,
          0.0036958307052080835,
          0.003262075116163723,
          0.009258729490108055,
          0.008253446616708222,
          0.005455908868730168,
          0.008202457443423824,
          0.004268879607346212,
          0.005566463914475668,
          0.0035956126611725227,
          0.0036270075613956173,
          -0.0013764590866913434,
          0.007322034492181145,
          0.002648625592712119,
          0.007991055332149487,
          0.003663542464272824,
          0.004820649774380041,
          0.020602173601841377,
          0.007940490864676034,
          0.006220027778511737,
          0.009006213254842499,
          0.005250657428696269,
          0.009695758598392404,
          0.008401611730580672,
          0.010942477715715267,
          0.010147164373204396,
          0.008932294197274404,
          0.008968265735838988,
          0.009684621984747128,
          0.012539168838851167,
          0.007815649180532831,
          0.007574603557010784,
          0.006765494996192651,
          0.009958332040402411,
          0.009551284334902875,
          0.006255570650994514,
          0.007112100805430499,
          0.008682388086436873,
          0.007003531915961183,
          0.0074506523470186554,
          0.007914990076406394,
          0.005415500682256986
         ]
        },
        {
         "legendgroup": "Fall",
         "line": {
          "color": "orange",
          "shape": "linear"
         },
         "mode": "lines+markers",
         "name": "Fall",
         "type": "scatter",
         "x": [
          1900,
          1902,
          1903,
          1906,
          1907,
          1908,
          1909,
          1910,
          1911,
          1912,
          1913,
          1914,
          1915,
          1916,
          1917,
          1918,
          1919,
          1920,
          1921,
          1922,
          1923,
          1924,
          1925,
          1926,
          1927,
          1928,
          1929,
          1930,
          1931,
          1932,
          1933,
          1934,
          1935,
          1936,
          1937,
          1938,
          1939,
          1940,
          1941,
          1942,
          1943,
          1944,
          1945,
          1946,
          1947,
          1948,
          1949,
          1950,
          1951,
          1952,
          1953,
          1954,
          1955,
          1956,
          1957,
          1958,
          1959,
          1960,
          1961,
          1962,
          1963,
          1964,
          1965,
          1966,
          1967,
          1968,
          1969,
          1970,
          1971,
          1972,
          1973,
          1974,
          1975,
          1976,
          1977,
          1978,
          1979,
          1980,
          1981,
          1982,
          1983,
          1984,
          1985,
          1986,
          1987,
          1988,
          1989,
          1990,
          1991,
          1992,
          1993,
          1994,
          1995,
          1996,
          1997,
          1998,
          1999,
          2000,
          2001,
          2002,
          2003,
          2004,
          2005,
          2006,
          2007,
          2008,
          2009,
          2010,
          2011,
          2012,
          2013
         ],
         "y": [
          null,
          null,
          null,
          null,
          null,
          0.0988003264876959,
          null,
          null,
          0.0001250846406068,
          0.0076171143029302,
          null,
          null,
          null,
          null,
          0.012922349835209401,
          0.013536292094162,
          0.0094984334183564,
          null,
          null,
          0.00826272068344795,
          null,
          0.021331951244083075,
          0.02272413793455175,
          0.0081429080608852,
          0.046558887401129234,
          0.03060225563748507,
          0.019623276187101853,
          0.034692905590594555,
          0.02797924581858832,
          0.013898508364844086,
          0.03800225942696633,
          0.029455054520713335,
          0.03239870853493754,
          0.030179879242411074,
          0.030631806374070803,
          0.01576546708017401,
          0.03359120820714561,
          0.03806661973674215,
          0.01646075808671646,
          0.027775564485995448,
          0.020076318506198,
          0.0324960334928038,
          0.02431405015897459,
          0.02660558140631972,
          0.04503900222275334,
          0.02868475671070405,
          0.0414173232838985,
          0.02140733066230604,
          0.04912335165459317,
          0.02387826142764751,
          0.021157013335297497,
          0.011700118423617942,
          0.020796993784374617,
          0.02311711157483588,
          0.02179809485765389,
          0.01118120107566864,
          0.021767202871526177,
          0.02130336055314324,
          0.033129138591951865,
          0.020260772423076917,
          0.01641015352312134,
          0.02089453232782471,
          0.037903405727729385,
          0.009709113029546563,
          0.017490329634511758,
          0.036222429871303516,
          0.05070337968099393,
          0.026857471763256202,
          0.02095410397819908,
          0.016267384376390533,
          0.010995889061780213,
          0.01591367473676988,
          0.019161571422743887,
          0.03657789003901562,
          0.013209045924356094,
          0.006897923502906391,
          0.013138852354731799,
          0.012375568483541216,
          0.011724991937541259,
          0.01919828763036465,
          0.01530117406512428,
          0.015429239543180371,
          0.012596877141786833,
          0.02585258462373026,
          0.020047832914276868,
          0.014724916485998541,
          0.013945077004488061,
          0.023702269533275238,
          0.011603950434542567,
          0.015153364159237428,
          0.015849247982955717,
          0.013842252976347683,
          0.01721951676407309,
          0.012127003728667823,
          0.015068830864223566,
          0.010723744697585734,
          0.014978576073129444,
          0.010597576365373864,
          0.012452612854757038,
          0.011383522479363367,
          0.010253528910444929,
          0.012326124535937621,
          0.011941643462290263,
          0.010263727311544821,
          0.007933224258894842,
          0.008831642513279435,
          0.008848340183783877,
          0.008927699895982385,
          0.009272875017598964,
          0.010842041398739703,
          0.005524804432607999
         ]
        },
        {
         "legendgroup": "Fall",
         "line": {
          "color": "orange",
          "width": 0
         },
         "mode": "lines",
         "name": "Fall 95% CI",
         "showlegend": false,
         "type": "scatter",
         "x": [
          1900,
          1902,
          1903,
          1906,
          1907,
          1908,
          1909,
          1910,
          1911,
          1912,
          1913,
          1914,
          1915,
          1916,
          1917,
          1918,
          1919,
          1920,
          1921,
          1922,
          1923,
          1924,
          1925,
          1926,
          1927,
          1928,
          1929,
          1930,
          1931,
          1932,
          1933,
          1934,
          1935,
          1936,
          1937,
          1938,
          1939,
          1940,
          1941,
          1942,
          1943,
          1944,
          1945,
          1946,
          1947,
          1948,
          1949,
          1950,
          1951,
          1952,
          1953,
          1954,
          1955,
          1956,
          1957,
          1958,
          1959,
          1960,
          1961,
          1962,
          1963,
          1964,
          1965,
          1966,
          1967,
          1968,
          1969,
          1970,
          1971,
          1972,
          1973,
          1974,
          1975,
          1976,
          1977,
          1978,
          1979,
          1980,
          1981,
          1982,
          1983,
          1984,
          1985,
          1986,
          1987,
          1988,
          1989,
          1990,
          1991,
          1992,
          1993,
          1994,
          1995,
          1996,
          1997,
          1998,
          1999,
          2000,
          2001,
          2002,
          2003,
          2004,
          2005,
          2006,
          2007,
          2008,
          2009,
          2010,
          2011,
          2012,
          2013
         ],
         "y": [
          null,
          null,
          null,
          null,
          null,
          null,
          null,
          null,
          null,
          null,
          null,
          null,
          null,
          null,
          0.026371177982841318,
          null,
          null,
          null,
          null,
          0.011763511347302835,
          null,
          0.046760529516590446,
          0.039553730391393066,
          0.008705501707229777,
          0.08216064428057682,
          0.06511805534385434,
          0.040021267236690694,
          0.05399185679695358,
          0.048616130502847035,
          0.020256890642522434,
          0.06246074773483459,
          0.0538371531814384,
          0.050545542581379874,
          0.03997203419317938,
          0.04935055468321478,
          0.024359329531656378,
          0.05084960104084671,
          0.0677457367045737,
          0.030775420798389335,
          0.04018353236651405,
          0.0338872011206857,
          0.050081559049462404,
          0.041546643856581994,
          0.04125909926933486,
          0.09362309857225269,
          0.044694735228534246,
          0.06429941851131935,
          0.033177101140622445,
          0.07368837964768521,
          0.03727770261883773,
          0.031781457270824966,
          0.017004063680925583,
          0.031490384038547016,
          0.03252310102139204,
          0.04041854676822801,
          0.015933339896061736,
          0.033821083294791984,
          0.03347326521671842,
          0.05648680517379409,
          0.0274494333484801,
          0.024392224078836615,
          0.03462000980306729,
          0.08430421423600573,
          0.014623411792619712,
          0.03475342476792015,
          0.062172427364310515,
          0.07869807822293273,
          0.055965562634078286,
          0.03511528901411253,
          0.023305356968911284,
          0.01710277640534574,
          0.022216421166671746,
          0.03226566797594719,
          0.057644399122324885,
          0.02014636852768563,
          0.009967878216028767,
          0.017938986156432007,
          0.016979912837005902,
          0.018022769341771515,
          0.032377141930976544,
          0.024157977990590485,
          0.02642261970275145,
          0.017486937230037768,
          0.04213336878350617,
          0.030223587587235902,
          0.024212774825792316,
          0.020809839108256956,
          0.03419943979375662,
          0.01591914798793639,
          0.022484632369395408,
          0.021859451250687518,
          0.01913752388993856,
          0.02260843594013036,
          0.015922847876303093,
          0.019313229589558445,
          0.012862944759225467,
          0.018593009377683576,
          0.012882994476629602,
          0.01538229451694292,
          0.01390625930196571,
          0.013381539668218416,
          0.01613125728692092,
          0.014105722453675956,
          0.011803227857671775,
          0.009062003212669733,
          0.009991630707928328,
          0.009790739006673425,
          0.009805160306992146,
          0.010334886801301534,
          0.014412046291674991,
          0.012652236419073926
         ]
        },
        {
         "fill": "tonexty",
         "line": {
          "color": "orange",
          "width": 0
         },
         "mode": "lines",
         "name": "Fall 95% CI",
         "type": "scatter",
         "x": [
          1900,
          1902,
          1903,
          1906,
          1907,
          1908,
          1909,
          1910,
          1911,
          1912,
          1913,
          1914,
          1915,
          1916,
          1917,
          1918,
          1919,
          1920,
          1921,
          1922,
          1923,
          1924,
          1925,
          1926,
          1927,
          1928,
          1929,
          1930,
          1931,
          1932,
          1933,
          1934,
          1935,
          1936,
          1937,
          1938,
          1939,
          1940,
          1941,
          1942,
          1943,
          1944,
          1945,
          1946,
          1947,
          1948,
          1949,
          1950,
          1951,
          1952,
          1953,
          1954,
          1955,
          1956,
          1957,
          1958,
          1959,
          1960,
          1961,
          1962,
          1963,
          1964,
          1965,
          1966,
          1967,
          1968,
          1969,
          1970,
          1971,
          1972,
          1973,
          1974,
          1975,
          1976,
          1977,
          1978,
          1979,
          1980,
          1981,
          1982,
          1983,
          1984,
          1985,
          1986,
          1987,
          1988,
          1989,
          1990,
          1991,
          1992,
          1993,
          1994,
          1995,
          1996,
          1997,
          1998,
          1999,
          2000,
          2001,
          2002,
          2003,
          2004,
          2005,
          2006,
          2007,
          2008,
          2009,
          2010,
          2011,
          2012,
          2013
         ],
         "y": [
          null,
          null,
          null,
          null,
          null,
          null,
          null,
          null,
          null,
          null,
          null,
          null,
          null,
          null,
          -0.0005264783124225136,
          null,
          null,
          null,
          null,
          0.004761930019593066,
          null,
          -0.0040966270284243,
          0.005894545477710431,
          0.007580314414540624,
          0.010957130521681645,
          -0.003913544068884205,
          -0.0007747148624869908,
          0.015393954384235537,
          0.007342361134329605,
          0.007540126087165738,
          0.01354377111909806,
          0.005072955859988272,
          0.014251874488495204,
          0.020387724291642772,
          0.011913058064926825,
          0.007171604628691647,
          0.016332815373444515,
          0.008387502768910593,
          0.0021460953750435836,
          0.01536759660547685,
          0.006265435891710296,
          0.014910507936145189,
          0.007081456461367184,
          0.01195206354330458,
          -0.003545094126746015,
          0.012674778192873857,
          0.01853522805647766,
          0.009637560183989636,
          0.024558323661501118,
          0.010478820236457291,
          0.010532569399770026,
          0.006396173166310301,
          0.010103603530202218,
          0.01371112212827972,
          0.00317764294707977,
          0.006429062255275543,
          0.009713322448260366,
          0.00913345588956806,
          0.009771472010109635,
          0.013072111497673733,
          0.008428082967406068,
          0.007169054852582122,
          -0.008497402780546955,
          0.004794814266473413,
          0.00022723450110337037,
          0.010272432378296517,
          0.02270868113905512,
          -0.0022506191075658787,
          0.006792918942285625,
          0.009229411783869781,
          0.004889001718214686,
          0.009610928306868017,
          0.006057474869540587,
          0.015511380955706353,
          0.00627172332102656,
          0.0038279687897840157,
          0.008338718553031591,
          0.0077712241300765305,
          0.005427214533311002,
          0.006019433329752759,
          0.006444370139658075,
          0.004435859383609294,
          0.007706817053535899,
          0.009571800463954349,
          0.009872078241317835,
          0.005237058146204765,
          0.007080314900719166,
          0.013205099272793855,
          0.007288752881148743,
          0.007822095949079448,
          0.009839044715223916,
          0.008546982062756805,
          0.011830597588015822,
          0.008331159581032555,
          0.010824432138888687,
          0.008584544635946002,
          0.011364142768575313,
          0.008312158254118126,
          0.009522931192571155,
          0.008860785656761024,
          0.007125518152671441,
          0.00852099178495432,
          0.009777564470904571,
          0.008724226765417868,
          0.006804445305119951,
          0.007671654318630543,
          0.007905941360894328,
          0.008050239484972624,
          0.008210863233896394,
          0.007272036505804415,
          -0.0016026275538579262
         ]
        },
        {
         "legendgroup": "Winter",
         "line": {
          "color": "blue",
          "shape": "linear"
         },
         "mode": "lines+markers",
         "name": "Winter",
         "type": "scatter",
         "x": [
          1903,
          1907,
          1908,
          1909,
          1911,
          1913,
          1914,
          1915,
          1916,
          1917,
          1918,
          1919,
          1920,
          1921,
          1922,
          1923,
          1924,
          1925,
          1926,
          1927,
          1928,
          1929,
          1930,
          1931,
          1932,
          1933,
          1934,
          1935,
          1936,
          1937,
          1938,
          1939,
          1940,
          1941,
          1942,
          1943,
          1944,
          1945,
          1946,
          1947,
          1948,
          1949,
          1950,
          1951,
          1952,
          1953,
          1954,
          1955,
          1956,
          1957,
          1958,
          1959,
          1960,
          1961,
          1962,
          1963,
          1964,
          1965,
          1966,
          1967,
          1968,
          1969,
          1970,
          1971,
          1972,
          1973,
          1974,
          1975,
          1976,
          1977,
          1978,
          1979,
          1980,
          1981,
          1982,
          1983,
          1984,
          1985,
          1986,
          1987,
          1988,
          1989,
          1990,
          1991,
          1992,
          1993,
          1994,
          1995,
          1996,
          1997,
          1998,
          1999,
          2000,
          2001,
          2002,
          2003,
          2004,
          2005,
          2006,
          2007,
          2008,
          2009,
          2010,
          2011,
          2012,
          2013
         ],
         "y": [
          null,
          null,
          null,
          null,
          0.0202013145688044,
          null,
          0.010725624667128,
          null,
          null,
          null,
          0.00847587544069585,
          0.0512154446117591,
          0.0128302710656442,
          null,
          0.0227313235075096,
          0.03856167605708357,
          0.0593138069050777,
          0.04166822378015385,
          null,
          0.0153015637044521,
          0.04072677955772045,
          0.0105462902433201,
          0.023359410714403978,
          0.07195530681971189,
          0.0169360235316243,
          0.02189823387545587,
          0.037781183169556226,
          0.02491712183433316,
          0.025013005957040944,
          0.038427067240725886,
          0.0401820198132164,
          0.019213954700624092,
          0.020979894198589755,
          0.02648643824214038,
          0.021219732923045125,
          0.033036114723763936,
          0.036466589684414456,
          0.032476933358580866,
          0.03610435627320341,
          0.024512211161733025,
          0.02627889064530641,
          0.02985455220590295,
          0.015627706294300138,
          0.025310963452069117,
          0.0065688576854017995,
          0.021820758933596824,
          0.022803479304852152,
          0.018290665709665626,
          0.013422917534006372,
          0.02942784017208748,
          0.024305889778264568,
          0.03747794893386129,
          0.03031459336289122,
          0.021396882193791714,
          0.016121575453277363,
          0.02014580413369437,
          0.014632607597103822,
          0.010737137075521883,
          0.008886987675100462,
          0.06172983956425358,
          0.021000919590026274,
          0.016130266820097775,
          0.016151292313574716,
          0.01433437447912275,
          0.017713749753648648,
          0.022154642400694785,
          0.017574947104749196,
          0.02979691823741791,
          0.02155839627723831,
          0.01844804469077243,
          0.0144958443847465,
          0.014426771334394671,
          0.020454409704619928,
          0.019472025414543848,
          0.019322768914059648,
          0.01769282159353396,
          0.02375098069228087,
          0.025672743799953688,
          0.011012688382745908,
          0.03437347184890041,
          0.012217280595903065,
          0.017779294125527402,
          0.017809556674136837,
          0.007598955874940619,
          0.010550105865256698,
          0.01433552047782212,
          0.00960012212591025,
          0.01630207540023399,
          0.013889140524687432,
          0.015829328987543384,
          0.01306675918225671,
          0.010893302830445293,
          0.011359554570653184,
          0.011793653351246497,
          0.012951278971449397,
          0.008750313338126045,
          0.008798009450611162,
          0.012576512841719128,
          0.010305756115556104,
          0.008789575263291195,
          0.008584228308956832,
          0.00805025023881466,
          0.00785759605370516,
          0.009647972413062379,
          0.008000283573403525,
          0.007307353591523669
         ]
        },
        {
         "legendgroup": "Winter",
         "line": {
          "color": "blue",
          "width": 0
         },
         "mode": "lines",
         "name": "Winter 95% CI",
         "showlegend": false,
         "type": "scatter",
         "x": [
          1903,
          1907,
          1908,
          1909,
          1911,
          1913,
          1914,
          1915,
          1916,
          1917,
          1918,
          1919,
          1920,
          1921,
          1922,
          1923,
          1924,
          1925,
          1926,
          1927,
          1928,
          1929,
          1930,
          1931,
          1932,
          1933,
          1934,
          1935,
          1936,
          1937,
          1938,
          1939,
          1940,
          1941,
          1942,
          1943,
          1944,
          1945,
          1946,
          1947,
          1948,
          1949,
          1950,
          1951,
          1952,
          1953,
          1954,
          1955,
          1956,
          1957,
          1958,
          1959,
          1960,
          1961,
          1962,
          1963,
          1964,
          1965,
          1966,
          1967,
          1968,
          1969,
          1970,
          1971,
          1972,
          1973,
          1974,
          1975,
          1976,
          1977,
          1978,
          1979,
          1980,
          1981,
          1982,
          1983,
          1984,
          1985,
          1986,
          1987,
          1988,
          1989,
          1990,
          1991,
          1992,
          1993,
          1994,
          1995,
          1996,
          1997,
          1998,
          1999,
          2000,
          2001,
          2002,
          2003,
          2004,
          2005,
          2006,
          2007,
          2008,
          2009,
          2010,
          2011,
          2012,
          2013
         ],
         "y": [
          null,
          null,
          null,
          null,
          null,
          null,
          null,
          null,
          null,
          null,
          0.018394292081489502,
          null,
          null,
          null,
          null,
          0.07718264152597304,
          null,
          0.07107554608976754,
          null,
          0.030030400104368617,
          0.08019786900623382,
          0.02080082424344258,
          0.03720814357654609,
          0.1278846946593708,
          0.02672225287008162,
          0.04078226161729658,
          0.0612822571003326,
          0.035392308901481484,
          0.04482153766231746,
          0.05623620319322637,
          0.07261331405728462,
          0.0271928159140671,
          0.03815497536026374,
          0.04063859829956336,
          0.03260429758496807,
          0.05946825534592533,
          0.06477502764245185,
          0.05442125400954573,
          0.06749253950821898,
          0.04672463051404796,
          0.04301078896962242,
          0.0491397557515875,
          0.02675309774164763,
          0.04151247672524877,
          0.013250219579794192,
          0.03513553273411231,
          0.03691162441847972,
          0.028147472429963336,
          0.01888960723118853,
          0.042309391712534984,
          0.04931944116997172,
          0.0639274671463655,
          0.047535167562846606,
          0.032964924038263094,
          0.023725389695167055,
          0.030334765129442005,
          0.029909447222677285,
          0.017675441359061995,
          0.01592060717448956,
          0.11093348888101576,
          0.03434197331642208,
          0.03293223835770358,
          0.02447870723305342,
          0.02135308459086306,
          0.027180239343297122,
          0.03622484331744976,
          0.030131855775559283,
          0.06151924961082161,
          0.03826874409405438,
          0.037497806778060784,
          0.02221727323781126,
          0.022578652361418046,
          0.04434602436608808,
          0.03122411282404923,
          0.026538940708264045,
          0.033007708756477516,
          0.04204984636854417,
          0.03742362054649525,
          0.017035984908843768,
          0.054118455222241305,
          0.01930671848001902,
          0.029519640391630055,
          0.02651062616615822,
          0.010695836423928996,
          0.015986045119815814,
          0.020520067427726156,
          0.013445005897872148,
          0.0216596343282066,
          0.019661281516620666,
          0.021498781126121087,
          0.016766827881951604,
          0.014275205257087205,
          0.013947250731094355,
          0.014971179459634214,
          0.015647484998165546,
          0.010913840555033619,
          0.011122278951380555,
          0.015559172774088083,
          0.01208725386875396,
          0.010372847619639842,
          0.009767713471694502,
          0.009089140819057906,
          0.008814691530731555,
          0.01091787620983553,
          0.009252753395977899,
          0.010907333706260038
         ]
        },
        {
         "fill": "tonexty",
         "line": {
          "color": "blue",
          "width": 0
         },
         "mode": "lines",
         "name": "Winter 95% CI",
         "type": "scatter",
         "x": [
          1903,
          1907,
          1908,
          1909,
          1911,
          1913,
          1914,
          1915,
          1916,
          1917,
          1918,
          1919,
          1920,
          1921,
          1922,
          1923,
          1924,
          1925,
          1926,
          1927,
          1928,
          1929,
          1930,
          1931,
          1932,
          1933,
          1934,
          1935,
          1936,
          1937,
          1938,
          1939,
          1940,
          1941,
          1942,
          1943,
          1944,
          1945,
          1946,
          1947,
          1948,
          1949,
          1950,
          1951,
          1952,
          1953,
          1954,
          1955,
          1956,
          1957,
          1958,
          1959,
          1960,
          1961,
          1962,
          1963,
          1964,
          1965,
          1966,
          1967,
          1968,
          1969,
          1970,
          1971,
          1972,
          1973,
          1974,
          1975,
          1976,
          1977,
          1978,
          1979,
          1980,
          1981,
          1982,
          1983,
          1984,
          1985,
          1986,
          1987,
          1988,
          1989,
          1990,
          1991,
          1992,
          1993,
          1994,
          1995,
          1996,
          1997,
          1998,
          1999,
          2000,
          2001,
          2002,
          2003,
          2004,
          2005,
          2006,
          2007,
          2008,
          2009,
          2010,
          2011,
          2012,
          2013
         ],
         "y": [
          null,
          null,
          null,
          null,
          null,
          null,
          null,
          null,
          null,
          null,
          -0.0014425412000978032,
          null,
          null,
          null,
          null,
          -0.000059289411805892034,
          null,
          0.01226090147054015,
          null,
          0.0005727273045355811,
          0.0012556901092070707,
          0.00029175624319761895,
          0.009510677852261867,
          0.01602591898005299,
          0.007149794193166985,
          0.003014206133615159,
          0.01428010923877985,
          0.014441934767184833,
          0.005204474251764429,
          0.0206179312882254,
          0.007750725569148187,
          0.011235093487181085,
          0.0038048130369157628,
          0.012334278184717403,
          0.00983516826112218,
          0.006603974101602541,
          0.008158151726377051,
          0.010532612707616008,
          0.004716173038187832,
          0.0022997918094180905,
          0.009546992320990405,
          0.0105693486602184,
          0.0045023148469526455,
          0.00910945017888946,
          -0.00011250420899059418,
          0.008505985133081335,
          0.008695334191224582,
          0.008433858989367916,
          0.007956227836824214,
          0.016546288631639976,
          -0.0007076616134425867,
          0.011028430721357074,
          0.013094019162935837,
          0.009828840349320333,
          0.00851776121138767,
          0.009956843137946736,
          -0.0006442320284696431,
          0.0037988327919817703,
          0.0018533681757113623,
          0.012526190247491402,
          0.007659865863630469,
          -0.0006717047175080273,
          0.007823877394096013,
          0.007315664367382441,
          0.008247260164000174,
          0.00808444148393981,
          0.005018038433939111,
          -0.001925413135985786,
          0.004848048460422239,
          -0.0006017173965159259,
          0.006774415531681738,
          0.006274890307371295,
          -0.003437204956848225,
          0.007719938005038467,
          0.012106597119855251,
          0.0023779344305904,
          0.005452115016017573,
          0.013921867053412125,
          0.004989391856648045,
          0.014628488475559514,
          0.00512784271178711,
          0.006038947859424751,
          0.009108487182115455,
          0.004502075325952243,
          0.005114166610697584,
          0.008150973527918081,
          0.0057552383539483535,
          0.01094451647226138,
          0.008116999532754198,
          0.01015987684896568,
          0.009366690482561816,
          0.007511400403803381,
          0.008771858410212012,
          0.00861612724285878,
          0.010255072944733245,
          0.006586786121218472,
          0.006473739949841769,
          0.009593852909350173,
          0.008524258362358247,
          0.0072063029069425475,
          0.007400743146219161,
          0.007011359658571413,
          0.006900500576678764,
          0.008378068616289227,
          0.006747813750829151,
          0.0037073734767873014
         ]
        },
        {
         "legendgroup": "Spring",
         "line": {
          "color": "green",
          "shape": "linear"
         },
         "mode": "lines+markers",
         "name": "Spring",
         "type": "scatter",
         "x": [
          1903,
          1908,
          1909,
          1910,
          1911,
          1912,
          1913,
          1914,
          1915,
          1916,
          1917,
          1918,
          1919,
          1920,
          1921,
          1922,
          1923,
          1924,
          1925,
          1926,
          1927,
          1928,
          1929,
          1930,
          1931,
          1932,
          1933,
          1934,
          1935,
          1936,
          1937,
          1938,
          1939,
          1940,
          1941,
          1942,
          1943,
          1944,
          1945,
          1946,
          1947,
          1948,
          1949,
          1950,
          1951,
          1952,
          1953,
          1954,
          1955,
          1956,
          1957,
          1958,
          1959,
          1960,
          1961,
          1962,
          1963,
          1964,
          1965,
          1966,
          1967,
          1968,
          1969,
          1970,
          1971,
          1972,
          1973,
          1974,
          1975,
          1976,
          1977,
          1978,
          1979,
          1980,
          1981,
          1982,
          1983,
          1984,
          1985,
          1986,
          1987,
          1988,
          1989,
          1990,
          1991,
          1992,
          1993,
          1994,
          1995,
          1996,
          1997,
          1998,
          1999,
          2000,
          2001,
          2002,
          2003,
          2004,
          2005,
          2006,
          2007,
          2008,
          2009,
          2010,
          2011,
          2012,
          2013,
          2014
         ],
         "y": [
          null,
          null,
          null,
          0.0596335963035797,
          null,
          0.0441079706652284,
          null,
          null,
          null,
          0.0075033076531249,
          0.0235781809934123,
          null,
          0.005551223740977233,
          null,
          0.013528334559736066,
          null,
          0.03688243147463745,
          0.02910330131148586,
          0.0368966263589023,
          null,
          0.06504249462390466,
          0.018010159976538747,
          0.013624186361887843,
          0.00661800584263705,
          0.01747356955210207,
          0.020481711670037595,
          0.11440790310897446,
          0.072068389944122,
          0.0371334325984364,
          0.02180750362980778,
          0.025895121764056988,
          0.037075644632013044,
          0.031230470851139145,
          0.02191888307905261,
          0.03584039778541891,
          0.022859972912870195,
          0.03729359884352389,
          0.043737576223218326,
          0.023233377851586988,
          0.013144270745633213,
          0.03353446275637242,
          0.028473213120297054,
          0.03375640630936332,
          0.04986055402803371,
          0.028334445843255816,
          0.022603815856615087,
          0.02573810417854683,
          0.017958988608528306,
          0.03301412938923061,
          0.017811298382912802,
          0.021621600183732232,
          0.037507211286094494,
          0.023640339448654055,
          0.0430127073636404,
          0.011150620032092244,
          0.015735996328957256,
          0.014440293021507206,
          0.013250162788120814,
          0.007662375847179971,
          0.025107613433586026,
          0.03899169178505377,
          0.055192482929179054,
          0.02772396129102436,
          0.013072482216183234,
          0.018008740154937655,
          0.01736610162995307,
          0.01859171592547583,
          0.021606878046987663,
          0.022100879129715763,
          0.02217962040488068,
          0.017657801269684754,
          0.0066589387099108745,
          0.010174275799374282,
          0.029365019320619662,
          0.013718018596080605,
          0.017823286657673052,
          0.01691526884035287,
          0.015545209658187311,
          0.012381609642647682,
          0.021375317873646577,
          0.020570408962034985,
          0.020693994313404386,
          0.017007332999484707,
          0.019866622543365117,
          0.012228495295395736,
          0.01483662269411361,
          0.012957158643923536,
          0.017268329949427935,
          0.01573609056335442,
          0.015524715878130525,
          0.02032907882982736,
          0.010886360855569405,
          0.013265705978749152,
          0.011932973009698507,
          0.012423822032726564,
          0.009253058149143834,
          0.011231009023834915,
          0.009319404143312107,
          0.01210693141652978,
          0.010263199860835421,
          0.009124349400561197,
          0.009436995800521153,
          0.008289613622684829,
          0.008684017728392944,
          0.007848092769275282,
          0.009013605982311882,
          0.008202874728084402,
          null
         ]
        },
        {
         "legendgroup": "Spring",
         "line": {
          "color": "green",
          "width": 0
         },
         "mode": "lines",
         "name": "Spring 95% CI",
         "showlegend": false,
         "type": "scatter",
         "x": [
          1903,
          1908,
          1909,
          1910,
          1911,
          1912,
          1913,
          1914,
          1915,
          1916,
          1917,
          1918,
          1919,
          1920,
          1921,
          1922,
          1923,
          1924,
          1925,
          1926,
          1927,
          1928,
          1929,
          1930,
          1931,
          1932,
          1933,
          1934,
          1935,
          1936,
          1937,
          1938,
          1939,
          1940,
          1941,
          1942,
          1943,
          1944,
          1945,
          1946,
          1947,
          1948,
          1949,
          1950,
          1951,
          1952,
          1953,
          1954,
          1955,
          1956,
          1957,
          1958,
          1959,
          1960,
          1961,
          1962,
          1963,
          1964,
          1965,
          1966,
          1967,
          1968,
          1969,
          1970,
          1971,
          1972,
          1973,
          1974,
          1975,
          1976,
          1977,
          1978,
          1979,
          1980,
          1981,
          1982,
          1983,
          1984,
          1985,
          1986,
          1987,
          1988,
          1989,
          1990,
          1991,
          1992,
          1993,
          1994,
          1995,
          1996,
          1997,
          1998,
          1999,
          2000,
          2001,
          2002,
          2003,
          2004,
          2005,
          2006,
          2007,
          2008,
          2009,
          2010,
          2011,
          2012,
          2013,
          2014
         ],
         "y": [
          null,
          null,
          null,
          null,
          null,
          null,
          null,
          null,
          null,
          null,
          null,
          null,
          0.01425635463545237,
          null,
          0.03315171115800157,
          null,
          0.062305480482931205,
          0.048245959854365666,
          null,
          null,
          0.11690960345625456,
          0.027413252790978886,
          0.01977828960840914,
          0.012270936958742932,
          0.031221558866991617,
          0.029460564813858007,
          0.1970300310879341,
          0.11223919110919839,
          0.05436040281791397,
          0.02853664685667502,
          0.05453130493824988,
          0.058167362982476795,
          0.04263824650070759,
          0.0384326799852789,
          0.061317470643408686,
          0.034937242327809204,
          0.05312883798036523,
          0.08291007507930459,
          0.03622098850447636,
          0.018884081011172622,
          0.05765237793669768,
          0.04149417108646119,
          0.05111450044426896,
          0.07611001255770512,
          0.054912264549863934,
          0.038756349779396675,
          0.037681089214204,
          0.02597996617250586,
          0.05844744781319636,
          0.023699842950226827,
          0.038210601631039495,
          0.05490044429176858,
          0.040855385908514265,
          0.06830814083879042,
          0.014908913938521557,
          0.024534546679640994,
          0.022608507085269902,
          0.0193203379804123,
          0.01306137325615695,
          0.047028614583045046,
          0.06096335986938499,
          0.11892863741496293,
          0.04727827921779974,
          0.022685606507858575,
          0.028459614277292763,
          0.02563692940455046,
          0.028817428218499017,
          0.03353046080760826,
          0.04245561240187999,
          0.034828269322219545,
          0.02583039119781818,
          0.010823875826688343,
          0.015156414220352101,
          0.05291903489146632,
          0.018211029516135922,
          0.027688344151041537,
          0.02750844827218099,
          0.02513625138098847,
          0.019049605286155714,
          0.02977851422865412,
          0.03540397102868121,
          0.034871244718449865,
          0.02828563024108997,
          0.028387389009464754,
          0.019377806272078014,
          0.023137205197386164,
          0.02014424311090043,
          0.02496944463091251,
          0.022159866600267968,
          0.02054651586793241,
          0.027915826279378362,
          0.013318387947219483,
          0.01718592806893173,
          0.01456531928712467,
          0.01513606841801636,
          0.011246892264160806,
          0.014255104446822892,
          0.011710900591796476,
          0.015103960689912124,
          0.012012130267182706,
          0.010538617198921853,
          0.011088783497136186,
          0.009435232056696378,
          0.010015936711553385,
          0.008633055909062135,
          0.010827216073098684,
          0.010524593094717443,
          null
         ]
        },
        {
         "fill": "tonexty",
         "line": {
          "color": "green",
          "width": 0
         },
         "mode": "lines",
         "name": "Spring 95% CI",
         "type": "scatter",
         "x": [
          1903,
          1908,
          1909,
          1910,
          1911,
          1912,
          1913,
          1914,
          1915,
          1916,
          1917,
          1918,
          1919,
          1920,
          1921,
          1922,
          1923,
          1924,
          1925,
          1926,
          1927,
          1928,
          1929,
          1930,
          1931,
          1932,
          1933,
          1934,
          1935,
          1936,
          1937,
          1938,
          1939,
          1940,
          1941,
          1942,
          1943,
          1944,
          1945,
          1946,
          1947,
          1948,
          1949,
          1950,
          1951,
          1952,
          1953,
          1954,
          1955,
          1956,
          1957,
          1958,
          1959,
          1960,
          1961,
          1962,
          1963,
          1964,
          1965,
          1966,
          1967,
          1968,
          1969,
          1970,
          1971,
          1972,
          1973,
          1974,
          1975,
          1976,
          1977,
          1978,
          1979,
          1980,
          1981,
          1982,
          1983,
          1984,
          1985,
          1986,
          1987,
          1988,
          1989,
          1990,
          1991,
          1992,
          1993,
          1994,
          1995,
          1996,
          1997,
          1998,
          1999,
          2000,
          2001,
          2002,
          2003,
          2004,
          2005,
          2006,
          2007,
          2008,
          2009,
          2010,
          2011,
          2012,
          2013,
          2014
         ],
         "y": [
          null,
          null,
          null,
          null,
          null,
          null,
          null,
          null,
          null,
          null,
          null,
          null,
          -0.0031539071534979054,
          null,
          -0.0060950420385294385,
          null,
          0.011459382466343686,
          0.009960642768606056,
          null,
          null,
          0.01317538579155475,
          0.00860706716209861,
          0.007470083115366543,
          0.0009650747265311684,
          0.003725580237212523,
          0.011502858526217182,
          0.03178577513001482,
          0.03189758877904561,
          0.01990646237895883,
          0.01507836040294054,
          -0.0027410614101359074,
          0.015983926281549293,
          0.019822695201570702,
          0.005405086172826323,
          0.01036332492742914,
          0.010782703497931184,
          0.02145835970668254,
          0.004565077367132055,
          0.01024576719869762,
          0.007404460480093803,
          0.009416547576047148,
          0.015452255154132918,
          0.016398312174457686,
          0.02361109549836229,
          0.0017566271366476968,
          0.0064512819338335,
          0.013795119142889663,
          0.009938011044550752,
          0.007580810965264865,
          0.011922753815598777,
          0.005032598736424965,
          0.020113978280420407,
          0.0064252929887938445,
          0.017717273888490388,
          0.007392326125662931,
          0.006937445978273518,
          0.006272078957744507,
          0.007179987595829331,
          0.002263378438202993,
          0.003186612284127005,
          0.017020023700722548,
          -0.00854367155660482,
          0.008169643364248972,
          0.0034593579245078936,
          0.007557866032582548,
          0.009095273855355685,
          0.008366003632452643,
          0.009683295286367063,
          0.0017461458575515378,
          0.00953097148754182,
          0.009485211341551327,
          0.002494001593133407,
          0.005192137378396463,
          0.005811003749773006,
          0.009225007676025288,
          0.007958229164304565,
          0.006322089408524752,
          0.005954167935386154,
          0.005713613999139647,
          0.012972121518639034,
          0.005736846895388758,
          0.006516743908358909,
          0.005729035757879444,
          0.01134585607726548,
          0.00507918431871346,
          0.006536040190841056,
          0.005770074176946641,
          0.009567215267943357,
          0.009312314526440872,
          0.010502915888328638,
          0.012742331380276358,
          0.008454333763919327,
          0.009345483888566573,
          0.009300626732272345,
          0.009711575647436767,
          0.007259224034126863,
          0.008206913600846938,
          0.006927907694827738,
          0.009109902143147438,
          0.008514269454488136,
          0.007710081602200541,
          0.007785208103906121,
          0.007143995188673278,
          0.007352098745232502,
          0.007063129629488427,
          0.00719999589152508,
          0.005881156361451362,
          null
         ]
        }
       ],
       "layout": {
        "template": {
         "data": {
          "bar": [
           {
            "error_x": {
             "color": "#2a3f5f"
            },
            "error_y": {
             "color": "#2a3f5f"
            },
            "marker": {
             "line": {
              "color": "#E5ECF6",
              "width": 0.5
             },
             "pattern": {
              "fillmode": "overlay",
              "size": 10,
              "solidity": 0.2
             }
            },
            "type": "bar"
           }
          ],
          "barpolar": [
           {
            "marker": {
             "line": {
              "color": "#E5ECF6",
              "width": 0.5
             },
             "pattern": {
              "fillmode": "overlay",
              "size": 10,
              "solidity": 0.2
             }
            },
            "type": "barpolar"
           }
          ],
          "carpet": [
           {
            "aaxis": {
             "endlinecolor": "#2a3f5f",
             "gridcolor": "white",
             "linecolor": "white",
             "minorgridcolor": "white",
             "startlinecolor": "#2a3f5f"
            },
            "baxis": {
             "endlinecolor": "#2a3f5f",
             "gridcolor": "white",
             "linecolor": "white",
             "minorgridcolor": "white",
             "startlinecolor": "#2a3f5f"
            },
            "type": "carpet"
           }
          ],
          "choropleth": [
           {
            "colorbar": {
             "outlinewidth": 0,
             "ticks": ""
            },
            "type": "choropleth"
           }
          ],
          "contour": [
           {
            "colorbar": {
             "outlinewidth": 0,
             "ticks": ""
            },
            "colorscale": [
             [
              0,
              "#0d0887"
             ],
             [
              0.1111111111111111,
              "#46039f"
             ],
             [
              0.2222222222222222,
              "#7201a8"
             ],
             [
              0.3333333333333333,
              "#9c179e"
             ],
             [
              0.4444444444444444,
              "#bd3786"
             ],
             [
              0.5555555555555556,
              "#d8576b"
             ],
             [
              0.6666666666666666,
              "#ed7953"
             ],
             [
              0.7777777777777778,
              "#fb9f3a"
             ],
             [
              0.8888888888888888,
              "#fdca26"
             ],
             [
              1,
              "#f0f921"
             ]
            ],
            "type": "contour"
           }
          ],
          "contourcarpet": [
           {
            "colorbar": {
             "outlinewidth": 0,
             "ticks": ""
            },
            "type": "contourcarpet"
           }
          ],
          "heatmap": [
           {
            "colorbar": {
             "outlinewidth": 0,
             "ticks": ""
            },
            "colorscale": [
             [
              0,
              "#0d0887"
             ],
             [
              0.1111111111111111,
              "#46039f"
             ],
             [
              0.2222222222222222,
              "#7201a8"
             ],
             [
              0.3333333333333333,
              "#9c179e"
             ],
             [
              0.4444444444444444,
              "#bd3786"
             ],
             [
              0.5555555555555556,
              "#d8576b"
             ],
             [
              0.6666666666666666,
              "#ed7953"
             ],
             [
              0.7777777777777778,
              "#fb9f3a"
             ],
             [
              0.8888888888888888,
              "#fdca26"
             ],
             [
              1,
              "#f0f921"
             ]
            ],
            "type": "heatmap"
           }
          ],
          "heatmapgl": [
           {
            "colorbar": {
             "outlinewidth": 0,
             "ticks": ""
            },
            "colorscale": [
             [
              0,
              "#0d0887"
             ],
             [
              0.1111111111111111,
              "#46039f"
             ],
             [
              0.2222222222222222,
              "#7201a8"
             ],
             [
              0.3333333333333333,
              "#9c179e"
             ],
             [
              0.4444444444444444,
              "#bd3786"
             ],
             [
              0.5555555555555556,
              "#d8576b"
             ],
             [
              0.6666666666666666,
              "#ed7953"
             ],
             [
              0.7777777777777778,
              "#fb9f3a"
             ],
             [
              0.8888888888888888,
              "#fdca26"
             ],
             [
              1,
              "#f0f921"
             ]
            ],
            "type": "heatmapgl"
           }
          ],
          "histogram": [
           {
            "marker": {
             "pattern": {
              "fillmode": "overlay",
              "size": 10,
              "solidity": 0.2
             }
            },
            "type": "histogram"
           }
          ],
          "histogram2d": [
           {
            "colorbar": {
             "outlinewidth": 0,
             "ticks": ""
            },
            "colorscale": [
             [
              0,
              "#0d0887"
             ],
             [
              0.1111111111111111,
              "#46039f"
             ],
             [
              0.2222222222222222,
              "#7201a8"
             ],
             [
              0.3333333333333333,
              "#9c179e"
             ],
             [
              0.4444444444444444,
              "#bd3786"
             ],
             [
              0.5555555555555556,
              "#d8576b"
             ],
             [
              0.6666666666666666,
              "#ed7953"
             ],
             [
              0.7777777777777778,
              "#fb9f3a"
             ],
             [
              0.8888888888888888,
              "#fdca26"
             ],
             [
              1,
              "#f0f921"
             ]
            ],
            "type": "histogram2d"
           }
          ],
          "histogram2dcontour": [
           {
            "colorbar": {
             "outlinewidth": 0,
             "ticks": ""
            },
            "colorscale": [
             [
              0,
              "#0d0887"
             ],
             [
              0.1111111111111111,
              "#46039f"
             ],
             [
              0.2222222222222222,
              "#7201a8"
             ],
             [
              0.3333333333333333,
              "#9c179e"
             ],
             [
              0.4444444444444444,
              "#bd3786"
             ],
             [
              0.5555555555555556,
              "#d8576b"
             ],
             [
              0.6666666666666666,
              "#ed7953"
             ],
             [
              0.7777777777777778,
              "#fb9f3a"
             ],
             [
              0.8888888888888888,
              "#fdca26"
             ],
             [
              1,
              "#f0f921"
             ]
            ],
            "type": "histogram2dcontour"
           }
          ],
          "mesh3d": [
           {
            "colorbar": {
             "outlinewidth": 0,
             "ticks": ""
            },
            "type": "mesh3d"
           }
          ],
          "parcoords": [
           {
            "line": {
             "colorbar": {
              "outlinewidth": 0,
              "ticks": ""
             }
            },
            "type": "parcoords"
           }
          ],
          "pie": [
           {
            "automargin": true,
            "type": "pie"
           }
          ],
          "scatter": [
           {
            "fillpattern": {
             "fillmode": "overlay",
             "size": 10,
             "solidity": 0.2
            },
            "type": "scatter"
           }
          ],
          "scatter3d": [
           {
            "line": {
             "colorbar": {
              "outlinewidth": 0,
              "ticks": ""
             }
            },
            "marker": {
             "colorbar": {
              "outlinewidth": 0,
              "ticks": ""
             }
            },
            "type": "scatter3d"
           }
          ],
          "scattercarpet": [
           {
            "marker": {
             "colorbar": {
              "outlinewidth": 0,
              "ticks": ""
             }
            },
            "type": "scattercarpet"
           }
          ],
          "scattergeo": [
           {
            "marker": {
             "colorbar": {
              "outlinewidth": 0,
              "ticks": ""
             }
            },
            "type": "scattergeo"
           }
          ],
          "scattergl": [
           {
            "marker": {
             "colorbar": {
              "outlinewidth": 0,
              "ticks": ""
             }
            },
            "type": "scattergl"
           }
          ],
          "scattermapbox": [
           {
            "marker": {
             "colorbar": {
              "outlinewidth": 0,
              "ticks": ""
             }
            },
            "type": "scattermapbox"
           }
          ],
          "scatterpolar": [
           {
            "marker": {
             "colorbar": {
              "outlinewidth": 0,
              "ticks": ""
             }
            },
            "type": "scatterpolar"
           }
          ],
          "scatterpolargl": [
           {
            "marker": {
             "colorbar": {
              "outlinewidth": 0,
              "ticks": ""
             }
            },
            "type": "scatterpolargl"
           }
          ],
          "scatterternary": [
           {
            "marker": {
             "colorbar": {
              "outlinewidth": 0,
              "ticks": ""
             }
            },
            "type": "scatterternary"
           }
          ],
          "surface": [
           {
            "colorbar": {
             "outlinewidth": 0,
             "ticks": ""
            },
            "colorscale": [
             [
              0,
              "#0d0887"
             ],
             [
              0.1111111111111111,
              "#46039f"
             ],
             [
              0.2222222222222222,
              "#7201a8"
             ],
             [
              0.3333333333333333,
              "#9c179e"
             ],
             [
              0.4444444444444444,
              "#bd3786"
             ],
             [
              0.5555555555555556,
              "#d8576b"
             ],
             [
              0.6666666666666666,
              "#ed7953"
             ],
             [
              0.7777777777777778,
              "#fb9f3a"
             ],
             [
              0.8888888888888888,
              "#fdca26"
             ],
             [
              1,
              "#f0f921"
             ]
            ],
            "type": "surface"
           }
          ],
          "table": [
           {
            "cells": {
             "fill": {
              "color": "#EBF0F8"
             },
             "line": {
              "color": "white"
             }
            },
            "header": {
             "fill": {
              "color": "#C8D4E3"
             },
             "line": {
              "color": "white"
             }
            },
            "type": "table"
           }
          ]
         },
         "layout": {
          "annotationdefaults": {
           "arrowcolor": "#2a3f5f",
           "arrowhead": 0,
           "arrowwidth": 1
          },
          "autotypenumbers": "strict",
          "coloraxis": {
           "colorbar": {
            "outlinewidth": 0,
            "ticks": ""
           }
          },
          "colorscale": {
           "diverging": [
            [
             0,
             "#8e0152"
            ],
            [
             0.1,
             "#c51b7d"
            ],
            [
             0.2,
             "#de77ae"
            ],
            [
             0.3,
             "#f1b6da"
            ],
            [
             0.4,
             "#fde0ef"
            ],
            [
             0.5,
             "#f7f7f7"
            ],
            [
             0.6,
             "#e6f5d0"
            ],
            [
             0.7,
             "#b8e186"
            ],
            [
             0.8,
             "#7fbc41"
            ],
            [
             0.9,
             "#4d9221"
            ],
            [
             1,
             "#276419"
            ]
           ],
           "sequential": [
            [
             0,
             "#0d0887"
            ],
            [
             0.1111111111111111,
             "#46039f"
            ],
            [
             0.2222222222222222,
             "#7201a8"
            ],
            [
             0.3333333333333333,
             "#9c179e"
            ],
            [
             0.4444444444444444,
             "#bd3786"
            ],
            [
             0.5555555555555556,
             "#d8576b"
            ],
            [
             0.6666666666666666,
             "#ed7953"
            ],
            [
             0.7777777777777778,
             "#fb9f3a"
            ],
            [
             0.8888888888888888,
             "#fdca26"
            ],
            [
             1,
             "#f0f921"
            ]
           ],
           "sequentialminus": [
            [
             0,
             "#0d0887"
            ],
            [
             0.1111111111111111,
             "#46039f"
            ],
            [
             0.2222222222222222,
             "#7201a8"
            ],
            [
             0.3333333333333333,
             "#9c179e"
            ],
            [
             0.4444444444444444,
             "#bd3786"
            ],
            [
             0.5555555555555556,
             "#d8576b"
            ],
            [
             0.6666666666666666,
             "#ed7953"
            ],
            [
             0.7777777777777778,
             "#fb9f3a"
            ],
            [
             0.8888888888888888,
             "#fdca26"
            ],
            [
             1,
             "#f0f921"
            ]
           ]
          },
          "colorway": [
           "#636efa",
           "#EF553B",
           "#00cc96",
           "#ab63fa",
           "#FFA15A",
           "#19d3f3",
           "#FF6692",
           "#B6E880",
           "#FF97FF",
           "#FECB52"
          ],
          "font": {
           "color": "#2a3f5f"
          },
          "geo": {
           "bgcolor": "white",
           "lakecolor": "white",
           "landcolor": "#E5ECF6",
           "showlakes": true,
           "showland": true,
           "subunitcolor": "white"
          },
          "hoverlabel": {
           "align": "left"
          },
          "hovermode": "closest",
          "mapbox": {
           "style": "light"
          },
          "paper_bgcolor": "white",
          "plot_bgcolor": "#E5ECF6",
          "polar": {
           "angularaxis": {
            "gridcolor": "white",
            "linecolor": "white",
            "ticks": ""
           },
           "bgcolor": "#E5ECF6",
           "radialaxis": {
            "gridcolor": "white",
            "linecolor": "white",
            "ticks": ""
           }
          },
          "scene": {
           "xaxis": {
            "backgroundcolor": "#E5ECF6",
            "gridcolor": "white",
            "gridwidth": 2,
            "linecolor": "white",
            "showbackground": true,
            "ticks": "",
            "zerolinecolor": "white"
           },
           "yaxis": {
            "backgroundcolor": "#E5ECF6",
            "gridcolor": "white",
            "gridwidth": 2,
            "linecolor": "white",
            "showbackground": true,
            "ticks": "",
            "zerolinecolor": "white"
           },
           "zaxis": {
            "backgroundcolor": "#E5ECF6",
            "gridcolor": "white",
            "gridwidth": 2,
            "linecolor": "white",
            "showbackground": true,
            "ticks": "",
            "zerolinecolor": "white"
           }
          },
          "shapedefaults": {
           "line": {
            "color": "#2a3f5f"
           }
          },
          "ternary": {
           "aaxis": {
            "gridcolor": "white",
            "linecolor": "white",
            "ticks": ""
           },
           "baxis": {
            "gridcolor": "white",
            "linecolor": "white",
            "ticks": ""
           },
           "bgcolor": "#E5ECF6",
           "caxis": {
            "gridcolor": "white",
            "linecolor": "white",
            "ticks": ""
           }
          },
          "title": {
           "x": 0.05
          },
          "xaxis": {
           "automargin": true,
           "gridcolor": "white",
           "linecolor": "white",
           "ticks": "",
           "title": {
            "standoff": 15
           },
           "zerolinecolor": "white",
           "zerolinewidth": 2
          },
          "yaxis": {
           "automargin": true,
           "gridcolor": "white",
           "linecolor": "white",
           "ticks": "",
           "title": {
            "standoff": 15
           },
           "zerolinecolor": "white",
           "zerolinewidth": 2
          }
         }
        },
        "title": {
         "text": "Evolution of movies influence baby on names per season of release"
        },
        "xaxis": {
         "range": [
          1900,
          2020
         ],
         "title": {
          "text": "Year"
         }
        },
        "yaxis": {
         "title": {
          "text": "Average magnitude influence"
         }
        }
       }
      }
     },
     "metadata": {},
     "output_type": "display_data"
    }
   ],
   "source": [
    "# Create the main figure\n",
    "fig = go.Figure()\n",
    "\n",
    "# Define the main line plot for each season\n",
    "seasons = ['Summer', 'Fall', 'Winter', 'Spring']\n",
    "colors = ['red', 'orange', 'blue', 'green']\n",
    "data = [summer_movies_df_sorted, fall_movies_df_sorted, winter_movies_df_sorted, spring_movies_df_sorted]\n",
    "\n",
    "for i, season in enumerate(seasons):\n",
    "    main_trace = go.Scatter(\n",
    "        x=data[i]['year'],  \n",
    "        y=data[i]['avg'],  \n",
    "        mode='lines+markers',\n",
    "        line_shape='linear',\n",
    "        name=season,\n",
    "        line=dict(color=colors[i]),\n",
    "        legendgroup=season,\n",
    "        #visible=(season == 'Summer')\n",
    "    )\n",
    "    \n",
    "    # Add the main line trace to the figure\n",
    "    fig.add_trace(main_trace)\n",
    "    \n",
    "    # Calculate confidence interval data\n",
    "    lower_ci = data[i]['avg'] - 1.96*data[i]['se'] \n",
    "    upper_ci = data[i]['avg'] + 1.96*data[i]['se']\n",
    "    \n",
    "    # Add the trace for confidence interval\n",
    "    ci_trace = go.Scatter(\n",
    "        x=data[i]['year'],\n",
    "        y=upper_ci,\n",
    "        mode='lines',\n",
    "        line=dict(color=colors[i], width=0),\n",
    "        name=f'{season} 95% CI',\n",
    "        showlegend=False,\n",
    "        legendgroup=season,\n",
    "        #visible=(season == 'Summer')\n",
    "    )\n",
    "    \n",
    "    fig.add_trace(ci_trace)\n",
    "    \n",
    "    # Add the filled area between the main line and confidence interval\n",
    "    fig.add_trace(go.Scatter(\n",
    "        x=data[i]['year'],\n",
    "        y=lower_ci,\n",
    "        mode='lines',\n",
    "        line=dict(color=colors[i], width=0),\n",
    "        name=f'{season} 95% CI',\n",
    "        fill='tonexty',\n",
    "        #fillcolor=f'rgba{((colors[i]), 0.2)}',\n",
    "        #showlegend=False,\n",
    "        #legendgroup=season\n",
    "        #visible=(season == 'Summer')\n",
    "    ))\n",
    "\n",
    "# Update the layout\n",
    "fig.update_layout(\n",
    "    title='Evolution of movies influence baby on names per season of release',\n",
    "    xaxis_title='Year',\n",
    "    yaxis_title='Average magnitude influence',\n",
    "    #yaxis=dict(type=\"log\"),\n",
    "    xaxis=dict(range=[1900, 2020])\n",
    ")\n",
    "\n",
    "\n",
    "# Show the figure\n",
    "fig.show()\n"
   ]
  },
  {
   "cell_type": "markdown",
   "metadata": {},
   "source": [
    "### Influence magnitude for each genre : timeline\n",
    "A question we can further dive into might be the possible covariates of movie genre on the month of release concerning the influence of moving on baby naming.\n",
    "\n",
    "Plot the mean magnitude slope change for each month (January - Decembre) for the 10 most represented movie genres in the dataset"
   ]
  },
  {
   "cell_type": "code",
   "execution_count": 149,
   "metadata": {},
   "outputs": [],
   "source": [
    "# First, aggregate dataframe with p_value with dataframe containing movie genre\n",
    "movie_genre_aggregate_df = name_by_movie_df.merge(movie_genres_df, how='left', left_on='wiki_ID', right_on='wiki_ID').copy(deep=True)\n",
    "movie_genre_aggregate_df.reset_index(inplace=True)"
   ]
  },
  {
   "cell_type": "code",
   "execution_count": 175,
   "metadata": {},
   "outputs": [
    {
     "data": {
      "text/html": [
       "<div>\n",
       "<style scoped>\n",
       "    .dataframe tbody tr th:only-of-type {\n",
       "        vertical-align: middle;\n",
       "    }\n",
       "\n",
       "    .dataframe tbody tr th {\n",
       "        vertical-align: top;\n",
       "    }\n",
       "\n",
       "    .dataframe thead th {\n",
       "        text-align: right;\n",
       "    }\n",
       "</style>\n",
       "<table border=\"1\" class=\"dataframe\">\n",
       "  <thead>\n",
       "    <tr style=\"text-align: right;\">\n",
       "      <th></th>\n",
       "      <th>wiki_ID</th>\n",
       "      <th>char_words</th>\n",
       "      <th>order</th>\n",
       "      <th>gender</th>\n",
       "      <th>t_stat</th>\n",
       "      <th>p_value</th>\n",
       "      <th>slope_change</th>\n",
       "      <th>genre</th>\n",
       "      <th>mov_name</th>\n",
       "      <th>year</th>\n",
       "      <th>month</th>\n",
       "      <th>revenue</th>\n",
       "      <th>numVotes</th>\n",
       "      <th>averageRating</th>\n",
       "    </tr>\n",
       "  </thead>\n",
       "  <tbody>\n",
       "    <tr>\n",
       "      <th>316791</th>\n",
       "      <td>3524655</td>\n",
       "      <td>Peter</td>\n",
       "      <td>2.0</td>\n",
       "      <td>M</td>\n",
       "      <td>-0.990856</td>\n",
       "      <td>0.343052</td>\n",
       "      <td>0.002462</td>\n",
       "      <td>Supernatural</td>\n",
       "      <td>Scoop</td>\n",
       "      <td>2006</td>\n",
       "      <td>7.0</td>\n",
       "      <td>39215642.0</td>\n",
       "      <td>86681</td>\n",
       "      <td>6.6</td>\n",
       "    </tr>\n",
       "    <tr>\n",
       "      <th>173047</th>\n",
       "      <td>1164544</td>\n",
       "      <td>Ginny</td>\n",
       "      <td>5.0</td>\n",
       "      <td>F</td>\n",
       "      <td>-0.972006</td>\n",
       "      <td>0.351936</td>\n",
       "      <td>0.000110</td>\n",
       "      <td>Psychological thriller</td>\n",
       "      <td>Identity</td>\n",
       "      <td>2003</td>\n",
       "      <td>4.0</td>\n",
       "      <td>90259536.0</td>\n",
       "      <td>261937</td>\n",
       "      <td>7.3</td>\n",
       "    </tr>\n",
       "  </tbody>\n",
       "</table>\n",
       "</div>"
      ],
      "text/plain": [
       "        wiki_ID char_words  order gender    t_stat   p_value  slope_change  \\\n",
       "316791  3524655      Peter    2.0      M -0.990856  0.343052      0.002462   \n",
       "173047  1164544      Ginny    5.0      F -0.972006  0.351936      0.000110   \n",
       "\n",
       "                         genre  mov_name  year  month     revenue  numVotes  \\\n",
       "316791            Supernatural     Scoop  2006    7.0  39215642.0     86681   \n",
       "173047  Psychological thriller  Identity  2003    4.0  90259536.0    261937   \n",
       "\n",
       "        averageRating  \n",
       "316791            6.6  \n",
       "173047            7.3  "
      ]
     },
     "metadata": {},
     "output_type": "display_data"
    }
   ],
   "source": [
    "# Merge dataframe so that we have the genre of a movie, \n",
    "# with its month of release and p_value/slope change\n",
    "movie_genre_caracteristics_aggregate_df = movie_genre_aggregate_df.merge(movie_df, how='left', left_on='wiki_ID', right_on='wiki_ID')\n",
    "display(movie_genre_caracteristics_aggregate_df.sample(2))"
   ]
  },
  {
   "cell_type": "code",
   "execution_count": 176,
   "metadata": {},
   "outputs": [
    {
     "data": {
      "text/plain": [
       "Index(['Drama', 'Comedy', 'Romance Film', 'Thriller', 'Action'], dtype='object', name='genre')"
      ]
     },
     "metadata": {},
     "output_type": "display_data"
    }
   ],
   "source": [
    "# Select 5 most represented movie genre in ths dataset\n",
    "most_representative_genre = movie_genres_df['genre'].value_counts().nlargest(5).index\n",
    "display(most_representative_genre)\n"
   ]
  },
  {
   "cell_type": "code",
   "execution_count": 177,
   "metadata": {},
   "outputs": [
    {
     "data": {
      "text/html": [
       "<div>\n",
       "<style scoped>\n",
       "    .dataframe tbody tr th:only-of-type {\n",
       "        vertical-align: middle;\n",
       "    }\n",
       "\n",
       "    .dataframe tbody tr th {\n",
       "        vertical-align: top;\n",
       "    }\n",
       "\n",
       "    .dataframe thead th {\n",
       "        text-align: right;\n",
       "    }\n",
       "</style>\n",
       "<table border=\"1\" class=\"dataframe\">\n",
       "  <thead>\n",
       "    <tr style=\"text-align: right;\">\n",
       "      <th></th>\n",
       "      <th></th>\n",
       "      <th>avg_slope_change_significant_per_month</th>\n",
       "      <th>se_slope_change_significant_per_month</th>\n",
       "      <th>avg_mag_slope_change_significant_per_month</th>\n",
       "      <th>se_mag_slope_change_significant_per_month</th>\n",
       "    </tr>\n",
       "    <tr>\n",
       "      <th>genre</th>\n",
       "      <th>month</th>\n",
       "      <th></th>\n",
       "      <th></th>\n",
       "      <th></th>\n",
       "      <th></th>\n",
       "    </tr>\n",
       "  </thead>\n",
       "  <tbody>\n",
       "    <tr>\n",
       "      <th>Action</th>\n",
       "      <th>4.0</th>\n",
       "      <td>0.001943</td>\n",
       "      <td>0.001682</td>\n",
       "      <td>0.012363</td>\n",
       "      <td>0.001469</td>\n",
       "    </tr>\n",
       "    <tr>\n",
       "      <th>Comedy</th>\n",
       "      <th>7.0</th>\n",
       "      <td>0.002748</td>\n",
       "      <td>0.001404</td>\n",
       "      <td>0.014329</td>\n",
       "      <td>0.001220</td>\n",
       "    </tr>\n",
       "  </tbody>\n",
       "</table>\n",
       "</div>"
      ],
      "text/plain": [
       "              avg_slope_change_significant_per_month  \\\n",
       "genre  month                                           \n",
       "Action 4.0                                  0.001943   \n",
       "Comedy 7.0                                  0.002748   \n",
       "\n",
       "              se_slope_change_significant_per_month  \\\n",
       "genre  month                                          \n",
       "Action 4.0                                 0.001682   \n",
       "Comedy 7.0                                 0.001404   \n",
       "\n",
       "              avg_mag_slope_change_significant_per_month  \\\n",
       "genre  month                                               \n",
       "Action 4.0                                      0.012363   \n",
       "Comedy 7.0                                      0.014329   \n",
       "\n",
       "              se_mag_slope_change_significant_per_month  \n",
       "genre  month                                             \n",
       "Action 4.0                                     0.001469  \n",
       "Comedy 7.0                                     0.001220  "
      ]
     },
     "metadata": {},
     "output_type": "display_data"
    }
   ],
   "source": [
    "influence_per_month_per_genre_df = movie_genre_caracteristics_aggregate_df[(movie_genre_caracteristics_aggregate_df['p_value']<alpha) & (movie_genre_aggregate_df['genre'].isin(most_representative_genre))].groupby(['genre','month']).apply(lambda x: pd.Series ({\n",
    "    'avg_slope_change_significant_per_month': x['slope_change'].mean(),\n",
    "    'se_slope_change_significant_per_month': x['slope_change'].sem(),\n",
    "    'avg_mag_slope_change_significant_per_month': x['slope_change'].abs().mean(),\n",
    "    'se_mag_slope_change_significant_per_month': x['slope_change'].abs().sem()\n",
    "}))\n",
    "\n",
    "display(influence_per_month_per_genre_df.sample(2))"
   ]
  },
  {
   "cell_type": "code",
   "execution_count": 179,
   "metadata": {},
   "outputs": [
    {
     "data": {
      "application/vnd.plotly.v1+json": {
       "config": {
        "plotlyServerURL": "https://plot.ly"
       },
       "data": [
        {
         "legendgroup": "Drama",
         "line": {
          "color": "brown",
          "shape": "linear"
         },
         "mode": "lines+markers",
         "name": "Drama",
         "type": "scatter",
         "x": [
          1,
          2,
          3,
          4,
          5,
          6,
          7,
          8,
          9,
          10,
          11,
          12
         ],
         "y": [
          0.012211239666753517,
          0.014373430013495824,
          0.013867897023185098,
          0.013382711441259892,
          0.013754338565695412,
          0.014791570804181246,
          0.014637336894654384,
          0.01361985347741331,
          0.012430672679588339,
          0.014519794371023981,
          0.014274083030712667,
          0.013152737393456541
         ]
        },
        {
         "legendgroup": "Drama",
         "line": {
          "color": "brown",
          "width": 0
         },
         "mode": "lines",
         "name": "Drama 95% CI",
         "showlegend": false,
         "type": "scatter",
         "x": [
          1,
          2,
          3,
          4,
          5,
          6,
          7,
          8,
          9,
          10,
          11,
          12
         ],
         "y": [
          0.013482302385434892,
          0.0162531075378902,
          0.015535765423827003,
          0.015143323609605809,
          0.01519893973458704,
          0.016718137334106813,
          0.016720979537213198,
          0.015387909441267195,
          0.013507752526594339,
          0.01606794631476897,
          0.016171110359288043,
          0.014788722325310958
         ]
        },
        {
         "fill": "tonexty",
         "legendgroup": "Drama",
         "line": {
          "color": "brown",
          "width": 0
         },
         "mode": "lines",
         "name": "Drama 95% CI",
         "type": "scatter",
         "x": [
          1,
          2,
          3,
          4,
          5,
          6,
          7,
          8,
          9,
          10,
          11,
          12
         ],
         "y": [
          0.010940176948072143,
          0.012493752489101447,
          0.012200028622543194,
          0.011622099272913975,
          0.012309737396803784,
          0.01286500427425568,
          0.01255369425209557,
          0.011851797513559425,
          0.011353592832582339,
          0.012971642427278992,
          0.01237705570213729,
          0.011516752461602124
         ]
        },
        {
         "legendgroup": "Comedy",
         "line": {
          "color": "lightgreen",
          "shape": "linear"
         },
         "mode": "lines+markers",
         "name": "Comedy",
         "type": "scatter",
         "x": [
          1,
          2,
          3,
          4,
          5,
          6,
          7,
          8,
          9,
          10,
          11,
          12
         ],
         "y": [
          0.010870229542577891,
          0.015628378680708568,
          0.012538670305101479,
          0.013030622573757417,
          0.014661805895596422,
          0.013259564499092928,
          0.014328887891828259,
          0.012600788645057448,
          0.011788626818004092,
          0.014212008050103727,
          0.012907966473397666,
          0.012776499152669044
         ]
        },
        {
         "legendgroup": "Comedy",
         "line": {
          "color": "lightgreen",
          "width": 0
         },
         "mode": "lines",
         "name": "Comedy 95% CI",
         "showlegend": false,
         "type": "scatter",
         "x": [
          1,
          2,
          3,
          4,
          5,
          6,
          7,
          8,
          9,
          10,
          11,
          12
         ],
         "y": [
          0.01233505669873234,
          0.018523963372377383,
          0.01472992321080369,
          0.015062905569320651,
          0.016936242269573545,
          0.015470726838975431,
          0.0167206980233636,
          0.014082810384316021,
          0.013449820614234945,
          0.016568859576487273,
          0.014958741949817438,
          0.014720415435176217
         ]
        },
        {
         "fill": "tonexty",
         "legendgroup": "Comedy",
         "line": {
          "color": "lightgreen",
          "width": 0
         },
         "mode": "lines",
         "name": "Comedy 95% CI",
         "type": "scatter",
         "x": [
          1,
          2,
          3,
          4,
          5,
          6,
          7,
          8,
          9,
          10,
          11,
          12
         ],
         "y": [
          0.009405402386423442,
          0.012732793989039752,
          0.010347417399399268,
          0.010998339578194183,
          0.012387369521619299,
          0.011048402159210425,
          0.01193707776029292,
          0.011118766905798876,
          0.010127433021773238,
          0.011855156523720182,
          0.010857190996977895,
          0.010832582870161872
         ]
        },
        {
         "legendgroup": "Romance Film",
         "line": {
          "color": "pink",
          "shape": "linear"
         },
         "mode": "lines+markers",
         "name": "Romance Film",
         "type": "scatter",
         "x": [
          1,
          2,
          3,
          4,
          5,
          6,
          7,
          8,
          9,
          10,
          11,
          12
         ],
         "y": [
          0.011393553698181028,
          0.015793823680803242,
          0.013226463555082755,
          0.014281801317777152,
          0.01677279626168441,
          0.013134104905265545,
          0.013261084332897938,
          0.013322224347320506,
          0.012222632844647432,
          0.01402297939751573,
          0.013969180006949833,
          0.014199835037779603
         ]
        },
        {
         "legendgroup": "Romance Film",
         "line": {
          "color": "pink",
          "width": 0
         },
         "mode": "lines",
         "name": "Romance Film 95% CI",
         "showlegend": false,
         "type": "scatter",
         "x": [
          1,
          2,
          3,
          4,
          5,
          6,
          7,
          8,
          9,
          10,
          11,
          12
         ],
         "y": [
          0.013325471050843368,
          0.019132619423727987,
          0.015596698767341372,
          0.017165993047097258,
          0.019675524962303643,
          0.015469843993008374,
          0.015869932274157617,
          0.015748460630499877,
          0.014168954544078079,
          0.016827069460797595,
          0.016395776042241995,
          0.016876092853794655
         ]
        },
        {
         "fill": "tonexty",
         "legendgroup": "Romance Film",
         "line": {
          "color": "pink",
          "width": 0
         },
         "mode": "lines",
         "name": "Romance Film 95% CI",
         "type": "scatter",
         "x": [
          1,
          2,
          3,
          4,
          5,
          6,
          7,
          8,
          9,
          10,
          11,
          12
         ],
         "y": [
          0.009461636345518687,
          0.0124550279378785,
          0.010856228342824138,
          0.011397609588457045,
          0.013870067561065177,
          0.010798365817522717,
          0.010652236391638259,
          0.010895988064141136,
          0.010276311145216786,
          0.011218889334233866,
          0.011542583971657668,
          0.011523577221764551
         ]
        },
        {
         "legendgroup": "Thriller",
         "line": {
          "color": "green",
          "shape": "linear"
         },
         "mode": "lines+markers",
         "name": "Thriller",
         "type": "scatter",
         "x": [
          1,
          2,
          3,
          4,
          5,
          6,
          7,
          8,
          9,
          10,
          11,
          12
         ],
         "y": [
          0.011280956944847636,
          0.00985896245724605,
          0.014773276576268722,
          0.013160900649907142,
          0.011619110877997144,
          0.014126932565937233,
          0.01227879147336699,
          0.014618011068097262,
          0.012391952255918333,
          0.013591186108062777,
          0.014903780790545848,
          0.015902165058346154
         ]
        },
        {
         "legendgroup": "Thriller",
         "line": {
          "color": "green",
          "width": 0
         },
         "mode": "lines",
         "name": "Thriller 95% CI",
         "showlegend": false,
         "type": "scatter",
         "x": [
          1,
          2,
          3,
          4,
          5,
          6,
          7,
          8,
          9,
          10,
          11,
          12
         ],
         "y": [
          0.012748198197389992,
          0.011262601812987851,
          0.017424360663814496,
          0.01563123004450608,
          0.013246700720106237,
          0.01643539120745899,
          0.014573876289661846,
          0.01734859435701368,
          0.013874263214472536,
          0.015295980844954794,
          0.017424806576000054,
          0.019350561094664636
         ]
        },
        {
         "fill": "tonexty",
         "legendgroup": "Thriller",
         "line": {
          "color": "green",
          "width": 0
         },
         "mode": "lines",
         "name": "Thriller 95% CI",
         "type": "scatter",
         "x": [
          1,
          2,
          3,
          4,
          5,
          6,
          7,
          8,
          9,
          10,
          11,
          12
         ],
         "y": [
          0.00981371569230528,
          0.00845532310150425,
          0.012122192488722946,
          0.010690571255308205,
          0.009991521035888051,
          0.011818473924415474,
          0.009983706657072135,
          0.011887427779180844,
          0.01090964129736413,
          0.01188639137117076,
          0.01238275500509164,
          0.012453769022027671
         ]
        },
        {
         "legendgroup": "Action",
         "line": {
          "color": "blue",
          "shape": "linear"
         },
         "mode": "lines+markers",
         "name": "Action",
         "type": "scatter",
         "x": [
          1,
          2,
          3,
          4,
          5,
          6,
          7,
          8,
          9,
          10,
          11,
          12
         ],
         "y": [
          0.011862978650044974,
          0.011917536323850914,
          0.015558436763209168,
          0.012363026786848507,
          0.013626525203843352,
          0.01464071835190919,
          0.011586194696728407,
          0.01198050794209505,
          0.011729839918637837,
          0.01439436263663253,
          0.013174800145478735,
          0.013903171350686321
         ]
        },
        {
         "legendgroup": "Action",
         "line": {
          "color": "blue",
          "width": 0
         },
         "mode": "lines",
         "name": "Action 95% CI",
         "showlegend": false,
         "type": "scatter",
         "x": [
          1,
          2,
          3,
          4,
          5,
          6,
          7,
          8,
          9,
          10,
          11,
          12
         ],
         "y": [
          0.014148301649299852,
          0.014225361423000116,
          0.018848792630721412,
          0.01524138723445953,
          0.016519529541960072,
          0.017190391458160315,
          0.013475761946504506,
          0.013999146172816435,
          0.013688312454734744,
          0.017247432628952685,
          0.015477833768709464,
          0.01818229337319366
         ]
        },
        {
         "fill": "tonexty",
         "legendgroup": "Action",
         "line": {
          "color": "blue",
          "width": 0
         },
         "mode": "lines",
         "name": "Action 95% CI",
         "type": "scatter",
         "x": [
          1,
          2,
          3,
          4,
          5,
          6,
          7,
          8,
          9,
          10,
          11,
          12
         ],
         "y": [
          0.009577655650790096,
          0.009609711224701712,
          0.012268080895696925,
          0.009484666339237485,
          0.010733520865726633,
          0.012091045245658067,
          0.009696627446952308,
          0.009961869711373663,
          0.009771367382540929,
          0.011541292644312378,
          0.010871766522248007,
          0.009624049328178985
         ]
        }
       ],
       "layout": {
        "template": {
         "data": {
          "bar": [
           {
            "error_x": {
             "color": "#2a3f5f"
            },
            "error_y": {
             "color": "#2a3f5f"
            },
            "marker": {
             "line": {
              "color": "#E5ECF6",
              "width": 0.5
             },
             "pattern": {
              "fillmode": "overlay",
              "size": 10,
              "solidity": 0.2
             }
            },
            "type": "bar"
           }
          ],
          "barpolar": [
           {
            "marker": {
             "line": {
              "color": "#E5ECF6",
              "width": 0.5
             },
             "pattern": {
              "fillmode": "overlay",
              "size": 10,
              "solidity": 0.2
             }
            },
            "type": "barpolar"
           }
          ],
          "carpet": [
           {
            "aaxis": {
             "endlinecolor": "#2a3f5f",
             "gridcolor": "white",
             "linecolor": "white",
             "minorgridcolor": "white",
             "startlinecolor": "#2a3f5f"
            },
            "baxis": {
             "endlinecolor": "#2a3f5f",
             "gridcolor": "white",
             "linecolor": "white",
             "minorgridcolor": "white",
             "startlinecolor": "#2a3f5f"
            },
            "type": "carpet"
           }
          ],
          "choropleth": [
           {
            "colorbar": {
             "outlinewidth": 0,
             "ticks": ""
            },
            "type": "choropleth"
           }
          ],
          "contour": [
           {
            "colorbar": {
             "outlinewidth": 0,
             "ticks": ""
            },
            "colorscale": [
             [
              0,
              "#0d0887"
             ],
             [
              0.1111111111111111,
              "#46039f"
             ],
             [
              0.2222222222222222,
              "#7201a8"
             ],
             [
              0.3333333333333333,
              "#9c179e"
             ],
             [
              0.4444444444444444,
              "#bd3786"
             ],
             [
              0.5555555555555556,
              "#d8576b"
             ],
             [
              0.6666666666666666,
              "#ed7953"
             ],
             [
              0.7777777777777778,
              "#fb9f3a"
             ],
             [
              0.8888888888888888,
              "#fdca26"
             ],
             [
              1,
              "#f0f921"
             ]
            ],
            "type": "contour"
           }
          ],
          "contourcarpet": [
           {
            "colorbar": {
             "outlinewidth": 0,
             "ticks": ""
            },
            "type": "contourcarpet"
           }
          ],
          "heatmap": [
           {
            "colorbar": {
             "outlinewidth": 0,
             "ticks": ""
            },
            "colorscale": [
             [
              0,
              "#0d0887"
             ],
             [
              0.1111111111111111,
              "#46039f"
             ],
             [
              0.2222222222222222,
              "#7201a8"
             ],
             [
              0.3333333333333333,
              "#9c179e"
             ],
             [
              0.4444444444444444,
              "#bd3786"
             ],
             [
              0.5555555555555556,
              "#d8576b"
             ],
             [
              0.6666666666666666,
              "#ed7953"
             ],
             [
              0.7777777777777778,
              "#fb9f3a"
             ],
             [
              0.8888888888888888,
              "#fdca26"
             ],
             [
              1,
              "#f0f921"
             ]
            ],
            "type": "heatmap"
           }
          ],
          "heatmapgl": [
           {
            "colorbar": {
             "outlinewidth": 0,
             "ticks": ""
            },
            "colorscale": [
             [
              0,
              "#0d0887"
             ],
             [
              0.1111111111111111,
              "#46039f"
             ],
             [
              0.2222222222222222,
              "#7201a8"
             ],
             [
              0.3333333333333333,
              "#9c179e"
             ],
             [
              0.4444444444444444,
              "#bd3786"
             ],
             [
              0.5555555555555556,
              "#d8576b"
             ],
             [
              0.6666666666666666,
              "#ed7953"
             ],
             [
              0.7777777777777778,
              "#fb9f3a"
             ],
             [
              0.8888888888888888,
              "#fdca26"
             ],
             [
              1,
              "#f0f921"
             ]
            ],
            "type": "heatmapgl"
           }
          ],
          "histogram": [
           {
            "marker": {
             "pattern": {
              "fillmode": "overlay",
              "size": 10,
              "solidity": 0.2
             }
            },
            "type": "histogram"
           }
          ],
          "histogram2d": [
           {
            "colorbar": {
             "outlinewidth": 0,
             "ticks": ""
            },
            "colorscale": [
             [
              0,
              "#0d0887"
             ],
             [
              0.1111111111111111,
              "#46039f"
             ],
             [
              0.2222222222222222,
              "#7201a8"
             ],
             [
              0.3333333333333333,
              "#9c179e"
             ],
             [
              0.4444444444444444,
              "#bd3786"
             ],
             [
              0.5555555555555556,
              "#d8576b"
             ],
             [
              0.6666666666666666,
              "#ed7953"
             ],
             [
              0.7777777777777778,
              "#fb9f3a"
             ],
             [
              0.8888888888888888,
              "#fdca26"
             ],
             [
              1,
              "#f0f921"
             ]
            ],
            "type": "histogram2d"
           }
          ],
          "histogram2dcontour": [
           {
            "colorbar": {
             "outlinewidth": 0,
             "ticks": ""
            },
            "colorscale": [
             [
              0,
              "#0d0887"
             ],
             [
              0.1111111111111111,
              "#46039f"
             ],
             [
              0.2222222222222222,
              "#7201a8"
             ],
             [
              0.3333333333333333,
              "#9c179e"
             ],
             [
              0.4444444444444444,
              "#bd3786"
             ],
             [
              0.5555555555555556,
              "#d8576b"
             ],
             [
              0.6666666666666666,
              "#ed7953"
             ],
             [
              0.7777777777777778,
              "#fb9f3a"
             ],
             [
              0.8888888888888888,
              "#fdca26"
             ],
             [
              1,
              "#f0f921"
             ]
            ],
            "type": "histogram2dcontour"
           }
          ],
          "mesh3d": [
           {
            "colorbar": {
             "outlinewidth": 0,
             "ticks": ""
            },
            "type": "mesh3d"
           }
          ],
          "parcoords": [
           {
            "line": {
             "colorbar": {
              "outlinewidth": 0,
              "ticks": ""
             }
            },
            "type": "parcoords"
           }
          ],
          "pie": [
           {
            "automargin": true,
            "type": "pie"
           }
          ],
          "scatter": [
           {
            "fillpattern": {
             "fillmode": "overlay",
             "size": 10,
             "solidity": 0.2
            },
            "type": "scatter"
           }
          ],
          "scatter3d": [
           {
            "line": {
             "colorbar": {
              "outlinewidth": 0,
              "ticks": ""
             }
            },
            "marker": {
             "colorbar": {
              "outlinewidth": 0,
              "ticks": ""
             }
            },
            "type": "scatter3d"
           }
          ],
          "scattercarpet": [
           {
            "marker": {
             "colorbar": {
              "outlinewidth": 0,
              "ticks": ""
             }
            },
            "type": "scattercarpet"
           }
          ],
          "scattergeo": [
           {
            "marker": {
             "colorbar": {
              "outlinewidth": 0,
              "ticks": ""
             }
            },
            "type": "scattergeo"
           }
          ],
          "scattergl": [
           {
            "marker": {
             "colorbar": {
              "outlinewidth": 0,
              "ticks": ""
             }
            },
            "type": "scattergl"
           }
          ],
          "scattermapbox": [
           {
            "marker": {
             "colorbar": {
              "outlinewidth": 0,
              "ticks": ""
             }
            },
            "type": "scattermapbox"
           }
          ],
          "scatterpolar": [
           {
            "marker": {
             "colorbar": {
              "outlinewidth": 0,
              "ticks": ""
             }
            },
            "type": "scatterpolar"
           }
          ],
          "scatterpolargl": [
           {
            "marker": {
             "colorbar": {
              "outlinewidth": 0,
              "ticks": ""
             }
            },
            "type": "scatterpolargl"
           }
          ],
          "scatterternary": [
           {
            "marker": {
             "colorbar": {
              "outlinewidth": 0,
              "ticks": ""
             }
            },
            "type": "scatterternary"
           }
          ],
          "surface": [
           {
            "colorbar": {
             "outlinewidth": 0,
             "ticks": ""
            },
            "colorscale": [
             [
              0,
              "#0d0887"
             ],
             [
              0.1111111111111111,
              "#46039f"
             ],
             [
              0.2222222222222222,
              "#7201a8"
             ],
             [
              0.3333333333333333,
              "#9c179e"
             ],
             [
              0.4444444444444444,
              "#bd3786"
             ],
             [
              0.5555555555555556,
              "#d8576b"
             ],
             [
              0.6666666666666666,
              "#ed7953"
             ],
             [
              0.7777777777777778,
              "#fb9f3a"
             ],
             [
              0.8888888888888888,
              "#fdca26"
             ],
             [
              1,
              "#f0f921"
             ]
            ],
            "type": "surface"
           }
          ],
          "table": [
           {
            "cells": {
             "fill": {
              "color": "#EBF0F8"
             },
             "line": {
              "color": "white"
             }
            },
            "header": {
             "fill": {
              "color": "#C8D4E3"
             },
             "line": {
              "color": "white"
             }
            },
            "type": "table"
           }
          ]
         },
         "layout": {
          "annotationdefaults": {
           "arrowcolor": "#2a3f5f",
           "arrowhead": 0,
           "arrowwidth": 1
          },
          "autotypenumbers": "strict",
          "coloraxis": {
           "colorbar": {
            "outlinewidth": 0,
            "ticks": ""
           }
          },
          "colorscale": {
           "diverging": [
            [
             0,
             "#8e0152"
            ],
            [
             0.1,
             "#c51b7d"
            ],
            [
             0.2,
             "#de77ae"
            ],
            [
             0.3,
             "#f1b6da"
            ],
            [
             0.4,
             "#fde0ef"
            ],
            [
             0.5,
             "#f7f7f7"
            ],
            [
             0.6,
             "#e6f5d0"
            ],
            [
             0.7,
             "#b8e186"
            ],
            [
             0.8,
             "#7fbc41"
            ],
            [
             0.9,
             "#4d9221"
            ],
            [
             1,
             "#276419"
            ]
           ],
           "sequential": [
            [
             0,
             "#0d0887"
            ],
            [
             0.1111111111111111,
             "#46039f"
            ],
            [
             0.2222222222222222,
             "#7201a8"
            ],
            [
             0.3333333333333333,
             "#9c179e"
            ],
            [
             0.4444444444444444,
             "#bd3786"
            ],
            [
             0.5555555555555556,
             "#d8576b"
            ],
            [
             0.6666666666666666,
             "#ed7953"
            ],
            [
             0.7777777777777778,
             "#fb9f3a"
            ],
            [
             0.8888888888888888,
             "#fdca26"
            ],
            [
             1,
             "#f0f921"
            ]
           ],
           "sequentialminus": [
            [
             0,
             "#0d0887"
            ],
            [
             0.1111111111111111,
             "#46039f"
            ],
            [
             0.2222222222222222,
             "#7201a8"
            ],
            [
             0.3333333333333333,
             "#9c179e"
            ],
            [
             0.4444444444444444,
             "#bd3786"
            ],
            [
             0.5555555555555556,
             "#d8576b"
            ],
            [
             0.6666666666666666,
             "#ed7953"
            ],
            [
             0.7777777777777778,
             "#fb9f3a"
            ],
            [
             0.8888888888888888,
             "#fdca26"
            ],
            [
             1,
             "#f0f921"
            ]
           ]
          },
          "colorway": [
           "#636efa",
           "#EF553B",
           "#00cc96",
           "#ab63fa",
           "#FFA15A",
           "#19d3f3",
           "#FF6692",
           "#B6E880",
           "#FF97FF",
           "#FECB52"
          ],
          "font": {
           "color": "#2a3f5f"
          },
          "geo": {
           "bgcolor": "white",
           "lakecolor": "white",
           "landcolor": "#E5ECF6",
           "showlakes": true,
           "showland": true,
           "subunitcolor": "white"
          },
          "hoverlabel": {
           "align": "left"
          },
          "hovermode": "closest",
          "mapbox": {
           "style": "light"
          },
          "paper_bgcolor": "white",
          "plot_bgcolor": "#E5ECF6",
          "polar": {
           "angularaxis": {
            "gridcolor": "white",
            "linecolor": "white",
            "ticks": ""
           },
           "bgcolor": "#E5ECF6",
           "radialaxis": {
            "gridcolor": "white",
            "linecolor": "white",
            "ticks": ""
           }
          },
          "scene": {
           "xaxis": {
            "backgroundcolor": "#E5ECF6",
            "gridcolor": "white",
            "gridwidth": 2,
            "linecolor": "white",
            "showbackground": true,
            "ticks": "",
            "zerolinecolor": "white"
           },
           "yaxis": {
            "backgroundcolor": "#E5ECF6",
            "gridcolor": "white",
            "gridwidth": 2,
            "linecolor": "white",
            "showbackground": true,
            "ticks": "",
            "zerolinecolor": "white"
           },
           "zaxis": {
            "backgroundcolor": "#E5ECF6",
            "gridcolor": "white",
            "gridwidth": 2,
            "linecolor": "white",
            "showbackground": true,
            "ticks": "",
            "zerolinecolor": "white"
           }
          },
          "shapedefaults": {
           "line": {
            "color": "#2a3f5f"
           }
          },
          "ternary": {
           "aaxis": {
            "gridcolor": "white",
            "linecolor": "white",
            "ticks": ""
           },
           "baxis": {
            "gridcolor": "white",
            "linecolor": "white",
            "ticks": ""
           },
           "bgcolor": "#E5ECF6",
           "caxis": {
            "gridcolor": "white",
            "linecolor": "white",
            "ticks": ""
           }
          },
          "title": {
           "x": 0.05
          },
          "xaxis": {
           "automargin": true,
           "gridcolor": "white",
           "linecolor": "white",
           "ticks": "",
           "title": {
            "standoff": 15
           },
           "zerolinecolor": "white",
           "zerolinewidth": 2
          },
          "yaxis": {
           "automargin": true,
           "gridcolor": "white",
           "linecolor": "white",
           "ticks": "",
           "title": {
            "standoff": 15
           },
           "zerolinecolor": "white",
           "zerolinewidth": 2
          }
         }
        },
        "title": {
         "text": "Monthly evolution of movie genre influence"
        },
        "xaxis": {
         "title": {
          "text": "Months"
         }
        },
        "yaxis": {
         "title": {
          "text": "Average magnitude influence"
         }
        }
       }
      }
     },
     "metadata": {},
     "output_type": "display_data"
    }
   ],
   "source": [
    "# Create the main figure\n",
    "fig = go.Figure()\n",
    "\n",
    "# Define the main line plot for each season\n",
    "genres = most_representative_genre\n",
    "colors = ['brown', 'lightgreen', 'pink', 'green', 'blue']\n",
    "#data = [summer_movies_df_sorted, fall_movies_df_sorted, winter_movies_df_sorted, spring_movies_df_sorted]\n",
    "influence_per_month_per_genre_df.reset_index(inplace=True)\n",
    "\n",
    "\n",
    "for i, season in enumerate(genres):\n",
    "    data = influence_per_month_per_genre_df[influence_per_month_per_genre_df['genre'] == season]\n",
    "    main_trace = go.Scatter(\n",
    "        x=data['month'],  # Replace with the actual data\n",
    "        y=data['avg_mag_slope_change_significant_per_month'],  # Replace with the actual data\n",
    "        mode='lines+markers',\n",
    "        line_shape='linear',\n",
    "        name=season,\n",
    "        line=dict(color=colors[i]),\n",
    "        legendgroup=season,\n",
    "        #visible=(season == 'Summer')\n",
    "    )\n",
    "    \n",
    "    # Add the main line trace to the figure\n",
    "    fig.add_trace(main_trace)\n",
    "    \n",
    "    # Calculate confidence interval data\n",
    "    lower_ci = data['avg_mag_slope_change_significant_per_month'] - 1.96*data['se_mag_slope_change_significant_per_month']  # Replace with the actual data\n",
    "    upper_ci = data['avg_mag_slope_change_significant_per_month'] + 1.96*data['se_mag_slope_change_significant_per_month']  # Replace with the actual data\n",
    "    \n",
    "    # Add the trace for confidence interval\n",
    "    ci_trace = go.Scatter(\n",
    "        x=data['month'],  # Replace with the actual data\n",
    "        y=upper_ci,\n",
    "        mode='lines',\n",
    "        line=dict(color=colors[i], width=0),\n",
    "        name=f'{season} 95% CI',\n",
    "        showlegend=False,\n",
    "        legendgroup=season,\n",
    "        #visible=(season == 'Summer')\n",
    "    )\n",
    "    \n",
    "    fig.add_trace(ci_trace)\n",
    "    \n",
    "    # Add the filled area between the main line and confidence interval\n",
    "    fig.add_trace(go.Scatter(\n",
    "        x=data['month'],  # Replace with the actual data\n",
    "        y=lower_ci,\n",
    "        mode='lines',\n",
    "        line=dict(color=colors[i], width=0),\n",
    "        name=f'{season} 95% CI',\n",
    "        fill='tonexty',\n",
    "        # fillcolor=f'rgba{((colors[i]), 0.2)}',  # Adjust the transparency as needed\n",
    "        #showlegend=False,\n",
    "        legendgroup=season\n",
    "        #visible=(season == 'Summer')\n",
    "    ))\n",
    "\n",
    "# Update the layout\n",
    "fig.update_layout(\n",
    "    title='Monthly evolution of movie genre influence',\n",
    "    xaxis_title='Months',\n",
    "    yaxis_title='Average magnitude influence'\n",
    ")\n",
    "\n",
    "# Show the figure\n",
    "fig.show()\n"
   ]
  },
  {
   "cell_type": "markdown",
   "metadata": {},
   "source": [
    "# Question 2 :"
   ]
  },
  {
   "cell_type": "markdown",
   "metadata": {},
   "source": [
    "# Question 3 : Effect of movie's popularity on baby naming"
   ]
  },
  {
   "cell_type": "markdown",
   "metadata": {},
   "source": [
    "We have p_value and slope_change <br>\n",
    "p_value : represent how much we are certain about whether there is a variation or not <br>\n",
    "slope_change : represent the intensity of the variation <br>\n",
    "t_stat : we don't care, there it the slope change for that <br>\n",
    "\n",
    "problem 1 : older movies have less ratings and there are less old movies than recent movies. Therefore we have to take into account the period. <br>\n",
    "solution : proximity matching on the release year. Don't match characters of the same movie!!"
   ]
  },
  {
   "cell_type": "markdown",
   "metadata": {},
   "source": [
    "Step 1 : aggregate the two dataframe to create a dataframe containing all the movie character with the relative information about their movie"
   ]
  },
  {
   "cell_type": "code",
   "execution_count": null,
   "metadata": {},
   "outputs": [],
   "source": [
    "# add movie genre to the character dataframe\n",
    "name_by_movie_aggregate_genre_df = name_by_movie_aggregate_df.merge(movie_genres_df, how='left', on='wiki_ID').copy(deep=True)\n",
    "display(name_by_movie_aggregate_genre_df.sample(2))"
   ]
  },
  {
   "cell_type": "code",
   "execution_count": null,
   "metadata": {},
   "outputs": [],
   "source": [
    "# make a new unique index for each character\n",
    "name_by_movie_aggregate_genre_df.set_index(pd.Index(list(range(0,len(name_by_movie_aggregate_genre_df)))), inplace=True)\n",
    "display(name_by_movie_aggregate_genre_df.sample(2))"
   ]
  },
  {
   "cell_type": "code",
   "execution_count": null,
   "metadata": {},
   "outputs": [],
   "source": [
    "# keep only the rows with a p_value < 0.05\n",
    "name_by_movie_aggregate_genre_df = name_by_movie_aggregate_genre_df[name_by_movie_aggregate_genre_df['p_value'] < 0.05].copy(deep=True)"
   ]
  },
  {
   "cell_type": "code",
   "execution_count": null,
   "metadata": {},
   "outputs": [],
   "source": [
    "name_by_movie_aggregate_genre_df.dropna(subset=['order', 'numVotes', 'p_value', 'gender'], inplace=True)\n",
    "name_by_movie_aggregate_genre_df['order'] = name_by_movie_aggregate_genre_df['order'].astype(int)"
   ]
  },
  {
   "cell_type": "markdown",
   "metadata": {},
   "source": [
    "We need to encode the columns `gender` and `genre` because the KNN algorithm doesn't accept string values."
   ]
  },
  {
   "cell_type": "code",
   "execution_count": null,
   "metadata": {},
   "outputs": [],
   "source": [
    "# add a new column in name_by_movie_aggregate_genre_df that encode the movie genre\n",
    "name_by_movie_aggregate_genre_df['genre'] = name_by_movie_aggregate_genre_df['genre'].astype('category')\n",
    "name_by_movie_aggregate_genre_df['genre_code'] = name_by_movie_aggregate_genre_df['genre'].cat.codes\n",
    "\n",
    "# add a new column in name_by_movie_aggregate_genre_df that encode the gender column\n",
    "name_by_movie_aggregate_genre_df['gender'] = name_by_movie_aggregate_genre_df['gender'].astype('category')\n",
    "name_by_movie_aggregate_genre_df['gender_code'] = name_by_movie_aggregate_genre_df['gender'].cat.codes\n",
    "\n",
    "display(name_by_movie_aggregate_genre_df.sample(2))"
   ]
  },
  {
   "cell_type": "markdown",
   "metadata": {},
   "source": [
    "Step 2 : create treatment and control group with a separation of the character based on the median of the `numVotes` values"
   ]
  },
  {
   "cell_type": "code",
   "execution_count": null,
   "metadata": {},
   "outputs": [],
   "source": [
    "# separate the name_by_movie_aggregate_genre_df into two dataframes, one control and one treatment based on whether the attribute 'numVotes' is higher or lower than the median.\n",
    "q3_control_pop_df = name_by_movie_aggregate_genre_df[name_by_movie_aggregate_genre_df['numVotes'] < 500]\n",
    "q3_treatment_pop_df = name_by_movie_aggregate_genre_df[name_by_movie_aggregate_genre_df['numVotes'] >= 100000]\n",
    "\n",
    "# add a column to each dataframe that contains whether the character is in the control or treatment population\n",
    "q3_control_pop_df['is_treated'] = 0\n",
    "q3_treatment_pop_df['is_treated'] = 1\n",
    "\n",
    "display(q3_control_pop_df.sample(2))\n",
    "print(f\"Length of control population: {len(q3_control_pop_df)}\")\n",
    "display(q3_treatment_pop_df.sample(2))\n",
    "print(f\"Length of treatment population: {len(q3_treatment_pop_df)}\")\n"
   ]
  },
  {
   "cell_type": "markdown",
   "metadata": {},
   "source": [
    "Step 3 : matching"
   ]
  },
  {
   "cell_type": "code",
   "execution_count": null,
   "metadata": {},
   "outputs": [],
   "source": [
    "# Columns to use for matching\n",
    "matching_columns = ['order', 'year', 'genre_code', 'gender_code']\n",
    "# matching_columns = ['order', 'year', 'gender_code']\n",
    "\n",
    "# Initialize a list to store the matched pairs\n",
    "matched_pairs = []\n",
    "\n",
    "# Iterate through each row in the control dataframe\n",
    "for control_index, control_row in q3_control_pop_df.iterrows():\n",
    "    # Filter the treatment dataframe based on the matching columns\n",
    "    matching_rows = q3_treatment_pop_df[\n",
    "        (q3_treatment_pop_df[matching_columns] == control_row[matching_columns]).all(axis=1)\n",
    "    ]\n",
    "\n",
    "    # Check if there is a match\n",
    "    if not matching_rows.empty:\n",
    "        # Store the index of the matched pair\n",
    "        treatment_index = matching_rows.index[0]\n",
    "        matched_pairs.append((control_index, treatment_index))\n",
    "\n",
    "# Display the matched pairs\n",
    "print(\"Matched Pairs:\")\n",
    "print(matched_pairs) # control_index, treatment_index\n"
   ]
  },
  {
   "cell_type": "code",
   "execution_count": null,
   "metadata": {},
   "outputs": [],
   "source": [
    "# create a graph in order to avoid having the same index in two different pairs\n",
    "G = nx.Graph()\n",
    "\n",
    "for pair in matched_pairs:\n",
    "    G.add_edge(pair[0], pair[1])\n",
    "\n",
    "# Compute the best matching\n",
    "matching = nx.maximal_matching(G)\n",
    "\n",
    "print(f\"number of matched pairs: {len(matching)}\")"
   ]
  },
  {
   "cell_type": "code",
   "execution_count": null,
   "metadata": {},
   "outputs": [],
   "source": [
    "index_1 = [i[0] for i in list(matching)]\n",
    "index_2 = [i[1] for i in list(matching)]\n",
    "print(index_1)\n",
    "print(index_2)"
   ]
  },
  {
   "cell_type": "code",
   "execution_count": null,
   "metadata": {},
   "outputs": [],
   "source": [
    "# check the matching for a specific pair\n",
    "check_index = 200\n",
    "\n",
    "display(q3_control_pop_df.loc[index_1[check_index]])\n",
    "display(q3_treatment_pop_df.loc[index_2[check_index]])"
   ]
  },
  {
   "cell_type": "code",
   "execution_count": null,
   "metadata": {},
   "outputs": [],
   "source": [
    "# create the matched dataframe\n",
    "matched_control_df = q3_control_pop_df.loc[index_1].copy(deep=True)\n",
    "matched_treatment_df = q3_treatment_pop_df.loc[index_2].copy(deep=True)\n",
    "\n",
    "# concatenate the two dataframes\n",
    "matched_df = pd.concat([matched_control_df, matched_treatment_df], axis=0)\n",
    "display(matched_df.sample(2))"
   ]
  },
  {
   "cell_type": "code",
   "execution_count": null,
   "metadata": {},
   "outputs": [],
   "source": [
    "# Sample data\n",
    "# treatment_control = np.array([0, 1, 0 ,1])  # 0 represents control, 1 represents treatment\n",
    "# y_values = np.array([10, 20, 5, 15])  # Replace with your actual continuous y-values\n",
    "treatment_control = matched_df['is_treated'].values\n",
    "y_values = abs(matched_df['slope_change'].values)\n",
    "print(f\"\")\n",
    "\n",
    "# Reshape the data to meet the requirements of scikit-learn\n",
    "X = treatment_control.reshape(-1, 1)\n",
    "y = y_values.reshape(-1, 1)\n",
    "\n",
    "# Create a linear regression model\n",
    "model = LinearRegression()\n",
    "\n",
    "# Fit the model to the data\n",
    "model.fit(X, y)\n",
    "\n",
    "# Predict y-values based on the model\n",
    "y_pred = model.predict(X)\n",
    "\n",
    "# Plot the original data points\n",
    "plt.scatter(treatment_control, y_values, color='blue', label='Actual Data')\n",
    "\n",
    "# Plot the regression line\n",
    "plt.plot(treatment_control, y_pred, color='red', linewidth=2, label='Regression Line')\n",
    "\n",
    "# Add labels and legend\n",
    "plt.xlabel('Treatment or Control')\n",
    "plt.ylabel('Continuous Y Values')\n",
    "plt.legend()\n",
    "plt.yscale('log')\n",
    "\n",
    "# Show the plot\n",
    "plt.show()\n",
    "\n",
    "slope = model.coef_[0, 0]\n",
    "print(f\"slope = {slope}\")"
   ]
  },
  {
   "cell_type": "code",
   "execution_count": null,
   "metadata": {},
   "outputs": [],
   "source": [
    "name_by_movie_df"
   ]
  },
  {
   "cell_type": "markdown",
   "metadata": {},
   "source": [
    "# Question 4 : Character importance in the film\n",
    "In this section, we try to answer the question whether the importance of the character in the movie plays a role on the influence on baby names.\n",
    "\n",
    "First, let's plot the number of character played in a year with significant impact with respect to the importance in movie."
   ]
  },
  {
   "cell_type": "code",
   "execution_count": 203,
   "metadata": {},
   "outputs": [],
   "source": [
    "# count the number of significant characters per movie\n",
    "signi_count_per_order = name_by_movie_df[name_by_movie_df['p_value'] <= 0.05].reset_index().groupby(['order'])['wiki_ID'].count().copy(deep=True)"
   ]
  },
  {
   "cell_type": "code",
   "execution_count": 204,
   "metadata": {},
   "outputs": [
    {
     "data": {
      "application/vnd.plotly.v1+json": {
       "config": {
        "plotlyServerURL": "https://plot.ly"
       },
       "data": [
        {
         "line": {
          "color": "blue"
         },
         "mode": "lines",
         "name": "Significant Impact",
         "type": "scatter",
         "x": [
          0,
          1,
          2,
          3,
          4,
          5,
          6,
          7,
          8,
          9,
          10,
          11,
          12,
          13,
          14,
          15,
          16,
          17,
          18,
          19,
          20,
          21,
          22,
          23,
          24,
          25,
          26,
          27,
          28,
          29,
          30,
          31,
          32,
          33,
          34,
          35,
          36,
          37,
          38,
          39,
          40,
          41,
          42,
          43,
          44,
          45,
          47,
          48,
          49,
          50,
          52,
          53,
          54,
          55,
          56,
          57,
          58,
          60,
          62,
          64,
          67,
          71,
          73,
          76,
          82,
          83,
          88,
          89,
          94,
          95,
          98,
          114
         ],
         "y": [
          2717,
          2146,
          1577,
          1244,
          1019,
          855,
          744,
          650,
          565,
          480,
          386,
          351,
          284,
          242,
          204,
          134,
          109,
          82,
          70,
          62,
          52,
          39,
          40,
          23,
          34,
          19,
          20,
          16,
          18,
          12,
          18,
          14,
          10,
          8,
          1,
          8,
          6,
          7,
          9,
          4,
          2,
          8,
          2,
          5,
          5,
          2,
          5,
          3,
          3,
          2,
          4,
          3,
          1,
          2,
          2,
          1,
          2,
          1,
          3,
          2,
          3,
          2,
          1,
          1,
          1,
          1,
          1,
          1,
          2,
          1,
          2,
          1
         ]
        }
       ],
       "layout": {
        "template": {
         "data": {
          "bar": [
           {
            "error_x": {
             "color": "#2a3f5f"
            },
            "error_y": {
             "color": "#2a3f5f"
            },
            "marker": {
             "line": {
              "color": "#E5ECF6",
              "width": 0.5
             },
             "pattern": {
              "fillmode": "overlay",
              "size": 10,
              "solidity": 0.2
             }
            },
            "type": "bar"
           }
          ],
          "barpolar": [
           {
            "marker": {
             "line": {
              "color": "#E5ECF6",
              "width": 0.5
             },
             "pattern": {
              "fillmode": "overlay",
              "size": 10,
              "solidity": 0.2
             }
            },
            "type": "barpolar"
           }
          ],
          "carpet": [
           {
            "aaxis": {
             "endlinecolor": "#2a3f5f",
             "gridcolor": "white",
             "linecolor": "white",
             "minorgridcolor": "white",
             "startlinecolor": "#2a3f5f"
            },
            "baxis": {
             "endlinecolor": "#2a3f5f",
             "gridcolor": "white",
             "linecolor": "white",
             "minorgridcolor": "white",
             "startlinecolor": "#2a3f5f"
            },
            "type": "carpet"
           }
          ],
          "choropleth": [
           {
            "colorbar": {
             "outlinewidth": 0,
             "ticks": ""
            },
            "type": "choropleth"
           }
          ],
          "contour": [
           {
            "colorbar": {
             "outlinewidth": 0,
             "ticks": ""
            },
            "colorscale": [
             [
              0,
              "#0d0887"
             ],
             [
              0.1111111111111111,
              "#46039f"
             ],
             [
              0.2222222222222222,
              "#7201a8"
             ],
             [
              0.3333333333333333,
              "#9c179e"
             ],
             [
              0.4444444444444444,
              "#bd3786"
             ],
             [
              0.5555555555555556,
              "#d8576b"
             ],
             [
              0.6666666666666666,
              "#ed7953"
             ],
             [
              0.7777777777777778,
              "#fb9f3a"
             ],
             [
              0.8888888888888888,
              "#fdca26"
             ],
             [
              1,
              "#f0f921"
             ]
            ],
            "type": "contour"
           }
          ],
          "contourcarpet": [
           {
            "colorbar": {
             "outlinewidth": 0,
             "ticks": ""
            },
            "type": "contourcarpet"
           }
          ],
          "heatmap": [
           {
            "colorbar": {
             "outlinewidth": 0,
             "ticks": ""
            },
            "colorscale": [
             [
              0,
              "#0d0887"
             ],
             [
              0.1111111111111111,
              "#46039f"
             ],
             [
              0.2222222222222222,
              "#7201a8"
             ],
             [
              0.3333333333333333,
              "#9c179e"
             ],
             [
              0.4444444444444444,
              "#bd3786"
             ],
             [
              0.5555555555555556,
              "#d8576b"
             ],
             [
              0.6666666666666666,
              "#ed7953"
             ],
             [
              0.7777777777777778,
              "#fb9f3a"
             ],
             [
              0.8888888888888888,
              "#fdca26"
             ],
             [
              1,
              "#f0f921"
             ]
            ],
            "type": "heatmap"
           }
          ],
          "heatmapgl": [
           {
            "colorbar": {
             "outlinewidth": 0,
             "ticks": ""
            },
            "colorscale": [
             [
              0,
              "#0d0887"
             ],
             [
              0.1111111111111111,
              "#46039f"
             ],
             [
              0.2222222222222222,
              "#7201a8"
             ],
             [
              0.3333333333333333,
              "#9c179e"
             ],
             [
              0.4444444444444444,
              "#bd3786"
             ],
             [
              0.5555555555555556,
              "#d8576b"
             ],
             [
              0.6666666666666666,
              "#ed7953"
             ],
             [
              0.7777777777777778,
              "#fb9f3a"
             ],
             [
              0.8888888888888888,
              "#fdca26"
             ],
             [
              1,
              "#f0f921"
             ]
            ],
            "type": "heatmapgl"
           }
          ],
          "histogram": [
           {
            "marker": {
             "pattern": {
              "fillmode": "overlay",
              "size": 10,
              "solidity": 0.2
             }
            },
            "type": "histogram"
           }
          ],
          "histogram2d": [
           {
            "colorbar": {
             "outlinewidth": 0,
             "ticks": ""
            },
            "colorscale": [
             [
              0,
              "#0d0887"
             ],
             [
              0.1111111111111111,
              "#46039f"
             ],
             [
              0.2222222222222222,
              "#7201a8"
             ],
             [
              0.3333333333333333,
              "#9c179e"
             ],
             [
              0.4444444444444444,
              "#bd3786"
             ],
             [
              0.5555555555555556,
              "#d8576b"
             ],
             [
              0.6666666666666666,
              "#ed7953"
             ],
             [
              0.7777777777777778,
              "#fb9f3a"
             ],
             [
              0.8888888888888888,
              "#fdca26"
             ],
             [
              1,
              "#f0f921"
             ]
            ],
            "type": "histogram2d"
           }
          ],
          "histogram2dcontour": [
           {
            "colorbar": {
             "outlinewidth": 0,
             "ticks": ""
            },
            "colorscale": [
             [
              0,
              "#0d0887"
             ],
             [
              0.1111111111111111,
              "#46039f"
             ],
             [
              0.2222222222222222,
              "#7201a8"
             ],
             [
              0.3333333333333333,
              "#9c179e"
             ],
             [
              0.4444444444444444,
              "#bd3786"
             ],
             [
              0.5555555555555556,
              "#d8576b"
             ],
             [
              0.6666666666666666,
              "#ed7953"
             ],
             [
              0.7777777777777778,
              "#fb9f3a"
             ],
             [
              0.8888888888888888,
              "#fdca26"
             ],
             [
              1,
              "#f0f921"
             ]
            ],
            "type": "histogram2dcontour"
           }
          ],
          "mesh3d": [
           {
            "colorbar": {
             "outlinewidth": 0,
             "ticks": ""
            },
            "type": "mesh3d"
           }
          ],
          "parcoords": [
           {
            "line": {
             "colorbar": {
              "outlinewidth": 0,
              "ticks": ""
             }
            },
            "type": "parcoords"
           }
          ],
          "pie": [
           {
            "automargin": true,
            "type": "pie"
           }
          ],
          "scatter": [
           {
            "fillpattern": {
             "fillmode": "overlay",
             "size": 10,
             "solidity": 0.2
            },
            "type": "scatter"
           }
          ],
          "scatter3d": [
           {
            "line": {
             "colorbar": {
              "outlinewidth": 0,
              "ticks": ""
             }
            },
            "marker": {
             "colorbar": {
              "outlinewidth": 0,
              "ticks": ""
             }
            },
            "type": "scatter3d"
           }
          ],
          "scattercarpet": [
           {
            "marker": {
             "colorbar": {
              "outlinewidth": 0,
              "ticks": ""
             }
            },
            "type": "scattercarpet"
           }
          ],
          "scattergeo": [
           {
            "marker": {
             "colorbar": {
              "outlinewidth": 0,
              "ticks": ""
             }
            },
            "type": "scattergeo"
           }
          ],
          "scattergl": [
           {
            "marker": {
             "colorbar": {
              "outlinewidth": 0,
              "ticks": ""
             }
            },
            "type": "scattergl"
           }
          ],
          "scattermapbox": [
           {
            "marker": {
             "colorbar": {
              "outlinewidth": 0,
              "ticks": ""
             }
            },
            "type": "scattermapbox"
           }
          ],
          "scatterpolar": [
           {
            "marker": {
             "colorbar": {
              "outlinewidth": 0,
              "ticks": ""
             }
            },
            "type": "scatterpolar"
           }
          ],
          "scatterpolargl": [
           {
            "marker": {
             "colorbar": {
              "outlinewidth": 0,
              "ticks": ""
             }
            },
            "type": "scatterpolargl"
           }
          ],
          "scatterternary": [
           {
            "marker": {
             "colorbar": {
              "outlinewidth": 0,
              "ticks": ""
             }
            },
            "type": "scatterternary"
           }
          ],
          "surface": [
           {
            "colorbar": {
             "outlinewidth": 0,
             "ticks": ""
            },
            "colorscale": [
             [
              0,
              "#0d0887"
             ],
             [
              0.1111111111111111,
              "#46039f"
             ],
             [
              0.2222222222222222,
              "#7201a8"
             ],
             [
              0.3333333333333333,
              "#9c179e"
             ],
             [
              0.4444444444444444,
              "#bd3786"
             ],
             [
              0.5555555555555556,
              "#d8576b"
             ],
             [
              0.6666666666666666,
              "#ed7953"
             ],
             [
              0.7777777777777778,
              "#fb9f3a"
             ],
             [
              0.8888888888888888,
              "#fdca26"
             ],
             [
              1,
              "#f0f921"
             ]
            ],
            "type": "surface"
           }
          ],
          "table": [
           {
            "cells": {
             "fill": {
              "color": "#EBF0F8"
             },
             "line": {
              "color": "white"
             }
            },
            "header": {
             "fill": {
              "color": "#C8D4E3"
             },
             "line": {
              "color": "white"
             }
            },
            "type": "table"
           }
          ]
         },
         "layout": {
          "annotationdefaults": {
           "arrowcolor": "#2a3f5f",
           "arrowhead": 0,
           "arrowwidth": 1
          },
          "autotypenumbers": "strict",
          "coloraxis": {
           "colorbar": {
            "outlinewidth": 0,
            "ticks": ""
           }
          },
          "colorscale": {
           "diverging": [
            [
             0,
             "#8e0152"
            ],
            [
             0.1,
             "#c51b7d"
            ],
            [
             0.2,
             "#de77ae"
            ],
            [
             0.3,
             "#f1b6da"
            ],
            [
             0.4,
             "#fde0ef"
            ],
            [
             0.5,
             "#f7f7f7"
            ],
            [
             0.6,
             "#e6f5d0"
            ],
            [
             0.7,
             "#b8e186"
            ],
            [
             0.8,
             "#7fbc41"
            ],
            [
             0.9,
             "#4d9221"
            ],
            [
             1,
             "#276419"
            ]
           ],
           "sequential": [
            [
             0,
             "#0d0887"
            ],
            [
             0.1111111111111111,
             "#46039f"
            ],
            [
             0.2222222222222222,
             "#7201a8"
            ],
            [
             0.3333333333333333,
             "#9c179e"
            ],
            [
             0.4444444444444444,
             "#bd3786"
            ],
            [
             0.5555555555555556,
             "#d8576b"
            ],
            [
             0.6666666666666666,
             "#ed7953"
            ],
            [
             0.7777777777777778,
             "#fb9f3a"
            ],
            [
             0.8888888888888888,
             "#fdca26"
            ],
            [
             1,
             "#f0f921"
            ]
           ],
           "sequentialminus": [
            [
             0,
             "#0d0887"
            ],
            [
             0.1111111111111111,
             "#46039f"
            ],
            [
             0.2222222222222222,
             "#7201a8"
            ],
            [
             0.3333333333333333,
             "#9c179e"
            ],
            [
             0.4444444444444444,
             "#bd3786"
            ],
            [
             0.5555555555555556,
             "#d8576b"
            ],
            [
             0.6666666666666666,
             "#ed7953"
            ],
            [
             0.7777777777777778,
             "#fb9f3a"
            ],
            [
             0.8888888888888888,
             "#fdca26"
            ],
            [
             1,
             "#f0f921"
            ]
           ]
          },
          "colorway": [
           "#636efa",
           "#EF553B",
           "#00cc96",
           "#ab63fa",
           "#FFA15A",
           "#19d3f3",
           "#FF6692",
           "#B6E880",
           "#FF97FF",
           "#FECB52"
          ],
          "font": {
           "color": "#2a3f5f"
          },
          "geo": {
           "bgcolor": "white",
           "lakecolor": "white",
           "landcolor": "#E5ECF6",
           "showlakes": true,
           "showland": true,
           "subunitcolor": "white"
          },
          "hoverlabel": {
           "align": "left"
          },
          "hovermode": "closest",
          "mapbox": {
           "style": "light"
          },
          "paper_bgcolor": "white",
          "plot_bgcolor": "#E5ECF6",
          "polar": {
           "angularaxis": {
            "gridcolor": "white",
            "linecolor": "white",
            "ticks": ""
           },
           "bgcolor": "#E5ECF6",
           "radialaxis": {
            "gridcolor": "white",
            "linecolor": "white",
            "ticks": ""
           }
          },
          "scene": {
           "xaxis": {
            "backgroundcolor": "#E5ECF6",
            "gridcolor": "white",
            "gridwidth": 2,
            "linecolor": "white",
            "showbackground": true,
            "ticks": "",
            "zerolinecolor": "white"
           },
           "yaxis": {
            "backgroundcolor": "#E5ECF6",
            "gridcolor": "white",
            "gridwidth": 2,
            "linecolor": "white",
            "showbackground": true,
            "ticks": "",
            "zerolinecolor": "white"
           },
           "zaxis": {
            "backgroundcolor": "#E5ECF6",
            "gridcolor": "white",
            "gridwidth": 2,
            "linecolor": "white",
            "showbackground": true,
            "ticks": "",
            "zerolinecolor": "white"
           }
          },
          "shapedefaults": {
           "line": {
            "color": "#2a3f5f"
           }
          },
          "ternary": {
           "aaxis": {
            "gridcolor": "white",
            "linecolor": "white",
            "ticks": ""
           },
           "baxis": {
            "gridcolor": "white",
            "linecolor": "white",
            "ticks": ""
           },
           "bgcolor": "#E5ECF6",
           "caxis": {
            "gridcolor": "white",
            "linecolor": "white",
            "ticks": ""
           }
          },
          "title": {
           "x": 0.05
          },
          "xaxis": {
           "automargin": true,
           "gridcolor": "white",
           "linecolor": "white",
           "ticks": "",
           "title": {
            "standoff": 15
           },
           "zerolinecolor": "white",
           "zerolinewidth": 2
          },
          "yaxis": {
           "automargin": true,
           "gridcolor": "white",
           "linecolor": "white",
           "ticks": "",
           "title": {
            "standoff": 15
           },
           "zerolinecolor": "white",
           "zerolinewidth": 2
          }
         }
        },
        "title": {
         "text": "Significant impact relative to character importance"
        },
        "xaxis": {
         "title": {
          "text": "Order"
         }
        },
        "yaxis": {
         "title": {
          "text": "Count"
         },
         "type": "log"
        }
       }
      }
     },
     "metadata": {},
     "output_type": "display_data"
    }
   ],
   "source": [
    "# Create a line plot using Plotly\n",
    "fig = go.Figure()\n",
    "\n",
    "fig.add_trace(go.Scatter(\n",
    "    x=signi_count_per_order.index,\n",
    "    y=signi_count_per_order.values,\n",
    "    mode='lines',\n",
    "    name='Significant Impact',\n",
    "    line=dict(color='blue')  # You can customize the line color\n",
    "))\n",
    "\n",
    "# Add labels and title\n",
    "fig.update_layout(\n",
    "    title='Significant impact relative to character importance',\n",
    "    xaxis=dict(title='Order'),\n",
    "    yaxis=dict(title='Count', type='log')\n",
    ")\n",
    "\n",
    "# Show the plot\n",
    "fig.show()"
   ]
  },
  {
   "cell_type": "markdown",
   "metadata": {},
   "source": [
    "With this first inspection, we can see that the greater the importance of characters in the film (i.e. small order), the greater the number of characters having a significant impact on the names given to newborns. \n",
    "This result is in line with what we might intuitively expect, that characters make more of an impression on the viewer than characters who appear only infrequently in the film.\n",
    "\n",
    "We will consider only the first 15 order of importance."
   ]
  },
  {
   "cell_type": "code",
   "execution_count": 205,
   "metadata": {},
   "outputs": [],
   "source": [
    "# remove the rows with order higher than 15\n",
    "name_by_movie_15_df = name_by_movie_df[name_by_movie_df['order'] <= 15].copy(deep=True)"
   ]
  },
  {
   "cell_type": "markdown",
   "metadata": {},
   "source": [
    "Let's see the proportion of significant character to avoid being biased by the number of movies in each categories."
   ]
  },
  {
   "cell_type": "code",
   "execution_count": 206,
   "metadata": {},
   "outputs": [],
   "source": [
    "# compute the percentage of significant characters per order\n",
    "signi_count_per_order = name_by_movie_15_df[name_by_movie_15_df['p_value'] <= 0.05].reset_index().groupby(['order'])['wiki_ID'].count().copy(deep=True)\n",
    "count_per_order = name_by_movie_15_df.reset_index().groupby(['order'])['wiki_ID'].count().copy(deep=True)\n",
    "percentage_per_order = (signi_count_per_order / count_per_order)*100\n",
    "percentage_per_order = percentage_per_order.fillna(0)\n",
    "\n",
    "# keep only the 15 first orders\n",
    "percentage_per_order = percentage_per_order[:15]"
   ]
  },
  {
   "cell_type": "code",
   "execution_count": 207,
   "metadata": {},
   "outputs": [
    {
     "data": {
      "application/vnd.plotly.v1+json": {
       "config": {
        "plotlyServerURL": "https://plot.ly"
       },
       "data": [
        {
         "alignmentgroup": "True",
         "hovertemplate": "Order=%{x}<br>Percentage of significant impact=%{y}<extra></extra>",
         "legendgroup": "",
         "marker": {
          "color": "#636efa",
          "pattern": {
           "shape": ""
          }
         },
         "name": "",
         "offsetgroup": "",
         "orientation": "v",
         "showlegend": false,
         "textposition": "auto",
         "type": "bar",
         "x": [
          0,
          1,
          2,
          3,
          4,
          5,
          6,
          7,
          8,
          9,
          10,
          11,
          12,
          13,
          14,
          15
         ],
         "xaxis": "x",
         "y": [
          11.120661427635888,
          11.345492994977532,
          10.860881542699724,
          10.430991111856448,
          10.125198728139905,
          9.750256585699624,
          9.613645173795064,
          9.748050389922016,
          9.644930010242403,
          9.809932556713672,
          9.563924677898909,
          9.83468758755954,
          9.9370188943317,
          9.801539084649656,
          9.613572101790764,
          9.940652818991099
         ],
         "yaxis": "y"
        }
       ],
       "layout": {
        "barmode": "relative",
        "legend": {
         "tracegroupgap": 0
        },
        "template": {
         "data": {
          "bar": [
           {
            "error_x": {
             "color": "#2a3f5f"
            },
            "error_y": {
             "color": "#2a3f5f"
            },
            "marker": {
             "line": {
              "color": "#E5ECF6",
              "width": 0.5
             },
             "pattern": {
              "fillmode": "overlay",
              "size": 10,
              "solidity": 0.2
             }
            },
            "type": "bar"
           }
          ],
          "barpolar": [
           {
            "marker": {
             "line": {
              "color": "#E5ECF6",
              "width": 0.5
             },
             "pattern": {
              "fillmode": "overlay",
              "size": 10,
              "solidity": 0.2
             }
            },
            "type": "barpolar"
           }
          ],
          "carpet": [
           {
            "aaxis": {
             "endlinecolor": "#2a3f5f",
             "gridcolor": "white",
             "linecolor": "white",
             "minorgridcolor": "white",
             "startlinecolor": "#2a3f5f"
            },
            "baxis": {
             "endlinecolor": "#2a3f5f",
             "gridcolor": "white",
             "linecolor": "white",
             "minorgridcolor": "white",
             "startlinecolor": "#2a3f5f"
            },
            "type": "carpet"
           }
          ],
          "choropleth": [
           {
            "colorbar": {
             "outlinewidth": 0,
             "ticks": ""
            },
            "type": "choropleth"
           }
          ],
          "contour": [
           {
            "colorbar": {
             "outlinewidth": 0,
             "ticks": ""
            },
            "colorscale": [
             [
              0,
              "#0d0887"
             ],
             [
              0.1111111111111111,
              "#46039f"
             ],
             [
              0.2222222222222222,
              "#7201a8"
             ],
             [
              0.3333333333333333,
              "#9c179e"
             ],
             [
              0.4444444444444444,
              "#bd3786"
             ],
             [
              0.5555555555555556,
              "#d8576b"
             ],
             [
              0.6666666666666666,
              "#ed7953"
             ],
             [
              0.7777777777777778,
              "#fb9f3a"
             ],
             [
              0.8888888888888888,
              "#fdca26"
             ],
             [
              1,
              "#f0f921"
             ]
            ],
            "type": "contour"
           }
          ],
          "contourcarpet": [
           {
            "colorbar": {
             "outlinewidth": 0,
             "ticks": ""
            },
            "type": "contourcarpet"
           }
          ],
          "heatmap": [
           {
            "colorbar": {
             "outlinewidth": 0,
             "ticks": ""
            },
            "colorscale": [
             [
              0,
              "#0d0887"
             ],
             [
              0.1111111111111111,
              "#46039f"
             ],
             [
              0.2222222222222222,
              "#7201a8"
             ],
             [
              0.3333333333333333,
              "#9c179e"
             ],
             [
              0.4444444444444444,
              "#bd3786"
             ],
             [
              0.5555555555555556,
              "#d8576b"
             ],
             [
              0.6666666666666666,
              "#ed7953"
             ],
             [
              0.7777777777777778,
              "#fb9f3a"
             ],
             [
              0.8888888888888888,
              "#fdca26"
             ],
             [
              1,
              "#f0f921"
             ]
            ],
            "type": "heatmap"
           }
          ],
          "heatmapgl": [
           {
            "colorbar": {
             "outlinewidth": 0,
             "ticks": ""
            },
            "colorscale": [
             [
              0,
              "#0d0887"
             ],
             [
              0.1111111111111111,
              "#46039f"
             ],
             [
              0.2222222222222222,
              "#7201a8"
             ],
             [
              0.3333333333333333,
              "#9c179e"
             ],
             [
              0.4444444444444444,
              "#bd3786"
             ],
             [
              0.5555555555555556,
              "#d8576b"
             ],
             [
              0.6666666666666666,
              "#ed7953"
             ],
             [
              0.7777777777777778,
              "#fb9f3a"
             ],
             [
              0.8888888888888888,
              "#fdca26"
             ],
             [
              1,
              "#f0f921"
             ]
            ],
            "type": "heatmapgl"
           }
          ],
          "histogram": [
           {
            "marker": {
             "pattern": {
              "fillmode": "overlay",
              "size": 10,
              "solidity": 0.2
             }
            },
            "type": "histogram"
           }
          ],
          "histogram2d": [
           {
            "colorbar": {
             "outlinewidth": 0,
             "ticks": ""
            },
            "colorscale": [
             [
              0,
              "#0d0887"
             ],
             [
              0.1111111111111111,
              "#46039f"
             ],
             [
              0.2222222222222222,
              "#7201a8"
             ],
             [
              0.3333333333333333,
              "#9c179e"
             ],
             [
              0.4444444444444444,
              "#bd3786"
             ],
             [
              0.5555555555555556,
              "#d8576b"
             ],
             [
              0.6666666666666666,
              "#ed7953"
             ],
             [
              0.7777777777777778,
              "#fb9f3a"
             ],
             [
              0.8888888888888888,
              "#fdca26"
             ],
             [
              1,
              "#f0f921"
             ]
            ],
            "type": "histogram2d"
           }
          ],
          "histogram2dcontour": [
           {
            "colorbar": {
             "outlinewidth": 0,
             "ticks": ""
            },
            "colorscale": [
             [
              0,
              "#0d0887"
             ],
             [
              0.1111111111111111,
              "#46039f"
             ],
             [
              0.2222222222222222,
              "#7201a8"
             ],
             [
              0.3333333333333333,
              "#9c179e"
             ],
             [
              0.4444444444444444,
              "#bd3786"
             ],
             [
              0.5555555555555556,
              "#d8576b"
             ],
             [
              0.6666666666666666,
              "#ed7953"
             ],
             [
              0.7777777777777778,
              "#fb9f3a"
             ],
             [
              0.8888888888888888,
              "#fdca26"
             ],
             [
              1,
              "#f0f921"
             ]
            ],
            "type": "histogram2dcontour"
           }
          ],
          "mesh3d": [
           {
            "colorbar": {
             "outlinewidth": 0,
             "ticks": ""
            },
            "type": "mesh3d"
           }
          ],
          "parcoords": [
           {
            "line": {
             "colorbar": {
              "outlinewidth": 0,
              "ticks": ""
             }
            },
            "type": "parcoords"
           }
          ],
          "pie": [
           {
            "automargin": true,
            "type": "pie"
           }
          ],
          "scatter": [
           {
            "fillpattern": {
             "fillmode": "overlay",
             "size": 10,
             "solidity": 0.2
            },
            "type": "scatter"
           }
          ],
          "scatter3d": [
           {
            "line": {
             "colorbar": {
              "outlinewidth": 0,
              "ticks": ""
             }
            },
            "marker": {
             "colorbar": {
              "outlinewidth": 0,
              "ticks": ""
             }
            },
            "type": "scatter3d"
           }
          ],
          "scattercarpet": [
           {
            "marker": {
             "colorbar": {
              "outlinewidth": 0,
              "ticks": ""
             }
            },
            "type": "scattercarpet"
           }
          ],
          "scattergeo": [
           {
            "marker": {
             "colorbar": {
              "outlinewidth": 0,
              "ticks": ""
             }
            },
            "type": "scattergeo"
           }
          ],
          "scattergl": [
           {
            "marker": {
             "colorbar": {
              "outlinewidth": 0,
              "ticks": ""
             }
            },
            "type": "scattergl"
           }
          ],
          "scattermapbox": [
           {
            "marker": {
             "colorbar": {
              "outlinewidth": 0,
              "ticks": ""
             }
            },
            "type": "scattermapbox"
           }
          ],
          "scatterpolar": [
           {
            "marker": {
             "colorbar": {
              "outlinewidth": 0,
              "ticks": ""
             }
            },
            "type": "scatterpolar"
           }
          ],
          "scatterpolargl": [
           {
            "marker": {
             "colorbar": {
              "outlinewidth": 0,
              "ticks": ""
             }
            },
            "type": "scatterpolargl"
           }
          ],
          "scatterternary": [
           {
            "marker": {
             "colorbar": {
              "outlinewidth": 0,
              "ticks": ""
             }
            },
            "type": "scatterternary"
           }
          ],
          "surface": [
           {
            "colorbar": {
             "outlinewidth": 0,
             "ticks": ""
            },
            "colorscale": [
             [
              0,
              "#0d0887"
             ],
             [
              0.1111111111111111,
              "#46039f"
             ],
             [
              0.2222222222222222,
              "#7201a8"
             ],
             [
              0.3333333333333333,
              "#9c179e"
             ],
             [
              0.4444444444444444,
              "#bd3786"
             ],
             [
              0.5555555555555556,
              "#d8576b"
             ],
             [
              0.6666666666666666,
              "#ed7953"
             ],
             [
              0.7777777777777778,
              "#fb9f3a"
             ],
             [
              0.8888888888888888,
              "#fdca26"
             ],
             [
              1,
              "#f0f921"
             ]
            ],
            "type": "surface"
           }
          ],
          "table": [
           {
            "cells": {
             "fill": {
              "color": "#EBF0F8"
             },
             "line": {
              "color": "white"
             }
            },
            "header": {
             "fill": {
              "color": "#C8D4E3"
             },
             "line": {
              "color": "white"
             }
            },
            "type": "table"
           }
          ]
         },
         "layout": {
          "annotationdefaults": {
           "arrowcolor": "#2a3f5f",
           "arrowhead": 0,
           "arrowwidth": 1
          },
          "autotypenumbers": "strict",
          "coloraxis": {
           "colorbar": {
            "outlinewidth": 0,
            "ticks": ""
           }
          },
          "colorscale": {
           "diverging": [
            [
             0,
             "#8e0152"
            ],
            [
             0.1,
             "#c51b7d"
            ],
            [
             0.2,
             "#de77ae"
            ],
            [
             0.3,
             "#f1b6da"
            ],
            [
             0.4,
             "#fde0ef"
            ],
            [
             0.5,
             "#f7f7f7"
            ],
            [
             0.6,
             "#e6f5d0"
            ],
            [
             0.7,
             "#b8e186"
            ],
            [
             0.8,
             "#7fbc41"
            ],
            [
             0.9,
             "#4d9221"
            ],
            [
             1,
             "#276419"
            ]
           ],
           "sequential": [
            [
             0,
             "#0d0887"
            ],
            [
             0.1111111111111111,
             "#46039f"
            ],
            [
             0.2222222222222222,
             "#7201a8"
            ],
            [
             0.3333333333333333,
             "#9c179e"
            ],
            [
             0.4444444444444444,
             "#bd3786"
            ],
            [
             0.5555555555555556,
             "#d8576b"
            ],
            [
             0.6666666666666666,
             "#ed7953"
            ],
            [
             0.7777777777777778,
             "#fb9f3a"
            ],
            [
             0.8888888888888888,
             "#fdca26"
            ],
            [
             1,
             "#f0f921"
            ]
           ],
           "sequentialminus": [
            [
             0,
             "#0d0887"
            ],
            [
             0.1111111111111111,
             "#46039f"
            ],
            [
             0.2222222222222222,
             "#7201a8"
            ],
            [
             0.3333333333333333,
             "#9c179e"
            ],
            [
             0.4444444444444444,
             "#bd3786"
            ],
            [
             0.5555555555555556,
             "#d8576b"
            ],
            [
             0.6666666666666666,
             "#ed7953"
            ],
            [
             0.7777777777777778,
             "#fb9f3a"
            ],
            [
             0.8888888888888888,
             "#fdca26"
            ],
            [
             1,
             "#f0f921"
            ]
           ]
          },
          "colorway": [
           "#636efa",
           "#EF553B",
           "#00cc96",
           "#ab63fa",
           "#FFA15A",
           "#19d3f3",
           "#FF6692",
           "#B6E880",
           "#FF97FF",
           "#FECB52"
          ],
          "font": {
           "color": "#2a3f5f"
          },
          "geo": {
           "bgcolor": "white",
           "lakecolor": "white",
           "landcolor": "#E5ECF6",
           "showlakes": true,
           "showland": true,
           "subunitcolor": "white"
          },
          "hoverlabel": {
           "align": "left"
          },
          "hovermode": "closest",
          "mapbox": {
           "style": "light"
          },
          "paper_bgcolor": "white",
          "plot_bgcolor": "#E5ECF6",
          "polar": {
           "angularaxis": {
            "gridcolor": "white",
            "linecolor": "white",
            "ticks": ""
           },
           "bgcolor": "#E5ECF6",
           "radialaxis": {
            "gridcolor": "white",
            "linecolor": "white",
            "ticks": ""
           }
          },
          "scene": {
           "xaxis": {
            "backgroundcolor": "#E5ECF6",
            "gridcolor": "white",
            "gridwidth": 2,
            "linecolor": "white",
            "showbackground": true,
            "ticks": "",
            "zerolinecolor": "white"
           },
           "yaxis": {
            "backgroundcolor": "#E5ECF6",
            "gridcolor": "white",
            "gridwidth": 2,
            "linecolor": "white",
            "showbackground": true,
            "ticks": "",
            "zerolinecolor": "white"
           },
           "zaxis": {
            "backgroundcolor": "#E5ECF6",
            "gridcolor": "white",
            "gridwidth": 2,
            "linecolor": "white",
            "showbackground": true,
            "ticks": "",
            "zerolinecolor": "white"
           }
          },
          "shapedefaults": {
           "line": {
            "color": "#2a3f5f"
           }
          },
          "ternary": {
           "aaxis": {
            "gridcolor": "white",
            "linecolor": "white",
            "ticks": ""
           },
           "baxis": {
            "gridcolor": "white",
            "linecolor": "white",
            "ticks": ""
           },
           "bgcolor": "#E5ECF6",
           "caxis": {
            "gridcolor": "white",
            "linecolor": "white",
            "ticks": ""
           }
          },
          "title": {
           "x": 0.05
          },
          "xaxis": {
           "automargin": true,
           "gridcolor": "white",
           "linecolor": "white",
           "ticks": "",
           "title": {
            "standoff": 15
           },
           "zerolinecolor": "white",
           "zerolinewidth": 2
          },
          "yaxis": {
           "automargin": true,
           "gridcolor": "white",
           "linecolor": "white",
           "ticks": "",
           "title": {
            "standoff": 15
           },
           "zerolinecolor": "white",
           "zerolinewidth": 2
          }
         }
        },
        "title": {
         "text": "Character name impact per order"
        },
        "xaxis": {
         "anchor": "y",
         "categoryarray": [
          0,
          1,
          2,
          3,
          4,
          5,
          6,
          7,
          8,
          9,
          10,
          11,
          12,
          13,
          14,
          15
         ],
         "categoryorder": "array",
         "domain": [
          0,
          1
         ],
         "title": {
          "text": "Order"
         }
        },
        "yaxis": {
         "anchor": "x",
         "domain": [
          0,
          1
         ],
         "range": [
          9,
          11.8
         ],
         "title": {
          "text": "Percentage of significant impact"
         }
        }
       }
      }
     },
     "metadata": {},
     "output_type": "display_data"
    }
   ],
   "source": [
    "# Plotting with Plotly\n",
    "fig = px.bar(x=percentage_per_order.index, y=percentage_per_order.values,\n",
    "             labels={'x': 'Order', 'y': 'Percentage of significant impact'},\n",
    "             title='Character name impact per order',\n",
    "             category_orders={'x': percentage_per_order.index})\n",
    "\n",
    "# Set Y-axis range to highlight small differences\n",
    "fig.update_layout(yaxis=dict(range=[9, 11.8]))\n",
    "\n",
    "# Show the plot\n",
    "fig.show()"
   ]
  },
  {
   "cell_type": "markdown",
   "metadata": {},
   "source": [
    "Looking at the percentage of characters with a significant impact within each character order allows us to identify which role type has the greatest number of character names influencing the names of newborns.\n",
    "\n",
    "Intesting, but let's see the proportion confidence intervals"
   ]
  },
  {
   "cell_type": "code",
   "execution_count": 208,
   "metadata": {},
   "outputs": [
    {
     "data": {
      "text/html": [
       "<div>\n",
       "<style scoped>\n",
       "    .dataframe tbody tr th:only-of-type {\n",
       "        vertical-align: middle;\n",
       "    }\n",
       "\n",
       "    .dataframe tbody tr th {\n",
       "        vertical-align: top;\n",
       "    }\n",
       "\n",
       "    .dataframe thead th {\n",
       "        text-align: right;\n",
       "    }\n",
       "</style>\n",
       "<table border=\"1\" class=\"dataframe\">\n",
       "  <thead>\n",
       "    <tr style=\"text-align: right;\">\n",
       "      <th></th>\n",
       "      <th>char_words</th>\n",
       "      <th>order</th>\n",
       "      <th>gender</th>\n",
       "      <th>t_stat</th>\n",
       "      <th>p_value</th>\n",
       "      <th>slope_change</th>\n",
       "      <th>is_significant</th>\n",
       "    </tr>\n",
       "    <tr>\n",
       "      <th>wiki_ID</th>\n",
       "      <th></th>\n",
       "      <th></th>\n",
       "      <th></th>\n",
       "      <th></th>\n",
       "      <th></th>\n",
       "      <th></th>\n",
       "      <th></th>\n",
       "    </tr>\n",
       "  </thead>\n",
       "  <tbody>\n",
       "    <tr>\n",
       "      <th>31012555</th>\n",
       "      <td>Tokie</td>\n",
       "      <td>2.0</td>\n",
       "      <td>F</td>\n",
       "      <td>NaN</td>\n",
       "      <td>NaN</td>\n",
       "      <td>0.0000</td>\n",
       "      <td>0</td>\n",
       "    </tr>\n",
       "    <tr>\n",
       "      <th>20700027</th>\n",
       "      <td>Willy</td>\n",
       "      <td>4.0</td>\n",
       "      <td>M</td>\n",
       "      <td>0.798738</td>\n",
       "      <td>0.441347</td>\n",
       "      <td>-0.0001</td>\n",
       "      <td>0</td>\n",
       "    </tr>\n",
       "  </tbody>\n",
       "</table>\n",
       "</div>"
      ],
      "text/plain": [
       "         char_words  order gender    t_stat   p_value  slope_change  \\\n",
       "wiki_ID                                                               \n",
       "31012555      Tokie    2.0      F       NaN       NaN        0.0000   \n",
       "20700027      Willy    4.0      M  0.798738  0.441347       -0.0001   \n",
       "\n",
       "          is_significant  \n",
       "wiki_ID                   \n",
       "31012555               0  \n",
       "20700027               0  "
      ]
     },
     "metadata": {},
     "output_type": "display_data"
    }
   ],
   "source": [
    "# add a column in name_by_movie_15_df that contains a one if the variation is significant and zero otherwise\n",
    "name_by_movie_15_df['is_significant'] = np.where(name_by_movie_15_df['p_value'] <= 0.05, 1, 0)\n",
    "\n",
    "display(name_by_movie_15_df.sample(2))"
   ]
  },
  {
   "cell_type": "code",
   "execution_count": 209,
   "metadata": {},
   "outputs": [],
   "source": [
    "def significant_proportion_and_ci(data):\n",
    "\n",
    "    p = data['is_significant'].mean()\n",
    "    se = np.sqrt(p * (1 - p) / len(data))\n",
    "\n",
    "    # Compute confidence interval of 95%, using the mean and standard error\n",
    "    ci_lower = p - 1.96 * se\n",
    "    ci_upper = p + 1.96 * se\n",
    "\n",
    "    # ************************ Alternative way to compute the standard error bis ************************\n",
    "    # se = st.sem(data['is_significant'])\n",
    "    # ci_lower = p - 1.96 * se\n",
    "    # ci_upper = p + 1.96 * se\n",
    "    # ************************ Alternative way to compute the standard error bis ************************\n",
    "\n",
    "    # ************************ Alternative way to compute the standard error bis ************************\n",
    "    # nb_significant = data['is_significant'].sum()\n",
    "    # total = len(data)\n",
    "    # (ci_lower, ci_upper) = sm.stats.proportion_confint(nb_significant, total, alpha=0.05)\n",
    "    # ************************ Alternative way to compute the standard error bis ************************\n",
    "\n",
    "    # Useful because we will put this in the dataframe\n",
    "    return pd.Series({\n",
    "        'mean': p,\n",
    "        'ci_lower': ci_lower,\n",
    "        'ci_upper': ci_upper\n",
    "    })\n",
    "\n",
    "ci_df = name_by_movie_15_df.groupby(['order']).apply(significant_proportion_and_ci).reset_index()"
   ]
  },
  {
   "cell_type": "code",
   "execution_count": 210,
   "metadata": {},
   "outputs": [
    {
     "data": {
      "application/vnd.plotly.v1+json": {
       "config": {
        "plotlyServerURL": "https://plot.ly"
       },
       "data": [
        {
         "alignmentgroup": "True",
         "error_y": {
          "array": [
           0.11514884717464352,
           0.11797468599274276,
           0.11366985192264348,
           0.10979584211764842,
           0.10714573452277495,
           0.10371142841990467,
           0.10270408855161568,
           0.1045999376755016,
           0.1040090458824493,
           0.10643385011623939,
           0.10471263345895919,
           0.10811661185901797,
           0.11033815697590432,
           0.10974388425113218,
           0.10867802687068134,
           0.11537939887292331
          ],
          "arrayminus": [
           0.10726438137807423,
           0.10893517390680786,
           0.103547778931351,
           0.09882398011948054,
           0.09535824004002313,
           0.0912937032940878,
           0.0895688149242856,
           0.0903610701229387,
           0.08888955432239876,
           0.08976480101803407,
           0.086565860099019,
           0.08857713989217283,
           0.08840222091072969,
           0.08628689744186094,
           0.08359341516513394,
           0.08343365750689866
          ]
         },
         "hovertemplate": "order=%{x}<br>mean=%{y}<extra></extra>",
         "legendgroup": "",
         "marker": {
          "color": "#636efa",
          "pattern": {
           "shape": ""
          }
         },
         "name": "",
         "offsetgroup": "",
         "orientation": "v",
         "showlegend": false,
         "textposition": "auto",
         "type": "bar",
         "x": [
          0,
          1,
          2,
          3,
          4,
          5,
          6,
          7,
          8,
          9,
          10,
          11,
          12,
          13,
          14,
          15
         ],
         "xaxis": "x",
         "y": [
          0.11120661427635888,
          0.11345492994977531,
          0.10860881542699724,
          0.10430991111856448,
          0.10125198728139904,
          0.09750256585699624,
          0.09613645173795064,
          0.09748050389922015,
          0.09644930010242403,
          0.09809932556713673,
          0.09563924677898909,
          0.0983468758755954,
          0.099370188943317,
          0.09801539084649656,
          0.09613572101790764,
          0.09940652818991098
         ],
         "yaxis": "y"
        }
       ],
       "layout": {
        "barmode": "relative",
        "legend": {
         "tracegroupgap": 0
        },
        "template": {
         "data": {
          "bar": [
           {
            "error_x": {
             "color": "#2a3f5f"
            },
            "error_y": {
             "color": "#2a3f5f"
            },
            "marker": {
             "line": {
              "color": "#E5ECF6",
              "width": 0.5
             },
             "pattern": {
              "fillmode": "overlay",
              "size": 10,
              "solidity": 0.2
             }
            },
            "type": "bar"
           }
          ],
          "barpolar": [
           {
            "marker": {
             "line": {
              "color": "#E5ECF6",
              "width": 0.5
             },
             "pattern": {
              "fillmode": "overlay",
              "size": 10,
              "solidity": 0.2
             }
            },
            "type": "barpolar"
           }
          ],
          "carpet": [
           {
            "aaxis": {
             "endlinecolor": "#2a3f5f",
             "gridcolor": "white",
             "linecolor": "white",
             "minorgridcolor": "white",
             "startlinecolor": "#2a3f5f"
            },
            "baxis": {
             "endlinecolor": "#2a3f5f",
             "gridcolor": "white",
             "linecolor": "white",
             "minorgridcolor": "white",
             "startlinecolor": "#2a3f5f"
            },
            "type": "carpet"
           }
          ],
          "choropleth": [
           {
            "colorbar": {
             "outlinewidth": 0,
             "ticks": ""
            },
            "type": "choropleth"
           }
          ],
          "contour": [
           {
            "colorbar": {
             "outlinewidth": 0,
             "ticks": ""
            },
            "colorscale": [
             [
              0,
              "#0d0887"
             ],
             [
              0.1111111111111111,
              "#46039f"
             ],
             [
              0.2222222222222222,
              "#7201a8"
             ],
             [
              0.3333333333333333,
              "#9c179e"
             ],
             [
              0.4444444444444444,
              "#bd3786"
             ],
             [
              0.5555555555555556,
              "#d8576b"
             ],
             [
              0.6666666666666666,
              "#ed7953"
             ],
             [
              0.7777777777777778,
              "#fb9f3a"
             ],
             [
              0.8888888888888888,
              "#fdca26"
             ],
             [
              1,
              "#f0f921"
             ]
            ],
            "type": "contour"
           }
          ],
          "contourcarpet": [
           {
            "colorbar": {
             "outlinewidth": 0,
             "ticks": ""
            },
            "type": "contourcarpet"
           }
          ],
          "heatmap": [
           {
            "colorbar": {
             "outlinewidth": 0,
             "ticks": ""
            },
            "colorscale": [
             [
              0,
              "#0d0887"
             ],
             [
              0.1111111111111111,
              "#46039f"
             ],
             [
              0.2222222222222222,
              "#7201a8"
             ],
             [
              0.3333333333333333,
              "#9c179e"
             ],
             [
              0.4444444444444444,
              "#bd3786"
             ],
             [
              0.5555555555555556,
              "#d8576b"
             ],
             [
              0.6666666666666666,
              "#ed7953"
             ],
             [
              0.7777777777777778,
              "#fb9f3a"
             ],
             [
              0.8888888888888888,
              "#fdca26"
             ],
             [
              1,
              "#f0f921"
             ]
            ],
            "type": "heatmap"
           }
          ],
          "heatmapgl": [
           {
            "colorbar": {
             "outlinewidth": 0,
             "ticks": ""
            },
            "colorscale": [
             [
              0,
              "#0d0887"
             ],
             [
              0.1111111111111111,
              "#46039f"
             ],
             [
              0.2222222222222222,
              "#7201a8"
             ],
             [
              0.3333333333333333,
              "#9c179e"
             ],
             [
              0.4444444444444444,
              "#bd3786"
             ],
             [
              0.5555555555555556,
              "#d8576b"
             ],
             [
              0.6666666666666666,
              "#ed7953"
             ],
             [
              0.7777777777777778,
              "#fb9f3a"
             ],
             [
              0.8888888888888888,
              "#fdca26"
             ],
             [
              1,
              "#f0f921"
             ]
            ],
            "type": "heatmapgl"
           }
          ],
          "histogram": [
           {
            "marker": {
             "pattern": {
              "fillmode": "overlay",
              "size": 10,
              "solidity": 0.2
             }
            },
            "type": "histogram"
           }
          ],
          "histogram2d": [
           {
            "colorbar": {
             "outlinewidth": 0,
             "ticks": ""
            },
            "colorscale": [
             [
              0,
              "#0d0887"
             ],
             [
              0.1111111111111111,
              "#46039f"
             ],
             [
              0.2222222222222222,
              "#7201a8"
             ],
             [
              0.3333333333333333,
              "#9c179e"
             ],
             [
              0.4444444444444444,
              "#bd3786"
             ],
             [
              0.5555555555555556,
              "#d8576b"
             ],
             [
              0.6666666666666666,
              "#ed7953"
             ],
             [
              0.7777777777777778,
              "#fb9f3a"
             ],
             [
              0.8888888888888888,
              "#fdca26"
             ],
             [
              1,
              "#f0f921"
             ]
            ],
            "type": "histogram2d"
           }
          ],
          "histogram2dcontour": [
           {
            "colorbar": {
             "outlinewidth": 0,
             "ticks": ""
            },
            "colorscale": [
             [
              0,
              "#0d0887"
             ],
             [
              0.1111111111111111,
              "#46039f"
             ],
             [
              0.2222222222222222,
              "#7201a8"
             ],
             [
              0.3333333333333333,
              "#9c179e"
             ],
             [
              0.4444444444444444,
              "#bd3786"
             ],
             [
              0.5555555555555556,
              "#d8576b"
             ],
             [
              0.6666666666666666,
              "#ed7953"
             ],
             [
              0.7777777777777778,
              "#fb9f3a"
             ],
             [
              0.8888888888888888,
              "#fdca26"
             ],
             [
              1,
              "#f0f921"
             ]
            ],
            "type": "histogram2dcontour"
           }
          ],
          "mesh3d": [
           {
            "colorbar": {
             "outlinewidth": 0,
             "ticks": ""
            },
            "type": "mesh3d"
           }
          ],
          "parcoords": [
           {
            "line": {
             "colorbar": {
              "outlinewidth": 0,
              "ticks": ""
             }
            },
            "type": "parcoords"
           }
          ],
          "pie": [
           {
            "automargin": true,
            "type": "pie"
           }
          ],
          "scatter": [
           {
            "fillpattern": {
             "fillmode": "overlay",
             "size": 10,
             "solidity": 0.2
            },
            "type": "scatter"
           }
          ],
          "scatter3d": [
           {
            "line": {
             "colorbar": {
              "outlinewidth": 0,
              "ticks": ""
             }
            },
            "marker": {
             "colorbar": {
              "outlinewidth": 0,
              "ticks": ""
             }
            },
            "type": "scatter3d"
           }
          ],
          "scattercarpet": [
           {
            "marker": {
             "colorbar": {
              "outlinewidth": 0,
              "ticks": ""
             }
            },
            "type": "scattercarpet"
           }
          ],
          "scattergeo": [
           {
            "marker": {
             "colorbar": {
              "outlinewidth": 0,
              "ticks": ""
             }
            },
            "type": "scattergeo"
           }
          ],
          "scattergl": [
           {
            "marker": {
             "colorbar": {
              "outlinewidth": 0,
              "ticks": ""
             }
            },
            "type": "scattergl"
           }
          ],
          "scattermapbox": [
           {
            "marker": {
             "colorbar": {
              "outlinewidth": 0,
              "ticks": ""
             }
            },
            "type": "scattermapbox"
           }
          ],
          "scatterpolar": [
           {
            "marker": {
             "colorbar": {
              "outlinewidth": 0,
              "ticks": ""
             }
            },
            "type": "scatterpolar"
           }
          ],
          "scatterpolargl": [
           {
            "marker": {
             "colorbar": {
              "outlinewidth": 0,
              "ticks": ""
             }
            },
            "type": "scatterpolargl"
           }
          ],
          "scatterternary": [
           {
            "marker": {
             "colorbar": {
              "outlinewidth": 0,
              "ticks": ""
             }
            },
            "type": "scatterternary"
           }
          ],
          "surface": [
           {
            "colorbar": {
             "outlinewidth": 0,
             "ticks": ""
            },
            "colorscale": [
             [
              0,
              "#0d0887"
             ],
             [
              0.1111111111111111,
              "#46039f"
             ],
             [
              0.2222222222222222,
              "#7201a8"
             ],
             [
              0.3333333333333333,
              "#9c179e"
             ],
             [
              0.4444444444444444,
              "#bd3786"
             ],
             [
              0.5555555555555556,
              "#d8576b"
             ],
             [
              0.6666666666666666,
              "#ed7953"
             ],
             [
              0.7777777777777778,
              "#fb9f3a"
             ],
             [
              0.8888888888888888,
              "#fdca26"
             ],
             [
              1,
              "#f0f921"
             ]
            ],
            "type": "surface"
           }
          ],
          "table": [
           {
            "cells": {
             "fill": {
              "color": "#EBF0F8"
             },
             "line": {
              "color": "white"
             }
            },
            "header": {
             "fill": {
              "color": "#C8D4E3"
             },
             "line": {
              "color": "white"
             }
            },
            "type": "table"
           }
          ]
         },
         "layout": {
          "annotationdefaults": {
           "arrowcolor": "#2a3f5f",
           "arrowhead": 0,
           "arrowwidth": 1
          },
          "autotypenumbers": "strict",
          "coloraxis": {
           "colorbar": {
            "outlinewidth": 0,
            "ticks": ""
           }
          },
          "colorscale": {
           "diverging": [
            [
             0,
             "#8e0152"
            ],
            [
             0.1,
             "#c51b7d"
            ],
            [
             0.2,
             "#de77ae"
            ],
            [
             0.3,
             "#f1b6da"
            ],
            [
             0.4,
             "#fde0ef"
            ],
            [
             0.5,
             "#f7f7f7"
            ],
            [
             0.6,
             "#e6f5d0"
            ],
            [
             0.7,
             "#b8e186"
            ],
            [
             0.8,
             "#7fbc41"
            ],
            [
             0.9,
             "#4d9221"
            ],
            [
             1,
             "#276419"
            ]
           ],
           "sequential": [
            [
             0,
             "#0d0887"
            ],
            [
             0.1111111111111111,
             "#46039f"
            ],
            [
             0.2222222222222222,
             "#7201a8"
            ],
            [
             0.3333333333333333,
             "#9c179e"
            ],
            [
             0.4444444444444444,
             "#bd3786"
            ],
            [
             0.5555555555555556,
             "#d8576b"
            ],
            [
             0.6666666666666666,
             "#ed7953"
            ],
            [
             0.7777777777777778,
             "#fb9f3a"
            ],
            [
             0.8888888888888888,
             "#fdca26"
            ],
            [
             1,
             "#f0f921"
            ]
           ],
           "sequentialminus": [
            [
             0,
             "#0d0887"
            ],
            [
             0.1111111111111111,
             "#46039f"
            ],
            [
             0.2222222222222222,
             "#7201a8"
            ],
            [
             0.3333333333333333,
             "#9c179e"
            ],
            [
             0.4444444444444444,
             "#bd3786"
            ],
            [
             0.5555555555555556,
             "#d8576b"
            ],
            [
             0.6666666666666666,
             "#ed7953"
            ],
            [
             0.7777777777777778,
             "#fb9f3a"
            ],
            [
             0.8888888888888888,
             "#fdca26"
            ],
            [
             1,
             "#f0f921"
            ]
           ]
          },
          "colorway": [
           "#636efa",
           "#EF553B",
           "#00cc96",
           "#ab63fa",
           "#FFA15A",
           "#19d3f3",
           "#FF6692",
           "#B6E880",
           "#FF97FF",
           "#FECB52"
          ],
          "font": {
           "color": "#2a3f5f"
          },
          "geo": {
           "bgcolor": "white",
           "lakecolor": "white",
           "landcolor": "#E5ECF6",
           "showlakes": true,
           "showland": true,
           "subunitcolor": "white"
          },
          "hoverlabel": {
           "align": "left"
          },
          "hovermode": "closest",
          "mapbox": {
           "style": "light"
          },
          "paper_bgcolor": "white",
          "plot_bgcolor": "#E5ECF6",
          "polar": {
           "angularaxis": {
            "gridcolor": "white",
            "linecolor": "white",
            "ticks": ""
           },
           "bgcolor": "#E5ECF6",
           "radialaxis": {
            "gridcolor": "white",
            "linecolor": "white",
            "ticks": ""
           }
          },
          "scene": {
           "xaxis": {
            "backgroundcolor": "#E5ECF6",
            "gridcolor": "white",
            "gridwidth": 2,
            "linecolor": "white",
            "showbackground": true,
            "ticks": "",
            "zerolinecolor": "white"
           },
           "yaxis": {
            "backgroundcolor": "#E5ECF6",
            "gridcolor": "white",
            "gridwidth": 2,
            "linecolor": "white",
            "showbackground": true,
            "ticks": "",
            "zerolinecolor": "white"
           },
           "zaxis": {
            "backgroundcolor": "#E5ECF6",
            "gridcolor": "white",
            "gridwidth": 2,
            "linecolor": "white",
            "showbackground": true,
            "ticks": "",
            "zerolinecolor": "white"
           }
          },
          "shapedefaults": {
           "line": {
            "color": "#2a3f5f"
           }
          },
          "ternary": {
           "aaxis": {
            "gridcolor": "white",
            "linecolor": "white",
            "ticks": ""
           },
           "baxis": {
            "gridcolor": "white",
            "linecolor": "white",
            "ticks": ""
           },
           "bgcolor": "#E5ECF6",
           "caxis": {
            "gridcolor": "white",
            "linecolor": "white",
            "ticks": ""
           }
          },
          "title": {
           "x": 0.05
          },
          "xaxis": {
           "automargin": true,
           "gridcolor": "white",
           "linecolor": "white",
           "ticks": "",
           "title": {
            "standoff": 15
           },
           "zerolinecolor": "white",
           "zerolinewidth": 2
          },
          "yaxis": {
           "automargin": true,
           "gridcolor": "white",
           "linecolor": "white",
           "ticks": "",
           "title": {
            "standoff": 15
           },
           "zerolinecolor": "white",
           "zerolinewidth": 2
          }
         }
        },
        "title": {
         "text": "Character name impact per order"
        },
        "xaxis": {
         "anchor": "y",
         "domain": [
          0,
          1
         ],
         "title": {
          "text": "order"
         }
        },
        "yaxis": {
         "anchor": "x",
         "domain": [
          0,
          1
         ],
         "title": {
          "text": "mean"
         }
        }
       }
      }
     },
     "metadata": {},
     "output_type": "display_data"
    }
   ],
   "source": [
    "# Plotting with Plotly\n",
    "fig = px.bar(ci_df, x='order', y='mean',\n",
    "             labels={'x': 'Order', 'y': 'Percentage of significant impact'},\n",
    "             title='Character name impact per order',\n",
    "             error_y='ci_upper',\n",
    "             error_y_minus='ci_lower',)\n",
    "\n",
    "# Show the plot\n",
    "fig.show()"
   ]
  },
  {
   "cell_type": "markdown",
   "metadata": {},
   "source": [
    "The intervals are far too large to deduce anything\n",
    "\n",
    "## Study positive and negative variation\n",
    "\n",
    "Among the character who played in a year with significant variation on the baby names, let's see the positive and negative variation's mean to compare."
   ]
  },
  {
   "cell_type": "code",
   "execution_count": 211,
   "metadata": {},
   "outputs": [],
   "source": [
    "name_by_movie_significant = name_by_movie_15_df[name_by_movie_15_df['is_significant'] == 1].copy(deep=True)"
   ]
  },
  {
   "cell_type": "code",
   "execution_count": 239,
   "metadata": {},
   "outputs": [
    {
     "data": {
      "text/html": [
       "<div>\n",
       "<style scoped>\n",
       "    .dataframe tbody tr th:only-of-type {\n",
       "        vertical-align: middle;\n",
       "    }\n",
       "\n",
       "    .dataframe tbody tr th {\n",
       "        vertical-align: top;\n",
       "    }\n",
       "\n",
       "    .dataframe thead th {\n",
       "        text-align: right;\n",
       "    }\n",
       "</style>\n",
       "<table border=\"1\" class=\"dataframe\">\n",
       "  <thead>\n",
       "    <tr style=\"text-align: right;\">\n",
       "      <th>slope_change_sign</th>\n",
       "      <th>order</th>\n",
       "      <th>negative</th>\n",
       "      <th>positive</th>\n",
       "      <th>neg_se</th>\n",
       "      <th>pos_se</th>\n",
       "    </tr>\n",
       "  </thead>\n",
       "  <tbody>\n",
       "    <tr>\n",
       "      <th>2</th>\n",
       "      <td>2.0</td>\n",
       "      <td>-0.026332</td>\n",
       "      <td>0.010672</td>\n",
       "      <td>0.001708</td>\n",
       "      <td>0.000526</td>\n",
       "    </tr>\n",
       "    <tr>\n",
       "      <th>8</th>\n",
       "      <td>8.0</td>\n",
       "      <td>-0.023375</td>\n",
       "      <td>0.009195</td>\n",
       "      <td>0.003118</td>\n",
       "      <td>0.000515</td>\n",
       "    </tr>\n",
       "  </tbody>\n",
       "</table>\n",
       "</div>"
      ],
      "text/plain": [
       "slope_change_sign  order  negative  positive    neg_se    pos_se\n",
       "2                    2.0 -0.026332  0.010672  0.001708  0.000526\n",
       "8                    8.0 -0.023375  0.009195  0.003118  0.000515"
      ]
     },
     "metadata": {},
     "output_type": "display_data"
    }
   ],
   "source": [
    "# Create a new column for positive and negative scores\n",
    "name_by_movie_significant['slope_change_sign'] = name_by_movie_significant['slope_change'].apply(lambda x: 'negative' if x < 0 else 'positive')\n",
    "\n",
    "# Group by 'order' and 'slope_change_sign', then calculate the mean\n",
    "grouped_df = name_by_movie_significant.groupby(['order', 'slope_change_sign'])['slope_change'].mean().reset_index()\n",
    "\n",
    "# Pivot the table for better plotting\n",
    "pivot_df = grouped_df.pivot(index='order', columns='slope_change_sign', values='slope_change').reset_index()\n",
    "\n",
    "# Group by 'order' and 'score_type', then calculate the se\n",
    "se_df = name_by_movie_significant.groupby(['order', 'slope_change_sign'])['slope_change'].sem().reset_index()\n",
    "\n",
    "# Add the se to the pivot table\n",
    "pivot_df['neg_se'] = se_df[se_df['slope_change_sign'] == 'negative']['slope_change'].values\n",
    "pivot_df['pos_se'] = se_df[se_df['slope_change_sign'] == 'positive']['slope_change'].values\n",
    "display(pivot_df.sample(2))"
   ]
  },
  {
   "cell_type": "code",
   "execution_count": 240,
   "metadata": {},
   "outputs": [
    {
     "data": {
      "application/vnd.plotly.v1+json": {
       "config": {
        "plotlyServerURL": "https://plot.ly"
       },
       "data": [
        {
         "alignmentgroup": "True",
         "error_y": {
          "array": [
           0.001474305060979641,
           0.0017294232673493483,
           0.001707876881707643,
           0.0016973542385830323,
           0.002170877831386308,
           0.0024213741925058103,
           0.0024836029792146054,
           0.0025930932773640647,
           0.0031180532920393592,
           0.0034940990361234485,
           0.0041375546332115855,
           0.00543308200089837,
           0.003248858450668028,
           0.003089274901103894,
           0.007603879181395501,
           0.0053089629208378465
          ]
         },
         "hovertemplate": "Order=%{x}<br>Mean Slope Change=%{y}<extra></extra>",
         "legendgroup": "",
         "marker": {
          "color": "blue",
          "pattern": {
           "shape": ""
          }
         },
         "name": "Negative",
         "offsetgroup": "",
         "orientation": "v",
         "showlegend": true,
         "textposition": "auto",
         "type": "bar",
         "x": [
          0,
          1,
          2,
          3,
          4,
          5,
          6,
          7,
          8,
          9,
          10,
          11,
          12,
          13,
          14,
          15
         ],
         "xaxis": "x",
         "y": [
          -0.0288828143128496,
          -0.030029570227275395,
          -0.026332428361039308,
          -0.025529546405357307,
          -0.025113129854548815,
          -0.028289460183620798,
          -0.023261610711709308,
          -0.026031555968698675,
          -0.023375255009366346,
          -0.025206770964825893,
          -0.026358774531506434,
          -0.03085803044445958,
          -0.020605388862861482,
          -0.017125767090968684,
          -0.03483490832412527,
          -0.02364641526178961
         ],
         "yaxis": "y"
        },
        {
         "error_y": {
          "array": [
           0.00040596392900663883,
           0.0004329951473382525,
           0.000525939075432321,
           0.0005177746216977282,
           0.0004882725738113142,
           0.0005986930850057625,
           0.0004970502238770451,
           0.0006235749093009681,
           0.0005145662346822742,
           0.0006605012113912904,
           0.0009243782995208118,
           0.0005892148287795374,
           0.0011122662345328061,
           0.0007302485438019574,
           0.0007378678453554458,
           0.001778264931990094
          ],
          "type": "data"
         },
         "marker": {
          "color": "red"
         },
         "name": "Positive",
         "type": "bar",
         "x": [
          0,
          1,
          2,
          3,
          4,
          5,
          6,
          7,
          8,
          9,
          10,
          11,
          12,
          13,
          14,
          15
         ],
         "y": [
          0.012949384651554072,
          0.011805334059892609,
          0.010671949846741975,
          0.010445421885518145,
          0.009871238032445431,
          0.010511073753649148,
          0.008944900010003885,
          0.010787420831181515,
          0.009195139401541163,
          0.009473529507510658,
          0.010166719689974128,
          0.008515031931105713,
          0.010419099640740385,
          0.008165640836366915,
          0.008582225545166822,
          0.012220537188573567
         ]
        }
       ],
       "layout": {
        "barmode": "relative",
        "height": 600,
        "legend": {
         "tracegroupgap": 0
        },
        "template": {
         "data": {
          "bar": [
           {
            "error_x": {
             "color": "#2a3f5f"
            },
            "error_y": {
             "color": "#2a3f5f"
            },
            "marker": {
             "line": {
              "color": "#E5ECF6",
              "width": 0.5
             },
             "pattern": {
              "fillmode": "overlay",
              "size": 10,
              "solidity": 0.2
             }
            },
            "type": "bar"
           }
          ],
          "barpolar": [
           {
            "marker": {
             "line": {
              "color": "#E5ECF6",
              "width": 0.5
             },
             "pattern": {
              "fillmode": "overlay",
              "size": 10,
              "solidity": 0.2
             }
            },
            "type": "barpolar"
           }
          ],
          "carpet": [
           {
            "aaxis": {
             "endlinecolor": "#2a3f5f",
             "gridcolor": "white",
             "linecolor": "white",
             "minorgridcolor": "white",
             "startlinecolor": "#2a3f5f"
            },
            "baxis": {
             "endlinecolor": "#2a3f5f",
             "gridcolor": "white",
             "linecolor": "white",
             "minorgridcolor": "white",
             "startlinecolor": "#2a3f5f"
            },
            "type": "carpet"
           }
          ],
          "choropleth": [
           {
            "colorbar": {
             "outlinewidth": 0,
             "ticks": ""
            },
            "type": "choropleth"
           }
          ],
          "contour": [
           {
            "colorbar": {
             "outlinewidth": 0,
             "ticks": ""
            },
            "colorscale": [
             [
              0,
              "#0d0887"
             ],
             [
              0.1111111111111111,
              "#46039f"
             ],
             [
              0.2222222222222222,
              "#7201a8"
             ],
             [
              0.3333333333333333,
              "#9c179e"
             ],
             [
              0.4444444444444444,
              "#bd3786"
             ],
             [
              0.5555555555555556,
              "#d8576b"
             ],
             [
              0.6666666666666666,
              "#ed7953"
             ],
             [
              0.7777777777777778,
              "#fb9f3a"
             ],
             [
              0.8888888888888888,
              "#fdca26"
             ],
             [
              1,
              "#f0f921"
             ]
            ],
            "type": "contour"
           }
          ],
          "contourcarpet": [
           {
            "colorbar": {
             "outlinewidth": 0,
             "ticks": ""
            },
            "type": "contourcarpet"
           }
          ],
          "heatmap": [
           {
            "colorbar": {
             "outlinewidth": 0,
             "ticks": ""
            },
            "colorscale": [
             [
              0,
              "#0d0887"
             ],
             [
              0.1111111111111111,
              "#46039f"
             ],
             [
              0.2222222222222222,
              "#7201a8"
             ],
             [
              0.3333333333333333,
              "#9c179e"
             ],
             [
              0.4444444444444444,
              "#bd3786"
             ],
             [
              0.5555555555555556,
              "#d8576b"
             ],
             [
              0.6666666666666666,
              "#ed7953"
             ],
             [
              0.7777777777777778,
              "#fb9f3a"
             ],
             [
              0.8888888888888888,
              "#fdca26"
             ],
             [
              1,
              "#f0f921"
             ]
            ],
            "type": "heatmap"
           }
          ],
          "heatmapgl": [
           {
            "colorbar": {
             "outlinewidth": 0,
             "ticks": ""
            },
            "colorscale": [
             [
              0,
              "#0d0887"
             ],
             [
              0.1111111111111111,
              "#46039f"
             ],
             [
              0.2222222222222222,
              "#7201a8"
             ],
             [
              0.3333333333333333,
              "#9c179e"
             ],
             [
              0.4444444444444444,
              "#bd3786"
             ],
             [
              0.5555555555555556,
              "#d8576b"
             ],
             [
              0.6666666666666666,
              "#ed7953"
             ],
             [
              0.7777777777777778,
              "#fb9f3a"
             ],
             [
              0.8888888888888888,
              "#fdca26"
             ],
             [
              1,
              "#f0f921"
             ]
            ],
            "type": "heatmapgl"
           }
          ],
          "histogram": [
           {
            "marker": {
             "pattern": {
              "fillmode": "overlay",
              "size": 10,
              "solidity": 0.2
             }
            },
            "type": "histogram"
           }
          ],
          "histogram2d": [
           {
            "colorbar": {
             "outlinewidth": 0,
             "ticks": ""
            },
            "colorscale": [
             [
              0,
              "#0d0887"
             ],
             [
              0.1111111111111111,
              "#46039f"
             ],
             [
              0.2222222222222222,
              "#7201a8"
             ],
             [
              0.3333333333333333,
              "#9c179e"
             ],
             [
              0.4444444444444444,
              "#bd3786"
             ],
             [
              0.5555555555555556,
              "#d8576b"
             ],
             [
              0.6666666666666666,
              "#ed7953"
             ],
             [
              0.7777777777777778,
              "#fb9f3a"
             ],
             [
              0.8888888888888888,
              "#fdca26"
             ],
             [
              1,
              "#f0f921"
             ]
            ],
            "type": "histogram2d"
           }
          ],
          "histogram2dcontour": [
           {
            "colorbar": {
             "outlinewidth": 0,
             "ticks": ""
            },
            "colorscale": [
             [
              0,
              "#0d0887"
             ],
             [
              0.1111111111111111,
              "#46039f"
             ],
             [
              0.2222222222222222,
              "#7201a8"
             ],
             [
              0.3333333333333333,
              "#9c179e"
             ],
             [
              0.4444444444444444,
              "#bd3786"
             ],
             [
              0.5555555555555556,
              "#d8576b"
             ],
             [
              0.6666666666666666,
              "#ed7953"
             ],
             [
              0.7777777777777778,
              "#fb9f3a"
             ],
             [
              0.8888888888888888,
              "#fdca26"
             ],
             [
              1,
              "#f0f921"
             ]
            ],
            "type": "histogram2dcontour"
           }
          ],
          "mesh3d": [
           {
            "colorbar": {
             "outlinewidth": 0,
             "ticks": ""
            },
            "type": "mesh3d"
           }
          ],
          "parcoords": [
           {
            "line": {
             "colorbar": {
              "outlinewidth": 0,
              "ticks": ""
             }
            },
            "type": "parcoords"
           }
          ],
          "pie": [
           {
            "automargin": true,
            "type": "pie"
           }
          ],
          "scatter": [
           {
            "fillpattern": {
             "fillmode": "overlay",
             "size": 10,
             "solidity": 0.2
            },
            "type": "scatter"
           }
          ],
          "scatter3d": [
           {
            "line": {
             "colorbar": {
              "outlinewidth": 0,
              "ticks": ""
             }
            },
            "marker": {
             "colorbar": {
              "outlinewidth": 0,
              "ticks": ""
             }
            },
            "type": "scatter3d"
           }
          ],
          "scattercarpet": [
           {
            "marker": {
             "colorbar": {
              "outlinewidth": 0,
              "ticks": ""
             }
            },
            "type": "scattercarpet"
           }
          ],
          "scattergeo": [
           {
            "marker": {
             "colorbar": {
              "outlinewidth": 0,
              "ticks": ""
             }
            },
            "type": "scattergeo"
           }
          ],
          "scattergl": [
           {
            "marker": {
             "colorbar": {
              "outlinewidth": 0,
              "ticks": ""
             }
            },
            "type": "scattergl"
           }
          ],
          "scattermapbox": [
           {
            "marker": {
             "colorbar": {
              "outlinewidth": 0,
              "ticks": ""
             }
            },
            "type": "scattermapbox"
           }
          ],
          "scatterpolar": [
           {
            "marker": {
             "colorbar": {
              "outlinewidth": 0,
              "ticks": ""
             }
            },
            "type": "scatterpolar"
           }
          ],
          "scatterpolargl": [
           {
            "marker": {
             "colorbar": {
              "outlinewidth": 0,
              "ticks": ""
             }
            },
            "type": "scatterpolargl"
           }
          ],
          "scatterternary": [
           {
            "marker": {
             "colorbar": {
              "outlinewidth": 0,
              "ticks": ""
             }
            },
            "type": "scatterternary"
           }
          ],
          "surface": [
           {
            "colorbar": {
             "outlinewidth": 0,
             "ticks": ""
            },
            "colorscale": [
             [
              0,
              "#0d0887"
             ],
             [
              0.1111111111111111,
              "#46039f"
             ],
             [
              0.2222222222222222,
              "#7201a8"
             ],
             [
              0.3333333333333333,
              "#9c179e"
             ],
             [
              0.4444444444444444,
              "#bd3786"
             ],
             [
              0.5555555555555556,
              "#d8576b"
             ],
             [
              0.6666666666666666,
              "#ed7953"
             ],
             [
              0.7777777777777778,
              "#fb9f3a"
             ],
             [
              0.8888888888888888,
              "#fdca26"
             ],
             [
              1,
              "#f0f921"
             ]
            ],
            "type": "surface"
           }
          ],
          "table": [
           {
            "cells": {
             "fill": {
              "color": "#EBF0F8"
             },
             "line": {
              "color": "white"
             }
            },
            "header": {
             "fill": {
              "color": "#C8D4E3"
             },
             "line": {
              "color": "white"
             }
            },
            "type": "table"
           }
          ]
         },
         "layout": {
          "annotationdefaults": {
           "arrowcolor": "#2a3f5f",
           "arrowhead": 0,
           "arrowwidth": 1
          },
          "autotypenumbers": "strict",
          "coloraxis": {
           "colorbar": {
            "outlinewidth": 0,
            "ticks": ""
           }
          },
          "colorscale": {
           "diverging": [
            [
             0,
             "#8e0152"
            ],
            [
             0.1,
             "#c51b7d"
            ],
            [
             0.2,
             "#de77ae"
            ],
            [
             0.3,
             "#f1b6da"
            ],
            [
             0.4,
             "#fde0ef"
            ],
            [
             0.5,
             "#f7f7f7"
            ],
            [
             0.6,
             "#e6f5d0"
            ],
            [
             0.7,
             "#b8e186"
            ],
            [
             0.8,
             "#7fbc41"
            ],
            [
             0.9,
             "#4d9221"
            ],
            [
             1,
             "#276419"
            ]
           ],
           "sequential": [
            [
             0,
             "#0d0887"
            ],
            [
             0.1111111111111111,
             "#46039f"
            ],
            [
             0.2222222222222222,
             "#7201a8"
            ],
            [
             0.3333333333333333,
             "#9c179e"
            ],
            [
             0.4444444444444444,
             "#bd3786"
            ],
            [
             0.5555555555555556,
             "#d8576b"
            ],
            [
             0.6666666666666666,
             "#ed7953"
            ],
            [
             0.7777777777777778,
             "#fb9f3a"
            ],
            [
             0.8888888888888888,
             "#fdca26"
            ],
            [
             1,
             "#f0f921"
            ]
           ],
           "sequentialminus": [
            [
             0,
             "#0d0887"
            ],
            [
             0.1111111111111111,
             "#46039f"
            ],
            [
             0.2222222222222222,
             "#7201a8"
            ],
            [
             0.3333333333333333,
             "#9c179e"
            ],
            [
             0.4444444444444444,
             "#bd3786"
            ],
            [
             0.5555555555555556,
             "#d8576b"
            ],
            [
             0.6666666666666666,
             "#ed7953"
            ],
            [
             0.7777777777777778,
             "#fb9f3a"
            ],
            [
             0.8888888888888888,
             "#fdca26"
            ],
            [
             1,
             "#f0f921"
            ]
           ]
          },
          "colorway": [
           "#636efa",
           "#EF553B",
           "#00cc96",
           "#ab63fa",
           "#FFA15A",
           "#19d3f3",
           "#FF6692",
           "#B6E880",
           "#FF97FF",
           "#FECB52"
          ],
          "font": {
           "color": "#2a3f5f"
          },
          "geo": {
           "bgcolor": "white",
           "lakecolor": "white",
           "landcolor": "#E5ECF6",
           "showlakes": true,
           "showland": true,
           "subunitcolor": "white"
          },
          "hoverlabel": {
           "align": "left"
          },
          "hovermode": "closest",
          "mapbox": {
           "style": "light"
          },
          "paper_bgcolor": "white",
          "plot_bgcolor": "#E5ECF6",
          "polar": {
           "angularaxis": {
            "gridcolor": "white",
            "linecolor": "white",
            "ticks": ""
           },
           "bgcolor": "#E5ECF6",
           "radialaxis": {
            "gridcolor": "white",
            "linecolor": "white",
            "ticks": ""
           }
          },
          "scene": {
           "xaxis": {
            "backgroundcolor": "#E5ECF6",
            "gridcolor": "white",
            "gridwidth": 2,
            "linecolor": "white",
            "showbackground": true,
            "ticks": "",
            "zerolinecolor": "white"
           },
           "yaxis": {
            "backgroundcolor": "#E5ECF6",
            "gridcolor": "white",
            "gridwidth": 2,
            "linecolor": "white",
            "showbackground": true,
            "ticks": "",
            "zerolinecolor": "white"
           },
           "zaxis": {
            "backgroundcolor": "#E5ECF6",
            "gridcolor": "white",
            "gridwidth": 2,
            "linecolor": "white",
            "showbackground": true,
            "ticks": "",
            "zerolinecolor": "white"
           }
          },
          "shapedefaults": {
           "line": {
            "color": "#2a3f5f"
           }
          },
          "ternary": {
           "aaxis": {
            "gridcolor": "white",
            "linecolor": "white",
            "ticks": ""
           },
           "baxis": {
            "gridcolor": "white",
            "linecolor": "white",
            "ticks": ""
           },
           "bgcolor": "#E5ECF6",
           "caxis": {
            "gridcolor": "white",
            "linecolor": "white",
            "ticks": ""
           }
          },
          "title": {
           "x": 0.05
          },
          "xaxis": {
           "automargin": true,
           "gridcolor": "white",
           "linecolor": "white",
           "ticks": "",
           "title": {
            "standoff": 15
           },
           "zerolinecolor": "white",
           "zerolinewidth": 2
          },
          "yaxis": {
           "automargin": true,
           "gridcolor": "white",
           "linecolor": "white",
           "ticks": "",
           "title": {
            "standoff": 15
           },
           "zerolinecolor": "white",
           "zerolinewidth": 2
          }
         }
        },
        "title": {
         "text": "Mean Negative and Positive Slope Change by Order"
        },
        "xaxis": {
         "anchor": "y",
         "domain": [
          0,
          1
         ],
         "title": {
          "text": "Order"
         }
        },
        "yaxis": {
         "anchor": "x",
         "domain": [
          0,
          1
         ],
         "title": {
          "text": "Mean Slope Change"
         }
        }
       }
      }
     },
     "metadata": {},
     "output_type": "display_data"
    }
   ],
   "source": [
    "# Plotting with Plotly\n",
    "fig = px.bar(pivot_df, x='order', y='negative',\n",
    "             labels={'negative': 'Mean Slope Change', 'order': 'Order'},\n",
    "             title='Mean Negative and Positive Slope Change by Order',\n",
    "             height=600,\n",
    "             error_y='neg_se')\n",
    "\n",
    "# Update existing traces to show the legend for the color blue\n",
    "fig.update_traces(marker=dict(color='blue'), selector=dict(type='bar'), showlegend=True, name='Negative')\n",
    "\n",
    "# Add positive bars with their error values\n",
    "fig.add_bar(x=pivot_df['order'], y=pivot_df['positive'], \n",
    "            error_y=dict(type='data', array=pivot_df['pos_se']),\n",
    "            name='Positive',\n",
    "            marker_color='red')\n",
    "\n",
    "# Show the plot\n",
    "fig.show()"
   ]
  },
  {
   "cell_type": "markdown",
   "metadata": {},
   "source": [
    "We note that the average slope change per order for negative impacts has a greater magnitude than for positive impacts. However, the proportion of negatively impacting feature names represents less than a quarter of all significant slope change.\n",
    "For positive slope changes, we note that for the first 5 orders, the influence tends to diminish the less important the character's role. \n",
    "This could be intuitively explained by the fact that the less important a character is, the less he or she will influence the audience.\n",
    "\n",
    "## Magnitude of the variation\n",
    "\n",
    "We can express the magnitude of the variation by computing the difference of slop before and after the movie release. These differences are already available in the `name_by_movie` dataframe on the column `slope_change`. Let's plot the mean slope change for each order."
   ]
  },
  {
   "cell_type": "code",
   "execution_count": 214,
   "metadata": {},
   "outputs": [
    {
     "data": {
      "text/html": [
       "<div>\n",
       "<style scoped>\n",
       "    .dataframe tbody tr th:only-of-type {\n",
       "        vertical-align: middle;\n",
       "    }\n",
       "\n",
       "    .dataframe tbody tr th {\n",
       "        vertical-align: top;\n",
       "    }\n",
       "\n",
       "    .dataframe thead th {\n",
       "        text-align: right;\n",
       "    }\n",
       "</style>\n",
       "<table border=\"1\" class=\"dataframe\">\n",
       "  <thead>\n",
       "    <tr style=\"text-align: right;\">\n",
       "      <th></th>\n",
       "      <th>abs_mean_slope_change</th>\n",
       "      <th>abs_slope_change_se</th>\n",
       "    </tr>\n",
       "    <tr>\n",
       "      <th>order</th>\n",
       "      <th></th>\n",
       "      <th></th>\n",
       "    </tr>\n",
       "  </thead>\n",
       "  <tbody>\n",
       "    <tr>\n",
       "      <th>9.0</th>\n",
       "      <td>0.012948</td>\n",
       "      <td>0.000972</td>\n",
       "    </tr>\n",
       "    <tr>\n",
       "      <th>16.0</th>\n",
       "      <td>0.012571</td>\n",
       "      <td>0.002503</td>\n",
       "    </tr>\n",
       "  </tbody>\n",
       "</table>\n",
       "</div>"
      ],
      "text/plain": [
       "       abs_mean_slope_change  abs_slope_change_se\n",
       "order                                            \n",
       "9.0                 0.012948             0.000972\n",
       "16.0                0.012571             0.002503"
      ]
     },
     "metadata": {},
     "output_type": "display_data"
    }
   ],
   "source": [
    "alpha = 0.05 # Significance level\n",
    "\n",
    "name_by_movie_magnitude = name_by_movie_df.copy(deep=True)\n",
    "\n",
    "# Keep only the significant characters\n",
    "name_by_movie_magnitude = name_by_movie_magnitude[name_by_movie_magnitude['p_value'] <= alpha]\n",
    "\n",
    "# Keep only the first 30 orders\n",
    "name_by_movie_magnitude = name_by_movie_magnitude[name_by_movie_magnitude['order'] <= 20]\n",
    "\n",
    "# Compute the absolute mean slope change\n",
    "name_by_movie_magnitude['abs_slope_change'] = name_by_movie_magnitude['slope_change'].abs()\n",
    "abs_mean_slope_change = name_by_movie_magnitude.groupby(\"order\")['abs_slope_change'].mean()\n",
    "\n",
    "# Compute the standard error of absolute slope change\n",
    "abs_slope_change_se = name_by_movie_magnitude.groupby(\"order\")['abs_slope_change'].sem()\n",
    "\n",
    "# Create a dataframe with the mean and standard error\n",
    "slope_change_mean_se_df = pd.DataFrame({'abs_mean_slope_change': abs_mean_slope_change, 'abs_slope_change_se': abs_slope_change_se})\n",
    "display(slope_change_mean_se_df.sample(2))"
   ]
  },
  {
   "cell_type": "code",
   "execution_count": 215,
   "metadata": {},
   "outputs": [
    {
     "data": {
      "application/vnd.plotly.v1+json": {
       "config": {
        "plotlyServerURL": "https://plot.ly"
       },
       "data": [
        {
         "error_y": {
          "array": [
           0.0004935273156393239,
           0.0005680260416178791,
           0.0005868778167840767,
           0.0005929027766781462,
           0.0006384225155523115,
           0.0007067561753339813,
           0.0007064904685118379,
           0.0007713279209805847,
           0.0007993832293156206,
           0.0009719152595389546,
           0.001229102584884915,
           0.0011493783689047765,
           0.0011338154800171261,
           0.0008529203946155673,
           0.0019179288660799464,
           0.0017733374777382008,
           0.0025034806903725198,
           0.001770384903978945,
           0.0018645887833543232,
           0.0013938358281660123,
           0.0014895035889757721
          ],
          "type": "data",
          "visible": true
         },
         "marker": {
          "color": "orange"
         },
         "name": "Avg Magnitude Slope Change",
         "type": "bar",
         "x": [
          0,
          1,
          2,
          3,
          4,
          5,
          6,
          7,
          8,
          9,
          10,
          11,
          12,
          13,
          14,
          15,
          16,
          17,
          18,
          19,
          20
         ],
         "y": [
          0.016890225554163786,
          0.016382623572576357,
          0.014256878663267872,
          0.014034570485094024,
          0.013191846456887974,
          0.013858816695433283,
          0.01211997698014017,
          0.013976962952262029,
          0.012131552722099651,
          0.012947953662667771,
          0.013858172607214654,
          0.01239800318271422,
          0.012535265359420471,
          0.009831780015941625,
          0.014373258511113539,
          0.01426696311213465,
          0.012571241343722141,
          0.01121740616054456,
          0.011306123312825628,
          0.01091048646781475,
          0.009201784634861395
         ]
        }
       ],
       "layout": {
        "barmode": "stack",
        "template": {
         "data": {
          "bar": [
           {
            "error_x": {
             "color": "#2a3f5f"
            },
            "error_y": {
             "color": "#2a3f5f"
            },
            "marker": {
             "line": {
              "color": "#E5ECF6",
              "width": 0.5
             },
             "pattern": {
              "fillmode": "overlay",
              "size": 10,
              "solidity": 0.2
             }
            },
            "type": "bar"
           }
          ],
          "barpolar": [
           {
            "marker": {
             "line": {
              "color": "#E5ECF6",
              "width": 0.5
             },
             "pattern": {
              "fillmode": "overlay",
              "size": 10,
              "solidity": 0.2
             }
            },
            "type": "barpolar"
           }
          ],
          "carpet": [
           {
            "aaxis": {
             "endlinecolor": "#2a3f5f",
             "gridcolor": "white",
             "linecolor": "white",
             "minorgridcolor": "white",
             "startlinecolor": "#2a3f5f"
            },
            "baxis": {
             "endlinecolor": "#2a3f5f",
             "gridcolor": "white",
             "linecolor": "white",
             "minorgridcolor": "white",
             "startlinecolor": "#2a3f5f"
            },
            "type": "carpet"
           }
          ],
          "choropleth": [
           {
            "colorbar": {
             "outlinewidth": 0,
             "ticks": ""
            },
            "type": "choropleth"
           }
          ],
          "contour": [
           {
            "colorbar": {
             "outlinewidth": 0,
             "ticks": ""
            },
            "colorscale": [
             [
              0,
              "#0d0887"
             ],
             [
              0.1111111111111111,
              "#46039f"
             ],
             [
              0.2222222222222222,
              "#7201a8"
             ],
             [
              0.3333333333333333,
              "#9c179e"
             ],
             [
              0.4444444444444444,
              "#bd3786"
             ],
             [
              0.5555555555555556,
              "#d8576b"
             ],
             [
              0.6666666666666666,
              "#ed7953"
             ],
             [
              0.7777777777777778,
              "#fb9f3a"
             ],
             [
              0.8888888888888888,
              "#fdca26"
             ],
             [
              1,
              "#f0f921"
             ]
            ],
            "type": "contour"
           }
          ],
          "contourcarpet": [
           {
            "colorbar": {
             "outlinewidth": 0,
             "ticks": ""
            },
            "type": "contourcarpet"
           }
          ],
          "heatmap": [
           {
            "colorbar": {
             "outlinewidth": 0,
             "ticks": ""
            },
            "colorscale": [
             [
              0,
              "#0d0887"
             ],
             [
              0.1111111111111111,
              "#46039f"
             ],
             [
              0.2222222222222222,
              "#7201a8"
             ],
             [
              0.3333333333333333,
              "#9c179e"
             ],
             [
              0.4444444444444444,
              "#bd3786"
             ],
             [
              0.5555555555555556,
              "#d8576b"
             ],
             [
              0.6666666666666666,
              "#ed7953"
             ],
             [
              0.7777777777777778,
              "#fb9f3a"
             ],
             [
              0.8888888888888888,
              "#fdca26"
             ],
             [
              1,
              "#f0f921"
             ]
            ],
            "type": "heatmap"
           }
          ],
          "heatmapgl": [
           {
            "colorbar": {
             "outlinewidth": 0,
             "ticks": ""
            },
            "colorscale": [
             [
              0,
              "#0d0887"
             ],
             [
              0.1111111111111111,
              "#46039f"
             ],
             [
              0.2222222222222222,
              "#7201a8"
             ],
             [
              0.3333333333333333,
              "#9c179e"
             ],
             [
              0.4444444444444444,
              "#bd3786"
             ],
             [
              0.5555555555555556,
              "#d8576b"
             ],
             [
              0.6666666666666666,
              "#ed7953"
             ],
             [
              0.7777777777777778,
              "#fb9f3a"
             ],
             [
              0.8888888888888888,
              "#fdca26"
             ],
             [
              1,
              "#f0f921"
             ]
            ],
            "type": "heatmapgl"
           }
          ],
          "histogram": [
           {
            "marker": {
             "pattern": {
              "fillmode": "overlay",
              "size": 10,
              "solidity": 0.2
             }
            },
            "type": "histogram"
           }
          ],
          "histogram2d": [
           {
            "colorbar": {
             "outlinewidth": 0,
             "ticks": ""
            },
            "colorscale": [
             [
              0,
              "#0d0887"
             ],
             [
              0.1111111111111111,
              "#46039f"
             ],
             [
              0.2222222222222222,
              "#7201a8"
             ],
             [
              0.3333333333333333,
              "#9c179e"
             ],
             [
              0.4444444444444444,
              "#bd3786"
             ],
             [
              0.5555555555555556,
              "#d8576b"
             ],
             [
              0.6666666666666666,
              "#ed7953"
             ],
             [
              0.7777777777777778,
              "#fb9f3a"
             ],
             [
              0.8888888888888888,
              "#fdca26"
             ],
             [
              1,
              "#f0f921"
             ]
            ],
            "type": "histogram2d"
           }
          ],
          "histogram2dcontour": [
           {
            "colorbar": {
             "outlinewidth": 0,
             "ticks": ""
            },
            "colorscale": [
             [
              0,
              "#0d0887"
             ],
             [
              0.1111111111111111,
              "#46039f"
             ],
             [
              0.2222222222222222,
              "#7201a8"
             ],
             [
              0.3333333333333333,
              "#9c179e"
             ],
             [
              0.4444444444444444,
              "#bd3786"
             ],
             [
              0.5555555555555556,
              "#d8576b"
             ],
             [
              0.6666666666666666,
              "#ed7953"
             ],
             [
              0.7777777777777778,
              "#fb9f3a"
             ],
             [
              0.8888888888888888,
              "#fdca26"
             ],
             [
              1,
              "#f0f921"
             ]
            ],
            "type": "histogram2dcontour"
           }
          ],
          "mesh3d": [
           {
            "colorbar": {
             "outlinewidth": 0,
             "ticks": ""
            },
            "type": "mesh3d"
           }
          ],
          "parcoords": [
           {
            "line": {
             "colorbar": {
              "outlinewidth": 0,
              "ticks": ""
             }
            },
            "type": "parcoords"
           }
          ],
          "pie": [
           {
            "automargin": true,
            "type": "pie"
           }
          ],
          "scatter": [
           {
            "fillpattern": {
             "fillmode": "overlay",
             "size": 10,
             "solidity": 0.2
            },
            "type": "scatter"
           }
          ],
          "scatter3d": [
           {
            "line": {
             "colorbar": {
              "outlinewidth": 0,
              "ticks": ""
             }
            },
            "marker": {
             "colorbar": {
              "outlinewidth": 0,
              "ticks": ""
             }
            },
            "type": "scatter3d"
           }
          ],
          "scattercarpet": [
           {
            "marker": {
             "colorbar": {
              "outlinewidth": 0,
              "ticks": ""
             }
            },
            "type": "scattercarpet"
           }
          ],
          "scattergeo": [
           {
            "marker": {
             "colorbar": {
              "outlinewidth": 0,
              "ticks": ""
             }
            },
            "type": "scattergeo"
           }
          ],
          "scattergl": [
           {
            "marker": {
             "colorbar": {
              "outlinewidth": 0,
              "ticks": ""
             }
            },
            "type": "scattergl"
           }
          ],
          "scattermapbox": [
           {
            "marker": {
             "colorbar": {
              "outlinewidth": 0,
              "ticks": ""
             }
            },
            "type": "scattermapbox"
           }
          ],
          "scatterpolar": [
           {
            "marker": {
             "colorbar": {
              "outlinewidth": 0,
              "ticks": ""
             }
            },
            "type": "scatterpolar"
           }
          ],
          "scatterpolargl": [
           {
            "marker": {
             "colorbar": {
              "outlinewidth": 0,
              "ticks": ""
             }
            },
            "type": "scatterpolargl"
           }
          ],
          "scatterternary": [
           {
            "marker": {
             "colorbar": {
              "outlinewidth": 0,
              "ticks": ""
             }
            },
            "type": "scatterternary"
           }
          ],
          "surface": [
           {
            "colorbar": {
             "outlinewidth": 0,
             "ticks": ""
            },
            "colorscale": [
             [
              0,
              "#0d0887"
             ],
             [
              0.1111111111111111,
              "#46039f"
             ],
             [
              0.2222222222222222,
              "#7201a8"
             ],
             [
              0.3333333333333333,
              "#9c179e"
             ],
             [
              0.4444444444444444,
              "#bd3786"
             ],
             [
              0.5555555555555556,
              "#d8576b"
             ],
             [
              0.6666666666666666,
              "#ed7953"
             ],
             [
              0.7777777777777778,
              "#fb9f3a"
             ],
             [
              0.8888888888888888,
              "#fdca26"
             ],
             [
              1,
              "#f0f921"
             ]
            ],
            "type": "surface"
           }
          ],
          "table": [
           {
            "cells": {
             "fill": {
              "color": "#EBF0F8"
             },
             "line": {
              "color": "white"
             }
            },
            "header": {
             "fill": {
              "color": "#C8D4E3"
             },
             "line": {
              "color": "white"
             }
            },
            "type": "table"
           }
          ]
         },
         "layout": {
          "annotationdefaults": {
           "arrowcolor": "#2a3f5f",
           "arrowhead": 0,
           "arrowwidth": 1
          },
          "autotypenumbers": "strict",
          "coloraxis": {
           "colorbar": {
            "outlinewidth": 0,
            "ticks": ""
           }
          },
          "colorscale": {
           "diverging": [
            [
             0,
             "#8e0152"
            ],
            [
             0.1,
             "#c51b7d"
            ],
            [
             0.2,
             "#de77ae"
            ],
            [
             0.3,
             "#f1b6da"
            ],
            [
             0.4,
             "#fde0ef"
            ],
            [
             0.5,
             "#f7f7f7"
            ],
            [
             0.6,
             "#e6f5d0"
            ],
            [
             0.7,
             "#b8e186"
            ],
            [
             0.8,
             "#7fbc41"
            ],
            [
             0.9,
             "#4d9221"
            ],
            [
             1,
             "#276419"
            ]
           ],
           "sequential": [
            [
             0,
             "#0d0887"
            ],
            [
             0.1111111111111111,
             "#46039f"
            ],
            [
             0.2222222222222222,
             "#7201a8"
            ],
            [
             0.3333333333333333,
             "#9c179e"
            ],
            [
             0.4444444444444444,
             "#bd3786"
            ],
            [
             0.5555555555555556,
             "#d8576b"
            ],
            [
             0.6666666666666666,
             "#ed7953"
            ],
            [
             0.7777777777777778,
             "#fb9f3a"
            ],
            [
             0.8888888888888888,
             "#fdca26"
            ],
            [
             1,
             "#f0f921"
            ]
           ],
           "sequentialminus": [
            [
             0,
             "#0d0887"
            ],
            [
             0.1111111111111111,
             "#46039f"
            ],
            [
             0.2222222222222222,
             "#7201a8"
            ],
            [
             0.3333333333333333,
             "#9c179e"
            ],
            [
             0.4444444444444444,
             "#bd3786"
            ],
            [
             0.5555555555555556,
             "#d8576b"
            ],
            [
             0.6666666666666666,
             "#ed7953"
            ],
            [
             0.7777777777777778,
             "#fb9f3a"
            ],
            [
             0.8888888888888888,
             "#fdca26"
            ],
            [
             1,
             "#f0f921"
            ]
           ]
          },
          "colorway": [
           "#636efa",
           "#EF553B",
           "#00cc96",
           "#ab63fa",
           "#FFA15A",
           "#19d3f3",
           "#FF6692",
           "#B6E880",
           "#FF97FF",
           "#FECB52"
          ],
          "font": {
           "color": "#2a3f5f"
          },
          "geo": {
           "bgcolor": "white",
           "lakecolor": "white",
           "landcolor": "#E5ECF6",
           "showlakes": true,
           "showland": true,
           "subunitcolor": "white"
          },
          "hoverlabel": {
           "align": "left"
          },
          "hovermode": "closest",
          "mapbox": {
           "style": "light"
          },
          "paper_bgcolor": "white",
          "plot_bgcolor": "#E5ECF6",
          "polar": {
           "angularaxis": {
            "gridcolor": "white",
            "linecolor": "white",
            "ticks": ""
           },
           "bgcolor": "#E5ECF6",
           "radialaxis": {
            "gridcolor": "white",
            "linecolor": "white",
            "ticks": ""
           }
          },
          "scene": {
           "xaxis": {
            "backgroundcolor": "#E5ECF6",
            "gridcolor": "white",
            "gridwidth": 2,
            "linecolor": "white",
            "showbackground": true,
            "ticks": "",
            "zerolinecolor": "white"
           },
           "yaxis": {
            "backgroundcolor": "#E5ECF6",
            "gridcolor": "white",
            "gridwidth": 2,
            "linecolor": "white",
            "showbackground": true,
            "ticks": "",
            "zerolinecolor": "white"
           },
           "zaxis": {
            "backgroundcolor": "#E5ECF6",
            "gridcolor": "white",
            "gridwidth": 2,
            "linecolor": "white",
            "showbackground": true,
            "ticks": "",
            "zerolinecolor": "white"
           }
          },
          "shapedefaults": {
           "line": {
            "color": "#2a3f5f"
           }
          },
          "ternary": {
           "aaxis": {
            "gridcolor": "white",
            "linecolor": "white",
            "ticks": ""
           },
           "baxis": {
            "gridcolor": "white",
            "linecolor": "white",
            "ticks": ""
           },
           "bgcolor": "#E5ECF6",
           "caxis": {
            "gridcolor": "white",
            "linecolor": "white",
            "ticks": ""
           }
          },
          "title": {
           "x": 0.05
          },
          "xaxis": {
           "automargin": true,
           "gridcolor": "white",
           "linecolor": "white",
           "ticks": "",
           "title": {
            "standoff": 15
           },
           "zerolinecolor": "white",
           "zerolinewidth": 2
          },
          "yaxis": {
           "automargin": true,
           "gridcolor": "white",
           "linecolor": "white",
           "ticks": "",
           "title": {
            "standoff": 15
           },
           "zerolinecolor": "white",
           "zerolinewidth": 2
          }
         }
        },
        "xaxis": {
         "title": {
          "text": "Character Order"
         }
        },
        "yaxis": {
         "range": [
          0,
          0.02
         ],
         "title": {
          "text": "Slope Change Magnitude"
         }
        }
       }
      }
     },
     "metadata": {},
     "output_type": "display_data"
    }
   ],
   "source": [
    "# Création du bar chart interactif avec sous-graphiques\n",
    "fig = go.Figure()\n",
    "\n",
    "# Tracé pour avg magnitude slope change avec erreur\n",
    "fig.add_trace(go.Bar(\n",
    "    x=slope_change_mean_se_df.index,\n",
    "    y=slope_change_mean_se_df['abs_mean_slope_change'],\n",
    "    name='Avg Magnitude Slope Change',\n",
    "    marker_color='orange',\n",
    "    error_y=dict(\n",
    "        type='data',\n",
    "        array=slope_change_mean_se_df['abs_slope_change_se'],\n",
    "        visible=True\n",
    "    )\n",
    "))\n",
    "\n",
    "# Set the y-axis range\n",
    "y_range = [0, 0.02]\n",
    "\n",
    "# Mise en forme du tracé\n",
    "fig.update_layout(\n",
    "    xaxis=dict(title='Character Order'),\n",
    "    yaxis=dict(title='Slope Change Magnitude', range=y_range),\n",
    "    barmode='stack'\n",
    ")\n",
    "\n",
    "fig.show()"
   ]
  },
  {
   "cell_type": "markdown",
   "metadata": {},
   "source": [
    "The magnitude of the slope change tends to decrease for the first 5 orders. This reflects the trend of positive slope changes, which are proportionately in the majority for each order."
   ]
  },
  {
   "cell_type": "markdown",
   "metadata": {},
   "source": [
    "## Subquestion : Does the order of a name influence differently according to gender ?"
   ]
  },
  {
   "cell_type": "code",
   "execution_count": 258,
   "metadata": {},
   "outputs": [
    {
     "data": {
      "text/html": [
       "<div>\n",
       "<style scoped>\n",
       "    .dataframe tbody tr th:only-of-type {\n",
       "        vertical-align: middle;\n",
       "    }\n",
       "\n",
       "    .dataframe tbody tr th {\n",
       "        vertical-align: top;\n",
       "    }\n",
       "\n",
       "    .dataframe thead th {\n",
       "        text-align: right;\n",
       "    }\n",
       "</style>\n",
       "<table border=\"1\" class=\"dataframe\">\n",
       "  <thead>\n",
       "    <tr style=\"text-align: right;\">\n",
       "      <th></th>\n",
       "      <th></th>\n",
       "      <th>prop_signif_per_order_per_genre</th>\n",
       "      <th>avg_slope_change_significant</th>\n",
       "      <th>avg_slope_change_global</th>\n",
       "      <th>avg_magnitude_slope_change_significant</th>\n",
       "      <th>avg_magnitude_slope_change_global</th>\n",
       "      <th>total_number_signif_per_order_per_genre</th>\n",
       "      <th>se_slope_change_magnitude_significant</th>\n",
       "    </tr>\n",
       "    <tr>\n",
       "      <th>order</th>\n",
       "      <th>gender</th>\n",
       "      <th></th>\n",
       "      <th></th>\n",
       "      <th></th>\n",
       "      <th></th>\n",
       "      <th></th>\n",
       "      <th></th>\n",
       "      <th></th>\n",
       "    </tr>\n",
       "  </thead>\n",
       "  <tbody>\n",
       "    <tr>\n",
       "      <th>4.0</th>\n",
       "      <th>F</th>\n",
       "      <td>0.114200</td>\n",
       "      <td>0.002783</td>\n",
       "      <td>0.000328</td>\n",
       "      <td>0.011912</td>\n",
       "      <td>0.003007</td>\n",
       "      <td>419.0</td>\n",
       "      <td>0.000875</td>\n",
       "    </tr>\n",
       "    <tr>\n",
       "      <th>16.0</th>\n",
       "      <th>F</th>\n",
       "      <td>0.112219</td>\n",
       "      <td>0.002990</td>\n",
       "      <td>0.000389</td>\n",
       "      <td>0.006913</td>\n",
       "      <td>0.001968</td>\n",
       "      <td>45.0</td>\n",
       "      <td>0.001063</td>\n",
       "    </tr>\n",
       "  </tbody>\n",
       "</table>\n",
       "</div>"
      ],
      "text/plain": [
       "              prop_signif_per_order_per_genre  avg_slope_change_significant  \\\n",
       "order gender                                                                  \n",
       "4.0   F                              0.114200                      0.002783   \n",
       "16.0  F                              0.112219                      0.002990   \n",
       "\n",
       "              avg_slope_change_global  avg_magnitude_slope_change_significant  \\\n",
       "order gender                                                                    \n",
       "4.0   F                      0.000328                                0.011912   \n",
       "16.0  F                      0.000389                                0.006913   \n",
       "\n",
       "              avg_magnitude_slope_change_global  \\\n",
       "order gender                                      \n",
       "4.0   F                                0.003007   \n",
       "16.0  F                                0.001968   \n",
       "\n",
       "              total_number_signif_per_order_per_genre  \\\n",
       "order gender                                            \n",
       "4.0   F                                         419.0   \n",
       "16.0  F                                          45.0   \n",
       "\n",
       "              se_slope_change_magnitude_significant  \n",
       "order gender                                         \n",
       "4.0   F                                    0.000875  \n",
       "16.0  F                                    0.001063  "
      ]
     },
     "metadata": {},
     "output_type": "display_data"
    }
   ],
   "source": [
    "name_by_order_by_gender_prop_df = name_by_movie_df.groupby(['order','gender']).apply(lambda x: pd.Series({\n",
    "        'prop_signif_per_order_per_genre': (x['p_value'] < alpha).sum()/len(x['p_value']),\n",
    "        'avg_slope_change_significant': x[x['p_value'] < alpha]['slope_change'].mean(),\n",
    "        'avg_slope_change_global': x['slope_change'].mean(),\n",
    "        'avg_magnitude_slope_change_significant': x[x['p_value'] < alpha]['slope_change'].abs().mean(),\n",
    "        'avg_magnitude_slope_change_global': x['slope_change'].abs().mean(),\n",
    "        'total_number_signif_per_order_per_genre': (x['p_value'] < alpha).sum(),\n",
    "        'se_slope_change_magnitude_significant': x[x['p_value'] < alpha]['slope_change'].abs().sem()\n",
    "    }))\n",
    "display(name_by_order_by_gender_prop_df.sample(2))"
   ]
  },
  {
   "cell_type": "code",
   "execution_count": 259,
   "metadata": {},
   "outputs": [
    {
     "data": {
      "text/html": [
       "<div>\n",
       "<style scoped>\n",
       "    .dataframe tbody tr th:only-of-type {\n",
       "        vertical-align: middle;\n",
       "    }\n",
       "\n",
       "    .dataframe tbody tr th {\n",
       "        vertical-align: top;\n",
       "    }\n",
       "\n",
       "    .dataframe thead th {\n",
       "        text-align: right;\n",
       "    }\n",
       "</style>\n",
       "<table border=\"1\" class=\"dataframe\">\n",
       "  <thead>\n",
       "    <tr style=\"text-align: right;\">\n",
       "      <th></th>\n",
       "      <th></th>\n",
       "      <th>prop_signif_per_order_per_genre</th>\n",
       "      <th>avg_slope_change_significant</th>\n",
       "      <th>avg_slope_change_global</th>\n",
       "      <th>avg_magnitude_slope_change_significant</th>\n",
       "      <th>avg_magnitude_slope_change_global</th>\n",
       "      <th>total_number_signif_per_order_per_genre</th>\n",
       "      <th>se_slope_change_magnitude_significant</th>\n",
       "    </tr>\n",
       "    <tr>\n",
       "      <th>order</th>\n",
       "      <th>gender</th>\n",
       "      <th></th>\n",
       "      <th></th>\n",
       "      <th></th>\n",
       "      <th></th>\n",
       "      <th></th>\n",
       "      <th></th>\n",
       "      <th></th>\n",
       "    </tr>\n",
       "  </thead>\n",
       "  <tbody>\n",
       "    <tr>\n",
       "      <th>2.0</th>\n",
       "      <th>M</th>\n",
       "      <td>0.101472</td>\n",
       "      <td>0.003103</td>\n",
       "      <td>0.000413</td>\n",
       "      <td>0.012551</td>\n",
       "      <td>0.002687</td>\n",
       "      <td>827.0</td>\n",
       "      <td>0.000684</td>\n",
       "    </tr>\n",
       "    <tr>\n",
       "      <th>12.0</th>\n",
       "      <th>F</th>\n",
       "      <td>0.108051</td>\n",
       "      <td>0.007333</td>\n",
       "      <td>0.000854</td>\n",
       "      <td>0.013617</td>\n",
       "      <td>0.002825</td>\n",
       "      <td>102.0</td>\n",
       "      <td>0.002237</td>\n",
       "    </tr>\n",
       "  </tbody>\n",
       "</table>\n",
       "</div>"
      ],
      "text/plain": [
       "              prop_signif_per_order_per_genre  avg_slope_change_significant  \\\n",
       "order gender                                                                  \n",
       "2.0   M                              0.101472                      0.003103   \n",
       "12.0  F                              0.108051                      0.007333   \n",
       "\n",
       "              avg_slope_change_global  avg_magnitude_slope_change_significant  \\\n",
       "order gender                                                                    \n",
       "2.0   M                      0.000413                                0.012551   \n",
       "12.0  F                      0.000854                                0.013617   \n",
       "\n",
       "              avg_magnitude_slope_change_global  \\\n",
       "order gender                                      \n",
       "2.0   M                                0.002687   \n",
       "12.0  F                                0.002825   \n",
       "\n",
       "              total_number_signif_per_order_per_genre  \\\n",
       "order gender                                            \n",
       "2.0   M                                         827.0   \n",
       "12.0  F                                         102.0   \n",
       "\n",
       "              se_slope_change_magnitude_significant  \n",
       "order gender                                         \n",
       "2.0   M                                    0.000684  \n",
       "12.0  F                                    0.002237  "
      ]
     },
     "metadata": {},
     "output_type": "display_data"
    }
   ],
   "source": [
    "# Keep only the first 15 orders\n",
    "name_by_order_by_gender_prop_df.reset_index(inplace=True)\n",
    "name_by_order_by_gender_prop_df = name_by_order_by_gender_prop_df[name_by_order_by_gender_prop_df['order'] <= 15].copy(deep=True)\n",
    "name_by_order_by_gender_prop_df.set_index(['order', 'gender'], inplace=True)\n",
    "display(name_by_order_by_gender_prop_df.sample(2))"
   ]
  },
  {
   "cell_type": "code",
   "execution_count": 260,
   "metadata": {},
   "outputs": [
    {
     "data": {
      "application/vnd.plotly.v1+json": {
       "config": {
        "plotlyServerURL": "https://plot.ly"
       },
       "data": [
        {
         "error_y": {
          "array": [
           0.0009686439075048251,
           0.000858547733692264,
           0.0009971729093434748,
           0.0009855145216246843,
           0.000875446141631491,
           0.0011790560365265925,
           0.0010964820859936475,
           0.0014319823719435394,
           0.0015332411771566959,
           0.0017412708416661867,
           0.0026570943412511446,
           0.002226377174111163,
           0.002237251947944532,
           0.0018015633456882375,
           0.0035308533479992263,
           0.002461541577874523
          ],
          "type": "data",
          "visible": true
         },
         "hoverinfo": "y+text",
         "marker": {
          "size": 10
         },
         "mode": "markers",
         "name": "Female",
         "opacity": 0.75,
         "text": [
          "Proportion of significant: 12.34%",
          "Proportion of significant: 12.27%",
          "Proportion of significant: 11.76%",
          "Proportion of significant: 11.81%",
          "Proportion of significant: 11.42%",
          "Proportion of significant: 12.38%",
          "Proportion of significant: 11.27%",
          "Proportion of significant: 11.25%",
          "Proportion of significant: 11.41%",
          "Proportion of significant: 12.20%",
          "Proportion of significant: 12.16%",
          "Proportion of significant: 13.36%",
          "Proportion of significant: 10.81%",
          "Proportion of significant: 11.71%",
          "Proportion of significant: 10.54%",
          "Proportion of significant: 12.44%"
         ],
         "type": "scatter",
         "x": [
          -0.1,
          0.9,
          1.9,
          2.9,
          3.9,
          4.9,
          5.9,
          6.9,
          7.9,
          8.9,
          9.9,
          10.9,
          11.9,
          12.9,
          13.9,
          14.9
         ],
         "y": [
          0.016735467491002614,
          0.016856713665703276,
          0.016241570536460876,
          0.015252130153098953,
          0.01191162811457518,
          0.014652793234215178,
          0.012611777943953236,
          0.015807854038217883,
          0.01306373053130056,
          0.01299903451921205,
          0.017654041087896373,
          0.01430845720319653,
          0.013617124573748826,
          0.012600109221922519,
          0.019288085567602677,
          0.013013565268903623
         ]
        },
        {
         "error_y": {
          "array": [
           0.0005636983449537813,
           0.0007140806183437771,
           0.0006842043089820504,
           0.0007210182014175209,
           0.0008593726695541964,
           0.0007971515049209972,
           0.0009633267701750121,
           0.0009235476965957204,
           0.000887971512480252,
           0.0011526750304052644,
           0.0009434137451965281,
           0.0010894261684281873,
           0.001253879794870962,
           0.0007518672031858482,
           0.0009939431590657544,
           0.002559086605208943
          ],
          "type": "data",
          "visible": true
         },
         "hoverinfo": "y+text",
         "marker": {
          "size": 10
         },
         "mode": "markers",
         "name": "Male",
         "opacity": 0.75,
         "text": [
          "Proportion of significant: 10.57%",
          "Proportion of significant: 10.46%",
          "Proportion of significant: 10.15%",
          "Proportion of significant: 9.52%",
          "Proportion of significant: 9.39%",
          "Proportion of significant: 8.17%",
          "Proportion of significant: 8.80%",
          "Proportion of significant: 8.83%",
          "Proportion of significant: 8.51%",
          "Proportion of significant: 8.63%",
          "Proportion of significant: 8.24%",
          "Proportion of significant: 8.16%",
          "Proportion of significant: 9.12%",
          "Proportion of significant: 8.77%",
          "Proportion of significant: 8.83%",
          "Proportion of significant: 9.07%"
         ],
         "type": "scatter",
         "x": [
          0.1,
          1.1,
          2.1,
          3.1,
          4.1,
          5.1,
          6.1,
          7.1,
          8.1,
          9.1,
          10.1,
          11.1,
          12.1,
          13.1,
          14.1,
          15.1
         ],
         "y": [
          0.01698703339299336,
          0.015772069683470807,
          0.012550875514897104,
          0.01311057943927078,
          0.013667390035826513,
          0.012545947959660748,
          0.011810874391402078,
          0.013127278474304492,
          0.011151976294907282,
          0.012913755514274013,
          0.010853741547223602,
          0.010600969719318815,
          0.011375989619330599,
          0.0077325133686666405,
          0.00912896685898383,
          0.015674919050351666
         ]
        }
       ],
       "layout": {
        "template": {
         "data": {
          "bar": [
           {
            "error_x": {
             "color": "#2a3f5f"
            },
            "error_y": {
             "color": "#2a3f5f"
            },
            "marker": {
             "line": {
              "color": "#E5ECF6",
              "width": 0.5
             },
             "pattern": {
              "fillmode": "overlay",
              "size": 10,
              "solidity": 0.2
             }
            },
            "type": "bar"
           }
          ],
          "barpolar": [
           {
            "marker": {
             "line": {
              "color": "#E5ECF6",
              "width": 0.5
             },
             "pattern": {
              "fillmode": "overlay",
              "size": 10,
              "solidity": 0.2
             }
            },
            "type": "barpolar"
           }
          ],
          "carpet": [
           {
            "aaxis": {
             "endlinecolor": "#2a3f5f",
             "gridcolor": "white",
             "linecolor": "white",
             "minorgridcolor": "white",
             "startlinecolor": "#2a3f5f"
            },
            "baxis": {
             "endlinecolor": "#2a3f5f",
             "gridcolor": "white",
             "linecolor": "white",
             "minorgridcolor": "white",
             "startlinecolor": "#2a3f5f"
            },
            "type": "carpet"
           }
          ],
          "choropleth": [
           {
            "colorbar": {
             "outlinewidth": 0,
             "ticks": ""
            },
            "type": "choropleth"
           }
          ],
          "contour": [
           {
            "colorbar": {
             "outlinewidth": 0,
             "ticks": ""
            },
            "colorscale": [
             [
              0,
              "#0d0887"
             ],
             [
              0.1111111111111111,
              "#46039f"
             ],
             [
              0.2222222222222222,
              "#7201a8"
             ],
             [
              0.3333333333333333,
              "#9c179e"
             ],
             [
              0.4444444444444444,
              "#bd3786"
             ],
             [
              0.5555555555555556,
              "#d8576b"
             ],
             [
              0.6666666666666666,
              "#ed7953"
             ],
             [
              0.7777777777777778,
              "#fb9f3a"
             ],
             [
              0.8888888888888888,
              "#fdca26"
             ],
             [
              1,
              "#f0f921"
             ]
            ],
            "type": "contour"
           }
          ],
          "contourcarpet": [
           {
            "colorbar": {
             "outlinewidth": 0,
             "ticks": ""
            },
            "type": "contourcarpet"
           }
          ],
          "heatmap": [
           {
            "colorbar": {
             "outlinewidth": 0,
             "ticks": ""
            },
            "colorscale": [
             [
              0,
              "#0d0887"
             ],
             [
              0.1111111111111111,
              "#46039f"
             ],
             [
              0.2222222222222222,
              "#7201a8"
             ],
             [
              0.3333333333333333,
              "#9c179e"
             ],
             [
              0.4444444444444444,
              "#bd3786"
             ],
             [
              0.5555555555555556,
              "#d8576b"
             ],
             [
              0.6666666666666666,
              "#ed7953"
             ],
             [
              0.7777777777777778,
              "#fb9f3a"
             ],
             [
              0.8888888888888888,
              "#fdca26"
             ],
             [
              1,
              "#f0f921"
             ]
            ],
            "type": "heatmap"
           }
          ],
          "heatmapgl": [
           {
            "colorbar": {
             "outlinewidth": 0,
             "ticks": ""
            },
            "colorscale": [
             [
              0,
              "#0d0887"
             ],
             [
              0.1111111111111111,
              "#46039f"
             ],
             [
              0.2222222222222222,
              "#7201a8"
             ],
             [
              0.3333333333333333,
              "#9c179e"
             ],
             [
              0.4444444444444444,
              "#bd3786"
             ],
             [
              0.5555555555555556,
              "#d8576b"
             ],
             [
              0.6666666666666666,
              "#ed7953"
             ],
             [
              0.7777777777777778,
              "#fb9f3a"
             ],
             [
              0.8888888888888888,
              "#fdca26"
             ],
             [
              1,
              "#f0f921"
             ]
            ],
            "type": "heatmapgl"
           }
          ],
          "histogram": [
           {
            "marker": {
             "pattern": {
              "fillmode": "overlay",
              "size": 10,
              "solidity": 0.2
             }
            },
            "type": "histogram"
           }
          ],
          "histogram2d": [
           {
            "colorbar": {
             "outlinewidth": 0,
             "ticks": ""
            },
            "colorscale": [
             [
              0,
              "#0d0887"
             ],
             [
              0.1111111111111111,
              "#46039f"
             ],
             [
              0.2222222222222222,
              "#7201a8"
             ],
             [
              0.3333333333333333,
              "#9c179e"
             ],
             [
              0.4444444444444444,
              "#bd3786"
             ],
             [
              0.5555555555555556,
              "#d8576b"
             ],
             [
              0.6666666666666666,
              "#ed7953"
             ],
             [
              0.7777777777777778,
              "#fb9f3a"
             ],
             [
              0.8888888888888888,
              "#fdca26"
             ],
             [
              1,
              "#f0f921"
             ]
            ],
            "type": "histogram2d"
           }
          ],
          "histogram2dcontour": [
           {
            "colorbar": {
             "outlinewidth": 0,
             "ticks": ""
            },
            "colorscale": [
             [
              0,
              "#0d0887"
             ],
             [
              0.1111111111111111,
              "#46039f"
             ],
             [
              0.2222222222222222,
              "#7201a8"
             ],
             [
              0.3333333333333333,
              "#9c179e"
             ],
             [
              0.4444444444444444,
              "#bd3786"
             ],
             [
              0.5555555555555556,
              "#d8576b"
             ],
             [
              0.6666666666666666,
              "#ed7953"
             ],
             [
              0.7777777777777778,
              "#fb9f3a"
             ],
             [
              0.8888888888888888,
              "#fdca26"
             ],
             [
              1,
              "#f0f921"
             ]
            ],
            "type": "histogram2dcontour"
           }
          ],
          "mesh3d": [
           {
            "colorbar": {
             "outlinewidth": 0,
             "ticks": ""
            },
            "type": "mesh3d"
           }
          ],
          "parcoords": [
           {
            "line": {
             "colorbar": {
              "outlinewidth": 0,
              "ticks": ""
             }
            },
            "type": "parcoords"
           }
          ],
          "pie": [
           {
            "automargin": true,
            "type": "pie"
           }
          ],
          "scatter": [
           {
            "fillpattern": {
             "fillmode": "overlay",
             "size": 10,
             "solidity": 0.2
            },
            "type": "scatter"
           }
          ],
          "scatter3d": [
           {
            "line": {
             "colorbar": {
              "outlinewidth": 0,
              "ticks": ""
             }
            },
            "marker": {
             "colorbar": {
              "outlinewidth": 0,
              "ticks": ""
             }
            },
            "type": "scatter3d"
           }
          ],
          "scattercarpet": [
           {
            "marker": {
             "colorbar": {
              "outlinewidth": 0,
              "ticks": ""
             }
            },
            "type": "scattercarpet"
           }
          ],
          "scattergeo": [
           {
            "marker": {
             "colorbar": {
              "outlinewidth": 0,
              "ticks": ""
             }
            },
            "type": "scattergeo"
           }
          ],
          "scattergl": [
           {
            "marker": {
             "colorbar": {
              "outlinewidth": 0,
              "ticks": ""
             }
            },
            "type": "scattergl"
           }
          ],
          "scattermapbox": [
           {
            "marker": {
             "colorbar": {
              "outlinewidth": 0,
              "ticks": ""
             }
            },
            "type": "scattermapbox"
           }
          ],
          "scatterpolar": [
           {
            "marker": {
             "colorbar": {
              "outlinewidth": 0,
              "ticks": ""
             }
            },
            "type": "scatterpolar"
           }
          ],
          "scatterpolargl": [
           {
            "marker": {
             "colorbar": {
              "outlinewidth": 0,
              "ticks": ""
             }
            },
            "type": "scatterpolargl"
           }
          ],
          "scatterternary": [
           {
            "marker": {
             "colorbar": {
              "outlinewidth": 0,
              "ticks": ""
             }
            },
            "type": "scatterternary"
           }
          ],
          "surface": [
           {
            "colorbar": {
             "outlinewidth": 0,
             "ticks": ""
            },
            "colorscale": [
             [
              0,
              "#0d0887"
             ],
             [
              0.1111111111111111,
              "#46039f"
             ],
             [
              0.2222222222222222,
              "#7201a8"
             ],
             [
              0.3333333333333333,
              "#9c179e"
             ],
             [
              0.4444444444444444,
              "#bd3786"
             ],
             [
              0.5555555555555556,
              "#d8576b"
             ],
             [
              0.6666666666666666,
              "#ed7953"
             ],
             [
              0.7777777777777778,
              "#fb9f3a"
             ],
             [
              0.8888888888888888,
              "#fdca26"
             ],
             [
              1,
              "#f0f921"
             ]
            ],
            "type": "surface"
           }
          ],
          "table": [
           {
            "cells": {
             "fill": {
              "color": "#EBF0F8"
             },
             "line": {
              "color": "white"
             }
            },
            "header": {
             "fill": {
              "color": "#C8D4E3"
             },
             "line": {
              "color": "white"
             }
            },
            "type": "table"
           }
          ]
         },
         "layout": {
          "annotationdefaults": {
           "arrowcolor": "#2a3f5f",
           "arrowhead": 0,
           "arrowwidth": 1
          },
          "autotypenumbers": "strict",
          "coloraxis": {
           "colorbar": {
            "outlinewidth": 0,
            "ticks": ""
           }
          },
          "colorscale": {
           "diverging": [
            [
             0,
             "#8e0152"
            ],
            [
             0.1,
             "#c51b7d"
            ],
            [
             0.2,
             "#de77ae"
            ],
            [
             0.3,
             "#f1b6da"
            ],
            [
             0.4,
             "#fde0ef"
            ],
            [
             0.5,
             "#f7f7f7"
            ],
            [
             0.6,
             "#e6f5d0"
            ],
            [
             0.7,
             "#b8e186"
            ],
            [
             0.8,
             "#7fbc41"
            ],
            [
             0.9,
             "#4d9221"
            ],
            [
             1,
             "#276419"
            ]
           ],
           "sequential": [
            [
             0,
             "#0d0887"
            ],
            [
             0.1111111111111111,
             "#46039f"
            ],
            [
             0.2222222222222222,
             "#7201a8"
            ],
            [
             0.3333333333333333,
             "#9c179e"
            ],
            [
             0.4444444444444444,
             "#bd3786"
            ],
            [
             0.5555555555555556,
             "#d8576b"
            ],
            [
             0.6666666666666666,
             "#ed7953"
            ],
            [
             0.7777777777777778,
             "#fb9f3a"
            ],
            [
             0.8888888888888888,
             "#fdca26"
            ],
            [
             1,
             "#f0f921"
            ]
           ],
           "sequentialminus": [
            [
             0,
             "#0d0887"
            ],
            [
             0.1111111111111111,
             "#46039f"
            ],
            [
             0.2222222222222222,
             "#7201a8"
            ],
            [
             0.3333333333333333,
             "#9c179e"
            ],
            [
             0.4444444444444444,
             "#bd3786"
            ],
            [
             0.5555555555555556,
             "#d8576b"
            ],
            [
             0.6666666666666666,
             "#ed7953"
            ],
            [
             0.7777777777777778,
             "#fb9f3a"
            ],
            [
             0.8888888888888888,
             "#fdca26"
            ],
            [
             1,
             "#f0f921"
            ]
           ]
          },
          "colorway": [
           "#636efa",
           "#EF553B",
           "#00cc96",
           "#ab63fa",
           "#FFA15A",
           "#19d3f3",
           "#FF6692",
           "#B6E880",
           "#FF97FF",
           "#FECB52"
          ],
          "font": {
           "color": "#2a3f5f"
          },
          "geo": {
           "bgcolor": "white",
           "lakecolor": "white",
           "landcolor": "#E5ECF6",
           "showlakes": true,
           "showland": true,
           "subunitcolor": "white"
          },
          "hoverlabel": {
           "align": "left"
          },
          "hovermode": "closest",
          "mapbox": {
           "style": "light"
          },
          "paper_bgcolor": "white",
          "plot_bgcolor": "#E5ECF6",
          "polar": {
           "angularaxis": {
            "gridcolor": "white",
            "linecolor": "white",
            "ticks": ""
           },
           "bgcolor": "#E5ECF6",
           "radialaxis": {
            "gridcolor": "white",
            "linecolor": "white",
            "ticks": ""
           }
          },
          "scene": {
           "xaxis": {
            "backgroundcolor": "#E5ECF6",
            "gridcolor": "white",
            "gridwidth": 2,
            "linecolor": "white",
            "showbackground": true,
            "ticks": "",
            "zerolinecolor": "white"
           },
           "yaxis": {
            "backgroundcolor": "#E5ECF6",
            "gridcolor": "white",
            "gridwidth": 2,
            "linecolor": "white",
            "showbackground": true,
            "ticks": "",
            "zerolinecolor": "white"
           },
           "zaxis": {
            "backgroundcolor": "#E5ECF6",
            "gridcolor": "white",
            "gridwidth": 2,
            "linecolor": "white",
            "showbackground": true,
            "ticks": "",
            "zerolinecolor": "white"
           }
          },
          "shapedefaults": {
           "line": {
            "color": "#2a3f5f"
           }
          },
          "ternary": {
           "aaxis": {
            "gridcolor": "white",
            "linecolor": "white",
            "ticks": ""
           },
           "baxis": {
            "gridcolor": "white",
            "linecolor": "white",
            "ticks": ""
           },
           "bgcolor": "#E5ECF6",
           "caxis": {
            "gridcolor": "white",
            "linecolor": "white",
            "ticks": ""
           }
          },
          "title": {
           "x": 0.05
          },
          "xaxis": {
           "automargin": true,
           "gridcolor": "white",
           "linecolor": "white",
           "ticks": "",
           "title": {
            "standoff": 15
           },
           "zerolinecolor": "white",
           "zerolinewidth": 2
          },
          "yaxis": {
           "automargin": true,
           "gridcolor": "white",
           "linecolor": "white",
           "ticks": "",
           "title": {
            "standoff": 15
           },
           "zerolinecolor": "white",
           "zerolinewidth": 2
          }
         }
        },
        "title": {
         "text": "Average Magnitude of Significant Slope Change for each order and each Gender"
        },
        "xaxis": {
         "tickmode": "array",
         "ticktext": [
          0,
          1,
          2,
          3,
          4,
          5,
          6,
          7,
          8,
          9,
          10,
          11,
          12,
          13,
          14,
          15
         ],
         "tickvals": [
          0,
          1,
          2,
          3,
          4,
          5,
          6,
          7,
          8,
          9,
          10,
          11,
          12,
          13,
          14,
          15
         ],
         "title": {
          "text": "Character Order"
         }
        },
        "yaxis": {
         "title": {
          "text": "Slope Change"
         }
        }
       }
      }
     },
     "metadata": {},
     "output_type": "display_data"
    }
   ],
   "source": [
    "order_values = name_by_order_by_gender_prop_df.index.get_level_values('order').unique()\n",
    "\n",
    "df_reset = name_by_order_by_gender_prop_df.reset_index()\n",
    "\n",
    "df_reset['gender'] = df_reset['gender'].replace({'M': 'Male', 'F': 'Female'})\n",
    "\n",
    "# Separate Male and female for the plot\n",
    "genders_to_plot = ['Female', 'Male']\n",
    "\n",
    "# Set the scatter marker size and separation\n",
    "marker_size = 10  # Adjust as needed\n",
    "marker_separation = 0.2  # Adjust as needed\n",
    "\n",
    "# Create traces for each gender\n",
    "traces = []\n",
    "for i, gender in enumerate(genders_to_plot):\n",
    "    # Extract data for the current gender\n",
    "    gender_data = df_reset[df_reset['gender'] == gender]\n",
    "    \n",
    "    # Calculate the offset for side-by-side placement\n",
    "    offset = (i - 0.5) * marker_separation\n",
    "    # offset = 0\n",
    "    \n",
    "    # Create a scatter trace with error bars\n",
    "    trace = go.Scatter(\n",
    "        name=gender,\n",
    "        x=order_values + offset,\n",
    "        y=gender_data['avg_magnitude_slope_change_significant'],\n",
    "        mode='markers',\n",
    "        marker=dict(size=marker_size),\n",
    "        error_y=dict(\n",
    "            type='data',\n",
    "            array=gender_data['se_slope_change_magnitude_significant'],\n",
    "            visible=True\n",
    "        ),\n",
    "        hoverinfo='y+text',\n",
    "        text=gender_data['prop_signif_per_order_per_genre'].apply(lambda x: f'Proportion of significant: {x:.2%}'),\n",
    "        opacity=0.75\n",
    "    )\n",
    "    \n",
    "    traces.append(trace)\n",
    "\n",
    "fig = go.Figure(data=traces)\n",
    "\n",
    "# Add layout for better visualization\n",
    "fig.update_layout(\n",
    "    xaxis=dict(title='Character Order', tickmode='array', tickvals=order_values, ticktext=order_values),\n",
    "    yaxis=dict(title='Slope Change'),\n",
    "    title='Average Magnitude of Significant Slope Change for each order and each Gender'\n",
    ")\n",
    "\n",
    "fig.show()"
   ]
  },
  {
   "cell_type": "markdown",
   "metadata": {},
   "source": [
    "# Question 5 : Is it possible to differentiate character influence between its gender?"
   ]
  },
  {
   "cell_type": "code",
   "execution_count": 261,
   "metadata": {},
   "outputs": [
    {
     "data": {
      "text/html": [
       "<div>\n",
       "<style scoped>\n",
       "    .dataframe tbody tr th:only-of-type {\n",
       "        vertical-align: middle;\n",
       "    }\n",
       "\n",
       "    .dataframe tbody tr th {\n",
       "        vertical-align: top;\n",
       "    }\n",
       "\n",
       "    .dataframe thead th {\n",
       "        text-align: right;\n",
       "    }\n",
       "</style>\n",
       "<table border=\"1\" class=\"dataframe\">\n",
       "  <thead>\n",
       "    <tr style=\"text-align: right;\">\n",
       "      <th></th>\n",
       "      <th></th>\n",
       "      <th>prop_signif_per_order_per_gender</th>\n",
       "      <th>avg_slope_change_significant</th>\n",
       "      <th>avg_slope_change_global</th>\n",
       "      <th>avg_magnitude_slope_change_significant</th>\n",
       "      <th>avg_magnitude_slope_change_global</th>\n",
       "      <th>total_number_signif_per_order_per_genre</th>\n",
       "    </tr>\n",
       "    <tr>\n",
       "      <th>year</th>\n",
       "      <th>gender</th>\n",
       "      <th></th>\n",
       "      <th></th>\n",
       "      <th></th>\n",
       "      <th></th>\n",
       "      <th></th>\n",
       "      <th></th>\n",
       "    </tr>\n",
       "  </thead>\n",
       "  <tbody>\n",
       "    <tr>\n",
       "      <th>1948</th>\n",
       "      <th>M</th>\n",
       "      <td>0.080000</td>\n",
       "      <td>-0.013181</td>\n",
       "      <td>-0.001660</td>\n",
       "      <td>0.025230</td>\n",
       "      <td>0.003416</td>\n",
       "      <td>36.0</td>\n",
       "    </tr>\n",
       "    <tr>\n",
       "      <th>1927</th>\n",
       "      <th>M</th>\n",
       "      <td>0.027273</td>\n",
       "      <td>0.007850</td>\n",
       "      <td>-0.000725</td>\n",
       "      <td>0.023061</td>\n",
       "      <td>0.002647</td>\n",
       "      <td>3.0</td>\n",
       "    </tr>\n",
       "  </tbody>\n",
       "</table>\n",
       "</div>"
      ],
      "text/plain": [
       "             prop_signif_per_order_per_gender  avg_slope_change_significant  \\\n",
       "year gender                                                                   \n",
       "1948 M                               0.080000                     -0.013181   \n",
       "1927 M                               0.027273                      0.007850   \n",
       "\n",
       "             avg_slope_change_global  avg_magnitude_slope_change_significant  \\\n",
       "year gender                                                                    \n",
       "1948 M                     -0.001660                                0.025230   \n",
       "1927 M                     -0.000725                                0.023061   \n",
       "\n",
       "             avg_magnitude_slope_change_global  \\\n",
       "year gender                                      \n",
       "1948 M                                0.003416   \n",
       "1927 M                                0.002647   \n",
       "\n",
       "             total_number_signif_per_order_per_genre  \n",
       "year gender                                           \n",
       "1948 M                                          36.0  \n",
       "1927 M                                           3.0  "
      ]
     },
     "metadata": {},
     "output_type": "display_data"
    }
   ],
   "source": [
    "name_by_order_by_gender_prop_df_year = name_by_movie_aggregate_df.groupby(['year','gender']).apply(lambda x: pd.Series({\n",
    "        'prop_signif_per_order_per_gender': (x['p_value'] < alpha).sum()/len(x['p_value']),\n",
    "        'avg_slope_change_significant': x[x['p_value'] < alpha]['slope_change'].mean(),\n",
    "        'avg_slope_change_global': x['slope_change'].mean(),\n",
    "        'avg_magnitude_slope_change_significant': x[x['p_value'] < alpha]['slope_change'].abs().mean(),\n",
    "        'avg_magnitude_slope_change_global': x['slope_change'].abs().mean(),\n",
    "        'total_number_signif_per_order_per_genre': (x['p_value'] < alpha).sum(),\n",
    "    }))\n",
    "display(name_by_order_by_gender_prop_df_year.sample(2))"
   ]
  },
  {
   "cell_type": "code",
   "execution_count": 262,
   "metadata": {},
   "outputs": [
    {
     "data": {
      "application/vnd.plotly.v1+json": {
       "config": {
        "plotlyServerURL": "https://plot.ly"
       },
       "data": [
        {
         "legendgroup": "Female",
         "line": {
          "color": "red"
         },
         "mode": "lines+markers",
         "name": "Female",
         "type": "scatter",
         "x": [
          1960,
          1961,
          1962,
          1963,
          1964,
          1965,
          1966,
          1967,
          1968,
          1969,
          1970,
          1971,
          1972,
          1973,
          1974,
          1975,
          1976,
          1977,
          1978,
          1979,
          1980,
          1981,
          1982,
          1983,
          1984,
          1985,
          1986,
          1987,
          1988,
          1989,
          1990,
          1991,
          1992,
          1993,
          1994,
          1995,
          1996,
          1997,
          1998,
          1999,
          2000,
          2001,
          2002,
          2003,
          2004,
          2005,
          2006,
          2007,
          2008,
          2009
         ],
         "y": [
          0.017033518625884436,
          0.015581947995378344,
          0.015370920758172065,
          0.01481540875384734,
          0.008384102306643723,
          0.020645082003982008,
          0.016140907583436673,
          0.04173082717510942,
          0.034394575868333305,
          0.03287161226049515,
          0.015548047971900219,
          0.013640254188699897,
          0.012516681746662022,
          0.016010389584214905,
          0.021196087108384096,
          0.02090483662677742,
          0.02953333548263756,
          0.01430344524005626,
          0.009338400308279884,
          0.011979548498875765,
          0.014577552178835405,
          0.012260366917862302,
          0.019717021587914028,
          0.024557668692631058,
          0.020087428263871873,
          0.021703591244272194,
          0.027170914537415127,
          0.02548872350811824,
          0.017979205173150124,
          0.02344150312286066,
          0.014681316072058947,
          0.00906796899271456,
          0.01467486436654128,
          0.013653188379900585,
          0.012323081720001908,
          0.015515898258706189,
          0.013167753327121673,
          0.016749388068559117,
          0.014108940014330041,
          0.013432301623516663,
          0.012975423113270247,
          0.013673798275777613,
          0.013959069827218817,
          0.015152362879275566,
          0.01145684849855442,
          0.01439855476522932,
          0.011254029480215118,
          0.0068160189910992305,
          0.00755745826035551,
          0.00894487841605051
         ]
        },
        {
         "legendgroup": "Female",
         "line": {
          "color": "red",
          "width": 0
         },
         "mode": "lines",
         "name": "Female 95% CI",
         "showlegend": false,
         "type": "scatter",
         "x": [
          1960,
          1961,
          1962,
          1963,
          1964,
          1965,
          1966,
          1967,
          1968,
          1969,
          1970,
          1971,
          1972,
          1973,
          1974,
          1975,
          1976,
          1977,
          1978,
          1979,
          1980,
          1981,
          1982,
          1983,
          1984,
          1985,
          1986,
          1987,
          1988,
          1989,
          1990,
          1991,
          1992,
          1993,
          1994,
          1995,
          1996,
          1997,
          1998,
          1999,
          2000,
          2001,
          2002,
          2003,
          2004,
          2005,
          2006,
          2007,
          2008,
          2009
         ],
         "y": [
          0.018986989218805782,
          0.01753541858829969,
          0.01732439135109341,
          0.016768879346768687,
          0.01033757289956507,
          0.022598552596903354,
          0.01809437817635802,
          0.04368429776803076,
          0.03634804646125465,
          0.03482508285341649,
          0.017501518564821565,
          0.015593724781621243,
          0.014470152339583368,
          0.017963860177136252,
          0.023149557701305442,
          0.022858307219698767,
          0.031486806075558905,
          0.016256915832977604,
          0.01129187090120123,
          0.013933019091797111,
          0.01653102277175675,
          0.014213837510783648,
          0.021670492180835374,
          0.026511139285552404,
          0.02204089885679322,
          0.02365706183719354,
          0.029124385130336473,
          0.027442194101039586,
          0.01993267576607147,
          0.025394973715782008,
          0.01663478666498029,
          0.011021439585635907,
          0.016628334959462625,
          0.015606658972821931,
          0.014276552312923255,
          0.017469368851627535,
          0.015121223920043019,
          0.018702858661480463,
          0.016062410607251387,
          0.015385772216438009,
          0.014928893706191593,
          0.01562726886869896,
          0.01591254042014016,
          0.01710583347219691,
          0.013410319091475767,
          0.016352025358150665,
          0.013207500073136464,
          0.008769489584020577,
          0.009510928853276856,
          0.010898349008971856
         ]
        },
        {
         "fill": "tonexty",
         "line": {
          "color": "red",
          "width": 0
         },
         "mode": "lines",
         "name": "Female 95% CI",
         "type": "scatter",
         "x": [
          1960,
          1961,
          1962,
          1963,
          1964,
          1965,
          1966,
          1967,
          1968,
          1969,
          1970,
          1971,
          1972,
          1973,
          1974,
          1975,
          1976,
          1977,
          1978,
          1979,
          1980,
          1981,
          1982,
          1983,
          1984,
          1985,
          1986,
          1987,
          1988,
          1989,
          1990,
          1991,
          1992,
          1993,
          1994,
          1995,
          1996,
          1997,
          1998,
          1999,
          2000,
          2001,
          2002,
          2003,
          2004,
          2005,
          2006,
          2007,
          2008,
          2009
         ],
         "y": [
          0.01508004803296309,
          0.013628477402456998,
          0.013417450165250719,
          0.012861938160925995,
          0.006430631713722377,
          0.01869161141106066,
          0.014187436990515327,
          0.039777356582188075,
          0.03244110527541196,
          0.0309181416675738,
          0.013594577378978873,
          0.01168678359577855,
          0.010563211153740676,
          0.01405691899129356,
          0.01924261651546275,
          0.018951366033856075,
          0.027579864889716213,
          0.012349974647134913,
          0.007384929715358538,
          0.010026077905954419,
          0.012624081585914059,
          0.010306896324940956,
          0.01776355099499268,
          0.02260419809970971,
          0.018133957670950527,
          0.019750120651350848,
          0.02521744394449378,
          0.023535252915196894,
          0.016025734580228778,
          0.021488032529939315,
          0.012727845479137601,
          0.0071144983997932145,
          0.012721393773619933,
          0.011699717786979239,
          0.010369611127080562,
          0.013562427665784842,
          0.011214282734200326,
          0.014795917475637771,
          0.012155469421408695,
          0.011478831030595316,
          0.011021952520348901,
          0.011720327682856267,
          0.01200559923429747,
          0.01319889228635422,
          0.009503377905633074,
          0.012445084172307974,
          0.009300558887293772,
          0.004862548398177884,
          0.005603987667434165,
          0.006991407823129164
         ]
        },
        {
         "legendgroup": "Male",
         "line": {
          "color": "blue"
         },
         "mode": "lines+markers",
         "name": "Male",
         "type": "scatter",
         "x": [
          1960,
          1961,
          1962,
          1963,
          1964,
          1965,
          1966,
          1967,
          1968,
          1969,
          1970,
          1971,
          1972,
          1973,
          1974,
          1975,
          1976,
          1977,
          1978,
          1979,
          1980,
          1981,
          1982,
          1983,
          1984,
          1985,
          1986,
          1987,
          1988,
          1989,
          1990,
          1991,
          1992,
          1993,
          1994,
          1995,
          1996,
          1997,
          1998,
          1999,
          2000,
          2001,
          2002,
          2003,
          2004,
          2005,
          2006,
          2007,
          2008,
          2009
         ],
         "y": [
          0.032288205077007914,
          0.022371421689682144,
          0.019596307638780033,
          0.02038399003087299,
          0.020212543237935074,
          0.013034078704810076,
          0.01428727868709142,
          0.03400555725118974,
          0.037049717248885686,
          0.030442550930789267,
          0.0196124362677016,
          0.01622011696582753,
          0.013506707360033817,
          0.014819837201893615,
          0.009903121972485872,
          0.0179515773829018,
          0.01705373529089129,
          0.01496740568372259,
          0.01231437369445379,
          0.009810068188582481,
          0.027738480956084964,
          0.012784966533034299,
          0.01626863775678413,
          0.010030398482549253,
          0.015642260310469804,
          0.010058455869210652,
          0.015066441776934579,
          0.01508406544502841,
          0.015058543946638399,
          0.0167935659790043,
          0.02282978595681189,
          0.01222966920576834,
          0.012645815390387222,
          0.014132092277305757,
          0.01875342954619106,
          0.018702449994525815,
          0.014182270923739953,
          0.017742588231621014,
          0.011342882718666816,
          0.012747060315089494,
          0.010338012242027116,
          0.01141211644205321,
          0.009346372462166934,
          0.007859478884480544,
          0.009111418928624965,
          0.01088750653791938,
          0.010674876786593927,
          0.00959859978079465,
          0.009755338225916782,
          0.008890907483143645
         ]
        },
        {
         "legendgroup": "Male",
         "line": {
          "color": "blue",
          "width": 0
         },
         "mode": "lines",
         "name": "Male 95% CI",
         "showlegend": false,
         "type": "scatter",
         "x": [
          1960,
          1961,
          1962,
          1963,
          1964,
          1965,
          1966,
          1967,
          1968,
          1969,
          1970,
          1971,
          1972,
          1973,
          1974,
          1975,
          1976,
          1977,
          1978,
          1979,
          1980,
          1981,
          1982,
          1983,
          1984,
          1985,
          1986,
          1987,
          1988,
          1989,
          1990,
          1991,
          1992,
          1993,
          1994,
          1995,
          1996,
          1997,
          1998,
          1999,
          2000,
          2001,
          2002,
          2003,
          2004,
          2005,
          2006,
          2007,
          2008,
          2009
         ],
         "y": [
          0.03414836002696238,
          0.024231576639636605,
          0.021456462588734494,
          0.02224414498082745,
          0.022072698187889535,
          0.014894233654764538,
          0.016147433637045884,
          0.035865712201144206,
          0.03890987219884015,
          0.03230270588074373,
          0.021472591217656063,
          0.01808027191578199,
          0.015366862309988278,
          0.016679992151848077,
          0.011763276922440334,
          0.019811732332856262,
          0.018913890240845752,
          0.016827560633677054,
          0.014174528644408251,
          0.011670223138536943,
          0.029598635906039426,
          0.01464512148298876,
          0.018128792706738592,
          0.011890553432503715,
          0.017502415260424266,
          0.011918610819165114,
          0.01692659672688904,
          0.016944220394982872,
          0.016918698896592862,
          0.018653720928958763,
          0.02468994090676635,
          0.014089824155722802,
          0.014505970340341684,
          0.01599224722726022,
          0.02061358449614552,
          0.020562604944480277,
          0.016042425873694414,
          0.019602743181575476,
          0.013203037668621277,
          0.014607215265043955,
          0.012198167191981578,
          0.013272271392007672,
          0.011206527412121395,
          0.009719633834435006,
          0.010971573878579426,
          0.012747661487873842,
          0.012535031736548389,
          0.011458754730749112,
          0.011615493175871244,
          0.010751062433098106
         ]
        },
        {
         "fill": "tonexty",
         "line": {
          "color": "blue",
          "width": 0
         },
         "mode": "lines",
         "name": "Male 95% CI",
         "type": "scatter",
         "x": [
          1960,
          1961,
          1962,
          1963,
          1964,
          1965,
          1966,
          1967,
          1968,
          1969,
          1970,
          1971,
          1972,
          1973,
          1974,
          1975,
          1976,
          1977,
          1978,
          1979,
          1980,
          1981,
          1982,
          1983,
          1984,
          1985,
          1986,
          1987,
          1988,
          1989,
          1990,
          1991,
          1992,
          1993,
          1994,
          1995,
          1996,
          1997,
          1998,
          1999,
          2000,
          2001,
          2002,
          2003,
          2004,
          2005,
          2006,
          2007,
          2008,
          2009
         ],
         "y": [
          0.030428050127053453,
          0.020511266739727682,
          0.01773615268882557,
          0.018523835080918528,
          0.018352388287980612,
          0.011173923754855614,
          0.012427123737136959,
          0.032145402301235276,
          0.03518956229893122,
          0.028582395980834806,
          0.01775228131774714,
          0.014359962015873067,
          0.011646552410079355,
          0.012959682251939154,
          0.00804296702253141,
          0.01609142243294734,
          0.015193580340936829,
          0.013107250733768129,
          0.010454218744499328,
          0.00794991323862802,
          0.025878326006130502,
          0.010924811583079837,
          0.01440848280682967,
          0.008170243532594792,
          0.013782105360515343,
          0.00819830091925619,
          0.013206286826980117,
          0.013223910495073949,
          0.013198388996683937,
          0.01493341102904984,
          0.020969631006857427,
          0.010369514255813879,
          0.01078566044043276,
          0.012271937327351295,
          0.016893274596236598,
          0.016842295044571354,
          0.012322115973785491,
          0.015882433281666553,
          0.009482727768712354,
          0.010886905365135032,
          0.008477857292072654,
          0.009551961492098748,
          0.007486217512212471,
          0.0059993239345260815,
          0.007251263978670502,
          0.00902735158796492,
          0.008814721836639465,
          0.007738444830840188,
          0.00789518327596232,
          0.007030752533189182
         ]
        }
       ],
       "layout": {
        "template": {
         "data": {
          "bar": [
           {
            "error_x": {
             "color": "#2a3f5f"
            },
            "error_y": {
             "color": "#2a3f5f"
            },
            "marker": {
             "line": {
              "color": "#E5ECF6",
              "width": 0.5
             },
             "pattern": {
              "fillmode": "overlay",
              "size": 10,
              "solidity": 0.2
             }
            },
            "type": "bar"
           }
          ],
          "barpolar": [
           {
            "marker": {
             "line": {
              "color": "#E5ECF6",
              "width": 0.5
             },
             "pattern": {
              "fillmode": "overlay",
              "size": 10,
              "solidity": 0.2
             }
            },
            "type": "barpolar"
           }
          ],
          "carpet": [
           {
            "aaxis": {
             "endlinecolor": "#2a3f5f",
             "gridcolor": "white",
             "linecolor": "white",
             "minorgridcolor": "white",
             "startlinecolor": "#2a3f5f"
            },
            "baxis": {
             "endlinecolor": "#2a3f5f",
             "gridcolor": "white",
             "linecolor": "white",
             "minorgridcolor": "white",
             "startlinecolor": "#2a3f5f"
            },
            "type": "carpet"
           }
          ],
          "choropleth": [
           {
            "colorbar": {
             "outlinewidth": 0,
             "ticks": ""
            },
            "type": "choropleth"
           }
          ],
          "contour": [
           {
            "colorbar": {
             "outlinewidth": 0,
             "ticks": ""
            },
            "colorscale": [
             [
              0,
              "#0d0887"
             ],
             [
              0.1111111111111111,
              "#46039f"
             ],
             [
              0.2222222222222222,
              "#7201a8"
             ],
             [
              0.3333333333333333,
              "#9c179e"
             ],
             [
              0.4444444444444444,
              "#bd3786"
             ],
             [
              0.5555555555555556,
              "#d8576b"
             ],
             [
              0.6666666666666666,
              "#ed7953"
             ],
             [
              0.7777777777777778,
              "#fb9f3a"
             ],
             [
              0.8888888888888888,
              "#fdca26"
             ],
             [
              1,
              "#f0f921"
             ]
            ],
            "type": "contour"
           }
          ],
          "contourcarpet": [
           {
            "colorbar": {
             "outlinewidth": 0,
             "ticks": ""
            },
            "type": "contourcarpet"
           }
          ],
          "heatmap": [
           {
            "colorbar": {
             "outlinewidth": 0,
             "ticks": ""
            },
            "colorscale": [
             [
              0,
              "#0d0887"
             ],
             [
              0.1111111111111111,
              "#46039f"
             ],
             [
              0.2222222222222222,
              "#7201a8"
             ],
             [
              0.3333333333333333,
              "#9c179e"
             ],
             [
              0.4444444444444444,
              "#bd3786"
             ],
             [
              0.5555555555555556,
              "#d8576b"
             ],
             [
              0.6666666666666666,
              "#ed7953"
             ],
             [
              0.7777777777777778,
              "#fb9f3a"
             ],
             [
              0.8888888888888888,
              "#fdca26"
             ],
             [
              1,
              "#f0f921"
             ]
            ],
            "type": "heatmap"
           }
          ],
          "heatmapgl": [
           {
            "colorbar": {
             "outlinewidth": 0,
             "ticks": ""
            },
            "colorscale": [
             [
              0,
              "#0d0887"
             ],
             [
              0.1111111111111111,
              "#46039f"
             ],
             [
              0.2222222222222222,
              "#7201a8"
             ],
             [
              0.3333333333333333,
              "#9c179e"
             ],
             [
              0.4444444444444444,
              "#bd3786"
             ],
             [
              0.5555555555555556,
              "#d8576b"
             ],
             [
              0.6666666666666666,
              "#ed7953"
             ],
             [
              0.7777777777777778,
              "#fb9f3a"
             ],
             [
              0.8888888888888888,
              "#fdca26"
             ],
             [
              1,
              "#f0f921"
             ]
            ],
            "type": "heatmapgl"
           }
          ],
          "histogram": [
           {
            "marker": {
             "pattern": {
              "fillmode": "overlay",
              "size": 10,
              "solidity": 0.2
             }
            },
            "type": "histogram"
           }
          ],
          "histogram2d": [
           {
            "colorbar": {
             "outlinewidth": 0,
             "ticks": ""
            },
            "colorscale": [
             [
              0,
              "#0d0887"
             ],
             [
              0.1111111111111111,
              "#46039f"
             ],
             [
              0.2222222222222222,
              "#7201a8"
             ],
             [
              0.3333333333333333,
              "#9c179e"
             ],
             [
              0.4444444444444444,
              "#bd3786"
             ],
             [
              0.5555555555555556,
              "#d8576b"
             ],
             [
              0.6666666666666666,
              "#ed7953"
             ],
             [
              0.7777777777777778,
              "#fb9f3a"
             ],
             [
              0.8888888888888888,
              "#fdca26"
             ],
             [
              1,
              "#f0f921"
             ]
            ],
            "type": "histogram2d"
           }
          ],
          "histogram2dcontour": [
           {
            "colorbar": {
             "outlinewidth": 0,
             "ticks": ""
            },
            "colorscale": [
             [
              0,
              "#0d0887"
             ],
             [
              0.1111111111111111,
              "#46039f"
             ],
             [
              0.2222222222222222,
              "#7201a8"
             ],
             [
              0.3333333333333333,
              "#9c179e"
             ],
             [
              0.4444444444444444,
              "#bd3786"
             ],
             [
              0.5555555555555556,
              "#d8576b"
             ],
             [
              0.6666666666666666,
              "#ed7953"
             ],
             [
              0.7777777777777778,
              "#fb9f3a"
             ],
             [
              0.8888888888888888,
              "#fdca26"
             ],
             [
              1,
              "#f0f921"
             ]
            ],
            "type": "histogram2dcontour"
           }
          ],
          "mesh3d": [
           {
            "colorbar": {
             "outlinewidth": 0,
             "ticks": ""
            },
            "type": "mesh3d"
           }
          ],
          "parcoords": [
           {
            "line": {
             "colorbar": {
              "outlinewidth": 0,
              "ticks": ""
             }
            },
            "type": "parcoords"
           }
          ],
          "pie": [
           {
            "automargin": true,
            "type": "pie"
           }
          ],
          "scatter": [
           {
            "fillpattern": {
             "fillmode": "overlay",
             "size": 10,
             "solidity": 0.2
            },
            "type": "scatter"
           }
          ],
          "scatter3d": [
           {
            "line": {
             "colorbar": {
              "outlinewidth": 0,
              "ticks": ""
             }
            },
            "marker": {
             "colorbar": {
              "outlinewidth": 0,
              "ticks": ""
             }
            },
            "type": "scatter3d"
           }
          ],
          "scattercarpet": [
           {
            "marker": {
             "colorbar": {
              "outlinewidth": 0,
              "ticks": ""
             }
            },
            "type": "scattercarpet"
           }
          ],
          "scattergeo": [
           {
            "marker": {
             "colorbar": {
              "outlinewidth": 0,
              "ticks": ""
             }
            },
            "type": "scattergeo"
           }
          ],
          "scattergl": [
           {
            "marker": {
             "colorbar": {
              "outlinewidth": 0,
              "ticks": ""
             }
            },
            "type": "scattergl"
           }
          ],
          "scattermapbox": [
           {
            "marker": {
             "colorbar": {
              "outlinewidth": 0,
              "ticks": ""
             }
            },
            "type": "scattermapbox"
           }
          ],
          "scatterpolar": [
           {
            "marker": {
             "colorbar": {
              "outlinewidth": 0,
              "ticks": ""
             }
            },
            "type": "scatterpolar"
           }
          ],
          "scatterpolargl": [
           {
            "marker": {
             "colorbar": {
              "outlinewidth": 0,
              "ticks": ""
             }
            },
            "type": "scatterpolargl"
           }
          ],
          "scatterternary": [
           {
            "marker": {
             "colorbar": {
              "outlinewidth": 0,
              "ticks": ""
             }
            },
            "type": "scatterternary"
           }
          ],
          "surface": [
           {
            "colorbar": {
             "outlinewidth": 0,
             "ticks": ""
            },
            "colorscale": [
             [
              0,
              "#0d0887"
             ],
             [
              0.1111111111111111,
              "#46039f"
             ],
             [
              0.2222222222222222,
              "#7201a8"
             ],
             [
              0.3333333333333333,
              "#9c179e"
             ],
             [
              0.4444444444444444,
              "#bd3786"
             ],
             [
              0.5555555555555556,
              "#d8576b"
             ],
             [
              0.6666666666666666,
              "#ed7953"
             ],
             [
              0.7777777777777778,
              "#fb9f3a"
             ],
             [
              0.8888888888888888,
              "#fdca26"
             ],
             [
              1,
              "#f0f921"
             ]
            ],
            "type": "surface"
           }
          ],
          "table": [
           {
            "cells": {
             "fill": {
              "color": "#EBF0F8"
             },
             "line": {
              "color": "white"
             }
            },
            "header": {
             "fill": {
              "color": "#C8D4E3"
             },
             "line": {
              "color": "white"
             }
            },
            "type": "table"
           }
          ]
         },
         "layout": {
          "annotationdefaults": {
           "arrowcolor": "#2a3f5f",
           "arrowhead": 0,
           "arrowwidth": 1
          },
          "autotypenumbers": "strict",
          "coloraxis": {
           "colorbar": {
            "outlinewidth": 0,
            "ticks": ""
           }
          },
          "colorscale": {
           "diverging": [
            [
             0,
             "#8e0152"
            ],
            [
             0.1,
             "#c51b7d"
            ],
            [
             0.2,
             "#de77ae"
            ],
            [
             0.3,
             "#f1b6da"
            ],
            [
             0.4,
             "#fde0ef"
            ],
            [
             0.5,
             "#f7f7f7"
            ],
            [
             0.6,
             "#e6f5d0"
            ],
            [
             0.7,
             "#b8e186"
            ],
            [
             0.8,
             "#7fbc41"
            ],
            [
             0.9,
             "#4d9221"
            ],
            [
             1,
             "#276419"
            ]
           ],
           "sequential": [
            [
             0,
             "#0d0887"
            ],
            [
             0.1111111111111111,
             "#46039f"
            ],
            [
             0.2222222222222222,
             "#7201a8"
            ],
            [
             0.3333333333333333,
             "#9c179e"
            ],
            [
             0.4444444444444444,
             "#bd3786"
            ],
            [
             0.5555555555555556,
             "#d8576b"
            ],
            [
             0.6666666666666666,
             "#ed7953"
            ],
            [
             0.7777777777777778,
             "#fb9f3a"
            ],
            [
             0.8888888888888888,
             "#fdca26"
            ],
            [
             1,
             "#f0f921"
            ]
           ],
           "sequentialminus": [
            [
             0,
             "#0d0887"
            ],
            [
             0.1111111111111111,
             "#46039f"
            ],
            [
             0.2222222222222222,
             "#7201a8"
            ],
            [
             0.3333333333333333,
             "#9c179e"
            ],
            [
             0.4444444444444444,
             "#bd3786"
            ],
            [
             0.5555555555555556,
             "#d8576b"
            ],
            [
             0.6666666666666666,
             "#ed7953"
            ],
            [
             0.7777777777777778,
             "#fb9f3a"
            ],
            [
             0.8888888888888888,
             "#fdca26"
            ],
            [
             1,
             "#f0f921"
            ]
           ]
          },
          "colorway": [
           "#636efa",
           "#EF553B",
           "#00cc96",
           "#ab63fa",
           "#FFA15A",
           "#19d3f3",
           "#FF6692",
           "#B6E880",
           "#FF97FF",
           "#FECB52"
          ],
          "font": {
           "color": "#2a3f5f"
          },
          "geo": {
           "bgcolor": "white",
           "lakecolor": "white",
           "landcolor": "#E5ECF6",
           "showlakes": true,
           "showland": true,
           "subunitcolor": "white"
          },
          "hoverlabel": {
           "align": "left"
          },
          "hovermode": "closest",
          "mapbox": {
           "style": "light"
          },
          "paper_bgcolor": "white",
          "plot_bgcolor": "#E5ECF6",
          "polar": {
           "angularaxis": {
            "gridcolor": "white",
            "linecolor": "white",
            "ticks": ""
           },
           "bgcolor": "#E5ECF6",
           "radialaxis": {
            "gridcolor": "white",
            "linecolor": "white",
            "ticks": ""
           }
          },
          "scene": {
           "xaxis": {
            "backgroundcolor": "#E5ECF6",
            "gridcolor": "white",
            "gridwidth": 2,
            "linecolor": "white",
            "showbackground": true,
            "ticks": "",
            "zerolinecolor": "white"
           },
           "yaxis": {
            "backgroundcolor": "#E5ECF6",
            "gridcolor": "white",
            "gridwidth": 2,
            "linecolor": "white",
            "showbackground": true,
            "ticks": "",
            "zerolinecolor": "white"
           },
           "zaxis": {
            "backgroundcolor": "#E5ECF6",
            "gridcolor": "white",
            "gridwidth": 2,
            "linecolor": "white",
            "showbackground": true,
            "ticks": "",
            "zerolinecolor": "white"
           }
          },
          "shapedefaults": {
           "line": {
            "color": "#2a3f5f"
           }
          },
          "ternary": {
           "aaxis": {
            "gridcolor": "white",
            "linecolor": "white",
            "ticks": ""
           },
           "baxis": {
            "gridcolor": "white",
            "linecolor": "white",
            "ticks": ""
           },
           "bgcolor": "#E5ECF6",
           "caxis": {
            "gridcolor": "white",
            "linecolor": "white",
            "ticks": ""
           }
          },
          "title": {
           "x": 0.05
          },
          "xaxis": {
           "automargin": true,
           "gridcolor": "white",
           "linecolor": "white",
           "ticks": "",
           "title": {
            "standoff": 15
           },
           "zerolinecolor": "white",
           "zerolinewidth": 2
          },
          "yaxis": {
           "automargin": true,
           "gridcolor": "white",
           "linecolor": "white",
           "ticks": "",
           "title": {
            "standoff": 15
           },
           "zerolinecolor": "white",
           "zerolinewidth": 2
          }
         }
        },
        "title": {
         "text": "Average Magnitude of Significant Slope Change for year order and each Gender"
        },
        "xaxis": {
         "title": {
          "text": "Year"
         }
        },
        "yaxis": {
         "title": {
          "text": "Slope Change"
         }
        }
       }
      }
     },
     "metadata": {},
     "output_type": "display_data"
    }
   ],
   "source": [
    "#Plot the average magnitude for significant slope change for Male and Female over years\n",
    "df_reset = name_by_order_by_gender_prop_df_year.reset_index()\n",
    "\n",
    "df_reset['gender'] = df_reset['gender'].replace({'M': 'Male', 'F': 'Female'})\n",
    "\n",
    "# Filter the data for years between 1960 and 2009\n",
    "df_filtered = df_reset[(df_reset['year'] >= 1960) & (df_reset['year'] <= 2009)]\n",
    "\n",
    "# Get the unique years from the filtered DataFrame\n",
    "order_values = df_filtered['year'].unique()\n",
    "\n",
    "# Select the genders you want to plot\n",
    "genders_to_plot = ['Female', 'Male']\n",
    "\n",
    "\n",
    "fig = go.Figure()\n",
    "\n",
    "# Define the main line plot for each gender using the filtered data\n",
    "colors = ['red', 'blue']\n",
    "\n",
    "for i, gender in enumerate(genders_to_plot):\n",
    "    y_values = df_filtered[df_filtered['gender'] == gender]['avg_magnitude_slope_change_significant']\n",
    "    error_y_values = y_values.sem()\n",
    "\n",
    "    main_trace = go.Scatter(\n",
    "        x=order_values,\n",
    "        y=y_values,\n",
    "        mode='lines+markers',\n",
    "        name=gender,\n",
    "        line=dict(color=colors[i]),\n",
    "        legendgroup=gender,\n",
    "    )\n",
    "\n",
    "    # Add the main line trace to the figure\n",
    "    fig.add_trace(main_trace)\n",
    "\n",
    "    # Calculate confidence interval data\n",
    "    lower_ci = y_values - 1.96 * error_y_values\n",
    "    upper_ci = y_values + 1.96 * error_y_values\n",
    "\n",
    "    # Add the trace for confidence interval\n",
    "    ci_trace = go.Scatter(\n",
    "        x=order_values,\n",
    "        y=upper_ci,\n",
    "        mode='lines',\n",
    "        line=dict(color=colors[i], width=0),\n",
    "        name=f'{gender} 95% CI',\n",
    "        showlegend=False,\n",
    "        legendgroup=gender,\n",
    "    )\n",
    "\n",
    "    fig.add_trace(ci_trace)\n",
    "\n",
    "    # Add the filled area between the main line and confidence interval\n",
    "    fig.add_trace(go.Scatter(\n",
    "        x=order_values,\n",
    "        y=lower_ci,\n",
    "        mode='lines',\n",
    "        line=dict(color=colors[i], width=0),\n",
    "        name=f'{gender} 95% CI',\n",
    "        fill='tonexty',\n",
    "    ))\n",
    "\n",
    "# Update the layout\n",
    "fig.update_layout(\n",
    "    title='Average Magnitude of Significant Slope Change for year order and each Gender',\n",
    "    xaxis_title='Year',\n",
    "    yaxis_title='Slope Change',\n",
    ")\n",
    "\n",
    "\n",
    "fig.show()"
   ]
  },
  {
   "cell_type": "code",
   "execution_count": 263,
   "metadata": {},
   "outputs": [],
   "source": [
    "name_by_movie_df['slope_change_abs'] = name_by_movie_df['slope_change'].abs()\n",
    "male_name_by_movie_df = name_by_movie_df[(name_by_movie_df['gender'] == 'M') & (name_by_movie_df['p_value'] <= 0.05)].copy(deep=True)\n",
    "female_name_by_movie_df = name_by_movie_df[(name_by_movie_df['gender'] == 'F') & (name_by_movie_df['p_value'] <= 0.05)].copy(deep=True)"
   ]
  },
  {
   "cell_type": "code",
   "execution_count": 264,
   "metadata": {},
   "outputs": [],
   "source": [
    "# Function to compute proportion of significant values and corresponding standard error for confidence interval\n",
    "def q5_prop_and_ci(data):\n",
    "    proportion = data['slope_change_abs'].mean()\n",
    "    se = st.sem(data['slope_change_abs'])\n",
    "\n",
    "    ci_upper = proportion + 1.96*se\n",
    "    ci_lower = proportion - 1.96*se\n",
    "    return pd.Series({\n",
    "        'proportion': proportion,\n",
    "        'ci_lower': ci_lower,\n",
    "        'ci_upper': ci_upper\n",
    "    })\n",
    "\n",
    "prop_male = q5_prop_and_ci(male_name_by_movie_df)\n",
    "prop_female = q5_prop_and_ci(female_name_by_movie_df)"
   ]
  },
  {
   "cell_type": "code",
   "execution_count": 265,
   "metadata": {},
   "outputs": [
    {
     "data": {
      "application/vnd.plotly.v1+json": {
       "config": {
        "plotlyServerURL": "https://plot.ly"
       },
       "data": [
        {
         "error_y": {
          "array": [
           0.0004071614881648259,
           0.0004071614881648259
          ],
          "type": "data"
         },
         "marker": {
          "color": "#4361ee",
          "size": 10
         },
         "mode": "markers+lines",
         "name": "Male",
         "type": "scatter",
         "x": [
          "Male"
         ],
         "y": [
          0.013630144454095315
         ]
        },
        {
         "error_y": {
          "array": [
           0.0005854817230997213,
           0.0005854817230997213
          ],
          "type": "data"
         },
         "marker": {
          "color": "#FC8EAC",
          "size": 10
         },
         "mode": "markers+lines",
         "name": "Female",
         "type": "scatter",
         "x": [
          "Female"
         ],
         "y": [
          0.014830808350414917
         ]
        }
       ],
       "layout": {
        "template": {
         "data": {
          "bar": [
           {
            "error_x": {
             "color": "#2a3f5f"
            },
            "error_y": {
             "color": "#2a3f5f"
            },
            "marker": {
             "line": {
              "color": "#E5ECF6",
              "width": 0.5
             },
             "pattern": {
              "fillmode": "overlay",
              "size": 10,
              "solidity": 0.2
             }
            },
            "type": "bar"
           }
          ],
          "barpolar": [
           {
            "marker": {
             "line": {
              "color": "#E5ECF6",
              "width": 0.5
             },
             "pattern": {
              "fillmode": "overlay",
              "size": 10,
              "solidity": 0.2
             }
            },
            "type": "barpolar"
           }
          ],
          "carpet": [
           {
            "aaxis": {
             "endlinecolor": "#2a3f5f",
             "gridcolor": "white",
             "linecolor": "white",
             "minorgridcolor": "white",
             "startlinecolor": "#2a3f5f"
            },
            "baxis": {
             "endlinecolor": "#2a3f5f",
             "gridcolor": "white",
             "linecolor": "white",
             "minorgridcolor": "white",
             "startlinecolor": "#2a3f5f"
            },
            "type": "carpet"
           }
          ],
          "choropleth": [
           {
            "colorbar": {
             "outlinewidth": 0,
             "ticks": ""
            },
            "type": "choropleth"
           }
          ],
          "contour": [
           {
            "colorbar": {
             "outlinewidth": 0,
             "ticks": ""
            },
            "colorscale": [
             [
              0,
              "#0d0887"
             ],
             [
              0.1111111111111111,
              "#46039f"
             ],
             [
              0.2222222222222222,
              "#7201a8"
             ],
             [
              0.3333333333333333,
              "#9c179e"
             ],
             [
              0.4444444444444444,
              "#bd3786"
             ],
             [
              0.5555555555555556,
              "#d8576b"
             ],
             [
              0.6666666666666666,
              "#ed7953"
             ],
             [
              0.7777777777777778,
              "#fb9f3a"
             ],
             [
              0.8888888888888888,
              "#fdca26"
             ],
             [
              1,
              "#f0f921"
             ]
            ],
            "type": "contour"
           }
          ],
          "contourcarpet": [
           {
            "colorbar": {
             "outlinewidth": 0,
             "ticks": ""
            },
            "type": "contourcarpet"
           }
          ],
          "heatmap": [
           {
            "colorbar": {
             "outlinewidth": 0,
             "ticks": ""
            },
            "colorscale": [
             [
              0,
              "#0d0887"
             ],
             [
              0.1111111111111111,
              "#46039f"
             ],
             [
              0.2222222222222222,
              "#7201a8"
             ],
             [
              0.3333333333333333,
              "#9c179e"
             ],
             [
              0.4444444444444444,
              "#bd3786"
             ],
             [
              0.5555555555555556,
              "#d8576b"
             ],
             [
              0.6666666666666666,
              "#ed7953"
             ],
             [
              0.7777777777777778,
              "#fb9f3a"
             ],
             [
              0.8888888888888888,
              "#fdca26"
             ],
             [
              1,
              "#f0f921"
             ]
            ],
            "type": "heatmap"
           }
          ],
          "heatmapgl": [
           {
            "colorbar": {
             "outlinewidth": 0,
             "ticks": ""
            },
            "colorscale": [
             [
              0,
              "#0d0887"
             ],
             [
              0.1111111111111111,
              "#46039f"
             ],
             [
              0.2222222222222222,
              "#7201a8"
             ],
             [
              0.3333333333333333,
              "#9c179e"
             ],
             [
              0.4444444444444444,
              "#bd3786"
             ],
             [
              0.5555555555555556,
              "#d8576b"
             ],
             [
              0.6666666666666666,
              "#ed7953"
             ],
             [
              0.7777777777777778,
              "#fb9f3a"
             ],
             [
              0.8888888888888888,
              "#fdca26"
             ],
             [
              1,
              "#f0f921"
             ]
            ],
            "type": "heatmapgl"
           }
          ],
          "histogram": [
           {
            "marker": {
             "pattern": {
              "fillmode": "overlay",
              "size": 10,
              "solidity": 0.2
             }
            },
            "type": "histogram"
           }
          ],
          "histogram2d": [
           {
            "colorbar": {
             "outlinewidth": 0,
             "ticks": ""
            },
            "colorscale": [
             [
              0,
              "#0d0887"
             ],
             [
              0.1111111111111111,
              "#46039f"
             ],
             [
              0.2222222222222222,
              "#7201a8"
             ],
             [
              0.3333333333333333,
              "#9c179e"
             ],
             [
              0.4444444444444444,
              "#bd3786"
             ],
             [
              0.5555555555555556,
              "#d8576b"
             ],
             [
              0.6666666666666666,
              "#ed7953"
             ],
             [
              0.7777777777777778,
              "#fb9f3a"
             ],
             [
              0.8888888888888888,
              "#fdca26"
             ],
             [
              1,
              "#f0f921"
             ]
            ],
            "type": "histogram2d"
           }
          ],
          "histogram2dcontour": [
           {
            "colorbar": {
             "outlinewidth": 0,
             "ticks": ""
            },
            "colorscale": [
             [
              0,
              "#0d0887"
             ],
             [
              0.1111111111111111,
              "#46039f"
             ],
             [
              0.2222222222222222,
              "#7201a8"
             ],
             [
              0.3333333333333333,
              "#9c179e"
             ],
             [
              0.4444444444444444,
              "#bd3786"
             ],
             [
              0.5555555555555556,
              "#d8576b"
             ],
             [
              0.6666666666666666,
              "#ed7953"
             ],
             [
              0.7777777777777778,
              "#fb9f3a"
             ],
             [
              0.8888888888888888,
              "#fdca26"
             ],
             [
              1,
              "#f0f921"
             ]
            ],
            "type": "histogram2dcontour"
           }
          ],
          "mesh3d": [
           {
            "colorbar": {
             "outlinewidth": 0,
             "ticks": ""
            },
            "type": "mesh3d"
           }
          ],
          "parcoords": [
           {
            "line": {
             "colorbar": {
              "outlinewidth": 0,
              "ticks": ""
             }
            },
            "type": "parcoords"
           }
          ],
          "pie": [
           {
            "automargin": true,
            "type": "pie"
           }
          ],
          "scatter": [
           {
            "fillpattern": {
             "fillmode": "overlay",
             "size": 10,
             "solidity": 0.2
            },
            "type": "scatter"
           }
          ],
          "scatter3d": [
           {
            "line": {
             "colorbar": {
              "outlinewidth": 0,
              "ticks": ""
             }
            },
            "marker": {
             "colorbar": {
              "outlinewidth": 0,
              "ticks": ""
             }
            },
            "type": "scatter3d"
           }
          ],
          "scattercarpet": [
           {
            "marker": {
             "colorbar": {
              "outlinewidth": 0,
              "ticks": ""
             }
            },
            "type": "scattercarpet"
           }
          ],
          "scattergeo": [
           {
            "marker": {
             "colorbar": {
              "outlinewidth": 0,
              "ticks": ""
             }
            },
            "type": "scattergeo"
           }
          ],
          "scattergl": [
           {
            "marker": {
             "colorbar": {
              "outlinewidth": 0,
              "ticks": ""
             }
            },
            "type": "scattergl"
           }
          ],
          "scattermapbox": [
           {
            "marker": {
             "colorbar": {
              "outlinewidth": 0,
              "ticks": ""
             }
            },
            "type": "scattermapbox"
           }
          ],
          "scatterpolar": [
           {
            "marker": {
             "colorbar": {
              "outlinewidth": 0,
              "ticks": ""
             }
            },
            "type": "scatterpolar"
           }
          ],
          "scatterpolargl": [
           {
            "marker": {
             "colorbar": {
              "outlinewidth": 0,
              "ticks": ""
             }
            },
            "type": "scatterpolargl"
           }
          ],
          "scatterternary": [
           {
            "marker": {
             "colorbar": {
              "outlinewidth": 0,
              "ticks": ""
             }
            },
            "type": "scatterternary"
           }
          ],
          "surface": [
           {
            "colorbar": {
             "outlinewidth": 0,
             "ticks": ""
            },
            "colorscale": [
             [
              0,
              "#0d0887"
             ],
             [
              0.1111111111111111,
              "#46039f"
             ],
             [
              0.2222222222222222,
              "#7201a8"
             ],
             [
              0.3333333333333333,
              "#9c179e"
             ],
             [
              0.4444444444444444,
              "#bd3786"
             ],
             [
              0.5555555555555556,
              "#d8576b"
             ],
             [
              0.6666666666666666,
              "#ed7953"
             ],
             [
              0.7777777777777778,
              "#fb9f3a"
             ],
             [
              0.8888888888888888,
              "#fdca26"
             ],
             [
              1,
              "#f0f921"
             ]
            ],
            "type": "surface"
           }
          ],
          "table": [
           {
            "cells": {
             "fill": {
              "color": "#EBF0F8"
             },
             "line": {
              "color": "white"
             }
            },
            "header": {
             "fill": {
              "color": "#C8D4E3"
             },
             "line": {
              "color": "white"
             }
            },
            "type": "table"
           }
          ]
         },
         "layout": {
          "annotationdefaults": {
           "arrowcolor": "#2a3f5f",
           "arrowhead": 0,
           "arrowwidth": 1
          },
          "autotypenumbers": "strict",
          "coloraxis": {
           "colorbar": {
            "outlinewidth": 0,
            "ticks": ""
           }
          },
          "colorscale": {
           "diverging": [
            [
             0,
             "#8e0152"
            ],
            [
             0.1,
             "#c51b7d"
            ],
            [
             0.2,
             "#de77ae"
            ],
            [
             0.3,
             "#f1b6da"
            ],
            [
             0.4,
             "#fde0ef"
            ],
            [
             0.5,
             "#f7f7f7"
            ],
            [
             0.6,
             "#e6f5d0"
            ],
            [
             0.7,
             "#b8e186"
            ],
            [
             0.8,
             "#7fbc41"
            ],
            [
             0.9,
             "#4d9221"
            ],
            [
             1,
             "#276419"
            ]
           ],
           "sequential": [
            [
             0,
             "#0d0887"
            ],
            [
             0.1111111111111111,
             "#46039f"
            ],
            [
             0.2222222222222222,
             "#7201a8"
            ],
            [
             0.3333333333333333,
             "#9c179e"
            ],
            [
             0.4444444444444444,
             "#bd3786"
            ],
            [
             0.5555555555555556,
             "#d8576b"
            ],
            [
             0.6666666666666666,
             "#ed7953"
            ],
            [
             0.7777777777777778,
             "#fb9f3a"
            ],
            [
             0.8888888888888888,
             "#fdca26"
            ],
            [
             1,
             "#f0f921"
            ]
           ],
           "sequentialminus": [
            [
             0,
             "#0d0887"
            ],
            [
             0.1111111111111111,
             "#46039f"
            ],
            [
             0.2222222222222222,
             "#7201a8"
            ],
            [
             0.3333333333333333,
             "#9c179e"
            ],
            [
             0.4444444444444444,
             "#bd3786"
            ],
            [
             0.5555555555555556,
             "#d8576b"
            ],
            [
             0.6666666666666666,
             "#ed7953"
            ],
            [
             0.7777777777777778,
             "#fb9f3a"
            ],
            [
             0.8888888888888888,
             "#fdca26"
            ],
            [
             1,
             "#f0f921"
            ]
           ]
          },
          "colorway": [
           "#636efa",
           "#EF553B",
           "#00cc96",
           "#ab63fa",
           "#FFA15A",
           "#19d3f3",
           "#FF6692",
           "#B6E880",
           "#FF97FF",
           "#FECB52"
          ],
          "font": {
           "color": "#2a3f5f"
          },
          "geo": {
           "bgcolor": "white",
           "lakecolor": "white",
           "landcolor": "#E5ECF6",
           "showlakes": true,
           "showland": true,
           "subunitcolor": "white"
          },
          "hoverlabel": {
           "align": "left"
          },
          "hovermode": "closest",
          "mapbox": {
           "style": "light"
          },
          "paper_bgcolor": "white",
          "plot_bgcolor": "#E5ECF6",
          "polar": {
           "angularaxis": {
            "gridcolor": "white",
            "linecolor": "white",
            "ticks": ""
           },
           "bgcolor": "#E5ECF6",
           "radialaxis": {
            "gridcolor": "white",
            "linecolor": "white",
            "ticks": ""
           }
          },
          "scene": {
           "xaxis": {
            "backgroundcolor": "#E5ECF6",
            "gridcolor": "white",
            "gridwidth": 2,
            "linecolor": "white",
            "showbackground": true,
            "ticks": "",
            "zerolinecolor": "white"
           },
           "yaxis": {
            "backgroundcolor": "#E5ECF6",
            "gridcolor": "white",
            "gridwidth": 2,
            "linecolor": "white",
            "showbackground": true,
            "ticks": "",
            "zerolinecolor": "white"
           },
           "zaxis": {
            "backgroundcolor": "#E5ECF6",
            "gridcolor": "white",
            "gridwidth": 2,
            "linecolor": "white",
            "showbackground": true,
            "ticks": "",
            "zerolinecolor": "white"
           }
          },
          "shapedefaults": {
           "line": {
            "color": "#2a3f5f"
           }
          },
          "ternary": {
           "aaxis": {
            "gridcolor": "white",
            "linecolor": "white",
            "ticks": ""
           },
           "baxis": {
            "gridcolor": "white",
            "linecolor": "white",
            "ticks": ""
           },
           "bgcolor": "#E5ECF6",
           "caxis": {
            "gridcolor": "white",
            "linecolor": "white",
            "ticks": ""
           }
          },
          "title": {
           "x": 0.05
          },
          "xaxis": {
           "automargin": true,
           "gridcolor": "white",
           "linecolor": "white",
           "ticks": "",
           "title": {
            "standoff": 15
           },
           "zerolinecolor": "white",
           "zerolinewidth": 2
          },
          "yaxis": {
           "automargin": true,
           "gridcolor": "white",
           "linecolor": "white",
           "ticks": "",
           "title": {
            "standoff": 15
           },
           "zerolinecolor": "white",
           "zerolinewidth": 2
          }
         }
        },
        "title": {
         "text": "Variation magnitude per gender"
        },
        "xaxis": {
         "range": [
          -0.5,
          1.5
         ]
        },
        "yaxis": {
         "title": {
          "text": "Slope Change Magnitude"
         }
        }
       }
      }
     },
     "metadata": {},
     "output_type": "display_data"
    }
   ],
   "source": [
    "# Create a Plotly figure\n",
    "fig = go.Figure()\n",
    "\n",
    "genders = ['Male', 'Female']\n",
    "colors = ['#4361ee', '#FC8EAC']\n",
    "\n",
    "for gender, color in zip(genders, colors):\n",
    "    prop_data = locals()[f'prop_{gender.lower()}']  # Access the variable dynamically\n",
    "    fig.add_trace(go.Scatter(\n",
    "        x=[gender],\n",
    "        y=[prop_data['proportion']],\n",
    "        error_y=dict(type='data', array=[prop_data['proportion'] - prop_data['ci_lower'], prop_data['ci_upper'] - prop_data['proportion']]),\n",
    "        mode='markers+lines',\n",
    "        name=gender,\n",
    "        marker=dict(color=color, size=10)\n",
    "    ))\n",
    "\n",
    "# Update layout for better visualization\n",
    "fig.update_layout(\n",
    "    yaxis=dict(title='Slope Change Magnitude'),\n",
    "    title='Variation magnitude per gender'\n",
    ")\n",
    "# Update layout to adjust the range of the x-axis\n",
    "fig.update_layout(\n",
    "    xaxis=dict(range=[-0.5, len(genders) - 0.5]),  # Adjust the range based on your data\n",
    ")\n",
    "# Show the plot\n",
    "fig.show()"
   ]
  },
  {
   "cell_type": "code",
   "execution_count": null,
   "metadata": {},
   "outputs": [],
   "source": []
  }
 ],
 "metadata": {
  "kernelspec": {
   "display_name": "ada",
   "language": "python",
   "name": "python3"
  },
  "language_info": {
   "codemirror_mode": {
    "name": "ipython",
    "version": 3
   },
   "file_extension": ".py",
   "mimetype": "text/x-python",
   "name": "python",
   "nbconvert_exporter": "python",
   "pygments_lexer": "ipython3",
   "version": "3.9.18"
  }
 },
 "nbformat": 4,
 "nbformat_minor": 2
}
