{
 "cells": [
  {
   "cell_type": "code",
   "execution_count": 100,
   "metadata": {},
   "outputs": [],
   "source": [
    "import pandas as pd\n",
    "import os\n",
    "from sklearn.neighbors import NearestNeighbors\n",
    "import networkx as nx\n",
    "\n",
    "import numpy as np\n",
    "import matplotlib.pyplot as plt\n",
    "from sklearn.linear_model import LinearRegression\n",
    "import plotly.express as px\n",
    "import scipy.stats as st\n",
    "import plotly.graph_objects as go"
   ]
  },
  {
   "cell_type": "markdown",
   "metadata": {},
   "source": [
    "# Parallel question Maxime"
   ]
  },
  {
   "cell_type": "code",
   "execution_count": 101,
   "metadata": {},
   "outputs": [
    {
     "data": {
      "text/html": [
       "<div>\n",
       "<style scoped>\n",
       "    .dataframe tbody tr th:only-of-type {\n",
       "        vertical-align: middle;\n",
       "    }\n",
       "\n",
       "    .dataframe tbody tr th {\n",
       "        vertical-align: top;\n",
       "    }\n",
       "\n",
       "    .dataframe thead th {\n",
       "        text-align: right;\n",
       "    }\n",
       "</style>\n",
       "<table border=\"1\" class=\"dataframe\">\n",
       "  <thead>\n",
       "    <tr style=\"text-align: right;\">\n",
       "      <th></th>\n",
       "      <th>mov_name</th>\n",
       "      <th>year</th>\n",
       "      <th>month</th>\n",
       "      <th>revenue</th>\n",
       "      <th>numVotes</th>\n",
       "      <th>averageRating</th>\n",
       "    </tr>\n",
       "    <tr>\n",
       "      <th>wiki_ID</th>\n",
       "      <th></th>\n",
       "      <th></th>\n",
       "      <th></th>\n",
       "      <th></th>\n",
       "      <th></th>\n",
       "      <th></th>\n",
       "    </tr>\n",
       "  </thead>\n",
       "  <tbody>\n",
       "    <tr>\n",
       "      <th>975900</th>\n",
       "      <td>Ghosts of Mars</td>\n",
       "      <td>2001</td>\n",
       "      <td>8.0</td>\n",
       "      <td>14010832.0</td>\n",
       "      <td>56880</td>\n",
       "      <td>4.9</td>\n",
       "    </tr>\n",
       "    <tr>\n",
       "      <th>3196793</th>\n",
       "      <td>Getting Away with Murder: The JonBenét Ramsey ...</td>\n",
       "      <td>2000</td>\n",
       "      <td>2.0</td>\n",
       "      <td>NaN</td>\n",
       "      <td>69</td>\n",
       "      <td>6.0</td>\n",
       "    </tr>\n",
       "    <tr>\n",
       "      <th>28463795</th>\n",
       "      <td>Brun bitter</td>\n",
       "      <td>1988</td>\n",
       "      <td>NaN</td>\n",
       "      <td>NaN</td>\n",
       "      <td>40</td>\n",
       "      <td>5.6</td>\n",
       "    </tr>\n",
       "    <tr>\n",
       "      <th>9363483</th>\n",
       "      <td>White Of The Eye</td>\n",
       "      <td>1987</td>\n",
       "      <td>NaN</td>\n",
       "      <td>NaN</td>\n",
       "      <td>2891</td>\n",
       "      <td>6.1</td>\n",
       "    </tr>\n",
       "    <tr>\n",
       "      <th>261236</th>\n",
       "      <td>A Woman in Flames</td>\n",
       "      <td>1983</td>\n",
       "      <td>NaN</td>\n",
       "      <td>NaN</td>\n",
       "      <td>623</td>\n",
       "      <td>5.9</td>\n",
       "    </tr>\n",
       "    <tr>\n",
       "      <th>...</th>\n",
       "      <td>...</td>\n",
       "      <td>...</td>\n",
       "      <td>...</td>\n",
       "      <td>...</td>\n",
       "      <td>...</td>\n",
       "      <td>...</td>\n",
       "    </tr>\n",
       "    <tr>\n",
       "      <th>35228177</th>\n",
       "      <td>Mermaids: The Body Found</td>\n",
       "      <td>2011</td>\n",
       "      <td>3.0</td>\n",
       "      <td>NaN</td>\n",
       "      <td>1711</td>\n",
       "      <td>4.6</td>\n",
       "    </tr>\n",
       "    <tr>\n",
       "      <th>34980460</th>\n",
       "      <td>Knuckle</td>\n",
       "      <td>2011</td>\n",
       "      <td>1.0</td>\n",
       "      <td>NaN</td>\n",
       "      <td>3192</td>\n",
       "      <td>6.8</td>\n",
       "    </tr>\n",
       "    <tr>\n",
       "      <th>9971909</th>\n",
       "      <td>Another Nice Mess</td>\n",
       "      <td>1972</td>\n",
       "      <td>9.0</td>\n",
       "      <td>NaN</td>\n",
       "      <td>111</td>\n",
       "      <td>5.8</td>\n",
       "    </tr>\n",
       "    <tr>\n",
       "      <th>913762</th>\n",
       "      <td>The Super Dimension Fortress Macross II: Lover...</td>\n",
       "      <td>1992</td>\n",
       "      <td>5.0</td>\n",
       "      <td>NaN</td>\n",
       "      <td>657</td>\n",
       "      <td>6.0</td>\n",
       "    </tr>\n",
       "    <tr>\n",
       "      <th>12476867</th>\n",
       "      <td>Spliced</td>\n",
       "      <td>2002</td>\n",
       "      <td>NaN</td>\n",
       "      <td>NaN</td>\n",
       "      <td>1767</td>\n",
       "      <td>4.3</td>\n",
       "    </tr>\n",
       "  </tbody>\n",
       "</table>\n",
       "<p>65503 rows × 6 columns</p>\n",
       "</div>"
      ],
      "text/plain": [
       "                                                   mov_name  year  month  \\\n",
       "wiki_ID                                                                    \n",
       "975900                                       Ghosts of Mars  2001    8.0   \n",
       "3196793   Getting Away with Murder: The JonBenét Ramsey ...  2000    2.0   \n",
       "28463795                                        Brun bitter  1988    NaN   \n",
       "9363483                                    White Of The Eye  1987    NaN   \n",
       "261236                                    A Woman in Flames  1983    NaN   \n",
       "...                                                     ...   ...    ...   \n",
       "35228177                           Mermaids: The Body Found  2011    3.0   \n",
       "34980460                                            Knuckle  2011    1.0   \n",
       "9971909                                   Another Nice Mess  1972    9.0   \n",
       "913762    The Super Dimension Fortress Macross II: Lover...  1992    5.0   \n",
       "12476867                                            Spliced  2002    NaN   \n",
       "\n",
       "             revenue  numVotes  averageRating  \n",
       "wiki_ID                                        \n",
       "975900    14010832.0     56880            4.9  \n",
       "3196793          NaN        69            6.0  \n",
       "28463795         NaN        40            5.6  \n",
       "9363483          NaN      2891            6.1  \n",
       "261236           NaN       623            5.9  \n",
       "...              ...       ...            ...  \n",
       "35228177         NaN      1711            4.6  \n",
       "34980460         NaN      3192            6.8  \n",
       "9971909          NaN       111            5.8  \n",
       "913762           NaN       657            6.0  \n",
       "12476867         NaN      1767            4.3  \n",
       "\n",
       "[65503 rows x 6 columns]"
      ]
     },
     "metadata": {},
     "output_type": "display_data"
    },
    {
     "data": {
      "text/html": [
       "<div>\n",
       "<style scoped>\n",
       "    .dataframe tbody tr th:only-of-type {\n",
       "        vertical-align: middle;\n",
       "    }\n",
       "\n",
       "    .dataframe tbody tr th {\n",
       "        vertical-align: top;\n",
       "    }\n",
       "\n",
       "    .dataframe thead th {\n",
       "        text-align: right;\n",
       "    }\n",
       "</style>\n",
       "<table border=\"1\" class=\"dataframe\">\n",
       "  <thead>\n",
       "    <tr style=\"text-align: right;\">\n",
       "      <th></th>\n",
       "      <th>char_words</th>\n",
       "      <th>order</th>\n",
       "      <th>gender</th>\n",
       "      <th>t_stat</th>\n",
       "      <th>p_value</th>\n",
       "      <th>slope_change</th>\n",
       "    </tr>\n",
       "    <tr>\n",
       "      <th>wiki_ID</th>\n",
       "      <th></th>\n",
       "      <th></th>\n",
       "      <th></th>\n",
       "      <th></th>\n",
       "      <th></th>\n",
       "      <th></th>\n",
       "    </tr>\n",
       "  </thead>\n",
       "  <tbody>\n",
       "    <tr>\n",
       "      <th>3217</th>\n",
       "      <td>Gold</td>\n",
       "      <td>6.0</td>\n",
       "      <td>NaN</td>\n",
       "      <td>NaN</td>\n",
       "      <td>NaN</td>\n",
       "      <td>0.000000</td>\n",
       "    </tr>\n",
       "    <tr>\n",
       "      <th>3217</th>\n",
       "      <td>Linda</td>\n",
       "      <td>7.0</td>\n",
       "      <td>F</td>\n",
       "      <td>-0.416786</td>\n",
       "      <td>0.684853</td>\n",
       "      <td>0.000673</td>\n",
       "    </tr>\n",
       "    <tr>\n",
       "      <th>3217</th>\n",
       "      <td>Henry</td>\n",
       "      <td>4.0</td>\n",
       "      <td>M</td>\n",
       "      <td>-2.031668</td>\n",
       "      <td>0.067058</td>\n",
       "      <td>0.002513</td>\n",
       "    </tr>\n",
       "    <tr>\n",
       "      <th>3217</th>\n",
       "      <td>Duke</td>\n",
       "      <td>4.0</td>\n",
       "      <td>M</td>\n",
       "      <td>0.579441</td>\n",
       "      <td>0.573967</td>\n",
       "      <td>-0.000113</td>\n",
       "    </tr>\n",
       "    <tr>\n",
       "      <th>3217</th>\n",
       "      <td>Warrior</td>\n",
       "      <td>9.0</td>\n",
       "      <td>M</td>\n",
       "      <td>NaN</td>\n",
       "      <td>NaN</td>\n",
       "      <td>0.000000</td>\n",
       "    </tr>\n",
       "    <tr>\n",
       "      <th>...</th>\n",
       "      <td>...</td>\n",
       "      <td>...</td>\n",
       "      <td>...</td>\n",
       "      <td>...</td>\n",
       "      <td>...</td>\n",
       "      <td>...</td>\n",
       "    </tr>\n",
       "    <tr>\n",
       "      <th>37478048</th>\n",
       "      <td>Ajay</td>\n",
       "      <td>9.0</td>\n",
       "      <td>M</td>\n",
       "      <td>-0.819213</td>\n",
       "      <td>0.430057</td>\n",
       "      <td>0.000130</td>\n",
       "    </tr>\n",
       "    <tr>\n",
       "      <th>37501922</th>\n",
       "      <td>Murphy</td>\n",
       "      <td>3.0</td>\n",
       "      <td>F</td>\n",
       "      <td>1.264175</td>\n",
       "      <td>0.232298</td>\n",
       "      <td>-0.000365</td>\n",
       "    </tr>\n",
       "    <tr>\n",
       "      <th>37501922</th>\n",
       "      <td>Hunter</td>\n",
       "      <td>1.0</td>\n",
       "      <td>M</td>\n",
       "      <td>-7.083089</td>\n",
       "      <td>0.000020</td>\n",
       "      <td>0.036603</td>\n",
       "    </tr>\n",
       "    <tr>\n",
       "      <th>37501922</th>\n",
       "      <td>John</td>\n",
       "      <td>1.0</td>\n",
       "      <td>M</td>\n",
       "      <td>-2.172964</td>\n",
       "      <td>0.052505</td>\n",
       "      <td>0.012557</td>\n",
       "    </tr>\n",
       "    <tr>\n",
       "      <th>37501922</th>\n",
       "      <td>Craig</td>\n",
       "      <td>3.0</td>\n",
       "      <td>F</td>\n",
       "      <td>-0.200536</td>\n",
       "      <td>0.844721</td>\n",
       "      <td>0.000666</td>\n",
       "    </tr>\n",
       "  </tbody>\n",
       "</table>\n",
       "<p>172906 rows × 6 columns</p>\n",
       "</div>"
      ],
      "text/plain": [
       "         char_words  order gender    t_stat   p_value  slope_change\n",
       "wiki_ID                                                            \n",
       "3217           Gold    6.0    NaN       NaN       NaN      0.000000\n",
       "3217          Linda    7.0      F -0.416786  0.684853      0.000673\n",
       "3217          Henry    4.0      M -2.031668  0.067058      0.002513\n",
       "3217           Duke    4.0      M  0.579441  0.573967     -0.000113\n",
       "3217        Warrior    9.0      M       NaN       NaN      0.000000\n",
       "...             ...    ...    ...       ...       ...           ...\n",
       "37478048       Ajay    9.0      M -0.819213  0.430057      0.000130\n",
       "37501922     Murphy    3.0      F  1.264175  0.232298     -0.000365\n",
       "37501922     Hunter    1.0      M -7.083089  0.000020      0.036603\n",
       "37501922       John    1.0      M -2.172964  0.052505      0.012557\n",
       "37501922      Craig    3.0      F -0.200536  0.844721      0.000666\n",
       "\n",
       "[172906 rows x 6 columns]"
      ]
     },
     "metadata": {},
     "output_type": "display_data"
    },
    {
     "data": {
      "text/html": [
       "<div>\n",
       "<style scoped>\n",
       "    .dataframe tbody tr th:only-of-type {\n",
       "        vertical-align: middle;\n",
       "    }\n",
       "\n",
       "    .dataframe tbody tr th {\n",
       "        vertical-align: top;\n",
       "    }\n",
       "\n",
       "    .dataframe thead th {\n",
       "        text-align: right;\n",
       "    }\n",
       "</style>\n",
       "<table border=\"1\" class=\"dataframe\">\n",
       "  <thead>\n",
       "    <tr style=\"text-align: right;\">\n",
       "      <th></th>\n",
       "      <th>genre</th>\n",
       "    </tr>\n",
       "    <tr>\n",
       "      <th>wiki_ID</th>\n",
       "      <th></th>\n",
       "    </tr>\n",
       "  </thead>\n",
       "  <tbody>\n",
       "    <tr>\n",
       "      <th>330</th>\n",
       "      <td>Comedy-drama</td>\n",
       "    </tr>\n",
       "    <tr>\n",
       "      <th>330</th>\n",
       "      <td>Drama</td>\n",
       "    </tr>\n",
       "    <tr>\n",
       "      <th>3217</th>\n",
       "      <td>Action</td>\n",
       "    </tr>\n",
       "    <tr>\n",
       "      <th>3217</th>\n",
       "      <td>Comedy</td>\n",
       "    </tr>\n",
       "    <tr>\n",
       "      <th>3217</th>\n",
       "      <td>Time travel</td>\n",
       "    </tr>\n",
       "    <tr>\n",
       "      <th>...</th>\n",
       "      <td>...</td>\n",
       "    </tr>\n",
       "    <tr>\n",
       "      <th>37476824</th>\n",
       "      <td>Crime Comedy</td>\n",
       "    </tr>\n",
       "    <tr>\n",
       "      <th>37476824</th>\n",
       "      <td>Caper story</td>\n",
       "    </tr>\n",
       "    <tr>\n",
       "      <th>37476824</th>\n",
       "      <td>Crime Fiction</td>\n",
       "    </tr>\n",
       "    <tr>\n",
       "      <th>37478048</th>\n",
       "      <td>Comedy film</td>\n",
       "    </tr>\n",
       "    <tr>\n",
       "      <th>37501922</th>\n",
       "      <td>Drama</td>\n",
       "    </tr>\n",
       "  </tbody>\n",
       "</table>\n",
       "<p>213854 rows × 1 columns</p>\n",
       "</div>"
      ],
      "text/plain": [
       "                  genre\n",
       "wiki_ID                \n",
       "330        Comedy-drama\n",
       "330               Drama\n",
       "3217             Action\n",
       "3217             Comedy\n",
       "3217        Time travel\n",
       "...                 ...\n",
       "37476824   Crime Comedy\n",
       "37476824    Caper story\n",
       "37476824  Crime Fiction\n",
       "37478048    Comedy film\n",
       "37501922          Drama\n",
       "\n",
       "[213854 rows x 1 columns]"
      ]
     },
     "metadata": {},
     "output_type": "display_data"
    }
   ],
   "source": [
    "folder_processed_data_path = './data/processed_data/'\n",
    "\n",
    "# Import movie metadata\n",
    "movie_df = pd.read_csv(os.path.join(folder_processed_data_path, 'movie_df.csv'))\n",
    "movie_df.set_index(['wiki_ID'], inplace=True)\n",
    "display(movie_df)\n",
    "\n",
    "# Import character metadata\n",
    "name_by_movie_df = pd.read_csv(os.path.join(folder_processed_data_path, 'name_by_movie_ordered_pvalue_10_5_df.csv'))\n",
    "name_by_movie_df.set_index(['wiki_ID'], inplace=True)\n",
    "display(name_by_movie_df)\n",
    "\n",
    "# Dataset containing movie genre\n",
    "movie_genres_df = pd.read_csv(os.path.join(folder_processed_data_path, 'movie_genres_df.csv'))\n",
    "movie_genres_df.set_index(['wiki_ID'], inplace=True)\n",
    "display(movie_genres_df)"
   ]
  },
  {
   "cell_type": "markdown",
   "metadata": {},
   "source": [
    "# Question 3 : Effect of movie's popularity on baby naming"
   ]
  },
  {
   "cell_type": "markdown",
   "metadata": {},
   "source": [
    "We have p_value and slope_change <br>\n",
    "p_value : represent how much we are certain about whether there is a variation or not <br>\n",
    "slope_change : represent the intensity of the variation <br>\n",
    "t_stat : we don't care, there it the slope change for that <br>\n",
    "\n",
    "problem 1 : older movies have less ratings and there are less old movies than recent movies. Therefore we have to take into account the period. <br>\n",
    "solution : proximity matching on the release year. Don't match characters of the same movie!!"
   ]
  },
  {
   "cell_type": "markdown",
   "metadata": {},
   "source": [
    "Step 1 : aggregate the two dataframe to create a dataframe containing all the movie character with the relative information about their movie"
   ]
  },
  {
   "cell_type": "code",
   "execution_count": 102,
   "metadata": {},
   "outputs": [
    {
     "data": {
      "text/html": [
       "<div>\n",
       "<style scoped>\n",
       "    .dataframe tbody tr th:only-of-type {\n",
       "        vertical-align: middle;\n",
       "    }\n",
       "\n",
       "    .dataframe tbody tr th {\n",
       "        vertical-align: top;\n",
       "    }\n",
       "\n",
       "    .dataframe thead th {\n",
       "        text-align: right;\n",
       "    }\n",
       "</style>\n",
       "<table border=\"1\" class=\"dataframe\">\n",
       "  <thead>\n",
       "    <tr style=\"text-align: right;\">\n",
       "      <th></th>\n",
       "      <th>char_words</th>\n",
       "      <th>order</th>\n",
       "      <th>gender</th>\n",
       "      <th>t_stat</th>\n",
       "      <th>p_value</th>\n",
       "      <th>slope_change</th>\n",
       "      <th>mov_name</th>\n",
       "      <th>year</th>\n",
       "      <th>month</th>\n",
       "      <th>revenue</th>\n",
       "      <th>numVotes</th>\n",
       "      <th>averageRating</th>\n",
       "    </tr>\n",
       "    <tr>\n",
       "      <th>wiki_ID</th>\n",
       "      <th></th>\n",
       "      <th></th>\n",
       "      <th></th>\n",
       "      <th></th>\n",
       "      <th></th>\n",
       "      <th></th>\n",
       "      <th></th>\n",
       "      <th></th>\n",
       "      <th></th>\n",
       "      <th></th>\n",
       "      <th></th>\n",
       "      <th></th>\n",
       "    </tr>\n",
       "  </thead>\n",
       "  <tbody>\n",
       "    <tr>\n",
       "      <th>3217</th>\n",
       "      <td>Gold</td>\n",
       "      <td>6.0</td>\n",
       "      <td>NaN</td>\n",
       "      <td>NaN</td>\n",
       "      <td>NaN</td>\n",
       "      <td>0.000000</td>\n",
       "      <td>Army of Darkness</td>\n",
       "      <td>1992</td>\n",
       "      <td>10.0</td>\n",
       "      <td>21502796.0</td>\n",
       "      <td>191068</td>\n",
       "      <td>7.4</td>\n",
       "    </tr>\n",
       "    <tr>\n",
       "      <th>3217</th>\n",
       "      <td>Linda</td>\n",
       "      <td>7.0</td>\n",
       "      <td>F</td>\n",
       "      <td>-0.416786</td>\n",
       "      <td>0.684853</td>\n",
       "      <td>0.000673</td>\n",
       "      <td>Army of Darkness</td>\n",
       "      <td>1992</td>\n",
       "      <td>10.0</td>\n",
       "      <td>21502796.0</td>\n",
       "      <td>191068</td>\n",
       "      <td>7.4</td>\n",
       "    </tr>\n",
       "    <tr>\n",
       "      <th>3217</th>\n",
       "      <td>Henry</td>\n",
       "      <td>4.0</td>\n",
       "      <td>M</td>\n",
       "      <td>-2.031668</td>\n",
       "      <td>0.067058</td>\n",
       "      <td>0.002513</td>\n",
       "      <td>Army of Darkness</td>\n",
       "      <td>1992</td>\n",
       "      <td>10.0</td>\n",
       "      <td>21502796.0</td>\n",
       "      <td>191068</td>\n",
       "      <td>7.4</td>\n",
       "    </tr>\n",
       "    <tr>\n",
       "      <th>3217</th>\n",
       "      <td>Duke</td>\n",
       "      <td>4.0</td>\n",
       "      <td>M</td>\n",
       "      <td>0.579441</td>\n",
       "      <td>0.573967</td>\n",
       "      <td>-0.000113</td>\n",
       "      <td>Army of Darkness</td>\n",
       "      <td>1992</td>\n",
       "      <td>10.0</td>\n",
       "      <td>21502796.0</td>\n",
       "      <td>191068</td>\n",
       "      <td>7.4</td>\n",
       "    </tr>\n",
       "    <tr>\n",
       "      <th>3217</th>\n",
       "      <td>Warrior</td>\n",
       "      <td>9.0</td>\n",
       "      <td>M</td>\n",
       "      <td>NaN</td>\n",
       "      <td>NaN</td>\n",
       "      <td>0.000000</td>\n",
       "      <td>Army of Darkness</td>\n",
       "      <td>1992</td>\n",
       "      <td>10.0</td>\n",
       "      <td>21502796.0</td>\n",
       "      <td>191068</td>\n",
       "      <td>7.4</td>\n",
       "    </tr>\n",
       "    <tr>\n",
       "      <th>...</th>\n",
       "      <td>...</td>\n",
       "      <td>...</td>\n",
       "      <td>...</td>\n",
       "      <td>...</td>\n",
       "      <td>...</td>\n",
       "      <td>...</td>\n",
       "      <td>...</td>\n",
       "      <td>...</td>\n",
       "      <td>...</td>\n",
       "      <td>...</td>\n",
       "      <td>...</td>\n",
       "      <td>...</td>\n",
       "    </tr>\n",
       "    <tr>\n",
       "      <th>37478048</th>\n",
       "      <td>Ajay</td>\n",
       "      <td>9.0</td>\n",
       "      <td>M</td>\n",
       "      <td>-0.819213</td>\n",
       "      <td>0.430057</td>\n",
       "      <td>0.000130</td>\n",
       "      <td>Mr. Bechara</td>\n",
       "      <td>1996</td>\n",
       "      <td>NaN</td>\n",
       "      <td>NaN</td>\n",
       "      <td>395</td>\n",
       "      <td>5.4</td>\n",
       "    </tr>\n",
       "    <tr>\n",
       "      <th>37501922</th>\n",
       "      <td>Murphy</td>\n",
       "      <td>3.0</td>\n",
       "      <td>F</td>\n",
       "      <td>1.264175</td>\n",
       "      <td>0.232298</td>\n",
       "      <td>-0.000365</td>\n",
       "      <td>Terminal Bliss</td>\n",
       "      <td>1992</td>\n",
       "      <td>NaN</td>\n",
       "      <td>NaN</td>\n",
       "      <td>245</td>\n",
       "      <td>4.4</td>\n",
       "    </tr>\n",
       "    <tr>\n",
       "      <th>37501922</th>\n",
       "      <td>Hunter</td>\n",
       "      <td>1.0</td>\n",
       "      <td>M</td>\n",
       "      <td>-7.083089</td>\n",
       "      <td>0.000020</td>\n",
       "      <td>0.036603</td>\n",
       "      <td>Terminal Bliss</td>\n",
       "      <td>1992</td>\n",
       "      <td>NaN</td>\n",
       "      <td>NaN</td>\n",
       "      <td>245</td>\n",
       "      <td>4.4</td>\n",
       "    </tr>\n",
       "    <tr>\n",
       "      <th>37501922</th>\n",
       "      <td>John</td>\n",
       "      <td>1.0</td>\n",
       "      <td>M</td>\n",
       "      <td>-2.172964</td>\n",
       "      <td>0.052505</td>\n",
       "      <td>0.012557</td>\n",
       "      <td>Terminal Bliss</td>\n",
       "      <td>1992</td>\n",
       "      <td>NaN</td>\n",
       "      <td>NaN</td>\n",
       "      <td>245</td>\n",
       "      <td>4.4</td>\n",
       "    </tr>\n",
       "    <tr>\n",
       "      <th>37501922</th>\n",
       "      <td>Craig</td>\n",
       "      <td>3.0</td>\n",
       "      <td>F</td>\n",
       "      <td>-0.200536</td>\n",
       "      <td>0.844721</td>\n",
       "      <td>0.000666</td>\n",
       "      <td>Terminal Bliss</td>\n",
       "      <td>1992</td>\n",
       "      <td>NaN</td>\n",
       "      <td>NaN</td>\n",
       "      <td>245</td>\n",
       "      <td>4.4</td>\n",
       "    </tr>\n",
       "  </tbody>\n",
       "</table>\n",
       "<p>172906 rows × 12 columns</p>\n",
       "</div>"
      ],
      "text/plain": [
       "         char_words  order gender    t_stat   p_value  slope_change  \\\n",
       "wiki_ID                                                               \n",
       "3217           Gold    6.0    NaN       NaN       NaN      0.000000   \n",
       "3217          Linda    7.0      F -0.416786  0.684853      0.000673   \n",
       "3217          Henry    4.0      M -2.031668  0.067058      0.002513   \n",
       "3217           Duke    4.0      M  0.579441  0.573967     -0.000113   \n",
       "3217        Warrior    9.0      M       NaN       NaN      0.000000   \n",
       "...             ...    ...    ...       ...       ...           ...   \n",
       "37478048       Ajay    9.0      M -0.819213  0.430057      0.000130   \n",
       "37501922     Murphy    3.0      F  1.264175  0.232298     -0.000365   \n",
       "37501922     Hunter    1.0      M -7.083089  0.000020      0.036603   \n",
       "37501922       John    1.0      M -2.172964  0.052505      0.012557   \n",
       "37501922      Craig    3.0      F -0.200536  0.844721      0.000666   \n",
       "\n",
       "                  mov_name  year  month     revenue  numVotes  averageRating  \n",
       "wiki_ID                                                                       \n",
       "3217      Army of Darkness  1992   10.0  21502796.0    191068            7.4  \n",
       "3217      Army of Darkness  1992   10.0  21502796.0    191068            7.4  \n",
       "3217      Army of Darkness  1992   10.0  21502796.0    191068            7.4  \n",
       "3217      Army of Darkness  1992   10.0  21502796.0    191068            7.4  \n",
       "3217      Army of Darkness  1992   10.0  21502796.0    191068            7.4  \n",
       "...                    ...   ...    ...         ...       ...            ...  \n",
       "37478048       Mr. Bechara  1996    NaN         NaN       395            5.4  \n",
       "37501922    Terminal Bliss  1992    NaN         NaN       245            4.4  \n",
       "37501922    Terminal Bliss  1992    NaN         NaN       245            4.4  \n",
       "37501922    Terminal Bliss  1992    NaN         NaN       245            4.4  \n",
       "37501922    Terminal Bliss  1992    NaN         NaN       245            4.4  \n",
       "\n",
       "[172906 rows x 12 columns]"
      ]
     },
     "metadata": {},
     "output_type": "display_data"
    }
   ],
   "source": [
    "# add movie info to the character dataframe\n",
    "name_by_movie_aggregate_df = name_by_movie_df.merge(movie_df, how='left', left_on='wiki_ID', right_on='wiki_ID').copy(deep=True)\n",
    "display(name_by_movie_aggregate_df)"
   ]
  },
  {
   "cell_type": "code",
   "execution_count": 103,
   "metadata": {},
   "outputs": [
    {
     "data": {
      "text/html": [
       "<div>\n",
       "<style scoped>\n",
       "    .dataframe tbody tr th:only-of-type {\n",
       "        vertical-align: middle;\n",
       "    }\n",
       "\n",
       "    .dataframe tbody tr th {\n",
       "        vertical-align: top;\n",
       "    }\n",
       "\n",
       "    .dataframe thead th {\n",
       "        text-align: right;\n",
       "    }\n",
       "</style>\n",
       "<table border=\"1\" class=\"dataframe\">\n",
       "  <thead>\n",
       "    <tr style=\"text-align: right;\">\n",
       "      <th></th>\n",
       "      <th>char_words</th>\n",
       "      <th>order</th>\n",
       "      <th>gender</th>\n",
       "      <th>t_stat</th>\n",
       "      <th>p_value</th>\n",
       "      <th>slope_change</th>\n",
       "      <th>mov_name</th>\n",
       "      <th>year</th>\n",
       "      <th>month</th>\n",
       "      <th>revenue</th>\n",
       "      <th>numVotes</th>\n",
       "      <th>averageRating</th>\n",
       "      <th>genre</th>\n",
       "    </tr>\n",
       "    <tr>\n",
       "      <th>wiki_ID</th>\n",
       "      <th></th>\n",
       "      <th></th>\n",
       "      <th></th>\n",
       "      <th></th>\n",
       "      <th></th>\n",
       "      <th></th>\n",
       "      <th></th>\n",
       "      <th></th>\n",
       "      <th></th>\n",
       "      <th></th>\n",
       "      <th></th>\n",
       "      <th></th>\n",
       "      <th></th>\n",
       "    </tr>\n",
       "  </thead>\n",
       "  <tbody>\n",
       "    <tr>\n",
       "      <th>3217</th>\n",
       "      <td>Gold</td>\n",
       "      <td>6.0</td>\n",
       "      <td>NaN</td>\n",
       "      <td>NaN</td>\n",
       "      <td>NaN</td>\n",
       "      <td>0.000000</td>\n",
       "      <td>Army of Darkness</td>\n",
       "      <td>1992</td>\n",
       "      <td>10.0</td>\n",
       "      <td>21502796.0</td>\n",
       "      <td>191068</td>\n",
       "      <td>7.4</td>\n",
       "      <td>Action</td>\n",
       "    </tr>\n",
       "    <tr>\n",
       "      <th>3217</th>\n",
       "      <td>Gold</td>\n",
       "      <td>6.0</td>\n",
       "      <td>NaN</td>\n",
       "      <td>NaN</td>\n",
       "      <td>NaN</td>\n",
       "      <td>0.000000</td>\n",
       "      <td>Army of Darkness</td>\n",
       "      <td>1992</td>\n",
       "      <td>10.0</td>\n",
       "      <td>21502796.0</td>\n",
       "      <td>191068</td>\n",
       "      <td>7.4</td>\n",
       "      <td>Comedy</td>\n",
       "    </tr>\n",
       "    <tr>\n",
       "      <th>3217</th>\n",
       "      <td>Gold</td>\n",
       "      <td>6.0</td>\n",
       "      <td>NaN</td>\n",
       "      <td>NaN</td>\n",
       "      <td>NaN</td>\n",
       "      <td>0.000000</td>\n",
       "      <td>Army of Darkness</td>\n",
       "      <td>1992</td>\n",
       "      <td>10.0</td>\n",
       "      <td>21502796.0</td>\n",
       "      <td>191068</td>\n",
       "      <td>7.4</td>\n",
       "      <td>Time travel</td>\n",
       "    </tr>\n",
       "    <tr>\n",
       "      <th>3217</th>\n",
       "      <td>Gold</td>\n",
       "      <td>6.0</td>\n",
       "      <td>NaN</td>\n",
       "      <td>NaN</td>\n",
       "      <td>NaN</td>\n",
       "      <td>0.000000</td>\n",
       "      <td>Army of Darkness</td>\n",
       "      <td>1992</td>\n",
       "      <td>10.0</td>\n",
       "      <td>21502796.0</td>\n",
       "      <td>191068</td>\n",
       "      <td>7.4</td>\n",
       "      <td>Black comedy</td>\n",
       "    </tr>\n",
       "    <tr>\n",
       "      <th>3217</th>\n",
       "      <td>Gold</td>\n",
       "      <td>6.0</td>\n",
       "      <td>NaN</td>\n",
       "      <td>NaN</td>\n",
       "      <td>NaN</td>\n",
       "      <td>0.000000</td>\n",
       "      <td>Army of Darkness</td>\n",
       "      <td>1992</td>\n",
       "      <td>10.0</td>\n",
       "      <td>21502796.0</td>\n",
       "      <td>191068</td>\n",
       "      <td>7.4</td>\n",
       "      <td>Zombie Film</td>\n",
       "    </tr>\n",
       "    <tr>\n",
       "      <th>...</th>\n",
       "      <td>...</td>\n",
       "      <td>...</td>\n",
       "      <td>...</td>\n",
       "      <td>...</td>\n",
       "      <td>...</td>\n",
       "      <td>...</td>\n",
       "      <td>...</td>\n",
       "      <td>...</td>\n",
       "      <td>...</td>\n",
       "      <td>...</td>\n",
       "      <td>...</td>\n",
       "      <td>...</td>\n",
       "      <td>...</td>\n",
       "    </tr>\n",
       "    <tr>\n",
       "      <th>37478048</th>\n",
       "      <td>Ajay</td>\n",
       "      <td>9.0</td>\n",
       "      <td>M</td>\n",
       "      <td>-0.819213</td>\n",
       "      <td>0.430057</td>\n",
       "      <td>0.000130</td>\n",
       "      <td>Mr. Bechara</td>\n",
       "      <td>1996</td>\n",
       "      <td>NaN</td>\n",
       "      <td>NaN</td>\n",
       "      <td>395</td>\n",
       "      <td>5.4</td>\n",
       "      <td>Comedy film</td>\n",
       "    </tr>\n",
       "    <tr>\n",
       "      <th>37501922</th>\n",
       "      <td>Murphy</td>\n",
       "      <td>3.0</td>\n",
       "      <td>F</td>\n",
       "      <td>1.264175</td>\n",
       "      <td>0.232298</td>\n",
       "      <td>-0.000365</td>\n",
       "      <td>Terminal Bliss</td>\n",
       "      <td>1992</td>\n",
       "      <td>NaN</td>\n",
       "      <td>NaN</td>\n",
       "      <td>245</td>\n",
       "      <td>4.4</td>\n",
       "      <td>Drama</td>\n",
       "    </tr>\n",
       "    <tr>\n",
       "      <th>37501922</th>\n",
       "      <td>Hunter</td>\n",
       "      <td>1.0</td>\n",
       "      <td>M</td>\n",
       "      <td>-7.083089</td>\n",
       "      <td>0.000020</td>\n",
       "      <td>0.036603</td>\n",
       "      <td>Terminal Bliss</td>\n",
       "      <td>1992</td>\n",
       "      <td>NaN</td>\n",
       "      <td>NaN</td>\n",
       "      <td>245</td>\n",
       "      <td>4.4</td>\n",
       "      <td>Drama</td>\n",
       "    </tr>\n",
       "    <tr>\n",
       "      <th>37501922</th>\n",
       "      <td>John</td>\n",
       "      <td>1.0</td>\n",
       "      <td>M</td>\n",
       "      <td>-2.172964</td>\n",
       "      <td>0.052505</td>\n",
       "      <td>0.012557</td>\n",
       "      <td>Terminal Bliss</td>\n",
       "      <td>1992</td>\n",
       "      <td>NaN</td>\n",
       "      <td>NaN</td>\n",
       "      <td>245</td>\n",
       "      <td>4.4</td>\n",
       "      <td>Drama</td>\n",
       "    </tr>\n",
       "    <tr>\n",
       "      <th>37501922</th>\n",
       "      <td>Craig</td>\n",
       "      <td>3.0</td>\n",
       "      <td>F</td>\n",
       "      <td>-0.200536</td>\n",
       "      <td>0.844721</td>\n",
       "      <td>0.000666</td>\n",
       "      <td>Terminal Bliss</td>\n",
       "      <td>1992</td>\n",
       "      <td>NaN</td>\n",
       "      <td>NaN</td>\n",
       "      <td>245</td>\n",
       "      <td>4.4</td>\n",
       "      <td>Drama</td>\n",
       "    </tr>\n",
       "  </tbody>\n",
       "</table>\n",
       "<p>761823 rows × 13 columns</p>\n",
       "</div>"
      ],
      "text/plain": [
       "         char_words  order gender    t_stat   p_value  slope_change  \\\n",
       "wiki_ID                                                               \n",
       "3217           Gold    6.0    NaN       NaN       NaN      0.000000   \n",
       "3217           Gold    6.0    NaN       NaN       NaN      0.000000   \n",
       "3217           Gold    6.0    NaN       NaN       NaN      0.000000   \n",
       "3217           Gold    6.0    NaN       NaN       NaN      0.000000   \n",
       "3217           Gold    6.0    NaN       NaN       NaN      0.000000   \n",
       "...             ...    ...    ...       ...       ...           ...   \n",
       "37478048       Ajay    9.0      M -0.819213  0.430057      0.000130   \n",
       "37501922     Murphy    3.0      F  1.264175  0.232298     -0.000365   \n",
       "37501922     Hunter    1.0      M -7.083089  0.000020      0.036603   \n",
       "37501922       John    1.0      M -2.172964  0.052505      0.012557   \n",
       "37501922      Craig    3.0      F -0.200536  0.844721      0.000666   \n",
       "\n",
       "                  mov_name  year  month     revenue  numVotes  averageRating  \\\n",
       "wiki_ID                                                                        \n",
       "3217      Army of Darkness  1992   10.0  21502796.0    191068            7.4   \n",
       "3217      Army of Darkness  1992   10.0  21502796.0    191068            7.4   \n",
       "3217      Army of Darkness  1992   10.0  21502796.0    191068            7.4   \n",
       "3217      Army of Darkness  1992   10.0  21502796.0    191068            7.4   \n",
       "3217      Army of Darkness  1992   10.0  21502796.0    191068            7.4   \n",
       "...                    ...   ...    ...         ...       ...            ...   \n",
       "37478048       Mr. Bechara  1996    NaN         NaN       395            5.4   \n",
       "37501922    Terminal Bliss  1992    NaN         NaN       245            4.4   \n",
       "37501922    Terminal Bliss  1992    NaN         NaN       245            4.4   \n",
       "37501922    Terminal Bliss  1992    NaN         NaN       245            4.4   \n",
       "37501922    Terminal Bliss  1992    NaN         NaN       245            4.4   \n",
       "\n",
       "                 genre  \n",
       "wiki_ID                 \n",
       "3217            Action  \n",
       "3217            Comedy  \n",
       "3217       Time travel  \n",
       "3217      Black comedy  \n",
       "3217       Zombie Film  \n",
       "...                ...  \n",
       "37478048   Comedy film  \n",
       "37501922         Drama  \n",
       "37501922         Drama  \n",
       "37501922         Drama  \n",
       "37501922         Drama  \n",
       "\n",
       "[761823 rows x 13 columns]"
      ]
     },
     "metadata": {},
     "output_type": "display_data"
    }
   ],
   "source": [
    "# add movie genre to the character dataframe\n",
    "name_by_movie_aggregate_genre_df = name_by_movie_aggregate_df.merge(movie_genres_df, how='left', on='wiki_ID').copy(deep=True)\n",
    "display(name_by_movie_aggregate_genre_df)"
   ]
  },
  {
   "cell_type": "code",
   "execution_count": 104,
   "metadata": {},
   "outputs": [
    {
     "data": {
      "text/html": [
       "<div>\n",
       "<style scoped>\n",
       "    .dataframe tbody tr th:only-of-type {\n",
       "        vertical-align: middle;\n",
       "    }\n",
       "\n",
       "    .dataframe tbody tr th {\n",
       "        vertical-align: top;\n",
       "    }\n",
       "\n",
       "    .dataframe thead th {\n",
       "        text-align: right;\n",
       "    }\n",
       "</style>\n",
       "<table border=\"1\" class=\"dataframe\">\n",
       "  <thead>\n",
       "    <tr style=\"text-align: right;\">\n",
       "      <th></th>\n",
       "      <th>char_words</th>\n",
       "      <th>order</th>\n",
       "      <th>gender</th>\n",
       "      <th>t_stat</th>\n",
       "      <th>p_value</th>\n",
       "      <th>slope_change</th>\n",
       "      <th>mov_name</th>\n",
       "      <th>year</th>\n",
       "      <th>month</th>\n",
       "      <th>revenue</th>\n",
       "      <th>numVotes</th>\n",
       "      <th>averageRating</th>\n",
       "      <th>genre</th>\n",
       "    </tr>\n",
       "  </thead>\n",
       "  <tbody>\n",
       "    <tr>\n",
       "      <th>0</th>\n",
       "      <td>Gold</td>\n",
       "      <td>6.0</td>\n",
       "      <td>NaN</td>\n",
       "      <td>NaN</td>\n",
       "      <td>NaN</td>\n",
       "      <td>0.000000</td>\n",
       "      <td>Army of Darkness</td>\n",
       "      <td>1992</td>\n",
       "      <td>10.0</td>\n",
       "      <td>21502796.0</td>\n",
       "      <td>191068</td>\n",
       "      <td>7.4</td>\n",
       "      <td>Action</td>\n",
       "    </tr>\n",
       "    <tr>\n",
       "      <th>1</th>\n",
       "      <td>Gold</td>\n",
       "      <td>6.0</td>\n",
       "      <td>NaN</td>\n",
       "      <td>NaN</td>\n",
       "      <td>NaN</td>\n",
       "      <td>0.000000</td>\n",
       "      <td>Army of Darkness</td>\n",
       "      <td>1992</td>\n",
       "      <td>10.0</td>\n",
       "      <td>21502796.0</td>\n",
       "      <td>191068</td>\n",
       "      <td>7.4</td>\n",
       "      <td>Comedy</td>\n",
       "    </tr>\n",
       "    <tr>\n",
       "      <th>2</th>\n",
       "      <td>Gold</td>\n",
       "      <td>6.0</td>\n",
       "      <td>NaN</td>\n",
       "      <td>NaN</td>\n",
       "      <td>NaN</td>\n",
       "      <td>0.000000</td>\n",
       "      <td>Army of Darkness</td>\n",
       "      <td>1992</td>\n",
       "      <td>10.0</td>\n",
       "      <td>21502796.0</td>\n",
       "      <td>191068</td>\n",
       "      <td>7.4</td>\n",
       "      <td>Time travel</td>\n",
       "    </tr>\n",
       "    <tr>\n",
       "      <th>3</th>\n",
       "      <td>Gold</td>\n",
       "      <td>6.0</td>\n",
       "      <td>NaN</td>\n",
       "      <td>NaN</td>\n",
       "      <td>NaN</td>\n",
       "      <td>0.000000</td>\n",
       "      <td>Army of Darkness</td>\n",
       "      <td>1992</td>\n",
       "      <td>10.0</td>\n",
       "      <td>21502796.0</td>\n",
       "      <td>191068</td>\n",
       "      <td>7.4</td>\n",
       "      <td>Black comedy</td>\n",
       "    </tr>\n",
       "    <tr>\n",
       "      <th>4</th>\n",
       "      <td>Gold</td>\n",
       "      <td>6.0</td>\n",
       "      <td>NaN</td>\n",
       "      <td>NaN</td>\n",
       "      <td>NaN</td>\n",
       "      <td>0.000000</td>\n",
       "      <td>Army of Darkness</td>\n",
       "      <td>1992</td>\n",
       "      <td>10.0</td>\n",
       "      <td>21502796.0</td>\n",
       "      <td>191068</td>\n",
       "      <td>7.4</td>\n",
       "      <td>Zombie Film</td>\n",
       "    </tr>\n",
       "    <tr>\n",
       "      <th>...</th>\n",
       "      <td>...</td>\n",
       "      <td>...</td>\n",
       "      <td>...</td>\n",
       "      <td>...</td>\n",
       "      <td>...</td>\n",
       "      <td>...</td>\n",
       "      <td>...</td>\n",
       "      <td>...</td>\n",
       "      <td>...</td>\n",
       "      <td>...</td>\n",
       "      <td>...</td>\n",
       "      <td>...</td>\n",
       "      <td>...</td>\n",
       "    </tr>\n",
       "    <tr>\n",
       "      <th>761818</th>\n",
       "      <td>Ajay</td>\n",
       "      <td>9.0</td>\n",
       "      <td>M</td>\n",
       "      <td>-0.819213</td>\n",
       "      <td>0.430057</td>\n",
       "      <td>0.000130</td>\n",
       "      <td>Mr. Bechara</td>\n",
       "      <td>1996</td>\n",
       "      <td>NaN</td>\n",
       "      <td>NaN</td>\n",
       "      <td>395</td>\n",
       "      <td>5.4</td>\n",
       "      <td>Comedy film</td>\n",
       "    </tr>\n",
       "    <tr>\n",
       "      <th>761819</th>\n",
       "      <td>Murphy</td>\n",
       "      <td>3.0</td>\n",
       "      <td>F</td>\n",
       "      <td>1.264175</td>\n",
       "      <td>0.232298</td>\n",
       "      <td>-0.000365</td>\n",
       "      <td>Terminal Bliss</td>\n",
       "      <td>1992</td>\n",
       "      <td>NaN</td>\n",
       "      <td>NaN</td>\n",
       "      <td>245</td>\n",
       "      <td>4.4</td>\n",
       "      <td>Drama</td>\n",
       "    </tr>\n",
       "    <tr>\n",
       "      <th>761820</th>\n",
       "      <td>Hunter</td>\n",
       "      <td>1.0</td>\n",
       "      <td>M</td>\n",
       "      <td>-7.083089</td>\n",
       "      <td>0.000020</td>\n",
       "      <td>0.036603</td>\n",
       "      <td>Terminal Bliss</td>\n",
       "      <td>1992</td>\n",
       "      <td>NaN</td>\n",
       "      <td>NaN</td>\n",
       "      <td>245</td>\n",
       "      <td>4.4</td>\n",
       "      <td>Drama</td>\n",
       "    </tr>\n",
       "    <tr>\n",
       "      <th>761821</th>\n",
       "      <td>John</td>\n",
       "      <td>1.0</td>\n",
       "      <td>M</td>\n",
       "      <td>-2.172964</td>\n",
       "      <td>0.052505</td>\n",
       "      <td>0.012557</td>\n",
       "      <td>Terminal Bliss</td>\n",
       "      <td>1992</td>\n",
       "      <td>NaN</td>\n",
       "      <td>NaN</td>\n",
       "      <td>245</td>\n",
       "      <td>4.4</td>\n",
       "      <td>Drama</td>\n",
       "    </tr>\n",
       "    <tr>\n",
       "      <th>761822</th>\n",
       "      <td>Craig</td>\n",
       "      <td>3.0</td>\n",
       "      <td>F</td>\n",
       "      <td>-0.200536</td>\n",
       "      <td>0.844721</td>\n",
       "      <td>0.000666</td>\n",
       "      <td>Terminal Bliss</td>\n",
       "      <td>1992</td>\n",
       "      <td>NaN</td>\n",
       "      <td>NaN</td>\n",
       "      <td>245</td>\n",
       "      <td>4.4</td>\n",
       "      <td>Drama</td>\n",
       "    </tr>\n",
       "  </tbody>\n",
       "</table>\n",
       "<p>761823 rows × 13 columns</p>\n",
       "</div>"
      ],
      "text/plain": [
       "       char_words  order gender    t_stat   p_value  slope_change  \\\n",
       "0            Gold    6.0    NaN       NaN       NaN      0.000000   \n",
       "1            Gold    6.0    NaN       NaN       NaN      0.000000   \n",
       "2            Gold    6.0    NaN       NaN       NaN      0.000000   \n",
       "3            Gold    6.0    NaN       NaN       NaN      0.000000   \n",
       "4            Gold    6.0    NaN       NaN       NaN      0.000000   \n",
       "...           ...    ...    ...       ...       ...           ...   \n",
       "761818       Ajay    9.0      M -0.819213  0.430057      0.000130   \n",
       "761819     Murphy    3.0      F  1.264175  0.232298     -0.000365   \n",
       "761820     Hunter    1.0      M -7.083089  0.000020      0.036603   \n",
       "761821       John    1.0      M -2.172964  0.052505      0.012557   \n",
       "761822      Craig    3.0      F -0.200536  0.844721      0.000666   \n",
       "\n",
       "                mov_name  year  month     revenue  numVotes  averageRating  \\\n",
       "0       Army of Darkness  1992   10.0  21502796.0    191068            7.4   \n",
       "1       Army of Darkness  1992   10.0  21502796.0    191068            7.4   \n",
       "2       Army of Darkness  1992   10.0  21502796.0    191068            7.4   \n",
       "3       Army of Darkness  1992   10.0  21502796.0    191068            7.4   \n",
       "4       Army of Darkness  1992   10.0  21502796.0    191068            7.4   \n",
       "...                  ...   ...    ...         ...       ...            ...   \n",
       "761818       Mr. Bechara  1996    NaN         NaN       395            5.4   \n",
       "761819    Terminal Bliss  1992    NaN         NaN       245            4.4   \n",
       "761820    Terminal Bliss  1992    NaN         NaN       245            4.4   \n",
       "761821    Terminal Bliss  1992    NaN         NaN       245            4.4   \n",
       "761822    Terminal Bliss  1992    NaN         NaN       245            4.4   \n",
       "\n",
       "               genre  \n",
       "0             Action  \n",
       "1             Comedy  \n",
       "2        Time travel  \n",
       "3       Black comedy  \n",
       "4        Zombie Film  \n",
       "...              ...  \n",
       "761818   Comedy film  \n",
       "761819         Drama  \n",
       "761820         Drama  \n",
       "761821         Drama  \n",
       "761822         Drama  \n",
       "\n",
       "[761823 rows x 13 columns]"
      ]
     },
     "metadata": {},
     "output_type": "display_data"
    }
   ],
   "source": [
    "# make a new unique index for each character\n",
    "name_by_movie_aggregate_genre_df.set_index(pd.Index(list(range(0,len(name_by_movie_aggregate_genre_df)))), inplace=True)\n",
    "display(name_by_movie_aggregate_genre_df)"
   ]
  },
  {
   "cell_type": "code",
   "execution_count": 105,
   "metadata": {},
   "outputs": [],
   "source": [
    "# keep only the rows with a p_value < 0.05\n",
    "name_by_movie_aggregate_genre_df = name_by_movie_aggregate_genre_df[name_by_movie_aggregate_genre_df['p_value'] < 0.05].copy(deep=True)"
   ]
  },
  {
   "cell_type": "code",
   "execution_count": 106,
   "metadata": {},
   "outputs": [],
   "source": [
    "name_by_movie_aggregate_genre_df.dropna(subset=['order', 'numVotes', 'p_value', 'gender'], inplace=True)\n",
    "name_by_movie_aggregate_genre_df['order'] = name_by_movie_aggregate_genre_df['order'].astype(int)"
   ]
  },
  {
   "cell_type": "markdown",
   "metadata": {},
   "source": [
    "We need to encode the columns `gender` and `genre` because the KNN algorithm doesn't accept string values."
   ]
  },
  {
   "cell_type": "code",
   "execution_count": 107,
   "metadata": {},
   "outputs": [
    {
     "data": {
      "text/html": [
       "<div>\n",
       "<style scoped>\n",
       "    .dataframe tbody tr th:only-of-type {\n",
       "        vertical-align: middle;\n",
       "    }\n",
       "\n",
       "    .dataframe tbody tr th {\n",
       "        vertical-align: top;\n",
       "    }\n",
       "\n",
       "    .dataframe thead th {\n",
       "        text-align: right;\n",
       "    }\n",
       "</style>\n",
       "<table border=\"1\" class=\"dataframe\">\n",
       "  <thead>\n",
       "    <tr style=\"text-align: right;\">\n",
       "      <th></th>\n",
       "      <th>char_words</th>\n",
       "      <th>order</th>\n",
       "      <th>gender</th>\n",
       "      <th>t_stat</th>\n",
       "      <th>p_value</th>\n",
       "      <th>slope_change</th>\n",
       "      <th>mov_name</th>\n",
       "      <th>year</th>\n",
       "      <th>month</th>\n",
       "      <th>revenue</th>\n",
       "      <th>numVotes</th>\n",
       "      <th>averageRating</th>\n",
       "      <th>genre</th>\n",
       "      <th>genre_code</th>\n",
       "      <th>gender_code</th>\n",
       "    </tr>\n",
       "  </thead>\n",
       "  <tbody>\n",
       "    <tr>\n",
       "      <th>363</th>\n",
       "      <td>Jim</td>\n",
       "      <td>1</td>\n",
       "      <td>M</td>\n",
       "      <td>-2.715964</td>\n",
       "      <td>0.020076</td>\n",
       "      <td>0.006715</td>\n",
       "      <td>Blazing Saddles</td>\n",
       "      <td>1974</td>\n",
       "      <td>2.0</td>\n",
       "      <td>119500000.0</td>\n",
       "      <td>147934</td>\n",
       "      <td>7.7</td>\n",
       "      <td>Satire</td>\n",
       "      <td>227</td>\n",
       "      <td>1</td>\n",
       "    </tr>\n",
       "    <tr>\n",
       "      <th>364</th>\n",
       "      <td>Jim</td>\n",
       "      <td>1</td>\n",
       "      <td>M</td>\n",
       "      <td>-2.715964</td>\n",
       "      <td>0.020076</td>\n",
       "      <td>0.006715</td>\n",
       "      <td>Blazing Saddles</td>\n",
       "      <td>1974</td>\n",
       "      <td>2.0</td>\n",
       "      <td>119500000.0</td>\n",
       "      <td>147934</td>\n",
       "      <td>7.7</td>\n",
       "      <td>Western</td>\n",
       "      <td>277</td>\n",
       "      <td>1</td>\n",
       "    </tr>\n",
       "    <tr>\n",
       "      <th>365</th>\n",
       "      <td>Jim</td>\n",
       "      <td>1</td>\n",
       "      <td>M</td>\n",
       "      <td>-2.715964</td>\n",
       "      <td>0.020076</td>\n",
       "      <td>0.006715</td>\n",
       "      <td>Blazing Saddles</td>\n",
       "      <td>1974</td>\n",
       "      <td>2.0</td>\n",
       "      <td>119500000.0</td>\n",
       "      <td>147934</td>\n",
       "      <td>7.7</td>\n",
       "      <td>Comedy</td>\n",
       "      <td>62</td>\n",
       "      <td>1</td>\n",
       "    </tr>\n",
       "    <tr>\n",
       "      <th>378</th>\n",
       "      <td>Hunter</td>\n",
       "      <td>13</td>\n",
       "      <td>M</td>\n",
       "      <td>-4.938567</td>\n",
       "      <td>0.000444</td>\n",
       "      <td>0.002903</td>\n",
       "      <td>Blue Velvet</td>\n",
       "      <td>1986</td>\n",
       "      <td>8.0</td>\n",
       "      <td>8551228.0</td>\n",
       "      <td>210543</td>\n",
       "      <td>7.7</td>\n",
       "      <td>Thriller</td>\n",
       "      <td>268</td>\n",
       "      <td>1</td>\n",
       "    </tr>\n",
       "    <tr>\n",
       "      <th>379</th>\n",
       "      <td>Hunter</td>\n",
       "      <td>13</td>\n",
       "      <td>M</td>\n",
       "      <td>-4.938567</td>\n",
       "      <td>0.000444</td>\n",
       "      <td>0.002903</td>\n",
       "      <td>Blue Velvet</td>\n",
       "      <td>1986</td>\n",
       "      <td>8.0</td>\n",
       "      <td>8551228.0</td>\n",
       "      <td>210543</td>\n",
       "      <td>7.7</td>\n",
       "      <td>Mystery</td>\n",
       "      <td>184</td>\n",
       "      <td>1</td>\n",
       "    </tr>\n",
       "    <tr>\n",
       "      <th>...</th>\n",
       "      <td>...</td>\n",
       "      <td>...</td>\n",
       "      <td>...</td>\n",
       "      <td>...</td>\n",
       "      <td>...</td>\n",
       "      <td>...</td>\n",
       "      <td>...</td>\n",
       "      <td>...</td>\n",
       "      <td>...</td>\n",
       "      <td>...</td>\n",
       "      <td>...</td>\n",
       "      <td>...</td>\n",
       "      <td>...</td>\n",
       "      <td>...</td>\n",
       "      <td>...</td>\n",
       "    </tr>\n",
       "    <tr>\n",
       "      <th>761783</th>\n",
       "      <td>Charlie</td>\n",
       "      <td>5</td>\n",
       "      <td>M</td>\n",
       "      <td>-5.446114</td>\n",
       "      <td>0.000202</td>\n",
       "      <td>0.006446</td>\n",
       "      <td>The Water Horse: Legend of the Deep</td>\n",
       "      <td>2007</td>\n",
       "      <td>12.0</td>\n",
       "      <td>103071443.0</td>\n",
       "      <td>42523</td>\n",
       "      <td>6.4</td>\n",
       "      <td>Fantasy</td>\n",
       "      <td>113</td>\n",
       "      <td>1</td>\n",
       "    </tr>\n",
       "    <tr>\n",
       "      <th>761784</th>\n",
       "      <td>Charlie</td>\n",
       "      <td>5</td>\n",
       "      <td>M</td>\n",
       "      <td>-5.446114</td>\n",
       "      <td>0.000202</td>\n",
       "      <td>0.006446</td>\n",
       "      <td>The Water Horse: Legend of the Deep</td>\n",
       "      <td>2007</td>\n",
       "      <td>12.0</td>\n",
       "      <td>103071443.0</td>\n",
       "      <td>42523</td>\n",
       "      <td>6.4</td>\n",
       "      <td>Family Film</td>\n",
       "      <td>111</td>\n",
       "      <td>1</td>\n",
       "    </tr>\n",
       "    <tr>\n",
       "      <th>761785</th>\n",
       "      <td>Charlie</td>\n",
       "      <td>5</td>\n",
       "      <td>M</td>\n",
       "      <td>-5.446114</td>\n",
       "      <td>0.000202</td>\n",
       "      <td>0.006446</td>\n",
       "      <td>The Water Horse: Legend of the Deep</td>\n",
       "      <td>2007</td>\n",
       "      <td>12.0</td>\n",
       "      <td>103071443.0</td>\n",
       "      <td>42523</td>\n",
       "      <td>6.4</td>\n",
       "      <td>Children's</td>\n",
       "      <td>53</td>\n",
       "      <td>1</td>\n",
       "    </tr>\n",
       "    <tr>\n",
       "      <th>761802</th>\n",
       "      <td>Joy</td>\n",
       "      <td>2</td>\n",
       "      <td>F</td>\n",
       "      <td>-2.338694</td>\n",
       "      <td>0.039263</td>\n",
       "      <td>0.002292</td>\n",
       "      <td>Abducted: The Carlina White Story</td>\n",
       "      <td>2012</td>\n",
       "      <td>10.0</td>\n",
       "      <td>NaN</td>\n",
       "      <td>1255</td>\n",
       "      <td>6.6</td>\n",
       "      <td>NaN</td>\n",
       "      <td>-1</td>\n",
       "      <td>0</td>\n",
       "    </tr>\n",
       "    <tr>\n",
       "      <th>761820</th>\n",
       "      <td>Hunter</td>\n",
       "      <td>1</td>\n",
       "      <td>M</td>\n",
       "      <td>-7.083089</td>\n",
       "      <td>0.000020</td>\n",
       "      <td>0.036603</td>\n",
       "      <td>Terminal Bliss</td>\n",
       "      <td>1992</td>\n",
       "      <td>NaN</td>\n",
       "      <td>NaN</td>\n",
       "      <td>245</td>\n",
       "      <td>4.4</td>\n",
       "      <td>Drama</td>\n",
       "      <td>96</td>\n",
       "      <td>1</td>\n",
       "    </tr>\n",
       "  </tbody>\n",
       "</table>\n",
       "<p>63373 rows × 15 columns</p>\n",
       "</div>"
      ],
      "text/plain": [
       "       char_words  order gender    t_stat   p_value  slope_change  \\\n",
       "363           Jim      1      M -2.715964  0.020076      0.006715   \n",
       "364           Jim      1      M -2.715964  0.020076      0.006715   \n",
       "365           Jim      1      M -2.715964  0.020076      0.006715   \n",
       "378        Hunter     13      M -4.938567  0.000444      0.002903   \n",
       "379        Hunter     13      M -4.938567  0.000444      0.002903   \n",
       "...           ...    ...    ...       ...       ...           ...   \n",
       "761783    Charlie      5      M -5.446114  0.000202      0.006446   \n",
       "761784    Charlie      5      M -5.446114  0.000202      0.006446   \n",
       "761785    Charlie      5      M -5.446114  0.000202      0.006446   \n",
       "761802        Joy      2      F -2.338694  0.039263      0.002292   \n",
       "761820     Hunter      1      M -7.083089  0.000020      0.036603   \n",
       "\n",
       "                                   mov_name  year  month      revenue  \\\n",
       "363                         Blazing Saddles  1974    2.0  119500000.0   \n",
       "364                         Blazing Saddles  1974    2.0  119500000.0   \n",
       "365                         Blazing Saddles  1974    2.0  119500000.0   \n",
       "378                             Blue Velvet  1986    8.0    8551228.0   \n",
       "379                             Blue Velvet  1986    8.0    8551228.0   \n",
       "...                                     ...   ...    ...          ...   \n",
       "761783  The Water Horse: Legend of the Deep  2007   12.0  103071443.0   \n",
       "761784  The Water Horse: Legend of the Deep  2007   12.0  103071443.0   \n",
       "761785  The Water Horse: Legend of the Deep  2007   12.0  103071443.0   \n",
       "761802    Abducted: The Carlina White Story  2012   10.0          NaN   \n",
       "761820                       Terminal Bliss  1992    NaN          NaN   \n",
       "\n",
       "        numVotes  averageRating        genre  genre_code  gender_code  \n",
       "363       147934            7.7       Satire         227            1  \n",
       "364       147934            7.7      Western         277            1  \n",
       "365       147934            7.7       Comedy          62            1  \n",
       "378       210543            7.7     Thriller         268            1  \n",
       "379       210543            7.7      Mystery         184            1  \n",
       "...          ...            ...          ...         ...          ...  \n",
       "761783     42523            6.4      Fantasy         113            1  \n",
       "761784     42523            6.4  Family Film         111            1  \n",
       "761785     42523            6.4   Children's          53            1  \n",
       "761802      1255            6.6          NaN          -1            0  \n",
       "761820       245            4.4        Drama          96            1  \n",
       "\n",
       "[63373 rows x 15 columns]"
      ]
     },
     "metadata": {},
     "output_type": "display_data"
    }
   ],
   "source": [
    "# add a new column in name_by_movie_aggregate_genre_df that encode the movie genre\n",
    "name_by_movie_aggregate_genre_df['genre'] = name_by_movie_aggregate_genre_df['genre'].astype('category')\n",
    "name_by_movie_aggregate_genre_df['genre_code'] = name_by_movie_aggregate_genre_df['genre'].cat.codes\n",
    "\n",
    "# add a new column in name_by_movie_aggregate_genre_df that encode the gender column\n",
    "name_by_movie_aggregate_genre_df['gender'] = name_by_movie_aggregate_genre_df['gender'].astype('category')\n",
    "name_by_movie_aggregate_genre_df['gender_code'] = name_by_movie_aggregate_genre_df['gender'].cat.codes\n",
    "\n",
    "display(name_by_movie_aggregate_genre_df)"
   ]
  },
  {
   "cell_type": "markdown",
   "metadata": {},
   "source": [
    "Step 2 : create treatment and control group with a separation of the character based on the median of the `numVotes` values"
   ]
  },
  {
   "cell_type": "code",
   "execution_count": 108,
   "metadata": {},
   "outputs": [
    {
     "name": "stderr",
     "output_type": "stream",
     "text": [
      "C:\\Users\\m_the\\AppData\\Local\\Temp\\ipykernel_13256\\68046544.py:6: SettingWithCopyWarning:\n",
      "\n",
      "\n",
      "A value is trying to be set on a copy of a slice from a DataFrame.\n",
      "Try using .loc[row_indexer,col_indexer] = value instead\n",
      "\n",
      "See the caveats in the documentation: https://pandas.pydata.org/pandas-docs/stable/user_guide/indexing.html#returning-a-view-versus-a-copy\n",
      "\n",
      "C:\\Users\\m_the\\AppData\\Local\\Temp\\ipykernel_13256\\68046544.py:7: SettingWithCopyWarning:\n",
      "\n",
      "\n",
      "A value is trying to be set on a copy of a slice from a DataFrame.\n",
      "Try using .loc[row_indexer,col_indexer] = value instead\n",
      "\n",
      "See the caveats in the documentation: https://pandas.pydata.org/pandas-docs/stable/user_guide/indexing.html#returning-a-view-versus-a-copy\n",
      "\n"
     ]
    },
    {
     "data": {
      "text/html": [
       "<div>\n",
       "<style scoped>\n",
       "    .dataframe tbody tr th:only-of-type {\n",
       "        vertical-align: middle;\n",
       "    }\n",
       "\n",
       "    .dataframe tbody tr th {\n",
       "        vertical-align: top;\n",
       "    }\n",
       "\n",
       "    .dataframe thead th {\n",
       "        text-align: right;\n",
       "    }\n",
       "</style>\n",
       "<table border=\"1\" class=\"dataframe\">\n",
       "  <thead>\n",
       "    <tr style=\"text-align: right;\">\n",
       "      <th></th>\n",
       "      <th>char_words</th>\n",
       "      <th>order</th>\n",
       "      <th>gender</th>\n",
       "      <th>t_stat</th>\n",
       "      <th>p_value</th>\n",
       "      <th>slope_change</th>\n",
       "      <th>mov_name</th>\n",
       "      <th>year</th>\n",
       "      <th>month</th>\n",
       "      <th>revenue</th>\n",
       "      <th>numVotes</th>\n",
       "      <th>averageRating</th>\n",
       "      <th>genre</th>\n",
       "      <th>genre_code</th>\n",
       "      <th>gender_code</th>\n",
       "      <th>is_treated</th>\n",
       "    </tr>\n",
       "  </thead>\n",
       "  <tbody>\n",
       "    <tr>\n",
       "      <th>702360</th>\n",
       "      <td>Michael</td>\n",
       "      <td>5</td>\n",
       "      <td>F</td>\n",
       "      <td>-3.847640</td>\n",
       "      <td>0.002711</td>\n",
       "      <td>0.069700</td>\n",
       "      <td>The War Against Mrs. Hadley</td>\n",
       "      <td>1942</td>\n",
       "      <td>8.0</td>\n",
       "      <td>NaN</td>\n",
       "      <td>473</td>\n",
       "      <td>6.6</td>\n",
       "      <td>Drama</td>\n",
       "      <td>96</td>\n",
       "      <td>0</td>\n",
       "      <td>0</td>\n",
       "    </tr>\n",
       "    <tr>\n",
       "      <th>674517</th>\n",
       "      <td>Diane</td>\n",
       "      <td>1</td>\n",
       "      <td>F</td>\n",
       "      <td>-3.274153</td>\n",
       "      <td>0.007410</td>\n",
       "      <td>0.014202</td>\n",
       "      <td>Target: Harry</td>\n",
       "      <td>1979</td>\n",
       "      <td>1.0</td>\n",
       "      <td>NaN</td>\n",
       "      <td>248</td>\n",
       "      <td>5.0</td>\n",
       "      <td>Drama</td>\n",
       "      <td>96</td>\n",
       "      <td>0</td>\n",
       "      <td>0</td>\n",
       "    </tr>\n",
       "    <tr>\n",
       "      <th>660103</th>\n",
       "      <td>John</td>\n",
       "      <td>6</td>\n",
       "      <td>M</td>\n",
       "      <td>-2.221929</td>\n",
       "      <td>0.048202</td>\n",
       "      <td>0.040654</td>\n",
       "      <td>Cavalry</td>\n",
       "      <td>1936</td>\n",
       "      <td>10.0</td>\n",
       "      <td>NaN</td>\n",
       "      <td>115</td>\n",
       "      <td>6.1</td>\n",
       "      <td>Western</td>\n",
       "      <td>277</td>\n",
       "      <td>1</td>\n",
       "      <td>0</td>\n",
       "    </tr>\n",
       "    <tr>\n",
       "      <th>455062</th>\n",
       "      <td>Jim</td>\n",
       "      <td>0</td>\n",
       "      <td>M</td>\n",
       "      <td>2.979334</td>\n",
       "      <td>0.012534</td>\n",
       "      <td>-0.010047</td>\n",
       "      <td>Nevada</td>\n",
       "      <td>1944</td>\n",
       "      <td>NaN</td>\n",
       "      <td>NaN</td>\n",
       "      <td>411</td>\n",
       "      <td>6.1</td>\n",
       "      <td>Action</td>\n",
       "      <td>2</td>\n",
       "      <td>1</td>\n",
       "      <td>0</td>\n",
       "    </tr>\n",
       "    <tr>\n",
       "      <th>760475</th>\n",
       "      <td>Rana</td>\n",
       "      <td>8</td>\n",
       "      <td>M</td>\n",
       "      <td>-3.374692</td>\n",
       "      <td>0.006201</td>\n",
       "      <td>0.000360</td>\n",
       "      <td>Pyar Mohabbat</td>\n",
       "      <td>1966</td>\n",
       "      <td>NaN</td>\n",
       "      <td>NaN</td>\n",
       "      <td>40</td>\n",
       "      <td>7.1</td>\n",
       "      <td>Drama</td>\n",
       "      <td>96</td>\n",
       "      <td>1</td>\n",
       "      <td>0</td>\n",
       "    </tr>\n",
       "  </tbody>\n",
       "</table>\n",
       "</div>"
      ],
      "text/plain": [
       "       char_words  order gender    t_stat   p_value  slope_change  \\\n",
       "702360    Michael      5      F -3.847640  0.002711      0.069700   \n",
       "674517      Diane      1      F -3.274153  0.007410      0.014202   \n",
       "660103       John      6      M -2.221929  0.048202      0.040654   \n",
       "455062        Jim      0      M  2.979334  0.012534     -0.010047   \n",
       "760475       Rana      8      M -3.374692  0.006201      0.000360   \n",
       "\n",
       "                           mov_name  year  month  revenue  numVotes  \\\n",
       "702360  The War Against Mrs. Hadley  1942    8.0      NaN       473   \n",
       "674517                Target: Harry  1979    1.0      NaN       248   \n",
       "660103                      Cavalry  1936   10.0      NaN       115   \n",
       "455062                       Nevada  1944    NaN      NaN       411   \n",
       "760475                Pyar Mohabbat  1966    NaN      NaN        40   \n",
       "\n",
       "        averageRating    genre  genre_code  gender_code  is_treated  \n",
       "702360            6.6    Drama          96            0           0  \n",
       "674517            5.0    Drama          96            0           0  \n",
       "660103            6.1  Western         277            1           0  \n",
       "455062            6.1   Action           2            1           0  \n",
       "760475            7.1    Drama          96            1           0  "
      ]
     },
     "metadata": {},
     "output_type": "display_data"
    },
    {
     "name": "stdout",
     "output_type": "stream",
     "text": [
      "Length of control population: 5225\n"
     ]
    },
    {
     "data": {
      "text/html": [
       "<div>\n",
       "<style scoped>\n",
       "    .dataframe tbody tr th:only-of-type {\n",
       "        vertical-align: middle;\n",
       "    }\n",
       "\n",
       "    .dataframe tbody tr th {\n",
       "        vertical-align: top;\n",
       "    }\n",
       "\n",
       "    .dataframe thead th {\n",
       "        text-align: right;\n",
       "    }\n",
       "</style>\n",
       "<table border=\"1\" class=\"dataframe\">\n",
       "  <thead>\n",
       "    <tr style=\"text-align: right;\">\n",
       "      <th></th>\n",
       "      <th>char_words</th>\n",
       "      <th>order</th>\n",
       "      <th>gender</th>\n",
       "      <th>t_stat</th>\n",
       "      <th>p_value</th>\n",
       "      <th>slope_change</th>\n",
       "      <th>mov_name</th>\n",
       "      <th>year</th>\n",
       "      <th>month</th>\n",
       "      <th>revenue</th>\n",
       "      <th>numVotes</th>\n",
       "      <th>averageRating</th>\n",
       "      <th>genre</th>\n",
       "      <th>genre_code</th>\n",
       "      <th>gender_code</th>\n",
       "      <th>is_treated</th>\n",
       "    </tr>\n",
       "  </thead>\n",
       "  <tbody>\n",
       "    <tr>\n",
       "      <th>150170</th>\n",
       "      <td>Paul</td>\n",
       "      <td>0</td>\n",
       "      <td>M</td>\n",
       "      <td>-2.512398</td>\n",
       "      <td>0.028863</td>\n",
       "      <td>0.007408</td>\n",
       "      <td>The Green Mile</td>\n",
       "      <td>1999</td>\n",
       "      <td>12.0</td>\n",
       "      <td>290701374.0</td>\n",
       "      <td>1369236</td>\n",
       "      <td>8.6</td>\n",
       "      <td>Mystery</td>\n",
       "      <td>184</td>\n",
       "      <td>1</td>\n",
       "      <td>1</td>\n",
       "    </tr>\n",
       "    <tr>\n",
       "      <th>621962</th>\n",
       "      <td>Eric</td>\n",
       "      <td>14</td>\n",
       "      <td>M</td>\n",
       "      <td>-2.945878</td>\n",
       "      <td>0.013307</td>\n",
       "      <td>0.007560</td>\n",
       "      <td>Eclipse</td>\n",
       "      <td>2010</td>\n",
       "      <td>6.0</td>\n",
       "      <td>698491347.0</td>\n",
       "      <td>256116</td>\n",
       "      <td>5.1</td>\n",
       "      <td>Horror</td>\n",
       "      <td>150</td>\n",
       "      <td>1</td>\n",
       "      <td>1</td>\n",
       "    </tr>\n",
       "    <tr>\n",
       "      <th>150174</th>\n",
       "      <td>Paul</td>\n",
       "      <td>0</td>\n",
       "      <td>M</td>\n",
       "      <td>-2.512398</td>\n",
       "      <td>0.028863</td>\n",
       "      <td>0.007408</td>\n",
       "      <td>The Green Mile</td>\n",
       "      <td>1999</td>\n",
       "      <td>12.0</td>\n",
       "      <td>290701374.0</td>\n",
       "      <td>1369236</td>\n",
       "      <td>8.6</td>\n",
       "      <td>Prison</td>\n",
       "      <td>206</td>\n",
       "      <td>1</td>\n",
       "      <td>1</td>\n",
       "    </tr>\n",
       "    <tr>\n",
       "      <th>658664</th>\n",
       "      <td>King</td>\n",
       "      <td>10</td>\n",
       "      <td>M</td>\n",
       "      <td>-3.821565</td>\n",
       "      <td>0.002835</td>\n",
       "      <td>0.010790</td>\n",
       "      <td>Your Highness</td>\n",
       "      <td>2011</td>\n",
       "      <td>4.0</td>\n",
       "      <td>24856478.0</td>\n",
       "      <td>103620</td>\n",
       "      <td>5.5</td>\n",
       "      <td>Comedy</td>\n",
       "      <td>62</td>\n",
       "      <td>1</td>\n",
       "      <td>1</td>\n",
       "    </tr>\n",
       "    <tr>\n",
       "      <th>12583</th>\n",
       "      <td>Marc</td>\n",
       "      <td>4</td>\n",
       "      <td>M</td>\n",
       "      <td>-2.223412</td>\n",
       "      <td>0.048078</td>\n",
       "      <td>0.002941</td>\n",
       "      <td>Leaving Las Vegas</td>\n",
       "      <td>1995</td>\n",
       "      <td>9.0</td>\n",
       "      <td>32029928.0</td>\n",
       "      <td>131575</td>\n",
       "      <td>7.5</td>\n",
       "      <td>Drama</td>\n",
       "      <td>96</td>\n",
       "      <td>1</td>\n",
       "      <td>1</td>\n",
       "    </tr>\n",
       "  </tbody>\n",
       "</table>\n",
       "</div>"
      ],
      "text/plain": [
       "       char_words  order gender    t_stat   p_value  slope_change  \\\n",
       "150170       Paul      0      M -2.512398  0.028863      0.007408   \n",
       "621962       Eric     14      M -2.945878  0.013307      0.007560   \n",
       "150174       Paul      0      M -2.512398  0.028863      0.007408   \n",
       "658664       King     10      M -3.821565  0.002835      0.010790   \n",
       "12583        Marc      4      M -2.223412  0.048078      0.002941   \n",
       "\n",
       "                 mov_name  year  month      revenue  numVotes  averageRating  \\\n",
       "150170     The Green Mile  1999   12.0  290701374.0   1369236            8.6   \n",
       "621962            Eclipse  2010    6.0  698491347.0    256116            5.1   \n",
       "150174     The Green Mile  1999   12.0  290701374.0   1369236            8.6   \n",
       "658664      Your Highness  2011    4.0   24856478.0    103620            5.5   \n",
       "12583   Leaving Las Vegas  1995    9.0   32029928.0    131575            7.5   \n",
       "\n",
       "          genre  genre_code  gender_code  is_treated  \n",
       "150170  Mystery         184            1           1  \n",
       "621962   Horror         150            1           1  \n",
       "150174   Prison         206            1           1  \n",
       "658664   Comedy          62            1           1  \n",
       "12583     Drama          96            1           1  "
      ]
     },
     "metadata": {},
     "output_type": "display_data"
    },
    {
     "name": "stdout",
     "output_type": "stream",
     "text": [
      "Length of treatment population: 14338\n"
     ]
    }
   ],
   "source": [
    "# separate the name_by_movie_aggregate_genre_df into two dataframes, one control and one treatment based on whether the attribute 'numVotes' is higher or lower than the median.\n",
    "q3_control_pop_df = name_by_movie_aggregate_genre_df[name_by_movie_aggregate_genre_df['numVotes'] < 500]\n",
    "q3_treatment_pop_df = name_by_movie_aggregate_genre_df[name_by_movie_aggregate_genre_df['numVotes'] >= 100000]\n",
    "\n",
    "# add a column to each dataframe that contains whether the character is in the control or treatment population\n",
    "q3_control_pop_df['is_treated'] = 0\n",
    "q3_treatment_pop_df['is_treated'] = 1\n",
    "\n",
    "display(q3_control_pop_df.sample(5))\n",
    "print(f\"Length of control population: {len(q3_control_pop_df)}\")\n",
    "display(q3_treatment_pop_df.sample(5))\n",
    "print(f\"Length of treatment population: {len(q3_treatment_pop_df)}\")\n"
   ]
  },
  {
   "cell_type": "markdown",
   "metadata": {},
   "source": [
    "Step 3 : matching"
   ]
  },
  {
   "cell_type": "code",
   "execution_count": 109,
   "metadata": {},
   "outputs": [
    {
     "name": "stdout",
     "output_type": "stream",
     "text": [
      "Matched Pairs:\n",
      "[(56134, 42355), (142740, 96790), (174971, 182614), (174972, 92733), (174973, 7479), (174974, 7481), (174978, 7478), (175089, 48231), (175110, 51383), (175124, 112095), (175125, 11158), (175127, 11156), (175128, 318735), (175131, 112089), (197451, 79296), (201243, 3446), (201245, 3447), (201249, 257185), (201250, 257186), (201260, 366217), (215935, 52877), (215943, 233096), (237522, 70165), (237524, 7521), (237525, 70166), (238744, 97577), (238788, 38587), (243409, 124956), (243410, 352186), (243421, 55115), (243422, 55113), (243423, 55121), (245897, 110543), (256708, 25185), (256711, 25186), (257075, 47411), (260800, 6064), (261900, 154798), (262494, 113041), (262495, 16897), (274007, 57977), (276874, 5102), (277207, 81152), (277215, 139748), (277216, 179431), (277217, 98301), (289958, 11157), (289959, 11158), (289960, 67852), (289961, 11156), (299119, 321790), (299120, 3460), (299121, 591336), (303174, 240732), (303175, 92374), (306490, 59351), (308375, 52877), (310214, 103471), (310216, 139754), (315907, 167688), (315908, 99369), (315910, 99375), (320107, 106306), (324389, 65935), (342233, 105547), (342234, 105549), (342235, 105548), (345960, 42468), (345961, 42470), (345962, 109618), (345964, 10374), (345965, 42465), (346164, 14402), (346166, 14405), (346585, 75287), (346586, 60975), (346590, 3025), (346899, 228127), (346901, 228125), (346902, 192621), (346903, 197173), (350941, 228087), (350943, 154798), (350944, 228085), (350945, 211262), (352554, 40957), (352556, 59609), (355841, 98303), (361269, 124778), (361272, 138646), (368165, 37572), (368166, 33026), (369455, 3869), (373646, 232830), (375646, 488959), (376286, 262715), (376287, 262716), (376288, 262713), (387379, 189790), (387385, 225777), (389689, 60975), (394994, 124591), (394995, 57981), (396017, 134706), (396018, 56702), (396019, 134703), (396023, 89797), (396060, 366225), (396062, 366225), (396487, 605445), (396488, 605443), (396489, 54594), (396490, 54599), (396491, 54598), (396545, 366218), (396559, 49998), (401833, 281751), (401834, 284107), (407689, 271696), (409456, 69366), (412983, 54839), (414926, 285595), (414927, 285598), (417249, 197173), (417250, 192621), (417251, 197168), (417416, 163796), (417417, 163789), (417418, 163791), (417419, 163792), (420114, 226761), (420928, 34428), (421164, 59351), (421171, 115025), (421359, 106380), (421360, 106380), (422587, 121709), (422588, 42171), (423138, 248657), (424093, 267026), (426019, 303504), (426022, 351022), (426384, 364756), (426386, 15574), (426402, 99372), (426403, 413615), (426404, 187051), (426745, 51076), (426747, 51082), (426748, 51083), (426749, 80705), (431364, 488959), (431365, 57273), (432672, 211088), (432673, 154798), (432952, 102939), (432961, 119020), (433686, 68565), (433687, 68564), (433771, 97577), (439924, 103471), (439926, 139756), (443317, 522181), (444476, 500814), (444477, 467969), (444491, 466274), (444492, 440068), (444493, 544215), (446901, 56882), (447620, 138646), (447621, 113044), (448164, 211718), (448165, 280159), (448166, 262713), (448167, 280167), (448168, 280163), (448819, 320648), (451784, 187419), (451787, 100030), (451788, 100036), (451799, 306322), (452002, 57981), (452584, 23697), (452604, 23739), (452619, 23769), (452697, 501384), (452698, 501386), (452699, 622262), (453436, 373330), (453438, 321329), (453460, 283293), (453461, 473084), (453462, 401056), (453463, 346987), (453464, 473070), (453465, 346990), (453478, 388229), (453480, 274341), (457507, 132106), (457512, 132108), (457657, 125902), (458032, 31343), (458033, 31340), (458037, 3461), (458940, 59404), (458941, 89789), (460279, 125902), (462121, 92136), (462122, 46908), (462123, 38353), (462124, 92132), (462125, 38352), (462312, 7483), (462313, 7481), (462314, 92733), (462315, 7480), (463562, 90762), (463563, 59405), (463763, 38563), (463764, 38567), (466419, 262715), (466420, 262713), (468679, 124956), (468680, 124960), (469346, 467969), (469348, 515925), (472304, 30051), (472312, 30051), (474083, 440068), (474190, 82317), (474205, 69401), (474964, 31587), (476186, 5114), (478920, 422809), (480025, 315262), (482021, 12413), (482093, 346728), (482094, 362182), (482096, 362179), (482097, 346990), (482128, 346728), (482129, 362182), (482131, 362179), (482132, 346990), (482443, 74997), (483478, 711242), (485033, 125447), (485034, 100693), (485046, 110545), (485168, 408455), (486334, 32403), (486748, 263929), (487348, 40918), (488840, 285598), (488846, 265298), (490716, 38467), (490717, 5108), (490720, 5305), (490721, 42355), (491246, 18005), (491248, 18004), (491938, 584828), (492824, 631543), (492828, 622039), (496031, 657), (496780, 89764), (496781, 89765), (496789, 7443), (497347, 65953), (497348, 248659), (498107, 257186), (498108, 3447), (499829, 57977), (500199, 622039), (500200, 622039), (500504, 57324), (500949, 59702), (500950, 59707), (500951, 59704), (500955, 59701), (510900, 27529), (510904, 124960), (513045, 107835), (513814, 3448), (513816, 3451), (514242, 125448), (514244, 100692), (514245, 120184), (514246, 137172), (518142, 249014), (518143, 348059), (518146, 125862), (518147, 321317), (519029, 98303), (519030, 98300), (519342, 135773), (519345, 106309), (519350, 135773), (519353, 106309), (520101, 51862), (520466, 500826), (520878, 605445), (520879, 54597), (521621, 124768), (521622, 44039), (521623, 48309), (521624, 44038), (522340, 351022), (522657, 125862), (523019, 13676), (524193, 211255), (524195, 96284), (524196, 211256), (524959, 463378), (524960, 275749), (524961, 125902), (524962, 125898), (525363, 79005), (525672, 385089), (525673, 610365), (526338, 351022), (526340, 125902), (527492, 103404), (527665, 47606), (527822, 91403), (527823, 132287), (527868, 47597), (528126, 254074), (528127, 461608), (528128, 245840), (529562, 30051), (529719, 205433), (529720, 357120), (529721, 262734), (529723, 357123), (530114, 303504), (531551, 70764), (531552, 70762), (531553, 93407), (531554, 70765), (532625, 584832), (533393, 41003), (534667, 96285), (536008, 320600), (537588, 203237), (537590, 254551), (537592, 219462), (537594, 211365), (537600, 154798), (537602, 211261), (537603, 228085), (539440, 47597), (539453, 70165), (539456, 7525), (541537, 20719), (542973, 748002), (542977, 748000), (542979, 751565), (542983, 740283), (543003, 736995), (544457, 211086), (544458, 228077), (544459, 228080), (544461, 228084), (545490, 385086), (545492, 423517), (545493, 519967), (545919, 228755), (547150, 232825), (547519, 315352), (547520, 124425), (547636, 3872), (547637, 3876), (547638, 78957), (547639, 78965), (548710, 281751), (548719, 335971), (548722, 265298), (548817, 40421), (550745, 462821), (551188, 12410), (552312, 100692), (552313, 125446), (552314, 125447), (552336, 98303), (552337, 131887), (552338, 98302), (552585, 412243), (553142, 131887), (553144, 98302), (554507, 31335), (554878, 500814), (554879, 519960), (554880, 392367), (554881, 464426), (555258, 101520), (555259, 271696), (556550, 505192), (557110, 318510), (557111, 318509), (557128, 254074), (557367, 318080), (557732, 132107), (557734, 132108), (557764, 65640), (557772, 621), (557773, 614), (558408, 2365), (558713, 9469), (559487, 55166), (559489, 55121), (561007, 38567), (562543, 334000), (562754, 228807), (568075, 35538), (568174, 495223), (569397, 98032), (570299, 254074), (570302, 228755), (570303, 245840), (570609, 214968), (570611, 394524), (571009, 532806), (571013, 532715), (571017, 423681), (571933, 12551), (571935, 30408), (573640, 41803), (573641, 41804), (573642, 51863), (574694, 412236), (574695, 579224), (574697, 579225), (576285, 179433), (576917, 125902), (577208, 625732), (578481, 271922), (578528, 636507), (578530, 613779), (578531, 316202), (579030, 605445), (580123, 78046), (580124, 78045), (580125, 78048), (580127, 78049), (582134, 121709), (583079, 31335), (583430, 351022), (583618, 30055), (583620, 30053), (584066, 3024), (584067, 101545), (585253, 122225), (585254, 122226), (585257, 122227), (585926, 24784), (587870, 462832), (589363, 125902), (589447, 25185), (589768, 308508), (589769, 704242), (589938, 45191), (589941, 45197), (590309, 514304), (590310, 623030), (590311, 514307), (590390, 467969), (591960, 525439), (591961, 525442), (591962, 495284), (591963, 484861), (592674, 17009), (593451, 27235), (593505, 418720), (593506, 498991), (594086, 315352), (594087, 68560), (594090, 68561), (595230, 79001), (595413, 540298), (595415, 521892), (595416, 540297), (595418, 540304), (595419, 516306), (595420, 516304), (595421, 516305), (595422, 516303), (596181, 9517), (596285, 30054), (596985, 3131), (597004, 521892), (597005, 562934), (597006, 540297), (597007, 619776), (597878, 8079), (598580, 568447), (598581, 670536), (598582, 568440), (598584, 397977), (598900, 248657), (600176, 606860), (600192, 606860), (602873, 525442), (602874, 484861), (604201, 500826), (604233, 130999), (604590, 7344), (605276, 57273), (606581, 6283), (606586, 47061), (606588, 47051), (606596, 29010), (606597, 47051), (608512, 57324), (608514, 88613), (608545, 77978), (608547, 77981), (608549, 291280), (608956, 500828), (609633, 18029), (610250, 18029), (610864, 45221), (610873, 70815), (610906, 25382), (611186, 51842), (611187, 51841), (611218, 56218), (611220, 310657), (611221, 101545), (613312, 605043), (615036, 270844), (615037, 189317), (615038, 189319), (615805, 462831), (615807, 486439), (615809, 24760), (615894, 469689), (615895, 469687), (615896, 486437), (615909, 385089), (615911, 505092), (616724, 3097), (617359, 622299), (617374, 610592), (617455, 39396), (617456, 39397), (617457, 516314), (617458, 516311), (617460, 516310), (617461, 516313), (617497, 316108), (617498, 316104), (617500, 316107), (618057, 24784), (619393, 13676), (619630, 592394), (619682, 45197), (619712, 519967), (619717, 311483), (619747, 3875), (620184, 584856), (621196, 82912), (621236, 82927), (621596, 9469), (622529, 485554), (622530, 485556), (622531, 347315), (622552, 446205), (622573, 47051), (622711, 586638), (622868, 374581), (622869, 463456), (623137, 101520), (623216, 21721), (624011, 44852), (624657, 31762), (624852, 79005), (624885, 374653), (626150, 21755), (626689, 138646), (626693, 138650), (626694, 113041), (626986, 296350), (626989, 586638), (627016, 577470), (627019, 540306), (627206, 586634), (627431, 501364), (627432, 501362), (628019, 291773), (628020, 520265), (629193, 18005), (629356, 693102), (629357, 704924), (630423, 30051), (630511, 21058), (630941, 30051), (631149, 30051), (631151, 21058), (631155, 21019), (631184, 646879), (631186, 529385), (631305, 17986), (631324, 625080), (633201, 392364), (634322, 189319), (634788, 521666), (635645, 755552), (635647, 755551), (636085, 161119), (636086, 185939), (636088, 37965), (636090, 161119), (636091, 185939), (636093, 37965), (636447, 605421), (636802, 500826), (636803, 418730), (636805, 423517), (636806, 423521), (636807, 423522), (637037, 93402), (637038, 93403), (637040, 103471), (637041, 88269), (637042, 103472), (637213, 631543), (638679, 334000), (638681, 334000), (639108, 601036), (639109, 540306), (639136, 604881), (639137, 370057), (639139, 604879), (639149, 412082), (639152, 605043), (639153, 579220), (639155, 605041), (639645, 17007), (640329, 412082), (641650, 383035), (641686, 527080), (641689, 622039), (643349, 245840), (643350, 156151), (643392, 413548), (643765, 30408), (643947, 383566), (643948, 383565), (643949, 148335), (644744, 646879), (644745, 646878), (644746, 680513), (644747, 529385), (644751, 646247), (644753, 646248), (644754, 527026), (645291, 423677), (645309, 546342), (646404, 87420), (646405, 87422), (646938, 693158), (647817, 521657), (647818, 521655), (647822, 521656), (649572, 9746), (649573, 9741), (650389, 91403), (650390, 98244), (650750, 3872), (651966, 3872), (652128, 577567), (652131, 592394), (652168, 495226), (652171, 558136), (652360, 23697), (652379, 38156), (654976, 315271), (655018, 521892), (655028, 516311), (655029, 516311), (655315, 573970), (657246, 59405), (658091, 175631), (658095, 320602), (658106, 87135), (658107, 31919), (658113, 320650), (658579, 412236), (658580, 495284), (658582, 525442), (658745, 613770), (658746, 613769), (658864, 7353), (659254, 125401), (659255, 102226), (659958, 14112), (660885, 13156), (661101, 96788), (661103, 96793), (661903, 114951), (662079, 34625), (662080, 531), (663974, 308490), (663981, 308508), (663982, 513929), (665444, 9741), (665445, 6162), (665454, 260421), (665489, 14114), (665596, 531), (666457, 96788), (666469, 96788), (667421, 14114), (667423, 14111), (667424, 14112), (668034, 30051), (669585, 311940), (669606, 57328), (669610, 57324), (670095, 12208), (670282, 311982), (670294, 500784), (670296, 423517), (670628, 366217), (670771, 82318), (670773, 82317), (670926, 257186), (670927, 3446), (671773, 30051), (672171, 620397), (672316, 69371), (672317, 69368), (672318, 69369), (672319, 69367), (673768, 385173), (673769, 505118), (674365, 69401), (674366, 105549), (674821, 592394), (675517, 429491), (675871, 285599), (676484, 7443), (676758, 550019), (676832, 693647), (677001, 711189), (677176, 550043), (677178, 563339), (677179, 563342), (677339, 697706), (677340, 683957), (677355, 664746), (677356, 684613), (677859, 189791), (677860, 189790), (680275, 163801), (680447, 72532), (681245, 316107), (681355, 346729), (681356, 346728), (681357, 350993), (681358, 346990), (682123, 106306), (682126, 94613), (683851, 527080), (683857, 429491), (683859, 501386), (683860, 648731), (683873, 461446), (684159, 44535), (684160, 75291), (684161, 60975), (684162, 47061), (684689, 366225), (684714, 69402), (686467, 568429), (686468, 429491), (687478, 40918), (687485, 138670), (688048, 682200), (688050, 622289), (688051, 670191), (689534, 563340), (689535, 516311), (690567, 211367), (690568, 219462), (691389, 4392), (691444, 687446), (691445, 545824), (691779, 613769), (691780, 535916), (693438, 393938), (694247, 704733), (694248, 668816), (694249, 631543), (695361, 69402), (695364, 129027), (695365, 56672), (695476, 63120), (697290, 153123), (697292, 51863), (698315, 5112), (698316, 67132), (698987, 211718), (700800, 98248), (700801, 98249), (701717, 7523), (703135, 683957), (703136, 397981), (703137, 501362), (703565, 683420), (703568, 706267), (704673, 687879), (705535, 4513), (705537, 4511), (706161, 78243), (706162, 91563), (706163, 78242), (706228, 545824), (706236, 363376), (706237, 31335), (707710, 46977), (707713, 267034), (707734, 56218), (707735, 3024), (707736, 236115), (707743, 156602), (707744, 156604), (707745, 156605), (708292, 529385), (708293, 680513), (708380, 14111), (708490, 687446), (708493, 545824), (708502, 622939), (708504, 622935), (708505, 429509), (708600, 182086), (708840, 595309), (708856, 568430), (709393, 622041), (709394, 622040), (709395, 535485), (709397, 622039), (709896, 9473), (710621, 316202), (710626, 548839), (710627, 495223), (710628, 592460), (710629, 579220), (711610, 315339), (711611, 315333), (711612, 315334), (711620, 423524), (711621, 423517), (711622, 423522), (711696, 687685), (711699, 515163), (711702, 653465), (711703, 692952), (711705, 699016), (712593, 568433), (712649, 622977), (712681, 123086), (713288, 29286), (713289, 119451), (713371, 397981), (714951, 25804), (714990, 699016), (716079, 3935), (716081, 3938), (717129, 59351), (717194, 678837), (717204, 568430), (717739, 33032), (717740, 87121), (717741, 33026), (718208, 56218), (718209, 3025), (721069, 82913), (721072, 82912), (721728, 122179), (722748, 269153), (722749, 269150), (722750, 635231), (723169, 622039), (723273, 653470), (724920, 691634), (724921, 435415), (725102, 658632), (725103, 568430), (725104, 429491), (725105, 545890), (725106, 568433), (725107, 568429), (725615, 185935), (725616, 37965), (725916, 708754), (725918, 683115), (726591, 545818), (726592, 622039), (726932, 225777), (726936, 303504), (727100, 34462), (727542, 10374), (727544, 42466), (730184, 692969), (730185, 674120), (730186, 653468), (730187, 692967), (730635, 363376), (733596, 65804), (733597, 65803), (733920, 363986), (733921, 363993), (734244, 275749), (734246, 125902), (734364, 687685), (735953, 699016), (735954, 435401), (736033, 693156), (737026, 706267), (737027, 624217), (737891, 685485), (737892, 706267), (737897, 685485), (737898, 706267), (737905, 30053), (737906, 30051), (738268, 513930), (738269, 513928), (738284, 719123), (738285, 719122), (738574, 573971), (738576, 495295), (738577, 573966), (738578, 495293), (739235, 740195), (739244, 712468), (739245, 719767), (739589, 65935), (739598, 109556), (739599, 109563), (739721, 226945), (739828, 632870), (739830, 501362), (740251, 717835), (740816, 33677), (740865, 470669), (741431, 78236), (741432, 56675), (741433, 56672), (742079, 14111), (742080, 14112), (743129, 96788), (743197, 30053), (743198, 30055), (743201, 30051), (744016, 651815), (744017, 514304), (744018, 651816), (744019, 610644), (745207, 658648), (745345, 706297), (745557, 515163), (746211, 755551), (746268, 577424), (746372, 308508), (746376, 653465), (746381, 683115), (746383, 691634), (746384, 719787), (746511, 622289), (746556, 440973), (746734, 681542), (746735, 513928), (747034, 21721), (747530, 699022), (747531, 513929), (747532, 704924), (747555, 21755), (747565, 21721), (747934, 3868), (748019, 740195), (748021, 699031), (748713, 189790), (748780, 23024), (749956, 683115), (749968, 546423), (749969, 461446), (750337, 683115), (750349, 554125), (750352, 308490), (751181, 96790), (751183, 96788), (751578, 50000), (751580, 366225), (751583, 49998), (751585, 49999), (751830, 708754), (751831, 691505), (751834, 435409), (751835, 515167), (751836, 683374), (752809, 513929), (752811, 515163), (753207, 7344), (753209, 7346), (753519, 103471), (754144, 96284), (754396, 651223), (754398, 308508), (754399, 662968), (754400, 513930), (754402, 513929), (754403, 513928), (755389, 692952), (756437, 631543), (757348, 715857), (758401, 699031), (758530, 706297), (759241, 760238), (759342, 366217), (759501, 697264), (759502, 683115), (759503, 683114), (759588, 534351), (759876, 719805), (760051, 352632), (760178, 565463), (760179, 699016), (760192, 649794), (760193, 696099), (760319, 3872), (761404, 699031), (761418, 706267), (761820, 605445)]\n"
     ]
    }
   ],
   "source": [
    "# Columns to use for matching\n",
    "matching_columns = ['order', 'year', 'genre_code', 'gender_code']\n",
    "# matching_columns = ['order', 'year', 'gender_code']\n",
    "\n",
    "# Initialize a list to store the matched pairs\n",
    "matched_pairs = []\n",
    "\n",
    "# Iterate through each row in the control dataframe\n",
    "for control_index, control_row in q3_control_pop_df.iterrows():\n",
    "    # Filter the treatment dataframe based on the matching columns\n",
    "    matching_rows = q3_treatment_pop_df[\n",
    "        (q3_treatment_pop_df[matching_columns] == control_row[matching_columns]).all(axis=1)\n",
    "    ]\n",
    "\n",
    "    # Check if there is a match\n",
    "    if not matching_rows.empty:\n",
    "        # Store the index of the matched pair\n",
    "        treatment_index = matching_rows.index[0]\n",
    "        matched_pairs.append((control_index, treatment_index))\n",
    "\n",
    "# Display the matched pairs\n",
    "print(\"Matched Pairs:\")\n",
    "print(matched_pairs) # control_index, treatment_index\n"
   ]
  },
  {
   "cell_type": "code",
   "execution_count": 110,
   "metadata": {},
   "outputs": [
    {
     "data": {
      "text/plain": [
       "[(376287, 262716),\n",
       " (662079, 34625),\n",
       " (215935, 52877),\n",
       " (497347, 65953),\n",
       " (524196, 211256),\n",
       " (583618, 30055),\n",
       " (346166, 14405),\n",
       " (574697, 579225),\n",
       " (631324, 625080),\n",
       " (722750, 635231),\n",
       " (589938, 45191),\n",
       " (709394, 622040),\n",
       " (623216, 21721),\n",
       " (548817, 40421),\n",
       " (725102, 658632),\n",
       " (739598, 109556),\n",
       " (256708, 25185),\n",
       " (396559, 49998),\n",
       " (649572, 9746),\n",
       " (676758, 550019),\n",
       " (453460, 283293),\n",
       " (641686, 527080),\n",
       " (175089, 48231),\n",
       " (444477, 467969),\n",
       " (238788, 38587),\n",
       " (462125, 38352),\n",
       " (558713, 9469),\n",
       " (677176, 550043),\n",
       " (615809, 24760),\n",
       " (615911, 505092),\n",
       " (174973, 7479),\n",
       " (260800, 6064),\n",
       " (529721, 262734),\n",
       " (175125, 11158),\n",
       " (396488, 605443),\n",
       " (480025, 315262),\n",
       " (485034, 100693),\n",
       " (706163, 78242),\n",
       " (519030, 98300),\n",
       " (580123, 78046),\n",
       " (315908, 99369),\n",
       " (615805, 462831),\n",
       " (524195, 96284),\n",
       " (598581, 670536),\n",
       " (426384, 364756),\n",
       " (315907, 167688),\n",
       " (711620, 423524),\n",
       " (636806, 423521),\n",
       " (711610, 315339),\n",
       " (462124, 92132),\n",
       " (532625, 584832),\n",
       " (636807, 423522),\n",
       " (589941, 45197),\n",
       " (615036, 270844),\n",
       " (557111, 318509),\n",
       " (488846, 265298),\n",
       " (443317, 522181),\n",
       " (711703, 692952),\n",
       " (547520, 124425),\n",
       " (611220, 310657),\n",
       " (500504, 57324),\n",
       " (451784, 187419),\n",
       " (637042, 103472),\n",
       " (687485, 138670),\n",
       " (277216, 179431),\n",
       " (518146, 125862),\n",
       " (554879, 519960),\n",
       " (617458, 516311),\n",
       " (636088, 37965),\n",
       " (738269, 513928),\n",
       " (716081, 3938),\n",
       " (643948, 383565),\n",
       " (417419, 163792),\n",
       " (617374, 610592),\n",
       " (627432, 501362),\n",
       " (531551, 70764),\n",
       " (431365, 57273),\n",
       " (639155, 605041),\n",
       " (591962, 495284),\n",
       " (421359, 106380),\n",
       " (705535, 4513),\n",
       " (701717, 7523),\n",
       " (658107, 31919),\n",
       " (686467, 568429),\n",
       " (514245, 120184),\n",
       " (531554, 70765),\n",
       " (609633, 18029),\n",
       " (708840, 595309),\n",
       " (717739, 33032),\n",
       " (452697, 501384),\n",
       " (417251, 197168),\n",
       " (617457, 516314),\n",
       " (739721, 226945),\n",
       " (630511, 21058),\n",
       " (539456, 7525),\n",
       " (624885, 374653),\n",
       " (733597, 65803),\n",
       " (725105, 545890),\n",
       " (274007, 57977),\n",
       " (417418, 163791),\n",
       " (559487, 55166),\n",
       " (669585, 311940),\n",
       " (712649, 622977),\n",
       " (457512, 132108),\n",
       " (624657, 31762),\n",
       " (628019, 291773),\n",
       " (643392, 413548),\n",
       " (514244, 100692),\n",
       " (759503, 683114),\n",
       " (617498, 316104),\n",
       " (738284, 719123),\n",
       " (542979, 751565),\n",
       " (548719, 335971),\n",
       " (590311, 514307),\n",
       " (545493, 519967),\n",
       " (276874, 5102),\n",
       " (262495, 16897),\n",
       " (544458, 228077),\n",
       " (691389, 4392),\n",
       " (725918, 683115),\n",
       " (547639, 78965),\n",
       " (401833, 281751),\n",
       " (342234, 105549),\n",
       " (617460, 516310),\n",
       " (215943, 233096),\n",
       " (568174, 495223),\n",
       " (426745, 51076),\n",
       " (444492, 440068),\n",
       " (665454, 260421),\n",
       " (740251, 717835),\n",
       " (463763, 38563),\n",
       " (619717, 311483),\n",
       " (537592, 219462),\n",
       " (636086, 185939),\n",
       " (682126, 94613),\n",
       " (571013, 532715),\n",
       " (621236, 82927),\n",
       " (629357, 704924),\n",
       " (703136, 397981),\n",
       " (426022, 351022),\n",
       " (490717, 5108),\n",
       " (643949, 148335),\n",
       " (713288, 29286),\n",
       " (661903, 114951),\n",
       " (289958, 11157),\n",
       " (675871, 285599),\n",
       " (201249, 257185),\n",
       " (615896, 486437),\n",
       " (345964, 10374),\n",
       " (725615, 185935),\n",
       " (490716, 38467),\n",
       " (237522, 70165),\n",
       " (432952, 102939),\n",
       " (672171, 620397),\n",
       " (277217, 98301),\n",
       " (730184, 692969),\n",
       " (627431, 501364),\n",
       " (396487, 605445),\n",
       " (691444, 687446),\n",
       " (491246, 18005),\n",
       " (262494, 113041),\n",
       " (426403, 413615),\n",
       " (711696, 687685),\n",
       " (593505, 418720),\n",
       " (421171, 115025),\n",
       " (673768, 385173),\n",
       " (660885, 13156),\n",
       " (592674, 17009),\n",
       " (448165, 280159),\n",
       " (746268, 577424),\n",
       " (444491, 466274),\n",
       " (645309, 546342),\n",
       " (669606, 57328),\n",
       " (595420, 516304),\n",
       " (513045, 107835),\n",
       " (636085, 161119),\n",
       " (606588, 47051),\n",
       " (739828, 632870),\n",
       " (310216, 139754),\n",
       " (387379, 189790),\n",
       " (583620, 30053),\n",
       " (531553, 93407),\n",
       " (175110, 51383),\n",
       " (175128, 318735),\n",
       " (610864, 45221),\n",
       " (680275, 163801),\n",
       " (714951, 25804),\n",
       " (545490, 385086),\n",
       " (672319, 69367),\n",
       " (524960, 275749),\n",
       " (451787, 100030),\n",
       " (747934, 3868),\n",
       " (760192, 649794),\n",
       " (342233, 105547),\n",
       " (444476, 500814),\n",
       " (667423, 14111),\n",
       " (639139, 604879),\n",
       " (452699, 622262),\n",
       " (555258, 101520),\n",
       " (683860, 648731),\n",
       " (738268, 513930),\n",
       " (580125, 78048),\n",
       " (659255, 102226),\n",
       " (711705, 699016),\n",
       " (711702, 653465),\n",
       " (426402, 99372),\n",
       " (472304, 30051),\n",
       " (361272, 138646),\n",
       " (751585, 49999),\n",
       " (201245, 3447),\n",
       " (476186, 5114),\n",
       " (604233, 130999),\n",
       " (722749, 269150),\n",
       " (759876, 719805),\n",
       " (617500, 316107),\n",
       " (716079, 3935),\n",
       " (417417, 163789),\n",
       " (525673, 610365),\n",
       " (655315, 573970),\n",
       " (663974, 308490),\n",
       " (175127, 11156),\n",
       " (709395, 535485),\n",
       " (746384, 719787),\n",
       " (590309, 514304),\n",
       " (457657, 125902),\n",
       " (518142, 249014),\n",
       " (346590, 3025),\n",
       " (350941, 228087),\n",
       " (598580, 568447),\n",
       " (665489, 14114),\n",
       " (724921, 435415),\n",
       " (663982, 513929),\n",
       " (751834, 435409),\n",
       " (613312, 605043),\n",
       " (368166, 33026),\n",
       " (554880, 392367),\n",
       " (759241, 760238),\n",
       " (571009, 532806),\n",
       " (524193, 211255),\n",
       " (639137, 370057),\n",
       " (468680, 124960),\n",
       " (448167, 280167),\n",
       " (598582, 568440),\n",
       " (595422, 516303),\n",
       " (721069, 82913),\n",
       " (626150, 21755),\n",
       " (710626, 548839),\n",
       " (747530, 699022),\n",
       " (537594, 211365),\n",
       " (622711, 586638),\n",
       " (619630, 592394),\n",
       " (740865, 470669),\n",
       " (637037, 93402),\n",
       " (717740, 87121),\n",
       " (738574, 573971),\n",
       " (412983, 54839),\n",
       " (751578, 50000),\n",
       " (595416, 540297),\n",
       " (759501, 697264),\n",
       " (644746, 680513),\n",
       " (324389, 65935),\n",
       " (544457, 211086),\n",
       " (589768, 308508),\n",
       " (463563, 59405),\n",
       " (644753, 646248),\n",
       " (708504, 622935),\n",
       " (709393, 622041),\n",
       " (474964, 31587),\n",
       " (542983, 740283),\n",
       " (693438, 393938),\n",
       " (537602, 211261),\n",
       " (562754, 228807),\n",
       " (394994, 124591),\n",
       " (414927, 285598),\n",
       " (677178, 563339),\n",
       " (453478, 388229),\n",
       " (417416, 163796),\n",
       " (396489, 54594),\n",
       " (420928, 34428),\n",
       " (727544, 42466),\n",
       " (496031, 657),\n",
       " (573642, 51863),\n",
       " (593451, 27235),\n",
       " (703568, 706267),\n",
       " (578481, 271922),\n",
       " (433686, 68565),\n",
       " (619747, 3875),\n",
       " (707713, 267034),\n",
       " (448168, 280163),\n",
       " (694248, 668816),\n",
       " (724920, 691634),\n",
       " (617359, 622299),\n",
       " (658864, 7353),\n",
       " (483478, 711242),\n",
       " (491248, 18004),\n",
       " (683873, 461446),\n",
       " (315910, 99375),\n",
       " (541537, 20719),\n",
       " (578528, 636507),\n",
       " (596181, 9517),\n",
       " (646405, 87422),\n",
       " (722748, 269153),\n",
       " (665445, 6162),\n",
       " (432961, 119020),\n",
       " (611186, 51842),\n",
       " (670771, 82318),\n",
       " (401834, 284107),\n",
       " (661103, 96793),\n",
       " (557732, 132107),\n",
       " (738576, 495295),\n",
       " (458941, 89789),\n",
       " (689534, 563340),\n",
       " (529723, 357123),\n",
       " (554507, 31335),\n",
       " (174971, 182614),\n",
       " (576285, 179433),\n",
       " (746734, 681542),\n",
       " (557367, 318080),\n",
       " (647822, 521656),\n",
       " (677355, 664746),\n",
       " (726591, 545818),\n",
       " (574695, 579224),\n",
       " (500949, 59702),\n",
       " (591960, 525439),\n",
       " (519345, 106309),\n",
       " (739244, 712468),\n",
       " (485168, 408455),\n",
       " (646938, 693158),\n",
       " (670282, 311982),\n",
       " (706162, 91563),\n",
       " (751836, 683374),\n",
       " (521622, 44039),\n",
       " (744018, 651816),\n",
       " (544461, 228084),\n",
       " (277207, 81152),\n",
       " (426747, 51082),\n",
       " (497348, 248659),\n",
       " (652379, 38156),\n",
       " (652168, 495226),\n",
       " (352556, 59609),\n",
       " (407689, 271696),\n",
       " (303174, 240732),\n",
       " (521621, 124768),\n",
       " (536008, 320600),\n",
       " (514246, 137172),\n",
       " (631305, 17986),\n",
       " (634788, 521666),\n",
       " (746556, 440973),\n",
       " (545492, 423517),\n",
       " (595415, 521892),\n",
       " (641650, 383035),\n",
       " (688050, 622289),\n",
       " (610906, 25382),\n",
       " (426749, 80705),\n",
       " (243422, 55113),\n",
       " (606586, 47061),\n",
       " (647817, 521657),\n",
       " (485033, 125447),\n",
       " (738577, 573966),\n",
       " (616724, 3097),\n",
       " (680447, 72532),\n",
       " (672317, 69368),\n",
       " (652128, 577567),\n",
       " (649573, 9741),\n",
       " (396491, 54598),\n",
       " (451788, 100036),\n",
       " (562543, 334000),\n",
       " (527823, 132287),\n",
       " (684714, 69402),\n",
       " (524962, 125898),\n",
       " (453480, 274341),\n",
       " (451799, 306322),\n",
       " (635647, 755551),\n",
       " (748780, 23024),\n",
       " (527665, 47606),\n",
       " (518143, 348059),\n",
       " (352554, 40957),\n",
       " (277215, 139748),\n",
       " (306490, 59351),\n",
       " (510900, 27529),\n",
       " (677356, 684613),\n",
       " (749968, 546423),\n",
       " (712593, 568433),\n",
       " (759588, 534351),\n",
       " (528126, 254074),\n",
       " (654976, 315271),\n",
       " (595421, 516305),\n",
       " (595418, 540304),\n",
       " (452584, 23697),\n",
       " (673769, 505118),\n",
       " (677339, 697706),\n",
       " (646404, 87420),\n",
       " (644754, 527026),\n",
       " (320107, 106306),\n",
       " (733921, 363993),\n",
       " (608956, 500828),\n",
       " (521624, 44038),\n",
       " (345962, 109618),\n",
       " (554881, 464426),\n",
       " (706236, 363376),\n",
       " (608549, 291280),\n",
       " (615038, 189319),\n",
       " (396545, 366218),\n",
       " (523019, 13676),\n",
       " (448164, 211718),\n",
       " (636447, 605421),\n",
       " (396017, 134706),\n",
       " (525672, 385089),\n",
       " (201250, 257186),\n",
       " (622531, 347315),\n",
       " (735954, 435401),\n",
       " (453462, 401056),\n",
       " (299119, 321790),\n",
       " (608514, 88613),\n",
       " (458032, 31343),\n",
       " (741431, 78236),\n",
       " (534667, 96285),\n",
       " (571935, 30408),\n",
       " (631186, 529385),\n",
       " (645291, 423677),\n",
       " (552337, 131887),\n",
       " (600176, 606860),\n",
       " (520101, 51862),\n",
       " (639149, 412082),\n",
       " (197451, 79296),\n",
       " (658106, 87135),\n",
       " (596985, 3131),\n",
       " (446901, 56882),\n",
       " (703565, 683420),\n",
       " (672316, 69371),\n",
       " (547636, 3872),\n",
       " (568075, 35538),\n",
       " (414926, 285595),\n",
       " (513814, 3448),\n",
       " (587870, 462832),\n",
       " (375646, 488959),\n",
       " (492824, 631543),\n",
       " (557773, 614),\n",
       " (590310, 623030),\n",
       " (652171, 558136),\n",
       " (622552, 446205),\n",
       " (695364, 129027),\n",
       " (677001, 711189),\n",
       " (597878, 8079),\n",
       " (487348, 40918),\n",
       " (712681, 123086),\n",
       " (463764, 38567),\n",
       " (423138, 248657),\n",
       " (611218, 56218),\n",
       " (627019, 540306),\n",
       " (631155, 21019),\n",
       " (482093, 346728),\n",
       " (635645, 755552),\n",
       " (738285, 719122),\n",
       " (615037, 189317),\n",
       " (518147, 321317),\n",
       " (626986, 296350),\n",
       " (604590, 7344),\n",
       " (237524, 7521),\n",
       " (637038, 93403),\n",
       " (684159, 44535),\n",
       " (658746, 613769),\n",
       " (528127, 461608),\n",
       " (643947, 383566),\n",
       " (639136, 604881),\n",
       " (658095, 320602),\n",
       " (639108, 601036),\n",
       " (675517, 429491),\n",
       " (606581, 6283),\n",
       " (396023, 89797),\n",
       " (453463, 346987),\n",
       " (760193, 696099),\n",
       " (631184, 646879),\n",
       " (432672, 211088),\n",
       " (737891, 685485),\n",
       " (688051, 670191),\n",
       " (439926, 139756),\n",
       " (463562, 90762),\n",
       " (542977, 748000),\n",
       " (524959, 463378),\n",
       " (688048, 682200),\n",
       " (500951, 59704),\n",
       " (708502, 622939),\n",
       " (733920, 363986),\n",
       " (573640, 41803),\n",
       " (597007, 619776),\n",
       " (243421, 55115),\n",
       " (496780, 89764),\n",
       " (346899, 228127),\n",
       " (500955, 59701),\n",
       " (593506, 498991),\n",
       " (573641, 41804),\n",
       " (557764, 65640),\n",
       " (677340, 683957),\n",
       " (707744, 156604),\n",
       " (738578, 495293),\n",
       " (458940, 59404),\n",
       " (748021, 699031),\n",
       " (462315, 7480),\n",
       " (368165, 37572),\n",
       " (723273, 653470),\n",
       " (596285, 30054),\n",
       " (519342, 135773),\n",
       " (544459, 228080),\n",
       " (369455, 3869),\n",
       " (643350, 156151),\n",
       " (310214, 103471),\n",
       " (584067, 101545),\n",
       " (650390, 98244),\n",
       " (733596, 65804),\n",
       " (708505, 429509),\n",
       " (543003, 736995),\n",
       " (745345, 706297),\n",
       " (597005, 562934),\n",
       " (557110, 318510),\n",
       " (608545, 77978),\n",
       " (610873, 70815),\n",
       " (633201, 392364),\n",
       " (424093, 267026),\n",
       " (595419, 516306),\n",
       " (478920, 422809),\n",
       " (736033, 693156),\n",
       " (578530, 613779),\n",
       " (571933, 12551),\n",
       " (698316, 67132),\n",
       " (744019, 610644),\n",
       " (694247, 704733),\n",
       " (704673, 687879),\n",
       " (426386, 15574),\n",
       " (598584, 397977),\n",
       " (453461, 473084),\n",
       " (496789, 7443),\n",
       " (174972, 92733),\n",
       " (346585, 75287),\n",
       " (474190, 82317),\n",
       " (569397, 98032),\n",
       " (557772, 621),\n",
       " (238744, 97577),\n",
       " (753209, 7346),\n",
       " (56134, 42355),\n",
       " (345965, 42465),\n",
       " (707743, 156602),\n",
       " (426748, 51083),\n",
       " (243409, 124956),\n",
       " (617461, 516313),\n",
       " (420114, 226761),\n",
       " (620184, 584856),\n",
       " (751835, 515167),\n",
       " (361269, 124778),\n",
       " (482443, 74997),\n",
       " (594087, 68560),\n",
       " (257075, 47411),\n",
       " (355841, 98303),\n",
       " (482094, 362182),\n",
       " (500950, 59707),\n",
       " (396490, 54599),\n",
       " (606596, 29010),\n",
       " (622530, 485556),\n",
       " (256711, 25186),\n",
       " (644751, 646247),\n",
       " (681355, 346729),\n",
       " (350945, 211262),\n",
       " (677859, 189791),\n",
       " (730187, 692967),\n",
       " (556550, 505192),\n",
       " (636803, 418730),\n",
       " (520466, 500826),\n",
       " (594090, 68561),\n",
       " (396018, 56702),\n",
       " (754399, 662968),\n",
       " (591963, 484861),\n",
       " (453465, 346990),\n",
       " (711699, 515163),\n",
       " (376286, 262715),\n",
       " (639645, 17007),\n",
       " (142740, 96790),\n",
       " (661101, 96788),\n",
       " (662080, 531),\n",
       " (695476, 63120),\n",
       " (547638, 78957),\n",
       " (289960, 67852),\n",
       " (537588, 203237),\n",
       " (447621, 113044),\n",
       " (243410, 352186),\n",
       " (245897, 110543),\n",
       " (513816, 3451),\n",
       " (595413, 540298),\n",
       " (261900, 154798),\n",
       " (462122, 46908),\n",
       " (175124, 112095),\n",
       " (547150, 232825),\n",
       " (426404, 187051),\n",
       " (422588, 42171),\n",
       " (452619, 23769),\n",
       " (709896, 9473),\n",
       " (608547, 77981),\n",
       " (492828, 622039),\n",
       " (520879, 54597),\n",
       " (570611, 394524),\n",
       " (711612, 315334),\n",
       " (589769, 704242),\n",
       " (529720, 357120),\n",
       " (474205, 69401),\n",
       " (491938, 584828),\n",
       " (691780, 535916),\n",
       " (658745, 613770),\n",
       " (622529, 485554),\n",
       " (672318, 69369),\n",
       " (426019, 303504),\n",
       " (346901, 228125),\n",
       " (681357, 350993),\n",
       " (514242, 125448),\n",
       " (708856, 568430),\n",
       " (373646, 232830),\n",
       " (303175, 92374),\n",
       " (547519, 315352),\n",
       " (528128, 245840),\n",
       " (744016, 651815),\n",
       " (458033, 31340),\n",
       " (700801, 98249),\n",
       " (750349, 554125),\n",
       " (684160, 75291),\n",
       " (201260, 366217),\n",
       " (345961, 42470),\n",
       " (452604, 23739),\n",
       " (175131, 112089),\n",
       " (740816, 33677),\n",
       " (710628, 592460),\n",
       " (422587, 121709),\n",
       " (457507, 132106),\n",
       " (299120, 3460),\n",
       " (707745, 156605),\n",
       " (617497, 316108),\n",
       " (658091, 175631),\n",
       " (670294, 500784),\n",
       " (691445, 545824),\n",
       " (396019, 134703),\n",
       " (711611, 315333),\n",
       " (527868, 47597),\n",
       " (529719, 205433),\n",
       " (444493, 544215),\n",
       " (433687, 68564),\n",
       " (580124, 78045),\n",
       " (552585, 412243),\n",
       " (739245, 719767),\n",
       " (595230, 79001),\n",
       " (574694, 412236),\n",
       " (700800, 98248),\n",
       " (615895, 469687),\n",
       " (670095, 12208),\n",
       " (346586, 60975),\n",
       " (676832, 693647),\n",
       " (485046, 110545),\n",
       " (350944, 228085),\n",
       " (462123, 38353),\n",
       " (611187, 51841),\n",
       " (448819, 320648),\n",
       " (621196, 82912),\n",
       " (730186, 653468),\n",
       " (243423, 55121),\n",
       " (721728, 122179),\n",
       " (677179, 563342),\n",
       " (346164, 14402),\n",
       " (527492, 103404),\n",
       " (453464, 473070),\n",
       " (741432, 56675),\n",
       " (659254, 125401),\n",
       " (346903, 197173),\n",
       " (394995, 57981),\n",
       " (629356, 693102),\n",
       " (496781, 89765),\n",
       " (737027, 624217),\n",
       " (376288, 262713),\n",
       " (537590, 254551),\n",
       " (545919, 228755),\n",
       " (725916, 708754),\n",
       " (558408, 2365),\n",
       " (174974, 7481),\n",
       " (585257, 122227),\n",
       " (713289, 119451),\n",
       " (739599, 109563),\n",
       " (698315, 5112),\n",
       " (346902, 192621),\n",
       " (760051, 352632),\n",
       " (658113, 320650),\n",
       " (552313, 125446),\n",
       " (482021, 12413),\n",
       " (584066, 3024),\n",
       " (342235, 105548),\n",
       " (626693, 138650),\n",
       " (571017, 423681),\n",
       " (637041, 88269),\n",
       " (727100, 34462),\n",
       " (486748, 263929),\n",
       " (580127, 78049),\n",
       " (585253, 122225),\n",
       " (591961, 525442),\n",
       " (622868, 374581),\n",
       " (627206, 586634),\n",
       " (695365, 56672),\n",
       " (757348, 715857),\n",
       " (578531, 316202),\n",
       " (490720, 5305),\n",
       " (409456, 69366),\n",
       " (453436, 373330),\n",
       " (469348, 515925),\n",
       " (585254, 122226),\n",
       " (396060, 366225),\n",
       " (624011, 44852),\n",
       " (387385, 225777),\n",
       " (745207, 658648),\n",
       " (730185, 674120),\n",
       " (706161, 78243),\n",
       " (628020, 520265),\n",
       " (705537, 4511),\n",
       " (458037, 3461),\n",
       " (617455, 39396),\n",
       " (647818, 521655),\n",
       " (577208, 625732),\n",
       " (659958, 14112),\n",
       " (552338, 98302),\n",
       " (345960, 42468),\n",
       " (521623, 48309),\n",
       " (739235, 740195),\n",
       " (482096, 362179),\n",
       " (533393, 41003),\n",
       " (617456, 39397),\n",
       " (622869, 463456),\n",
       " (644745, 646878),\n",
       " (550745, 462821),\n",
       " (551188, 12410),\n",
       " (690567, 211367),\n",
       " (615894, 469689),\n",
       " (237525, 70166),\n",
       " (570609, 214968),\n",
       " (174978, 7478),\n",
       " (462312, 7483),\n",
       " (717194, 678837),\n",
       " (201243, 3446),\n",
       " (299121, 591336),\n",
       " (531552, 70762),\n",
       " (708600, 182086),\n",
       " (527822, 91403),\n",
       " (707710, 46977),\n",
       " (751831, 691505),\n",
       " (615807, 486439),\n",
       " (452698, 501386),\n",
       " (525363, 79005),\n",
       " (707736, 236115),\n",
       " (697290, 153123),\n",
       " (754396, 651223),\n",
       " (486334, 32403),\n",
       " (639153, 579220),\n",
       " (542973, 748002),\n",
       " (760178, 565463),\n",
       " (547637, 3876),\n",
       " (627016, 577470),\n",
       " (453438, 321329),\n",
       " (585926, 24784),\n",
       " (462121, 92136)]"
      ]
     },
     "metadata": {},
     "output_type": "display_data"
    },
    {
     "name": "stdout",
     "output_type": "stream",
     "text": [
      "number of matched pairs: 760\n"
     ]
    }
   ],
   "source": [
    "# create a graph in order to avoid having the same index in two different pairs\n",
    "G = nx.Graph()\n",
    "\n",
    "for pair in matched_pairs:\n",
    "    G.add_edge(pair[0], pair[1])\n",
    "\n",
    "# Compute the best matching\n",
    "matching = nx.maximal_matching(G)\n",
    "\n",
    "display(list(matching))\n",
    "print(f\"number of matched pairs: {len(matching)}\")"
   ]
  },
  {
   "cell_type": "code",
   "execution_count": 111,
   "metadata": {},
   "outputs": [
    {
     "name": "stdout",
     "output_type": "stream",
     "text": [
      "[376287, 662079, 215935, 497347, 524196, 583618, 346166, 574697, 631324, 722750, 589938, 709394, 623216, 548817, 725102, 739598, 256708, 396559, 649572, 676758, 453460, 641686, 175089, 444477, 238788, 462125, 558713, 677176, 615809, 615911, 174973, 260800, 529721, 175125, 396488, 480025, 485034, 706163, 519030, 580123, 315908, 615805, 524195, 598581, 426384, 315907, 711620, 636806, 711610, 462124, 532625, 636807, 589941, 615036, 557111, 488846, 443317, 711703, 547520, 611220, 500504, 451784, 637042, 687485, 277216, 518146, 554879, 617458, 636088, 738269, 716081, 643948, 417419, 617374, 627432, 531551, 431365, 639155, 591962, 421359, 705535, 701717, 658107, 686467, 514245, 531554, 609633, 708840, 717739, 452697, 417251, 617457, 739721, 630511, 539456, 624885, 733597, 725105, 274007, 417418, 559487, 669585, 712649, 457512, 624657, 628019, 643392, 514244, 759503, 617498, 738284, 542979, 548719, 590311, 545493, 276874, 262495, 544458, 691389, 725918, 547639, 401833, 342234, 617460, 215943, 568174, 426745, 444492, 665454, 740251, 463763, 619717, 537592, 636086, 682126, 571013, 621236, 629357, 703136, 426022, 490717, 643949, 713288, 661903, 289958, 675871, 201249, 615896, 345964, 725615, 490716, 237522, 432952, 672171, 277217, 730184, 627431, 396487, 691444, 491246, 262494, 426403, 711696, 593505, 421171, 673768, 660885, 592674, 448165, 746268, 444491, 645309, 669606, 595420, 513045, 636085, 606588, 739828, 310216, 387379, 583620, 531553, 175110, 175128, 610864, 680275, 714951, 545490, 672319, 524960, 451787, 747934, 760192, 342233, 444476, 667423, 639139, 452699, 555258, 683860, 738268, 580125, 659255, 711705, 711702, 426402, 472304, 361272, 751585, 201245, 476186, 604233, 722749, 759876, 617500, 716079, 417417, 525673, 655315, 663974, 175127, 709395, 746384, 590309, 457657, 518142, 346590, 350941, 598580, 665489, 724921, 663982, 751834, 613312, 368166, 554880, 759241, 571009, 524193, 639137, 468680, 448167, 598582, 595422, 721069, 626150, 710626, 747530, 537594, 622711, 619630, 740865, 637037, 717740, 738574, 412983, 751578, 595416, 759501, 644746, 324389, 544457, 589768, 463563, 644753, 708504, 709393, 474964, 542983, 693438, 537602, 562754, 394994, 414927, 677178, 453478, 417416, 396489, 420928, 727544, 496031, 573642, 593451, 703568, 578481, 433686, 619747, 707713, 448168, 694248, 724920, 617359, 658864, 483478, 491248, 683873, 315910, 541537, 578528, 596181, 646405, 722748, 665445, 432961, 611186, 670771, 401834, 661103, 557732, 738576, 458941, 689534, 529723, 554507, 174971, 576285, 746734, 557367, 647822, 677355, 726591, 574695, 500949, 591960, 519345, 739244, 485168, 646938, 670282, 706162, 751836, 521622, 744018, 544461, 277207, 426747, 497348, 652379, 652168, 352556, 407689, 303174, 521621, 536008, 514246, 631305, 634788, 746556, 545492, 595415, 641650, 688050, 610906, 426749, 243422, 606586, 647817, 485033, 738577, 616724, 680447, 672317, 652128, 649573, 396491, 451788, 562543, 527823, 684714, 524962, 453480, 451799, 635647, 748780, 527665, 518143, 352554, 277215, 306490, 510900, 677356, 749968, 712593, 759588, 528126, 654976, 595421, 595418, 452584, 673769, 677339, 646404, 644754, 320107, 733921, 608956, 521624, 345962, 554881, 706236, 608549, 615038, 396545, 523019, 448164, 636447, 396017, 525672, 201250, 622531, 735954, 453462, 299119, 608514, 458032, 741431, 534667, 571935, 631186, 645291, 552337, 600176, 520101, 639149, 197451, 658106, 596985, 446901, 703565, 672316, 547636, 568075, 414926, 513814, 587870, 375646, 492824, 557773, 590310, 652171, 622552, 695364, 677001, 597878, 487348, 712681, 463764, 423138, 611218, 627019, 631155, 482093, 635645, 738285, 615037, 518147, 626986, 604590, 237524, 637038, 684159, 658746, 528127, 643947, 639136, 658095, 639108, 675517, 606581, 396023, 453463, 760193, 631184, 432672, 737891, 688051, 439926, 463562, 542977, 524959, 688048, 500951, 708502, 733920, 573640, 597007, 243421, 496780, 346899, 500955, 593506, 573641, 557764, 677340, 707744, 738578, 458940, 748021, 462315, 368165, 723273, 596285, 519342, 544459, 369455, 643350, 310214, 584067, 650390, 733596, 708505, 543003, 745345, 597005, 557110, 608545, 610873, 633201, 424093, 595419, 478920, 736033, 578530, 571933, 698316, 744019, 694247, 704673, 426386, 598584, 453461, 496789, 174972, 346585, 474190, 569397, 557772, 238744, 753209, 56134, 345965, 707743, 426748, 243409, 617461, 420114, 620184, 751835, 361269, 482443, 594087, 257075, 355841, 482094, 500950, 396490, 606596, 622530, 256711, 644751, 681355, 350945, 677859, 730187, 556550, 636803, 520466, 594090, 396018, 754399, 591963, 453465, 711699, 376286, 639645, 142740, 661101, 662080, 695476, 547638, 289960, 537588, 447621, 243410, 245897, 513816, 595413, 261900, 462122, 175124, 547150, 426404, 422588, 452619, 709896, 608547, 492828, 520879, 570611, 711612, 589769, 529720, 474205, 491938, 691780, 658745, 622529, 672318, 426019, 346901, 681357, 514242, 708856, 373646, 303175, 547519, 528128, 744016, 458033, 700801, 750349, 684160, 201260, 345961, 452604, 175131, 740816, 710628, 422587, 457507, 299120, 707745, 617497, 658091, 670294, 691445, 396019, 711611, 527868, 529719, 444493, 433687, 580124, 552585, 739245, 595230, 574694, 700800, 615895, 670095, 346586, 676832, 485046, 350944, 462123, 611187, 448819, 621196, 730186, 243423, 721728, 677179, 346164, 527492, 453464, 741432, 659254, 346903, 394995, 629356, 496781, 737027, 376288, 537590, 545919, 725916, 558408, 174974, 585257, 713289, 739599, 698315, 346902, 760051, 658113, 552313, 482021, 584066, 342235, 626693, 571017, 637041, 727100, 486748, 580127, 585253, 591961, 622868, 627206, 695365, 757348, 578531, 490720, 409456, 453436, 469348, 585254, 396060, 624011, 387385, 745207, 730185, 706161, 628020, 705537, 458037, 617455, 647818, 577208, 659958, 552338, 345960, 521623, 739235, 482096, 533393, 617456, 622869, 644745, 550745, 551188, 690567, 615894, 237525, 570609, 174978, 462312, 717194, 201243, 299121, 531552, 708600, 527822, 707710, 751831, 615807, 452698, 525363, 707736, 697290, 754396, 486334, 639153, 542973, 760178, 547637, 627016, 453438, 585926, 462121]\n",
      "[262716, 34625, 52877, 65953, 211256, 30055, 14405, 579225, 625080, 635231, 45191, 622040, 21721, 40421, 658632, 109556, 25185, 49998, 9746, 550019, 283293, 527080, 48231, 467969, 38587, 38352, 9469, 550043, 24760, 505092, 7479, 6064, 262734, 11158, 605443, 315262, 100693, 78242, 98300, 78046, 99369, 462831, 96284, 670536, 364756, 167688, 423524, 423521, 315339, 92132, 584832, 423522, 45197, 270844, 318509, 265298, 522181, 692952, 124425, 310657, 57324, 187419, 103472, 138670, 179431, 125862, 519960, 516311, 37965, 513928, 3938, 383565, 163792, 610592, 501362, 70764, 57273, 605041, 495284, 106380, 4513, 7523, 31919, 568429, 120184, 70765, 18029, 595309, 33032, 501384, 197168, 516314, 226945, 21058, 7525, 374653, 65803, 545890, 57977, 163791, 55166, 311940, 622977, 132108, 31762, 291773, 413548, 100692, 683114, 316104, 719123, 751565, 335971, 514307, 519967, 5102, 16897, 228077, 4392, 683115, 78965, 281751, 105549, 516310, 233096, 495223, 51076, 440068, 260421, 717835, 38563, 311483, 219462, 185939, 94613, 532715, 82927, 704924, 397981, 351022, 5108, 148335, 29286, 114951, 11157, 285599, 257185, 486437, 10374, 185935, 38467, 70165, 102939, 620397, 98301, 692969, 501364, 605445, 687446, 18005, 113041, 413615, 687685, 418720, 115025, 385173, 13156, 17009, 280159, 577424, 466274, 546342, 57328, 516304, 107835, 161119, 47051, 632870, 139754, 189790, 30053, 93407, 51383, 318735, 45221, 163801, 25804, 385086, 69367, 275749, 100030, 3868, 649794, 105547, 500814, 14111, 604879, 622262, 101520, 648731, 513930, 78048, 102226, 699016, 653465, 99372, 30051, 138646, 49999, 3447, 5114, 130999, 269150, 719805, 316107, 3935, 163789, 610365, 573970, 308490, 11156, 535485, 719787, 514304, 125902, 249014, 3025, 228087, 568447, 14114, 435415, 513929, 435409, 605043, 33026, 392367, 760238, 532806, 211255, 370057, 124960, 280167, 568440, 516303, 82913, 21755, 548839, 699022, 211365, 586638, 592394, 470669, 93402, 87121, 573971, 54839, 50000, 540297, 697264, 680513, 65935, 211086, 308508, 59405, 646248, 622935, 622041, 31587, 740283, 393938, 211261, 228807, 124591, 285598, 563339, 388229, 163796, 54594, 34428, 42466, 657, 51863, 27235, 706267, 271922, 68565, 3875, 267034, 280163, 668816, 691634, 622299, 7353, 711242, 18004, 461446, 99375, 20719, 636507, 9517, 87422, 269153, 6162, 119020, 51842, 82318, 284107, 96793, 132107, 495295, 89789, 563340, 357123, 31335, 182614, 179433, 681542, 318080, 521656, 664746, 545818, 579224, 59702, 525439, 106309, 712468, 408455, 693158, 311982, 91563, 683374, 44039, 651816, 228084, 81152, 51082, 248659, 38156, 495226, 59609, 271696, 240732, 124768, 320600, 137172, 17986, 521666, 440973, 423517, 521892, 383035, 622289, 25382, 80705, 55113, 47061, 521657, 125447, 573966, 3097, 72532, 69368, 577567, 9741, 54598, 100036, 334000, 132287, 69402, 125898, 274341, 306322, 755551, 23024, 47606, 348059, 40957, 139748, 59351, 27529, 684613, 546423, 568433, 534351, 254074, 315271, 516305, 540304, 23697, 505118, 697706, 87420, 527026, 106306, 363993, 500828, 44038, 109618, 464426, 363376, 291280, 189319, 366218, 13676, 211718, 605421, 134706, 385089, 257186, 347315, 435401, 401056, 321790, 88613, 31343, 78236, 96285, 30408, 529385, 423677, 131887, 606860, 51862, 412082, 79296, 87135, 3131, 56882, 683420, 69371, 3872, 35538, 285595, 3448, 462832, 488959, 631543, 614, 623030, 558136, 446205, 129027, 711189, 8079, 40918, 123086, 38567, 248657, 56218, 540306, 21019, 346728, 755552, 719122, 189317, 321317, 296350, 7344, 7521, 93403, 44535, 613769, 461608, 383566, 604881, 320602, 601036, 429491, 6283, 89797, 346987, 696099, 646879, 211088, 685485, 670191, 139756, 90762, 748000, 463378, 682200, 59704, 622939, 363986, 41803, 619776, 55115, 89764, 228127, 59701, 498991, 41804, 65640, 683957, 156604, 495293, 59404, 699031, 7480, 37572, 653470, 30054, 135773, 228080, 3869, 156151, 103471, 101545, 98244, 65804, 429509, 736995, 706297, 562934, 318510, 77978, 70815, 392364, 267026, 516306, 422809, 693156, 613779, 12551, 67132, 610644, 704733, 687879, 15574, 397977, 473084, 7443, 92733, 75287, 82317, 98032, 621, 97577, 7346, 42355, 42465, 156602, 51083, 124956, 516313, 226761, 584856, 515167, 124778, 74997, 68560, 47411, 98303, 362182, 59707, 54599, 29010, 485556, 25186, 646247, 346729, 211262, 189791, 692967, 505192, 418730, 500826, 68561, 56702, 662968, 484861, 346990, 515163, 262715, 17007, 96790, 96788, 531, 63120, 78957, 67852, 203237, 113044, 352186, 110543, 3451, 540298, 154798, 46908, 112095, 232825, 187051, 42171, 23769, 9473, 77981, 622039, 54597, 394524, 315334, 704242, 357120, 69401, 584828, 535916, 613770, 485554, 69369, 303504, 228125, 350993, 125448, 568430, 232830, 92374, 315352, 245840, 651815, 31340, 98249, 554125, 75291, 366217, 42470, 23739, 112089, 33677, 592460, 121709, 132106, 3460, 156605, 316108, 175631, 500784, 545824, 134703, 315333, 47597, 205433, 544215, 68564, 78045, 412243, 719767, 79001, 412236, 98248, 469687, 12208, 60975, 693647, 110545, 228085, 38353, 51841, 320648, 82912, 653468, 55121, 122179, 563342, 14402, 103404, 473070, 56675, 125401, 197173, 57981, 693102, 89765, 624217, 262713, 254551, 228755, 708754, 2365, 7481, 122227, 119451, 109563, 5112, 192621, 352632, 320650, 125446, 12413, 3024, 105548, 138650, 423681, 88269, 34462, 263929, 78049, 122225, 525442, 374581, 586634, 56672, 715857, 316202, 5305, 69366, 373330, 515925, 122226, 366225, 44852, 225777, 658648, 674120, 78243, 520265, 4511, 3461, 39396, 521655, 625732, 14112, 98302, 42468, 48309, 740195, 362179, 41003, 39397, 463456, 646878, 462821, 12410, 211367, 469689, 70166, 214968, 7478, 7483, 678837, 3446, 591336, 70762, 182086, 91403, 46977, 691505, 486439, 501386, 79005, 236115, 153123, 651223, 32403, 579220, 748002, 565463, 3876, 577470, 321329, 24784, 92136]\n"
     ]
    }
   ],
   "source": [
    "index_1 = [i[0] for i in list(matching)]\n",
    "index_2 = [i[1] for i in list(matching)]\n",
    "print(index_1)\n",
    "print(index_2)"
   ]
  },
  {
   "cell_type": "code",
   "execution_count": 112,
   "metadata": {},
   "outputs": [
    {
     "data": {
      "text/plain": [
       "char_words                   Kyle\n",
       "order                           0\n",
       "gender                          M\n",
       "t_stat                  -2.674246\n",
       "p_value                  0.021629\n",
       "slope_change             0.014854\n",
       "mov_name         Politics of Love\n",
       "year                         2011\n",
       "month                         8.0\n",
       "revenue                       NaN\n",
       "numVotes                      344\n",
       "averageRating                 3.1\n",
       "genre                Romance Film\n",
       "genre_code                    222\n",
       "gender_code                     1\n",
       "is_treated                      0\n",
       "Name: 738268, dtype: object"
      ]
     },
     "metadata": {},
     "output_type": "display_data"
    },
    {
     "data": {
      "text/plain": [
       "char_words                Paul\n",
       "order                        0\n",
       "gender                       M\n",
       "t_stat               -2.413622\n",
       "p_value               0.034393\n",
       "slope_change          0.003678\n",
       "mov_name         The Rum Diary\n",
       "year                      2011\n",
       "month                     10.0\n",
       "revenue             23947544.0\n",
       "numVotes                107310\n",
       "averageRating              6.1\n",
       "genre             Romance Film\n",
       "genre_code                 222\n",
       "gender_code                  1\n",
       "is_treated                   1\n",
       "Name: 513930, dtype: object"
      ]
     },
     "metadata": {},
     "output_type": "display_data"
    }
   ],
   "source": [
    "# check the matching for a specific pair\n",
    "check_index = 200\n",
    "\n",
    "display(q3_control_pop_df.loc[index_1[check_index]])\n",
    "display(q3_treatment_pop_df.loc[index_2[check_index]])"
   ]
  },
  {
   "cell_type": "code",
   "execution_count": 113,
   "metadata": {},
   "outputs": [
    {
     "data": {
      "text/html": [
       "<div>\n",
       "<style scoped>\n",
       "    .dataframe tbody tr th:only-of-type {\n",
       "        vertical-align: middle;\n",
       "    }\n",
       "\n",
       "    .dataframe tbody tr th {\n",
       "        vertical-align: top;\n",
       "    }\n",
       "\n",
       "    .dataframe thead th {\n",
       "        text-align: right;\n",
       "    }\n",
       "</style>\n",
       "<table border=\"1\" class=\"dataframe\">\n",
       "  <thead>\n",
       "    <tr style=\"text-align: right;\">\n",
       "      <th></th>\n",
       "      <th>char_words</th>\n",
       "      <th>order</th>\n",
       "      <th>gender</th>\n",
       "      <th>t_stat</th>\n",
       "      <th>p_value</th>\n",
       "      <th>slope_change</th>\n",
       "      <th>mov_name</th>\n",
       "      <th>year</th>\n",
       "      <th>month</th>\n",
       "      <th>revenue</th>\n",
       "      <th>numVotes</th>\n",
       "      <th>averageRating</th>\n",
       "      <th>genre</th>\n",
       "      <th>genre_code</th>\n",
       "      <th>gender_code</th>\n",
       "      <th>is_treated</th>\n",
       "    </tr>\n",
       "  </thead>\n",
       "  <tbody>\n",
       "    <tr>\n",
       "      <th>345961</th>\n",
       "      <td>Sandra</td>\n",
       "      <td>1</td>\n",
       "      <td>F</td>\n",
       "      <td>-2.555190</td>\n",
       "      <td>0.026747</td>\n",
       "      <td>0.002176</td>\n",
       "      <td>The Simian Line</td>\n",
       "      <td>2000</td>\n",
       "      <td>NaN</td>\n",
       "      <td>NaN</td>\n",
       "      <td>418</td>\n",
       "      <td>5.4</td>\n",
       "      <td>Romantic comedy</td>\n",
       "      <td>223</td>\n",
       "      <td>0</td>\n",
       "      <td>0</td>\n",
       "    </tr>\n",
       "    <tr>\n",
       "      <th>6283</th>\n",
       "      <td>Vincent</td>\n",
       "      <td>5</td>\n",
       "      <td>M</td>\n",
       "      <td>-2.239965</td>\n",
       "      <td>0.046704</td>\n",
       "      <td>0.005529</td>\n",
       "      <td>The Sixth Sense</td>\n",
       "      <td>1999</td>\n",
       "      <td>8.0</td>\n",
       "      <td>672806292.0</td>\n",
       "      <td>1029617</td>\n",
       "      <td>8.2</td>\n",
       "      <td>Drama</td>\n",
       "      <td>96</td>\n",
       "      <td>1</td>\n",
       "      <td>1</td>\n",
       "    </tr>\n",
       "    <tr>\n",
       "      <th>501386</th>\n",
       "      <td>Peter</td>\n",
       "      <td>5</td>\n",
       "      <td>M</td>\n",
       "      <td>-3.313844</td>\n",
       "      <td>0.006906</td>\n",
       "      <td>0.003360</td>\n",
       "      <td>Repo Men</td>\n",
       "      <td>2010</td>\n",
       "      <td>3.0</td>\n",
       "      <td>18409891.0</td>\n",
       "      <td>109720</td>\n",
       "      <td>6.3</td>\n",
       "      <td>Drama</td>\n",
       "      <td>96</td>\n",
       "      <td>1</td>\n",
       "      <td>1</td>\n",
       "    </tr>\n",
       "    <tr>\n",
       "      <th>550019</th>\n",
       "      <td>Nikolai</td>\n",
       "      <td>3</td>\n",
       "      <td>M</td>\n",
       "      <td>-2.225152</td>\n",
       "      <td>0.047931</td>\n",
       "      <td>0.000687</td>\n",
       "      <td>Jennifer's Body</td>\n",
       "      <td>2009</td>\n",
       "      <td>9.0</td>\n",
       "      <td>31556061.0</td>\n",
       "      <td>146604</td>\n",
       "      <td>5.5</td>\n",
       "      <td>Comedy</td>\n",
       "      <td>62</td>\n",
       "      <td>1</td>\n",
       "      <td>1</td>\n",
       "    </tr>\n",
       "    <tr>\n",
       "      <th>70815</th>\n",
       "      <td>Wendy</td>\n",
       "      <td>4</td>\n",
       "      <td>F</td>\n",
       "      <td>-3.920517</td>\n",
       "      <td>0.002391</td>\n",
       "      <td>0.012782</td>\n",
       "      <td>A Fish Called Wanda</td>\n",
       "      <td>1988</td>\n",
       "      <td>7.0</td>\n",
       "      <td>62493712.0</td>\n",
       "      <td>149985</td>\n",
       "      <td>7.5</td>\n",
       "      <td>Crime Fiction</td>\n",
       "      <td>82</td>\n",
       "      <td>0</td>\n",
       "      <td>1</td>\n",
       "    </tr>\n",
       "    <tr>\n",
       "      <th>546342</th>\n",
       "      <td>Clark</td>\n",
       "      <td>1</td>\n",
       "      <td>M</td>\n",
       "      <td>-4.125577</td>\n",
       "      <td>0.001685</td>\n",
       "      <td>0.002991</td>\n",
       "      <td>Green Zone</td>\n",
       "      <td>2010</td>\n",
       "      <td>2.0</td>\n",
       "      <td>94882549.0</td>\n",
       "      <td>141375</td>\n",
       "      <td>6.8</td>\n",
       "      <td>Action</td>\n",
       "      <td>2</td>\n",
       "      <td>1</td>\n",
       "      <td>1</td>\n",
       "    </tr>\n",
       "    <tr>\n",
       "      <th>677178</th>\n",
       "      <td>Chloe</td>\n",
       "      <td>0</td>\n",
       "      <td>F</td>\n",
       "      <td>3.266565</td>\n",
       "      <td>0.007511</td>\n",
       "      <td>-0.037511</td>\n",
       "      <td>Friends</td>\n",
       "      <td>2009</td>\n",
       "      <td>6.0</td>\n",
       "      <td>NaN</td>\n",
       "      <td>420</td>\n",
       "      <td>5.2</td>\n",
       "      <td>Romance Film</td>\n",
       "      <td>222</td>\n",
       "      <td>0</td>\n",
       "      <td>0</td>\n",
       "    </tr>\n",
       "    <tr>\n",
       "      <th>545490</th>\n",
       "      <td>Alice</td>\n",
       "      <td>1</td>\n",
       "      <td>F</td>\n",
       "      <td>-8.305196</td>\n",
       "      <td>0.000005</td>\n",
       "      <td>0.010132</td>\n",
       "      <td>Special Delivery</td>\n",
       "      <td>2008</td>\n",
       "      <td>9.0</td>\n",
       "      <td>NaN</td>\n",
       "      <td>352</td>\n",
       "      <td>5.3</td>\n",
       "      <td>Action</td>\n",
       "      <td>2</td>\n",
       "      <td>0</td>\n",
       "      <td>0</td>\n",
       "    </tr>\n",
       "    <tr>\n",
       "      <th>285595</th>\n",
       "      <td>Michael</td>\n",
       "      <td>0</td>\n",
       "      <td>M</td>\n",
       "      <td>-2.390800</td>\n",
       "      <td>0.035811</td>\n",
       "      <td>0.023008</td>\n",
       "      <td>Click</td>\n",
       "      <td>2006</td>\n",
       "      <td>6.0</td>\n",
       "      <td>237681299.0</td>\n",
       "      <td>348699</td>\n",
       "      <td>6.4</td>\n",
       "      <td>Romance Film</td>\n",
       "      <td>222</td>\n",
       "      <td>1</td>\n",
       "      <td>1</td>\n",
       "    </tr>\n",
       "    <tr>\n",
       "      <th>78957</th>\n",
       "      <td>Annabelle</td>\n",
       "      <td>1</td>\n",
       "      <td>F</td>\n",
       "      <td>-3.471265</td>\n",
       "      <td>0.005228</td>\n",
       "      <td>0.001505</td>\n",
       "      <td>Maverick</td>\n",
       "      <td>1994</td>\n",
       "      <td>5.0</td>\n",
       "      <td>183031272.0</td>\n",
       "      <td>116822</td>\n",
       "      <td>7.0</td>\n",
       "      <td>Action</td>\n",
       "      <td>2</td>\n",
       "      <td>0</td>\n",
       "      <td>1</td>\n",
       "    </tr>\n",
       "  </tbody>\n",
       "</table>\n",
       "</div>"
      ],
      "text/plain": [
       "       char_words  order gender    t_stat   p_value  slope_change  \\\n",
       "345961     Sandra      1      F -2.555190  0.026747      0.002176   \n",
       "6283      Vincent      5      M -2.239965  0.046704      0.005529   \n",
       "501386      Peter      5      M -3.313844  0.006906      0.003360   \n",
       "550019    Nikolai      3      M -2.225152  0.047931      0.000687   \n",
       "70815       Wendy      4      F -3.920517  0.002391      0.012782   \n",
       "546342      Clark      1      M -4.125577  0.001685      0.002991   \n",
       "677178      Chloe      0      F  3.266565  0.007511     -0.037511   \n",
       "545490      Alice      1      F -8.305196  0.000005      0.010132   \n",
       "285595    Michael      0      M -2.390800  0.035811      0.023008   \n",
       "78957   Annabelle      1      F -3.471265  0.005228      0.001505   \n",
       "\n",
       "                   mov_name  year  month      revenue  numVotes  \\\n",
       "345961      The Simian Line  2000    NaN          NaN       418   \n",
       "6283        The Sixth Sense  1999    8.0  672806292.0   1029617   \n",
       "501386             Repo Men  2010    3.0   18409891.0    109720   \n",
       "550019      Jennifer's Body  2009    9.0   31556061.0    146604   \n",
       "70815   A Fish Called Wanda  1988    7.0   62493712.0    149985   \n",
       "546342           Green Zone  2010    2.0   94882549.0    141375   \n",
       "677178              Friends  2009    6.0          NaN       420   \n",
       "545490     Special Delivery  2008    9.0          NaN       352   \n",
       "285595                Click  2006    6.0  237681299.0    348699   \n",
       "78957              Maverick  1994    5.0  183031272.0    116822   \n",
       "\n",
       "        averageRating            genre  genre_code  gender_code  is_treated  \n",
       "345961            5.4  Romantic comedy         223            0           0  \n",
       "6283              8.2            Drama          96            1           1  \n",
       "501386            6.3            Drama          96            1           1  \n",
       "550019            5.5           Comedy          62            1           1  \n",
       "70815             7.5    Crime Fiction          82            0           1  \n",
       "546342            6.8           Action           2            1           1  \n",
       "677178            5.2     Romance Film         222            0           0  \n",
       "545490            5.3           Action           2            0           0  \n",
       "285595            6.4     Romance Film         222            1           1  \n",
       "78957             7.0           Action           2            0           1  "
      ]
     },
     "metadata": {},
     "output_type": "display_data"
    }
   ],
   "source": [
    "# create the matched dataframe\n",
    "matched_control_df = q3_control_pop_df.loc[index_1].copy(deep=True)\n",
    "matched_treatment_df = q3_treatment_pop_df.loc[index_2].copy(deep=True)\n",
    "\n",
    "# concatenate the two dataframes\n",
    "matched_df = pd.concat([matched_control_df, matched_treatment_df], axis=0)\n",
    "display(matched_df.sample(10))"
   ]
  },
  {
   "cell_type": "code",
   "execution_count": 114,
   "metadata": {},
   "outputs": [
    {
     "name": "stdout",
     "output_type": "stream",
     "text": [
      "\n"
     ]
    },
    {
     "data": {
      "image/png": "[encoded data removed]",
      "text/plain": [
       "<Figure size 640x480 with 1 Axes>"
      ]
     },
     "metadata": {},
     "output_type": "display_data"
    },
    {
     "name": "stdout",
     "output_type": "stream",
     "text": [
      "slope = -0.0003918741982523622\n"
     ]
    }
   ],
   "source": [
    "# Sample data\n",
    "# treatment_control = np.array([0, 1, 0 ,1])  # 0 represents control, 1 represents treatment\n",
    "# y_values = np.array([10, 20, 5, 15])  # Replace with your actual continuous y-values\n",
    "treatment_control = matched_df['is_treated'].values\n",
    "y_values = abs(matched_df['slope_change'].values)\n",
    "print(f\"\")\n",
    "\n",
    "# Reshape the data to meet the requirements of scikit-learn\n",
    "X = treatment_control.reshape(-1, 1)\n",
    "y = y_values.reshape(-1, 1)\n",
    "\n",
    "# Create a linear regression model\n",
    "model = LinearRegression()\n",
    "\n",
    "# Fit the model to the data\n",
    "model.fit(X, y)\n",
    "\n",
    "# Predict y-values based on the model\n",
    "y_pred = model.predict(X)\n",
    "\n",
    "# Plot the original data points\n",
    "plt.scatter(treatment_control, y_values, color='blue', label='Actual Data')\n",
    "\n",
    "# Plot the regression line\n",
    "plt.plot(treatment_control, y_pred, color='red', linewidth=2, label='Regression Line')\n",
    "\n",
    "# Add labels and legend\n",
    "plt.xlabel('Treatment or Control')\n",
    "plt.ylabel('Continuous Y Values')\n",
    "plt.legend()\n",
    "plt.yscale('log')\n",
    "\n",
    "# Show the plot\n",
    "plt.show()\n",
    "\n",
    "slope = model.coef_[0, 0]\n",
    "print(f\"slope = {slope}\")"
   ]
  },
  {
   "cell_type": "code",
   "execution_count": 115,
   "metadata": {},
   "outputs": [
    {
     "data": {
      "text/html": [
       "<div>\n",
       "<style scoped>\n",
       "    .dataframe tbody tr th:only-of-type {\n",
       "        vertical-align: middle;\n",
       "    }\n",
       "\n",
       "    .dataframe tbody tr th {\n",
       "        vertical-align: top;\n",
       "    }\n",
       "\n",
       "    .dataframe thead th {\n",
       "        text-align: right;\n",
       "    }\n",
       "</style>\n",
       "<table border=\"1\" class=\"dataframe\">\n",
       "  <thead>\n",
       "    <tr style=\"text-align: right;\">\n",
       "      <th></th>\n",
       "      <th>char_words</th>\n",
       "      <th>order</th>\n",
       "      <th>gender</th>\n",
       "      <th>t_stat</th>\n",
       "      <th>p_value</th>\n",
       "      <th>slope_change</th>\n",
       "    </tr>\n",
       "    <tr>\n",
       "      <th>wiki_ID</th>\n",
       "      <th></th>\n",
       "      <th></th>\n",
       "      <th></th>\n",
       "      <th></th>\n",
       "      <th></th>\n",
       "      <th></th>\n",
       "    </tr>\n",
       "  </thead>\n",
       "  <tbody>\n",
       "    <tr>\n",
       "      <th>3217</th>\n",
       "      <td>Gold</td>\n",
       "      <td>6.0</td>\n",
       "      <td>NaN</td>\n",
       "      <td>NaN</td>\n",
       "      <td>NaN</td>\n",
       "      <td>0.000000</td>\n",
       "    </tr>\n",
       "    <tr>\n",
       "      <th>3217</th>\n",
       "      <td>Linda</td>\n",
       "      <td>7.0</td>\n",
       "      <td>F</td>\n",
       "      <td>-0.416786</td>\n",
       "      <td>0.684853</td>\n",
       "      <td>0.000673</td>\n",
       "    </tr>\n",
       "    <tr>\n",
       "      <th>3217</th>\n",
       "      <td>Henry</td>\n",
       "      <td>4.0</td>\n",
       "      <td>M</td>\n",
       "      <td>-2.031668</td>\n",
       "      <td>0.067058</td>\n",
       "      <td>0.002513</td>\n",
       "    </tr>\n",
       "    <tr>\n",
       "      <th>3217</th>\n",
       "      <td>Duke</td>\n",
       "      <td>4.0</td>\n",
       "      <td>M</td>\n",
       "      <td>0.579441</td>\n",
       "      <td>0.573967</td>\n",
       "      <td>-0.000113</td>\n",
       "    </tr>\n",
       "    <tr>\n",
       "      <th>3217</th>\n",
       "      <td>Warrior</td>\n",
       "      <td>9.0</td>\n",
       "      <td>M</td>\n",
       "      <td>NaN</td>\n",
       "      <td>NaN</td>\n",
       "      <td>0.000000</td>\n",
       "    </tr>\n",
       "    <tr>\n",
       "      <th>...</th>\n",
       "      <td>...</td>\n",
       "      <td>...</td>\n",
       "      <td>...</td>\n",
       "      <td>...</td>\n",
       "      <td>...</td>\n",
       "      <td>...</td>\n",
       "    </tr>\n",
       "    <tr>\n",
       "      <th>37478048</th>\n",
       "      <td>Ajay</td>\n",
       "      <td>9.0</td>\n",
       "      <td>M</td>\n",
       "      <td>-0.819213</td>\n",
       "      <td>0.430057</td>\n",
       "      <td>0.000130</td>\n",
       "    </tr>\n",
       "    <tr>\n",
       "      <th>37501922</th>\n",
       "      <td>Murphy</td>\n",
       "      <td>3.0</td>\n",
       "      <td>F</td>\n",
       "      <td>1.264175</td>\n",
       "      <td>0.232298</td>\n",
       "      <td>-0.000365</td>\n",
       "    </tr>\n",
       "    <tr>\n",
       "      <th>37501922</th>\n",
       "      <td>Hunter</td>\n",
       "      <td>1.0</td>\n",
       "      <td>M</td>\n",
       "      <td>-7.083089</td>\n",
       "      <td>0.000020</td>\n",
       "      <td>0.036603</td>\n",
       "    </tr>\n",
       "    <tr>\n",
       "      <th>37501922</th>\n",
       "      <td>John</td>\n",
       "      <td>1.0</td>\n",
       "      <td>M</td>\n",
       "      <td>-2.172964</td>\n",
       "      <td>0.052505</td>\n",
       "      <td>0.012557</td>\n",
       "    </tr>\n",
       "    <tr>\n",
       "      <th>37501922</th>\n",
       "      <td>Craig</td>\n",
       "      <td>3.0</td>\n",
       "      <td>F</td>\n",
       "      <td>-0.200536</td>\n",
       "      <td>0.844721</td>\n",
       "      <td>0.000666</td>\n",
       "    </tr>\n",
       "  </tbody>\n",
       "</table>\n",
       "<p>172906 rows × 6 columns</p>\n",
       "</div>"
      ],
      "text/plain": [
       "         char_words  order gender    t_stat   p_value  slope_change\n",
       "wiki_ID                                                            \n",
       "3217           Gold    6.0    NaN       NaN       NaN      0.000000\n",
       "3217          Linda    7.0      F -0.416786  0.684853      0.000673\n",
       "3217          Henry    4.0      M -2.031668  0.067058      0.002513\n",
       "3217           Duke    4.0      M  0.579441  0.573967     -0.000113\n",
       "3217        Warrior    9.0      M       NaN       NaN      0.000000\n",
       "...             ...    ...    ...       ...       ...           ...\n",
       "37478048       Ajay    9.0      M -0.819213  0.430057      0.000130\n",
       "37501922     Murphy    3.0      F  1.264175  0.232298     -0.000365\n",
       "37501922     Hunter    1.0      M -7.083089  0.000020      0.036603\n",
       "37501922       John    1.0      M -2.172964  0.052505      0.012557\n",
       "37501922      Craig    3.0      F -0.200536  0.844721      0.000666\n",
       "\n",
       "[172906 rows x 6 columns]"
      ]
     },
     "execution_count": 115,
     "metadata": {},
     "output_type": "execute_result"
    }
   ],
   "source": [
    "name_by_movie_df"
   ]
  },
  {
   "cell_type": "markdown",
   "metadata": {},
   "source": [
    "# Question 4 : Character importance in the film\n",
    "In this section, we try to answer the question whether the importance of the character in the movie plays a role on the influence of baby names.\n",
    "\n",
    "First, let's plot the number of character played in a year with significant impact with respect to the importance in movie."
   ]
  },
  {
   "cell_type": "code",
   "execution_count": 116,
   "metadata": {},
   "outputs": [],
   "source": [
    "# count the number of significant characters per movie\n",
    "signi_count_per_order = name_by_movie_df[name_by_movie_df['p_value'] <= 0.05].reset_index().groupby(['order'])['wiki_ID'].count().copy(deep=True)"
   ]
  },
  {
   "cell_type": "code",
   "execution_count": 117,
   "metadata": {},
   "outputs": [
    {
     "data": {
      "application/vnd.plotly.v1+json": {
       "config": {
        "plotlyServerURL": "https://plot.ly"
       },
       "data": [
        {
         "line": {
          "color": "blue"
         },
         "mode": "lines",
         "name": "Significant Impact",
         "type": "scatter",
         "x": [
          0,
          1,
          2,
          3,
          4,
          5,
          6,
          7,
          8,
          9,
          10,
          11,
          12,
          13,
          14,
          15,
          16,
          17,
          18,
          19,
          20,
          21,
          22,
          23,
          24,
          25,
          26,
          27,
          28,
          29,
          30,
          31,
          32,
          33,
          34,
          35,
          36,
          37,
          38,
          39,
          40,
          41,
          42,
          43,
          44,
          45,
          47,
          48,
          49,
          50,
          52,
          53,
          54,
          55,
          56,
          57,
          58,
          60,
          62,
          64,
          67,
          71,
          73,
          76,
          82,
          83,
          88,
          89,
          94,
          95,
          98,
          114
         ],
         "y": [
          2717,
          2146,
          1577,
          1244,
          1019,
          855,
          744,
          650,
          565,
          480,
          386,
          351,
          284,
          242,
          204,
          134,
          109,
          82,
          70,
          62,
          52,
          39,
          40,
          23,
          34,
          19,
          20,
          16,
          18,
          12,
          18,
          14,
          10,
          8,
          1,
          8,
          6,
          7,
          9,
          4,
          2,
          8,
          2,
          5,
          5,
          2,
          5,
          3,
          3,
          2,
          4,
          3,
          1,
          2,
          2,
          1,
          2,
          1,
          3,
          2,
          3,
          2,
          1,
          1,
          1,
          1,
          1,
          1,
          2,
          1,
          2,
          1
         ]
        }
       ],
       "layout": {
        "template": {
         "data": {
          "bar": [
           {
            "error_x": {
             "color": "#2a3f5f"
            },
            "error_y": {
             "color": "#2a3f5f"
            },
            "marker": {
             "line": {
              "color": "#E5ECF6",
              "width": 0.5
             },
             "pattern": {
              "fillmode": "overlay",
              "size": 10,
              "solidity": 0.2
             }
            },
            "type": "bar"
           }
          ],
          "barpolar": [
           {
            "marker": {
             "line": {
              "color": "#E5ECF6",
              "width": 0.5
             },
             "pattern": {
              "fillmode": "overlay",
              "size": 10,
              "solidity": 0.2
             }
            },
            "type": "barpolar"
           }
          ],
          "carpet": [
           {
            "aaxis": {
             "endlinecolor": "#2a3f5f",
             "gridcolor": "white",
             "linecolor": "white",
             "minorgridcolor": "white",
             "startlinecolor": "#2a3f5f"
            },
            "baxis": {
             "endlinecolor": "#2a3f5f",
             "gridcolor": "white",
             "linecolor": "white",
             "minorgridcolor": "white",
             "startlinecolor": "#2a3f5f"
            },
            "type": "carpet"
           }
          ],
          "choropleth": [
           {
            "colorbar": {
             "outlinewidth": 0,
             "ticks": ""
            },
            "type": "choropleth"
           }
          ],
          "contour": [
           {
            "colorbar": {
             "outlinewidth": 0,
             "ticks": ""
            },
            "colorscale": [
             [
              0,
              "#0d0887"
             ],
             [
              0.1111111111111111,
              "#46039f"
             ],
             [
              0.2222222222222222,
              "#7201a8"
             ],
             [
              0.3333333333333333,
              "#9c179e"
             ],
             [
              0.4444444444444444,
              "#bd3786"
             ],
             [
              0.5555555555555556,
              "#d8576b"
             ],
             [
              0.6666666666666666,
              "#ed7953"
             ],
             [
              0.7777777777777778,
              "#fb9f3a"
             ],
             [
              0.8888888888888888,
              "#fdca26"
             ],
             [
              1,
              "#f0f921"
             ]
            ],
            "type": "contour"
           }
          ],
          "contourcarpet": [
           {
            "colorbar": {
             "outlinewidth": 0,
             "ticks": ""
            },
            "type": "contourcarpet"
           }
          ],
          "heatmap": [
           {
            "colorbar": {
             "outlinewidth": 0,
             "ticks": ""
            },
            "colorscale": [
             [
              0,
              "#0d0887"
             ],
             [
              0.1111111111111111,
              "#46039f"
             ],
             [
              0.2222222222222222,
              "#7201a8"
             ],
             [
              0.3333333333333333,
              "#9c179e"
             ],
             [
              0.4444444444444444,
              "#bd3786"
             ],
             [
              0.5555555555555556,
              "#d8576b"
             ],
             [
              0.6666666666666666,
              "#ed7953"
             ],
             [
              0.7777777777777778,
              "#fb9f3a"
             ],
             [
              0.8888888888888888,
              "#fdca26"
             ],
             [
              1,
              "#f0f921"
             ]
            ],
            "type": "heatmap"
           }
          ],
          "heatmapgl": [
           {
            "colorbar": {
             "outlinewidth": 0,
             "ticks": ""
            },
            "colorscale": [
             [
              0,
              "#0d0887"
             ],
             [
              0.1111111111111111,
              "#46039f"
             ],
             [
              0.2222222222222222,
              "#7201a8"
             ],
             [
              0.3333333333333333,
              "#9c179e"
             ],
             [
              0.4444444444444444,
              "#bd3786"
             ],
             [
              0.5555555555555556,
              "#d8576b"
             ],
             [
              0.6666666666666666,
              "#ed7953"
             ],
             [
              0.7777777777777778,
              "#fb9f3a"
             ],
             [
              0.8888888888888888,
              "#fdca26"
             ],
             [
              1,
              "#f0f921"
             ]
            ],
            "type": "heatmapgl"
           }
          ],
          "histogram": [
           {
            "marker": {
             "pattern": {
              "fillmode": "overlay",
              "size": 10,
              "solidity": 0.2
             }
            },
            "type": "histogram"
           }
          ],
          "histogram2d": [
           {
            "colorbar": {
             "outlinewidth": 0,
             "ticks": ""
            },
            "colorscale": [
             [
              0,
              "#0d0887"
             ],
             [
              0.1111111111111111,
              "#46039f"
             ],
             [
              0.2222222222222222,
              "#7201a8"
             ],
             [
              0.3333333333333333,
              "#9c179e"
             ],
             [
              0.4444444444444444,
              "#bd3786"
             ],
             [
              0.5555555555555556,
              "#d8576b"
             ],
             [
              0.6666666666666666,
              "#ed7953"
             ],
             [
              0.7777777777777778,
              "#fb9f3a"
             ],
             [
              0.8888888888888888,
              "#fdca26"
             ],
             [
              1,
              "#f0f921"
             ]
            ],
            "type": "histogram2d"
           }
          ],
          "histogram2dcontour": [
           {
            "colorbar": {
             "outlinewidth": 0,
             "ticks": ""
            },
            "colorscale": [
             [
              0,
              "#0d0887"
             ],
             [
              0.1111111111111111,
              "#46039f"
             ],
             [
              0.2222222222222222,
              "#7201a8"
             ],
             [
              0.3333333333333333,
              "#9c179e"
             ],
             [
              0.4444444444444444,
              "#bd3786"
             ],
             [
              0.5555555555555556,
              "#d8576b"
             ],
             [
              0.6666666666666666,
              "#ed7953"
             ],
             [
              0.7777777777777778,
              "#fb9f3a"
             ],
             [
              0.8888888888888888,
              "#fdca26"
             ],
             [
              1,
              "#f0f921"
             ]
            ],
            "type": "histogram2dcontour"
           }
          ],
          "mesh3d": [
           {
            "colorbar": {
             "outlinewidth": 0,
             "ticks": ""
            },
            "type": "mesh3d"
           }
          ],
          "parcoords": [
           {
            "line": {
             "colorbar": {
              "outlinewidth": 0,
              "ticks": ""
             }
            },
            "type": "parcoords"
           }
          ],
          "pie": [
           {
            "automargin": true,
            "type": "pie"
           }
          ],
          "scatter": [
           {
            "fillpattern": {
             "fillmode": "overlay",
             "size": 10,
             "solidity": 0.2
            },
            "type": "scatter"
           }
          ],
          "scatter3d": [
           {
            "line": {
             "colorbar": {
              "outlinewidth": 0,
              "ticks": ""
             }
            },
            "marker": {
             "colorbar": {
              "outlinewidth": 0,
              "ticks": ""
             }
            },
            "type": "scatter3d"
           }
          ],
          "scattercarpet": [
           {
            "marker": {
             "colorbar": {
              "outlinewidth": 0,
              "ticks": ""
             }
            },
            "type": "scattercarpet"
           }
          ],
          "scattergeo": [
           {
            "marker": {
             "colorbar": {
              "outlinewidth": 0,
              "ticks": ""
             }
            },
            "type": "scattergeo"
           }
          ],
          "scattergl": [
           {
            "marker": {
             "colorbar": {
              "outlinewidth": 0,
              "ticks": ""
             }
            },
            "type": "scattergl"
           }
          ],
          "scattermapbox": [
           {
            "marker": {
             "colorbar": {
              "outlinewidth": 0,
              "ticks": ""
             }
            },
            "type": "scattermapbox"
           }
          ],
          "scatterpolar": [
           {
            "marker": {
             "colorbar": {
              "outlinewidth": 0,
              "ticks": ""
             }
            },
            "type": "scatterpolar"
           }
          ],
          "scatterpolargl": [
           {
            "marker": {
             "colorbar": {
              "outlinewidth": 0,
              "ticks": ""
             }
            },
            "type": "scatterpolargl"
           }
          ],
          "scatterternary": [
           {
            "marker": {
             "colorbar": {
              "outlinewidth": 0,
              "ticks": ""
             }
            },
            "type": "scatterternary"
           }
          ],
          "surface": [
           {
            "colorbar": {
             "outlinewidth": 0,
             "ticks": ""
            },
            "colorscale": [
             [
              0,
              "#0d0887"
             ],
             [
              0.1111111111111111,
              "#46039f"
             ],
             [
              0.2222222222222222,
              "#7201a8"
             ],
             [
              0.3333333333333333,
              "#9c179e"
             ],
             [
              0.4444444444444444,
              "#bd3786"
             ],
             [
              0.5555555555555556,
              "#d8576b"
             ],
             [
              0.6666666666666666,
              "#ed7953"
             ],
             [
              0.7777777777777778,
              "#fb9f3a"
             ],
             [
              0.8888888888888888,
              "#fdca26"
             ],
             [
              1,
              "#f0f921"
             ]
            ],
            "type": "surface"
           }
          ],
          "table": [
           {
            "cells": {
             "fill": {
              "color": "#EBF0F8"
             },
             "line": {
              "color": "white"
             }
            },
            "header": {
             "fill": {
              "color": "#C8D4E3"
             },
             "line": {
              "color": "white"
             }
            },
            "type": "table"
           }
          ]
         },
         "layout": {
          "annotationdefaults": {
           "arrowcolor": "#2a3f5f",
           "arrowhead": 0,
           "arrowwidth": 1
          },
          "autotypenumbers": "strict",
          "coloraxis": {
           "colorbar": {
            "outlinewidth": 0,
            "ticks": ""
           }
          },
          "colorscale": {
           "diverging": [
            [
             0,
             "#8e0152"
            ],
            [
             0.1,
             "#c51b7d"
            ],
            [
             0.2,
             "#de77ae"
            ],
            [
             0.3,
             "#f1b6da"
            ],
            [
             0.4,
             "#fde0ef"
            ],
            [
             0.5,
             "#f7f7f7"
            ],
            [
             0.6,
             "#e6f5d0"
            ],
            [
             0.7,
             "#b8e186"
            ],
            [
             0.8,
             "#7fbc41"
            ],
            [
             0.9,
             "#4d9221"
            ],
            [
             1,
             "#276419"
            ]
           ],
           "sequential": [
            [
             0,
             "#0d0887"
            ],
            [
             0.1111111111111111,
             "#46039f"
            ],
            [
             0.2222222222222222,
             "#7201a8"
            ],
            [
             0.3333333333333333,
             "#9c179e"
            ],
            [
             0.4444444444444444,
             "#bd3786"
            ],
            [
             0.5555555555555556,
             "#d8576b"
            ],
            [
             0.6666666666666666,
             "#ed7953"
            ],
            [
             0.7777777777777778,
             "#fb9f3a"
            ],
            [
             0.8888888888888888,
             "#fdca26"
            ],
            [
             1,
             "#f0f921"
            ]
           ],
           "sequentialminus": [
            [
             0,
             "#0d0887"
            ],
            [
             0.1111111111111111,
             "#46039f"
            ],
            [
             0.2222222222222222,
             "#7201a8"
            ],
            [
             0.3333333333333333,
             "#9c179e"
            ],
            [
             0.4444444444444444,
             "#bd3786"
            ],
            [
             0.5555555555555556,
             "#d8576b"
            ],
            [
             0.6666666666666666,
             "#ed7953"
            ],
            [
             0.7777777777777778,
             "#fb9f3a"
            ],
            [
             0.8888888888888888,
             "#fdca26"
            ],
            [
             1,
             "#f0f921"
            ]
           ]
          },
          "colorway": [
           "#636efa",
           "#EF553B",
           "#00cc96",
           "#ab63fa",
           "#FFA15A",
           "#19d3f3",
           "#FF6692",
           "#B6E880",
           "#FF97FF",
           "#FECB52"
          ],
          "font": {
           "color": "#2a3f5f"
          },
          "geo": {
           "bgcolor": "white",
           "lakecolor": "white",
           "landcolor": "#E5ECF6",
           "showlakes": true,
           "showland": true,
           "subunitcolor": "white"
          },
          "hoverlabel": {
           "align": "left"
          },
          "hovermode": "closest",
          "mapbox": {
           "style": "light"
          },
          "paper_bgcolor": "white",
          "plot_bgcolor": "#E5ECF6",
          "polar": {
           "angularaxis": {
            "gridcolor": "white",
            "linecolor": "white",
            "ticks": ""
           },
           "bgcolor": "#E5ECF6",
           "radialaxis": {
            "gridcolor": "white",
            "linecolor": "white",
            "ticks": ""
           }
          },
          "scene": {
           "xaxis": {
            "backgroundcolor": "#E5ECF6",
            "gridcolor": "white",
            "gridwidth": 2,
            "linecolor": "white",
            "showbackground": true,
            "ticks": "",
            "zerolinecolor": "white"
           },
           "yaxis": {
            "backgroundcolor": "#E5ECF6",
            "gridcolor": "white",
            "gridwidth": 2,
            "linecolor": "white",
            "showbackground": true,
            "ticks": "",
            "zerolinecolor": "white"
           },
           "zaxis": {
            "backgroundcolor": "#E5ECF6",
            "gridcolor": "white",
            "gridwidth": 2,
            "linecolor": "white",
            "showbackground": true,
            "ticks": "",
            "zerolinecolor": "white"
           }
          },
          "shapedefaults": {
           "line": {
            "color": "#2a3f5f"
           }
          },
          "ternary": {
           "aaxis": {
            "gridcolor": "white",
            "linecolor": "white",
            "ticks": ""
           },
           "baxis": {
            "gridcolor": "white",
            "linecolor": "white",
            "ticks": ""
           },
           "bgcolor": "#E5ECF6",
           "caxis": {
            "gridcolor": "white",
            "linecolor": "white",
            "ticks": ""
           }
          },
          "title": {
           "x": 0.05
          },
          "xaxis": {
           "automargin": true,
           "gridcolor": "white",
           "linecolor": "white",
           "ticks": "",
           "title": {
            "standoff": 15
           },
           "zerolinecolor": "white",
           "zerolinewidth": 2
          },
          "yaxis": {
           "automargin": true,
           "gridcolor": "white",
           "linecolor": "white",
           "ticks": "",
           "title": {
            "standoff": 15
           },
           "zerolinecolor": "white",
           "zerolinewidth": 2
          }
         }
        },
        "title": {
         "text": "Significant impact relative to character importance"
        },
        "xaxis": {
         "title": {
          "text": "Order"
         }
        },
        "yaxis": {
         "title": {
          "text": "Count"
         },
         "type": "log"
        }
       }
      }
     },
     "metadata": {},
     "output_type": "display_data"
    }
   ],
   "source": [
    "# Create a line plot using Plotly\n",
    "fig = go.Figure()\n",
    "\n",
    "fig.add_trace(go.Scatter(\n",
    "    x=signi_count_per_order.index,\n",
    "    y=signi_count_per_order.values,\n",
    "    mode='lines',\n",
    "    name='Significant Impact',\n",
    "    line=dict(color='blue')  # You can customize the line color\n",
    "))\n",
    "\n",
    "# Add labels and title\n",
    "fig.update_layout(\n",
    "    title='Significant impact relative to character importance',\n",
    "    xaxis=dict(title='Order'),\n",
    "    yaxis=dict(title='Count', type='log')\n",
    ")\n",
    "\n",
    "# Show the plot\n",
    "fig.show()"
   ]
  },
  {
   "cell_type": "markdown",
   "metadata": {},
   "source": [
    "We will consider only the first 15 order of importance."
   ]
  },
  {
   "cell_type": "code",
   "execution_count": 118,
   "metadata": {},
   "outputs": [],
   "source": [
    "# remove the rows with order higher than 15\n",
    "name_by_movie_15_df = name_by_movie_df[name_by_movie_df['order'] <= 15].copy(deep=True)"
   ]
  },
  {
   "cell_type": "markdown",
   "metadata": {},
   "source": [
    "Let's see the proportion of significant character to avoid being biased by the number of movies in each categories."
   ]
  },
  {
   "cell_type": "code",
   "execution_count": 119,
   "metadata": {},
   "outputs": [],
   "source": [
    "# compute the percentage of significant characters per order\n",
    "signi_count_per_order = name_by_movie_15_df[name_by_movie_15_df['p_value'] <= 0.05].reset_index().groupby(['order'])['wiki_ID'].count().copy(deep=True)\n",
    "count_per_order = name_by_movie_15_df.reset_index().groupby(['order'])['wiki_ID'].count().copy(deep=True)\n",
    "percentage_per_order = (signi_count_per_order / count_per_order)*100\n",
    "percentage_per_order = percentage_per_order.fillna(0)\n",
    "\n",
    "# keep only the 15 first orders\n",
    "percentage_per_order = percentage_per_order[:15]"
   ]
  },
  {
   "cell_type": "code",
   "execution_count": 120,
   "metadata": {},
   "outputs": [
    {
     "data": {
      "application/vnd.plotly.v1+json": {
       "config": {
        "plotlyServerURL": "https://plot.ly"
       },
       "data": [
        {
         "alignmentgroup": "True",
         "hovertemplate": "Order=%{x}<br>Percentage of significant impact=%{y}<extra></extra>",
         "legendgroup": "",
         "marker": {
          "color": "#636efa",
          "pattern": {
           "shape": ""
          }
         },
         "name": "",
         "offsetgroup": "",
         "orientation": "v",
         "showlegend": false,
         "textposition": "auto",
         "type": "bar",
         "x": [
          0,
          1,
          2,
          3,
          4,
          5,
          6,
          7,
          8,
          9,
          10,
          11,
          12,
          13,
          14,
          15
         ],
         "xaxis": "x",
         "y": [
          11.120661427635888,
          11.345492994977532,
          10.860881542699724,
          10.430991111856448,
          10.125198728139905,
          9.750256585699624,
          9.613645173795064,
          9.748050389922016,
          9.644930010242403,
          9.809932556713672,
          9.563924677898909,
          9.83468758755954,
          9.9370188943317,
          9.801539084649656,
          9.613572101790764,
          9.940652818991099
         ],
         "yaxis": "y"
        }
       ],
       "layout": {
        "barmode": "relative",
        "legend": {
         "tracegroupgap": 0
        },
        "template": {
         "data": {
          "bar": [
           {
            "error_x": {
             "color": "#2a3f5f"
            },
            "error_y": {
             "color": "#2a3f5f"
            },
            "marker": {
             "line": {
              "color": "#E5ECF6",
              "width": 0.5
             },
             "pattern": {
              "fillmode": "overlay",
              "size": 10,
              "solidity": 0.2
             }
            },
            "type": "bar"
           }
          ],
          "barpolar": [
           {
            "marker": {
             "line": {
              "color": "#E5ECF6",
              "width": 0.5
             },
             "pattern": {
              "fillmode": "overlay",
              "size": 10,
              "solidity": 0.2
             }
            },
            "type": "barpolar"
           }
          ],
          "carpet": [
           {
            "aaxis": {
             "endlinecolor": "#2a3f5f",
             "gridcolor": "white",
             "linecolor": "white",
             "minorgridcolor": "white",
             "startlinecolor": "#2a3f5f"
            },
            "baxis": {
             "endlinecolor": "#2a3f5f",
             "gridcolor": "white",
             "linecolor": "white",
             "minorgridcolor": "white",
             "startlinecolor": "#2a3f5f"
            },
            "type": "carpet"
           }
          ],
          "choropleth": [
           {
            "colorbar": {
             "outlinewidth": 0,
             "ticks": ""
            },
            "type": "choropleth"
           }
          ],
          "contour": [
           {
            "colorbar": {
             "outlinewidth": 0,
             "ticks": ""
            },
            "colorscale": [
             [
              0,
              "#0d0887"
             ],
             [
              0.1111111111111111,
              "#46039f"
             ],
             [
              0.2222222222222222,
              "#7201a8"
             ],
             [
              0.3333333333333333,
              "#9c179e"
             ],
             [
              0.4444444444444444,
              "#bd3786"
             ],
             [
              0.5555555555555556,
              "#d8576b"
             ],
             [
              0.6666666666666666,
              "#ed7953"
             ],
             [
              0.7777777777777778,
              "#fb9f3a"
             ],
             [
              0.8888888888888888,
              "#fdca26"
             ],
             [
              1,
              "#f0f921"
             ]
            ],
            "type": "contour"
           }
          ],
          "contourcarpet": [
           {
            "colorbar": {
             "outlinewidth": 0,
             "ticks": ""
            },
            "type": "contourcarpet"
           }
          ],
          "heatmap": [
           {
            "colorbar": {
             "outlinewidth": 0,
             "ticks": ""
            },
            "colorscale": [
             [
              0,
              "#0d0887"
             ],
             [
              0.1111111111111111,
              "#46039f"
             ],
             [
              0.2222222222222222,
              "#7201a8"
             ],
             [
              0.3333333333333333,
              "#9c179e"
             ],
             [
              0.4444444444444444,
              "#bd3786"
             ],
             [
              0.5555555555555556,
              "#d8576b"
             ],
             [
              0.6666666666666666,
              "#ed7953"
             ],
             [
              0.7777777777777778,
              "#fb9f3a"
             ],
             [
              0.8888888888888888,
              "#fdca26"
             ],
             [
              1,
              "#f0f921"
             ]
            ],
            "type": "heatmap"
           }
          ],
          "heatmapgl": [
           {
            "colorbar": {
             "outlinewidth": 0,
             "ticks": ""
            },
            "colorscale": [
             [
              0,
              "#0d0887"
             ],
             [
              0.1111111111111111,
              "#46039f"
             ],
             [
              0.2222222222222222,
              "#7201a8"
             ],
             [
              0.3333333333333333,
              "#9c179e"
             ],
             [
              0.4444444444444444,
              "#bd3786"
             ],
             [
              0.5555555555555556,
              "#d8576b"
             ],
             [
              0.6666666666666666,
              "#ed7953"
             ],
             [
              0.7777777777777778,
              "#fb9f3a"
             ],
             [
              0.8888888888888888,
              "#fdca26"
             ],
             [
              1,
              "#f0f921"
             ]
            ],
            "type": "heatmapgl"
           }
          ],
          "histogram": [
           {
            "marker": {
             "pattern": {
              "fillmode": "overlay",
              "size": 10,
              "solidity": 0.2
             }
            },
            "type": "histogram"
           }
          ],
          "histogram2d": [
           {
            "colorbar": {
             "outlinewidth": 0,
             "ticks": ""
            },
            "colorscale": [
             [
              0,
              "#0d0887"
             ],
             [
              0.1111111111111111,
              "#46039f"
             ],
             [
              0.2222222222222222,
              "#7201a8"
             ],
             [
              0.3333333333333333,
              "#9c179e"
             ],
             [
              0.4444444444444444,
              "#bd3786"
             ],
             [
              0.5555555555555556,
              "#d8576b"
             ],
             [
              0.6666666666666666,
              "#ed7953"
             ],
             [
              0.7777777777777778,
              "#fb9f3a"
             ],
             [
              0.8888888888888888,
              "#fdca26"
             ],
             [
              1,
              "#f0f921"
             ]
            ],
            "type": "histogram2d"
           }
          ],
          "histogram2dcontour": [
           {
            "colorbar": {
             "outlinewidth": 0,
             "ticks": ""
            },
            "colorscale": [
             [
              0,
              "#0d0887"
             ],
             [
              0.1111111111111111,
              "#46039f"
             ],
             [
              0.2222222222222222,
              "#7201a8"
             ],
             [
              0.3333333333333333,
              "#9c179e"
             ],
             [
              0.4444444444444444,
              "#bd3786"
             ],
             [
              0.5555555555555556,
              "#d8576b"
             ],
             [
              0.6666666666666666,
              "#ed7953"
             ],
             [
              0.7777777777777778,
              "#fb9f3a"
             ],
             [
              0.8888888888888888,
              "#fdca26"
             ],
             [
              1,
              "#f0f921"
             ]
            ],
            "type": "histogram2dcontour"
           }
          ],
          "mesh3d": [
           {
            "colorbar": {
             "outlinewidth": 0,
             "ticks": ""
            },
            "type": "mesh3d"
           }
          ],
          "parcoords": [
           {
            "line": {
             "colorbar": {
              "outlinewidth": 0,
              "ticks": ""
             }
            },
            "type": "parcoords"
           }
          ],
          "pie": [
           {
            "automargin": true,
            "type": "pie"
           }
          ],
          "scatter": [
           {
            "fillpattern": {
             "fillmode": "overlay",
             "size": 10,
             "solidity": 0.2
            },
            "type": "scatter"
           }
          ],
          "scatter3d": [
           {
            "line": {
             "colorbar": {
              "outlinewidth": 0,
              "ticks": ""
             }
            },
            "marker": {
             "colorbar": {
              "outlinewidth": 0,
              "ticks": ""
             }
            },
            "type": "scatter3d"
           }
          ],
          "scattercarpet": [
           {
            "marker": {
             "colorbar": {
              "outlinewidth": 0,
              "ticks": ""
             }
            },
            "type": "scattercarpet"
           }
          ],
          "scattergeo": [
           {
            "marker": {
             "colorbar": {
              "outlinewidth": 0,
              "ticks": ""
             }
            },
            "type": "scattergeo"
           }
          ],
          "scattergl": [
           {
            "marker": {
             "colorbar": {
              "outlinewidth": 0,
              "ticks": ""
             }
            },
            "type": "scattergl"
           }
          ],
          "scattermapbox": [
           {
            "marker": {
             "colorbar": {
              "outlinewidth": 0,
              "ticks": ""
             }
            },
            "type": "scattermapbox"
           }
          ],
          "scatterpolar": [
           {
            "marker": {
             "colorbar": {
              "outlinewidth": 0,
              "ticks": ""
             }
            },
            "type": "scatterpolar"
           }
          ],
          "scatterpolargl": [
           {
            "marker": {
             "colorbar": {
              "outlinewidth": 0,
              "ticks": ""
             }
            },
            "type": "scatterpolargl"
           }
          ],
          "scatterternary": [
           {
            "marker": {
             "colorbar": {
              "outlinewidth": 0,
              "ticks": ""
             }
            },
            "type": "scatterternary"
           }
          ],
          "surface": [
           {
            "colorbar": {
             "outlinewidth": 0,
             "ticks": ""
            },
            "colorscale": [
             [
              0,
              "#0d0887"
             ],
             [
              0.1111111111111111,
              "#46039f"
             ],
             [
              0.2222222222222222,
              "#7201a8"
             ],
             [
              0.3333333333333333,
              "#9c179e"
             ],
             [
              0.4444444444444444,
              "#bd3786"
             ],
             [
              0.5555555555555556,
              "#d8576b"
             ],
             [
              0.6666666666666666,
              "#ed7953"
             ],
             [
              0.7777777777777778,
              "#fb9f3a"
             ],
             [
              0.8888888888888888,
              "#fdca26"
             ],
             [
              1,
              "#f0f921"
             ]
            ],
            "type": "surface"
           }
          ],
          "table": [
           {
            "cells": {
             "fill": {
              "color": "#EBF0F8"
             },
             "line": {
              "color": "white"
             }
            },
            "header": {
             "fill": {
              "color": "#C8D4E3"
             },
             "line": {
              "color": "white"
             }
            },
            "type": "table"
           }
          ]
         },
         "layout": {
          "annotationdefaults": {
           "arrowcolor": "#2a3f5f",
           "arrowhead": 0,
           "arrowwidth": 1
          },
          "autotypenumbers": "strict",
          "coloraxis": {
           "colorbar": {
            "outlinewidth": 0,
            "ticks": ""
           }
          },
          "colorscale": {
           "diverging": [
            [
             0,
             "#8e0152"
            ],
            [
             0.1,
             "#c51b7d"
            ],
            [
             0.2,
             "#de77ae"
            ],
            [
             0.3,
             "#f1b6da"
            ],
            [
             0.4,
             "#fde0ef"
            ],
            [
             0.5,
             "#f7f7f7"
            ],
            [
             0.6,
             "#e6f5d0"
            ],
            [
             0.7,
             "#b8e186"
            ],
            [
             0.8,
             "#7fbc41"
            ],
            [
             0.9,
             "#4d9221"
            ],
            [
             1,
             "#276419"
            ]
           ],
           "sequential": [
            [
             0,
             "#0d0887"
            ],
            [
             0.1111111111111111,
             "#46039f"
            ],
            [
             0.2222222222222222,
             "#7201a8"
            ],
            [
             0.3333333333333333,
             "#9c179e"
            ],
            [
             0.4444444444444444,
             "#bd3786"
            ],
            [
             0.5555555555555556,
             "#d8576b"
            ],
            [
             0.6666666666666666,
             "#ed7953"
            ],
            [
             0.7777777777777778,
             "#fb9f3a"
            ],
            [
             0.8888888888888888,
             "#fdca26"
            ],
            [
             1,
             "#f0f921"
            ]
           ],
           "sequentialminus": [
            [
             0,
             "#0d0887"
            ],
            [
             0.1111111111111111,
             "#46039f"
            ],
            [
             0.2222222222222222,
             "#7201a8"
            ],
            [
             0.3333333333333333,
             "#9c179e"
            ],
            [
             0.4444444444444444,
             "#bd3786"
            ],
            [
             0.5555555555555556,
             "#d8576b"
            ],
            [
             0.6666666666666666,
             "#ed7953"
            ],
            [
             0.7777777777777778,
             "#fb9f3a"
            ],
            [
             0.8888888888888888,
             "#fdca26"
            ],
            [
             1,
             "#f0f921"
            ]
           ]
          },
          "colorway": [
           "#636efa",
           "#EF553B",
           "#00cc96",
           "#ab63fa",
           "#FFA15A",
           "#19d3f3",
           "#FF6692",
           "#B6E880",
           "#FF97FF",
           "#FECB52"
          ],
          "font": {
           "color": "#2a3f5f"
          },
          "geo": {
           "bgcolor": "white",
           "lakecolor": "white",
           "landcolor": "#E5ECF6",
           "showlakes": true,
           "showland": true,
           "subunitcolor": "white"
          },
          "hoverlabel": {
           "align": "left"
          },
          "hovermode": "closest",
          "mapbox": {
           "style": "light"
          },
          "paper_bgcolor": "white",
          "plot_bgcolor": "#E5ECF6",
          "polar": {
           "angularaxis": {
            "gridcolor": "white",
            "linecolor": "white",
            "ticks": ""
           },
           "bgcolor": "#E5ECF6",
           "radialaxis": {
            "gridcolor": "white",
            "linecolor": "white",
            "ticks": ""
           }
          },
          "scene": {
           "xaxis": {
            "backgroundcolor": "#E5ECF6",
            "gridcolor": "white",
            "gridwidth": 2,
            "linecolor": "white",
            "showbackground": true,
            "ticks": "",
            "zerolinecolor": "white"
           },
           "yaxis": {
            "backgroundcolor": "#E5ECF6",
            "gridcolor": "white",
            "gridwidth": 2,
            "linecolor": "white",
            "showbackground": true,
            "ticks": "",
            "zerolinecolor": "white"
           },
           "zaxis": {
            "backgroundcolor": "#E5ECF6",
            "gridcolor": "white",
            "gridwidth": 2,
            "linecolor": "white",
            "showbackground": true,
            "ticks": "",
            "zerolinecolor": "white"
           }
          },
          "shapedefaults": {
           "line": {
            "color": "#2a3f5f"
           }
          },
          "ternary": {
           "aaxis": {
            "gridcolor": "white",
            "linecolor": "white",
            "ticks": ""
           },
           "baxis": {
            "gridcolor": "white",
            "linecolor": "white",
            "ticks": ""
           },
           "bgcolor": "#E5ECF6",
           "caxis": {
            "gridcolor": "white",
            "linecolor": "white",
            "ticks": ""
           }
          },
          "title": {
           "x": 0.05
          },
          "xaxis": {
           "automargin": true,
           "gridcolor": "white",
           "linecolor": "white",
           "ticks": "",
           "title": {
            "standoff": 15
           },
           "zerolinecolor": "white",
           "zerolinewidth": 2
          },
          "yaxis": {
           "automargin": true,
           "gridcolor": "white",
           "linecolor": "white",
           "ticks": "",
           "title": {
            "standoff": 15
           },
           "zerolinecolor": "white",
           "zerolinewidth": 2
          }
         }
        },
        "title": {
         "text": "Character name impact per order"
        },
        "xaxis": {
         "anchor": "y",
         "categoryarray": [
          0,
          1,
          2,
          3,
          4,
          5,
          6,
          7,
          8,
          9,
          10,
          11,
          12,
          13,
          14,
          15
         ],
         "categoryorder": "array",
         "domain": [
          0,
          1
         ],
         "title": {
          "text": "Order"
         }
        },
        "yaxis": {
         "anchor": "x",
         "domain": [
          0,
          1
         ],
         "range": [
          9,
          11.8
         ],
         "title": {
          "text": "Percentage of significant impact"
         }
        }
       }
      }
     },
     "metadata": {},
     "output_type": "display_data"
    }
   ],
   "source": [
    "# Plotting with Plotly\n",
    "fig = px.bar(x=percentage_per_order.index, y=percentage_per_order.values,\n",
    "             labels={'x': 'Order', 'y': 'Percentage of significant impact'},\n",
    "             title='Character name impact per order',\n",
    "             category_orders={'x': percentage_per_order.index})\n",
    "\n",
    "# Set Y-axis range to highlight small differences\n",
    "fig.update_layout(yaxis=dict(range=[9, 11.8]))\n",
    "\n",
    "# Show the plot\n",
    "fig.show()"
   ]
  },
  {
   "cell_type": "markdown",
   "metadata": {},
   "source": [
    "Intesting, but let's see the proportion confidence intervals"
   ]
  },
  {
   "cell_type": "code",
   "execution_count": 121,
   "metadata": {},
   "outputs": [
    {
     "data": {
      "text/html": [
       "<div>\n",
       "<style scoped>\n",
       "    .dataframe tbody tr th:only-of-type {\n",
       "        vertical-align: middle;\n",
       "    }\n",
       "\n",
       "    .dataframe tbody tr th {\n",
       "        vertical-align: top;\n",
       "    }\n",
       "\n",
       "    .dataframe thead th {\n",
       "        text-align: right;\n",
       "    }\n",
       "</style>\n",
       "<table border=\"1\" class=\"dataframe\">\n",
       "  <thead>\n",
       "    <tr style=\"text-align: right;\">\n",
       "      <th></th>\n",
       "      <th>char_words</th>\n",
       "      <th>order</th>\n",
       "      <th>gender</th>\n",
       "      <th>t_stat</th>\n",
       "      <th>p_value</th>\n",
       "      <th>slope_change</th>\n",
       "      <th>is_significant</th>\n",
       "    </tr>\n",
       "    <tr>\n",
       "      <th>wiki_ID</th>\n",
       "      <th></th>\n",
       "      <th></th>\n",
       "      <th></th>\n",
       "      <th></th>\n",
       "      <th></th>\n",
       "      <th></th>\n",
       "      <th></th>\n",
       "    </tr>\n",
       "  </thead>\n",
       "  <tbody>\n",
       "    <tr>\n",
       "      <th>24069831</th>\n",
       "      <td>Roberts</td>\n",
       "      <td>2.0</td>\n",
       "      <td>M</td>\n",
       "      <td>-0.031638</td>\n",
       "      <td>0.975328</td>\n",
       "      <td>0.000004</td>\n",
       "      <td>0</td>\n",
       "    </tr>\n",
       "    <tr>\n",
       "      <th>14977038</th>\n",
       "      <td>Sean</td>\n",
       "      <td>3.0</td>\n",
       "      <td>M</td>\n",
       "      <td>1.854292</td>\n",
       "      <td>0.090681</td>\n",
       "      <td>-0.010300</td>\n",
       "      <td>0</td>\n",
       "    </tr>\n",
       "    <tr>\n",
       "      <th>3815680</th>\n",
       "      <td>Jimmy</td>\n",
       "      <td>3.0</td>\n",
       "      <td>M</td>\n",
       "      <td>-1.784198</td>\n",
       "      <td>0.101966</td>\n",
       "      <td>0.001934</td>\n",
       "      <td>0</td>\n",
       "    </tr>\n",
       "    <tr>\n",
       "      <th>2895635</th>\n",
       "      <td>Khan</td>\n",
       "      <td>2.0</td>\n",
       "      <td>M</td>\n",
       "      <td>0.126589</td>\n",
       "      <td>0.901550</td>\n",
       "      <td>-0.000005</td>\n",
       "      <td>0</td>\n",
       "    </tr>\n",
       "    <tr>\n",
       "      <th>23975295</th>\n",
       "      <td>Charles</td>\n",
       "      <td>3.0</td>\n",
       "      <td>M</td>\n",
       "      <td>0.964540</td>\n",
       "      <td>0.355502</td>\n",
       "      <td>-0.023109</td>\n",
       "      <td>0</td>\n",
       "    </tr>\n",
       "  </tbody>\n",
       "</table>\n",
       "</div>"
      ],
      "text/plain": [
       "         char_words  order gender    t_stat   p_value  slope_change  \\\n",
       "wiki_ID                                                               \n",
       "24069831    Roberts    2.0      M -0.031638  0.975328      0.000004   \n",
       "14977038       Sean    3.0      M  1.854292  0.090681     -0.010300   \n",
       "3815680       Jimmy    3.0      M -1.784198  0.101966      0.001934   \n",
       "2895635        Khan    2.0      M  0.126589  0.901550     -0.000005   \n",
       "23975295    Charles    3.0      M  0.964540  0.355502     -0.023109   \n",
       "\n",
       "          is_significant  \n",
       "wiki_ID                   \n",
       "24069831               0  \n",
       "14977038               0  \n",
       "3815680                0  \n",
       "2895635                0  \n",
       "23975295               0  "
      ]
     },
     "metadata": {},
     "output_type": "display_data"
    }
   ],
   "source": [
    "# add a column in name_by_movie_15_df that contains a one if the variation is significant and zero otherwise\n",
    "name_by_movie_15_df['is_significant'] = np.where(name_by_movie_15_df['p_value'] <= 0.05, 1, 0)\n",
    "\n",
    "display(name_by_movie_15_df.sample(5))"
   ]
  },
  {
   "cell_type": "code",
   "execution_count": 122,
   "metadata": {},
   "outputs": [],
   "source": [
    "def significant_proportion_and_ci(data):\n",
    "\n",
    "    p = data['is_significant'].mean()\n",
    "    se = np.sqrt(p * (1 - p) / len(data))\n",
    "\n",
    "    # Compute confidence interval of 95%, using the mean and standard error\n",
    "    ci_lower = p - 1.96 * se\n",
    "    ci_upper = p + 1.96 * se\n",
    "\n",
    "    # ************************ Alternative way to compute the standard error bis ************************\n",
    "    # se = st.sem(data['is_significant'])\n",
    "    # ci_lower = p - 1.96 * se\n",
    "    # ci_upper = p + 1.96 * se\n",
    "    # ************************ Alternative way to compute the standard error bis ************************\n",
    "\n",
    "    # ************************ Alternative way to compute the standard error bis ************************\n",
    "    # nb_significant = data['is_significant'].sum()\n",
    "    # total = len(data)\n",
    "    # (ci_lower, ci_upper) = sm.stats.proportion_confint(nb_significant, total, alpha=0.05)\n",
    "    # ************************ Alternative way to compute the standard error bis ************************\n",
    "\n",
    "    # Useful because we will put this in the dataframe\n",
    "    return pd.Series({\n",
    "        'mean': p,\n",
    "        'ci_lower': ci_lower,\n",
    "        'ci_upper': ci_upper\n",
    "    })\n",
    "\n",
    "ci_df = name_by_movie_15_df.groupby(['order']).apply(significant_proportion_and_ci).reset_index()"
   ]
  },
  {
   "cell_type": "code",
   "execution_count": 123,
   "metadata": {},
   "outputs": [
    {
     "data": {
      "application/vnd.plotly.v1+json": {
       "config": {
        "plotlyServerURL": "https://plot.ly"
       },
       "data": [
        {
         "alignmentgroup": "True",
         "error_y": {
          "array": [
           0.11514884717464352,
           0.11797468599274276,
           0.11366985192264348,
           0.10979584211764842,
           0.10714573452277495,
           0.10371142841990467,
           0.10270408855161568,
           0.1045999376755016,
           0.1040090458824493,
           0.10643385011623939,
           0.10471263345895919,
           0.10811661185901797,
           0.11033815697590432,
           0.10974388425113218,
           0.10867802687068134,
           0.11537939887292331
          ],
          "arrayminus": [
           0.10726438137807423,
           0.10893517390680786,
           0.103547778931351,
           0.09882398011948054,
           0.09535824004002313,
           0.0912937032940878,
           0.0895688149242856,
           0.0903610701229387,
           0.08888955432239876,
           0.08976480101803407,
           0.086565860099019,
           0.08857713989217283,
           0.08840222091072969,
           0.08628689744186094,
           0.08359341516513394,
           0.08343365750689866
          ]
         },
         "hovertemplate": "order=%{x}<br>mean=%{y}<extra></extra>",
         "legendgroup": "",
         "marker": {
          "color": "#636efa",
          "pattern": {
           "shape": ""
          }
         },
         "name": "",
         "offsetgroup": "",
         "orientation": "v",
         "showlegend": false,
         "textposition": "auto",
         "type": "bar",
         "x": [
          0,
          1,
          2,
          3,
          4,
          5,
          6,
          7,
          8,
          9,
          10,
          11,
          12,
          13,
          14,
          15
         ],
         "xaxis": "x",
         "y": [
          0.11120661427635888,
          0.11345492994977531,
          0.10860881542699724,
          0.10430991111856448,
          0.10125198728139904,
          0.09750256585699624,
          0.09613645173795064,
          0.09748050389922015,
          0.09644930010242403,
          0.09809932556713673,
          0.09563924677898909,
          0.0983468758755954,
          0.099370188943317,
          0.09801539084649656,
          0.09613572101790764,
          0.09940652818991098
         ],
         "yaxis": "y"
        }
       ],
       "layout": {
        "barmode": "relative",
        "legend": {
         "tracegroupgap": 0
        },
        "template": {
         "data": {
          "bar": [
           {
            "error_x": {
             "color": "#2a3f5f"
            },
            "error_y": {
             "color": "#2a3f5f"
            },
            "marker": {
             "line": {
              "color": "#E5ECF6",
              "width": 0.5
             },
             "pattern": {
              "fillmode": "overlay",
              "size": 10,
              "solidity": 0.2
             }
            },
            "type": "bar"
           }
          ],
          "barpolar": [
           {
            "marker": {
             "line": {
              "color": "#E5ECF6",
              "width": 0.5
             },
             "pattern": {
              "fillmode": "overlay",
              "size": 10,
              "solidity": 0.2
             }
            },
            "type": "barpolar"
           }
          ],
          "carpet": [
           {
            "aaxis": {
             "endlinecolor": "#2a3f5f",
             "gridcolor": "white",
             "linecolor": "white",
             "minorgridcolor": "white",
             "startlinecolor": "#2a3f5f"
            },
            "baxis": {
             "endlinecolor": "#2a3f5f",
             "gridcolor": "white",
             "linecolor": "white",
             "minorgridcolor": "white",
             "startlinecolor": "#2a3f5f"
            },
            "type": "carpet"
           }
          ],
          "choropleth": [
           {
            "colorbar": {
             "outlinewidth": 0,
             "ticks": ""
            },
            "type": "choropleth"
           }
          ],
          "contour": [
           {
            "colorbar": {
             "outlinewidth": 0,
             "ticks": ""
            },
            "colorscale": [
             [
              0,
              "#0d0887"
             ],
             [
              0.1111111111111111,
              "#46039f"
             ],
             [
              0.2222222222222222,
              "#7201a8"
             ],
             [
              0.3333333333333333,
              "#9c179e"
             ],
             [
              0.4444444444444444,
              "#bd3786"
             ],
             [
              0.5555555555555556,
              "#d8576b"
             ],
             [
              0.6666666666666666,
              "#ed7953"
             ],
             [
              0.7777777777777778,
              "#fb9f3a"
             ],
             [
              0.8888888888888888,
              "#fdca26"
             ],
             [
              1,
              "#f0f921"
             ]
            ],
            "type": "contour"
           }
          ],
          "contourcarpet": [
           {
            "colorbar": {
             "outlinewidth": 0,
             "ticks": ""
            },
            "type": "contourcarpet"
           }
          ],
          "heatmap": [
           {
            "colorbar": {
             "outlinewidth": 0,
             "ticks": ""
            },
            "colorscale": [
             [
              0,
              "#0d0887"
             ],
             [
              0.1111111111111111,
              "#46039f"
             ],
             [
              0.2222222222222222,
              "#7201a8"
             ],
             [
              0.3333333333333333,
              "#9c179e"
             ],
             [
              0.4444444444444444,
              "#bd3786"
             ],
             [
              0.5555555555555556,
              "#d8576b"
             ],
             [
              0.6666666666666666,
              "#ed7953"
             ],
             [
              0.7777777777777778,
              "#fb9f3a"
             ],
             [
              0.8888888888888888,
              "#fdca26"
             ],
             [
              1,
              "#f0f921"
             ]
            ],
            "type": "heatmap"
           }
          ],
          "heatmapgl": [
           {
            "colorbar": {
             "outlinewidth": 0,
             "ticks": ""
            },
            "colorscale": [
             [
              0,
              "#0d0887"
             ],
             [
              0.1111111111111111,
              "#46039f"
             ],
             [
              0.2222222222222222,
              "#7201a8"
             ],
             [
              0.3333333333333333,
              "#9c179e"
             ],
             [
              0.4444444444444444,
              "#bd3786"
             ],
             [
              0.5555555555555556,
              "#d8576b"
             ],
             [
              0.6666666666666666,
              "#ed7953"
             ],
             [
              0.7777777777777778,
              "#fb9f3a"
             ],
             [
              0.8888888888888888,
              "#fdca26"
             ],
             [
              1,
              "#f0f921"
             ]
            ],
            "type": "heatmapgl"
           }
          ],
          "histogram": [
           {
            "marker": {
             "pattern": {
              "fillmode": "overlay",
              "size": 10,
              "solidity": 0.2
             }
            },
            "type": "histogram"
           }
          ],
          "histogram2d": [
           {
            "colorbar": {
             "outlinewidth": 0,
             "ticks": ""
            },
            "colorscale": [
             [
              0,
              "#0d0887"
             ],
             [
              0.1111111111111111,
              "#46039f"
             ],
             [
              0.2222222222222222,
              "#7201a8"
             ],
             [
              0.3333333333333333,
              "#9c179e"
             ],
             [
              0.4444444444444444,
              "#bd3786"
             ],
             [
              0.5555555555555556,
              "#d8576b"
             ],
             [
              0.6666666666666666,
              "#ed7953"
             ],
             [
              0.7777777777777778,
              "#fb9f3a"
             ],
             [
              0.8888888888888888,
              "#fdca26"
             ],
             [
              1,
              "#f0f921"
             ]
            ],
            "type": "histogram2d"
           }
          ],
          "histogram2dcontour": [
           {
            "colorbar": {
             "outlinewidth": 0,
             "ticks": ""
            },
            "colorscale": [
             [
              0,
              "#0d0887"
             ],
             [
              0.1111111111111111,
              "#46039f"
             ],
             [
              0.2222222222222222,
              "#7201a8"
             ],
             [
              0.3333333333333333,
              "#9c179e"
             ],
             [
              0.4444444444444444,
              "#bd3786"
             ],
             [
              0.5555555555555556,
              "#d8576b"
             ],
             [
              0.6666666666666666,
              "#ed7953"
             ],
             [
              0.7777777777777778,
              "#fb9f3a"
             ],
             [
              0.8888888888888888,
              "#fdca26"
             ],
             [
              1,
              "#f0f921"
             ]
            ],
            "type": "histogram2dcontour"
           }
          ],
          "mesh3d": [
           {
            "colorbar": {
             "outlinewidth": 0,
             "ticks": ""
            },
            "type": "mesh3d"
           }
          ],
          "parcoords": [
           {
            "line": {
             "colorbar": {
              "outlinewidth": 0,
              "ticks": ""
             }
            },
            "type": "parcoords"
           }
          ],
          "pie": [
           {
            "automargin": true,
            "type": "pie"
           }
          ],
          "scatter": [
           {
            "fillpattern": {
             "fillmode": "overlay",
             "size": 10,
             "solidity": 0.2
            },
            "type": "scatter"
           }
          ],
          "scatter3d": [
           {
            "line": {
             "colorbar": {
              "outlinewidth": 0,
              "ticks": ""
             }
            },
            "marker": {
             "colorbar": {
              "outlinewidth": 0,
              "ticks": ""
             }
            },
            "type": "scatter3d"
           }
          ],
          "scattercarpet": [
           {
            "marker": {
             "colorbar": {
              "outlinewidth": 0,
              "ticks": ""
             }
            },
            "type": "scattercarpet"
           }
          ],
          "scattergeo": [
           {
            "marker": {
             "colorbar": {
              "outlinewidth": 0,
              "ticks": ""
             }
            },
            "type": "scattergeo"
           }
          ],
          "scattergl": [
           {
            "marker": {
             "colorbar": {
              "outlinewidth": 0,
              "ticks": ""
             }
            },
            "type": "scattergl"
           }
          ],
          "scattermapbox": [
           {
            "marker": {
             "colorbar": {
              "outlinewidth": 0,
              "ticks": ""
             }
            },
            "type": "scattermapbox"
           }
          ],
          "scatterpolar": [
           {
            "marker": {
             "colorbar": {
              "outlinewidth": 0,
              "ticks": ""
             }
            },
            "type": "scatterpolar"
           }
          ],
          "scatterpolargl": [
           {
            "marker": {
             "colorbar": {
              "outlinewidth": 0,
              "ticks": ""
             }
            },
            "type": "scatterpolargl"
           }
          ],
          "scatterternary": [
           {
            "marker": {
             "colorbar": {
              "outlinewidth": 0,
              "ticks": ""
             }
            },
            "type": "scatterternary"
           }
          ],
          "surface": [
           {
            "colorbar": {
             "outlinewidth": 0,
             "ticks": ""
            },
            "colorscale": [
             [
              0,
              "#0d0887"
             ],
             [
              0.1111111111111111,
              "#46039f"
             ],
             [
              0.2222222222222222,
              "#7201a8"
             ],
             [
              0.3333333333333333,
              "#9c179e"
             ],
             [
              0.4444444444444444,
              "#bd3786"
             ],
             [
              0.5555555555555556,
              "#d8576b"
             ],
             [
              0.6666666666666666,
              "#ed7953"
             ],
             [
              0.7777777777777778,
              "#fb9f3a"
             ],
             [
              0.8888888888888888,
              "#fdca26"
             ],
             [
              1,
              "#f0f921"
             ]
            ],
            "type": "surface"
           }
          ],
          "table": [
           {
            "cells": {
             "fill": {
              "color": "#EBF0F8"
             },
             "line": {
              "color": "white"
             }
            },
            "header": {
             "fill": {
              "color": "#C8D4E3"
             },
             "line": {
              "color": "white"
             }
            },
            "type": "table"
           }
          ]
         },
         "layout": {
          "annotationdefaults": {
           "arrowcolor": "#2a3f5f",
           "arrowhead": 0,
           "arrowwidth": 1
          },
          "autotypenumbers": "strict",
          "coloraxis": {
           "colorbar": {
            "outlinewidth": 0,
            "ticks": ""
           }
          },
          "colorscale": {
           "diverging": [
            [
             0,
             "#8e0152"
            ],
            [
             0.1,
             "#c51b7d"
            ],
            [
             0.2,
             "#de77ae"
            ],
            [
             0.3,
             "#f1b6da"
            ],
            [
             0.4,
             "#fde0ef"
            ],
            [
             0.5,
             "#f7f7f7"
            ],
            [
             0.6,
             "#e6f5d0"
            ],
            [
             0.7,
             "#b8e186"
            ],
            [
             0.8,
             "#7fbc41"
            ],
            [
             0.9,
             "#4d9221"
            ],
            [
             1,
             "#276419"
            ]
           ],
           "sequential": [
            [
             0,
             "#0d0887"
            ],
            [
             0.1111111111111111,
             "#46039f"
            ],
            [
             0.2222222222222222,
             "#7201a8"
            ],
            [
             0.3333333333333333,
             "#9c179e"
            ],
            [
             0.4444444444444444,
             "#bd3786"
            ],
            [
             0.5555555555555556,
             "#d8576b"
            ],
            [
             0.6666666666666666,
             "#ed7953"
            ],
            [
             0.7777777777777778,
             "#fb9f3a"
            ],
            [
             0.8888888888888888,
             "#fdca26"
            ],
            [
             1,
             "#f0f921"
            ]
           ],
           "sequentialminus": [
            [
             0,
             "#0d0887"
            ],
            [
             0.1111111111111111,
             "#46039f"
            ],
            [
             0.2222222222222222,
             "#7201a8"
            ],
            [
             0.3333333333333333,
             "#9c179e"
            ],
            [
             0.4444444444444444,
             "#bd3786"
            ],
            [
             0.5555555555555556,
             "#d8576b"
            ],
            [
             0.6666666666666666,
             "#ed7953"
            ],
            [
             0.7777777777777778,
             "#fb9f3a"
            ],
            [
             0.8888888888888888,
             "#fdca26"
            ],
            [
             1,
             "#f0f921"
            ]
           ]
          },
          "colorway": [
           "#636efa",
           "#EF553B",
           "#00cc96",
           "#ab63fa",
           "#FFA15A",
           "#19d3f3",
           "#FF6692",
           "#B6E880",
           "#FF97FF",
           "#FECB52"
          ],
          "font": {
           "color": "#2a3f5f"
          },
          "geo": {
           "bgcolor": "white",
           "lakecolor": "white",
           "landcolor": "#E5ECF6",
           "showlakes": true,
           "showland": true,
           "subunitcolor": "white"
          },
          "hoverlabel": {
           "align": "left"
          },
          "hovermode": "closest",
          "mapbox": {
           "style": "light"
          },
          "paper_bgcolor": "white",
          "plot_bgcolor": "#E5ECF6",
          "polar": {
           "angularaxis": {
            "gridcolor": "white",
            "linecolor": "white",
            "ticks": ""
           },
           "bgcolor": "#E5ECF6",
           "radialaxis": {
            "gridcolor": "white",
            "linecolor": "white",
            "ticks": ""
           }
          },
          "scene": {
           "xaxis": {
            "backgroundcolor": "#E5ECF6",
            "gridcolor": "white",
            "gridwidth": 2,
            "linecolor": "white",
            "showbackground": true,
            "ticks": "",
            "zerolinecolor": "white"
           },
           "yaxis": {
            "backgroundcolor": "#E5ECF6",
            "gridcolor": "white",
            "gridwidth": 2,
            "linecolor": "white",
            "showbackground": true,
            "ticks": "",
            "zerolinecolor": "white"
           },
           "zaxis": {
            "backgroundcolor": "#E5ECF6",
            "gridcolor": "white",
            "gridwidth": 2,
            "linecolor": "white",
            "showbackground": true,
            "ticks": "",
            "zerolinecolor": "white"
           }
          },
          "shapedefaults": {
           "line": {
            "color": "#2a3f5f"
           }
          },
          "ternary": {
           "aaxis": {
            "gridcolor": "white",
            "linecolor": "white",
            "ticks": ""
           },
           "baxis": {
            "gridcolor": "white",
            "linecolor": "white",
            "ticks": ""
           },
           "bgcolor": "#E5ECF6",
           "caxis": {
            "gridcolor": "white",
            "linecolor": "white",
            "ticks": ""
           }
          },
          "title": {
           "x": 0.05
          },
          "xaxis": {
           "automargin": true,
           "gridcolor": "white",
           "linecolor": "white",
           "ticks": "",
           "title": {
            "standoff": 15
           },
           "zerolinecolor": "white",
           "zerolinewidth": 2
          },
          "yaxis": {
           "automargin": true,
           "gridcolor": "white",
           "linecolor": "white",
           "ticks": "",
           "title": {
            "standoff": 15
           },
           "zerolinecolor": "white",
           "zerolinewidth": 2
          }
         }
        },
        "title": {
         "text": "Character name impact per order"
        },
        "xaxis": {
         "anchor": "y",
         "domain": [
          0,
          1
         ],
         "title": {
          "text": "order"
         }
        },
        "yaxis": {
         "anchor": "x",
         "domain": [
          0,
          1
         ],
         "title": {
          "text": "mean"
         }
        }
       }
      }
     },
     "metadata": {},
     "output_type": "display_data"
    }
   ],
   "source": [
    "# Plotting with Plotly\n",
    "fig = px.bar(ci_df, x='order', y='mean',\n",
    "             labels={'x': 'Order', 'y': 'Percentage of significant impact'},\n",
    "             title='Character name impact per order',\n",
    "             error_y='ci_upper',\n",
    "             error_y_minus='ci_lower',)\n",
    "\n",
    "# Show the plot\n",
    "fig.show()"
   ]
  },
  {
   "cell_type": "markdown",
   "metadata": {},
   "source": [
    "The intervals are far too large to deduce anything\n",
    "\n",
    "## Study positive and negative variation\n",
    "\n",
    "Among the character who played in a year with significant variation on the baby names, let's see the positive and negative variation's mean to compare."
   ]
  },
  {
   "cell_type": "code",
   "execution_count": 124,
   "metadata": {},
   "outputs": [],
   "source": [
    "name_by_movie_significant = name_by_movie_15_df[name_by_movie_15_df['is_significant'] == 1].copy(deep=True)"
   ]
  },
  {
   "cell_type": "code",
   "execution_count": 125,
   "metadata": {},
   "outputs": [
    {
     "data": {
      "text/html": [
       "<div>\n",
       "<style scoped>\n",
       "    .dataframe tbody tr th:only-of-type {\n",
       "        vertical-align: middle;\n",
       "    }\n",
       "\n",
       "    .dataframe tbody tr th {\n",
       "        vertical-align: top;\n",
       "    }\n",
       "\n",
       "    .dataframe thead th {\n",
       "        text-align: right;\n",
       "    }\n",
       "</style>\n",
       "<table border=\"1\" class=\"dataframe\">\n",
       "  <thead>\n",
       "    <tr style=\"text-align: right;\">\n",
       "      <th>slope_change_sign</th>\n",
       "      <th>order</th>\n",
       "      <th>negative</th>\n",
       "      <th>positive</th>\n",
       "      <th>neg_se</th>\n",
       "      <th>pos_se</th>\n",
       "    </tr>\n",
       "  </thead>\n",
       "  <tbody>\n",
       "    <tr>\n",
       "      <th>0</th>\n",
       "      <td>0.0</td>\n",
       "      <td>-0.028883</td>\n",
       "      <td>0.012949</td>\n",
       "      <td>0.001474</td>\n",
       "      <td>0.000406</td>\n",
       "    </tr>\n",
       "    <tr>\n",
       "      <th>1</th>\n",
       "      <td>1.0</td>\n",
       "      <td>-0.030030</td>\n",
       "      <td>0.011805</td>\n",
       "      <td>0.001729</td>\n",
       "      <td>0.000433</td>\n",
       "    </tr>\n",
       "    <tr>\n",
       "      <th>2</th>\n",
       "      <td>2.0</td>\n",
       "      <td>-0.026332</td>\n",
       "      <td>0.010672</td>\n",
       "      <td>0.001708</td>\n",
       "      <td>0.000526</td>\n",
       "    </tr>\n",
       "    <tr>\n",
       "      <th>3</th>\n",
       "      <td>3.0</td>\n",
       "      <td>-0.025530</td>\n",
       "      <td>0.010445</td>\n",
       "      <td>0.001697</td>\n",
       "      <td>0.000518</td>\n",
       "    </tr>\n",
       "    <tr>\n",
       "      <th>4</th>\n",
       "      <td>4.0</td>\n",
       "      <td>-0.025113</td>\n",
       "      <td>0.009871</td>\n",
       "      <td>0.002171</td>\n",
       "      <td>0.000488</td>\n",
       "    </tr>\n",
       "    <tr>\n",
       "      <th>5</th>\n",
       "      <td>5.0</td>\n",
       "      <td>-0.028289</td>\n",
       "      <td>0.010511</td>\n",
       "      <td>0.002421</td>\n",
       "      <td>0.000599</td>\n",
       "    </tr>\n",
       "    <tr>\n",
       "      <th>6</th>\n",
       "      <td>6.0</td>\n",
       "      <td>-0.023262</td>\n",
       "      <td>0.008945</td>\n",
       "      <td>0.002484</td>\n",
       "      <td>0.000497</td>\n",
       "    </tr>\n",
       "    <tr>\n",
       "      <th>7</th>\n",
       "      <td>7.0</td>\n",
       "      <td>-0.026032</td>\n",
       "      <td>0.010787</td>\n",
       "      <td>0.002593</td>\n",
       "      <td>0.000624</td>\n",
       "    </tr>\n",
       "    <tr>\n",
       "      <th>8</th>\n",
       "      <td>8.0</td>\n",
       "      <td>-0.023375</td>\n",
       "      <td>0.009195</td>\n",
       "      <td>0.003118</td>\n",
       "      <td>0.000515</td>\n",
       "    </tr>\n",
       "    <tr>\n",
       "      <th>9</th>\n",
       "      <td>9.0</td>\n",
       "      <td>-0.025207</td>\n",
       "      <td>0.009474</td>\n",
       "      <td>0.003494</td>\n",
       "      <td>0.000661</td>\n",
       "    </tr>\n",
       "    <tr>\n",
       "      <th>10</th>\n",
       "      <td>10.0</td>\n",
       "      <td>-0.026359</td>\n",
       "      <td>0.010167</td>\n",
       "      <td>0.004138</td>\n",
       "      <td>0.000924</td>\n",
       "    </tr>\n",
       "    <tr>\n",
       "      <th>11</th>\n",
       "      <td>11.0</td>\n",
       "      <td>-0.030858</td>\n",
       "      <td>0.008515</td>\n",
       "      <td>0.005433</td>\n",
       "      <td>0.000589</td>\n",
       "    </tr>\n",
       "    <tr>\n",
       "      <th>12</th>\n",
       "      <td>12.0</td>\n",
       "      <td>-0.020605</td>\n",
       "      <td>0.010419</td>\n",
       "      <td>0.003249</td>\n",
       "      <td>0.001112</td>\n",
       "    </tr>\n",
       "    <tr>\n",
       "      <th>13</th>\n",
       "      <td>13.0</td>\n",
       "      <td>-0.017126</td>\n",
       "      <td>0.008166</td>\n",
       "      <td>0.003089</td>\n",
       "      <td>0.000730</td>\n",
       "    </tr>\n",
       "    <tr>\n",
       "      <th>14</th>\n",
       "      <td>14.0</td>\n",
       "      <td>-0.034835</td>\n",
       "      <td>0.008582</td>\n",
       "      <td>0.007604</td>\n",
       "      <td>0.000738</td>\n",
       "    </tr>\n",
       "    <tr>\n",
       "      <th>15</th>\n",
       "      <td>15.0</td>\n",
       "      <td>-0.023646</td>\n",
       "      <td>0.012221</td>\n",
       "      <td>0.005309</td>\n",
       "      <td>0.001778</td>\n",
       "    </tr>\n",
       "  </tbody>\n",
       "</table>\n",
       "</div>"
      ],
      "text/plain": [
       "slope_change_sign  order  negative  positive    neg_se    pos_se\n",
       "0                    0.0 -0.028883  0.012949  0.001474  0.000406\n",
       "1                    1.0 -0.030030  0.011805  0.001729  0.000433\n",
       "2                    2.0 -0.026332  0.010672  0.001708  0.000526\n",
       "3                    3.0 -0.025530  0.010445  0.001697  0.000518\n",
       "4                    4.0 -0.025113  0.009871  0.002171  0.000488\n",
       "5                    5.0 -0.028289  0.010511  0.002421  0.000599\n",
       "6                    6.0 -0.023262  0.008945  0.002484  0.000497\n",
       "7                    7.0 -0.026032  0.010787  0.002593  0.000624\n",
       "8                    8.0 -0.023375  0.009195  0.003118  0.000515\n",
       "9                    9.0 -0.025207  0.009474  0.003494  0.000661\n",
       "10                  10.0 -0.026359  0.010167  0.004138  0.000924\n",
       "11                  11.0 -0.030858  0.008515  0.005433  0.000589\n",
       "12                  12.0 -0.020605  0.010419  0.003249  0.001112\n",
       "13                  13.0 -0.017126  0.008166  0.003089  0.000730\n",
       "14                  14.0 -0.034835  0.008582  0.007604  0.000738\n",
       "15                  15.0 -0.023646  0.012221  0.005309  0.001778"
      ]
     },
     "metadata": {},
     "output_type": "display_data"
    }
   ],
   "source": [
    "# Create a new column for positive and negative scores\n",
    "name_by_movie_significant['slope_change_sign'] = name_by_movie_significant['slope_change'].apply(lambda x: 'negative' if x < 0 else 'positive')\n",
    "\n",
    "# Group by 'order' and 'slope_change_sign', then calculate the mean\n",
    "grouped_df = name_by_movie_significant.groupby(['order', 'slope_change_sign'])['slope_change'].mean().reset_index()\n",
    "\n",
    "# Pivot the table for better plotting\n",
    "pivot_df = grouped_df.pivot(index='order', columns='slope_change_sign', values='slope_change').reset_index()\n",
    "\n",
    "# Group by 'order' and 'score_type', then calculate the se\n",
    "se_df = name_by_movie_significant.groupby(['order', 'slope_change_sign'])['slope_change'].sem().reset_index()\n",
    "\n",
    "# Add the se to the pivot table\n",
    "pivot_df['neg_se'] = se_df[se_df['slope_change_sign'] == 'negative']['slope_change'].values\n",
    "pivot_df['pos_se'] = se_df[se_df['slope_change_sign'] == 'positive']['slope_change'].values\n",
    "display(pivot_df)"
   ]
  },
  {
   "cell_type": "code",
   "execution_count": 126,
   "metadata": {},
   "outputs": [
    {
     "data": {
      "application/vnd.plotly.v1+json": {
       "config": {
        "plotlyServerURL": "https://plot.ly"
       },
       "data": [
        {
         "alignmentgroup": "True",
         "error_y": {
          "array": [
           0.001474305060979641,
           0.0017294232673493483,
           0.001707876881707643,
           0.0016973542385830323,
           0.002170877831386308,
           0.0024213741925058103,
           0.0024836029792146054,
           0.0025930932773640647,
           0.0031180532920393592,
           0.0034940990361234485,
           0.0041375546332115855,
           0.00543308200089837,
           0.003248858450668028,
           0.003089274901103894,
           0.007603879181395501,
           0.0053089629208378465
          ]
         },
         "hovertemplate": "Order=%{x}<br>Mean Slope Change=%{y}<extra></extra>",
         "legendgroup": "",
         "marker": {
          "color": "blue",
          "pattern": {
           "shape": ""
          }
         },
         "name": "Negative",
         "offsetgroup": "",
         "orientation": "v",
         "showlegend": true,
         "textposition": "auto",
         "type": "bar",
         "x": [
          0,
          1,
          2,
          3,
          4,
          5,
          6,
          7,
          8,
          9,
          10,
          11,
          12,
          13,
          14,
          15
         ],
         "xaxis": "x",
         "y": [
          -0.0288828143128496,
          -0.030029570227275395,
          -0.026332428361039308,
          -0.025529546405357307,
          -0.025113129854548815,
          -0.028289460183620798,
          -0.023261610711709308,
          -0.026031555968698675,
          -0.023375255009366346,
          -0.025206770964825893,
          -0.026358774531506434,
          -0.03085803044445958,
          -0.020605388862861482,
          -0.017125767090968684,
          -0.03483490832412527,
          -0.02364641526178961
         ],
         "yaxis": "y"
        },
        {
         "error_y": {
          "array": [
           0.00040596392900663883,
           0.0004329951473382525,
           0.000525939075432321,
           0.0005177746216977282,
           0.0004882725738113142,
           0.0005986930850057625,
           0.0004970502238770451,
           0.0006235749093009681,
           0.0005145662346822742,
           0.0006605012113912904,
           0.0009243782995208118,
           0.0005892148287795374,
           0.0011122662345328061,
           0.0007302485438019574,
           0.0007378678453554458,
           0.001778264931990094
          ],
          "type": "data"
         },
         "marker": {
          "color": "red"
         },
         "name": "Positive",
         "type": "bar",
         "x": [
          0,
          1,
          2,
          3,
          4,
          5,
          6,
          7,
          8,
          9,
          10,
          11,
          12,
          13,
          14,
          15
         ],
         "y": [
          0.012949384651554072,
          0.011805334059892609,
          0.010671949846741975,
          0.010445421885518145,
          0.009871238032445431,
          0.010511073753649148,
          0.008944900010003885,
          0.010787420831181515,
          0.009195139401541163,
          0.009473529507510658,
          0.010166719689974128,
          0.008515031931105713,
          0.010419099640740385,
          0.008165640836366915,
          0.008582225545166822,
          0.012220537188573567
         ]
        }
       ],
       "layout": {
        "barmode": "relative",
        "height": 600,
        "legend": {
         "tracegroupgap": 0
        },
        "template": {
         "data": {
          "bar": [
           {
            "error_x": {
             "color": "#2a3f5f"
            },
            "error_y": {
             "color": "#2a3f5f"
            },
            "marker": {
             "line": {
              "color": "#E5ECF6",
              "width": 0.5
             },
             "pattern": {
              "fillmode": "overlay",
              "size": 10,
              "solidity": 0.2
             }
            },
            "type": "bar"
           }
          ],
          "barpolar": [
           {
            "marker": {
             "line": {
              "color": "#E5ECF6",
              "width": 0.5
             },
             "pattern": {
              "fillmode": "overlay",
              "size": 10,
              "solidity": 0.2
             }
            },
            "type": "barpolar"
           }
          ],
          "carpet": [
           {
            "aaxis": {
             "endlinecolor": "#2a3f5f",
             "gridcolor": "white",
             "linecolor": "white",
             "minorgridcolor": "white",
             "startlinecolor": "#2a3f5f"
            },
            "baxis": {
             "endlinecolor": "#2a3f5f",
             "gridcolor": "white",
             "linecolor": "white",
             "minorgridcolor": "white",
             "startlinecolor": "#2a3f5f"
            },
            "type": "carpet"
           }
          ],
          "choropleth": [
           {
            "colorbar": {
             "outlinewidth": 0,
             "ticks": ""
            },
            "type": "choropleth"
           }
          ],
          "contour": [
           {
            "colorbar": {
             "outlinewidth": 0,
             "ticks": ""
            },
            "colorscale": [
             [
              0,
              "#0d0887"
             ],
             [
              0.1111111111111111,
              "#46039f"
             ],
             [
              0.2222222222222222,
              "#7201a8"
             ],
             [
              0.3333333333333333,
              "#9c179e"
             ],
             [
              0.4444444444444444,
              "#bd3786"
             ],
             [
              0.5555555555555556,
              "#d8576b"
             ],
             [
              0.6666666666666666,
              "#ed7953"
             ],
             [
              0.7777777777777778,
              "#fb9f3a"
             ],
             [
              0.8888888888888888,
              "#fdca26"
             ],
             [
              1,
              "#f0f921"
             ]
            ],
            "type": "contour"
           }
          ],
          "contourcarpet": [
           {
            "colorbar": {
             "outlinewidth": 0,
             "ticks": ""
            },
            "type": "contourcarpet"
           }
          ],
          "heatmap": [
           {
            "colorbar": {
             "outlinewidth": 0,
             "ticks": ""
            },
            "colorscale": [
             [
              0,
              "#0d0887"
             ],
             [
              0.1111111111111111,
              "#46039f"
             ],
             [
              0.2222222222222222,
              "#7201a8"
             ],
             [
              0.3333333333333333,
              "#9c179e"
             ],
             [
              0.4444444444444444,
              "#bd3786"
             ],
             [
              0.5555555555555556,
              "#d8576b"
             ],
             [
              0.6666666666666666,
              "#ed7953"
             ],
             [
              0.7777777777777778,
              "#fb9f3a"
             ],
             [
              0.8888888888888888,
              "#fdca26"
             ],
             [
              1,
              "#f0f921"
             ]
            ],
            "type": "heatmap"
           }
          ],
          "heatmapgl": [
           {
            "colorbar": {
             "outlinewidth": 0,
             "ticks": ""
            },
            "colorscale": [
             [
              0,
              "#0d0887"
             ],
             [
              0.1111111111111111,
              "#46039f"
             ],
             [
              0.2222222222222222,
              "#7201a8"
             ],
             [
              0.3333333333333333,
              "#9c179e"
             ],
             [
              0.4444444444444444,
              "#bd3786"
             ],
             [
              0.5555555555555556,
              "#d8576b"
             ],
             [
              0.6666666666666666,
              "#ed7953"
             ],
             [
              0.7777777777777778,
              "#fb9f3a"
             ],
             [
              0.8888888888888888,
              "#fdca26"
             ],
             [
              1,
              "#f0f921"
             ]
            ],
            "type": "heatmapgl"
           }
          ],
          "histogram": [
           {
            "marker": {
             "pattern": {
              "fillmode": "overlay",
              "size": 10,
              "solidity": 0.2
             }
            },
            "type": "histogram"
           }
          ],
          "histogram2d": [
           {
            "colorbar": {
             "outlinewidth": 0,
             "ticks": ""
            },
            "colorscale": [
             [
              0,
              "#0d0887"
             ],
             [
              0.1111111111111111,
              "#46039f"
             ],
             [
              0.2222222222222222,
              "#7201a8"
             ],
             [
              0.3333333333333333,
              "#9c179e"
             ],
             [
              0.4444444444444444,
              "#bd3786"
             ],
             [
              0.5555555555555556,
              "#d8576b"
             ],
             [
              0.6666666666666666,
              "#ed7953"
             ],
             [
              0.7777777777777778,
              "#fb9f3a"
             ],
             [
              0.8888888888888888,
              "#fdca26"
             ],
             [
              1,
              "#f0f921"
             ]
            ],
            "type": "histogram2d"
           }
          ],
          "histogram2dcontour": [
           {
            "colorbar": {
             "outlinewidth": 0,
             "ticks": ""
            },
            "colorscale": [
             [
              0,
              "#0d0887"
             ],
             [
              0.1111111111111111,
              "#46039f"
             ],
             [
              0.2222222222222222,
              "#7201a8"
             ],
             [
              0.3333333333333333,
              "#9c179e"
             ],
             [
              0.4444444444444444,
              "#bd3786"
             ],
             [
              0.5555555555555556,
              "#d8576b"
             ],
             [
              0.6666666666666666,
              "#ed7953"
             ],
             [
              0.7777777777777778,
              "#fb9f3a"
             ],
             [
              0.8888888888888888,
              "#fdca26"
             ],
             [
              1,
              "#f0f921"
             ]
            ],
            "type": "histogram2dcontour"
           }
          ],
          "mesh3d": [
           {
            "colorbar": {
             "outlinewidth": 0,
             "ticks": ""
            },
            "type": "mesh3d"
           }
          ],
          "parcoords": [
           {
            "line": {
             "colorbar": {
              "outlinewidth": 0,
              "ticks": ""
             }
            },
            "type": "parcoords"
           }
          ],
          "pie": [
           {
            "automargin": true,
            "type": "pie"
           }
          ],
          "scatter": [
           {
            "fillpattern": {
             "fillmode": "overlay",
             "size": 10,
             "solidity": 0.2
            },
            "type": "scatter"
           }
          ],
          "scatter3d": [
           {
            "line": {
             "colorbar": {
              "outlinewidth": 0,
              "ticks": ""
             }
            },
            "marker": {
             "colorbar": {
              "outlinewidth": 0,
              "ticks": ""
             }
            },
            "type": "scatter3d"
           }
          ],
          "scattercarpet": [
           {
            "marker": {
             "colorbar": {
              "outlinewidth": 0,
              "ticks": ""
             }
            },
            "type": "scattercarpet"
           }
          ],
          "scattergeo": [
           {
            "marker": {
             "colorbar": {
              "outlinewidth": 0,
              "ticks": ""
             }
            },
            "type": "scattergeo"
           }
          ],
          "scattergl": [
           {
            "marker": {
             "colorbar": {
              "outlinewidth": 0,
              "ticks": ""
             }
            },
            "type": "scattergl"
           }
          ],
          "scattermapbox": [
           {
            "marker": {
             "colorbar": {
              "outlinewidth": 0,
              "ticks": ""
             }
            },
            "type": "scattermapbox"
           }
          ],
          "scatterpolar": [
           {
            "marker": {
             "colorbar": {
              "outlinewidth": 0,
              "ticks": ""
             }
            },
            "type": "scatterpolar"
           }
          ],
          "scatterpolargl": [
           {
            "marker": {
             "colorbar": {
              "outlinewidth": 0,
              "ticks": ""
             }
            },
            "type": "scatterpolargl"
           }
          ],
          "scatterternary": [
           {
            "marker": {
             "colorbar": {
              "outlinewidth": 0,
              "ticks": ""
             }
            },
            "type": "scatterternary"
           }
          ],
          "surface": [
           {
            "colorbar": {
             "outlinewidth": 0,
             "ticks": ""
            },
            "colorscale": [
             [
              0,
              "#0d0887"
             ],
             [
              0.1111111111111111,
              "#46039f"
             ],
             [
              0.2222222222222222,
              "#7201a8"
             ],
             [
              0.3333333333333333,
              "#9c179e"
             ],
             [
              0.4444444444444444,
              "#bd3786"
             ],
             [
              0.5555555555555556,
              "#d8576b"
             ],
             [
              0.6666666666666666,
              "#ed7953"
             ],
             [
              0.7777777777777778,
              "#fb9f3a"
             ],
             [
              0.8888888888888888,
              "#fdca26"
             ],
             [
              1,
              "#f0f921"
             ]
            ],
            "type": "surface"
           }
          ],
          "table": [
           {
            "cells": {
             "fill": {
              "color": "#EBF0F8"
             },
             "line": {
              "color": "white"
             }
            },
            "header": {
             "fill": {
              "color": "#C8D4E3"
             },
             "line": {
              "color": "white"
             }
            },
            "type": "table"
           }
          ]
         },
         "layout": {
          "annotationdefaults": {
           "arrowcolor": "#2a3f5f",
           "arrowhead": 0,
           "arrowwidth": 1
          },
          "autotypenumbers": "strict",
          "coloraxis": {
           "colorbar": {
            "outlinewidth": 0,
            "ticks": ""
           }
          },
          "colorscale": {
           "diverging": [
            [
             0,
             "#8e0152"
            ],
            [
             0.1,
             "#c51b7d"
            ],
            [
             0.2,
             "#de77ae"
            ],
            [
             0.3,
             "#f1b6da"
            ],
            [
             0.4,
             "#fde0ef"
            ],
            [
             0.5,
             "#f7f7f7"
            ],
            [
             0.6,
             "#e6f5d0"
            ],
            [
             0.7,
             "#b8e186"
            ],
            [
             0.8,
             "#7fbc41"
            ],
            [
             0.9,
             "#4d9221"
            ],
            [
             1,
             "#276419"
            ]
           ],
           "sequential": [
            [
             0,
             "#0d0887"
            ],
            [
             0.1111111111111111,
             "#46039f"
            ],
            [
             0.2222222222222222,
             "#7201a8"
            ],
            [
             0.3333333333333333,
             "#9c179e"
            ],
            [
             0.4444444444444444,
             "#bd3786"
            ],
            [
             0.5555555555555556,
             "#d8576b"
            ],
            [
             0.6666666666666666,
             "#ed7953"
            ],
            [
             0.7777777777777778,
             "#fb9f3a"
            ],
            [
             0.8888888888888888,
             "#fdca26"
            ],
            [
             1,
             "#f0f921"
            ]
           ],
           "sequentialminus": [
            [
             0,
             "#0d0887"
            ],
            [
             0.1111111111111111,
             "#46039f"
            ],
            [
             0.2222222222222222,
             "#7201a8"
            ],
            [
             0.3333333333333333,
             "#9c179e"
            ],
            [
             0.4444444444444444,
             "#bd3786"
            ],
            [
             0.5555555555555556,
             "#d8576b"
            ],
            [
             0.6666666666666666,
             "#ed7953"
            ],
            [
             0.7777777777777778,
             "#fb9f3a"
            ],
            [
             0.8888888888888888,
             "#fdca26"
            ],
            [
             1,
             "#f0f921"
            ]
           ]
          },
          "colorway": [
           "#636efa",
           "#EF553B",
           "#00cc96",
           "#ab63fa",
           "#FFA15A",
           "#19d3f3",
           "#FF6692",
           "#B6E880",
           "#FF97FF",
           "#FECB52"
          ],
          "font": {
           "color": "#2a3f5f"
          },
          "geo": {
           "bgcolor": "white",
           "lakecolor": "white",
           "landcolor": "#E5ECF6",
           "showlakes": true,
           "showland": true,
           "subunitcolor": "white"
          },
          "hoverlabel": {
           "align": "left"
          },
          "hovermode": "closest",
          "mapbox": {
           "style": "light"
          },
          "paper_bgcolor": "white",
          "plot_bgcolor": "#E5ECF6",
          "polar": {
           "angularaxis": {
            "gridcolor": "white",
            "linecolor": "white",
            "ticks": ""
           },
           "bgcolor": "#E5ECF6",
           "radialaxis": {
            "gridcolor": "white",
            "linecolor": "white",
            "ticks": ""
           }
          },
          "scene": {
           "xaxis": {
            "backgroundcolor": "#E5ECF6",
            "gridcolor": "white",
            "gridwidth": 2,
            "linecolor": "white",
            "showbackground": true,
            "ticks": "",
            "zerolinecolor": "white"
           },
           "yaxis": {
            "backgroundcolor": "#E5ECF6",
            "gridcolor": "white",
            "gridwidth": 2,
            "linecolor": "white",
            "showbackground": true,
            "ticks": "",
            "zerolinecolor": "white"
           },
           "zaxis": {
            "backgroundcolor": "#E5ECF6",
            "gridcolor": "white",
            "gridwidth": 2,
            "linecolor": "white",
            "showbackground": true,
            "ticks": "",
            "zerolinecolor": "white"
           }
          },
          "shapedefaults": {
           "line": {
            "color": "#2a3f5f"
           }
          },
          "ternary": {
           "aaxis": {
            "gridcolor": "white",
            "linecolor": "white",
            "ticks": ""
           },
           "baxis": {
            "gridcolor": "white",
            "linecolor": "white",
            "ticks": ""
           },
           "bgcolor": "#E5ECF6",
           "caxis": {
            "gridcolor": "white",
            "linecolor": "white",
            "ticks": ""
           }
          },
          "title": {
           "x": 0.05
          },
          "xaxis": {
           "automargin": true,
           "gridcolor": "white",
           "linecolor": "white",
           "ticks": "",
           "title": {
            "standoff": 15
           },
           "zerolinecolor": "white",
           "zerolinewidth": 2
          },
          "yaxis": {
           "automargin": true,
           "gridcolor": "white",
           "linecolor": "white",
           "ticks": "",
           "title": {
            "standoff": 15
           },
           "zerolinecolor": "white",
           "zerolinewidth": 2
          }
         }
        },
        "title": {
         "text": "Mean Negative and Positive Slope Change by Order"
        },
        "xaxis": {
         "anchor": "y",
         "domain": [
          0,
          1
         ],
         "title": {
          "text": "Order"
         }
        },
        "yaxis": {
         "anchor": "x",
         "domain": [
          0,
          1
         ],
         "title": {
          "text": "Mean Slope Change"
         }
        }
       }
      }
     },
     "metadata": {},
     "output_type": "display_data"
    }
   ],
   "source": [
    "# Plotting with Plotly\n",
    "fig = px.bar(pivot_df, x='order', y='negative',\n",
    "             labels={'negative': 'Mean Slope Change', 'order': 'Order'},\n",
    "             title='Mean Negative and Positive Slope Change by Order',\n",
    "             height=600,\n",
    "             error_y='neg_se')\n",
    "\n",
    "# Update existing traces to show the legend for the color blue\n",
    "fig.update_traces(marker=dict(color='blue'), selector=dict(type='bar'), showlegend=True, name='Negative')\n",
    "\n",
    "# Add positive bars with their error values\n",
    "fig.add_bar(x=pivot_df['order'], y=pivot_df['positive'], \n",
    "            error_y=dict(type='data', array=pivot_df['pos_se']),\n",
    "            name='Positive',\n",
    "            marker_color='red')\n",
    "\n",
    "# Show the plot\n",
    "fig.show()"
   ]
  },
  {
   "cell_type": "markdown",
   "metadata": {},
   "source": [
    "We see a higher mean variation for the negative variation, which suggests that the character with significant impact have a larger variation for negative than positive variations.\n",
    "\n",
    "## Magnitude of the variation\n",
    "\n",
    "We can express the magnitude of the variation by computing the difference of slop before and after the movie release. These differences are already available in the `name_by_movie` dataframe on the column `slope_change`. Let's plot the mean slope change for each order."
   ]
  },
  {
   "cell_type": "code",
   "execution_count": 127,
   "metadata": {},
   "outputs": [
    {
     "data": {
      "text/html": [
       "<div>\n",
       "<style scoped>\n",
       "    .dataframe tbody tr th:only-of-type {\n",
       "        vertical-align: middle;\n",
       "    }\n",
       "\n",
       "    .dataframe tbody tr th {\n",
       "        vertical-align: top;\n",
       "    }\n",
       "\n",
       "    .dataframe thead th {\n",
       "        text-align: right;\n",
       "    }\n",
       "</style>\n",
       "<table border=\"1\" class=\"dataframe\">\n",
       "  <thead>\n",
       "    <tr style=\"text-align: right;\">\n",
       "      <th></th>\n",
       "      <th>abs_mean_slope_change</th>\n",
       "      <th>abs_slope_change_se</th>\n",
       "    </tr>\n",
       "    <tr>\n",
       "      <th>order</th>\n",
       "      <th></th>\n",
       "      <th></th>\n",
       "    </tr>\n",
       "  </thead>\n",
       "  <tbody>\n",
       "    <tr>\n",
       "      <th>8.0</th>\n",
       "      <td>0.012132</td>\n",
       "      <td>0.000799</td>\n",
       "    </tr>\n",
       "    <tr>\n",
       "      <th>20.0</th>\n",
       "      <td>0.009202</td>\n",
       "      <td>0.001490</td>\n",
       "    </tr>\n",
       "  </tbody>\n",
       "</table>\n",
       "</div>"
      ],
      "text/plain": [
       "       abs_mean_slope_change  abs_slope_change_se\n",
       "order                                            \n",
       "8.0                 0.012132             0.000799\n",
       "20.0                0.009202             0.001490"
      ]
     },
     "metadata": {},
     "output_type": "display_data"
    }
   ],
   "source": [
    "alpha = 0.05 # Significance level\n",
    "\n",
    "name_by_movie_magnitude = name_by_movie_df.copy(deep=True)\n",
    "\n",
    "# Keep only the significant characters\n",
    "name_by_movie_magnitude = name_by_movie_magnitude[name_by_movie_magnitude['p_value'] <= alpha]\n",
    "\n",
    "# Keep only the first 30 orders\n",
    "name_by_movie_magnitude = name_by_movie_magnitude[name_by_movie_magnitude['order'] <= 20]\n",
    "\n",
    "# Compute the absolute mean slope change\n",
    "name_by_movie_magnitude['abs_slope_change'] = name_by_movie_magnitude['slope_change'].abs()\n",
    "abs_mean_slope_change = name_by_movie_magnitude.groupby(\"order\")['abs_slope_change'].mean()\n",
    "\n",
    "# Compute the standard error of absolute slope change\n",
    "abs_slope_change_se = name_by_movie_magnitude.groupby(\"order\")['abs_slope_change'].sem()\n",
    "\n",
    "# Create a dataframe with the mean and standard error\n",
    "slope_change_mean_se_df = pd.DataFrame({'abs_mean_slope_change': abs_mean_slope_change, 'abs_slope_change_se': abs_slope_change_se})\n",
    "display(slope_change_mean_se_df.sample(2))"
   ]
  },
  {
   "cell_type": "code",
   "execution_count": 128,
   "metadata": {},
   "outputs": [
    {
     "data": {
      "application/vnd.plotly.v1+json": {
       "config": {
        "plotlyServerURL": "https://plot.ly"
       },
       "data": [
        {
         "error_y": {
          "array": [
           0.0004935273156393239,
           0.0005680260416178791,
           0.0005868778167840767,
           0.0005929027766781462,
           0.0006384225155523115,
           0.0007067561753339813,
           0.0007064904685118379,
           0.0007713279209805847,
           0.0007993832293156206,
           0.0009719152595389546,
           0.001229102584884915,
           0.0011493783689047765,
           0.0011338154800171261,
           0.0008529203946155673,
           0.0019179288660799464,
           0.0017733374777382008,
           0.0025034806903725198,
           0.001770384903978945,
           0.0018645887833543232,
           0.0013938358281660123,
           0.0014895035889757721
          ],
          "type": "data",
          "visible": true
         },
         "marker": {
          "color": "orange"
         },
         "name": "Avg Magnitude Slope Change",
         "type": "bar",
         "x": [
          0,
          1,
          2,
          3,
          4,
          5,
          6,
          7,
          8,
          9,
          10,
          11,
          12,
          13,
          14,
          15,
          16,
          17,
          18,
          19,
          20
         ],
         "y": [
          0.016890225554163786,
          0.016382623572576357,
          0.014256878663267872,
          0.014034570485094024,
          0.013191846456887974,
          0.013858816695433283,
          0.01211997698014017,
          0.013976962952262029,
          0.012131552722099651,
          0.012947953662667771,
          0.013858172607214654,
          0.01239800318271422,
          0.012535265359420471,
          0.009831780015941625,
          0.014373258511113539,
          0.01426696311213465,
          0.012571241343722141,
          0.01121740616054456,
          0.011306123312825628,
          0.01091048646781475,
          0.009201784634861395
         ]
        }
       ],
       "layout": {
        "barmode": "stack",
        "template": {
         "data": {
          "bar": [
           {
            "error_x": {
             "color": "#2a3f5f"
            },
            "error_y": {
             "color": "#2a3f5f"
            },
            "marker": {
             "line": {
              "color": "#E5ECF6",
              "width": 0.5
             },
             "pattern": {
              "fillmode": "overlay",
              "size": 10,
              "solidity": 0.2
             }
            },
            "type": "bar"
           }
          ],
          "barpolar": [
           {
            "marker": {
             "line": {
              "color": "#E5ECF6",
              "width": 0.5
             },
             "pattern": {
              "fillmode": "overlay",
              "size": 10,
              "solidity": 0.2
             }
            },
            "type": "barpolar"
           }
          ],
          "carpet": [
           {
            "aaxis": {
             "endlinecolor": "#2a3f5f",
             "gridcolor": "white",
             "linecolor": "white",
             "minorgridcolor": "white",
             "startlinecolor": "#2a3f5f"
            },
            "baxis": {
             "endlinecolor": "#2a3f5f",
             "gridcolor": "white",
             "linecolor": "white",
             "minorgridcolor": "white",
             "startlinecolor": "#2a3f5f"
            },
            "type": "carpet"
           }
          ],
          "choropleth": [
           {
            "colorbar": {
             "outlinewidth": 0,
             "ticks": ""
            },
            "type": "choropleth"
           }
          ],
          "contour": [
           {
            "colorbar": {
             "outlinewidth": 0,
             "ticks": ""
            },
            "colorscale": [
             [
              0,
              "#0d0887"
             ],
             [
              0.1111111111111111,
              "#46039f"
             ],
             [
              0.2222222222222222,
              "#7201a8"
             ],
             [
              0.3333333333333333,
              "#9c179e"
             ],
             [
              0.4444444444444444,
              "#bd3786"
             ],
             [
              0.5555555555555556,
              "#d8576b"
             ],
             [
              0.6666666666666666,
              "#ed7953"
             ],
             [
              0.7777777777777778,
              "#fb9f3a"
             ],
             [
              0.8888888888888888,
              "#fdca26"
             ],
             [
              1,
              "#f0f921"
             ]
            ],
            "type": "contour"
           }
          ],
          "contourcarpet": [
           {
            "colorbar": {
             "outlinewidth": 0,
             "ticks": ""
            },
            "type": "contourcarpet"
           }
          ],
          "heatmap": [
           {
            "colorbar": {
             "outlinewidth": 0,
             "ticks": ""
            },
            "colorscale": [
             [
              0,
              "#0d0887"
             ],
             [
              0.1111111111111111,
              "#46039f"
             ],
             [
              0.2222222222222222,
              "#7201a8"
             ],
             [
              0.3333333333333333,
              "#9c179e"
             ],
             [
              0.4444444444444444,
              "#bd3786"
             ],
             [
              0.5555555555555556,
              "#d8576b"
             ],
             [
              0.6666666666666666,
              "#ed7953"
             ],
             [
              0.7777777777777778,
              "#fb9f3a"
             ],
             [
              0.8888888888888888,
              "#fdca26"
             ],
             [
              1,
              "#f0f921"
             ]
            ],
            "type": "heatmap"
           }
          ],
          "heatmapgl": [
           {
            "colorbar": {
             "outlinewidth": 0,
             "ticks": ""
            },
            "colorscale": [
             [
              0,
              "#0d0887"
             ],
             [
              0.1111111111111111,
              "#46039f"
             ],
             [
              0.2222222222222222,
              "#7201a8"
             ],
             [
              0.3333333333333333,
              "#9c179e"
             ],
             [
              0.4444444444444444,
              "#bd3786"
             ],
             [
              0.5555555555555556,
              "#d8576b"
             ],
             [
              0.6666666666666666,
              "#ed7953"
             ],
             [
              0.7777777777777778,
              "#fb9f3a"
             ],
             [
              0.8888888888888888,
              "#fdca26"
             ],
             [
              1,
              "#f0f921"
             ]
            ],
            "type": "heatmapgl"
           }
          ],
          "histogram": [
           {
            "marker": {
             "pattern": {
              "fillmode": "overlay",
              "size": 10,
              "solidity": 0.2
             }
            },
            "type": "histogram"
           }
          ],
          "histogram2d": [
           {
            "colorbar": {
             "outlinewidth": 0,
             "ticks": ""
            },
            "colorscale": [
             [
              0,
              "#0d0887"
             ],
             [
              0.1111111111111111,
              "#46039f"
             ],
             [
              0.2222222222222222,
              "#7201a8"
             ],
             [
              0.3333333333333333,
              "#9c179e"
             ],
             [
              0.4444444444444444,
              "#bd3786"
             ],
             [
              0.5555555555555556,
              "#d8576b"
             ],
             [
              0.6666666666666666,
              "#ed7953"
             ],
             [
              0.7777777777777778,
              "#fb9f3a"
             ],
             [
              0.8888888888888888,
              "#fdca26"
             ],
             [
              1,
              "#f0f921"
             ]
            ],
            "type": "histogram2d"
           }
          ],
          "histogram2dcontour": [
           {
            "colorbar": {
             "outlinewidth": 0,
             "ticks": ""
            },
            "colorscale": [
             [
              0,
              "#0d0887"
             ],
             [
              0.1111111111111111,
              "#46039f"
             ],
             [
              0.2222222222222222,
              "#7201a8"
             ],
             [
              0.3333333333333333,
              "#9c179e"
             ],
             [
              0.4444444444444444,
              "#bd3786"
             ],
             [
              0.5555555555555556,
              "#d8576b"
             ],
             [
              0.6666666666666666,
              "#ed7953"
             ],
             [
              0.7777777777777778,
              "#fb9f3a"
             ],
             [
              0.8888888888888888,
              "#fdca26"
             ],
             [
              1,
              "#f0f921"
             ]
            ],
            "type": "histogram2dcontour"
           }
          ],
          "mesh3d": [
           {
            "colorbar": {
             "outlinewidth": 0,
             "ticks": ""
            },
            "type": "mesh3d"
           }
          ],
          "parcoords": [
           {
            "line": {
             "colorbar": {
              "outlinewidth": 0,
              "ticks": ""
             }
            },
            "type": "parcoords"
           }
          ],
          "pie": [
           {
            "automargin": true,
            "type": "pie"
           }
          ],
          "scatter": [
           {
            "fillpattern": {
             "fillmode": "overlay",
             "size": 10,
             "solidity": 0.2
            },
            "type": "scatter"
           }
          ],
          "scatter3d": [
           {
            "line": {
             "colorbar": {
              "outlinewidth": 0,
              "ticks": ""
             }
            },
            "marker": {
             "colorbar": {
              "outlinewidth": 0,
              "ticks": ""
             }
            },
            "type": "scatter3d"
           }
          ],
          "scattercarpet": [
           {
            "marker": {
             "colorbar": {
              "outlinewidth": 0,
              "ticks": ""
             }
            },
            "type": "scattercarpet"
           }
          ],
          "scattergeo": [
           {
            "marker": {
             "colorbar": {
              "outlinewidth": 0,
              "ticks": ""
             }
            },
            "type": "scattergeo"
           }
          ],
          "scattergl": [
           {
            "marker": {
             "colorbar": {
              "outlinewidth": 0,
              "ticks": ""
             }
            },
            "type": "scattergl"
           }
          ],
          "scattermapbox": [
           {
            "marker": {
             "colorbar": {
              "outlinewidth": 0,
              "ticks": ""
             }
            },
            "type": "scattermapbox"
           }
          ],
          "scatterpolar": [
           {
            "marker": {
             "colorbar": {
              "outlinewidth": 0,
              "ticks": ""
             }
            },
            "type": "scatterpolar"
           }
          ],
          "scatterpolargl": [
           {
            "marker": {
             "colorbar": {
              "outlinewidth": 0,
              "ticks": ""
             }
            },
            "type": "scatterpolargl"
           }
          ],
          "scatterternary": [
           {
            "marker": {
             "colorbar": {
              "outlinewidth": 0,
              "ticks": ""
             }
            },
            "type": "scatterternary"
           }
          ],
          "surface": [
           {
            "colorbar": {
             "outlinewidth": 0,
             "ticks": ""
            },
            "colorscale": [
             [
              0,
              "#0d0887"
             ],
             [
              0.1111111111111111,
              "#46039f"
             ],
             [
              0.2222222222222222,
              "#7201a8"
             ],
             [
              0.3333333333333333,
              "#9c179e"
             ],
             [
              0.4444444444444444,
              "#bd3786"
             ],
             [
              0.5555555555555556,
              "#d8576b"
             ],
             [
              0.6666666666666666,
              "#ed7953"
             ],
             [
              0.7777777777777778,
              "#fb9f3a"
             ],
             [
              0.8888888888888888,
              "#fdca26"
             ],
             [
              1,
              "#f0f921"
             ]
            ],
            "type": "surface"
           }
          ],
          "table": [
           {
            "cells": {
             "fill": {
              "color": "#EBF0F8"
             },
             "line": {
              "color": "white"
             }
            },
            "header": {
             "fill": {
              "color": "#C8D4E3"
             },
             "line": {
              "color": "white"
             }
            },
            "type": "table"
           }
          ]
         },
         "layout": {
          "annotationdefaults": {
           "arrowcolor": "#2a3f5f",
           "arrowhead": 0,
           "arrowwidth": 1
          },
          "autotypenumbers": "strict",
          "coloraxis": {
           "colorbar": {
            "outlinewidth": 0,
            "ticks": ""
           }
          },
          "colorscale": {
           "diverging": [
            [
             0,
             "#8e0152"
            ],
            [
             0.1,
             "#c51b7d"
            ],
            [
             0.2,
             "#de77ae"
            ],
            [
             0.3,
             "#f1b6da"
            ],
            [
             0.4,
             "#fde0ef"
            ],
            [
             0.5,
             "#f7f7f7"
            ],
            [
             0.6,
             "#e6f5d0"
            ],
            [
             0.7,
             "#b8e186"
            ],
            [
             0.8,
             "#7fbc41"
            ],
            [
             0.9,
             "#4d9221"
            ],
            [
             1,
             "#276419"
            ]
           ],
           "sequential": [
            [
             0,
             "#0d0887"
            ],
            [
             0.1111111111111111,
             "#46039f"
            ],
            [
             0.2222222222222222,
             "#7201a8"
            ],
            [
             0.3333333333333333,
             "#9c179e"
            ],
            [
             0.4444444444444444,
             "#bd3786"
            ],
            [
             0.5555555555555556,
             "#d8576b"
            ],
            [
             0.6666666666666666,
             "#ed7953"
            ],
            [
             0.7777777777777778,
             "#fb9f3a"
            ],
            [
             0.8888888888888888,
             "#fdca26"
            ],
            [
             1,
             "#f0f921"
            ]
           ],
           "sequentialminus": [
            [
             0,
             "#0d0887"
            ],
            [
             0.1111111111111111,
             "#46039f"
            ],
            [
             0.2222222222222222,
             "#7201a8"
            ],
            [
             0.3333333333333333,
             "#9c179e"
            ],
            [
             0.4444444444444444,
             "#bd3786"
            ],
            [
             0.5555555555555556,
             "#d8576b"
            ],
            [
             0.6666666666666666,
             "#ed7953"
            ],
            [
             0.7777777777777778,
             "#fb9f3a"
            ],
            [
             0.8888888888888888,
             "#fdca26"
            ],
            [
             1,
             "#f0f921"
            ]
           ]
          },
          "colorway": [
           "#636efa",
           "#EF553B",
           "#00cc96",
           "#ab63fa",
           "#FFA15A",
           "#19d3f3",
           "#FF6692",
           "#B6E880",
           "#FF97FF",
           "#FECB52"
          ],
          "font": {
           "color": "#2a3f5f"
          },
          "geo": {
           "bgcolor": "white",
           "lakecolor": "white",
           "landcolor": "#E5ECF6",
           "showlakes": true,
           "showland": true,
           "subunitcolor": "white"
          },
          "hoverlabel": {
           "align": "left"
          },
          "hovermode": "closest",
          "mapbox": {
           "style": "light"
          },
          "paper_bgcolor": "white",
          "plot_bgcolor": "#E5ECF6",
          "polar": {
           "angularaxis": {
            "gridcolor": "white",
            "linecolor": "white",
            "ticks": ""
           },
           "bgcolor": "#E5ECF6",
           "radialaxis": {
            "gridcolor": "white",
            "linecolor": "white",
            "ticks": ""
           }
          },
          "scene": {
           "xaxis": {
            "backgroundcolor": "#E5ECF6",
            "gridcolor": "white",
            "gridwidth": 2,
            "linecolor": "white",
            "showbackground": true,
            "ticks": "",
            "zerolinecolor": "white"
           },
           "yaxis": {
            "backgroundcolor": "#E5ECF6",
            "gridcolor": "white",
            "gridwidth": 2,
            "linecolor": "white",
            "showbackground": true,
            "ticks": "",
            "zerolinecolor": "white"
           },
           "zaxis": {
            "backgroundcolor": "#E5ECF6",
            "gridcolor": "white",
            "gridwidth": 2,
            "linecolor": "white",
            "showbackground": true,
            "ticks": "",
            "zerolinecolor": "white"
           }
          },
          "shapedefaults": {
           "line": {
            "color": "#2a3f5f"
           }
          },
          "ternary": {
           "aaxis": {
            "gridcolor": "white",
            "linecolor": "white",
            "ticks": ""
           },
           "baxis": {
            "gridcolor": "white",
            "linecolor": "white",
            "ticks": ""
           },
           "bgcolor": "#E5ECF6",
           "caxis": {
            "gridcolor": "white",
            "linecolor": "white",
            "ticks": ""
           }
          },
          "title": {
           "x": 0.05
          },
          "xaxis": {
           "automargin": true,
           "gridcolor": "white",
           "linecolor": "white",
           "ticks": "",
           "title": {
            "standoff": 15
           },
           "zerolinecolor": "white",
           "zerolinewidth": 2
          },
          "yaxis": {
           "automargin": true,
           "gridcolor": "white",
           "linecolor": "white",
           "ticks": "",
           "title": {
            "standoff": 15
           },
           "zerolinecolor": "white",
           "zerolinewidth": 2
          }
         }
        },
        "xaxis": {
         "title": {
          "text": "Character Order"
         }
        },
        "yaxis": {
         "range": [
          0,
          0.02
         ],
         "title": {
          "text": "Slope Change Magnitude"
         }
        }
       }
      }
     },
     "metadata": {},
     "output_type": "display_data"
    }
   ],
   "source": [
    "# Création du bar chart interactif avec sous-graphiques\n",
    "fig = go.Figure()\n",
    "\n",
    "# Tracé pour avg magnitude slope change avec erreur\n",
    "fig.add_trace(go.Bar(\n",
    "    x=slope_change_mean_se_df.index,\n",
    "    y=slope_change_mean_se_df['abs_mean_slope_change'],\n",
    "    name='Avg Magnitude Slope Change',\n",
    "    marker_color='orange',\n",
    "    error_y=dict(\n",
    "        type='data',\n",
    "        array=slope_change_mean_se_df['abs_slope_change_se'],\n",
    "        visible=True\n",
    "    )\n",
    "))\n",
    "\n",
    "# Set the y-axis range\n",
    "y_range = [0, 0.02]\n",
    "\n",
    "# Mise en forme du tracé\n",
    "fig.update_layout(\n",
    "    xaxis=dict(title='Character Order'),\n",
    "    yaxis=dict(title='Slope Change Magnitude', range=y_range),\n",
    "    barmode='stack'\n",
    ")\n",
    "\n",
    "fig.show()"
   ]
  },
  {
   "cell_type": "code",
   "execution_count": null,
   "metadata": {},
   "outputs": [],
   "source": []
  }
 ],
 "metadata": {
  "kernelspec": {
   "display_name": "ada",
   "language": "python",
   "name": "python3"
  },
  "language_info": {
   "codemirror_mode": {
    "name": "ipython",
    "version": 3
   },
   "file_extension": ".py",
   "mimetype": "text/x-python",
   "name": "python",
   "nbconvert_exporter": "python",
   "pygments_lexer": "ipython3",
   "version": "3.9.18"
  }
 },
 "nbformat": 4,
 "nbformat_minor": 2
}
