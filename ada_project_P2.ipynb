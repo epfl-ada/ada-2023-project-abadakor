{
 "cells": [
  {
   "cell_type": "code",
   "execution_count": 30,
   "metadata": {},
   "outputs": [],
   "source": [
    "import pandas as pd\n",
    "import os\n",
    "import matplotlib.pyplot as plt"
   ]
  },
  {
   "cell_type": "code",
   "execution_count": 31,
   "metadata": {},
   "outputs": [],
   "source": [
    "# pd.set_option('display.max_columns', None)  # Display all columns without truncation."
   ]
  },
  {
   "cell_type": "markdown",
   "metadata": {},
   "source": [
    "# Import processed data"
   ]
  },
  {
   "cell_type": "code",
   "execution_count": 32,
   "metadata": {},
   "outputs": [
    {
     "name": "stdout",
     "output_type": "stream",
     "text": [
      "Is the indexing unique in movie_df ? True\n",
      "Is the indexing unique in character_df ? True\n",
      "Is the indexing unique in name_by_movie_df ? True\n"
     ]
    },
    {
     "ename": "KeyError",
     "evalue": "\"None of ['name'] are in the columns\"",
     "output_type": "error",
     "traceback": [
      "\u001b[1;31m---------------------------------------------------------------------------\u001b[0m",
      "\u001b[1;31mKeyError\u001b[0m                                  Traceback (most recent call last)",
      "\u001b[1;32m~\\AppData\\Local\\Temp\\ipykernel_22060\\3484385007.py\u001b[0m in \u001b[0;36m?\u001b[1;34m()\u001b[0m\n\u001b[1;32m---> 19\u001b[1;33m \u001b[0mfolder_processed_data_path\u001b[0m \u001b[1;33m=\u001b[0m \u001b[1;34m'./data/processed_data/'\u001b[0m\u001b[1;33m\u001b[0m\u001b[1;33m\u001b[0m\u001b[0m\n\u001b[0m\u001b[0;32m     20\u001b[0m \u001b[1;33m\u001b[0m\u001b[0m\n\u001b[0;32m     21\u001b[0m \u001b[0mmovie_df\u001b[0m \u001b[1;33m=\u001b[0m \u001b[0mpd\u001b[0m\u001b[1;33m.\u001b[0m\u001b[0mread_csv\u001b[0m\u001b[1;33m(\u001b[0m\u001b[0mos\u001b[0m\u001b[1;33m.\u001b[0m\u001b[0mpath\u001b[0m\u001b[1;33m.\u001b[0m\u001b[0mjoin\u001b[0m\u001b[1;33m(\u001b[0m\u001b[0mfolder_processed_data_path\u001b[0m\u001b[1;33m,\u001b[0m \u001b[1;34m'movie_df.csv'\u001b[0m\u001b[1;33m)\u001b[0m\u001b[1;33m)\u001b[0m\u001b[1;33m\u001b[0m\u001b[1;33m\u001b[0m\u001b[0m\n\u001b[0;32m     22\u001b[0m \u001b[0mmovie_df\u001b[0m\u001b[1;33m.\u001b[0m\u001b[0mset_index\u001b[0m\u001b[1;33m(\u001b[0m\u001b[1;33m[\u001b[0m\u001b[1;34m'wiki_ID'\u001b[0m\u001b[1;33m]\u001b[0m\u001b[1;33m,\u001b[0m \u001b[0minplace\u001b[0m\u001b[1;33m=\u001b[0m\u001b[1;32mTrue\u001b[0m\u001b[1;33m)\u001b[0m\u001b[1;33m\u001b[0m\u001b[1;33m\u001b[0m\u001b[0m\n",
      "\u001b[1;32mc:\\Users\\m_the\\anaconda3\\envs\\ada\\lib\\site-packages\\pandas\\core\\frame.py\u001b[0m in \u001b[0;36m?\u001b[1;34m(self, keys, drop, append, inplace, verify_integrity)\u001b[0m\n\u001b[0;32m   5855\u001b[0m                     \u001b[1;32mif\u001b[0m \u001b[1;32mnot\u001b[0m \u001b[0mfound\u001b[0m\u001b[1;33m:\u001b[0m\u001b[1;33m\u001b[0m\u001b[1;33m\u001b[0m\u001b[0m\n\u001b[0;32m   5856\u001b[0m                         \u001b[0mmissing\u001b[0m\u001b[1;33m.\u001b[0m\u001b[0mappend\u001b[0m\u001b[1;33m(\u001b[0m\u001b[0mcol\u001b[0m\u001b[1;33m)\u001b[0m\u001b[1;33m\u001b[0m\u001b[1;33m\u001b[0m\u001b[0m\n\u001b[0;32m   5857\u001b[0m \u001b[1;33m\u001b[0m\u001b[0m\n\u001b[0;32m   5858\u001b[0m         \u001b[1;32mif\u001b[0m \u001b[0mmissing\u001b[0m\u001b[1;33m:\u001b[0m\u001b[1;33m\u001b[0m\u001b[1;33m\u001b[0m\u001b[0m\n\u001b[1;32m-> 5859\u001b[1;33m             \u001b[1;32mraise\u001b[0m \u001b[0mKeyError\u001b[0m\u001b[1;33m(\u001b[0m\u001b[1;34mf\"None of {missing} are in the columns\"\u001b[0m\u001b[1;33m)\u001b[0m\u001b[1;33m\u001b[0m\u001b[1;33m\u001b[0m\u001b[0m\n\u001b[0m\u001b[0;32m   5860\u001b[0m \u001b[1;33m\u001b[0m\u001b[0m\n\u001b[0;32m   5861\u001b[0m         \u001b[1;32mif\u001b[0m \u001b[0minplace\u001b[0m\u001b[1;33m:\u001b[0m\u001b[1;33m\u001b[0m\u001b[1;33m\u001b[0m\u001b[0m\n\u001b[0;32m   5862\u001b[0m             \u001b[0mframe\u001b[0m \u001b[1;33m=\u001b[0m \u001b[0mself\u001b[0m\u001b[1;33m\u001b[0m\u001b[1;33m\u001b[0m\u001b[0m\n",
      "\u001b[1;31mKeyError\u001b[0m: \"None of ['name'] are in the columns\""
     ]
    }
   ],
   "source": [
    "folder_processed_data_path = './data/processed_data/'\n",
    "\n",
    "movie_df = pd.read_csv(os.path.join(folder_processed_data_path, 'movie_df.csv'))\n",
    "movie_df.set_index(['wiki_ID'], inplace=True)\n",
    "# Verify the indexes are unique\n",
    "print(f\"Is the indexing unique in movie_df ? {movie_df.index.is_unique}\")\n",
    "\n",
    "character_df = pd.read_csv(os.path.join(folder_processed_data_path, 'character_df.csv'))\n",
    "character_df.set_index(['wiki_ID', 'char_name'], inplace=True)\n",
    "# Verify the indexes are unique\n",
    "print(f\"Is the indexing unique in character_df ? {character_df.index.is_unique}\")\n",
    "\n",
    "name_by_movie_df = pd.read_csv(os.path.join(folder_processed_data_path, 'name_by_movie_df.csv'))\n",
    "name_by_movie_df.set_index(['wiki_ID', 'char_words'], inplace=True)\n",
    "# Verify the indexes are unique\n",
    "print(f\"Is the indexing unique in name_by_movie_df ? {name_by_movie_df.index.is_unique}\")\n",
    "\n",
    "baby_name_df = pd.read_csv(os.path.join(folder_processed_data_path, 'baby_name_df.csv'))\n",
    "baby_name_df.set_index(['name', 'year'], inplace=True)\n",
    "# Verify the indexes are unique\n",
    "print(f\"Is the indexing unique in baby_name_df ? {baby_name_df.index.is_unique}\")\n",
    "\n",
    "print(\"movie_df :\")\n",
    "display(movie_df.head())\n",
    "print(\"character_df :\")\n",
    "display(character_df.head())\n",
    "print(\"name_by_movie_df :\")\n",
    "display(name_by_movie_df.head())\n",
    "print(\"baby_name_df :\")\n",
    "display(baby_name_df.head())"
   ]
  },
  {
   "cell_type": "markdown",
   "metadata": {},
   "source": [
    "### Lets check the data for a specific popular movie"
   ]
  },
  {
   "cell_type": "markdown",
   "metadata": {},
   "source": [
    "chosen movie : The Shawshank Redemption"
   ]
  },
  {
   "cell_type": "code",
   "execution_count": null,
   "metadata": {},
   "outputs": [
    {
     "name": "stdout",
     "output_type": "stream",
     "text": [
      "30625\n",
      "['Captain' 'Andy' 'Brooks' 'Tommy' 'Boyd' 'Ellis' 'Warden' 'Norton'\n",
      " 'Ernie' 'Diamond' 'Hadley' 'Floyd' 'Heywood' 'Redding' 'Skeet' 'Mert']\n"
     ]
    }
   ],
   "source": [
    "chosen_movie = 'The Shawshank Redemption'\n",
    "chosen_movie_ID = movie_df.query('mov_name == @chosen_movie').index.values[0]\n",
    "print(chosen_movie_ID)\n",
    "chosen_movie_names = name_by_movie_df.loc[chosen_movie_ID].index.values\n",
    "print(chosen_movie_names)"
   ]
  },
  {
   "cell_type": "code",
   "execution_count": null,
   "metadata": {},
   "outputs": [
    {
     "data": {
      "text/html": [
       "<div>\n",
       "<style scoped>\n",
       "    .dataframe tbody tr th:only-of-type {\n",
       "        vertical-align: middle;\n",
       "    }\n",
       "\n",
       "    .dataframe tbody tr th {\n",
       "        vertical-align: top;\n",
       "    }\n",
       "\n",
       "    .dataframe thead th {\n",
       "        text-align: right;\n",
       "    }\n",
       "</style>\n",
       "<table border=\"1\" class=\"dataframe\">\n",
       "  <thead>\n",
       "    <tr style=\"text-align: right;\">\n",
       "      <th></th>\n",
       "      <th>number</th>\n",
       "    </tr>\n",
       "    <tr>\n",
       "      <th>year</th>\n",
       "      <th></th>\n",
       "    </tr>\n",
       "  </thead>\n",
       "  <tbody>\n",
       "    <tr>\n",
       "      <th>1880</th>\n",
       "      <td>58</td>\n",
       "    </tr>\n",
       "    <tr>\n",
       "      <th>1881</th>\n",
       "      <td>58</td>\n",
       "    </tr>\n",
       "    <tr>\n",
       "      <th>1882</th>\n",
       "      <td>51</td>\n",
       "    </tr>\n",
       "    <tr>\n",
       "      <th>1883</th>\n",
       "      <td>43</td>\n",
       "    </tr>\n",
       "    <tr>\n",
       "      <th>1884</th>\n",
       "      <td>55</td>\n",
       "    </tr>\n",
       "    <tr>\n",
       "      <th>...</th>\n",
       "      <td>...</td>\n",
       "    </tr>\n",
       "    <tr>\n",
       "      <th>2018</th>\n",
       "      <td>917</td>\n",
       "    </tr>\n",
       "    <tr>\n",
       "      <th>2019</th>\n",
       "      <td>879</td>\n",
       "    </tr>\n",
       "    <tr>\n",
       "      <th>2020</th>\n",
       "      <td>775</td>\n",
       "    </tr>\n",
       "    <tr>\n",
       "      <th>2021</th>\n",
       "      <td>663</td>\n",
       "    </tr>\n",
       "    <tr>\n",
       "      <th>2022</th>\n",
       "      <td>723</td>\n",
       "    </tr>\n",
       "  </tbody>\n",
       "</table>\n",
       "<p>143 rows × 1 columns</p>\n",
       "</div>"
      ],
      "text/plain": [
       "      number\n",
       "year        \n",
       "1880      58\n",
       "1881      58\n",
       "1882      51\n",
       "1883      43\n",
       "1884      55\n",
       "...      ...\n",
       "2018     917\n",
       "2019     879\n",
       "2020     775\n",
       "2021     663\n",
       "2022     723\n",
       "\n",
       "[143 rows x 1 columns]"
      ]
     },
     "metadata": {},
     "output_type": "display_data"
    },
    {
     "name": "stdout",
     "output_type": "stream",
     "text": [
      "type(baby_name_df.loc[chosen_name_index]) = <class 'pandas.core.frame.DataFrame'>\n",
      "year\n",
      "1880     58\n",
      "1881     58\n",
      "1882     51\n",
      "1883     43\n",
      "1884     55\n",
      "       ... \n",
      "2018    917\n",
      "2019    879\n",
      "2020    775\n",
      "2021    663\n",
      "2022    723\n",
      "Name: number, Length: 143, dtype: int64\n"
     ]
    }
   ],
   "source": [
    "chosen_name_index = chosen_movie_names[1]\n",
    "display(baby_name_df.loc[chosen_name_index])\n",
    "print(f\"type(baby_name_df.loc[chosen_name_index]) = {type(baby_name_df.loc[chosen_name_index])}\")\n",
    "print(baby_name_df.loc[chosen_name_index]['number'])"
   ]
  },
  {
   "cell_type": "code",
   "execution_count": 33,
   "metadata": {},
   "outputs": [
    {
     "ename": "KeyError",
     "evalue": "'Andy'",
     "output_type": "error",
     "traceback": [
      "\u001b[1;31m---------------------------------------------------------------------------\u001b[0m",
      "\u001b[1;31mKeyError\u001b[0m                                  Traceback (most recent call last)",
      "\u001b[1;32mc:\\Users\\m_the\\OneDrive\\Documents\\MA3\\ADA\\Projet\\ada-2023-project-abadakor\\ada_project_P2.ipynb Cell 9\u001b[0m line \u001b[0;36m1\n\u001b[1;32m----> <a href='vscode-notebook-cell:/c%3A/Users/m_the/OneDrive/Documents/MA3/ADA/Projet/ada-2023-project-abadakor/ada_project_P2.ipynb#X41sZmlsZQ%3D%3D?line=0'>1</a>\u001b[0m y_values \u001b[39m=\u001b[39m baby_name_df\u001b[39m.\u001b[39;49mloc[chosen_name_index][\u001b[39m'\u001b[39m\u001b[39mpercentage\u001b[39m\u001b[39m'\u001b[39m]\u001b[39m.\u001b[39mvalues\n\u001b[0;32m      <a href='vscode-notebook-cell:/c%3A/Users/m_the/OneDrive/Documents/MA3/ADA/Projet/ada-2023-project-abadakor/ada_project_P2.ipynb#X41sZmlsZQ%3D%3D?line=1'>2</a>\u001b[0m x_values \u001b[39m=\u001b[39m baby_name_df\u001b[39m.\u001b[39mloc[chosen_name_index]\u001b[39m.\u001b[39mindex\u001b[39m.\u001b[39mvalues\n\u001b[0;32m      <a href='vscode-notebook-cell:/c%3A/Users/m_the/OneDrive/Documents/MA3/ADA/Projet/ada-2023-project-abadakor/ada_project_P2.ipynb#X41sZmlsZQ%3D%3D?line=3'>4</a>\u001b[0m x_values \u001b[39m=\u001b[39m x_values[\u001b[39m100\u001b[39m:]\n",
      "File \u001b[1;32mc:\\Users\\m_the\\anaconda3\\envs\\ada\\lib\\site-packages\\pandas\\core\\indexing.py:1103\u001b[0m, in \u001b[0;36m_LocationIndexer.__getitem__\u001b[1;34m(self, key)\u001b[0m\n\u001b[0;32m   1100\u001b[0m axis \u001b[39m=\u001b[39m \u001b[39mself\u001b[39m\u001b[39m.\u001b[39maxis \u001b[39mor\u001b[39;00m \u001b[39m0\u001b[39m\n\u001b[0;32m   1102\u001b[0m maybe_callable \u001b[39m=\u001b[39m com\u001b[39m.\u001b[39mapply_if_callable(key, \u001b[39mself\u001b[39m\u001b[39m.\u001b[39mobj)\n\u001b[1;32m-> 1103\u001b[0m \u001b[39mreturn\u001b[39;00m \u001b[39mself\u001b[39;49m\u001b[39m.\u001b[39;49m_getitem_axis(maybe_callable, axis\u001b[39m=\u001b[39;49maxis)\n",
      "File \u001b[1;32mc:\\Users\\m_the\\anaconda3\\envs\\ada\\lib\\site-packages\\pandas\\core\\indexing.py:1343\u001b[0m, in \u001b[0;36m_LocIndexer._getitem_axis\u001b[1;34m(self, key, axis)\u001b[0m\n\u001b[0;32m   1341\u001b[0m \u001b[39m# fall thru to straight lookup\u001b[39;00m\n\u001b[0;32m   1342\u001b[0m \u001b[39mself\u001b[39m\u001b[39m.\u001b[39m_validate_key(key, axis)\n\u001b[1;32m-> 1343\u001b[0m \u001b[39mreturn\u001b[39;00m \u001b[39mself\u001b[39;49m\u001b[39m.\u001b[39;49m_get_label(key, axis\u001b[39m=\u001b[39;49maxis)\n",
      "File \u001b[1;32mc:\\Users\\m_the\\anaconda3\\envs\\ada\\lib\\site-packages\\pandas\\core\\indexing.py:1293\u001b[0m, in \u001b[0;36m_LocIndexer._get_label\u001b[1;34m(self, label, axis)\u001b[0m\n\u001b[0;32m   1291\u001b[0m \u001b[39mdef\u001b[39;00m \u001b[39m_get_label\u001b[39m(\u001b[39mself\u001b[39m, label, axis: AxisInt):\n\u001b[0;32m   1292\u001b[0m     \u001b[39m# GH#5567 this will fail if the label is not present in the axis.\u001b[39;00m\n\u001b[1;32m-> 1293\u001b[0m     \u001b[39mreturn\u001b[39;00m \u001b[39mself\u001b[39;49m\u001b[39m.\u001b[39;49mobj\u001b[39m.\u001b[39;49mxs(label, axis\u001b[39m=\u001b[39;49maxis)\n",
      "File \u001b[1;32mc:\\Users\\m_the\\anaconda3\\envs\\ada\\lib\\site-packages\\pandas\\core\\generic.py:4095\u001b[0m, in \u001b[0;36mNDFrame.xs\u001b[1;34m(self, key, axis, level, drop_level)\u001b[0m\n\u001b[0;32m   4093\u001b[0m             new_index \u001b[39m=\u001b[39m index[loc]\n\u001b[0;32m   4094\u001b[0m \u001b[39melse\u001b[39;00m:\n\u001b[1;32m-> 4095\u001b[0m     loc \u001b[39m=\u001b[39m index\u001b[39m.\u001b[39;49mget_loc(key)\n\u001b[0;32m   4097\u001b[0m     \u001b[39mif\u001b[39;00m \u001b[39misinstance\u001b[39m(loc, np\u001b[39m.\u001b[39mndarray):\n\u001b[0;32m   4098\u001b[0m         \u001b[39mif\u001b[39;00m loc\u001b[39m.\u001b[39mdtype \u001b[39m==\u001b[39m np\u001b[39m.\u001b[39mbool_:\n",
      "File \u001b[1;32mc:\\Users\\m_the\\anaconda3\\envs\\ada\\lib\\site-packages\\pandas\\core\\indexes\\range.py:349\u001b[0m, in \u001b[0;36mRangeIndex.get_loc\u001b[1;34m(self, key)\u001b[0m\n\u001b[0;32m    347\u001b[0m         \u001b[39mraise\u001b[39;00m \u001b[39mKeyError\u001b[39;00m(key) \u001b[39mfrom\u001b[39;00m \u001b[39merr\u001b[39;00m\n\u001b[0;32m    348\u001b[0m \u001b[39mif\u001b[39;00m \u001b[39misinstance\u001b[39m(key, Hashable):\n\u001b[1;32m--> 349\u001b[0m     \u001b[39mraise\u001b[39;00m \u001b[39mKeyError\u001b[39;00m(key)\n\u001b[0;32m    350\u001b[0m \u001b[39mself\u001b[39m\u001b[39m.\u001b[39m_check_indexing_error(key)\n\u001b[0;32m    351\u001b[0m \u001b[39mraise\u001b[39;00m \u001b[39mKeyError\u001b[39;00m(key)\n",
      "\u001b[1;31mKeyError\u001b[0m: 'Andy'"
     ]
    }
   ],
   "source": [
    "y_values = baby_name_df.loc[chosen_name_index]['percentage'].values\n",
    "x_values = baby_name_df.loc[chosen_name_index].index.values\n",
    "\n",
    "x_values = x_values[100:]\n",
    "y_values = y_values[100:]\n",
    "\n",
    "plt.plot(x_values, y_values)\n",
    "\n",
    "# Plot the values in the specified column\n",
    "# baby_name_df.loc[chosen_name_index]['number'].plot(kind='line')  # You can replace 'line' with other plot types like 'bar', 'hist', etc.\n",
    "\n",
    "release_date = movie_df.loc[chosen_movie_ID]['release']\n",
    "print(release_date)\n",
    "\n",
    "# Display the plot\n",
    "plt.title(f'Plot of Andy name')\n",
    "plt.xlabel('years')  # Assuming the x-axis represents the index of the DataFrame\n",
    "plt.ylabel('number of babies')\n",
    "vertical_line_x = 1994  # Replace with your desired x-value\n",
    "plt.axvline(x=vertical_line_x, color='red', linestyle='--', label='Vertical Line')\n",
    "plt.show()"
   ]
  },
  {
   "cell_type": "markdown",
   "metadata": {},
   "source": [
    "# Useless I think"
   ]
  },
  {
   "cell_type": "markdown",
   "metadata": {},
   "source": [
    "### Plot Summaries Data :\n"
   ]
  },
  {
   "cell_type": "code",
   "execution_count": null,
   "metadata": {},
   "outputs": [],
   "source": [
    "# import data\n",
    "plot_summaries_path = 'MovieSummaries\\\\plot_summaries.txt'\n",
    "plot_summaries_data = pd.read_csv(plot_summaries_path, sep='\\t', header=None)"
   ]
  },
  {
   "cell_type": "code",
   "execution_count": null,
   "metadata": {},
   "outputs": [],
   "source": [
    "# add column names deduced from README\n",
    "plot_summaries_data.columns = ['wiki_ID', 'summary']\n",
    "\n",
    "display(plot_summaries_data.head())"
   ]
  },
  {
   "cell_type": "markdown",
   "metadata": {},
   "source": [
    "### Core NLP Summaries data"
   ]
  },
  {
   "cell_type": "code",
   "execution_count": null,
   "metadata": {},
   "outputs": [],
   "source": [
    "import os\n",
    "import gzip\n",
    "import xml.etree.ElementTree as ET\n",
    "\n",
    "# Specify the folder containing the compressed .gz files\n",
    "folder_path = './MovieSummaries/corenlp_plot_summaries/'\n",
    "\n",
    "# Create a list to store the parsed XML data\n",
    "xml_data = []\n",
    "\n",
    "for file_name in os.listdir(folder_path):\n",
    "    if file_name.endswith('.gz'):\n",
    "        gz_file_path = os.path.join(folder_path, file_name)\n",
    "        with gzip.open(gz_file_path, 'rt') as xml_file:\n",
    "            xml_content = xml_file.read()\n",
    "            root = ET.fromstring(xml_content)\n",
    "            xml_data.append(root)\n",
    "\n",
    "# Now you should have the parsed XML data in the `xml_data` list\n"
   ]
  },
  {
   "cell_type": "code",
   "execution_count": null,
   "metadata": {},
   "outputs": [],
   "source": [
    "import os\n",
    "import gzip\n",
    "import xml.etree.ElementTree as ET\n",
    "\n",
    "# Specify the folder containing the compressed .gz files\n",
    "folder_path = './MovieSummaries/corenlp_plot_summaries/'\n",
    "\n",
    "# Create a list to store the parsed XML data\n",
    "xml_data = []\n",
    "\n",
    "for file_name in os.listdir(folder_path):\n",
    "    print(f\"file_name = {file_name}\")\n",
    "    if file_name.endswith('.gz'):\n",
    "        gz_file_path = os.path.join(folder_path, file_name)\n",
    "        with gzip.open(gz_file_path, 'rt') as xml_file:\n",
    "            xml_content = xml_file.read()\n",
    "            root = ET.fromstring(xml_content)\n",
    "            xml_data.append(root)\n",
    "\n",
    "# Combine all the parsed XML data into a single XML element\n",
    "combined_root = ET.Element(\"root\")  # Create a new root element\n",
    "\n",
    "for xml_element in xml_data:\n",
    "    combined_root.append(xml_element)\n",
    "\n",
    "# Create an ElementTree from the combined XML data\n",
    "combined_tree = ET.ElementTree(combined_root)\n",
    "\n",
    "# Define the output file path for the combined XML\n",
    "output_xml_file = 'combined_data.xml'\n",
    "\n",
    "# Write the combined XML data to the output file\n",
    "combined_tree.write(output_xml_file)\n",
    "\n",
    "print(f\"Combined XML data saved to {output_xml_file}\")"
   ]
  },
  {
   "cell_type": "markdown",
   "metadata": {},
   "source": [
    "### Character Metadata :\n"
   ]
  },
  {
   "cell_type": "code",
   "execution_count": null,
   "metadata": {},
   "outputs": [],
   "source": [
    "# import data\n",
    "character_metadata_path = 'MovieSummaries\\\\character.metadata.tsv'\n",
    "character_metadata_data = pd.read_csv(character_metadata_path, sep='\\t', header=None)"
   ]
  },
  {
   "cell_type": "code",
   "execution_count": null,
   "metadata": {},
   "outputs": [],
   "source": [
    "# add column names deduced from README\n",
    "character_metadata_data.columns = ['wiki_ID', 'free_ID', 'release', 'char_name', 'DOB', 'gender', 'height', 'ethnicity', 'act_name', 'age_at_release', 'free_char_map1', 'free_char_map2', 'free_char_map3']\n",
    "\n",
    "display(character_metadata_data.head())"
   ]
  },
  {
   "cell_type": "markdown",
   "metadata": {},
   "source": [
    "### Movie Metadata :\n"
   ]
  },
  {
   "cell_type": "code",
   "execution_count": null,
   "metadata": {},
   "outputs": [],
   "source": [
    "# import data\n",
    "movie_metadata_path = 'MovieSummaries\\\\movie.metadata.tsv'\n",
    "movie_metadata_data = pd.read_csv(movie_metadata_path, sep='\\t', header=None)"
   ]
  },
  {
   "cell_type": "code",
   "execution_count": null,
   "metadata": {},
   "outputs": [],
   "source": [
    "# add column names deduced from README\n",
    "movie_metadata_data.columns = ['wiki_ID', 'free_ID', 'mov_name', 'release', 'revenue', 'runtime', 'languages', 'countries', 'genres']\n",
    "\n",
    "display(movie_metadata_data.head())"
   ]
  },
  {
   "cell_type": "markdown",
   "metadata": {},
   "source": [
    "### Name Clusters Test Data:\n"
   ]
  },
  {
   "cell_type": "code",
   "execution_count": null,
   "metadata": {},
   "outputs": [],
   "source": [
    "# import data\n",
    "name_clusters_path = 'MovieSummaries\\\\name.clusters.txt'\n",
    "name_clusters_data = pd.read_csv(name_clusters_path, sep='\\t', header=None)"
   ]
  },
  {
   "cell_type": "code",
   "execution_count": null,
   "metadata": {},
   "outputs": [],
   "source": [
    "display(name_clusters_data.head())"
   ]
  },
  {
   "cell_type": "markdown",
   "metadata": {},
   "source": [
    "### TVTropes Clusters Test Data:\n"
   ]
  },
  {
   "cell_type": "code",
   "execution_count": null,
   "metadata": {},
   "outputs": [],
   "source": [
    "# import data\n",
    "tvtropes_clusters_path = 'MovieSummaries\\\\tvtropes.clusters.txt'\n",
    "tvtropes_clusters_data = pd.read_csv(tvtropes_clusters_path, sep='\\t', header=None)"
   ]
  },
  {
   "cell_type": "code",
   "execution_count": null,
   "metadata": {},
   "outputs": [],
   "source": [
    "display(tvtropes_clusters_data.head())"
   ]
  },
  {
   "cell_type": "code",
   "execution_count": null,
   "metadata": {},
   "outputs": [],
   "source": []
  },
  {
   "cell_type": "code",
   "execution_count": null,
   "metadata": {},
   "outputs": [],
   "source": []
  }
 ],
 "metadata": {
  "kernelspec": {
   "display_name": "ada",
   "language": "python",
   "name": "python3"
  },
  "language_info": {
   "codemirror_mode": {
    "name": "ipython",
    "version": 3
   },
   "file_extension": ".py",
   "mimetype": "text/x-python",
   "name": "python",
   "nbconvert_exporter": "python",
   "pygments_lexer": "ipython3",
   "version": "3.9.18"
  }
 },
 "nbformat": 4,
 "nbformat_minor": 2
}
