{
 "cells": [
  {
   "cell_type": "code",
   "execution_count": null,
   "metadata": {},
   "outputs": [],
   "source": [
    "import pandas as pd\n",
    "from IPython.display import display"
   ]
  },
  {
   "cell_type": "code",
   "execution_count": null,
   "metadata": {},
   "outputs": [],
   "source": [
    "pd.set_option('display.max_columns', None)  # Display all columns without truncation."
   ]
  },
  {
   "cell_type": "markdown",
   "metadata": {},
   "source": [
    "### Plot Summaries Data :\n"
   ]
  },
  {
   "cell_type": "code",
   "execution_count": null,
   "metadata": {},
   "outputs": [],
   "source": [
    "# import data\n",
    "plot_summaries_path = 'MovieSummaries\\\\plot_summaries.txt'\n",
    "plot_summaries_data = pd.read_csv(plot_summaries_path, sep='\\t', header=None)"
   ]
  },
  {
   "cell_type": "code",
   "execution_count": null,
   "metadata": {},
   "outputs": [],
   "source": [
    "# add column names deduced from README\n",
    "plot_summaries_data.columns = ['wiki_ID', 'summary']\n",
    "\n",
    "display(plot_summaries_data.head())"
   ]
  },
  {
   "cell_type": "markdown",
   "metadata": {},
   "source": [
    "### Core NLP Summaries data"
   ]
  },
  {
   "cell_type": "code",
   "execution_count": null,
   "metadata": {},
   "outputs": [],
   "source": [
    "import os\n",
    "import gzip\n",
    "import xml.etree.ElementTree as ET\n",
    "\n",
    "# Specify the folder containing the compressed .gz files\n",
    "folder_path = './MovieSummaries/corenlp_plot_summaries/'\n",
    "\n",
    "# Create a list to store the parsed XML data\n",
    "xml_data = []\n",
    "\n",
    "for file_name in os.listdir(folder_path):\n",
    "    if file_name.endswith('.gz'):\n",
    "        gz_file_path = os.path.join(folder_path, file_name)\n",
    "        with gzip.open(gz_file_path, 'rt') as xml_file:\n",
    "            xml_content = xml_file.read()\n",
    "            root = ET.fromstring(xml_content)\n",
    "            xml_data.append(root)\n",
    "\n",
    "# Now you should have the parsed XML data in the `xml_data` list\n"
   ]
  },
  {
   "cell_type": "code",
   "execution_count": null,
   "metadata": {},
   "outputs": [],
   "source": [
    "import os\n",
    "import gzip\n",
    "import xml.etree.ElementTree as ET\n",
    "\n",
    "# Specify the folder containing the compressed .gz files\n",
    "folder_path = './MovieSummaries/corenlp_plot_summaries/'\n",
    "\n",
    "# Create a list to store the parsed XML data\n",
    "xml_data = []\n",
    "\n",
    "for file_name in os.listdir(folder_path):\n",
    "    print(f\"file_name = {file_name}\")\n",
    "    if file_name.endswith('.gz'):\n",
    "        gz_file_path = os.path.join(folder_path, file_name)\n",
    "        with gzip.open(gz_file_path, 'rt') as xml_file:\n",
    "            xml_content = xml_file.read()\n",
    "            root = ET.fromstring(xml_content)\n",
    "            xml_data.append(root)\n",
    "\n",
    "# Combine all the parsed XML data into a single XML element\n",
    "combined_root = ET.Element(\"root\")  # Create a new root element\n",
    "\n",
    "for xml_element in xml_data:\n",
    "    combined_root.append(xml_element)\n",
    "\n",
    "# Create an ElementTree from the combined XML data\n",
    "combined_tree = ET.ElementTree(combined_root)\n",
    "\n",
    "# Define the output file path for the combined XML\n",
    "output_xml_file = 'combined_data.xml'\n",
    "\n",
    "# Write the combined XML data to the output file\n",
    "combined_tree.write(output_xml_file)\n",
    "\n",
    "print(f\"Combined XML data saved to {output_xml_file}\")"
   ]
  },
  {
   "cell_type": "markdown",
   "metadata": {},
   "source": [
    "### Character Metadata :\n"
   ]
  },
  {
   "cell_type": "code",
   "execution_count": null,
   "metadata": {},
   "outputs": [],
   "source": [
    "# import data\n",
    "character_metadata_path = 'MovieSummaries\\\\character.metadata.tsv'\n",
    "character_metadata_data = pd.read_csv(character_metadata_path, sep='\\t', header=None)"
   ]
  },
  {
   "cell_type": "code",
   "execution_count": null,
   "metadata": {},
   "outputs": [],
   "source": [
    "# add column names deduced from README\n",
    "character_metadata_data.columns = ['wiki_ID', 'free_ID', 'release', 'char_name', 'DOB', 'gender', 'height', 'ethnicity', 'act_name', 'age_at_release', 'free_char_map1', 'free_char_map2', 'free_char_map3']\n",
    "\n",
    "display(character_metadata_data.head())"
   ]
  },
  {
   "cell_type": "markdown",
   "metadata": {},
   "source": [
    "### Movie Metadata :\n"
   ]
  },
  {
   "cell_type": "code",
   "execution_count": null,
   "metadata": {},
   "outputs": [],
   "source": [
    "# import data\n",
    "movie_metadata_path = 'MovieSummaries\\\\movie.metadata.tsv'\n",
    "movie_metadata_data = pd.read_csv(movie_metadata_path, sep='\\t', header=None)"
   ]
  },
  {
   "cell_type": "code",
   "execution_count": null,
   "metadata": {},
   "outputs": [],
   "source": [
    "# add column names deduced from README\n",
    "movie_metadata_data.columns = ['wiki_ID', 'free_ID', 'mov_name', 'release', 'revenue', 'runtime', 'languages', 'countries', 'genres']\n",
    "\n",
    "display(movie_metadata_data.head())"
   ]
  },
  {
   "cell_type": "markdown",
   "metadata": {},
   "source": [
    "### Name Clusters Test Data:\n"
   ]
  },
  {
   "cell_type": "code",
   "execution_count": null,
   "metadata": {},
   "outputs": [],
   "source": [
    "# import data\n",
    "name_clusters_path = 'MovieSummaries\\\\name.clusters.txt'\n",
    "name_clusters_data = pd.read_csv(name_clusters_path, sep='\\t', header=None)"
   ]
  },
  {
   "cell_type": "code",
   "execution_count": null,
   "metadata": {},
   "outputs": [],
   "source": [
    "display(name_clusters_data.head())"
   ]
  },
  {
   "cell_type": "markdown",
   "metadata": {},
   "source": [
    "### TVTropes Clusters Test Data:\n"
   ]
  },
  {
   "cell_type": "code",
   "execution_count": null,
   "metadata": {},
   "outputs": [],
   "source": [
    "# import data\n",
    "tvtropes_clusters_path = 'MovieSummaries\\\\tvtropes.clusters.txt'\n",
    "tvtropes_clusters_data = pd.read_csv(tvtropes_clusters_path, sep='\\t', header=None)"
   ]
  },
  {
   "cell_type": "code",
   "execution_count": null,
   "metadata": {},
   "outputs": [],
   "source": [
    "display(tvtropes_clusters_data.head())"
   ]
  },
  {
   "cell_type": "code",
   "execution_count": null,
   "metadata": {},
   "outputs": [],
   "source": []
  },
  {
   "cell_type": "code",
   "execution_count": null,
   "metadata": {},
   "outputs": [],
   "source": []
  }
 ],
 "metadata": {
  "kernelspec": {
   "display_name": "ada",
   "language": "python",
   "name": "python3"
  },
  "language_info": {
   "codemirror_mode": {
    "name": "ipython",
    "version": 3
   },
   "file_extension": ".py",
   "mimetype": "text/x-python",
   "name": "python",
   "nbconvert_exporter": "python",
   "pygments_lexer": "ipython3",
   "version": "3.9.18"
  }
 },
 "nbformat": 4,
 "nbformat_minor": 2
}
