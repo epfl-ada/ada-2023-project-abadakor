{
 "cells": [
  {
   "cell_type": "markdown",
   "metadata": {},
   "source": [
    "# Influence metric computation\n",
    "In this notebook, we carry out a t-test in order to assess the variation of the baby naming at the release of a movie."
   ]
  },
  {
   "cell_type": "code",
   "execution_count": null,
   "metadata": {},
   "outputs": [],
   "source": [
    "import pandas as pd\n",
    "import os\n",
    "import numpy as np\n",
    "import matplotlib.pyplot as plt\n",
    "import statsmodels.formula.api as smf\n",
    "from scipy import stats"
   ]
  },
  {
   "cell_type": "markdown",
   "metadata": {},
   "source": [
    "## 1. Methodology"
   ]
  },
  {
   "cell_type": "markdown",
   "metadata": {},
   "source": [
    "The computation is made as follows. First, we pick the 10 datapoints (10 years) before the movie release and we compute the difference between adjacent values to get the variation . It is done as follows :\n",
    "\n",
    "`difference = datapoints[1:] - datapoints[:-1]`\n",
    "\n",
    "Then we do the same for the 5 datapoints after the movie release. Finally a t-test is carried out between the two difference arrays.\n",
    "We keep the p-value which will tell us if the variation at the movie release is significant or not and the t-statistic which will indicate if the variation is positive or negative. We decided to chose a signifiance level of 0.1\n",
    "\n",
    "We first carry the computation on a single movie and a single name to be able to plot the data with regression lines to validate the methodology visually.\n",
    "\n",
    "The regression is then carried out for each of the character name in the name_by_movie_ordered_df dataframe by adding a column for the t-statistic value and the p-value."
   ]
  },
  {
   "cell_type": "markdown",
   "metadata": {},
   "source": [
    "## 2. Import processed data"
   ]
  },
  {
   "cell_type": "markdown",
   "metadata": {},
   "source": [
    "We need three dataframes present in the preprocessed folder.\n",
    "1. `movie_df` : to have the release date\n",
    "2. `name_by_movie_ordered_df` : to have the character name and their corresponding movies. The p-value and t-statistic will be added there.\n",
    "3. `baby_name_df` : to have the data on the baby name"
   ]
  },
  {
   "cell_type": "code",
   "execution_count": null,
   "metadata": {},
   "outputs": [],
   "source": [
    "folder_processed_data_path = './data/processed_data/'\n",
    "\n",
    "# import movie_df to get the release date\n",
    "movie_df = pd.read_csv(os.path.join(folder_processed_data_path, 'movie_df.csv'))\n",
    "movie_df.set_index(['wiki_ID'], inplace=True)\n",
    "\n",
    "# import name_by_movie_ordered_df to get the character name and their corresponding movies. \n",
    "name_by_movie_ordered_df = pd.read_csv(os.path.join(folder_processed_data_path, 'name_by_movie_ordered_df.csv'))\n",
    "\n",
    "baby_name_df = pd.read_csv(os.path.join(folder_processed_data_path, 'baby_name_df.csv'))\n",
    "\n",
    "print(\"movie_df :\")\n",
    "display(movie_df.head())\n",
    "print(\"name_by_movie_ordered_df :\")\n",
    "display(name_by_movie_ordered_df.head())\n",
    "print(\"baby_name_df :\")\n",
    "display(baby_name_df.head())"
   ]
  },
  {
   "cell_type": "markdown",
   "metadata": {},
   "source": [
    "## 3. Testing computation on a single movie, one character name\n",
    "### 3.1 Data setup\n",
    "Let's choose the famous movie \"Pulp Fiction\" and the character `Mia`"
   ]
  },
  {
   "cell_type": "code",
   "execution_count": null,
   "metadata": {},
   "outputs": [],
   "source": [
    "nb_year_after = 5\n",
    "nb_year_before = 10"
   ]
  },
  {
   "cell_type": "code",
   "execution_count": null,
   "metadata": {},
   "outputs": [],
   "source": [
    "# search the movie ID\n",
    "chosen_movie_name = \"Pulp Fiction\"\n",
    "movie_df.query(\"mov_name == @chosen_movie_name\")"
   ]
  },
  {
   "cell_type": "code",
   "execution_count": null,
   "metadata": {},
   "outputs": [],
   "source": [
    "chosen_name = 'Mia'\n",
    "chosen_movie_ID = 54173\n",
    "\n",
    "print(f\"The chosen character is {chosen_name} in the movie \\\"{movie_df.loc[chosen_movie_ID]['mov_name']}\\\" released in {movie_df.loc[chosen_movie_ID]['year']}\")"
   ]
  },
  {
   "cell_type": "code",
   "execution_count": null,
   "metadata": {},
   "outputs": [],
   "source": [
    "# filter the baby name dataframe to get only the data of \"Mia\" baby name\n",
    "chosen_baby_name_df = baby_name_df.query(\"name == @chosen_name\").sort_values(by=['year'])"
   ]
  },
  {
   "cell_type": "code",
   "execution_count": null,
   "metadata": {},
   "outputs": [],
   "source": [
    "# get the release date\n",
    "release_year = movie_df.loc[chosen_movie_ID]['year']\n",
    "print(f\"release year = {release_year}\")"
   ]
  },
  {
   "cell_type": "markdown",
   "metadata": {},
   "source": [
    "We select the range of years before and after the movie release coresponding to the baby name data, with the corresponding percentage of babies with this name:"
   ]
  },
  {
   "cell_type": "code",
   "execution_count": null,
   "metadata": {},
   "outputs": [],
   "source": [
    "before_df = chosen_baby_name_df[(chosen_baby_name_df.year >= release_year-nb_year_before) & (chosen_baby_name_df.year <= release_year-1)].reset_index()\n",
    "after_df = chosen_baby_name_df[(chosen_baby_name_df.year >= release_year) & (chosen_baby_name_df.year <= release_year+nb_year_after-1)].reset_index()\n",
    "display(before_df)\n",
    "display(after_df)"
   ]
  },
  {
   "cell_type": "markdown",
   "metadata": {},
   "source": [
    "Let's plot the curve and highlight the release date."
   ]
  },
  {
   "cell_type": "code",
   "execution_count": null,
   "metadata": {},
   "outputs": [],
   "source": [
    "union_before_after_df = pd.concat([before_df, after_df], ignore_index=True)\n",
    "\n",
    "x_values = union_before_after_df['year'].values\n",
    "y_values = union_before_after_df['percentage'].values\n",
    "\n",
    "# Create a scatter plot\n",
    "plt.plot(x_values, y_values)\n",
    "plt.xlabel('Years')\n",
    "plt.ylabel('Percentage of total births')\n",
    "plt.title(f'Given name {chosen_name} with the release of the movie {movie_df.loc[chosen_movie_ID].mov_name}')\n",
    "\n",
    "# Draw vertical lines for each movie release\n",
    "plt.axvline(x=release_year, color='r', linestyle='--', label=f'x={release_year}')\n",
    "plt.legend()\n",
    "\n",
    "plt.show()"
   ]
  },
  {
   "cell_type": "markdown",
   "metadata": {},
   "source": [
    "### 3.2 Compute regression\n",
    "Lets now carry out a linear regression on both side of the release date."
   ]
  },
  {
   "cell_type": "code",
   "execution_count": null,
   "metadata": {},
   "outputs": [],
   "source": [
    "# model before release\n",
    "mod_before = smf.ols(formula = 'percentage ~ year' , data = before_df)\n",
    "np.random.seed(2)\n",
    "res_before = mod_before.fit()\n",
    "\n",
    "coefficients_before = res_before.params.values\n",
    "beta_before = coefficients_before[1]\n",
    "intercept_before = coefficients_before[0]\n",
    "\n",
    "# model after release\n",
    "mod_after = smf.ols(formula = 'percentage ~ year' , data = after_df)\n",
    "res_after = mod_after.fit()\n",
    "\n",
    "coefficients_after = res_after.params.values\n",
    "beta_after = coefficients_after[1]\n",
    "intercept_after = coefficients_after[0]\n",
    "\n",
    "print(\"Before release : \")\n",
    "print(f\"   beta = {beta_before:.4f}, intercept = {intercept_before:.2f} \\n\")\n",
    "\n",
    "print(\"After release : \")\n",
    "print(f\"   beta = {beta_after:.4f}, intercept = {intercept_after:.2f}\")"
   ]
  },
  {
   "cell_type": "markdown",
   "metadata": {},
   "source": [
    "And plot the regression lines."
   ]
  },
  {
   "cell_type": "code",
   "execution_count": null,
   "metadata": {},
   "outputs": [],
   "source": [
    "union_before_after_df = pd.concat([before_df, after_df], ignore_index=True)\n",
    "\n",
    "x_values = union_before_after_df['year'].values\n",
    "y_values = union_before_after_df['percentage'].values\n",
    "\n",
    "# Create a scatter plot\n",
    "plt.plot(x_values, y_values)\n",
    "plt.xlabel('Years')\n",
    "plt.ylabel('Percentage of total births')\n",
    "plt.title(f'Given name {chosen_name} with the release of the movie {movie_df.loc[chosen_movie_ID].mov_name}')\n",
    "\n",
    "# Calculate y values for the regression lines\n",
    "reg_before = beta_before * x_values + intercept_before\n",
    "reg_after = beta_after * x_values + intercept_after\n",
    "# Plot the regression lines\n",
    "plt.plot(x_values, reg_before, label=f'Before (slope={beta_before:.4f}, intercept={intercept_before:.2f})', color='red')\n",
    "plt.plot(x_values, reg_after, label=f'After (slope={beta_after:.4f}, intercept={intercept_after:.2f})', color='blue')\n",
    "\n",
    "# Draw vertical lines for each movie release\n",
    "plt.axvline(x=release_year, color='r', linestyle='--', label=f'x={release_year}')\n",
    "plt.legend()\n",
    "\n",
    "plt.show()"
   ]
  },
  {
   "cell_type": "markdown",
   "metadata": {},
   "source": [
    "### 3.3 T-test\n",
    "Now we carry out a t-test on the two regression lines."
   ]
  },
  {
   "cell_type": "code",
   "execution_count": null,
   "metadata": {},
   "outputs": [],
   "source": [
    "before_diffs = before_df['percentage'][1:].values - before_df['percentage'][:-1]\n",
    "after_diffs = after_df['percentage'][1:].values - after_df['percentage'][:-1]\n",
    "\n",
    "# Comparing the slopes of the two regression models\n",
    "t_stat, p_value = stats.ttest_ind(before_diffs, after_diffs)\n",
    "\n",
    "print(\"T-statistic:\", t_stat)\n",
    "print(\"P-value:\",p_value)\n",
    "print(\"Slope change:\",after_diffs.mean()-before_diffs.mean())\n"
   ]
  },
  {
   "cell_type": "markdown",
   "metadata": {},
   "source": [
    "We have a p-value lower than 0.1, therefore the variation is signification with our significance level. The t-statistic shows that it is an increase."
   ]
  },
  {
   "cell_type": "markdown",
   "metadata": {},
   "source": [
    "## 4. Computation for all movie and character\n",
    "Here the same computation is done for all characters of all movie using the apply method on the dataframe name_by_movie.\n",
    "\n",
    "The computation is time-consuming (25min). Therefore the output is not there."
   ]
  },
  {
   "cell_type": "code",
   "execution_count": null,
   "metadata": {},
   "outputs": [],
   "source": [
    "iter = 0\n",
    "\n",
    "nb_yr_before = 10\n",
    "nb_yr_after = 5\n",
    "\n",
    "# Function to calculate total income (salary + bonus)\n",
    "def apply_regression(row):\n",
    "    global iter\n",
    "\n",
    "    chosen_movie_ID = row['wiki_ID']\n",
    "    chosen_name = row['char_words']\n",
    "    \n",
    "    chosen_baby_name_df = baby_name_df.query(\"name == @chosen_name\").sort_values(by=['year'])\n",
    "\n",
    "    release_year = movie_df.loc[chosen_movie_ID]['year']\n",
    "    \n",
    "    before_df = chosen_baby_name_df[(chosen_baby_name_df.year >= release_year-nb_year_before) & (chosen_baby_name_df.year <= release_year-1)].reset_index()\n",
    "    after_df = chosen_baby_name_df[(chosen_baby_name_df.year >= release_year) & (chosen_baby_name_df.year <= release_year+nb_year_after-1)].reset_index()\n",
    "    \n",
    "    if (len(before_df) != nb_yr_before) or (len(after_df) != nb_yr_after):\n",
    "        # print(\"not enough datapoints : return NaN\")\n",
    "        row['t_stat'] = np.NaN\n",
    "        row['p_value'] = np.NaN\n",
    "        row['slope_change'] = np.NaN\n",
    "    else:\n",
    "        before_diffs = before_df['percentage'][1:].values - before_df['percentage'][:-1]\n",
    "        after_diffs = after_df['percentage'][1:].values - after_df['percentage'][:-1]\n",
    "\n",
    "        # Comparing the slopes of the two regression models\n",
    "        t_stat, p_value = stats.ttest_ind(before_diffs, after_diffs)\n",
    "\n",
    "        row['t_stat'] = t_stat\n",
    "        row['p_value'] = p_value\n",
    "        row['slope_change'] = after_diffs.mean() - before_diffs.mean()\n",
    "\n",
    "    iter += 1\n",
    "    print(\"Batch {} of {}\".format(iter, len(name_by_movie_ordered_df)), end=\"\\r\")\n",
    "    \n",
    "    # print(f\"Movie ID : {chosen_movie_ID}, Name : {chosen_name}, P-VALUE = {p_value}\")\n",
    "    # print(f\"Movie ID : {chosen_movie_ID}, Name : {chosen_name}, slope change = {row['slope_change']}, t-stat = {row['t_stat']}\")\n",
    "    return row\n",
    "\n",
    "# Apply the function to the dataframe\n",
    "name_by_movie_ordered_pvalue_df = name_by_movie_ordered_df.copy(deep=True)\n",
    "name_by_movie_ordered_pvalue_df = name_by_movie_ordered_pvalue_df.apply(apply_regression, axis=1)\n",
    "\n",
    "display(name_by_movie_ordered_pvalue_df.head())"
   ]
  },
  {
   "cell_type": "markdown",
   "metadata": {},
   "source": [
    "Export the new name_by_movie dataframe with the result of the t-test."
   ]
  },
  {
   "cell_type": "code",
   "execution_count": null,
   "metadata": {},
   "outputs": [],
   "source": [
    "processed_folder = './data/processed_data/'\n",
    "name_by_movie_ordered_pvalue_df.to_csv(os.path.join(processed_folder, 'name_by_movie_ordered_pvalue_10_5_df.csv'), index=False)"
   ]
  },
  {
   "cell_type": "markdown",
   "metadata": {},
   "source": [
    "## 5. Results"
   ]
  },
  {
   "cell_type": "code",
   "execution_count": null,
   "metadata": {},
   "outputs": [],
   "source": [
    "name_by_movie = pd.read_csv(os.path.join(folder_processed_data_path, 'name_by_movie_ordered_pvalue_10_5_df.csv'))"
   ]
  },
  {
   "cell_type": "markdown",
   "metadata": {},
   "source": [
    "Now lets see how many of the movie character have a significant impact."
   ]
  },
  {
   "cell_type": "code",
   "execution_count": null,
   "metadata": {},
   "outputs": [],
   "source": [
    "significant_names = len(name_by_movie[name_by_movie['p_value'] <= 0.1])/len(name_by_movie)\n",
    "print(f\"Proportion of significant character name : {significant_names*100:.2f}%\")"
   ]
  },
  {
   "cell_type": "markdown",
   "metadata": {},
   "source": [
    "From our analysis, we get that 13.71% of the names have a significant variation after the movie release."
   ]
  },
  {
   "cell_type": "code",
   "execution_count": null,
   "metadata": {},
   "outputs": [],
   "source": [
    "not_significant_names = len(name_by_movie[name_by_movie['p_value'] >= 0.1])/len(name_by_movie)\n",
    "print(f\"Proportion of non significant character name : {not_significant_names*100:.2f}%\")"
   ]
  },
  {
   "cell_type": "code",
   "execution_count": null,
   "metadata": {},
   "outputs": [],
   "source": [
    "nan_p_values = len(name_by_movie[name_by_movie['p_value'].isna()])/len(name_by_movie)\n",
    "print(f\"Proportion of non calculated character name : {nan_p_values*100:.2f}%\")"
   ]
  },
  {
   "cell_type": "markdown",
   "metadata": {},
   "source": [
    "The last proportion concerns the case where there were missing baby name data in the area of the movie release to carry out the t-test."
   ]
  },
  {
   "cell_type": "code",
   "execution_count": null,
   "metadata": {},
   "outputs": [],
   "source": [
    "nb_movie_significant = len(name_by_movie[name_by_movie['p_value'] <= 0.1]['wiki_ID'].unique())\n",
    "print(f\"The number of movie that have a significiant variation in one of its character name given to baby is : {nb_movie_significant}\")"
   ]
  },
  {
   "cell_type": "code",
   "execution_count": null,
   "metadata": {},
   "outputs": [],
   "source": [
    "percent_movie_significant = (nb_movie_significant / len(movie_df))*100\n",
    "print(f\"Therefore, {percent_movie_significant:.2f}% of the movies have one of its characters that shows to have caused a variation on baby naming at the movie release.\")"
   ]
  }
 ],
 "metadata": {
  "kernelspec": {
   "display_name": "ada",
   "language": "python",
   "name": "python3"
  },
  "language_info": {
   "codemirror_mode": {
    "name": "ipython",
    "version": 3
   },
   "file_extension": ".py",
   "mimetype": "text/x-python",
   "name": "python",
   "nbconvert_exporter": "python",
   "pygments_lexer": "ipython3",
   "version": "3.9.18"
  }
 },
 "nbformat": 4,
 "nbformat_minor": 2
}
