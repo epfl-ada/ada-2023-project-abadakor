{
 "cells": [
  {
   "cell_type": "markdown",
   "metadata": {},
   "source": [
    "# Influence metric computation\n",
    "In this notebook, we carry out a t-test in order to assess the variation of the baby naming at the release of a movie."
   ]
  },
  {
   "cell_type": "code",
   "execution_count": 1,
   "metadata": {},
   "outputs": [
    {
     "name": "stdout",
     "output_type": "stream",
     "text": [
      "Intel MKL WARNING: Support of Intel(R) Streaming SIMD Extensions 4.2 (Intel(R) SSE4.2) enabled only processors has been deprecated. Intel oneAPI Math Kernel Library 2025.0 will require Intel(R) Advanced Vector Extensions (Intel(R) AVX) instructions.\n",
      "Intel MKL WARNING: Support of Intel(R) Streaming SIMD Extensions 4.2 (Intel(R) SSE4.2) enabled only processors has been deprecated. Intel oneAPI Math Kernel Library 2025.0 will require Intel(R) Advanced Vector Extensions (Intel(R) AVX) instructions.\n"
     ]
    }
   ],
   "source": [
    "import pandas as pd\n",
    "import os\n",
    "import numpy as np\n",
    "import matplotlib.pyplot as plt\n",
    "import statsmodels.formula.api as smf\n",
    "from scipy import stats"
   ]
  },
  {
   "cell_type": "markdown",
   "metadata": {},
   "source": [
    "## 1. Methodology"
   ]
  },
  {
   "cell_type": "markdown",
   "metadata": {},
   "source": [
    "The computation is made as follows. First, we pick the 10 datapoints (10 years) before the movie release and we compute the difference between adjacent values to get the variation . It is done as follows :\n",
    "\n",
    "`difference = datapoints[1:] - datapoints[:-1]`\n",
    "\n",
    "Then we do the same for the 5 datapoints after the movie release. Finally a t-test is carried out between the two difference arrays.\n",
    "We keep the p-value which will tell us if the variation at the movie release is significant or not and the t-statistic which will indicate if the variation is positive or negative. We decided to chose a signifiance level of 0.1\n",
    "\n",
    "We first carry the computation on a single movie and a single name to be able to plot the data with regression lines to validate the methodology visually.\n",
    "\n",
    "The regression is then carried out for each of the character name in the name_by_movie_ordered_df dataframe by adding a column for the t-statistic value and the p-value."
   ]
  },
  {
   "cell_type": "markdown",
   "metadata": {},
   "source": [
    "## 2. Import processed data"
   ]
  },
  {
   "cell_type": "markdown",
   "metadata": {},
   "source": [
    "We need three dataframes present in the preprocessed folder.\n",
    "1. `movie_df` : to have the release date\n",
    "2. `name_by_movie_ordered_df` : to have the character name and their corresponding movies. The p-value and t-statistic will be added there.\n",
    "3. `baby_name_df` : to have the data on the baby name"
   ]
  },
  {
   "cell_type": "code",
   "execution_count": 2,
   "metadata": {},
   "outputs": [
    {
     "name": "stdout",
     "output_type": "stream",
     "text": [
      "movie_df :\n"
     ]
    },
    {
     "data": {
      "text/html": [
       "<div>\n",
       "<style scoped>\n",
       "    .dataframe tbody tr th:only-of-type {\n",
       "        vertical-align: middle;\n",
       "    }\n",
       "\n",
       "    .dataframe tbody tr th {\n",
       "        vertical-align: top;\n",
       "    }\n",
       "\n",
       "    .dataframe thead th {\n",
       "        text-align: right;\n",
       "    }\n",
       "</style>\n",
       "<table border=\"1\" class=\"dataframe\">\n",
       "  <thead>\n",
       "    <tr style=\"text-align: right;\">\n",
       "      <th></th>\n",
       "      <th>mov_name</th>\n",
       "      <th>year</th>\n",
       "      <th>month</th>\n",
       "      <th>revenue</th>\n",
       "      <th>numVotes</th>\n",
       "      <th>averageRating</th>\n",
       "    </tr>\n",
       "    <tr>\n",
       "      <th>wiki_ID</th>\n",
       "      <th></th>\n",
       "      <th></th>\n",
       "      <th></th>\n",
       "      <th></th>\n",
       "      <th></th>\n",
       "      <th></th>\n",
       "    </tr>\n",
       "  </thead>\n",
       "  <tbody>\n",
       "    <tr>\n",
       "      <th>975900</th>\n",
       "      <td>Ghosts of Mars</td>\n",
       "      <td>2001</td>\n",
       "      <td>8.0</td>\n",
       "      <td>14010832.0</td>\n",
       "      <td>56880</td>\n",
       "      <td>4.9</td>\n",
       "    </tr>\n",
       "    <tr>\n",
       "      <th>3196793</th>\n",
       "      <td>Getting Away with Murder: The JonBenét Ramsey ...</td>\n",
       "      <td>2000</td>\n",
       "      <td>2.0</td>\n",
       "      <td>NaN</td>\n",
       "      <td>69</td>\n",
       "      <td>6.0</td>\n",
       "    </tr>\n",
       "    <tr>\n",
       "      <th>28463795</th>\n",
       "      <td>Brun bitter</td>\n",
       "      <td>1988</td>\n",
       "      <td>NaN</td>\n",
       "      <td>NaN</td>\n",
       "      <td>40</td>\n",
       "      <td>5.6</td>\n",
       "    </tr>\n",
       "    <tr>\n",
       "      <th>9363483</th>\n",
       "      <td>White Of The Eye</td>\n",
       "      <td>1987</td>\n",
       "      <td>NaN</td>\n",
       "      <td>NaN</td>\n",
       "      <td>2891</td>\n",
       "      <td>6.1</td>\n",
       "    </tr>\n",
       "    <tr>\n",
       "      <th>261236</th>\n",
       "      <td>A Woman in Flames</td>\n",
       "      <td>1983</td>\n",
       "      <td>NaN</td>\n",
       "      <td>NaN</td>\n",
       "      <td>623</td>\n",
       "      <td>5.9</td>\n",
       "    </tr>\n",
       "  </tbody>\n",
       "</table>\n",
       "</div>"
      ],
      "text/plain": [
       "                                                   mov_name  year  month  \\\n",
       "wiki_ID                                                                    \n",
       "975900                                       Ghosts of Mars  2001    8.0   \n",
       "3196793   Getting Away with Murder: The JonBenét Ramsey ...  2000    2.0   \n",
       "28463795                                        Brun bitter  1988    NaN   \n",
       "9363483                                    White Of The Eye  1987    NaN   \n",
       "261236                                    A Woman in Flames  1983    NaN   \n",
       "\n",
       "             revenue  numVotes  averageRating  \n",
       "wiki_ID                                        \n",
       "975900    14010832.0     56880            4.9  \n",
       "3196793          NaN        69            6.0  \n",
       "28463795         NaN        40            5.6  \n",
       "9363483          NaN      2891            6.1  \n",
       "261236           NaN       623            5.9  "
      ]
     },
     "metadata": {},
     "output_type": "display_data"
    },
    {
     "name": "stdout",
     "output_type": "stream",
     "text": [
      "name_by_movie_ordered_df :\n"
     ]
    },
    {
     "data": {
      "text/html": [
       "<div>\n",
       "<style scoped>\n",
       "    .dataframe tbody tr th:only-of-type {\n",
       "        vertical-align: middle;\n",
       "    }\n",
       "\n",
       "    .dataframe tbody tr th {\n",
       "        vertical-align: top;\n",
       "    }\n",
       "\n",
       "    .dataframe thead th {\n",
       "        text-align: right;\n",
       "    }\n",
       "</style>\n",
       "<table border=\"1\" class=\"dataframe\">\n",
       "  <thead>\n",
       "    <tr style=\"text-align: right;\">\n",
       "      <th></th>\n",
       "      <th>wiki_ID</th>\n",
       "      <th>char_words</th>\n",
       "      <th>order</th>\n",
       "      <th>gender</th>\n",
       "    </tr>\n",
       "  </thead>\n",
       "  <tbody>\n",
       "    <tr>\n",
       "      <th>0</th>\n",
       "      <td>3217</td>\n",
       "      <td>Gold</td>\n",
       "      <td>6.0</td>\n",
       "      <td>NaN</td>\n",
       "    </tr>\n",
       "    <tr>\n",
       "      <th>1</th>\n",
       "      <td>3217</td>\n",
       "      <td>Linda</td>\n",
       "      <td>7.0</td>\n",
       "      <td>F</td>\n",
       "    </tr>\n",
       "    <tr>\n",
       "      <th>2</th>\n",
       "      <td>3217</td>\n",
       "      <td>Henry</td>\n",
       "      <td>4.0</td>\n",
       "      <td>M</td>\n",
       "    </tr>\n",
       "    <tr>\n",
       "      <th>3</th>\n",
       "      <td>3217</td>\n",
       "      <td>Duke</td>\n",
       "      <td>4.0</td>\n",
       "      <td>M</td>\n",
       "    </tr>\n",
       "    <tr>\n",
       "      <th>4</th>\n",
       "      <td>3217</td>\n",
       "      <td>Warrior</td>\n",
       "      <td>9.0</td>\n",
       "      <td>M</td>\n",
       "    </tr>\n",
       "  </tbody>\n",
       "</table>\n",
       "</div>"
      ],
      "text/plain": [
       "   wiki_ID char_words  order gender\n",
       "0     3217       Gold    6.0    NaN\n",
       "1     3217      Linda    7.0      F\n",
       "2     3217      Henry    4.0      M\n",
       "3     3217       Duke    4.0      M\n",
       "4     3217    Warrior    9.0      M"
      ]
     },
     "metadata": {},
     "output_type": "display_data"
    },
    {
     "name": "stdout",
     "output_type": "stream",
     "text": [
      "baby_name_df :\n"
     ]
    },
    {
     "data": {
      "text/html": [
       "<div>\n",
       "<style scoped>\n",
       "    .dataframe tbody tr th:only-of-type {\n",
       "        vertical-align: middle;\n",
       "    }\n",
       "\n",
       "    .dataframe tbody tr th {\n",
       "        vertical-align: top;\n",
       "    }\n",
       "\n",
       "    .dataframe thead th {\n",
       "        text-align: right;\n",
       "    }\n",
       "</style>\n",
       "<table border=\"1\" class=\"dataframe\">\n",
       "  <thead>\n",
       "    <tr style=\"text-align: right;\">\n",
       "      <th></th>\n",
       "      <th>name</th>\n",
       "      <th>year</th>\n",
       "      <th>number</th>\n",
       "      <th>percentage</th>\n",
       "    </tr>\n",
       "  </thead>\n",
       "  <tbody>\n",
       "    <tr>\n",
       "      <th>0</th>\n",
       "      <td>Aaban</td>\n",
       "      <td>2007</td>\n",
       "      <td>1</td>\n",
       "      <td>0.000026</td>\n",
       "    </tr>\n",
       "    <tr>\n",
       "      <th>1</th>\n",
       "      <td>Aadam</td>\n",
       "      <td>2007</td>\n",
       "      <td>4</td>\n",
       "      <td>0.000103</td>\n",
       "    </tr>\n",
       "    <tr>\n",
       "      <th>2</th>\n",
       "      <td>Aadan</td>\n",
       "      <td>2007</td>\n",
       "      <td>4</td>\n",
       "      <td>0.000103</td>\n",
       "    </tr>\n",
       "    <tr>\n",
       "      <th>3</th>\n",
       "      <td>Aadarsh</td>\n",
       "      <td>2007</td>\n",
       "      <td>9</td>\n",
       "      <td>0.000233</td>\n",
       "    </tr>\n",
       "    <tr>\n",
       "      <th>4</th>\n",
       "      <td>Aaden</td>\n",
       "      <td>2007</td>\n",
       "      <td>153</td>\n",
       "      <td>0.003957</td>\n",
       "    </tr>\n",
       "  </tbody>\n",
       "</table>\n",
       "</div>"
      ],
      "text/plain": [
       "      name  year  number  percentage\n",
       "0    Aaban  2007       1    0.000026\n",
       "1    Aadam  2007       4    0.000103\n",
       "2    Aadan  2007       4    0.000103\n",
       "3  Aadarsh  2007       9    0.000233\n",
       "4    Aaden  2007     153    0.003957"
      ]
     },
     "metadata": {},
     "output_type": "display_data"
    }
   ],
   "source": [
    "folder_processed_data_path = './data/processed_data/'\n",
    "\n",
    "# import movie_df to get the release date\n",
    "movie_df = pd.read_csv(os.path.join(folder_processed_data_path, 'movie_df.csv'))\n",
    "movie_df.set_index(['wiki_ID'], inplace=True)\n",
    "\n",
    "# import name_by_movie_ordered_df to get the character name and their corresponding movies. \n",
    "name_by_movie_ordered_df = pd.read_csv(os.path.join(folder_processed_data_path, 'name_by_movie_ordered_df.csv'))\n",
    "\n",
    "baby_name_df = pd.read_csv(os.path.join(folder_processed_data_path, 'baby_name_df.csv'))\n",
    "\n",
    "print(\"movie_df :\")\n",
    "display(movie_df.head())\n",
    "print(\"name_by_movie_ordered_df :\")\n",
    "display(name_by_movie_ordered_df.head())\n",
    "print(\"baby_name_df :\")\n",
    "display(baby_name_df.head())"
   ]
  },
  {
   "cell_type": "markdown",
   "metadata": {},
   "source": [
    "## 3. Testing computation on a single movie, one character name\n",
    "### 3.1 Data setup\n",
    "Let's choose the famous movie \"Pulp Fiction\" and the character `Mia`"
   ]
  },
  {
   "cell_type": "code",
   "execution_count": 3,
   "metadata": {},
   "outputs": [],
   "source": [
    "nb_year_after = 5\n",
    "nb_year_before = 10"
   ]
  },
  {
   "cell_type": "code",
   "execution_count": 4,
   "metadata": {},
   "outputs": [
    {
     "data": {
      "text/html": [
       "<div>\n",
       "<style scoped>\n",
       "    .dataframe tbody tr th:only-of-type {\n",
       "        vertical-align: middle;\n",
       "    }\n",
       "\n",
       "    .dataframe tbody tr th {\n",
       "        vertical-align: top;\n",
       "    }\n",
       "\n",
       "    .dataframe thead th {\n",
       "        text-align: right;\n",
       "    }\n",
       "</style>\n",
       "<table border=\"1\" class=\"dataframe\">\n",
       "  <thead>\n",
       "    <tr style=\"text-align: right;\">\n",
       "      <th></th>\n",
       "      <th>mov_name</th>\n",
       "      <th>year</th>\n",
       "      <th>month</th>\n",
       "      <th>revenue</th>\n",
       "      <th>numVotes</th>\n",
       "      <th>averageRating</th>\n",
       "    </tr>\n",
       "    <tr>\n",
       "      <th>wiki_ID</th>\n",
       "      <th></th>\n",
       "      <th></th>\n",
       "      <th></th>\n",
       "      <th></th>\n",
       "      <th></th>\n",
       "      <th></th>\n",
       "    </tr>\n",
       "  </thead>\n",
       "  <tbody>\n",
       "    <tr>\n",
       "      <th>54173</th>\n",
       "      <td>Pulp Fiction</td>\n",
       "      <td>1994</td>\n",
       "      <td>5.0</td>\n",
       "      <td>213928762.0</td>\n",
       "      <td>2158972</td>\n",
       "      <td>8.9</td>\n",
       "    </tr>\n",
       "  </tbody>\n",
       "</table>\n",
       "</div>"
      ],
      "text/plain": [
       "             mov_name  year  month      revenue  numVotes  averageRating\n",
       "wiki_ID                                                                 \n",
       "54173    Pulp Fiction  1994    5.0  213928762.0   2158972            8.9"
      ]
     },
     "execution_count": 4,
     "metadata": {},
     "output_type": "execute_result"
    }
   ],
   "source": [
    "# search the movie ID\n",
    "chosen_movie_name = \"Pulp Fiction\"\n",
    "movie_df.query(\"mov_name == @chosen_movie_name\")"
   ]
  },
  {
   "cell_type": "code",
   "execution_count": 5,
   "metadata": {},
   "outputs": [
    {
     "name": "stdout",
     "output_type": "stream",
     "text": [
      "The chosen character is Mia in the movie \"Pulp Fiction\" released in 1994\n"
     ]
    }
   ],
   "source": [
    "chosen_name = 'Mia'\n",
    "chosen_movie_ID = 54173\n",
    "\n",
    "print(f\"The chosen character is {chosen_name} in the movie \\\"{movie_df.loc[chosen_movie_ID]['mov_name']}\\\" released in {movie_df.loc[chosen_movie_ID]['year']}\")"
   ]
  },
  {
   "cell_type": "code",
   "execution_count": 6,
   "metadata": {},
   "outputs": [],
   "source": [
    "# filter the baby name dataframe to get only the data of \"Mia\" baby name\n",
    "chosen_baby_name_df = baby_name_df.query(\"name == @chosen_name\").sort_values(by=['year'])"
   ]
  },
  {
   "cell_type": "code",
   "execution_count": 7,
   "metadata": {},
   "outputs": [
    {
     "name": "stdout",
     "output_type": "stream",
     "text": [
      "release year = 1994\n"
     ]
    }
   ],
   "source": [
    "# get the release date\n",
    "release_year = movie_df.loc[chosen_movie_ID]['year']\n",
    "print(f\"release year = {release_year}\")"
   ]
  },
  {
   "cell_type": "markdown",
   "metadata": {},
   "source": [
    "We select the range of years before and after the movie release coresponding to the baby name data, with the corresponding percentage of babies with this name:"
   ]
  },
  {
   "cell_type": "code",
   "execution_count": 8,
   "metadata": {},
   "outputs": [
    {
     "data": {
      "text/html": [
       "<div>\n",
       "<style scoped>\n",
       "    .dataframe tbody tr th:only-of-type {\n",
       "        vertical-align: middle;\n",
       "    }\n",
       "\n",
       "    .dataframe tbody tr th {\n",
       "        vertical-align: top;\n",
       "    }\n",
       "\n",
       "    .dataframe thead th {\n",
       "        text-align: right;\n",
       "    }\n",
       "</style>\n",
       "<table border=\"1\" class=\"dataframe\">\n",
       "  <thead>\n",
       "    <tr style=\"text-align: right;\">\n",
       "      <th></th>\n",
       "      <th>index</th>\n",
       "      <th>name</th>\n",
       "      <th>year</th>\n",
       "      <th>number</th>\n",
       "      <th>percentage</th>\n",
       "    </tr>\n",
       "  </thead>\n",
       "  <tbody>\n",
       "    <tr>\n",
       "      <th>0</th>\n",
       "      <td>1063571</td>\n",
       "      <td>Mia</td>\n",
       "      <td>1984</td>\n",
       "      <td>448</td>\n",
       "      <td>0.013108</td>\n",
       "    </tr>\n",
       "    <tr>\n",
       "      <th>1</th>\n",
       "      <td>919241</td>\n",
       "      <td>Mia</td>\n",
       "      <td>1985</td>\n",
       "      <td>496</td>\n",
       "      <td>0.014188</td>\n",
       "    </tr>\n",
       "    <tr>\n",
       "      <th>2</th>\n",
       "      <td>987399</td>\n",
       "      <td>Mia</td>\n",
       "      <td>1986</td>\n",
       "      <td>487</td>\n",
       "      <td>0.013987</td>\n",
       "    </tr>\n",
       "    <tr>\n",
       "      <th>3</th>\n",
       "      <td>532222</td>\n",
       "      <td>Mia</td>\n",
       "      <td>1987</td>\n",
       "      <td>545</td>\n",
       "      <td>0.015450</td>\n",
       "    </tr>\n",
       "    <tr>\n",
       "      <th>4</th>\n",
       "      <td>552385</td>\n",
       "      <td>Mia</td>\n",
       "      <td>1988</td>\n",
       "      <td>616</td>\n",
       "      <td>0.017049</td>\n",
       "    </tr>\n",
       "    <tr>\n",
       "      <th>5</th>\n",
       "      <td>1084086</td>\n",
       "      <td>Mia</td>\n",
       "      <td>1989</td>\n",
       "      <td>672</td>\n",
       "      <td>0.017883</td>\n",
       "    </tr>\n",
       "    <tr>\n",
       "      <th>6</th>\n",
       "      <td>1106338</td>\n",
       "      <td>Mia</td>\n",
       "      <td>1990</td>\n",
       "      <td>779</td>\n",
       "      <td>0.020174</td>\n",
       "    </tr>\n",
       "    <tr>\n",
       "      <th>7</th>\n",
       "      <td>1009048</td>\n",
       "      <td>Mia</td>\n",
       "      <td>1991</td>\n",
       "      <td>775</td>\n",
       "      <td>0.020380</td>\n",
       "    </tr>\n",
       "    <tr>\n",
       "      <th>8</th>\n",
       "      <td>940991</td>\n",
       "      <td>Mia</td>\n",
       "      <td>1992</td>\n",
       "      <td>818</td>\n",
       "      <td>0.021828</td>\n",
       "    </tr>\n",
       "    <tr>\n",
       "      <th>9</th>\n",
       "      <td>575113</td>\n",
       "      <td>Mia</td>\n",
       "      <td>1993</td>\n",
       "      <td>796</td>\n",
       "      <td>0.021660</td>\n",
       "    </tr>\n",
       "  </tbody>\n",
       "</table>\n",
       "</div>"
      ],
      "text/plain": [
       "     index name  year  number  percentage\n",
       "0  1063571  Mia  1984     448    0.013108\n",
       "1   919241  Mia  1985     496    0.014188\n",
       "2   987399  Mia  1986     487    0.013987\n",
       "3   532222  Mia  1987     545    0.015450\n",
       "4   552385  Mia  1988     616    0.017049\n",
       "5  1084086  Mia  1989     672    0.017883\n",
       "6  1106338  Mia  1990     779    0.020174\n",
       "7  1009048  Mia  1991     775    0.020380\n",
       "8   940991  Mia  1992     818    0.021828\n",
       "9   575113  Mia  1993     796    0.021660"
      ]
     },
     "metadata": {},
     "output_type": "display_data"
    },
    {
     "data": {
      "text/html": [
       "<div>\n",
       "<style scoped>\n",
       "    .dataframe tbody tr th:only-of-type {\n",
       "        vertical-align: middle;\n",
       "    }\n",
       "\n",
       "    .dataframe tbody tr th {\n",
       "        vertical-align: top;\n",
       "    }\n",
       "\n",
       "    .dataframe thead th {\n",
       "        text-align: right;\n",
       "    }\n",
       "</style>\n",
       "<table border=\"1\" class=\"dataframe\">\n",
       "  <thead>\n",
       "    <tr style=\"text-align: right;\">\n",
       "      <th></th>\n",
       "      <th>index</th>\n",
       "      <th>name</th>\n",
       "      <th>year</th>\n",
       "      <th>number</th>\n",
       "      <th>percentage</th>\n",
       "    </tr>\n",
       "  </thead>\n",
       "  <tbody>\n",
       "    <tr>\n",
       "      <th>0</th>\n",
       "      <td>598990</td>\n",
       "      <td>Mia</td>\n",
       "      <td>1994</td>\n",
       "      <td>857</td>\n",
       "      <td>0.023661</td>\n",
       "    </tr>\n",
       "    <tr>\n",
       "      <th>1</th>\n",
       "      <td>622966</td>\n",
       "      <td>Mia</td>\n",
       "      <td>1995</td>\n",
       "      <td>1098</td>\n",
       "      <td>0.030791</td>\n",
       "    </tr>\n",
       "    <tr>\n",
       "      <th>2</th>\n",
       "      <td>647140</td>\n",
       "      <td>Mia</td>\n",
       "      <td>1996</td>\n",
       "      <td>1686</td>\n",
       "      <td>0.047497</td>\n",
       "    </tr>\n",
       "    <tr>\n",
       "      <th>3</th>\n",
       "      <td>671982</td>\n",
       "      <td>Mia</td>\n",
       "      <td>1997</td>\n",
       "      <td>2491</td>\n",
       "      <td>0.070647</td>\n",
       "    </tr>\n",
       "    <tr>\n",
       "      <th>4</th>\n",
       "      <td>697404</td>\n",
       "      <td>Mia</td>\n",
       "      <td>1998</td>\n",
       "      <td>2562</td>\n",
       "      <td>0.071663</td>\n",
       "    </tr>\n",
       "  </tbody>\n",
       "</table>\n",
       "</div>"
      ],
      "text/plain": [
       "    index name  year  number  percentage\n",
       "0  598990  Mia  1994     857    0.023661\n",
       "1  622966  Mia  1995    1098    0.030791\n",
       "2  647140  Mia  1996    1686    0.047497\n",
       "3  671982  Mia  1997    2491    0.070647\n",
       "4  697404  Mia  1998    2562    0.071663"
      ]
     },
     "metadata": {},
     "output_type": "display_data"
    }
   ],
   "source": [
    "before_df = chosen_baby_name_df[(chosen_baby_name_df.year >= release_year-nb_year_before) & (chosen_baby_name_df.year <= release_year-1)].reset_index()\n",
    "after_df = chosen_baby_name_df[(chosen_baby_name_df.year >= release_year) & (chosen_baby_name_df.year <= release_year+nb_year_after-1)].reset_index()\n",
    "display(before_df)\n",
    "display(after_df)"
   ]
  },
  {
   "cell_type": "markdown",
   "metadata": {},
   "source": [
    "Let's plot the curve and highlight the release date."
   ]
  },
  {
   "cell_type": "code",
   "execution_count": 9,
   "metadata": {},
   "outputs": [
    {
     "data": {
      "image/png": "[encoded data removed]",
      "text/plain": [
       "<Figure size 640x480 with 1 Axes>"
      ]
     },
     "metadata": {},
     "output_type": "display_data"
    }
   ],
   "source": [
    "union_before_after_df = pd.concat([before_df, after_df], ignore_index=True)\n",
    "\n",
    "x_values = union_before_after_df['year'].values\n",
    "y_values = union_before_after_df['percentage'].values\n",
    "\n",
    "# Create a scatter plot\n",
    "plt.plot(x_values, y_values)\n",
    "plt.xlabel('Years')\n",
    "plt.ylabel('Percentage of total births')\n",
    "plt.title(f'Given name {chosen_name} with the release of the movie {movie_df.loc[chosen_movie_ID].mov_name}')\n",
    "\n",
    "# Draw vertical lines for each movie release\n",
    "plt.axvline(x=release_year, color='r', linestyle='--', label=f'x={release_year}')\n",
    "plt.legend()\n",
    "\n",
    "plt.show()"
   ]
  },
  {
   "cell_type": "markdown",
   "metadata": {},
   "source": [
    "### 3.2 Compute regression\n",
    "Lets now carry out a linear regression on both side of the release date."
   ]
  },
  {
   "cell_type": "code",
   "execution_count": 10,
   "metadata": {},
   "outputs": [
    {
     "name": "stdout",
     "output_type": "stream",
     "text": [
      "Intel MKL WARNING: Support of Intel(R) Streaming SIMD Extensions 4.2 (Intel(R) SSE4.2) enabled only processors has been deprecated. Intel oneAPI Math Kernel Library 2025.0 will require Intel(R) Advanced Vector Extensions (Intel(R) AVX) instructions.\n",
      "Before release : Intel MKL WARNING: Support of Intel(R) Streaming SIMD Extensions 4.2 (Intel(R) SSE4.2) enabled only processors has been deprecated. Intel oneAPI Math Kernel Library 2025.0 will require Intel(R) Advanced Vector Extensions (Intel(R) AVX) instructions.\n",
      "\n",
      "   beta = 0.0011, intercept = -2.12 \n",
      "\n",
      "After release : \n",
      "   beta = 0.0136, intercept = -27.07\n"
     ]
    }
   ],
   "source": [
    "# model before release\n",
    "mod_before = smf.ols(formula = 'percentage ~ year' , data = before_df)\n",
    "np.random.seed(2)\n",
    "res_before = mod_before.fit()\n",
    "\n",
    "coefficients_before = res_before.params.values\n",
    "beta_before = coefficients_before[1]\n",
    "intercept_before = coefficients_before[0]\n",
    "\n",
    "# model after release\n",
    "mod_after = smf.ols(formula = 'percentage ~ year' , data = after_df)\n",
    "res_after = mod_after.fit()\n",
    "\n",
    "coefficients_after = res_after.params.values\n",
    "beta_after = coefficients_after[1]\n",
    "intercept_after = coefficients_after[0]\n",
    "\n",
    "print(\"Before release : \")\n",
    "print(f\"   beta = {beta_before:.4f}, intercept = {intercept_before:.2f} \\n\")\n",
    "\n",
    "print(\"After release : \")\n",
    "print(f\"   beta = {beta_after:.4f}, intercept = {intercept_after:.2f}\")"
   ]
  },
  {
   "cell_type": "markdown",
   "metadata": {},
   "source": [
    "And plot the regression lines."
   ]
  },
  {
   "cell_type": "code",
   "execution_count": 11,
   "metadata": {},
   "outputs": [
    {
     "data": {
      "image/png": "[encoded data removed]",
      "text/plain": [
       "<Figure size 640x480 with 1 Axes>"
      ]
     },
     "metadata": {},
     "output_type": "display_data"
    }
   ],
   "source": [
    "union_before_after_df = pd.concat([before_df, after_df], ignore_index=True)\n",
    "\n",
    "x_values = union_before_after_df['year'].values\n",
    "y_values = union_before_after_df['percentage'].values\n",
    "\n",
    "# Create a scatter plot\n",
    "plt.plot(x_values, y_values)\n",
    "plt.xlabel('Years')\n",
    "plt.ylabel('Percentage of total births')\n",
    "plt.title(f'Given name {chosen_name} with the release of the movie {movie_df.loc[chosen_movie_ID].mov_name}')\n",
    "\n",
    "# Calculate y values for the regression lines\n",
    "reg_before = beta_before * x_values + intercept_before\n",
    "reg_after = beta_after * x_values + intercept_after\n",
    "# Plot the regression lines\n",
    "plt.plot(x_values, reg_before, label=f'Before (slope={beta_before:.4f}, intercept={intercept_before:.2f})', color='red')\n",
    "plt.plot(x_values, reg_after, label=f'After (slope={beta_after:.4f}, intercept={intercept_after:.2f})', color='blue')\n",
    "\n",
    "# Draw vertical lines for each movie release\n",
    "plt.axvline(x=release_year, color='r', linestyle='--', label=f'x={release_year}')\n",
    "plt.legend()\n",
    "\n",
    "plt.show()"
   ]
  },
  {
   "cell_type": "markdown",
   "metadata": {},
   "source": [
    "### 3.3 T-test\n",
    "Now we carry out a t-test on the two regression lines."
   ]
  },
  {
   "cell_type": "code",
   "execution_count": 12,
   "metadata": {},
   "outputs": [
    {
     "name": "stdout",
     "output_type": "stream",
     "text": [
      "T-statistic: -3.5405099407316394\n",
      "P-value: 0.0046285686243801175\n",
      "Slope change: 0.011050212658611263\n"
     ]
    }
   ],
   "source": [
    "before_diffs = before_df['percentage'][1:].values - before_df['percentage'][:-1]\n",
    "after_diffs = after_df['percentage'][1:].values - after_df['percentage'][:-1]\n",
    "\n",
    "# Comparing the slopes of the two regression models\n",
    "t_stat, p_value = stats.ttest_ind(before_diffs, after_diffs)\n",
    "\n",
    "print(\"T-statistic:\", t_stat)\n",
    "print(\"P-value:\",p_value)\n",
    "print(\"Slope change:\",after_diffs.mean()-before_diffs.mean())\n"
   ]
  },
  {
   "cell_type": "markdown",
   "metadata": {},
   "source": [
    "We have a p-value lower than 0.1, therefore the variation is signification with our significance level. The t-statistic shows that it is an increase."
   ]
  },
  {
   "cell_type": "markdown",
   "metadata": {},
   "source": [
    "## 4. Computation for all movie and character\n",
    "Here the same computation is done for all characters of all movie using the apply method on the dataframe name_by_movie.\n",
    "\n",
    "The computation is time-consuming (25min). Therefore the output is not there."
   ]
  },
  {
   "cell_type": "code",
   "execution_count": 13,
   "metadata": {},
   "outputs": [
    {
     "name": "stdout",
     "output_type": "stream",
     "text": [
      "Batch 172906 of 172906\r"
     ]
    },
    {
     "data": {
      "text/html": [
       "<div>\n",
       "<style scoped>\n",
       "    .dataframe tbody tr th:only-of-type {\n",
       "        vertical-align: middle;\n",
       "    }\n",
       "\n",
       "    .dataframe tbody tr th {\n",
       "        vertical-align: top;\n",
       "    }\n",
       "\n",
       "    .dataframe thead th {\n",
       "        text-align: right;\n",
       "    }\n",
       "</style>\n",
       "<table border=\"1\" class=\"dataframe\">\n",
       "  <thead>\n",
       "    <tr style=\"text-align: right;\">\n",
       "      <th></th>\n",
       "      <th>wiki_ID</th>\n",
       "      <th>char_words</th>\n",
       "      <th>order</th>\n",
       "      <th>gender</th>\n",
       "      <th>t_stat</th>\n",
       "      <th>p_value</th>\n",
       "      <th>slope_change</th>\n",
       "    </tr>\n",
       "  </thead>\n",
       "  <tbody>\n",
       "    <tr>\n",
       "      <th>0</th>\n",
       "      <td>3217</td>\n",
       "      <td>Gold</td>\n",
       "      <td>6.0</td>\n",
       "      <td>NaN</td>\n",
       "      <td>NaN</td>\n",
       "      <td>NaN</td>\n",
       "      <td>NaN</td>\n",
       "    </tr>\n",
       "    <tr>\n",
       "      <th>1</th>\n",
       "      <td>3217</td>\n",
       "      <td>Linda</td>\n",
       "      <td>7.0</td>\n",
       "      <td>F</td>\n",
       "      <td>-0.416786</td>\n",
       "      <td>0.684853</td>\n",
       "      <td>0.000673</td>\n",
       "    </tr>\n",
       "    <tr>\n",
       "      <th>2</th>\n",
       "      <td>3217</td>\n",
       "      <td>Henry</td>\n",
       "      <td>4.0</td>\n",
       "      <td>M</td>\n",
       "      <td>-2.031668</td>\n",
       "      <td>0.067058</td>\n",
       "      <td>0.002513</td>\n",
       "    </tr>\n",
       "    <tr>\n",
       "      <th>3</th>\n",
       "      <td>3217</td>\n",
       "      <td>Duke</td>\n",
       "      <td>4.0</td>\n",
       "      <td>M</td>\n",
       "      <td>0.579441</td>\n",
       "      <td>0.573967</td>\n",
       "      <td>-0.000113</td>\n",
       "    </tr>\n",
       "    <tr>\n",
       "      <th>4</th>\n",
       "      <td>3217</td>\n",
       "      <td>Warrior</td>\n",
       "      <td>9.0</td>\n",
       "      <td>M</td>\n",
       "      <td>NaN</td>\n",
       "      <td>NaN</td>\n",
       "      <td>NaN</td>\n",
       "    </tr>\n",
       "  </tbody>\n",
       "</table>\n",
       "</div>"
      ],
      "text/plain": [
       "   wiki_ID char_words  order gender    t_stat   p_value  slope_change\n",
       "0     3217       Gold    6.0    NaN       NaN       NaN           NaN\n",
       "1     3217      Linda    7.0      F -0.416786  0.684853      0.000673\n",
       "2     3217      Henry    4.0      M -2.031668  0.067058      0.002513\n",
       "3     3217       Duke    4.0      M  0.579441  0.573967     -0.000113\n",
       "4     3217    Warrior    9.0      M       NaN       NaN           NaN"
      ]
     },
     "metadata": {},
     "output_type": "display_data"
    }
   ],
   "source": [
    "iter = 0\n",
    "\n",
    "nb_yr_before = 10\n",
    "nb_yr_after = 5\n",
    "\n",
    "# Function to calculate total income (salary + bonus)\n",
    "def apply_regression(row):\n",
    "    global iter\n",
    "\n",
    "    chosen_movie_ID = row['wiki_ID']\n",
    "    chosen_name = row['char_words']\n",
    "    \n",
    "    chosen_baby_name_df = baby_name_df.query(\"name == @chosen_name\").sort_values(by=['year'])\n",
    "\n",
    "    release_year = movie_df.loc[chosen_movie_ID]['year']\n",
    "    \n",
    "    before_df = chosen_baby_name_df[(chosen_baby_name_df.year >= release_year-nb_year_before) & (chosen_baby_name_df.year <= release_year-1)].reset_index()\n",
    "    after_df = chosen_baby_name_df[(chosen_baby_name_df.year >= release_year) & (chosen_baby_name_df.year <= release_year+nb_year_after-1)].reset_index()\n",
    "    \n",
    "    if (len(before_df) != nb_yr_before) or (len(after_df) != nb_yr_after):\n",
    "        # print(\"not enough datapoints : return NaN\")\n",
    "        row['t_stat'] = np.NaN\n",
    "        row['p_value'] = np.NaN\n",
    "        row['slope_change'] = np.NaN\n",
    "    else:\n",
    "        before_diffs = before_df['percentage'][1:].values - before_df['percentage'][:-1]\n",
    "        after_diffs = after_df['percentage'][1:].values - after_df['percentage'][:-1]\n",
    "\n",
    "        # Comparing the slopes of the two regression models\n",
    "        t_stat, p_value = stats.ttest_ind(before_diffs, after_diffs)\n",
    "\n",
    "        row['t_stat'] = t_stat\n",
    "        row['p_value'] = p_value\n",
    "        row['slope_change'] = after_diffs.mean() - before_diffs.mean()\n",
    "\n",
    "    iter += 1\n",
    "    print(\"Batch {} of {}\".format(iter, len(name_by_movie_ordered_df)), end=\"\\r\")\n",
    "    \n",
    "    # print(f\"Movie ID : {chosen_movie_ID}, Name : {chosen_name}, P-VALUE = {p_value}\")\n",
    "    # print(f\"Movie ID : {chosen_movie_ID}, Name : {chosen_name}, slope change = {row['slope_change']}, t-stat = {row['t_stat']}\")\n",
    "    return row\n",
    "\n",
    "# Apply the function to the dataframe\n",
    "name_by_movie_ordered_pvalue_df = name_by_movie_ordered_df.copy(deep=True)\n",
    "name_by_movie_ordered_pvalue_df = name_by_movie_ordered_pvalue_df.apply(apply_regression, axis=1)\n",
    "\n",
    "display(name_by_movie_ordered_pvalue_df.head())"
   ]
  },
  {
   "cell_type": "markdown",
   "metadata": {},
   "source": [
    "Export the new name_by_movie dataframe with the result of the t-test."
   ]
  },
  {
   "cell_type": "code",
   "execution_count": 14,
   "metadata": {},
   "outputs": [],
   "source": [
    "processed_folder = './data/processed_data/'\n",
    "name_by_movie_ordered_pvalue_df.to_csv(os.path.join(processed_folder, 'name_by_movie_ordered_pvalue_10_5_df.csv'), index=False)"
   ]
  },
  {
   "cell_type": "markdown",
   "metadata": {},
   "source": [
    "## 5. Results"
   ]
  },
  {
   "cell_type": "code",
   "execution_count": 15,
   "metadata": {},
   "outputs": [],
   "source": [
    "name_by_movie = pd.read_csv(os.path.join(folder_processed_data_path, 'name_by_movie_ordered_pvalue_10_5_df.csv'))"
   ]
  },
  {
   "cell_type": "markdown",
   "metadata": {},
   "source": [
    "Now lets see how many of the movie character have a significant impact."
   ]
  },
  {
   "cell_type": "code",
   "execution_count": 16,
   "metadata": {},
   "outputs": [
    {
     "name": "stdout",
     "output_type": "stream",
     "text": [
      "Proportion of significant character name : 13.62%\n"
     ]
    }
   ],
   "source": [
    "significant_names = len(name_by_movie[name_by_movie['p_value'] <= 0.1])/len(name_by_movie)\n",
    "print(f\"Proportion of significant character name : {significant_names*100:.2f}%\")"
   ]
  },
  {
   "cell_type": "markdown",
   "metadata": {},
   "source": [
    "From our analysis, we get that 13.71% of the names have a significant variation after the movie release."
   ]
  },
  {
   "cell_type": "code",
   "execution_count": 17,
   "metadata": {},
   "outputs": [
    {
     "name": "stdout",
     "output_type": "stream",
     "text": [
      "Proportion of non significant character name : 55.17%\n"
     ]
    }
   ],
   "source": [
    "not_significant_names = len(name_by_movie[name_by_movie['p_value'] >= 0.1])/len(name_by_movie)\n",
    "print(f\"Proportion of non significant character name : {not_significant_names*100:.2f}%\")"
   ]
  },
  {
   "cell_type": "code",
   "execution_count": 18,
   "metadata": {},
   "outputs": [
    {
     "name": "stdout",
     "output_type": "stream",
     "text": [
      "Proportion of non calculated character name : 31.21%\n"
     ]
    }
   ],
   "source": [
    "nan_p_values = len(name_by_movie[name_by_movie['p_value'].isna()])/len(name_by_movie)\n",
    "print(f\"Proportion of non calculated character name : {nan_p_values*100:.2f}%\")"
   ]
  },
  {
   "cell_type": "markdown",
   "metadata": {},
   "source": [
    "The last proportion concerns the case where there were missing baby name data in the area of the movie release to carry out the t-test."
   ]
  },
  {
   "cell_type": "code",
   "execution_count": 19,
   "metadata": {},
   "outputs": [
    {
     "name": "stdout",
     "output_type": "stream",
     "text": [
      "The number of movie that have a significiant variation in one of its character name given to baby is : 12229\n"
     ]
    }
   ],
   "source": [
    "nb_movie_significant = len(name_by_movie[name_by_movie['p_value'] <= 0.1]['wiki_ID'].unique())\n",
    "print(f\"The number of movie that have a significiant variation in one of its character name given to baby is : {nb_movie_significant}\")"
   ]
  },
  {
   "cell_type": "code",
   "execution_count": 20,
   "metadata": {},
   "outputs": [
    {
     "name": "stdout",
     "output_type": "stream",
     "text": [
      "Therefore, 18.67% of the movies have one of its characters that shows to have caused a variation on baby naming at the movie release.\n"
     ]
    }
   ],
   "source": [
    "percent_movie_significant = (nb_movie_significant / len(movie_df))*100\n",
    "print(f\"Therefore, {percent_movie_significant:.2f}% of the movies have one of its characters that shows to have caused a variation on baby naming at the movie release.\")"
   ]
  }
 ],
 "metadata": {
  "kernelspec": {
   "display_name": "ada",
   "language": "python",
   "name": "python3"
  },
  "language_info": {
   "codemirror_mode": {
    "name": "ipython",
    "version": 3
   },
   "file_extension": ".py",
   "mimetype": "text/x-python",
   "name": "python",
   "nbconvert_exporter": "python",
   "pygments_lexer": "ipython3",
   "version": "3.9.18"
  }
 },
 "nbformat": 4,
 "nbformat_minor": 2
}
