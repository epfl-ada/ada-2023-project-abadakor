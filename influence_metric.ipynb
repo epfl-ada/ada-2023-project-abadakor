{
 "cells": [
  {
   "cell_type": "markdown",
   "metadata": {},
   "source": [
    "# Influence metric computation\n",
    "In this notebook, we carry out a t-test in order to assess the variation of the baby naming at the release of a movie."
   ]
  },
  {
   "cell_type": "code",
   "execution_count": null,
   "metadata": {},
   "outputs": [],
   "source": [
    "import pandas as pd\n",
    "import os\n",
    "import numpy as np\n",
    "import matplotlib.pyplot as plt\n",
    "import statsmodels.formula.api as smf\n",
    "from scipy import stats"
   ]
  },
  {
   "cell_type": "markdown",
   "metadata": {},
   "source": [
    "## 1. Methodology"
   ]
  },
  {
   "cell_type": "markdown",
   "metadata": {},
   "source": [
    "The computation is made as follows. First, we pick the 10 datapoints (10 years) before the movie release and we compute the difference between adjacent values to get the variation . It is done as follows :\n",
    "\n",
    "`difference = datapoints[1:] - datapoints[:-1]`\n",
    "\n",
    "Then we do the same for the 5 datapoints after the movie release. Finally a t-test is carried out between the two difference arrays.\n",
    "We keep the p-value which will tell us if the variation at the movie release is significant or not and the t-statistic which will indicate if the variation is positive or negative. We decided to chose a signifiance level of 0.1\n",
    "\n",
    "We first carry the computation on a single movie and a single name to be able to plot the data with regression lines to validate the methodology visually.\n",
    "\n",
    "The regression is then carried out for each of the character name in the name_by_movie_ordered_df dataframe by adding a column for the t-statistic value and the p-value."
   ]
  },
  {
   "cell_type": "markdown",
   "metadata": {},
   "source": [
    "## 2. Import processed data"
   ]
  },
  {
   "cell_type": "markdown",
   "metadata": {},
   "source": [
    "We need three dataframes present in the preprocessed folder.\n",
    "1. `movie_df` : to have the release date\n",
    "2. `name_by_movie_ordered_df` : to have the character name and their corresponding movies. The p-value and t-statistic will be added there.\n",
    "3. `baby_name_df` : to have the data on the baby name"
   ]
  },
  {
   "cell_type": "code",
   "execution_count": null,
   "metadata": {},
   "outputs": [
    {
     "name": "stdout",
     "output_type": "stream",
     "text": [
      "movie_df :\n"
     ]
    },
    {
     "data": {
      "text/html": [
       "<div>\n",
       "<style scoped>\n",
       "    .dataframe tbody tr th:only-of-type {\n",
       "        vertical-align: middle;\n",
       "    }\n",
       "\n",
       "    .dataframe tbody tr th {\n",
       "        vertical-align: top;\n",
       "    }\n",
       "\n",
       "    .dataframe thead th {\n",
       "        text-align: right;\n",
       "    }\n",
       "</style>\n",
       "<table border=\"1\" class=\"dataframe\">\n",
       "  <thead>\n",
       "    <tr style=\"text-align: right;\">\n",
       "      <th></th>\n",
       "      <th>mov_name</th>\n",
       "      <th>year</th>\n",
       "      <th>month</th>\n",
       "      <th>revenue</th>\n",
       "      <th>numVotes</th>\n",
       "      <th>averageRating</th>\n",
       "      <th>poster_url</th>\n",
       "      <th>IMDB_ID</th>\n",
       "    </tr>\n",
       "    <tr>\n",
       "      <th>wiki_ID</th>\n",
       "      <th></th>\n",
       "      <th></th>\n",
       "      <th></th>\n",
       "      <th></th>\n",
       "      <th></th>\n",
       "      <th></th>\n",
       "      <th></th>\n",
       "      <th></th>\n",
       "    </tr>\n",
       "  </thead>\n",
       "  <tbody>\n",
       "    <tr>\n",
       "      <th>975900</th>\n",
       "      <td>Ghosts of Mars</td>\n",
       "      <td>2001</td>\n",
       "      <td>8.0</td>\n",
       "      <td>14010832.0</td>\n",
       "      <td>56880</td>\n",
       "      <td>4.9</td>\n",
       "      <td>/9SdsZUF4c6JC4D7BaS6q4atglJ5.jpg</td>\n",
       "      <td>tt0228333</td>\n",
       "    </tr>\n",
       "    <tr>\n",
       "      <th>3196793</th>\n",
       "      <td>Getting Away with Murder: The JonBenét Ramsey ...</td>\n",
       "      <td>2000</td>\n",
       "      <td>2.0</td>\n",
       "      <td>NaN</td>\n",
       "      <td>69</td>\n",
       "      <td>6.0</td>\n",
       "      <td>NaN</td>\n",
       "      <td>tt0245916</td>\n",
       "    </tr>\n",
       "    <tr>\n",
       "      <th>28463795</th>\n",
       "      <td>Brun bitter</td>\n",
       "      <td>1988</td>\n",
       "      <td>NaN</td>\n",
       "      <td>NaN</td>\n",
       "      <td>40</td>\n",
       "      <td>5.6</td>\n",
       "      <td>NaN</td>\n",
       "      <td>tt0094806</td>\n",
       "    </tr>\n",
       "    <tr>\n",
       "      <th>9363483</th>\n",
       "      <td>White Of The Eye</td>\n",
       "      <td>1987</td>\n",
       "      <td>NaN</td>\n",
       "      <td>NaN</td>\n",
       "      <td>2891</td>\n",
       "      <td>6.1</td>\n",
       "      <td>NaN</td>\n",
       "      <td>tt0094320</td>\n",
       "    </tr>\n",
       "    <tr>\n",
       "      <th>261236</th>\n",
       "      <td>A Woman in Flames</td>\n",
       "      <td>1983</td>\n",
       "      <td>NaN</td>\n",
       "      <td>NaN</td>\n",
       "      <td>623</td>\n",
       "      <td>5.9</td>\n",
       "      <td>NaN</td>\n",
       "      <td>tt0083949</td>\n",
       "    </tr>\n",
       "  </tbody>\n",
       "</table>\n",
       "</div>"
      ],
      "text/plain": [
       "                                                   mov_name  year  month  \\\n",
       "wiki_ID                                                                    \n",
       "975900                                       Ghosts of Mars  2001    8.0   \n",
       "3196793   Getting Away with Murder: The JonBenét Ramsey ...  2000    2.0   \n",
       "28463795                                        Brun bitter  1988    NaN   \n",
       "9363483                                    White Of The Eye  1987    NaN   \n",
       "261236                                    A Woman in Flames  1983    NaN   \n",
       "\n",
       "             revenue  numVotes  averageRating  \\\n",
       "wiki_ID                                         \n",
       "975900    14010832.0     56880            4.9   \n",
       "3196793          NaN        69            6.0   \n",
       "28463795         NaN        40            5.6   \n",
       "9363483          NaN      2891            6.1   \n",
       "261236           NaN       623            5.9   \n",
       "\n",
       "                                poster_url    IMDB_ID  \n",
       "wiki_ID                                                \n",
       "975900    /9SdsZUF4c6JC4D7BaS6q4atglJ5.jpg  tt0228333  \n",
       "3196793                                NaN  tt0245916  \n",
       "28463795                               NaN  tt0094806  \n",
       "9363483                                NaN  tt0094320  \n",
       "261236                                 NaN  tt0083949  "
      ]
     },
     "metadata": {},
     "output_type": "display_data"
    },
    {
     "name": "stdout",
     "output_type": "stream",
     "text": [
      "name_by_movie_ordered_df :\n"
     ]
    },
    {
     "data": {
      "text/html": [
       "<div>\n",
       "<style scoped>\n",
       "    .dataframe tbody tr th:only-of-type {\n",
       "        vertical-align: middle;\n",
       "    }\n",
       "\n",
       "    .dataframe tbody tr th {\n",
       "        vertical-align: top;\n",
       "    }\n",
       "\n",
       "    .dataframe thead th {\n",
       "        text-align: right;\n",
       "    }\n",
       "</style>\n",
       "<table border=\"1\" class=\"dataframe\">\n",
       "  <thead>\n",
       "    <tr style=\"text-align: right;\">\n",
       "      <th></th>\n",
       "      <th>wiki_ID</th>\n",
       "      <th>char_words</th>\n",
       "      <th>order</th>\n",
       "      <th>gender</th>\n",
       "    </tr>\n",
       "  </thead>\n",
       "  <tbody>\n",
       "    <tr>\n",
       "      <th>0</th>\n",
       "      <td>3217</td>\n",
       "      <td>Gold</td>\n",
       "      <td>6.0</td>\n",
       "      <td>NaN</td>\n",
       "    </tr>\n",
       "    <tr>\n",
       "      <th>1</th>\n",
       "      <td>3217</td>\n",
       "      <td>Linda</td>\n",
       "      <td>7.0</td>\n",
       "      <td>F</td>\n",
       "    </tr>\n",
       "    <tr>\n",
       "      <th>2</th>\n",
       "      <td>3217</td>\n",
       "      <td>Henry</td>\n",
       "      <td>4.0</td>\n",
       "      <td>M</td>\n",
       "    </tr>\n",
       "    <tr>\n",
       "      <th>3</th>\n",
       "      <td>3217</td>\n",
       "      <td>Duke</td>\n",
       "      <td>4.0</td>\n",
       "      <td>M</td>\n",
       "    </tr>\n",
       "    <tr>\n",
       "      <th>4</th>\n",
       "      <td>3217</td>\n",
       "      <td>Warrior</td>\n",
       "      <td>9.0</td>\n",
       "      <td>M</td>\n",
       "    </tr>\n",
       "  </tbody>\n",
       "</table>\n",
       "</div>"
      ],
      "text/plain": [
       "   wiki_ID char_words  order gender\n",
       "0     3217       Gold    6.0    NaN\n",
       "1     3217      Linda    7.0      F\n",
       "2     3217      Henry    4.0      M\n",
       "3     3217       Duke    4.0      M\n",
       "4     3217    Warrior    9.0      M"
      ]
     },
     "metadata": {},
     "output_type": "display_data"
    },
    {
     "name": "stdout",
     "output_type": "stream",
     "text": [
      "baby_name_df :\n"
     ]
    },
    {
     "data": {
      "text/html": [
       "<div>\n",
       "<style scoped>\n",
       "    .dataframe tbody tr th:only-of-type {\n",
       "        vertical-align: middle;\n",
       "    }\n",
       "\n",
       "    .dataframe tbody tr th {\n",
       "        vertical-align: top;\n",
       "    }\n",
       "\n",
       "    .dataframe thead th {\n",
       "        text-align: right;\n",
       "    }\n",
       "</style>\n",
       "<table border=\"1\" class=\"dataframe\">\n",
       "  <thead>\n",
       "    <tr style=\"text-align: right;\">\n",
       "      <th></th>\n",
       "      <th>name</th>\n",
       "      <th>year</th>\n",
       "      <th>number</th>\n",
       "      <th>percentage</th>\n",
       "    </tr>\n",
       "  </thead>\n",
       "  <tbody>\n",
       "    <tr>\n",
       "      <th>0</th>\n",
       "      <td>Aaban</td>\n",
       "      <td>2007</td>\n",
       "      <td>1</td>\n",
       "      <td>0.000026</td>\n",
       "    </tr>\n",
       "    <tr>\n",
       "      <th>1</th>\n",
       "      <td>Aadam</td>\n",
       "      <td>2007</td>\n",
       "      <td>4</td>\n",
       "      <td>0.000103</td>\n",
       "    </tr>\n",
       "    <tr>\n",
       "      <th>2</th>\n",
       "      <td>Aadan</td>\n",
       "      <td>2007</td>\n",
       "      <td>4</td>\n",
       "      <td>0.000103</td>\n",
       "    </tr>\n",
       "    <tr>\n",
       "      <th>3</th>\n",
       "      <td>Aadarsh</td>\n",
       "      <td>2007</td>\n",
       "      <td>9</td>\n",
       "      <td>0.000233</td>\n",
       "    </tr>\n",
       "    <tr>\n",
       "      <th>4</th>\n",
       "      <td>Aaden</td>\n",
       "      <td>2007</td>\n",
       "      <td>153</td>\n",
       "      <td>0.003957</td>\n",
       "    </tr>\n",
       "  </tbody>\n",
       "</table>\n",
       "</div>"
      ],
      "text/plain": [
       "      name  year  number  percentage\n",
       "0    Aaban  2007       1    0.000026\n",
       "1    Aadam  2007       4    0.000103\n",
       "2    Aadan  2007       4    0.000103\n",
       "3  Aadarsh  2007       9    0.000233\n",
       "4    Aaden  2007     153    0.003957"
      ]
     },
     "metadata": {},
     "output_type": "display_data"
    }
   ],
   "source": [
    "folder_processed_data_path = './data/processed_data/'\n",
    "\n",
    "# import movie_df to get the release date\n",
    "movie_df = pd.read_csv(os.path.join(folder_processed_data_path, 'movie_df.csv'))\n",
    "movie_df.set_index(['wiki_ID'], inplace=True)\n",
    "\n",
    "# import name_by_movie_ordered_df to get the character name and their corresponding movies. \n",
    "name_by_movie_ordered_df = pd.read_csv(os.path.join(folder_processed_data_path, 'name_by_movie_ordered_df.csv'))\n",
    "\n",
    "baby_name_df = pd.read_csv(os.path.join(folder_processed_data_path, 'baby_name_df.csv'))\n",
    "\n",
    "print(\"movie_df :\")\n",
    "display(movie_df.head())\n",
    "print(\"name_by_movie_ordered_df :\")\n",
    "display(name_by_movie_ordered_df.head())\n",
    "print(\"baby_name_df :\")\n",
    "display(baby_name_df.head())"
   ]
  },
  {
   "cell_type": "code",
   "execution_count": 3,
   "metadata": {},
   "outputs": [
    {
     "name": "stdout",
     "output_type": "stream",
     "text": [
      "max_year :  2022\n",
      "min_year :  1880\n"
     ]
    }
   ],
   "source": [
    "# In baby_name_df, add zero percentage data point for the years where there are no data\n",
    "max_year = baby_name_df['year'].max()\n",
    "min_year = baby_name_df['year'].min()\n",
    "print(\"max_year : \", max_year)\n",
    "print(\"min_year : \", min_year)"
   ]
  },
  {
   "cell_type": "code",
   "execution_count": 4,
   "metadata": {},
   "outputs": [
    {
     "data": {
      "text/html": [
       "<div>\n",
       "<style scoped>\n",
       "    .dataframe tbody tr th:only-of-type {\n",
       "        vertical-align: middle;\n",
       "    }\n",
       "\n",
       "    .dataframe tbody tr th {\n",
       "        vertical-align: top;\n",
       "    }\n",
       "\n",
       "    .dataframe thead th {\n",
       "        text-align: right;\n",
       "    }\n",
       "</style>\n",
       "<table border=\"1\" class=\"dataframe\">\n",
       "  <thead>\n",
       "    <tr style=\"text-align: right;\">\n",
       "      <th></th>\n",
       "      <th>name</th>\n",
       "      <th>year</th>\n",
       "      <th>number</th>\n",
       "      <th>percentage</th>\n",
       "    </tr>\n",
       "  </thead>\n",
       "  <tbody>\n",
       "    <tr>\n",
       "      <th>0</th>\n",
       "      <td>Aaban</td>\n",
       "      <td>1880</td>\n",
       "      <td>0.0</td>\n",
       "      <td>0.0</td>\n",
       "    </tr>\n",
       "    <tr>\n",
       "      <th>1</th>\n",
       "      <td>Aaban</td>\n",
       "      <td>1881</td>\n",
       "      <td>0.0</td>\n",
       "      <td>0.0</td>\n",
       "    </tr>\n",
       "    <tr>\n",
       "      <th>2</th>\n",
       "      <td>Aaban</td>\n",
       "      <td>1882</td>\n",
       "      <td>0.0</td>\n",
       "      <td>0.0</td>\n",
       "    </tr>\n",
       "    <tr>\n",
       "      <th>3</th>\n",
       "      <td>Aaban</td>\n",
       "      <td>1883</td>\n",
       "      <td>0.0</td>\n",
       "      <td>0.0</td>\n",
       "    </tr>\n",
       "    <tr>\n",
       "      <th>4</th>\n",
       "      <td>Aaban</td>\n",
       "      <td>1884</td>\n",
       "      <td>0.0</td>\n",
       "      <td>0.0</td>\n",
       "    </tr>\n",
       "    <tr>\n",
       "      <th>...</th>\n",
       "      <td>...</td>\n",
       "      <td>...</td>\n",
       "      <td>...</td>\n",
       "      <td>...</td>\n",
       "    </tr>\n",
       "    <tr>\n",
       "      <th>14547753</th>\n",
       "      <td>Zeljko</td>\n",
       "      <td>2017</td>\n",
       "      <td>0.0</td>\n",
       "      <td>0.0</td>\n",
       "    </tr>\n",
       "    <tr>\n",
       "      <th>14547754</th>\n",
       "      <td>Zeljko</td>\n",
       "      <td>2018</td>\n",
       "      <td>0.0</td>\n",
       "      <td>0.0</td>\n",
       "    </tr>\n",
       "    <tr>\n",
       "      <th>14547755</th>\n",
       "      <td>Zeljko</td>\n",
       "      <td>2019</td>\n",
       "      <td>0.0</td>\n",
       "      <td>0.0</td>\n",
       "    </tr>\n",
       "    <tr>\n",
       "      <th>14547756</th>\n",
       "      <td>Zeljko</td>\n",
       "      <td>2020</td>\n",
       "      <td>0.0</td>\n",
       "      <td>0.0</td>\n",
       "    </tr>\n",
       "    <tr>\n",
       "      <th>14547757</th>\n",
       "      <td>Zeljko</td>\n",
       "      <td>2021</td>\n",
       "      <td>0.0</td>\n",
       "      <td>0.0</td>\n",
       "    </tr>\n",
       "  </tbody>\n",
       "</table>\n",
       "<p>14547758 rows × 4 columns</p>\n",
       "</div>"
      ],
      "text/plain": [
       "            name  year  number  percentage\n",
       "0          Aaban  1880     0.0         0.0\n",
       "1          Aaban  1881     0.0         0.0\n",
       "2          Aaban  1882     0.0         0.0\n",
       "3          Aaban  1883     0.0         0.0\n",
       "4          Aaban  1884     0.0         0.0\n",
       "...          ...   ...     ...         ...\n",
       "14547753  Zeljko  2017     0.0         0.0\n",
       "14547754  Zeljko  2018     0.0         0.0\n",
       "14547755  Zeljko  2019     0.0         0.0\n",
       "14547756  Zeljko  2020     0.0         0.0\n",
       "14547757  Zeljko  2021     0.0         0.0\n",
       "\n",
       "[14547758 rows x 4 columns]"
      ]
     },
     "metadata": {},
     "output_type": "display_data"
    },
    {
     "name": "stdout",
     "output_type": "stream",
     "text": [
      "Length of baby_name_df : 1903290\n",
      "Length of zero_padding_baby_name_df : 14547758\n"
     ]
    }
   ],
   "source": [
    "# Create a reference DataFrame with all combinations of 'name' and 'year'\n",
    "all_names = baby_name_df['name'].unique()\n",
    "all_years = range(1880, 2022)\n",
    "\n",
    "reference_df = pd.DataFrame([(name, year) for name in all_names for year in all_years],\n",
    "                             columns=['name', 'year'])\n",
    "\n",
    "# Merge the reference DataFrame with the original DataFrame\n",
    "zero_padding_baby_name_df = pd.merge(reference_df, baby_name_df, on=['name', 'year'], how='left').copy(deep=True)\n",
    "\n",
    "# Replace NaN values with 0 in both score columns\n",
    "zero_padding_baby_name_df['number'] = zero_padding_baby_name_df['number'].fillna(0)\n",
    "zero_padding_baby_name_df['percentage'] = zero_padding_baby_name_df['percentage'].fillna(0)\n",
    "\n",
    "# Display the result\n",
    "display(zero_padding_baby_name_df)\n",
    "print(f\"Length of baby_name_df : {len(baby_name_df)}\")\n",
    "print(f\"Length of zero_padding_baby_name_df : {len(zero_padding_baby_name_df)}\")"
   ]
  },
  {
   "cell_type": "code",
   "execution_count": 5,
   "metadata": {},
   "outputs": [],
   "source": [
    "baby_name_df = zero_padding_baby_name_df.copy(deep=True)"
   ]
  },
  {
   "cell_type": "markdown",
   "metadata": {},
   "source": [
    "## 3. Testing computation on a single movie, one character name\n",
    "### 3.1 Data setup\n",
    "Let's choose the famous movie \"Pulp Fiction\" and the character `Mia`"
   ]
  },
  {
   "cell_type": "code",
   "execution_count": 6,
   "metadata": {},
   "outputs": [],
   "source": [
    "nb_year_after = 5\n",
    "nb_year_before = 10"
   ]
  },
  {
   "cell_type": "code",
   "execution_count": 7,
   "metadata": {},
   "outputs": [
    {
     "data": {
      "text/html": [
       "<div>\n",
       "<style scoped>\n",
       "    .dataframe tbody tr th:only-of-type {\n",
       "        vertical-align: middle;\n",
       "    }\n",
       "\n",
       "    .dataframe tbody tr th {\n",
       "        vertical-align: top;\n",
       "    }\n",
       "\n",
       "    .dataframe thead th {\n",
       "        text-align: right;\n",
       "    }\n",
       "</style>\n",
       "<table border=\"1\" class=\"dataframe\">\n",
       "  <thead>\n",
       "    <tr style=\"text-align: right;\">\n",
       "      <th></th>\n",
       "      <th>mov_name</th>\n",
       "      <th>year</th>\n",
       "      <th>month</th>\n",
       "      <th>revenue</th>\n",
       "      <th>numVotes</th>\n",
       "      <th>averageRating</th>\n",
       "      <th>poster_url</th>\n",
       "      <th>IMDB_ID</th>\n",
       "    </tr>\n",
       "    <tr>\n",
       "      <th>wiki_ID</th>\n",
       "      <th></th>\n",
       "      <th></th>\n",
       "      <th></th>\n",
       "      <th></th>\n",
       "      <th></th>\n",
       "      <th></th>\n",
       "      <th></th>\n",
       "      <th></th>\n",
       "    </tr>\n",
       "  </thead>\n",
       "  <tbody>\n",
       "    <tr>\n",
       "      <th>54173</th>\n",
       "      <td>Pulp Fiction</td>\n",
       "      <td>1994</td>\n",
       "      <td>5.0</td>\n",
       "      <td>213928762.0</td>\n",
       "      <td>2158972</td>\n",
       "      <td>8.9</td>\n",
       "      <td>/on5fMsjLKMJX6ic4anPKwVnuExu.jpg</td>\n",
       "      <td>tt0110912</td>\n",
       "    </tr>\n",
       "  </tbody>\n",
       "</table>\n",
       "</div>"
      ],
      "text/plain": [
       "             mov_name  year  month      revenue  numVotes  averageRating  \\\n",
       "wiki_ID                                                                    \n",
       "54173    Pulp Fiction  1994    5.0  213928762.0   2158972            8.9   \n",
       "\n",
       "                               poster_url    IMDB_ID  \n",
       "wiki_ID                                               \n",
       "54173    /on5fMsjLKMJX6ic4anPKwVnuExu.jpg  tt0110912  "
      ]
     },
     "execution_count": 7,
     "metadata": {},
     "output_type": "execute_result"
    }
   ],
   "source": [
    "# search the movie ID\n",
    "chosen_movie_name = \"Pulp Fiction\"\n",
    "movie_df.query(\"mov_name == @chosen_movie_name\")"
   ]
  },
  {
   "cell_type": "code",
   "execution_count": 8,
   "metadata": {},
   "outputs": [],
   "source": [
    "chosen_name = 'Mia'\n",
    "chosen_movie_ID = 54173\n",
    "\n",
    "print(f\"The chosen character is {chosen_name} in the movie \\\"{movie_df.loc[chosen_movie_ID]['mov_name']}\\\" released in {movie_df.loc[chosen_movie_ID]['year']}\")"
   ]
  },
  {
   "cell_type": "code",
   "execution_count": 9,
   "metadata": {},
   "outputs": [],
   "source": [
    "# filter the baby name dataframe to get only the data of \"Mia\" baby name\n",
    "chosen_baby_name_df = baby_name_df.query(\"name == @chosen_name\").sort_values(by=['year'])"
   ]
  },
  {
   "cell_type": "code",
   "execution_count": 10,
   "metadata": {},
   "outputs": [],
   "source": [
    "# get the release date\n",
    "release_year = movie_df.loc[chosen_movie_ID]['year']\n",
    "print(f\"release year = {release_year}\")"
   ]
  },
  {
   "cell_type": "markdown",
   "metadata": {},
   "source": [
    "We select the range of years before and after the movie release coresponding to the baby name data, with the corresponding percentage of babies with this name:"
   ]
  },
  {
   "cell_type": "code",
   "execution_count": 11,
   "metadata": {},
   "outputs": [
    {
     "data": {
      "text/html": [
       "<div>\n",
       "<style scoped>\n",
       "    .dataframe tbody tr th:only-of-type {\n",
       "        vertical-align: middle;\n",
       "    }\n",
       "\n",
       "    .dataframe tbody tr th {\n",
       "        vertical-align: top;\n",
       "    }\n",
       "\n",
       "    .dataframe thead th {\n",
       "        text-align: right;\n",
       "    }\n",
       "</style>\n",
       "<table border=\"1\" class=\"dataframe\">\n",
       "  <thead>\n",
       "    <tr style=\"text-align: right;\">\n",
       "      <th></th>\n",
       "      <th>index</th>\n",
       "      <th>name</th>\n",
       "      <th>year</th>\n",
       "      <th>number</th>\n",
       "      <th>percentage</th>\n",
       "    </tr>\n",
       "  </thead>\n",
       "  <tbody>\n",
       "    <tr>\n",
       "      <th>0</th>\n",
       "      <td>3121832</td>\n",
       "      <td>Mia</td>\n",
       "      <td>1984</td>\n",
       "      <td>448.0</td>\n",
       "      <td>0.013108</td>\n",
       "    </tr>\n",
       "    <tr>\n",
       "      <th>1</th>\n",
       "      <td>3121833</td>\n",
       "      <td>Mia</td>\n",
       "      <td>1985</td>\n",
       "      <td>496.0</td>\n",
       "      <td>0.014188</td>\n",
       "    </tr>\n",
       "    <tr>\n",
       "      <th>2</th>\n",
       "      <td>3121834</td>\n",
       "      <td>Mia</td>\n",
       "      <td>1986</td>\n",
       "      <td>487.0</td>\n",
       "      <td>0.013987</td>\n",
       "    </tr>\n",
       "    <tr>\n",
       "      <th>3</th>\n",
       "      <td>3121835</td>\n",
       "      <td>Mia</td>\n",
       "      <td>1987</td>\n",
       "      <td>545.0</td>\n",
       "      <td>0.015450</td>\n",
       "    </tr>\n",
       "    <tr>\n",
       "      <th>4</th>\n",
       "      <td>3121836</td>\n",
       "      <td>Mia</td>\n",
       "      <td>1988</td>\n",
       "      <td>616.0</td>\n",
       "      <td>0.017049</td>\n",
       "    </tr>\n",
       "    <tr>\n",
       "      <th>5</th>\n",
       "      <td>3121837</td>\n",
       "      <td>Mia</td>\n",
       "      <td>1989</td>\n",
       "      <td>672.0</td>\n",
       "      <td>0.017883</td>\n",
       "    </tr>\n",
       "    <tr>\n",
       "      <th>6</th>\n",
       "      <td>3121838</td>\n",
       "      <td>Mia</td>\n",
       "      <td>1990</td>\n",
       "      <td>779.0</td>\n",
       "      <td>0.020174</td>\n",
       "    </tr>\n",
       "    <tr>\n",
       "      <th>7</th>\n",
       "      <td>3121839</td>\n",
       "      <td>Mia</td>\n",
       "      <td>1991</td>\n",
       "      <td>775.0</td>\n",
       "      <td>0.020380</td>\n",
       "    </tr>\n",
       "    <tr>\n",
       "      <th>8</th>\n",
       "      <td>3121840</td>\n",
       "      <td>Mia</td>\n",
       "      <td>1992</td>\n",
       "      <td>818.0</td>\n",
       "      <td>0.021828</td>\n",
       "    </tr>\n",
       "    <tr>\n",
       "      <th>9</th>\n",
       "      <td>3121841</td>\n",
       "      <td>Mia</td>\n",
       "      <td>1993</td>\n",
       "      <td>796.0</td>\n",
       "      <td>0.021660</td>\n",
       "    </tr>\n",
       "  </tbody>\n",
       "</table>\n",
       "</div>"
      ],
      "text/plain": [
       "     index name  year  number  percentage\n",
       "0  3121832  Mia  1984   448.0    0.013108\n",
       "1  3121833  Mia  1985   496.0    0.014188\n",
       "2  3121834  Mia  1986   487.0    0.013987\n",
       "3  3121835  Mia  1987   545.0    0.015450\n",
       "4  3121836  Mia  1988   616.0    0.017049\n",
       "5  3121837  Mia  1989   672.0    0.017883\n",
       "6  3121838  Mia  1990   779.0    0.020174\n",
       "7  3121839  Mia  1991   775.0    0.020380\n",
       "8  3121840  Mia  1992   818.0    0.021828\n",
       "9  3121841  Mia  1993   796.0    0.021660"
      ]
     },
     "metadata": {},
     "output_type": "display_data"
    },
    {
     "data": {
      "text/html": [
       "<div>\n",
       "<style scoped>\n",
       "    .dataframe tbody tr th:only-of-type {\n",
       "        vertical-align: middle;\n",
       "    }\n",
       "\n",
       "    .dataframe tbody tr th {\n",
       "        vertical-align: top;\n",
       "    }\n",
       "\n",
       "    .dataframe thead th {\n",
       "        text-align: right;\n",
       "    }\n",
       "</style>\n",
       "<table border=\"1\" class=\"dataframe\">\n",
       "  <thead>\n",
       "    <tr style=\"text-align: right;\">\n",
       "      <th></th>\n",
       "      <th>index</th>\n",
       "      <th>name</th>\n",
       "      <th>year</th>\n",
       "      <th>number</th>\n",
       "      <th>percentage</th>\n",
       "    </tr>\n",
       "  </thead>\n",
       "  <tbody>\n",
       "    <tr>\n",
       "      <th>0</th>\n",
       "      <td>3121842</td>\n",
       "      <td>Mia</td>\n",
       "      <td>1994</td>\n",
       "      <td>857.0</td>\n",
       "      <td>0.023661</td>\n",
       "    </tr>\n",
       "    <tr>\n",
       "      <th>1</th>\n",
       "      <td>3121843</td>\n",
       "      <td>Mia</td>\n",
       "      <td>1995</td>\n",
       "      <td>1098.0</td>\n",
       "      <td>0.030791</td>\n",
       "    </tr>\n",
       "    <tr>\n",
       "      <th>2</th>\n",
       "      <td>3121844</td>\n",
       "      <td>Mia</td>\n",
       "      <td>1996</td>\n",
       "      <td>1686.0</td>\n",
       "      <td>0.047497</td>\n",
       "    </tr>\n",
       "    <tr>\n",
       "      <th>3</th>\n",
       "      <td>3121845</td>\n",
       "      <td>Mia</td>\n",
       "      <td>1997</td>\n",
       "      <td>2491.0</td>\n",
       "      <td>0.070647</td>\n",
       "    </tr>\n",
       "    <tr>\n",
       "      <th>4</th>\n",
       "      <td>3121846</td>\n",
       "      <td>Mia</td>\n",
       "      <td>1998</td>\n",
       "      <td>2562.0</td>\n",
       "      <td>0.071663</td>\n",
       "    </tr>\n",
       "  </tbody>\n",
       "</table>\n",
       "</div>"
      ],
      "text/plain": [
       "     index name  year  number  percentage\n",
       "0  3121842  Mia  1994   857.0    0.023661\n",
       "1  3121843  Mia  1995  1098.0    0.030791\n",
       "2  3121844  Mia  1996  1686.0    0.047497\n",
       "3  3121845  Mia  1997  2491.0    0.070647\n",
       "4  3121846  Mia  1998  2562.0    0.071663"
      ]
     },
     "metadata": {},
     "output_type": "display_data"
    }
   ],
   "source": [
    "before_df = chosen_baby_name_df[(chosen_baby_name_df.year >= release_year-nb_year_before) & (chosen_baby_name_df.year <= release_year-1)].reset_index()\n",
    "after_df = chosen_baby_name_df[(chosen_baby_name_df.year >= release_year) & (chosen_baby_name_df.year <= release_year+nb_year_after-1)].reset_index()\n",
    "display(before_df)\n",
    "display(after_df)"
   ]
  },
  {
   "cell_type": "markdown",
   "metadata": {},
   "source": [
    "Let's plot the curve and highlight the release date."
   ]
  },
  {
   "cell_type": "code",
   "execution_count": 12,
   "metadata": {},
   "outputs": [
    {
     "data": {
      "image/png": "[encoded data removed]",
      "text/plain": [
       "<Figure size 640x480 with 1 Axes>"
      ]
     },
     "metadata": {},
     "output_type": "display_data"
    }
   ],
   "source": [
    "union_before_after_df = pd.concat([before_df, after_df], ignore_index=True)\n",
    "\n",
    "x_values = union_before_after_df['year'].values\n",
    "y_values = union_before_after_df['percentage'].values\n",
    "\n",
    "# Create a scatter plot\n",
    "plt.plot(x_values, y_values)\n",
    "plt.xlabel('Years')\n",
    "plt.ylabel('Percentage of total births')\n",
    "plt.title(f'Given name {chosen_name} with the release of the movie {movie_df.loc[chosen_movie_ID].mov_name}')\n",
    "\n",
    "# Draw vertical lines for each movie release\n",
    "plt.axvline(x=release_year, color='r', linestyle='--', label=f'x={release_year}')\n",
    "plt.legend()\n",
    "\n",
    "plt.show()"
   ]
  },
  {
   "cell_type": "markdown",
   "metadata": {},
   "source": [
    "### 3.2 Compute regression\n",
    "Lets now carry out a linear regression on both side of the release date."
   ]
  },
  {
   "cell_type": "code",
   "execution_count": 13,
   "metadata": {},
   "outputs": [
    {
     "name": "stdout",
     "output_type": "stream",
     "text": [
      "Before release : \n",
      "   beta = 0.0011, intercept = -2.12 \n",
      "\n",
      "After release : \n",
      "   beta = 0.0136, intercept = -27.07\n"
     ]
    }
   ],
   "source": [
    "# model before release\n",
    "mod_before = smf.ols(formula = 'percentage ~ year' , data = before_df)\n",
    "np.random.seed(2)\n",
    "res_before = mod_before.fit()\n",
    "\n",
    "coefficients_before = res_before.params.values\n",
    "beta_before = coefficients_before[1]\n",
    "intercept_before = coefficients_before[0]\n",
    "\n",
    "# model after release\n",
    "mod_after = smf.ols(formula = 'percentage ~ year' , data = after_df)\n",
    "res_after = mod_after.fit()\n",
    "\n",
    "coefficients_after = res_after.params.values\n",
    "beta_after = coefficients_after[1]\n",
    "intercept_after = coefficients_after[0]\n",
    "\n",
    "print(\"Before release : \")\n",
    "print(f\"   beta = {beta_before:.4f}, intercept = {intercept_before:.2f} \\n\")\n",
    "\n",
    "print(\"After release : \")\n",
    "print(f\"   beta = {beta_after:.4f}, intercept = {intercept_after:.2f}\")"
   ]
  },
  {
   "cell_type": "markdown",
   "metadata": {},
   "source": [
    "And plot the regression lines."
   ]
  },
  {
   "cell_type": "code",
   "execution_count": 14,
   "metadata": {},
   "outputs": [
    {
     "data": {
      "image/png": "[encoded data removed]",
      "text/plain": [
       "<Figure size 640x480 with 1 Axes>"
      ]
     },
     "metadata": {},
     "output_type": "display_data"
    }
   ],
   "source": [
    "union_before_after_df = pd.concat([before_df, after_df], ignore_index=True)\n",
    "\n",
    "x_values = union_before_after_df['year'].values\n",
    "y_values = union_before_after_df['percentage'].values\n",
    "\n",
    "# Create a scatter plot\n",
    "plt.plot(x_values, y_values)\n",
    "plt.xlabel('Years')\n",
    "plt.ylabel('Percentage of total births')\n",
    "plt.title(f'Given name {chosen_name} with the release of the movie {movie_df.loc[chosen_movie_ID].mov_name}')\n",
    "\n",
    "# Calculate y values for the regression lines\n",
    "reg_before = beta_before * x_values + intercept_before\n",
    "reg_after = beta_after * x_values + intercept_after\n",
    "# Plot the regression lines\n",
    "plt.plot(x_values, reg_before, label=f'Before (slope={beta_before:.4f}, intercept={intercept_before:.2f})', color='red')\n",
    "plt.plot(x_values, reg_after, label=f'After (slope={beta_after:.4f}, intercept={intercept_after:.2f})', color='blue')\n",
    "\n",
    "# Draw vertical lines for each movie release\n",
    "plt.axvline(x=release_year, color='r', linestyle='--', label=f'x={release_year}')\n",
    "plt.legend()\n",
    "\n",
    "plt.show()"
   ]
  },
  {
   "cell_type": "markdown",
   "metadata": {},
   "source": [
    "### 3.3 T-test\n",
    "Now we carry out a t-test on the two regression lines."
   ]
  },
  {
   "cell_type": "code",
   "execution_count": 15,
   "metadata": {},
   "outputs": [
    {
     "name": "stdout",
     "output_type": "stream",
     "text": [
      "T-statistic: -3.5405099407316394\n",
      "P-value: 0.0046285686243801175\n",
      "Slope change: 0.011050212658611263\n"
     ]
    }
   ],
   "source": [
    "before_diffs = before_df['percentage'][1:].values - before_df['percentage'][:-1]\n",
    "after_diffs = after_df['percentage'][1:].values - after_df['percentage'][:-1]\n",
    "\n",
    "# Comparing the slopes of the two regression models\n",
    "t_stat, p_value = stats.ttest_ind(before_diffs, after_diffs)\n",
    "\n",
    "print(\"T-statistic:\", t_stat)\n",
    "print(\"P-value:\",p_value)\n",
    "print(\"Slope change:\",after_diffs.mean()-before_diffs.mean())\n"
   ]
  },
  {
   "cell_type": "markdown",
   "metadata": {},
   "source": [
    "We have a p-value lower than 0.1, therefore the variation is signification with our significance level. The t-statistic shows that it is an increase."
   ]
  },
  {
   "cell_type": "markdown",
   "metadata": {},
   "source": [
    "## 4. Computation for all movie and character\n",
    "Here the same computation is done for all characters of all movie using the apply method on the dataframe name_by_movie.\n",
    "\n",
    "The computation is time-consuming (25min). Therefore the output is not there."
   ]
  },
  {
   "cell_type": "code",
   "execution_count": null,
   "metadata": {},
   "outputs": [],
   "source": [
    "iter = 0\n",
    "\n",
    "nb_yr_before = 10\n",
    "nb_yr_after = 5\n",
    "\n",
    "# Function to calculate total income (salary + bonus)\n",
    "def apply_regression(row):\n",
    "    global iter\n",
    "\n",
    "    chosen_movie_ID = row['wiki_ID']\n",
    "    chosen_name = row['char_words']\n",
    "    \n",
    "    chosen_baby_name_df = baby_name_df.query(\"name == @chosen_name\").sort_values(by=['year'])\n",
    "\n",
    "    release_year = movie_df.loc[chosen_movie_ID]['year']\n",
    "    \n",
    "    before_df = chosen_baby_name_df[(chosen_baby_name_df.year >= release_year-nb_year_before) & (chosen_baby_name_df.year <= release_year-1)].reset_index()\n",
    "    after_df = chosen_baby_name_df[(chosen_baby_name_df.year >= release_year) & (chosen_baby_name_df.year <= release_year+nb_year_after-1)].reset_index()\n",
    "    \n",
    "    if (len(before_df) != nb_yr_before) or (len(after_df) != nb_yr_after):\n",
    "        # print(\"not enough datapoints : return NaN\")\n",
    "        row['t_stat'] = np.NaN\n",
    "        row['p_value'] = np.NaN\n",
    "        row['slope_change'] = np.NaN\n",
    "    else:\n",
    "        before_diffs = before_df['percentage'][1:].values - before_df['percentage'][:-1]\n",
    "        after_diffs = after_df['percentage'][1:].values - after_df['percentage'][:-1]\n",
    "\n",
    "        # Comparing the slopes of the two regression models\n",
    "        t_stat, p_value = stats.ttest_ind(before_diffs, after_diffs)\n",
    "\n",
    "        row['t_stat'] = t_stat\n",
    "        row['p_value'] = p_value\n",
    "        row['slope_change'] = after_diffs.mean() - before_diffs.mean()\n",
    "\n",
    "    iter += 1\n",
    "    print(\"Batch {} of {}\".format(iter, len(name_by_movie_ordered_df)), end=\"\\r\")\n",
    "    \n",
    "    # print(f\"Movie ID : {chosen_movie_ID}, Name : {chosen_name}, P-VALUE = {p_value}\")\n",
    "    # print(f\"Movie ID : {chosen_movie_ID}, Name : {chosen_name}, slope change = {row['slope_change']}, t-stat = {row['t_stat']}\")\n",
    "    return row\n",
    "\n",
    "# Apply the function to the dataframe\n",
    "name_by_movie_ordered_pvalue_df = name_by_movie_ordered_df.copy(deep=True)\n",
    "name_by_movie_ordered_pvalue_df = name_by_movie_ordered_pvalue_df.apply(apply_regression, axis=1)\n",
    "\n",
    "display(name_by_movie_ordered_pvalue_df.head())"
   ]
  },
  {
   "cell_type": "markdown",
   "metadata": {},
   "source": [
    "Export the new name_by_movie dataframe with the result of the t-test."
   ]
  },
  {
   "cell_type": "code",
   "execution_count": null,
   "metadata": {},
   "outputs": [],
   "source": [
    "processed_folder = './data/processed_data/'\n",
    "name_by_movie_ordered_pvalue_df.to_csv(os.path.join(processed_folder, 'name_by_movie_ordered_pvalue_10_5_test1.csv'), index=False)"
   ]
  },
  {
   "cell_type": "code",
   "execution_count": null,
   "metadata": {},
   "outputs": [],
   "source": [
    "# compute the percentage of missing values in p_value column\n",
    "print(f\"Percentage of missing values in p_value column : {name_by_movie_ordered_pvalue_df['p_value'].isna().sum()/len(name_by_movie_ordered_pvalue_df)*100:.2f}%\")"
   ]
  },
  {
   "cell_type": "markdown",
   "metadata": {},
   "source": [
    "## 5. Results"
   ]
  },
  {
   "cell_type": "code",
   "execution_count": 16,
   "metadata": {},
   "outputs": [],
   "source": [
    "name_by_movie = pd.read_csv(os.path.join(folder_processed_data_path, 'name_by_movie_ordered_pvalue_10_5_df.csv'))"
   ]
  },
  {
   "cell_type": "code",
   "execution_count": 17,
   "metadata": {},
   "outputs": [
    {
     "name": "stdout",
     "output_type": "stream",
     "text": [
      "Percentage of missing values in p_value column : 12.73%\n"
     ]
    }
   ],
   "source": [
    "# compute the percentage of missing values in p_value column\n",
    "print(f\"Percentage of missing values in p_value column : {name_by_movie['p_value'].isna().sum()/len(name_by_movie)*100:.2f}%\")"
   ]
  },
  {
   "cell_type": "markdown",
   "metadata": {},
   "source": [
    "Now lets see how many of the movie character have a significant impact."
   ]
  },
  {
   "cell_type": "code",
   "execution_count": 18,
   "metadata": {},
   "outputs": [
    {
     "name": "stdout",
     "output_type": "stream",
     "text": [
      "Proportion of significant character name : 14.30%\n"
     ]
    }
   ],
   "source": [
    "significant_names = len(name_by_movie[name_by_movie['p_value'] <= 0.1])/len(name_by_movie)\n",
    "print(f\"Proportion of significant character name : {significant_names*100:.2f}%\")"
   ]
  },
  {
   "cell_type": "markdown",
   "metadata": {},
   "source": [
    "From our analysis, we get that 14.30% of the names have a significant variation after the movie release."
   ]
  },
  {
   "cell_type": "code",
   "execution_count": 19,
   "metadata": {},
   "outputs": [
    {
     "name": "stdout",
     "output_type": "stream",
     "text": [
      "Proportion of non significant character name : 72.98%\n"
     ]
    }
   ],
   "source": [
    "not_significant_names = len(name_by_movie[name_by_movie['p_value'] >= 0.1])/len(name_by_movie)\n",
    "print(f\"Proportion of non significant character name : {not_significant_names*100:.2f}%\")"
   ]
  },
  {
   "cell_type": "code",
   "execution_count": 20,
   "metadata": {},
   "outputs": [
    {
     "name": "stdout",
     "output_type": "stream",
     "text": [
      "Proportion of non calculated character name : 12.73%\n"
     ]
    }
   ],
   "source": [
    "nan_p_values = len(name_by_movie[name_by_movie['p_value'].isna()])/len(name_by_movie)\n",
    "print(f\"Proportion of non calculated character name : {nan_p_values*100:.2f}%\")"
   ]
  },
  {
   "cell_type": "markdown",
   "metadata": {},
   "source": [
    "The last proportion concerns the case where there were missing baby name data in the area of the movie release to carry out the t-test."
   ]
  },
  {
   "cell_type": "code",
   "execution_count": 21,
   "metadata": {},
   "outputs": [
    {
     "name": "stdout",
     "output_type": "stream",
     "text": [
      "The number of movie that have a significiant variation in one of its character name given to baby is : 12669\n"
     ]
    }
   ],
   "source": [
    "nb_movie_significant = len(name_by_movie[name_by_movie['p_value'] <= 0.1]['wiki_ID'].unique())\n",
    "print(f\"The number of movie that have a significiant variation in one of its character name given to baby is : {nb_movie_significant}\")"
   ]
  },
  {
   "cell_type": "code",
   "execution_count": 22,
   "metadata": {},
   "outputs": [
    {
     "name": "stdout",
     "output_type": "stream",
     "text": [
      "Therefore, 19.34% of the movies have one of its characters that shows to have caused a variation on baby naming at the movie release.\n"
     ]
    }
   ],
   "source": [
    "percent_movie_significant = (nb_movie_significant / len(movie_df))*100\n",
    "print(f\"Therefore, {percent_movie_significant:.2f}% of the movies have one of its characters that shows to have caused a variation on baby naming at the movie release.\")"
   ]
  },
  {
   "cell_type": "code",
   "execution_count": null,
   "metadata": {},
   "outputs": [],
   "source": []
  }
 ],
 "metadata": {
  "kernelspec": {
   "display_name": "ada",
   "language": "python",
   "name": "python3"
  },
  "language_info": {
   "codemirror_mode": {
    "name": "ipython",
    "version": 3
   },
   "file_extension": ".py",
   "mimetype": "text/x-python",
   "name": "python",
   "nbconvert_exporter": "python",
   "pygments_lexer": "ipython3",
   "version": "3.9.18"
  }
 },
 "nbformat": 4,
 "nbformat_minor": 2
}
